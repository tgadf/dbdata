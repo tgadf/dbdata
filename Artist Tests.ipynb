{
 "cells": [
  {
   "cell_type": "code",
   "execution_count": 1,
   "metadata": {},
   "outputs": [
    {
     "data": {
      "text/html": [
       "<style>.container { width:100% !important; }</style>"
      ],
      "text/plain": [
       "<IPython.core.display.HTML object>"
      ]
     },
     "metadata": {},
     "output_type": "display_data"
    },
    {
     "data": {
      "text/html": [
       "<style>div.output_area{max-height:10000px;overflow:scroll;}</style>"
      ],
      "text/plain": [
       "<IPython.core.display.HTML object>"
      ]
     },
     "metadata": {},
     "output_type": "display_data"
    },
    {
     "name": "stdout",
     "output_type": "stream",
     "text": [
      "Python: 3.9.7 (default, Sep 16 2021, 08:50:36) \n",
      "[Clang 10.0.0 ]\n",
      "Notebook Last Run Initiated: 2021-12-29 12:57:40.232972\n"
     ]
    }
   ],
   "source": [
    "######################################################\n",
    "# Juypter\n",
    "######################################################\n",
    "%load_ext autoreload\n",
    "%autoreload\n",
    "from IPython.core.display import display, HTML\n",
    "display(HTML(\"<style>.container { width:100% !important; }</style>\"))\n",
    "display(HTML(\"\"\"<style>div.output_area{max-height:10000px;overflow:scroll;}</style>\"\"\"))\n",
    "\n",
    "\n",
    "################################################################################\n",
    "## Music DB\n",
    "################################################################################\n",
    "from mainDB import mainDB\n",
    "from musicDBMap import musicDBMap\n",
    "from masterDBMatchClass import masterDBMatchClass\n",
    "from matchDBArtist import matchDBArtist\n",
    "\n",
    "\n",
    "################################################################################\n",
    "## Utils\n",
    "################################################################################\n",
    "from masterDBGate import masterDBGate\n",
    "from timeUtils import timestat\n",
    "from fileIO import fileIO\n",
    "\n",
    "\n",
    "################################################################################\n",
    "## General\n",
    "################################################################################\n",
    "from pandas import Series, DataFrame\n",
    "\n",
    "######################################################\n",
    "# Versions\n",
    "######################################################\n",
    "import sys\n",
    "print(\"Python: {0}\".format(sys.version))\n",
    "import datetime as dt\n",
    "start = dt.datetime.now()\n",
    "print(\"Notebook Last Run Initiated: \"+str(start))"
   ]
  },
  {
   "cell_type": "markdown",
   "metadata": {},
   "source": [
    "# Install"
   ]
  },
  {
   "cell_type": "code",
   "execution_count": 4,
   "metadata": {},
   "outputs": [],
   "source": [
    "#!python setup.py install\n",
    "mdbGate = masterDBGate()\n",
    "disc = mdbGate.getDBDisc(\"SpotifyCharts\")"
   ]
  },
  {
   "cell_type": "markdown",
   "metadata": {
    "heading_collapsed": true
   },
   "source": [
    "# AllMusic"
   ]
  },
  {
   "cell_type": "code",
   "execution_count": 3,
   "metadata": {
    "hidden": true
   },
   "outputs": [],
   "source": [
    "mdbGate = masterDBGate()\n",
    "disc = mdbGate.getDBDisc(\"AllMusic\")"
   ]
  },
  {
   "cell_type": "code",
   "execution_count": 5,
   "metadata": {
    "hidden": true
   },
   "outputs": [],
   "source": [
    "for modVal in range(100):\n",
    "    modValData = Series(disc.getDBModValData(modVal))\n",
    "    disc.saveDBModValData(idata=modValData, modVal=modVal)"
   ]
  },
  {
   "cell_type": "code",
   "execution_count": 6,
   "metadata": {
    "hidden": true
   },
   "outputs": [
    {
     "name": "stdout",
     "output_type": "stream",
     "text": [
      "0    Credits      549 | Discography  510 | Songs        411 | Related      132 | Overview     75 | Biography    71 | Compositions 4 | Awards       1\n",
      "1    Credits      1123 | Discography  1052 | Songs        815 | Related      255 | Overview     169 | Biography    145 | Compositions 20 | Awards       4\n",
      "2    Credits      1685 | Discography  1584 | Songs        1225 | Related      386 | Overview     248 | Biography    216 | Compositions 30 | Awards       8\n",
      "3    Credits      2258 | Discography  2124 | Songs        1651 | Related      506 | Overview     332 | Biography    295 | Compositions 42 | Awards       11\n",
      "4    Credits      2825 | Discography  2661 | Songs        2080 | Related      644 | Overview     421 | Biography    371 | Compositions 50 | Awards       13\n",
      "5    Credits      3407 | Discography  3194 | Songs        2497 | Related      776 | Overview     503 | Biography    448 | Compositions 55 | Awards       15\n",
      "6    Credits      3952 | Discography  3706 | Songs        2890 | Related      897 | Overview     576 | Biography    518 | Compositions 63 | Awards       18\n",
      "7    Credits      4483 | Discography  4206 | Songs        3291 | Related      1021 | Overview     658 | Biography    576 | Compositions 74 | Awards       23\n",
      "8    Credits      5037 | Discography  4739 | Songs        3702 | Related      1137 | Overview     725 | Biography    628 | Compositions 83 | Awards       26\n",
      "9    Credits      5654 | Discography  5312 | Songs        4144 | Related      1272 | Overview     809 | Biography    703 | Compositions 96 | Awards       32\n",
      "10   Credits      6226 | Discography  5848 | Songs        4550 | Related      1407 | Overview     887 | Biography    772 | Compositions 109 | Awards       36\n",
      "11   Credits      6750 | Discography  6336 | Songs        4932 | Related      1525 | Overview     952 | Biography    835 | Compositions 114 | Awards       39\n",
      "12   Credits      7276 | Discography  6821 | Songs        5307 | Related      1657 | Overview     1037 | Biography    904 | Compositions 126 | Awards       43\n",
      "13   Credits      7799 | Discography  7315 | Songs        5693 | Related      1789 | Overview     1122 | Biography    982 | Compositions 135 | Awards       47\n",
      "14   Credits      8382 | Discography  7858 | Songs        6107 | Related      1927 | Overview     1211 | Biography    1057 | Compositions 149 | Awards       50\n",
      "15   Credits      8958 | Discography  8390 | Songs        6517 | Related      2062 | Overview     1290 | Biography    1124 | Compositions 158 | Awards       51\n",
      "16   Credits      9522 | Discography  8907 | Songs        6933 | Related      2191 | Overview     1367 | Biography    1193 | Compositions 170 | Awards       54\n",
      "17   Credits      10111 | Discography  9450 | Songs        7359 | Related      2329 | Overview     1448 | Biography    1281 | Compositions 177 | Awards       56\n",
      "18   Credits      10664 | Discography  9973 | Songs        7759 | Related      2464 | Overview     1522 | Biography    1350 | Compositions 185 | Awards       57\n",
      "19   Credits      11204 | Discography  10478 | Songs        8155 | Related      2589 | Overview     1599 | Biography    1423 | Compositions 199 | Awards       58\n",
      "20   Credits      11783 | Discography  11023 | Songs        8569 | Related      2717 | Overview     1673 | Biography    1500 | Compositions 204 | Awards       61\n",
      "21   Credits      12368 | Discography  11572 | Songs        8986 | Related      2844 | Overview     1748 | Biography    1565 | Compositions 212 | Awards       64\n",
      "22   Credits      12870 | Discography  12046 | Songs        9359 | Related      2969 | Overview     1835 | Biography    1633 | Compositions 220 | Awards       68\n",
      "23   Credits      13412 | Discography  12548 | Songs        9746 | Related      3104 | Overview     1923 | Biography    1719 | Compositions 234 | Awards       72\n",
      "24   Credits      13996 | Discography  13091 | Songs        10167 | Related      3239 | Overview     2007 | Biography    1793 | Compositions 240 | Awards       73\n",
      "25   Credits      14534 | Discography  13584 | Songs        10549 | Related      3370 | Overview     2084 | Biography    1857 | Compositions 253 | Awards       74\n",
      "26   Credits      15098 | Discography  14118 | Songs        10962 | Related      3500 | Overview     2168 | Biography    1930 | Compositions 261 | Awards       76\n",
      "27   Credits      15696 | Discography  14666 | Songs        11390 | Related      3632 | Overview     2249 | Biography    2009 | Compositions 274 | Awards       79\n",
      "28   Credits      16274 | Discography  15207 | Songs        11818 | Related      3754 | Overview     2340 | Biography    2083 | Compositions 281 | Awards       81\n",
      "29   Credits      16777 | Discography  15679 | Songs        12187 | Related      3883 | Overview     2410 | Biography    2159 | Compositions 288 | Awards       84\n",
      "30   Credits      17346 | Discography  16203 | Songs        12575 | Related      4016 | Overview     2496 | Biography    2228 | Compositions 299 | Awards       88\n",
      "31   Credits      17898 | Discography  16712 | Songs        12972 | Related      4139 | Overview     2567 | Biography    2290 | Compositions 309 | Awards       93\n",
      "32   Credits      18475 | Discography  17231 | Songs        13378 | Related      4277 | Overview     2658 | Biography    2374 | Compositions 327 | Awards       97\n",
      "33   Credits      19040 | Discography  17751 | Songs        13787 | Related      4409 | Overview     2742 | Biography    2444 | Compositions 339 | Awards       101\n",
      "34   Credits      19650 | Discography  18300 | Songs        14240 | Related      4549 | Overview     2829 | Biography    2514 | Compositions 352 | Awards       106\n",
      "35   Credits      20196 | Discography  18807 | Songs        14658 | Related      4661 | Overview     2905 | Biography    2587 | Compositions 364 | Awards       109\n",
      "36   Credits      20759 | Discography  19330 | Songs        15059 | Related      4790 | Overview     2990 | Biography    2648 | Compositions 372 | Awards       115\n",
      "37   Credits      21335 | Discography  19876 | Songs        15477 | Related      4930 | Overview     3062 | Biography    2717 | Compositions 383 | Awards       118\n",
      "38   Credits      21859 | Discography  20375 | Songs        15856 | Related      5047 | Overview     3145 | Biography    2780 | Compositions 388 | Awards       124\n",
      "39   Credits      22458 | Discography  20941 | Songs        16284 | Related      5179 | Overview     3222 | Biography    2852 | Compositions 399 | Awards       125\n",
      "40   Credits      23002 | Discography  21452 | Songs        16679 | Related      5296 | Overview     3303 | Biography    2916 | Compositions 412 | Awards       128\n",
      "41   Credits      23596 | Discography  22015 | Songs        17110 | Related      5421 | Overview     3390 | Biography    2986 | Compositions 427 | Awards       130\n",
      "42   Credits      24118 | Discography  22504 | Songs        17490 | Related      5528 | Overview     3461 | Biography    3055 | Compositions 435 | Awards       132\n",
      "43   Credits      24695 | Discography  23038 | Songs        17907 | Related      5636 | Overview     3519 | Biography    3117 | Compositions 443 | Awards       135\n",
      "44   Credits      25257 | Discography  23558 | Songs        18310 | Related      5765 | Overview     3603 | Biography    3190 | Compositions 455 | Awards       138\n",
      "45   Credits      25827 | Discography  24099 | Songs        18711 | Related      5893 | Overview     3688 | Biography    3255 | Compositions 465 | Awards       142\n",
      "46   Credits      26396 | Discography  24633 | Songs        19123 | Related      6019 | Overview     3768 | Biography    3329 | Compositions 474 | Awards       145\n",
      "47   Credits      26964 | Discography  25158 | Songs        19532 | Related      6159 | Overview     3864 | Biography    3415 | Compositions 483 | Awards       147\n",
      "48   Credits      27508 | Discography  25672 | Songs        19927 | Related      6269 | Overview     3931 | Biography    3483 | Compositions 490 | Awards       150\n",
      "49   Credits      28094 | Discography  26221 | Songs        20336 | Related      6392 | Overview     4005 | Biography    3537 | Compositions 499 | Awards       152\n",
      "50   Credits      28674 | Discography  26769 | Songs        20765 | Related      6522 | Overview     4080 | Biography    3599 | Compositions 508 | Awards       156\n"
     ]
    },
    {
     "name": "stdout",
     "output_type": "stream",
     "text": [
      "51   Credits      29233 | Discography  27290 | Songs        21175 | Related      6661 | Overview     4176 | Biography    3670 | Compositions 515 | Awards       160\n",
      "52   Credits      29777 | Discography  27793 | Songs        21564 | Related      6782 | Overview     4254 | Biography    3733 | Compositions 525 | Awards       162\n",
      "53   Credits      30367 | Discography  28356 | Songs        22001 | Related      6925 | Overview     4353 | Biography    3810 | Compositions 536 | Awards       164\n",
      "54   Credits      30895 | Discography  28857 | Songs        22387 | Related      7057 | Overview     4428 | Biography    3879 | Compositions 544 | Awards       166\n",
      "55   Credits      31478 | Discography  29394 | Songs        22795 | Related      7178 | Overview     4504 | Biography    3951 | Compositions 553 | Awards       169\n",
      "56   Credits      32067 | Discography  29959 | Songs        23223 | Related      7307 | Overview     4588 | Biography    4014 | Compositions 566 | Awards       173\n",
      "57   Credits      32630 | Discography  30482 | Songs        23646 | Related      7424 | Overview     4671 | Biography    4091 | Compositions 579 | Awards       177\n",
      "58   Credits      33206 | Discography  31017 | Songs        24068 | Related      7551 | Overview     4746 | Biography    4148 | Compositions 589 | Awards       182\n",
      "59   Credits      33756 | Discography  31524 | Songs        24465 | Related      7681 | Overview     4821 | Biography    4220 | Compositions 594 | Awards       187\n",
      "60   Credits      34274 | Discography  32009 | Songs        24853 | Related      7812 | Overview     4906 | Biography    4299 | Compositions 603 | Awards       189\n",
      "61   Credits      34823 | Discography  32519 | Songs        25249 | Related      7936 | Overview     4979 | Biography    4366 | Compositions 614 | Awards       193\n",
      "62   Credits      35376 | Discography  33043 | Songs        25667 | Related      8057 | Overview     5051 | Biography    4427 | Compositions 623 | Awards       196\n",
      "63   Credits      35903 | Discography  33542 | Songs        26053 | Related      8181 | Overview     5142 | Biography    4506 | Compositions 631 | Awards       199\n",
      "64   Credits      36424 | Discography  34033 | Songs        26416 | Related      8305 | Overview     5218 | Biography    4568 | Compositions 637 | Awards       202\n",
      "65   Credits      36982 | Discography  34561 | Songs        26812 | Related      8439 | Overview     5305 | Biography    4633 | Compositions 644 | Awards       206\n",
      "66   Credits      37534 | Discography  35078 | Songs        27218 | Related      8567 | Overview     5377 | Biography    4690 | Compositions 651 | Awards       208\n",
      "67   Credits      38141 | Discography  35653 | Songs        27655 | Related      8690 | Overview     5457 | Biography    4761 | Compositions 658 | Awards       209\n",
      "68   Credits      38668 | Discography  36148 | Songs        28051 | Related      8817 | Overview     5537 | Biography    4842 | Compositions 667 | Awards       209\n",
      "69   Credits      39255 | Discography  36698 | Songs        28482 | Related      8931 | Overview     5606 | Biography    4902 | Compositions 677 | Awards       210\n",
      "70   Credits      39837 | Discography  37245 | Songs        28898 | Related      9071 | Overview     5687 | Biography    4979 | Compositions 683 | Awards       215\n",
      "71   Credits      40396 | Discography  37767 | Songs        29287 | Related      9186 | Overview     5754 | Biography    5044 | Compositions 691 | Awards       215\n",
      "72   Credits      40932 | Discography  38268 | Songs        29674 | Related      9308 | Overview     5830 | Biography    5105 | Compositions 696 | Awards       217\n",
      "73   Credits      41476 | Discography  38772 | Songs        30073 | Related      9422 | Overview     5910 | Biography    5166 | Compositions 711 | Awards       222\n",
      "74   Credits      42084 | Discography  39343 | Songs        30506 | Related      9551 | Overview     5991 | Biography    5230 | Compositions 726 | Awards       224\n",
      "75   Credits      42620 | Discography  39852 | Songs        30900 | Related      9679 | Overview     6063 | Biography    5303 | Compositions 736 | Awards       231\n",
      "76   Credits      43202 | Discography  40393 | Songs        31328 | Related      9826 | Overview     6143 | Biography    5369 | Compositions 745 | Awards       233\n",
      "77   Credits      43739 | Discography  40897 | Songs        31696 | Related      9945 | Overview     6209 | Biography    5425 | Compositions 756 | Awards       239\n",
      "78   Credits      44295 | Discography  41404 | Songs        32095 | Related      10064 | Overview     6288 | Biography    5494 | Compositions 766 | Awards       246\n",
      "79   Credits      44867 | Discography  41933 | Songs        32520 | Related      10194 | Overview     6369 | Biography    5558 | Compositions 781 | Awards       247\n",
      "80   Credits      45432 | Discography  42460 | Songs        32918 | Related      10330 | Overview     6454 | Biography    5630 | Compositions 790 | Awards       251\n",
      "81   Credits      45983 | Discography  42972 | Songs        33328 | Related      10457 | Overview     6533 | Biography    5700 | Compositions 798 | Awards       253\n",
      "82   Credits      46521 | Discography  43474 | Songs        33708 | Related      10569 | Overview     6602 | Biography    5762 | Compositions 810 | Awards       257\n",
      "83   Credits      47069 | Discography  43985 | Songs        34114 | Related      10692 | Overview     6682 | Biography    5829 | Compositions 813 | Awards       259\n",
      "84   Credits      47587 | Discography  44472 | Songs        34494 | Related      10803 | Overview     6749 | Biography    5889 | Compositions 820 | Awards       263\n",
      "85   Credits      48144 | Discography  45005 | Songs        34923 | Related      10941 | Overview     6844 | Biography    5974 | Compositions 828 | Awards       267\n",
      "86   Credits      48750 | Discography  45571 | Songs        35360 | Related      11058 | Overview     6911 | Biography    6045 | Compositions 839 | Awards       272\n",
      "87   Credits      49271 | Discography  46063 | Songs        35747 | Related      11169 | Overview     6984 | Biography    6111 | Compositions 845 | Awards       273\n",
      "88   Credits      49858 | Discography  46619 | Songs        36172 | Related      11302 | Overview     7055 | Biography    6178 | Compositions 850 | Awards       275\n",
      "89   Credits      50443 | Discography  47172 | Songs        36598 | Related      11445 | Overview     7153 | Biography    6254 | Compositions 870 | Awards       278\n",
      "90   Credits      50942 | Discography  47648 | Songs        36959 | Related      11564 | Overview     7236 | Biography    6319 | Compositions 879 | Awards       279\n",
      "91   Credits      51489 | Discography  48158 | Songs        37343 | Related      11659 | Overview     7302 | Biography    6365 | Compositions 889 | Awards       281\n",
      "92   Credits      52056 | Discography  48681 | Songs        37756 | Related      11785 | Overview     7390 | Biography    6424 | Compositions 902 | Awards       285\n",
      "93   Credits      52619 | Discography  49211 | Songs        38178 | Related      11928 | Overview     7465 | Biography    6491 | Compositions 905 | Awards       288\n",
      "94   Credits      53159 | Discography  49711 | Songs        38564 | Related      12038 | Overview     7525 | Biography    6553 | Compositions 911 | Awards       291\n",
      "95   Credits      53696 | Discography  50227 | Songs        38948 | Related      12161 | Overview     7597 | Biography    6624 | Compositions 920 | Awards       291\n",
      "96   Credits      54332 | Discography  50826 | Songs        39395 | Related      12309 | Overview     7684 | Biography    6717 | Compositions 930 | Awards       297\n",
      "97   Credits      54898 | Discography  51354 | Songs        39805 | Related      12444 | Overview     7773 | Biography    6788 | Compositions 942 | Awards       298\n",
      "98   Credits      55492 | Discography  51912 | Songs        40219 | Related      12595 | Overview     7863 | Biography    6864 | Compositions 953 | Awards       302\n",
      "99   Credits      56064 | Discography  52447 | Songs        40620 | Related      12720 | Overview     7954 | Biography    6944 | Compositions 963 | Awards       305\n"
     ]
    }
   ],
   "source": [
    "from collections import Counter\n",
    "\n",
    "allMusicTabs = {}\n",
    "for modVal in range(100):\n",
    "    modValData = Series(disc.getDBModValData(modVal))\n",
    "    for artistID,artistData in modValData.iteritems():\n",
    "        try:\n",
    "            tabs = artistData.profile.extra.get(\"Tabs\")\n",
    "        except:\n",
    "            continue\n",
    "        if isinstance(tabs, dict):\n",
    "            for tabName,tabLink in tabs.items():\n",
    "                if allMusicTabs.get(tabName) is None:\n",
    "                    allMusicTabs[tabName] = {}\n",
    "                allMusicTabs[tabName][artistID] = tabLink.href\n",
    "                \n",
    "    cnts = Counter({tabName: len(tabLinks) for tabName,tabLinks in allMusicTabs.items()})\n",
    "    print(\"{0: <4}\".format(modVal),\" | \".join([\"{0: <13}{1}\".format(x[0],x[1]) for x in cnts.most_common()]))"
   ]
  },
  {
   "cell_type": "code",
   "execution_count": null,
   "metadata": {
    "hidden": true
   },
   "outputs": [],
   "source": []
  },
  {
   "cell_type": "code",
   "execution_count": 37,
   "metadata": {
    "hidden": true
   },
   "outputs": [],
   "source": [
    "%autoreload\n",
    "from artistAllMusic import artistAllMusic\n",
    "from dbArtistsAllMusic import dbArtistsAllMusic\n",
    "from dbArtistsParseComposition import dbArtistsComposition\n",
    "from dbArtistsParseSong import dbArtistsSong\n",
    "from dbArtistsParseCredit import dbArtistsCredit"
   ]
  },
  {
   "cell_type": "code",
   "execution_count": null,
   "metadata": {
    "hidden": true
   },
   "outputs": [],
   "source": [
    "dbAP = dbArtistsComposition(dbArtistsAllMusic())\n",
    "dbAP.parse(0, expr='< 0 Days', force=True)"
   ]
  },
  {
   "cell_type": "code",
   "execution_count": 30,
   "metadata": {
    "hidden": true
   },
   "outputs": [
    {
     "name": "stdout",
     "output_type": "stream",
     "text": [
      "Current Time is Sat Dec 25, 2021 13:49 for Parsing ModVal=0 Song Files\n",
      "Current Time is Sat Dec 25, 2021 13:49 for Finding Files To Parse\n",
      "Process [Finding Files To Parse] Took 0.0 Seconds\n",
      "Current Time is Sat Dec 25, 2021 13:49 for Loading ModVal=0 DB Data\n",
      "Process [Loading ModVal=0 DB Data] Took 1.1 Seconds\n",
      "Current Time is Sat Dec 25, 2021 13:49 for Parsing 421 New Song Files For ModVal=0\n",
      "100/421        Parsing /Volumes/Piggy/Discog/artists-allmusic/0/song/0000577800.p\n",
      "200/421        Parsing /Volumes/Piggy/Discog/artists-allmusic/0/song/0001456700.p\n",
      "300/421        Parsing /Volumes/Piggy/Discog/artists-allmusic/0/song/0002092600.p\n",
      "400/421        Parsing /Volumes/Piggy/Discog/artists-allmusic/0/song/0003598800.p\n",
      "421/421        Parsing /Volumes/Piggy/Discog/artists-allmusic/0/song/0004105900.p\n",
      "Not Saving Any New Entries\n",
      "Process [Parsing 421 New Song Files For ModVal=0] Took 0.0 Seconds\n"
     ]
    }
   ],
   "source": [
    "dbAP = dbArtistsSong(dbArtistsAllMusic())\n",
    "dbAP.parse(0, expr='< 0 Days', force=True)"
   ]
  },
  {
   "cell_type": "code",
   "execution_count": 39,
   "metadata": {
    "hidden": true
   },
   "outputs": [
    {
     "name": "stdout",
     "output_type": "stream",
     "text": [
      "Current Time is Sat Dec 25, 2021 14:08 for Parsing ModVal=0 Credit Files\n",
      "Current Time is Sat Dec 25, 2021 14:08 for Finding Files To Parse\n",
      "Process [Finding Files To Parse] Took 0.2 Seconds\n",
      "Current Time is Sat Dec 25, 2021 14:08 for Loading ModVal=0 DB Data\n",
      "Process [Loading ModVal=0 DB Data] Took 2.0 Seconds\n",
      "Current Time is Sat Dec 25, 2021 14:08 for Parsing 4454 New Credit Files For ModVal=0\n",
      "500/4454       Parsing /Volumes/Piggy/Discog/artists-allmusic/0/credit/0000543300.p\n",
      "1000/4454      Parsing /Volumes/Piggy/Discog/artists-allmusic/0/credit/0001055200.p\n",
      "1500/4454      Parsing /Volumes/Piggy/Discog/artists-allmusic/0/credit/0001512000.p\n",
      "2000/4454      Parsing /Volumes/Piggy/Discog/artists-allmusic/0/credit/0001837400.p\n",
      "2500/4454      Parsing /Volumes/Piggy/Discog/artists-allmusic/0/credit/0002204100.p\n",
      "3000/4454      Parsing /Volumes/Piggy/Discog/artists-allmusic/0/credit/0002597400.p\n",
      "3500/4454      Parsing /Volumes/Piggy/Discog/artists-allmusic/0/credit/0003134800.p\n",
      "4000/4454      Parsing /Volumes/Piggy/Discog/artists-allmusic/0/credit/0003617000.p\n",
      "4454/4454      Parsing /Volumes/Piggy/Discog/artists-allmusic/0/credit/0004126300.p\n",
      "Saving 105 Credit Entries\n",
      "Saving 0 New Entries\n",
      "Process [Parsing 4454 New Credit Files For ModVal=0] Took 5.6 Seconds\n"
     ]
    }
   ],
   "source": [
    "dbAP = dbArtistsCredit(dbArtistsAllMusic())\n",
    "dbAP.parse(0, expr='< 0 Days', force=True)"
   ]
  },
  {
   "cell_type": "code",
   "execution_count": null,
   "metadata": {
    "hidden": true
   },
   "outputs": [],
   "source": [
    "bsdata = getHTML(\"/Users/tgadfort/discogs/artists-allmusic/0/song/0000009100.p\")"
   ]
  },
  {
   "cell_type": "code",
   "execution_count": 7,
   "metadata": {
    "hidden": true
   },
   "outputs": [
    {
     "data": {
      "text/plain": [
       "x    y\n",
       "dtype: object"
      ]
     },
     "execution_count": 7,
     "metadata": {},
     "output_type": "execute_result"
    }
   ],
   "source": [
    "s = Series({\"x\": \"y\"})\n",
    "s"
   ]
  },
  {
   "cell_type": "markdown",
   "metadata": {
    "heading_collapsed": true
   },
   "source": [
    "# AlbumOfTheYear Lists"
   ]
  },
  {
   "cell_type": "code",
   "execution_count": null,
   "metadata": {
    "hidden": true
   },
   "outputs": [],
   "source": [
    "retval"
   ]
  },
  {
   "cell_type": "code",
   "execution_count": null,
   "metadata": {
    "hidden": true
   },
   "outputs": [],
   "source": [
    "retval.getData()"
   ]
  },
  {
   "cell_type": "code",
   "execution_count": null,
   "metadata": {
    "hidden": true
   },
   "outputs": [],
   "source": []
  },
  {
   "cell_type": "code",
   "execution_count": null,
   "metadata": {
    "hidden": true
   },
   "outputs": [],
   "source": []
  },
  {
   "cell_type": "markdown",
   "metadata": {
    "heading_collapsed": true
   },
   "source": [
    "# Genius Lists"
   ]
  },
  {
   "cell_type": "code",
   "execution_count": null,
   "metadata": {
    "hidden": true
   },
   "outputs": [],
   "source": [
    "from webUtils import webUtil\n",
    "from fileIO import fileIO\n",
    "from glob import glob\n",
    "web = webUtil()\n",
    "io  = fileIO()\n"
   ]
  },
  {
   "cell_type": "code",
   "execution_count": null,
   "metadata": {
    "hidden": true
   },
   "outputs": [],
   "source": []
  },
  {
   "cell_type": "code",
   "execution_count": null,
   "metadata": {
    "hidden": true
   },
   "outputs": [],
   "source": [
    "from time import sleep\n",
    "from masterDBGate import masterDBGate\n",
    "dutils = masterDBGate().getDBUtil(\"Genius\")\n",
    "\n",
    "for ifile in glob(\"/Users/tgadfort/Desktop/Most Popular * Artists on Genius.html\"):\n",
    "    bsdata = io.get(ifile)\n",
    "    genRefs = [ref.attrs['href'] for ref in bsdata.findAll(\"a\") if ref.attrs.get('href') is not None]\n",
    "    genRefs = [href for href in genRefs if \"/artists/\" in href]\n",
    "    print(len(genRefs))\n",
    "    for url in genRefs:\n",
    "        artistID = dutils.getArtistID(url)\n",
    "        savename = dutils.getArtistSavename(artistID)\n",
    "        from fsUtils import fileUtil\n",
    "        if fileUtil(savename).exists:\n",
    "            continue\n",
    "        print(\"=\"*150)\n",
    "        print(artistID,'\\t',url,'\\t',savename)\n",
    "        dutils.downloadArtistURL(url, savename, force=False)\n",
    "        sleep(3)"
   ]
  },
  {
   "cell_type": "code",
   "execution_count": null,
   "metadata": {
    "hidden": true
   },
   "outputs": [],
   "source": [
    "retval = web.download(genRefs[0])"
   ]
  },
  {
   "cell_type": "code",
   "execution_count": null,
   "metadata": {
    "hidden": true
   },
   "outputs": [],
   "source": [
    "\n",
    "retval = web.download(\"https://genius.com/artists-index/a\")"
   ]
  },
  {
   "cell_type": "code",
   "execution_count": null,
   "metadata": {
    "hidden": true
   },
   "outputs": [],
   "source": []
  },
  {
   "cell_type": "code",
   "execution_count": null,
   "metadata": {
    "hidden": true
   },
   "outputs": [],
   "source": []
  },
  {
   "cell_type": "markdown",
   "metadata": {
    "heading_collapsed": true
   },
   "source": [
    "# Analyze Tabs For AllMusic"
   ]
  },
  {
   "cell_type": "code",
   "execution_count": null,
   "metadata": {
    "hidden": true
   },
   "outputs": [],
   "source": [
    "from masterDBGate import masterDBGate\n",
    "mdbGate = masterDBGate()\n",
    "disc = mdbGate.getDBDisc(\"AllMusic\")"
   ]
  },
  {
   "cell_type": "code",
   "execution_count": null,
   "metadata": {
    "hidden": true
   },
   "outputs": [],
   "source": []
  },
  {
   "cell_type": "code",
   "execution_count": null,
   "metadata": {
    "hidden": true
   },
   "outputs": [],
   "source": [
    "modValData['0000509000'].profile.extra[\"Tabs\"]['Songs'].get()"
   ]
  },
  {
   "cell_type": "code",
   "execution_count": null,
   "metadata": {
    "hidden": true
   },
   "outputs": [],
   "source": [
    "allMusicTabs = {}\n",
    "for modVal in range(100):\n",
    "    modValData = disc.getDBModValData(modVal)\n",
    "    for artistID,artistData in modValData.iteritems():\n",
    "        try:\n",
    "            tabs = artistData.profile.extra.get(\"Tabs\")\n",
    "        except:\n",
    "            continue\n",
    "        if isinstance(tabs, dict):\n",
    "            allMusicTabs[artistID] = {tabName: tabLink.href for tabName,tabLink in tabs.items()}\n",
    "    print(modVal,len(allMusicTabs))"
   ]
  },
  {
   "cell_type": "code",
   "execution_count": null,
   "metadata": {
    "hidden": true
   },
   "outputs": [],
   "source": [
    "from fileIO import fileIO\n",
    "io = fileIO()\n",
    "from pandas import Series\n",
    "io.save(idata=Series(allMusicTabs), ifile=\"AllMusicTabs.p\")"
   ]
  },
  {
   "cell_type": "code",
   "execution_count": null,
   "metadata": {
    "hidden": true
   },
   "outputs": [],
   "source": [
    "dbmap[\"Artist\"].getData(disc.getRawFilename('0000435400')).show()"
   ]
  },
  {
   "cell_type": "code",
   "execution_count": null,
   "metadata": {
    "hidden": true
   },
   "outputs": [],
   "source": []
  },
  {
   "cell_type": "markdown",
   "metadata": {
    "heading_collapsed": true
   },
   "source": [
    "# Ressurect DatPiff"
   ]
  },
  {
   "cell_type": "code",
   "execution_count": null,
   "metadata": {
    "hidden": true
   },
   "outputs": [],
   "source": [
    "contentData = []\n",
    "for listing in bsdata.findAll(\"div\", {\"class\": \"contentListing\"}):\n",
    "    contentItems = listing.findAll(\"div\", {\"class\": \"contentItem\"})\n",
    "    for i,contentItem in enumerate(contentItems):\n",
    "        artistDiv  = contentItem.find(\"div\", {\"class\": \"artist\"})\n",
    "        artistName = artistDiv.text if artistDiv is not None else None\n",
    "        titleDiv   = contentItem.find(\"div\", {\"class\": \"title\"})\n",
    "        titleRef   = titleDiv.find(\"a\") if titleDiv is not None else None\n",
    "        titleName  = titleRef.text if titleRef is not None else None\n",
    "        titleURL   = titleRef.attrs['href'] if titleRef is not None else None\n",
    "        ratings    = contentItem.findAll(\"div\", {\"class\": \"text\"})\n",
    "        \n",
    "        itemValue = {\"Title\": titleName, \"Artist\": artistName, \"Ref\": titleURL}\n",
    "        for rating in ratings:\n",
    "            if \"Rating:\" in rating.text:\n",
    "                img   = rating.find(\"img\")\n",
    "                value = img.attrs['alt'] if img is not None else None\n",
    "                itemValue[\"Rating\"] = value\n",
    "            if \"Listens:\" in rating.text:\n",
    "                span  = rating.find(\"span\")\n",
    "                value = span.text if span is not None else None\n",
    "                itemValue[\"Listens\"] = value\n",
    "\n",
    "        if all([titleName,artistName,titleURL]):\n",
    "            contentData.append(itemValue)\n",
    "            \n",
    "\n"
   ]
  },
  {
   "cell_type": "code",
   "execution_count": null,
   "metadata": {
    "hidden": true
   },
   "outputs": [],
   "source": [
    "from artistDatPiff import artistDatPiff\n",
    "from dbUtils import utilsDatPiff\n",
    "from dbBase import dbBase\n",
    "import urllib\n",
    "from urllib.parse import quote\n",
    "from webUtils import getHTML, webUtil\n",
    "from fsUtils import dirUtil, fileUtil\n",
    "from fileIO import fileIO\n",
    "\n",
    "\n",
    "##################################################################################################################\n",
    "# Base Class\n",
    "##################################################################################################################\n",
    "class dbArtistsDatPiff:\n",
    "    def __init__(self, debug=False):\n",
    "        self.db     = \"DatPiff\"\n",
    "        self.disc   = dbBase(self.db.lower())\n",
    "        self.artist = artistDatPiff(self.disc)\n",
    "        self.dutils = utilsDatPiff(self.disc)\n",
    "        self.debug  = debug\n",
    "        \n",
    "        self.baseURL   = \"https://www.datpiff.com/\"        \n",
    "        self.searchURL = \"https://www.datpiff.com/mixtapes-search.php\"\n",
    "        self.io        = fileIO()\n",
    "        self.web       = webUtil()\n",
    "        \n",
    "    \n",
    "    def getSearchArtistURL(self, artist, page=1):\n",
    "        url = urllib.parse.urljoin(self.searchURL, \"?criteria={0}&sort=relevance&search=&search[]=title&search[]=artists&search[]=djs&p={1}\".format(quote(artist),page))\n",
    "        return url\n",
    "    \n",
    "        \n",
    "    def searchForArtist(self, artist, force=False, debug=False):\n",
    "        print(\"===================== Searching For {0} =====================\".format(artist))\n",
    "        url = self.getSearchArtistURL(artist,page=1)\n",
    "        if url is None:\n",
    "            raise ValueError(\"URL is None!\")\n",
    "\n",
    "        ## Download data\n",
    "        print(\"  ==> {0}\".format(url))\n",
    "        retval = self.web.download(url)\n",
    "        if retval.getCode() != 200:\n",
    "            print(\"Error downloading {0}\".format(url))\n",
    "\n",
    "        datadir  = dirUtil(dbDP.disc.getArtistsDir()).join(\"data\")\n",
    "        savename = fileUtil(datadir).join(\"{0}-1.p\".format(artist))\n",
    "        self.io.save(idata=retval.getData(), ifile=savename)\n",
    "        print(\"  ==> Saved Page-1 of [{0}] Search To [{1}]\".format(artist,savename))\n",
    "        \n",
    "        \n",
    "    def downloadRemainingPages(self, artist):\n",
    "        datadir  = dirUtil(self.disc.getArtistsDir()).join(\"data\")\n",
    "        savename = fileUtil(datadir).join(\"{0}-1.p\".format(artist))\n",
    "        bsdata   = getHTML(savename)        \n",
    "        pageData = bsdata.find(\"div\", {\"class\": \"pagination\"})\n",
    "        refs = pageData.findAll(\"a\")\n",
    "        refs = {ref.text: ref.attrs['href'] for ref in refs if ref.text.isdigit()}\n",
    "        \n",
    "        for pageNum,pageRef in refs.items():\n",
    "            savename = fileUtil(datadir).join(\"{0}-{1}.p\".format(artist,pageNum))\n",
    "            if savename.exists():\n",
    "                continue\n",
    "            \n",
    "            self.io.save(idata=retval.getData(), ifile=savename)\n",
    "            print(\"  ==> Saved Page-1 of [{0}] Search To [{1}]\".format(artist,savename))\n",
    "            \n",
    "        print(refs)\n",
    "\n",
    "    \n",
    "\n",
    "        "
   ]
  },
  {
   "cell_type": "code",
   "execution_count": null,
   "metadata": {
    "hidden": true
   },
   "outputs": [],
   "source": [
    "from artistDatPiff import artistDatPiff\n",
    "from pandas import DataFrame, Series\n",
    "from dbUtils import utilsDatPiff\n",
    "from dbBase import dbBase\n",
    "import urllib\n",
    "from urllib.parse import quote\n",
    "from webUtils import getHTML, webUtil\n",
    "from fsUtils import dirUtil, fileUtil\n",
    "from fileIO import fileIO\n",
    "from time import sleep\n",
    "\n",
    "\n",
    "##################################################################################################################\n",
    "# Base Class\n",
    "##################################################################################################################\n",
    "class dbArtistsDatPiff:\n",
    "    def __init__(self, debug=False):\n",
    "        self.db     = \"DatPiff\"\n",
    "        self.disc   = dbBase(self.db.lower())\n",
    "        self.artist = artistDatPiff(self.disc)\n",
    "        self.dutils = utilsDatPiff(self.disc)\n",
    "        self.debug  = debug\n",
    "        \n",
    "        self.baseURL   = \"https://www.datpiff.com/\"        \n",
    "        self.searchURL = \"https://www.datpiff.com/mixtapes-search.php\"\n",
    "        self.io        = fileIO()\n",
    "        self.web       = webUtil()\n",
    "        \n",
    "    \n",
    "    def getSearchArtistURL(self, artist, page=1):\n",
    "        url = urllib.parse.urljoin(self.searchURL, \"?criteria={0}&sort=relevance&search=&search[]=title&search[]=artists&search[]=djs&p={1}\".format(quote(artist),page))\n",
    "        return url\n",
    "    \n",
    "        \n",
    "    def searchForArtist(self, artist, force=False, debug=False):\n",
    "        print(\"===================== Searching For {0} =====================\".format(artist))\n",
    "        url = self.getSearchArtistURL(artist,page=1)\n",
    "        if url is None:\n",
    "            raise ValueError(\"URL is None!\")\n",
    "\n",
    "        print(\"  ==> {0}\".format(url))\n",
    "        retval = self.web.download(url)\n",
    "        if retval.getCode() != 200:\n",
    "            print(\"Error downloading {0}\".format(url))\n",
    "            return\n",
    "\n",
    "        datadir  = dirUtil(dbDP.disc.getArtistsDir()).join(\"data\")\n",
    "        savename = fileUtil(datadir).join(\"{0}-1.p\".format(artist))\n",
    "        self.io.save(idata=retval.getData(), ifile=savename)\n",
    "        print(\"  ==> Saved Page-1 of [{0}] Search To [{1}]\".format(artist,savename))\n",
    "        sleep(3)\n",
    "        \n",
    "        \n",
    "    def downloadRemainingPages(self, artist):\n",
    "        datadir  = dirUtil(self.disc.getArtistsDir()).join(\"data\")\n",
    "        savename = fileUtil(datadir).join(\"{0}-1.p\".format(artist))\n",
    "        bsdata   = getHTML(savename)        \n",
    "        pageData = bsdata.find(\"div\", {\"class\": \"pagination\"})\n",
    "        refs = pageData.findAll(\"a\")\n",
    "        refs = {ref.text: ref.attrs['href'] for ref in refs if ref.text.isdigit()}\n",
    "        print(\"Found {0} Pages For [{1}] Search\".format(len(refs),artist))\n",
    "        \n",
    "        for pageNum,pageRef in refs.items():\n",
    "            savename = fileUtil(datadir).join(\"{0}-{1}.p\".format(artist,pageNum))\n",
    "            if savename.exists():\n",
    "                continue\n",
    "\n",
    "            url = self.getSearchArtistURL(artist,page=pageNum)\n",
    "            print(\"  ==> {0}\".format(url))\n",
    "            retval = self.web.download(url)\n",
    "            if retval.getCode() != 200:\n",
    "                print(\"Error downloading {0}\".format(url))\n",
    "                break\n",
    "\n",
    "            self.io.save(idata=retval.getData(), ifile=savename)\n",
    "            print(\"  ==> Saved Page-[{0}/{1}] of [{2}] Search To [{3}]\".format(pageNum,len(refs),artist,savename))\n",
    "            sleep(3)\n",
    "            \n",
    "            \n",
    "    def createArtistData(self):\n",
    "        contentData = []\n",
    "        \n",
    "        datadir  = dirUtil(self.disc.getArtistsDir()).join(\"data\")\n",
    "        files = glob(\"{0}/*.p\".format(datadir))\n",
    "        print(\"Found {0} Downloaded Search Pages\".format(len(files)))\n",
    "        for ifile in files:\n",
    "            try:\n",
    "                bsdata = getHTML(ifile)\n",
    "            except:\n",
    "                print(\"Error with {0}\".format(ifile))\n",
    "                continue\n",
    "            for listing in bsdata.findAll(\"div\", {\"class\": \"contentListing\"}):\n",
    "                contentItems = listing.findAll(\"div\", {\"class\": \"contentItem\"})\n",
    "                for i,contentItem in enumerate(contentItems):\n",
    "                    artistDiv  = contentItem.find(\"div\", {\"class\": \"artist\"})\n",
    "                    artistName = artistDiv.text if artistDiv is not None else None\n",
    "                    titleDiv   = contentItem.find(\"div\", {\"class\": \"title\"})\n",
    "                    titleRef   = titleDiv.find(\"a\") if titleDiv is not None else None\n",
    "                    titleName  = titleRef.text if titleRef is not None else None\n",
    "                    titleURL   = titleRef.attrs['href'] if titleRef is not None else None\n",
    "                    ratings    = contentItem.findAll(\"div\", {\"class\": \"text\"})\n",
    "\n",
    "                    itemValue = {\"Title\": titleName, \"Artist\": artistName, \"Ref\": titleURL}\n",
    "                    for rating in ratings:\n",
    "                        if \"Rating:\" in rating.text:\n",
    "                            img   = rating.find(\"img\")\n",
    "                            value = img.attrs['alt'] if img is not None else None\n",
    "                            itemValue[\"Rating\"] = value\n",
    "                        if \"Listens:\" in rating.text:\n",
    "                            span  = rating.find(\"span\")\n",
    "                            value = span.text if span is not None else None\n",
    "                            itemValue[\"Listens\"] = value\n",
    "\n",
    "                    if all([titleName,artistName,titleURL]):\n",
    "                        contentData.append(itemValue)\n",
    "\n",
    "        self.contentDF = Series(contentData).apply(Series).drop_duplicates()"
   ]
  },
  {
   "cell_type": "code",
   "execution_count": null,
   "metadata": {
    "hidden": true
   },
   "outputs": [],
   "source": [
    "dbDP = dbArtistsDatPiff()\n",
    "dbDP.createArtistData()"
   ]
  },
  {
   "cell_type": "code",
   "execution_count": null,
   "metadata": {
    "hidden": true
   },
   "outputs": [],
   "source": [
    "from fileIO import fileIO\n",
    "io = fileIO()\n",
    "io.save(idata=dbDP.contentDF, ifile=\"DatPiffData.p\")"
   ]
  },
  {
   "cell_type": "code",
   "execution_count": null,
   "metadata": {
    "hidden": true
   },
   "outputs": [],
   "source": [
    "dbDP = dbArtistsDatPiff()\n",
    "artists = [\"Jay\", \"2\", \"50\", \"Eminem\", \"Nas\", \"Clan\", \"Kanye\", \"Plan\"]\n",
    "artists = [\"Boy\", \"Baby\", \"Presents\", \"Missy\", \"Timbaland\", \"Ja\", \"Da\"]\n",
    "artists = [\"21\", \"Joe\", \"Star\", \"Frank\", \"Royal\", \"Red\", \"JP\", \"Barry\"]\n",
    "artists = [\"Junior\", \"Mace\", \"Z\", \"Chief\", \"SD\", \"Trap\"]\n",
    "artists = [\"South\", \"Coast\", \"East\", \"West\", \"North\", \"Jungle\", \"Common\"]\n",
    "artists = [\"Drake\", \"Street\", \"City\", \"New\"]\n",
    "artists = [\"Album\", \"Gang\"]\n",
    "artists = [\"Carter\", \"Juice\", \"J\", \"Wiz\"]\n",
    "artists = [\"G\", \"Gee\", \"Style\", \"New\", \"Love\", \"Live\", \"Big\", \"Pac\"]\n",
    "artists = [\"Class\", \"Side\", \"Polo\", \"MC\", \"Kid\"]\n",
    "for artist in artists:\n",
    "    dbDP.searchForArtist(artist)\n",
    "    dbDP.downloadRemainingPages(artist)"
   ]
  },
  {
   "cell_type": "code",
   "execution_count": null,
   "metadata": {
    "hidden": true
   },
   "outputs": [],
   "source": [
    "from glob import glob\n",
    "\n",
    "datadir  = dirUtil(self.disc.getArtistsDir()).join(\"data\")\n",
    "files = glob(\"/Volumes/Piggy/Discog/artists-datpiff/data/*.p\")\n",
    "len(files)"
   ]
  },
  {
   "cell_type": "code",
   "execution_count": null,
   "metadata": {
    "hidden": true
   },
   "outputs": [],
   "source": [
    "datadir  = dirUtil(dbDP.disc.getArtistsDir()).join(\"data\")\n",
    "files = glob(\"{0}/*.p\".format(datadir))\n",
    "len(files)"
   ]
  },
  {
   "cell_type": "code",
   "execution_count": null,
   "metadata": {
    "hidden": true
   },
   "outputs": [],
   "source": [
    "vc.head(50)\n",
    "vc = contentDF[\"Artist\"].value_counts()"
   ]
  },
  {
   "cell_type": "code",
   "execution_count": null,
   "metadata": {
    "hidden": true
   },
   "outputs": [],
   "source": [
    "dbDP.downloadRemainingPages(\"Future\")"
   ]
  },
  {
   "cell_type": "code",
   "execution_count": null,
   "metadata": {
    "hidden": true
   },
   "outputs": [],
   "source": [
    "savename"
   ]
  },
  {
   "cell_type": "markdown",
   "metadata": {
    "heading_collapsed": true
   },
   "source": [
    "# AlbumOfTheYear"
   ]
  },
  {
   "cell_type": "code",
   "execution_count": null,
   "metadata": {
    "hidden": true
   },
   "outputs": [],
   "source": [
    "from dbArtistID import artistIDBase\n",
    "import re\n",
    "    \n",
    "\n",
    "##########################################################################\n",
    "## Genius\n",
    "##########################################################################\n",
    "class artistIDGenius(artistIDBase):\n",
    "    def __init__(self, debug=False):\n",
    "        super().__init__(debug)\n",
    "        patterns  = [r'https://genius.com/artists/(\\w+)']\n",
    "        patterns += [r'/artists/*']\n",
    "        patterns += [r'artists/*']\n",
    "        self.patterns = patterns\n",
    "        \n",
    "    def getArtistID(self, s):\n",
    "        self.s = str(s)\n",
    "        \n",
    "        ######################################################    \n",
    "        ## Test For Format\n",
    "        ######################################################\n",
    "        self.testFormat(s)\n",
    "        if self.err is not None:\n",
    "            return None\n",
    "\n",
    "        ######################################################    \n",
    "        ## Pattern Matching\n",
    "        ######################################################\n",
    "        for pattern in self.patterns:\n",
    "            print(pattern)\n",
    "            groups = self.extractGroups(re.search(pattern, s))\n",
    "            if groups is not None:\n",
    "                print(groups)\n",
    "                m = md5()\n",
    "                for group in groups:\n",
    "                    m.update(val.encode('utf-8'))\n",
    "                hashval = m.hexdigest()\n",
    "                artistID  = str(int(hashval, 16) % int(1e8))\n",
    "                return artistID"
   ]
  },
  {
   "cell_type": "code",
   "execution_count": null,
   "metadata": {
    "hidden": true
   },
   "outputs": [],
   "source": [
    "aid = artistIDGenius()\n",
    "aid.getArtistID('https://genius.com/artists/Daichi-miura')"
   ]
  },
  {
   "cell_type": "markdown",
   "metadata": {
    "heading_collapsed": true
   },
   "source": [
    "# Merge DBs"
   ]
  },
  {
   "cell_type": "markdown",
   "metadata": {
    "hidden": true
   },
   "source": [
    "## Artist/Master Map"
   ]
  },
  {
   "cell_type": "code",
   "execution_count": null,
   "metadata": {
    "hidden": true
   },
   "outputs": [],
   "source": [
    "from fileIO import fileIO\n",
    "io = fileIO()"
   ]
  },
  {
   "cell_type": "code",
   "execution_count": null,
   "metadata": {
    "hidden": true
   },
   "outputs": [],
   "source": [
    "ts = timestat(\"Getting Artist Discogs Data\")\n",
    "artistData = io.get(\"/Volumes/Seagate/DB/discogs_20211001_artists.p\")\n",
    "ts.stop()"
   ]
  },
  {
   "cell_type": "code",
   "execution_count": null,
   "metadata": {
    "hidden": true
   },
   "outputs": [],
   "source": [
    "ts = timestat(\"Getting Artist Discogs Data\")\n",
    "albumsData = io.get(\"/Volumes/Seagate/DB/discogs_20211001_masters.p\")\n",
    "ts.stop()"
   ]
  },
  {
   "cell_type": "code",
   "execution_count": null,
   "metadata": {
    "hidden": true
   },
   "outputs": [],
   "source": [
    "albumsData"
   ]
  },
  {
   "cell_type": "code",
   "execution_count": null,
   "metadata": {
    "hidden": true
   },
   "outputs": [],
   "source": [
    "artistAlbumMap = {}\n",
    "artistGenreStyleMap = {}\n",
    "from collections import Counter\n",
    "tsAll = timestat(\"Creating ArtistID -> Album/Genre/Style Mapping\")\n",
    "\n",
    "ts = timestat(\"Reindexing Albums Data For {0} Albums\".format(albumsData.shape[0]))\n",
    "for i,(albumID,albumData) in enumerate(albumsData.iterrows()):\n",
    "    if (i+1) % 500000 == 0 or (i+1) == 100000 == 0:\n",
    "        ts.update(n=i+1,N=albumsData.shape[0])\n",
    "    albumArtistsData = albumData[\"MasterArtists\"]\n",
    "    albumValue       = {\"MainReleaseID\": albumData[\"main_release\"], \"Title\": albumData[\"title\"], \"Year\": albumData[\"year\"]}\n",
    "    genresData       = albumData[\"MasterGenres\"]\n",
    "    stylesData       = albumData[\"MasterStyles\"]\n",
    "    if isinstance(albumArtistsData,list):\n",
    "        artistIDs = [artistData['id'] for artistData in albumArtistsData] if isinstance(masterData,list) else []\n",
    "    \n",
    "    for artistID in artistIDs:\n",
    "        if artistAlbumMap.get(artistID) is None:\n",
    "            artistAlbumMap[artistID] = {}\n",
    "        artistAlbumMap[artistID][albumID] = albumValue\n",
    "\n",
    "        if artistGenreStyleMap.get(artistID) is None:\n",
    "            artistGenreStyleMap[artistID] = {\"Genres\": Counter(), \"Styles\": Counter()}\n",
    "        for genre in genresData:\n",
    "            artistGenreStyleMap[artistID][\"Genres\"][genre] += 1\n",
    "        for style in stylesData:\n",
    "            artistGenreStyleMap[artistID][\"Styles\"][style] += 1\n",
    "            \n",
    "ts.stop()\n",
    "\n",
    "ts = timestat(\"Creating Genre/Style DataFrame\")\n",
    "artistGenreStyleMapDF = Series(artistGenreStyleMap).apply(Series)\n",
    "artistGenreStyleMapDF[\"Genres\"] = artistGenreStyleMapDF[\"Genres\"].apply(lambda genres: [item[0] for item in genres.most_common(3)])\n",
    "artistGenreStyleMapDF[\"Styles\"] = artistGenreStyleMapDF[\"Styles\"].apply(lambda styles: [item[0] for item in styles.most_common(3)])\n",
    "io.save(idata=artistGenreStyleMapDF, ifile=\"/Volumes/Seagate/DB/discogs_20211001_ArtistGenreStyleMap.p\")\n",
    "ts.stop()\n",
    "\n",
    "ts = timestat(\"Saving Artist/Album Data\")\n",
    "io.save(idata=Series(artistAlbumMap), ifile=\"/Volumes/Seagate/DB/discogs_20211001_ArtistAlbumMap.p\")\n",
    "ts.stop()\n",
    "\n",
    "tsAll.stop()"
   ]
  },
  {
   "cell_type": "markdown",
   "metadata": {
    "hidden": true
   },
   "source": [
    "## Artist/Master/Release Map"
   ]
  },
  {
   "cell_type": "code",
   "execution_count": null,
   "metadata": {
    "hidden": true
   },
   "outputs": [],
   "source": [
    "from fileIO import fileIO\n",
    "io = fileIO()"
   ]
  },
  {
   "cell_type": "code",
   "execution_count": null,
   "metadata": {
    "hidden": true
   },
   "outputs": [],
   "source": [
    "artistAlbumMap = io.get(\"/Volumes/Seagate/DB/discogs_20211001_ArtistAlbumMap.p\")"
   ]
  },
  {
   "cell_type": "code",
   "execution_count": null,
   "metadata": {
    "hidden": true
   },
   "outputs": [],
   "source": [
    "artistAlbumMap['4120']"
   ]
  },
  {
   "cell_type": "code",
   "execution_count": null,
   "metadata": {
    "hidden": true
   },
   "outputs": [],
   "source": [
    "from pandas import Series\n",
    "\n",
    "ts = timestat(\"Getting Artist Discogs Data\")\n",
    "releaseData = io.get(\"/Volumes/Seagate/DB/discogs_20211001_releases-01.p\")\n",
    "ts.stop()\n",
    "\n",
    "ts = timestat(\"Creating MasterID Columns\")\n",
    "mIDData = releaseData[\"master_id\"].apply(lambda x: x[0] if isinstance(x,list) else None)\n",
    "mIDData.name = \"MasterID\"\n",
    "ts.update()\n",
    "isMData = releaseData[\"master_id\"].apply(lambda x: x[1][0][1] == 'true' if isinstance(x,list) else None)\n",
    "isMData.name = \"IsMaster\"\n",
    "ts.update()\n",
    "\n",
    "releaseData = releaseData.join(mIDData).join(isMData).drop(['master_id'], axis=1)\n",
    "ts.stop()"
   ]
  },
  {
   "cell_type": "code",
   "execution_count": null,
   "metadata": {
    "hidden": true
   },
   "outputs": [],
   "source": [
    "releaseData[releaseData[\"MasterID\"] == '2233']"
   ]
  },
  {
   "cell_type": "code",
   "execution_count": null,
   "metadata": {
    "hidden": true
   },
   "outputs": [],
   "source": [
    "artistGenreStyleMapDF = Series(artistGenreStyleMap).apply(Series)"
   ]
  },
  {
   "cell_type": "code",
   "execution_count": null,
   "metadata": {
    "hidden": true
   },
   "outputs": [],
   "source": [
    "artistGenreStyleMapDF[\"Genres\"] = artistGenreStyleMapDF[\"Genres\"].apply(lambda genres: [item[0] for item in genres.most_common(3)])\n",
    "artistGenreStyleMapDF[\"Styles\"] = artistGenreStyleMapDF[\"Styles\"].apply(lambda styles: [item[0] for item in styles.most_common(3)])"
   ]
  },
  {
   "cell_type": "code",
   "execution_count": null,
   "metadata": {
    "hidden": true
   },
   "outputs": [],
   "source": [
    "artistGenreStyleMapDF"
   ]
  },
  {
   "cell_type": "code",
   "execution_count": null,
   "metadata": {
    "hidden": true
   },
   "outputs": [],
   "source": []
  },
  {
   "cell_type": "code",
   "execution_count": null,
   "metadata": {
    "hidden": true
   },
   "outputs": [],
   "source": [
    "from artistDBBase import artistDBBase, artistDBDataClass\n",
    "from artistDBBase import artistDBNameClass, artistDBMetaClass, artistDBIDClass, artistDBURLClass, artistDBPageClass\n",
    "from artistDBBase import artistDBProfileClass, artistDBMediaClass, artistDBMediaAlbumClass\n",
    "from artistDBBase import artistDBMediaDataClass, artistDBMediaCountsClass, artistDBFileInfoClass\n",
    "from artistDBBase import artistDBTextClass, artistDBLinkClass\n",
    "from strUtils import fixName\n",
    "from dbUtils import utilsDiscogs\n",
    "\n",
    "\n",
    "class artistDiscogsFull(artistDBBase):\n",
    "    def __init__(self, debug=False):\n",
    "        super().__init__(debug)\n",
    "        self.dutils = utilsDiscogs()\n",
    "        \n",
    "        \n",
    "    ##############################################################################################################################\n",
    "    ## Parse Data\n",
    "    ##############################################################################################################################\n",
    "    def getData(self, inputdata):\n",
    "        for artistID,artistData in inputdata.iterrows():\n",
    "            artistName  = inputdata['name']\n",
    "            url         = \"https://www.discogs.com/artist/{0}\".format(artistID)\n",
    "            \n",
    "            generalData = {}\n",
    "            generalData[\"RealName\"]   = inputdata[\"realname\"]\n",
    "            generalData[\"Aliases\"]    = inputdata[\"MasterAliases\"]\n",
    "            generalData[\"Groups\"]     = inputdata[\"MasterGroups\"]\n",
    "            generalData[\"Members\"]    = inputdata[\"MasterMembers\"]\n",
    "            generalData[\"Variations\"] = inputdata[\"MasterNameVariations\"]\n",
    "            generalData = {k: v for k,v in generalData.items() if v is not None}\n",
    "            generalData = generalData if len(generalData) > 0 else None\n",
    "            \n",
    "        artist      = artistDBNameClass(name=artistName, err=None)\n",
    "        meta        = artistDBMetaClass(title=None, url=url)\n",
    "        url         = artistDBURLClass(url=url)\n",
    "        ID          = artistDBIDClass(ID=artistID)\n",
    "        pages       = artistDBPageClass(ppp=1, tot=1, redo=False, more=False)\n",
    "        profile     = artistDBProfileClass(general=generalData)\n",
    "        media       = self.getMedia()\n",
    "        mediaCounts = self.getMediaCounts(media)\n",
    "        info        = self.getInfo()\n",
    "        \n",
    "        adc = artistDBDataClass(artist=artist, meta=meta, url=url, ID=ID, pages=pages, profile=profile, mediaCounts=mediaCounts, media=media, info=info)\n",
    "        \n",
    "        return adc\n",
    "    \n",
    "    \n",
    "    ##############################################################################################################################\n",
    "    ## File Info\n",
    "    ##############################################################################################################################\n",
    "    def getInfo(self):\n",
    "        afi = artistDBFileInfoClass(info=self.fInfo)\n",
    "        return afi\n",
    "    \n",
    "\n",
    "    ##############################################################################################################################\n",
    "    ## Artist Name\n",
    "    ##############################################################################################################################\n",
    "    def getName(self):\n",
    "        result1 = self.bsdata.find(\"h1\", {'class':'hide_desktop'})\n",
    "        result2 = self.bsdata.find(\"h1\", {'class':'hide_mobile'})\n",
    "        if result1 and not result2:\n",
    "            result = result1\n",
    "        elif result2 and not result1:\n",
    "            result = result2\n",
    "        elif result1 and result2:\n",
    "            result = result1\n",
    "        else:        \n",
    "            anc = artistDBNameClass(err=True)\n",
    "            return anc\n",
    "\n",
    "        if result:\n",
    "            artist = result.text\n",
    "            if len(artist) > 0:\n",
    "                artist = fixName(artist)\n",
    "                anc = artistDBNameClass(name=artist, err=None)\n",
    "            else:\n",
    "                result = self.bsdata.find(\"script\", {\"id\": \"artist_schema\"})\n",
    "                if result is None:\n",
    "                    anc = artistDBNameClass(name=artist, err=\"Fix\")\n",
    "                else:\n",
    "                    try:\n",
    "                        artist = fixName(json.loads(result.text)[\"name\"])\n",
    "                        anc = artistDBNameClass(name=artist, err=None)\n",
    "                    except:\n",
    "                        anc = artistDBNameClass(name=artist, err=\"JSON\")\n",
    "        else:\n",
    "            anc = artistDBNameClass(err=\"NoH1\")\n",
    "\n",
    "        return anc\n",
    "    \n",
    "    \n",
    "\n",
    "    ##############################################################################################################################\n",
    "    ## Meta Information\n",
    "    ##############################################################################################################################\n",
    "    def getMeta(self):\n",
    "        metatitle = self.bsdata.find(\"meta\", {\"property\": \"og:title\"})\n",
    "        metaurl   = self.bsdata.find(\"meta\", {\"property\": \"og:url\"})\n",
    "\n",
    "        title = None\n",
    "        if metatitle is not None:\n",
    "            title = metatitle.attrs['content']\n",
    "\n",
    "        url = None\n",
    "        if metatitle is not None:\n",
    "            url = metaurl.attrs['content']\n",
    "\n",
    "        amc = artistDBMetaClass(title=title, url=url)\n",
    "        return amc\n",
    "        \n",
    "\n",
    "    ##############################################################################################################################\n",
    "    ## Artist URL\n",
    "    ##############################################################################################################################\n",
    "    def getURL(self):\n",
    "        result1 = self.bsdata.find(\"link\", {\"rel\": \"canonical\"})\n",
    "        result2 = self.bsdata.find(\"link\", {\"hreflang\": \"en\"})\n",
    "        if result1 and not result2:\n",
    "            result = result1\n",
    "        elif result2 and not result1:\n",
    "            result = result2\n",
    "        elif result1 and result2:\n",
    "            result = result1\n",
    "        else:        \n",
    "            auc = artistDBURLClass(err=True)\n",
    "            return auc\n",
    "\n",
    "        if result:\n",
    "            url = result.attrs[\"href\"]\n",
    "            url = url.replace(\"https://www.discogs.com\", \"\")\n",
    "            if url.find(\"/artist/\") == -1:\n",
    "                url = None\n",
    "                auc = artistDBURLClass(url=url, err=\"NoArtist\")\n",
    "            else:\n",
    "                auc = artistDBURLClass(url=url)\n",
    "        else:\n",
    "            auc = artistDBURLClass(err=\"NoLink\")\n",
    "\n",
    "        return auc\n",
    "\n",
    "    \n",
    "\n",
    "    ##############################################################################################################################\n",
    "    ## Artist ID\n",
    "    ##############################################################################################################################\n",
    "    def getID(self, suburl):\n",
    "        discID   = self.dutils.getArtistID(suburl.url)\n",
    "        aic = artistDBIDClass(ID=discID)\n",
    "        return aic\n",
    "\n",
    "\n",
    "    \n",
    "    ##############################################################################################################################\n",
    "    ## Artist Pages\n",
    "    ##############################################################################################################################\n",
    "    def getPages(self):\n",
    "        from numpy import ceil\n",
    "        bsdata = self.bsdata\n",
    "\n",
    "\n",
    "        pageData = bsdata.find(\"div\", {\"class\": \"pagination bottom\"})\n",
    "        if pageData is None:\n",
    "            err = \"pagination bottom\"\n",
    "            apc = artistDBPageClass(err=err)\n",
    "            return apc\n",
    "        else:\n",
    "            x = pageData.find(\"strong\", {\"class\": \"pagination_total\"})\n",
    "            if x is None:\n",
    "                err = \"pagination_total\"\n",
    "                apc = artistDBPageClass(err=err)\n",
    "                return apc\n",
    "            else:\n",
    "                txt = x.text\n",
    "                txt = txt.strip()\n",
    "                txt = txt.replace(\"\\n\", \"\")\n",
    "                retval = [tmp.strip() for tmp in txt.split('of')]\n",
    "\n",
    "                try:\n",
    "                    ppp   = int(retval[0].split('–')[-1])\n",
    "                    tot   = int(retval[1].replace(\",\", \"\"))\n",
    "                except:\n",
    "                    err   = \"int\"\n",
    "                    apc   = artistDBPageClass(err=err)\n",
    "                    return apc\n",
    "\n",
    "                if ppp < 500:\n",
    "                    if tot < 25 or ppp == tot:\n",
    "                        apc   = artistDBPageClass(ppp=ppp, tot=tot, redo=False, more=False)\n",
    "                    else:\n",
    "                        apc   = artistDBPageClass(ppp=ppp, tot=tot, redo=True, more=False)\n",
    "                else:\n",
    "                    if tot < 500:\n",
    "                        apc   = artistDBPageClass(ppp=ppp, tot=tot, redo=False, more=False)\n",
    "                    else:\n",
    "                        apc   = artistDBPageClass(ppp=ppp, tot=tot, redo=False, more=True)\n",
    "                        \n",
    "                return apc\n",
    "            \n",
    "        return artistDBPageClass()\n",
    "    \n",
    "    \n",
    "\n",
    "    ##############################################################################################################################\n",
    "    ## Artist Variations\n",
    "    ##############################################################################################################################\n",
    "    def getProfile(self):  \n",
    "        result = self.bsdata.find(\"div\", {\"class\": \"profile\"})\n",
    "        heads = result.findAll(\"div\", {\"class\": \"head\"})\n",
    "        content = result.findAll(\"div\", {\"class\": \"content\"})\n",
    "        profileData = dict(zip(heads, content)) if len(heads) == len(content) else {}\n",
    "        generalData = {}\n",
    "        for head,content in profileData.items():\n",
    "            key  = head.text[:-1] if isinstance(head.text, str) else None\n",
    "            refs = content.findAll(\"a\")\n",
    "            val  = [artistDBTextClass(content)] if len(refs) == 0 else [artistDBLinkClass(ref) for ref in refs]\n",
    "            generalData[key] = val  \n",
    "\n",
    "\n",
    "        extraData={}\n",
    "        ulData = self.bsdata.findAll(\"ul\", {\"class\": \"facets_nav\"})\n",
    "        for ul in ulData:\n",
    "            refs  = ul.findAll(\"a\") if ul is not None else None\n",
    "            attrs = [[ref.attrs.get('data-credit-type'), ref.attrs.get('data-credit-subtype'),ref] for ref in refs] if refs is not None else None\n",
    "            for dctype,dcsubtype,ref in attrs:\n",
    "                if not all([dctype,dcsubtype]):\n",
    "                    continue\n",
    "                if extraData.get(dctype) is None:\n",
    "                    extraData[dctype] = {}\n",
    "                extraData[dctype][dcsubtype] = artistDBLinkClass(ref)\n",
    "        extraData = extraData if len(extraData) > 0 else None\n",
    "\n",
    "        apc = artistDBProfileClass(general=generalData, extra=extraData)\n",
    "        return apc\n",
    "\n",
    "    \n",
    "    \n",
    "    ##############################################################################################################################\n",
    "    ## Artist Media\n",
    "    ##############################################################################################################################    \n",
    "    def getMediaAlbum(self, td):\n",
    "        amac = artistDBMediaAlbumClass()\n",
    "        for span in td.findAll(\"span\"):\n",
    "            attrs = span.attrs\n",
    "            if attrs.get(\"class\"):\n",
    "                if 'format' in attrs[\"class\"]:\n",
    "                    albumformat = span.text\n",
    "                    albumformat = albumformat.replace(\"(\", \"\")\n",
    "                    albumformat = albumformat.replace(\")\", \"\")\n",
    "                    amac.format = albumformat\n",
    "                    continue\n",
    "            span.replaceWith(\"\")\n",
    "\n",
    "        ref = td.find(\"a\")\n",
    "        if ref:\n",
    "            amac.url   = ref.attrs['href']\n",
    "            amac.album = ref.text\n",
    "        else:\n",
    "            amac.err = \"NoText\"\n",
    "\n",
    "        return amac\n",
    "    \n",
    "    \n",
    "    def getMedia(self):\n",
    "        amc = artistDBMediaClass()\n",
    "        \n",
    "        table = self.bsdata.find(\"table\", {\"id\": \"artist\"})\n",
    "        if table == None:\n",
    "            amc.err=\"NoMedia\"\n",
    "            return amc\n",
    "\n",
    "        name  = None\n",
    "        for tr in table.findAll(\"tr\"):\n",
    "            h3 = tr.find(\"h3\")\n",
    "            if h3:\n",
    "                name = h3.text\n",
    "                amc.media[name] = []\n",
    "                continue\n",
    "\n",
    "\n",
    "            # Album, Class, Format\n",
    "            result = tr.find(\"td\", {\"class\": \"title\"})\n",
    "            album  = None\n",
    "            url    = None\n",
    "            albumformat = name\n",
    "            if result:\n",
    "                retval      = self.getMediaAlbum(result)\n",
    "                album       = fixName(retval.album)\n",
    "                url         = retval.url\n",
    "                albumformat = retval.aformat\n",
    "\n",
    "            if album == None:\n",
    "                continue\n",
    "\n",
    "            # Code\n",
    "            code = tr.attrs.get(\"data-object-id\")\n",
    "\n",
    "            # AlbumClass\n",
    "            albumclass = tr.attrs.get(\"data-object-type\")\n",
    "\n",
    "            # AlbumURL\n",
    "            result  = tr.find(\"td\", {\"class\": \"artist\"})\n",
    "            artists = None\n",
    "            if result:\n",
    "                artists = self.getNamesAndURLs(result)\n",
    "\n",
    "            # Year\n",
    "            result = tr.find(\"td\", {\"class\": \"year\"})\n",
    "            year   = None\n",
    "            if result:\n",
    "                year = result.text\n",
    "\n",
    "            if name is None:\n",
    "                name = \"Albums\"\n",
    "                amc.media[name] = []\n",
    "            amdc = artistDBMediaDataClass(album=album, url=url, aclass=albumclass, aformat=albumformat, artist=artists, code=code, year=year)\n",
    "            amc.media[name].append(amdc)\n",
    "            #if debug: print \"  Found album:\",album,\"of type:\",name\n",
    "\n",
    "\n",
    "        if False:\n",
    "            newMedia = {}\n",
    "            for name,v in media.items():\n",
    "                newMedia[name] = {}\n",
    "                for item in v:\n",
    "                    code = item['Code']\n",
    "                    del item['Code']\n",
    "                    newMedia[name][code] = item\n",
    "\n",
    "            media = newMedia\n",
    "\n",
    "        return amc\n",
    "    \n",
    "    \n",
    "\n",
    "    ##############################################################################################################################\n",
    "    ## Artist Media Counts\n",
    "    ##############################################################################################################################\n",
    "    def getMediaCounts(self, media):\n",
    "        amcc = artistDBMediaCountsClass()\n",
    "        \n",
    "        results = self.bsdata.findAll(\"ul\", {\"class\": \"facets_nav\"})\n",
    "        if results is None or len(results) == 0:\n",
    "            amcc.err = \"No Counts\"\n",
    "            return amcc\n",
    "            \n",
    "        for result in results:\n",
    "            for li in result.findAll(\"li\"):\n",
    "                ref = li.find(\"a\")\n",
    "                if ref:\n",
    "                    attrs = ref.attrs\n",
    "                    span = ref.find(\"span\", {\"class\": \"facet_count\"})\n",
    "                    count = None\n",
    "                    if span:\n",
    "                        count = span.text\n",
    "                        credittype    = attrs.get(\"data-credit-type\")\n",
    "                        creditsubtype = attrs.get(\"data-credit-subtype\")\n",
    "                        if credittype and creditsubtype:\n",
    "                            if amcc.counts.get(credittype) == None:\n",
    "                                amcc.counts[credittype] = {}\n",
    "                            if amcc.counts[credittype].get(creditsubtype) == None:\n",
    "                                try:\n",
    "                                    amcc.counts[credittype][creditsubtype] = int(count)\n",
    "                                except:\n",
    "                                    amcc.counts[credittype][creditsubtype] = count\n",
    "                                    amcc.err = \"Non Int\"\n",
    "\n",
    "        return amcc"
   ]
  },
  {
   "cell_type": "markdown",
   "metadata": {
    "heading_collapsed": true
   },
   "source": [
    "# AllMusic"
   ]
  },
  {
   "cell_type": "code",
   "execution_count": null,
   "metadata": {
    "hidden": true
   },
   "outputs": [],
   "source": [
    "%load_ext autoreload\n",
    "%autoreload\n",
    "from dbArtistsAllMusic import dbArtistsAllMusic\n",
    "from dbArtistsParse import dbArtistsPrimary, dbArtistsCredit, dbArtistsExtra\n",
    "from dbArtistsParse import dbArtistsAssertCredit\n",
    "\n",
    "for modVal in range(100):\n",
    "    dbAP = dbArtistsPrimary(dbArtistsAllMusic())\n",
    "    dometa = dbAP.parse(modVal, previousDays=1, force=False)\n",
    "    if dometa:\n",
    "        dbAP.createArtistMetadata(modVal)\n",
    "        dbAP.createAlbumMetadata(modVal)"
   ]
  },
  {
   "cell_type": "code",
   "execution_count": null,
   "metadata": {
    "hidden": true
   },
   "outputs": [],
   "source": [
    "# This downloads missing credit files\n",
    "for modVal in range(100):\n",
    "    try:\n",
    "        dbac = dbArtistsAssertCredit(dbArtistsAllMusic())\n",
    "        dbac.parseModVal(modVal)\n",
    "        dbac.downloadUnknownArtistCredits()\n",
    "    except:\n",
    "        continue"
   ]
  },
  {
   "cell_type": "code",
   "execution_count": null,
   "metadata": {
    "hidden": true
   },
   "outputs": [],
   "source": [
    "for modVal in range(100):\n",
    "    dbAP = dbArtistsCredit(dbArtistsAllMusic())\n",
    "    dbAP.parse(modVal, previousDays=200)"
   ]
  },
  {
   "cell_type": "code",
   "execution_count": null,
   "metadata": {
    "hidden": true
   },
   "outputs": [],
   "source": [
    "for modVal in range(100):\n",
    "    dbAP = dbArtistsPrimary(dbArtistsAllMusic())\n",
    "    dbAP.createArtistMetadata(modVal)\n",
    "    dbAP.createAlbumMetadata(modVal)"
   ]
  },
  {
   "cell_type": "markdown",
   "metadata": {
    "heading_collapsed": true
   },
   "source": [
    "# MusicBrainz"
   ]
  },
  {
   "cell_type": "code",
   "execution_count": null,
   "metadata": {
    "hidden": true
   },
   "outputs": [],
   "source": [
    "%load_ext autoreload\n",
    "%autoreload\n",
    "from dbArtistsMusicBrainz import dbArtistsMusicBrainz\n",
    "from dbArtistsParse import dbArtistsPrimary, dbArtistsCredit, dbArtistsExtra\n",
    "from dbArtistsParse import dbArtistsAssertExtra"
   ]
  },
  {
   "cell_type": "code",
   "execution_count": null,
   "metadata": {
    "hidden": true
   },
   "outputs": [],
   "source": [
    "for modVal in range(100):\n",
    "    dbAP = dbArtistsPrimary(dbArtistsMusicBrainz())\n",
    "    dometa = dbAP.parse(modVal, previousDays=1, force=False)\n",
    "    if dometa:\n",
    "        dbAP.createArtistMetadata(modVal)\n",
    "        dbAP.createAlbumMetadata(modVal)\n",
    "\n",
    "#for modVal in range(100):\n",
    "#    dbAP = dbArtistsExtra(dbArtistsMusicBrainz())\n",
    "#    dbAP.parse(modVal)"
   ]
  },
  {
   "cell_type": "code",
   "execution_count": null,
   "metadata": {
    "hidden": true
   },
   "outputs": [],
   "source": [
    "for modVal in range(100):\n",
    "    dbAP = dbArtistsAssertExtra(dbArtistsMusicBrainz())\n",
    "    dbAP.parseModVal(modVal)\n",
    "    dbAP.downloadMissingArtistExtras()"
   ]
  },
  {
   "cell_type": "markdown",
   "metadata": {
    "heading_collapsed": true
   },
   "source": [
    "# Discogs"
   ]
  },
  {
   "cell_type": "code",
   "execution_count": null,
   "metadata": {
    "hidden": true
   },
   "outputs": [],
   "source": [
    "%load_ext autoreload\n",
    "%autoreload\n",
    "from dbArtistsDiscogs import dbArtistsDiscogs\n",
    "from dbArtistsParse import dbArtistsPrimary, dbArtistsCredit, dbArtistsExtra\n",
    "from dbArtistsParse import dbArtistsAssertExtra, dbArtistsUnofficial, dbArtistsAssertUnofficial"
   ]
  },
  {
   "cell_type": "code",
   "execution_count": null,
   "metadata": {
    "hidden": true
   },
   "outputs": [],
   "source": [
    "for modVal in range(100):\n",
    "    dbAP = dbArtistsPrimary(dbArtistsDiscogs())\n",
    "    dometa = dbAP.parse(modVal, previousDays=50, force=False)\n",
    "    if dometa:\n",
    "        dbAP.createArtistMetadata(modVal)\n",
    "        dbAP.createAlbumMetadata(modVal)\n",
    "\n",
    "if False:\n",
    "    for modVal in range(100):\n",
    "        break\n",
    "        dbAP = dbArtistsExtra(dbArtistsDiscogs())\n",
    "        dbAP.parse(modVal, previousDays=10, force=True)\n",
    "\n",
    "    for modVal in range(100):\n",
    "        break\n",
    "        dbAP = dbArtistsUnofficial(dbArtistsDiscogs())\n",
    "        dbAP.parse(modVal, previousDays=10, force=True)\n",
    "\n",
    "    for modVal in range(100):\n",
    "        dbAP = dbArtistsPrimary(dbArtistsDiscogs())"
   ]
  },
  {
   "cell_type": "code",
   "execution_count": null,
   "metadata": {
    "hidden": true
   },
   "outputs": [],
   "source": [
    "for modVal in range(100):\n",
    "    dbAP = dbArtistsAssertUnofficial(dbArtistsDiscogs())\n",
    "    dbAP.parseModVal(modVal)\n",
    "    dbAP.downloadMissingArtistUnofficials()"
   ]
  },
  {
   "cell_type": "markdown",
   "metadata": {
    "heading_collapsed": true
   },
   "source": [
    "# AllMusic"
   ]
  },
  {
   "cell_type": "code",
   "execution_count": null,
   "metadata": {
    "hidden": true
   },
   "outputs": [],
   "source": [
    "from ioUtils import getFile\n",
    "dbLinks = getFile(\"dbLinks.p\")\n",
    "dbIDtoURL = getFile(\"dbIDToURLLookup.p\")"
   ]
  },
  {
   "cell_type": "code",
   "execution_count": null,
   "metadata": {
    "hidden": true
   },
   "outputs": [],
   "source": [
    "from dbArtistsAllMusic import dbArtistsAllMusic\n",
    "from pandas import DataFrame, Series\n",
    "dbAM = dbArtistsAllMusic()\n",
    "amRef = dbAM.disc.getMasterSlimArtistDiscogsDB()\n",
    "print(\"I know about {0} IDs\".format(amRef.shape))\n",
    "\n",
    "amToGet = Series(list(dbLinks['allmusic'].keys()))\n",
    "IDsToGet  = amToGet[~amToGet.isin(amRef.index)]\n",
    "print(\"There are {0} IDs to get\".format(len(IDsToGet)))"
   ]
  },
  {
   "cell_type": "code",
   "execution_count": null,
   "metadata": {
    "hidden": true
   },
   "outputs": [],
   "source": [
    "from time import sleep\n",
    "from fsUtils import isFile\n",
    "from random import random\n",
    "n = len(IDsToGet)\n",
    "for i,artistID in enumerate(IDsToGet):\n",
    "    url       = dbIDtoURL['allmusic'][artistID]\n",
    "    savename  = dbAM.dutils.getArtistSavename(artistID)\n",
    "    if not isFile(savename):\n",
    "        print(\"{0: >3}/{1: <5}\\t{2}\\t{3}\".format(i,n,savename,url))\n",
    "        try:\n",
    "            dbAM.dutils.downloadArtistURL(url=url, savename=savename, force=False)\n",
    "        except:\n",
    "            pass\n",
    "        sleep(3*random())"
   ]
  },
  {
   "cell_type": "code",
   "execution_count": null,
   "metadata": {
    "hidden": true
   },
   "outputs": [],
   "source": []
  },
  {
   "cell_type": "markdown",
   "metadata": {
    "heading_collapsed": true
   },
   "source": [
    "# Genius Download List of URLs"
   ]
  },
  {
   "cell_type": "code",
   "execution_count": null,
   "metadata": {
    "hidden": true
   },
   "outputs": [],
   "source": [
    "from ioUtils import getFile\n",
    "dbLinks = getFile(\"dbLinks.p\")\n",
    "dbIDtoURL = getFile(\"dbIDToURLLookup.p\")"
   ]
  },
  {
   "cell_type": "code",
   "execution_count": null,
   "metadata": {
    "hidden": true
   },
   "outputs": [],
   "source": [
    "from dbArtistsGenius import dbArtistsGenius\n",
    "from pandas import DataFrame, Series\n",
    "dbGen = dbArtistsGenius()\n",
    "genRef = dbGen.disc.getMasterSlimArtistDiscogsDB()\n",
    "print(\"I know about {0} IDs\".format(genRef.shape))\n",
    "\n",
    "genToGet = Series(list(dbLinks['genius'].keys()))\n",
    "IDsToGet  = genToGet[~genToGet.isin(genRef.index)]\n",
    "print(\"There are {0} IDs to get\".format(len(IDsToGet)))"
   ]
  },
  {
   "cell_type": "code",
   "execution_count": null,
   "metadata": {
    "hidden": true
   },
   "outputs": [],
   "source": [
    "from time import sleep\n",
    "from fsUtils import isFile\n",
    "from random import random\n",
    "n = len(IDsToGet)\n",
    "for i,artistID in enumerate(IDsToGet):\n",
    "    url       = dbIDtoURL['genius'][artistID]\n",
    "    savename  = dbGen.dutils.getArtistSavename(artistID)\n",
    "    if not isFile(savename):\n",
    "        print(\"{0: >3}/{1: <5}\\t{2}\\t{3}\".format(i,n,savename,url))\n",
    "        try:\n",
    "            dbGen.dutils.downloadArtistURL(url=url, savename=savename, force=False)\n",
    "        except:\n",
    "            pass\n",
    "        sleep(2*random())"
   ]
  },
  {
   "cell_type": "code",
   "execution_count": null,
   "metadata": {
    "hidden": true
   },
   "outputs": [],
   "source": [
    "for url in urls:\n",
    "    print(url)\n",
    "    dp = dbArtistsGenius()\n",
    "    dp.downloadArtistFromURL(url)\n",
    "    sleep(2)\n"
   ]
  },
  {
   "cell_type": "code",
   "execution_count": null,
   "metadata": {
    "hidden": true
   },
   "outputs": [],
   "source": []
  },
  {
   "cell_type": "code",
   "execution_count": null,
   "metadata": {
    "hidden": true
   },
   "outputs": [],
   "source": [
    "for modVal in range(100):\n",
    "    dbAP = dbArtistsPrimary(dbArtistsRateYourMusic())\n",
    "    dometa = dbAP.parse(modVal, previousDays=1, force=False)\n",
    "    if dometa:\n",
    "        dbAP.createArtistMetadata(modVal)\n",
    "        dbAP.createAlbumMetadata(modVal)"
   ]
  },
  {
   "cell_type": "markdown",
   "metadata": {
    "heading_collapsed": true
   },
   "source": [
    "# Deezer"
   ]
  },
  {
   "cell_type": "code",
   "execution_count": null,
   "metadata": {
    "hidden": true
   },
   "outputs": [],
   "source": [
    "%load_ext autoreload\n",
    "%autoreload\n",
    "from dbArtistsDeezer import dbArtistsDeezer\n",
    "from dbArtistsParse import dbArtistsPrimary, dbArtistsCredit, dbArtistsExtra\n",
    "from dbArtistsParse import dbArtistsAssertExtra, dbArtistsUnofficial, dbArtistsAssertUnofficial"
   ]
  },
  {
   "cell_type": "code",
   "execution_count": null,
   "metadata": {
    "hidden": true
   },
   "outputs": [],
   "source": [
    "for modVal in range(100):\n",
    "    dbAP = dbArtistsPrimary(dbArtistsDeezer())\n",
    "    dometa = dbAP.parse(modVal, previousDays=1, force=True)\n",
    "    if dometa:\n",
    "        dbAP.createArtistMetadata(modVal)\n",
    "        dbAP.createAlbumMetadata(modVal)"
   ]
  },
  {
   "cell_type": "markdown",
   "metadata": {
    "heading_collapsed": true
   },
   "source": [
    "# LastFM"
   ]
  },
  {
   "cell_type": "code",
   "execution_count": null,
   "metadata": {
    "hidden": true
   },
   "outputs": [],
   "source": [
    "%load_ext autoreload\n",
    "%autoreload\n",
    "from dbArtistsLastFM import dbArtistsLastFM\n",
    "from dbArtistsParse import dbArtistsPrimary, dbArtistsCredit, dbArtistsExtra\n",
    "from dbArtistsParse import dbArtistsAssertExtra, dbArtistsUnofficial, dbArtistsAssertUnofficial"
   ]
  },
  {
   "cell_type": "code",
   "execution_count": null,
   "metadata": {
    "hidden": true
   },
   "outputs": [],
   "source": [
    "lfm = dbArtistsLastFM()"
   ]
  },
  {
   "cell_type": "code",
   "execution_count": null,
   "metadata": {
    "hidden": true
   },
   "outputs": [],
   "source": [
    "for modVal in range(100):\n",
    "    try:\n",
    "        lfm.assertDBModValExtraData(modVal, maxPages=4, test=False)\n",
    "    except:\n",
    "        pass"
   ]
  },
  {
   "cell_type": "code",
   "execution_count": null,
   "metadata": {
    "hidden": true
   },
   "outputs": [],
   "source": [
    "dbAP = dbArtistsPrimary(dbArtistsLastFM())\n",
    "dometa = dbAP.parse(1, previousDays=1, force=True)"
   ]
  },
  {
   "cell_type": "code",
   "execution_count": null,
   "metadata": {
    "hidden": true
   },
   "outputs": [],
   "source": [
    "dbAP = dbArtistsExtra(dbArtistsLastFM())\n",
    "dbAP.parse(1, previousDays=1)"
   ]
  },
  {
   "cell_type": "code",
   "execution_count": null,
   "metadata": {
    "hidden": true
   },
   "outputs": [],
   "source": [
    "for modVal in range(100):\n",
    "    dbAP = dbArtistsExtra(dbArtistsLastFM())\n",
    "    dbAP.parse(modVal, previousDays=3)"
   ]
  },
  {
   "cell_type": "code",
   "execution_count": null,
   "metadata": {
    "hidden": true
   },
   "outputs": [],
   "source": []
  },
  {
   "cell_type": "code",
   "execution_count": null,
   "metadata": {
    "hidden": true
   },
   "outputs": [],
   "source": [
    "for modVal in range(100):\n",
    "    dbAP = dbArtistsPrimary(dbArtistsLastFM())\n",
    "    dometa = dbAP.parse(modVal, previousDays=3, force=False)\n",
    "    if dometa:\n",
    "        dbAP.createArtistMetadata(modVal)\n",
    "        dbAP.createAlbumMetadata(modVal)"
   ]
  },
  {
   "cell_type": "markdown",
   "metadata": {
    "heading_collapsed": true
   },
   "source": [
    "# AlbumOfTheYear"
   ]
  },
  {
   "cell_type": "code",
   "execution_count": null,
   "metadata": {
    "hidden": true
   },
   "outputs": [],
   "source": [
    "%load_ext autoreload\n",
    "%autoreload\n",
    "from dbArtistsAlbumOfTheYear import dbArtistsAlbumOfTheYear\n",
    "from dbArtistsParse import dbArtistsPrimary, dbArtistsCredit, dbArtistsExtra\n",
    "from dbArtistsParse import dbArtistsAssertExtra, dbArtistsUnofficial, dbArtistsAssertUnofficial"
   ]
  },
  {
   "cell_type": "code",
   "execution_count": null,
   "metadata": {
    "hidden": true
   },
   "outputs": [],
   "source": [
    "for modVal in range(100):\n",
    "    dbAP = dbArtistsPrimary(dbArtistsAlbumOfTheYear())\n",
    "    dometa = dbAP.parse(modVal, previousDays=1, force=True)\n",
    "    if dometa:\n",
    "        dbAP.createArtistMetadata(modVal)\n",
    "        dbAP.createAlbumMetadata(modVal)"
   ]
  },
  {
   "cell_type": "markdown",
   "metadata": {
    "heading_collapsed": true
   },
   "source": [
    "# Genius"
   ]
  },
  {
   "cell_type": "code",
   "execution_count": null,
   "metadata": {
    "hidden": true
   },
   "outputs": [],
   "source": [
    "%load_ext autoreload\n",
    "%autoreload\n",
    "from dbArtistsGenius import dbArtistsGenius\n",
    "from dbArtistsParse import dbArtistsPrimary, dbArtistsCredit, dbArtistsExtra\n",
    "from dbArtistsParse import dbArtistsAssertExtra, dbArtistsUnofficial, dbArtistsAssertUnofficial"
   ]
  },
  {
   "cell_type": "code",
   "execution_count": null,
   "metadata": {
    "hidden": true
   },
   "outputs": [],
   "source": [
    "for modVal in range(100):\n",
    "    dbAP = dbArtistsPrimary(dbArtistsGenius())\n",
    "    dometa = dbAP.parse(modVal, previousDays=1, force=True)\n",
    "    if dometa:\n",
    "        dbAP.createArtistMetadata(modVal)\n",
    "        dbAP.createAlbumMetadata(modVal)"
   ]
  },
  {
   "cell_type": "markdown",
   "metadata": {
    "heading_collapsed": true
   },
   "source": [
    "# KWorbSpotify"
   ]
  },
  {
   "cell_type": "code",
   "execution_count": null,
   "metadata": {
    "hidden": true
   },
   "outputs": [],
   "source": [
    "%autoreload\n",
    "from dbArtistsKWorbSpotify import dbArtistsKWorbSpotify\n",
    "from dbUtils import utilsKWorbSpotify\n",
    "from dbArtistsParse import dbArtistsPrimary, dbArtistsCredit, dbArtistsExtra\n",
    "from dbArtistsParse import dbArtistsAssertCredit, dbArtistsRawHTML, dbArtistsRawFiles"
   ]
  },
  {
   "cell_type": "code",
   "execution_count": null,
   "metadata": {
    "hidden": true
   },
   "outputs": [],
   "source": [
    "dbAP = dbArtistsKWorbSpotify()\n",
    "dbAP.downloadKWorbSpotifyArtists(update=True)"
   ]
  },
  {
   "cell_type": "code",
   "execution_count": null,
   "metadata": {
    "hidden": true
   },
   "outputs": [],
   "source": [
    "%autoreload\n",
    "from webUtils import getHTML\n",
    "from searchUtils import findExt\n",
    "dbAP = dbArtistsRawFiles(dbArtistsKWorbSpotify(), \"data\")\n",
    "dbAP.parse(previousDays=10)"
   ]
  },
  {
   "cell_type": "markdown",
   "metadata": {
    "heading_collapsed": true
   },
   "source": [
    "# KWorbiTunes"
   ]
  },
  {
   "cell_type": "code",
   "execution_count": null,
   "metadata": {
    "hidden": true
   },
   "outputs": [],
   "source": [
    "%autoreload\n",
    "from dbArtistsKWorbiTunes import dbArtistsKWorbiTunes\n",
    "from dbUtils import utilsKWorbYouTube\n",
    "from dbArtistsParse import dbArtistsPrimary, dbArtistsCredit, dbArtistsExtra\n",
    "from dbArtistsParse import dbArtistsAssertCredit, dbArtistsRawHTML, dbArtistsRawFiles"
   ]
  },
  {
   "cell_type": "code",
   "execution_count": null,
   "metadata": {
    "hidden": true
   },
   "outputs": [],
   "source": [
    "dbAP = dbArtistsKWorbiTunes()\n",
    "dbAP.downloadKWorbiTunesArtists(update=True)"
   ]
  },
  {
   "cell_type": "code",
   "execution_count": null,
   "metadata": {
    "hidden": true
   },
   "outputs": [],
   "source": [
    "%autoreload\n",
    "from webUtils import getHTML\n",
    "from searchUtils import findExt\n",
    "dbAP = dbArtistsRawFiles(dbArtistsKWorbiTunes(), \"data\")\n",
    "dbAP.parse(previousDays=10)"
   ]
  },
  {
   "cell_type": "code",
   "execution_count": null,
   "metadata": {
    "hidden": true
   },
   "outputs": [],
   "source": []
  },
  {
   "cell_type": "code",
   "execution_count": null,
   "metadata": {
    "hidden": true
   },
   "outputs": [],
   "source": [
    "%autoreload\n",
    "from webUtils import getHTML\n",
    "from searchUtils import findExt\n",
    "dbAP = dbArtistsRawFiles(dbArtistsKWorbYouTube(), \"data\")\n",
    "dbAP.parse(previousDays=10)"
   ]
  },
  {
   "cell_type": "code",
   "execution_count": null,
   "metadata": {
    "hidden": true
   },
   "outputs": [],
   "source": [
    "%autoreload\n",
    "from dbArtistsKWorbYouTube import dbArtistsKWorbYouTube\n",
    "from dbUtils import utilsKWorbYouTube\n",
    "from dbArtistsParse import dbArtistsPrimary, dbArtistsCredit, dbArtistsExtra\n",
    "from dbArtistsParse import dbArtistsAssertCredit, dbArtistsRawHTML, dbArtistsRawFiles"
   ]
  },
  {
   "cell_type": "code",
   "execution_count": null,
   "metadata": {
    "hidden": true
   },
   "outputs": [],
   "source": [
    "bsdata = getHTML(\"/Volumes/Piggy/Discog/artists-kworbyoutube/data/justinbieber.p\")\n",
    "bsdata"
   ]
  },
  {
   "cell_type": "code",
   "execution_count": null,
   "metadata": {
    "hidden": true
   },
   "outputs": [],
   "source": []
  },
  {
   "cell_type": "code",
   "execution_count": null,
   "metadata": {
    "hidden": true
   },
   "outputs": [],
   "source": [
    "retval = dbAP.artist.getData(\"/Volumes/Piggy/Discog/artists-kworbitunes/data/theweeknd.p\")\n",
    "retval.show()"
   ]
  },
  {
   "cell_type": "code",
   "execution_count": null,
   "metadata": {
    "hidden": true
   },
   "outputs": [],
   "source": [
    "\"/Volumes/Piggy/Discog/artists-kworbyoutube/data/beyoncé.p\".encode('utf-8')"
   ]
  },
  {
   "cell_type": "code",
   "execution_count": null,
   "metadata": {
    "hidden": true
   },
   "outputs": [],
   "source": [
    "bsdata = getHTML(\"/Volumes/Piggy/Discog/artists-kworbitunes/data/theweeknd.p\")\n",
    "bsdata"
   ]
  },
  {
   "cell_type": "markdown",
   "metadata": {
    "heading_collapsed": true
   },
   "source": [
    "# RockCorner"
   ]
  },
  {
   "cell_type": "code",
   "execution_count": null,
   "metadata": {
    "hidden": true
   },
   "outputs": [],
   "source": [
    "%load_ext autoreload\n",
    "%autoreload\n",
    "from dbArtistsRockCorner import dbArtistsRockCorner\n",
    "from dbArtistsParse import dbArtistsPrimary, dbArtistsCredit, dbArtistsExtra\n",
    "from dbArtistsParse import dbArtistsAssertExtra, dbArtistsUnofficial, dbArtistsAssertUnofficial"
   ]
  },
  {
   "cell_type": "code",
   "execution_count": null,
   "metadata": {
    "hidden": true
   },
   "outputs": [],
   "source": [
    "for modVal in range(100):\n",
    "    dbAP = dbArtistsPrimary(dbArtistsRockCorner())\n",
    "    dbAP.parse(modVal, force=True)"
   ]
  },
  {
   "cell_type": "markdown",
   "metadata": {
    "heading_collapsed": true
   },
   "source": [
    "# Rate Your Music"
   ]
  },
  {
   "cell_type": "code",
   "execution_count": null,
   "metadata": {
    "hidden": true
   },
   "outputs": [],
   "source": [
    "\"https://www.last.fm/music/Michael%2BBubl%25C3%25A9\""
   ]
  },
  {
   "cell_type": "code",
   "execution_count": null,
   "metadata": {
    "hidden": true
   },
   "outputs": [],
   "source": [
    "url=\"Michael%Bublé\"\n",
    "print(quote(url, encoding='utf-8'))\n",
    "print(utils.getArtistID(url, debug=True))"
   ]
  },
  {
   "cell_type": "code",
   "execution_count": null,
   "metadata": {
    "hidden": true
   },
   "outputs": [],
   "source": [
    "https://www.last.fm/music/Michael%25%2BBubl%25C3%25A9/+albums?order=release_date"
   ]
  },
  {
   "cell_type": "code",
   "execution_count": null,
   "metadata": {
    "hidden": true
   },
   "outputs": [],
   "source": [
    "quote(url)\n",
    "utils.getArtistID(\"https://www.last.fm/music/Michael%2BBubl%25C3%25A9/+albums?order=release_date\", debug=True)"
   ]
  },
  {
   "cell_type": "code",
   "execution_count": null,
   "metadata": {
    "hidden": true
   },
   "outputs": [],
   "source": [
    "#help(quote)"
   ]
  },
  {
   "cell_type": "code",
   "execution_count": null,
   "metadata": {
    "hidden": true
   },
   "outputs": [],
   "source": [
    "\n",
    "#url=\"https://www.last.fm/music/Michael+Bublé\"\n",
    "url=\"https://www.last.fm/music/Dave+Matthews+Band\"\n",
    "url=\"https://www.last.fm/music/16+Deluxe\"                               # 53342847883\n",
    "from urllib.parse import quote\n",
    "print(url)\n",
    "print(quote(url))\n",
    "#url=\"https://www.last.fm/music/16+Deluxe/+albums?order=release_date\"   # 53342847883\n",
    "url=\"https://www.last.fm/music/16%2BDeluxe/+albums?order=release_date\" # 99404621521\n",
    "#url=\"https://www.last.fm/music/Michael%2BBubl%25C3%25A9/+albums?order=release_date\"\n",
    "#url=\"https://www.last.fm/music/Michael%25252BBubl%25C3%25A9/+albums?order=release_date\"\n",
    "#url=\"https://www.last.fm/music/Michael%2BBubl%25C3%25A9/+albums?order=release_date\"\n",
    "from unicodedata import normalize\n",
    "#‘NFC’, ‘NFKC’, ‘NFD’, and ‘NFKD’.\n",
    "print(url)\n",
    "print(normalize(\"NFC\", url))\n",
    "print(normalize(\"NFKC\", url))\n",
    "print(normalize(\"NFD\", url))\n",
    "print(normalize(\"NFKD\", url))\n",
    "print(utils.getArtistID(url))\n",
    "print(utils.getArtistID(normalize(\"NFC\", url)))\n",
    "print(utils.getArtistID(normalize(\"NFKC\", url)))\n",
    "print(utils.getArtistID(normalize(\"NFD\", url)))\n",
    "print(utils.getArtistID(normalize(\"NFKD\", url)))\n",
    "\n",
    "#ifile=\"/Volumes/Piggy/Discog/artists-lastfm/47/92143197647.p\"\n",
    "#from artistLastFM import artistLastFM\n",
    "#alm = artistLastFM()\n",
    "#retval = alm.getData(ifile)\n",
    "#retval.show()"
   ]
  },
  {
   "cell_type": "code",
   "execution_count": null,
   "metadata": {
    "hidden": true,
    "scrolled": true
   },
   "outputs": [],
   "source": [
    "#data = getHTML(\"/Volumes/Piggy/Discog/artists-lastfm/47/85771689147.p\")\n",
    "#data"
   ]
  },
  {
   "cell_type": "code",
   "execution_count": null,
   "metadata": {
    "hidden": true
   },
   "outputs": [],
   "source": [
    "\n",
    "ifile=\"/Volumes/Piggy/Discog/artists-lastfm/50/86362214250.p\"\n",
    "from artistLastFM import artistLastFM\n",
    "alm = artistLastFM()\n",
    "1/0\n",
    "try:\n",
    "    retval = alm.getData(ifile)\n",
    "    retval.show()\n",
    "except:\n",
    "    print(\"HI\")"
   ]
  },
  {
   "cell_type": "code",
   "execution_count": null,
   "metadata": {
    "hidden": true
   },
   "outputs": [],
   "source": [
    "\n",
    "\n",
    "\n",
    "from dbUtils import utilsLastFM\n",
    "utils = utilsLastFM()\n",
    "print(utils.getArtistID(url))\n",
    "ifile = \"/Volumes/Piggy/Discog/artists-lastfm/89/83689536289.p\"\n",
    "\n",
    "url = \"https://www.last.fm/music/Michael+Bublé\"\n",
    "print(utils.getArtistID(url))"
   ]
  },
  {
   "cell_type": "code",
   "execution_count": null,
   "metadata": {
    "hidden": true
   },
   "outputs": [],
   "source": [
    "ifile=\"/Volumes/Piggy/Discog/artists-lastfm/0/96441297300.p\""
   ]
  },
  {
   "cell_type": "code",
   "execution_count": null,
   "metadata": {
    "hidden": true
   },
   "outputs": [],
   "source": [
    "from ioUtils import saveFile, getsFile\n",
    "from artistLastFM import artistLastFM\n",
    "alm = artistLastFM()\n",
    "retval = alm.getData(ifile)\n",
    "retval.show()"
   ]
  },
  {
   "cell_type": "code",
   "execution_count": null,
   "metadata": {
    "hidden": true
   },
   "outputs": [],
   "source": []
  },
  {
   "cell_type": "code",
   "execution_count": null,
   "metadata": {
    "hidden": true
   },
   "outputs": [],
   "source": []
  },
  {
   "cell_type": "code",
   "execution_count": null,
   "metadata": {
    "hidden": true
   },
   "outputs": [],
   "source": [
    "from dbArtistsDiscogs import dbArtistsDiscogs\n",
    "for modVal in range(1):\n",
    "    dbAP = dbArtistsPrimary(dbArtistsDiscogs())\n",
    "    dbAP.parse(modVal, previousDays=1000)"
   ]
  },
  {
   "cell_type": "code",
   "execution_count": null,
   "metadata": {
    "hidden": true
   },
   "outputs": [],
   "source": [
    "dbAP.parse(modVal, previousDays=1000)"
   ]
  },
  {
   "cell_type": "markdown",
   "metadata": {
    "heading_collapsed": true
   },
   "source": [
    "# RockCorner"
   ]
  },
  {
   "cell_type": "code",
   "execution_count": null,
   "metadata": {
    "hidden": true
   },
   "outputs": [],
   "source": [
    "from dbArtistsRockCorner import dbArtistsRockCorner\n",
    "from dbArtistsParse import dbArtistsPrimary\n",
    "dbAP = dbArtistsPrimary(dbArtistsRockCorner())\n",
    "dbAP.parse(69, previousDays=50)"
   ]
  },
  {
   "cell_type": "code",
   "execution_count": null,
   "metadata": {
    "hidden": true
   },
   "outputs": [],
   "source": [
    "from dbArtistsRockCorner import dbArtistsRockCorner\n",
    "from dbArtistsParse import dbArtistsPrimary\n",
    "dbAP = dbArtistsPrimary(dbArtistsRockCorner())"
   ]
  },
  {
   "cell_type": "code",
   "execution_count": null,
   "metadata": {
    "hidden": true
   },
   "outputs": [],
   "source": [
    "from dbArtistsAllMusic import dbArtistsAllMusic\n",
    "dbAP = dbArtistsCredit(dbArtistsAllMusic())\n",
    "dbAP.parse(69, previousDays=50)"
   ]
  },
  {
   "cell_type": "code",
   "execution_count": null,
   "metadata": {
    "hidden": true
   },
   "outputs": [],
   "source": [
    "from dbArtistsAllMusic import dbArtistsAllMusic\n",
    "dbAP = dbArtistsExtra(dbArtistsAllMusic())\n",
    "dbAP.getArtistFiles(69, force=True)"
   ]
  },
  {
   "cell_type": "code",
   "execution_count": null,
   "metadata": {
    "hidden": true
   },
   "outputs": [],
   "source": [
    "\n",
    "        saveIt = 0\n",
    "        for j,ifile in enumerate(newFiles):\n",
    "            if force is True:\n",
    "                if j % 100 == 0:\n",
    "                    print(\"\\tProcessed {0}/{1} files.\".format(j,len(newFiles)))\n",
    "            artistID = getBaseFilename(ifile)\n",
    "            isKnown  = dbdata.get(artistID)\n",
    "            info   = artistInfo.getData(ifile)\n",
    "\n",
    "            if info.ID.ID != artistID:\n",
    "                print(\"File: {0}\".format(ifile))\n",
    "                print(info.show())\n",
    "                1/0\n",
    "\n",
    "                # Check Profile\n",
    "                try:\n",
    "                    artistName = info.profile.search\n",
    "                    if artistName is not None:\n",
    "                        self.creditToDownload[artistID] = [artistName,self.getArtistSavename(artistID, credit=True)]\n",
    "                except:\n",
    "                    pass\n",
    "\n",
    "                if debug is False:\n",
    "                    continue\n",
    "                print(\"ID From Name: {0}\".format(artistID))\n",
    "                print(\"ID From File: {0}\".format(info.ID.ID))\n",
    "\n",
    "                print(\"File: {0}\".format(ifile))\n",
    "                print(\"Info: {0}\".format(info.url.get()))\n",
    "                continue\n",
    "                #1/0\n",
    "\n",
    "            saveIt += 1\n",
    "            dbdata[artistID] = info\n",
    "\n",
    "               \n",
    "        forceSave = False\n",
    "        if saveIt > 0 and doExtra is True:\n",
    "            print(\"\\tCalling Extra Parsing\")\n",
    "            dbdata = self.parseArtistModValExtraFiles(modVal, dbdata=dbdata, force=force, debug=debug)\n",
    "            forceSave = True\n",
    "            saveIt = len(dbdata)\n",
    "            \n",
    "         \n",
    "        if len(self.creditToDownload) > 0:\n",
    "            print(\"Found {0} artists that need new downloads.\".format(len(self.creditToDownload)))\n",
    "        \n",
    "\n",
    "        if saveIt > 0 or forceSave is True:\n",
    "            savename = setFile(artistDBDir, \"{0}-DB.p\".format(modVal))     \n",
    "            print(\"Saving {0} new artist IDs to {1}\".format(saveIt, savename))\n",
    "            dbNumAlbums = sum([self.getArtistNumAlbums(artistData) for artistData in dbdata.values()])\n",
    "            print(\"Saving {0} total artist media\".format(dbNumAlbums))\n",
    "            saveFile(idata=dbdata, ifile=savename)\n",
    "            \n",
    "            self.createArtistModValMetadata(modVal=modVal, db=dbdata, debug=debug)\n",
    "            self.createArtistAlbumModValMetadata(modVal=modVal, db=dbdata, debug=debug)\n",
    "            \n",
    "        return saveIt\n",
    "    \n",
    "        \n",
    "        \n",
    "        \n",
    "                for j,ifile in enumerate(newFiles):\n",
    "            if force is True:\n",
    "                if j % 100 == 0:\n",
    "                    print(\"\\tProcessed {0}/{1} files.\".format(j,len(newFiles)))\n",
    "            artistID = getBaseFilename(ifile)\n",
    "            isKnown  = dbdata.get(artistID)\n",
    "            info   = artistInfo.getData(ifile)\n",
    "\n",
    "    "
   ]
  },
  {
   "cell_type": "code",
   "execution_count": null,
   "metadata": {
    "hidden": true
   },
   "outputs": [],
   "source": [
    "\n",
    "        \n",
    "        \n",
    "                    \n",
    "\n",
    "        \n",
    "def dbArtistsModValBase:\n",
    "    def __init__(self, debug=False):\n",
    "        self.debug = debug\n",
    "        \n",
    "    def findFiles(self):\n",
    "\n",
    "        \n",
    "    def \n",
    "            if info.ID.ID != artistID:\n",
    "                print(\"File: {0}\".format(ifile))\n",
    "                print(info.show())\n",
    "                1/0\n",
    "\n",
    "                # Check Profile\n",
    "                try:\n",
    "                    artistName = info.profile.search\n",
    "                    if artistName is not None:\n",
    "                        self.creditToDownload[artistID] = [artistName,self.getArtistSavename(artistID, credit=True)]\n",
    "                except:\n",
    "                    pass\n",
    "\n",
    "                if debug is False:\n",
    "                    continue\n",
    "                print(\"ID From Name: {0}\".format(artistID))\n",
    "                print(\"ID From File: {0}\".format(info.ID.ID))\n",
    "\n",
    "                print(\"File: {0}\".format(ifile))\n",
    "                print(\"Info: {0}\".format(info.url.get()))\n",
    "                continue\n",
    "                #1/0\n",
    "\n",
    "            saveIt += 1\n",
    "            dbdata[artistID] = info\n"
   ]
  },
  {
   "cell_type": "code",
   "execution_count": null,
   "metadata": {
    "hidden": true
   },
   "outputs": [],
   "source": [
    "url=\"https://kworb.net/itunes/extended.html\"\n",
    "savename=\"kworb.p\"\n",
    "data, code = downloadURL(url)\n",
    "saveFile(idata=data, ifile=savename)"
   ]
  },
  {
   "cell_type": "code",
   "execution_count": null,
   "metadata": {
    "hidden": true
   },
   "outputs": [],
   "source": [
    "bsdata = getHTML(savename)"
   ]
  },
  {
   "cell_type": "code",
   "execution_count": null,
   "metadata": {
    "hidden": true
   },
   "outputs": [],
   "source": [
    "bsdata"
   ]
  },
  {
   "cell_type": "code",
   "execution_count": null,
   "metadata": {
    "hidden": true
   },
   "outputs": [],
   "source": [
    "url=\"https://kworb.net/itunes/artist/theweeknd.html\"\n",
    "savename=\"kworb_weeknd.p\"\n",
    "data, code = downloadURL(url)\n",
    "saveFile(idata=data, ifile=savename)"
   ]
  },
  {
   "cell_type": "code",
   "execution_count": null,
   "metadata": {
    "hidden": true
   },
   "outputs": [],
   "source": [
    "bsdata = getHTML(savename)"
   ]
  },
  {
   "cell_type": "code",
   "execution_count": null,
   "metadata": {
    "hidden": true
   },
   "outputs": [],
   "source": []
  },
  {
   "cell_type": "code",
   "execution_count": null,
   "metadata": {
    "hidden": true
   },
   "outputs": [],
   "source": []
  },
  {
   "cell_type": "code",
   "execution_count": null,
   "metadata": {
    "hidden": true
   },
   "outputs": [],
   "source": []
  },
  {
   "cell_type": "code",
   "execution_count": null,
   "metadata": {
    "hidden": true
   },
   "outputs": [],
   "source": [
    "ak = artistKWorb()\n",
    "retval = ak.getData(\"kworb_weeknd.p\")\n",
    "retval.show()"
   ]
  },
  {
   "cell_type": "code",
   "execution_count": null,
   "metadata": {
    "hidden": true
   },
   "outputs": [],
   "source": [
    "dp = dbArtistsKWorb()"
   ]
  },
  {
   "cell_type": "code",
   "execution_count": null,
   "metadata": {
    "hidden": true
   },
   "outputs": [],
   "source": [
    "bsdata = getHTML(\"kworb_spotify.p\")"
   ]
  },
  {
   "cell_type": "code",
   "execution_count": null,
   "metadata": {
    "hidden": true
   },
   "outputs": [],
   "source": [
    "from artistDBBase import artistDBBase, artistDBDataClass\n",
    "from artistDBBase import artistDBNameClass, artistDBMetaClass, artistDBIDClass, artistDBURLClass, artistDBURLInfo, artistDBPageClass\n",
    "from artistDBBase import artistDBProfileClass, artistDBMediaClass, artistDBMediaAlbumClass\n",
    "from artistDBBase import artistDBMediaDataClass, artistDBMediaCountsClass\n",
    "from strUtils import fixName\n",
    "from dbUtils import utilsKWorb\n",
    "from webUtils import removeTag\n",
    "\n",
    "\n",
    "class artistKWorb(artistDBBase):\n",
    "    def __init__(self, debug=False):\n",
    "        super().__init__(debug)\n",
    "        self.dbUtils = utilsKWorb()\n",
    "        \n",
    "        \n",
    "    ##############################################################################################################################\n",
    "    ## Parse Data\n",
    "    ##############################################################################################################################\n",
    "    def getData(self, inputdata):\n",
    "        self.getDataBase(inputdata)\n",
    "        self.checkData()\n",
    "        \n",
    "        artist      = self.getName()\n",
    "        meta        = self.getMeta()\n",
    "        url         = self.getURL()\n",
    "        ID          = self.getID(artist)\n",
    "        pages       = self.getPages()\n",
    "        profile     = self.getProfile()\n",
    "        media       = self.getMedia(artist, url)\n",
    "        mediaCounts = self.getMediaCounts(media)\n",
    "        \n",
    "        err = [artist.err, meta.err, url.err, ID.err, pages.err, profile.err, mediaCounts.err, media.err]\n",
    "        \n",
    "        adc = artistDBDataClass(artist=artist, meta=meta, url=url, ID=ID, pages=pages, profile=profile, mediaCounts=mediaCounts, media=media, err=err)\n",
    "        \n",
    "        return adc\n",
    "    \n",
    "    \n",
    "\n",
    "    ##############################################################################################################################\n",
    "    ## Artist Name\n",
    "    ##############################################################################################################################\n",
    "    def getName(self):\n",
    "        #<div class=\"subcontainer\"><span class=\"pagetitle\">The Weeknd | <a href=\"/itunes/\">Back to index</a> | <a href=\"/youtube/artist/theweeknd.html\">YouTube stats</a> | 02/06 19:35 EST</span></div>\n",
    "        span = self.bsdata.find(\"span\", {\"class\": \"pagetitle\"})\n",
    "        if artistData is None:\n",
    "            anc = artistDBNameClass(err=\"NoSpan\")\n",
    "            return anc\n",
    "        \n",
    "        text = span.text.split(\" | \")\n",
    "        artistName = text[0]\n",
    "        anc = artistDBNameClass(name=artistName, err=None)\n",
    "        return anc\n",
    "    \n",
    "    \n",
    "\n",
    "    ##############################################################################################################################\n",
    "    ## Meta Information\n",
    "    ##############################################################################################################################\n",
    "    def getMeta(self):\n",
    "        metatitle = self.bsdata.find(\"meta\", {\"property\": \"og:title\"})\n",
    "        metaurl   = self.bsdata.find(\"meta\", {\"property\": \"og:url\"})\n",
    "\n",
    "        title = None\n",
    "        if metatitle is not None:\n",
    "            title = metatitle.attrs['content']\n",
    "\n",
    "        url = None\n",
    "        if metatitle is not None:\n",
    "            url = metaurl.attrs['content']\n",
    "\n",
    "        amc = artistDBMetaClass(title=title, url=url)\n",
    "        return amc\n",
    "        \n",
    "\n",
    "    ##############################################################################################################################\n",
    "    ## Artist URL\n",
    "    ##############################################################################################################################\n",
    "    def getURL(self):\n",
    "        #<div class=\"subcontainer\"><span class=\"pagetitle\">The Weeknd | <a href=\"/itunes/\">Back to index</a> | <a href=\"/youtube/artist/theweeknd.html\">YouTube stats</a> | 02/06 19:35 EST</span></div>\n",
    "        span = self.bsdata.find(\"span\", {\"class\": \"pagetitle\"})\n",
    "        if artistData is None:\n",
    "            anc = artistDBNameClass(err=\"NoSpan\")\n",
    "            return anc\n",
    "        \n",
    "        ref\n",
    "        text = span.text.split(\" | \")\n",
    "        artistName = text[0]\n",
    "        anc = artistDBNameClass(name=artistName, err=None)\n",
    "        return anc\n",
    "        \n",
    "        artistData = self.bsdata.find(\"meta\", {\"property\": \"og:url\"})\n",
    "        if artistData is None:\n",
    "            auc = artistDBURLClass(err=True)\n",
    "            return auc\n",
    "        \n",
    "        url = artistData.attrs[\"content\"]\n",
    "        if url.find(\"/artist/\") == -1:\n",
    "            url = None\n",
    "            auc = artistDBURLClass(url=url, err=\"NoArtist\")\n",
    "        else:\n",
    "            auc = artistDBURLClass(url=url)\n",
    "\n",
    "        return auc\n",
    "\n",
    "    \n",
    "\n",
    "    ##############################################################################################################################\n",
    "    ## Artist ID\n",
    "    ##############################################################################################################################\n",
    "    def getID(self, artist):\n",
    "        discID = self.dbUtils.getArtistID(artist.name)\n",
    "        discID = None\n",
    "        aic = artistDBIDClass(ID=discID)\n",
    "        return aic\n",
    "\n",
    "\n",
    "    \n",
    "    ##############################################################################################################################\n",
    "    ## Artist Pages\n",
    "    ##############################################################################################################################\n",
    "    def getPages(self):\n",
    "        apc   = artistDBPageClass(ppp=1, tot=1, redo=False, more=False)\n",
    "        return apc\n",
    "    \n",
    "    \n",
    "\n",
    "    ##############################################################################################################################\n",
    "    ## Artist Variations\n",
    "    ##############################################################################################################################\n",
    "    def getProfile(self):\n",
    "        data    = {}\n",
    "        apc = artistDBProfileClass(profile=data.get(\"Formed\"), aliases=data.get(\"Aliases\"),\n",
    "                                 members=data.get(\"Members\"), groups=data.get(\"In Groups\"),\n",
    "                                 sites=data.get(\"Sites\"), variations=data.get(\"Variations\"))\n",
    "        return apc\n",
    "\n",
    "    \n",
    "    \n",
    "    ##############################################################################################################################\n",
    "    ## Artist Media\n",
    "    ##############################################################################################################################\n",
    "    def getMediaAlbum(self, td):\n",
    "        amac = artistDBMediaAlbumClass()\n",
    "        for span in td.findAll(\"span\"):\n",
    "            attrs = span.attrs\n",
    "            if attrs.get(\"class\"):\n",
    "                if 'format' in attrs[\"class\"]:\n",
    "                    albumformat = span.text\n",
    "                    albumformat = albumformat.replace(\"(\", \"\")\n",
    "                    albumformat = albumformat.replace(\")\", \"\")\n",
    "                    amac.format = albumformat\n",
    "                    continue\n",
    "            span.replaceWith(\"\")\n",
    "\n",
    "        ref = td.find(\"a\")\n",
    "        if ref:\n",
    "            amac.url   = ref.attrs['href']\n",
    "            amac.album = ref.text\n",
    "        else:\n",
    "            amac.err = \"NoText\"\n",
    "\n",
    "        return amac\n",
    "    \n",
    "    \n",
    "    def getMedia(self, artist):\n",
    "        amc  = artistDBMediaClass()\n",
    "        \n",
    "        mediaType = \"Albums\"\n",
    "        amc.media[mediaType] = []\n",
    "\n",
    "        for table in self.bsdata.findAll(\"table\"):\n",
    "            trs = table.findAll(\"tr\")\n",
    "            for itr,tr in enumerate(trs):\n",
    "                tds = tr.findAll(\"td\")\n",
    "                for itd,td in enumerate(tds):\n",
    "                    div=td.find(\"div\", {\"class\": \"wrap\"})\n",
    "                    if div is not None:\n",
    "                        name = div.text\n",
    "                        if name.startswith(\"Album: \"):\n",
    "                            mediaType = \"Album\"\n",
    "                            title = name[7:]\n",
    "                        else:\n",
    "                            mediaType = \"Single\"\n",
    "                            title = name\n",
    "                        if media.get(mediaType) is None:\n",
    "                            media[mediaType] = []\n",
    "\n",
    "                        amdc = artistDBMediaDataClass(album=title, url=None, aclass=None, aformat=None, artist=artist, code=None, year=None)\n",
    "                        if amc.media.get(mediaType) is None:\n",
    "                            amc.media[mediaType] = []\n",
    "                        amc.media[mediaType].append(amdc)                            \n",
    "\n",
    "        return amc\n",
    "    \n",
    "    \n",
    "\n",
    "    ##############################################################################################################################\n",
    "    ## Artist Media Counts\n",
    "    ##############################################################################################################################\n",
    "    def getMediaCounts(self, media):\n",
    "        \n",
    "        amcc = artistDBMediaCountsClass()\n",
    "        \n",
    "        credittype = \"Releases\"\n",
    "        if amcc.counts.get(credittype) == None:\n",
    "            amcc.counts[credittype] = {}\n",
    "        for creditsubtype in media.media.keys():\n",
    "            amcc.counts[credittype][creditsubtype] = int(len(media.media[creditsubtype]))\n",
    "            \n",
    "        return amcc"
   ]
  },
  {
   "cell_type": "code",
   "execution_count": null,
   "metadata": {
    "hidden": true
   },
   "outputs": [],
   "source": [
    "#from artistKWorb import artistKWorb\n",
    "from dbUtils import utilsKWorb\n",
    "from dbBase import dbBase\n",
    "import urllib\n",
    "from urllib.parse import quote\n",
    "from webUtils import getHTML\n",
    "from fsUtils import isFile\n",
    "\n",
    "\n",
    "##################################################################################################################\n",
    "# Base Class\n",
    "##################################################################################################################\n",
    "class dbArtistsKWorb:\n",
    "    def __init__(self, debug=False):\n",
    "        self.db     = \"KWorb\"\n",
    "        self.disc   = dbBase(self.db.lower())\n",
    "        self.artist = artistKWorb(self.disc)\n",
    "        self.dutils = utilsKWorb(self.disc)\n",
    "        self.debug  = debug\n",
    "        \n",
    "        self.baseURL   = \"https://www.kworb.com/\"        \n",
    "        self.searchURL = \"https://www.kworb.com/search/\"\n",
    "\n",
    "        \n",
    "        \n",
    "    ##################################################################################################################\n",
    "    # Artist URL\n",
    "    ##################################################################################################################\n",
    "    def getArtistURLCredit(self, artistRef, page=1):\n",
    "        url = \"{0}/credits\".format(artistRef)\n",
    "        return url\n",
    "    \n",
    "    def getArtistURL(self, artistRef, page=1):\n",
    "        url = \"{0}/discography/all\".format(artistRef)\n",
    "        return url\n",
    "        \n",
    "        if artistRef.startswith(\"http\"):\n",
    "            return artistRef\n",
    "        else:\n",
    "            baseURL = self.baseURL\n",
    "            url     = urllib.parse.urljoin(baseURL, quote(artistRef))\n",
    "            return url\n",
    "\n",
    "        if artistRef.startswith(\"/artist/\") is False:\n",
    "            print(\"Artist Ref needs to start with /artist/\")\n",
    "            return None\n",
    "        \n",
    "        baseURL = self.baseURL\n",
    "        url     = urllib.parse.urljoin(baseURL, quote(artistRef))\n",
    "        url     = urllib.parse.urljoin(url, \"?sort=year%2Casc&limit=500\") ## Make sure we get 500 entries)\n",
    "        if isinstance(page, int) and page > 1:\n",
    "            pageURL = \"&page={0}\".format(page)\n",
    "            url = \"{0}{1}\".format(url, pageURL)\n",
    "        return url\n",
    "\n",
    "        \n",
    "    \n",
    "    ##################################################################################################################\n",
    "    #\n",
    "    # Search Functions\n",
    "    #\n",
    "    ##################################################################################################################\n",
    "    def parseSearchArtist(self, artist, data, maxArtists=99, force=False, debug=False):\n",
    "        if data is None:\n",
    "            return None\n",
    "        \n",
    "        ## Parse data\n",
    "        bsdata = getHTML(data)\n",
    "        \n",
    "        artistDB  = {}\n",
    "        \n",
    "        uls = bsdata.findAll(\"ul\", {\"class\": \"search-results\"})\n",
    "        for ul in uls:\n",
    "            lis = ul.findAll(\"li\", {\"class\": \"artist\"})\n",
    "            for li in lis:\n",
    "                divs = li.findAll(\"div\", {\"class\": \"name\"})\n",
    "                for div in divs:\n",
    "                    link     = div.find(\"a\")\n",
    "                    href     = link.attrs['href']\n",
    "                    tooltip  = link.attrs['data-tooltip']\n",
    "                    try:\n",
    "                        from json import loads\n",
    "                        tooltip = loads(tooltip)\n",
    "                        artistID = tooltip['id']\n",
    "                    except:\n",
    "                        artistID = None\n",
    "            \n",
    "                    if artistDB.get(href) is None:\n",
    "                        artistDB[href] = {\"N\": 0, \"Name\": artist}\n",
    "                    artistDB[href][\"N\"] += 1\n",
    "        \n",
    "    \n",
    "        if self.debug:\n",
    "            print(\"Found {0} artists\".format(len(artistDB)))\n",
    "                \n",
    "        iArtist = 0\n",
    "        for href, hrefData in artistDB.items():\n",
    "            iArtist += 1\n",
    "            if iArtist > maxArtists:\n",
    "                break\n",
    "        \n",
    "            discID   = self.dutils.getArtistID(href)\n",
    "            url      = self.getArtistURL(href)\n",
    "            savename = self.dutils.getArtistSavename(discID)\n",
    "\n",
    "            print(iArtist,'/',len(artistDB),'\\t:',discID,'\\t',url)\n",
    "            \n",
    "            if isFile(savename):\n",
    "                if force is False:\n",
    "                    continue\n",
    "\n",
    "            self.dutils.downloadArtistURL(url, savename, force=force)\n",
    "            \n",
    "    \n",
    "    def getSearchArtistURL(self, artist):\n",
    "        baseURL = self.searchURL\n",
    "        url = urllib.parse.urljoin(baseURL, \"{0}{1}\".format(\"artists/\", quote(artist)))                  \n",
    "        return url\n",
    "    \n",
    "        \n",
    "    def searchForArtist(self, artist, maxArtists=99, force=False, debug=False):\n",
    "        print(\"\\n\\n===================== Searching For {0} =====================\".format(artist))\n",
    "        url = self.getSearchArtistURL(artist)\n",
    "        if url is None:\n",
    "            raise ValueError(\"URL is None!\")\n",
    "                    \n",
    "        ## Download data\n",
    "        data, response = self.dutils.downloadURL(url)\n",
    "        if response != 200:\n",
    "            print(\"Error downloading {0}\".format(url))\n",
    "            return False\n",
    "\n",
    "        self.parseSearchArtist(artist, data, maxArtists, force, debug)\n",
    "    \n",
    "        \n",
    "        \n",
    "    ##################################################################################################################\n",
    "    #\n",
    "    # Search Functions (w/ Credit)\n",
    "    #\n",
    "    ##################################################################################################################\n",
    "    def searchForArtistCredit(self, artist, artistID, force=False):\n",
    "        print(\"\\n\\n===================== Searching For {0} , {1} =====================\".format(artist, artistID))\n",
    "        url = self.getSearchArtistURL(artist)\n",
    "        if url is None:\n",
    "            raise ValueError(\"URL is None!\")\n",
    "                    \n",
    "        ## Download data\n",
    "        data, response = self.dutils.downloadURL(url)\n",
    "        if response != 200:\n",
    "            print(\"Error downloading {0}\".format(url))\n",
    "            return False\n",
    "    \n",
    "        self.parseSearchArtistCredit(artist, artistID, data, force)\n",
    "        \n",
    "      \n",
    "    def parseSearchArtistCredit(self, artist, artistID, data, force=False):\n",
    "        if data is None:\n",
    "            return None\n",
    "        \n",
    "        ## Parse data\n",
    "        bsdata = getHTML(data)\n",
    "        \n",
    "        artistDB  = {}\n",
    "        \n",
    "        uls = bsdata.findAll(\"ul\", {\"class\": \"search-results\"})\n",
    "        for ul in uls:\n",
    "            lis = ul.findAll(\"li\", {\"class\": \"artist\"})\n",
    "            for li in lis:\n",
    "                divs = li.findAll(\"div\", {\"class\": \"name\"})\n",
    "                for div in divs:\n",
    "                    link     = div.find(\"a\")\n",
    "                    href     = link.attrs['href']\n",
    "                    tooltip  = link.attrs['data-tooltip']\n",
    "                    try:\n",
    "                        from json import loads\n",
    "                        tooltip = loads(tooltip)\n",
    "                        linkartistID = tooltip['id']\n",
    "                    except:\n",
    "                        linkartistID = None\n",
    "            \n",
    "                    if artistDB.get(href) is None:\n",
    "                        artistDB[href] = {\"N\": 0, \"Name\": artist}\n",
    "                    artistDB[href][\"N\"] += 1\n",
    "        \n",
    "    \n",
    "        if self.debug:\n",
    "            print(\"Found {0} artists\".format(len(artistDB)))\n",
    "                \n",
    "        iArtist = 0\n",
    "        for href, hrefData in artistDB.items():\n",
    "            iArtist += 1\n",
    "        \n",
    "            discID   = self.dutils.getArtistID(href)\n",
    "            if discID != artistID:\n",
    "                continue\n",
    "            url      = self.getArtistURLCredit(href)\n",
    "            savename = self.dutils.getArtistSavename(discID, credit=True)\n",
    "\n",
    "            print(iArtist,'/',len(artistDB),'\\t:',discID,'\\t',url)\n",
    "            \n",
    "            if isFile(savename):\n",
    "                if force is False:\n",
    "                    continue\n",
    "\n",
    "            self.dutils.downloadArtistURL(url, savename, force=force)"
   ]
  },
  {
   "cell_type": "code",
   "execution_count": null,
   "metadata": {
    "hidden": true
   },
   "outputs": [],
   "source": [
    "for table in bsdata.findAll(\"table\"):\n",
    "    for tr in table.findAll(\"tr\"):\n",
    "        ref = tr.find(\"a\")\n",
    "        if ref:\n",
    "            url  = ref.attrs['href']\n",
    "            name = ref.text\n",
    "        print(tr)\n",
    "        for td in tr.findAll(\"td\"):\n",
    "            print(td)\n",
    "            1/0"
   ]
  },
  {
   "cell_type": "code",
   "execution_count": null,
   "metadata": {
    "hidden": true
   },
   "outputs": [],
   "source": []
  },
  {
   "cell_type": "code",
   "execution_count": null,
   "metadata": {
    "hidden": true
   },
   "outputs": [],
   "source": [
    "dbArtists = dbArtistsAllMusic()\n",
    "        dbdata[dbArtists.db] = [dbArtists.disc, dbArtists, dbArtists.artist, dbArtists.dutils]\n"
   ]
  },
  {
   "cell_type": "code",
   "execution_count": null,
   "metadata": {
    "hidden": true
   },
   "outputs": [],
   "source": [
    "from fsUtils import setDir, isDir, mkDir, mkSubDir, setFile, isFile, setSubFile\n",
    "from ioUtils import saveFile, getFile\n",
    "from fileUtils import getBaseFilename\n",
    "from searchUtils import findExt\n",
    "import urllib\n",
    "from datetime import datetime, timedelta\n",
    "\n",
    "\n",
    "\n",
    "\n",
    "class dbArtistsBase():\n",
    "    def __init__(self, db, disc, artist, dutils, basedir=None, debug=False):\n",
    "            \n",
    "        #######################\n",
    "        ## General Imports\n",
    "        #######################\n",
    "        self.db     = db\n",
    "        self.disc   = disc\n",
    "        self.name   = \"artists\"\n",
    "        self.artist = artist\n",
    "        self.dutils = dutils\n",
    "        self.sleeptime=2\n",
    "        self.debug  = debug\n",
    "        \n",
    "        self.getArtistsDir       = self.disc.getArtistsDir\n",
    "        self.getArtistsDBDir     = self.disc.getArtistsDBDir\n",
    "        self.getDiscogDBDir      = self.disc.getDiscogDBDir\n",
    "        \n",
    "        self.prevSearches        = {}\n",
    "        \n",
    "        self.modVal = self.disc.getMaxModVal\n",
    "        \n",
    "        self.creditToDownload = {}\n",
    "        \n",
    "        self.artistIDtoRefData = None\n",
    "            \n",
    "    \n",
    "    ###############################################################################\n",
    "    # Artist Data\n",
    "    ###############################################################################\n",
    "    def getData(self, ifile):\n",
    "        info = self.artist.getData(ifile)\n",
    "        return info\n",
    "    \n",
    "    def getFileData(self, artistID):\n",
    "        ifile = self.getArtistSavename(artistID, 1)\n",
    "        info  = self.getData(ifile)\n",
    "        return info\n",
    "    \n",
    "    \n",
    "    ###############################################################################\n",
    "    # ModVals\n",
    "    ###############################################################################\n",
    "    def getModVals(self):\n",
    "        return self.disc.getModValList()\n",
    "        #return [str(x) for x in range(self.disc.getMaxModVal)]\n",
    "    \n",
    "    def getModValDirs(self):\n",
    "        modVals = self.getModVals()\n",
    "        retval  = [setDir(self.getArtistsDir(), str(modVal)) for modVal in modVals]\n",
    "        return retval\n",
    "    \n",
    "    \n",
    "    ###############################################################################\n",
    "    # Download Information\n",
    "    ###############################################################################\n",
    "    def getArtistURL(self, artistRef, page=1, credit=False, unofficial=False):\n",
    "        raise ValueError(\"Override getArtistURL\")\n",
    "    \n",
    "    def getArtistSavename(self, discID, page=1, credit=False, unofficial=False):\n",
    "        artistDir = self.disc.getArtistsDir()\n",
    "        modValue  = self.dutils.getDiscIDHashMod(discID=discID, modval=self.disc.getMaxModVal())\n",
    "        if modValue is not None:\n",
    "            outdir    = mkSubDir(artistDir, str(modValue))\n",
    "            if isinstance(page, int) and page > 1:\n",
    "                outdir = mkSubDir(outdir, \"extra\")\n",
    "                savename  = setFile(outdir, discID+\"-{0}.p\".format(page))\n",
    "            elif credit is True:\n",
    "                outdir = mkSubDir(outdir, \"credit\")\n",
    "                savename  = setFile(outdir, discID+\".p\")\n",
    "            elif unofficial is True:\n",
    "                outdir = mkSubDir(outdir, \"unofficial\")\n",
    "                savename  = setFile(outdir, discID+\".p\")\n",
    "            else:\n",
    "                savename  = setFile(outdir, discID+\".p\")\n",
    "                \n",
    "            return savename\n",
    "        return None\n",
    "    \n",
    "    \n",
    "    def downloadURL(self, url):\n",
    "        user_agent = 'Mozilla/5.0 (Windows; U; Windows NT 5.1; en-US; rv:1.9.0.7) Gecko/2009021910 Firefox/3.0.7'\n",
    "        headers={'User-Agent':user_agent,} \n",
    "\n",
    "        if self.debug:\n",
    "            print(\"Now Downloading {0}\".format(url))\n",
    "\n",
    "        request=urllib.request.Request(url,None,headers) #The assembled request\n",
    "        response = urllib.request.urlopen(request)\n",
    "        data = response.read() # The data u need\n",
    "        \n",
    "        return data, response.getcode()\n",
    "\n",
    "\n",
    "    def downloadArtistFromID(self, artistID, artistRef, force=False):\n",
    "        if self.debug:\n",
    "            print(\"Downloading Artist Data for ID [{0}] and Ref [{1}]\".format(artistID, artistRef))\n",
    "        url = self.getArtistURL(artistRef)\n",
    "        savename = self.getArtistSavename(artistID)\n",
    "        retval = self.downloadArtistURL(url, savename, force=force)\n",
    "        \n",
    "\n",
    "    ###############################################################################\n",
    "    # Download Functions\n",
    "    ###############################################################################\n",
    "    def downloadArtistURL(self, url, savename, force=False, sleeptime=2):\n",
    "        if isFile(savename):\n",
    "            if self.debug:\n",
    "                print(\"{0} exists.\".format(savename))\n",
    "            if force is False:\n",
    "                return False\n",
    "            else:\n",
    "                print(\"Downloading again.\")\n",
    "                  \n",
    "        ## Download data\n",
    "        data, response = self.downloadURL(url)\n",
    "        if response != 200:\n",
    "            print(\"Error downloading {0}\".format(url))\n",
    "            return False\n",
    "            \n",
    "        print(\"Saving {0} (force={1})\".format(savename, force))\n",
    "        saveFile(idata=data, ifile=savename)\n",
    "        print(\"Done. Sleeping for {0} seconds\".format(sleeptime))\n",
    "        sleep(sleeptime)\n",
    "        \n",
    "        if isFile(savename):\n",
    "            return True\n",
    "        else:\n",
    "            return False\n",
    "    \n",
    "\n",
    "    def downloadArtistCreditURL(self, artistData, debug=False, force=False):\n",
    "        artistRef = artistData.url.url\n",
    "        artistID  = artistData.ID.ID\n",
    "        print(\"Downloading credit URL for ArtistID {0}\".format(artistID))\n",
    "\n",
    "        url      = self.getArtistURL(artistRef, credtit=True)\n",
    "        savename = self.getArtistSavename(artistID, credit=True)\n",
    "        if not isFile(savename) or force is True:\n",
    "            retval = self.downloadArtistURL(url=url, savename=savename, force=force)\n",
    "            return retval\n",
    "        return False\n",
    "    \n",
    "\n",
    "    def downloadArtistUnofficialURL(self, artistData, debug=False, force=False):\n",
    "        artistRef = artistData.url.url\n",
    "        artistID  = artistData.ID.ID\n",
    "        print(\"Downloading credit URL for ArtistID {0}\".format(artistID))\n",
    "\n",
    "        url      = self.getArtistURL(artistRef, unofficial=True)\n",
    "        savename = self.getArtistSavename(artistID, unofficial=True)\n",
    "        if not isFile(savename) or force is True:\n",
    "            retval = self.downloadArtistURL(url=url, savename=savename, force=force)\n",
    "            return retval\n",
    "        return False\n",
    "            \n",
    "    \n",
    "\n",
    "    def downloadArtistExtraURL(self, artistData, debug=False, force=False):\n",
    "        newPages = 0\n",
    "        pages = artistData.pages\n",
    "        if pages.more is True:\n",
    "            npages = pages.pages\n",
    "            artistRef = artistData.url.url\n",
    "            artistID  = artistData.ID.ID\n",
    "            print(\"Downloading an additional {0} URLs for ArtistID {1}\".format(npages-1, artistID))\n",
    "\n",
    "            for p in range(2, npages+1):\n",
    "                url      = self.getArtistURL(artistRef, p)\n",
    "                savename = self.getArtistSavename(artistID, p)\n",
    "                if not isFile(savename) or force is True:\n",
    "                    self.downloadArtistURL(url=url, savename=savename, force=True, debug=True)\n",
    "                    newPages += 1\n",
    "                    \n",
    "        return newPages\n",
    "\n",
    "            \n",
    "    ################################################################################\n",
    "    # Search For Artist\n",
    "    ################################################################################\n",
    "    def searchForArtist(self, artist):\n",
    "        raise ValueError(\"Override searchForArtist\")\n",
    "        \n",
    "\n",
    "    ################################################################################\n",
    "    # Parse Artist Data\n",
    "    ################################################################################\n",
    "    def getArtistNumAlbums(self, artistData):\n",
    "        numAlbums = sum([len(x) for x in artistData.media.media.values()])\n",
    "        return numAlbums\n",
    "    \n",
    "    \n",
    "    def parseArtistFile(ifile):\n",
    "        bsdata     = getHTML(get(ifile))\n",
    "        artistData = self.parse(bsdata) \n",
    "        return artistData\n",
    "    \n",
    "    \n",
    "    \n",
    "    def parseArtistModValCreditFiles(self, modVal, dbdata=None, debug=False, force=False):\n",
    "        print(\"\\t\",\"=\"*100)\n",
    "        print(\"\\t\",\"Parsing Artist Credit Files For ModVal {0}\".format(modVal))\n",
    "        artistInfo = self.artist\n",
    "\n",
    "        artistDir = self.disc.getArtistsDir()\n",
    "        maxModVal = self.disc.getMaxModVal()\n",
    "                    \n",
    "        artistDBDir = self.disc.getArtistsDBDir()        \n",
    "        \n",
    "        dirVal = setDir(artistDir, str(modVal))\n",
    "        dirVal = setDir(dirVal, \"credit\")\n",
    "        files  = findExt(dirVal, ext='.p')\n",
    "        \n",
    "        if len(files) == 0:\n",
    "            return dbdata\n",
    "        print(\"\\t\",\"  Found {0} credit files for ModVal {1}\".format(len(files), modVal))\n",
    "\n",
    "        dbname = setFile(artistDBDir, \"{0}-DB.p\".format(modVal))\n",
    "        retdbdata = False\n",
    "\n",
    "        if dbdata is None:\n",
    "            print(\"\\t\",\"  Loaded \", end=\"\")\n",
    "            dbdata = getFile(dbname, version=3)\n",
    "            print(\"\\t\",\"{0} artist IDs.\".format(len(dbdata)))\n",
    "        else:\n",
    "            retdbdata = True\n",
    "\n",
    "        saveIt = 0\n",
    "        \n",
    "        nArtistMedia = {}\n",
    "        print(\"\\t\",\"{0} artist IDs.\".format(len(dbdata)))\n",
    "        \n",
    "        for j,ifile in enumerate(files):\n",
    "            if force is True:\n",
    "                if j % 500 == 0:\n",
    "                    print(\"\\t\",\"\\tProcessed {0}/{1} files.\".format(j,len(files)))\n",
    "            if debug:\n",
    "                print(\"\\t\",\"{0}/{1} -- {2}.\".format(j,len(files),ifile))\n",
    "            \n",
    "            info     = artistInfo.getData(ifile)\n",
    "            artistID = info.ID.ID\n",
    "            \n",
    "            #currentMedia = sum([len(x) for x in dbdata[artistID].media.media.values()])\n",
    "            #print(artistID,'\\t',sum([len(x) for x in dbdata[artistID].media.media.values()]),end=\"\\t\")\n",
    "\n",
    "            currentKeys = []\n",
    "            if dbdata.get(artistID) is not None:\n",
    "                currentKeys = list(dbdata[artistID].media.media.keys())\n",
    "            else:\n",
    "                dbdata[artistID] = info\n",
    "                saveIt += 1\n",
    "                continue\n",
    "            \n",
    "            keys = list(set(list(info.media.media.keys()) + currentKeys))\n",
    "            for k in keys:\n",
    "                v = info.media.media.get(k)\n",
    "                if v is None:\n",
    "                    continue\n",
    "                iVal  = {v2.code: v2 for v2 in v}\n",
    "                dVal  = dbdata[artistID].media.media.get(k)\n",
    "                if dVal is None:\n",
    "                    Tretval = iVal\n",
    "                    saveIt += len(iVal)\n",
    "                else:\n",
    "                    Tretval = {v2.code: v2 for v2 in dVal}\n",
    "                    Tretval.update(iVal)\n",
    "                    saveIt += len(iVal)\n",
    "                dbdata[artistID].media.media[k] = list(Tretval.values())\n",
    "                \n",
    "            if debug:\n",
    "                print(\"\\t\",\"File:\",j,\" \\tArtist:\",artistID,'-->',currentMedia,'to',sum([len(x) for x in dbdata[artistID].media.media.values()]))\n",
    "\n",
    "                \n",
    "        if retdbdata is True:\n",
    "            return dbdata\n",
    "        #if saveAll is False:\n",
    "        #    return saveIt\n",
    "                \n",
    "                \n",
    "        if saveIt > 0:\n",
    "            savename = setFile(artistDBDir, \"{0}-DB.p\".format(modVal))\n",
    "            print(\"\\t\",\"Saving {0} artists to {1}\".format(len(dbdata), savename))\n",
    "            print(\"\\t\",\"Saving {0} new (credit) artist media to {1}\".format(saveIt, savename))\n",
    "            dbNumAlbums = sum([self.getArtistNumAlbums(artistData) for artistData in dbdata.values()])\n",
    "            print(\"\\t\",\"Saving {0} total (credit) artist media\".format(dbNumAlbums))\n",
    "            saveFile(idata=dbdata, ifile=savename)\n",
    "            \n",
    "            self.createArtistModValMetadata(modVal=modVal, db=dbdata, debug=debug)\n",
    "            self.createArtistAlbumModValMetadata(modVal=modVal, db=dbdata, debug=debug)\n",
    "            \n",
    "        return saveIt\n",
    "\n",
    "    \n",
    "    \n",
    "    ###########################################################################################################################\n",
    "    ##\n",
    "    ## Extra ModVal Files\n",
    "    ##\n",
    "    ###########################################################################################################################\n",
    "    def getArtistModValExtraFiles(self, modVal, previousDays=5, force=False):\n",
    "        artistDir = self.disc.getArtistsDir()\n",
    "        maxModVal = self.disc.getMaxModVal()\n",
    "                    \n",
    "        artistDBDir = self.disc.getArtistsDBDir()        \n",
    "        \n",
    "        dirVal = setDir(artistDir, str(modVal))\n",
    "        dirVal = setDir(dirVal, \"extra\")\n",
    "        files  = findExt(dirVal, ext='.p')\n",
    "        dbname = setFile(artistDBDir, \"{0}-DB.p\".format(modVal))\n",
    "        \n",
    "        now    = datetime.now()\n",
    "        newFiles = None\n",
    "        if lastModified is None:\n",
    "            newFiles = files\n",
    "            print(\"  ===> Parsing all {0} extra files for modval {1}\".format(len(newFiles), modVal))\n",
    "        else:\n",
    "            numFiles = [ifile for ifile in files if (now-datetime.fromtimestamp(path.getmtime(ifile))).days < previousDays]\n",
    "            print(\"  ===> Found new {0} extra files (< {1} days) to parse for modval {2}\".format(len(newFiles), previousDays, modVal))\n",
    "        return newFiles\n",
    "    \n",
    "    \n",
    "    \n",
    "    def parseArtistModValExtraFiles(self, modVal, dbdata=None, debug=False, force=False):\n",
    "        print(\"\\t\",\"=\"*100)\n",
    "        print(\"\\t\",\"Parsing Artist Extra Files For ModVal {0}\".format(modVal))\n",
    "        artistInfo = self.artist\n",
    "\n",
    "        newFiles = self.getArtistModValExtraFiles(modVal, previousDays=previousDays, force=force)\n",
    "        \n",
    "        if len(newFiles) == 0:\n",
    "            return dbdata\n",
    "        print(\"\\t\",\"  Found {0} extra files for ModVal {1}\".format(len(newFiles), modVal))\n",
    "\n",
    "        dbname = setFile(artistDBDir, \"{0}-DB.p\".format(modVal))\n",
    "        retdbdata = False\n",
    "\n",
    "        if force is False:\n",
    "            if dbdata is None:\n",
    "                print(\"\\t\",\"  Loaded \", end=\"\")\n",
    "                dbdata = getFile(dbname, version=3)\n",
    "                print(\"\\t\",\"{0} artist IDs.\".format(len(dbdata)))\n",
    "            else:\n",
    "                retdbdata = True\n",
    "        else:\n",
    "            print(\"\\t\",\"Forcing Reloads of ModVal={0}\".format(modVal))\n",
    "            print(\"\\t\",\"  Processing {0} files.\".format(len(files)))\n",
    "            dbdata = {}\n",
    "\n",
    "        saveIt = 0\n",
    "        \n",
    "        nArtistMedia = {}\n",
    "        print(\"\\t\",\"{0} artist IDs.\".format(len(dbdata)))\n",
    "\n",
    "        \n",
    "        \n",
    "        for j,ifile in enumerate(newFiles):\n",
    "            if force is True:\n",
    "                if j % 50 == 0:\n",
    "                    print(\"\\t\",\"\\tProcessed {0}/{1} files.\".format(j,len(newFiles)))\n",
    "            if debug:\n",
    "                print(\"\\t\",\"{0}/{1} -- {2}.\".format(j,len(newFiles),ifile))\n",
    "            \n",
    "            info     = artistInfo.getData(ifile)\n",
    "            artistID = info.ID.ID\n",
    "            \n",
    "            currentMedia = sum([len(x) for x in dbdata[artistID].media.media.values()])\n",
    "            #print(artistID,'\\t',sum([len(x) for x in dbdata[artistID].media.media.values()]),end=\"\\t\")\n",
    "\n",
    "            keys = list(set(list(info.media.media.keys()) + list(dbdata[artistID].media.media.keys())))\n",
    "            for k in keys:\n",
    "                v = info.media.media.get(k)\n",
    "                if v is None:\n",
    "                    continue\n",
    "                iVal  = {v2.code: v2 for v2 in v}\n",
    "                dVal  = dbdata[artistID].media.media.get(k)\n",
    "                if dVal is None:\n",
    "                    Tretval = iVal\n",
    "                    saveIt += len(iVal)\n",
    "                else:\n",
    "                    Tretval = {v2.code: v2 for v2 in dVal}\n",
    "                    Tretval.update(iVal)\n",
    "                    saveIt += len(iVal)\n",
    "                dbdata[artistID].media.media[k] = list(Tretval.values())\n",
    "                \n",
    "            if debug:\n",
    "                print(\"\\t\",\"File:\",j,\" \\tArtist:\",artistID,'-->',currentMedia,'to',sum([len(x) for x in dbdata[artistID].media.media.values()]))\n",
    "\n",
    "                \n",
    "        if retdbdata is True:\n",
    "            return dbdata\n",
    "        #if saveAll is False:\n",
    "        #    return saveIt\n",
    "                \n",
    "                \n",
    "        if saveIt > 0:\n",
    "            savename = setFile(artistDBDir, \"{0}-DB.p\".format(modVal))     \n",
    "            print(\"\\t\",\"Saving {0} new (extra) artist media to {1}\".format(saveIt, savename))\n",
    "            dbNumAlbums = sum([self.getArtistNumAlbums(artistData) for artistData in dbdata.values()])\n",
    "            print(\"\\t\",\"Saving {0} total (extra) artist media\".format(dbNumAlbums))\n",
    "            saveFile(idata=dbdata, ifile=savename)\n",
    "            \n",
    "            self.createArtistModValMetadata(modVal=modVal, db=dbdata, debug=debug)\n",
    "            self.createArtistAlbumModValMetadata(modVal=modVal, db=dbdata, debug=debug)\n",
    "            \n",
    "        return saveIt\n",
    "\n",
    "    \n",
    "    \n",
    "    ###########################################################################################################################\n",
    "    ##\n",
    "    ## Regular ModVal Files\n",
    "    ##\n",
    "    ###########################################################################################################################\n",
    "    def getArtistModValFiles(self, modVal, previousDays=5, force=False):\n",
    "        artistDir = self.disc.getArtistsDir()\n",
    "        maxModVal = self.disc.getMaxModVal()\n",
    "                    \n",
    "        artistDBDir = self.disc.getArtistsDBDir()        \n",
    "        \n",
    "        dirVal = setDir(artistDir, str(modVal))\n",
    "        files  = findExt(dirVal, ext='.p')\n",
    "        dbname = setFile(artistDBDir, \"{0}-DB.p\".format(modVal))\n",
    "        \n",
    "        now    = datetime.now()\n",
    "        if isFile(dbname):\n",
    "            lastModified = datetime.fromtimestamp(path.getmtime(dbname))\n",
    "            if force is True:\n",
    "                lastModified = None\n",
    "        else:\n",
    "            lastModified = None\n",
    "\n",
    "        newFiles = None\n",
    "        if lastModified is None:\n",
    "            newFiles = files\n",
    "            print(\"  ===> Parsing all {0} files for modval {1}\".format(len(newFiles), modVal))\n",
    "        else:\n",
    "            numNew    = [ifile for ifile in files if (now-datetime.fromtimestamp(path.getmtime(ifile))).days < previousDays]\n",
    "            numRecent = [ifile for ifile in files if datetime.fromtimestamp(path.getmtime(ifile)) > lastModified]\n",
    "            newFiles  = list(set(numNew).union(set(numRecent)))\n",
    "            print(\"  ===> Found new {0} files (< {1} days) to parse for modval {2}\".format(len(newFiles), previousDays, modVal))\n",
    "        return newFiles\n",
    "            \n",
    "    \n",
    "    def parseArtistModValFiles(self, modVal, previousDays=5, force=False, debug=False, doExtra=False):        \n",
    "        print(\"-\"*100)\n",
    "        print(\"Parsing Artist Files For ModVal {0}\".format(modVal))\n",
    "        artistInfo = self.artist\n",
    "\n",
    "        artistDir = self.disc.getArtistsDir()\n",
    "        maxModVal = self.disc.getMaxModVal()\n",
    "                    \n",
    "        artistDBDir = self.disc.getArtistsDBDir()        \n",
    "        \n",
    "        dirVal = setDir(artistDir, str(modVal))\n",
    "        dbname = setFile(artistDBDir, \"{0}-DB.p\".format(modVal))\n",
    "\n",
    "        \n",
    "        newFiles = self.getArtistModValFiles(modVal, previousDays=previousDays, force=force)\n",
    "        if force is False:\n",
    "            dbdata = getFile(dbname, version=3)\n",
    "        else:\n",
    "            print(\"Forcing Reloads of ModVal={0}\".format(modVal))\n",
    "            print(\"  Processing {0} files.\".format(len(newFiles)))\n",
    "            dbdata = {}\n",
    " \n",
    "        saveIt = 0\n",
    "        for j,ifile in enumerate(newFiles):\n",
    "            if force is True:\n",
    "                if j % 100 == 0:\n",
    "                    print(\"\\tProcessed {0}/{1} files.\".format(j,len(newFiles)))\n",
    "            artistID = getBaseFilename(ifile)\n",
    "            isKnown  = dbdata.get(artistID)\n",
    "            info   = artistInfo.getData(ifile)\n",
    "\n",
    "            if info.ID.ID != artistID:\n",
    "                print(\"File: {0}\".format(ifile))\n",
    "                print(info.show())\n",
    "                1/0\n",
    "\n",
    "                # Check Profile\n",
    "                try:\n",
    "                    artistName = info.profile.search\n",
    "                    if artistName is not None:\n",
    "                        self.creditToDownload[artistID] = [artistName,self.getArtistSavename(artistID, credit=True)]\n",
    "                except:\n",
    "                    pass\n",
    "\n",
    "                if debug is False:\n",
    "                    continue\n",
    "                print(\"ID From Name: {0}\".format(artistID))\n",
    "                print(\"ID From File: {0}\".format(info.ID.ID))\n",
    "\n",
    "                print(\"File: {0}\".format(ifile))\n",
    "                print(\"Info: {0}\".format(info.url.get()))\n",
    "                continue\n",
    "                #1/0\n",
    "\n",
    "            saveIt += 1\n",
    "            dbdata[artistID] = info\n",
    "\n",
    "               \n",
    "        forceSave = False\n",
    "        if saveIt > 0 and doExtra is True:\n",
    "            print(\"\\tCalling Extra Parsing\")\n",
    "            dbdata = self.parseArtistModValExtraFiles(modVal, dbdata=dbdata, force=force, debug=debug)\n",
    "            forceSave = True\n",
    "            saveIt = len(dbdata)\n",
    "            \n",
    "         \n",
    "        if len(self.creditToDownload) > 0:\n",
    "            print(\"Found {0} artists that need new downloads.\".format(len(self.creditToDownload)))\n",
    "        \n",
    "\n",
    "        if saveIt > 0 or forceSave is True:\n",
    "            savename = setFile(artistDBDir, \"{0}-DB.p\".format(modVal))     \n",
    "            print(\"Saving {0} new artist IDs to {1}\".format(saveIt, savename))\n",
    "            dbNumAlbums = sum([self.getArtistNumAlbums(artistData) for artistData in dbdata.values()])\n",
    "            print(\"Saving {0} total artist media\".format(dbNumAlbums))\n",
    "            saveFile(idata=dbdata, ifile=savename)\n",
    "            \n",
    "            self.createArtistModValMetadata(modVal=modVal, db=dbdata, debug=debug)\n",
    "            self.createArtistAlbumModValMetadata(modVal=modVal, db=dbdata, debug=debug)\n",
    "            \n",
    "        return saveIt\n",
    "    \n",
    "\n",
    "    def parseArtistFiles(self, force=False, debug=False):           \n",
    "        totalSaves = 0\n",
    "        maxModVal  = self.disc.getMaxModVal()\n",
    "        for modVal in range(maxModVal):\n",
    "            saveIt = self.parseArtistModValFiles(modVal, force=force, debug=debug)\n",
    "            totalSaves += saveIt\n",
    "            \n",
    "        print(\"Saved {0} new artist IDs\".format(totalSaves)) \n",
    "\n",
    "    def parseArtistMetadataFiles(self, debug=False):   \n",
    "        artistDBDir = self.disc.getArtistsDBDir()   \n",
    "        maxModVal   = self.disc.getMaxModVal()\n",
    "        for modVal in range(maxModVal):\n",
    "            savename = setFile(artistDBDir, \"{0}-DB.p\".format(modVal))     \n",
    "            dbdata   = getFile(savename)\n",
    "            self.createArtistModValMetadata(modVal=modVal, db=dbdata, debug=debug)\n",
    "            self.createArtistAlbumModValMetadata(modVal=modVal, db=dbdata, debug=debug)\n",
    "                 \n",
    "        \n",
    "        \n",
    "    \n",
    "    ################################################################################\n",
    "    # Check ArtistDB Files\n",
    "    ################################################################################ \n",
    "    def rmIDFiles(self, artistID):\n",
    "        print(\"Removing files artistID {0}\".format(artistID))\n",
    "        savename = self.getArtistSavename(artistID)\n",
    "        if isFile(savename):\n",
    "            files = [savename]\n",
    "        else:\n",
    "            files = []\n",
    "        from glob import glob\n",
    "        from os.path import join\n",
    "        from fileUtils import getDirname\n",
    "        files += glob(join(getDirname(savename), \"extra\", \"{0}-*.p\".format(artistID)))\n",
    "        print(\"Found {0} files to delete.\".format(len(files)))\n",
    "        from fsUtils import removeFile\n",
    "        for ifile in files:\n",
    "            removeFile(ifile)\n",
    "            print(\"Removed File {0}\".format(ifile))\n",
    "\n",
    "                \n",
    "    def rmIDsFromDBs(self, artistIDs, modValue=None):\n",
    "        modvals = {}\n",
    "        for artistID in artistIDs:\n",
    "            modValue  = self.dutils.getDiscIDHashMod(discID=artistID, modval=self.disc.getMaxModVal())\n",
    "            if modvals.get(modValue) is None:\n",
    "                modvals[modValue] = []\n",
    "            modvals[modValue].append(artistID)\n",
    "            \n",
    "        for modval in modvals.keys():\n",
    "            dbdata = self.disc.getArtistsDBModValData(modval)\n",
    "            for artistID in modvals[modval]:\n",
    "                try:\n",
    "                    del dbdata[artistID]\n",
    "                    print(\"  Removed ArtistID {0}\".format(artistID))\n",
    "                except:\n",
    "                    print(\"  Could not remove ArtistID {0}\".format(artistID))\n",
    "                    \n",
    "            self.disc.saveArtistsDBModValData(modval, dbdata)\n",
    "                \n",
    "\n",
    "\n",
    "    def rmIDFromDB(self, artistID, modValue=None):\n",
    "        print(\"Trying to remove data from ArtistID {0}\".format(artistID))\n",
    "        if modValue is None:\n",
    "            modValue  = self.dutils.getDiscIDHashMod(discID=artistID, modval=self.disc.getMaxModVal())\n",
    "        artistDBDir = self.disc.getArtistsDBDir()\n",
    "        dbname  = setFile(artistDBDir, \"{0}-DB.p\".format(modValue))     \n",
    "        print(\"Loading {0}\".format(dbname))\n",
    "        dbdata  = getFile(dbname)\n",
    "        \n",
    "        saveVal = False\n",
    "\n",
    "        if isinstance(artistID, str):\n",
    "            artistID = [artistID]\n",
    "        elif not isinstance(artistID, list):\n",
    "            raise ValueError(\"Not sure what to do with {0}\".format(artistID))\n",
    "            \n",
    "        for ID in artistID:\n",
    "            try:\n",
    "                del dbdata[ID]\n",
    "                print(\"Deleted {0}\".format(ID))\n",
    "                saveVal = True\n",
    "            except:\n",
    "                print(\"Not there...\")\n",
    "\n",
    "            self.rmIDFiles(ID)\n",
    "\n",
    "        if saveVal:\n",
    "            print(\"Saving {0}\".format(dbname))\n",
    "            saveFile(idata=dbdata, ifile=dbname)\n",
    "        else:\n",
    "            print(\"No reason to save {0}\".format(dbname))\n",
    "\n",
    "\n",
    "            \n",
    "    def assertDBModValUnofficialData(self, modVal, test=False):\n",
    "        print(\"assertDBModValUnofficialData({0}, test={1})\".format(modVal, test))\n",
    "        artistDBDir = self.disc.getArtistsDBDir()\n",
    "        dbdata  = self.disc.getArtistsDBModValData(modVal)\n",
    "        nerrs   = 0\n",
    "        \n",
    "        for artistID,artistData in dbdata.items():\n",
    "            mediaCounts = artistData.mediaCounts.counts\n",
    "            if mediaCounts.get(\"Unofficial\") is not None:\n",
    "                artistRef = artistData.url.url\n",
    "                url      = self.getArtistURL(artistRef, unofficial=True)\n",
    "                savename = self.getArtistSavename(artistID, unofficial=True)\n",
    "                if test is True:\n",
    "                    print(\"Download Unofficial: {0} \\t\".format(artistID),end=\"\")\n",
    "                if not isFile(savename):\n",
    "                    if test is True:\n",
    "                        print(\"{0} --> {1}\".format(url,savename))\n",
    "                        continue\n",
    "                    self.downloadArtistURL(url=url, savename=savename, force=False)\n",
    "                    sleep(2)\n",
    "                else:\n",
    "                    print(\"Known\")\n",
    "\n",
    "\n",
    "            \n",
    "    def assertDBModValCreditData(self, modVal, test=False):\n",
    "        print(\"assertDBModValCreditData({0}, test={1})\".format(modVal, test))\n",
    "        artistDBDir = self.disc.getArtistsDBDir()\n",
    "        dbdata  = self.disc.getArtistsDBModValData(modVal)\n",
    "        nerrs   = 0\n",
    "        \n",
    "        for artistID,artistData in dbdata.items():\n",
    "            mediaCounts = artistData.mediaCounts.counts\n",
    "            if mediaCounts.get(\"Credits\") is not None:\n",
    "                artistRef = artistData.url.url\n",
    "                url      = self.getArtistURL(artistRef, credit=True)\n",
    "                savename = self.getArtistSavename(artistID, credit=True)\n",
    "                if test is True:\n",
    "                    print(\"Download Credit: {0} \\t\".format(artistID),end=\"\")\n",
    "                if not isFile(savename):\n",
    "                    if test is True:\n",
    "                        print(\"{0} --> {1}\".format(url,savename))\n",
    "                        continue\n",
    "                    self.downloadArtistURL(url=url, savename=savename, force=False)\n",
    "                    sleep(2)\n",
    "                else:\n",
    "                    print(\"Known\")\n",
    "                \n",
    "    \n",
    "    def assertDBModValExtraData(self, modVal, test=False):\n",
    "        print(\"assertDBModValExtraData({0}, test={1})\".format(modVal, test))\n",
    "        artistDBDir = self.disc.getArtistsDBDir()\n",
    "        dbdata  = self.disc.getArtistsDBModValData(modVal)\n",
    "        nerrs   = 0\n",
    "        \n",
    "        for artistID,artistData in dbdata.items():\n",
    "            pages = artistData.pages\n",
    "            if pages.more is True:\n",
    "                npages = pages.pages\n",
    "                artistRef = artistData.url.url\n",
    "                for p in range(2, npages+1):\n",
    "                    url      = self.getArtistURL(artistRef, p)\n",
    "                    savename = self.getArtistSavename(artistID, p)\n",
    "                    if test is True:\n",
    "                        print(\"Download Extra: {0} \\t\".format(artistID),end=\"\")\n",
    "                    if not isFile(savename):\n",
    "                        if test is True:\n",
    "                            print(\"{0} --> {1}\".format(url,savename))\n",
    "                            continue\n",
    "                        self.downloadArtistURL(url=url, savename=savename, force=True, debug=True)\n",
    "                        sleep(2)\n",
    "                    else:\n",
    "                        print(\"Known\")\n",
    "                        \n",
    "            \n",
    "    def assertDBModValData(self, modVal):\n",
    "        \n",
    "        artistDBDir = self.disc.getArtistsDBDir()\n",
    "        dbname  = setFile(artistDBDir, \"{0}-DB.p\".format(modVal))     \n",
    "        dbdata  = getFile(dbname)\n",
    "        nerrs = 0\n",
    "        \n",
    "        if self.artistIDtoRefData is None:\n",
    "            self.artistIDtoRefData = self.disc.getArtistIDToRefData()\n",
    "        \n",
    "        dels = []\n",
    "        for artistID,artistData in dbdata.items():\n",
    "            pages = artistData.pages\n",
    "            if pages.redo is True and False:\n",
    "                artistRef = artistData.url.url\n",
    "                url       = self.getArtistURL(artistRef, 1)\n",
    "                savename  = self.getArtistSavename(artistID, 1)\n",
    "                self.downloadArtistURL(url=url, savename=savename, force=True, debug=True)\n",
    "\n",
    "            ID = artistData.ID.ID\n",
    "            if ID != artistID:\n",
    "\n",
    "                nerrs += 1\n",
    "\n",
    "                if \"-\" in artistID:\n",
    "                    print(\"Extra file: {0}\".format(artistID))\n",
    "                    continue\n",
    "                else:\n",
    "                    dels.append(artistID)\n",
    "                    \n",
    "                    rmsavename = self.getArtistSavename(artistID)\n",
    "\n",
    "\n",
    "                    ## ID = artistID                    \n",
    "                    refRef      = self.artistIDtoRefData.get(artistID)\n",
    "                    if refRef is None:\n",
    "                        raise ValueError(\"Ref for ID [{0}] is None!\".format(artistID))\n",
    "                    else:\n",
    "                        print(\"ArtistRef:\",refRef)\n",
    "                        urlRef         = self.getArtistURL(refRef)\n",
    "                        savenameArtRef = self.getArtistSavename(artistID)\n",
    "\n",
    "\n",
    "                    ## ID = info.ID.ID\n",
    "                    try:\n",
    "                        info  = self.getFileData(artistID)\n",
    "                    except:\n",
    "                        info  = None\n",
    "\n",
    "                    if info is not None:\n",
    "                        try:\n",
    "                            refIDID      = artistIDtoRefData[info.ID.ID]\n",
    "                        except:\n",
    "                            refIDID      = info.url.url\n",
    "                        print(\"ArtistID: \",refIDID)\n",
    "                        urlIDID      = self.getArtistURL(refIDID)\n",
    "                        savenameIDID = self.getArtistSavename(info.ID.ID)\n",
    "                    else:\n",
    "                        refIDID      = None\n",
    "                        urlIDID      = None\n",
    "                        savenameIDID = None\n",
    "\n",
    "                        \n",
    "                    if isFile(rmsavename):\n",
    "                        removeFile(rmsavename)\n",
    "\n",
    "\n",
    "                    if isFile(savenameArtRef):\n",
    "                        removeFile(savenameArtRef)\n",
    "                        self.downloadArtistURL(url=urlRef, savename=savenameArtRef, force=True, debug=True)\n",
    "\n",
    "                    if savenameArtRef != savenameIDID:\n",
    "                        if isFile(savenameIDID):\n",
    "                            removeFile(savenameIDID)\n",
    "                            self.downloadArtistURL(url=urlIDID, savename=savenameIDID, force=True, debug=True)\n",
    "\n",
    "\n",
    "                    #print(rmsavename,'\\t',savenameArtID,'\\t',savenameIDID)        \n",
    "        \n",
    "        print(\"Found {0} errors with modVal {1}\".format(nerrs, modVal))\n",
    "        \n",
    "        dbname  = setFile(artistDBDir, \"{0}-DB.p\".format(modVal))\n",
    "        print(\"Found {0} artist IDs in {1}\".format(len(dbdata), dbname))\n",
    "        \n",
    "        for artistID in dels:\n",
    "            print(\"Deleting {0}\".format(artistID))\n",
    "            try:\n",
    "                del dbdata[artistID]\n",
    "            except:\n",
    "                continue\n",
    "            \n",
    "        if len(dels) > 0:\n",
    "            savename = setFile(artistDBDir, \"{0}-DB.p\".format(modVal))     \n",
    "            print(\"Saving {0} artist IDs to {1}\".format(len(dbdata), savename))\n",
    "            saveFile(idata=dbdata, ifile=savename)\n",
    "        \n",
    "        \n",
    "    \n",
    "    ################################################################################\n",
    "    # Collect Metadata About Artists (4)\n",
    "    ################################################################################\n",
    "    def createArtistModValMetadata(self, modVal, db=None, debug=False):\n",
    "        if db is None:\n",
    "            db = self.disc.getArtistsDBModValData(modVal)\n",
    "    \n",
    "        artistIDMetadata = {k: [v.artist.name, v.url.url] for k,v in db.items()}\n",
    "        \n",
    "        for artistID,artistData in db.items():\n",
    "            if artistData.profile.variations is not None:\n",
    "                artistIDMetadata[artistID].append([v2.name for v2 in artistData.profile.variations])\n",
    "            else:\n",
    "                artistIDMetadata[artistID].append([artistData.artist.name])\n",
    "        \n",
    "        artistDBDir = self.disc.getArtistsDBDir()     \n",
    "        savename    = setSubFile(artistDBDir, \"metadata\", \"{0}-Metadata.p\".format(modVal))\n",
    "        \n",
    "        print(\"Saving {0} new artist IDs name data to {1}\".format(len(artistIDMetadata), savename))\n",
    "        saveFile(idata=artistIDMetadata, ifile=savename)\n",
    "        \n",
    "        \n",
    "    def createArtistAlbumModValMetadata(self, modVal, db=None, debug=False):\n",
    "        if db is None:\n",
    "            db = self.disc.getArtistsDBModValData(modVal)\n",
    "        \n",
    "        artistIDMetadata = {}\n",
    "        for artistID,artistData in db.items():\n",
    "            artistIDMetadata[artistID] = {}\n",
    "            for mediaName,mediaData in artistData.media.media.items():\n",
    "                albumURLs  = {mediaValues.code: mediaValues.url for mediaValues in mediaData}\n",
    "                albumNames = {mediaValues.code: mediaValues.album for mediaValues in mediaData}\n",
    "                artistIDMetadata[artistID][mediaName] = [albumNames, albumURLs]\n",
    "        \n",
    "        artistDBDir = self.disc.getArtistsDBDir()     \n",
    "        savename    = setSubFile(artistDBDir, \"metadata\", \"{0}-MediaMetadata.p\".format(modVal))\n",
    "        \n",
    "        print(\"Saving {0} new artist IDs media data to {1}\".format(len(artistIDMetadata), savename))\n",
    "        saveFile(idata=artistIDMetadata, ifile=savename)"
   ]
  },
  {
   "cell_type": "markdown",
   "metadata": {
    "heading_collapsed": true
   },
   "source": [
    "# MusixMatch"
   ]
  },
  {
   "cell_type": "code",
   "execution_count": null,
   "metadata": {
    "hidden": true
   },
   "outputs": [],
   "source": [
    "#from artistMusixMatch import artistMusixMatch\n",
    "from dbUtils import utilsMusixMatch\n",
    "from dbBase import dbBase\n",
    "import urllib\n",
    "from urllib.parse import quote\n",
    "from webUtils import getHTML\n",
    "from fsUtils import isFile\n",
    "\n",
    "\n",
    "##################################################################################################################\n",
    "# Base Class\n",
    "##################################################################################################################\n",
    "class dbArtistsMusixMatch:\n",
    "    def __init__(self, debug=False):\n",
    "        self.db     = \"MusixMatch\"\n",
    "        self.disc   = dbBase(self.db.lower())\n",
    "        self.artist = artistMusixMatch(self.disc)\n",
    "        self.dutils = utilsMusixMatch(self.disc)\n",
    "        self.debug  = debug\n",
    "        \n",
    "        self.baseURL   = \"https://www.musixmatch.com\"        \n",
    "        self.searchURL = \"https://www.musixmatch.com/search/\"\n",
    "\n",
    "\n",
    "        \n",
    "    ##################################################################################################################\n",
    "    # Artist URL\n",
    "    ##################################################################################################################\n",
    "    def getArtistURL(self, href, page=1):\n",
    "        if href.startswith(\"/\"):\n",
    "            url = \"{0}{1}\".format(self.baseURL, href)\n",
    "        else:\n",
    "            url = \"{0}/{1}\".format(self.baseURL, href)\n",
    "        return url\n",
    "\n",
    "        \n",
    "    \n",
    "    ##################################################################################################################\n",
    "    #\n",
    "    # Search Functions\n",
    "    #\n",
    "    ##################################################################################################################\n",
    "    def parseSearchArtist(self, artist, data, maxArtists=99, force=False, debug=False):\n",
    "        if data is None:\n",
    "            return None\n",
    "        \n",
    "        ## Parse data\n",
    "        bsdata = getHTML(data)\n",
    "        \n",
    "        artistDB  = {}\n",
    "        \n",
    "        div = bsdata.find(\"div\", {\"id\": \"search-results\"})\n",
    "        if div is not None:\n",
    "            artists = div.find(\"div\", {\"class\": \"search-results\"})\n",
    "            for ul in artists.findAll(\"ul\"):\n",
    "                for li in ul.findAll(\"li\"):\n",
    "                    h2 = li.find(\"h2\")\n",
    "                    if h2 is None:\n",
    "                        continue\n",
    "                    ref = h2.find('a')\n",
    "                    if ref is None:\n",
    "                        continue\n",
    "                    href = ref.attrs['href']\n",
    "                    name = ref.text\n",
    "                    artistID = self.dutils.getArtistID(href)\n",
    "                    print(\"{0: <100}{1: <15}{2}\".format(name,artistID,href))\n",
    "                    \n",
    "                    if artistDB.get(href) is None:\n",
    "                        artistDB[href] = {\"N\": 0, \"Name\": name}\n",
    "                    artistDB[href][\"N\"] += 1\n",
    "        \n",
    "    \n",
    "        if self.debug:\n",
    "            print(\"Found {0} artists\".format(len(artistDB)))\n",
    "                \n",
    "        iArtist = 0\n",
    "        for href, hrefData in artistDB.items():\n",
    "            iArtist += 1\n",
    "            if iArtist > maxArtists:\n",
    "                break\n",
    "        \n",
    "            discID   = self.dutils.getArtistID(href)\n",
    "            url      = self.getArtistURL(href)\n",
    "            savename = self.dutils.getArtistSavename(discID)\n",
    "\n",
    "            print(iArtist,'/',len(artistDB),'\\t:',discID,'\\t',url)\n",
    "            continue\n",
    "            \n",
    "            if isFile(savename):\n",
    "                if force is False:\n",
    "                    continue\n",
    "\n",
    "            self.dutils.downloadArtistURL(url, savename, force=force)\n",
    "            \n",
    "    \n",
    "    def getSearchArtistURL(self, artist):\n",
    "        url = urllib.parse.urljoin(self.searchURL, quote(artist))\n",
    "        url = \"{0}/albums\".format(url)\n",
    "        return url\n",
    "    \n",
    "        \n",
    "    def searchForArtist(self, artist, maxArtists=99, force=False, debug=False):\n",
    "        print(\"\\n\\n===================== Searching For {0} =====================\".format(artist))\n",
    "        url = self.getSearchArtistURL(artist)\n",
    "        if url is None:\n",
    "            raise ValueError(\"URL is None!\")\n",
    "                    \n",
    "        ## Download data\n",
    "        data, response = self.dutils.downloadURL(url)\n",
    "        if response != 200:\n",
    "            print(\"Error downloading {0}\".format(url))\n",
    "            return False\n",
    "\n",
    "        self.parseSearchArtist(artist, data, maxArtists, force, debug)"
   ]
  },
  {
   "cell_type": "code",
   "execution_count": null,
   "metadata": {
    "hidden": true
   },
   "outputs": [],
   "source": [
    "from artistDBBase import artistDBBase, artistDBDataClass\n",
    "from artistDBBase import artistDBNameClass, artistDBMetaClass, artistDBIDClass, artistDBURLClass, artistDBPageClass\n",
    "from artistDBBase import artistDBProfileClass, artistDBMediaClass, artistDBMediaAlbumClass\n",
    "from artistDBBase import artistDBMediaDataClass, artistDBMediaCountsClass\n",
    "from strUtils import fixName\n",
    "from dbUtils import utilsMusixMatch\n",
    "\n",
    "\n",
    "class artistMusixMatch(artistDBBase):\n",
    "    def __init__(self, debug=False):\n",
    "        super().__init__(debug)\n",
    "        self.dbUtils = utilsMusixMatch()\n",
    "        \n",
    "        \n",
    "    ##############################################################################################################################\n",
    "    ## Parse Data\n",
    "    ##############################################################################################################################\n",
    "    def getData(self, inputdata):\n",
    "        self.getDataBase(inputdata)\n",
    "        self.checkData()\n",
    "        \n",
    "        artist      = self.getName()\n",
    "        meta        = self.getMeta()\n",
    "        url         = self.getURL()\n",
    "        ID          = self.getID(url)\n",
    "        pages       = self.getPages()\n",
    "        profile     = self.getProfile()\n",
    "        media       = self.getMedia(artist.name)\n",
    "        mediaCounts = self.getMediaCounts(media)\n",
    "        \n",
    "        err = [artist.err, meta.err, url.err, ID.err, pages.err, profile.err, mediaCounts.err, media.err]\n",
    "        \n",
    "        adc = artistDBDataClass(artist=artist, meta=meta, url=url, ID=ID, pages=pages, profile=profile, mediaCounts=mediaCounts, media=media, err=err)\n",
    "        \n",
    "        return adc\n",
    "    \n",
    "    \n",
    "\n",
    "    ##############################################################################################################################\n",
    "    ## Artist Name\n",
    "    ##############################################################################################################################\n",
    "    def getName(self):\n",
    "        for h1 in self.bsdata.findAll(\"h1\"):\n",
    "            if h1.attrs.get('title') is not None:\n",
    "                artist = h1.attrs['title']\n",
    "                anc = artistDBNameClass(name=artist, err=None)\n",
    "                return anc\n",
    "\n",
    "        anc = artistDBNameClass(err=\"NoH1\")\n",
    "        return anc    \n",
    "    \n",
    "\n",
    "    ##############################################################################################################################\n",
    "    ## Meta Information\n",
    "    ##############################################################################################################################\n",
    "    def getMeta(self):\n",
    "        metatitle = self.bsdata.find(\"meta\", {\"property\": \"og:title\"})\n",
    "        metaurl   = self.bsdata.find(\"meta\", {\"property\": \"og:url\"})\n",
    "\n",
    "        title = None\n",
    "        if metatitle is not None:\n",
    "            title = metatitle.attrs['content']\n",
    "\n",
    "        url = None\n",
    "        if metatitle is not None:\n",
    "            url = metaurl.attrs['content']\n",
    "\n",
    "        amc = artistDBMetaClass(title=title, url=url)\n",
    "        return amc\n",
    "        \n",
    "\n",
    "    ##############################################################################################################################\n",
    "    ## Artist URL\n",
    "    ##############################################################################################################################\n",
    "    def getURL(self):\n",
    "        result1 = self.bsdata.find(\"link\", {\"rel\": \"canonical\"})\n",
    "        result2 = self.bsdata.find(\"link\", {\"hreflang\": \"en\"})\n",
    "        if result1 and not result2:\n",
    "            result = result1\n",
    "        elif result2 and not result1:\n",
    "            result = result2\n",
    "        elif result1 and result2:\n",
    "            result = result1\n",
    "        else:        \n",
    "            auc = artistDBURLClass(err=True)\n",
    "            return auc\n",
    "\n",
    "        if result:\n",
    "            url = result.attrs[\"href\"]\n",
    "            url = url.replace(\"https://www.MusixMatch.com\", \"\")\n",
    "            if url.find(\"/artist/\") == -1:\n",
    "                url = None\n",
    "                auc = artistDBURLClass(url=url, err=\"NoArtist\")\n",
    "            else:\n",
    "                auc = artistDBURLClass(url=url)\n",
    "        else:\n",
    "            auc = artistDBURLClass(err=\"NoLink\")\n",
    "\n",
    "        return auc\n",
    "\n",
    "    \n",
    "\n",
    "    ##############################################################################################################################\n",
    "    ## Artist ID\n",
    "    ##############################################################################################################################                \n",
    "    def getID(self, suburl):\n",
    "        discID = self.dbUtils.getArtistID(suburl.url)\n",
    "        aic = artistDBIDClass(ID=discID)\n",
    "        return aic\n",
    "\n",
    "\n",
    "    \n",
    "    ##############################################################################################################################\n",
    "    ## Artist Pages\n",
    "    ##############################################################################################################################\n",
    "    def getPages(self):\n",
    "        apc   = artistDBPageClass(ppp=1, tot=1, redo=False, more=False)\n",
    "        return apc\n",
    "    \n",
    "    \n",
    "\n",
    "    ##############################################################################################################################\n",
    "    ## Artist Variations\n",
    "    ##############################################################################################################################\n",
    "    def getProfile(self):          \n",
    "        data = {}\n",
    "        apc = artistDBProfileClass(profile=data.get(\"Profile\"), aliases=data.get(\"Aliases\"),\n",
    "                                   members=data.get(\"Members\"), groups=data.get(\"In Groups\"),\n",
    "                                   sites=data.get(\"Sites\"), variations=data.get(\"Variations\"))\n",
    "        return apc\n",
    "\n",
    "    \n",
    "    \n",
    "    ##############################################################################################################################\n",
    "    ## Artist Media\n",
    "    ##############################################################################################################################   \n",
    "    def getMedia(self, artist):\n",
    "        amc = artistDBMediaClass()\n",
    "        name = \"Albums\"\n",
    "        amc.media[name] = []\n",
    "        \n",
    "        for ul in self.bsdata.findAll(\"ul\"):\n",
    "            for li in ul.findAll(\"li\"):\n",
    "                h2 = li.find(\"h2\")\n",
    "                if h2 is None:\n",
    "                    continue\n",
    "                ref = h2.find('a')\n",
    "                if ref is None:\n",
    "                    continue\n",
    "                href  = ref.attrs['href']\n",
    "                album = ref.text\n",
    "                #print(\"{0: <100}{1}\".format(name,href))\n",
    "                url = \"https://www.musixmatch.com{0}\".format(href)\n",
    "\n",
    "                amdc = artistDBMediaDataClass(album=album, url=url, aclass=None, aformat=None, artist=artist, code=None, year=None)\n",
    "                amc.media[name].append(amdc)\n",
    "\n",
    "        return amc\n",
    "    \n",
    "    \n",
    "\n",
    "    ##############################################################################################################################\n",
    "    ## Artist Media Counts\n",
    "    ##############################################################################################################################\n",
    "    def getMediaCounts(self, media):        \n",
    "        amcc = artistDBMediaCountsClass()\n",
    "        \n",
    "        credittype = \"Releases\"\n",
    "        if amcc.counts.get(credittype) == None:\n",
    "            amcc.counts[credittype] = {}\n",
    "        for creditsubtype in media.media.keys():\n",
    "            amcc.counts[credittype][creditsubtype] = int(len(media.media[creditsubtype]))\n",
    "            \n",
    "        return amcc"
   ]
  },
  {
   "cell_type": "code",
   "execution_count": null,
   "metadata": {
    "hidden": true
   },
   "outputs": [],
   "source": [
    "ar = artistMusixMatch()"
   ]
  },
  {
   "cell_type": "code",
   "execution_count": null,
   "metadata": {
    "hidden": true
   },
   "outputs": [],
   "source": [
    "from ioUtils import getFile\n",
    "dbAP = dbArtistsMusixMatch()\n",
    "dbAP.parseSearchArtist(\"Dave Matthews Band\", getFile(\"../charts/musixmatch_searchartist.p\"))"
   ]
  },
  {
   "cell_type": "code",
   "execution_count": null,
   "metadata": {
    "hidden": true
   },
   "outputs": [],
   "source": [
    "retval = ar.getData(\"../charts/musixmatch_dmbalbums.p\")\n",
    "retval.show()"
   ]
  },
  {
   "cell_type": "code",
   "execution_count": null,
   "metadata": {
    "hidden": true
   },
   "outputs": [],
   "source": [
    "!pip install geopandas\n",
    "import geopandas"
   ]
  },
  {
   "cell_type": "code",
   "execution_count": null,
   "metadata": {
    "hidden": true
   },
   "outputs": [],
   "source": [
    "world = geopandas.read_file(geopandas.datasets.get_path('naturalearth_lowres'))\n",
    "cities = geopandas.read_file(geopandas.datasets.get_path('naturalearth_cities'))\n",
    "country_shapes = world[['geometry', 'iso_a3']]\n",
    "country_names = world[['name', 'iso_a3']]\n",
    "countries = world[['geometry', 'name']]\n",
    "countries = countries.rename(columns={'name':'country'})"
   ]
  },
  {
   "cell_type": "code",
   "execution_count": null,
   "metadata": {
    "hidden": true
   },
   "outputs": [],
   "source": [
    "cities"
   ]
  },
  {
   "cell_type": "code",
   "execution_count": null,
   "metadata": {
    "hidden": true
   },
   "outputs": [],
   "source": [
    "countries"
   ]
  },
  {
   "cell_type": "code",
   "execution_count": null,
   "metadata": {
    "hidden": true
   },
   "outputs": [],
   "source": [
    "country_names"
   ]
  },
  {
   "cell_type": "code",
   "execution_count": null,
   "metadata": {
    "hidden": true
   },
   "outputs": [],
   "source": [
    "newdata = country_shapes.merge(country_names, on='iso_a3').copy(deep=True)"
   ]
  },
  {
   "cell_type": "code",
   "execution_count": null,
   "metadata": {
    "hidden": true
   },
   "outputs": [],
   "source": [
    "newdata"
   ]
  },
  {
   "cell_type": "code",
   "execution_count": null,
   "metadata": {
    "hidden": true
   },
   "outputs": [],
   "source": [
    "from searchUtils import findExt, findAll"
   ]
  },
  {
   "cell_type": "code",
   "execution_count": null,
   "metadata": {
    "hidden": true
   },
   "outputs": [],
   "source": [
    "files = findExt(\"/Users/tgadfort/Downloads\", \".torrent\")\n",
    "files"
   ]
  },
  {
   "cell_type": "code",
   "execution_count": null,
   "metadata": {
    "hidden": true
   },
   "outputs": [],
   "source": []
  },
  {
   "cell_type": "code",
   "execution_count": null,
   "metadata": {
    "hidden": true
   },
   "outputs": [],
   "source": [
    "opr = {'=': =, '<': <, '>': >, '>=': >=, '<='}['=']"
   ]
  },
  {
   "cell_type": "code",
   "execution_count": null,
   "metadata": {
    "hidden": true
   },
   "outputs": [],
   "source": []
  },
  {
   "cell_type": "code",
   "execution_count": null,
   "metadata": {
    "hidden": true
   },
   "outputs": [],
   "source": []
  },
  {
   "cell_type": "code",
   "execution_count": null,
   "metadata": {
    "hidden": true
   },
   "outputs": [],
   "source": [
    "ftd = fileTimeDelta()\n",
    "ftd.getDelta(\"< 2 Hours\")\n",
    "ftd.show()"
   ]
  },
  {
   "cell_type": "code",
   "execution_count": null,
   "metadata": {
    "hidden": true
   },
   "outputs": [],
   "source": []
  },
  {
   "cell_type": "code",
   "execution_count": null,
   "metadata": {
    "hidden": true
   },
   "outputs": [],
   "source": []
  },
  {
   "cell_type": "code",
   "execution_count": null,
   "metadata": {
    "hidden": true
   },
   "outputs": [],
   "source": [
    "from searchUtils import filesFromDir\n",
    "from recentFilesUtils import recentFiles"
   ]
  },
  {
   "cell_type": "code",
   "execution_count": null,
   "metadata": {
    "hidden": true
   },
   "outputs": [],
   "source": [
    "ffd   = filesFromDir(ext=\".p\")\n",
    "files = ffd.getFiles(\"/Users/tgadfort/discogs/artists-rateyourmusic/9\")"
   ]
  },
  {
   "cell_type": "code",
   "execution_count": null,
   "metadata": {
    "hidden": true
   },
   "outputs": [],
   "source": [
    "rf = recentFiles()\n",
    "rf.setFiles(files)\n",
    "retval = rf.getFilesByModTime('< 0 Days', '/Users/tgadfort/dbdiscogs/artists-rateyourmusic-db/9-DB.p')\n",
    "retval"
   ]
  },
  {
   "cell_type": "code",
   "execution_count": null,
   "metadata": {
    "hidden": true
   },
   "outputs": [],
   "source": [
    "rf = recentFiles()\n",
    "rf.setFiles(files)\n",
    "retval = rf.getFilesByRecency('> 1 Days')\n",
    "retval"
   ]
  },
  {
   "cell_type": "code",
   "execution_count": null,
   "metadata": {
    "hidden": true
   },
   "outputs": [],
   "source": [
    "#for ifile, fmtd in tmp.items():\n",
    "#    print(\"{0}\\t{1}  \\t{2}\\t\\t{3}\".format(ifile, fmtd.getDeltaNow(), ftd.td, ftd.isTrue(fmtd.getDeltaNow())))"
   ]
  },
  {
   "cell_type": "code",
   "execution_count": null,
   "metadata": {
    "hidden": true
   },
   "outputs": [],
   "source": [
    "\n",
    "\n",
    "rf = recentFiles()\n",
    "rf.setFiles(files)\n",
    "rf.findFilesByRecentTime(minutes=60)\n",
    "#rf."
   ]
  },
  {
   "cell_type": "code",
   "execution_count": null,
   "metadata": {
    "hidden": true
   },
   "outputs": [],
   "source": [
    "lastModified"
   ]
  },
  {
   "cell_type": "code",
   "execution_count": null,
   "metadata": {
    "hidden": true
   },
   "outputs": [],
   "source": [
    "ifile=\"/Users/tgadfort/Downloads/Strauss,.Johann.II.(1825-1899).[Austria].torrent\"\n",
    "from os.path import getmtime"
   ]
  },
  {
   "cell_type": "code",
   "execution_count": null,
   "metadata": {
    "hidden": true
   },
   "outputs": [],
   "source": [
    "lastModified = datetime.fromtimestamp(getmtime(ifile))\n",
    "lastModified"
   ]
  },
  {
   "cell_type": "markdown",
   "metadata": {
    "heading_collapsed": true
   },
   "source": [
    "# Metal Archives"
   ]
  },
  {
   "cell_type": "code",
   "execution_count": null,
   "metadata": {
    "hidden": true
   },
   "outputs": [],
   "source": [
    "import urllib\n",
    "def downloadURL(url):\n",
    "\n",
    "    \n",
    "    user_agent = 'Mozilla/5.0 (Windows; U; Windows NT 5.1; en-US; rv:1.9.0.7) Gecko/2009021910 Firefox/3.0.7'\n",
    "    headers={'User-Agent':user_agent,} \n",
    "\n",
    "    request=urllib.request.Request(url,None,headers) #The assembled request\n",
    "    response = urllib.request.urlopen(request)\n",
    "    data = response.read() # The data u need\n",
    "\n",
    "    return data, response.getcode()\n"
   ]
  },
  {
   "cell_type": "code",
   "execution_count": null,
   "metadata": {
    "hidden": true
   },
   "outputs": [],
   "source": [
    "from webUtils import getURL\n",
    "\n",
    "searchURL = \"https://www.metal-archives.com/search?searchString=Metalica&type=band_name\"\n",
    "headers = {'User-Agent':\"Mozilla/5.0 (X11; Linux i686) AppleWebKit/537.17 (KHTML, like Gecko) Chrome/24.0.1312.27 Safari/537.17\"}\n",
    "req = urllib.request.Request(searchURL, headers=headers)\n",
    "response = urllib.request.urlopen(req)\n",
    "#data, code = downloadURL(searchURL)"
   ]
  },
  {
   "cell_type": "code",
   "execution_count": null,
   "metadata": {
    "hidden": true
   },
   "outputs": [],
   "source": [
    "response.read()"
   ]
  },
  {
   "cell_type": "markdown",
   "metadata": {},
   "source": [
    "# Classical Archives"
   ]
  },
  {
   "cell_type": "code",
   "execution_count": null,
   "metadata": {},
   "outputs": [],
   "source": []
  }
 ],
 "metadata": {
  "kernelspec": {
   "display_name": "Python 3 (ipykernel)",
   "language": "python",
   "name": "python3"
  },
  "language_info": {
   "codemirror_mode": {
    "name": "ipython",
    "version": 3
   },
   "file_extension": ".py",
   "mimetype": "text/x-python",
   "name": "python",
   "nbconvert_exporter": "python",
   "pygments_lexer": "ipython3",
   "version": "3.9.7"
  },
  "toc": {
   "base_numbering": 1,
   "nav_menu": {},
   "number_sections": true,
   "sideBar": true,
   "skip_h1_title": false,
   "title_cell": "Table of Contents",
   "title_sidebar": "Contents",
   "toc_cell": false,
   "toc_position": {},
   "toc_section_display": true,
   "toc_window_display": false
  }
 },
 "nbformat": 4,
 "nbformat_minor": 4
}
