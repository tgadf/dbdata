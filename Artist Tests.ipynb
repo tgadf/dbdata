{
 "cells": [
  {
   "cell_type": "code",
   "execution_count": 1,
   "metadata": {},
   "outputs": [
    {
     "data": {
      "text/html": [
       "<style>.container { width:100% !important; }</style>"
      ],
      "text/plain": [
       "<IPython.core.display.HTML object>"
      ]
     },
     "metadata": {},
     "output_type": "display_data"
    },
    {
     "data": {
      "text/html": [
       "<style>div.output_area{max-height:10000px;overflow:scroll;}</style>"
      ],
      "text/plain": [
       "<IPython.core.display.HTML object>"
      ]
     },
     "metadata": {},
     "output_type": "display_data"
    },
    {
     "name": "stdout",
     "output_type": "stream",
     "text": [
      "Python: 3.9.7 (default, Sep 16 2021, 08:50:36) \n",
      "[Clang 10.0.0 ]\n",
      "Notebook Last Run Initiated: 2022-01-27 18:30:56.013685\n"
     ]
    }
   ],
   "source": [
    "######################################################\n",
    "# Juypter\n",
    "######################################################\n",
    "%load_ext autoreload\n",
    "%autoreload\n",
    "from IPython.core.display import display, HTML\n",
    "display(HTML(\"<style>.container { width:100% !important; }</style>\"))\n",
    "display(HTML(\"\"\"<style>div.output_area{max-height:10000px;overflow:scroll;}</style>\"\"\"))\n",
    "\n",
    "\n",
    "################################################################################\n",
    "## Music DB\n",
    "################################################################################\n",
    "from mainDB import mainDB\n",
    "from musicDBMap import musicDBMap\n",
    "from masterDBMatchClass import masterDBMatchClass\n",
    "from matchDBArtist import matchDBArtist\n",
    "\n",
    "\n",
    "################################################################################\n",
    "## Utils\n",
    "################################################################################\n",
    "from masterDBGate import masterDBGate\n",
    "from timeUtils import timestat\n",
    "from fileIO import fileIO\n",
    "\n",
    "\n",
    "################################################################################\n",
    "## General\n",
    "################################################################################\n",
    "from pandas import Series, DataFrame\n",
    "\n",
    "######################################################\n",
    "# Versions\n",
    "######################################################\n",
    "import sys\n",
    "print(\"Python: {0}\".format(sys.version))\n",
    "import datetime as dt\n",
    "start = dt.datetime.now()\n",
    "print(\"Notebook Last Run Initiated: \"+str(start))"
   ]
  },
  {
   "cell_type": "markdown",
   "metadata": {},
   "source": [
    "# Install"
   ]
  },
  {
   "cell_type": "code",
   "execution_count": null,
   "metadata": {},
   "outputs": [],
   "source": [
    "#!python setup.py install\n",
    "mdbGate = masterDBGate()\n",
    "disc = mdbGate.getDBDisc(\"SpotifyCharts\")"
   ]
  },
  {
   "cell_type": "markdown",
   "metadata": {},
   "source": [
    "# Discogs API"
   ]
  },
  {
   "cell_type": "code",
   "execution_count": 17,
   "metadata": {},
   "outputs": [],
   "source": [
    "from dbArtistsBase import dbArtistsBase\n",
    "from fileUtils import getBaseFilename\n",
    "from fsUtils import isFile, setFile, setDir\n",
    "from ioUtils import getFile, saveFile\n",
    "from timeUtils import timestat\n",
    "from sys import prefix\n",
    "import urllib\n",
    "from time import sleep\n",
    "from webUtils import getHTML\n",
    "from pandas import Series\n",
    "    \n",
    "from fileIO import fileIO\n",
    "from fsUtils import fileUtil\n",
    "from artistModValue import artistModValue"
   ]
  },
  {
   "cell_type": "code",
   "execution_count": 32,
   "metadata": {},
   "outputs": [
    {
     "name": "stdout",
     "output_type": "stream",
     "text": [
      "Current Time Is 2022-01-30 10:01:00\n",
      "Current Time Is 2022-01-30 10:01:00\n",
      "Process [Loading ModVal=0 DB Data] Took 5.4 Seconds\n",
      "Current Time Is 2022-01-30 10:01:00\n",
      "Current Time Is 2022-01-30 10:01:00\n",
      "Process [Loading Artist Search Data For ModVal=0] Took 0.2 Seconds\n",
      "Current Time Is 2022-01-30 10:01:00\n",
      "Current Time Is 2022-01-30 10:01:00\n",
      "5000/79216 : Process [Parsing 79216 Searched For Discogs API Artists] Has Run For 3.2 Seconds.  ETA is 47.5 Seconds\n",
      "10000/79216 : Process [Parsing 79216 Searched For Discogs API Artists] Has Run For 8.2 Seconds.  ETA is 56.8 Seconds\n",
      "15000/79216 : Process [Parsing 79216 Searched For Discogs API Artists] Has Run For 15.7 Seconds.  ETA is 67.2 Seconds\n",
      "20000/79216 : Process [Parsing 79216 Searched For Discogs API Artists] Has Run For 26.4 Seconds.  ETA is 78.2 Seconds\n",
      "25000/79216 : Process [Parsing 79216 Searched For Discogs API Artists] Has Run For 41.2 Seconds.  ETA is 89.3 Seconds\n",
      "30000/79216 : Process [Parsing 79216 Searched For Discogs API Artists] Has Run For 57.7 Seconds.  ETA is 94.7 Seconds\n",
      "35000/79216 : Process [Parsing 79216 Searched For Discogs API Artists] Has Run For 1.3 Minutes.  ETA is 1.6 Minutes\n",
      "40000/79216 : Process [Parsing 79216 Searched For Discogs API Artists] Has Run For 1.7 Minutes.  ETA is 1.7 Minutes\n",
      "45000/79216 : Process [Parsing 79216 Searched For Discogs API Artists] Has Run For 2.1 Minutes.  ETA is 1.6 Minutes\n",
      "50000/79216 : Process [Parsing 79216 Searched For Discogs API Artists] Has Run For 2.7 Minutes.  ETA is 1.6 Minutes\n",
      "55000/79216 : Process [Parsing 79216 Searched For Discogs API Artists] Has Run For 3.2 Minutes.  ETA is 1.4 Minutes\n",
      "60000/79216 : Process [Parsing 79216 Searched For Discogs API Artists] Has Run For 3.8 Minutes.  ETA is 1.2 Minutes\n",
      "65000/79216 : Process [Parsing 79216 Searched For Discogs API Artists] Has Run For 4.5 Minutes.  ETA is 1.0 Minutes\n",
      "70000/79216 : Process [Parsing 79216 Searched For Discogs API Artists] Has Run For 5.2 Minutes.  ETA is 0.7 Minutes\n",
      "75000/79216 : Process [Parsing 79216 Searched For Discogs API Artists] Has Run For 6.0 Minutes.  ETA is 0.3 Minutes\n",
      "79216/79216 : Process [Parsing 79216 Searched For Discogs API Artists] Has Run For 6.7 Minutes.  ETA is 0.0 Minutes\n",
      "Saving [79216/79216] ID Data Entries To /Users/tgadfort/Music/Discog/artists-discogs-db/0-DB.p\n",
      "Process [Parsing Discogs Search ModVal=0 Files(expr='< 0 Days', force=False, debug=False, quiet=False)] Took 7.0 Minutes\n",
      "Current Time Is 2022-01-30 10:08:00\n"
     ]
    }
   ],
   "source": [
    "%autoreload\n",
    "from dbArtistsDiscogs import dbArtistsDiscogs\n",
    "dbAP = dbArtistsDiscogsAPI(dbArtistsDiscogs())\n",
    "#dbAP.parse(0, expr='< 0 Days', force=True)\n",
    "dbAP.parseSearch(0, expr='< 0 Days')"
   ]
  },
  {
   "cell_type": "code",
   "execution_count": 35,
   "metadata": {},
   "outputs": [
    {
     "name": "stdout",
     "output_type": "stream",
     "text": [
      "Current Time Is 2022-01-30 10:15:00\n",
      "Saving [79216] ID => Name/URL Entries To /Users/tgadfort/Music/Discog/artists-discogs-db/metadata/0-Metadata.p\n",
      "Process [Creating Artist Name Metadata For ModVal=0] Took 0.5 Seconds\n",
      "Current Time Is 2022-01-30 10:15:00\n",
      "Current Time Is 2022-01-30 10:15:00\n",
      "Saving [79216] ID => AlbumNames Entries To /Users/tgadfort/Music/Discog/artists-discogs-db/metadata/0-MediaMetadata.p\n",
      "Process [Creating Artist Album Metadata For ModVal=0] Took 1.2 Seconds\n",
      "Current Time Is 2022-01-30 10:15:00\n",
      "{'1400': 'Lexis', '2200': 'Guineo', '2700': \"Smart E's\", '2800': 'La Chatte Rouge', '3100': 'Problem Child', '3500': 'MC?', '3700': 'Saucermen', '3900': 'Multiplex (2)', '4400': 'Shotgun', '4500': '3 Mile Island', '4700': 'Bumpy (2)', '4900': 'Blade', '5100': 'Vibert / Simmonds', '5300': 'Dash', '5600': 'Men From The Nile', '5700': 'Go Go Ghidohra', '5900': 'White Room', '6000': 'The Last Disco Superstars', '6100': 'DJ Fly', '6300': 'Mantra', '6400': 'Asylum', '6500': 'Pellucid', '6600': 'Element.Act', '6700': 'Go-nogo', '6900': 'Linas', '7600': 'E-Trax', '7700': 'Jade', '8000': 'Rhythm Source', '8500': 'Berkowitz Lake & Dahmer', '8800': 'Deadstock', '8900': 'Combinations', '9300': 'Origami', '9400': 'Apheleon', '9500': \"ECV's Groove Crew\", '9600': 'DJ Maüs', '9700': 'Joystick', '10000': 'Moonchild (2)', '10100': 'Carin', '10200': 'Rosalyn Evans', '10500': 'Operator Spice', '10800': 'Blu Note & Fresh Jay', '11300': 'Drum Machine Circle', '11800': 'Digger', '11900': 'G11', '12300': 'RMA', '12500': 'Dynetic', '12600': 'Sequel', '12700': 'Sound Patrol', '12800': 'John Santos & The Machete Ensemble', '13000': 'John Braine', '13700': 'Sqvid', '14300': 'Tomas Castro', '14600': 'Motorcraft', '14800': 'Assylum', '15000': 'A Sense Of Summer', '15200': 'Lux (2)', '15400': 'Mall', '15600': 'Saturday Nite Live', '15800': 'Omniscience', '16100': 'Mellow Man', '16200': 'Look Out', '16300': 'Paul Robbins', '16400': 'B-Ton-K', '16600': 'Republic 61', '16900': 'Michael Kupilas', '17300': 'Jason Potratz', '17700': 'Hammerhead', '17800': 'Subject', '18200': 'West Street Mob', '18300': 'Bionic', '18600': 'Sigma 909', '18800': 'Ed Hartman', '19100': 'Fabrizio', '19200': 'Whiplash & Turner', '20100': 'Box Office', '20200': 'The Reactor & Raoul', '20300': 'The Crompton Set', '20500': 'Trilithon', '20600': 'AGH', '20800': 'DJ Libre', '21000': 'Carl Faure', '21200': 'Gruvhaus', '21300': 'Oleg Todd', '21400': 'Sanasol', '21500': 'Anti Cheese Alliance', '21600': 'Bonafide', '21700': 'Xena', '21800': 'K2 Family', '22100': 'Scott Kinchen', '22200': 'The Syncopated Elevators Legacy', '22400': 'South Central', '22500': 'DJ Doktor Megatrip', '22700': 'StereoScope', '22800': 'DJ Akashi', '22900': 'Overdub', '23200': 'Moellhoven', '23300': 'Rotortype', '23600': 'Personal Electronics', '23700': 'Lab Technicians', '23900': 'Futique', '24100': 'Ramshackle', '24500': 'Clorofila', '24700': 'Arkanoid', '24800': 'Solicitous', '25800': 'Janet Gray', '26000': 'Rhythm Warriors', '26100': 'Still Thinking', '26200': 'K-Rec', '26700': 'Tronikhouse', '27000': 'Selffish', '27200': 'The Latin Rage', '27300': 'The Spacelovers', '27400': 'Trubblemaker', '27700': 'Ben Camp', '28000': 'Excess Head', '28100': 'Hot Streak', '28500': 'Tears Of Velva', '29000': 'Orbit Starz', '29100': 'DJ Mastergroove', '29200': 'Mindless Banter', '29300': 'T.H.D.', '30800': 'Vivid', '30900': 'Pozitiv Noize', '31500': 'The Har-You Percussion Group', '31800': 'Ras Kwame', '32000': 'Dave Ghetto', '32100': 'Ricky Morrison', '32300': 'The Pedestrian', '32400': \"Bliss 'n' Tumble\", '32600': 'Ina-State', '32800': 'Overrider', '33100': 'DJ Raffe', '33400': 'Aircraft', '33500': 'Kainuu Minimal Heroes', '33800': 'His Masters Voice', '34200': 'Multiscreen', '34300': 'U-She', '34600': 'Nomads Of Dub', '34700': 'Yo Yo', '34800': 'The Crucibles', '35100': 'Infinite (2)', '35400': 'Hexer', '35700': 'The Wild Boys', '36300': 'Unco', '36400': 'DJ Oberon', '36500': 'Body Hard', '36700': 'Primal Plant', '36900': 'R.I.C.', '37300': 'Tranceiver', '37400': 'Chantilly', '38000': 'Tiny Tunes', '38100': 'Manhattan Projekt', '38300': 'V.O.O.D.I. Traxx', '39300': 'Sphaera', '39500': 'Waverider', '40000': 'Soviet', '40100': 'Krush And Skad', '40300': 'Bert Bevans', '40500': 'Turbolence', '40700': 'Unitor', '41000': 'Up To Date (2)', '41100': 'Towering Inferno', '41200': 'Real Ax Band', '41700': 'Treats', '41900': 'Radius', '42100': 'Rich Kidz', '42200': \"Invisible Man's Band\", '42600': 'The Dub Brothers', '42700': 'Anthony Prince', '42800': 'Hanumand', '42900': 'Product Of Da Neighbourhood', '43200': 'A Church, A D.J. & A Sampler', '43500': 'The Drumbums', '43700': 'Drumscape', '43900': 'Houzze Couture', '44100': 'G & G Project', '44300': 'Miquifaye', '44500': 'Klubfilter', '44600': 'Spanner Thru Ma Beatbox', '44700': 'Hector', '45000': 'Leroy & The Drivers', '45400': 'Xtra Large', '45800': 'Gater', '45900': 'House People (2)', '46000': 'Tafuri', '46100': '!Loca!', '46300': 'R.P. Cola', '46600': 'Mr. Stroll', '46800': 'Alegria', '46900': 'United Deejays For Central America', '47100': 'Sonic Tribe', '47300': 'Samsara', '47500': 'Andy Toth', '48300': 'Bench', '48600': 'States Of Mind (2)', '49200': 'A.T. Project', '49400': 'Jamie Gumb', '49600': 'Food For Woofers', '49800': 'Airpack II', '50100': 'Forrrce', '50300': 'M4 & YT', '50400': 'Pling Plong', '50500': 'Don Falcone', '50800': 'Nasty Sy', '51000': 'Jaxon', '51100': 'Tony Bowie', '51300': 'One Drop', '51400': 'Deee Maestro', '51600': 'Urban Ice', '52100': 'Calypso', '52200': 'LM Connection', '52300': 'The Big Knife', '52400': 'Lam Tarn', '52500': 'Showboat', '52600': 'Lazy Bones', '53000': 'L.E. Bass', '53600': 'LaB LiFe', '53900': 'Liquid Wheel', '54000': 'Mindviper', '54400': 'Es Imposible', '55000': 'Ken Collier', '55100': 'Chris Jerome', '55300': 'A Grape Dope', '56400': 'Robin Fox', '56600': 'Bullet (3)', '56900': 'Zu Zu', '57100': 'Coxless Pair', '57500': 'Kold Krew', '58000': 'Kris Brown', '58100': 'The Dum Dum Project', '58300': 'Infusion Impulse', '58400': 'Paulina', '58600': 'Flyh', '58800': 'John Helmer', '58900': 'Sketchy', '59000': 'Höst', '59200': 'The Question', '59300': 'The Black Ops Conspiracy', '59500': 'DJ Clash', '59700': 'D. Ross', '60100': 'Gloster', '60500': 'Fe-mail', '60700': 'Colonel Gurnell', '60800': 'Max Nazarov', '61300': 'Walter Ego', '61600': 'Revelacion', '61700': 'DJ Creation', '62100': 'Nathan Cable', '62200': 'Rion', '62300': 'Herbert Pryne', '62500': 'The Larks', '62700': 'The Player', '62800': 'The Return Of The Anal Invader', '63100': 'Nokternal', '63200': 'Kenny Sharp', '63300': 'Don Gardon', '63500': 'A1 Breakdown', '63900': 'Superglider', '64300': 'Gate Crash', '64500': 'Kudra Owens', '64900': 'Hofuku Sochi', '65900': 'Kandisquer', '66200': 'Soul Music Group', '66600': 'DJ Jeridoo', '67100': 'Shadow Joda', '67500': 'Da Bootleggers', '67900': 'Coroners', '68000': 'Fotraque', '68100': 'Pacifier', '68400': 'PMW', '68900': 'Ricky Montanari & Davide Ruberto', '69000': 'DJ Gruve', '69200': 'Victor Flores', '69500': 'Djxdj', '69600': 'Litwinenko', '69900': 'Disco Kidz', '70100': 'Climax 69', '70200': 'DJ Sunrise', '70700': 'Deal', '70900': 'SBL', '71100': 'Family Of Intelligence', '71200': 'Superstring (2)', '71400': 'Savant', '71700': 'Skin Deep', '71800': 'Little City Recordings', '72100': 'M.C Production', '72400': 'Dig The New Breed', '72800': 'Hans', '72900': 'DJ Gangsta', '73000': 'ESCO-B', '73100': 'Nasopharyngeal', '73300': 'Doing Time', '73800': 'Henrik Jonsson', '74000': 'Storm (7)', '74200': 'Varial', '74700': '2 Kilos ?', '74800': 'Voltaic', '74900': 'Frank Dommert', '75000': 'Emulsion', '75100': 'Wood Dragons', '75300': 'Andy Bolus', '75700': 'Baseman', '75800': 'John Shananigans', '76100': 'Sound Corporation', '76200': 'Micro Mania', '76400': 'Slater Hogan & John Larner', '77000': 'Marta Acuna', '77100': 'DIM', '77300': 'Plastic Venus', '77700': 'Firefox (2)', '77800': 'Scream Therapy', '77900': 'Deep Touch (2)', '78000': 'Patricia Ortega', '78200': 'Poltertec', '78300': 'Hobby One', '78400': 'Lee Humphreys', '78500': 'DJ Serch & Pascal', '78900': 'Madam Friction', '79000': 'Starfish', '79600': 'Justin K Broadrick', '79700': 'Scott Matelic', '79800': 'Digital Bled', '79900': 'Humanizer', '80100': 'Cream De Coco', '80300': 'Tito', '80800': 'Navajo', '80900': 'Graeme Fisher', '81000': 'Semzer Sounds', '81300': 'Broklyn Beast', '81400': 'Bernward Büker Bande', '81900': 'Baptologic', '82100': 'Underground Posse (3)', '82600': 'Hidious In Strength', '83000': 'Castor', '83300': \"What's\", '83500': 'Hypnogaja', '83600': 'Abstract (3)', '83700': 'DJ Axl', '83800': 'Back To Front', '84100': 'Soulxpres', '84400': 'Diana Rogerson', '84600': 'Graeme Pleeth', '84800': 'Craig Daniel', '84900': 'Puls', '85000': 'Sonny Jim', '85600': 'Monotone Corrosive', '85900': 'Made In USA', '86200': 'Snatch', '86400': 'Music 2000', '86900': 'The Captain', '87000': 'The Matchmakers', '87100': 'No Pain', '87200': 'Three Waxy Men', '87800': 'Phen-X', '88300': 'Hector Spector', '88600': 'DJ La Luna', '88700': 'Waterfront Home', '88900': 'Electromenager', '89000': 'Infrabass', '89300': 'Bunnyhug', '89400': 'Bring The Noiz', '89900': 'Electrobics', '90100': 'Frankie P', '90300': 'Wizard', '90600': 'Iron Justice', '90700': 'Amistad Teriya', '90800': 'Mello', '91000': 'Knuckledown', '91100': 'Marahoochie', '91200': 'Fred Perry', '91700': 'Roland Fiege', '91800': 'Eccentric Things', '91900': 'L.E.N.I.', '92000': 'Whizz', '92300': 'Manuel Fuentes', '92400': 'Gizmo (2)', '92500': 'Guss Carver', '92800': 'Jim Jones', '93000': 'Holy Gang', '93100': 'MC Player', '93400': 'T.A.F.K.A.P.', '93700': 'Soniq (2)', '93900': 'Dighom', '94000': 'Urban High', '94300': 'Monokini (2)', '94400': 'Jelle Faber', '94600': 'Christof Glowalla', '94700': 'U.S. Of Milano Area', '95100': 'Dual System', '95500': 'L.A. Messina', '96000': 'Peat Bog', '96200': 'Juhl', '96500': 'Coba', '96700': 'Dynastie', '97400': 'Peter Fenton', '97500': 'Aeroflot', '97800': 'Sound Of Joy', '98000': 'Julio \"Deuce\" Martinez', '98100': 'Smart Alec', '98200': 'Justy', '98300': 'Georgia Jones', '98900': 'The Squadies', '99000': 'Alieonix', '99300': 'Kevueq', '99700': 'Overdoxx', '100100': 'Rusty Waters', '100400': 'Mercenaries', '100500': 'Liviiing', '100600': 'Monte Moir', '101200': 'Fat Naked Lady', '101300': 'Anita G', '101400': 'Gulag', '101500': 'Rakim (2)', '101600': 'Bloom', '101700': 'Lanu', '101800': 'David Michael Cross', '102300': 'Supply and Demand', '102500': 'Hypnotic', '102600': 'NHL Project', '102700': 'Avex', '102900': 'Secret Weapon (3)', '103300': 'Squirt', '103400': 'Famous Fairbanks', '103800': 'Scott Stryker', '104200': 'The Jammers', '104400': 'Silver Piece', '104700': 'Chi Chi Ordu', '104900': 'Progrex.iv', '105100': 'Lois Blue', '105300': 'Schnitt Acht', '105600': 'D.B.X.', '106100': 'Globe (2)', '106400': 'Ramatta Doussia', '106900': 'Kentucky', '107100': 'Chicks With Tricks', '107400': 'Trance 2 Work', '107500': 'Roby Morales', '107600': 'DJ Pivo', '107800': '2 Hard 4 Me', '108200': 'Exodus (3)', '108400': 'Swing (2)', '108600': 'Der Weltraum Traumstadt', '109300': 'Simulator', '109700': '6ecko', '109900': 'Dis-Cover', '110100': 'Martin Heyder', '110400': 'Analogue Wax', '110500': 'Joël', '110600': 'Cyberdyne Systems', '110700': 'Go Fundamental', '110900': 'Elektrons', '112300': 'Double R (2)', '112400': 'The Alpha Project', '112500': 'Xque?', '112900': 'Miller & Keane', '113000': 'Toy Soldiers', '113300': 'George B.', '113400': 'Process (4)', '113700': 'Steve Maestro', '113800': 'Nicolas Courtin', '113900': 'Deepend', '114000': 'Motion (5)', '114300': '40', '114400': 'Spjuver Derivata', '114800': 'Chris Phillips', '115200': 'Etherfox', '116600': 'Human Body (2)', '117400': 'Diyo', '117500': 'Big Sound Association', '117600': 'Almas', '117700': 'DJ Battle', '118400': 'Da Body', '118800': 'Full Scale Deflection', '119400': 'New Form', '120200': 'Giorgio Giordano', '120300': 'Gruv Station', '120700': 'Super M', '120900': 'Kiata', '121200': 'Dave Lambert', '121400': 'Brian Storm', '121800': 'Children Of The Night (2)', '121900': 'Mutant Jazz', '122000': 'Undacuffa Idahosa', '122200': 'Mark & Ivan', '122300': 'Brian', '122700': 'Snark', '123100': 'Deeper In Zen', '124400': 'Clubbers Revenge', '124500': 'Yanso', '125000': 'M.C.P. (2)', '125200': '1001 People', '125500': 'Unknown (69)', '125600': 'Francesco Grant', '125800': 'Peter D.', '125900': 'Funkatronik', '126400': 'Suspicious Minds', '126600': 'Cartoon', '126700': 'Tony M.', '127000': 'British Plastic', '127400': 'Siobhan Gallagher', '127500': 'The Narcissus Pool', '127600': 'Eli (3)', '128100': 'Zoom (5)', '128300': 'Relatives Menschsein', '128400': 'F.B. and Co', '128500': 'Ivan Ormond', '129100': 'Atlantica', '129800': 'Big Sky', '130700': 'Kevin Chapman', '130800': 'DJ Paula', '131200': 'Mysterious City', '132100': 'Citizens Of Illusion', '132200': 'Ahlill the Transcending Soldier', '132500': 'Leo (5)', '132700': 'Dark Clark', '133200': 'J.M. Tim & Foty', '133300': 'Morocco', '133400': 'S.P.U.L.', '133500': 'GTM', '133700': \"D's Project\", '133900': 'Jeune Homme', '134000': 'Von Bopp', '134100': 'Alpha Omega (3)', '134200': 'MRX', '135000': '7 OF 9', '135200': 'Dante (2)', '135700': 'Diva Nova', '136000': 'Soulswingers', '136100': 'Tall Boy', '136400': 'FA-ST', '136500': 'ORS', '136600': 'Oleg', '136900': 'Akeem The Dream', '137500': 'Phase IV (2)', '137800': 'Micro Groover', '137900': 'Solarys', '138000': 'Mathieu Werchowski', '138100': 'Mercy', '138200': 'Free Style', '139000': 'Dark Templar', '139300': 'Mezcal', '139700': 'Altro Touch', '139900': 'Imakinaria', '140200': 'Repetition', '140300': 'Luis Nieva', '140400': 'Plasma (9)', '141300': 'LAShTAL', '141400': 'Subraum Kader', '141700': 'W.A. Davison', '141800': 'Prophecy (4)', '142100': 'Massimo Toniutti', '142300': 'Unplugged', '142500': 'Cyborg (5)', '142900': 'Holloway', '143000': 'Summer Rose', '143200': 'Output (2)', '143300': 'Ez-Al', '143400': 'R.A.P. & The City Crew', '143600': 'Illko', '144400': 'DJ Strife (2)', '144600': 'Insekte', '144700': 'Wishbone (2)', '144800': 'Nexus (5)', '145000': 'Hoodwacks', '145100': 'Bamboo (4)', '145200': 'Gospel Housing Authority', '145400': 'Yin', '145600': 'James Booms', '145800': 'Vivian V.', '145900': 'Qbit', '146000': 'Waveshaper', '146100': 'Devine', '146300': 'Inquisagon', '146400': 'Mr. F', '146500': 'Porno Nubia', '146800': 'Rhonda', '147700': 'Jean-Pierre Rasle', '148400': 'B.A.D.', '148500': 'Based On Bass', '148600': 'Knowledge Of Bugs', '148800': 'Stiletto Soul', '149200': 'Phase 3', '149400': 'Legaz Project', '149500': 'HU (2)', '149900': 'Avanti (2)', '150500': 'Sirc', '151200': \"D'Boldiss\", '151900': 'Prinzessin In Not', '152100': 'Dino Zizzari', '152600': 'Hivoh', '152900': 'Centry', '153000': 'Fickle Steve', '153100': 'Razor Sharp', '153200': 'MC Solomon', '153500': 'Ladies Choice', '153600': 'Made By Monkeys', '153800': 'Cash Cash', '153900': 'John Julian', '154400': 'Active Force (3)', '154500': 'Speedy (3)', '154600': 'Dubaware Soundsystem', '155500': 'DJ Subbo', '155900': 'Lazy Susan', '156000': 'Funky Tribe', '156900': 'French (2)', '157100': 'Conforemix', '157500': 'Phd²', '158100': 'Atoozi', '158200': 'Aural Pleasure', '158400': '20% X-Tra Free', '158600': 'Sambal', '158700': 'Sir Charles', '158800': 'Astro & Physics', '159000': 'Veronica Martin', '159100': 'Horace', '159200': 'Space Craft', '159300': 'Seventh Research', '160200': 'Sean Kelly', '160300': 'D Bajema', '160700': 'Republik', '160800': '2nd Avenue', '160900': 'Danelektro', '161500': 'Platon Andritsakis', '162500': 'Grind Attack', '162600': 'Christo', '162900': 'DJ Wino', '163800': 'Mongoose', '164000': 'Aimee Lane', '164300': 'Sjamayee!', '164600': 'Moonscape', '164800': 'DJ Nemesis (2)', '165600': 'Latin Trip', '166000': 'Substantial Overdose', '166200': 'Skyway 7', '166900': 'Chris Palmer', '167100': 'Miki Chieregato', '167500': 'Unity (8)', '167800': 'Sonz of CyberFrame', '168100': 'La Diva (2)', '168400': 'Isansozokunin', '168600': 'DJ Mayuri', '168900': 'Ghost Orchids', '169300': 'Tamaru', '169800': 'Lex Lyu', '170300': 'Bxt', '170400': 'Dritt Drittel', '170700': 'DJ Riz', '170800': 'Prioleau', '171000': 'Trident', '171100': 'Pharmarama', '171200': 'Corrado Nuccini', '171500': 'Isao Kumano', '172000': 'Marqus', '172300': 'Voicechanger', '172400': 'Station Obscen', '173100': 'M & G', '173300': 'Meen Green', '173500': 'Priscilla Basque', '173600': 'Groove Delight', '173800': 'Re-form', '173900': 'Sharief', '174300': 'Kid Nyce', '174400': 'Bobby Jones', '174800': 'Mel Simpson', '175400': 'Desolation', '175500': 'Iffy', '175600': 'Tra-Knox', '175800': 'Kenny K.', '175900': 'FYZA', '176100': '4Matt', '176600': '3rd Dimension', '176900': 'Dimitri Nakov', '177500': 'Moonlight Union', '177800': 'Similar', '177900': 'Clé K', '178200': 'Wraith', '179000': 'Robert Lamart', '179300': 'Mr. No', '179400': 'DJ Big', '179600': 'Splash (7)', '179700': 'Pilgrim Soul', '180100': 'Monokinetic', '180200': 'Metaphone', '180800': 'ACD (2)', '181000': 'Midnite Express', '181200': 'Bad Boy (2)', '181300': 'Soundphreakers', '181600': 'Never Mind', '181700': 'DJ Trucks', '181800': 'JJ Boogie', '182000': 'Universal Indiann', '182600': 'Nongenetic', '182700': 'Dick Higgins', '182900': 'Minifer', '183200': 'Joyce Hurley', '183300': 'Trinity (9)', '183500': 'Heimo Trixner', '183700': 'Aria Trece', '184500': 'Meck', '184800': 'Arco5', '184900': 'Strike (4)', '185000': 'Kristian Lilholt', '185200': 'Repo Crew', '185300': 'DJ Spark E', '185400': 'Logar', '185800': 'Chuck Nubian', '185900': 'Cockroach (2)', '186000': 'Ermeneuma', '186400': 'DJ Wizkid', '186500': 'Chaya', '186600': 'Hunter (3)', '186900': 'Master Bilal', '187400': 'Paulina Sundin', '187800': 'DJ Riles', '187900': 'Jelly Headz', '188700': 'Doctor Funnkenstein', '189300': 'Arro', '189600': 'TWR', '189700': 'Yvonne Koomen', '189800': 'Jee Bee', '189900': 'DJ Soto', '190200': 'S.Y.K.', '190500': 'Large Lefties', '190900': 'DJ Reyes', '191000': 'João Paulo Feliciano', '191100': 'Ciccone', '191300': 'Panik (2)', '191800': 'Obni DJ', '192200': 'Gradual Taylor', '192300': 'Hack-N-Black', '192400': 'Jason Mantis', '192800': 'Raw Q', '193300': 'Sweet Obsession', '193400': 'Arkanyus', '193700': 'Soul Purpose (4)', '193800': 'Kombo', '194200': 'The Beautiful Glassbottom Boat', '194500': 'Peruz', '194600': 'Jonathan Jay', '194800': 'All Star Cast', '195000': 'The Devastating MCs', '195200': 'Emile (2)', '195600': 'Phrozen Crew 97', '195900': 'DSD', '196200': 'Marcellus', '196400': 'DJ KO', '196800': 'Cheyenne', '197000': 'Deep Creek', '197100': 'The Potato Chips', '197300': 'Crystal Voyager', '197400': 'David Antebi', '197500': 'Jens Smith', '197700': 'Lars Gärd', '197800': 'J V Johnson', '198300': 'Lunar (5)', '198500': 'Beni B', '198900': 'Mr. Porter', '199200': 'DJ Tokunaga', '199400': 'Drubius', '199600': 'Alex Kvitta', '199800': 'aal', '200100': 'Drop Man', '200300': 'Stash (3)', '200900': 'Da Hardsider', '201100': 'Fear Force', '201200': 'Angel (7)', '201300': 'Fluid (4)', '201800': 'Third Eye (4)', '201900': 'Ill Breed', '202100': 'Pervtech', '202200': 'A. Rafiq', '202500': 'Roni Hill', '202700': 'Zanzibar (3)', '202800': 'Liv-Unni Larsson', '203200': 'Prsto', '203300': 'Paul Lewis (2)', '203400': 'Obscura', '203500': 'Ladies Love Leon', '203800': 'DJ Dave (5)', '204000': 'Technokcraci', '204300': 'Sly (5)', '204500': 'Gritty Tracks', '204700': 'M-Soleil', '204800': 'Chocolate (2)', '204900': 'The Drowning Dolphins', '205000': 'Alex Penn', '205300': 'DJ Saw', '205600': 'Shareoine', '205700': 'Steve Lamacq', '206000': 'DSP (3)', '206200': 'D.I.Y', '206500': 'Groove Corporation (2)', '206900': 'Papa Suave', '207300': '99th Floor Elevators', '208000': 'Da Thrill', '208300': 'Mayday 21', '208500': 'K.D.C.', '208700': 'Band Aid (2)', '208800': 'Slabb', '209100': 'Mini Animals', '209200': 'M-Seven', '209400': 'B4', '209500': 'Koei', '209900': 'DJ Scattie', '210200': 'The Rave Squad', '211700': 'Sonny Paradise', '211800': 'Pete Aves', '212100': 'Discass', '212500': 'Nasty-B', '212600': 'Self Defense Force', '212900': 'A Blaze Colour', '213000': 'Kid Galahad', '213200': 'Alex Noise', '213300': 'Shop (2)', '213400': 'Neurotic Drum Band', '213600': 'Devin Patrick', '213700': \"TT's\", '214100': 'Lorenzo LSP', '214200': 'D.W. And The Party Crew', '214300': 'Mz. Trinity', '214400': 'Warren Fischer', '214700': 'Sausage', '214800': 'Hombre Muerto', '215200': 'PIL', '215600': 'O Povo Canta', '215700': 'Gil J. Wolman', '216100': 'Radio Friendly Unit Shifter', '216400': 'Paul Taylor (2)', '216500': 'Cyber Complex', '217500': 'King Lou', '217700': 'Susanne Webb', '217800': 'Kyna Antee', '218000': 'Tim Kvasnosky', '218100': 'Andreas Frey', '218400': 'Boy Adonis', '218600': 'Dave Townsend', '218700': 'The Old Maid Billionaires', '219000': 'Henry Hay', '219200': 'Johnny Lover', '219300': 'Sick Of Silence', '220000': 'L. Carl Burnett', '220100': 'Dana Countryman', '220200': 'Cappuccino (2)', '220400': 'Dime', '220600': 'Q-ic & Ghost', '221000': 'Paul Knight', '221200': 'Nice Guys (2)', '221400': 'A.T.R.', '221700': 'Chaotica', '221900': \"Lil' Italy\", '222300': 'Implog', '222700': 'Body Games', '222800': 'Chilla Frauste', '223000': 'Oofotr', '223100': 'Kelvin Wooten', '223200': 'Triosk', '223300': 'Sir Ron \"Nerve\" Thompson', '223400': 'Gangsta Ern', '223500': 'St. Tropez Caps', '224200': 'Astro (4)', '224300': 'SFX (4)', '224400': 'Las Animas', '224600': 'Sam Townend', '224700': 'Metabol', '224800': 'Assassins (3)', '225000': 'Brothers Incognito', '225800': 'The Rose Family', '226000': 'Selectone', '226100': 'DJ Sety', '226700': 'David Evans', '227300': 'Mette Marie Kongsved', '227400': 'Ist Shawn Rhythm', '227500': 'Lightning Ivi', '227900': 'Vox Celesta', '228400': 'Antwon Lamar Robinson', '229400': 'Shubaka', '229500': 'Manfred Mann Chapter Three', '229600': 'DJ Jackson', '229800': 'Clairaudience', '229900': 'Nick Chatelain', '230100': 'Freelander', '230200': 'Rise (4)', '230400': 'Section 11', '230800': 'Crude', '230900': 'The Wonder-Girls', '231000': 'Spencer (2)', '231300': 'Mark Allan', '231500': 'The Intelligent Black Men', '231900': 'The Godfathers Of Threatt', '232000': '370°', '232100': 'Lusinda', '232200': 'James Smith (2)', '232300': 'The King Cut Groovers', '232500': 'Papercut', '232700': 'Telegram', '232800': 'nico d', '233100': 'Edward Archer', '233200': 'Archaean Harmony', '233400': 'Delayed', '233600': 'Ultraxx', '233800': 'Fil Planet', '233900': 'Squig', '234000': 'Andre The Giant', '234300': 'Discipline Unit', '234500': 'Novo Tempo', '234700': 'Diana McIntosh', '234900': 'Paul Of Paper', '235000': 'Simon Rutherford', '235100': 'Dub Delirious', '235300': 'MONTERREY', '235400': 'Drop Kickz', '236000': 'Don & Judy', '236400': 'The Cool Runnings', '237500': 'The Bermuda Triangle', '237600': 'Sun (8)', '237800': 'R.V.D.B.', '238000': 'Evan Gordon', '238300': 'Coolcut', '238400': 'Kaleid', '239500': 'Dr. Dream', '239900': 'Urban Frequency', '240000': 'Moeb', '240100': 'Manjula Guru', '240600': \"Southern Houzin' Authority\", '240700': 'Kuta (2)', '240800': 'Nick Beman', '241100': 'Vok', '241400': 'Popper Hnool', '241600': 'Hot Troche', '241800': 'Caribbean Soul', '242300': 'Fantasy Project', '242400': 'Tash Mahagony', '242800': 'Fat Harlingen', '243000': 'BB Tone Brian Berdan', '243500': '84 King Street', '243600': 'Money System', '243800': 'Denise Weeks', '243900': 'Rufus Dunkel', '244100': 'De Elektronika Winkel', '244200': 'Rein', '244300': 'G-Sharp', '244500': 'Century (2)', '244600': 'The Suspect', '244900': 'Cherry Flavor', '245300': 'The Rhythm Bandits', '245600': 'Pjay', '245800': 'Trawsfynydd Lo-fi Liberation Front', '246000': 'United Spirit', '246200': 'Brothers By Choice', '246300': 'Tonic (3)', '246500': 'David Elliott', '246900': 'Drumatik', '247100': 'Giorge Pettus', '247200': 'Roubaix', '247300': 'J.B. (2)', '247800': 'Ni-Che', '248000': \"Presta's House\", '248200': 'Ero', '248300': 'A+E Project', '248700': 'Elektronika', '248800': 'Claus Böhmler', '249000': 'Juiz', '249200': 'Peat Jr.', '249400': 'Talkwell', '250000': \"Butch Cassidy's Funk Bunch\", '250600': 'Mo-Ink', '250800': 'Miss Ann', '250900': 'Defcon One', '251200': 'Medea (2)', '251300': 'Jean C. Dussin', '251400': 'The Higher Primates', '251500': 'D.Dact', '251600': 'Derin Young', '251900': 'Shake Appeal', '252000': 'Higher Empire', '252800': 'The Revels', '252900': 'Craig Bell', '253400': 'Lenni-Kalle Taipale Trio', '254000': 'Eos Chater', '254700': 'Siam (3)', '255000': 'Tom Simoen', '255300': 'I.D. (3)', '255400': 'Louis Nunley', '255600': 'Teddy & His Patches', '255700': 'Gladiators (2)', '255900': 'Laptop Dancer', '256500': 'Michael Harris', '256700': 'Nick Smith (2)', '256800': 'Trancelation', '256900': 'DJ Rondevu', '257100': 'DJ Ferran', '257200': 'Doc (4)', '257300': 'Smalltown Heroes', '257600': 'Chris Gibson', '258000': 'The Triumphs', '258100': 'Fiona Stephen', '258200': 'Nico Berthold', '258600': 'Glow P.M.', '258800': 'Alex Perdigon', '259000': 'Sandy Rogers', '259100': 'Desmond Q Hirnch', '259500': 'Scope (11)', '259600': 'Jay Sanders', '259700': 'Brian McGuire', '259900': 'Outgate', '260400': 'caTekk', '260600': 'Health Hazard', '260700': 'Sagentoeter', '261000': 'Natalie Rassoulis', '262100': 'Capital', '262200': 'Fockewulf 190', '262400': 'MC Jerome', '262500': 'Excitations', '262700': 'The Shaven Heads', '262900': 'Seb Neitsa', '263100': 'Stephan Steigleder', '263200': 'Shooting Gallery', '263800': 'Paul Nitsche', '264300': 'Robyn Z', '264500': 'Triple H (2)', '264700': 'Cedamus', '265000': 'Ghostdance', '265200': 'N.O.D.s', '265600': 'Forty Foot Echo', '265800': 'Joe Green', '265900': 'Heemat', '266200': 'John Bergin', '266300': 'D-Tune (2)', '266400': 'The Motion Explosion', '266600': 'Erikoismies', '267100': 'La Séduction Des Innocents', '267500': 'The Ananda Shankar Experience', '267800': 'Wonky Alice', '268100': 'Otis Smith', '268400': 'Overdose (4)', '268500': 'Solarized', '268800': 'Glyn Tucker Jnr', '269000': 'M. Arfmann & The Naked Factory', '269200': 'Twisted Minds (2)', '269300': 'Zwidi', '269400': 'Spirit (7)', '269800': 'Destination Unknown (3)', '270100': 'Bass G', '270300': 'Thee Stash', '270400': 'Gun & Eyes', '270500': 'Sweet Cookie', '270700': 'The B.C.A.', '270800': 'Leo Shuken', '271100': 'Axel Manrico Heilhecker', '271600': 'Takehito Miyagi', '271700': 'Youth Brigade (2)', '272100': 'Stepleader', '272300': 'Ray Terrace', '272700': 'David Gibson', '273000': 'DJ Crash (2)', '273200': 'Marlose', '273300': 'Worl-A-Girl', '273600': '...Bender', '273900': 'Ron Levy', '274100': 'Ader', '274300': 'Juliana (3)', '274600': 'Uncle Innocent', '275000': 'The Unnameable', '275300': 'Charles Hårfager', '275400': 'Heads Up', '275500': 'Raiki', '275700': 'Noisebrothel', '275800': 'Tymon', '276200': 'Anal Solvent', '276400': 'Paul Ibiza', '276500': 'Flossie And The Unicorns', '276700': 'Jennifer Saunders', '277500': 'Dangerous LLC.', '277600': 'Family Affair', '277800': 'The Tubby Hayes Quintet', '278000': 'Bazykina Twins', '278500': 'Leo Lyons', '278700': 'Jack Knife', '278800': 'The Ward Brothers', '278900': 'Silosonic', '279500': 'Bill Cutler', '279700': 'Space Odyssey', '279900': 'Orga (2)', '280000': 'Brotherhood Foundation', '280100': 'Electronic Welfare', '280500': 'Phaze 1 (3)', '281100': 'Wards', '281300': 'Xedh', '281500': 'Simon Mary', '281600': 'Micke Andersson', '281700': 'Joe Ruvolo', '281900': 'Glander', '282700': 'Tone (6)', '283000': 'Tanar Catalpinar', '283400': 'Teardrop', '283500': 'Bonny Trash', '283800': 'Napoleon M. Brock', '283900': 'Stelee-up', '284000': 'Julio (2)', '284300': 'Tiger Lilly', '284500': 'Night Dream', '284600': 'The Carnations', '284800': 'Atomic Robo Kid (2)', '284900': 'Floppy Vibe', '285400': 'Rude Poets', '285600': 'Mad Cow And The Royal Eurobeat Orchestra Of Bazookistan', '285800': 'Hardsquare', '286000': 'Harzfein Productions', '286100': 'Rama (2)', '286200': 'John Green', '286300': 'City To City', '286400': 'Elkee', '286600': 'Patrick Fridh', '286800': 'Melonman', '286900': 'Barrington Stewart', '287100': 'Vini Selecta', '287200': 'Cape Fear', '287300': 'Precious Death', '287500': 'Pathfinder (4)', '287700': 'Jasmine Rae', '288100': 'Myriam Valle', '288500': 'Mental Bazar', '288600': 'The Waders', '289000': 'Blacc Smythe', '289400': \"Aladdin's Quest\", '289500': 'S.K.E.T.', '289700': 'Peter Mark', '289800': 'Lollie', '289900': 'Mainline (5)', '290100': 'Caterwaul', '290400': 'Steffi (3)', '291000': 'Loka (2)', '291100': 'Ashley Irwin', '291200': 'Tom Keylock', '291400': 'Bleistift', '291800': 'David Whitworth', '292000': 'Kyllex', '292100': 'Global Fury', '292300': 'Namgar', '292400': 'Thony', '292600': 'Little Lord Funkleroy', '292700': 'The Neurologists', '293000': 'I.F.', '293100': 'Vula Malinga', '293200': 'A Day In The Park', '293300': 'Durand Estevez', '293400': 'Sean M. Whelan', '293500': 'Amy & Alba', '294000': 'Orient', '294100': 'The Brigade', '294400': 'Continental Cowboyz', '294800': 'White Line', '295400': 'Wally Chambers', '296100': 'Frithjof Toksvig', '296500': 'Blacktop', '296600': 'Studio Mafia', '297200': 'DJ Alby', '297300': 'Rico (8)', '297400': 'The Party Crashers', '297500': 'Get Open', '297600': 'M-Waxx', '298300': 'Gary Gordon', '298500': 'A&F', '298900': 'Daryl Burgee', '299600': 'Moatib', '299900': 'Supersub', '300300': 'True Kiss Destination', '300800': 'Riitta Paakki', '301000': 'Zero Times Infinity', '301200': 'Winfried Ebert', '301500': 'Ana Vieira', '301700': 'Die Unbekannten', '301800': 'Eye-con', '301900': 'Camille (4)', '302100': 'K1 (2)', '302200': 'Joel Eckhaus', '302400': 'Julien Ash', '302800': 'My Glass Beside Yours', '303200': 'The Antiques', '303300': 'Violinator', '303500': 'Queen Factory', '303800': 'Noccio', '304100': 'Carlos Guitarlos', '304300': 'Julian Spear', '304700': 'Poetiq Mindz', '304800': 'Einklang (3)', '305000': 'Benjamin Schlez', '306100': 'Venice Beat', '306200': 'The Mask (3)', '306300': 'Bruce Gray', '306400': 'Nino Palermo', '307000': 'Midnite Flite', '307100': 'End Of Man', '307800': 'Sync-24', '308400': 'Prince Sampson', '308700': 'New Jazz Movement', '308800': 'Rapid', '309000': 'Max Lomov', '309100': 'Rhamel', '309300': 'DJ Decline', '309600': 'Federico', '309700': 'Cliff Korman', '309800': 'Driveby', '310100': 'James Griffin', '310400': 'Fake (3)', '310700': 'Stian Skagen', '310900': 'J. J. Orlando', '311000': 'Hans Josef Groh', '311100': 'The Indian Feast', '311700': 'The Buzzards', '311900': 'Audiotreats', '312300': 'Spike Jones New Band', '312900': 'Base (4)', '313200': 'Ten Boy Summer', '313300': 'Society Of Friends', '313400': 'Taste Of Fear', '313800': 'Miklos R', '314100': 'Midnight Rock Crew', '314200': 'Ghost Riders', '314300': 'Louis Moholo Octet', '314600': 'Senses (4)', '314700': 'DJ Unknown (6)', '314900': 'Tina Sugandh', '315000': 'Dede (2)', '315100': 'Andrea Black', '315600': 'Lucia Turnbull', '315900': 'Duck You Sucker', '316000': 'Crown Jam Crew', '316100': 'Raw Bud', '316600': 'Collins Avenue (2)', '316800': 'Judd Miller', '317000': 'Krocht', '317200': 'Traci Vaughn', '317600': 'P.I.N', '317800': 'Franck Biyong', '317900': 'Sidney Bechet And His Blue Note Jazz Men', '318600': 'Herbert Morgan', '319000': 'Frankie J', '319200': 'Belinda Wilson', '319400': 'Vincent (4)', '319800': 'Gene Norman', '320600': 'The Todd Rhodes Orchestra', '320900': 'Carwell', '321200': 'John Fluker', '321300': 'Eric Stein', '321500': 'The 4-Squares', '322600': 'Kern & Sanner', '322700': 'Pablo G.', '322900': 'Unsane Virusez', '323100': 'Serge Clemens', '323200': 'Burbuja', '323300': 'Falcom', '323400': 'Sugarstring', '324000': 'Sam Schlamminger', '324100': 'Headmasters', '324800': 'Terraformers (2)', '324900': 'A Covenant Of Thorns', '325700': 'Billy (3)', '325900': 'Leithana', '326000': 'Kenny Horst', '326100': 'Patrick Duperray', '326500': 'Sherlynn Jones', '326600': 'ZVI', '326900': '2for5', '327300': 'The Struggle Buggies', '327700': 'The Basement', '328200': 'Bakithi Kumalo', '328300': 'D 2 The K', '328400': 'D-Tech', '328700': 'B. Miller', '328800': 'Red (12)', '328900': 'Urubamba', '329000': 'Sabroso', '329200': 'Ava Lucious Whyte', '329800': 'Frenchie (2)', '329900': 'Darwin Barboza', '330500': 'City Side Crew', '330600': 'Havana Club (2)', '331000': 'Kasey', '331100': 'Elsa Hill', '331200': 'Techoir', '331500': 'In Tenebris', '331800': 'Dab Hand', '331900': 'qwe', '332000': 'The Sluggers', '332100': 'Quantom', '332200': 'A.D. (3)', '332400': 'Siahnide', '332700': 'Beneva', '333100': 'Friendlyware', '333200': 'Big Blue', '333300': 'Nevia Preex', '333700': 'Young Cellski', '334200': 'Enjumi', '334400': 'The Ham', '334700': 'Christian Stemmann', '334800': 'Kenny Martin', '334900': 'Bonde Neurose', '335000': 'OD Hunte', '335100': 'Jens Petter Antonsen', '335400': 'Ephemera (2)', '335800': 'Busy (2)', '335900': 'Mango Kings', '336000': 'Dr Kaine', '336200': 'Zink', '336400': 'Stéphane M', '336500': 'Seven Kings', '336600': 'Lovaboy', '337300': 'Santa B. Boys', '337400': 'Jose (2)', '337700': 'K.B.Z.', '337800': 'DJ Quick (4)', '338100': 'Omega Force (2)', '338400': 'Crombie', '338700': 'Jonathan Adams', '338800': 'Team 4', '338900': 'Swoop (2)', '339000': 'Too Large Crew', '339300': 'Claude Jordan', '339900': \"Charles Creath's Jazz-O-Maniacs\", '340000': 'Josef Vejvoda', '340100': 'Alan Carvell', '340500': 'Salam', '340900': 'Stomper (2)', '341000': 'The RAW Project', '341100': 'Moriba Koïta', '341300': 'The Scabs (2)', '341800': 'DJ Trip (3)', '342000': 'Pauline Pearce', '342100': 'Albert Mangelsdorff Quintet', '342400': 'Rob Mellow', '342500': 'Acid Boy Chair', '342600': 'Seele', '342800': 'Columbia Studio Orchestra', '342900': 'The Blenders (2)', '343000': 'Richie Ramsay', '343200': 'Phonoroid', '343400': 'Garfield \"Sampalue\" Phillips', '344300': 'Mister B (2)', '344600': 'The Strike (2)', '344800': 'Influx (4)', '344900': 'Markus Altmann', '345000': 'K.O.T.', '345100': 'Mavi (2)', '345700': 'Cindy Cooper', '346100': 'Brian Moore (2)', '346800': 'Altri Mondi', '346900': 'Chica (2)', '347000': 'D-Mars', '347100': 'Cosmo Vitelli (2)', '347600': 'A-Kara', '347700': 'Cubik & Origami', '347800': 'The London Dread Collective', '348100': 'Studioorchester Jo Sandberg', '348200': 'Punk Dish', '348500': 'Charlie Pennachio', '348600': 'Horst Krüger-Band', '348800': 'The NPG Orchestra', '348900': 'Baseman (4)', '349000': 'Junatik', '349100': 'The Cocker Spaniels', '349600': 'DJ R-No', '349700': 'Martin Jay', '350100': 'James Gelfand', '350200': 'Moonrunners (2)', '350300': 'Sixty Nine', '350400': 'Johnny 7 Moons', '350800': 'Andrew Cox', '351200': 'Bling & Spade', '351300': 'Jnr Hacksaw', '351400': 'Incomplete', '351600': 'C2K:Cytekk', '352400': 'Mike Morin', '352500': 'Rude Hi-Fi', '352600': 'Deep Blue (6)', '352700': 'Leon Berger', '353000': 'Sense Of Sight', '353200': 'Pierre-Olivier Govin', '353300': 'DJ Wayne Richie', '354000': 'Michell', '354200': 'Rik Santiago', '354300': 'T-Mofi', '354400': 'Lee Harvey Cremo', '354500': 'Melo Mafali', '354700': 'István Bergendy', '355500': 'Hansi Biebl', '355700': 'Lem Johnson', '355800': 'Space Junkie', '356000': 'Zoo Gang', '356100': \"Smokestack Lightnin'\", '356300': 'The News', '356600': 'Funky Honkie & The Rinkeby Lowrider', '357700': 'Preston Hubbard', '358000': 'Jonnie P', '358100': 'The Besotted', '358200': 'Gianfranco', '358400': 'The Other Brother', '358500': 'Digitrax', '359600': 'Verde', '360300': 'Miss Daisy', '360600': 'Superherorockstar', '361100': 'Dave Carey', '361200': 'Betty (3)', '361300': 'Danny McCarthy', '361400': 'Cave Drummer', '361700': 'Mario VI', '361800': 'The Anvil Band', '361900': 'Bobby Creekwater', '362300': 'Alex Camel', '362400': 'Lesley Hamilton', '362800': 'Malsain', '362900': 'Virtual Tracks', '363000': 'The Lama Home Band', '363400': 'Johan Gustavsson', '363700': 'Hard Rock Project', '363800': 'The Morris Nanton Trio', '363900': 'DJ Thomas (2)', '364100': 'Reset (5)', '364800': 'Edwin Rutten', '365000': 'Maryslim', '365900': 'Puffsnob & Ramlush', '366000': 'Chapee', '366300': \"Declan O'Doherty\", '366400': 'Overman (2)', '366600': 'Joy (16)', '366700': 'Moneymax', '366900': 'Winterkou', '367100': 'Hans Helewaut', '367200': 'Candy Boyz (2)', '367900': 'Fokal', '368600': 'Los Hijos de Ibiza', '368700': 'DJ D-ice', '369000': 'Walter Tates', '369100': 'I.N.A.', '369500': \"L.A.'s Own Billy The Kidd\", '369800': 'The Sisters Of Perpetual Indulgence', '370600': 'Idiotlust', '370700': 'Regina Osuhor', '371000': 'Precinct 47', '371200': 'Chris Polacheck', '371400': 'Majesty (6)', '371600': 'Beyond A Void', '371700': 'Peryk', '372000': 'Phil Wood', '372100': 'Rolf Baierle', '372800': \"Drake's Medicine\", '373100': 'Affray', '373300': 'Wild Moreno', '373400': 'Bump-N-Uglies', '373500': 'The Glissando Twins', '373600': 'Los Dynamite', '373800': 'Benoît Gaudiche', '374000': 'C.P. Company', '374100': 'Bengt Rosengren', '374500': 'Esoh', '374600': 'Jin Won Lee', '374800': 'Ronnie & The Hi-Lites', '375300': 'Robert De Niro', '375600': 'Hubert Lee', '375700': 'Edson Byer', '375900': 'Adam Brett', '376100': 'Sonic Bang', '376400': 'Tolera Storm', '376500': 'David Nuss', '376600': 'Larry Devore', '376900': 'Lilly (4)', '377000': 'Tribal Mask', '377100': 'Crack (4)', '378000': 'The J.C. White Singers', '378400': 'Delta Waves', '378800': 'Arkos', '379000': 'Vivian Prince', '379200': 'Isabel Snyder', '379300': 'Al Camara', '379400': 'Street Flava', '379700': 'Terry Kennedy', '380000': 'Josephine Sweet', '380300': 'Oma Hans', '380800': \"D'Arcy\", '381000': 'Thomas Markusson', '381200': 'Shortcut (2)', '381300': 'Brothers Of Rebellion', '381600': 'Henry Krutzen', '381700': 'Dan Thomas', '382500': 'Apollos Show Band', '382700': 'Nermin', '383000': 'Nhile', '383700': 'Nick Petty', '383800': 'Todd Boekelheide', '384100': 'Future Factor', '384700': 'Simon Grigg', '384800': 'Eric Marke', '385000': 'Garotos De Praia', '385300': 'Aktarv8r', '385400': 'James Gossard', '385700': 'Bayanga', '385800': 'Dan Crane', '386100': 'Martian Arts', '386300': 'Willy McDougal', '386400': 'Yvette Pylant', '386500': 'Michael Cooper (2)', '386700': 'Cindy Scott', '386900': 'Lionel Belasco', '387000': 'Itchy No Ho', '387100': 'The Youngsters (2)', '387300': 'High Wycombe', '387500': 'Noemi Dee', '387800': 'Basement Clash (2)', '388100': 'Magoo (8)', '388800': 'Enzian Power', '388900': 'New City State', '389000': 'Hernan T', '389100': 'Medley', '389800': 'Su Pollard', '389900': 'John Hammond (2)', '391000': 'DJ Viet-Naam', '391100': 'Clarence Hill', '391200': 'Beat Goes Bang', '391600': 'Jany McHoney', '391800': 'Chaly Albert', '393000': 'Sandi Edwards', '393900': 'Clifton White & His Royal Knights', '394500': 'Gathering Ground', '394900': 'Franz Joseph', '395700': 'Jonathan Dee', '396200': 'Enrique Garcia', '396300': 'The Crossfires', '396400': 'Jean Adès', '396600': 'Ra Corporation', '396800': 'Substance Of Dream', '397000': 'Vlad Blasphemer', '397500': 'Sabine Heil', '397600': 'Sharvette Cole', '398000': 'Psycho (13)', '398100': \"Zeck's Machine\", '398700': 'Cubist', '399300': 'Ace Of Beat', '399700': 'Prodigy P', '400200': 'Tulla Soundsystem', '400400': 'Steve MacAllister', '400500': 'Neil Shepherd', '400700': 'MJ (3)', '400800': 'David Glass', '401000': 'James Ormandy', '401200': 'Hogman Maxey', '402000': 'Antti Määttänen', '402200': 'League Of XO Gentlemen', '402300': 'Yuzuru Tatsuta', '402900': 'Marlene Dumas', '403600': 'Malyssa', '403800': 'Die Lustigen Guschins', '403900': 'Joyce Lyle', '404000': 'Freepoint Crew', '404100': 'Extcy Club', '404600': 'Karli Owli', '404800': 'Pot Belly', '404900': 'Sir Lecta', '405000': 'Marco Gotti', '405200': 'Baalberith', '406400': 'Baz Mattie', '407100': 'Innenraumanalyse', '407700': 'The Scrubs', '407800': 'Dan Diamond', '408100': 'Simos 1A', '408200': 'Aleks Tamulis', '408500': 'Nouveau Riche (2)', '408600': 'Bai Krishan', '408800': 'Shoji Togame', '409300': 'Sylvia Brandse', '409500': 'Hendrixon Mena', '409600': 'Sasha Kazatchkoff', '409700': 'Bert Vaatstra', '410000': 'Kent Base', '410500': 'Laniece Lee', '410700': 'Derek Fearnley', '411200': 'Leroy Vohn And Money', '411400': 'Beano Jameson', '411700': 'Magnificent Montague', '411800': 'Il Folklorista', '411900': 'Tagami Shankar', '412100': 'Tomoya Fukuchi', '412300': \"A Scapegoat's Life\", '413000': 'Hellhound', '413700': 'Red Atkins', '414500': '08/15', '414700': 'DJ Power (2)', '415400': 'Mads Berven', '416000': 'Palmer Wood', '416200': 'Keech Rainwater', '416600': 'Kahu', '417100': 'GM Funk', '417300': 'Marc Emmerik', '417600': 'Morgan C. Hoax', '417800': 'Stanley Erraught', '418000': 'UR (2)', '418100': 'The Blitz', '419200': 'Wendell Davis', '419400': 'Sadie Mae', '420700': 'Xinetd_D', '420800': 'Pilgrim Fathers Orchestra', '421100': 'Christian Ergueta', '421600': 'Mariana Green-Hill', '421800': 'Matei Constantin', '422000': 'Voi (2)', '422100': 'Jungle Junction', '422300': 'M.F. Boyz', '422500': 'DJ Blaine', '423700': 'Matthew Vik', '424000': 'Far-Less', '424100': 'She DJ Spree', '424700': 'Ghislain Soufflet', '424900': 'Selezneff', '425000': 'Toby Chu', '425300': 'Spin 1ne 2wo', '425400': 'Kaya (4)', '425800': 'Flow Budget', '426100': 'Algolagnia', '426300': 'Null Hypothesis', '426700': 'Kósý', '427000': 'Garry DJ', '427300': 'Tiffany Paige', '427400': 'Redglaer', '427500': 'Levine', '427600': 'Evan Schiller', '427900': 'Naoki Suzuki', '428100': 'Paragon (9)', '428200': 'The Chösen', '428300': 'Flash Gordon (3)', '428700': 'No Dynamics', '428800': 'Antihoney', '429300': 'Jordana', '429800': 'Benjamin Bialek', '430000': 'Reese Beeman', '430200': 'Tommy Whispers', '430400': \"The Pro's\", '430700': 'Lux (6)', '431000': 'Hans Löw', '431100': 'Frederick Bradshaw', '431700': \"Martha's Vineyard\", '432200': 'Herman Müntzing', '432400': 'm.i.', '433000': 'Mark Horn', '433100': 'The Soul Smoochers', '433700': 'Paul Strand', '434000': 'Rob Devito', '434200': 'Jan Ziegler', '434800': 'Latoya', '435000': 'Trekless', '435100': 'Marcin Nowakowski', '435400': 'Randall Murray', '435500': 'Thought Guild', '435800': 'Thomas Rounds', '436300': 'The Skandalous All-Stars', '436400': 'Ritual Music', '436900': 'Daredevil (2)', '437200': 'Horst Schick', '437700': 'Wickit', '437900': 'Antoine Volodine', '438500': 'Haile Selassie I', '438700': 'Keith Cary', '439000': 'Elisabeth Volkmann', '439200': 'Never Mind The World', '439400': 'Jamaica Papa Curvin', '439500': 'Bettina Skrzypczak', '439800': 'Richard Marriott', '440300': 'DJ MEZZO', '440800': 'Bernard Schol', '441100': 'Maxeen (2)', '441500': 'Sunny Lizic', '441700': 'Liten Falkeholm', '442200': 'Al-Jabra', '442500': 'Asshole Blues Players', '442700': 'The Saphires', '442900': 'Geigercounting', '443400': 'Colette (4)', '444000': 'Fifty', '444100': 'Lauren Bacall', '444700': 'Mamaluke', '444800': 'Coco Lagos Y Sus Orates', '445100': 'A Beautiful Machine', '445300': 'DJ Owen', '446000': 'David \"Froggy\" Froggatt', '446500': 'Prophet Jones', '446700': 'Prisca', '447000': 'Karen Vogt', '447200': 'Soliloquy', '447600': 'Hilarie', '447900': 'The Separatists', '448000': 'Randy Franklin', '449400': 'Paul Hostia', '449600': 'Karim Shaker', '449700': 'Hitch', '450000': 'Brynjard Tristan', '450300': 'Tom Smith (4)', '450500': 'Full Power', '450700': 'David Bamford', '451000': 'Balto', '451500': 'Titan SS', '451800': 'EarBreaker', '452000': 'Mary Fettig', '452500': 'Chris Steele-Nicholson', '452600': 'Matt Matthews', '452800': 'Martin Bresnick', '452900': 'Alexandre Grooves', '453400': 'Crociani', '454000': 'Esquire (2)', '454400': 'Ensemble Camp', '454700': 'Drew Martin', '454900': \"D'Nero\", '455000': 'Danny Johnson (2)', '455500': 'Moseh Naïm', '455600': 'Maiko Noguchi', '455700': 'Laurent Israël', '455900': 'Uve Schikora Und Seine Gruppe', '456100': 'Lajos Mészáros', '456300': 'Hava', '456400': 'Nash Chase', '457100': 'Fish (5)', '457600': 'Margie Martinee', '457900': 'Andy Mclaughlin', '458900': 'Helmut Kandert', '459500': 'Robert Hartzell', '459600': 'lu&nl', '459800': 'Big In Albania', '460200': 'Patrick Van Herck', '460800': 'Ubique', '461100': 'Lorna Doom', '461300': 'Ben Grim (2)', '462100': 'DJ Spectron', '462300': 'Diario', '462400': 'D.J. Band', '462500': 'Cry Havoc', '462700': 'David Khan', '463000': 'Die Christmaskameraden', '463400': 'Mulugeta Abate', '463900': 'It Works!', '464300': 'Johan Persson', '464400': 'Roscoe Mackey', '464500': 'Ritus XI', '464600': 'Nickey \"Pork Dickey\" King', '464900': 'Jimmy Z (3)', '465000': 'Sarah Weaver (2)', '465100': 'Self Esteem', '465300': 'Sintesis', '465600': 'Pamela Matthew', '466000': 'zielgruppe', '466400': 'Youth Is Violence', '466600': 'Funaman', '466700': 'NIPOPO', '466800': 'Skenkie', '466900': 'Michael Sandig', '467000': 'Ilya Malyuev', '467200': 'Sackrai', '467400': 'Jessi Leigh Swenson', '467800': 'Daniel Handler', '468700': 'Margitta Haberland', '468900': 'John G. Lewis', '469400': 'Eiichi Sawado', '469700': 'Vampix', '470000': 'Colombier', '470100': 'Filadelfia', '470200': 'Tomio Tremmel', '470300': 'Keijo Virtanen', '470500': 'PACIFIC RADIO', '470600': 'Rio (10)', '470700': 'Batman (4)', '470800': 'Damir Ludvig', '470900': 'Roberto Maria Clemente', '471000': 'Magnus Stinnerbom', '471300': 'Overnight Players', '471500': 'Jack Armstrong And His Northumbrian Barnstormers', '471700': 'Joe Mc Roy', '471800': 'Banjos Likørstue', '472100': 'A-Blok', '472200': \"O'Keefe\", '472500': 'Stephen Shelton', '472600': 'Le Connaisseur', '472700': 'Anuna', '472800': 'Dig Dig Dig', '473000': 'MC Warren G', '473200': 'Palomo', '473400': 'Hustle Espanol', '473500': 'Scarlett (5)', '473800': 'Karim Sayed', '474000': 'Maya (13)', '474100': 'F.H. Process', '474200': 'Flext', '474300': 'Scott Perry', '474400': 'Yosef Shamay', '474600': 'The Undertaker (3)', '474900': 'Dave Dixon', '475000': 'Hans-Hendrik Wehding', '475300': 'Станислава Коцева', '475400': 'Sean Washburn', '475500': 'Filipa Pais', '475600': 'DJ Borax', '476200': 'Miss Fetish', '476400': 'Thomas Yang', '476700': 'Moonson', '476900': \"DJ's On Beat\", '477100': 'Hammer (7)', '477200': 'Idle Tigers', '477700': 'Vanessa Billi', '477900': 'Christopher Jones', '478300': 'Edward Green', '479200': 'Hadron', '480000': 'Dan Truhitte', '480200': 'Israel Slick', '480300': 'Ramon Peñas', '480600': 'Emma Roads', '480800': 'Sitara', '481300': 'One Solution', '481600': 'One Drop Does It', '482200': 'Big Dog', '482300': 'Overdosis', '482400': 'Swallow (3)', '482500': 'NNM Productions', '483100': 'Matthew Fischer', '483400': 'Lupo (4)', '483500': 'Colossus (2)', '483600': 'Константин Гаврилов', '483900': 'Edison Woods', '484000': 'Julio Sanchez', '484500': 'Hi-Fi Sky', '485600': 'The Urban Dread', '485800': 'Marc Trautmann', '486300': 'Thomas Oboe Lee', '486700': 'Djinn (2)', '487000': 'Rascals', '487400': \"De Riwi's\", '487500': 'The Outastyle', '487900': 'Alexandra Ziem', '488200': 'Funkanala', '488300': 'The Big Heat', '488400': 'Dies Irae (3)', '488600': 'Stephanie Thomas', '488900': 'Arli', '489100': 'Le Vibe', '489700': 'Nathan Means', '490100': 'Ilaria', '490400': 'Сергей Троицкий', '490500': 'Dennis Woodrich', '490700': 'Cutty Mack', '491200': 'Gianfranco Pernaiachi', '491700': 'La Palace De Beauté', '491900': 'Ron Gardner', '492000': 'Cobra (9)', '492100': 'The Neon Death Slittes', '492200': 'Shot (2)', '493000': 'Peel', '493100': 'Coyote And The Lost Dakotas', '493400': 'Bongo Gene Allstars', '493500': 'Nathan Vasquez', '493700': 'DJ 26 Brian', '493800': 'Synergy (15)', '493900': 'Alonso Cano', '495100': 'Kym Ayres', '495200': 'K (11)', '495400': 'Natalie Jordan', '495900': 'Headspring', '496000': 'J.J. Bosque', '496200': \"L'Éponge Synthétique\", '496700': 'Sidney Firman', '496800': 'Lioness', '496900': 'Spook & the Zombies', '497200': 'Miss Chianty', '497600': 'Jo-Jo MC Kool', '498000': 'Dimitri Bodianski', '498100': 'Lee Cornel', '498300': 'Anti-Man', '498600': 'Staffan Westerberg', '498700': 'Jegsy Dodd', '499700': 'Tilmann Dehnhard', '500400': 'Boris & His Bolshie Balalaika', '500500': 'Coliseum (3)', '500600': 'Tivol', '500900': 'Maniac Cop', '501100': 'Andrzej I Eliza', '501400': 'Greg City', '501800': 'Savour', '502100': 'Pete Felleman', '502700': 'TAGEZ', '502900': 'Sintex Bortexx', '503100': 'Wood (4)', '503800': 'Rachael Wadham', '504000': 'Small Change', '504100': 'Lucas Banker', '504600': 'Aphotic', '504700': 'Dougal Reed', '504800': 'Scrape (2)', '504900': 'Maclain', '505100': 'Eric Melon', '505500': 'Destruktiv Kultur', '505700': 'Gomorrha (2)', '505900': 'DJ Tururu', '506300': 'The 4Horsemen', '507000': 'Eugene Organ', '507200': 'Dave Gleeson', '507600': '10% Band', '508100': 'Michael Neihs', '508300': 'Challenge Experience', '508500': 'Nipple Erectors', '508600': 'Opera Prima', '508700': 'Steve Pear', '508800': 'Sirago', '509100': 'Pancake (2)', '510100': 'Scrambled Defuncts', '510300': 'Heikki Juhani', '510600': 'Social Waste', '510700': 'E.C.E.', '511100': 'This Is My Fist', '512200': 'Michel Barouille', '512500': 'C. Worth', '513000': 'Nino Rivera', '513200': 'Ayako Nagatuma', '513600': 'Catherine Miller', '513800': 'Neurotics', '514100': 'Outlaw (9)', '514400': 'Colours Of Dance', '514500': 'Csabi', '515100': 'Lauxna Lauksna', '515200': 'Margaret Thorby', '515600': 'Anna McDonald', '516700': 'U-Key', '516800': 'Tru Baller', '516900': 'Magne Hesjevoll', '517000': 'Tony Hale', '517200': 'Kam?Čo?', '517300': 'Henrik Söderquist', '517800': 'Steven Seagal', '518000': 'Dogstar', '518200': 'Rick Dick', '518300': 'Dunya Yunis', '518800': 'Chris Marlow', '519600': 'Rob-Ot', '519800': 'Chris Robison', '519900': 'Staszek Śnieżko', '520400': 'John Povey', '520700': 'Teisco Del Rey', '520800': 'Gary Wright (3)', '521200': 'Oceanus', '521300': 'Peter Doherty', '521900': 'The Hyperjax', '522300': 'Life (11)', '522400': 'Mark Evans (3)', '522500': 'Big Mouth & Little Eve', '523000': 'Gérard Amsellem', '523100': 'Niki X', '523300': 'Sami Anttila', '523500': 'Sarah Greaves', '523700': 'Mr. California', '524200': 'Ronin System', '524300': 'Warsaw Preskov', '524500': 'Mark Johnson (4)', '524600': 'Pernambuco', '525100': 'Montreal (2)', '525200': 'The Pseudonymphs', '526100': 'Marvin Jackson', '526700': 'Yes Boss', '527000': 'Morry Kernerman', '527200': 'Million Dollar Secret', '527300': 'Lo-Lite', '527500': 'Halcyon Kiss', '527800': 'Anastasia Filippochkina', '528100': 'Duncan Pain', '528800': 'Vomit (2)', '528900': 'Korum Bischoff', '529100': 'Jeanine (2)', '529200': 'Fear Of Blue', '529300': 'First Avenue', '529700': 'Tiddey', '530500': 'Kitt Katt (2)', '531200': 'Lady Faye', '531500': 'Frigorex', '531800': 'Naushad Sheikh', '532100': 'Robert Pot', '532300': 'Eric Kusters', '532900': 'Aurora (16)', '533000': 'Eileen Küpper', '533500': 'Jimmie Steward Jr.', '533700': 'Steve Weinstein', '534300': 'Nexus (21)', '534400': 'Fran Gimenez', '534900': 'Lee Patterson Singers', '535400': 'Akio Yasuhara', '535600': 'Komploz', '536300': 'David Evans (2)', '537000': 'Rayleen', '537100': 'Joy (22)', '537400': 'Birgitte Alsted', '537500': 'Hammersmith', '537700': 'Kate Garner', '537800': 'David Miguel da Costa', '538400': 'Mike Meanstreetz', '538900': 'C. G. Masters', '539300': 'Gung-Ho', '539400': 'Emily Karpel', '540100': 'Supertronic (2)', '540200': 'Monsieur Ludo', '540300': 'Gabriel Riaza', '540700': 'Bestias', '541000': 'Kevin Ruggeri', '541900': 'Trevor T.', '542300': 'Pins And Needles', '543200': 'Pierre Chaillé', '543500': 'Brian Mietz', '543700': 'Club Underground', '543900': 'Richard Daemon', '544000': 'Mike Pidone', '544100': 'Eric Kriss', '544700': 'Cesar G.', '545100': '2000 Ds', '545200': 'Wipkinge Dauntaun Rokkas', '545400': 'Macchina Maccheronica', '545600': 'El Obscuro Interior', '546000': 'Boy-Band Tax Returns', '546100': 'DJ Jato', '546200': 'Ivy (4)', '546300': 'State 1.0.4', '546700': 'Deviant (4)', '546800': 'Mizar (3)', '547300': 'André Gilbert', '547400': 'Rakesh', '547500': 'Bärchen Und Die Milchbubis', '548000': 'James Kaopuiki', '548100': 'Platform One (2)', '548400': 'Deely.B.Dine', '548900': 'DJ Agent Orange', '549000': 'Peter Lack', '549100': 'Guinea Pigs', '549200': 'Nasal Sex', '549600': 'Medusa (13)', '550400': 'Kontroleur Ubu', '550500': 'Fred Werner', '550600': 'Techno Buzz', '550700': 'Wataru Uenami', '551300': 'The Grand Dame of The Sea', '551400': 'Charlie Campari', '551700': 'NV (3)', '551800': 'Adrian Ordean', '551900': 'Debra Parson', '552000': 'Thomas Ferri', '552100': 'Engel Der Vernichtung', '552300': 'Marcel Lafleur', '552600': 'Creative Minds', '553100': 'Steve Smith (13)', '553800': 'DJ Chris Kibble', '554300': 'Jorel Flynn', '554700': 'Schwanzgefecht', '555000': 'Antonio García', '555700': 'Cosmic Twins', '555800': 'Gino Gillian', '556100': 'Phonic System', '556200': 'Howard Massey', '556400': 'Resense', '556500': 'Ichiro Mimori', '556600': 'Crain (2)', '556800': 'Bart van der Post', '557200': '최진희', '557300': 'Judith Sim', '557400': 'Streamline (2)', '557700': 'Cle (2)', '558100': 'Steve Davil', '558400': 'Benoît Paquay', '558600': 'Al Lay', '558800': 'Paco Yé', '558900': 'Victor Bach', '559000': 'Dae Dum', '559100': 'Joecool', '559400': 'Jose Luis Rodriguez', '559500': 'Coletha Simpson', '559800': 'Dr. Kesler', '560000': 'Clayton Moss', '560200': 'MC Skwee-G', '560300': 'Spoons Buchanan', '561000': 'Karl Grell', '561200': 'The Retardos', '561700': 'Pule', '561900': 'Gavin Dunbar', '562700': 'Patrick Rose', '562900': 'David Youngs', '563200': 'Šukar', '563500': 'Lucky Men', '564500': 'Good Mood', '564600': 'Inouï', '564800': 'Berovic & Leicher', '564900': 'Hartman', '565200': 'Lêndi Vexer', '565400': 'B - Guys', '565600': 'Oona Rautiainen', '565900': 'M.V. Gerhard', '566300': 'Planet Beyond', '566700': 'Psamim', '566800': 'Friture Trio', '566900': 'Jack Mack and The Heart Attack', '567300': 'Mon Roe', '567400': 'B. Ash', '567500': 'Erik Ode', '567800': 'Lavan Davis', '567900': 'Meltdown (6)', '568200': 'Maree Sheehan', '568300': 'S.D.S', '568500': 'Deran Ludd', '569100': 'My Best Friend', '569400': 'Implicit Structure', '569700': 'T.J. (4)', '569900': 'Cinema (5)', '570100': 'Anders Perander', '570800': 'The Holy Mass Choir', '570900': 'Rolar', '571300': 'Ramona Ponzini', '571500': 'Theodore Toney', '571800': 'Elle Morisa', '572000': 'Serjio Hakinen', '572200': 'Interface (15)', '572400': 'Ron Schmidt', '573000': 'Zoe Bailey', '573400': 'Double Angels', '573900': 'Sidi Omar', '574000': 'Deborah Smith (2)', '574100': 'Ramachandra Borcar', '574500': 'Dick Barber', '575200': 'Maicotic', '575300': 'Roddy', '575500': 'Stella (12)', '575700': 'Simone Valère', '576100': 'The Half Dead Organization', '576200': \"Sax'n'Drawbars\", '576300': 'Vàli', '576400': 'Pickles & Price', '576500': 'David Bergander', '576600': 'Stefan Nilsson', '576700': 'B-Wiz', '577200': 'Sick Hour', '577400': 'Mr. Wire', '577900': 'Greg Porter (2)', '578000': 'KR!S', '578100': 'Bruce McLean', '578200': 'Daniel Knapp', '578400': 'Dianetics', '578600': 'Robert Peckman', '578800': 'Αρνάκια', '579200': 'Ca$hino', '579300': 'Peter Michael (3)', '579500': 'Randy Rampage', '579900': 'Marcus Groos', '580100': 'Harry Silver', '580300': 'Robert Kyle', '580600': 'Mike Russell (3)', '580800': 'William Hope Hodgson', '580900': 'Milly Pop', '581100': 'Dave Mason (2)', '581200': 'Tricky Bizzniss', '581800': 'Mathias von Tippelskirch', '582300': 'Lightaman JR', '582500': 'Zara (2)', '582600': 'ASS', '583000': 'Rudi Bohn Und Sein Orchester', '583900': 'Christopher Walker (2)', '584300': 'Craig Steward', '584500': 'George Ace', '584900': 'Dissidents', '585000': 'Restive', '585200': 'Cool Before', '585300': 'Twin (5)', '585400': 'Thomas Crown (2)', '585500': 'P.M. Productions', '585600': 'Smexer', '585900': 'Tran-X', '586000': 'Jabulane Ngwenya', '586100': 'Uphill Battle', '587500': 'Raserm', '588100': 'Da Boy', '588300': 'Brioche', '588400': 'Johan Lindskoog', '589100': 'Defektor (2)', '589300': 'TNN (2)', '589400': 'Gladsheim', '589600': 'Pasztörözött', '589700': 'Spozzi The \"Spazz\"', '590200': 'Bigdrum', '590300': 'B.B.Zee', '590700': 'Blacksnow', '590900': 'Jack Tinker', '591500': 'Alge Rashad', '591900': 'Henry Sargeant', '593800': 'Krzysztof Antkowiak', '594000': 'Goofy Welldone', '594100': 'Rythmix', '594200': 'Icebound', '594800': 'Olympic Shit Man', '595300': 'Brent St. Clair', '595600': 'Necroscum', '595700': 'Deanie Richardson', '595800': 'Sean Anderson', '596200': 'Hybride', '596400': 'Endafunk', '596600': 'The Sheiks', '596900': 'Xavi Raz', '597100': 'Space 131', '597200': 'Playing With Fire', '597700': 'Ype', '597800': 'Gordon Gould', '598200': '14th Precinct', '598300': 'Peter Miethig', '598400': 'Global Communication (2)', '598600': 'Matthias Hillebrand', '598700': 'Shroomtune', '598800': 'Digestive System Of Unicron', '598900': 'Sperm Fastener', '599100': 'K Love (2)', '599200': 'Admiral Warp', '599500': 'Lauren Goldfarb', '599800': 'Fierce (6)', '600300': 'DJ Art', '601000': 'Manuella Blackburn', '601500': 'Lex And The Species', '601900': 'Lhacene 357 Python', '602500': 'Saphire (2)', '603000': 'The Astronauts (4)', '603300': 'Joe B.G.', '603900': 'Nick Craft', '604300': 'Solveg', '604400': 'Coro Da Camera Della RAI', '604500': 'Mike Up', '604900': 'Svätsox', '605300': 'The Vinyl Rippers', '605800': 'Tia Jean', '606200': 'Ken Marco', '606700': 'T.M. & J.D. Experience', '606800': 'Göte', '607300': 'Kactoïde', '607400': 'Spilafífl', '607500': 'Richard Herten', '607900': 'The Sugarrush', '608400': 'Sugar Brothers', '609700': 'Dub G', '609800': 'Tarp', '610400': 'Skyjuice (2)', '610500': 'Millie Forrest', '610700': 'Flying Monkey Orchestra', '612300': 'Xxon', '612800': 'Orchestra Lissanga', '612900': 'Ruth Garbus', '613500': 'Season (3)', '613800': 'DJ Chris Bladen', '615100': 'A.L.F. (4)', '615400': \"The A'z\", '615500': 'Tasha \"The Queen Bee\" Maranda', '615600': 'Positive Influence', '615800': 'Moe Mitchell', '615900': 'Freedom Singers', '616300': 'Mika Musiol', '616500': 'Stereomind', '616600': 'Cuban Heels', '616800': 'Marek Bliziński', '617300': 'Lynda West', '617500': 'Gonzo (9)', '617700': 'Chuckles (2)', '618000': 'Hicham Gonegai', '618400': 'Stuart Greenway', '618500': 'Mousefolk', '619400': 'Ricky Lancelotti', '619600': 'Epsilons', '619900': 'Matthew (6)', '620300': 'Jérôme Gueguen', '620400': 'Curtis Young (2)', '620500': 'A-Tentat', '621000': 'Wiebe Loccufier', '621300': 'JAK (3)', '622600': 'Lidy Peters', '623100': 'Danielle McCaffrey', '623200': 'Jäger 90 (2)', '625300': 'Chris Lee (3)', '625600': 'Sixty-9', '625700': 'Sashamato', '625900': 'Michael Helmrath', '626100': 'The Bishop Invaders', '626200': 'Umbra Animae', '626300': 'The Chico Hamilton Trio', '626500': 'MNO', '626700': 'Dopamin (3)', '627000': 'Kimm Rogers', '627800': 'Pan Cosefo', '628700': 'Joanne Dunne', '629200': 'Eriko Tejima', '629400': 'Alice Bag', '630700': 'Rubino And His Continentals', '630800': 'Frans Rasmussen', '631100': 'Kimmo Miettinen', '632000': 'Steve Grant (3)', '632200': 'Fast Forward (12)', '632600': 'Eddie Mobley', '632700': 'Maresciallo DJ Gabardine', '633400': 'Dave Hancock (4)', '633700': 'Motohiro Yasue', '633800': 'DJ Dog Dick', '634000': 'Akina Kawauchi', '634100': 'Spoke (4)', '634300': 'Dmarinos', '634400': 'Ersa', '634600': 'äNACRUSä', '634900': 'James Scott (2)', '635100': 'Fern', '636100': 'Sunny Dee', '636300': 'Ladarice', '636700': 'Terry Shand (2)', '636800': 'Robert Vaughn', '637000': 'City Of Tomorrow', '638600': 'Pangaea (3)', '638700': 'Davy And The Skyrockers', '639100': 'The Clare Guilty Orchestra', '640700': 'Super Sako', '641000': 'Dany Rodriguez', '641100': 'Miguel Ángel Arenas', '641400': 'Samantha Depasois', '641800': 'M 2000', '642300': 'Cyborg Jeff', '642400': 'The Crows (2)', '642600': 'Rocco Granata Und Sein Quintetto Italiano', '642700': 'Matthias Kornecki', '642900': 'Nada Baba', '643500': 'Allan Roberts', '643600': 'Xavier Saupin', '643900': 'Sioux Veneers', '644000': 'Papaï', '644800': 'Israel Moises Travieso', '644900': 'Torment (5)', '645100': 'Kaye Clements', '645200': 'Marcello Ramoino', '645600': 'Radovan Jovićević', '645900': 'Lisa Marie Serafin', '646300': 'David Salkin', '646500': 'Rhythm Ravers', '646600': 'Antonio Velasquez', '646700': 'Carter Albrecht', '646900': 'Korpse (2)', '647200': 'DJ Sidetrak', '647600': 'Werther / Wittwer', '647700': 'Ultrahouse', '647800': 'Jay Cox (2)', '648600': 'Spinmaster Plantpot', '648700': 'Twofold', '649100': 'Cheech Wizard', '649900': 'Will Jones', '650400': 'Soundworker', '650800': 'Dominique Panol', '650900': \"Zénit'\", '651100': 'Trogsta Träsk', '651500': 'FERALCATSCAN', '651700': 'Reign (6)', '652100': 'Lisa Wilson', '652400': 'Viviana Presutti', '652500': '!Del', '653100': 'Nymphs Or Satyrs', '653800': 'Dos Hermanos', '653900': 'Johannes Walter', '654800': 'Jazzy Mel', '655800': 'DJ Mex (2)', '656100': 'A Jay', '656200': 'The Pleasure Seekers', '656500': 'M.O.M. Masters Of Movement', '657100': 'L. Kaos', '658300': '7 Corrompus', '658600': 'The Herbman Band', '659000': 'Keith Bradshaw', '659300': 'Gunter Nagels', '659800': 'Margarita Meister', '660300': 'IWA', '660900': 'Nicholas Van Orton', '661000': 'Jay Bliss', '661100': 'Sam E. Slaughter', '662100': 'Rudi Bauer', '662200': 'Anti-Time', '662400': 'Lyndon', '663100': 'Manu xtc', '663300': 'Randall Marsh', '663700': 'Mr Puta', '664500': 'Cal Valentine', '664600': 'Positive Impact', '664700': 'Chatman Brothers', '664900': 'Karl Renziehausen', '665600': 'Burgers On Da Drill', '665800': 'Flor (2)', '666000': 'Blood Orange', '666100': 'Uncle Bud Walker', '666300': 'NYC Soul Commission', '666900': '\"Sweet\" George Williams', '668000': 'Zamboa', '668200': 'Magnum (4)', '668400': 'Richard Handwerk', '668500': 'Jose De Lara', '668700': \"David Hardiman's San Francisco All-Star Big Band\", '669500': 'Kristian Kvalvaag', '669700': 'King Rocko Schamoni & The Explosions', '669900': 'Jukebox Killaz', '670500': 'Elbezio', '671300': 'Tom Mulder', '671600': 'Dirty Beatz', '671800': 'The Tony Monn Concept', '672200': 'Dan McLean', '672500': 'Oscar Vinader Pérez', '673000': 'Darkness (10)', '673500': 'House Of Sex', '673800': 'The Tattoos', '673900': 'Laniena Mentis', '674000': 'Henry Daag', '674200': 'Bentley Anderson', '675000': 'Caroline Legroux', '675200': 'Crown Now', '675300': 'Larry Smith (2)', '675500': 'DJ Kaz', '675600': \"A.O'B.\", '676000': 'Yosier', '676900': 'Butcher Boogie', '677200': 'Joshua Wentz', '678300': 'DJ Chill (2)', '678600': 'Markku Kopisto', '678700': 'So So Calvin', '679200': 'Chisato Nakao', '679500': 'Melody Lane', '679800': 'Robert Vincent', '680300': 'DDN', '680400': 'Robert Nickel', '681400': 'Shiraz Ali Shah', '681700': 'Anaïs Croze', '682100': 'DRK SOL', '683200': 'George Theofanidis', '683400': 'The King Jesus Disciples', '683600': 'DJ Dee (3)', '683900': 'George Subratie', '684100': 'Planète Zen', '684200': 'Lady Life', '684400': 'Lynna Davis', '684600': 'Bumsnogger', '685100': 'Neural Paralitic', '685500': 'Rhody & Kaydee', '685600': 'Species (3)', '686000': 'The Buttplugz', '686100': 'Andreas Schmidt (3)', '686500': 'Arnie Roman (2)', '686700': 'Mike (28)', '686800': 'Tjapukai', '687300': 'Status (4)', '687400': 'Ty Hunter', '687800': \"D.J. M.C.'s\", '688100': 'Eric Cuthbertson', '688400': 'The Burnadettes', '688600': 'TDA', '688900': 'Pyöveli', '689300': 'Anette Toftgaard', '689600': 'German Oak', '689700': 'James Baynard', '689800': 'Neil Crossley', '690000': 'Wilbert', '690200': 'Stimulator (5)', '690700': 'Roger Salmon', '691300': 'Javelin Boot', '691500': 'Staffan Abeleen Quintet', '691600': 'Sophie (12)', '692800': '(Tulip)', '693200': 'Sista Jane', '693800': 'Lovekings', '694000': 'Sweetalker Sleepwalker', '694600': 'Alissa Moreno', '694900': 'Les Brigades', '695000': 'Fuehler', '695100': 'Dirty Dezer', '695200': 'Isnie', '695400': 'Dr. Daniel C. Alexander', '695700': 'Puncture (2)', '695800': 'Monarco', '696100': 'David (22)', '696500': 'Zoogoo', '697200': 'Silja Block', '697400': 'Debra Spring', '697800': 'Maurice Clubb', '697900': 'GFK', '698000': 'Ituana', '698200': 'Storms', '698300': 'Pression Fun', '698500': 'Daddy Roots', '699100': 'Lukas Pettersson', '699300': 'Nick Brown (3)', '699400': 'Two Men Out And One Inside', '699500': 'Simon Grant (3)', '699600': 'Eric Garcia', '700000': 'Stefano De Donato', '700100': 'Dominion (9)', '700900': 'DJ Gerasimov', '701200': 'UDK', '702500': 'Uptown Funk Empire', '702700': 'Kevin Adams', '702900': 'High Voltage (9)', '703600': 'Naomi Graham', '703800': 'The Program (3)', '704000': 'David Lynch (4)', '704100': 'Swat That Fly!', '704200': 'Claude Morrison', '704500': 'Pekka Pylkkänen', '704700': 'Chad Wolf', '704800': 'Jay Jay Johnson (2)', '705100': '911 (8)', '705200': 'De Vlaamse Vedetten', '705300': 'Mozart (4)', '705500': 'Jordi Soler', '705600': 'Daffy', '705900': 'Wolfgang Bahro', '706200': 'Jacques Charlier', '706300': 'Krankhaft', '706400': 'Bright Too Late', '706600': 'Rida Johnson Young', '706700': 'JDoubleU', '706900': '2 Hot (2)', '707000': 'Art Russell', '707700': 'Funkslut', '707800': 'Mars (8)', '708000': 'Jason Sinclair', '708500': 'Nicolas Guerrero', '708600': 'Two Hearts', '708800': 'Mark Sein', '709100': 'Jason Boland', '709500': 'Acting Seven', '710500': 'Volkswhale', '710900': 'Zulu Nation (3)', '711000': 'Crifotoure Satanarda', '711100': 'Petr Werner', '711300': 'Alex of Nazareth', '711800': 'Martin Hillebrand', '711900': 'Lex Mihi Ars', '712000': 'Jewel Voils', '712400': 'Arnold Wise', '712800': 'Cristian Stolfi', '713100': 'Sample Krauts', '713200': 'Ian Whitty', '713400': 'The Burt Bacharach Orchestra & Chorus', '713600': 'Achim Schmidt-Carstens', '714300': 'Rachel Maloney', '714500': 'Indian Princess', '715200': 'Kaye Dorian', '715700': 'Lokasenna', '715800': 'M4 Alice', '716100': 'Галина Беседина', '716300': 'Leval Blessing', '716600': 'San Teeny', '716800': 'Pyeng Threadgill', '717100': 'Mo Vibes', '717200': 'Jenn Lindsay', '717400': 'Francesco Guidobaldi', '718200': 'Ree-Flex', '718300': 'Dean Jones (4)', '718600': 'Chloé Nadeau', '718900': 'G Punkt (2)', '719800': 'Maria Monticelli', '720000': 'Kim Skovbye Band', '720400': 'Erase Today', '720900': 'Tim Snow', '721600': 'Emelie Bååth', '722300': 'Mika Wasenius', '722600': 'Yoon-Hee', '722800': 'Oxytraxx', '723000': 'Ross Bonney', '723300': 'Peter Ryckeboer', '723500': 'Joanna Dean', '723600': 'Baconflex', '724100': 'Electro Lyth', '724200': 'Kooder', '724800': 'Anti-Printemps', '724900': 'Exhale The Dream Smoke', '725300': 'The Stance Brothers', '726100': 'Room Nine', '726300': 'Heike Neumeyer', '726500': 'Dr. Coenobite', '726700': 'The Ex.Tc-Crew', '727100': 'Cathy Cane', '727300': 'Mystery Trio', '727900': 'Spi (2)', '728000': 'Kicked In The Nuts', '729100': 'Petri Suhonen', '729200': 'Bill Dempsey', '729500': 'Pearl (14)', '729700': 'Future Heros No. 1', '729900': 'Interfaze', '730500': 'Alasdair Graham', '730900': 'Ryszard Riedel', '731000': 'Crazy Stiletto', '731100': 'Plutonium (4)', '731200': 'Kevin Davis (4)', '731400': 'Commune Ills', '731700': 'Yann Reversat', '732000': 'Sip Pluim', '732300': 'Chad Kent', '732500': 'Ralf Schienke', '732800': 'T. Mason', '733000': 'Kontrol-C', '733200': 'Nino Keller', '733400': 'Kenny Hudson', '733500': 'The Hangovers', '733700': 'Phil Minton Quartet', '733900': 'Frank Brötzmann', '734300': 'Alea (5)', '734700': 'Freudiana', '735300': 'Igor Krajina', '735500': 'Recycle Project', '735700': 'Broadnax And Robinson', '735800': 'Черноморская Чайка', '735900': 'Andy Gravity', '736300': 'David Jones (7)', '736500': 'Dominic Alleluia', '737100': 'Sally Guenther', '737200': 'Stanislav Kubeš', '737600': 'Hitesh Ceon', '737900': 'Caveman Haywood', '738100': 'Sinclair Eiloart', '738500': 'Annabelle v. Prittwitz', '738700': 'Herbert Fleischmann', '739400': 'Saint Paul', '739500': 'ZA 3.14', '739700': 'Dryft (2)', '740300': 'Art Donner', '740700': 'Ray MacCarty', '740900': 'Kana Ueda', '741500': 'Eileen Daly', '741800': 'Pvara Dalem', '741900': 'Anette Kumlin', '742500': 'Roger Perry (2)', '742700': 'Andrew Hill Trio And Quartet', '742800': 'Jason Guyer', '743100': 'Hazel Nuts Chocolate', '743400': 'Quinn Raymond', '743700': 'Bob Burroughs', '743900': 'Micro Mach Machine', '744000': 'Acoustic Reaktion', '744200': 'New Dice', '744300': 'Matt Cozin', '744700': 'Koos', '744900': 'Philippe Huart', '745200': 'Tagg, Lupkin, Shichman TRIO', '745300': 'DJ Hitman', '745500': 'Hal Hackady', '745600': 'Vibal (2)', '745900': 'The Shiremen', '746100': 'tik///tik', '746300': 'Morbide Klänge', '746400': 'DJ Negro', '747800': 'Aftermath (6)', '748200': 'Rudy Khan', '748300': 'Lacuna (4)', '748600': 'Muriel Desclée', '749100': 'Boo Boo Watkins', '750400': 'Bernard Yin', '750500': 'Apple Sauce', '751300': 'My Pal Foot Foot', '752100': 'Helli', '752400': 'Constantin Rothkopf', '752600': 'Guy Léonard', '752900': 'Paulette Izoard', '753300': 'Lynne Sherman', '753400': 'Brinsley Schwarz (2)', '754000': 'Noel Sinner', '754600': 'Tara Code', '754900': 'Picazzo (2)', '755400': 'Michael Bolte', '755600': 'The Tidy Ups', '756000': 'Robert Patrick Weston', '756300': 'Tom Gonzales', '756600': 'Bunji Jumpers', '757200': 'Hot.r.s.', '757300': 'The Pleasure Principle', '757400': 'Archie Gun', '757500': 'Tom McFaul', '757700': 'Wando Lam', '757800': 'Jan Dalehaug', '757900': 'Dragan Šoć', '758500': 'Barraca', '758700': \"Donal O'Mahony\", '759100': 'Karl Viebach', '759500': 'h: (2)', '759900': 'Daniel Mintzer', '760000': 'Shompa Masumder', '760500': 'Adora Ariam-Odili', '760700': 'Beip', '760800': 'Brenden LaBonte', '760900': 'Godrocket', '761000': 'Steven Kadel', '761200': 'Dušan Petrović', '761300': 'Jack Schidt', '762300': 'Louise Hamilton', '762500': 'Daren Ager', '762800': 'Flair (4)', '763000': 'Patrizia & Jimmy', '763100': 'Rv.A', '763800': 'Asbjørn Langås', '763900': 'Rolf Jacobsen', '764600': 'April Jaffe', '764700': 'J. Chapman', '764800': 'Douglas Vipond', '765200': \"Freak 'n' Funky\", '765400': \"The Rappin' Lords\", '765500': 'Groove Department (2)', '765900': 'Justin Maresh', '766100': 'Joey V', '766200': 'Hanna B (2)', '766600': 'Calvin (5)', '766800': 'Sinister Sam (2)', '767200': 'Julie Roberts (2)', '767600': 'Ivan Soree', '768100': 'William Ernest Henley', '768500': 'The Suicide File', '769100': 'CCC', '769200': 'Fibre', '769400': 'Kellersound', '770400': 'Chuck Heat', '770600': 'Mr. Skull', '770700': 'Nick Herbert', '771700': 'Read Yellow', '771900': 'Mr Noba', '772500': 'Falcon (6)', '772800': 'Inferus', '773000': 'Jewels (2)', '773100': 'The Braces', '773200': 'Carl Nelke Company', '773600': 'Đorđe Kisić', '773800': 'Frank Stöckle', '773900': 'Donnerkeil', '774000': 'Henny Kluvers', '774200': 'Mick (4)', '774600': 'Off World', '774700': 'Jim Sparxx', '775000': 'Goran Bulatović', '775500': 'House Of The Wildhearts', '775600': 'Golden Ball', '776000': 'Чебоза', '776200': 'Garden Odyssey Enterprise', '776300': 'KemikaFields', '776500': 'DJ Martain', '776700': 'The New York Camerata', '777000': 'Hectors', '777100': 'D-Loc (3)', '777300': 'Suzy Storm', '777500': 'Gerardo Matos Rodríguez', '777800': 'Guru Jensh', '778100': 'M9 (2)', '778400': 'Scott Whitney', '778500': 'Never Noooh No', '778900': 'Marquinho', '779300': 'Declan Edwards-Clayton', '779600': 'Cadenet', '780200': 'Chuck Jones (2)', '780400': 'Henri Woode', '780500': 'Fuck-Ups', '780800': 'Fetish Project', '781200': 'Pau DJ', '781300': 'Baldur', '781500': 'Lost Vegas (2)', '781600': 'Ingrid Veerman', '783000': 'My Luminaries', '783300': 'Lennie Martin', '783600': 'Eric Harrison', '783800': 'Alle Vijf', '783900': 'Franco Cleopatra', '784300': 'The Plastic Plan', '784600': 'Nilu Claessens', '785300': 'Scott Faircloff', '785400': 'Lavender Pill Mob', '785500': 'Amadeus (14)', '785600': 'Yinka Adesina', '785900': 'Base Team', '786000': 'Michel Daudin', '786600': 'Caroline Griffin', '787500': 'Axel B. (2)', '787600': 'Alfred McCrary', '787700': 'Dirt (5)', '788000': 'Sal Mortadelli', '788200': 'Dr. Luv (3)', '788400': 'Fruitcake (3)', '788500': 'Zeca Barreto', '789300': 'Bep Rowold', '789700': 'Iain McLay', '789900': 'Li Chin Sung', '790200': 'The Al Capps Orchestra', '790400': '303 Dreams', '791000': 'Shadow To Ashes', '791100': 'Daniel Popiałkiewicz', '791200': 'Manuel Casado', '791500': 'Per Höglund', '792100': 'No One Knows', '792300': 'Jeffrey Brian White', '792400': 'CXX', '792800': 'Emet Sutton', '793000': 'C. & C. Dream', '793200': 'Billy Earl McClelland', '793400': 'Terrance Dizko', '793700': 'Hierophant (3)', '794000': 'Talasemik', '794400': 'Marcus (15)', '794600': 'Tyronza', '794700': 'Audio Filter', '794800': 'Mess & Juice', '794900': 'Derek Hudson (2)', '795100': 'The Oneman', '795300': 'Ian Weatherall', '795500': 'Marcello Gigante', '795600': 'Function (3)', '795700': 'Bird Costumes', '795900': 'Anahata (2)', '796300': \"Ranieri de' Calzabigi\", '797300': 'Sonyc-Byo-Hazard', '797400': 'Egypt (4)', '797600': 'Hedorah', '797700': 'Shades Of Gray', '798300': 'The Exchange', '798500': 'DJ Will (7)', '798700': 'Janice Taylor', '798800': 'Stew Deez', '799300': 'Popgun', '799400': 'Cube (13)', '799500': 'JC Dwyer', '799600': 'Angel Molas', '799800': 'The Sound Principle', '800300': 'Surtek Collective', '800600': 'Pete Bellis', '801200': 'Phil D. Berkson', '801300': 'Bobby Ikeda', '801500': 'Salvator Lunetta', '801800': 'Roy Brizman', '802300': 'The Disco All Stars', '802400': 'Cro-Mags The Dog', '803100': 'Wuornos Aileen', '803200': 'MK (5)', '803300': 'David Boswell-Brown', '803700': 'Michael St. John', '804000': 'Mike Christopher', '804200': 'Lee Barry', '804300': 'Moregeometrico', '805100': 'Pierre Gerard', '805500': 'Jonathan Tams', '805600': 'Sam Sims (2)', '805800': 'Mc Mystery', '805900': 'Judith Bettina', '806200': 'Chas Stumbo', '806700': 'Mortalized', '806900': 'Έλλη Λαμπέτη', '807300': 'Sarah (27)', '808600': 'The Anyways', '809000': 'Fractured Transmission', '809100': 'Malte Sjöstrand', '809400': 'Don Nichols', '809500': 'Hardnoize (2)', '810400': 'Bohuslav Reynek', '810500': 'Dazzle Dee', '810700': 'Nibiru (4)', '811200': 'Whitely', '811900': 'Dany. P', '812200': 'Uppypark', '812300': 'Jump Krew', '812600': 'Jacques Mareuil', '813200': 'Superfreaks', '813400': 'Kung Foo', '813600': 'Nature Trip', '813700': 'Tom Carlile', '813800': 'Pat Davern', '814000': 'Martin B (3)', '814100': 'Aïzell', '814300': 'Harry Hypolite', '814400': 'Shanaa', '814700': 'A Coyote', '814800': 'Searing I', '815400': 'Traumatic (3)', '816100': 'Jazzy Upper Cut', '816300': 'Realistic B.L.T', '816400': 'Edward Klinger', '816600': 'José Carlos Machado Ramos', '816700': 'Christian Reim', '817800': 'Mr. OZ (4)', '818100': 'The Golden Hours', '818200': 'Don Drummond Jnr. & The Ska Stars', '819000': 'Reversible Cords', '819200': 'Funky Team', '819400': 'Diego Souto', '819700': 'The Rhyme Cartel', '820100': 'Michele Solberg', '820400': 'Вадим Семернин', '820500': 'Toby King', '820900': 'Milton Hunter', '821400': 'Kwartet Rob van Kreeveld', '821700': 'S.C.F. Connection', '821900': 'Axel Burgard', '822000': 'M. Smooth', '822400': 'Dosmoccos', '822600': 'Charing Cross', '822700': 'Matter (2)', '822800': 'The Diableros', '823000': 'Muckhead', '823400': 'Fernando Martinez', '823700': 'Josoro', '823800': 'Bert Broes', '823900': 'Rolla (2)', '824200': 'Tha Mobaloti', '824600': 'Timm Haberland', '824900': 'AM-FM Lynx', '825400': 'DJ Slam (3)', '825500': 'Barrientos', '826100': 'Club 7', '826300': 'David Kahiapo', '826400': 'iLmush', '826700': 'Final Notice', '827200': 'Core Cult', '827800': 'Ghettonuns', '827900': 'Morpheus Moretti', '828300': 'Claxíc', '828600': 'Margot Reisinger', '828700': 'Ron Reckless', '829000': 'Blackpool (2)', '829100': 'Theo Mandylas', '829200': \"'Finally Out'\", '829600': 'Kosmos (4)', '830200': 'Alexandre Breffort', '830400': 'Linda', '831500': 'Adam Brewer', '831700': 'Artcha', '832100': 'Seref Badir', '832200': 'Missey Jingo', '832400': 'Abandon Arlington', '833300': 'DQ (3)', '833400': 'Kleines Arschloch', '833500': 'Nancy Mayer', '834100': 'Chloe Harris', '834400': 'The Sonny Clark Memorial Quartet', '834600': 'Debbie Lyn', '834800': 'J.L. (3)', '835000': 'Giacomo Antonio Perti', '835600': 'Cablez', '836400': 'Camilla Harket', '837300': 'Maurice Biraud', '837400': 'Pål Kvammen', '837500': 'Peter Bindszus', '838100': 'The New Princess Orchestra', '838900': 'Intensity (4)', '839400': 'Synthetic Division', '839800': 'Sirakvintetten', '840000': 'Lizzi Bougatsos', '840100': 'Bertanduk!', '840300': 'Miro (7)', '840400': 'Jordan Perlson', '840900': 'Der Weltensegler', '841100': 'DJ Ruinas', '841200': 'Matt LeMay', '841300': 'Colour Chin', '841700': 'Walrus Machine', '842500': 'Super Scientists', '843000': 'Artie Matthews', '843300': 'Betti Synclar', '844300': 'Miyuki Kobayashi', '844800': 'Eyehatelucy', '845900': 'Mogador', '846100': 'Daydream Daisy', '846200': 'Activ-8', '847200': 'Workman', '847400': 'Johnny Best', '847900': 'Crazy Larry', '848300': 'Sigrid Koetse', '848800': 'Mateusz Święcicki', '849300': 'LAX (4)', '849500': 'Beau Charles', '849800': 'Omar Kaiam', '850100': 'Paul Bruno (2)', '850200': 'The Baroques', '850700': 'Graham Scala', '851600': 'Chris Fagan', '851700': 'Вадим Крищенко', '852000': 'Funny Speedy Girl', '852100': 'Zachary Patten', '852400': 'Dwayne Barnes', '852900': 'Dave Howard (2)', '853700': 'Pepe Iglesias', '854000': 'The Zero Point', '854200': 'Milovan Vitezović', '854500': 'Frances Horovitz', '854700': 'Quadretti', '854800': 'Евгения Ивановна Збруева', '855100': \"Christopher O'Neal\", '855300': 'Werk 84', '856200': 'Edward Bivins', '856500': 'Cortella', '857000': 'Terje Nordby', '857800': 'DJ Pubert', '857900': 'Phillip Perry', '858200': 'Version City Rockers', '858300': 'Jet Star', '858400': 'Sethus Calvisius', '858600': 'Coefficient', '859200': 'Harry Seldom', '859600': 'Christina Meyer', '859800': 'Emecorp', '860300': 'Parallel Worlds (3)', '860400': 'Napoleon Bonaparte', '860800': 'Katy Davis', '860900': 'Richie Fontana', '861000': \"O' Hara\", '861200': 'Jeff Neumann', '861600': 'Guido Menasci', '861700': 'Back and 4th', '861900': 'Thalisha', '862000': 'Lull (2)', '862200': 'Saucerman', '862300': 'Mhp', '862400': 'Chris Morgan', '862500': 'Markomen', '863200': 'Genic (2)', '863400': 'Failure Of A Great Machine', '863600': 'Myrrh-ce', '863800': 'Akres Kvintett', '863900': \"Sky's The Limit\", '864300': 'Four Boys', '864700': 'The Coolies', '864900': 'Sint-Ceciliakoor Van Nieuwerkerken', '865400': 'Jeroen Vandesande', '865800': 'Blast (11)', '865900': 'Jet Boys', '866000': 'Norm Dillinger', '866100': 'Apex (9)', '866200': 'Medical Leopard', '866500': 'Clyde Scott & The Clansmen', '866600': 'Totten Korps', '866800': 'Anthony Ross', '866900': 'Shux (2)', '867100': '1 Luv', '867700': 'Head Thrush', '868500': 'Fuat Kent', '868600': 'Prince Weedy', '869400': 'Rocko?!', '869500': 'Heinz Glass', '870100': 'Ed Roy', '870300': 'Discrete Trials', '870400': 'Ganymed (2)', '871400': 'Blue Ridge Rangers', '871600': 'Songs Of Innocence', '872300': 'Elena Kuschnerova', '872700': 'Raumakustik', '872800': 'Diamond D (4)', '872900': 'Origami Sonika', '873200': 'Živan Milić', '873600': 'Vinnie Vitale', '874100': 'A. Carapella', '874300': 'Miodrag Bata Sokić', '874500': 'Ivar Anton Waagaard', '874600': 'Mainly Spaniards', '874900': 'Test Pilot', '875100': 'Esprits Animaux', '875500': 'Mike Platinas & Javier Ussia', '876100': 'Clément Saunier', '876400': 'Tom Goss', '876600': 'Fish Tone', '877000': 'Penny & The Quarters', '877200': 'Johnny Steele', '877400': 'Kid Circus', '877500': 'Trigger B.', '878200': 'Various Students From Centennial High School', '878300': 'Sindri Már Sigfússon', '878700': 'Blood Clot', '878900': 'Maxzuky', '879000': 'William Geslin', '879400': 'Fred Paris', '879500': 'Eckert Stieg', '879900': 'S.A.N.K.', '880100': 'Bubu Styles', '880200': 'DJ Discrete', '881000': 'Aeris Ash', '881100': 'Wilhelmina Gray', '881200': 'Andrew Ocelot', '881500': 'The Avengers (4)', '881700': \"Special K's Dance Orchestra\", '882100': 'Testimone Oculare', '882200': 'Rie Ohashi', '882500': 'Beatrice Colin', '882700': 'Silly Encores', '882900': 'Tessa Kimbel', '883300': 'Thurston High School Stage Band', '883500': 'Stars In Battledress', '883600': 'Negative Zone', '884200': 'Barnacled', '884700': 'Bernice Davis', '885100': 'C-Ride', '885200': 'Zinga Washington', '885300': 'Raffaello Regoli', '885900': 'Bitgras', '886100': 'Brent Rowan (2)', '886900': 'Microscopic Suffering', '887000': 'Picaso', '887100': 'Peter Wertheimer', '887200': 'Swan Vesta', '887300': 'László Attila', '887500': 'Madi (3)', '887600': 'Stand Off', '887800': 'Restposten', '887900': 'William Morose', '888100': 'Jack Kennelly', '888200': 'Thomas Palmer', '888500': 'Natalia Troitskaya', '888600': 'Muddfoot', '888800': 'Five Tinos', '889300': 'The Quin-Tones', '889400': 'O-Type', '889800': 'Franco Caruso', '889900': 'Be Bop Terminal', '890400': 'Roger George', '890500': 'Tracy Hall', '891000': 'Therese Racket', '891300': 'Rudolf Šimunec', '891500': 'Elizabeth Dotson-Westphalen', '892000': 'Tony Berk', '892300': 'B.L.H.U.N.T. (Brothers Looking Hard Upon Negative Thoughts)', '893300': 'Doug Clark & The Hot Nuts', '893400': 'Jelly Joe', '893900': 'Stuart Holmes', '895100': 'Bullfrog And The Elephant', '895200': 'Moist Crackers', '895700': 'Ivan H', '895800': 'Norman Johnson', '896100': 'Jordan Shapiro', '896200': 'David Somerville', '896300': 'Cellule X', '896400': 'Fantum', '897200': 'Bunty Chunks', '897700': 'Art Madison', '898000': 'Starrblazz', '898100': 'Missing Man Foundation', '898500': 'The Rules (2)', '898600': 'Hal Swain', '898900': 'Kanute', '899000': 'Hoyt Ming', '899400': 'Latino Style', '899500': 'Eivets Rednow', '900000': 'Ensemble (6)', '900100': 'Joan Cabero', '900900': 'Latanya Lockett', '901000': 'Edward Czerny', '902400': 'Wooly Mammoth (2)', '903500': 'Ricchie & Poweri', '903700': 'Kocsándi Miklós', '903900': 'Aaron Chase', '904200': 'Gene Beene', '904400': 'Tseard Nauta', '905300': 'Kong Klang', '905500': 'Violet Clark', '905800': 'Chuck St. Troy', '906100': 'Roland Thyssen', '907100': 'The Rush Pusher', '907300': 'Kenne Highland', '907400': 'Nelly Hakim', '907700': 'Zoppo (2)', '907900': 'Alex Mincek', '908400': 'Nick Harvey (2)', '908900': 'Gismonti Andre', '909400': 'Alan Bush', '909800': 'The Malloys', '910600': 'The Hinnies', '910700': 'Phobosphere', '910900': 'DJ Xite', '911000': 'Heather North', '911100': 'Cheb Abdallah', '911500': 'Biltmore Dive', '912800': 'O.R.B.', '912900': 'Aural (6)', '913700': 'Santa Fe (3)', '914100': 'Dødsverk', '914400': 'Léo Basel', '914500': 'Jean Koller', '914700': 'Subeena', '915200': 'Nasty City', '915300': 'Aleksandar Popović (2)', '916200': 'Xanatoss', '916400': 'Polemical', '916700': 'Cheb Moumen', '916800': 'DJ t.A.i.', '917200': 'Callum (2)', '917300': 'Yugostar', '917600': 'Trans Balear', '917900': 'Techdiff', '918000': \"Mark'O\", '918600': 'Oven Rake', '919100': 'Voci Del Verbo Essere', '919200': 'Flowmega', '919400': 'Nikki Bellamammella', '919500': 'Pony Gropers', '919800': 'Toni Rico', '920200': 'Yusuf Ali-Khan', '920300': 'María Lar', '920400': 'Gaetano Lama', '921200': 'Chaos V.G.', '921500': 'Le Loup', '922100': 'The Epochs', '922300': 'Common Thread', '922400': 'Arinka Šegando', '922600': 'Old Time Jazz Band', '922800': 'Forma (2)', '923200': 'Blair Late', '923300': 'Josh Leeman', '923400': 'Tiffany (11)', '923700': 'Chuck Mackinnon', '924700': 'Lauri Turjansalo', '924800': 'Half Past Forever', '925100': 'Donovan McKoy', '926000': 'Sharon T', '926100': 'Franco Giordani', '926400': 'DJ Sub Zero (2)', '927200': 'Spencer Izenstark', '927300': 'Rev. Thumbs Ghurkin', '927400': 'Gert Magnus Band', '927600': 'Mark Grainger', '927700': 'Division Of Planes', '929600': 'The Five Dollars', '929800': 'Reggid', '930000': 'The Jealous Girlfriends', '930400': 'James McArthur', '930600': 'Marymary', '930700': 'Bob McQuillen', '931500': 'Fabrizio Romani', '931700': 'R.Epee', '932100': 'Katherine Archer', '932500': 'TVS (2)', '932600': 'Heimat Los', '932700': 'Terry Wadsworth', '932800': 'Live FX', '932900': '◯△▢', '933300': 'Orchestra Napoletana Della Canzone', '933400': 'Živka Đoković', '934300': 'Catrin Striebeck', '934400': 'Raspashow', '934500': 'Sibyl Anna', '934600': 'Nullo Romani', '935000': 'Frans Doolaard', '935400': 'Fizyk', '935600': 'Slave Dimitrov', '935700': 'Gjergj Kaćinari', '935800': 'Maj Sjöwall', '935900': 'Grady Martin & His Winging Strings', '936500': 'C. Kid', '936600': 'Dora Juárez Kiczkovsky', '936900': 'New Generation Big Band', '937300': 'David De Kabouter', '937900': 'Aaron Page', '938000': 'The Voice Group', '938400': 'Doug Gray And Friends', '938500': 'Krueger23', '939000': 'Rollo Smith', '939100': 'Daniel Loco', '939700': 'Beat Box Allstars', '940000': 'Faruk Kurukaya', '941600': 'Nifters', '941700': 'Deacons', '941900': 'G-Mann', '942200': 'Patricia Hodge', '942500': 'Young Nations', '942900': 'Colourform', '943000': 'Bruce Roberts (2)', '943500': 'Edward Flower', '943700': 'Ion Manole', '943800': 'Benzino & Piero', '943900': 'Blue S.', '944100': 'H5N1 (2)', '944200': 'Sava Negrean', '944800': 'King Cool', '945500': 'Nikki Holiday', '946000': 'Hilmar Kettwig', '947000': 'Juliane Laake', '947200': 'Paul Darrow', '947600': 'Dan Eggs', '947700': 'Sidney (9)', '948200': \"L'anvs Solaire\", '948300': 'Beat (3)', '948700': 'Ashan Pillai', '948800': 'Fred Flowerday', '949100': 'Tesfaye Workneh', '949300': 'Harlot Haste', '949400': 'Sako Karaian', '949900': 'Luis Parraguez', '950000': 'Morbius (3)', '950300': 'Michael Tanner', '950800': 'Glen Mason', '951000': 'Devas', '951200': 'The Jack Foundation', '951400': 'Hugo Renard', '951900': 'Rickard Rolf', '952400': 'Time (7)', '952600': 'Steffi Schmidt', '952900': 'Unknown DJ (2)', '953700': 'LDA (2)', '954200': 'Lakeside X', '955000': 'Cecilia Tenconi', '955900': 'Ministers Of Black', '956000': 'Marty Wilson (2)', '956400': 'John Passineau', '957700': 'Francois', '958200': 'Gemini Lounge Orchestra', '958300': 'Alex Lilly', '959000': 'Reg Reagan', '959100': 'The Burning Bush', '959300': 'Maja Marković', '959600': 'The Decisions', '959800': 'Theresa (3)', '960600': 'Alexis Hadefi', '960700': 'Jeremy Long', '961000': 'Pann Dora', '962400': 'Filip Topol', '962700': 'Limousine (5)', '964200': 'Vi Avelino', '964300': 'Jeremy Bird', '964700': 'Ayşegül', '965000': 'Zig (2)', '965500': 'Módos Vokál', '965700': 'Speed Kills', '966300': 'Bentley Tock', '966500': 'Wade Duncan', '966600': 'The Riff (2)', '967000': 'DJ Isma (2)', '967700': 'Jonas Josefsson', '967900': 'Finn Robert Olsen', '968200': 'Chris Evans (7)', '968300': 'Egotrya', '968400': 'Heyday!', '968500': 'Χαίρε', '968600': 'Beno Zeno', '968900': 'Rose Tatoo', '969000': 'Doroasako', '969200': 'Backside (2)', '969300': 'Miss Blondie (2)', '969400': 'Geechie Smith', '970000': 'Andrew Mitchley', '970200': 'D.J. Buzz B', '970300': \"The Devil's Anvil\", '970600': 'Le Confort Electronique', '970700': 'Country Road', '971100': 'Raped Ape', '971200': 'Arnt Haugens Orkester', '972500': 'Rec.ept', '973600': 'Alma Petchersky', '973900': 'Chica Bahia', '974800': 'Henley Douglas', '975000': 'He Is Watching Over Us', '975700': 'Dead Rock Machine', '976300': 'L.E.F.T.Y.', '976500': 'So What (5)', '976900': 'Cookie (16)', '977000': 'Eli Brown', '977100': 'Jae Diamondz', '977700': 'Jan Vyčítal', '978200': 'Dominic Manns', '978500': 'Ackermann', '978900': 'George Ciolac', '979000': 'DJ Stresh', '979400': 'L. Ron Jeremy', '980100': 'Die Melody Gents', '980700': 'Trang Thung Thang', '980800': 'Hans-Erwin Kolibabka', '981100': 'Eyes Of Ligeia', '981700': 'Reginald Wilson', '982100': 'Juan Medrano', '982400': 'Robert Malmberg', '982500': 'Djakout Mizik', '982800': 'Marisa Terzi', '983000': 'Eine Kleine Disco Band', '983300': 'Friedrich Theodor Fröhlich', '983500': 'Zdeněk Klement', '983600': 'Friedrich Schmidtmann', '983700': 'Trial E.M.', '983800': 'Bernd Gast', '984000': 'Andrea Nerone', '984100': 'Iuventus Paedagogica', '984300': 'Kiss Gábor (2)', '984700': 'K. Wilson', '985100': 'Lovely Girl', '986000': 'Emma Gordon', '986200': 'Bill Stanley Orchestra', '986400': 'Ariana Kim', '986800': 'Moon Head Men', '987000': 'Two Make One', '987200': 'Jaak Pijpen', '987600': 'Tage Öst', '987700': 'Merlijn Snitker', '988000': 'Henri Classens', '988400': 'Gordo (2)', '988600': 'Speck (5)', '988900': 'Mitro (3)', '989400': 'Örn Magnússon', '989900': 'E Magic', '990000': 'Audioerotica', '990400': 'Goran Rukavina', '990500': 'D. Black (4)', '990700': 'Orchestra Mario Robbiani', '990800': 'Michelle Nicastro', '991000': 'Misión Imposible', '991900': 'Perri McKissack', '992600': 'Gert Wilden Und Sein Orchester', '992900': 'Paul Damian', '993000': 'Billy Ham', '993100': 'The Followers', '993900': 'Nina Corti', '994300': 'Nathan Clemence', '994700': 'Peter Moffitt', '995100': 'MixXMasteR', '995200': 'Ken Wilber', '996300': 'Y Gwenwyn', '996500': 'Overthhhrow', '996900': 'Jazzonia', '997200': 'Bodo Brinkmann', '997500': 'Daniel Jacques (2)', '997600': 'Alex Crary', '997900': 'Jan van Lier', '998000': 'New Regime (2)', '998200': \"Rockin' Thunderbolt Enocky\", '998900': 'Future Baby', '999600': 'The Ida Retsin Family', '999800': 'Freek van Daal', '1000500': 'Club Pulse', '1001700': 'Tim Schultheiss', '1001900': 'Lo Runners', '1002000': 'Larry Stokes', '1002400': 'Wagner Schallschutz', '1002600': 'Gidd Sanchez', '1002900': 'John Keding', '1003000': 'Roderick Wolgamott Romero', '1003300': 'Klaus Löhrer', '1003500': 'Emotiquon', '1003600': 'Justaboo', '1003900': 'Jason Pancho', '1004200': 'Outtaline', '1004900': 'Johnny Griffin Sextet', '1005200': 'The Phunky Freak', '1005400': 'Gapeseed', '1005600': 'Kaine (3)', '1006400': 'Baby (5)', '1006500': 'Pink Peg Slax', '1007200': 'Mr Gazoline', '1007500': 'Celery Price', '1008400': 'Ordinance', '1009100': 'Fat Boy On Thin Ice', '1009200': 'Jan Wijte', '1009300': 'Tom Karlsson', '1009500': 'Poeme Electronique', '1009800': 'Beyond The Blue', '1009900': 'Flexible Products', '1010400': 'Miller Bros.', '1010800': 'Bobby And Betty', '1011200': 'Dan Ellery', '1012000': 'Fredo (5)', '1012100': 'Fertile Virgin', '1012700': 'Rockefeller (2)', '1013100': 'Slavica Ćukteraš', '1013500': 'Sibe Koster', '1014600': 'Cataquese', '1015000': 'Amo Lab', '1015300': 'Elizabeth Rapp', '1015700': 'Kaitaro Nakajima', '1015800': 'Turtle Man', '1016200': 'Denis Zabavsky', '1016600': 'Difuzion Krew', '1016700': 'David Mc Iver', '1016800': 'Made In Spain', '1017100': 'Blarke Bayer', '1017400': 'The Farwood Duo', '1017900': 'Soonie', '1018000': 'Tonny Bik-Vreeswijk', '1018600': 'Mike Shea', '1019100': 'Lewis Clark', '1019300': 'Terry Gibson', '1019700': 'Pippo Caruso', '1019800': 'Nico Dockx', '1020000': 'The Incredible Funk Band', '1020200': 'Jari Loisa', '1020400': \"L'homme Manete\", '1020500': 'Frontier Scouts', '1020700': 'Alpenschreck', '1021200': 'Herminio Molero', '1021400': 'John Bowers (2)', '1021500': 'Gangsta Rhyme Posse', '1021700': 'DJ Meid', '1021900': 'Narcosa_', '1022000': 'Στάθης Αγγελόπουλος', '1022300': 'Layla Amini', '1022400': 'Wanda Joosten', '1022900': 'Chapter 5', '1023100': 'Lubomír Novosad', '1023700': 'Diffarent Kombonation', '1024400': 'Sofie (4)', '1024500': 'Sir WS Gilbert', '1025000': 'Forte!', '1025300': 'Barbara Miedema', '1025400': 'Tropical Highlight', '1025600': 'Mikołaj Kwiek', '1026400': 'Technology (5)', '1026800': 'Dan Elektro', '1027500': 'Luigi Barion', '1027800': 'Felix Werder', '1028000': 'Louisa Tuck', '1028100': 'Keith Grant (2)', '1028500': 'Bencsik Sándor', '1028800': \"Jo Privat Et L'Orchestre Du Balajo\", '1029300': 'Year Zero', '1029400': 'Ovadu', '1030000': 'DJ Anatolio', '1031100': 'Redfish (2)', '1031300': \"The Fuckin' Braineaters\", '1031400': 'Rémy Sarrazin', '1031800': 'Leniece', '1031900': 'Deborah Sturmann', '1032300': 'Electric Swing', '1033000': 'Beers Family', '1033400': 'Miracle Base', '1034100': 'Σπύρος Παπαδήμας', '1034500': 'Tonia Ostrow', '1034600': 'Noisy Pig', '1034800': 'Pecos (2)', '1035000': 'Easy Eric (2)', '1035300': 'John Mobley', '1035500': 'Steve Lawrence (7)', '1036100': 'Voces Amigas', '1036300': 'Yayi Kanouté', '1036400': 'The Helmet Kidz', '1036600': 'György Balla', '1036800': 'Zk (3)', '1036900': 'Sherman Carson', '1037800': 'Gurt Up', '1038000': 'Ambre (2)', '1038300': 'Shock Factor', '1038500': 'Prisoner Of War', '1038600': 'DJ iC.303', '1039000': 'Michel Papineschi', '1039100': 'Pierre Létourneau', '1039500': 'Yellowish', '1039700': 'Wirone', '1040200': 'Ivan Joseph Penfold', '1040400': 'Massendefekt', '1040800': 'Barbara Rosen', '1040900': 'Norman Halley', '1041000': 'dcee', '1041100': 'Taro Bando', '1041500': 'Claudia Lindsey', '1041800': 'DJ Rowney', '1042000': 'Aminata Fofana', '1043000': 'Pharao (3)', '1043100': 'Alberto Comesaña', '1043500': 'Atheistc', '1043700': 'Car-Man', '1043900': 'Don Funk', '1044000': 'Ashkhabad', '1044200': 'Alenka (2)', '1044600': 'Telepatica', '1045200': 'Yoshiharu Ohta', '1045300': 'Aly Michalka', '1045800': 'John Paul (4)', '1046100': 'Danny Ross (2)', '1046600': 'Omen (12)', '1046700': 'Paint By Numbers', '1046800': 'Tremulous Monk', '1047600': 'BBD', '1047800': 'Paul Kaiser (2)', '1047900': 'Hermani', '1048400': 'Emil Morneweg', '1048800': 'Vairagya', '1049300': 'Beatmaster (3)', '1049700': 'Baden', '1049800': 'Soccer Mom', '1050100': 'Les Momies de Palerme', '1050500': 'Arundhati Roy', '1050600': 'Joel Raymond', '1050800': 'Orelse', '1051600': 'Hajo Weber', '1052200': 'Mark Amador', '1052500': 'KO (2)', '1052800': 'Jean Douchamps', '1053300': 'Pavel Grašič', '1053400': 'Natasha (13)', '1053800': 'Claire Wikholm', '1054200': 'Pail (2)', '1054300': 'Sanova Fran', '1054600': 'Viv Akauldren', '1054700': 'Gabriel George', '1054900': 'Xdream', '1055300': 'The Dust', '1055400': 'Fernando Montes', '1056000': 'Saturdays Rism', '1056300': 'Zappelbude', '1056500': 'Th.', '1057400': 'Loboda', '1057500': 'Supersonic Lovers', '1057600': 'Joyce Kelly', '1057900': 'The Heads Of The Family', '1058400': 'Charles Marawood', '1058500': 'Realtv', '1058600': 'Glowworm', '1058700': 'Orchestra Nicu Stănescu', '1059100': 'The Original Beekeepers', '1060100': 'Siegfried Möhle Und Sein Studio-Blasorchester', '1060400': 'Selma Hernandes', '1060600': 'The Runaways (3)', '1060700': 'Slaughter House', '1061200': 'Warren Phillips', '1061700': 'Richard Shelton', '1062000': 'Strip Kings', '1062100': 'Ken Kawamura', '1062300': 'Nico Kozik', '1062600': 'Paladin (2)', '1063000': 'Incest (2)', '1063800': 'G-Squad Productions', '1064300': 'Lilitu', '1064700': 'Janko Novoselić', '1065100': 'Kaytee', '1065500': 'Aixa', '1066000': 'Deja Vue', '1066300': 'Lilleman', '1066400': 'Paki & Paki', '1066700': 'Geetox', '1066800': 'Emmerich Földes', '1066900': 'Rãga', '1067100': '77klash', '1067500': 'Martin Müller (4)', '1067600': 'Claire de Lune', '1068000': 'Sitra Ahra', '1068500': 'The Jak (2)', '1068900': 'The Trouble 3', '1069300': 'Hemstad', '1069500': 'Miki Curtis', '1069700': 'Ad Ombra', '1070200': 'MXO', '1071100': 'Carol Miller', '1071200': 'Marcell Strong', '1071300': 'Exterminas', '1072300': 'Daniel De La Cruz Alonso', '1072600': 'Michael Schwalbe', '1073000': 'Aaron Vidal', '1073100': 'Ultrasonus (2)', '1073200': 'MC World', '1073300': 'Cary On', '1074000': 'A.K.I. Productions', '1075000': 'Karman Ellis', '1075300': 'Kushal Das', '1075600': 'Zae', '1076300': 'The New York Bass Violin Choir', '1078000': 'Meriel (2)', '1078100': 'Elvira Reichenbach', '1078300': 'Sidney Owens & North, South Connection', '1078500': 'Nagual Art', '1078700': 'Reg Tilsley And His Players', '1078800': 'Laurie Lee', '1079200': 'La Trio', '1079600': 'Nova (32)', '1079900': 'Snowball Rose', '1080100': 'Scarlet Scamper', '1080200': 'Partyexpress', '1080300': 'J.R. Kuzniar', '1080700': 'Meaneither', '1081300': 'The Clan (3)', '1081400': 'Gap (6)', '1081700': 'D-Rugs', '1082200': 'Ana Pupedan', '1082400': 'Gustavo (6)', '1082500': '集団自殺', '1083000': 'Cătălin Bucerzan', '1083100': 'Death Suicide Queens', '1083200': 'Claudio Maura', '1083500': 'Jukka-Pekka Palo', '1083900': 'Safe (6)', '1084200': '100 Demons', '1084400': 'Ghost (20)', '1084800': 'Deejay Jay', '1085600': 'François Volauvent', '1085700': 'Nyota Ndogo', '1085800': 'Grizzle (2)', '1086400': 'Rise Of The Automaton', '1086700': 'Fable (4)', '1086800': 'Ron Koss', '1087000': 'Ignacy Friedman', '1087300': 'Gerald Ribeiro', '1087400': \"T'zozo\", '1087900': 'Big 10-4', '1088100': 'Casados', '1088500': 'Begnagrad', '1088900': 'Datamotion', '1089200': 'Guba', '1089300': 'Bobby Van (2)', '1090000': 'Arara', '1090200': 'Silvo Stingl', '1090700': 'Men-Nefer', '1091000': 'Spyro (3)', '1091200': 'The Planet Robots', '1091400': 'Lowtide', '1091600': 'Pera Đokić & Los Hooligans', '1092000': '___dREàgänN||||||', '1092300': 'A.K. Palinivel', '1092400': 'Hit Snypaz', '1092500': 'Ruth Lange', '1093000': 'Vanesty', '1093200': 'Tyndall (2)', '1093300': 'Blitzkrieg Bop', '1093600': 'Jennifer Blowdryer', '1093700': 'Cynthia Austin', '1093800': 'Robert Garofalo', '1094500': 'Wil Theunissen', '1094700': 'Klasse 5c Der Johanniter Realschule Heitersheim', '1094800': 'Weather Underground', '1095200': 'Shouchi Tanabe', '1095300': 'Oona (2)', '1095600': 'Riccardo Broschi', '1096300': 'Peter Marti', '1096700': 'Storm Camp', '1097100': 'Chronic Malfunction', '1097200': 'The Blas Rivera Quintet', '1097300': 'Karl-Heinz Dommus', '1097500': 'Trio Armonia', '1097700': 'Matteo Veroni', '1097800': 'Alfred Helm', '1098300': 'Nukage', '1098800': 'Greg Morlan', '1099000': 'Herbal Love', '1099100': 'Oleg Sedov', '1099300': 'VoiceNoise', '1099900': 'Dominator.00', '1100900': 'Cock In Machine', '1101200': 'Franziska Beeler', '1101300': 'Shirley Green', '1101400': 'Sequential Soul', '1101900': 'Mike Nord', '1102000': 'The Bean Bag', '1102200': 'E.L.F', '1102400': 'Remdog', '1102700': 'Dan Rosen', '1103000': 'Zohar Cohen', '1103800': 'Pop It Off Boyz', '1103900': 'Mark Underdown', '1104000': 'Domsko', '1104100': 'Jocelyn Allen', '1104200': 'Jean-Luc André', '1104300': 'The Marvin Winans & Perfected Praise Choir', '1104500': 'Bluiett Baritone Saxophone Group', '1104900': 'Mike Nadeau', '1105200': 'Richie Onori', '1105700': 'The Carrivick Sisters', '1105800': 'Fred Mirza', '1106100': 'Wally (9)', '1106200': 'Dark Dust', '1106300': 'Evening Legions', '1106500': 'Claire Angel', '1106700': 'Hisao Ono', '1107000': 'Aelyse', '1107100': 'Nikola Popmihajlov', '1107200': \"Dylan O'Toole\", '1107300': 'Simon Wong', '1107400': 'Fluence', '1107500': 'Tomena', '1107900': 'Benoi', '1108400': 'Daniele Maggiore', '1108500': 'Isis (16)', '1108700': 'David Muse', '1108800': 'Lady Naike', '1108900': 'Walter Fierce', '1109200': 'Knusper Knack', '1109600': 'Outta Order', '1110300': 'Isolation (4)', '1110500': 'Elipsis', '1110800': 'Ganja MC', '1110900': 'Julie Bataille', '1111100': 'Velvolino', '1111200': 'Loonis McGlohon', '1111400': 'Joe Carl', '1111600': 'Bobby Perez', '1112200': 'Popularia', '1112500': 'Steel Grooves', '1112900': 'Elks', '1113000': 'Roman Klash', '1113800': 'Sheilan', '1114600': 'Hermann Kapfer', '1114700': 'Coprophagia', '1115100': 'Song And Dance', '1115800': 'Alex Among', '1115900': 'Biscuit Holic', '1116000': 'Murder One (5)', '1116700': 'Matti Pohjola', '1117000': 'Patricio Villaroel', '1117100': 'Syeifa', '1117500': 'Boozhownd Doggonit', '1117700': 'Drama (15)', '1117800': 'The Looneybin', '1117900': 'Jimmy Silva', '1118200': 'Warm Wires', '1118300': 'Fett (2)', '1118400': 'Charley Booker', '1118600': 'Josh Quicksilver', '1118700': 'The Now (4)', '1119100': 'Vreni & Rudi', '1119300': 'Jeff Reniers', '1119400': 'Errol Dix', '1119700': 'Jay Lyriq', '1119800': 'Willi Herzinger', '1120100': 'Chenai', '1120700': 'Pergamen', '1121000': 'Shepard Fairey', '1121300': 'W. Elmo Mercer', '1121900': 'Raša Đelmaš', '1122500': 'Stars Of Aviation', '1122900': \"St. Giles's System\", '1123200': 'Jamie Kime', '1123700': 'The Rhythm Rats', '1124000': 'Erick Matthews', '1124100': 'Danny Lilwall', '1124600': 'M.C. Rive', '1124900': 'The Ooze', '1125200': 'DJ Head Charge', '1125300': 'DJ Fruchtzwerg', '1125800': 'Soi', '1126600': 'Adam Stonehouse', '1127700': 'C Mill', '1127900': 'Andy MacQueen', '1128100': 'Beca', '1128200': 'Ahmed Hassan', '1128300': 'Sasha Roshalle', '1128900': 'Gold (9)', '1129600': 'Gilbert Ronstadt', '1130200': 'The Mute-Ants', '1130300': 'The Hats', '1130400': 'The Good Old Boys', '1130500': 'Ghettolandz', '1130800': 'Giza', '1131300': 'D.J. Roby', '1132100': 'Blown Doors', '1132600': 'Nikolai De Treskow', '1132800': 'Dead Image (2)', '1133200': 'Ton Oosterhuis', '1133300': 'Bobby Joe Knight', '1133600': 'A. Cash', '1134800': 'Another Cinema', '1134900': 'Sebő Miklós', '1135400': 'Pertti Niilahti', '1135500': 'Kurt Brummer', '1135700': 'Jason Leonard', '1135900': 'No Explanation', '1137400': 'Loose Screw', '1137600': 'Brian Asher', '1137800': 'Zond3', '1137900': \"You Can't Have A Dinosaur\", '1138400': 'Marcus Valentine', '1138600': 'Metrica', '1138700': 'Adaken Scoffs', '1139900': 'Mark Anthony (7)', '1140100': 'Thorne & Rosemeister', '1140700': 'A. K. Klosowski', '1140800': 'David Thrower (2)', '1140900': 'Fred Waring And The Glee Club', '1141600': 'D The Dragon', '1141900': 'Voice Machine', '1142100': 'Bart van Helsdingen', '1143200': 'The Pyramids (6)', '1143300': 'Brent Dunn', '1143500': 'Love Fever', '1144000': 'Gasoline Queen', '1144500': 'Revolutionary Youth', '1144700': 'DJ Bomba (3)', '1144800': 'Kermit Delisser', '1145000': 'The Real House', '1145100': 'Stephanie Rearick', '1145300': 'Danny Gill', '1145400': 'Eddy Current', '1145700': 'Hocus Pocus (5)', '1145800': 'Clear Picture', '1145900': 'Drack Muse', '1146800': 'Kari Saimon', '1146900': 'Marcel Ege', '1147300': 'Born Talent', '1147600': 'D Willz', '1147800': 'Tasty (2)', '1147900': 'Robert Murzeau', '1148100': 'Till Timm', '1148200': 'Kanta Horio', '1148300': 'Bumble B (3)', '1148400': 'Morris Family', '1148500': 'J. Weaver', '1148600': 'The New Royales', '1149100': 'Audiomicid', '1149200': 'Ergot (3)', '1149300': 'Jane McCracken', '1149500': 'Kemayo', '1149600': 'Samantha Gibb', '1149700': 'A. De Large', '1149800': 'Kate Gulbrandsen', '1150100': 'Marit Nicolaysen', '1150200': 'Natural Cause', '1150500': 'Tabu (12)', '1151100': 'Adams (6)', '1151200': 'The Wild Indians', '1151500': 'Don Kelley', '1151900': 'Kaze (3)', '1152100': 'Princess Jabula', '1152300': 'Johnny Moreno', '1152400': 'Dave D. Robinson', '1152700': 'Terry Lawrence', '1152900': 'Matta Llama', '1153500': 'Atomic Shitten', '1153600': 'Paraxism', '1154100': 'Wooling', '1154400': 'Medicine Hat', '1154800': 'Susumu Miyashita', '1155100': 'Kjell Håkon Aalvik', '1155200': 'Florence Mottier', '1155900': 'Kirsi', '1156200': 'Jeffrey Frederick With Les Clams', '1156600': 'Bruno Seidlhofer', '1157700': 'Taxi (11)', '1159000': 'Robotosaurus', '1159100': 'Chris Taylor Brown', '1159200': 'Velore', '1159300': 'I Vocalmen', '1159800': 'Breath And Decay', '1160400': 'Restless (8)', '1160600': 'Hevoset', '1160900': 'Bess Lomax', '1161100': 'Bland Simpson', '1161200': 'Papaconia', '1161800': 'Marshall White', '1162200': 'Ozie Waters And The Colorado Hillbillies', '1162500': 'Reino Simola', '1162900': 'Ray Bennett', '1163000': 'Linwood Regensburg', '1163100': 'Soil Sing Through Me', '1163600': 'Serge Rosenthal', '1164100': 'DJ Miller (2)', '1164300': 'Jamit', '1164400': 'Dravorium', '1165200': 'The Pink Delicates', '1165700': 'Trance Arsene', '1165800': 'Tronic Twins', '1166000': 'Hush Collector', '1166400': 'Little Nakoch', '1166600': '폐허', '1167100': 'Fiery G. Maelstrom', '1167500': 'George A. Prah', '1168100': 'Auroxide', '1168200': 'Itano Tomomi', '1168300': 'Marc Tobio', '1168700': 'Sveinung Bjelland', '1168800': 'The Rainbows (3)', '1168900': 'Crash McLarson', '1169200': 'Van Grosser', '1169500': 'Vitality (4)', '1169700': 'Afgans', '1169900': 'Nils De Caster', '1170200': 'Da Circle', '1170600': 'Cali Girl', '1171000': 'London Phogg', '1171100': 'Kutts', '1171200': 'Mário Ângelo', '1171300': 'Vico Pagano', '1171400': 'Simo Laiho', '1171700': 'Akmula', '1172100': 'Prozac Brothers', '1172600': 'Todd Wollons', '1173000': 'Munly & The Lee Lewis Harlots', '1173100': 'Rupert Cunningham', '1173300': 'Tower City', '1173700': 'Bobby Mackay', '1173800': 'Jaime Rodriguez', '1174500': 'The Mystics (2)', '1174800': 'Fields Lay Fallow', '1175500': 'Яков Цвиркунов', '1175800': 'Illson (2)', '1176000': 'Tritonus (2)', '1176100': 'The Boogiemen', '1177000': '45 R.P.M.', '1177200': 'Late Nite Wars', '1177300': 'Rock D The Legend', '1177600': 'Awkward Why?', '1178300': 'Killdozer (2)', '1178400': 'Puma 69', '1178800': 'Katrine', '1178900': 'Edwin Serrano', '1179000': 'Solars', '1179300': 'The Last Garbo', '1179400': 'David Strong', '1179600': 'Ren Cen Players', '1179900': 'I Hate Sally', '1180300': 'Yuval Shafrir', '1180800': 'Ohta-San', '1181000': 'Adam And His Nuclear Rockets', '1181300': 'Two Saints', '1181800': 'Ivan Matetić Ronjgov', '1182300': 'Shaman (8)', '1182800': 'Magnetron (2)', '1182900': 'Nelly Jane', '1184500': 'Mistafide', '1184600': 'Aphelion (4)', '1185700': 'Mira Kay', '1185900': 'Fred Ove Reksten', '1186700': 'Batutinha Dj', '1186900': 'Baby Boy Warren', '1187500': 'Alex Scotty', '1188000': 'Explicit Fam', '1188200': 'Morten Hattestad', '1189000': 'Kalua Beach Boys', '1189300': 'Kurt Edelhagen Und Die Allstars', '1189700': 'Jesus Maria Sanroma', '1190000': 'Consortium Violae', '1190100': 'Moti Dichne', '1190300': 'Iran (2)', '1190600': 'Jens Reich', '1191200': 'Animal New Ones', '1192200': 'Bygone Era', '1192300': 'Woodblue', '1192600': 'Robbie C.', '1192800': 'Mato (4)', '1193100': 'A La Via', '1193200': 'Porky Panico', '1193600': 'StereoDan', '1193700': 'Stanley Woods', '1193800': 'Sharp Kiddie', '1193900': 'The Mike Jones Group', '1194100': 'Mariachi (5)', '1195000': 'Nolan Welsh', '1195100': 'The Carpet Frogs', '1195300': 'Marisa Laurito', '1195400': 'The Baron (4)', '1196400': 'Stealth (10)', '1197000': 'Jeremy Vicari', '1197100': 'James Rod & Xar-Lee Kunf', '1197200': 'Text (2)', '1197700': 'Takashi Asanuma', '1198200': 'Wolfhound', '1198700': 'Ron Galloway', '1198800': 'The Bodybag Romance', '1199000': 'Valcárcel Medina', '1199400': 'Rixxter', '1199600': 'L (5)', '1199700': 'Patrick Mit Absicht', '1200100': 'Komsomolsk', '1201500': 'Lord Skan', '1201600': 'Cheerleaders Of The Apocalypse', '1202000': 'Double Way', '1202300': 'Pinoko', '1203500': 'Silent Ink', '1203600': 'Robert Abramson', '1204600': 'Francisco Obieta', '1204700': 'Brat Schneider', '1204800': \"Cupid's Guillotine\", '1205000': 'Diane Solo', '1205200': 'Dean Watson', '1205700': 'Thalia Ferreira', '1206100': 'Colette (9)', '1206200': 'Charles Antoine', '1206300': 'Elgee', '1206600': 'Jeff Cooper (2)', '1206700': 'Mahia Blackmore', '1207600': '2Robots', '1207700': 'Caroline Pittman', '1208500': 'Merlin (23)', '1209100': 'Alonzo Levister', '1209200': 'Alex Biron', '1209400': 'Rosso (3)', '1209600': 'Darkside Of Soul', '1209800': 'Dennis (9)', '1209900': 'Sotilasmusiikkikoulu', '1210000': 'Graziano Pellarini', '1210400': 'Oliver St John', '1211000': 'Alfredo Mojica', '1211100': 'Niko Potočnjak', '1211200': 'Ian Wrightson', '1211500': 'Scott Jacobson', '1211900': 'G.G.G', '1212200': 'Corvos', '1212300': 'Bidibule', '1212500': 'Hoss, Sioux', '1212700': 'Markita Mattsson', '1213200': \"Dj Ded'N\", '1213300': 'Mothball Z', '1213500': 'Sakura Whiteing', '1213800': 'Franklin Reeves', '1213900': 'Big Rew', '1214000': 'José María Muneta', '1215200': 'Jakob Rullhusen', '1215500': 'Skelett', '1216000': 'Helena Růžičková', '1216100': 'Doug Sheldon', '1216400': 'The Magnificent Freedom', '1216800': 'Lucie Idlout', '1217500': 'The Tony DeSimone Trio', '1217600': 'Survival (4)', '1217800': 'Lil Smoke', '1217900': 'Lil Stick Up', '1218000': 'Dread Ful', '1218100': 'Elvy Bengtsson', '1218300': 'Frank Blake (2)', '1218400': 'Alla Polacca', '1218600': 'Nonmandol', '1218700': 'The Sleeping Signature', '1218900': 'DJ B.O.S.S.', '1219000': 'Detmolder Bläser', '1219500': 'Lauri Solin', '1220000': 'Amorphous (4)', '1220600': 'Post Traumatic', '1220900': \"Housewife's Choice\", '1221100': 'Sampson The Lark', '1221200': 'Pepe, Bod and Dirt', '1221400': 'GS Brothers', '1221700': 'Fade (9)', '1222000': 'Ma-Head Trimmel', '1222200': 'Teeth (5)', '1222500': 'Killing Skills', '1222600': 'Duckmandu!', '1222700': 'After Impact', '1222800': 'The Rabiez', '1223400': 'Zebby Blax', '1224400': 'Androids', '1224900': 'The New World Orchestra (2)', '1225000': 'Paulussen & Cali', '1225600': 'Roberto Bernardi', '1225700': 'Zayne Adams', '1226600': 'Ivica Pepelko', '1227100': 'Kim Roger Larsen', '1227200': 'Vreni & Franz Stadelmann', '1227300': 'Box 229', '1227900': 'Netka', '1228600': 'J. Winston Phillips', '1228700': 'The Lost Levels', '1228900': 'Lino Tomaso', '1229400': 'A.C.Reed', '1229500': 'Eddison', '1229900': 'Will Fury', '1230100': 'Yenn (2)', '1230700': 'Dono', '1231700': 'Suarasama', '1232400': 'Public Class', '1233100': 'Banda Tomalira', '1233600': 'Paul Johnson Orchestra', '1233900': 'Distorted Staplegun', '1234800': 'Fady Maalouf', '1234900': 'Kika (10)', '1235100': 'Helen G', '1235200': 'Nina (38)', '1235300': 'Don Stiernberg', '1235400': 'Verslo Rizikos Rezervas', '1236400': 'Krognes Orkester', '1236500': 'Beat Jäggi', '1236800': 'Samuel Malavsky', '1237300': 'The Torques', '1237400': 'Sprayers', '1238000': 'Rafael De Jerez', '1238100': 'We Know Where You Live', '1238200': 'Hansjörg Schmitthenner', '1238700': 'Gordon Shumway (4)', '1239100': 'Robert Gilligan', '1239200': 'Gaëlle', '1239400': 'MC Reality (2)', '1239900': 'Tiffany Anderson', '1240100': 'Ztvörki', '1240500': 'Funky Headhunters', '1240900': 'Bill Vance', '1241200': \"Ikodora '65\", '1241300': 'Quint (3)', '1241500': 'Softday', '1241800': 'Bob Seanna', '1241900': 'Bobby Donaldson (2)', '1242300': 'Erika Runge', '1242400': 'Manuel Guerra', '1242600': 'Individual Fruit Pie', '1242700': 'House Music United', '1243800': 'Maitreya (4)', '1244100': 'Иван Лечев', '1244200': 'S. & M. Young', '1244400': 'Jawa (3)', '1244600': 'Anna Dobiey', '1245700': 'Eoghan Horgan', '1246100': 'Double R (4)', '1246300': 'Eddie Alexander', '1246400': 'Blackdrum', '1246800': 'The Looking Glasses', '1246900': 'Baby (7)', '1247100': 'Davor Ebner', '1247200': 'Alliance (13)', '1247400': 'Bebop & Destruction', '1247500': 'Yabby Youth', '1248000': 'Persona (6)', '1248400': 'Birdwave', '1248800': 'Charlie Estes', '1249000': 'Phester Swollen', '1249500': 'Dion D', '1249600': 'Buffalo Voice', '1249700': 'Leonard Copeland', '1249800': 'Deux Hommes Avec Des Boites', '1250100': 'Justified', '1250400': 'Silent Scream (2)', '1250500': 'First Light (6)', '1250600': 'Olatunji Mason', '1250800': 'Abt', '1250900': 'Threatmantics', '1251400': 'Walter Valdi', '1251700': 'Kine (4)', '1251900': 'Mika Ueki', '1252200': 'Jackie & Hortense', '1252400': 'Shura Fujimoto', '1252500': 'Jim McDonald', '1252900': 'Sick Abuse', '1253000': 'Memphis 10SC', '1253200': 'Guy Davis (6)', '1254200': 'Magane (2)', '1254500': 'Chartwell Dutiro', '1254700': 'Atfunk', '1255400': 'Citra Super', '1255700': 'Daniel Teper', '1256000': \"The G.A.'s\", '1256200': 'Jan Helmer', '1256400': 'MGTB Philippe Lambert', '1256900': 'Toshi (6)', '1257200': 'Ireene Right', '1257300': 'William Franklyn', '1257400': 'Embrace Fire', '1257800': 'ダルマタイプ-08', '1258000': 'The Duke City Swampcoolers', '1258100': 'The Dirty Backbeats', '1258200': 'Soul Mates (2)', '1258500': 'Royce (3)', '1259000': 'Imbibing Bile', '1259300': 'DeadHorse', '1259400': 'Rick Smith (5)', '1260000': 'Franck Lebon', '1260200': 'Creepshow', '1260600': 'Kata To Chreon', '1260800': 'Jstar (2)', '1261200': 'Funeral Party (4)', '1261300': 'Michael Meyer (2)', '1262200': 'Michael Perkins', '1262300': 'Ivins', '1262800': 'Gospel Challengers', '1263000': 'Grigore Kiazim', '1263100': 'Program 81', '1263400': 'Dickens', '1263500': 'Yvon Alain', '1263700': 'The Charge', '1263900': 'The Trappers', '1264000': 'Nijinsky Folie', '1264400': 'Annamateur & Ihre Gitarristen', '1264900': \"Herb Shriner's Harmonica Orchestra\", '1265100': 'Mortimer (5)', '1265300': 'Von Freeman Quartet', '1265600': 'Blue-Sky', '1265700': 'Mario Di Staso', '1266100': 'Cymbeline (2)', '1266400': 'Honky Tonk Heroes', '1266600': 'Nursery Rhymes', '1266700': 'The Free Zen Society', '1267000': 'Ronda El Liguerucu De Fresno Del Rio', '1267300': 'Kenyatta Whispers', '1267400': 'Trini Man', '1267800': 'Gil-Renaud', '1268100': 'Coral (3)', '1268400': 'Richard Davison', '1268800': 'Eddy House', '1269100': 'The Ron Grainer Orchestra', '1270100': 'Kara (8)', '1271200': 'Donny Lee Moore', '1272300': 'Mr. Andrew', '1272400': 'Chemobeatz', '1272600': 'Zumbi - 2', '1272800': 'John Mesner, Jr.', '1272900': 'Tox Drohar', '1273300': 'Nestor Zavarce', '1273800': 'Eddy Shaver', '1274100': 'Håkan Elmquists Orkester', '1274200': 'Tyburn Tall', '1274400': 'Wilfred Y La Ganga', '1274500': 'Mickey (8)', '1275100': 'Hadi Burpee', '1275600': 'Självhat', '1275700': 'Kakitsubata', '1276000': 'Marasco', '1276300': 'Vermont Youth Orchestra', '1277000': 'Péter Forgács', '1277600': 'Pleased Youth', '1277800': \"Rita Ford's Music Boxes\", '1278000': 'Robin (27)', '1278100': 'Solstice Coil', '1278200': 'Bad Business (2)', '1278400': 'S.L. Line', '1278600': 'Michael \"Miron\" Chirva', '1279500': 'Mike & Perry', '1279600': 'Krieg Kopf', '1279900': 'Fonz Prod', '1280000': 'Guillermo Edgehill', '1280200': 'Eyston', '1280400': 'Hugo Diez', '1280500': 'MARCUSH ASHER', '1280900': 'Dr.Disco', '1281700': 'Manrae', '1282300': 'Wandelweiser Komponisten Ensemble', '1282400': 'Elo (5)', '1283100': 'Judy Layne', '1283600': 'Arturo Danesin', '1284000': 'Radio Insane', '1284300': 'Michael Tully', '1284900': 'Space Probe Taurus', '1285000': 'Dood Computer', '1285100': 'Roy Man', '1285300': 'Disability Recovery Project', '1285700': 'Pulse (26)', '1286300': 'Mobilize', '1286500': 'Robin Lawrence Datta', '1286700': 'Stephen Clements', '1286900': 'Fans Of Jimmy Century', '1287200': 'Camuta', '1287600': 'The Boilers', '1287700': 'The Steadys', '1287800': 'Y. Kastel', '1288000': 'Ensemble (8)', '1288100': 'Lost Chromosome', '1288500': 'Ogy And The Branch Davidians', '1288600': 'Rik van Dam', '1289100': 'Дрогункин А.Д.', '1289600': 'Stormy Weather', '1289900': 'Akara', '1290000': 'Lenny Bailey', '1290300': 'Les Frères Médinger', '1290800': 'David Murtagh', '1291100': 'Proof Of Ghosts', '1291200': 'The Bugs (2)', '1291900': 'Allen Collins Band', '1292200': 'Tim Ballista', '1292300': 'The Angel Born In Hell', '1292400': 'Alan Witts', '1292700': 'Frank Messina', '1293400': 'BeatBombers', '1294200': 'Moses Mo', '1294500': 'Eva Sargent', '1294700': 'Lahar (3)', '1295300': 'Sick Seed', '1295400': 'Supralist', '1295700': 'Kapanga', '1295900': 'Kama-del-Sutra', '1296400': 'Strange Birds', '1296800': 'Jesús Fernández Blanco', '1296900': 'The Marauders (3)', '1297100': 'Livia Mazzanti', '1297400': 'Elbodrop', '1298200': 'Klinički Mrtav', '1298800': 'Pete Standing Alone', '1298900': 'Talk 2 U', '1299900': 'Manuel Rocheman', '1300100': 'Nagy László (3)', '1300400': 'Chiquita (2)', '1300500': 'Ray Heard', '1300700': 'Tropics', '1301600': 'Bernhard Gál', '1301900': 'The Festival Singers', '1302000': 'Another Wall', '1302800': 'John Player (2)', '1303100': 'One Eyed Richard And The Goddamn Liars', '1303300': 'Ernest Cooper', '1303800': 'Whiteboy (5)', '1304100': 'Sakari Heikka', '1304400': 'Bolesław Gryczyński', '1304500': 'Dino Quarleri', '1304600': 'Jonathan Monterio & Mazi Namvar', '1305300': 'Lady (7)', '1305600': 'Lasse Wern', '1305700': 'EK50', '1305800': 'The Chris McGregor Trio', '1306000': 'Insane Youth (2)', '1306100': 'Danika', '1307400': 'Dalibor Grubačević', '1308400': 'Sonic Bee', '1308500': 'Mathias Pulleu-benguigui', '1308900': 'Hope Clayburn', '1309100': 'Ron Prudence', '1309200': 'Amorhouse', '1309500': 'The Salteens (2)', '1309900': 'Doc Corbin Dart', '1310100': 'Trevor McNevan', '1310200': 'Jan May', '1310600': 'Negative Side', '1311200': 'Terry Tanger', '1311600': 'Joaquín Almendros', '1311800': 'Domino (24)', '1312500': 'Ché (4)', '1313100': 'Bröderna Grymm', '1313300': 'Billy Bond', '1313400': 'Frederic Ramsey Jr.', '1314400': 'Gramma Marksman', '1314800': 'Ben Robertson', '1315200': 'Leif Karlsson', '1315400': 'Régis Boulard', '1315600': 'Stendhal (2)', '1315700': \"Elite MC's\", '1316000': 'The Kinship', '1316100': 'McLintock', '1316300': 'Villain (4)', '1316600': 'Hendrik Lebona', '1316900': 'Endless Blizzard', '1317800': 'Unfortune Teller', '1317900': 'J.M.A. Biesheuvel', '1318000': 'F. Starik', '1318700': 'Thee Waltons', '1318900': 'Speckmann Project', '1319000': 'Little Nicky & The Slicks', '1319100': 'Richard Stillwell', '1319300': 'Николай Матвеев', '1319500': 'Wish (10)', '1319800': 'DJ Mortadelo', '1320200': 'Nuno Espírito Santo', '1320600': 'Maps (2)', '1320700': 'Wolfgang Engels', '1320800': 'Villa Box', '1321100': 'Brian Torgersen', '1321600': 'Nuit Des Stars', '1321900': 'DJ Peeza (3)', '1322000': 'Vizion (6)', '1322900': 'Catastrophe III', '1323300': 'Mike Betz', '1323400': 'Flashguns', '1323700': 'No School', '1324000': 'Terem', '1324500': 'Kelly Sears And His Homefolks', '1325000': 'Grizzzly & Dynasty', '1325100': 'Gareth Lewis', '1325700': 'Thorsten Encke', '1325800': 'Ирина Епифанова', '1325900': 'Step Chant Unit', '1326300': 'chanson sigeru', '1326800': 'Azarias Georges', '1326900': 'Livia Cigar', '1327000': 'PM (11)', '1327200': 'Spanish Jose', '1327600': 'TAITO', '1327700': 'Spyder (4)', '1328200': 'Moahni Moahna', '1328700': 'Tradewinds (2)', '1328800': 'TRIO ALVIRE', '1328900': 'Carol Bove', '1329100': 'Instruments (Make Music)', '1329200': 'Miša Brčin', '1329400': 'Lost Anchor', '1329700': 'Zak Haus', '1329800': 'Giuseppe Blanc', '1330000': 'Nika Turkovic', '1330200': 'Vaanya Diva', '1330400': 'Michele Molese', '1330600': 'Steve Fataar', '1331000': 'Teargas', '1331200': 'Salem (7)', '1331800': 'Johnny Black (2)', '1331900': 'Sinistra (3)', '1332000': 'Reptile71', '1332200': 'Popeye (8)', '1332500': 'Joey Charles Drums', '1332900': 'Marvin Brown (2)', '1333200': \"L'Oops\", '1333500': 'Vlado Koljesar', '1333800': 'Like Millions', '1333900': 'Wil Holzhouser', '1334300': 'Cláudio Vera Cruz', '1334500': 'Dave Randall (3)', '1334800': 'Jim Carson', '1335300': 'All In The Family', '1335400': 'Macchina Targata Paura', '1335500': 'Agharta (2)', '1335700': 'Bush League', '1335900': 'Milan Šlechta', '1336000': 'Jesus Fucking Christ', '1336500': 'Stephen Tavani', '1336700': 'Tom Patchett', '1337200': 'DJ D (8)', '1337400': 'Jena Si Qua', '1337500': 'Catharina Hessels', '1337600': 'Cara Jones', '1338100': 'Dale Travous', '1338300': 'Theme (3)', '1338600': 'Odile Bailleux', '1338800': 'Clifford Gross', '1338900': 'Mama Moe', '1339100': 'DJ Fiction', '1339300': 'Royal Dukes', '1339700': 'Présence-Times', '1340400': 'Olivier S', '1340700': 'Jim Buchanan', '1341300': 'An-J', '1341400': 'Nuoret Vihaiset Miehet', '1341800': 'Stu Daye', '1342000': 'Andy X', '1342200': 'Newton Wayland (2)', '1342400': 'Philippe Vincent', '1342700': 'Sidechains', '1342900': 'Ron Lockhart', '1343000': 'Erick Cosaque', '1343200': 'Cinzia Lampariello', '1343400': 'Andergroundaz', '1343600': 'Rhys Mottley', '1344300': 'Joey Wright', '1344800': 'Teréz Losonczy', '1345100': 'Newport', '1345300': \"Keaton's\", '1345400': 'Wilshire Express', '1345700': 'Grotesque (2)', '1346100': 'Shinichi Isohata', '1346400': 'Jai (5)', '1346600': 'RRRRRRR', '1346700': 'Die Rössl Musikanten', '1346800': 'Xavier Aamonhammer', '1347600': \"Eklezjas'Tik Berzerk\", '1347800': 'Valérie Btesh', '1347900': 'Darmon', '1348200': 'Jack Oakie', '1348600': 'Paul Ehrlich', '1349600': 'A-Bex', '1350100': 'Witchhammer', '1350600': 'New Dawn Fades (3)', '1350800': 'Vero D', '1350900': 'Audio Sutra Sound', '1351200': \"The Coaty's Pop\", '1351400': 'Helen Louise Graves', '1351600': 'Dani Shivers', '1351800': \"Who's Gerald?\", '1352500': 'Mike Rechner', '1352600': 'Maria León', '1352700': 'Вениамин Баснер', '1353300': 'Blind Roger Hays', '1353600': 'Rappin Ron (2)', '1354200': 'Vampire Squid', '1354300': 'Smooth Attack', '1354500': 'Angel Love (3)', '1354600': 'Carry Nation (2)', '1354700': 'Clementine Vale', '1354800': 'Roque Ferreira', '1354900': 'Yutha', '1355300': 'Grave Concern', '1355600': 'Dan Milner', '1355800': 'Ralph \"Joe\" Meadows', '1356100': 'Walter Ríos', '1356200': 'Dirty Channels', '1356400': 'Gary Gee', '1356600': 'Pearl Williams (2)', '1357000': 'The Golden Dawn (2)', '1357300': 'Juan Sebastián Lach Lau', '1357500': 'Trash Union', '1357600': 'Twin (7)', '1358500': 'Mária Geszti', '1358600': 'The Zeros (2)', '1358900': 'Shell Shock Click', '1359000': 'Inter Nos', '1359300': 'Dieudonné Kabongo', '1359500': 'Joan Maragall', '1359600': 'The Gents (3)', '1359700': 'Kubura Alaragbo', '1360000': 'Gary Caustictones', '1360900': 'Gert Kilian', '1361300': 'Bodixel', '1361700': 'Guy Laramée', '1362100': 'Marshall Reese', '1362500': 'Dawgy Baggz', '1362600': 'Snowfade', '1363100': 'Gregory Parks', '1363200': 'Arcadium (3)', '1363400': 'Sample Snatchers', '1363700': 'Trone', '1364800': 'Chuck Frkovich', '1365300': 'Joe Mancuso', '1365800': 'David Edwards (9)', '1366000': 'The Ducky Boyz', '1366500': 'Puma Marhaug', '1366600': 'Tony (53)', '1366700': 'Carl Tanner', '1366800': 'Glenn D. Wright', '1367000': 'Sule Tuna', '1367200': 'Lon LeMaster', '1367900': 'Cichon', '1368000': 'Psyentifica', '1368100': 'RobinCosmos', '1368300': 'Valery Posternak', '1368800': 'Bobby McBride', '1369200': 'David Lyon', '1369300': 'Bogdan Navoj', '1369500': 'Alien Asians', '1369600': 'The Kings Court', '1369900': 'Trent Strickland', '1370400': 'Ayumi Kato', '1370800': 'Avoidance Of Doubt', '1370900': 'Freya Giles', '1371200': 'Willeke van Ammelrooy', '1371500': 'Lionel Benhamou', '1371700': 'Compagnie Laurent Terzieff', '1372000': 'Ellinikon Project', '1372300': 'Edmon (2)', '1372500': 'Bill Ladd', '1373100': 'The Totnamites', '1373300': 'Eugenijus Paulauskas', '1373500': 'Ariel Rodz', '1373900': 'Steve Beyerink', '1374000': 'Crunk for Christ', '1374100': 'Gary Cook', '1374300': 'Jack of All Trades (4)', '1374400': 'Ingegerd Winge', '1374500': 'Tung', '1374900': 'Willie Harris', '1375000': 'Johnny Gilmore', '1375200': 'Gary Bartz Quartet', '1375600': 'Milka Stupar', '1375800': 'Halina Zielińska', '1376200': 'Beastmaster', '1376300': 'Mighty Marvin', '1376500': 'Peter Lang (5)', '1376600': 'Invictus (2)', '1376900': 'Nicolás Carrasco', '1377800': 'Dick Carr And His Bushlanders', '1378100': 'Sclist', '1378200': 'Cesarius Alvim', '1378400': 'Jon Fisher (2)', '1379000': 'Donie Cassidy', '1379100': 'Асфальт', '1379400': 'Vice Versa (8)', '1379600': \"Sinister '66\", '1380700': 'Lujan', '1381200': 'Динамит', '1381400': 'Annie McGowan', '1381900': 'Heiner Merk', '1382300': 'Bayie', '1382500': 'Deep Selthy', '1383100': 'Lucas (23)', '1383200': 'Vick Echo', '1383600': 'Eugeniusz Mossakowski', '1383800': 'Eddie Tuduri', '1384900': 'Sister No', '1385000': 'Greaves', '1385200': 'SuperGiant', '1385600': 'Kerim Khan', '1385700': 'Nono Manzanza', '1385900': 'Expansion Team Soundsystem', '1386300': 'Dixie Burner', '1386900': 'Linde de Groof', '1387200': 'Kenneth Pattengale', '1387600': 'Why The Misery', '1387900': 'Trevin Pinto', '1388400': 'Kent State', '1388500': 'Avel Nevez', '1389500': 'Nicole Stockholm', '1389800': 'Tresk', '1390000': 'Pants', '1390100': 'Miss-Leadin', '1390800': 'Neo (21)', '1391200': 'Gherase Dendrino', '1391300': 'Orchestre Ballet Les Anges', '1391700': 'Michiel Jenner', '1392400': 'Tidy DJs', '1392500': 'Shachar Ben Meir', '1392700': 'Jimmy Brown (6)', '1393200': 'Ralph Whitehouse', '1393400': 'Martin Svenstorp', '1394100': 'mifuma', '1394600': 'Shyboy (3)', '1394900': 'Los Comancheros', '1395400': 'Eun-Hee Cho', '1395800': 'Timothy Moldray', '1396000': 'Marco Giaccaria', '1396200': 'Fuse (10)', '1396500': 'Ahrnol Spolch', '1396600': 'Prince Zeka Systeme', '1396800': 'Armstrong (2)', '1397200': 'Espen A.R. Aulie', '1397900': 'Olivier Agid', '1398200': 'Hexa (2)', '1398500': 'DJ Ben Fisher', '1398900': 'Gogo Jungle', '1399300': 'Ghost Writer', '1399500': 'Unequal Treaty', '1400300': 'NonLinear (2)', '1400900': 'Jer Martin', '1401300': 'The Harry Stoneham Sound', '1401400': 'Steve Verwolf', '1401500': 'Béla Balázs', '1402300': 'Starproject', '1402400': 'Miroslav Imrich', '1403000': 'Madslo', '1403200': 'Анатолий Беляев', '1403400': 'Hellworms', '1403600': 'Nikola Badev', '1404500': 'M. Lynch', '1405000': 'Oriole Dance Orchestra', '1405300': 'Nadja Beimel', '1405800': 'Spectrum-X', '1405900': 'Mr. Soch', '1406300': 'Peter Koutstaal', '1406500': 'Little Laura Wiggins', '1406700': 'Family Love (2)', '1406900': 'Lovax Traxx', '1407000': 'Casbah Penny Whistle Gang', '1407500': 'Child (6)', '1407600': 'Alain Pye', '1407700': 'Davor Senčar', '1407900': 'Chimba', '1408100': 'Fisher Tull', '1408300': 'Александр Ситковецкий', '1408400': 'Mick McConnell', '1408500': 'Otto Bezloja', '1409100': 'Jan Galega Brönnimann', '1409200': 'Rachid Manou', '1409600': 'Mike Kelly (6)', '1409700': 'Nokol', '1410400': 'Johan (22)', '1410500': 'Pekka Sassi', '1410700': 'Caramel Pod', '1410900': 'Myke Roy', '1411200': 'Citylife', '1411300': 'Luvbug (2)', '1411400': 'Flatpack Jesus', '1411700': 'Ricardo Cepeda', '1411900': 'The Eccentrics (2)', '1412700': 'Pure 13', '1412900': 'The Tropical Islanders', '1413000': 'Stevie Vayne', '1413100': 'Apollo Slice', '1413200': 'The Alphabetical Order', '1413600': 'Theodor Nicolai', '1413700': 'Graham B.', '1413800': 'To Separate The Flesh From The Bones', '1413900': 'WCK', '1414000': 'Yashar M. Zadeh', '1414100': 'Gene Cross', '1414200': 'Cristian Vargas', '1414300': 'Philharmonic Sound Orchestra', '1414600': 'Basement App.', '1414700': 'Kirill Raudsepp', '1415900': 'Delta Song', '1416200': 'LA-X', '1416300': 'The Jubilees (2)', '1416400': 'Dejossy', '1417000': 'Galaxy Down', '1417300': 'Aylam Orian', '1417400': 'Three Lights', '1418700': 'Émile Verhaeren', '1418900': 'The Wild', '1419000': 'Jasper Clash', '1419100': 'Whitey Fisk', '1419200': 'Gene Noakes', '1419300': 'Michael Henry Martin', '1419400': 'David Peek (2)', '1419700': 'Jack Stat', '1420100': 'Alain Rouquette', '1420500': 'The Sidemen', '1421300': 'Chill Reflections', '1421400': 'William Corkine', '1421600': 'Roy And Joe', '1421700': 'I Tre Di Roma', '1422200': 'Royal Wade Kimes', '1422400': 'Deep Horizon', '1422800': 'Annie Jodry', '1423600': 'Akio Hayashi', '1423800': 'Subconscious Aurists', '1423900': 'Samay', '1424100': 'Collateral Nature', '1424400': 'Echoes Of Zion', '1424600': 'Mr. Murrungio', '1425100': 'Melanie Dekker', '1425200': 'Joy Lieberkind', '1425500': 'Kevin Bascus', '1426100': 'The E.N.D.', '1426500': 'Craig & Michael', '1426800': 'Eddy Warco', '1426900': 'The Bearings', '1428000': 'The Rites (2)', '1428100': 'Dream Unit', '1428200': 'Józef Mazurkiewicz', '1428300': 'Ursus', '1428400': 'Diegors', '1428900': 'Trio Reynoso', '1429200': 'Brian Tyree', '1429400': 'Harry Lindenau', '1429500': 'Bad Hair Day (2)', '1429700': 'Lionheart (5)', '1430300': 'I Want To Kill Every Human', '1430400': 'Barret Cluehill', '1430500': 'Dragomir Daniel', '1430700': 'Black Ravens', '1431200': 'Noemi Liba', '1431400': 'Darlene Gillespie', '1431500': 'SFB 1', '1432200': 'Leano Morelli', '1432300': 'Jeffrey Burns', '1432400': 'Parental', '1433100': 'Audio Science Experiment', '1433500': 'Roswell (8)', '1433600': 'Orchestra Roy Collins', '1433800': 'Victor Griffiths', '1434100': 'Meanderthals', '1434600': 'Marc Profichet', '1435000': 'DJ Sovoid & DJ Classic', '1435600': 'Elaine And Derek', '1435800': 'Paulus Kressman', '1436100': 'Misery (9)', '1436500': 'Amadou Doumbouïa', '1436600': 'Spindle', '1437300': 'Ryosuke Nagaoka', '1437400': 'Jesse Katina', '1437600': 'My Place In Space', '1437800': 'VIIth Temple', '1437900': 'Blue Ridge Playboys', '1438500': 'Freddy Audval', '1438600': 'Prosper Mérimée', '1438700': 'Mike Sheppard (3)', '1438800': 'Mykah', '1439200': 'Stardust (6)', '1439400': 'Purr Bats', '1440000': 'Oliver Bone', '1440100': 'The Four Perfections', '1440300': 'Musique Principale Des Équipages De La Flotte', '1440500': 'Veronika Yakovleva', '1441000': 'Donny Hoffa', '1441300': 'Cyril Ornadel And His Orchestra', '1441400': 'Ron Richter (2)', '1442100': 'Urban Symphony', '1442300': 'O.Z. (2)', '1442500': 'Amis (2)', '1442600': 'Phil Brooks (2)', '1442900': 'Lopresti', '1443600': 'Les Chats Renaissance', '1443700': 'Symeron', '1444600': 'J. Bonnie', '1445000': 'Mr. Tanimola Opaleye', '1445100': 'The Movement (18)', '1446100': 'Oscar Aleman Y Su Orquestra De Swing', '1446400': 'Line Out', '1446500': 'Brothers Manifesto', '1446900': 'Mino-5', '1447000': 'Mars Needs Lovers', '1447400': 'Wild Ones (2)', '1448100': 'Zach Schiermann', '1448900': 'Decoy Quintet', '1449100': 'Sam Shay', '1449900': 'BrindlArt', '1450000': 'Club Collab', '1450200': 'Buzzer P', '1450600': 'Orchester Jimmy Thanner', '1451300': 'Timothy Carr', '1452000': 'Hardy Peters', '1452600': 'Monica Tongla', '1452900': 'USK (2)', '1453000': 'Perfect View', '1453200': 'The Ironweed Project', '1453400': 'Andrzej Wodziński', '1453500': 'Ernest Vermet', '1453600': 'Janet B.', '1453800': 'Nuclear Disaster', '1453900': 'Rampage (7)', '1454900': 'Blaze Tripp', '1455500': 'A.S.A.P. (5)', '1455700': 'Big Wayne', '1456500': 'David Calzado & La Charanga Habanera', '1456700': 'Carbolic Smokeball Co.', '1457100': 'Jason Buchholz', '1457400': 'Taliesin (4)', '1457600': 'Plástico', '1457900': 'Maria João Silva', '1458300': 'Steve Valentino', '1458400': 'Anom', '1458800': 'Joe Keene', '1458900': 'Ill K', '1459100': 'The Funny Farm', '1459400': 'Maasen', '1459800': 'Anders T Peedú', '1459900': 'The Messerschmidts', '1460000': 'Michael V. DiCosimo', '1460100': 'Quietfire', '1460300': 'Radmila Misić', '1460400': 'Mašina', '1460700': 'Rolling Stone And His Traditional Aces', '1461000': 'Aldolph Gage', '1461200': 'The Bums', '1461300': 'Mea Culpa (4)', '1461800': 'Ma Täng', '1461900': 'Big Band Ritmo Sinfonica Città Di Verona', '1462400': 'Rudy (25)', '1462500': 'Cloudc', '1463400': 'Κάρμα', '1463700': 'Γιάννης Μαρίνος', '1463900': 'Zoelah Boyde', '1464300': 'Robin Banks (3)', '1464600': 'Delta Labs', '1465000': 'The Eternal Scream', '1465200': 'Colleen McCullough', '1465300': 'Bribones Hasta El Cuello', '1465700': 'Funky Beat Investigators (FBI)', '1465900': \"Sergey Gusyatinsky's St. Petersburg Big-Band\", '1466100': 'Keren Rosenbaum', '1466400': 'Swati', '1466500': 'Charles Viber', '1466800': 'Natalino Cataudella', '1468000': 'MIO (6)', '1468200': 'E.G. (4)', '1468800': 'Deathlike Silence (2)', '1468900': 'Al Madrigal', '1469100': 'Nunchukka Superfly', '1469200': 'Vangelis (2)', '1469600': 'Peri Valencio', '1469700': 'Larry Hawke', '1469800': 'Robert Karoly Müller', '1470000': 'Helium-Chang', '1470100': 'Diorr', '1470400': 'Jelani Kamau', '1470900': 'Afd Shift', '1471000': 'George Crater', '1471100': 'Norbert Vornam', '1471400': 'Sentinel (7)', '1471500': 'Marco Pasetto', '1472400': 'Whitey Morgan And The Waycross Georgia Farmboys', '1472500': 'Nicolas Pinelli', '1472700': 'Spirit Of The Forest (2)', '1473100': 'The Pale Orchestra', '1473300': 'Spot On Panties', '1473600': 'Fifi Lee', '1474600': 'Marten Mayes', '1474800': 'Richard Weninger', '1475200': 'Andor Losonczy', '1475900': 'Michael Marcinkowki', '1476300': 'The Young Eagles', '1476700': 'Jacques Duchêne', '1476800': 'George Burnz', '1477000': 'The Music Maids', '1477300': 'Melani Brown', '1477800': 'Marvin Cotterell', '1478200': 'Ljubiša Ristić (2)', '1478600': 'Script (2)', '1478700': 'Antonio Santana', '1479100': 'Head & The Hares', '1479200': 'Lionheart (6)', '1479400': 'Sweet Bananas', '1479500': 'John Ekedahl', '1479600': 'Trauma (23)', '1479900': 'Slunky Side', '1480200': 'Meanda', '1480300': 'Heather Treadway', '1481100': '2Phat 4Porn', '1481200': 'Jackson Lee', '1481400': 'Paul Hollowell', '1481600': 'Sotto Bless', '1482300': 'Paul Owen (3)', '1483300': 'Domenico Surace', '1483800': 'The Opiate Warriors', '1484000': 'David Hummer', '1484300': 'Jack Jackson (3)', '1484400': 'Gunar Siebert', '1484900': 'Max Morris', '1485000': 'Milan Princ', '1485600': 'Eternity ∞', '1485900': 'The Wigglers', '1486000': 'Paul Siraudin', '1486700': 'STR8 Funk', '1486900': 'Jérôme Lemonnier', '1487200': 'Giuseppe Castani', '1487900': 'Andrew Lane (3)', '1488100': 'Robert Passow', '1488400': 'Rotchild De Vogelare', '1488600': 'Bygdin', '1489000': 'Rachel James', '1489100': 'Jimmy Hart (2)', '1489600': 'Suzy (9)', '1489800': \"Shirley Zwerus' Choir\", '1489900': 'Cold Embrace Of Mythical Infinite Season', '1490500': 'Shanghai (4)', '1490600': 'Ferdinando Faraò', '1490900': 'Jacek Zander', '1491000': 'Andy Kirk (4)', '1491900': 'Dan Fandiño', '1493000': 'Brigadeer', '1493300': 'David Chan', '1494200': 'Walter Yetnikoff', '1494400': 'Sats', '1494800': 'Enno Develing', '1495100': 'The Jayne Mansfield Death Cars', '1495300': 'Human Being (3)', '1495500': 'Baxter (9)', '1495700': 'T.C. Connally', '1496400': 'Sergent York', '1497500': 'Francesco Gatta', '1497800': 'Vicente Ferrer', '1498000': 'Alexander Svendsen', '1498800': 'Temjiin', '1499200': 'Third P', '1500000': 'Torino Reitano', '1500300': 'Living Music', '1500400': 'Virtual (4)', '1500900': 'Christopher K. Koenigsberg', '1501000': 'Molla & Marquis', '1501400': 'Aniceto Do Império', '1501700': 'D Fresh', '1502100': 'Landmark', '1502500': 'Desordeiros', '1502700': 'Onussen', '1503400': 'Harri Karen', '1503900': 'Jacob Israel (2)', '1504600': 'Azop Corp', '1504700': 'Contradict (2)', '1504800': 'Jazz Fiddlers', '1505000': 'Plagued', '1505300': 'Greyhound Soul', '1505400': 'Sutra (México)', '1505800': 'Rebolt', '1506200': 'Punishment (3)', '1506300': 'Grant Windsor', '1506700': 'Sung-Won Yang', '1507000': 'Chris Campion (2)', '1507900': 'Bernie Mallinger', '1508300': 'Yan Tree', '1508500': 'Frank Harris With The Wallace Quartet', '1508600': 'Negative Control', '1508700': 'Death Dub', '1509200': 'Penya Prinz', '1509800': 'Phranteek', '1510300': 'Lady Margo', '1511200': 'Redweiler', '1511400': 'Michael Hornung', '1511600': 'Versailles (2)', '1511800': 'Neko (3)', '1511900': 'Jesse Herring', '1512500': \"Lucrèce L'Ecluse\", '1512600': 'Al Hopkins', '1513000': 'Zhukah', '1513300': \"J.J. O'Connell\", '1514200': 'Tron Jensen', '1516000': 'Livstid', '1516400': 'Profane Ritual', '1516500': 'Deadly Weapons (2)', '1516900': 'Mukaizake', '1517000': 'Fasa', '1517400': 'El Chivo', '1517500': 'Cancrena III', '1517600': \"Orchestral Pit's Cannibals\", '1517700': 'Josef Havlíček', '1517900': '\"Mos Deadly\" $in', '1518000': 'Aimee Walden', '1518700': 'Candycane', '1519000': 'Prop4g4nd4', '1519200': 'Contaminant (2)', '1519400': 'The Chemodan', '1519600': 'Dead Radical', '1519800': 'Shaft (9)', '1520000': 'Svartedauden', '1520100': 'Jozhy K', '1520900': 'Ian K.', '1521100': 'The dot.dot.dot. Orchestra', '1521600': 'Arcadem', '1521700': 'Alberto Mennini', '1521900': 'Hjemme Til Middag', '1522300': 'Dana Angle', '1522600': 'Александр Лазарев', '1522700': 'RockstarZZ', '1523000': 'Bonnie Banks', '1523300': 'Paja Diop', '1523400': 'Kitty Mann', '1523500': 'Guttorm Guttormsen Kvintett', '1523700': 'Dave Dillinger', '1524300': 'Moreno (8)', '1524600': 'Inês Duarte', '1524900': 'Rich Stein', '1525000': 'Gruk', '1525100': 'David Spangler', '1525500': 'DJ Kim (3)', '1525600': 'Genuine Rust', '1525900': 'Archétypo 120', '1526000': 'Archefluxx', '1526400': 'Jeremy Mount', '1526600': 'Johnny Ripper', '1526700': 'Tenzin Gönpo', '1526800': 'Sir Megaslam', '1526900': 'Norihito Kodama', '1527000': 'Vialva Phillip', '1527100': 'Total Armsvett', '1527200': 'B.Silk', '1527700': 'Sander Evers', '1528800': 'O-Zone (11)', '1529200': 'Esme', '1529500': '4es', '1530100': 'Artists In Resonance', '1530200': \"B'rer\", '1530400': 'Miriam Gonzales', '1530500': 'Chris Ahrens', '1531000': 'Camillion (2)', '1531400': 'The Bugs (4)', '1531600': 'The DSC Project', '1531700': 'Faroe 5', '1532200': 'Ευάγγελος Βαγενάς', '1532300': 'Antoine Godard', '1532600': 'Michael \"Sugar Ray\" Raymond', '1532800': 'Monochrom (2)', '1532900': 'Rubén ZeaMays', '1533100': 'Virgin Of The Birds', '1533200': 'Sweet Life (5)', '1533800': 'Unearth (2)', '1534100': 'Татьяна Данилина', '1534400': 'So Gayngsta', '1534700': 'Bormuth', '1535000': 'Solar Navigator', '1535100': 'The Detroit Riots', '1535600': 'John Hermansen', '1535900': 'Leroy South', '1536000': 'DJ Break', '1536800': '3rd Flo', '1537200': 'MC U1', '1537300': 'The Comets (4)', '1537600': 'Trümmer Sind Steine Der Hoffnung', '1538100': 'Simona Io', '1538200': 'Demo (11)', '1538600': 'The Paul Winter Sextet', '1538900': 'Bobby T. (4)', '1539000': 'Jon Manasse', '1539300': 'Laura Mac (2)', '1540200': 'Crabtree', '1540400': 'Dompfl', '1540600': 'Face Down Hero', '1541400': 'Juliana Luecking', '1542200': 'Pat & Pam', '1542600': 'Irina Ponomaryova', '1543100': 'Norman Fischer', '1543500': 'Robert Gibiaqui', '1543600': 'Artcane', '1543700': 'Pandemia (4)', '1544700': 'Spider Monkey', '1544800': 'Cementerio Club', '1545000': 'Mental Härdsmälta', '1545100': 'RSP (3)', '1545300': 'Eric Swanson (2)', '1545400': 'Marcelo Tinelli Y Los Gomas', '1545500': 'Reece The Struggle', '1546200': 'Phil Tolotta', '1546300': 'Raymond Dessaint', '1546600': 'Mark Finkelde', '1546800': 'Don Gio', '1546900': 'Barrabás', '1547300': 'Nebur (2)', '1547900': 'Christopher The Minister', '1548000': 'Thomas Caustun', '1548100': 'Maaike Hessels', '1548500': 'Old News', '1548600': 'Sandy Müller', '1549000': 'Patrick Forgas', '1549100': 'The New Heaven Dieppe', '1549300': 'FMPH', '1549700': 'Blazej Sulinski', '1550500': 'Antecrux', '1550800': 'The Chosen Few (9)', '1551200': 'Ž. Sabeika', '1551800': 'Soul Food Live', '1552200': 'Rajstah', '1552900': 'Front Ground Productions', '1553600': 'Centurion (8)', '1554300': 'Don Silverman', '1554600': 'Gunter Sommer Reunion', '1554800': 'René Quinon', '1555000': 'C.J. Morrison', '1555100': 'La Maitrise Gabriel Fauré', '1555300': 'Authorized Personel', '1555500': 'Karel Ešpandr', '1556000': 'Erik Heestermans', '1557100': 'Swanee River', '1557300': 'Lito Iglesias', '1557400': 'Liz Christian', '1557900': 'D-Crew (3)', '1558000': 'Ennio Zampa', '1558300': 'Michiko Kobayashi', '1558400': 'Fletch Wiley & Friends', '1558500': 'Bo S', '1558600': 'Carolyn Massenburg', '1558900': 'Priscila Due', '1559600': 'Jacek Żukowski', '1559900': 'Nino Lali Piccoli', '1560500': 'Александр Голиков', '1560600': 'Tasmaniac', '1560700': 'Mike Israel', '1561300': 'Purple Orphans', '1561500': 'The Cheetahs', '1561600': 'Jerry de Jonge', '1561900': 'Clandestine (6)', '1562000': 'brokeBust', '1562300': 'Order From Chaos (2)', '1562600': 'René Voiron', '1562700': 'Los Dixies', '1563000': 'Stahlfaust', '1563700': 'Raúl Pereira', '1564000': 'Ezio Magliano', '1564500': 'Jaycee Grimms', '1564600': 'Jay Are (2)', '1564800': 'Panjabi By Nature', '1565100': 'Larisa Kirjuhina', '1565200': 'Alon Morgenstern', '1565500': 'Ill Statyck', '1565700': 'VX (3)', '1567000': 'Opiate Itch', '1567200': 'Urbsounds collective', '1567300': 'EFX (2)', '1567400': 'Steve Baron (3)', '1568200': 'DJ Whut', '1568500': 'Doey Rock', '1569200': 'Richard Early', '1569500': 'Satellite (11)', '1569900': 'Jason Burns (2)', '1570000': 'Folerio', '1570200': 'Richard Manchester', '1570300': 'Pedro Rojas', '1570400': 'Shery', '1570600': 'Sargeant Sham', '1570700': 'Noble Lake', '1570800': 'Pavel Půta', '1571000': 'The Bourbon Tabernacle Choir', '1571400': 'Silent Revolt', '1571600': 'Ova (2)', '1572300': 'Masthema Mazzaqim', '1572400': 'Don Rader Quintet', '1572500': 'Christin Hoff', '1572800': 'Scarlet Youth', '1573200': 'Andy Russel', '1573900': 'Trans-Millenia Consort', '1574100': \"Frederick O'Neal\", '1574200': 'Colorblind (7)', '1574300': 'Rolf Schmid', '1574500': 'Blackfire (4)', '1574800': 'Makromad', '1575000': 'To My Surprise', '1575600': 'Andreas Volz (2)', '1575800': 'Dean Seltzer', '1576300': 'Origami Lca', '1576500': 'The Mentalists (2)', '1576700': 'The Quarter Notes', '1577100': 'And The Eighth Sin Is Called Pop!', '1577500': 'Лига Блюза', '1577600': 'Marco Margna', '1578100': 'DJ Newtype', '1578900': 'Rıza Konyalı', '1579000': 'Mehmet Ali Kayabaş', '1579300': 'The Flatirons', '1579400': 'Joe Love', '1580200': 'Opus Ensemble', '1580700': 'Changing Of The Guard', '1580900': 'George Zazofsky', '1581000': 'Nature (15)', '1581300': 'Kabuki Lady Boys', '1581400': 'Nutshell (2)', '1581800': 'The London Cinema Symphony Orchestra', '1582000': 'Brenda Carter', '1582200': 'Beniko Orum', '1582400': 'Speedtrap', '1583200': 'AAS', '1583900': 'Walter Jerzembek', '1584600': 'The Rebel Yell', '1584700': 'Lost North Star', '1584900': 'Evan Lipson', '1585300': 'Double S.', '1585400': 'Twin (11)', '1585500': 'Subfossil', '1586000': 'Igor Ivanov', '1586200': 'Skarflex', '1586500': 'Vision X', '1586700': 'Виктор Епанешников', '1587000': 'Alex Del Vecchio', '1587200': 'Леонид Липницкий', '1587300': 'Angel Assassins', '1587400': 'Carol Veazie', '1588000': 'Pupa', '1588200': 'Loyder', '1588800': 'Demolition Crew', '1588900': 'Crazy Caribs', '1589000': 'Io (15)', '1589400': 'Pessimyst', '1589500': 'Atis', '1590000': 'The Insects (4)', '1590800': 'Disko Bitch', '1590900': 'Glorious Victory', '1591000': '\"Rappin Tate\" The Great', '1591200': 'Eduard Flipse', '1592800': 'Staci K', '1592900': 'R. A. Dvorský Orchestra', '1593000': 'Sista Beloved', '1593200': 'Dobrády Ákos', '1593500': 'Dina Merrill', '1594100': 'Nicola Minella', '1595100': 'Dreamz', '1596200': 'Chorgemeinde St. Lukas', '1596300': 'Diguitras', '1596400': 'Linuz (2)', '1596500': \"D'Lynx\", '1596700': 'Grooki', '1597300': 'Kev (15)', '1597500': 'Matthieu Le Roux', '1597700': 'Casanova (17)', '1597800': 'Seven Ten Split', '1598100': 'Goregonik', '1598200': 'Eli Perl', '1599000': 'Joss Ronah', '1599200': 'Bobby Hookey', '1599300': 'The Tokyo Beatles', '1599400': 'Big Boy Myles', '1599600': 'Not 2 Without 3', '1599800': 'John Melville (2)', '1600100': 'Deadlock (6)', '1600300': 'Luis Carlos Gil', '1600700': 'The Cult (4)', '1600800': 'Samantha Steenwijk', '1600900': 'Homebound', '1601500': 'Jan Bus', '1601700': 'David Jason', '1602000': 'The Sketchy Indians', '1602100': 'Vena Portae', '1602300': 'Grupo Algo Nuevo', '1602500': 'Pino Lattuca', '1603100': \"L'Ensemble Abricot\", '1603200': 'Ilias Mimilidis', '1603300': 'Jim Bones', '1603400': 'The Pleasure Toys', '1603700': 'Molotow Cock', '1604500': 'Micke Littwold', '1604900': 'Ego-Trip', '1605800': 'Nocturnal (19)', '1606300': 'Junkuhn.', '1606400': 'Dusan Heric', '1606500': 'Garrett Dillon', '1606600': 'Don Rainey', '1606700': 'June Summers', '1606900': 'Sorsornet Rythm', '1607400': 'Simbryt C. Whittington', '1607800': 'Abstract Allstars', '1607900': 'These Borwicks', '1608400': 'The Bank (4)', '1608700': 'Joy (40)', '1609200': 'Sestetto Swing Di Roma', '1609300': 'Stillme', '1609400': 'Orpheus (13)', '1609500': 'Los Menos', '1609600': 'Axel Lausch', '1610800': 'Stereonucleose', '1611000': 'Keyside Strike', '1611100': 'Matthijs Verberkmoes', '1611200': 'Dr. Scout', '1611500': 'Pål Nielsen', '1611700': 'Joe Crack', '1612400': 'Alan King (6)', '1613100': 'James Cassidy (5)', '1613700': 'Henry Tigan', '1614300': 'Bojan Kojic', '1615200': 'Camera Obscura (6)', '1615700': 'Isnard Douby', '1615900': 'Kerrie Nation', '1616200': 'The Three Little Pigs', '1616400': 'Cliff Wagner', '1616500': 'Act Of Defiance', '1616600': 'Ur Ma', '1616700': 'Flexis', '1617000': 'Atomikos', '1617200': 'FA 73', '1617300': 'With-N-Time', '1617500': 'Anthracitic Moths', '1617600': \"The Jekill's\", '1617800': 'Leatherface (4)', '1618000': 'Vilija Grigonytė', '1618800': 'Roger Matura', '1618900': 'Babe Mathews', '1619000': 'Rosa (18)', '1619100': 'Histeria (5)', '1619200': 'Love Construction (2)', '1619500': 'A.K.R.', '1619600': 'Dream Band', '1619900': 'Orphans Of Cush', '1620100': 'Hakke-Mitch', '1620400': 'Patrick Brennan', '1620500': 'Alannah Fitzgerald', '1621000': 'Carlos B', '1621300': 'California Cajun Orchestra', '1621400': \"Pirat'S Sound Sistema\", '1621900': 'Graveyard Shifter', '1622100': 'Jolea', '1622200': 'Axis (31)', '1622400': 'Richard Reissmann', '1622500': 'Imperial Skillz Empera', '1622700': 'Dominique Mayoud', '1623600': 'Garry Guzio', '1623900': 'Haunted Fucking', '1624000': 'The Highest Power', '1624100': 'Jerome Gordon', '1624300': 'Åsa Fång', '1624500': 'Tuberculosis Ward', '1624800': 'Bobby And Laurie', '1625000': 'Pa Bazil', '1625300': 'DJ Roman B', '1626000': 'Gacid', '1627300': 'Balance (23)', '1627500': 'Christ Dismembered', '1628000': 'The Ginger Bread Men', '1628100': 'Sarah Whiteside', '1628600': 'Ms. Dee', '1628700': 'Gesner Henry', '1629400': 'Wake (4)', '1629700': 'Abu Abdallah Ibn Ghalib Al-Rusafi', '1629800': 'Shyft (2)', '1629900': \"Ricardo 'El Niño' León\", '1630900': 'Daisy Wood-Davis', '1631300': 'Zeadin Bekirov', '1631700': 'Nebelstille', '1632000': 'No Friends', '1632100': 'Namazu Dantai', '1632300': 'Natural Disasters (2)', '1632900': 'Evil Pupil', '1633500': 'Guillermo Fragoso', '1633600': 'Michael Fischer (4)', '1633700': 'Luna Felix', '1633900': 'Coagulator', '1634100': 'Mark Dalton (2)', '1634200': 'Patricia Norton', '1634300': 'Vivahead', '1634400': 'Dini Maagdenberg', '1634600': 'Typical', '1635000': 'Anya Burgess', '1635300': 'Viviane Chaix', '1635700': 'When My Authorities Fall', '1636700': 'Antibodies', '1636800': 'Beau Bristow', '1637400': 'James Applewhite', '1637500': 'Ms Korp', '1637900': 'Liza Oxnard', '1638000': 'Hubert Barth', '1638100': 'Swampheadz', '1638800': 'De Nordiske Spillemænd', '1639300': 'Clown Jopie', '1639500': 'Travis Linville', '1639800': 'Seinsvergessenheit', '1639900': \"Ace O'Donnell\", '1640000': 'Beulah Brown', '1640200': 'Amoussou K. Cosme', '1640300': 'Jiří Kotouč', '1640500': 'Romeo + Julia', '1640700': 'Peter James (11)', '1640800': 'Majuah', '1641000': 'DJ Lujan', '1641200': 'Crezo Cream', '1641400': 'Татьяна Калинина', '1641600': 'Budowitz', '1641700': 'Sophia (17)', '1641800': 'Los Bossambistas', '1641900': 'Mario Muñoz Salazar', '1642100': 'D. Merz', '1642800': 'Doc-C.', '1643100': 'Krazy \"B\"', '1643200': 'Peggie Cochrane', '1643300': 'Dj Bosley', '1643400': 'Chrizzo', '1643700': 'Flight Case', '1644400': 'Los Raw Gospels', '1644600': 'Amputee (2)', '1644700': 'Mystics (3)', '1645100': 'Shanna Calas', '1645200': 'Shurry Lais', '1645400': 'Jodi Vaughan', '1645800': 'Keith Perry', '1646100': 'V-Stylez', '1646400': 'Josy (2)', '1646600': 'Liam Reilly', '1647000': 'Marky Mark (2)', '1647200': 'Dendura', '1648000': 'Klaas Van Beeck', '1648900': \"S'task\", '1649100': 'Apostate', '1649300': 'Leukaemia', '1649400': 'Hypertribe', '1649800': 'Wakana', '1650400': 'Jozef Hanušovský', '1650800': 'Marcia Mikulak', '1651400': 'Woody Herman And The Las Vegas Herd', '1652100': 'Nosferatos', '1652500': 'Sublime Wizardry', '1652600': 'Gunter Phillips', '1652700': 'Martin Virgin', '1652900': 'Fracture (8)', '1653400': 'Paradise (29)', '1653600': 'Schola Cantorum Karolus Magnus', '1653800': 'Steve Froy', '1654000': 'Madam Ira Mae Littlejohn', '1654200': 'X Generat1on Project', '1654400': 'Fonzarelli', '1654900': 'Original Recipie', '1655000': 'Ninot le Petit', '1655200': 'Rob And Gilly', '1655300': 'Poppy Red', '1655600': 'SHTN', '1655700': 'Tapetheradio', '1656000': 'Pat Mahoney (2)', '1656300': 'Milan Simić', '1656600': 'Rüdiger Bayer', '1656900': 'Royal DJs', '1657400': 'Fluffer Sixty Nine', '1657600': 'Matthew Garton', '1657700': 'Lorrieann Murray', '1658200': 'Yanick (2)', '1658500': 'Neil Armstrong (3)', '1658800': 'Don Wilkerson (2)', '1658900': 'Myelin Sheaths', '1659100': 'Doom (12)', '1659300': 'Flemming Arleth', '1659400': 'Nino (32)', '1659600': 'Carlos Acosta', '1659700': 'Einar Westerlund', '1660000': 'Jaden Michaels', '1660100': 'Radio Guidance', '1660200': 'Achromatic Cold', '1660500': 'Gyula Kóczé Gipsy Band', '1661700': 'Mark Curry (6)', '1662300': 'Mirage (38)', '1662500': 'Top Ten (4)', '1662700': 'Александр Аверкин', '1662900': 'Marian Bilner', '1664500': 'Tallinna Kammerkoori Ansambel', '1664900': 'Audio Victim', '1665100': 'The Tullos Williams Orchestra', '1665400': 'Jean-Claude Herz', '1665500': 'Parkland Junior High School Mixed Chorus - 1975', '1665800': \"Charlie's Candystore\", '1666200': 'Steve Dumont (2)', '1667000': 'Charlie Latimer', '1667100': 'Nightsky Bequest', '1667200': 'Cesar Dominici', '1667300': 'Donovan Smith (3)', '1668000': 'Desert Flower', '1668400': 'François Andrieu', '1668500': 'Dennis Carrasco', '1668700': 'Frankfurt City Blues Band', '1668800': 'Jay Collins \"Super 20\"', '1668900': 'Nnamdi Ogugua', '1669000': 'Muggsy Spanier And His All Stars', '1669700': 'Pascale Vyvère', '1670300': 'Hayne Van Ghizeghem', '1670500': 'Bébé Carrière', '1670600': 'The Toney Jenney Disaster', '1670800': 'Skyvaard', '1671000': 'The Pantano Boas', '1671100': 'Heikki Aarva', '1672100': 'DIVA Mafia', '1672300': 'Daniel Jacob', '1672400': 'Alberto Arifi', '1672900': 'Segue (6)', '1673800': 'Intention (2)', '1674300': 'Chico Castillo', '1674400': '1ntelivizi0n', '1674600': 'Sonny Holliday', '1674700': 'Haddonfield, Illinois', '1674800': 'Hardbreakerz', '1674900': 'HapHazard', '1675100': 'John Giscombe', '1675300': \"Vattel Cherry's [Trio] Virtue\", '1675600': 'Tor Johnson (2)', '1675900': 'Underground Projekt', '1676100': 'When Icarus Falls', '1676200': 'Neil Farrington', '1676900': 'Wiracki', '1677100': 'Terezinha do Acordeon', '1677700': 'Domenico Politanò', '1677800': 'J.U.I.C.E. (3)', '1678600': 'Helluntaiherätys', '1678800': 'Pete Frame', '1679300': 'Bad End', '1680200': 'Andrea S', '1680600': 'Arístides Moreno', '1680900': 'Original Dhalsim', '1681000': 'DJ Krug', '1681200': 'Frank van der Meijden', '1681500': 'ETHX', '1681600': 'Atilla (5)', '1681700': 'Jhon Christopher', '1681800': 'John Lankston', '1682000': 'Chirgilchin', '1682100': 'EE Monk', '1682800': 'Kevin Keegan (2)', '1683000': 'Travelling Playmates', '1683400': 'DJ Fabonick', '1683900': 'Flat Stanley (2)', '1684900': 'No Justice (3)', '1685300': 'Apocalyptic Frequency Experience', '1685600': 'Transistor (7)', '1685700': 'Kapteeni Nemo', '1686000': 'Ed Wilson (7)', '1686100': 'Something Fierce', '1686200': 'Michelle Eddison', '1686500': 'Raptus (3)', '1686800': 'Anastasia Kostoff', '1686900': 'Spring Theory', '1687200': 'Duet Tomovska - Mančevski', '1687300': 'Christopher (29)', '1687500': 'Ether Frolics', '1687900': 'Tony Manno', '1688300': 'Bilko (3)', '1688800': 'Ale Flowers', '1689100': 'Jude Johnson', '1689700': 'Rusty Mac', '1689800': 'Les Acolytes', '1690100': 'The Devil Rides Out', '1690200': 'Mother Died Today', '1690500': 'Susanne Haidinger-Neumayer', '1690600': 'Panagiotis Pagonis', '1690800': 'Luca Chiantore', '1691000': 'Dead Poet', '1691100': 'Our War', '1691700': 'Obscene Caller', '1692200': 'Danzas Del Tawantinsuyo', '1692300': 'La Yegros', '1692600': 'Charlie Ventura And His Orchestra', '1692800': 'Orchester Der Vereinigten Bühnen Wien', '1693000': 'The Sweet Three', '1693700': 'Last Laugh (3)', '1694200': 'Barcelona Project', '1694400': 'Paul Keuter', '1694500': 'The John Dummer Band', '1694900': 'Angry Flowers', '1695300': 'Bobsy', '1695400': 'Marlene Sai', '1695600': 'Air-Time', '1696400': 'Ill Gotten Gainz', '1696500': 'Noël Coward & Orchestra', '1697000': 'Deviant (10)', '1697600': 'Peter Oliver', '1698700': 'Андрей Богданов (2)', '1699000': 'Joe Reed', '1699100': 'Jerry Jerry And The Sons Of Rhythm Orchestra', '1699300': 'Olympia (6)', '1699500': 'Rudolf Dunckel', '1700600': 'Philip Madoc', '1700900': 'Zxdk', '1701100': 'Elżbieta Gajewska', '1701700': 'Anne McAneney', '1702000': 'Corin Trembath', '1702600': 'The Hawksworth/Snell Trio', '1702800': \"Fergus O'Byrne\", '1703100': 'Sweet Pain (2)', '1703200': 'Alistair McGowan', '1703500': 'Gemini Tha Lyrical Assassin', '1704100': 'El Gitano, La Cabra Y La Trompeta', '1704300': 'Knots', '1704900': 'Crow (13)', '1705400': 'Randy Seals', '1705500': 'Gianpiero Malfatto', '1705700': 'Tastic', '1706400': 'Jaro Prohaska', '1706600': 'Springfield Park', '1706800': 'Mofa', '1707100': 'Useless Tone Control', '1707800': 'The Greater Cincinnati Council For The Performing Arts Orchestra', '1708400': 'Pick & Mix', '1709000': 'Soul Source (2)', '1709300': 'Daddy Axe', '1709500': 'Sybille Kitzler', '1710000': 'Supreme Cool Beings', '1710100': 'Almir Ricardi', '1710300': 'Zé Eduardo', '1710600': 'Lyric Man', '1710800': 'Big John & The Buzzards', '1710900': 'BadTrippe', '1711000': 'Dunkle Dummies', '1711300': 'Paul Ross Thomson', '1712900': 'Wildebeest', '1713300': 'The Named', '1713400': 'Meeta Pandit', '1713500': 'Rob08', '1713600': 'Glam (4)', '1714300': 'Eric Huber (2)', '1714400': 'Chip Robinson', '1714700': 'Bob Meyer (3)', '1715100': 'Craig L. Young', '1715200': 'Danny B. Hollywood', '1715400': 'Detlev Bork', '1715500': 'Cleto Colombo', '1716100': 'Charles Braswell', '1716200': 'Paul Bogart (2)', '1716300': 'The Wolf (3)', '1716800': 'Franca Valeri', '1717000': 'Stan Chandler', '1717100': 'Ali Jezz', '1717200': 'Ricketic', '1717300': 'Väinö Kataja', '1717600': 'Kevin Dorr', '1718000': 'DJ Luis Gonsalvez', '1718400': 'DJ Rockstar', '1718500': 'The Charlotte Head', '1718600': 'Der Stab', '1718800': 'Josh Da Groove', '1718900': 'Thomas Juneor Andersson', '1719000': 'No Pavarotti', '1719100': 'Alexander Blechinger', '1719200': 'Luke Tandy', '1719500': 'OJ Simpson', '1719600': 'Southern Exposure (2)', '1719900': 'Герман Жуковский', '1720200': 'Jaime Plana', '1720600': 'Τάκης Μπίνης', '1721000': 'Башня Rowan', '1721200': 'Alessandro Carrera', '1721300': 'Mecki Schöning', '1721500': 'Paragon (18)', '1721700': 'Speichler', '1721800': 'Misfitchris', '1722200': 'The Beaver', '1722700': 'Thommysco Kumm', '1722900': 'Will Holshouser Trio', '1723100': 'Jason Freeboy', '1723200': 'Джаудат Файзи', '1723400': 'Pistolero (3)', '1723600': 'Minja Samardžić', '1723700': 'Gerhard Narholz Electronic Studio Orchestra', '1723800': 'Taistelukala', '1723900': 'Jules (22)', '1724600': 'Olfhüst', '1724800': 'Colours Green', '1725300': 'Luc (10)', '1725500': 'Zuzana Suchánková', '1725900': 'Sharize', '1726000': 'Tuna Cycle Pram', '1726100': 'Milica Majstorović', '1726800': 'Leah Goldberg', '1727200': '純', '1727300': 'Fernando Gomes (2)', '1727400': 'Biczok', '1727700': 'Kelvin Blacklock', '1728400': 'Curvin Merchant', '1729100': 'London String Orchestra', '1729600': 'Crazy Boom Sisters', '1729700': 'Kristi White', '1729800': 'David Boots', '1730200': 'David De La Cova', '1730300': 'The Phantom Pains', '1730600': 'FOK', '1730900': 'Za Mikusu', '1731100': 'Shelby (6)', '1731200': 'Dizko Dance', '1731600': 'Quimmisa', '1731700': 'Ganjaguru', '1731800': 'Les Gazelles', '1732000': 'Zuba (4)', '1732100': 'Leonard Cassini', '1732800': 'Stéphane LaFleur', '1733000': \"Larry 'The Raindog' Raines\", '1733100': 'Deep Inside (3)', '1733300': 'Second Unit (2)', '1733400': 'William Harvey', '1733800': 'Vault (3)', '1734100': 'Веселин Ханчев', '1734200': 'Peace Or Annihilation', '1734300': 'Mayday (10)', '1734500': 'Paul Owens (3)', '1734700': 'Tuft Hunter', '1734800': 'Hoagy Carmichael And His Pals', '1735600': 'The Venus Flytrap', '1736100': 'Inobe', '1736200': 'Ace Lane', '1736800': 'The Power Of Means', '1737200': 'Les Chiens Vivants', '1737500': 'Joe Baptista', '1737600': 'Eddie Williams (4)', '1737800': 'Phelipe', '1738000': 'Gungfly', '1738600': 'Shelly Gill', '1738900': 'Robin Schwartz', '1739000': 'Alexey Ryasnyansky', '1739400': 'Indie-Ya', '1739800': 'John Fitch & Associates', '1740600': 'Nocturnal Opera', '1740800': 'Carlos Macedo', '1741000': \"Parcel O' Rogues\", '1741100': 'Joel Scott Hill', '1741500': 'Trans-Lucid (3)', '1741600': 'Alfredo Brondi', '1742400': 'Dj Morowy', '1742900': 'The No Vitals Band', '1743000': 'Rita Dalla Chiesa', '1743500': 'Snake (21)', '1743700': 'Carol Vega', '1744100': 'The Dootones', '1744500': 'Mid Youth Crisis', '1744800': 'Maurizio Rizzuto', '1745400': 'Sextessense', '1745500': 'Pat \"Fun\" Summer', '1745600': 'Christian Hecker (2)', '1746900': 'Werner Bros.', '1747100': 'B. Free', '1747200': 'Dag För Dag', '1747500': 'Кро-Маньон', '1747600': 'Кондратий Рылеев', '1747700': 'Don Diego Et Son Orchestre', '1748200': 'Kaija Lustila', '1748300': 'Road Race', '1748500': 'Roman Dj', '1748600': 'Dj_s.R.', '1748900': 'In Salvo', '1749500': 'Tjarkof The Psychotic', '1750000': 'Korova (5)', '1750100': 'Stefan Đinović', '1750400': 'The Bugs (7)', '1750800': 'Mary E Coro', '1751100': 'Julemærkekoret', '1751200': 'Olli Timmins', '1751800': 'Olbaid', '1752100': 'Anton H. Disselkoen', '1752400': 'Funny Puppies', '1752800': 'Fortuna (7)', '1753200': 'Toshi Nakanishi', '1753700': 'Isaac Karns', '1753900': 'The Gentleman Thieves', '1754100': 'Finger Pistols', '1754300': 'Kinds Of Cases', '1754800': 'Miranda (12)', '1754900': 'Gustavo Villalba', '1755600': 'Routine 6', '1756000': 'Koral Y Esmeralda', '1756300': 'Preference', '1756500': 'Deep Nostalgia of Mortality', '1756900': 'Systemfunk', '1757000': 'SUERTE', '1757300': 'Frank Faerman', '1757900': 'Little Wolf', '1758100': 'Tyla Durden', '1758300': 'Copyright Chaos', '1758500': 'Minoscrè', '1758700': 'Mandrake Root', '1759400': 'Ted Spielmann', '1760000': 'Голый ПистАлет', '1760100': 'Cyril Fletcher', '1760300': 'Christine Ebersole', '1760500': 'Tiger Please', '1760600': 'Erantzun', '1760700': 'Howard Roberts Chorale', '1760900': 'Ismael Arbos Sanchez', '1761600': 'N8 Lok', '1762100': 'The Losers (5)', '1762200': 'Entire Cosmos', '1762600': 'EDV', '1762800': 'Kyoko Ito', '1762900': 'The Patch', '1763400': 'O3 Layer', '1763600': 'Ully Kraut', '1763700': 'The Enemies (2)', '1764000': 'I Wayan Sumarsa', '1764100': 'Ryco & Co', '1764300': 'Surr', '1764500': 'Teledu', '1764700': 'Robin Avery', '1764900': 'Ultravibe (3)', '1765200': 'Winston J', '1765300': 'Stereo 77', '1765500': 'Gin Gillette', '1765700': 'Shingo Yasumoto', '1766500': 'Rico Sha', '1766600': 'Los Cacahuetes', '1766800': 'Real 7', '1767000': 'Reeltime Travelers', '1767200': 'Straightforward', '1767300': 'Willy Turner', '1768000': 'The Italia Concert Orchestra', '1768200': 'Submarien', '1768400': 'Psycology (2)', '1768500': 'The Mates', '1768800': 'Buddah Cess & All The Rest', '1769000': 'Graham Wilson (7)', '1769400': 'Macbeth The Great', '1769900': 'Orgasmical', '1770200': 'Anthony Langford', '1770300': 'Aris (4)', '1770500': 'Radicale Poesie', '1770900': 'Taku Yabuki', '1771100': 'SMC Ål Star Blosband', '1771200': 'Oordrop', '1771300': 'Roy Mickleburgh', '1771600': 'Superguitar', '1772600': 'Jordi Soler Bachs', '1773200': 'Carola Lind', '1773300': 'Keanu Reetz', '1773400': 'No Tabac', '1773500': 'Joe Matt', '1774600': 'Hank Burns', '1775100': 'Good Evening Manchester', '1775500': 'Brian Schechter', '1775900': 'Grza', '1776200': 'Martin Horsey', '1776500': 'The Tyroleans', '1777100': 'Schlechte Menschen', '1777200': 'Daichi (3)', '1778000': 'Achim Rück', '1778100': 'Jose Ordaz Durante', '1779100': 'State Property', '1779600': 'Likwe-Likwe Band', '1779900': 'Thomas Vögel', '1780000': 'Tex Lamountain', '1780200': 'Chukka Congress', '1780600': 'The Abusive Stepdads', '1780900': 'Cottonmouth Rocks', '1781100': 'Serenity Trace', '1781400': 'Remo Williamz', '1781700': 'El Gran Trio', '1782000': 'Atari Game', '1782100': 'Thega & Paolet', '1782500': 'Auf Eigene Gefahr', '1782600': 'The Capras', '1782800': 'Invincible (7)', '1783100': 'Geir Rakvaag', '1783300': 'DJ Eddy N', '1784200': 'Holy Cannibalism', '1784500': 'As We Let Go', '1784600': 'Bitches Brew', '1784700': 'Wonderfully Courteous Gentlemen', '1785200': 'Jon Sunde', '1785300': 'Arthur Sandford', '1785600': 'Fredrik Lundin Overdrive', '1786200': 'Schweizer Radio DRS3', '1786500': 'Changed', '1787000': 'Osborne Peasgood', '1787300': 'Michael Bérubé', '1787500': \"Attila The Stockbroker's Barnstormer\", '1788700': 'Sancho 003', '1788800': 'Jon B (4)', '1789400': 'The Magnets (3)', '1789600': 'Neil Mutilator', '1790000': 'Marito Cosentino', '1790400': 'D.J. Ricky Battaglia And Blue Band', '1790500': 'Marco Beso', '1791700': 'Dave Kane (3)', '1791800': 'Αιμιλία Κουγιουμτζή', '1792000': 'Justin Seitz', '1792200': 'Octubre', '1792500': 'Fred Pineau', '1793100': 'Puyuma', '1793300': 'Olaf Seider Coincidence', '1793400': 'Addictive Nature', '1793600': 'Chris Volt', '1793700': 'Jonas Von Der Fehr', '1794000': 'Driptray', '1794500': 'Martin Mälzer (2)', '1794800': 'Juan Zolbaran', '1795000': 'Food (9)', '1795300': 'Tena Austin', '1795800': 'South South West', '1796000': 'Manka Saya', '1796400': 'Mari Hubert', '1796600': 'Estephan', '1796700': 'Shoptoprockers', '1797100': 'Christer Holst', '1797900': 'Melidian', '1798100': 'Catherine \"Cajoune\" Girard', '1798600': 'Flatstanley', '1798900': 'Ricardo Steinberg', '1799300': 'Heart Catchers', '1799600': 'The Go (2)', '1799800': 'The Great Brain', '1800500': 'Grupa Wokalna Izabelli', '1800700': 'Bob Reitman', '1800800': \"'Simaros' Lutumba Ndomamueno 'Masiya'\", '1800900': 'Honour Before Glory', '1801000': 'Shokhan', '1801200': 'A Triggering Myth', '1801300': 'Németh Alajos', '1801400': 'Hary (3)', '1802600': 'Yak! (2)', '1802800': 'J. Nazareth', '1802900': 'Orkestar Ere Ojdanića', '1803700': 'BLACKWEED', '1804500': 'The Crown City Four', '1804600': 'Junot Díaz', '1804700': 'Shuichiro Terao', '1804800': 'Gunnlaug Lien Myhr', '1805000': 'Hostage Pageant', '1805200': 'Luis Trenker Project', '1805700': 'Mariachi El Zarco', '1805800': 'Eric Lucero', '1805900': 'Blank Schatz', '1806100': 'Tony Rich (2)', '1806300': 'Kaori Mizuhashi', '1807000': 'Ralf Reichen', '1807400': 'Ambush (10)', '1807500': 'Muscle Drum', '1808100': 'Die Saaletaler', '1808200': 'Boule Mic', '1808500': 'Hagen Daz', '1808700': 'Backbone69', '1808900': 'Moonlight Orchestra (2)', '1809400': 'Gaetano Cristofaro', '1809600': 'Herbert Ausman', '1809800': 'Patrick & Carina', '1810900': 'Czechoslovak All Star Band', '1811500': 'Babylon Breakdown', '1811700': 'Maciej Głuchowski', '1811900': 'Luca Moretti (2)', '1812000': 'Shit De Luxe', '1812100': 'Dreadful Julio', '1812800': 'Pipsqueak (2)', '1812900': 'Jordan Rockswell', '1813000': 'Spinfist', '1813100': 'Larry Brahms', '1813200': 'Demeter Falls', '1813300': 'Mark Morrison (5)', '1813800': 'Flashbacks (2)', '1814100': 'Iro Gnaden', '1814200': 'True North (2)', '1814700': 'Scope (16)', '1814800': 'Aori', '1815000': 'XeeGee', '1815100': 'Dave Isner', '1816200': 'Pierre Etchandy', '1816400': 'Yves Eychen', '1816700': 'Lum Hostile', '1816900': 'Saša Radonjić', '1817300': 'King Stitt & The Dynamites', '1817700': 'Altorių Šešėliai', '1817900': 'Sub Society', '1818000': 'w;4top9', '1819100': 'Slicedupjunkiecunt', '1819200': 'Stark Raving', '1819300': 'Death Disco', '1819400': 'Kana (10)', '1819700': 'Mark Willshire', '1819900': 'Baba Gaston', '1820400': 'Astrid Sulz', '1821100': 'Benno Oppermann', '1821700': 'Carl Newsom', '1821900': 'Rolando Ojeda', '1822100': 'Istan', '1822200': 'Josh Tweek', '1822300': 'Airbus (4)', '1822400': 'Noize Torture', '1822500': 'Ed Snyder', '1823000': 'Astore Pittana', '1823200': 'Ηχορύπανση', '1823400': 'Randy Nichols (2)', '1823600': 'Hans Roelli', '1823700': \"Azahel's Fortress\", '1823800': 'Athson', '1823900': 'Mr. O (3)', '1824100': 'Children Of Doom', '1825000': 'The Almighty Ultrasound', '1825300': 'The Needs', '1825600': 'Gorgio Hatzi', '1825800': 'Twyce', '1825900': 'Václav Bednář', '1826500': 'Tommie Quick', '1827000': 'J. Blodgeft', '1827100': 'DNJ (2)', '1827200': 'HipGnosis (3)', '1827300': 'Mark Ridout', '1827600': 'Армен Казарян', '1827800': 'Ian Beck', '1828000': 'Franco Fiume', '1828300': 'Amalia Henn', '1828600': 'Litany For The Whale', '1828700': 'The Green Ray', '1829100': 'Muna (2)', '1829200': 'Pop/Jazz Konservatorion Big Band', '1829900': 'Alan Littlejohn', '1830400': 'Klimat', '1831200': 'Gerald Scarfe', '1831300': 'Quintetto Del Delirio', '1831500': 'Larry Summers', '1831800': 'Max Kratz', '1831900': 'Fiona Doulton', '1832800': 'Sebastian Sand (2)', '1833300': 'Sherida Pinas', '1833700': 'Gerry Gerrard (2)', '1834000': 'Prague Brass Soloists', '1834100': 'Martti Gröndal', '1834600': 'Convex', '1834800': 'Steve Craig (2)', '1835000': 'Attlee', '1836400': 'Botz (3)', '1836500': 'Sweet Distortion', '1836600': 'Paul King (8)', '1837000': 'Hothouse (2)', '1837600': 'Rian', '1837700': 'Solid Dub Band', '1838100': 'Prozack Staple', '1838300': 'Thomas Spann', '1838500': 'The Corinthian Radio Choir', '1838800': 'Lou Benny', '1839700': 'Versatility', '1839800': 'Tommy Wood', '1840400': 'Madoromi', '1841000': 'Jeff Spaz', '1841100': 'Alistair Izobell', '1841500': 'Hazel Proctor', '1841700': 'Extra Classic', '1841800': 'Fredfades', '1841900': 'Regis Bondan', '1842100': 'Ayumi Nakagawa', '1842200': 'Monte Melnick', '1842400': 'Tom Carson (2)', '1842700': 'P. Ramcharan', '1842900': 'Shotgun (10)', '1843100': 'Ilja Livschakoff Tanz Orchester', '1843500': 'André Dumont', '1843600': 'Ipnotik Project', '1843800': 'Marcel McArthur', '1844100': 'Amy Lepard', '1844300': 'Elia Casu', '1844800': 'Edam Edam', '1845000': 'Chewing Gum', '1845100': 'Neville Lindo', '1845500': 'Ezekiah Rose', '1845600': 'Thee Phantom 5ive', '1845800': 'Ian Reischl', '1846000': 'MRR', '1846100': 'Zeff Stewart', '1846300': 'Luciouz', '1846800': 'Fran Sanchez', '1846900': 'Darius Tehrani', '1847100': 'Francis Meillear', '1847200': 'Le Groupe Kama', '1847500': 'Erika Burkart', '1847600': 'Robbie Melville', '1848100': 'Эстебес Турсуналиев', '1848300': 'Ed Goldstein', '1848400': 'Adrian Costa', '1848800': 'Freaks (10)', '1848900': 'Sarah Binder', '1849800': 'Lili Fleury', '1849900': 'Ernst Krall', '1850000': 'Mutsuhiro Oyama', '1850300': 'Alien Robot Dance', '1850400': 'Robert Dunsmore', '1850800': 'Los Toros', '1851000': 'Parking Lot Pimp', '1851400': 'Bianca Graf', '1851500': 'Kalbas', '1851700': 'Jeffrey Spear', '1852000': 'Taylor Burch', '1852400': 'Robert Holzer (2)', '1853500': 'Dr. Yobb', '1853800': 'Andrzej Zieliński (3)', '1853900': 'David P. Lawrence', '1854000': 'Blomman', '1854200': 'Chris Maeden', '1854300': 'Jon Ruddick', '1854600': 'French Charleston Orchestra', '1855400': 'Mokyklėlės \"Strazdanėlės\" Vaikai', '1855900': 'Roy Dawson', '1856100': 'James McNeish', '1856300': 'This Theatre', '1856500': 'Cherry Roland', '1856700': 'The Speak Four Trio', '1856900': 'Blue TV', '1857200': 'Bram Ttwheam', '1857700': 'Toru Mitsuhashi', '1857900': 'Kevin Head (2)', '1858000': 'Rix Rox', '1858300': 'Painkillers (4)', '1858600': 'Niche Flow', '1858900': 'Cynicon', '1859300': 'Blaine Barton', '1859500': 'Yours Truly (3)', '1859600': 'Billyzone', '1859700': 'Henrik Bonnevie', '1860200': 'Harry Fuss', '1860400': 'Teresa (9)', '1861200': 'Patrick Li', '1861600': 'Mr Smith & The Tropicals', '1861700': 'Diabolo (6)', '1862700': 'Marley (3)', '1862800': 'Escape (18)', '1862900': 'Adrian Jackman', '1863200': 'Gun (11)', '1863600': 'Michael (63)', '1864200': 'Veneficum', '1865400': 'Anita Kolovrat Duzel', '1865600': 'Jürg Sommer Trio', '1866200': 'Ghettosvend', '1867000': 'Band Of Five Names', '1867400': 'Shafiq (2)', '1867700': 'Kerstin Andebys Barnkör', '1868000': 'Klarmann/Weber', '1868200': 'The Sandwich Committee', '1868700': 'Mahawa Kouyaté', '1868800': 'Steven Sharp (2)', '1869000': 'Secret Garden (2)', '1870600': 'Jorg Murcus', '1871100': 'Moon Trotskij', '1871300': 'Bente & The Chaingang', '1871500': 'Philipp Friedrich Buchner', '1872300': 'David Olivier', '1872600': 'Kurrende Der Peterskirche Leipzig', '1872800': 'Alfonso Alfonso', '1873000': 'Mart Cluwen', '1873100': 'Third Side (2)', '1873300': 'Hjordis Fogelberg-Jensen', '1873600': 'Sr. Bikini', '1873900': 'White Fir', '1875000': 'Raju', '1875100': '躯月', '1875200': 'Wendy Ju', '1876300': 'Broken Dolls (2)', '1876500': 'Busy B. (2)', '1876700': 'Scorpio (24)', '1876800': 'Jim Croegaert (2)', '1877200': 'Chanel (8)', '1877500': 'Jatoma', '1877600': 'Dean The Dream (2)', '1877800': 'Bitclipr', '1878000': 'Dextrax', '1878200': 'Phương Tâm', '1878600': 'I Condor', '1878700': 'Hermann Thimig', '1878900': 'Pablo van de Poel', '1879100': 'Sawed Off (3)', '1879500': 'Spankie Hazard', '1879700': 'Het Fukking Licht', '1879900': 'Mr. Sasaki', '1880000': 'Windings', '1880100': 'Shimmering', '1880300': 'yula.', '1880400': 'Dynamo Stockholm', '1880500': 'The Jacks (4)', '1880600': 'X Style', '1880900': 'The Cambridge Consort', '1881200': \"J.J. Johnson's Bop Quintette\", '1881400': 'Lelique', '1882100': 'L-Tido', '1882800': 'Neon Circus', '1883000': 'RQTN', '1883200': 'Flor De Orquesta', '1883300': 'And Tears Fell', '1883400': 'Richard Beaumont', '1883600': 'James Pipes', '1883800': 'Samhain (5)', '1884100': 'Enrico Zanardi', '1884500': 'Karamamma', '1884700': 'Tha Groove Junkeez', '1885200': 'Lee Bushell', '1885700': 'Β. Ανδρουτσόπουλος', '1885800': 'Simona Cazzulani', '1886000': 'The Same (7)', '1886200': 'Pinball Mania', '1886400': 'An.Gel', '1886800': 'G. Wally', '1886900': 'Check (2)', '1887200': 'Bushlife', '1887300': 'Spyros Hytiris', '1887400': 'Borg (10)', '1887600': 'E. Moser', '1887700': 'Omnihierophantom', '1888100': 'Humphreys & Keen', '1888500': 'The Real Scorpions', '1889000': 'Miriam Ryle', '1889600': 'Blue Mongolians', '1890000': 'Michael Gaughan', '1890300': 'Cheralane', '1890500': 'Roque Martínez', '1890800': 'Luecke Lake', '1891000': 'Mingau (2)', '1891200': 'The 27 Club', '1891300': 'Sol Zim', '1891500': 'Vocal Jazz Incorporated', '1891600': 'Dj Ayzon', '1892200': 'Fiddox', '1892500': 'MerLow', '1892900': 'Jaime Pérez (2)', '1893100': 'Psiko Tribe', '1893200': 'La Doble A', '1893500': 'Monte White', '1894100': 'Mambo-X', '1894300': 'Инструментальный Ансамбль п/у Вячеслава Семенова', '1894500': 'Bill Thompson (7)', '1894900': 'Hipp Gorden', '1895200': 'X De Vil', '1895300': 'Sunmerge', '1895700': 'Konstantin Elfimov', '1896100': 'Mary Stavin', '1896300': 'Lester Freeman And His Symphony Orchestra', '1896700': 'Klique (2)', '1897000': 'Eastfield Meadows', '1897700': 'Cadi', '1897900': 'DJ Jerry (2)', '1898000': 'Sweet Mary (2)', '1898300': 'Haig Ohanian', '1898400': 'Arduino Farinella', '1898500': 'Кира Малевская', '1898800': 'Brian Buckley Band', '1899300': 'Harri Palm', '1899700': 'The Quantum Dots', '1900200': 'Quatre Têtes', '1900400': 'Ruckazoid', '1900500': 'Matthew Joseph Payne', '1900600': 'Michael Fuchs-Gamböck', '1900700': 'Next To Beluga', '1900800': 'Uchenna Ikonne', '1901400': 'Thunderhorse', '1902000': 'Alexandra Min', '1902400': 'Lyle Gaston', '1903100': 'Worx', '1903200': 'Sherry Soldiers', '1903500': 'ÖMÖ', '1903600': 'Mr. Savage', '1904000': 'Peter Huxley', '1904100': 'Sridath Sewnandan', '1904200': 'Duet Selimova - Želčeski', '1904300': 'Δήμητρα Μ.', '1904400': 'Turi Malmø', '1904500': 'Legend (26)', '1905000': 'Walter Langer', '1905200': 'Brothers Of Intention', '1905800': 'The Art (2)', '1905900': 'Wandering Eyes', '1906400': 'Mark McMahan', '1906600': 'Joe Belmont (2)', '1906700': 'clichexxx', '1907100': 'Jack Forchette', '1907400': 'Nosos', '1907700': 'Decharme', '1908300': 'Gesta Bellica', '1908700': 'Kelvin (6)', '1908800': 'Daniel Murray (2)', '1909000': 'Gregory Wilson', '1909100': 'The Transhumans (2)', '1909800': 'Death Till Extinction', '1910000': 'Agni Hotra', '1910100': 'Moss Swarm', '1910300': 'Jana Sýkorová', '1911200': 'Dale Russell', '1911600': 'Tutti Parze', '1912000': 'Armani Depaul', '1912200': 'Otto Lington', '1912500': 'Magdalena Castro', '1913100': 'Grass Canyon', '1913400': 'Carl Regan', '1913800': 'Prof. Dr. H. C. Sebastian Furz', '1914100': 'Sean Carey (3)', '1914500': 'Birigwa', '1914600': 'Ruth Wieder Magan', '1914900': 'Rob The Bank', '1915200': 'Keleigh Black', '1915400': 'Jari Karjalainen', '1915500': 'Sabeli', '1915600': 'Tommi Rinne', '1915700': 'Metropolitan Divaz', '1916200': 'Guantanamo Party Program', '1916400': 'Magister', '1916500': 'Strazze', '1917100': 'Thomas Tempel', '1917500': 'Second Skin (6)', '1919100': 'George Norman (3)', '1919200': 'Homicide Volontaire', '1919600': 'Emiaj', '1920100': 'Sad World IV', '1920300': 'Matilde Ciccia', '1920500': 'Martin Eigenberg', '1920700': 'Алексей Федичев', '1920900': 'Ciudadano López', '1921100': 'The Electric Experience (2)', '1921200': 'Annika Skoglund', '1921400': 'Hot Station', '1922200': 'Jack Bates', '1922500': 'Stefan Hakenberg', '1922800': 'Solo (47)', '1922900': 'Eoin O Leary', '1923000': 'Scotty Bem', '1923100': 'Russell Means', '1923300': 'Moza (2)', '1924000': 'The Shirkers (2)', '1924200': 'The Man From The Crowd', '1924600': 'Thisyearsmodel', '1925100': 'Marie Nordenmalm', '1925200': 'Satana The Lord Of Nightmares', '1925300': 'Inflamable', '1925600': 'Katarina Lundberg', '1925900': 'The Smellie Fingers', '1927200': 'Nelly Pouget', '1927300': 'Charanga Afro-Cubana', '1927700': 'Moisés Garcia', '1928400': 'Rockwell (13)', '1928800': 'Shawn St. Clair', '1928900': 'Gallery Drive', '1929000': 'Les Musicholiers', '1929500': 'Tiago Frugoli', '1929600': 'Rune Rask & Troo.L.S.', '1930500': 'Sven Hirschmüller', '1930700': 'Lord Acheron', '1930800': 'Gary Holtzman', '1931400': 'Tom Grimm (2)', '1931900': 'Kara Johnstad', '1932100': 'Dustin Payseur', '1932400': 'Ben Shemie', '1932900': 'Marco Iacampo', '1933100': 'The Points North', '1933600': 'Dave Biller', '1933800': 'Berko Weber', '1934200': 'Le 5 Ragazze 5', '1935100': 'Jean Montag', '1936000': 'Steve Modana', '1936300': 'Die Winnetous', '1936400': 'Dirty Dogz', '1936700': 'Morgen Dye', '1937800': 'Sue Keston', '1938500': 'The Zion Travelers', '1938700': 'Virgo Loves Cancer', '1938900': 'Marinella Malić', '1939200': 'Flip (23)', '1939300': 'Mark Stolk (DJ Vibe)', '1939600': 'Gabe Ladhardt', '1940100': 'Carine Haddadou', '1940300': 'Göran Samuelsson', '1940600': 'Adimiron (4)', '1940700': 'Crown Nation', '1941100': 'Tortilla', '1941200': 'Carisma (3)', '1941300': 'Paul John Jones III', '1941800': 'Alpha-Jazz', '1942200': 'Σωτήρης Στασινόπουλος', '1942500': 'Sue And Sunshine', '1943000': 'Wreckless Remnants', '1943700': 'Eddy Assan', '1944400': 'Masayuki Hirano', '1944900': 'Ariel Martínez', '1945000': 'Χρονίρ', '1945200': 'Pirjo Koskenperä', '1945300': 'Hullu-Riitta', '1945500': 'Σταύρος Καψάλης', '1945600': 'Hagazussa', '1946600': 'Gun Solution', '1946700': 'Mr. Kikkawa', '1946800': 'Jens Bjørn-Larsen', '1947500': 'Catra', '1947900': 'Donskoy', '1948000': 'Gratts', '1948100': 'Etwan Sherlew', '1949100': 'Kalvarybass 666', '1949300': 'Enoch Ardon', '1950200': 'Zorina Bâldescu', '1950500': 'Sequoia (6)', '1950700': 'Takuto Uzuno', '1950900': 'Denis Weatherley', '1951400': 'Ar Skrilhed', '1951600': 'Blizz (7)', '1951900': 'Dj Gosha', '1952100': 'Katsunori Morimoto', '1952900': 'Medium (5)', '1953200': \"Société Royale d'Harmonie de Frameries\", '1954300': 'Rate & Follow', '1954400': 'Sonen', '1954500': 'CK Project', '1955200': 'George Vellis', '1955300': 'J.K. Mayengani', '1955400': 'Bill Maraldo', '1955600': 'Ban Hello', '1956300': 'Philippe Donnez', '1956700': 'Delirium (22)', '1956900': 'Heinz Gamper', '1957000': 'Northern Soul Inc.', '1957400': 'Das Klassische Wiener-Strauß-Lanner-Orchester', '1957500': 'The Coles', '1957600': 'Walter Carter Jr.', '1957700': 'The Wards', '1957800': 'Vatican Jet', '1957900': 'Tarot (7)', '1958100': 'Françoise Baudlot', '1958300': 'Mick Mulligan & His Band', '1959000': 'Fratellanza', '1959100': 'Gregory Sweeney', '1959300': 'Based On A Lie', '1960200': 'Pogrom (6)', '1960600': 'Arch Of Thorns', '1960800': 'DJ Mankila', '1961100': 'MC Frozen Water', '1961300': 'Cees Koldijk', '1961400': 'Snoutbender', '1961500': 'Saurus And Bones', '1962000': 'Pat & Pete', '1962300': 'Loopy Tunes', '1964200': 'Lou Darley', '1964300': 'Birgit Erichson', '1964400': 'Ira Petri', '1964600': 'Rakus Quad', '1964700': 'Philippe Bender', '1965100': 'Kukla', '1965700': 'Joe Buck (2)', '1966100': 'Βάιος Μαλλιάρας', '1966500': 'Vincent Maussen', '1966900': 'Hessel van der Wal', '1967500': 'Ricky Mantoan', '1967700': 'Chuck Reina', '1968200': 'Strange Nature', '1968700': 'Reformbühne Heim & Welt', '1969000': 'The Mello-Tones', '1969100': 'Ravon (2)', '1969200': 'Love Jungle', '1970000': 'Xanctux', '1970900': 'Soulbro', '1971200': 'Naïla Khol', '1971300': 'Joffrey Drahonnet', '1972000': 'Matt Armstrong (5)', '1972100': 'Classic (5)', '1972200': 'Go! Service', '1972300': 'Gaëtan Vassart', '1972600': 'Tailings', '1973300': 'Obtenebris', '1973400': 'DJ Volkan Uça', '1973700': 'L.D.J', '1974100': 'John Landon', '1974900': 'Achim Danner', '1975000': 'Евгения Огурцова', '1975400': 'Ryan Shoptaw', '1976300': 'Nicole Bradin', '1977100': 'Gerald G', '1977200': 'Nathan Schreier', '1977300': 'Sergio Puccini', '1977500': 'Patrick Kenny', '1977600': 'WAZ!', '1978000': 'Mario F', '1978500': 'Jus Boogie', '1979000': 'Art Damaged Rodents', '1979900': 'Κούλες', '1980000': 'Gusatve Cerutti', '1980100': 'Sagmeister Inc.', '1980300': 'Kranium (2)', '1980400': 'Formula One (3)', '1980700': 'Francine Reeves', '1981000': 'Sick (11)', '1981300': 'Winfried Pentek', '1981400': 'Acero Moretti', '1981700': 'Nils Olof Lindberg', '1981900': 'Suffer Despair', '1982000': 'Yukiyo Japan', '1982200': 'Ivan Smith', '1982300': 'Apparatus Theory', '1982700': 'Dead Soul', '1982900': 'D. Rich', '1983300': 'Ultravolta', '1983900': 'Jil Trammel', '1984200': \"The World's Finest Banjo Band\", '1984500': 'Dive3d', '1984800': 'Kevin Green (3)', '1984900': 'The Dog Pound', '1985100': 'Zaikon', '1985500': 'Jah Clive', '1986300': 'Johnny Popcorn', '1986800': 'Καρυοφύλλης Δοϊτσίδης', '1987400': 'Orchestra \"Gildo Del Mistro\"', '1987900': 'Stephen Day (3)', '1988900': 'Ralf Gerritse', '1989200': 'Jean David', '1989300': 'Ohsaurus', '1989600': 'NoToMash', '1989700': 'Minimum Serious', '1990900': 'Sebastian (38)', '1991200': 'Xa S.H.O', '1991300': 'Dead... Again', '1991500': 'Nesq', '1991800': 'Paige (8)', '1992200': 'Rabbia', '1992300': 'Bella Faius', '1992400': 'David Delarre', '1992500': 'Vivian Ram Krith', '1992800': 'The Flying Tygers', '1993000': \"Chœur Des Moines De L'Abbaye De Ligugé\", '1993400': 'Oleg Soul', '1993600': 'Владимир Лазерсон', '1993900': 'Pedro Morales Pino', '1994500': 'Mister V', '1994600': 'Mt. Desolation', '1995900': 'J. Gerrit Welmers', '1996000': 'Chris Oxford', '1996100': 'Dikoume Bernard', '1996700': 'Wild Child (2)', '1997100': 'Der Todtraurige Henning', '1997800': 'Stefan Dedalus', '1998100': 'Anti (13)', '1998400': 'PeWeX', '1998500': 'Michael Ramirez (2)', '1998700': 'Meryk', '1998900': 'Scalliwag', '1999000': 'Fabienne Marsaudon', '1999200': 'Gilda (5)', '1999600': 'Emerite Emeneya', '1999700': 'Elizabeth Lee', '1999900': 'Patsy Abbott', '2000100': 'Resiteana', '2000400': 'Alex Pro', '2000700': \"Annie d'Arco\", '2000800': 'Atari Super Predator', '2001100': 'The Committee (10)', '2002300': 'Atrax Mantis', '2002500': 'Band Of Two', '2002600': 'Silver Metre', '2003200': 'Zorros', '2003300': 'Steve Aynsley', '2003400': 'Περικλής Μπισκίνης', '2004000': 'Virgil Ianțu', '2004300': 'Earthtone', '2004400': 'Kristian Jørgensen Quartet', '2004600': 'Jeff Albert', '2004700': 'Jens Skou Olsen', '2005100': 'Magendarmtrakt', '2005300': 'Willy Quintero Y Su Combo', '2005400': 'Rose Ouellette', '2005800': 'Harmonia Enlouquece', '2006500': 'Lapidate', '2006600': 'Ian Harvey (2)', '2006800': 'Eugen Cristea', '2007000': 'Rainman (4)', '2007100': 'DJ Splinter (2)', '2007200': 'Facts', '2007600': 'Willie & The Wheels', '2007900': 'Jobutsu Project', '2008000': 'ROHCO', '2008200': 'Cachou', '2008300': 'Marko Glogolia', '2008400': 'Arsen Novak', '2008900': 'Lavwa', '2009200': 'Trampling The Cross Under Foot', '2009400': 'Ricardo Quijano', '2009600': 'Magison', '2009700': 'Alfredo De Souza', '2010000': 'Rose Marie Zartner', '2010100': 'Manuel Gonzales (3)', '2010700': 'harmonia mundi acustica', '2010800': 'Irfan Davazli', '2011200': 'Kommisar', '2012000': 'Love Sound Orchestra (2)', '2012600': 'Andre Norton', '2012900': 'Pedro Ribeiro (2)', '2013700': 'Gwenan Jones', '2014000': 'The Alligators (3)', '2014300': 'Jon Bernoff', '2014400': 'Vigilant', '2014900': 'Cody Jarrett', '2015200': \"Rob En Z'n Vrienden\", '2015300': 'Rémi Delangle', '2015800': 'Marlies Giesen', '2015900': 'Infecting Hate', '2016200': \"Disco'nnexion\", '2016300': 'Dj KUTZ', '2016900': 'Y-98FM/Phillips & Walls', '2017100': 'Chats', '2018000': 'Joe Quitzke', '2018400': 'Dualkey Productions', '2018500': 'DJ Deaf', '2018700': 'Social Outcasts', '2019000': 'Loxitrop', '2019500': 'John Smith (36)', '2019600': 'Anthony Daby', '2019700': 'Mimmo Epifani', '2020200': 'Conrad Arnesen', '2020500': 'Misguided Aggression', '2020600': 'C.E.O. (2)', '2021400': 'Soldiers Of Fortune (4)', '2021500': 'Tekeningen', '2021900': 'Candy Queen On Heroin', '2022200': 'Evor Ameisie', '2022300': 'Sick Dogs', '2022700': 'Moskva Balalaika Quartet', '2023300': 'Matthew Johnson (9)', '2023700': 'Shark Bait (2)', '2023800': \"Henry Malberg's Multi-Gitarren\", '2024000': 'Agnostic Frontman', '2024800': 'Ladislav Pešek', '2024900': 'Tiovita 1', '2025100': 'Josef Barchánek', '2025400': 'The Hi-Fi Killers', '2025500': 'J. T. \"Funny Paper\" Smith', '2025700': 'Radioblue', '2026000': 'Oebeler Hardkoor', '2026100': 'The Firejacks', '2026400': 'Athletic People', '2026700': 'Open Air Radio', '2026800': 'Bbeakks', '2027100': 'Dan Henry (2)', '2027600': 'Maile Arruda', '2029000': 'Alejandro García Caturla', '2029500': 'Hammerdrill', '2029700': 'Perversia', '2029800': 'R.E.S. (2)', '2030100': 'Zigitros', '2030200': 'Sam Cutler', '2030800': 'Jaroslav Mareš', '2030900': 'Condom Bojs & Wulkanizejszyn Bend', '2031200': 'Lowlife Media', '2031300': 'Andrea Manger', '2031500': 'The Electric Personalities', '2032300': 'Jenny Helia', '2032400': '4N1T4', '2032600': 'Robert Vanderbilt And The Foundations Of Soul', '2033000': 'Петр Михайлович Милославов', '2033100': 'Sir Jam', '2033300': 'Yoshiro Suzuki', '2035100': 'Slobodan Stanković (2)', '2035700': 'Westdeutsches Bläsertrio', '2035900': 'The Billy Taylor Orchestra', '2036900': 'Michael Solomon (2)', '2037300': 'BYB', '2037500': 'A Football Fields', '2037600': 'Blue (43)', '2038200': 'Empire Saint', '2038400': 'Rudy Lambert', '2038600': 'Arrival (4)', '2038800': 'Ústřední Hudba Československé Lidové Armády', '2038900': 'Ian Tordella', '2039500': 'Jah Alti', '2040000': 'Jo Courtin Et Son Orchestre', '2040600': '棺桶THE1999', '2040700': 'The John Merricks', '2040800': 'Scott Harris (6)', '2040900': 'Eddie Miller (5)', '2041300': 'Jeff Hunt (5)', '2041400': 'Dafydd Lewis', '2042100': 'Dance Aid (Rave The World)', '2042200': 'The Happy Kids', '2042400': 'Greenbank (2)', '2042800': 'Little Milton (3)', '2043100': 'Bartosz Deja', '2043400': 'Dirt (16)', '2043800': 'Illuminati (11)', '2043900': 'Bole Bošković', '2044100': 'Paul Erdtmann', '2044500': 'Парни', '2044600': 'Tacit Fury', '2045100': 'Rux (4)', '2045300': 'SMG Staff', '2045600': 'Yusuf McKay', '2045700': 'Zero G \"Chemical Beats\"', '2045900': 'Teddy Saunders Sextet', '2046200': 'Louisiana Syncopators', '2046700': 'Jim Copp and Ed Brown', '2046800': 'Thinner (4)', '2047700': 'The Danger Is', '2047800': 'Tommy Duchesne', '2047900': 'Rafael Greyck', '2048200': 'Johnny Gash', '2048400': 'Truant (3)', '2048700': 'Never Knows', '2049100': 'Lord Black (2)', '2049300': 'Radioo', '2049400': 'Stevon Q', '2049500': 'The Tribe (13)', '2049800': 'Widesky', '2050000': 'Dj Smur', '2050200': 'MC Shot', '2050600': 'Bird Sounds', '2050800': 'Max Hazy', '2051100': 'Trio Los Aventureros', '2051200': 'Tor Alm', '2051600': 'Grant Sim (2)', '2051800': 'Ann Panagulias', '2052100': 'The Knew Crue', '2052300': 'Hermann von Pückler-Muskau', '2052500': 'Conquest (11)', '2052600': 'Legacy Crew', '2053000': 'Fresh Air (7)', '2053200': 'Nick Pelecchio', '2053300': 'Exciter (6)', '2053400': 'Cristina Valenti', '2053600': 'Speed Kill Hate', '2053900': 'Enzuigiri', '2054100': 'Bret Morrison', '2054300': 'Pure Ecstasy (2)', '2054400': 'Cillo', '2054600': 'Woodburner', '2054700': 'David Cesar', '2055200': 'Rotten Imbeciles Burnt By Triple Anal Penetration Of Mother Nature', '2055500': 'The Bouncebandits', '2055600': 'Devoured By Vermin', '2056000': 'Bernt Solvoll', '2056100': 'Feersum Endjinn', '2056200': 'Crisis Hotlines', '2056500': 'The Weakening', '2057000': 'Us (20)', '2057100': 'Capt. Dobey', '2057200': 'Cubic Nomad', '2057700': 'Paolo Castro', '2057800': 'DJ Krush (4)', '2057900': 'Ram Laxman', '2058400': 'The Lost Legend', '2058500': 'Tanja Zapolski', '2058600': 'Anil-Nanda', '2058700': 'Sahaj Ticotin', '2059200': 'Sherlokone', '2059300': 'Technicyst Fix', '2059500': 'Trap (3)', '2059700': 'Toggle', '2060400': 'DJ Limone', '2060700': 'Aleksandar Spasoski', '2060800': 'Valerie Estock', '2061100': 'Oliver Rath (2)', '2061200': 'Instrumental Clip', '2061600': 'Rosie Greenwood', '2061800': 'Slobodan Mladenović', '2062100': 'Stephaniesǐd', '2062900': 'Young Sound', '2063100': 'Isa Novo', '2063400': 'Jaimie Roberts', '2063500': 'IQ Zero (2)', '2063600': 'Unknown Society (2)', '2063700': 'Σόλης Μπαρκής', '2063800': 'Thunder! Thunder! Thunder!', '2063900': 'Mark Moulin (2)', '2064600': 'Emmy (8)', '2064700': 'Wearethend', '2065200': 'A-Negative & SoundNbeats', '2065500': 'Marcia Berman', '2065900': 'The Batteries (2)', '2066300': 'Innuendo (4)', '2066400': 'www.boompje.com', '2066500': 'Paolo Paolo', '2066700': 'Paul Phipps', '2066800': 'The Nocturnes (3)', '2066900': 'Kim Townsend', '2067000': 'Vansam', '2067300': 'Throwdown Syndicate!', '2067500': 'In Orbit', '2067900': 'Rotterdans', '2068600': 'Robert A. Vogt', '2068700': 'Ljubica Radulaški', '2069100': '9 Volt', '2069400': 'Γιώργος Γαβαλάς', '2069800': 'Tony Damati', '2070200': 'Francesca Pedaci', '2070400': 'Pierre Dussault', '2070700': 'Power Of Omens', '2071100': 'Phillum', '2071600': 'Marie-Louise Dähler', '2071800': 'Vulvator', '2072200': 'No More Distractions', '2072600': 'Blue Sensations Orchestra', '2072800': 'Marília Pêra', '2073200': 'Crowd Of Rage', '2073900': 'Artillery (4)', '2074000': 'Angel (93)', '2074300': 'Anescar Pereira Filho', '2074700': 'Andrew Devillers', '2074900': 'Mark Gilmore', '2075700': 'Lo Fi Rave Busters', '2076100': 'Burning Sons', '2076300': 'Claudia Perdighe', '2077400': 'Michael Forest', '2077800': 'Kurt Raucher', '2078400': 'Cherri Lynn', '2079200': 'The Acute', '2079500': 'Orpheus Descending', '2079600': 'Nobodys Straight', '2080100': 'Old Tapes', '2081300': 'Stillwell (2)', '2081700': 'MC Potts', '2082600': 'Jukka Wahlsten', '2083000': 'Kin (7)', '2083400': 'Jan Komar', '2083500': 'Lunadivina', '2084000': 'Cuttie Williams', '2084100': 'Ken Eme', '2084200': 'Brother Eye', '2084700': 'Amédée Suriam', '2085100': 'Alvaro Del Castillo', '2085400': 'Entertane', '2085800': 'Limited Ambition', '2086700': 'Cristo De Pisto', '2087100': 'Kamil Flis', '2087200': 'Harry Watters', '2088000': 'Grapphi Lynx', '2088200': 'Estasy', '2088300': 'Rob Shields', '2088800': 'Orchestre Ekasama Budaya De Besalih', '2089000': 'Charles Buterne', '2089200': 'Jane Osborne', '2089700': 'Mariette Hansson', '2090000': 'Hope is Noise', '2090300': 'Doris Fukawa', '2090600': 'William Harris (6)', '2090800': 'Boss Brain Twisters', '2091000': 'Soul Bees', '2091200': 'Loose Dudes', '2091300': 'The Rafael Valdez Orchestra', '2091600': 'Emma Poole', '2091700': 'Cherry Stone (2)', '2092100': 'Wound Upon Wound', '2092500': 'Phil Garcia', '2092700': 'Little Cat', '2092900': '12 Dingo', '2093000': 'Saigon (6)', '2093100': 'Tony London (3)', '2093400': 'Marcus Liebscher', '2093500': 'Laura Šimonytė', '2093700': 'Lorenzo Schellino', '2093900': 'Sameco', '2094100': 'Whity', '2094300': 'MHMM', '2094600': 'The Missing Passengers', '2094800': 'Cruma 3', '2095000': 'DJ Tomba', '2095200': 'Tony Martinez (6)', '2095500': 'Richard Edlund', '2095900': 'Section 8 (12)', '2096400': 'Renegades Of Punk', '2096500': 'Ai Ichikawa', '2096700': 'Random Sample', '2097100': 'Tarantino (3)', '2097300': 'Lone Star (5)', '2097500': 'Courtney Noelle', '2097900': 'The Electric Cowboy', '2098600': 'The Melody Rockers', '2099000': 'Richard Harney', '2099100': 'Benjamin Rogers', '2099300': 'Jens Knappe', '2099400': 'Dorothy Ramsey', '2099600': 'Alex MacLeod', '2099700': \"Romeo's Dead\", '2100100': 'Glen Turner (2)', '2100300': 'Daniel M. Wright', '2100700': 'Katja Kodelja', '2100800': 'Louisa Branscomb', '2101200': 'Lanfiso', '2101900': 'Clarion Fracture Zone', '2102000': 'Egidas', '2102100': \"Erskine Hawkins And His 'Bama State Collegians\", '2102300': 'Emmy Lisken', '2103000': 'Real Color', '2103100': 'Running Late', '2103400': 'Alex Naumenko', '2103600': 'Anthony Baldwin (2)', '2103800': 'Μάνος Τσιλιμίδης', '2104600': 'Mr. Beats (3)', '2104900': 'Dolore', '2105200': 'Chris Beu', '2105400': 'Rock-Monee', '2105700': 'Pure (22)', '2105800': 'Osmo Nätti', '2106000': 'Corvidae', '2106200': 'Grass Plant', '2107900': 'Bluegrass Incorporated', '2108200': 'Jiřina Marková', '2108300': 'Antonius Franke', '2108400': 'Amongst The Pigeons', '2108600': 'Allegra Bandy', '2108900': 'Swintee', '2109400': 'Frontlinetroop', '2109800': 'Benoît Bouchard', '2110000': 'Marc Gist', '2110100': 'Billy & Billy', '2110300': 'Alpha (30)', '2111000': 'Roisin Dempsey', '2111300': 'Positive Roots Band', '2111400': 'Slim Tim', '2111900': 'Sami Tuomi', '2112200': 'Виктор Кривонос', '2112400': 'De Huilende Rappers', '2112800': \"Sax Kari & His Ballin' The Blues Band\", '2112900': 'Colette Barber', '2113100': 'Stéphane Rancourt', '2113600': 'Tek-tonic', '2113800': 'Der Böse Zustand', '2113900': 'The Good Earth (2)', '2114000': 'Diezel Xzaust', '2114300': 'The Say Highs', '2114500': 'Hammocks and Honey', '2114800': 'The Urban Griot', '2115300': 'Trick Shot', '2115400': 'Kamui Gakupo', '2115700': 'Karl Vorndran', '2116000': 'Malte Preuß', '2116100': 'Ансамбль Песни И Пляски Московского Округа ПВО', '2116200': 'Roland Kroell Und Die Salpeterer', '2116400': 'Life Is Pain', '2116900': 'DJ Billywhizz', '2117300': 'Gísli Helgason', '2117500': 'Tony Ac Aloma', '2117700': 'Peter Uherčík', '2117900': 'Memories Of A Dead Man', '2118100': 'Владимир Симкин', '2118700': 'Skald Draugir', '2118800': 'Against (3)', '2118900': 'Tryggvi Hübner', '2119100': 'Hazelpark', '2119300': 'Blue Albatross', '2119500': 'Kevkash And Jackpot', '2119600': 'Göte Widlund', '2119800': 'Mac Gyver (4)', '2120100': 'Kobi Peretz', '2120200': 'Monica Wright', '2120400': 'Tennessee Express', '2120600': 'Local Duo', '2121500': 'Big Joe Maher', '2121600': 'Melik (2)', '2121800': 'Bestial (3)', '2121900': 'Numberless', '2122300': 'Adam Heron', '2122600': 'Francisco Cano', '2123300': 'Ricardo Bacelar', '2123800': 'Ricky (37)', '2123900': 'Hans Werner Et Ses 40 Violons', '2124100': 'Lisa Aston', '2124400': 'Zenith Of Abolition', '2125000': 'Otherways', '2125400': \"DJ's (2)\", '2126400': 'Jare (2)', '2126500': 'Frank Corrales', '2126700': 'DJ Arlkin', '2126900': 'Mojobone', '2127000': 'ESP Štěpána Markoviče', '2127100': 'Fuzan Sato', '2127300': 'Freek Sluijs', '2127600': 'Fantasmi Di Sodoma', '2128000': 'Le B', '2128100': 'Paper Lanterns', '2128300': 'Ice Cube (3)', '2128500': 'Sarah Johanson', '2129000': 'T. Jae Christian', '2129600': 'The Curse (3)', '2130400': 'Adonna', '2130500': 'Stone River Boys', '2130600': 'Joki Freund Sextet', '2131000': 'Enric Montefusco', '2131100': 'Stéfan', '2131500': 'Notzing Wall', '2131700': 'Afubi', '2131800': 'Disnihil', '2131900': 'The Primrods', '2132600': 'Toni Mahoni', '2132800': 'The Gargoyles', '2132900': 'Blues Power', '2133400': 'II Black', '2133900': 'The Noisy Freaks', '2134000': 'Candela Clap', '2134300': 'T Phan', '2134600': 'The Distant Seconds', '2134800': 'Christine Choi Ahmed', '2135800': 'Sauve Qui Peut!', '2136200': 'Beatless (4)', '2136700': 'Mike Keyz Downing', '2136900': 'Rainbow Boogie Band', '2137200': 'Michael Palmerio', '2137400': 'Grande-Marlaska', '2138800': 'Lethbridge', '2139000': 'Mery Chunga', '2139300': 'Telephone Singers', '2139600': 'Calvin Morgan', '2139700': 'Mama Buries', '2139800': 'Jimmy Wilson (8)', '2140000': \"T'ong Tik-Shung\", '2140200': 'Lowebrau', '2140400': 'lufdbf', '2140600': 'Miriam (22)', '2141000': 'Henri Brod', '2142200': 'Drumhand', '2142300': 'Martin Strnad', '2142700': 'Urim Salee', '2142900': 'Goudron (2)', '2143100': 'Zoanthropic Orchestra', '2143200': 'Room237 (2)', '2143300': 'Lack Of Youth', '2143400': 'Morgan State University Gospel Choir', '2143500': 'Canto Generàl', '2143700': 'The Blue Ridge Mountain Boys', '2144500': 'Obwaldner Trachtenchörli', '2144700': 'Charlie & Chan', '2145100': 'Meack Marcel', '2145600': 'Personality Crisis (3)', '2145900': 'Leo & Sherry', '2146100': 'Michael Wetherwax', '2146800': 'Nacho (12)', '2146900': 'Goddamn Bull', '2147100': 'Charles-Antoine Gosselin', '2148200': 'Robert Wright (8)', '2148700': 'Noem', '2149200': 'Homer Chambers', '2149400': 'Connoisseurs Of Porn', '2149500': 'The MRB Band', '2149900': 'Barbara Gołaska', '2150400': 'The Emcees', '2150500': 'The Wuppertal Workshop Ensemble', '2150600': 'Yasutaka Kajihara', '2150900': 'Marino Lagomarsino', '2151200': 'Alain Weber (2)', '2151900': 'Literature', '2152100': 'CCCT', '2152300': 'The Melody Rangers', '2152700': 'The L.A. Chillharmonic', '2153100': 'Raa D', '2153300': 'Dick Todd With The Appalachian Wildcats', '2153600': 'Kirk Taylor (4)', '2153700': 'Ed Korolyk', '2155400': 'Karamel (3)', '2155700': 'Christian Ray', '2155900': 'Beaufrere', '2156000': 'Steve Omac', '2156600': 'The Lemon Dips', '2157500': 'Hvarna', '2157700': 'Laudanum Forest', '2157900': 'Schanfigger Ländlerquintett', '2158000': 'Fireball Management', '2158200': 'Jenny & The Jewels', '2158300': 'Buttfuck', '2158600': 'Robert Rook', '2158800': 'Olav Gerthel', '2158900': 'Björn Þórarinsson', '2159500': 'Nakia Reynoso', '2159700': 'The Pleasant Valley Boys', '2160100': 'Para Physi', '2160800': 'PWKF', '2161000': 'Evan Watkin', '2161500': \"Marco D'Elia\", '2161600': 'Josef Veleba', '2161700': 'Denis Oness', '2162800': 'GuSHee', '2163600': 'Nurden Cross', '2163700': 'El topo diablo', '2163800': 'Patricia L. Henderson', '2164100': 'Edgar Wallmeyer', '2164500': 'Size Seven Group', '2164700': 'Tag Enterprises', '2165100': 'Beggars Opera (3)', '2165300': 'Pepe Olivares', '2165400': 'Zbor Slovenske Filharmonije', '2165800': 'City Prod', '2165900': 'Siste Skrik', '2166500': 'Wakan (2)', '2166600': 'Oscar Klein Sextet', '2166800': 'The Love People (2)', '2167200': 'Merijn Dietvorst', '2167300': 'Sorcha Shepherd', '2167600': 'Pécsi Géza', '2168100': 'Larry Ziemba', '2168900': 'Tamga Krioro Ung-hati', '2169100': 'Ojo (4)', '2169500': 'Michele Lanci-Altomare', '2169600': 'Blasting Gelatins', '2169700': 'Anna Colman', '2170100': 'Angelica San', '2170200': 'The Junglelers', '2170400': 'Bruno Jiménez', '2170800': 'Dashiki Johnson', '2170900': 'TNK (3)', '2171000': 'Waldrand', '2171200': 'Le Nuage Du Chien', '2172200': 'A.J. Weberman', '2172300': 'Memory Pearl', '2172500': 'Julie Adams (2)', '2172600': 'The Midwest Beat', '2173400': 'Harvey Jenkins', '2173500': 'Base-T (2)', '2173600': 'LocoMotive (6)', '2173800': 'Diversion Factor', '2174400': 'Øystein Sevåg Global House Band', '2174900': 'Elena Sorokina', '2175000': 'Doc West (2)', '2175700': 'David De Castro', '2176000': 'The Clichés (2)', '2176600': 'Valerie Noack', '2176800': 'Ljuba Stepanović', '2176900': 'Solange Maria', '2177000': 'Michelle Marie', '2177600': 'Bloodline Severed', '2178000': 'Jørgen Haaland', '2178600': 'Rabid (4)', '2179000': 'The Maverick Choir', '2179100': 'Fergus Keogh', '2179400': 'Johan Leysen', '2179500': 'Emy Cesaroni', '2179700': 'Johnny Lewis (3)', '2179900': 'Midnattskören', '2180400': 'Mary McCoy & The Cyclones', '2181000': 'Ghettoman And The Believers', '2181100': 'Александр Петренко', '2181200': 'Dale Kurtz', '2181600': 'DJ ALAVI', '2182500': 'Dead Sheriff', '2182600': 'Uri Noir', '2182700': 'Power Assault', '2182900': 'Posie Moliadi', '2184300': 'Drag (5)', '2184700': 'Vassbotn', '2185000': 'Time (17)', '2185100': 'Matti Pollari', '2185800': 'Margreet Heemskerk', '2186000': 'Freemartin', '2186500': 'Mephistopheles Death Canister', '2186900': 'Compromise Blue', '2187100': 'The Diminshuns', '2187500': 'Profundiis', '2188400': 'Rhoda Bernard', '2188500': 'Damon Danielson', '2188700': 'Prototype MC', '2188800': 'Byron Winton', '2189000': 'Zoe Gilby', '2189100': 'Dusky Ruthe', '2189200': 'Elvis Disciples', '2189500': 'Seventeen Rhinos', '2190400': 'Затмение', '2190500': 'Tanja V. Jessen', '2190600': 'Roger North', '2190800': 'Gary Croatian Jr. Tamburitzans', '2191000': 'The Tambourines (3)', '2191400': 'Ray Milan', '2191700': 'Окно', '2191800': 'Mudon', '2192100': 'Sasha Darko', '2192500': 'Саботаж', '2192800': 'Trident (5)', '2193300': 'Artur Dutkiewicz Trio', '2193700': 'Stretch Thomas', '2194300': 'Mary Scotti', '2194600': 'Roberto Pla (2)', '2195100': 'Azahel', '2195400': 'G-Mack (4)', '2195700': 'Tony Woods (2)', '2195800': 'The SkunX', '2196300': 'Andrej Polevikov', '2196700': 'The 8th Note', '2196800': 'Jean McGraw', '2197400': 'Ollie Maides', '2197500': 'Skalde', '2198000': 'Taco (3)', '2198200': 'Antonio Figueroa', '2198500': 'Marco Saenz', '2198600': 'VJ Věra Lukášová', '2198900': 'Ratko Sarić', '2199000': 'Электрические Партизаны', '2199400': 'Bookburner', '2200000': 'Novo Mundus', '2200200': 'Licia (3)', '2200400': 'Pártos Erzsi', '2200700': 'Catherine Rand', '2200900': 'Roxanne: The Early Years', '2201800': 'Small Talk (8)', '2202100': 'Chris Rager', '2202200': 'U R Penetrators', '2202800': 'Snow Beard', '2202900': 'Malina (6)', '2203100': 'Seventy-7', '2203700': 'Coronet Blue', '2204100': 'Lars Lysén', '2204200': 'Poki', '2204300': 'Richard Sweeney (2)', '2204600': 'Mark Levine (4)', '2204700': 'Maneri Ensemble', '2205000': 'Communication (5)', '2205100': 'Thug Life (4)', '2205400': 'Martel Robinson', '2205800': 'Conformist (2)', '2206100': 'Max Davies', '2206300': 'Sheezy', '2206600': 'Cinema Red and Blue', '2206800': 'Dan Burton (3)', '2207300': 'Fifi Coyote', '2207500': 'Stygmatodermuropyanephrosism on Impetiginose Urogenism', '2207600': 'Charles Vanderzand', '2208500': 'Horseshit Gunfire', '2210000': 'Imperial Can', '2210500': 'Alex Morgan (4)', '2210700': 'Henry Sheehan', '2210800': 'Abecedari', '2210900': 'Yves Meersschaert', '2211000': 'Jonathan Sheldon', '2211100': 'Southside Stranglers', '2211200': 'Sortahuman', '2211500': 'Rosemary Nicolls', '2211600': 'Valdur Lehtla', '2211900': 'Glasstown', '2212300': 'LSD (16)', '2213000': 'YONO', '2213600': 'Nuno Fradique', '2213800': 'Kenny Wang', '2213900': 'David Foote', '2214000': 'Cindy (16)', '2214700': 'Imanol Urbieta', '2214800': 'Sarah Morgan', '2215000': 'Jonnathan Molina', '2215300': 'Neomind', '2215700': 'The Mighty RAW', '2216700': 'Big Flossy', '2216800': 'Breez (3)', '2217000': 'Emperor D. P.', '2217400': 'Meta Malus', '2217900': 'Rockett Queen', '2218100': 'R. Tamaru', '2218700': 'Theo Arden', '2219600': 'Jörgen Gassilewski', '2219700': 'Basstion', '2219800': 'M. Thompson (4)', '2220500': 'Dismond', '2221100': 'Niters', '2221300': 'Franziska Markowitsch', '2221600': 'John Fuller (2)', '2222100': 'Michael Mulvaney', '2222300': 'Fabio Castillo', '2222400': 'Bogart (6)', '2222500': 'Jon Ronson', '2223000': 'Amy Branch', '2223100': 'Irina Strange', '2224400': 'Лева Боярский', '2224600': 'Kickerz', '2225100': 'Jacque Le Trak', '2225300': 'Thomas Hogan', '2225700': 'Jeffrey Smith (2)', '2225900': 'Junior Redwood', '2227500': 'Fred Gito', '2227700': 'Holy Filament', '2228000': 'Lena Romul', '2228200': 'Ray Lugo & The Boogaloo Destroyers', '2228500': 'Куклы Напрокат', '2228800': 'Scottie Clark', '2228900': 'Zia (8)', '2229200': 'Joe Lastie, Jr.', '2229400': 'The Skyrockets', '2230400': 'Jules Cleophat', '2230900': 'Mark Van Overmeire', '2231300': 'François Babault', '2231600': 'Harold Ramsay', '2232100': 'Josph G. Bilby', '2232200': 'Lennart Grahn (3)', '2232500': 'This Means War', '2233000': 'Kenji Kanazawa', '2233100': 'Cuva Cuva', '2233200': 'Mizo', '2233500': 'The Rakes (3)', '2233800': 'Oliva Morga', '2234400': 'Deena & The Laughing Boys', '2234500': 'Amos Key', '2234900': 'B.M.C. (3)', '2235100': 'Don Macaffer', '2235200': 'Gwen Sao', '2236900': 'Kaibe Takeshi', '2237600': 'Embassy Of Silence', '2237900': 'DJC (4)', '2238000': 'Henning Toft Bro', '2238600': 'Edmund Teske', '2238800': 'Childhood Of Ejaculation', '2239300': 'Al Abrams', '2240000': 'Cypher (18)', '2241400': 'Sueddeutsche Chorvereinigung', '2241500': 'Ronald Ferdinand', '2241600': 'Hear You Calling', '2242300': 'Dj Makistyle', '2242400': 'Gérard Biyela', '2242700': 'Saul Lambert', '2242800': 'Kuzmich Orchestra', '2243000': 'Tabata Tsuyoshi', '2243200': 'Asdis Sif Gunnarsdottir', '2243300': 'Giulio Corini', '2243700': 'Gob Art', '2244600': 'Nina Ferrelli', '2244900': 'Noe Pro', '2245100': 'Insulter', '2246000': 'Maria Lindvall', '2246100': 'Gelu Barabancea', '2246400': 'Conscience (4)', '2246900': 'The Rivvits', '2247000': 'Tanvir Naqvi', '2247400': 'Robin P. Richards', '2247500': 'Gaelforce Dance', '2247700': 'Rick Huelga', '2247800': 'Larry Rodriguez', '2247900': 'Atmosfear (4)', '2248200': 'Deep Soul Duo', '2248500': 'Maria Cristina (2)', '2248600': 'Sound Box (3)', '2249000': 'Luis Sanchis', '2249100': 'Alex McTigue', '2249800': 'Yanez (7)', '2249900': 'Franz von Stuck', '2250000': 'Komo (2)', '2250500': 'Pacific Highway', '2250700': 'Lane Smith', '2250900': 'Klaus Goldmann', '2251100': 'Ute Mahler', '2251200': 'Tinah', '2251900': 'Steve Vertel', '2252000': 'Tor Cesay', '2252300': 'Gary Monroe', '2252600': 'Perspex Spangles', '2252800': 'The Batish Family', '2253100': 'Juanma (3)', '2253300': 'R/D', '2253400': 'Greg Brimson (2)', '2253700': 'Sofia Eklöf', '2254200': 'Departure Chandelier', '2254600': 'Dry New York Studios', '2254900': 'Bleecker Brothers', '2255100': 'Linda Gail & The Channel One Team', '2255700': 'The Roy Granger Orchestra And Chorus', '2255900': 'Joe Rollinson', '2256600': 'Wehrle', '2257000': 'Pollo Enfermo', '2257600': 'The Diamonds (7)', '2258100': 'Elia Einhorn', '2258200': 'Johnny Lane & The Hot Rodders', '2258300': 'Hellcats (3)', '2258800': '禹黎朔', '2258900': 'Lisette (5)', '2259300': 'Eglal Farhi', '2259400': 'Kiss N Ride', '2260000': 'Rec Design', '2260100': 'Percut', '2261300': \"K'bana Blaq\", '2261700': 'Lester Young-Buddy Rich Trio', '2261800': 'Jacoby & Schorsch', '2262200': 'Jackie Dennis (2)', '2262600': 'Alberto Herrero', '2263100': 'Mick Nichols', '2264200': 'Jozy Nine', '2264400': 'Zero One (5)', '2264500': 'Annie Bright', '2264600': 'C.E.S.B.', '2264800': 'Astra (12)', '2264900': 'Brian Dowling', '2265000': 'Kairos 4tet', '2265100': 'The Maytimers', '2265800': 'Beyond Light', '2266200': 'Tami Rissianou', '2266700': 'Force Fed (5)', '2267100': 'Jean And The Statesides', '2267200': 'Maggie Moone', '2267500': 'Melbra Rai', '2267900': 'J. Heflin', '2268000': 'Margareta Kaukonen', '2268700': 'Til Det Bergens Skyggene', '2269300': 'Kudjoe Todzo', '2270300': 'Mister Beauty', '2270800': 'Planeet', '2270900': 'Mister Drey', '2271200': 'Fabian Bruhn', '2271300': 'Toni Warne', '2272300': 'Søren Dahl', '2272500': '2Be1', '2272600': 'Joris Van Den Berg (2)', '2272700': 'Olli Mäkelä', '2272900': 'Neon Jung', '2273400': 'Jean-Louis Guillermin', '2273700': 'Dan Gonyea', '2273800': 'Insomnia (16)', '2274100': 'Time Square (6)', '2274300': 'The Retreads (2)', '2274800': 'Viktor Sagat', '2275300': 'Andrew Henry (3)', '2275400': 'The D.I.s', '2275600': 'Mario Krupa', '2275900': 'Zhang Yadong', '2276200': 'Jeanne-Marie Head', '2276500': 'Johan Sundell', '2277000': 'B.J. Bushell', '2277300': 'Rastalasta', '2277800': \"George Siravo's Orchestra\", '2278700': 'Thorsten Jasper Weese', '2279800': 'Arms Exploding', '2280000': 'Margie & The Formations', '2280100': 'Robert Homa', '2280200': 'Matthew M. Cave', '2280800': 'Rinat Shaham', '2281400': 'Blim (2)', '2281800': 'Juggernaut (9)', '2283000': 'Lightheart', '2283100': 'Four Nine Nine', '2283300': 'Milan Roden', '2283400': 'Michael Anderson (19)', '2283700': 'Old School Tie', '2284000': 'Kill City Babies', '2284100': 'Tristan Honsinger This, That And The Other', '2284300': 'Cindy Karp', '2284700': 'DJ Kunzu', '2284800': 'Professor S.N.De Opia', '2285000': 'The Daily Planet', '2285100': 'Josito', '2285500': 'Johnny Rowland', '2285600': 'Jan H. Jensen', '2286200': 'Bloom (12)', '2286400': 'TV Colosso', '2286600': 'AARDMAN', '2287100': 'Tom Shooster', '2287200': 'Police One', '2287300': 'Heavy Weight Champ', '2287400': 'Orders Of The British Empire', '2287500': 'John Bowe', '2287900': 'Rob \"Downy\" Wilson', '2288000': 'Henri Bodini', '2288600': 'Death Power', '2289500': 'KelJet', '2289900': 'The Man-Eating Tree', '2290000': 'Joy Gardner', '2290900': 'Ali Kondi', '2291100': 'Censura (4)', '2291200': 'Alkatrazz (2)', '2291300': 'Amadeus (21)', '2291500': 'Susan Swinford', '2291900': 'Vladi Solera', '2292000': 'Lash (7)', '2292600': 'Manooghi Hi', '2292700': 'The Novelties', '2292800': 'Psychonautn', '2293300': 'Haggis (9)', '2293400': 'Jel (5)', '2293700': 'Owen Stefani-Bose', '2294000': 'Carly Dickenson', '2294100': 'Eric Chipulina', '2294200': 'Michou (3)', '2294300': 'Gisbone', '2295500': 'Diploid', '2295800': 'Toni James', '2296500': 'Margarita Escala', '2296800': 'Glory Art Youth', '2296900': 'Στιχοπλόκος', '2297200': 'Μανώλης Φαραγκουλιτάκης', '2297500': 'Dan Fong', '2297900': 'Satish', '2298100': 'Kyoko Oikawa', '2298200': 'Sasha Martinsen', '2298500': 'Pat Simpson', '2298900': 'Jax Smith', '2299000': 'EsSDee', '2301400': 'Fabien Sautet', '2301500': 'Thore Härdelin', '2301600': 'Barely Modern', '2301700': 'Four Story', '2302000': 'Grabowski (2)', '2303100': 'Labbratek', '2303300': 'Kid Blank', '2303800': 'Soup Art', '2304000': 'Gnash', '2304300': 'Germinal', '2304400': 'Horst Müller (4)', '2304500': 'Cristiano De Fabritiis', '2304700': 'Maurice Chevalier (2)', '2304800': 'Oleg Zolotarev', '2305000': 'One G', '2305100': 'Jill Parker', '2305800': 'The Coosticks', '2306200': 'Sig Arno', '2306300': 'Elsewhere (8)', '2306400': 'Phil Sorey', '2306500': 'Rockingchair', '2306600': 'Skaface Claw', '2307200': 'Liquid Pegasus', '2307600': 'Slavko Kokić', '2307900': 'Nana Squad', '2308000': 'Super Special', '2308100': 'Jericho (18)', '2308400': 'Kentwist', '2308600': 'Skin Infection', '2308800': 'Harppia', '2309000': 'Goat Destroyer', '2309100': 'Gum Parker', '2309600': 'Izdrži Ribice', '2309800': 'The Crack Babies (2)', '2310000': 'Wừu', '2310100': 'Dance Trauma', '2310400': 'Sarth Calhoun', '2310800': 'DJ Caz', '2311100': 'The Stingless', '2311700': 'Ivo Grgić', '2312000': 'Danielle Hope', '2312100': 'The Four Aristocrats', '2312200': 'BOY COM', '2312300': 'Wilhelm Middelschulte', '2312700': 'Leroy McLucas', '2312800': 'Art In Heaven', '2313100': 'Cold Drinks', '2313400': 'Jun (39)', '2313700': 'Chris Bussey', '2313800': 'Anthrax (6)', '2313900': 'Jawbone (5)', '2314600': 'Peejay Gervacio', '2315000': 'Sapto Raharjo Gamelan Orchestra', '2315200': 'Wild Hairs', '2315400': 'Knut Andersen', '2316600': 'Guilout', '2316800': 'Belit Özükan', '2317500': 'John McKenna (2)', '2317700': 'Hermenegildo L. Torres', '2317900': 'Da Huawa, Da Meier Und I', '2318100': 'AJ Unity', '2318200': 'Les Moby Dicks', '2318300': 'Ricardo Hoseman Und Die Party-Singers', '2318900': 'Ted Knight', '2319000': 'E. Bieber', '2319700': 'Absolute (18)', '2319900': 'Merker', '2320100': 'Pekka Tiilikainen (2)', '2320200': 'Deep Valley Orgasm', '2320400': 'Marco Maccarini', '2320600': 'Alessandro Sbrogiò', '2321000': 'The Globes', '2321300': 'Ricky Slick', '2321400': 'Hye Jin Yoon', '2321500': 'Daniel P. Moynihan', '2321900': 'Георги Кордов', '2322200': 'Linda Solomon', '2322400': 'M.D.G. (3)', '2322500': 'Jörg Reinhardt', '2323400': 'Counterfeit (6)', '2323700': 'Bradford Trojan', '2323800': 'Sanglare', '2323900': 'Trunchbull', '2324800': 'Стефан Димитров', '2325100': 'Ali-Aga Amiraslanov', '2325400': 'Matti Auringonlasku', '2326500': 'Ludwig Dorner', '2326600': 'José Vegas', '2326800': 'Boyd Andersson', '2327000': 'Jackpot (11)', '2327300': 'Cătălin Rotaru', '2327700': 'Jordi Roig', '2328000': 'Pražští Starostové', '2328600': 'Performing Artists At Lincoln School', '2329400': 'The Maât Disciples', '2329800': 'Mario Murschik', '2330300': 'The Wampus Cats', '2330400': 'Daichi Yoshikawa', '2330500': 'Mini Prophets', '2330600': 'The Jazz Entertainers', '2331100': 'DJ Pells', '2331400': 'Sister Chain & Brother John', '2332200': 'Afro Garage', '2332300': 'Bernardo Saraiva Lobo', '2332700': 'Ted Maddox', '2333100': 'S.Box', '2334700': 'Toshihiro Akamatsu', '2334900': 'Robert Wheeler (2)', '2335100': 'pep sala i la banda del bar', '2335300': 'Eyen Kojo', '2335500': 'Elijah Collins', '2335600': 'Rafael Murillo', '2335900': 'Boris Noiz', '2336400': 'Bende Zsolt', '2336800': 'Julie Westlake', '2337200': 'Daniela Langrová', '2337300': 'Obscure Minds', '2337400': 'Вели Мухатов', '2337500': 'Worms Of The Earth (2)', '2338000': 'M. S.', '2338200': 'Morten Larsen (2)', '2338800': 'Born Justice', '2338900': 'Lauren Holly', '2339700': 'Minerals', '2339900': 'Bronco Army', '2340500': 'Conflict Burning', '2341200': 'Ali Woodson', '2341300': 'Karel Žďárský', '2341400': 'No Bueno!', '2342300': 'António Silva', '2342600': 'Sean Leonard (3)', '2342800': 'Sick City', '2343200': 'John Dee (6)', '2343500': 'Jack Rundell', '2343800': 'DJ Rilstix', '2344200': 'Matthias Zosel', '2344600': 'Orchester Alfred Beres', '2344900': 'Józef Kaniecki', '2345600': 'Willi Bössl', '2345700': 'DANSU', '2345900': 'ObHyMon', '2346500': \"Poodles of Nuke 'Em High\", '2347600': 'nhjo hyennro', '2347800': 'Tomáš Procházka (3)', '2348300': 'Strausz Tibor', '2348400': 'The Elephant Band', '2348600': 'Marty Goldstein', '2349400': 'Eric Bauer (3)', '2349500': 'Katrin Souza', '2349700': 'Kempische Metaal Werken', '2350400': 'WeltenSchmerz', '2350500': 'Alberto Balia', '2352200': 'Mahkato', '2352600': 'Ansambl Ljubimci', '2353000': 'Fabysaxe', '2353600': 'Posaunenquintett Berlin', '2354000': 'Flood (14)', '2354400': 'Mariangela R.', '2354900': 'thosepocketsarepeople', '2355600': 'Fernikhan', '2355700': 'O. Væring', '2356000': 'Buck (20)', '2356300': 'Persephone Greulich', '2356400': 'Tracy Carter (3)', '2357100': 'Cy Coleman Jazz Trio', '2357300': 'Virginia State University Gospel Ensemble', '2358200': 'Crucifiés', '2359300': 'Jean Louis Benoit', '2359700': 'F.L.A.K.', '2361400': 'DJ Tearz', '2361800': 'Shanghai Folk Orchestra Of China', '2361900': 'Ramon Carranza', '2362000': 'Uthman Salah Az-Zayani', '2362100': 'Julian Argüelles Trio', '2363400': 'Marco Marazzoli', '2364300': 'Rory Cooney', '2364600': '최재영', '2364800': 'Dann Coakwell', '2364900': 'Roebie Kirk', '2365700': 'Olegris', '2366000': 'Proguru', '2366400': 'Jimmy Sanchez & His Crystal Balls', '2366500': 'Ted Spong', '2366900': 'Josh Minyard', '2367200': 'Leo Majek Orchestra', '2368500': 'ᛘᚢᛚᛁᚿᚵ', '2368600': 'Joe Mode', '2368700': 'DJ Rozz', '2369300': 'David Farquharson', '2369400': 'Les Gluetones', '2369600': 'Billion Stars', '2369700': 'Harriet Reeves', '2370100': 'Tai Ką?', '2370500': 'Steph Fraser', '2370900': 'Baby Pepper', '2371100': 'David Mitchell (14)', '2371300': 'The Boston', '2371700': 'Ray Null', '2371800': 'Martin Dale (2)', '2372000': 'Blasfemia (3)', '2372100': 'Princess Linn', '2372500': 'Mausoleum (6)', '2372800': 'Zone & Friday', '2373000': 'David Heartbreak', '2373100': 'Ebi (7)', '2373200': 'patrick@td03.com', '2373300': 'The 7th', '2373700': 'Ben Drummond', '2373800': 'L.E. McCullough', '2374100': 'General Seven', '2374200': 'Sonic vs. Taste T', '2374300': 'Minot (2)', '2374800': 'Auromichael', '2375800': 'Cool Singers', '2376000': 'Disritmia', '2376300': 'Soundmagus', '2376400': 'Nanni (2)', '2376500': 'Hares', '2377300': 'Through Art', '2377600': 'Yvonne “Dixie” Fasnacht', '2377900': 'Karl Specht', '2378600': 'Jhon Roux', '2379200': 'Walther Colì And His Ensemble', '2379700': 'Annika Söderholm', '2379800': 'Nile River', '2379900': 'Cassie Collins', '2380000': 'Drunk Boys', '2380200': 'William Quills', '2380300': 'La Penta', '2380500': 'Kike (5)', '2380600': 'LòóK Around', '2380700': 'J.Friedberg', '2381100': 'Hector Corpus', '2381400': 'Suicide Bomb', '2381800': 'Mikey Motion', '2382000': 'Harry Chatmon', '2382100': 'Devon (24)', '2382200': 'Mingo Padilla Y Su Conjunto', '2382300': 'suncry', '2382500': 'Carl Hunt', '2383000': 'London Fields', '2383600': 'Workshop (5)', '2383800': 'Fidel Martin', '2383900': 'Hiyamyzo', '2384600': 'Makarti', '2385000': 'Tony Natera', '2385400': 'Richard Darkside', '2385900': 'Yaya (8)', '2386000': 'Kara Öfke', '2386500': 'Robert Ealey', '2387500': 'Fin McAteer', '2387600': 'Olivier Milchberg', '2387800': 'Always Ultra', '2387900': 'Sister Billie Holstein', '2388100': 'Floyd James', '2388200': 'A.K.A. Soulo', '2388500': 'Wait For Nothing', '2388700': 'Voices Of Africa', '2388900': 'Caiiro Foster', '2389600': 'Craig Finley', '2389900': 'Richard Popp', '2390100': \"Abel's Group\", '2390300': 'Disaster (10)', '2391000': 'The Supremes (2)', '2392200': 'The Brunos', '2392400': 'Ufuk Çakır', '2393000': 'Slaine (2)', '2393100': \"The Apollo's (3)\", '2394800': 'Kinnie The Explorer', '2395000': 'Reactant', '2395600': 'Alex Pinana', '2396300': 'Declan Malone', '2396400': 'The Gospel Surfers', '2396600': 'Ruben Mangasaryan', '2396700': 'Vinnie Santino', '2397400': 'Vojtěch Zícha', '2397500': 'Irene Smith (2)', '2398200': 'Manok', '2398300': 'Medianoche', '2398600': 'Vincent (51)', '2399000': 'DJ Flippzy', '2399200': 'The Lyndhurst Rabble Choir', '2399800': 'Quartett Almrose Radenthein', '2400000': 'Jeff Farias', '2400300': 'Kenn Hedegaard Eskildsen', '2400400': 'Barrington Smith', '2400600': 'Patrick Muschiol', '2401300': 'Retròactivity', '2401600': 'DJ Mars Digital', '2402100': 'The Improvisational Arts Quintet', '2402700': 'Ljubiša Marković', '2403100': 'Solidija', '2403400': 'Gérald (3)', '2403600': 'Kip Dubbs', '2404000': 'Damitol', '2404300': 'Kinshi', '2404600': 'Loki Ontai', '2405100': 'Kiss & Run', '2405200': 'Robin Card', '2405500': 'Gabriel Gullian Klanian', '2406200': 'Belinda Van Der Merwe', '2407700': 'Duck Duck Goose (2)', '2407900': 'Jennifer Schot', '2408000': 'Dragan Petrović Pele', '2408200': 'Larry Hernandez (3)', '2408300': 'The Star Gazers', '2408400': 'Pump Da Vibe', '2408500': 'Dead Weight (2)', '2409000': 'Fellows (5)', '2409300': 'Ali Benjamin', '2409400': 'Furtherset', '2409600': 'Отряд Джона В Окружении', '2409800': 'Los Dourados', '2409900': 'Paroxysm (2)', '2410200': 'Agenzia Marka', '2410600': 'Luis Miguel Bugallo Sanchéz', '2411000': 'The Omission', '2411800': 'Richard Innes', '2412100': '3 Bu', '2412300': 'John Mitchell (16)', '2412500': '3 Faces Connexion', '2412800': \"D'Manti\", '2413000': 'Loranas Gadeikis', '2413300': \"Netherlands Children's Choir\", '2413700': 'Zia Modabber', '2414000': 'Expulsion (3)', '2414500': 'Desechos', '2414600': 'Dave Chai', '2414700': 'Caligula (5)', '2414800': 'Charlie Ross Quartet', '2415200': 'Eirik Myhr', '2415500': 'Xandro Leima', '2415600': 'Legion Of Slugs', '2415700': 'Giovanni Seneca', '2415900': 'Lazarus (10)', '2416100': 'Palindrone (2)', '2416200': 'Jessica Jalbert', '2416300': 'Tesa34', '2416800': 'KARRIER', '2416900': 'Michel Herr Trio', '2417000': 'Lee Thomas (3)', '2417100': 'Bryan Hemming', '2417800': 'Jean-Pierre Surimeau', '2419200': 'Wrocławskie Skowronki Radiowe', '2419700': 'Fuck Simile', '2419900': 'Sleeping Cables', '2420000': 'George Sound', '2420200': 'Thomas Kent', '2420300': 'Maeva Oyono', '2421000': 'Preesens', '2421100': 'Stalwart Sons', '2421300': 'Scum (22)', '2421400': 'Rejected (5)', '2421900': 'Satô Masakazu', '2422700': 'White Owl Brown', '2423000': 'Casey Chrisman', '2423300': 'Mike Viola Alliance', '2423400': 'Alius (7)', '2423700': 'Gary Milne', '2424100': 'Tùng Dương', '2424500': 'Zoe VanWest', '2424600': 'Alu Cash', '2425400': 'Sam Redman', '2425500': 'Garra Brasileira', '2425700': 'Mivalki', '2426200': 'Ousmane Keita', '2427000': 'Foehnmephys Occultus', '2427500': 'Wordlum', '2427700': 'Analthrone', '2428200': 'Jeremy Lee Given', '2428400': 'Phoenix (48)', '2428600': 'Cheerleader (3)', '2428700': 'Deaf Club', '2429200': 'Michel Bayan', '2429500': 'Paul Slagle Design', '2429900': 'Edelweiss (4)', '2430500': 'The Carlos Brothers', '2430800': 'Agustin V. Casasola Trust', '2431000': 'JMP (5)', '2431200': 'Orchester Heinz Schönberger', '2431300': 'Gerda Ristl', '2431700': 'Eddie Cotton', '2431900': 'Fort Nassau', '2432300': 'Flashmen (3)', '2432700': 'Αχιλλέας Ευαγγέλινος', '2433500': 'Васко Абаджиев', '2433700': 'Ashemim', '2433900': 'Juro Tkalčić', '2434200': 'Thundering Dragon Percussion Group', '2434300': 'Objektiv One', '2434400': 'Frances Burr', '2434900': 'Chuggy Carter (2)', '2435300': 'Pompas Funebres', '2435900': 'Ramon Gonzalez (2)', '2436100': 'Reserve 34', '2436200': 'Critical Mass (13)', '2436700': 'Metzo Djatah', '2436900': 'Ελένη Τσαγκαράκη', '2437400': 'Self-Interest', '2438100': 'Hajen (2)', '2439000': 'Chris Hall (16)', '2439300': 'Paul \"Boomer\" Stamp', '2439700': 'Eldon Rice', '2439900': 'Werner Meier', '2440400': 'DJ Wilkinson', '2440900': 'Dexter Spinna', '2441100': 'DJ Tu-Ki', '2441900': 'Le Grand Manège', '2442400': 'Ελίνα Παπανικολάου', '2442800': 'Eddy Thrower', '2443000': 'Nigel Bennett (2)', '2443600': 'Mariel Dzy', '2444000': 'Disseriph', '2444200': 'Chris Jercha', '2444500': 'Guerrilha', '2445200': 'Inner Space (5)', '2445500': 'Cyndies', '2445900': 'Roly Leopold', '2446200': 'Joey 2 Bunn', '2446400': 'Lyrics Morris', '2446500': 'John Siddique', '2446800': 'Elvert Under Ground', '2447100': 'Linda Kerr Scott', '2447400': 'Гипоталамус', '2447500': 'Das Heeresmusikkorps 7', '2447600': 'Ivalys', '2447700': 'Stilla', '2447800': 'Shingo Mochino', '2448000': 'Phil Olson', '2448100': 'Tony Bass Y Su Orquesta', '2448800': 'Etherial Grief', '2449200': 'Птомаин', '2449300': 'Frau Anke', '2449600': 'LadyBabyMiss', '2449800': 'JD Meatyard', '2450200': 'Sover Group', '2450700': 'Camilo Fernández', '2450800': 'Alba Solís', '2451600': 'Felix Dolan', '2452400': 'Illy (2)', '2452900': 'Hellish (2)', '2453700': 'I Watched You Die', '2454800': 'Citizens Unrest', '2455000': 'Ryan Perry', '2455100': 'Regimes', '2455200': 'The Berenstain Bears', '2455300': 'Angelo Boffelli E Il Suo Complesso', '2455500': 'Σοφία Παπαδοπούλου', '2455700': 'Nada Rocco', '2455800': 'Bat Kinane', '2455900': 'The Torpoons', '2456100': 'J. Cloth', '2456900': 'Apeface (2)', '2457000': 'Eli Lishinsky, Al Perrotta, David Bianco, Danny Lapidus', '2457500': 'Edgar Ferreira', '2457700': 'Mühlbachtrio', '2458200': 'The Hazeltones', '2458600': 'Giorgio Gaslini Proxima Centauri Orchestra', '2459100': 'Generación Espontánea', '2459600': \"Nar'Chiveol\", '2460100': 'Camerata Dei Laghi', '2460300': 'Watson (11)', '2460600': 'Макс P.M.', '2460700': 'Christian Morigann', '2460900': 'Николай Копылов', '2461000': 'Le Sorelle', '2461400': 'Ugli (2)', '2461500': 'Rafael Castro', '2461700': 'Moscow Wires', '2462000': 'Tamo-Flage', '2462300': 'Les Cook', '2463100': 'Mike Rose And The Colours', '2463200': 'Mt. Delicious', '2463400': 'King Saul (2)', '2463700': 'Ben (142)', '2463900': 'Frankie Sardo', '2464100': 'Sublime Taste', '2464300': 'Angelo Giacomazzi E Il Suo Complesso', '2464400': 'Jean-Louis Pisuisse', '2464600': 'Jung Hwan Park', '2464700': 'Huib Snijders', '2465200': 'Mopsiga Barn', '2465800': 'Cult Image', '2466300': 'Isabelle Chomet', '2466400': 'I Vagabondi Della Verità', '2467000': 'The Diamonds (8)', '2467300': 'Los Ajustadores', '2467400': 'Les Maîtres Du Mal', '2467600': 'Guy Gappu', '2467700': 'Ambyans Badlasous', '2468000': 'Stefano Twins', '2468200': 'Paradiso (9)', '2468500': 'Harvey Blanks', '2469300': 'Filippo Tirincanti', '2469500': 'The Blacksmith', '2469700': \"Ja'zie\", '2469800': 'Judy Woodworth', '2470200': 'Scott Conner', '2470300': 'Dj Fonzie Ciaco', '2470400': 'Grindcrusher', '2470800': 'Generacion 2000', '2471100': 'Abarax', '2471200': 'Ιωάννης Χονδρογιάννης', '2471400': 'Ansambl \"Stari Zagreb\"', '2471700': 'Bobby LLoyd And The Windfall Prophets', '2472700': 'Lister Carol', '2473000': 'Spirit Of Smokie', '2473200': 'Ellie (15)', '2473500': 'Still Pictures', '2474500': 'Krieg (7)', '2476100': 'Doo The Moog', '2477400': 'Teachers', '2477600': 'Old Fashioned Oyster Crackers', '2477700': 'GARY BEMORE', '2477900': 'Susanna Stivali', '2478100': 'Les Concerts du Monde', '2479000': 'Miroslav Grčev', '2479600': 'Áillohaččat', '2479700': 'Cocktopussy', '2480800': 'Andrew Cross (3)', '2481200': 'B2ST', '2481300': '3DD', '2481700': 'Dom Snów', '2482100': 'Saga (19)', '2482200': 'Toast (13)', '2482300': 'Re-Mono', '2482400': 'Belle (9)', '2483600': 'Caroline Day', '2483700': 'Laura Esquivel', '2483800': 'Ambivalence (4)', '2483900': 'Raw Yak Meat', '2484100': 'Tommy Trousdale', '2484200': 'Sissa (2)', '2484500': 'Hein Braat', '2484700': 'Nino Carlos & Family', '2485100': 'Drew Keriazes', '2485300': 'Anssi Haikarainen', '2485700': 'Moon Officer', '2486000': 'Jacques Barouh', '2486100': 'Honeymoon Flowers', '2486200': 'Pekka Niskan Pojat', '2487100': 'Ika Vidèn', '2487900': 'Τζούλια Σουγλάκου', '2488000': 'Grow Weaker', '2488100': \"Tommy Martin & The XL's\", '2488200': 'Sung Yull Nah', '2488400': 'Liliana Tomescu', '2489500': 'Short Cross', '2489700': 'Παπαργύρης Αθανάσιος', '2490100': 'Mariella (4)', '2490200': 'Techi', '2490500': 'Kaula', '2490600': 'Armand Haye', '2490900': 'Παιδική Χορωδία Εκπαιδευτηρίου Τσούμανη-Κορίλλη', '2491200': 'Martina Eisenreich', '2491300': 'Patho (2)', '2491600': 'Brian Wong (2)', '2491900': 'White Swan', '2492700': 'Jonas Breum', '2493000': 'Van Otrega', '2493200': 'The Amelia Smile', '2494700': 'FTP', '2495100': 'Gerhard Bickl', '2495300': 'M.C. Rob D', '2495500': \"Toozy's\", '2495800': 'Juozukas Ir Draugai', '2496200': 'Zé Viola', '2496700': 'High Grade', '2496900': 'Identité X', '2497800': 'Martine Groulx', '2498400': 'Mach Fly Blownaparte', '2499100': 'Vanessa Fanroth', '2499200': 'Tatsuya Shinogami', '2499400': 'Marvin Ruffin', '2500300': 'Kapelle Hans Dörig', '2502100': 'Blue Picasso', '2502400': 'Monica Janssen', '2503400': 'Lyle (3)', '2503900': 'Allan Andrews', '2505400': 'Willi Sogno', '2506400': 'Barbarian (5)', '2506500': 'Arek Foszcz', '2506800': 'Μιχάλης Λιαγούρης', '2506900': 'Seidensticker & Salour', '2507100': 'Rob Findlay', '2507500': 'Steve Booke', '2507900': 'Theres Schmid', '2508300': 'FaZe Exile', '2508700': 'Sleepbringer', '2509100': 'Matt Byron', '2509200': 'Constantine P', '2509300': 'Evangelia Laoutaris', '2509600': 'Los Carottos', '2509700': 'Last Of England', '2510000': 'Bop Baroque', '2510600': 'The Lochies', '2510700': 'Stefano Reali', '2510800': 'Acid Kicks', '2511100': 'Ellen Omdal Milsom', '2511300': 'Melvin Wine', '2512300': 'Annie Nobel', '2512800': 'Rolf Johansson (2)', '2513400': 'Kuzyn (2)', '2513500': 'Plan 9 (9)', '2513600': 'Talkie Walkie', '2513700': 'Emeraude', '2513900': 'Trenora Parker', '2514000': 'Mysterell', '2514200': 'Goldenchy', '2514900': 'Dugg (2)', '2515100': 'Martin Ebis', '2516900': 'I Campanino', '2517100': 'Stresscase', '2517300': 'Isaac Lin', '2517400': \"Andrea D' Alessandro\", '2517600': 'The Goats (2)', '2518000': 'Georges Aubin', '2518200': \"L'Ordre du Temple\", '2518700': 'Martin Nilsson (5)', '2518800': \"Ember's Flame\", '2519500': 'Pal+', '2519700': 'Smith & Burrows', '2519900': 'Deneb (2)', '2520500': 'Claudia (48)', '2520900': 'Άσπα Τσίνα', '2521300': 'Liem', '2521500': 'Svarta Photography', '2521800': 'David Leo Carroll', '2522000': 'Marie Velasquez', '2522200': 'Bobby Taylor (6)', '2522600': 'Sons Of Secret', '2522700': 'The Dalai Lama Horns', '2523000': 'Family Values (2)', '2523600': 'Elisabetta Niccolini', '2523900': 'Jürg Voney', '2524100': 'Kheyre Yusuf Abukar', '2524400': 'Cheers To A SlamPig', '2524500': 'Marcello Caminha', '2524900': 'Tina And Thilo', '2525000': 'Debra Manskey', '2525300': 'International Peace Choir', '2526000': 'Thorn (20)', '2526200': \"Willie Welch's Band\", '2526500': 'Susanne (14)', '2526600': 'Skinflint (3)', '2526700': 'Don Juan Tenorio', '2527300': 'Poil', '2527500': 'Richard Cameron-Wolfe', '2528100': 'Mandy Wragg', '2529200': 'Phylum Child', '2529600': 'Markham & District Colliery Band', '2530100': 'Dennis Eggers', '2530300': 'Frantz Lemsser', '2530600': 'Жесткач', '2530900': 'One Thin Dime', '2531000': 'AverMax', '2531300': 'Myrrh (2)', '2531800': 'Krump', '2532000': 'Salon Vaijerit', '2532100': \"Ne' Richa\", '2532800': 'Pierre Audédat', '2533100': 'Jaron And The Long Road To Love', '2533600': 'Tommy Wreck', '2534400': 'Dad Raimond', '2534500': 'Leslie Beacon', '2534800': 'Jocelyne Laberge', '2534900': 'Curt Cress Combo', '2535000': 'Spirits (7)', '2535600': 'Burnibus', '2536500': 'Madface (2)', '2536800': 'Ree Morris', '2537300': 'Serhio Vegas', '2537500': 'Danielle Langston', '2537600': 'Deprivation (2)', '2538100': 'Taco Van Huizen', '2538300': 'Vaulting', '2538400': 'Daan Liebregts', '2538600': 'Guayaba', '2539000': 'Marimba Chapinlandia', '2539400': 'The Trumpets Of Joy', '2539800': 'Inudibili', '2540100': 'Reasonable Guys', '2540700': 'Mark Jablonski', '2541300': 'Tito Hernandez', '2541400': 'The Freebooters', '2541700': 'Gaetano Besana', '2542100': 'Jo Stahl', '2542600': 'Various artists*', '2543000': 'Gary Shaw (2)', '2543400': 'Felipe Suau', '2543500': 'Johnny Shepard', '2543700': 'Walter Günther Und Sein Streichorchester', '2543800': 'Lorraine Maenza', '2544300': 'Carlos Beltran', '2545000': 'Sundown (7)', '2545200': 'Francesca Casellati', '2545300': 'Pamela (12)', '2546100': 'Nogge (2)', '2546800': 'Gnitch:Gnitch', '2546900': 'Dan Adamson', '2547100': 'Crook$', '2547700': 'Beneficjenci Splendoru', '2547800': 'Jacques Paradis', '2547900': 'Enhanced Vision Project', '2548300': 'Aline Simone', '2548600': 'Down Home Blues Band', '2548800': 'Pale Blue Jak', '2549800': 'Moms (2)', '2550200': 'Alcatraz (15)', '2551200': 'Nethy', '2551400': 'Rémi et les Chantels', '2551500': 'Tara Yokoo', '2551800': 'Gary Gritness', '2552300': \"De'sire\", '2552400': 'Hank (18)', '2552500': 'Geoffrey Shaw (2)', '2552600': 'Red Collar Boy', '2552800': 'Annette Überhorst', '2553200': 'Wilcox (3)', '2554100': 'teaeffess', '2554300': 'Henri Richard', '2554400': 'N. Sphinx', '2554500': 'Okukuseku International Band Of Ghana', '2554600': 'Michael Branch (2)', '2554700': 'Bird Calls', '2556000': 'Niko Deck', '2556500': 'The Arkangels', '2557700': 'Bennie Ludemann', '2558100': 'Die Oberkrainer Musikanten', '2558400': 'Nature (19)', '2558500': 'Анастасия Вяльцева', '2558600': 'Bobi Mrak', '2558700': 'Rimmersgard', '2558800': 'Floral Picture', '2558900': 'Maximilian Schriever', '2559200': 'Giuseppe Rutigliano', '2559300': 'Sensorry', '2560900': 'I Menestrelli Della Canzone', '2561000': 'Blåeld', '2561100': 'Rudy bonin', '2561200': 'i8it', '2561500': 'The Royal Heirs', '2561700': 'Nick Senecal', '2562300': 'Tanikawa Megumi', '2562500': 'Juke (4)', '2562600': 'Adelit@s', '2562700': 'Sashi', '2562800': 'View From Everest', '2562900': 'Andrea Lindsay', '2563000': 'Fashanu', '2563200': 'Love Cyrcle', '2563900': 'Boom Box (6)', '2564100': 'Red Red Ruby', '2564200': 'Banda San Antonio', '2565100': 'Sandra Chlevickaitė', '2565400': 'Joe Keady', '2565600': 'Violeta Dumitru', '2565800': 'Serial Loser', '2567100': 'Umberto Cannone', '2568500': 'Grandsinister Ice', '2569000': 'Twisted Loyalties', '2569100': 'Karen Spence And Friends Of Bluegrass', '2569800': 'M-Way', '2569900': 'Black Jack Le Groove', '2570000': 'Poul Jørgensen', '2570300': 'Waaler Design', '2571200': 'Tokar (2)', '2571400': 'Mizontiq', '2572600': 'Solferino', '2572700': 'Pestilência', '2572800': 'Goodbye Fairbanks', '2573100': 'Billy Phillips (4)', '2573200': 'The Northwesterners', '2573400': 'The Bix Bigler Band', '2574000': 'Everywhere Kingdom', '2574100': 'The Bree Van De Kamps', '2574500': 'Dhismâ', '2574600': 'Sonoko Yoshida', '2574800': 'Audrey Butler', '2575100': 'Vijaya Bhaskar', '2575200': 'Anzor Uzorov', '2575400': 'Vox Interium', '2575600': 'Проспект 69', '2575800': 'Grndntl Brnds', '2575900': 'David Rampy', '2576000': 'Maria Teresa Botti', '2576200': 'Gadzho', '2576300': 'Ernest Kanitz', '2576500': 'Rich Show', '2577300': 'Black Fate', '2577500': 'Atomic Brains', '2578700': 'The Falus Boys', '2578800': 'Secuencia Luminal', '2579000': 'Saluti Da Saturno', '2579100': 'Dimitr Ouzounov', '2579300': 'Kami (6)', '2579700': 'Marc Moro', '2579800': 'Exventer', '2579900': 'Bluem', '2580900': 'Sleep Spindle', '2581000': 'The Hunger Mountain Boys', '2581300': 'George Dawkins', '2581600': 'Adrien Kanter', '2583100': 'Brenjo', '2583300': 'Eolomea', '2583500': 'Maika Sitté', '2584100': 'Latin Quartet', '2584300': 'Captured! By Robots', '2584500': 'Atila (4)', '2584900': 'Kewdy De Los Santos', '2585000': 'Israel Galván', '2586100': 'Nora Naughty', '2586400': 'Wolfgang Lukschy', '2586500': 'Arizona (8)', '2586700': 'Квартет Леонида Гарина', '2587000': 'Jason Chuang', '2587500': 'Kultra', '2588100': 'Flame The Fire', '2588200': 'Prophet G. Lusk', '2588500': 'Anderson Counsel', '2588700': 'Bernat Fayos', '2588900': 'Frédéric Becker', '2589200': 'Zayd Malik', '2589300': 'Howard Duff', '2589500': 'Nutty (4)', '2590100': 'Sons Of Mr Green Genes', '2590200': 'Kay Karol', '2590400': 'Cringe (4)', '2591400': 'Мураджон Ахмедов', '2591900': 'Doris Woo', '2592100': 'Serge Gratton', '2592400': 'Wiggy Symphony', '2592800': 'Mega Games', '2592900': 'Rita Cadillac (2)', '2593400': 'Doop & The Inside Outlaws', '2593600': 'MC Mega', '2593800': 'Murax', '2593900': 'Renato Baldi', '2594400': 'Karsten (9)', '2595600': 'Casque', '2595700': 'Twen Bumbs', '2595800': 'Line (8)', '2595900': 'Alicia & Nubes Grises', '2596100': 'Christian Fau', '2596500': 'X-Prays', '2597000': 'Suresh Tawalkar', '2597200': 'Piss Drunks', '2597700': 'Surfer Joe', '2597800': 'Reverberati', '2598100': 'Terry Schmitt', '2598800': 'Melds', '2599000': 'Eden (45)', '2599300': 'Shellcase', '2599400': 'The Temple University Orchestra', '2599500': 'Ivan Milijić', '2599700': \"So 80's\", '2599800': \"Jason O'Toole\", '2600200': 'WTF!!1', '2600600': 'Rad Van Cor', '2601600': 'Tryss (2)', '2603200': 'Ivan Godnič', '2603500': 'Poema (2)', '2603700': 'Seydou Zombra', '2604100': 'De To Amigos', '2604500': 'Oleksandr Nesterov', '2605300': 'Sunny Day Roses', '2605500': 'Elisabeth Batiashvili', '2606100': 'Edaline', '2606300': 'Tina Y Tesa', '2606800': 'Nat Newborn Big Time', '2606900': 'Unforgiven (2)', '2607200': 'Xison', '2607600': 'Collegium Musicum Chamber Orchestra', '2608000': 'Fear Of The Deep Blue', '2608100': 'Dominique Dussault', '2608200': 'Elie Afif', '2608400': 'Bob Carpenter (3)', '2608500': 'Billions', '2608600': 'Ocular Gymnastics', '2608900': 'Twin Beds', '2610000': 'Sodomize Me', '2610400': 'Siva Linga', '2610600': 'Tailfeather', '2610800': 'The Broken Colours', '2610900': 'Dubstructor', '2611000': 'De Blokskes', '2611100': 'Jessica Tander', '2611500': 'Charlie Flowers', '2611900': \"Silt Of The Sphynx's Tor\", '2612000': 'Iller Instinct', '2612100': 'Tenth Cloud', '2612300': 'Biggy Ranks', '2613300': 'Unidos', '2613500': 'Nellie Dean', '2613700': 'Efrat Zion', '2614300': 'Reffer', '2614400': 'Κύνοι & Κόνικλοι', '2614600': 'Miki Vlahovič', '2614800': 'Double Fudge', '2614900': 'Hiko Kramer', '2615100': 'Cadillac George Harris', '2615200': 'The Serfs (3)', '2615500': 'Pohetikut', '2616400': 'IA (3)', '2617100': 'Execration (2)', '2617200': 'Los Soñadores', '2617300': 'Maiantech', '2618000': 'Erich Thelemann', '2618200': 'Their Royal Highnesses', '2618400': 'Gibson Bull', '2618500': 'Ken Dowsing', '2618700': 'Anouk (8)', '2618900': 'Football Stars', '2619000': 'Richard Hovey (2)', '2619200': 'MUSICA-NOVA-Chor Regensburg', '2619400': 'Janina Bukantaitė', '2619900': 'Hired Hands', '2620200': 'Miguel Bernal Jiménez', '2620300': 'Nebraska (2)', '2620600': 'Bonn Better Know', '2620700': 'Happy Going Nowhere', '2620800': 'Kay Chandler', '2620900': 'Dane Kenny', '2621500': 'Zsarátnok', '2622000': 'Wilfred Guillette', '2622200': 'Phonogram (3)', '2622600': 'The Trinity Faith Tabernacle Choir', '2623900': 'Don Austin (2)', '2625000': 'Polly Tulloch', '2625300': 'Charles Knight (4)', '2625500': 'Life After Weekend', '2625800': 'Андрій Бобир', '2626300': 'Shorty Perry', '2626500': 'Aaron Snapes', '2626800': 'Nasty Boom', '2627100': 'Neurosesick', '2627600': \"5 King's\", '2627800': 'Vincent DeRubertis', '2628200': 'Cocktail Girlz', '2628400': 'Siding Summer', '2628800': 'John Chipman', '2630100': 'Ulytau', '2630200': 'Robert Verebes', '2630700': 'W/w/o', '2631100': 'Sara Grey', '2631600': 'Chucc Nut', '2631900': 'Accountants', '2632300': 'Thelonious Monk (2)', '2633000': '\"Πολιτεία Β\\'\" Orchestra', '2633200': 'Helios Triba', '2633400': 'North Coast Bad Boyz', '2633500': 'Twin Realities Dreamers', '2633800': 'Preston Sandiford Orch.', '2634000': 'Dub Shiloh', '2634500': 'The Vinyl Gibbon', '2634600': 'Gabba Gabba Heys', '2634700': 'Jeff Southard', '2635200': 'Haircut Massacre', '2636100': 'Carlo Marzaroli', '2636200': 'Dragan Kojić Kole', '2636500': 'Thee American Revolution', '2636600': 'Carioca (6)', '2636700': 'Atlantica (3)', '2637000': 'Mystic Noise', '2637100': 'Karen Lusby', '2637200': 'RK Edits', '2637400': 'Inertia (15)', '2637700': 'Diana Johnstone', '2637800': 'Ulli Pfarr', '2638500': 'kenneth_lay', '2639000': 'Ya Tosiba', '2640300': 'Inner Rage', '2640500': 'King Elsy', '2640800': '2 Reezone', '2641300': 'Espermatozombies', '2641700': 'Jean-Louis Bompoint', '2642100': 'Tom Stoppard', '2642400': 'Postkarte', '2642600': 'DJ sG4rY', '2643400': 'Ziggy (32)', '2643600': 'Toni Redd', '2644200': 'Ciarán Ferrie', '2644400': 'Ninja (18)', '2644500': '3rd Faze', '2645200': 'Gil Rose & Les Hydropathes', '2645500': 'Евгений Пехтерев', '2645600': 'Arlan Greene', '2645800': 'Mimi Oh', '2646000': 'Greg Hunter (2)', '2646700': 'Touch Is Automatic', '2646800': 'Edo Bertoglio', '2647000': 'Machiavellian', '2647200': 'Entrenched', '2647400': 'Honeystone', '2647900': 'Tony Crombie And His Men', '2648300': 'Gene & Freddie', '2648600': 'Man One (2)', '2648700': 'Ollie V', '2649000': 'Mario Feliciani', '2649100': 'Groover (4)', '2650100': 'Aziz Deniz Babaoglu', '2650400': 'Big Mo Recording Services', '2650500': 'Enaune', '2650800': 'Blood By Dayz', '2651100': 'Axxion Pack', '2651200': 'The Attractive Female Twins', '2651400': 'Marianna Allen', '2651500': 'Boogie (13)', '2651700': 'Dactyl', '2651800': 'Dange', '2651900': 'Skin The Pig', '2652300': \"Joe O'Brien\", '2653100': 'Futureduck & Company', '2653700': 'Michael Ketterer', '2653800': 'Shock (20)', '2654100': 'Cappa (2)', '2654700': 'Ozone (22)', '2655000': 'Klaas Boersma', '2655200': 'Isidore Blank', '2655400': 'Xavier Elies', '2655800': 'The Renaissance (2)', '2656300': 'Adrian Acia', '2656600': 'Oppugno', '2656900': 'DBL (4)', '2657000': 'Madcaps (3)', '2657200': \"Áine O'Dwyer\", '2657500': 'Stapler (4)', '2657700': 'Turned Out', '2659000': 'Unfashion', '2659200': 'Michael John Warren', '2659400': 'Code Name No Name', '2659500': 'The Lemon Squeezers', '2659600': 'Jan De Roode', '2660800': 'Westpier', '2660900': 'Death Of A Cheerleader', '2661500': 'Tim (80)', '2661700': 'Maria Schneider (2)', '2661900': 'Ace And The Eights', '2662000': 'John Melnick', '2662100': 'The Good Samaritan Brothers', '2662500': 'The Herndon Chorale', '2663000': 'Stefano Boschin', '2663300': 'Cognitive Dissonance', '2663500': 'Twice As Eager', '2664300': 'Cold Passion', '2664500': 'Singing Zaro', '2664600': 'Wallace Smith', '2665800': 'Cy - Shem', '2666000': 'Smötsiga Höndar', '2666200': 'Mario Cenci E La Sua Orchestra', '2666300': 'S.Y.N.E.R.G.Y', '2666500': 'Craig Parks', '2666900': 'The Valentinos (4)', '2667000': 'The Capones (2)', '2668000': 'Collin McGregor', '2669000': 'Montezuma (2)', '2670000': 'The Existentialists', '2670200': 'Troy Brady', '2670300': 'G.E.C.K.', '2670500': 'MIDI K84', '2670800': 'Giuseppe Toffanin', '2671500': 'Diane Kastelic', '2671800': 'BBI', '2672000': 'Alberto Pinto Latin Band', '2672200': 'Bill Mulholland', '2672300': 'Daire', '2672500': 'Paul Veth', '2672700': 'Regina Bittová', '2672800': 'Flags Will Cover The Coffins', '2673400': 'Bette Laine', '2673800': 'Dave Lippman', '2674000': 'Χρήστος Ραφαηλίδης', '2674300': 'Vojislav Stanišić', '2674700': 'Florence Nobel', '2675100': 'DJ Pilas', '2675600': 'Paul Morris (16)', '2676000': 'Tommy Nelson (2)', '2676500': 'Massimo Pezzera', '2676600': 'Xeque Mate', '2676700': 'Molten Lava', '2677300': 'Brandthoudt', '2678000': 'Nathan Peterson', '2678400': 'Jaap ter Haar', '2679000': 'Maria-Elena Pacheco', '2679300': 'Soldiers Die Saints', '2679400': 'Mr. Def', '2679600': 'Suzy K.', '2680400': 'Xanadu (10)', '2680500': 'Mau5hax', '2680600': 'Alex P. I.', '2680800': 'Богомил Гюрков', '2680900': 'Roberto Parra', '2681100': 'Janice Bain', '2681800': 'Bare Endnu En Mathies', '2682000': \"T'Angelo\", '2682300': 'Jacques Aubert (2)', '2683000': 'Zebra Mono', '2683100': 'Dan Baird And The Sofa Kings', '2683300': 'Sadicomix', '2683500': 'Eli Litwin', '2683900': 'Bob Cribbie', '2684200': 'Bluestone (2)', '2685400': 'Bob Hannon', '2686000': 'Rameez', '2686100': 'Pastafasta', '2686400': 'Alessandro Melchiorre', '2686500': 'Zielichowski', '2686600': 'Black Hype', '2686900': 'George Sibanda', '2687300': 'Vehicle (7)', '2687400': 'Il Complesso', '2687500': 'Babette Labeij Zangschool Amsterdam', '2687900': 'Le Theatre De Dix Heures', '2688600': 'Ernest Skipper With Flag And The Boys', '2689100': 'Jonny Butler', '2689200': 'Paul Adams (8)', '2690200': 'Die Oklahoma Boys', '2690500': 'Gilles Léveillé', '2691000': 'Ippe Kätkä Band', '2691600': 'Gernot Rath', '2691900': 'The Shades Of Blue', '2692000': 'Standhard3io', '2692500': 'Matilda (6)', '2692600': 'Vanni Pule', '2692800': 'Enrico Terragnoli Orchestra Vertical', '2693000': 'Reklews', '2693100': 'Jimmy Ziegler', '2693300': 'The Lonely One', '2693400': 'Brian Jackson (7)', '2693600': 'Felix Bandit', '2693800': 'Heap', '2693900': 'Janis Lee Burns', '2694200': 'The Dying Game Theory', '2694400': 'Romane Acoustic Quartet', '2694800': 'Dutch Dimension', '2695500': 'Jowee Omicil', '2696200': 'Robbin Valentine', '2696700': \"The 1, 2, 3, 4's\", '2696800': \"Wilson's T.O.B.A. Band\", '2696900': \"Sweet N'Tender Hooligans\", '2697600': 'Allan Vizents', '2697800': 'Technomadaire', '2698100': 'Mikel Garcia', '2698300': 'Raúl (5)', '2698900': 'Azizcan', '2699000': \"Papa Ko's Jazzin' Babies\", '2699400': 'Crispy (10)', '2699800': 'Sylvain Fusée', '2699900': 'Scrotal Hernia', '2700000': 'Evelyn Nallen', '2700100': 'Montex', '2700300': 'Pull To Open', '2700500': 'The Beach Boys (2)', '2701100': 'Bumbum Biggalo', '2702100': 'Marie Staggat', '2702600': 'Len Handler', '2703700': 'Driftwood (10)', '2703800': 'Viky-But', '2704100': 'Les Satanik', '2704300': 'Willem M. Roggeman', '2704800': 'Denise (22)', '2705200': 'Tishawn \"Go2man\" Gayle', '2705600': 'Lenzki', '2705700': 'Sultan (8)', '2706100': 'Alf Brooks', '2706200': 'John Andrew Lay', '2706400': 'Western Eyes', '2706600': 'Kenichi Sawa', '2707000': 'C#', '2707100': 'Staring Problem', '2707300': 'Raphael Tomlinson', '2707400': 'Zemunski Gudački Kvartet', '2707700': 'Martin Lukins', '2707800': 'Corky Bennett', '2708300': 'New World (10)', '2708500': 'M. Del Cid', '2708700': 'Thumbs Up', '2708900': \"GruuvElement's\", '2709100': 'Inaky Garcia', '2709400': 'Misura Larga', '2709600': 'Yuval Waldman', '2710000': 'Tobi Kriesbach', '2710100': 'Herrmann Ball', '2710800': 'Calvin Romance', '2710900': 'Bong (6)', '2711400': 'Mosta', '2711700': 'GrindCrusher (2)', '2712600': 'René Muthert', '2712700': 'Kalle Kaskinen', '2713100': 'Pecker (4)', '2713200': 'Romeo And The Language', '2713700': 'One Track Mind (4)', '2713800': 'Hemorrhoids', '2714000': 'Jules Ottavy', '2714500': 'Ángela Peralta', '2714600': 'Wolfman (13)', '2714800': 'Joseph Paratore', '2715000': 'Έγχρωμο Γάλα', '2716000': 'Zooky', '2716100': 'John Chipman (2)', '2716200': 'The Gliding Clerks', '2716300': 'Christoph Stradner', '2716400': 'Alter Nature', '2716900': 'Jaiden (2)', '2717100': 'EnaWadan', '2717200': 'Sacramentskoor Breda', '2717900': 'DJ LaGaRtInHo', '2718100': 'Roi Peled', '2718500': 'Tough Enough', '2719000': 'Stoics (2)', '2719300': 'Gobi (2)', '2720100': 'Rudder (2)', '2720200': 'Michael Canno', '2721000': 'Duke And His Jamaica Five', '2721200': 'Sunrise (25)', '2721600': 'Elke Abts', '2722800': 'Julia Adams', '2723400': 'David Kelly (13)', '2723600': 'Pirjo Kämppi', '2723800': '2.000 Voltios', '2724600': 'Modelo De Respuesta Polar', '2724900': 'Dear Prudence', '2725600': 'Erhard Becker (2)', '2725900': 'Kjersti Solbakken', '2726100': 'Systematik (2)', '2726200': 'Rods', '2726300': 'Monique Pierrot', '2726800': 'Narifumi Fujiwara', '2726900': 'Leena Ojala', '2727000': 'Camilo Ernesto Molina', '2727200': 'Rheta Hughes', '2727800': 'Win Bent', '2727900': 'Mukesh Baboolall', '2728100': 'Ginger Lynn Gosney', '2728200': 'Bereft (3)', '2728500': 'Vee (13)', '2728700': 'Joel Stratton', '2728900': 'Simone Ciccio Ravasi', '2729800': 'Jools (5)', '2730100': 'Hugo Brassard', '2730300': 'I Fratelli Di Abraxa', '2730400': 'Howl The Good', '2731900': 'Mark Chichkin', '2732000': 'Les Pistolets Roses', '2732300': 'Monika Mattiesen', '2733300': 'Bane (13)', '2733600': 'Daniel John Martin', '2734100': 'Damiano Cz', '2734200': 'Hors Sujet', '2734300': 'Crom (8)', '2734600': 'Μαντολινάτα Νίκου Τσιλίφη', '2734800': 'Καίτη Επισκόπου', '2734900': '\"The Burning Train\" Chorus', '2735300': 'Marija Orčić', '2735400': 'Killa-C', '2735600': 'Reps (4)', '2735700': 'Overlord (13)', '2736100': 'Consent', '2736400': 'Grant Smith (8)', '2736800': 'Les Chats Perchés', '2736900': 'Bobbie', '2737400': 'Supersillyus', '2738000': \"The 'Harris' Goodband\", '2738700': 'Atma Vichara', '2738900': 'Bloodbird', '2739300': 'Sebastian Buccheri', '2739400': 'Imani (8)', '2739800': 'Ambcyopians', '2740100': 'The Almost Brothers (3)', '2740400': 'Asmodeus (18)', '2741000': 'Monoranjan Sreemani', '2741600': 'Battle!', '2741700': 'Days Divide', '2742000': 'Der Polizeichor Duisburg', '2742300': 'Snotty Cheekbones', '2742700': 'Stress (76)', '2743300': 'Tengokuplanworld', '2743900': 'Maniac Bone', '2744100': 'Charlie Rivel', '2744300': 'Powder (10)', '2744700': 'Tuniko Goulart', '2745000': 'Tim Peters (2)', '2745400': '細胞文学', '2745600': 'John Huldt', '2745700': 'The Farm Beetles', '2745800': 'Allan Stewart (3)', '2746800': 'Michel Mayan', '2747000': 'Jacek Garbaczewski', '2747100': 'The Doomsdayzzz', '2747200': 'Yuji Yano', '2747400': 'Zepher A. Pavey', '2747800': 'Daylight (9)', '2747900': 'Joe Sope', '2748700': 'Tomáš Pergl', '2748900': 'Young L.E.', '2749000': 'Breakwater (4)', '2749200': 'The Swamp Jockeys', '2749400': 'D. Nero', '2749700': 'The University Of Akron Marching Band', '2750000': 'Lafri Bilel', '2750400': 'Jean-Francois Delcamp', '2750600': 'Nolzy', '2751000': 'Dino Dance Park', '2751500': 'Italian Farmer', '2752400': 'White Van Driver', '2752900': 'Melissa Winter', '2753000': 'Bulldog (14)', '2753100': 'Los Razos', '2753200': 'Yves Sparks', '2753600': 'Dotty Rotten', '2754300': 'Stephan Kurmann', '2754700': 'Mors', '2755100': 'Mortage', '2755200': 'Alexandru Naumescu', '2755900': 'Lisa Lydzius', '2756500': 'The Imperishables', '2756600': 'The Trio ESP', '2756700': 'Max Gleroy', '2756800': 'Liza Nyman', '2757000': 'Hade (4)', '2759800': 'Goodbye Tomorrow', '2760200': 'Bas Kornet', '2760400': 'Marilou (5)', '2761100': 'Mark Adams (16)', '2761300': 'Vokiida', '2761400': 'Mighty Voices Of Faith', '2761500': 'Bob Millard', '2761600': 'Lightfall', '2761800': 'Three Faces West', '2761900': 'Chombo & Marian', '2762000': 'Capital Monkey', '2762200': 'Danny Jones (11)', '2762400': 'Chick Shannon', '2762500': 'Handré', '2762900': 'Flip Corale Y Los Macabros', '2763200': 'Lotus (33)', '2763300': 'Attilio Staffelli', '2763600': 'Bill Baker (11)', '2763800': 'Andrea Corsetti', '2764000': 'Dunyakan', '2764100': 'Amphibians', '2764600': 'Andrzej Kurylewicz Quartet', '2765000': 'Winston Parker', '2765100': 'Cash Rivers', '2765300': 'Desiderium', '2765400': 'Pascal Batista', '2765600': 'Juana La Del Revuelo', '2765900': 'The New Folk Ensemble', '2766800': 'Eskupitajo 100%', '2767000': 'Cigo', '2767200': 'Jürgen Waidele', '2767900': 'Klangfred', '2768500': 'Aftermath (17)', '2768600': 'Omnibus Kammarblåsare', '2769100': 'Νατάσσα', '2769300': 'Brian Bennett (5)', '2769500': 'Roger Voisin And The Brass Ensemble', '2770000': 'Didier Morris', '2770300': 'Lasse Jensen (4)', '2770900': 'Epifani Barbers', '2771000': 'Isenscur', '2771100': 'Shira (4)', '2771500': 'Nfumis', '2771800': 'Heath Cullen', '2773100': 'Mercury Falls', '2773200': 'Dustin Beattie', '2773400': \"Johnnie (O' Clock) Henderson\", '2773500': 'Royston Vasie', '2773700': 'Sound Defenders', '2773900': 'Vincentas Kuprys', '2774000': 'Heaven (25)', '2774100': 'Michael Maurice', '2774500': 'Kerry Andrew', '2774600': 'David Leggatt', '2774700': 'Anthony Wongsokarijo', '2774900': 'Toma/Natto', '2775000': 'Cozy (4)', '2775400': 'Uman Hrdtec', '2775600': 'DJ Louie (2)', '2775900': 'Wanda Sawicka', '2776000': 'Sachin Pandit', '2776300': 'Woody (33)', '2776500': 'Aeon 9', '2776600': 'Winson Rollins', '2776800': 'Armageddon (15)', '2777000': 'Cerebrate', '2778200': 'Froukje Geertsma', '2778300': 'Charenee Wade', '2778700': 'Willemien', '2778800': 'Red Kidney And The Jellybeans', '2779300': 'The Bonanzas', '2779400': 'Claudia (50)', '2779500': 'Tove Pedersen', '2779700': 'Melissa Seely', '2779900': 'Business (4)', '2780200': 'First Breath', '2780300': 'Lieke (3)', '2781000': 'The Number E', '2781100': 'Tadaaki Misago & Tokyo Cuban Boys', '2782300': 'Ronnie Jay', '2782400': 'Eesti Riikliku Sümfooniaorkestri Keelpillikvartett', '2782700': 'Melodien', '2783400': 'Pet Flyz', '2784000': 'SvartVitt (2)', '2784700': 'Derick Kane', '2785300': 'Heidi Brownstone', '2785600': 'The Happy Harts', '2785700': 'Mass At Dawn', '2785800': 'Kwan (6)', '2786900': 'Franz Waldemar Steinert', '2787300': 'N.Y. Entertainment & Sports Advisors Inc.', '2787700': 'Благовест Порожанов', '2788300': 'In The Drone', '2788500': 'Elementti', '2788600': 'Fabien Leseure', '2788800': 'Ruggiero Mascellino', '2789200': 'Rainbow Algorithm', '2789500': 'Sex (10)', '2789800': 'Ramona Nerra', '2790000': 'Mustard Tiger', '2790400': 'Ensemble Pacific', '2790900': 'Paul Robertson (7)', '2791100': 'The Starlighters (5)', '2791200': 'Habib (8)', '2791400': 'The Altered Statesmen', '2791600': 'Endochine', '2791900': 'Overseas (3)', '2792200': 'Димитър Симеонов', '2792700': 'Frank Trevor Fee', '2792800': 'Big Baby Driver', '2793000': 'Impact Information', '2793100': 'The Lamar Harrington Band', '2793500': 'Atomsk', '2794400': 'The Hooks (3)', '2795000': 'McGobler', '2795400': 'Mopfunk', '2796000': 'Peer Schlechta', '2796100': 'Σταμάτης Πάρχας', '2796300': 'Salem (12)', '2796400': 'Skip & The Exciting Illusions', '2796700': 'The Bay City Union', '2796800': 'Funky Fat', '2796900': '7 Years', '2797300': 'Sex Hands', '2797400': 'malaria POP', '2798800': 'Virtual Heart', '2799200': 'Big Gun Baby', '2799300': 'Diana (37)', '2799600': 'Fast Anny', '2799800': 'Yvon Eddyson', '2800200': 'Robert Holland', '2800400': 'Docetism', '2800800': 'Eireann Wax', '2801500': 'The Ronnie Sisters', '2802900': 'System ID', '2803000': 'Nicholas Carlton', '2803300': 'Heinz Sagner', '2803400': 'The Golden Fleece', '2803700': 'Zoltán Boros', '2803800': 'Ayça Varlıer', '2803900': 'Andrew Barasits', '2804200': 'Brutal Disorder Logos', '2804600': 'Panca Nada', '2804800': 'Mannequin (7)', '2805300': 'X-Tend', '2805700': 'Ivodan', '2805800': 'The Crooked Old World', '2806000': 'Trio Amsel', '2806400': 'Κωνσταντίνος Χατζημιχάλης', '2806500': \"Shorte'\", '2806700': 'Sylvia DeGrasse', '2807800': 'Earl Leaf', '2807900': 'David Ferretta', '2810200': 'Mike Cella', '2810400': 'Air Sound', '2810600': 'Mary Trembles', '2811200': 'Jayma', '2811300': 'Home Bush Day', '2813500': 'Chor Von St. Ludwig', '2813600': 'The Acoustic Nights', '2814100': 'Metalsteel', '2814200': 'Krökta Rum', '2814300': \"De Sambrinco's\", '2814600': \"Paul Van t'Schip\", '2814700': 'Roma Blair', '2814800': 'Moonface (3)', '2815300': 'Vendetta (29)', '2815600': 'Sonya Roche Duncan', '2815900': 'Alan Tyler & The Lost Sons Of Littlefield', '2816000': 'Anita Iličić', '2816900': 'Kringle', '2817800': '8 Foot Munch', '2818300': 'Kezla', '2818900': 'Yung Frank', '2819000': 'Magnus Joelson', '2819500': 'Face Down Squad', '2819900': 'Anders Wind', '2821300': 'GSP (2)', '2821700': 'Lionel Hampton And His Hamptonians', '2821900': 'Jungle Fire', '2822100': 'The Committee (12)', '2822600': 'Overlord (14)', '2823100': \"Winfield's Locket\", '2823300': 'Scarlet (16)', '2823900': 'Ruben Benitez', '2824000': 'Information-office.org', '2824400': 'Rebana Orchestra', '2824600': \"Los Snack's\", '2825500': 'The Inspirational Stars', '2825800': 'The Bandit Band (2)', '2826200': 'Kaj-Erik Gustafsson', '2826300': 'Maroque', '2826400': 'The Blueboys', '2826800': 'Boost (6)', '2826900': 'NickB', '2827600': 'Bored Cops', '2827800': 'Mark Sellers', '2828200': 'R.E.D', '2828700': 'Stijn Persoons', '2828800': 'Kabaret Klika', '2829000': 'Ingram Mac-A-Ba', '2830100': 'Kami Ada', '2830400': 'Peruvian Hipsters', '2830600': 'Andrea Balducci', '2830800': 'Marti Coppins', '2830900': 'Pilsner (2)', '2831000': 'Dan Forte (2)', '2831500': 'Howling Guitar', '2832100': 'Harm (11)', '2832300': 'Arti Dy', '2833000': 'Carlo Zefferelli', '2833100': 'Inkilina Sazabra', '2833400': 'Shine On Me', '2833600': 'Absurdcus', '2833900': 'Sheryl Konigsberg', '2834600': 'Voco Orchestra', '2834700': 'Fuzz (14)', '2834900': 'Nachash', '2835100': 'De Profvndis Clamavi (2)', '2836400': 'Lisa Neustadt', '2836800': \"Joe Berte'\", '2836900': 'Ruxy', '2837300': 'Leek', '2837400': 'Doug Marks (2)', '2838200': 'Extreme Noise Terrier', '2838300': 'Kid Red', '2838500': '$and Dee', '2838600': 'Das Orchester Des Staatstheaters Darmstadt', '2838900': 'Keith Thomson (2)', '2839100': 'Jerry White (6)', '2839200': 'Gregory Talas', '2839400': 'Fendis', '2839500': 'Kem (3)', '2840200': 'Kanako Higashibata', '2840300': 'Cortez (13)', '2840800': 'Mr Cooley', '2841700': 'Red Invasion', '2841900': 'Nikos Filippidis', '2842600': 'Eki Taurus', '2843500': 'Solaris (42)', '2843600': 'Maybecyborgs', '2843900': 'Mikkel Mark', '2844100': 'Nadan', '2845200': 'Laurel Watson', '2845300': 'Special Fx (5)', '2845400': 'Dave Morgan (10)', '2845500': 'Brian Cassidy (2)', '2845800': 'Alexander Gildo', '2845900': 'Troll (16)', '2846100': 'Good Shepherd (2)', '2846500': 'Andreas (52)', '2847500': 'Joshua Q. Paxton', '2847700': 'Radio&Fernseh', '2848500': 'JT Royster', '2849400': 'P & P Culture', '2849600': 'Sway Skid', '2849900': 'Day One (5)', '2850400': 'Gheorghe Crăsnaru', '2850600': 'Brizzy Boyz', '2851300': 'Satans Revolver', '2852000': 'Flop Gun', '2852200': 'ADD Orchestra', '2852700': 'Callejeros', '2853600': 'Clinton Denny', '2853900': 'Pre Hikashu', '2854000': 'Quentin McFadden', '2854200': 'Frances Land', '2854400': 'Molly Shannon, Molly Shannon', '2855200': 'The Picardy Singers', '2855400': 'Emmanuel Cegarra', '2856200': 'Ede Terényi', '2856600': 'Los Homeboys', '2856800': 'Last Days Of 1984', '2856900': 'DOSE AFTER DOSE', '2858100': 'The San Franciscans', '2858400': 'Poltamento', '2860000': 'Ansambl Dejana Vasiljevića', '2860100': 'Matt Klast', '2860700': 'O Carro', '2860900': 'D-La', '2862500': 'Cowards (3)', '2862800': 'D.N.E. (2)', '2864200': 'Cencosud', '2864300': 'Jograis De São Paulo', '2865600': 'Canadian Artists Foundation For The Environment', '2865800': 'Don Q (5)', '2866100': 'Den 55', '2866300': 'Insofar', '2866700': 'Carmen Iraida Colón', '2867100': 'Chris Mills (9)', '2867200': 'Fallen Angel (9)', '2867300': 'Bruno Cami', '2867400': 'The Beach Chromers', '2867600': 'Alar Ilo', '2868000': 'Luca Dellacasa', '2868200': 'Bill Moan', '2868800': 'Metallharmonie St. Othmar', '2868900': \"Gruppo D'Alternativa\", '2869500': 'Uninterrupted', '2870100': 'Das Rünky Tünkies', '2870300': 'Beygon Blanc', '2870400': 'Francisco António de Almeida', '2870700': 'Estrella Rivera', '2870800': 'Paul Prochnowski', '2871900': 'The Stella Brass', '2872300': 'Leo Mathisens Band', '2873200': 'D3ADL1NE', '2874500': 'Mongoloidian Glow', '2874800': 'M. Battini E Il Complesso L.E.M.', '2874900': '3,14 (2)', '2875300': 'The Quiffs', '2875400': 'Jordan Ferrer', '2875600': 'Kass (4)', '2875700': 'Anddriqui Bianchini', '2876200': 'Nana Budjei', '2876500': 'Revol (2)', '2876600': 'Respect My Fist', '2876900': 'Gabriel Staint', '2877000': 'Müslim Akbıyık', '2877500': 'Dusty Tonez', '2877700': 'Hikari To Hage', '2877800': 'Sven & Olav', '2877900': 'María Cofán', '2878600': 'Fərhad Bədəlbəyli', '2878900': 'Calu Cacu', '2879000': 'D.V. Caputo', '2879100': 'Gerard Cousins', '2879200': 'Тодор Костов', '2879300': 'Now Creative Arts Jazz Ensemble', '2879500': 'Michał Stawarz', '2879900': 'Y-Bee', '2880500': 'Roy Witte', '2880900': 'Shinji Narita', '2881000': 'Stephen Rosborough', '2881700': 'Ignition-Code', '2881900': 'Cristian Plaez', '2882300': 'MANO REZA', '2882600': \"D'Albert\", '2882800': 'Mike Maroney', '2883300': \"Ken Moule's London Jazz Chamber Group\", '2884300': 'Class 7B (2002-2003)', '2884800': 'Divlja Ruža', '2886400': 'Paul D Lewis', '2886500': 'Alison Bentley (2)', '2886700': 'Cumbe', '2887000': 'Gabriella Farinon', '2887300': 'Holocaust Winds', '2887600': 'Junkyard Angels (2)', '2888500': 'Sana (5)', '2889000': 'Hadda', '2889100': 'Sleeper (6)', '2889300': 'Shuichi Oyama', '2889400': 'Ryan Amador', '2889600': 'Love Junkie', '2889700': 'Runa Mayu', '2889800': 'Teodora Baković', '2889900': 'Sight (3)', '2890000': 'Girasomnis', '2890100': 'Hodding Carter', '2890500': 'Casablanca (16)', '2891000': 'Rasmus Norlander', '2891200': 'The Ken Jones Jive Group', '2891300': 'Εκμέκ', '2892000': 'Michael Mormecha', '2892100': 'Bo Scott', '2892400': 'SLP (6)', '2893000': 'Rated With An X', '2893700': 'Randulf Saunes', '2894000': 'Jimmy Castle & The Knights', '2894100': 'Bird Of Omen', '2894500': 'G.org', '2894600': 'Bijan Olia', '2894900': 'Lena (35)', '2895000': 'La Coral Cósmica', '2895200': 'Federico Formica', '2895700': 'I Libanesi', '2896200': 'Embassy Chorus And Orchestra', '2896900': 'Warpath (9)', '2897200': 'Conjunto Gloria Matancera', '2897600': 'Nelson Weber', '2897800': 'Miky Ry', '2898100': 'Luis Santurde', '2898200': 'Rumpál', '2898400': 'Ernula x Cuilan', '2898600': 'Sexual Suspect', '2898700': 'Funny Thing', '2898800': 'F.R.N.K.', '2899000': 'DJ V.A.', '2899200': 'Transdusk', '2899400': 'Allan Carr (2)', '2899800': 'Dick Bardi', '2900100': 'Rubyfish', '2900400': 'Everyday / Everynight', '2900600': 'Cardmoth', '2901100': 'Southside Murder Click', '2901300': 'Elik Zakai', '2901600': 'Άμορφη Παράνοια', '2902000': 'Ce-Low Bandits', '2902200': 'The Joint (4)', '2902600': 'Quest (41)', '2903100': 'Alhaja Queen Salawa Abeni And Her Waka Moderniser', '2903500': 'The Slab', '2903700': 'Boy Friends Club', '2904200': 'Pierre Vial (2)', '2904500': 'San Glaser', '2904700': 'Conjunto Do Copacabana', '2904800': 'Banda Do Surf', '2905100': 'David Horsley', '2906400': 'Art Marvel And The Side-Effects', '2907500': 'Vidar Gundersrud', '2907900': 'Eli Reed', '2908200': 'BOA (8)', '2908300': 'Dirty Rats', '2908400': 'Sir Strong', '2908500': 'Roger Davidson', '2909100': 'Sonia Sinclair', '2909300': 'MachineGumz', '2909600': 'Postmortem (6)', '2910400': 'Bessie (2)', '2910500': 'Metal Mercy', '2910600': 'Pio Beat', '2910800': 'Кристина Збигневская', '2911000': 'Frederik Eisink', '2911100': 'Carlo Valley', '2911400': 'Balogh Ferenc', '2912700': 'D.J. Doom', '2912900': 'Patrizio Moroni', '2913300': 'Korpo Spelmanslag', '2913700': 'Philharmonia String Quartet', '2914300': 'Våldsamt Motstånd', '2914500': 'Naiblaze', '2914900': 'Sir Costelho', '2915300': 'The Twos', '2916100': 'Crackerz & Jam', '2916400': 'Phone Joan', '2916500': 'Gary Cosby', '2917000': 'Cumhur', '2917200': 'Alhan G', '2917300': 'Blow The Scene', '2917400': 'Tinn (2)', '2917900': 'Najee (2)', '2918300': 'Nikolaus Haenel', '2918500': 'Shortcuts', '2918800': 'Aimless/Intellect', '2919200': 'Psyon', '2919300': 'Mark Beentjes', '2919700': 'RS 232', '2920400': 'Pastor Shirley Mestas', '2920600': 'Andrius Grybauskas', '2921000': 'Hunger (6)', '2921100': 'Rémy Fontane', '2921200': 'Heikki Hautamäki', '2922000': 'Jazz Half Sextet', '2922400': 'Boogiestuff', '2922500': 'Zdravko Perković', '2922600': 'Eklipse (6)', '2922900': 'G Maffiah', '2923100': \"Harry Raderman's Dance Orchestra\", '2923200': 'Pissdolls', '2924500': 'Badge 714', '2924700': 'The Billie Hays Band', '2924800': 'Sister Bloss', '2925000': 'Charles Sharp 6', '2925100': 'Predatür', '2925500': 'Alvaro Am', '2925700': 'Ruscha', '2925800': 'Manoamara', '2926400': \"G-ExtRactioN'Breaks\", '2926600': 'Lil Try', '2927100': 'Clayton Hillis', '2927200': 'Andrew Castle', '2927400': 'Pitchdokta', '2927800': 'Max Bacon (3)', '2928000': 'DJ Datch', '2928300': 'Verdens Farligste Dyr', '2928600': 'Kikisun', '2928800': 'Allen Phillips', '2928900': 'The Basiqs', '2929400': 'Miss Sprucy B.', '2929700': 'Black Mamba (9)', '2930000': 'Diana Darrin', '2930400': 'Lux (26)', '2930500': 'Nestor Vargas', '2930600': 'Emily (31)', '2931000': 'John Timmons', '2931800': 'Eduardo Valenzuela (2)', '2931900': 'Noxroy', '2932100': 'Dårligt Selskab', '2932400': 'Wes De Graaf', '2932600': 'Suleiman', '2932900': 'One Ton (4)', '2933400': 'The Liberation Service', '2933500': 'Xandra Budie', '2934000': 'Mike Griffin (6)', '2934100': 'Big City Bumpus', '2934400': 'Orchestra Of The Moscow Bach Centre', '2935200': 'Grupo Morenos', '2935400': 'Animasola', '2936000': 'Roy Fogusson And His Orchestra', '2936100': 'Yuki Hasegawa', '2936300': 'Esquizomachina', '2936500': 'Fantasmage', '2936800': 'Yvonne Greitzke', '2936900': 'Nicola Sergio', '2937600': 'Drits & Dravy', '2937700': 'Rob Good', '2937800': 'D-Town Brown', '2938000': 'Vedagor', '2938500': 'Lita Baron', '2939000': 'Qusai Zureikat', '2939100': 'Contagion (3)', '2939200': 'First In Line', '2939800': 'The Central Nervous System', '2939900': 'Dillu Melo', '2940100': 'Deano (11)', '2940300': 'Blandine Cosima', '2940700': 'Rodolfo Matulich', '2941100': 'Carol Friday', '2941300': 'Shawn Gorden', '2941400': 'Freight (2)', '2941500': 'Pretty Monsters', '2941600': 'Lytesho!', '2942200': 'Total Vomit Experience', '2942900': 'Nefario', '2943100': 'Scott Ferrell (2)', '2943200': 'Kansakunnan Ylpeys', '2943500': 'Cabbage Heads', '2944200': 'Digger Revell', '2944300': 'Sgt. Billhead', '2944400': 'Althea Tate', '2944700': 'RaevLoli', '2944800': 'Mohammed Ali Kampaign', '2945500': 'Sticks McDonald', '2945700': 'Mike See', '2945900': 'Loobosh', '2946000': 'Juha Lagström', '2946100': 'True Grit (3)', '2946200': 'Mauro Cassani', '2946400': 'Sista Jahan', '2946500': 'Nadav Britch', '2946800': 'Wobbly Mastering', '2946900': 'Carlos Alberto De Alcântara Pereira', '2947100': 'Mirko Bartsch (2)', '2947800': 'The Nailclippers', '2948100': 'Inger Og Mie', '2948500': 'Lenka Hýbková', '2949600': 'Beelzebub (4)', '2949700': 'Maria (67)', '2950000': 'Daniela Gargiulo', '2950100': \"Day's End\", '2950200': 'Jimbo Neal', '2950600': 'Z-Machine Moonquake', '2950800': 'Kaleon', '2950900': '15th Day', '2951400': 'Taste Tester', '2951700': 'Roy & The Royals', '2951900': 'Violent Change (2)', '2952300': 'James M. Curley', '2952400': 'AK-The Ace King', '2953000': 'Roy John Fuller', '2953100': 'New Jack (2)', '2953200': 'Lidsville', '2953700': '5.0', '2953900': 'P.J.O.', '2954700': 'Charlie Mariano Sextet', '2955100': 'Excess (11)', '2955400': 'Frédéric Portal', '2955600': 'Billy Randall', '2955700': 'Sire (5)', '2956200': 'Clark Youngblood', '2956700': 'Miladin Jelić', '2956900': '豚乙女', '2958000': 'White Noise (11)', '2958500': 'Bevy Mack', '2958700': 'Them People', '2959100': 'Edy Herrmann', '2959200': 'Christine Davis (2)', '2959500': 'Hairy Nipples', '2959700': 'Caution (14)', '2960000': 'Waveform (16)', '2960100': 'Appian', '2960200': 'Нагима Ескалиева', '2960500': 'The Golden Voices Of Deliverance', '2960600': 'Luc Carson', '2960700': 'Fabio Foroni', '2960900': 'Les Têtes Réduites', '2961300': 'DTP Concept', '2961400': 'Megan Ashley', '2961500': 'Kinematics', '2961600': 'Eldon Balko', '2961700': 'N. Kalashnikov', '2961800': 'Arthur King (2)', '2962000': 'Paranormal Disposition', '2962200': 'Yves Petit de Voize', '2962500': 'Pat Vines', '2962700': 'Grim Reaper (8)', '2962900': 'Don Lambert', '2964000': 'Spurr And McNeil', '2964800': 'Ramon De Cadiz', '2965400': 'The Whale Fuckers', '2965600': 'Edoardo Rinaldi', '2965700': 'Moov', '2966600': 'Duella Deville', '2967100': 'Wayland Seals', '2967200': 'I Compagni Di Baal', '2967300': 'Crayon Angels', '2967500': 'Akashik Ancestorz', '2967600': 'Axton Frick', '2967700': 'Racey Briggs', '2967900': 'Al Tell', '2968400': 'Agents Of The Sun', '2969300': 'Talk Of The Town (10)', '2969500': 'Spirit In Eternal Pain', '2970000': 'David Ployhar', '2970200': 'Cargo Slap', '2970300': 'Tony Bordey', '2970500': 'Paolo Russo (3)', '2971000': 'Morten Clod', '2971300': 'School Of Radiant Living', '2971900': 'Nello Nelli', '2972200': 'Albert W. Wassell', '2972300': 'Jean Evenou', '2972800': 'Tony Baker (9)', '2972900': 'Les Loques', '2973000': 'Floorlords', '2973400': 'The Rumbones', '2973800': 'A Sky Jet Black', '2974200': 'Srećko Savović', '2974900': 'Brian Robison', '2975400': 'Warren Doyle Smith', '2975700': 'The Regiment (7)', '2975800': 'Fjórtán Fóstbræður', '2975900': 'Ross Sargent', '2977100': 'Miroslav Novák', '2977200': 'Orkest o.l.v. Henk Ruiter', '2977600': 'Nancy Toro', '2977700': 'Bobby Sixkiller', '2977800': 'Cole Steele And The Steele Drivers', '2978000': 'Isherwood (2)', '2978200': 'The Reactions (4)', '2978600': 'Δωδέκατη Νύχτα', '2978800': 'Jón Svavar Jósefsson', '2979100': 'БХЛ', '2979500': 'Knights 5+1', '2979600': 'Big Frank And The Essences', '2979700': 'G. Theofilopoulos', '2979800': 'عبد الرحمن أبو سنة', '2980000': 'Avatara (3)', '2980100': 'The Waranico', '2980200': 'Eddy (21)', '2980900': 'Pedro Rodríguez (4)', '2981100': \"Rock'A'Trench\", '2981200': 'Bambees', '2982200': 'Mara Y Orlando', '2982600': 'Gorgantherron', '2982700': 'El Comunero', '2982800': 'Frontline Attack', '2983000': 'Jaroslav Erik Frič', '2983100': 'Gripweed', '2983200': 'Miguel Escanciano', '2983400': 'Colin Jenkinson (2)', '2983900': 'DJ Bull (3)', '2984000': 'RivaSquall', '2984200': 'Donnie Howard', '2984400': 'Rhythmic Flux', '2984500': 'Duo Jan Jodel', '2984700': 'Otogi (2)', '2984800': 'Destroy After Use', '2984900': 'Friends Inc.', '2985100': 'Stevelle', '2985400': 'Joop Vos (2)', '2985600': 'Joe Zawinul Trio', '2985800': 'Pearls (3)', '2986200': 'Little Joe Williams', '2986300': 'Μελίνα Μακρή', '2986500': 'Swisherelli The Prince', '2986700': 'John Palmer (16)', '2986800': 'The Nashville Guitars', '2987100': 'Danny Tucker', '2987200': 'Lolita Y Roberto', '2987800': 'Indio (18)', '2987900': 'Fran (17)', '2988200': 'Horror God', '2988400': 'Bastro (2)', '2988900': 'Patrick Plaice & Frank Ellrich', '2989200': 'Richard From Milwaukee', '2989600': 'Fabio Oliveira (2)', '2989900': 'Joseph Outlaw', '2990100': 'Bizarre Management', '2990400': 'Scott Kemper', '2990500': 'Las Mochecumbas', '2990900': 'Culaburashun', '2991100': 'Suntanner', '2991500': 'Peter Ross (8)', '2991900': 'Squid 58', '2992100': 'Grupo Ismaelillo', '2992300': 'Christos Peterson', '2992700': 'Reeky Dev', '2992800': 'Jenő Weltler', '2993700': 'Joni Ikäläinen', '2993800': 'Arthur Jussen', '2994200': 'Mateo Chavez', '2995100': 'Bluelounge', '2995700': 'Electric Storm (2)', '2996200': 'Sambor Kostrzewa', '2996500': 'Caribe Trio', '2996700': 'Jimi B.', '2997100': 'Dave LeKomy', '2997300': 'Fred Gray (5)', '2997400': 'Claudio Fasoli_Rita Marcotulli_Bobo Stenson Trio', '2997600': 'Zelda Coutureau', '2998100': 'The Zippers (5)', '2998200': 'Natasha Anderson (3)', '2998800': 'Jan Zuidhof', '2999100': 'Mat Andasun', '2999300': 'Dogma IVS', '2999800': 'Nils Aldeland', '2999900': 'Vincius Jayme Vallorani', '3000000': 'The Four Horsemen (4)', '3000700': 'Mary Me Young', '3001000': 'Kenya Kishita', '3001300': 'Erica Jansson', '3001400': 'Florence Parry Heide And Sylvia Worth Van Clief', '3001700': 'Roger Lewis (10)', '3001800': 'Indian Handcrafts', '3001900': 'Simone Mangano aka DSounD', '3002000': 'Marc Jacobs (2)', '3002100': 'Jean-Claude Permal', '3002400': 'Beau Weevil', '3002700': 'Mimo Million', '3003300': 'Hexagon (2)', '3003600': 'Bartolomeo', '3003900': 'The Playboys (16)', '3004000': 'Max Oshourkoff', '3004200': 'Neven Cvijanović', '3004400': 'The Pat Moran Quartet', '3004700': 'Hell (10)', '3004900': 'SSA (2)', '3005000': 'Al Smiths Combo', '3005100': 'Revengeance', '3005600': 'Rulli Rendo, Orquesta y Coros', '3005800': 'Hafrót', '3006900': 'Diomedes Maturan', '3007300': 'Έλενα Χούντα', '3007400': 'IneartheD', '3007800': 'Essie Moss', '3008300': 'علي حامد', '3008600': 'حسن المغربي', '3010300': 'The Last Call Brawlers', '3010400': 'Freshman 15 (2)', '3010600': 'Lash (8)', '3011400': 'I Rockings', '3011500': 'Black Zenith', '3011900': 'Remont Pomp', '3012100': 'Johnny Jetson', '3012300': 'Paul Dunmall, Paul Rogers, Philip Gibbs', '3012500': 'Tora Torapa', '3012700': 'Óðinn Valdimarsson', '3013000': 'Anubi (3)', '3013100': 'ياسر أنور', '3013300': 'Youth & Experience', '3013600': 'The Heart Drops', '3014000': 'Steve Laret', '3014600': 'Marc Wagenbach', '3015100': 'Stan Henson', '3015200': 'أحمد رجب', '3015900': 'Nina Nu', '3016300': 'P Batters', '3017000': 'Dan Mobley', '3017200': 'Cuda', '3017700': 'Дим Димыч', '3017800': 'Pasi Jääskeläinen (2)', '3017900': 'The Rain (7)', '3018000': 'Youth Voices', '3018800': 'Trio Praxis', '3019000': 'Steve Looren', '3019100': 'Romain Bernardie James', '3019400': \"Kenny Millions' Solo Swing Band\", '3019500': 'Ghost Estates', '3020000': 'Dealer Shades', '3020400': 'St. Hellier', '3020600': 'Purple Mess', '3021100': 'Love On Laserdisc', '3021400': 'Ben Guillemette', '3021600': 'Rancid Christ', '3022200': 'Михаил Алаев', '3022300': 'Pest (21)', '3022400': 'Rock-It! Scientists', '3022500': 'Salem (16)', '3022700': 'Music Sucks', '3023600': 'Antje Nagula', '3024000': 'Mr Boss', '3024300': 'Michèle Estoupan', '3024600': 'Dark Covenant', '3025000': 'Mad Dem Crew', '3025300': 'Rob Glickman', '3025400': 'Randolph Gorski', '3025500': 'Maravgi Aydin', '3026400': 'Digital Sun (2)', '3026600': 'Primal Order', '3026700': 'Path Of Samsara', '3027100': 'The Indigos (3)', '3027200': 'Χορωδία Τερψιχόρης Παπαστεφάνου', '3027300': 'Tom Chandler', '3027600': 'Mathieu Lamontagne', '3027700': 'Sonnenwasser', '3028000': 'Sir Kenneth G. Grubb', '3028500': 'Teptet Liberec', '3028600': 'Shiv Shankar', '3028800': 'Richard Comte', '3029000': 'Sergej Horovitz', '3029100': 'Looter (2)', '3029200': 'Pau Surfingers', '3029400': 'Lloyd Cele', '3029500': 'James Vernon', '3029700': 'Fucking With Nuns', '3029800': 'Eunice Simpson', '3030000': 'Seven Stories (2)', '3030500': 'Earl Mack', '3030700': 'D.End', '3031000': 'Innavl', '3031100': 'Majic (2)', '3031400': 'Grupo Folclórico', '3031700': 'LARGO Records', '3032100': 'The Baggys', '3032400': 'Italo Pizzolante', '3032600': 'I T', '3032700': 'Monospin', '3033100': 'Bert Pearl', '3033400': 'Manntra', '3033500': 'Quatuor Vocal Christine Legrand', '3033700': 'A-Roma', '3033800': 'Home Run (2)', '3034100': 'Eric Evasion', '3034800': 'Sandra Avagnina', '3035100': 'The Zigeuner Players', '3035300': 'Dj Tartak', '3035700': 'Two Stroke', '3036200': 'Jack Kent (2)', '3036300': 'Marcello Burri', '3036600': 'Sleepaway', '3036900': 'Lello Tartarino', '3037300': 'Wynston Smyth', '3037400': 'Timmy & The Monsters', '3037900': 'Fourty Eyez', '3038600': 'Sónia', '3039300': 'Come Il Vento', '3039500': 'Bakacsi Béla', '3039600': 'High-Klassified', '3040000': 'Les Marie Morgane', '3040400': 'Sydney Sargeant', '3040700': 'Сергей Волоколамский', '3041200': 'Ever Ending Kicks', '3041600': 'Brian Aspro', '3042200': 'عبد الحميد السيد', '3042400': 'Kuttrasju', '3042500': 'Tom Szakolczay', '3042900': 'Ferdie Marquez', '3043400': 'Cassus', '3043500': 'Traoud Molar', '3045200': 'Police Brothers', '3045600': 'Scripture X', '3045800': 'Frans (8)', '3046900': 'Rumba Pop', '3047000': 'David Drost', '3047600': 'The Rest Of Me', '3047800': 'Sigríður Kristjánsdóttir', '3048200': 'Brittany Allyn', '3048700': 'Arakiel', '3048900': 'Gibby Ruedaflores', '3049200': 'Albert Cubero', '3050200': 'Jabber (3)', '3050600': 'The Sunlovers', '3050900': 'EnElsk', '3051000': 'Amit Friedman', '3051300': 'محمد وردي', '3051400': \"Tony D'Angelo\", '3051900': 'Amparo Guardiola', '3052100': 'World Radio', '3052200': 'Running Like Thieves', '3052300': 'W.O.A.R.P.S.', '3052400': 'Vito Diamonti', '3053300': 'Thomas Wibe', '3053700': 'Lil Tay', '3053900': 'Dub Le Gum', '3054300': 'Marky And The Unexplained Stains', '3054500': 'The Edward Brothers', '3055000': 'DeltaFoxx', '3055300': 'Code 0066', '3055700': 'Nataniel Młotek', '3055900': 'Maverick (22)', '3056400': 'Kristiina Lehto', '3056800': 'Analnecrobeastiality', '3056900': 'Małgorzata Samborska', '3057200': 'Fidget (11)', '3057300': 'Crystal Pasture', '3057800': 'Jessie Smith \"Smitty\" Irvin', '3058400': 'The Famous Castle Jazz Band', '3058500': 'Electrophonic Ghost', '3058700': 'Juan Peña (2)', '3058800': 'The Boss Squad', '3058900': 'Nico Mat', '3059000': 'Dave Voekl', '3059100': 'Ventil', '3059500': 'Guðjón Yorsteinn Pálmarsson', '3059600': 'Tabarnacos Surfers', '3059700': 'Aerugo', '3059800': 'Therazoredge', '3060000': 'Latarche \"Nas\" Collins', '3060200': 'Emotionals', '3060300': 'Nathan Hargraves', '3060400': 'Exxor', '3060500': 'Orchestra G. Anepeta', '3060700': 'The Fucked Frikis', '3061000': 'Lostlay', '3061400': 'Compartir es Vivir', '3062600': 'Fahrenheit (9)', '3062700': 'O.G.F. Productions', '3063200': 'Aimable Donfut', '3063400': 'Jóhann Gunnar Sigurðsson', '3063600': 'Kyle Zantos', '3064400': 'Говерла', '3064600': 'Ray Lambiase', '3064700': 'A Piece Of Shit', '3065300': 'The Dntist', '3065400': 'Aschenputtel', '3065800': \"Carl Austin's Strings\", '3066200': 'Sandy Block Orchestra', '3066400': 'Adobe', '3066800': 'Jeannie Reynolds And The Re-Leets', '3066900': 'Run A Way', '3067100': 'Cell Infadel', '3067200': 'Don Snow (2)', '3067500': 'Spector Group', '3068500': 'Гоша Ашог', '3068600': 'Lincoln Black', '3068800': 'Marius Briançon', '3068900': 'Piotr Romaniuk', '3069500': 'Theatricantor', '3070000': 'Alonzo Green', '3070400': 'Funkadelicasy', '3070500': 'Ananke (3)', '3070600': 'topheth', '3071000': 'Sexta', '3071800': 'Khao (2)', '3072000': 'Sally Heiss', '3072900': 'Katarina Ewerlöf', '3073000': 'Edison-Orchester Berlin', '3073100': 'Birger Källén', '3073500': 'Orville Lynch', '3073900': 'RoundHouse Kick', '3075100': 'Γιώργος Ζερβάκης', '3075300': 'Bridges And Powerlines', '3076400': 'Phife Brody', '3076600': 'Got Sam', '3078000': 'Charles Obie', '3078100': 'Kensei Ogata', '3078300': 'The Gutters', '3079000': 'Goves', '3079600': 'Databass (5)', '3079700': 'Karen Kinzie', '3079900': 'Vnalogic', '3080000': 'Max Lyazgin', '3080100': 'Alpengeist', '3080300': 'Acrimony (3)', '3080900': 'DBP', '3081100': 'Semiazas', '3081200': 'Bout It Bout It Management', '3081300': 'Ken Kazama', '3081900': 'I Hate Nightclubs', '3082200': 'Orville Woods', '3082400': 'Zonder', '3084000': 'Superstitious', '3084300': 'Luka Rocco', '3084500': 'Sasha (32)', '3084900': 'Love Inn Company', '3085400': \"Chœur Des Jeunes De L'Église National Vaudoise\", '3086400': 'The Messengers Quartet', '3087300': 'L.A. Crits', '3087400': 'Biscuit (12)', '3087600': 'Renata Bogdańska', '3087700': 'Animal Government', '3087800': 'Gunnar Källström', '3088200': 'Sam De Coster', '3088800': 'Dark Creation', '3089000': \"Johnny Wicks' Swinging Ozarks\", '3089300': 'Long Journey (2)', '3089500': 'Tekere', '3089600': 'Axis Mundi (7)', '3090200': 'ABB', '3090600': 'Christine Janvier', '3090700': 'Society Of Mind', '3091000': 'Ginger Lee (3)', '3091200': 'Joca Perpignan', '3091300': 'Desolate (10)', '3091500': 'Mampy', '3091700': 'Papa J.I.D.', '3092000': 'Iranetta', '3092100': 'Killskillz (Spook 1)', '3092400': 'Battlecry (2)', '3092600': 'Jumproxx', '3092700': 'Samuel Vaney', '3092900': 'Heidi Blum', '3093000': 'D.J. Chill (6)', '3093300': 'Mind!', '3093900': 'Boston Police Gaelic Column Pipes And Drums', '3094100': 'Κορκόφιλος', '3094200': 'Georgia Louis', '3094300': 'Marty Haggard', '3095000': 'Alex Keleher', '3095100': 'Koxdeer', '3095200': 'Les Vieilles Pies', '3095400': 'Kathy Lecinski', '3095700': 'The Fantabulous Brass', '3096700': 'Total Control (14)', '3096800': 'Tim Gray (4)', '3097000': 'Jazzspirit', '3098200': 'Γιάννης Γιάγκος', '3098600': 'The Tempo Toppers (2)', '3099300': 'Skyve', '3099700': 'The Reds, Pinks And Purples', '3099900': 'Anna Wamoker', '3100100': 'Leland (3)', '3100200': 'Pill Module', '3100600': 'Pat Ritchey', '3101300': 'Merchant (6)', '3101600': 'John B. Evans', '3101700': 'Warren Weagant', '3101800': 'The Double Image', '3102300': 'Sangre Asteka', '3102400': 'Jacques Argence', '3102600': 'Dj Mac Leod', '3102800': 'Canol Caled', '3103200': 'Matt Weir', '3103800': 'Birgit Grenat', '3104000': 'Akiboy', '3104700': 'Acton Bell', '3105200': 'Temple Of Tiphareth', '3105500': 'Retro Sushi', '3106000': 'Isolde Woudstra', '3106100': 'Normal Oranges', '3106600': 'Terry Mark Und Sein Orchester', '3106800': 'Aiming Dishes', '3107100': 'Ingunn Kyrkjebø', '3107300': 'The Detroit Blues Masters', '3108600': 'Grupa Supernova', '3109400': 'Mikie Dangerous', '3109900': 'Zerener', '3110100': 'Яok!', '3111300': 'Elaine Salinger', '3111800': 'Igal Michael', '3112000': 'Saša Mutić', '3112300': 'Elsie Ortiz Potts', '3113000': 'P36', '3113800': 'Fortune (11)', '3114300': 'Rigorously Prostituted', '3114900': 'أسامة بابكر', '3115100': 'Spirit (32)', '3116200': 'Tres & Kitsy', '3116300': 'Butch Grinstead', '3116700': 'Quarteto Bossamba', '3117000': 'Marvin Quiñones', '3118100': 'Eliot Geller', '3118200': 'Clark & Pudell', '3118500': 'Sébastien Lorca', '3118600': 'Ellroy Clerk', '3118800': 'Billy Patrick', '3118900': 'I.D.K. (3)', '3119200': 'DJ Lemon Tea', '3119400': 'Candy Drugers', '3120000': 'Ethiopian Tattoo Shop', '3120600': 'Ellerman', '3120700': 'Timothy Orr', '3120800': 'Shomi', '3120900': 'A Kite Is A Victim', '3121100': 'Ronnie Stancil', '3121300': 'The American School Of Paris Jazz Band', '3121800': 'Ray Champa And His Orchestra', '3122600': 'Doctor Kajota', '3122900': 'Jonathan James Carr', '3123100': 'Fanfare De La Garde Rouge De Dakar', '3123200': 'James Neely', '3123300': 'Mutant Frogs', '3123600': 'The White Panda', '3123900': 'S/e/l/l/o/t/a/p/e', '3124000': 'Séan Victory', '3124100': 'Phillipe Charron', '3124400': 'Hear Here', '3124500': 'Fito Foster', '3124600': 'Anne-Laure Girbal', '3124700': 'Hell City Love', '3125200': 'The Strange Connections', '3125500': 'Snake Charmer (3)', '3125600': 'Leslie Todd', '3125700': 'Ben Wainright', '3125800': 'Combo Los Astronautas', '3126100': 'Angelo Debarre Quartet', '3126200': 'Wendell Johnson (2)', '3126900': 'Dios Trio', '3127000': 'The Electric End', '3127100': 'Dan King (2)', '3127400': 'The Three Wise Men (3)', '3127500': 'PJ Newman', '3128000': 'Out Of Hand (3)', '3128200': 'Vilsy', '3128600': 'Bane Surovi', '3128800': 'Diamond Grill Click', '3129000': 'アトラス', '3129200': 'Moise Belmustață', '3129300': 'منادي', '3129600': 'Dorina Rădulescu', '3130100': 'Lussi (2)', '3130300': 'C. Müller', '3130400': 'Blue Friend', '3130500': 'Силвия Кацарова', '3131000': 'MusicDefinesGravity', '3131700': 'Overdazed', '3132300': 'Zetor (2)', '3132400': 'B. Binam', '3132800': 'Laifer Hooligan', '3133100': 'The Bruce George Ensemble', '3133300': 'Giuseppe Savio', '3133400': 'William J. Hebert', '3133500': 'Urbonics', '3133700': 'Bing Brummel', '3134000': 'Coro Los Monteros', '3134400': 'Hilton Belle', '3134600': 'Hands High', '3134800': 'Young Kee-Bo', '3135000': 'Firoz Jullandhri', '3135100': 'King (27)', '3135200': 'Len Johnson And The Hi-Lighters', '3135900': 'Tierischer Frühling', '3136000': 'Esprit Nouveau', '3136400': 'Chain Of Fools (2)', '3136500': 'Alberto Chimelli', '3136900': 'Monolab (2)', '3137500': 'Forget Your Fears', '3138100': 'Crow-Sis', '3138200': 'Jackin Andy', '3139100': 'Great Wide North', '3139600': 'Bergendy Cooke', '3139900': 'Betty Jo Baxter', '3140100': 'Billy Lane (2)', '3140400': 'Willy \"Le Diable\"', '3141100': 'Bast (8)', '3141200': 'Hilarious LTD.', '3141400': 'Poems Of Dead Kings', '3141500': 'Gemeinschaftswerk Funkenflug', '3142200': 'The Columbia Symphonette', '3142400': 'Central Jersey Region II South Concert Band', '3142700': 'Zinx (2)', '3142800': 'Fernando Carvalho (4)', '3143000': 'Shango (4)', '3143100': 'The Frydaddys', '3143200': 'Sandro Carlo Camerin', '3143300': 'Chicane (6)', '3144200': 'Vadim Yegorovsky', '3144900': 'Angelo Loia', '3145100': 'DJ Ben I Sabbah', '3145300': 'B.B.C. Chorus', '3145500': 'Luis Aravena', '3145600': 'The Sleepover (2)', '3145900': 'Orchester Joe Palmer', '3146000': 'Lónlí Blú Bojs', '3146100': 'Bob James (10)', '3146500': 'Derek Markle', '3146600': 'Steve Noble (2)', '3147300': 'Tiia Turunen', '3147400': 'The Ed Bagatini New Swing Orchestra', '3147800': 'The Green Apples', '3148500': 'Comité Caviar', '3148600': 'Breakthrough (3)', '3148700': 'Anal Aardvark', '3148900': 'Nega (4)', '3149200': 'The Goodbye Look', '3149400': 'K:E:B', '3150200': 'Mighty Band', '3150500': 'Dennis Fagaly', '3150700': 'Woody With The Goodies', '3150900': 'H. E. Burns', '3151200': 'Bona (3)', '3151500': 'Butthole Noise', '3151600': 'Steve (166)', '3151800': 'Arpeghy', '3152200': 'Pino Ponte', '3153300': 'Jan Pelc (2)', '3153500': 'Brando Y Su Banda', '3153600': 'Daniel Dean (2)', '3153700': 'Paco Escudero', '3154000': 'Moteld', '3155000': 'Gisclon', '3155200': 'ADK (5)', '3155300': 'Cradle To Grave (3)', '3155900': 'The Son Seals Blues Band', '3156000': 'Roedy Damhudi', '3156200': 'Tops All-Star Orchestra', '3156400': 'Pres Rodriguez', '3157100': 'Bohuš DLM', '3157200': 'Party At The Moontower', '3157300': 'Felenaoti Tiresa Malietoa', '3157600': 'Michael Isador', '3157900': 'Sam Alone', '3158100': 'Pablo O. Bilbraup', '3159300': 'World Famous Thompson Brothers', '3159500': 'Agrupación Casa Oliver', '3159600': 'Alien (34)', '3159800': 'Neffbros', '3160000': 'Iguanas De Trapo', '3160400': 'Lifedeceiver', '3160500': '[sh - man - tra]', '3160600': 'Hellfighter', '3160800': 'Luciano Ardi Y Su Conjunto', '3161300': 'Джонни (5)', '3161900': 'Tajadre', '3162200': 'Echo (31)', '3163000': 'Sophia Cruz', '3163100': 'Ron Kartchner', '3163200': 'Joan Martin (4)', '3163300': 'Anna Ash', '3163400': 'The Rockaderos', '3164000': 'Abyssal (2)', '3164200': 'Walter Waser', '3164400': 'DJ Kappa (3)', '3164800': 'Mike \"Ruffcut\" LLoyd', '3164900': 'As.Milk', '3165300': 'Rabiat (2)', '3165500': 'King Of The Opera', '3165800': 'Nico FromBerlin', '3165900': 'Banditas (2)', '3167100': 'Alain Bombard', '3167500': 'Vaaler Sangforening', '3167600': 'Alien Heritage', '3168100': 'Bodypolitics', '3169200': 'The Twilights (8)', '3169400': 'Attic Ears', '3169700': 'Bar Scott', '3170100': 'Robert Holmes (7)', '3170200': 'Human Regression', '3170700': 'Steve Hager', '3170800': 'Lyttah Emelyanova', '3171100': 'George Grandy & His Band', '3171600': 'Blodig Alvor', '3171800': 'Mishva', '3172100': 'Roy Marsden (2)', '3172500': 'Jack Hale, Jr. And His Nashville All-Star Band & Singers', '3173400': 'H. Bowen', '3173700': 'Carolyn Thomson', '3173800': 'Anonym (4)', '3174200': 'Hoopii Brothers', '3175100': 'Constantin Rusnac', '3175300': 'Alta', '3175500': 'Brian Tansley', '3176100': 'Sturmabteilung (German S.A)', '3176700': 'ใชัสําหร้บเป็นลีอเพือการศึกษา', '3176800': 'Chrome (20)', '3176900': 'Mark Del Valle', '3177300': 'Blabs', '3177400': 'Drayton Goss', '3177600': 'Rocky Doucette', '3178200': 'Bruce Herschensohn', '3178300': 'T. Motley', '3178500': 'Damaris Peterson', '3178800': 'Big Truck', '3178900': \"Combined Cocert Parties Of St Joseph's And Hato Paora Colleges\", '3179200': 'Professor X (8)', '3179700': 'James Van Der Zee', '3180100': 'Reajuste', '3180300': 'Tomáš Skřivánek', '3180800': \"If They Ask Tell Them We're Dead\", '3181200': 'Achim Duchow', '3181400': 'Agnessa', '3181500': 'Ярослав Ярославенко', '3182100': 'Anders Färdal', '3182200': 'Dennis Parker (8)', '3182400': 'Cannon Beach', '3182500': 'Roman Candle (3)', '3182600': 'Oddmund Finnseth', '3182800': 'Amarou', '3182900': 'K (52)', '3183700': 'Orchestra sîrbească de tamburași a ansamblului \"Banatul\" din Timișoara', '3183800': 'Mike Szarzynski', '3183900': 'Injected Hate', '3184200': 'Márcio Leonardo', '3184800': \"Dirt Don't Hurt\", '3185200': 'Guillaume Tondreau', '3186500': 'Nono Rejna & His Hawaian Guitars', '3186700': 'Tempus Fugit (6)', '3187200': 'Sinal26 - Tiago Inuit & Ruben Costa', '3188200': 'Justin Roberts (2)', '3188300': 'Koziosko', '3189100': 'Fuat (2)', '3189300': 'The TV Watchers', '3190300': 'Roar Vestad', '3190900': 'Sue Strand', '3191300': 'Sergio Daniele', '3191500': 'Kutay Pehlivan', '3191900': 'Hoyt Hudson', '3192300': 'Urko Arozena', '3192500': 'Joseph Laszlo', '3193100': 'Alan Troxell', '3193200': 'Sidsel Ryen', '3193400': 'Radio Rocha', '3193800': 'Cool Cut (4)', '3194400': '16 Valvulas', '3194600': 'Eric & Band', '3195200': 'The Shakers (12)', '3195300': 'Raude Talsmenn', '3195400': 'Dicke (3)', '3195500': 'Carlos Jasso', '3195600': 'Shintaro Kishida', '3195800': 'DJ Rasfimillia', '3196000': 'Svetlana Bojković', '3196600': 'Diorama (3)', '3196700': 'Mathematics Incorporated', '3197000': 'State Collapse', '3197200': 'Shanty City Seven', '3197600': 'A Public Hanging', '3197800': \"Brewster's Five\", '3198200': 'Martin Sommer (2)', '3198500': 'Zakat', '3198900': 'Gerd Rubahn', '3199200': 'Frédéric Castel', '3199300': 'Augusta Christensen', '3199600': 'The Light Brigade (3)', '3200300': 'Dominique Vangah', '3200400': 'Silhouette Bushay', '3200500': 'Billy Gray (5)', '3200900': 'And They Say', '3201600': 'Moral Crusade', '3201900': 'Tampa Blue Jazz Band', '3202100': 'Buffalo Billys', '3202700': 'Mano (19)', '3203100': '千葉千枝子', '3203200': 'Eduardo Maria Falletti', '3203400': 'Elisabeth Jansson', '3204100': 'Via Dolorosa (3)', '3205100': 'Drug Money (2)', '3205200': 'Frank Curtis (2)', '3205300': 'Аркадий Грек', '3205500': 'Helgi Pétursson', '3205800': 'Harold Fielding', '3206300': 'Lamine Toure And Group Saloum', '3206700': 'Os Cinco Crioulos', '3207200': 'Lil Bitch', '3207400': 'Clear Heart Brothers', '3207700': 'Wonkhaï Palma', '3207800': 'Svarthaueg', '3207900': 'Knecht', '3208300': 'Last Bullet', '3208900': 'Petr Hrdina', '3209300': '23:59', '3209800': 'Black5ound', '3210100': 'Hilton Raw', '3210200': 'River Of Blood', '3210400': 'Baby Fresh (5)', '3210600': 'Big Bandit Of The N.U.T. Klique', '3211000': 'Stefan Valletti', '3211100': 'Unknown Dimension', '3211800': 'Johnny Dot', '3213100': 'Corn Doggy Dog & The 1/2 Lb.', '3213200': 'Sadiqua', '3213500': 'Army (4)', '3213900': \"Yuya Uchida & 1815 Super Rock 'N' Roll Band\", '3214000': 'Fourtune', '3214300': 'Armageddon (19)', '3214400': 'The Pinocchio Ensemble', '3215900': 'Symuran', '3216400': 'Feinkost Decker', '3216600': 'Viktor Ek', '3216700': 'De Sadist Au GoGo', '3217200': 'Roth Péter', '3217300': 'François-Régis Barbry', '3217400': 'Gregoire Fiaux', '3217600': 'Highway One Media Entertainment', '3217800': 'Stooki Sound', '3218000': 'Orchestra Panica', '3218800': '\"Show Boat\" Orchestra', '3219700': 'Tacsi', '3219900': 'Hiroshi Miki (2)', '3220600': 'Grossty', '3220900': 'Inocencio Iznaga', '3221200': 'John Ketchings', '3221400': 'Painted Youth', '3221600': 'Seán Millar', '3222800': 'Tom Burns (4)', '3222900': 'Kfir Shichrur', '3223000': 'John Archer (7)', '3223200': 'Bitter Peace (2)', '3224300': 'Entranced (3)', '3224800': 'Optional Body', '3225000': 'New-Look', '3225400': 'Insaciables', '3225800': 'Mango Kask', '3225900': 'Jaes', '3226600': 'Dogpile (2)', '3227400': 'Angelo White', '3227800': 'Ray Magee', '3227900': 'Arev Armenian Folk Ensemble', '3228000': 'Bohuslav Krška', '3228500': 'Mesutisci', '3229300': 'Chris Lion', '3230600': 'Richard E. Gross', '3230900': 'Hazy (5)', '3231000': 'Chrisjay', '3231100': 'Dennis Mallard', '3231200': 'The Skies', '3231400': 'The Al Vega Trio', '3232000': 'Mireček', '3232300': 'Rue Duo', '3232900': 'Elk Blood', '3233100': 'Fifty Lashes', '3233200': 'Os 3 Xirus', '3233400': 'Veratrum', '3233500': 'A.D.H.D. (2)', '3233700': 'Iza Blawat', '3233900': 'Minnesota Fats', '3234600': 'The Mayfair Set (2)', '3234700': 'Kozak System', '3235000': 'Bless (20)', '3235100': 'Jean-Daniel Chollet', '3236400': 'Musikiller', '3236800': 'Christian Nowak', '3237000': 'Doris (15)', '3237600': 'Buddy Jack', '3238000': 'ABBA-Esque', '3238200': 'e.lax', '3239100': 'Chela Prieto', '3239300': 'Ecocidio', '3239600': 'Immolate', '3240100': 'Μαριάννα', '3240300': 'Harry Robert Wilson', '3240500': 'Lucca (4)', '3240600': 'Dexi (3)', '3240700': 'Hopper Noz', '3240900': 'Highestpoint', '3241400': 'Katharin Rundus', '3241700': 'Natlek', '3241900': 'DJ Nice Toulouse', '3242000': 'K-rtoon', '3242300': 'Total Control (15)', '3242700': 'Davin Palmer', '3243000': 'John W. Stalls', '3244500': 'Leonardo Costa', '3244900': 'Roswitha Stützel', '3245200': 'The Cosmopolitan Church Of Prayer Choir', '3245500': 'Couscous', '3245900': 'I. Primati', '3246000': 'Nightfalls', '3246800': 'Steamboat Bluegrass Band', '3247100': 'City Saints', '3247600': 'Remake (2)', '3247900': 'Bernd \"Snoopy\" Simon', '3248500': 'The Castroes', '3248600': 'Leopoldine Lauth', '3249000': 'Nikolina Mazalin', '3249800': 'Arr Man Deco', '3250400': 'Arild Johnsen', '3250600': 'Boomting Da Poet', '3250800': 'DopeSmoke', '3251000': 'Karmablue', '3251600': 'Die Original Fidelen Rosentaler', '3251700': 'Pee Wee Kingsley Band', '3252000': 'Mister X (18)', '3252900': 'Όρια', '3253000': 'Costta', '3253400': 'Nay Fitz', '3253600': \"Ghouls'N'Ghosts\", '3253700': 'DJ Харизма', '3253800': 'International Heroes', '3253900': 'Bourgeois Heroes', '3254100': 'Conner Molander', '3254200': 'Michael Czerny', '3254600': 'Rolf-Jürgen Eisermann', '3255200': 'B.O.O.M.A.', '3255300': 'Zeigisch Kidsky', '3255800': 'Del-Tones', '3256000': 'Isaac (20)', '3256400': 'Sjoko', '3256500': 'Grupo de Teatro \"Los Campanilleros\"', '3256800': 'Axiom (27)', '3257500': 'Lolita Caballero', '3257600': 'Marvel The Gr8', '3258300': 'Nagaland Missionary Choir', '3258500': 'Linus Touchet', '3258600': 'House Of Villians', '3259500': 'Pop Perlas', '3259700': 'William Strother & Stratergy', '3259800': 'Marco Farouk', '3259900': 'Susanne Dähn-Leach', '3260100': 'Hersang And His City Slickers', '3260800': 'Hidden Highways', '3261400': 'Jah Daniel', '3261700': 'Nele-Liis Vaiksoo', '3261900': 'Suzie Parker', '3262200': 'Eddie Monteiro', '3262300': 'Zeus (27)', '3262700': 'U.L.A.Ş', '3262900': 'Busted Bearings', '3263000': 'C. B. Miller', '3264700': 'Christian Gottlieb Gunther', '3264800': 'Lydie Quichaud', '3264900': 'Francis Kills', '3265400': 'The White Nights', '3266000': 'Seasons (6)', '3266100': 'Peter Udd', '3266200': 'The Trash (2)', '3266500': 'Ligeti Éva', '3266600': 'Krunk (3)', '3266800': 'Max Corcoran Project', '3266900': 'Jackson Kincheloe', '3267200': 'Colin Bugbee', '3267400': 'The Aurelians', '3267600': 'Christelle Amoussou', '3268200': 'Indi (7)', '3268300': 'Daniel Rieffel', '3268500': 'Klitsa Trochani', '3269000': 'Robert Windpony', '3269200': 'Bob & Ellis', '3269300': 'Queen Tut', '3269700': 'Feuerzeug', '3269900': 'Toni Kettinen', '3270100': 'COGIC International Mass Choir', '3271200': 'Neyma', '3271300': 'R.O.D. (6)', '3271600': 'Two Left', '3271800': 'Maio De Jota', '3272200': 'Lotul Național de Hardcore', '3272500': 'Ann Capps', '3273300': 'Poncho Marcus Burton', '3273500': 'Fran Swinn Trio', '3274500': 'Georges Dufour', '3274900': 'George Ling', '3275100': 'Image (22)', '3275500': 'FN2', '3275700': 'Ariok', '3275900': 'Portia Maserati', '3276200': 'Autumn Dervish', '3277200': 'Raging Storm', '3278700': 'Master Rafiq Ali', '3278800': 'Mike G The Lyrical Chemical', '3279000': 'Konspiracy (2)', '3279700': 'Drake Peterson', '3279800': 'Audiosystem', '3280100': 'Некрономикор Проджект', '3280200': 'Hitlerismo Esoterico', '3280400': 'Primo (14)', '3280500': 'Zampogne Calabresi', '3280600': 'Hyperbits', '3281100': 'Ian Senior', '3281300': 'Cortex Dei', '3281400': 'D.J. Baller Joe', '3281700': 'Hunger Boys', '3281800': 'Zyanya Yohual', '3282300': 'Det Sosiale Skuespill', '3282400': 'Star*Bodixa', '3283100': 'Mark Miserocchi', '3283200': 'Raven Head', '3283600': 'Shardana', '3283700': 'Winston Parker (2)', '3284000': 'She Walks In My Memories', '3284700': 'The Skatastrophes', '3284900': 'Gweilo (3)', '3285300': 'No Return (3)', '3285500': 'Keiko Matsuo And Her Ensemble', '3285700': \"L'il Ray And The Fantastic Four\", '3286000': 'Heather Dotson', '3286300': 'Karla (7)', '3286400': 'Alkatraz From Bandits', '3286800': 'P4iN', '3287200': 'Tony Poole (3)', '3287400': 'Canyon (11)', '3288100': 'Day Of Execution', '3289200': 'Renato Dionisi', '3289400': 'Рустем Сафаров', '3290500': 'Sick Horse', '3291500': 'Kaxta', '3291700': 'The Mellers', '3291900': 'Asociación Delictuosa', '3292500': 'Behavior (3)', '3292800': 'Ah! Kosmos', '3293000': 'Sébastien Lovato', '3293500': '孔令奇', '3293800': 'Ashot Satyan', '3294000': 'Johnny Lum Ho', '3294100': 'Orchestra Frank Jordan E Coro', '3294200': 'Da Menace (3)', '3294500': 'Meating', '3294900': 'The Marcus Johnson Project', '3295200': 'Little Jimmie', '3295300': 'Finch (8)', '3295500': 'Pat Caddick', '3295800': 'Under The Divine Electron We Seek Deliverance From The Sodomite Ape-lings', '3296200': 'Joe Paris & His Band', '3296800': 'Bud Tribe', '3296900': 'Justin Chalice', '3297100': 'Joe Mul', '3297700': 'Doug Legacy', '3298400': 'Dahhm Life', '3298500': 'Moonbird (2)', '3298800': 'Juan Ramón López', '3299300': 'Samira (11)', '3299400': 'Marry (3)', '3299500': 'Oda (7)', '3299600': 'Spencer King', '3299800': 'Anna Haava', '3300000': 'Oona Libens', '3300100': 'Mutilation (3)', '3300800': 'The Dropouts (3)', '3300900': \"Pa's Lam System\", '3301300': 'Alwyn Elliot', '3301500': 'Sakina Abdou', '3301800': 'Le Massey Ferguson Memorial', '3301900': 'Klaus Pentinghaus', '3302100': 'I Said No (2)', '3303300': 'Bigbeat', '3303500': 'CCCP (7)', '3303700': 'Steeplejack (2)', '3304100': 'La Rondalla Tapatía', '3304400': 'Toe Suck', '3304800': 'Tilaka', '3305100': 'Dean Watson (2)', '3305800': 'Deathincarnation', '3306100': 'Amberjack Rice', '3306500': 'Earthlord', '3306900': 'Mind Terrorist', '3307000': 'Chainsaw Girls', '3307100': 'Miss Johnnie', '3307500': 'Curb Slappys', '3308100': 'John Doe (34)', '3308300': 'The Spiritual Tones', '3308400': 'The Pack (9)', '3308500': 'Thinka Francis', '3309500': 'The R.O.D. Project', '3309700': 'Blacksword', '3310100': 'Loptus', '3310700': 'The Wrecked Angles', '3311000': 'TEMPELHOF (3)', '3311600': 'Waldo & Marsha', '3312100': 'Александр Соломахин', '3312500': 'Carmen Brown & The Elements', '3312600': 'Joe Miller (14)', '3313000': 'Anthony & The Lookouts', '3314000': 'Denkerskind', '3314100': 'The Jazz Invaders', '3314300': 'João Renes & Reny', '3314500': 'Agent 99 (4)', '3314700': 'Interlude 112', '3315000': 'Orville Williams', '3315200': 'Dawn Approach', '3316000': 'Open Wide', '3316300': 'The Candy Store Prophets', '3316500': 'Pierre Cavalli Quartett', '3316600': 'Halo (23)', '3316900': 'Novembervägen', '3317000': 'Левис', '3318300': 'Marduk (6)', '3318800': 'Rick Fortune', '3319600': 'V.I.P. (22)', '3319800': 'Grupo Amistad', '3320100': 'Paul Whear', '3321700': 'Steve Turner (18)', '3321800': 'Oliver Staal Big Band', '3322400': 'Darpada Luche', '3323100': 'RQS', '3323600': 'Jan Tetter', '3324100': 'The Beachcombers (4)', '3324300': 'Clitoris Allsorts', '3324500': 'Packy Smith', '3324800': 'Subterranean Vision Serpent', '3325900': 'The Bushmen (9)', '3326000': 'Cause For Revelation', '3326300': 'Duncan Black (2)', '3327300': 'Konkers', '3327800': 'Gini Greb', '3328200': 'Odotte Bakari No Kuni', '3328900': 'Labros Tsamis', '3329100': 'Ponyblod', '3329300': 'Dj Quimera', '3329400': 'Western Four', '3329500': 'Mario Saracino', '3330300': 'Naor Dayan', '3330500': 'Jick The Rapper', '3330900': 'Rasmus Schmidt', '3331200': 'Surrender (7)', '3332000': 'Mal Gray', '3332400': 'Lenimal', '3332800': 'Angelo Pinto', '3333300': 'Night Terror (4)', '3334100': 'Anabel Santiago', '3334500': 'Wilfred Tuitt', '3334600': 'Midnight Persuasion', '3334700': 'Martin Burk', '3335100': 'Dreamers (7)', '3335400': 'The Swallow Quintet', '3336000': 'Efraín Rozas', '3336300': 'Void Of The Serpent One', '3336900': 'Frieder Klaris', '3337000': 'Johnny Hoffmann', '3338200': 'Panseluța Fieraru', '3338500': 'Jayme Caetano Braun', '3339000': 'علاء بشارة', '3339100': 'Smiley Turner', '3339300': 'Fruto Da Terra', '3339400': 'Jorge King', '3340000': 'Beto Marin', '3340900': 'Leaf (13)', '3341000': 'Gina La Piana', '3341700': 'J. ListenMan', '3341900': 'Juanjo Ortega', '3342300': 'Nii Okai', '3343100': 'Владимир Иванов (6)', '3343300': 'Last Chance (4)', '3343400': 'Smany', '3343700': 'Cristalle Elaine Bowen', '3343800': 'Chronovalve', '3343900': 'Joey Paluchowski', '3344000': 'Kalashnikov (12)', '3344300': 'Chuck And Chuckles', '3344600': 'Cesare Bardelli', '3344700': 'Ioana Toma Zamfir', '3344800': 'Fabricio Peçanha', '3345000': 'David Devlin', '3345400': 'Adèle Jacques', '3345500': 'Anime Torment', '3346200': 'Emma Elizabeth', '3346400': 'TheCode', '3346500': 'Faded Grave', '3346800': 'Ingemar Hedberg', '3347100': 'High Rollers (5)', '3347700': \"Dottie O'Brien\", '3347800': 'Decembers Architects', '3347900': 'Minichilius', '3348600': 'Biernaski', '3348700': 'T-Elle', '3348800': 'Нателла Болтянская', '3349100': 'Tim Northrop', '3349300': 'Jarmila Jarešová', '3349600': 'Novlet Russell', '3349700': 'Whim Schrever', '3350000': 'Bicefalo', '3350400': 'Bright White Lightning', '3351300': 'Vesku Jokinen & Sundin Pojat', '3351400': 'Läser', '3351800': 'Haack (2)', '3352500': 'Philippe Brosse', '3355400': 'Jake Dreyer', '3355600': 'The Monkey Weather', '3356300': 'Звездомир Керемидчиев', '3356700': 'Paul Minsart', '3356800': 'BNB All-Stars', '3356900': 'Artcore', '3357000': 'Five Graves To Cairo', '3357100': 'Ulla Varis', '3357900': 'Classe De Neige De La Ville De Troyes', '3358000': 'Tommy Berndtsson Quartet', '3358100': 'Tremors (10)', '3358200': 'Shigaru Toyama', '3358300': 'Poncho Zuleta', '3358700': 'Barry Duke (2)', '3359100': 'Tennessee Pedestrians', '3359300': 'Frank Mostaccio', '3359400': 'Sir Llewy Project', '3359800': 'Hans-Joachim Koellreutter', '3359900': 'Bantama Kontire Nyonkro', '3360300': 'Gonzo-Gonzo', '3360400': 'Sacrilege (4)', '3360700': 'Caca (3)', '3361200': 'Yvon Delisle', '3361900': 'Stanisław Mikulski', '3362500': 'Klaus Grandt', '3363000': 'Audrey Campos', '3363100': 'The Overtones (7)', '3363300': 'Monja Schacht', '3363500': 'Time.Space.Repeat', '3363700': 'The Magnetic Band', '3363800': 'The Wellesley Widows', '3364400': 'Andrea (102)', '3364500': 'Jim Bliss', '3365100': 'Tony Black (6)', '3365200': 'The Stereo Types', '3365500': 'Jack McCarthy (3)', '3365800': 'Plague Of Happiness', '3365900': 'Jokers Wild (2)', '3366200': 'IG88 (2)', '3366400': 'Corneliu Fănățeanu', '3367300': 'The All Star Stompers', '3367700': 'Rob Leroy', '3367800': 'Jimmy Martin And New Deal', '3367900': '(No Logo)', '3368100': 'Bora Vasić', '3368200': 'Валентина Иванова', '3368400': 'Don Ewell Quartet', '3368600': 'Richard Sanderson (4)', '3368800': 'The Ball & Chain', '3369000': 'Junction Photography', '3369100': 'M.I.L.O', '3369500': 'Ирина Мельниченко', '3369700': 'Kwiet Storm', '3370000': 'Spunky Funky', '3371000': 'Complesso Wolf Marini', '3371400': 'Backlrimbla', '3371500': 'Dezire (4)', '3371700': 'Hans Ödén', '3371800': 'Sinner Sinners', '3372700': 'Tina Lys', '3373000': 'Casual Dolphins', '3373200': 'Euel Hall And The Rhythm Rockers', '3373300': 'John Wesley Durbin', '3374100': 'Ken Kosec', '3374200': 'Kjeld Og Perlen', '3374300': 'Black Unicorn (2)', '3374500': 'Mallard (2)', '3374700': 'Audio Akrobat', '3375100': 'Star Treks', '3375200': 'Hired Goons (3)', '3375600': 'wubworld', '3375800': 'Dorothy Hamill', '3376200': 'Bamboozle (3)', '3377000': 'Discophren', '3377200': 'Steve Schmidt (7)', '3377500': 'Gruia', '3377600': 'Adam Iscove', '3377800': 'Per Andréasson (3)', '3378000': 'Susanne Löwenhard', '3378500': 'Spool (5)', '3378900': 'Suonuotio', '3379100': 'Just Roges', '3379300': 'Dachsfarm Südwest', '3379400': 'Woodwork (4)', '3379500': 'Greg Kendrick', '3379700': 'Mark Guerrero (2)', '3379800': 'Brioni Faith', '3381100': 'Herbert Häfner', '3381300': 'Military Brass Band', '3382300': 'Boreas (2)', '3382800': 'Linksma Kompanija', '3383400': 'Jens Hudek', '3383500': 'Blood Diamond', '3384300': 'Deborah Anderson (2)', '3384600': 'Suigeneris', '3384700': 'Meridian (21)', '3384800': 'The Brainstorm', '3385100': 'Barbara Keck', '3385200': 'The Golden Ugenya Band', '3385400': 'Jazz Renaissance Quintet', '3385800': 'Chad Holtzman', '3386300': 'Lelu', '3386600': 'Øystein Aase', '3388000': 'Д. Водопьянов', '3388100': 'Sophie Decaudaveine', '3388200': 'Tennessee Tom & His Rhythm Boys', '3388600': 'The Pushcart', '3389500': 'Irma Gwynn', '3389700': 'Ulpiano De La Guardia Puchades', '3390300': 'Эксперимент', '3390600': 'The Dismembers', '3390800': 'Keiko McNamara Trio', '3391100': 'Billy Star (2)', '3391200': 'Shelly Yokas', '3391300': 'Chris Daniel (3)', '3391700': 'Yossi Duende', '3391800': 'Fuewa', '3392200': 'Laura Marzadori', '3392700': 'Bayou Boys', '3392800': 'Greg V', '3392900': 'Tamarin (2)', '3393500': 'Jillson', '3393600': 'The Ozone Farm', '3394200': 'Ole Jegindø Norup', '3394300': 'Marty Social', '3394400': 'Parkhill (2)', '3395000': 'Babydick', '3395100': 'Antonio Luis Dos Santos', '3395400': 'W. Taylor And The Washboard Trio', '3395800': 'The Jangles (2)', '3397200': 'Arthur Lavoie', '3397300': 'Los Wallas', '3397400': 'Jan Prześlakowski', '3397700': 'Savana Lee', '3398200': 'Eugene Wilks', '3398400': 'The Bionic One', '3398600': 'Frank Gérard', '3399000': 'Benedictus Appenzeller', '3399200': 'OOFJ', '3399800': 'Shores Of Elysium', '3400300': 'The Earth Man', '3400900': 'Bacchus Baracus', '3401600': 'Alex N. (2)', '3401700': 'The RaverQueen', '3401800': 'Paul Hanks', '3401900': 'Ncrypta', '3402700': 'Victor Dandeș', '3402900': 'Jonny Blanc', '3403000': 'Weszely János', '3403300': 'Cosella', '3403400': \"Judy Valentine And The Children's Singing Chorus\", '3403700': 'Filaria (2)', '3404100': 'Karyl \"Kap\" Laws', '3404400': 'Richard Knapp (2)', '3404700': 'Jenny Martell', '3405500': 'Rang-A-Tang', '3405600': 'Philip DeGruy', '3406100': 'Soft and Crispy', '3406500': 'Berdien Stenberg & Orchestra', '3406600': \"The Lafferty's\", '3407300': '48 Crash', '3407800': 'Totacuba', '3408400': 'Studio-Novel', '3408500': 'Antonio Cagnazzo', '3408600': 'David Wolsey', '3409200': 'Toby Y Sus Sicodelicos Norteños', '3409300': 'Chumps (2)', '3409900': 'Сердолик', '3410000': 'The Building (2)', '3411200': 'Culture Nax', '3412400': 'Central State University Chorus', '3413000': 'A Void In Coma', '3413600': 'Body Shot', '3413900': 'Ary Diesendruck', '3414000': 'Leogun', '3414500': 'Lightstream', '3414600': 'Androgynous Mind', '3414900': 'Anna Pisco', '3415100': 'T.r.a.s.e.', '3415500': 'Margus Johanson', '3415700': 'Ringo Angel', '3416100': 'Άννα Και Μαρία Καλουτά', '3416500': 'Subsketch', '3416900': 'Alg0rh1tm', '3417400': 'Calidonia County', '3417500': 'The Bikinis (3)', '3417800': 'Vitor Junior', '3418000': 'Rod LaBand', '3418100': 'Sarah McMillan', '3418300': 'Caj Incorporated', '3418600': 'Plastic (28)', '3419000': 'Belve Dentro', '3419700': 'Tehnologika', '3420100': 'Nikko Petrelakis', '3420300': 'William Crooks', '3420500': 'Fabio Orsini (2)', '3420700': 'No Reason (4)', '3421100': \"Rock'n'Bones\", '3421200': 'Luc Granger', '3421300': 'Stupid Rebellion', '3421700': 'Royal Scottish National Orchestra Junior Chorus', '3421800': 'Time Piece (2)', '3421900': 'Romain (22)', '3422100': 'Mortem Parto Humano', '3422300': 'Alfredo Lazo', '3422500': 'Il Clan', '3423200': 'Teemu Malisen Yhtye', '3423600': 'El Trio Pensamiento', '3423700': 'Laurits Emanuel', '3424000': 'Manu Trudel', '3424100': 'Lindo Man', '3424200': 'Seven Candles', '3424500': 'Squinger Ranks', '3424900': 'L Plates', '3425000': 'Shitfun (2)', '3425100': 'Dan Fägerquist', '3425200': 'The Rise Of Brutality', '3426300': 'Michelle Grotto', '3426500': 'Deathseekers', '3426700': 'The Melodians (2)', '3426900': 'The Mullet Monster Mafia', '3427100': 'William Rose Benét', '3427600': 'Gadget White Band', '3427800': 'Phantom (43)', '3429400': 'Neat (3)', '3429700': 'Melanies', '3429800': 'Silky Raven', '3430600': 'Matt Fagan', '3430800': 'Als Das Kind Kind War', '3431300': 'Big G (16)', '3431400': 'Kiyoe Yoshioka', '3432200': 'Manaka Tominaga', '3432500': 'Kerbholz (2)', '3432600': 'Б. Е. Евсеев', '3432800': 'Yoshihiko (2)', '3433500': 'Frobisher Mbabazi', '3433700': 'David Cobb (3)', '3434000': 'Bandoura', '3434900': 'Bain Stevens', '3435100': 'deep Snapper', '3435200': 'The Relic Of Mary Lou', '3435600': 'FireFly (13)', '3435700': 'Abdul Malik Muhammad', '3436100': 'Vroege Vogels', '3436900': 'Aethority', '3437000': 'Nep-Tune & dEmianjr', '3437100': 'John Tessier (2)', '3437400': 'Odd Complex', '3438100': 'Bobby Lindoro London', '3438800': 'KathaLe', '3439200': 'Roland Leduc', '3439400': 'Nick Palmer (5)', '3439800': 'Valentina Yaron', '3440000': 'Dries Laheye', '3440300': 'Randy Hupp', '3440400': 'Freddy And The Tennessee Ramblers', '3441100': 'Asteroidi (2)', '3441400': 'Arthur Howard', '3441600': 'Paul Gonsalves Sextet', '3442000': 'Stripp', '3442400': 'Alva (5)', '3442600': 'Tom Copson', '3442700': 'Der Scharfe Anton', '3442800': 'Šausmīgie Rūķīši', '3443000': 'Joey Greco', '3443100': 'Decimation (3)', '3443400': 'Lan Nonnemann', '3443700': 'Bright Curse', '3443800': 'Amber Zakatek', '3443900': 'John Pritchard (5)', '3444000': 'Shock (28)', '3444100': 'Knock Up', '3444300': 'Achterbahn Band', '3444700': 'Roberto Sawicki', '3445400': 'Our Final Hour', '3445800': 'Ratakadun Pihasoittajat', '3445900': 'H.-P. Arnold', '3446300': 'The Illawarra Leagues Club', '3446400': 'Γιώργος Παγιάτης', '3446500': 'Lee Michael (2)', '3446600': 'Lou & Ginny', '3446900': 'Bleeze', '3447700': '13 Beats Off', '3448200': 'Väinö Korsu', '3448800': 'Chriss-Tina', '3449400': 'Wild Flowers', '3449600': 'Валерий Кичин', '3450100': 'Boardwalk', '3450700': 'Jalil Azouz', '3450800': 'Jule (10)', '3451000': 'Gerstaffelen', '3451100': 'Levi Mann And His Quartet', '3451500': 'Eugen Dittberner', '3451600': 'Santa Barbara Symphony', '3452300': 'Zara (15)', '3453200': 'C:\\\\Slim.K', '3453400': 'Morteza Masuleh', '3454000': 'Doretta', '3454200': 'Wild Turkey (3)', '3454300': 'Rude Mood', '3454700': 'Original Wiener Salon-Orchester', '3455000': 'The Seen (2)', '3455300': 'Radim Babák', '3455900': 'Strong Baby', '3456300': 'Susan Grace (2)', '3456700': 'Ben Terrell', '3457100': 'John Kennedy Horne', '3457200': 'Experimental Lain', '3457300': 'Виктор Енченко', '3457500': 'Karsten Steinmetz', '3457800': 'Mari Menari', '3458400': 'Ai Ninomiya', '3458800': 'Atta (3)', '3459500': 'Little Sunflower', '3459700': 'Jere Sanford', '3460200': 'Απόστολος Μάρδας', '3460400': 'Kellie Greene & Co.', '3460500': 'Jeff Hughart', '3460600': 'Mac Mustard', '3460800': 'Sarah de Warren', '3461200': 'Valsalva Rerun', '3461400': 'El Habitante', '3461600': 'Non-Volatile Memory', '3461800': 'Fêt Nat', '3462000': 'Mafia Boy (2)', '3462200': 'Colleen Shuemaker', '3462600': \"Devil's Hollow\", '3463400': 'Amy Reid (2)', '3463600': 'Daniel (137)', '3463900': 'Thierry Gilles', '3464000': 'XVII (4)', '3464300': 'Joanna Brzezinska', '3464400': 'Basil Hume', '3465000': 'Orhandjiüss', '3465900': 'Villsvinå', '3466100': 'Awol Collaboration', '3466600': 'Cid Travaglia', '3466700': 'Hurry-Up Offense!', '3466900': 'Nocturne (16)', '3467000': 'Defend:R', '3467200': 'Гренада', '3467300': 'The Witches Of Elswick', '3467500': 'Männerchor Der Bamberger Symphoniker', '3467700': 'Chris Tannum', '3468100': 'CH1', '3468500': \"Karen O'Neill\", '3469600': 'Frans Van Wijk', '3469800': 'Funeral Sex', '3470000': 'Heavy Creatures', '3470100': 'Pensativa', '3470200': 'Berg (15)', '3470400': 'Sirens Of Titan (2)', '3470600': 'Pota En La Sopa', '3472000': 'Agony Of The Bleeding Flesh', '3472200': 'Dósa Mátyás', '3472300': 'Rudi J.', '3472500': 'Scrap Them Squad', '3472600': 'Marc De Koninck', '3473000': 'Ecthalion', '3473300': '11 WAT', '3473400': 'Stefen K', '3474400': 'Jimmy Emmert', '3474800': 'Stefano Carrara (2)', '3475000': 'Fletcher Henderson Sextet', '3475200': 'Raimundo Sarriegui', '3475300': 'Antu kai Mawen', '3475700': 'Touched (3)', '3476000': 'Digitalia (2)', '3476500': 'Josef Of The Fountain', '3476900': 'Andrea Brown (3)', '3477100': 'The Roots Man', '3477500': 'Various Blonde', '3477800': 'Энерджи', '3478300': 'Vivace (7)', '3478600': 'H.L. Hubbard And The Jets', '3479000': 'Wall Of Silence (2)', '3479300': 'Eddie Allamand', '3480200': 'Larry Nimrod', '3480700': 'Pinokio (4)', '3481200': 'Laugh At Us', '3481500': 'Soft 85', '3481700': 'Vincenzo Serratì', '3481900': \"Cat's Paw (3)\", '3482200': 'Till We Die', '3482300': 'Yashar Gasanov', '3483000': 'Mojo (29)', '3483300': 'Odioso Dios', '3483700': 'Cly-Suva', '3483800': 'Jim Voris', '3484200': 'Dave Rocket', '3484800': 'Shasta Ground Sloth', '3485100': 'Coro ICRT', '3485200': 'Urethrorroea', '3485700': 'Kai Løvring', '3486100': 'Blizzard (23)', '3486400': 'Alejandro Moreiras', '3486500': 'Am7', '3486800': 'Hagonny', '3486900': 'Parishioners Of Washinomiya Jinja Shrine', '3487000': 'Dennis James Woods', '3488100': 'Lee Strobel', '3488300': 'Vered Klepter Smetana', '3488700': 'The Reflections (8)', '3489000': 'Mary Mulliken', '3489200': 'La Brigata Pretolana', '3489300': 'Anthony & The Delsonics', '3489700': 'Twosidez', '3490000': 'Universal Mind (4)', '3490200': 'Selo Selo', '3490900': 'R&B Express', '3491600': 'Zenobia (3)', '3491800': 'Jetlag Ash', '3492100': 'Svetlana Jungić', '3492400': 'محمد الحياني', '3493400': 'AIWABEATZ', '3494000': 'Flaum Adger', '3494200': 'Barbie And The Rockers', '3494300': 'Diablo (31)', '3495700': 'Orquesta Continental Brass', '3496000': 'Guns On Mars', '3496100': 'Jeevan Mann', '3496800': 'Richard \"Big Dad Ritch\" Anderson', '3497600': 'DJ Saltykov', '3497700': 'Joe Gallant (2)', '3499100': 'Anneke Ziva Altman', '3499200': 'Jose Novo', '3499300': 'Настя Крайнова', '3499600': 'Serafin Cortez Y Su Orquesta', '3500200': 'Skylar Tait', '3501100': 'Mezcla (4)', '3501400': 'Tilly Lopez', '3501600': 'Adam Walton (2)', '3501800': 'Solly Aronowsky', '3502000': 'Dietrich Georg Neumann', '3502200': 'Chaos Territory', '3502300': 'Jessie Lee King And The Crowns', '3502400': 'Jodel-Duo Gessinger', '3502900': 'Aklash', '3503000': 'Bovver', '3503200': 'Rachmat Kartolo', '3503300': 'Gabriel Sanchez (3)', '3503500': 'Hróðmar Sigurbjörnsson', '3503600': 'b-UMB', '3503800': 'Tom Tronic', '3504100': 'Social Compact', '3504300': 'Allen Keller (2)', '3504700': 'Marie-Noëlle Lebleis', '3504800': 'Johnny Duggan', '3505100': 'Dewtch Crystal', '3505700': 'Zarko Rebac', '3505900': 'Don Cheto', '3506000': 'Pincapallina', '3506400': 'Sub Space Distorters', '3506500': 'Outlaws Of Ravenhurst', '3507100': 'The Teacups (2)', '3507200': 'Pimiento Pastel', '3507300': 'Burial Shroud', '3507400': 'Larry McFadden', '3507600': 'Soul 4 Sale (2)', '3507800': 'Caino E Abele', '3508400': 'Blood Filled Syringe', '3508500': 'Gel Bosoni', '3509500': 'The Rycojets', '3510000': \"Spike o'Connell\", '3510100': 'С. Бестужева', '3510900': 'The Southern Sisters', '3511300': 'Mona McCall', '3511400': 'Corina Ciuplea', '3512300': 'ChipaChip', '3512400': 'Oakover Methodist Choir', '3512600': 'Randver Þorláksson', '3512700': 'Ian Draycott', '3512800': 'Nita Klein', '3513000': 'Dave Cash (4)', '3513300': 'Black (50)', '3513500': 'Michiru (3)', '3514100': 'Mesmerized (5)', '3514200': 'Alexis Steele (2)', '3514900': 'Rio (45)', '3515200': 'Alain Saint-Claude', '3515300': 'Roberto (53)', '3515500': 'Gregory Isaacs Band', '3515800': 'Ellen Farren', '3516200': 'Unperishable Fall', '3516400': 'Wojciech Gumiński', '3516500': 'Jon Rutherford', '3516700': 'Arben Spahiu', '3517100': 'Rolf Töpperwien', '3517200': 'Greg Mobius', '3517300': 'Remodd', '3517400': 'Inmemorial', '3518100': 'Saleh Alaolaiany', '3518300': 'Ma Sein Hkaw', '3518600': 'Pro Musica Da Camera', '3518700': '7 Days Of Funk', '3518900': 'Rob McCarthy (2)', '3519300': 'The Kuksugers', '3519800': 'Daughters Of Eve', '3520100': 'Frankkie Rodgers', '3520200': 'The Bad Mics', '3520400': 'The Young Boys (2)', '3520700': 'Slim J', '3520900': 'The Crash Poets', '3521900': 'James T. Horn', '3522100': 'Sound Symposium', '3522200': 'Shayne Hatfield And The McCoys', '3522400': 'Meido', '3522600': 'Gregor Staub', '3522700': 'Epidemiks', '3522900': 'Norine Braun', '3523300': 'World Symphony Orchestra', '3523500': 'Irae Divine', '3524100': 'The Whitey Cantrell Singers', '3524200': 'Michael Constadinos', '3524800': 'Lou Mac', '3525300': 'The Rose Patrol', '3525400': 'Amplidyne Effect', '3525500': 'Lancirama', '3525700': 'The Bristols (4)', '3526100': 'Oye (2)', '3526200': 'Shirlee Neal', '3526300': 'Society Of Shadows', '3526600': 'Othar Broadnax', '3527200': 'Ben Small', '3527300': 'Peter Deutsch', '3527800': 'Mhuri Ya Chawatama, Makwinja, Madeyi Na Chikanya', '3528000': 'Herbert Gordon & His Hotel Ten Eyck Orchestra', '3528200': 'Ramón Villanueva', '3528900': 'Clown (13)', '3529200': 'The Jack Varney Group', '3529300': 'Orquestra De Bandolins De Esmoriz', '3529700': 'The Partygang', '3529800': 'The Country Singers', '3530100': 'Sweet Dreams (5)', '3530200': 'Royal Crusaders', '3530300': 'Russell Eves', '3531100': 'Primary Talent', '3531200': 'Cleo Sylvestre', '3531400': 'Gyoza Daioh', '3531500': 'Andrius Kuprevicius', '3532600': '2Albert', '3532700': 'Ronan Portela & Ariel Rodz', '3532800': 'The Crossroad Gospel Singers', '3532900': 'Gick', '3533200': 'Don Sherwood', '3533300': 'Zenek Balanga', '3534100': 'Dropbunny', '3534200': 'The Amsterdam Baroque Soloists', '3534300': 'Nylson Wash', '3534400': 'Blind Alley (3)', '3534500': 'Artuan de Lierrée', '3534600': 'Ulrich Türk Und Band', '3535200': 'Violet Wand', '3535300': 'Midnight Twisters', '3535400': 'Noise Buffet', '3535500': 'Liza Utter', '3536000': 'Nadi (3)', '3536200': 'Ländlertrio Echo Vom Rossbärg', '3536500': 'Aram Merangulian', '3536600': 'The Substitutes (3)', '3537500': 'The Birdmen', '3538700': 'Jim Yessian', '3539400': 'Imida', '3539500': 'Γιάννης Πανίτσας', '3539700': 'Bandetto', '3540200': 'Kris Vanston', '3540500': 'Mauro Calderón', '3540600': 'Grupa Kan', '3540700': 'Brandon Locher', '3540800': 'Duetto (2)', '3541000': 'The Eitzel Ordeal', '3542800': 'Mirage (70)', '3542900': 'Quixotic (7)', '3543000': 'Samon Rajabnik', '3543300': 'ChillGoHard', '3543700': 'Marika Postlerová', '3544200': 'Scarcity BP', '3545100': 'Horlick Choi', '3545200': 'Daniel Ek', '3545500': \"Mad Hatter's Den\", '3546000': 'Anthony Elms', '3546700': 'Kapelle Echo Vom Säntis', '3546800': 'Leon (55)', '3547000': 'The Master Of Maggot Mayhem', '3547700': 'Luisito Ayala', '3547800': 'ShockWave (19)', '3548100': 'Monotono', '3548500': 'Abandoned Places', '3549100': 'Robert Dey', '3549200': 'Smelly Tongues (2)', '3549400': 'Bluesville (3)', '3549500': 'Clockwork (31)', '3549800': 'Slovak Folk Ensemble Chorus', '3549900': 'Mike Wisniewski (2)', '3550200': 'Swims (2)', '3550300': 'Johnny Pana', '3550400': 'Chuckklez', '3550500': 'Blaufrontal', '3550900': 'Withem', '3551100': 'Ernie Mindel', '3551400': 'Hansjörg Ryser', '3552100': 'Peisithanatos', '3552200': 'İsmail Hakkı Nebiloğlu', '3552500': 'Bezane', '3553100': 'Μελίνα Ζαχά', '3553900': 'Fernando Cachadiña', '3554800': 'Vandercash', '3555000': 'The Matrix (5)', '3555300': 'Decadence (6)', '3555900': 'Pete Ochs And His Orchestra', '3556200': \"Transvaal Rockin' Jazz Stars\", '3556700': 'Payjack (2)', '3557100': 'Donnie Cranfill', '3557600': 'Tyger T', '3557700': 'Cellulite Star', '3557800': 'Emma Beko', '3558500': 'Lecca Lecca', '3558800': 'Rangaistuspotku', '3559000': 'Kyle Vonder Haar', '3559300': 'Cyril Creuset', '3559700': 'Coralito De Palma', '3561300': 'Marvin Gaster', '3561400': 'The Coconutheads', '3562300': 'Rahaw', '3562500': 'Mark Lotz', '3562600': 'Wang Chieh', '3562900': \"John Williams' Synco Jazzers\", '3563100': 'John Patrick (6)', '3563500': 'Motimba', '3563900': 'Thom Huhtala', '3564100': 'Compact Justice', '3564500': 'Rosalba (4)', '3564600': 'Brain Dead (12)', '3564900': 'Karon Denay', '3565100': 'Redwood (9)', '3565300': 'Lord Astaroth (2)', '3565600': 'Wing Han Tsang', '3565900': 'Probity (2)', '3566700': 'Lucas Donaud', '3567100': 'Sinicess', '3567400': 'Loubitek', '3567800': 'E202 Musicvisualizers', '3568200': 'Marco Savoia', '3568400': 'Jungle Steppaz', '3569400': 'Worldwide Catalogue Marketing', '3569600': 'Sjunde Sinnet', '3570700': 'The Blazers (12)', '3570900': 'Katia (14)', '3571200': 'Christian (162)', '3571300': 'Skavenclaw Arts', '3571600': 'A-CicCo', '3571800': 'Romeo Quiñones', '3572000': 'Eve Kempbell', '3572100': \"Oumar N'Diaye\", '3572200': 'King Curtis And His Soul Music', '3572300': 'Γιώργος Λημνιός', '3572500': 'Tempza', '3572900': 'The Strikers (4)', '3573000': 'Lloyd Grace (2)', '3573200': 'Dj Khimaira', '3573300': '\"El Niño\" Khayatte', '3573400': 'Aleksandar Branković', '3573500': 'يوسف شوقي', '3574200': 'The Clearways.', '3574500': 'Kenny Brown (5)', '3574700': 'Todd Martin (3)', '3574800': 'Prototokyo', '3575000': 'Yafobara', '3575800': 'Alvar Nilsson', '3576000': 'Crystal Night', '3576100': 'Jeff League', '3576300': 'Jim Finnigan', '3577300': 'Grandma Sparrow', '3578200': 'Barbara Baxley', '3578500': 'Pickle (4)', '3579000': 'Fence Kitchen', '3579100': 'De Nieven Bieter', '3579200': '2visualize', '3579600': 'Podravske Tamburice', '3580100': 'Toothpaste (3)', '3580200': 'The Third Ending', '3580400': 'Teotima', '3580500': 'Mateo Senolia', '3581400': 'Tierra (5)', '3581500': 'High On \"Pops\" Orchestra & Chorus', '3581700': 'Saul Espada', '3582400': 'Mario Nodari', '3582800': 'Latin Dub Soundsystem', '3583100': 'Domba', '3583300': 'Vikt0r', '3584100': 'James Nathan', '3584200': 'Josepha Feistner', '3584400': 'Thes Siniestros', '3584500': 'Helmut Herold', '3585000': 'Diana Moisejenkaite', '3585100': 'Onkel Lou', '3585800': 'Jerry (50)', '3586000': 'Kathleen Chastain', '3586100': 'Mara Schroeder-von Kurmin', '3587600': 'Lucky Da Don', '3587700': 'Low Deezie', '3587800': 'Emer McDonough', '3587900': 'Stefano Carrara (3)', '3588600': 'The Disorders', '3588900': 'Larry Heaberlin', '3589000': 'Michael Dixon & J.O.Y.', '3589600': 'Wintarnaht', '3590100': 'Hans Peipp', '3590500': 'Muawijhe', '3590900': 'Adryen Rock', '3591800': 'De Lifters', '3592300': 'Norm Dombrowski And The Happy Notes', '3592400': 'Melvin Mars And The Gingerbeards', '3592800': 'Drs. L. Rosewater', '3593200': 'Klapa Brodosplit (M)', '3593300': 'Gun Control', '3593500': 'British Light Orchestra', '3593600': 'Vera Und Die Rabbits', '3594000': 'The Chickering Four', '3594600': 'David Mitchell (18)', '3594900': 'Egidio Ienzi', '3595000': 'Richard Nothelfer', '3595100': 'Viralata', '3595900': 'Fearsome', '3596300': 'Hindsyte', '3598200': 'Like Someone', '3598300': 'Gordan (2)', '3598400': 'Meatblinder', '3598900': 'Lidija Bačić', '3599000': 'Greylevel', '3599100': 'Atlantica Vox', '3599300': 'Guilt (8)', '3599400': 'Tadao Takashima', '3599900': 'Lucatwana', '3600100': 'Los Cincos (2)', '3600300': 'Silat Beksi', '3600400': 'The Big Reunion Cast 2013', '3600500': 'Eddie Elsey', '3601000': 'JabStar', '3601400': 'Harbou', '3601600': 'Rocket 350', '3601900': 'Nastya (3)', '3602200': 'Studio Frendo', '3602900': 'Ernesto Florentin de Perdouradane-Cassenflippe', '3603800': 'Rotting Beaver Rectum', '3603900': 'Asspennies', '3604300': 'Gloria Cappellato', '3605000': \"'Premnagar' Chorus\", '3605200': 'Chór Arion', '3605500': 'Andres Felipe Tovar', '3605700': 'James Vacca', '3606600': 'Mysteriis (7)', '3606700': 'High Tower Z', '3606900': 'Mink (12)', '3607700': 'Alhaji (Prince) Surajudeen Alamu Akere (Shaura)', '3607800': 'Notta Comet', '3608100': 'Alexandre Rabin', '3608200': 'Agents Provocateurs', '3608400': 'Surge Line', '3608600': 'Ascaloon', '3608700': 'Dr. Rocket And The Moon Patrol', '3608800': \"Devil's Emissary\", '3609000': 'The Dukes Of Deliciousness', '3609700': 'Dror Sini', '3609800': 'Il Coro Del Gigante', '3610900': \"Bill Carlisle's Kentucky Boys\", '3611000': 'The Final Tourguides', '3611300': 'Marlene Wallace', '3611500': 'Calm Of Zero', '3612000': 'Ronny Folse', '3612100': 'DoubleA (12)', '3612200': 'Oil Tattoo', '3612300': 'Phil Marshall (5)', '3613400': 'The Pace-Setters (26)', '3613700': 'Fogel Ladislau', '3614400': 'Arthur Fandl', '3614500': 'Thomas Hilton (2)', '3614700': 'Bro Smith', '3614900': 'Burning Engines', '3615300': 'ASII', '3615600': 'Dave Puchan', '3615800': 'El Tremendon Combo', '3615900': 'Нематжон Кулабдуллаев', '3616200': 'Hi.Moez', '3616400': 'Bob Bath Band', '3616500': 'Roy (Junior) Grey', '3616700': 'Richard Spendlove', '3616900': 'Gli Archi Magici Di Ezio Leoni E Enrico Intra', '3617100': 'Tomoya Do_M', '3617700': 'Mummu', '3617900': 'Ballet School Group', '3618000': 'Έφη Οικονομάκη', '3618300': 'Surrogating', '3619100': 'Ernst Brunner (2)', '3619200': 'Daz (18)', '3619300': 'Sieker Band', '3619900': 'Human Slaughter', '3620000': 'Terry Freeman', '3620100': 'John Patter', '3620400': 'Botoxx', '3620600': 'Iasma', '3620700': 'Mario Mangini', '3620800': 'Simpson (7)', '3620900': 'Sex///Tape', '3622000': 'Lloyd Williams (9)', '3622100': 'Ulises Castillo', '3622200': 'L. Mill', '3622600': 'Adil Samir Ali', '3622700': 'Jessi Leal', '3623000': 'The Lemontops', '3623600': 'Demirayak', '3624000': 'Francisco Martins', '3624300': 'Arjan Daswani', '3624400': 'Peter Fergie', '3624600': 'Ексхуматор', '3624900': 'California State University, Fresno Jazz Band A', '3625200': 'Pepa Knight', '3625300': 'Steve Shomo', '3625400': 'Falling Action', '3625500': 'Tony Hughes (3)', '3625600': 'Walt Weiskopf Sextet', '3625800': 'Saratoga Seven Jazzband', '3626200': 'Massimo Mercelli', '3626500': 'Ephraim Joe', '3626600': 'ZDN', '3626800': 'Lais Fiorili', '3626900': '例のK', '3627300': 'Faus', '3627500': 'Jason DeCristofaro', '3627700': 'عبد الحليم موسى', '3627900': 'First Breath After Coma', '3628000': 'Zacc David', '3628300': 'Kenedi Krisztián', '3628900': 'Albrecht Haupt', '3629100': 'Acoustic Torment', '3629300': 'Purplefridge', '3629900': 'Torqverem', '3630000': 'Holiday Unheard Of', '3630300': 'Kaki Vargas', '3630500': 'Nordic Connect', '3630700': 'John Tyers', '3631700': 'Marco.DJ', '3631800': 'Zumbul I Zvekan', '3632600': 'Rolando Bruno y Su Orquesta Midi', '3632800': 'Little Joe And The Moroccos', '3633100': 'José (25)', '3633600': 'Oro Negro Y Su Orquesta', '3633900': 'TMI (2)', '3634100': 'Herb Ellis-Ray Brown Sextet', '3634600': 'Lazer (4)', '3635500': 'Beyond The Ashes', '3635800': 'Always Never Fun', '3635900': 'Jimmy Morris (3)', '3636000': 'Pražce', '3636200': \"Stuffin'\", '3636400': 'HomieBeats', '3636800': 'Beer Drinking Fools', '3636900': 'Духовой Оркестр Ровенского Музыкального Училища', '3637700': 'Kesse', '3637900': 'Karadjov', '3638100': 'Miloslav Ištvan Quartett', '3638300': 'Burning River Brass', '3639100': 'Euphrates (3)', '3640100': 'Shaka Da Hustler', '3640200': 'Brian Berg (2)', '3640400': 'Kurbeti', '3640800': 'Pinkque', '3640900': 'Unai Azkarate Ilarduia', '3641200': 'Raphael Andia', '3641300': 'Paris Treantafeles', '3641600': 'Ellie (20)', '3642200': 'SPECTRUMLIGHT', '3642300': 'Peu', '3642500': 'Jake \"The Earthquake\" Simpson', '3643200': 'Skip (25)', '3644400': 'Trilogía Del Conocimiento', '3644500': 'Michael Marshall (8)', '3644600': 'Legion Drakuul', '3644700': 'The Body Lyre', '3644800': 'Petta Bo Bedre', '3645400': 'Los Cobardos', '3645700': 'Magalie Maaike', '3645800': 'Denisa Schneebaumová', '3646100': 'Harry Kalas', '3646500': 'Scotty Hoaglan', '3646600': 'Boris Trajanov', '3646900': 'Orquesta Black Power', '3648000': 'Alex Mad & Platon', '3648500': 'Wayne Ginell', '3648600': '7+7is', '3648900': 'Little League Hero', '3649200': 'The Cuban Piano Masters', '3650000': 'Jasmin Tawil', '3650100': 'Ironika', '3650300': 'Bob Allan Et Son Orchestre', '3650600': 'Dick Swanson', '3651000': 'Оги', '3651100': 'J. Prosper', '3651200': 'D-Sosa', '3651300': 'Eddie Silvers & Orchestra', '3651700': 'Александр Резников', '3652000': 'Justyna Sylwia', '3652100': 'Errol Dee', '3652200': 'Esther Williamson Ballou', '3652400': 'Passenger Peru', '3653100': 'Ready Teaddy McQuiston', '3653600': 'The Hum Hums', '3654100': 'De Strandjutters', '3654400': 'Sylvia (31)', '3654500': 'Divan Tulip', '3654600': 'Mass Appeal Choir', '3654700': 'Ramón Solo', '3655200': 'Blue Sky Archives', '3655400': 'George Scheibel Big Band', '3655500': '5 Karis', '3656100': 'Jac A Wil', '3656200': 'Marcel Sauzel', '3656300': 'Deliciousweets', '3656500': 'Lajla Renate Buer Storli', '3657000': 'Manual Martinez', '3657400': 'Mosquito Diabólico', '3657500': 'La Signora Stracciona', '3657700': 'DeadSkeleton', '3658100': 'The International Collegiates', '3658200': 'BDYBLDNG', '3658400': 'Henrik Björkman', '3658800': 'George Paoa', '3658900': 'Lothar Steup Trio', '3659300': 'Szerletics Mária', '3660100': 'Gigino Labella', '3660500': 'The Robber Barons', '3660600': 'Roland Teche', '3660800': 'Sedem Supraphon Minút Family Strachu', '3661300': 'Pollen (13)', '3661600': 'Chicky (3)', '3661700': 'Revolutionary Brothers', '3661800': 'Jesper Gadelius', '3662000': 'Jag (10)', '3662200': 'Country Inc.', '3662500': 'Trio Horstmann', '3663100': 'Enfantloup', '3663200': 'Natali Rene', '3664100': 'Disgrace And Terror', '3664400': 'پرویز وکیلی', '3665300': 'The Hearts (5)', '3665900': 'Chips Murphie', '3666300': \"Rage N' Rox\", '3666500': 'Tin Pan Valley', '3666600': 'Carlos Miranda Y Su Orquesta', '3667100': 'Детская Хоровая Школа \"Весна\"', '3667300': 'Conjunto Irmãos Dias', '3668200': 'LichtundErgreifend.de', '3668500': 'Victor Typical Orchestra', '3668700': 'Ant Aggs', '3668800': 'Hold Fast (2)', '3669200': 'Amersy', '3670000': 'File Of Ghosts', '3670100': 'Dark Star (17)', '3670200': 'Mike Green (21)', '3670400': 'François Jean-Noël', '3671200': 'Randy Butler (3)', '3671800': 'Wild With Joy', '3671900': 'Lenny The Lion', '3672100': 'One And The Two', '3672200': 'محمد حیدری', '3672600': 'Naeem', '3672900': 'S.E.R.E.S. Unidos Do Cabuçu', '3673600': 'Tele-Club', '3673700': 'Сергей Балашов', '3674100': \"Max D'Kay\", '3674300': 'DJ Oldskull', '3674500': 'David John (3)', '3674900': 'Red Boiling Springs', '3675000': 'Drumatix (5)', '3675600': 'Claude Prélo', '3675700': 'Joseph Stafford', '3675800': 'Noemí Serantes', '3676400': 'Samuel Wettstein', '3677000': 'Whitechapel 1888', '3677300': 'Bagunga!', '3678000': 'Dirty Dave (5)', '3678200': 'DaNicko', '3678300': 'Mr.Orange', '3678400': 'Zenerik', '3678500': 'The Double Cross Schoolgirls', '3678600': 'Alerta Kamarada', '3678800': 'Snorketz', '3679000': 'Cumbia Rockers Allstars', '3679400': 'Friends & Family Of Joyce Vincent And Thelma Hopkins', '3679500': 'Creation Station', '3679600': 'Gerry (17)', '3679700': 'Michael McMillan', '3680000': 'Mour (3)', '3681000': 'Gia (12)', '3682000': 'The Great American, Duet', '3682200': 'Yuuyu Aensland', '3682300': 'The Untouchables (27)', '3682400': 'Leptic Kid', '3682700': 'Liquid (45)', '3683300': 'Erick Trodly', '3683600': 'Christina Imsen', '3684300': 'Ray And Lamar', '3684400': 'Nye (4)', '3684600': 'Aaron Hill (2)', '3685000': 'The Fresh Beat Band', '3685300': 'DJ Bonzai Tarzan', '3685600': 'Rancho Das Lavradeiras Da Trofa', '3685800': 'Paolo Perilli', '3686100': 'Late City Edition', '3686300': 'Chor Des Zentralen Gesangs- Und Tanzensembles Des FDGB', '3686500': 'Huffnoids', '3686600': 'Warhammer (7)', '3686800': 'Philippe Barret', '3687100': 'Clara Strauss', '3687200': 'Edith Schneck', '3687600': 'Doncaster Youth Jazz Orchestra', '3687800': 'Didier Deroin', '3688000': 'Drowning Dreams', '3688300': 'Sqz Me', '3688600': 'Coprophagist Satisfaction', '3688700': 'Mikael Klasson', '3688900': '宮澤正樹', '3689000': 'O Xestal', '3689700': 'Free Parking!', '3690200': 'The Dirtyduck Revolution', '3690400': 'Reed Harper Trio', '3690500': 'Decadence (8)', '3690900': 'mr ambo', '3691000': 'Terex Titan', '3691900': \"Husbands 'N' Knives\", '3692800': 'Moshir-Homāyun', '3693400': 'Dallas D. Stroye', '3693500': 'The JLDJ', '3693700': 'Destino (2)', '3694500': 'Janie Rayne', '3695000': 'Auguy Lutula', '3695100': 'Pat And Joe Byrne', '3695500': 'Clément Mao Takacs', '3695700': 'Edouard Coquard', '3695800': 'Mariette Bodier', '3696000': 'Los Camagueyanos', '3696600': 'Edwin Newman', '3696700': 'Carmen Melis', '3697400': 'Phantom (44)', '3697700': 'Leonel Sena', '3697800': 'Modern Boots', '3697900': 'Tony Mac (5)', '3698000': 'Budd Lightbody', '3698100': 'Aristide Bernardi', '3698700': \"Atelier De Percussion De L'Université De Montréal\", '3698800': 'Bee Starr', '3699200': 'Baiana', '3699600': 'Virus (73)', '3699700': 'Richard McDonnell', '3699900': 'Claude Luter & Son Jazz Band', '3700600': 'Calle (10)', '3700800': 'Gérald Clary Smith', '3701200': 'Denise Caruso', '3701700': 'Ben Bashan', '3701800': 'Digital Noar', '3702200': 'Jerry Farris', '3702300': 'Ernst Jankowitsch', '3702500': 'Harmonique', '3703000': 'Santo Adriano', '3703100': 'Dabio', '3703400': 'Wildy (2)', '3703700': 'Endre Nordvik', '3703900': 'Tinniens', '3704200': \"The Southern Cross Boys' Choir\", '3704300': 'Fine Krakamp', '3704700': 'Noroy', '3704800': 'Bastard People', '3705000': 'Seracettin Erman', '3705300': 'Beef (20)', '3705600': 'Josh Gregg', '3705900': 'Αρετή Λαυράνου', '3706500': 'Hi Moccasin', '3706600': 'Exoteric Continent', '3706900': 'يوسف ضيا', '3707000': 'Andrea (107)', '3707100': 'Luk Marynissen', '3707800': 'High Society Orchestra (2)', '3708400': 'U.N.S.I.N.', '3708900': 'Jr Yellam', '3709000': 'Fantastic 4 (4)', '3709200': 'Alex Evans (5)', '3709500': 'くまりす', '3709700': 'Kamrar', '3710300': 'Doris Ackermann', '3710400': \"Gladys Hampton's Blues Boys\", '3711200': 'Killerbimbos', '3711600': 'Anton Ellis', '3712400': 'Sjukdom (3)', '3712700': \"Sepomuk's Sonderzug\", '3712800': 'Under The Big Top', '3712900': 'Brandon Canada', '3713000': 'Jos Vermeulen', '3713300': 'Nuccia Erly', '3713500': 'The E-Z Band', '3713600': 'Henry \"Doc\" Vegas', '3713700': 'DJ Gas Mask', '3713900': 'BID - ONE Group', '3714300': 'פיני חדד', '3714400': 'Bob Bale', '3714700': 'Nijam Langha Khan', '3714800': 'M Puri', '3714900': 'Coke Luxe', '3715100': 'Faures', '3715200': 'Gianni Russo', '3715500': 'The Boltz Family Five', '3715900': 'Chino Nuñez And Friends', '3716000': 'Fernest Arceneaux & His Louisiana French Band', '3716100': 'Suspend Stalker', '3716400': 'The Blue Jays (7)', '3717000': 'Erasurehead', '3717100': \"Avon's Friends\", '3717800': 'Claus (15)', '3718000': 'XO Project (2)', '3718600': 'Suite Soprano', '3719200': 'Wilbur M. Smith', '3719300': 'Tempsun', '3719400': 'Ina Ray Hutton And Her Orchestra', '3720600': 'The Camillos', '3721100': 'Luna (70)', '3721200': 'De Zingende Brouwersgast', '3721300': 'Mekhlouf Mohamed', '3722100': 'Piotr-Heslin', '3722400': 'LalaFa', '3723500': 'Rowdy Roll', '3724100': 'Roosevelt Miller', '3724500': 'Bussiga Klubben', '3725500': 'Tomoyuki Ohkubo', '3725800': 'Gerry Murphy (4)', '3726500': 'Samantha Horwill', '3727300': 'Freddy Alexander', '3727600': 'Calypso (11)', '3727900': 'Randoom', '3728000': 'The Juice Crew (2)', '3728100': 'Thandi Klaasen', '3728300': 'Steven Thomassen', '3728600': 'Marc Dommage', '3728800': 'Milan Milojković', '3729100': 'Hernán Martínez Y Las Estrellas', '3729200': 'The Outdoors', '3730000': 'Ypsos', '3730100': 'Pat Worsley', '3731800': 'Daniel Landolt', '3732000': 'Ongo Oruulaa', '3732500': 'The Johnny Harris Dance Band', '3732600': 'Oliver Baldwin G.', '3732700': 'Billy Hart Trio', '3733200': 'Yannoo', '3733300': 'Miguel Albarenque', '3733400': 'Droid (12)', '3733500': 'Powerhead', '3734300': 'Chris Clifton (2)', '3734500': \"Hector's Pets\", '3734800': 'Smooth Mellow Duo', '3734900': 'Jerome Williams (2)', '3735100': 'Abnegate (3)', '3735400': 'O.G. Goldie', '3736300': 'Stanisław Kazialski', '3736400': 'Max Williams (4)', '3736600': 'Whitney George', '3737000': 'Circumference Of The Sun', '3737300': 'Two To Go', '3737600': 'Theo Clark', '3737700': 'Mad Bwoy', '3737800': 'Las Chicas, Etc.', '3738000': 'Park Street Church Choirs', '3739000': 'Hairpower', '3739400': 'Mitch Grant', '3740000': 'Takeskogen', '3740100': 'The Book Club', '3740800': 'Patience (5)', '3741300': 'The N.Y. Symphonic Sound Orchestra', '3741500': 'Klankman', '3741900': 'Ürmas Autotün', '3742100': 'The Safety Patrol', '3742400': 'Dead Criminal', '3742600': 'Czaszka (2)', '3742700': 'Mel Jackson (3)', '3743100': 'Skinbasher', '3743200': 'Flip5ide', '3743300': 'Slaviša Guja Slaja', '3743400': 'Jeff Amurao', '3743700': 'Drago Mikulić', '3743800': 'Buddy And His Pals', '3744000': 'Mariko Hori', '3744100': 'Prophecy (42)', '3744600': 'Tony Christova', '3744900': 'Mademoiselle Lilou', '3745100': 'Ballet Russe', '3745200': 'Hrvatsko Kulturno Prosvjetno Društvo \"Prigorec\"', '3745500': \"Chris Lightcap's Bigmouth\", '3745700': 'Philippe Piotait', '3745800': 'Kidd Gerry', '3746400': 'Kruna First Medić', '3746500': 'Elemotho', '3747100': 'Trąd', '3747400': 'The Compsure', '3747500': 'Ländlerkapelle Sepp Mit Sine Buebe', '3748000': \"Lovin' Stuff\", '3748800': 'The Cronics (2)', '3749300': 'Microslave', '3749700': 'Fantastisizer', '3750300': 'Niečo Iné', '3750500': 'Darius (23)', '3750600': 'Jonida Prifti', '3751100': 'Morgan B', '3751200': 'Conjunto Tainos De Mayari', '3751500': 'Islets Of Dust', '3751600': 'Goom (3)', '3751700': 'All Japan Amateur Folk Singers', '3752400': 'Chris Hartwig', '3752800': 'Yoani Star', '3753400': 'Toshio Iiyama', '3754300': 'Gold Licker', '3754800': 'Ron Chandler (2)', '3756300': 'The Spyzz', '3756500': 'Gudrun Bruna', '3757000': 'Škara', '3757600': \"Deborah Pearyer's Children's Choir\", '3757700': 'Joy Amelie', '3757900': 'The Hotels', '3758200': 'Wim (17)', '3758400': 'The Revenge (5)', '3758700': 'Fat Flea', '3759400': 'Monarque (2)', '3759600': 'Indifferent Guy', '3759800': 'Severance & Cassidy', '3759900': 'Christian Schmitt (3)', '3760600': 'Vince Molina', '3760900': 'Frank Scott And His Scottsmen', '3761100': 'Aivars Zaltāns', '3761800': 'The Sand Trackers', '3762100': 'Royal Academy Of Music Soloists Ensemble', '3762800': \"Unité 2 L'Ouest\", '3762900': 'S.Alamu', '3763100': 'Timothy Very', '3763200': 'Space Venom', '3763400': 'Rumen Welco', '3763700': 'Skydust', '3764000': 'Primate (7)', '3764100': 'Al Castana', '3764200': 'Kalahari (6)', '3764900': 'The Champs (4)', '3765200': 'The Ebonaires (4)', '3765300': 'S.O.D.A. (3)', '3765800': 'Uccio Gaeta', '3766000': 'Another Excuse', '3766200': 'Brenda Foster (3)', '3766400': 'Bestial Devastator', '3766500': 'Pay Rol', '3766600': 'The Cowboys (3)', '3767000': 'Dj Joss (3)', '3767200': 'Oliver Ohene-Dokyi', '3767300': 'The End (46)', '3767700': 'The Elf (2)', '3768400': 'Jack Omer', '3768800': 'Jackie Hanson', '3768900': 'Sachsen Hai-ko', '3769000': 'The Rebel Dead', '3769200': 'Steve Eaklor', '3770100': \"Nun's Honey\", '3770200': \"Twilight's Embrace\", '3770400': 'Juanita Timpanaro', '3770500': 'Beak (4)', '3771400': 'Heidi Wolf', '3771500': 'Leitmotif', '3771800': 'KJS', '3772100': 'Shivoham', '3772700': 'White Widow (5)', '3773200': 'Badaró (3)', '3773600': 'René Madsen', '3773700': 'Shaya Perl', '3774100': 'Ženska Klapa Tamarin', '3774200': 'Current Figures', '3774500': 'Brenda Lynn', '3774800': 'Patricia Gouviea', '3775000': 'Writhmata', '3775200': 'David Bates (8)', '3775300': 'The Glenwoods', '3775600': 'Gold (28)', '3776000': 'Leave (2)', '3776100': 'Aitvaras', '3776500': 'Weeds (5)', '3776700': 'JP Mofo', '3776800': 'Terri Martin', '3778100': 'Nicholas Richardson (2)', '3779100': 'Deleted (2)', '3779200': 'RRG', '3780000': 'Agro & Friends', '3780500': 'Shux (4)', '3781000': 'Wheres Arnie', '3781300': 'Tor Inge Øgreid', '3781400': 'Teddy Nuvolari', '3782700': 'Daisuke Ono', '3782800': 'John Houghton', '3784100': 'Punktual', '3784400': 'Santos Viera', '3785400': 'Wheatstone Bridge Band', '3785500': 'Fontarabie', '3785600': 'Gerard Salonga', '3785700': 'Волчий Крест', '3785800': 'Pino Santoro', '3786400': 'Liz Fraser', '3786500': 'Coyotè Bøngwatèr', '3787100': 'Σταμάτης Χατζηευσταθίου', '3787300': 'Jesse De Los Santos', '3787500': 'LunaPress', '3787800': 'Morrie Pelsman', '3788000': 'Archie Duncan And His Scottish Band', '3788100': 'Alocasia Garden', '3788800': 'T-Bull Ink Company', '3789400': 'Annibale Berger', '3789600': 'Fred Gernot', '3790000': 'Maga Man', '3790300': 'The Gallahads (2)', '3790500': 'Sir Cederik Lucious', '3790700': 'Thirdhalo', '3790800': 'Sugar Shaf', '3791200': 'Fred Hall (2)', '3792100': 'Reg Benoit', '3792200': 'Bill Baize', '3792500': 'Michael Butler (7)', '3792900': 'Jaroslav Rendl', '3793100': 'Pleasure Planet', '3793500': 'Named By Strangers', '3793600': 'Kodokán', '3793700': 'Herbert Renn', '3793900': 'Zwell', '3794200': 'Mr.Funky', '3794300': 'Aullo-gr', '3794400': 'EDJ (3)', '3795100': 'Dekstra Large', '3795400': 'Memorium (3)', '3795600': 'Katharsis Transsi Meditaatio', '3796000': 'Pooneil', '3796200': 'Kima (5)', '3796300': 'Hattie Jessup', '3796700': 'Free Nelson Mandoomjazz', '3797400': 'Margaret Hellar', '3797900': 'Scars On Murmansk', '3799500': 'Kanseil', '3800100': 'Frank McLaughlin', '3801100': 'Putrescent Fog', '3801500': 'Farah Juste', '3801800': 'The Mighty Young', '3802000': 'Maria Nagy', '3802200': 'Salvador Roibon', '3802300': 'Serena Soccoia', '3802700': 'The Lester Brothers', '3802900': 'Natt (7)', '3803300': 'William Edie Marks', '3803500': 'Augur (3)', '3803600': 'Yamcha', '3803700': 'Kevin Adamson (2)', '3804000': 'Tyler Dean', '3804200': 'While (3)', '3804700': 'Helio (7)', '3805000': 'Harry & The Callahans', '3805400': 'Rob Garcia 4', '3805600': 'Yvan Madec', '3805700': 'Hal And Joanne', '3805900': 'George Brunies & His New Orleans Allstars', '3806300': 'Bowling Green State University Jazz Lab Band', '3806400': 'Marko Mandić (2)', '3806700': 'Thamad Fever Band', '3806900': \"eS'2'Da B-oK a.k.a.\", '3807100': 'Ara Kekedjian', '3807400': 'Šeštadienis', '3807500': 'Rodney & Company', '3808400': 'Mato Grosso (3)', '3808700': 'HNS', '3809600': 'Meredith Baxter', '3809800': 'Meimi Tamura', '3810000': 'Mankak', '3810200': 'Gerd Mann', '3810300': 'Kristian (12)', '3810500': 'Petah Sunday', '3810600': 'Oxtukal', '3810800': 'Werewolf 1992', '3811200': 'Frank MacKay (2)', '3811400': 'Nick And The Babes', '3811500': 'Diamond Mind', '3811800': 'Flanger (6)', '3811900': 'Aaron McGrath', '3812200': 'The Depose', '3812300': 'Lygia Ferra', '3812400': 'Xanima', '3812700': 'Wilda Beese', '3813300': 'Doctor Kielbasa', '3814300': 'DJ Larbi H Break', '3815100': 'Motohiko Hino Quartet', '3815200': 'Charles Maynard Mann', '3815400': 'Elohim (5)', '3815700': 'Ashanti (12)', '3816400': 'Lexie Nicole', '3816600': 'Tea Eerikas', '3816800': 'Village (8)', '3817000': 'Urze De Lume', '3817600': 'The Osmond Family And Chorus', '3817900': 'Г.Т.Островская', '3818300': 'Eino Säisä', '3818500': 'Winnie Ryan', '3819000': 'Raffaele Lipparini', '3819200': 'Hyenah', '3819300': 'Roger (70)', '3819700': 'Walfredo Toscanini', '3819800': 'Eddy Edouthe', '3819900': \"Idiot's Sky\", '3820000': 'Tommy & Co.', '3820300': 'Shawn Downey', '3820400': 'أحمد الحبروت', '3820500': 'Sam Keevers Nonet', '3820800': 'Preben Mahrt', '3821000': 'Iky Castilho', '3821100': 'Fange', '3821300': 'Jahng', '3821800': 'The Night Collectors', '3822100': 'Депрессия', '3822200': 'Sam Anderson And The Telstars', '3822700': 'Ferran Puig', '3822800': 'Friendship Train', '3822900': 'There Is No Teenage Love', '3823200': 'Paul Revere & Mark Lindsay', '3823900': 'Tentacle (2)', '3824100': 'Edgaras Jokubauskas', '3825100': 'Compagnia De La Luganiga', '3825200': 'The Rising Sun Orchestra', '3825300': 'Pez (17)', '3825800': 'They Were Thieves', '3826300': 'The Caterpillar Big Band', '3826500': 'Kez (6)', '3827200': 'Julie de Tengnagel', '3827500': 'K.P.P. Records', '3827700': 'Third World Citizens', '3827800': 'Charlotte Parfois', '3827900': 'Sabba MG', '3828100': 'The Whole Tribe', '3828200': 'Moses Martin', '3828900': 'Franco Bertarelli', '3829200': 'Corrupt Fruit', '3829800': 'The Black Bisons', '3829900': \"Arabie '79\", '3830100': 'Hands Down', '3830300': 'Goatchrist', '3830400': 'Ritty Birchfield', '3831700': 'The Tasty M', '3832000': '神楽坂まん丸', '3832100': 'Jazz Against The Machine', '3832400': 'Coral E Orquestra Musika', '3832700': 'Totem Terrors', '3833300': 'The Undertakers (15)', '3833500': 'Celso Ricardo Fabro', '3833600': 'Divampa', '3834300': 'Errol Crichton', '3834500': 'Cristian Zapata', '3835000': 'Lungs (4)', '3835100': 'Subjectjazz', '3835200': 'Jim Chriss', '3835300': 'دورا بندلي', '3835600': 'Noumenok', '3835900': 'The Swinging Sextet', '3836000': 'Christoph Wildfang', '3836200': 'Hysj', '3836400': 'John J. Huhta', '3836600': 'Dekinha', '3837900': 'Vokal Nord', '3838000': 'Xathrites', '3838500': 'Svešie', '3838900': 'The Selvaticos', '3839100': 'Mercury Hall', '3839400': 'A Tribute To', '3839500': 'Bob Hicks (5)', '3839700': 'Chuck Constantino', '3839900': 'Glenna Salsbury', '3840400': 'Tony Almerico And His Allstars', '3840800': 'Death Comes Pale', '3841200': 'Diego Aloé', '3841700': 'Michael Adel', '3842800': 'The Song Spinners (2)', '3842900': 'Horacio Cabañas', '3843100': 'Ben Eller', '3843400': 'Variete (3)', '3843700': 'Åsgårdsreia', '3844900': \"Dan Krchnak's Southside Rhythm Masters\", '3845800': 'High Ball', '3846200': 'Isa Zaro', '3846300': 'Our Garden', '3846600': 'The Struts (2)', '3846800': 'Terex Productions', '3847400': 'Snakki Vuorio', '3847700': 'Lux Comms', '3847800': 'Jim Godfrey & The Wildcats', '3848100': 'Liam Sillery', '3848500': 'Coska', '3848900': 'Bjarni Hafþór Helgason', '3849000': 'Kasia Lins', '3849300': 'Replik (3)', '3849500': 'The New Blue Flames', '3850000': 'James Mckenzie (4)', '3850200': 'Jighead', '3850300': 'Comforters Gospel Band', '3851000': 'Car On The Moon', '3851200': 'La Década Pordiosera', '3851600': 'Soulpunks', '3852000': 'Paul Clapper', '3852100': 'Fabes Bollies', '3852200': 'Oluf Carlsson', '3852400': 'Hjördís Geirsdóttir', '3853100': 'Black Marsh', '3853200': 'AbraHaraam', '3853700': 'Segrid Pearson', '3854100': 'Kersi Mistry', '3854300': 'Essence Of Pain', '3854500': 'Orquesta Ritmo Swing', '3854900': 'Brandon Ethridge', '3855100': 'Todd Googing', '3855200': 'Jones 2.0', '3855400': \"Kid Clayton's Band\", '3855800': 'Aweful Kanawful', '3855900': 'Bastard Sound', '3856200': 'Isle (2)', '3856300': 'Lito Gonzáles', '3856400': '24 Satellites', '3856500': 'Anthony Lewis (4)', '3856800': 'Pete Peterson (7)', '3857000': 'Supertuff', '3857200': 'Emil Dumitrescu', '3857700': 'Studenets', '3857800': 'The Freak Master', '3858200': 'Umberto Genovese', '3858400': 'Trois S', '3858900': 'Audubon Society Of Rhode Island', '3859100': 'Nitemirror', '3859200': 'Vagabond (13)', '3859300': 'Hollow Shadow', '3859500': 'Harald Dobler', '3859600': 'Mean Machine (7)', '3860000': 'Smail Chaoui', '3860100': 'Clive King (2)', '3860200': 'Baishaki Ganguly', '3860300': 'Nivi', '3860500': 'Sweetheart (4)', '3861100': 'Roberto De Caro', '3861300': 'R Gamble', '3862200': 'Mech (6)', '3862700': 'Rossica Choir', '3863200': 'Inspir', '3863300': '伊藤要', '3863400': 'Sid Lamar', '3864100': 'Caught My Breath', '3864500': 'Tore Vidar Knutsmoen', '3865000': 'The Herald Angels (2)', '3865200': 'RBT String Orchestra', '3866000': 'Olympian Fall', '3866100': 'Hermest Santamaria', '3866200': 'The Planeteers (2)', '3866300': 'DJ Kamadeva', '3866400': 'Los Tole', '3866900': 'Blake & Brian', '3867600': 'Ramekins', '3867800': 'Iron Adler', '3868000': '華村純子', '3868100': '本田一二夫', '3868300': 'Jepcar', '3868600': '\"Oh Captain!\" Cast', '3868900': 'Lois Fuller', '3869000': 'Pan-Asian Ensemble', '3869200': 'Greg Gives Peter Space', '3870100': 'Anna Gadt', '3870800': 'Terry Fulton', '3871200': 'Mike Killeen', '3871400': 'Edgar R.', '3871900': 'La Procesión De Lo Infinito', '3872200': 'PEchi', '3872400': 'Toronto (8)', '3872500': 'Our Lady Of The Lake Catholic Faith Community', '3872700': 'VanDerBraa', '3872900': 'Basta (9)', '3873300': 'Isabelle Barthélemy', '3873500': 'Steez (6)', '3873700': 'Black Executioners', '3873900': 'The Josephine Baker Allstars', '3874400': 'Yukiko Akagawa', '3874500': 'Curb Stomp', '3874600': 'Abdu Ali', '3874900': 'Mathieu Ahlersmeyer', '3875200': 'One-P.M.', '3875500': 'Loisir', '3875900': 'Max Kettel', '3876000': 'وديع عبدو', '3876100': 'Jet Black Sea', '3877000': 'Evelyn Zangger', '3878000': 'Opposition Artworks', '3878200': 'Comhaltas Champions', '3878400': 'Eastside Soldierz', '3879600': 'Brooks & Potten', '3879700': 'A.J. Couich', '3880900': 'Hannu Ilmolahti', '3881600': 'JW 23', '3881900': 'Gabriel Von Wayditch', '3882200': 'Billy Fields Orchestra', '3882900': 'Hawthorn (4)', '3883000': 'Rick Royale', '3883600': 'Regent Street', '3884100': \"Randy Hawkes' Overtones\", '3884300': 'martinou', '3884500': 'Georg Proksch', '3884700': 'Schelchok Pokadrov', '3886000': 'Sarah Ban Breathnach', '3886100': 'Daddy Craze', '3886400': 'Sophia Corri Dussek', '3886900': 'Burial Teens', '3887600': 'Olav Chris Henriksen', '3887800': 'Sharmika Williams', '3888100': 'Eladio Torres', '3889100': 'Zillertal Quintett', '3889200': 'Johan Anders Benton', '3890000': 'Luís Jerónimo', '3890700': 'Nation Of Hate (2)', '3891200': 'Cyntrix', '3892400': 'Marleen Daniëls', '3892700': 'Private World', '3892800': 'Giallo Point', '3892900': 'Michael J. Fox (2)', '3893300': 'Kubinski', '3893400': 'King So So', '3893600': 'Die 5 Steirer', '3894200': 'Lutz Dietmar Mit Seinen Solisten', '3894500': 'Phil Meadows', '3894900': 'Interaction (10)', '3895100': 'Corporate I.D. (2)', '3895300': 'Yultron', '3895500': 'Segadus Saialilleseemnetepoes', '3897100': 'One Of A Million Hools', '3897400': 'Eduardo Tejada', '3897500': 'J.F. Wanner Coupe Combo', '3898300': 'Gostan', '3898800': 'The Banjo Boys (2)', '3899000': 'Crystal Skies', '3899100': 'Free Will And The Bad Influences', '3899200': 'The Hague (2)', '3899800': 'William Olsson', '3900500': 'Charles Wellesley', '3900700': 'DJ Insama', '3901500': 'Ladydoll', '3901600': 'Elisabeth Ø. Widmer', '3902500': 'Eric Seguin', '3902600': \"Haast's Eagled\", '3903500': 'Edy The FIsh', '3903600': 'The Gino Fontaine', '3904100': 'Cyrus (32)', '3904900': 'Dramane Dembele', '3905000': 'Gary & Jan Lorraine', '3905200': 'La Familia Reyes', '3905900': 'Karl-Heinz Klar', '3906200': 'Afterthoughts', '3906600': 'Adam Bauer (2)', '3906800': 'Abgelehnt', '3907600': 'Bad Fog', '3907700': 'Louise, Ferera And Greenus', '3907800': 'Pato (16)', '3907900': 'The Unified Heart Touring Band', '3908400': 'Jean Carold Boitreau', '3908700': 'Olivier Tzaut', '3910200': 'Tommy Hellsten', '3910800': 'Myles Mayo', '3911700': \"Bagad De La Lande D'Ouée\", '3912400': 'Robins (5)', '3912900': 'Michael Kriegs', '3914300': 'Ann-Sophie Hesse', '3914400': 'Yvonne Blanc Et Son Trio Rythmique', '3914600': 'Jake Carmona', '3914800': 'Mia Hope', '3914900': 'Sunstation (2)', '3915000': 'L. Smith (9)', '3915100': 'Amiee', '3915300': 'Dr. Harold Bloomfield, M.D.', '3915600': '日野美歌', '3917000': 'Richard Arens', '3917400': 'Oprea Timpu', '3917800': 'Union Tribe', '3917900': 'The N-11', '3919100': 'Blue5even', '3919200': 'Dr. Milton I. Levine', '3919500': 'Anastasia Neagu', '3919800': 'Kei-Shu', '3920500': 'Barry Zion', '3920600': 'Jenefer Bunker', '3920800': 'Johnnie Paul & His Combo', '3921000': 'Bianca Nicholas', '3922500': 'Erik Ehrling', '3922600': 'Volker Strübing', '3923200': 'Carl Butler (2)', '3923300': 'Annita Henson', '3923400': 'Trakya Folklor Ekibi', '3923700': 'Point Zero (7)', '3923900': 'Just Louise', '3924400': 'Интервью', '3924700': 'Bone (28)', '3925000': 'Socialiniai Parazitai', '3925100': 'Natures Mortes Illustration', '3925300': 'radiant shadows', '3925600': 'Karen Carlan', '3926000': 'Fandango (13)', '3926200': 'Chris J White', '3926500': 'J.D. And The Crusaders', '3926700': 'Vi$rot', '3926800': 'Dehnhardt & Dehnhardt', '3926900': 'Razor White', '3927800': 'Camille Blake', '3928200': 'Barbara Peck', '3928400': 'Groove Street', '3929700': 'Alaja', '3929800': 'Tim Thompson (11)', '3931100': 'James Carroll (9)', '3931300': 'Gino Lorenzi', '3931500': 'Rüd Borglund', '3931800': 'Dubjuana Midnight System', '3931900': 'The Peripheral Enterprise Sound Revue', '3932100': 'Acid Goat', '3932500': 'Vltavín', '3932800': 'Bice Valori', '3933000': 'T.4.2.', '3933400': 'Veneno (5)', '3933900': 'Wicked Draw', '3934000': 'Harry & Storm', '3934800': 'Violaine Bourgeois', '3935400': 'Αθηνά Χιώτη', '3935700': 'Les Petites', '3935800': 'Barbarian (7)', '3935900': '松原隆と東京エコーズ', '3936500': 'Bazar Pamplona', '3937400': 'Six String Slaughter', '3938000': 'Brian Slaughter', '3938300': 'Tiny Grimes And His Orchestra', '3938800': 'Zoltán Aladár', '3939100': 'The Frey Free Kids', '3939700': 'Brawl (4)', '3940000': 'Paper Planes (3)', '3940200': 'Alain Balageas', '3940300': 'Laurence Fox', '3940400': 'Slave Industry', '3941500': 'Twelve (10)', '3941900': 'Ensemble Aria', '3942000': 'Bel Hubert', '3942400': 'Kevin McCourt', '3942500': 'Steve Veikley', '3943300': 'Atlanta (11)', '3943800': 'Antal Tibor', '3944400': 'Krantz (4)', '3945200': 'Joshua Gillsutton', '3945600': 'Russ Mack', '3945700': 'Ekaterina Gubanova', '3946200': 'F. Paltrinieri', '3946400': \"Le' Mour\", '3946500': 'Fossegrimen (2)', '3946600': 'Fire Hazzard', '3946800': 'Plutonic Girl', '3947200': 'Johannes Mössinger Trio', '3947500': 'Aki (59)', '3947700': 'KSM (11)', '3947800': 'Where Ethel Fell', '3947900': 'Robert Evans (9)', '3948600': 'Family At Max', '3948800': 'David Milford (2)', '3949000': 'Call It In The Air', '3949200': 'Νίκος Καδιανός', '3949400': 'Baby Eagle & The Proud Mothers', '3949600': 'Carlton (5)', '3949700': 'Starship All Stars', '3950000': 'Sigi Zimmerschied', '3950100': 'W Double J', '3950400': 'Farsa del Buen Vivir', '3950500': 'Janina Almutė Laučiūnienė', '3952000': 'إسماعيل يس', '3952200': 'Annanan', '3954100': 'Marian Demar-Mikuszewski', '3954200': 'Cutting Edge (8)', '3954300': 'Little Dave & The Soul Peppers', '3954400': 'Dick Walden', '3954800': 'The One Who Spat Chameleons', '3955100': 'Sydney Mitchell', '3955500': 'DJ エコー', '3955600': 'Гнев Моцарта', '3955700': 'Grupo XL', '3955900': 'Matamoska!', '3956000': 'João César', '3956300': 'Iron Assault', '3956400': 'Wally Caro', '3957800': 'Leopoldo Fernández', '3959400': 'Blutfahne', '3959600': 'Василь Гонтарський', '3959700': 'The Jamaican Actions', '3959800': 'Cosa De Dos', '3960400': 'De Juke-Blowers', '3961900': 'Gino Ravallese', '3962200': 'Cindy Soileau', '3962400': 'Ansambel Odmev', '3963300': 'Ethan Marin', '3963500': 'Orion Symphony Orchestra', '3964600': 'Promenade (3)', '3964700': 'Alisa Palmer', '3964900': 'Orchester Rolf Schneebiegl', '3965300': 'You Me & Apollo', '3965700': 'Lunes', '3965800': 'Shugg (2)', '3965900': \"The Marty Gold Children's Chorus\", '3966200': 'Byerkut', '3966300': 'Hoax Hunters', '3966800': 'Peewee (11)', '3966900': 'Chantal (28)', '3967000': 'Lee Stetson', '3967300': 'The K-Otics (2)', '3967400': 'Claudio Silvano', '3967500': 'Franz Mahl (2)', '3967600': 'Daytime Party', '3968000': 'Sarah Pirtle', '3968200': 'Kari Ikonen Trio', '3969200': 'Эд Шульжевский', '3969300': 'Heymen', '3969400': 'The Clahanes', '3969500': 'White Sands', '3969900': 'DJ Mphulo', '3970800': 'Malou (8)', '3971100': 'Ruth Belov Gross', '3971200': 'Double \"LL\" Crew', '3971300': 'Nefasto (3)', '3971700': 'Ocean Drive (3)', '3971800': 'The Best Band', '3972100': 'Evalisto Muyinda', '3972200': 'Salamander (20)', '3972300': 'Rachel Goodrich', '3972600': 'Bobe Al Camp Troupe', '3973100': 'Dane P Yates', '3973200': 'Roberto De Villargarcia', '3973400': 'Burning In Hell', '3973600': 'Ad Vance', '3973900': 'Raf Vallone', '3974300': 'Yuleysys', '3974400': \"Double O's Demingo's\", '3975100': 'Rage Sadler', '3975400': 'Kim & The Created', '3975900': 'Rheinisches Konzertorchester', '3976100': 'Tripno(i)sis', '3976600': 'Bez Atu', '3977100': 'ترگل خلیقی', '3977300': 'Funeral Speech (2)', '3978100': 'Amelia Talexis', '3978500': 'Etienne Bertrand', '3978600': 'Graham Roberts (5)', '3978800': 'Martha Spencer', '3979000': 'Geoff Taylor (6)', '3979100': 'Schlaasss', '3979600': 'Kid Vinil E Os Heróis Do Brasil', '3980300': 'Loup Blanc', '3980800': 'Big Daddy Rich (2)', '3981300': 'The Five Jays', '3981600': 'Иван Гончаров', '3981900': 'Melopea (2)', '3982100': 'Hisaaki Kanzaki', '3982400': 'Rebecca Valeriano-Flores', '3983000': 'Kunz (2)', '3983200': 'Hana Pazeltová', '3983300': 'Christopher Allen Jones', '3983900': 'The Melbourne Staff Songsters Of The Salvation Army (2)', '3984100': 'Speed Racer (3)', '3985000': 'Black Cube SP', '3985100': 'Thirteen Yards To Victory', '3985300': 'King & The Sharpettes', '3985500': 'Captain Rat And The Blind Rivets', '3985700': 'Нази Чапичадзе', '3985900': 'Dignes Dindons', '3986000': 'Los Angeles Police Department', '3986300': 'The Imitations (2)', '3986800': 'Eroder', '3987000': \"Dale O'Brien\", '3987200': 'Howard Gill', '3988100': 'Roberto Reyes', '3988300': 'Annalyse', '3989100': 'Rascal (13)', '3989600': 'Serotonin Soul', '3989900': 'Poetas De Rua', '3990100': 'Cosmopolite (2)', '3990700': 'Beverly Brent', '3990800': 'Dan Pratt (2)', '3991000': 'John Gordon (15)', '3991600': 'Just Desserts', '3991900': 'Indias Indios', '3992000': 'Janaza', '3992200': 'Freddie Scicluna', '3992300': 'China (38)', '3992400': 'Devine Noise', '3992500': 'ClearSky', '3992700': 'Ape (13)', '3992800': 'Calton Tomlin', '3993000': 'Isaiah (9)', '3993900': 'Pox (8)', '3994200': 'John Dalton (10)', '3994300': 'Kuriooki', '3994400': 'Sašo Mitrevski', '3994500': 'Pilarín Álvarez', '3994700': 'Бранимир И ВИА Кали-Югенд', '3995100': 'Mike Witchtomb', '3995400': 'Nzʉmbe', '3995800': 'Skew & Satirist', '3996100': 'Lost World Orchestra', '3996200': 'I Get Mynze', '3996300': 'BARBARS', '3996500': 'South Side Click', '3996600': 'Nalo (2)', '3997400': 'Arkhaeon', '3997600': 'Lahden Raiskaus', '3997800': '秋赤音', '3998300': 'Lump (8)', '3998500': 'Airdeep', '3998700': 'Lost Heritage', '3998900': 'Joe Minor (4)', '3999100': 'Beto Moura', '3999800': 'SMS DVD Productions', '4000500': 'Global Misanthropy', '4000800': 'Naan Põld', '4000900': 'Erik Joey', '4001500': 'Kick Trial', '4002100': 'Duo Castellazzo Gallizio', '4002200': 'Luciano Scudellari', '4002900': 'Annemieke Corstens', '4003500': 'WC Tank', '4003700': 'Insect (10)', '4004000': 'Cameron Morgan', '4004100': 'Zennor', '4004700': 'Steph (41)', '4004800': 'Shaggy (11)', '4005600': 'Ragatala Ensemble', '4006000': 'Kenny Feinstein', '4006200': 'Morten Hagen', '4006700': 'Burak Kayahan', '4007400': 'จรัล มโนเพ็ชร', '4007500': 'John Gilbert (8)', '4007800': 'A Money', '4007900': 'Joan Metcalf', '4008200': 'Trio Résistances', '4009800': 'Knu!', '4010300': 'Zana Dutrio', '4010400': \"J C D'Aigle\", '4012000': 'Zwei (3)', '4012100': 'Michał Gwardiak', '4012300': 'Eva von Sacher-Masoch', '4012400': 'Beso Negro', '4013100': 'Wishmaster (3)', '4015100': 'Mark Ridout (3)', '4015500': 'Dick Black And His Scottish Dance Band', '4016300': 'Giorgio Sembri', '4017100': 'Ultratraxx', '4017900': 'En. C. World', '4019000': 'Aaron Richner & The Blues Drivers', '4019200': 'رؤوف الجنايني', '4019300': 'Royce Clark And The Corvairs', '4019700': 'Charlie King (5)', '4020400': \"The Crawlin' Hex\", '4020500': 'The Fallacy', '4020700': 'Abate Macabro', '4020800': 'Dee Anne', '4021100': 'Petoy', '4021400': 'Dehumanization', '4021600': 'Ikon Music', '4022300': 'Linn Koch-Emmery', '4022600': 'Fiona Sommers', '4022800': 'Sekte', '4022900': 'Matt Heaton', '4023000': 'Mary Ann Roylance', '4023100': 'The Kookie Freeman Singers', '4023200': 'Orange Country', '4023600': 'Fenomen 30.10.38', '4024300': 'Marc & Julian', '4024800': 'Spek One', '4025600': 'Elvis Is Alive', '4026000': 'Killer Bees (3)', '4026500': 'Chris Brown (57)', '4026800': 'Benno Walldorf', '4026900': 'A Formal Horse', '4027400': 'H.J.M.S.', '4027800': 'Tim Sargeant', '4028000': 'Uminecosounds', '4028500': 'E-Motion (13)', '4028600': 'The House Party Bullies', '4029400': 'Shane Dominic', '4030100': 'Conjunto Sete E Pico', '4031700': 'Visionaries (2)', '4032200': 'Mr. G!', '4032600': 'Yuko Doi', '4032800': 'Tom Caruana (2)', '4033300': 'The Reed Children', '4034500': 'Les Petits Chanteurs Du Val Des Roses', '4034600': 'Monochrome Vision', '4035200': 'Nuherb', '4035900': 'Liquid Meat', '4036000': 'Shelly Berg Trio', '4036300': 'Tiziano Severini', '4036800': 'The Palata Singers', '4037300': 'Liza Lipari', '4037400': 'Б. Зангад', '4037900': 'Paul Evans (19)', '4038200': 'Stian Stark', '4038700': 'Stephanie Lustre', '4038800': 'JKP (2)', '4039600': 'Gullen', '4040600': 'The Kentucky Cadillacs', '4040700': 'Wes Hopper', '4041700': 'Mark Swartzentruber', '4042400': 'Ben Wolfe Quintet', '4042500': '32nd Turn Off', '4042700': 'Royal Flash (3)', '4043200': 'Der Trickser', '4043700': 'Rcaen Saga', '4044000': 'The Minanzi Marimba Ensemble', '4044100': 'Adversary (6)', '4044200': 'Johan Koelewijn', '4044900': 'Tom Stone (6)', '4045500': 'Zdenka Ostadalova', '4046100': 'TigerDinosaur', '4046300': 'Andreas Ambühl', '4046400': 'The Hawks (11)', '4046600': 'dsdesign', '4047200': 'Siphon Fuel', '4047800': 'Willy Covi', '4048000': 'Rolf Rötgers', '4048100': 'Ron Fraiser', '4048400': 'Wayne Nelson (2)', '4048600': 'Rev. Willie Crawford', '4048900': 'Dr Sammy', '4049300': 'S.O. Blue', '4049700': 'Slograputre', '4050300': 'Ancient Random', '4050500': 'Albion (7)', '4050600': 'Antifluffy', '4051600': 'Enyedi Ágnes', '4052100': 'Road Ratz', '4052600': 'Gio Pisani', '4053300': 'The Smile', '4053500': 'Periksson', '4054000': 'Gino De Prisco', '4054100': 'Town Tundra', '4054300': 'Violet White', '4055000': 'Danny Crawford', '4055600': 'Frederick Morgan (2)', '4056100': 'Black Peak (2)', '4056300': 'Javiera Hernandez', '4056500': 'Elwin D. Purington', '4057000': 'Slow Crime', '4057400': 'Jimmy Galloway (3)', '4057700': 'The Aftons', '4057900': 'MV 700', '4060100': 'Mark Ryder (3)', '4060700': 'Revolted', '4060900': 'Jean Tourneux', '4061500': 'D. Spade & Co.', '4062000': 'Smith & Westin', '4062100': 'Wallace B. Chase', '4062400': \"Duke Anderson's All Stars\", '4062500': 'Bruno Bower', '4062900': 'The Country Edition (2)', '4063000': 'David Freedom', '4063100': 'Arno Froese', '4063300': 'Pete Richardson (6)', '4063500': 'Merci Tarzan', '4064500': 'Pedro Sanmartín', '4064600': 'Old Baby (2)', '4064800': 'Peter Langstaff', '4065000': 'Deemania', '4065200': 'Père Didier', '4065300': 'WAAN', '4065700': 'Péter Marosvári', '4065800': 'San (17)', '4066300': 'Luciuz', '4066500': 'Decca Chorus', '4066600': 'Adestria', '4067000': 'Axtra', '4067400': 'Damstardeep', '4067800': 'Cressida Wilson', '4068400': 'F. Cosi', '4068600': 'Remo Ortu', '4069000': 'Steve Marsala', '4069200': 'Hans Oxmond', '4069300': 'Career', '4069700': 'GTG (2)', '4070300': 'Joe Rodraguez', '4070700': 'Khizar Jamil', '4070800': 'Hermetic Electric', '4070900': 'The Bishops (6)', '4071800': 'Betty Wallace Group', '4072100': 'Conjunto Sol Del Perú', '4072300': 'Ranveig Johnsen', '4073500': 'Quintessence (11)', '4073800': 'Noochi', '4074000': 'Phono Art Ensemble', '4074700': 'Mercuria', '4074900': 'Matthew Loft', '4075000': 'Nelson Ferraz', '4075100': 'Pierre LaDoux', '4075400': 'Gross (4)', '4075500': 'Badi Ould Hambara', '4075700': 'Necrodios', '4075800': 'Robert Jef', '4076200': 'Paug', '4076600': 'People//Talk', '4076900': 'Ko En De Zakken', '4077600': 'Samu Bakula', '4077800': 'Παναγιώτης Μυλωνάς', '4078000': 'Arabesk (2)', '4078300': 'The Blue Funz', '4078500': 'Sonny Ray', '4078800': 'Marina Dichter', '4079000': 'Dan Lyth And The Euphrates', '4079100': 'Heinrich Wismeyer', '4079600': 'Coro Alpino Eporediese', '4079700': 'LVTHER', '4080200': 'Alan Rowe And The Coachmen', '4080500': 'Hélène Donelli', '4080700': 'Matt Muzzi', '4080800': 'Ensemble Vocal Jacques Arcadelt', '4081300': 'Adwer', '4081400': '4-Sale', '4081600': 'Highachievers', '4082000': 'JB Produkcja', '4082300': 'Billy Still', '4082700': 'Larry Mays', '4082800': 'Lucas (55)', '4082900': 'Benny (42)', '4083400': 'Johannes Nästesjö', '4083600': 'Indio Juan', '4084000': 'Overlord (10)', '4084600': 'Joe Chambers And Friends', '4084800': 'James Gilmore Singers', '4085300': 'Letitia George', '4085600': 'Judy Director', '4085800': 'The Grave Walks', '4085900': 'Wölfrider', '4086300': 'Κωνσταντίνος Στεφανόπουλος', '4086700': 'Jack Green And The Encores', '4087000': 'Baklava Rhythm And Sounds', '4087100': 'Innersoul (9)', '4087300': 'Banana (16)', '4087400': 'Sweet Sin', '4087600': 'Rasga Rasga', '4087700': 'Ted Tiller', '4087800': 'Omnya (Peace Band)', '4088000': 'Man Of Fire', '4088400': 'PMGN', '4088600': 'DJ Kubus', '4088700': 'Wicked Wicked Pepperseed', '4088800': 'Pedro Osmar', '4089400': 'Pedro \"Bemi\" Kosi', '4089500': 'William Freedman', '4089800': 'Carmen Sandiego (2)', '4089900': 'Djay Rich', '4090000': 'The Vendettas (7)', '4090500': 'Derrick Nakamoto', '4090900': 'Emily Arin', '4091400': 'KlicSart', '4091900': 'John (216)', '4092700': 'Night Camp Click', '4092800': 'Xretro', '4092900': 'La Boquita', '4093600': 'Sylvain Béliveau', '4094200': 'Ed Nomi', '4094900': '512', '4095700': 'Monological Terrorist', '4095800': 'The Versatiles (8)', '4095900': 'Sujatha Attanayake', '4096100': 'Kill The Rich', '4096700': \"Les Imper'\", '4097200': 'Darkened Fate', '4097400': 'The Volunteers (6)', '4097700': \"Christ's Sake\", '4098100': 'Will Noonan', '4098200': 'Manolo Bolao Quartet', '4098300': 'Pale Rider (2)', '4098700': 'Hiroaki Tokunaga', '4098900': 'Alejo García', '4099000': 'Mouth Of The South', '4099100': 'Dino y Walfredo', '4099200': 'Audiotorture', '4099300': 'The Idlers', '4099500': 'Jezebelle (2)', '4099800': 'THЁ ΩCTΘPUS', '4100600': 'Tortura (7)', '4100900': 'MilkTheDJ', '4102300': 'Dopeasaurus', '4102500': 'דליה כהן', '4102600': 'Tommy DeSalvo', '4102700': 'Gennoma', '4102800': 'Bob Archibald (2)', '4102900': 'ต้น ทองเจือ', '4103200': 'The Liberator', '4104200': 'Zach Berkman', '4104600': 'Aldano', '4104900': 'S.D.D.', '4105100': 'Rohan Staton', '4105200': 'Swinery', '4105400': 'Віктор Лондон', '4105900': 'Abba Lang', '4106100': 'DJ Romm', '4106200': 'The Apostles Of Brooklyn N.Y.', '4106300': 'Wacetonians', '4106600': 'Top Soil', '4107400': 'Redweik', '4107600': 'DCKZ', '4107800': 'Vartras', '4108300': 'The Swagmen', '4108400': 'Νόνα Βουδούρη', '4108600': 'Nervensystem', '4109600': 'Takahiro Ogata', '4109900': 'Михаил Цы', '4110000': 'Ben Robinson (5)', '4110700': 'Monge (2)', '4111100': 'Roger Sayer', '4111400': 'Junya Koketsu', '4111500': 'Soulano', '4111700': 'Artur Maranowski', '4112200': 'Mateusz Waśkiewicz', '4112500': 'Chaos Lust', '4112600': 'Richello', '4112900': \"Bill Wimberley's Country Rhythm Boys\", '4113200': 'Dennis Van Dijkhuizen', '4113600': 'Yes, We Kill', '4113800': 'Joker Smoker', '4114300': 'Darke Horse', '4114700': 'Velcro Mary', '4114800': 'Dream City (3)', '4115000': 'Los Salseros Del Barrio', '4115600': 'The Tempoles', '4115700': 'Images Of Spirit', '4115800': 'Koolinger', '4116000': 'Rod Aaberg & His Orchestra', '4116200': 'Marchel Blanche', '4116300': 'Tony Crombie Jazz Inc Orchestra', '4116400': 'The Firesticks', '4116700': 'Владимир Раннев', '4116800': 'Desecrate The Faith', '4117700': 'Thorisson', '4117900': 'Ksenija Kočetova', '4118000': 'Karl Kümmel', '4118200': 'Caspar Hauser (2)', '4119200': 'Krypta (5)', '4119300': 'Jan Leyk', '4119800': 'Sad Baby Wolf', '4120100': 'The Hollywood All-Stars', '4120500': 'Gigi Bonavolta', '4121400': 'Katáng', '4121800': 'Absinthe (7)', '4122400': 'Maywald (2)', '4122800': 'Cerberus (13)', '4123800': 'Roger Daras', '4124000': 'Timothy Buchanan (2)', '4125400': 'Machinone', '4126300': 'Moe Denham', '4126500': 'Dionysian', '4126700': 'Black Invocation (2)', '4127000': 'Laurent Digbeu', '4128500': 'Sabine Cuno', '4128600': 'The Stratos Ensemble', '4129100': 'Dick Koomans', '4129200': 'Capital Do Sol', '4129500': 'Four Him', '4129600': 'Nurtuan', '4129700': 'Quinzinho Portugal', '4130400': 'Byrd & Street', '4130500': 'XaniaX', '4130900': 'Joël Danglades', '4131100': 'Black Lenin', '4131300': 'Natalie Roots', '4131500': 'Reshaft', '4131800': 'Ron McNelly', '4132000': 'Sr. Langosta', '4132200': 'KayRon', '4132300': 'DJ Marie (2)', '4132500': 'Pat Duncan (3)', '4133000': \"De Alwico's\", '4133100': 'Delta Brass Zeeland', '4133200': 'Diesel Dust', '4133300': 'De Lummels', '4133700': 'sporty-tee kev', '4133800': 'Storm Orphans', '4134300': '17 Seconds Left', '4135300': 'Katy Guillen & The Girls', '4135400': 'Mean Flow', '4135700': 'Nitebreaker', '4135800': 'Swix', '4137200': 'The Cottonblossoms', '4137500': \"Ya'aburnee\", '4137800': 'Rudolf Hrušínský (2)', '4137900': 'Seppuku (9)', '4138200': 'Wellington (9)', '4138400': 'Sista Daisy', '4138500': 'Fatt Cat Freddie', '4138600': 'Larry Doran', '4139100': 'Los Guadalupanos', '4139600': 'Baltix', '4139900': 'Suzy Et Ses Lardons', '4140300': 'Symon White', '4141300': 'Mozza!', '4141600': 'Boréale', '4141900': 'Blood Party (3)', '4142000': \"Cleoma's Ghost\", '4142100': 'Witch Project', '4142500': 'The East', '4142600': 'Trull', '4143000': 'Rex Putnam High School Choralaires', '4143100': 'Savage (30)', '4144100': 'Mr Fuels', '4144600': 'The Dylan Project', '4144800': 'Heaters (2)', '4144900': 'Erin Brooks', '4145600': 'Ron Hazelberts', '4145700': 'KNKUC Team', '4146200': 'Styrofoam Underwear', '4146400': 'Roche Ovale', '4146500': 'The Dorchesters', '4146800': 'Alvis & The Barnetts', '4147500': 'Cardinal Assault', '4148100': 'ASV (2)', '4148300': 'Ominous Grim', '4148500': 'Я-Ха И Уроды', '4148900': 'Damaris Nussbaumer', '4149100': 'Sabine Hochstrasser', '4149500': 'BIG Detail', '4150100': 'Sunshine Madness', '4150300': 'The Hoo', '4150800': 'Kermit.s Influence', '4150900': 'Fabiana (9)', '4151100': 'The American Kantorei', '4151200': 'Yoosin Kim', '4151500': 'Krautstomper', '4151900': 'Element9', '4153000': 'Amadeus August', '4153100': 'Vismännen', '4153400': 'Erika Van Tielen', '4153700': 'Eearz', '4154600': 'Iris Wolfermann', '4154700': 'Jus Rude', '4155300': 'Gottfried Eder', '4155500': 'Conjunto San Diego', '4155800': 'Akademski Kamerni Hor', '4156000': 'Rising Sign', '4156700': 'Errata-S-Corrige', '4157000': 'Johnny Aragon', '4157600': 'Kage (9)', '4158200': 'The Red Hot Syncopators', '4158400': 'Michael Murphy (18)', '4158600': 'The Jealous Society', '4158700': 'Hormel High School Band', '4158900': 'Nx of Massakrasta', '4159100': 'Stridor (2)', '4159600': 'Mescalito (5)', '4161000': 'E=MC2 (Squared)', '4161200': 'Olifant', '4161300': 'Bruno Conte', '4161400': 'Eridu (2)', '4161800': 'The El Torros (2)', '4162100': 'Чен', '4162500': 'Brutal Exposure', '4162900': 'Vodohray Quartet of Montreal, Que.', '4163400': '宮良康正', '4163500': 'West Point (2)', '4163700': 'Keith Harman (2)', '4164000': 'Avgrunn (2)', '4164100': 'Wim van Beijeren', '4164300': 'Andréa Campos', '4164700': 'Coro Olivais Sul', '4165400': 'Mohamed Bukhsh Mastana', '4166000': 'Aïrto Edmundo', '4166600': 'Sara (66)', '4167400': 'Teo Puebla', '4168800': 'Stacked Deck', '4169100': 'Outpost Scotty And His Bar-X Boys', '4169600': 'Giresunlu Halim Haliloğlu', '4169700': 'The Haunting (3)', '4170100': 'Murad Annamamedov', '4171000': 'Kaushun', '4171100': 'The New Threat', '4171200': 'Morris Venden', '4172000': 'Slumberscape', '4172100': 'Roofbeam', '4172800': 'Emlasa', '4172900': 'Toque Profundo', '4173100': 'Sandy And Gene', '4173400': 'Big Stretch The Demon Slayer', '4173500': \"Santa's Angels\", '4173600': 'LaMetàFisica', '4174100': 'Cave Catt Sammy', '4174500': 'Monster Factory', '4174600': 'Nela Vidaković', '4174800': 'YOUTHCORE', '4175000': 'Yusuf Gürsel', '4175600': 'Corul Ansamblului Folcloric al Sfatului Popular al Capitalei', '4175700': 'Hector (Canita) Infante', '4176100': 'Fecal Point', '4176200': 'Kondo Musashi', '4176500': 'Scheich in China', '4176700': 'Tanja Maria (3)', '4177100': 'The Seekers (4)', '4177300': 'The Musical Mummer', '4177600': 'Sonny & Perley', '4178000': 'Georges Lemboma', '4178500': 'Lubo Kirov', '4178600': 'Ichigatsu', '4179200': 'Vernon Garfield', '4179300': 'Jimmy Newman & The Rhythm Boys', '4179700': 'Red Herring (6)', '4179900': 'Charlestown Strutters', '4180200': 'Super Soul Orchestra', '4180700': 'Aristofreeks', '4180800': 'Koala (16)', '4181200': 'Dame Ritter', '4181600': 'Nando Speranza', '4181800': 'Thomas Zanghellini', '4182300': 'Woken', '4182400': 'Fellez', '4182500': 'Pasolini', '4182800': 'Yuko Ikema', '4183700': 'Cliché (12)', '4184100': 'Enrique Y Sus Ritmos', '4184200': 'K.I.N. (2)', '4185200': 'Patricia Paula (2)', '4185300': 'The Joyful Noisemakers', '4185500': 'Oracle (28)', '4186200': 'John Bock', '4186700': 'Orleáns', '4186900': 'Antonio Barros E Cecéu', '4187300': 'Zamość Gospel Family', '4188300': 'Brazilian Love Affair Project', '4188400': 'Zorica Milekić', '4188500': 'More Tea Vicar (2)', '4188600': 'Azmir Arif', '4188900': 'War Path', '4189300': 'J.L. Forster Collegiate Concert Band', '4189800': 'Beatryce Krasnodębska', '4190800': 'Kamalarabin', '4190900': 'Emilio Roca', '4191200': 'Cocktail 93', '4191300': 'Los De Abajo (2)', '4191400': 'Lawrence Welton', '4192200': 'Faton Cahen Complot', '4192600': 'Kenta Hodaka', '4193000': 'Denis Theval', '4193200': 'Bad Boy T', '4193800': 'MNRtm', '4195100': 'Villain (19)', '4195200': 'Sunbrothers', '4195400': 'Sexual Janitor', '4195500': 'Byze One', '4195600': 'Cagibi', '4196100': 'Tokez', '4196200': 'Duo Benitez Ortiz', '4196500': 'Oc Montana of Exiled', '4196800': 'Apax (2)', '4196900': 'Token Selekta', '4197500': \"The Singing B's\", '4197600': 'Die No More', '4198100': 'January Fine', '4198200': 'Kid Sune', '4198400': 'Young Seek Choue', '4198800': 'Edyta Kamińska', '4198900': 'Ilya Pradov', '4199100': 'Danny Mack Frazier', '4199700': 'Harassment', '4200400': 'Falkner Evans Trio', '4200700': 'Les Diggerz', '4200800': 'Masaaki Shiobara', '4201000': 'Alberto Pacheco Y Su Cumbiamberos', '4201100': 'The Accidents (10)', '4201300': 'Amaëlle', '4201600': 'The Lyons Family', '4202500': 'Daniel Akinola', '4202600': 'Mariko The Lion', '4203000': 'Bérangère Fourrier', '4203600': \"Singin' Swingin' Eight\", '4204000': 'Asoketaru Banerjee', '4204200': 'Marly Gisser', '4204300': 'Reflec', '4204800': 'Dj Le-Roy', '4204900': 'Bynon', '4205000': 'Grega Bevc Haš', '4205100': 'Mensur Čudija', '4205500': 'My Pet Junkie', '4205600': 'Roletta Secohan', '4205700': 'Bruce A Hayhoe DC', '4205800': 'Magnus Rising', '4205900': 'The Night People (7)', '4206300': 'Manchild (19)', '4206400': 'Alwi', '4206600': 'Howard And Dorothy Marsh', '4207000': 'Doline', '4207100': 'Benedikt Gramm', '4207600': 'Highjackers (2)', '4207700': 'Charles McPheeters', '4207800': 'Smart Bombs (2)', '4208100': 'M.M.B', '4209000': 'Eleanor Dwyryd', '4209400': 'Facegrinder', '4209500': 'Gregory Hammond', '4209700': 'Hiroki Hoshino', '4210300': 'Quaranta-Maula', '4210600': 'John Worsley (4)', '4210800': 'K.h.d.n.', '4211000': 'Orchestre Tout Mopia', '4212000': 'Here, In My Head', '4212800': 'Rosegold', '4212900': 'Rino Gaetano Band', '4213000': \"Benjamin And Pot In Napanaw's Pottery Shop\", '4213500': 'Micronoise', '4214100': 'Radiophare', '4214200': 'Blood Money (6)', '4214700': 'Γιάννης Παξιμαδάκης', '4214800': 'Loretta (12)', '4214900': 'Common Ground (10)', '4215300': 'Bubble Couple', '4215800': 'Mastromarino', '4216000': 'Allen Huff', '4216200': 'Soloists, Choir And Orchestra Of The Leipzig Bach Festival', '4216300': 'Kanarskiy', '4216800': 'Habaneras', '4217600': 'Knut L. Sandal', '4217800': 'Ikebana (6)', '4217900': 'Dale Cleves', '4219100': 'Ελευθέριος Χαραλαμπίδης', '4219600': 'Cyanide (17)', '4219900': 'Nina Eilertsen', '4220300': 'DJ Aga', '4220400': 'Ed McNamara (2)', '4220800': 'Gone To Lunch', '4220900': 'Michl', '4221100': 'The Parkers', '4221700': 'The Roadside', '4222200': 'Lesion (2)', '4223200': 'Wayne Gacy Trio', '4223300': 'Juliane Meyrande', '4223600': 'Sistem Erorr', '4224500': 'Boo Hoo (2)', '4224800': '2 GM', '4225900': \"Mac's K.O. Band\", '4226200': 'Hudba C. A K. Pěš. Pluku Č 91 Svob. P. Czibulky', '4226700': 'Gegaj Band', '4226800': 'Up Side Down', '4226900': 'Silvia Garcia', '4227600': 'Stephanie Samanlego', '4227800': 'Robert Williams (31)', '4229100': 'Jo Grinage', '4229200': 'The Penny Lane Horn & String Ensemble', '4230100': 'Vein Museum', '4230500': 'The Levites', '4230800': 'Bruce Wayne & Skeme', '4230900': 'Komadreja', '4231000': 'Cardi (3)', '4231200': 'Johnny Barbella', '4231300': '12 Days', '4231500': 'Dead Waste', '4231700': 'UnBomber', '4232100': 'Stephen Cassidy', '4232700': 'Tekato Al Dali Rimomeiku', '4232800': 'Michael Milazzo', '4233300': 'Skeltons In The Piano', '4233400': 'Jurassic Shark (2)', '4233800': 'Anneke Rot', '4234100': 'Roundhouse Jug Four', '4234400': 'Bagmen', '4234500': 'Aulicino', '4235100': 'Ampol Aires Orchestra', '4235600': 'Cherry Moon (3)', '4235800': 'Real X', '4235900': 'Mel & Stan (Kentucky Twins)', '4236000': 'DJ Ra5ul', '4236300': 'The Kizu', '4236400': 'Morgroth', '4236600': 'Skyliters', '4236700': 'Marcel Markowski', '4236800': 'Kut DCE', '4236900': 'The Keep (4)', '4237000': 'Giacomo Bartoloni', '4237100': 'Dongjing Ancient Music Band Of Nanjian', '4237300': 'The Ides Of March (4)', '4237400': 'Uzi (24)', '4237800': 'Giuseppe Colardo', '4238000': 'Sffera', '4238100': 'Keefe Marzell', '4238800': 'Rico White', '4239300': '(Jus) Casey', '4239400': 'Kuualoha Ching', '4239800': 'Piet Kuiters', '4239900': 'Orkest Gaby Dirne', '4240000': 'Friends Of Tony Carey', '4240200': 'Keri Johnsrud', '4241100': 'Zion Jubilees', '4241300': 'Quicksand (6)', '4241400': 'The Redundants', '4241500': 'Dejligt', '4242000': 'Distortion UK', '4242200': 'Indigo Down', '4242400': 'Eddie Munji III', '4242600': 'Delme Bryn-Jones', '4242900': 'Joy Parker (2)', '4243100': \"Omag'e\", '4243400': 'Sugar (35)', '4245000': 'Radiopulpo', '4245600': 'The Freedom Singers (4)', '4245700': 'Bettina Dieul', '4246000': 'Slokar Posaunenquartett', '4246600': 'Unidentified Flying Orchestra (3)', '4247500': 'Miguel Martinez (10)', '4247600': 'Blind Date (10)', '4248300': 'Robert Bidder', '4249200': 'Sean Anderson (6)', '4249400': 'The Los Angeles Junior Colleges', '4249700': 'Martin Crewes', '4249800': 'T (31)', '4249900': 'Truce (9)', '4250100': 'Massilia Attack', '4250400': 'Megan Thomas (3)', '4250600': 'Melba Hollis', '4251000': 'Lupe Fuentes', '4251100': 'Pedro Gravez Y Suyo Muchachos', '4251400': 'Alice Holmes Hendricks', '4251600': 'Belzer', '4251700': 'Expresso Do Groove', '4252500': 'Dick Marx & His Orchestra', '4252700': 'Malcolm Boshier', '4253100': 'The Plugless', '4253400': 'Leroy Henderson (3)', '4253500': 'OB (9)', '4253700': 'Together Opposition', '4253800': 'Mercenary (10)', '4254100': 'Joe Basile And His Velodrome Orchestra', '4254700': 'Funky Creation', '4255200': 'Kendra McKinley', '4255300': 'Robby Robber & The Hi-Jackers', '4256100': 'Scapes (3)', '4256300': 'Ornithology', '4256400': 'Cross Dog', '4256600': 'sabotine maskulisse', '4256700': 'Roland Nette', '4256800': 'Kate Faust', '4257000': 'Skinny Lizzy', '4257200': 'Príncipe Idiota', '4257700': 'Mike Albrecht', '4258500': 'Wulf (7)', '4258700': 'Artefact (8)', '4259100': 'Glass Onion (4)', '4259800': 'Nicolas Bianco', '4260200': 'Old Bones (2)', '4260400': 'Nick Earle', '4261400': 'Le Trio Sésame', '4261500': 'Bouglione', '4262000': 'Heavy Tunes', '4262100': 'The Minneapolis 1888', '4262300': 'Jorge & Techi', '4262500': 'Farquhar Wilkinson', '4263000': 'Electronic Symphony', '4263900': 'No Fun At All In The House Of Dolls', '4264900': 'Buster Johnson (3)', '4265000': 'Bagranov', '4265100': 'Magma Lake', '4265900': 'Hajiya Nasha Enwako', '4266400': 'The Vatican Press', '4266500': 'Choir Of Holy Trinity Cathedral, Auckland', '4266900': 'И.С. Поторжинский', '4267500': 'Groovegyrl', '4267600': 'Enerchy', '4267900': 'AirRake', '4268600': 'Assillass', '4268900': 'Audrius Kliševičius', '4270000': 'Fallout (18)', '4270100': 'Hiisak', '4270200': 'The Reflection (3)', '4270500': 'The Prussians', '4270600': 'Shingo Wakagi', '4270800': 'Keath Mead', '4270900': 'Paul Guay', '4271100': 'Dirty Harry (34)', '4271200': 'Antifuchs', '4272000': 'Garrie Addiment', '4272100': 'Rat Bastard (3)', '4272200': 'BiOt3Ch', '4273100': 'Anne M. Fletcher', '4273400': 'Aladár', '4273700': 'Adriano De Abreu', '4274100': 'Le Quatuor Poetique De Bruxelles', '4274400': 'Professor Bottleneck', '4274500': 'Digital Skulls', '4275100': 'Γιάννης Σαλονικιός', '4275400': 'Erich Grigar', '4275500': 'Pyrithe', '4275900': 'Gallagher & Shean', '4276200': 'Patrick Bennett (2)', '4277500': 'Charles Arkadin', '4278300': 'James Evans Octuple Odyssey', '4279500': 'Imix Jaguar', '4280200': 'Miniskirt Blues', '4280700': 'Shiftey & Ollie Twist', '4281000': 'Leda Barclay', '4281100': 'Грибы', '4281300': '2$ Fabo', '4281400': 'Dubkor', '4281600': 'CTBOY', '4281900': 'The Green Machine (2)', '4282200': 'Hanna Devich', '4282500': 'Bernard San', '4283500': 'Andrew Douglas (3)', '4283600': 'Thomas Ende', '4284200': 'Jutta Heinrich', '4284500': 'Tar Feather', '4284600': 'Half Past Two', '4285000': 'Stillframe', '4285100': 'ცისფერი ტრიო', '4285700': 'Stefan Mrdeljic', '4286500': 'Capture The Sun', '4286600': 'Peter Ritter', '4287500': 'Mike Stanley (4)', '4287800': 'Kangaroo Knife Fight', '4288200': 'Robert J. Sawyer', '4288600': 'Βενιαμίν Μπεϊαμέ Τσετίν', '4289000': 'Rick Derris', '4289100': 'Butcher Shoppe', '4289900': 'The Majestics (18)', '4290700': 'Käte Beutler YOGA Studio Baden Baden', '4290800': 'John Bly And Friends', '4291100': 'Dick Patton Et Son Orchestre', '4291600': 'Johnny Rampin', '4292200': 'Joseph Tacker', '4292400': 'Uzmi Ruke', '4292600': 'Orchestre FRS', '4293400': 'C. Vincent Fuller', '4293600': 'Jim Torrence', '4293800': 'Day-Z Daze', '4294300': 'Game Chasers', '4294900': 'Malka Jan', '4295100': 'Sky_Delta', '4295600': 'Escargot (3)', '4295900': 'Blockhead (10)', '4296300': 'Daniel & Mikael Tjernberg', '4296500': 'Needone', '4296800': 'Plantation (3)', '4297600': 'İhsan Güvercin', '4297900': 'Jack Rivers And His Muddy Creek Cowboys', '4298400': 'Chronicles (5)', '4298500': \"KING N'GOM\", '4299000': 'Robert M. Zukor', '4299100': 'Cecilia Cheung', '4299600': 'Sabine Barnes-Rauch', '4300000': 'Alma Del Barrio (2)', '4300200': 'Lutys De Luz', '4300300': 'Дощ', '4300500': 'Doris Stock', '4300700': \"Sergeant Pepper's Lonely Hearts Club Band\", '4301200': 'Samuel Wormius', '4301400': 'Tumbledown (2)', '4301600': 'Claudine Granger', '4301900': 'Acid Kindled Shiva', '4302400': 'Perry King (3)', '4302500': 'Hepatit-X', '4302700': 'OG Jammer', '4302900': 'DJ Carlos Fernández', '4303200': 'Horsefucker', '4303600': 'Freak Boy', '4303800': 'Billy Glenn', '4304200': \"Trucking Angel's\", '4304300': 'Philippe (47)', '4304600': 'Peak & Boom', '4305100': 'Hag (5)', '4305200': 'Alan And His Orchestra', '4305800': 'Zeros (3)', '4306200': 'Minimal 21', '4306500': 'Perennial Flax', '4306900': 'Jose Alberto Fuentes', '4307400': 'Matthew Barlow (3)', '4307700': 'Attitude 3', '4307800': 'Cast Originale del film \"Mary Poppins\" in italiano', '4308000': 'Foe (11)', '4308600': 'Life Under Bombs', '4308800': 'Forgetting The Memories', '4309200': 'Dicktracy Lords', '4309300': 'Psihofenomeni', '4309400': 'Jenine Vaughan', '4309600': 'Dakarius', '4309700': 'DVS (16)', '4309800': 'Step To Freedom', '4310300': 'ຈ້ນທະຮາ', '4310600': 'Amputated Christ', '4311200': 'Jacqueline France', '4311700': 'Andy Y Su Orquesta Riverside', '4311900': 'Kurt Ochshorn', '4312000': 'American Camerata For New Music', '4313400': 'Marge Simpson (2)', '4313800': 'Lauke', '4314000': 'Honeycombak', '4314200': 'Black Metal Peepz', '4314600': 'Nan Mayen', '4314900': 'HELIX HIGH', '4315200': 'Sinan Altınbaş', '4316100': '劉韻', '4316500': 'Antonio Bibriesca', '4317100': 'Jean Dany', '4317300': 'Massacre The Wasteland', '4317800': 'Warias', '4318700': 'Invictus (12)', '4319100': 'Orkestar AKUD \"Branko Krsmanović\"', '4319200': 'Conception (5)', '4319400': 'Spiri2all', '4320500': 'Durul Gence 5', '4321100': 'พิณนะกะ', '4321300': 'Los Cardenales', '4321800': 'Kapitel 1 (2)', '4322100': 'Maria Laura Bigliazzi Jazz Quartet', '4322700': 'Sini Tuomisalo', '4323000': 'Passion (34)', '4323500': \"Ensemble L'avenir\", '4324400': 'ดาว บ้านดอน', '4324500': 'Jonathan Harris (4)', '4324800': 'Trassh', '4324900': 'Dirty Work Of Soul Brothers', '4325800': 'Jorge \"Yoyo\" Bastidas', '4325900': 'Durakov', '4326200': 'Choir of Somerville College, Oxford', '4327100': 'Jorge Renan And His Guitar Combo', '4327400': 'Machette (7)', '4327500': '伊藤美奈子', '4327600': 'Kay Macquarrie', '4327700': 'Дуэт Баянистов (2)', '4328100': 'Ohrwurm', '4328500': 'Pete Lissman', '4328600': 'Madcapa', '4328700': 'Karl Ignaz Hennetmair', '4328900': 'Ruth De Cesare', '4329000': 'Deborah Jamieson', '4329400': 'Rusty Take-Off', '4330200': 'Nite School (2)', '4330800': 'Lalibela', '4331000': 'Michael Burgess (3)', '4331300': 'Bruce Davies (5)', '4331600': 'Alice B. Talkless', '4332200': 'Kler Cochenet', '4332900': 'Saoirse Ronan', '4333000': 'Familienkapelle J. Aebi', '4333500': 'Marika & Herbert Sobotka', '4333600': 'Jaeon', '4333900': 'Μ. Πριονά', '4334100': 'Buddy Greco Quartet', '4334200': 'Surrounded By Monsters', '4334300': 'Bob Grant (6)', '4334400': 'S.T.A.Y. Enterprises', '4334800': 'Omickron', '4335000': 'Symtm', '4335200': 'Yosuke Abe (2)', '4335300': 'G. Garca', '4335400': 'Abuwan', '4335800': 'Bobby Boyd And The Playboys', '4336000': 'Mana Island', '4336600': 'Navvi', '4337200': 'Lethal Injection (5)', '4337300': 'Orquesta La Lunados', '4337400': 'Ole Jørgen Tamnes', '4338200': 'Caixa de Pandora', '4338400': 'Luke Mejares', '4338600': 'Ross Mullen', '4338900': 'Zabadak Disco Singers', '4339700': 'Fecaloids', '4339900': 'Erla Björg Káradóttir', '4340000': 'Delvis Le Salsero', '4340200': 'Kraake', '4340400': 'The Viking Hillbilly Apocalypse Revue', '4340700': 'The Eldees', '4341200': 'Jamie Daure', '4341600': 'Borno Korpela', '4342200': 'El Borinquen Orchestra', '4342400': 'Bhean Bheag', '4342900': 'Mr. Yuck', '4343000': 'Oz N Storm', '4343100': 'Adrian Gaspar Trio', '4343200': 'White Ribs', '4343800': '仮想/// Vを（HS高校//', '4343900': 'Alyxx Dione', '4344200': 'Subliminal Ripple', '4344300': 'Ursula Muhr', '4344900': 'Exploko', '4345000': 'dull.', '4345200': 'MK Vermin', '4345800': 'Department Of Fine Arts Bangkok Thailand', '4346100': 'Willie Baker (3)', '4346200': \"Pepe Santana's Orchestra\", '4346400': 'Project No Control', '4346600': 'd. english (2)', '4348000': 'Carla Sousa', '4348100': 'Necrosadist (4)', '4348300': 'Ayaka Kitazawa', '4348500': 'Makalei', '4349100': 'Xavier Ribera', '4349200': 'Diane Connor', '4349300': 'Felicitas Weber', '4349500': 'Rexikom', '4350200': 'The Elements (20)', '4350300': 'Prambors Band', '4350400': 'Tony Rice & The Overtones', '4351200': 'Human Parade', '4351700': 'Claseria', '4352200': 'Shitfucks', '4352400': 'Duddleyloop', '4352500': 'Tony Bara', '4353000': 'Espiral (3)', '4353700': 'Perpetual Warfare', '4353800': 'Sascha Rissling', '4354200': 'Ensemble Petrov', '4355100': 'Tabernacle MCz', '4355600': 'Terteros', '4355700': 'Brighton Rock (2)', '4356100': 'Rorantyści', '4356500': 'Bonnie Denise Christensen', '4357100': 'The Twisters (6)', '4357500': 'Danny Richards (5)', '4358400': 'Day Of Rights', '4358500': 'Insomnia (23)', '4358600': 'Los Cumbancheros (3)', '4359800': 'El Negrito Truman y su combo moderno', '4359900': 'Kerstin Espered', '4360200': 'Rossa Laghezza', '4360400': 'Nicky Crayson', '4360700': 'Osk (4)', '4361300': 'Steve Serano', '4361700': 'Mary Tamm', '4362000': 'Cindy Blackman (2)', '4362100': 'The Mastertones (3)', '4362200': 'Кот Зачем', '4362400': 'Wave Hands Like Clouds', '4362700': 'Лев Ландау', '4363400': 'Eric Rondo', '4364200': 'Кямал Абдуллаев', '4365500': 'Ольга Чуфарова', '4366100': 'Nathan Perkins Band', '4366600': 'Ayil', '4366800': 'Lolita Echeverria', '4366900': 'Morihiro', '4367100': 'The Backup Team', '4367200': 'Volume (10)', '4367800': 'Gods Of The Dead', '4368100': 'Andrew Colvin', '4368700': 'Nika (20)', '4369100': 'Finoli', '4369900': 'The Butcherbirds', '4370200': 'Chor Des Lassus-Musikkreises München', '4370500': 'Marie Cécile Médor', '4371200': 'The Darins', '4371400': 'Sonoko Muraoka', '4372000': 'Devoured (6)', '4372300': 'Antonio Gubbins', '4372400': 'منصور كيقا', '4372700': 'Alaya Love', '4373200': 'LeWanda Lindsey', '4373400': 'Earnest Galloway', '4373700': 'Tsuyoshi Nishimura', '4374400': 'Wendel Sield', '4375300': 'Preben Jenevis Orkester', '4375400': 'Johnny Kaye', '4375600': 'Ced AWSM', '4376100': 'Thies Neu', '4376300': 'Łagodna Pianka', '4377000': 'Asylum Sisters', '4377500': 'DJ Mamon', '4379200': 'Renegade (40)', '4380300': 'LES TRINIDADS', '4380400': 'Standing Hawthorn', '4380800': 'Álibi de Orfeu', '4381100': 'Наташа Симонова', '4381300': 'The Cobras (9)', '4381500': 'Toronto Homicide Squad', '4382100': 'Platform (11)', '4382600': 'Antho Decks', '4382700': 'Daphné (5)', '4383100': 'Chou Chin Hua', '4383700': 'Animosity (13)', '4384100': 'Frank Bauduin', '4384500': 'Tee (26)', '4384900': 'Olivia Morgan', '4385000': 'Horace Trahan And The New Ossun Express', '4385100': 'Bent Weidich', '4386800': 'Alexander Haas Budapest Ensemble', '4386900': 'Grassfoot', '4387300': 'Tom Baker (28)', '4387600': 'North German Singkreis', '4387900': 'DC White', '4388100': 'Tino Pezzi', '4388800': 'Cocktail (12)', '4389100': \"Mike Connolly's Celticaires\", '4389500': 'Shelby Wilson Odissey', '4389800': 'Sandra (93)', '4389900': 'Garry Wilton And His Oldtimers', '4390300': 'Jerry Blavat & The Geatorettes', '4390500': 'Bum Bum (3)', '4390600': 'Des Moines Big Band', '4390800': 'Bill Hensley', '4391000': 'Berlina (2)', '4391400': 'The Beer Muscles', '4391500': 'Nomad (38)', '4391700': 'Hugobeat', '4391800': 'Genta Ogimi', '4392300': 'Musici Academici', '4392500': 'Neil Johnston (4)', '4393000': \"Olaf Lenk's Food\", '4393100': 'Ray Alba', '4393500': 'Rudolf Khovak', '4394500': 'The Sorcerer (4)', '4394600': 'Little Dread (2)', '4395600': 'Mary Asquith', '4395900': 'Strawboy', '4396200': '86 Sandals', '4396400': 'Analogy (2)', '4396500': 'The Amaryllis Consort', '4397300': 'Scottsdale Chapter', '4397400': 'Grand Orchestre Militaire', '4397800': 'The Moscarella Group', '4398200': 'Thom Gambino', '4398800': 'Leon Segarra', '4399000': 'Bob Quiz', '4400300': 'Pat Woods Et Choeurs', '4401000': 'William Victor', '4401100': 'Fatal Clichè', '4402000': 'Julio Del Puerto', '4402200': 'Garas Dániel', '4402500': 'Vitalija Glovackyte', '4402900': 'Tamas Veszi', '4403300': 'Eli (27)', '4404900': 'Jeppe Glamster', '4405000': 'Crave (8)', '4405600': 'Just Fontaine', '4405700': 'Mushigo Palm', '4405800': 'FROG ROCK', '4405900': 'Vern Laswell', '4406300': 'Oriole (2)', '4407100': 'Danny K And His Young Stars Of Nigeria', '4407600': 'Convenient Integrative Moods', '4407700': '24 Hours (11)', '4407800': 'Immigrant with the Zapu Choir', '4407900': \"Keith O'Malley\", '4409300': 'Sue Gerger', '4410600': 'Rita Marcotulli - Pietro Tonolo Quartet', '4410800': 'Mindy Simmons', '4410900': 'Koichi Minato', '4411000': 'Joe McDade', '4411700': 'Renée Rousseau', '4411800': 'The Dust Room Strangler', '4412200': 'Orig. Sterntaler', '4412300': 'Luis Augusto de A. Botelho', '4412400': 'Вова Шкет', '4413200': 'Peptalk (2)', '4413700': 'Tom Callinan', '4413900': 'Lucia Fenix', '4414000': '정미조', '4415200': 'Kovat Arvot', '4415300': 'Bitone', '4415800': 'Zachary Shemon', '4416400': 'Downtown (17)', '4416500': 'Siniša Jelić', '4416700': 'Orquestra Caravelle', '4416800': 'Los Sonicos', '4417100': 'Linda Nordio', '4417300': 'Abaca String Band', '4417800': 'Joachim Höchbauer', '4417900': 'Musitrio', '4418000': 'Roza Vertov', '4418100': 'Theorem (4)', '4418400': 'The Strings (10)', '4418800': 'Nytron', '4419400': 'Dustin Ferguson', '4419700': 'Kymykore', '4419800': 'Nubia Band', '4419900': '정수라', '4420000': 'Espiahi', '4420200': 'The Walker Brothers (2)', '4420700': 'Albert Fallen', '4421200': 'Elsa Carmona Oljelund', '4421700': 'Missing Cats', '4421900': 'Jaroslav Šesták', '4422200': 'Carlo Angiolini', '4422400': 'Jerry Wantshe', '4423100': 'The Silver Clitoris', '4423500': 'Bob Shippell', '4424000': 'Deprivacija', '4424500': 'Regis (9)', '4424700': 'Hypochristmutreefuzz', '4425000': 'Francisco Domingues', '4425400': 'Internet Goddess Shinatama', '4425600': 'Kai Hofert', '4426100': 'Aleste (2)', '4426200': 'Edward Bloom', '4427000': 'Buddy Banter', '4427400': 'Valtter Vin', '4427600': '?איפה הילד', '4427700': 'Ρώμη', '4427800': 'Splinter (22)', '4428000': 'Arnie & Barnie Worm', '4428400': 'Toxik Synther', '4428600': 'Eric Von Schmidt And The Cruel Family', '4428700': 'Nicodemus (8)', '4429200': 'Roberto Cipelli Quartet', '4429500': 'Tomas Krause', '4429600': 'Corpse Light', '4429700': 'Serko Fu', '4430200': 'Tetsuo Wakasugi', '4430300': 'Raffaele Macchia', '4430400': 'Sungoddess', '4430700': 'Penny Packers', '4431900': 'Bang Boys', '4432100': 'Danielle Jacques', '4432400': 'DIY (3)', '4432900': 'The Avengers (21)', '4433600': 'Big Band Nijmegen', '4433700': 'The Three Rays', '4433800': 'Saha', '4434000': 'Claude Bolling Et Son Sept De Danse', '4434500': '33 Star Drag', '4435000': 'Laguestra', '4435300': 'Tim Lexus', '4435400': 'MagnaDrake', '4435600': 'Drissa Sibide', '4435900': 'Michal Taliga', '4436600': 'Rraouhhh!', '4436700': 'Anita Wilson (2)', '4437000': 'Pescacosca', '4437600': 'The Dilfs (2)', '4438000': 'Nomadd (3)', '4438100': 'Shotgun Chamber Trio', '4438700': 'Sekt-87', '4439100': 'Rudi Böhne', '4439300': 'Tom Muncrief', '4439400': 'Rocaine', '4439700': 'Evert Fagerman', '4439800': 'Paramjeet Sandhu', '4440100': 'Among The Rocks And Roots', '4440200': 'Visual Graphic Design', '4440800': 'Niky Santini', '4441000': 'Ilo (4)', '4441100': 'Epitaph (20)', '4441500': 'Kyogen (2)', '4441900': 'Stephanie Tompson', '4443300': 'Meister (5)', '4443500': 'Vilma Kivimäki', '4444700': 'Michaelangelo Linguini', '4444800': 'Voudouris & Kahne', '4445000': 'Squad (8)', '4445200': 'Stealing December', '4445300': 'Mussi & India', '4445600': 'The Blue Jeans (4)', '4446200': 'Element Ele', '4446700': 'Los Cuatro Gatos', '4447200': 'Antoinette Portis', '4447500': 'Jordan Burns (2)', '4447700': 'Asylum Seekers (5)', '4447800': 'Quatuor de Saxophones Inédits', '4449000': 'Garfield Ferguson', '4449500': 'Ryan Oliver (2)', '4449700': 'Kolektiv', '4449800': 'Krzysztof Szmańda', '4450000': 'Apocryphal Gate', '4450100': 'Fraternal Twin', '4450400': 'Hans-Eric Hellberg', '4450800': 'Meck Keller', '4451000': 'Guy Pestalozzi', '4451600': 'Marv & Patty Rainwater', '4451900': 'Pedro Vidal (3)', '4452100': 'Crotch (3)', '4452300': 'Darkmoon Rising', '4452700': 'Gene Earlhart', '4453100': 'Kid Bass (2)', '4453500': 'DJ Chino (2)', '4453600': 'Louie Valentine', '4454100': 'Večírek', '4454300': 'Filiband', '4454700': 'Ariel Abramovich', '4454800': 'Dale Turner (2)', '4455200': 'Sarah Ndagire', '4455800': 'Neil Soiland', '4455900': 'Furnace Mountain', '4456300': 'Ohnivá Voda', '4456500': 'Adam De Great', '4456900': 'Dice Soho', '4457200': 'Polarised', '4457500': 'DJ Tools (2)', '4458200': 'Devaeux', '4458500': 'Zafakon', '4458800': 'Thomas S. Klise', '4458900': 'Darrell Fernandez', '4459900': 'Felipe Costa', '4460100': 'The Black Shadows (3)', '4460300': 'Tempo Rei (2)', '4460400': '이현주', '4460900': 'Brüzzlings LTD', '4462100': 'Boll', '4462300': \"Jay's Booming Hat\", '4462700': 'Lazy People', '4462800': 'The Scroungerz', '4463500': 'Tommy Wall (2)', '4463800': 'Cruelty Divine', '4463900': 'Thérèse Bosc', '4464500': 'Monti (12)', '4464900': 'David Keane (3)', '4465100': 'John Orpheus', '4465300': 'The Nancy Atlas Project', '4465600': 'Spook-One', '4465800': 'Dream Catcher (4)', '4465900': 'Tyranos', '4466000': \"D'ags\", '4466200': 'Spiral Of Z', '4466300': 'Snatch (26)', '4466500': 'Vangee (2)', '4466600': 'Real (24)', '4466700': 'Subversion (18)', '4466900': 'Alex Pinto Quartet', '4467000': 'Gijsbert Tersteeg', '4467200': 'Les Sœurs Marie France', '4467300': 'Sarah-Jane (3)', '4467500': 'Superbigband', '4467600': 'Brad Fritcher', '4468000': 'Jonathan Barron', '4468100': 'Светлана Хорн', '4468500': 'Rou Puckt', '4468700': 'Sebastian Ortiz', '4468800': 'Jean P. Nelson', '4468900': 'Friendly Dorx', '4469600': 'Ullrich Bielefeld', '4469700': 'J. Bachelor', '4469800': 'Delay Compensation', '4470700': 'F.G.E.M.', '4470800': 'Grupo Garagem', '4471200': 'Feijão Com Arroz', '4471300': 'LCGWN-MSB', '4471400': 'Escandihado', '4471500': \"Eddie 'Blue' Lester & The Storms\", '4471700': 'Ivo (39)', '4472100': 'Ma Puja Apurvo', '4472200': 'Trio Vocal Soma 3', '4472900': 'Moonbista', '4473200': 'Las Cabezas Negras', '4473700': '파울로시티', '4473900': 'Janey Schramm', '4474200': 'American Girlfriend (2)', '4474400': 'Kola Marion', '4474700': 'Paul Stefen', '4474800': 'Parlay Droner', '4474900': 'Major Deep', '4475000': 'Roger Calvert', '4475600': 'Henri Chevalier', '4476100': 'Toto Mitala', '4476200': 'Crasek', '4476800': 'Basal Banar', '4477400': 'Cabezas Podridas', '4478400': 'Sali Jašarević', '4479800': 'Da Old Friends', '4479900': 'Mothracide!', '4480300': 'Napolion', '4481200': 'Chance Morphew', '4482000': 'Heclipse', '4482200': 'Rico (110)', '4482900': 'Shadow (85)', '4483200': 'Shane Todd', '4483800': 'Street Kid', '4484100': 'Zen Bromley', '4484900': 'Beholder (5)', '4485900': 'Nonchalant Savant', '4486000': 'Tony Barra And Quintette', '4486200': 'Sergio Adrian', '4486300': \"L'Orchestre Des Concerts Diesenhaus\", '4486400': 'Maria Elisa Ayerbe', '4486500': \"Leroy Kirkland's Rock-Chas\", '4486700': 'Grand Luxe (2)', '4488400': 'Väinö Karjalainen', '4489400': 'RPG-7', '4489600': 'The Bean Pickers Union', '4490200': 'Lariss', '4490600': 'Segona Opció', '4490700': '2047 부드러운 아픈', '4492100': 'The Combined Gospel Choirs', '4492200': '220 Voltios', '4492400': 'Blindmans Rainbow', '4492500': 'Monolithic Monkies', '4492600': 'Lilliam Suarez', '4492900': 'Morbid Clown', '4493000': 'Bala Ram Nepali', '4493400': 'Tracy Starr', '4493800': 'Vlada Romandić', '4494700': 'Ray Cassarino', '4494800': 'Piggy (7)', '4495100': 'Elizabeth, Yusuf Och Arthur', '4495400': 'BIG MUR$', '4495500': \"Ciaran O'Tuama\", '4495600': 'Julian Taylor (9)', '4495700': 'Paradox (79)', '4495900': 'Mumrunner', '4497400': 'DeVonde', '4497500': 'Hovní puch', '4497700': 'Sim Kim Lai', '4497800': 'Cuerpo De Gaitas \"Rey De Viana\"', '4497900': 'Андрей Белянин (2)', '4498000': 'DJ Mahinya-hinya', '4499300': 'Death Warrior', '4499600': 'Louis Pelgrims', '4499700': 'L. P. Wilkinson', '4500200': 'Nancy Knox', '4500300': 'Tatjana Trajković Tanja', '4500600': 'Manuella (8)', '4500700': 'Lorin Rowan & The Edge', '4500900': 'Techen', '4501000': 'Νίκος Καρατζής', '4501200': 'Soufrière Production', '4501800': 'Los Sidoristas', '4501900': 'Mark Allisson', '4502200': 'Alan Heeney', '4502400': 'Odjah', '4503100': 'Алик Ошмянский', '4504000': 'Puerto Candelaria', '4504200': 'Onero', '4504400': 'Bouabdelah', '4505500': 'VDSG', '4505800': 'Easy Street Stringband', '4505900': 'James Gardner (10)', '4506100': 'SeanJohn Deegan', '4506900': 'Parranda Cuasquias', '4507200': 'Hi Tone Graphics', '4507300': 'Die Clippers', '4507400': 'Cherokee (21)', '4507600': 'Donald R. Salamanca', '4508600': 'Luchten', '4509700': 'Takshi Ishihara', '4510000': 'Primitive Characters', '4510600': 'Armonia Caribe', '4510800': 'Coocky', '4512000': 'Rudie Jap', '4512800': 'Gunmen And Flightpaths', '4513400': 'Big Banana Komplott', '4514000': 'Unravel', '4514200': 'Spark (27)', '4514400': 'Hang Loose', '4515100': 'Assomper', '4517200': 'Srpsko Pevačko Društvo Iz Lebanona Pa.', '4517400': 'Gina Giro & Charly Scheck', '4518000': 'Les Crocodiles', '4518200': 'The Lords (12)', '4518300': 'Voice (31)', '4518400': 'A. Square', '4518800': 'Bob Baratt', '4519100': 'Steffen Brandt (2)', '4519200': 'Mike Jones (55)', '4519600': 'Melyssa Shannon', '4519700': 'Maureen May', '4520200': 'LAS (3)', '4520300': 'L. G. Hamilton', '4520700': \"Cursillo '73\", '4521200': 'Third World Skull Candy', '4521600': 'Костас Саламбасис', '4522100': 'Reinier Vegter', '4523400': 'Sporty (6)', '4523900': \"Magnolia Jazz Group '65\", '4524000': 'Spandex Pandex', '4524100': 'Itzik Norani', '4524200': 'Philadelphia Freedom', '4524700': 'The Notions', '4525500': 'House Doctors', '4525600': 'Herman De Zingende Ruitenwasser', '4526000': 'Zumbayllu', '4526300': 'Tarkus (2)', '4526400': 'Grupo Arauco', '4526500': 'John \"B.W.\" Carnes', '4526600': 'Elena Agreda y Su Conjunto Centro Musical Huamparan', '4526700': 'Orkestar Dragiše Todorovića', '4526800': 'Ghost Camp', '4526900': 'Fred Mueller (3)', '4527000': 'Cleverhands', '4527600': 'Little Baby (2)', '4527900': 'Blue Smiley', '4528100': 'Dūrocs', '4528300': 'Commando (14)', '4529500': 'Rodrigo Solo', '4529600': 'Alex Burrett', '4530700': 'Silver Train', '4530800': 'Noltem', '4531100': 'Floyd Matthews', '4531500': 'Tom Carter (9)', '4531700': 'Victory Denied', '4532200': 'Delta Deep', '4532700': 'Stephen Lee Clark', '4533000': 'LaPorte Choraliers', '4533100': 'Braddigan', '4533200': 'Hangtown Jazz Company', '4533500': 'Roadhog', '4533600': 'Branden Williams', '4534100': 'Šajka', '4534200': 'Michał Czartoryski', '4534700': 'Maha Sun', '4535700': \"Big Al's Coaster Club\", '4535900': 'Sam Dickison', '4536100': 'Rocket (17)', '4536200': 'Doris Waters', '4537300': 'Nathu Khan', '4537800': 'Andrée Serre', '4538500': 'Royal Royal', '4538600': 'Phalcom', '4539000': 'kidswithguns', '4539200': 'Moore Family', '4539600': 'Das Orchester Des Musikgymnasiums Linz', '4540100': 'Heavy Weather (3)', '4540200': 'José Prendes', '4540500': 'Jaspar (2)', '4540700': 'Жигзавын Дорждагва', '4541400': 'Thunderclap Jones', '4542100': 'Hyaline', '4542400': 'Ruby Karinto', '4542600': 'Milton Buie', '4542900': 'Bob Sneider', '4543000': 'Harout Djeredjian', '4543100': 'Joint (10)', '4543400': 'Steve Hayes (8)', '4543600': 'Hartmut Zell', '4543800': 'Kate & New Date', '4544000': 'Marcelo Peñaherrera', '4544100': 'Corey Crossfield', '4544300': 'Kjell Häggkvist', '4544600': 'Tribesman Community Arts Workshop', '4545000': 'Edward Seymour', '4545100': 'Sanguinem Mittère', '4545900': 'Libre Vermell de Montserrat', '4546300': 'Big Foot (11)', '4546600': 'Ariana Huerta', '4546700': 'Matthias Pohl', '4546800': 'Greg Koch And The Tone Controls', '4547400': 'Somehow At Sea', '4547600': 'Arthur Art', '4547700': 'Swipe!', '4547800': 'Superstarz (3)', '4548100': 'Ian Waddell (2)', '4548200': 'Raggerty', '4548300': \"Orchestra Sinfonica Da Camera Dell'Ente Dei Pomeriggi Musicali di Milano\", '4548400': 'Stone And Butler', '4548500': 'حسين الأتربي', '4548800': 'The Amazing SB', '4549100': 'Donnafugata', '4549400': 'Cody (UK)', '4549800': 'Ada Fijał', '4549900': 'Aspercrucio', '4550300': 'Waldo Vieira', '4550800': 'The Round Up Boys (2)', '4551100': 'Sheena & Amarjit', '4551200': 'Kasper Stub', '4551300': 'Maximizerz', '4551400': 'Shahrokh Molavi', '4551800': 'Quattro Mani', '4552100': 'The Starangers', '4552200': 'Solar Powered Rocket Car', '4552500': 'Valkillmer', '4552800': 'Drainage (2)', '4553100': 'Orchestra Angelo Rossi', '4553600': 'The Ray Combo', '4553900': 'Stagecoach Express', '4554100': 'Drowning In Wood', '4554300': 'DMN, The Diamond', '4554400': 'T-Bizzle', '4554500': 'Наталия Старинская', '4554700': 'Tashi (2)', '4555300': 'Dave Signs', '4555500': 'SDSK', '4556100': 'DJ Sue', '4556300': 'Walkalone', '4556800': \"Disney's Wuzzles\", '4557000': 'The Twenty 20s', '4557500': 'Инна Бабич', '4557700': 'Guy Robert (3)', '4557900': 'A. Benguigui', '4558100': 'Andrew Gutauskas', '4558300': 'Donny Marlow', '4558500': 'The Victors (12)', '4558900': 'Stadtmusik Bern', '4560000': \"Eric Sager's City Lights Hot Jazz Band\", '4560200': 'Aminata Dante', '4560400': 'Paradise Revue', '4560700': 'Benedikt Seidl', '4560800': 'Phil Bronson', '4561500': 'Cyrium', '4561600': 'Syl Mitchell', '4561800': 'Harrison Ave.', '4561900': 'Serpentine (10)', '4562400': \"Les Cavaliers De L'Est\", '4562800': 'Slug (17)', '4562900': 'DJ Frank (5)', '4563100': 'Trio Siridó', '4563200': 'The Dead Men (2)', '4563500': 'The Effect (6)', '4563800': 'Rice The Sound Transmitter', '4564000': 'Futschis', '4564200': 'About Quaint', '4564900': \"Bilal Irshed's Trio\", '4565200': 'Ira Diaboli', '4565500': 'Bobby Knockshot', '4565900': 'Pilgrimage (4)', '4566200': 'The Jazz Minors', '4566300': 'Lidiano Azzopardo', '4566600': 'Suzana (6)', '4566900': 'Alec Feld', '4567300': 'Kreagen', '4568000': 'ピズム', '4568300': 'Jacob Dalgas', '4568600': 'The Evangelist Singers Of Dayton, Ohio', '4568700': \"Mark O'Shea (2)\", '4568900': 'Laura e Emanuele', '4569000': 'Crystal Eyes (4)', '4569600': 'Two Cartoons', '4569800': 'George Burn', '4570300': 'Pleasure Pointe', '4570500': 'Maldito (6)', '4570600': 'Mirrorwork', '4570700': 'Love Sanders', '4570800': 'Giben Gless', '4571500': 'J-D Thibodeau', '4571900': 'Green Gang', '4572200': 'Two Lovers', '4573000': 'Mad Dogge Dog', '4573700': 'Chris Pitsiokos Trio', '4574000': 'Bob Miller (33)', '4574300': 'The Beautiful People (5)', '4574400': 'The Fins (2)', '4574600': 'Margaret Randall', '4574800': 'Apofeoz Orkestra', '4574900': 'Endless Bummer Forever', '4575700': 'Cum Rag', '4576000': 'Mustafa Ramiz', '4576300': 'The Riverview Trio', '4576600': 'Lieto', '4577400': 'Tribe of Heaven', '4578300': 'Craig Blackwell', '4578400': 'Daddy San', '4578700': 'Guitar Islancio', '4578900': 'Sevinçler', '4579100': 'The Dopeman (2)', '4579200': 'Javier Batiz And The Famous Finks', '4579900': 'The Worm All-Stars', '4580800': 'Tuna (11)', '4580900': 'Hljóðbókaklúbburinn', '4581100': 'Glo (5)', '4581500': 'Joanna Nicholson', '4581600': 'Acme Anvil', '4581800': 'Rawle Titus', '4582300': 'El Coro Mexico', '4582500': '里園 志寿清', '4582700': 'Heartland (8)', '4582800': 'Norma Shebbeare', '4583000': 'Chicken Wing Facelock', '4583300': 'Matthew Bryant', '4583600': 'Tim Daniels (4)', '4584000': 'Los Auténticos (2)', '4584100': 'Emotional People', '4584400': 'Carnera (3)', '4585400': 'RQn', '4585900': 'Franzl & Co.', '4587300': 'Are We Awake', '4587700': 'Litzbomb', '4588500': 'Frank Hilgert', '4588700': 'Kenny Mac (3)', '4589300': 'The Surrealists (2)', '4589700': 'Fabrizio Delledonne', '4590000': 'R.U.2.S', '4591000': 'Uai Sô', '4591500': 'Stefan Bergs', '4591700': 'Natalia Barraglioli', '4591900': 'Phonetics (5)', '4592300': 'El Reino De La Nada', '4592600': 'Wander Fons', '4593100': 'Giordano Ballerini', '4593200': 'Jasmin (36)', '4593600': 'Eddy Love', '4594000': 'Margun Aasbrenn', '4594800': 'Stripclub Junkies', '4595000': 'Şadan Adanalı', '4595200': 'Vôthướng Guitar', '4595800': 'Exidie', '4596000': 'The Witnesses (5)', '4596200': 'Mario Hoppe', '4596600': 'Eric Bernier', '4596700': 'Kolosseum', '4596800': 'The Joy-Riders', '4597100': 'Ron Davis & The Enchanters', '4597300': 'Lourdes de Montecristo', '4597700': 'Sublayer', '4597800': 'Bop Whopper', '4597900': 'Alisha Marie Ard', '4598000': 'Maxime Gervais', '4598500': 'Sidd', '4598600': 'Xzy Yui Sui', '4599100': 'Ronnie Sando', '4599300': 'Coral Ridge Chancel Choir', '4599800': 'Setara', '4600400': 'Stefano Cortese', '4600600': 'Josep Gimeno i Montell', '4600800': 'Lucy Jane Garcia', '4601100': 'Calmed By The Tides Of Rain', '4601700': 'Clenchfist', '4602100': 'Adva', '4602400': 'Errol Vaz', '4602600': 'Caroline Robinson', '4602900': 'Mario Rodriguez (5)', '4603500': 'Action Management', '4604100': 'Sonic Phaze', '4604700': 'State Control (4)', '4604900': \"Albert Coleman's Atlanta Pops\", '4605300': 'Causa (3)', '4605400': 'Pat Murphy-Racey', '4605500': 'Klaas En Klaus', '4605600': 'BlackGummy', '4606400': 'Gore Matraka', '4606600': 'Brandyn Phillips', '4606700': 'Moe (30)', '4607000': 'Joop van Pelt', '4607100': 'Pingstkyrkan Mölndal', '4607200': 'Jauche', '4607400': 'Terra Nera', '4607700': 'Chop Juggler', '4607800': 'MSP (5)', '4608000': 'Mental Assault', '4608900': 'Bass Taxi', '4609100': 'Henrik Nydahl', '4609700': 'Pablo Vacarezza', '4610000': 'Teo (39)', '4611300': 'Highbinder', '4611400': 'The Livingbrooks', '4611600': 'Capella Brabant', '4611900': 'Black Fire (5)', '4612400': 'Franki Treat', '4612500': 'Shining Stars', '4612600': 'Greg Cogan', '4612800': 'Caroline & The Ramblers', '4613000': 'Sargasso Sea (2)', '4613100': 'Duce And Ace', '4613400': 'Harrison Crump (2)', '4613600': 'The Westwoods (2)', '4613900': 'Filippo Lauri', '4614100': 'Le Spectacle Apollo', '4614300': 'The Phantomatics', '4614400': 'Eat Me Fresh', '4614500': 'Malatesta (6)', '4614600': 'Adam Usi', '4614700': 'Fernanda Santos', '4614900': 'Zoe Guigueno', '4615800': 'Angel Bauer', '4616500': 'Sadle', '4617400': 'Body Sculptures', '4617600': 'Bass Cannon', '4617700': 'Günther Pfannkuch', '4617900': 'Ronny Kubera', '4618100': 'V-Device', '4618200': 'The Name (12)', '4618700': \"The Best In Children's Literature...\", '4618900': 'Élise Barbot', '4619000': 'Arthur Ernest Wilder-Smith', '4619200': 'Štěpán Charvát', '4619300': 'Vumbi Vibration', '4619500': 'Järfälla Gospel Brass', '4619600': 'Brian Keith (10)', '4619800': 'Dzikie Jabłka', '4620100': 'Leon Beaver', '4620700': 'Too Noisy Fish', '4620900': 'El Fuego (3)', '4621000': 'Harris Dimopoulos', '4621200': 'Sister Space (2)', '4621300': 'Tou Ping', '4621600': 'Tornerose (2)', '4621900': 'Ben Fuller', '4622300': 'Atomic Symphony', '4622600': 'Terrazza', '4623200': 'Joe Taylor (16)', '4623300': 'Rice (14)', '4623700': 'Edye Brookshire', '4624000': 'The Shell-Backs', '4624100': 'Shamshaan', '4624200': 'Toni Granko', '4624400': 'Rambo Bambi', '4624700': 'Calvaire (2)', '4625200': 'Komorní Sdružení Pražských Pozounérů', '4625400': 'Bijela Krema', '4625900': 'Deejay Verstyle', '4626000': 'Ecumenical Drugstore', '4626300': 'Noah Wotherspoon', '4626600': 'Bora (8)', '4626800': 'Harmaatalous', '4627200': 'Kid And His Green Mountain Boys', '4627500': 'Yohualli', '4627700': 'Allusondrugs', '4628100': 'Pussycat (8)', '4628400': 'Mrak & Koba', '4628700': 'George & Lee', '4629400': 'Vitruvian Man', '4630300': 'Spill (10)', '4630600': 'Castelnuovo E I Valtellina', '4630700': 'Kalak', '4630800': 'The Kitchen Collective', '4631000': 'Harakkkiri', '4631300': 'Carnivorous Erection', '4631500': 'In Vaïn', '4631600': 'Ritus (4)', '4632200': 'Evgenia Pryadkina', '4633000': 'Emozial Records', '4633100': 'Javier Garcia (9)', '4634600': 'Habte Awalom', '4635000': 'Robbie C. (2)', '4637200': 'Dani Prod', '4637700': 'Jack N Danny', '4637900': 'Mr. E (tech 9)', '4638300': 'James Davis (27)', '4638400': 'Digitize (2)', '4638600': 'Lisa Marie Damm', '4639000': 'Ma Shuai', '4639300': 'Giuseppe Gazzaniga', '4639800': 'Johnna (2)', '4640000': 'Monument Banks', '4640100': 'The Village Voices', '4640300': 'Lelah', '4640700': 'Avalon (34)', '4640900': 'The Buckwheat Boyz', '4641100': 'Alden And The One Nighters', '4641200': 'Firekid', '4641400': 'Lord Scorcher', '4641800': 'Kazutaka Hori', '4641900': 'Lawn Brooks', '4642000': 'Asmodis (3)', '4642400': 'Los Cucombros', '4642800': 'Lee Denton', '4643100': 'Sandy Slack', '4643400': 'Reiner Hartmann', '4644100': 'Sewer Brigade', '4644300': 'D-Tribe (2)', '4644600': 'Gorka Photography', '4644900': 'Decline (6)', '4646100': 'Jueltrion', '4646400': 'Duo Franz Grossmann / Martina Leppers', '4646500': 'Ensemble Bracelli', '4647200': 'Combo Borinquen', '4647400': 'Catch 22 (29)', '4647800': 'Cienki Grzyb', '4648200': 'Ucall Gooden', '4648500': 'Tempo-Streichorchester', '4648700': 'Kristian Vivo', '4648800': 'Milk-pops', '4648900': 'Vahan Mardirossian', '4650100': 'Jeugdkoor Carmina', '4650400': 'Kordes', '4650600': 'Minxx (2)', '4650900': 'Kurt Lorenzen', '4651100': 'MDME SPKR', '4651400': 'Zorugelucifer', '4651700': 'Paul Tétreault', '4651900': 'Clemens Peck', '4652200': 'slink moss and the flying aces', '4652400': 'Funkotronic', '4652600': 'Southern Whiskey Rebellion', '4653000': 'Veil Of Mist', '4653500': 'Triangle Jazz Partyboys', '4653800': 'Tentacula', '4654000': 'Abemat', '4654100': 'Weedsnake', '4654200': 'Trhip', '4654900': 'The Horn E. Players', '4655400': 'Веселин Веселинов - Еко', '4655800': 'Pungy Sticks', '4656000': 'Stanislaus Klemm', '4656400': 'Валик Гришко', '4656600': 'Bobby Dreadfull', '4657400': 'Narcosis (12)', '4657500': 'No Need To Open Your Eyes', '4657600': 'Rik van Treeck', '4658000': 'Juan Quishpe', '4658100': 'Nuiton', '4658400': 'Francisco Coelho', '4659500': 'Adoration Destroyed', '4660300': 'Arif (3)', '4660600': 'Babalao', '4661400': 'Shane Rhyno', '4661700': 'Intestinal Vomit', '4661900': 'Never Too Late (3)', '4662300': 'Mazarin (4)', '4662400': \"Perez O' Neal\", '4662500': 'Libton', '4662900': 'Vincent Vigor', '4663600': 'Rendezvous Point', '4663800': 'The Big Fun City', '4664000': 'Dunduew', '4664900': 'Julia Chen', '4665000': 'Bob Holmes (6)', '4665100': 'Stan Golonka And His Chicago Masters', '4665400': 'Choralschola Der Wiener Hofburgkapelle', '4665500': 'Bad Crimers', '4666200': 'Gabriel Chevallier', '4666400': 'Suns Of Mourning', '4666600': 'Teddy Goldstein', '4666700': 'Aya Okuyama', '4666900': 'R.I.C.O. (3)', '4667000': 'Ice Kid (2)', '4667100': 'The August (2)', '4667800': 'Giovanni De Feo', '4668100': 'The Creels', '4669100': 'Jonas Bergsten', '4669500': 'Barbara Fing', '4669700': 'Bright Stars Of Flint, Michigan', '4669800': 'Psychoziz', '4670100': 'Ed MacEachen', '4670500': 'Freedom Club (2)', '4670600': 'The Trees (10)', '4670800': 'Maestronaut', '4671300': 'Plutos People', '4671400': 'Hårdt Destilleret', '4671600': 'Sampo Luoto', '4671700': 'TIME ENDZ', '4672000': 'Aneurysm (7)', '4672300': 'Harvey Farr', '4673100': 'Los Kings De Sullana', '4673400': 'Scabrox', '4673600': 'Ken Plus', '4673700': 'Urban Gravity', '4673900': 'Axel Breidahl', '4674300': 'Banda Regional', '4674700': 'Lenie Menten', '4675700': 'Blue Angel (6)', '4677000': 'Frederick Septimus Kelly', '4678200': 'Luke Boden', '4678300': 'Scid (2)', '4678800': 'T. Herbert Algeo', '4679300': 'Bobby Gonzales (4)', '4679500': 'Marcelo Vianna', '4680800': 'Elite (29)', '4680900': 'Progressive Madness', '4681000': 'Joseph Mendez', '4682100': 'Niko Matilainen', '4682300': 'Tewsr CBS WAI MZK', '4682500': 'Rhythm Of Life (5)', '4682900': 'The Scoots', '4683100': 'Bedstars', '4683300': 'Jack Weston', '4683700': 'Yuko Mizutani', '4684000': 'The Michael De Jong Band', '4684300': 'Choeurs du Comité de la Cinématographie', '4684400': 'Miriam Ariana', '4684500': 'Pontius Pilatus', '4684700': 'S.H.I.T. (4)', '4684800': 'Vern Charlton', '4685200': 'Walter (54)', '4685400': 'Jamaïtha Inanga', '4685800': 'Zulu Wave', '4686000': 'Εθνική Συμφωνική Ορχήστρα της ΕΡΤ', '4687200': 'Maurice Dumesnil', '4687300': 'Анатолий Киселев (2)', '4688000': 'Dirk Schicke', '4688200': 'تيم مطبعة', '4688300': '500 Internal', '4688700': 'Grupo Folclórico As Ceifeiras De S.Martinho de Fajões (Oliveira de Azeméis)', '4688800': 'De Yoghurts', '4689800': 'Peter Law & The Pacific', '4690300': 'DH Style', '4690400': 'Bethuel Maseko', '4691100': 'The Ruiner', '4691300': 'Fleurdelix Et Les Affreux Gaulois', '4691600': 'Philippe Darmon', '4691800': 'Dark Seal', '4692000': 'Malo Mazurié', '4692300': 'Pepe Aviles y Su Orquesta La Magnifica', '4692800': 'Radugadeth', '4692900': 'Redbridge Youth Theatre Workshop', '4693600': 'Blazers (4)', '4693700': 'Mondrepmdenny', '4693800': 'Les Fils de Crao', '4694100': 'Kees Kraak En De Onrustzaaiers', '4695000': 'Live Tongue', '4695200': 'Chi-Chi Favelas', '4695600': \"The Jack Dieval's Sextet\", '4695700': 'Damon Smith Trio', '4695900': 'The Sexy Ladies & Mother Father Gentlemen Of Gangnam District', '4696300': 'Rvffian', '4696400': 'Dionysus (10)', '4696800': 'Van Dyck & Co', '4697200': 'Byzantin-Slavon', '4697400': 'Eddie Blazonczyk, Jr.', '4698000': 'Bill Heck', '4698700': 'Лаци Олах', '4699000': 'Steve Carr (10)', '4699200': 'White Lilith', '4699300': 'Manuel Gallardo', '4700000': 'T.T.P (Top Town Playaz)', '4700700': 'Throat Cancer', '4701000': 'Stabes', '4701100': 'Beka-Militär-Orchester', '4701500': 'MUM-B1', '4701700': 'The Tos-Tones', '4701900': 'Dorle Becker', '4702000': 'Dan Kristofferson', '4702400': 'Jim and Betty Smith and Orchestra', '4702900': 'Emma Mai', '4703200': 'Alhaji (Chief) Sikiru Ayinde Barrister And His Fuji Londoners', '4703600': 'Elisa Mini', '4704400': 'Waves (18)', '4704900': 'Antelope Valley High School Choral Ensembles', '4705100': 'The Andean Wolf', '4705400': 'Big Jesus Thrashcan', '4706100': 'Friction Band', '4706500': 'Kneepad Nikki', '4706700': 'Mark Hazel', '4707100': \"Fred Lienau's Band\", '4707500': 'The Immaculate Rivombo', '4707700': 'Krysthla', '4708300': 'Problem Pony', '4708800': 'Jean-Claude Marion', '4709100': 'B-Squad (4)', '4709200': 'Chantel Jeffries', '4709300': 'Mission Of Mercy', '4709800': 'Walle (8)', '4710300': 'Henry Greenwald', '4710500': 'Further Dimension', '4710900': 'Joe Hardin Brown', '4711700': \"Albert Naaleha's Hula Troupe\", '4712000': 'Anetha', '4712100': 'Intolerance (5)', '4712500': 'Dark Element (2)', '4712800': 'Grizzly Derringer', '4713100': 'Kollaps (6)', '4713700': 'Michel Gingras', '4713900': 'The Rocksteady Beat Orchestra', '4714000': 'Max Greger Und Seine Münchner Musikanten', '4714100': 'Mississippi Live & The Dirty Dirty', '4714400': 'The Scrabes', '4714800': 'Cannon Bros.', '4715200': 'Winslow & Sandlin', '4715300': 'Kendoggy', '4715900': '尾崎雄貴', '4716100': 'Tim Steinel', '4716800': 'Unbibium', '4718100': 'Dragica Tanasković', '4718200': 'Anemia (3)', '4718800': 'Posers', '4718900': 'Max Stopponi', '4719600': 'Chariti Anastasiadou', '4720100': 'Coldstone', '4720400': 'VBS (3)', '4721100': 'عصام العبد الله', '4721400': 'Martin Lejeune', '4721500': 'Bent Haller', '4721600': 'Miriam Mellerin', '4721900': 'Wille B', '4722500': 'Abu Sayah', '4723200': 'Steve Pryor (2)', '4723300': 'Raul Nony Y Sus Tam-Tam', '4723500': 'Mark Ingraham', '4723700': 'Abdul Shakir', '4723800': 'Anthony Stelmaszack', '4723900': 'Leslie Garcia', '4724000': '◻', '4724400': 'Halodrio', '4725600': 'Anatole (2)', '4725700': 'aequitaS (2)', '4725900': 'Vital Breath', '4726000': 'Art Ensemble Basel', '4726100': 'Gianni Spadacini', '4726300': 'Brute Force And His Drum', '4726500': 'P.J. Allman', '4727600': 'TailaYang', '4727800': 'Kjell Sjölund', '4728300': 'Methadone Kitty And The Daily Dose', '4728500': 'Ziouche Nacer', '4728800': 'Shadina (2)', '4728900': 'Roxie 77', '4729000': 'Stanley Lombardo', '4729100': 'Mournful Winter', '4730200': 'Valeria Crociata', '4730500': 'Skin & Bone (2)', '4731200': 'Intoxicate (6)', '4731700': 'Card (3)', '4732100': 'Herr Vom Driesch', '4732200': 'Le Quatro De Langa-Langa', '4733000': 'Pablo Donaldo', '4733100': 'Evergreen Symphony', '4734300': 'Maddalena Casualna', '4735100': 'Zeus (38)', '4735200': 'The Fabulous Idols', '4735600': 'Nosferatu (21)', '4735700': 'Martha Masters', '4735800': 'Marlore Anwandter', '4735900': 'Dan Paller', '4736100': 'Volltreffer', '4736400': 'Damier Soul', '4738000': 'Olivia Moore', '4738300': 'Лариса Политиди', '4738700': 'Josh Dials', '4739300': 'Bo Siggaard', '4740200': 'Sandzo', '4740500': 'Compression (9)', '4740900': 'Ground Zero (30)', '4741000': 'Gompy Dompy Band', '4741100': 'Laura Shayne Newbury', '4741400': 'Ras Abbya', '4741800': 'Kyle (54)', '4742300': 'DNS Ekipa', '4742700': 'Emma Benedict', '4742900': 'Ulf Andersson Band', '4743300': 'Alina (21)', '4743400': 'Kulkuripojat', '4744400': 'Neal Burris And His Melody Ramblers', '4744800': 'The Gaze', '4745400': 'Turf Durt', '4745600': 'Cops Ltd.', '4745800': 'Biggpatch', '4746300': 'The Brockville Police Chorus', '4747500': 'Kevin Wallace (5)', '4747800': 'Fair & Square', '4748600': 'Layout (2)', '4748900': 'Braća Barišić', '4749200': '8分のバニラ', '4749300': \"Pyramid's 7\", '4749700': 'International Dub System', '4749800': \"The Future's Dust\", '4750000': 'Jimmy Walker (13)', '4750100': 'Тофик Бакиханов', '4750200': 'ทัศนัย ชอุ่มงาม', '4750500': 'Phantafox', '4750800': 'Herman The Hermit', '4751300': 'Signs Of The Zodiac (2)', '4752500': 'Crayon Culture', '4752700': 'Zyzaxom', '4752800': 'De Sokkenritsers', '4753200': 'Hà Phương', '4753300': 'Corporate Thuggs', '4753400': 'Irina (17)', '4753900': 'Ama Serwa', '4754000': 'Mary Blevins', '4754100': 'Aucune', '4754300': 'Agnes Maes', '4754400': 'Tazar (2)', '4754800': 'Loco (55)', '4754900': 'Walk In Circles', '4755000': 'Orlando Kirkland', '4755500': 'Balinsky', '4755800': 'Playing Space', '4756200': 'Monogenic', '4756600': 'Otto Peter (2)', '4757000': 'Miriam Akkermann', '4757200': 'ลูกข่าง', '4757600': 'Boy & Gurl', '4757700': 'Konchu', '4757800': 'A Call Parked On 103', '4758300': 'Одегов', '4758800': 'Felipe Van Der Mer', '4759000': 'Magician (3)', '4759200': 'Darling Norman', '4759400': 'King El', '4759600': 'Ensemble Vocal Et Instrumental Jean Turellier', '4760400': 'Patrick Russell (4)', '4760800': '2slices', '4760900': \"Ryth'miss\", '4761100': 'Tony Pastrana', '4761200': 'Mort Ames', '4761300': 'Case Closed (4)', '4761500': 'Christoffer Lindberg', '4762100': 'Academy Of Intolerance', '4762300': 'Proof 151', '4762600': 'Cliff Duren', '4762700': 'Brittnay Greene', '4763300': 'Psychic Dose', '4764000': 'El Monstrino', '4764200': 'Davy Chuubo', '4764500': 'John Gunther Trio', '4764800': 'Pasquale Perziano', '4764900': 'Pleasure Toys', '4765100': 'Catrice Brumfield', '4765600': 'Lasciate Ogni Speranza', '4766100': 'The Imperial Band', '4766200': \"Pentina't Lula\", '4766300': 'Bobby Denver (2)', '4766500': 'Throat Fungus', '4766700': 'Cauldron Borne', '4767300': 'UDO Artists Inc.', '4768100': 'Andrea Tabanelli', '4768800': \"Pin's Swingers\", '4769000': 'Silent People', '4769600': 'Blow (14)', '4770800': 'Frontal (12)', '4770900': 'Яков Слободкин', '4771400': 'Dell & The Sensations', '4771500': 'Enrique Vizcaino Y Su Orquesta', '4771700': 'Gabriela K.', '4772100': 'The Bayou Bandits', '4772700': 'Soleil Flexible', '4773500': 'Element (44)', '4773900': 'JNDANZ', '4774300': 'Suckle (2)', '4774600': 'Jayne Trimble', '4774900': 'Folamour (2)', '4775100': 'Beatríz Luengo', '4775300': 'The Gallery (6)', '4775500': 'Riuozami', '4775800': 'The Frierson Singers', '4776000': 'Catweazle (4)', '4776100': 'Mia Van Echo', '4776200': 'Max Foley', '4776400': 'Jerry Kale and The Spinners', '4777200': 'The Bucksaw Bucket Band', '4777900': 'Anvilhead', '4778200': 'Ensemble Sangineto', '4778500': 'Toshiyuki Sasaki', '4778700': 'Phil Dowling', '4778900': 'Robert Moeling', '4779100': 'My Regrets', '4779600': 'Keith Baxter (6)', '4779800': 'Plush Throw', '4779900': 'Hans Jensen (4)', '4780200': 'Joakim With Steen', '4780600': 'Arg.o', '4780800': \"Dream's Collector\", '4781100': 'RG-6', '4781400': 'Polybius (3)', '4781700': 'Seraphique', '4782800': 'Frommer Baby', '4783000': 'Trinitaria Del Valle', '4783100': 'Steinhardt Géza', '4783600': 'Iris Manta', '4783800': 'Sarah (124)', '4783900': 'Glass Frog', '4784000': 'Cara-Jane Murphy', '4784100': 'Voodoo Tales', '4784300': 'Repliee', '4785100': 'The Templeton Singers Of Longview, Texas', '4786000': 'Hank And Slim', '4786400': 'Gerhard Friedmann', '4786500': 'Nethermost Majesty', '4786700': 'Ars Et Musica', '4786800': 'The Happy-Go-Lucky Boys', '4786900': 'Toyo Senx', '4787600': 'Love Her Killer', '4788300': 'Mammutti', '4789000': 'Gus Gossert', '4789300': 'Sydette', '4789800': \"Mag'gty Butter Band\", '4790000': 'Jaaa!', '4790300': 'Shining Pyramid', '4790900': 'Orchestre Philharmonique de Granz', '4791300': 'Lloyd Knight', '4791400': 'Effort For Christ Singers', '4791600': 'Shola Akitoye', '4791700': 'Adam Nicholls', '4792400': 'Marly Kiestra', '4792600': 'Pier Paolo Cozzolino', '4793000': 'Countryside Band', '4793100': 'Becs', '4794200': 'Edwin Gerschefski', '4794700': 'Ara Crack', '4795000': 'Walter Schumacher (2)', '4795600': 'Laurent Holdrinet', '4796100': 'Jan Reijnders', '4796500': 'F. M. Grass Junior High School', '4797000': 'Roger Henriksen', '4797400': 'Э. Чойдог', '4797500': 'филип ђуровић', '4797600': 'New Connection (2)', '4797800': 'Ripp Flamez', '4797900': 'Aunt Dracula', '4798000': 'Anambra Brothers', '4798400': 'Spanish Republican Army Chorus And Orchestra', '4798900': 'Κανών', '4799100': 'The Dan Air Scottish Pipe Band', '4799600': 'Wilson Silgee', '4799800': 'Maria Nosowska', '4800200': 'The Devil (6)', '4800700': 'Sayyid M.M. Husayn', '4801200': 'Tahiti Person', '4801600': 'PerceiverReceiver', '4802800': 'George Keller Band', '4803000': '72% Morrissey', '4803100': 'Patrick Doval', '4804200': 'Mike Casey (5)', '4804600': 'The Coincidence', '4804700': 'Markus S. Bach', '4804800': 'T. (Knight Rider) Lewis', '4806000': 'SDP (4)', '4806300': 'The Accident That Led Me To The World', '4806400': 'Christophe Aubron', '4806700': 'BABE (11)', '4806900': 'Phablo', '4807400': 'Cissokho System', '4809200': 'Mista Blacka', '4809300': 'Radion Sinfoniakuoro', '4809400': 'Compact Club', '4809500': 'Tony Henry And The Breakaways', '4809600': 'KLF Studio', '4809700': 'Baba (24)', '4811000': 'Garret Hubner', '4811100': 'Unborn (8)', '4811200': 'Jerry Hietala', '4811300': 'Adam Han-Gorski', '4811400': \"'Lectric Hec\", '4811900': 'Gunnar Skoglund (2)', '4812000': 'SandiiBunbun', '4812200': 'Inside (27)', '4812300': 'Eugenio Ripepi', '4813000': 'Reece Stestak', '4813400': 'Digger O-Dell And The Friendly Undertakers', '4813600': 'The Party Nuggets', '4813700': \"Vivian's Hamster\", '4813800': 'Fajka István', '4814300': 'The Brassettes', '4814500': 'Strings Of The City Of Prague Philharmonic Orchestra', '4814700': 'Aaron Mayer', '4814800': 'Lone Wolf Club', '4815100': 'The Rosettes (5)', '4815200': 'The Sounds (15)', '4815700': 'I Decline (2)', '4816500': 'Motsfeld', '4816700': 'Das Jodler-Duo Max + Max', '4816900': 'Moški Zbor Zveze Slepih Maribor', '4817500': 'Lower Caste Struggle', '4817800': 'Noel John (2)', '4818600': 'هيام', '4819200': 'Eric Sarrazin', '4819300': 'Forsøksgym', '4820100': 'Portrait (11)', '4820200': 'Dynamite Walls', '4820300': 'eーra', '4820600': '(3) محمد علي', '4820700': 'Ballet Folklórico Nacional De Chile', '4821100': 'Vokalinis Duetas \"Nostalgija\"', '4821900': 'Garry Brandy', '4822000': 'Ben Baldwin And The Big Note', '4822700': 'Uncle Bob Hardy', '4823700': 'Shaolin Shuffle', '4824700': 'Laura Lee Oldham', '4824800': 'Heisenberg Syndrome', '4825100': 'Andrew Sergio', '4825200': 'Seinäjoen Tyttökuoro', '4825300': 'Mads Kjersgaard', '4825400': 'Sarah Bernstein Quartet', '4825600': 'Kaos (64)', '4826000': 'Salò Salon', '4826500': 'VHS (4)', '4826600': 'Willy Corty', '4826800': 'Nancy Brown (5)', '4827000': 'Notre Dame Des Champs Sainte Marthe', '4827700': 'BAILE (2)', '4828000': 'Sigbjørn Ottar Nydal', '4828500': 'The Sparkles (6)', '4829300': 'Emily Luther', '4829400': 'Άννα Πλατανιά', '4829500': 'Martin & Brown', '4829600': 'Θοδωρής Γεωργιάδης', '4829800': 'Kråkvind', '4830000': 'Alesia (5)', '4830700': 'Rap Brains', '4831000': 'The $75,000 Studio Plaque', '4831100': 'Bad Memories (2)', '4831400': 'Xuptour', '4831800': 'Chananjah', '4832100': 'Arsura', '4833100': 'Malagasy Trio', '4833500': 'Julia White (5)', '4833700': 'Fun Service', '4834400': 'Landless', '4834600': 'Sweet September', '4836100': 'Fatou Gozlan', '4836200': 'Nora Watson', '4836500': 'Lindy Ellen', '4836700': 'Shagging Ponies', '4837000': 'Do D.A.T.', '4837400': 'Bob Goldstone', '4837600': \"The Bishop's Daredevil Stunt Club\", '4838000': 'Jimmy Jay (7)', '4838500': '中川ゆき', '4839100': 'Rollmops (4)', '4839500': 'Davidian (4)', '4839600': 'Don Kerr (3)', '4839800': 'Mahmoud Jums', '4839900': 'Jorge Gonzalez Y Su Arpa Paraguaya', '4840100': 'Tree People (2)', '4840400': 'The Rage (6)', '4841100': 'Samurai (25)', '4841300': 'Lucid Sound Driver', '4841400': 'THNK', '4841600': 'A.i.d.s. (5)', '4841700': 'Berthe Coppi', '4842200': 'Orchester Guy Carondel', '4842600': 'Sure (5)', '4842900': 'Sonja Karadžić', '4843000': 'The 4 U & Him', '4844000': 'Даниел Илиев', '4844200': 'Nick Arse & The Arsenicks', '4844700': 'The Kamehameha Schools Choruses', '4845000': 'Chor Der Deutschen Oper Am Rhein', '4845300': 'Brezneff', '4845800': 'Johnnie Que', '4847200': 'The Mardi Gras Strings', '4847500': 'Dogfight Sox', '4847600': \"The Rockin' Barracudas\", '4847800': 'Animal Print', '4848100': 'Chor Und Orchester Roberto Delgado', '4848400': 'The Love Buzzards', '4848500': 'Сабина Тянкова', '4848600': 'Niam (2)', '4848700': 'Bytunets Antikvariske Jazzensemble', '4849800': 'Psychollywood', '4850300': 'Doris Ackermann And The Gamblers', '4850900': 'P.Reid', '4851000': \"Marie O'Shea\", '4851200': 'C4 Trio', '4851300': 'Simon Fox (6)', '4851400': 'Carry Illinois', '4851700': 'Tyran Donaldson', '4853200': 'Jimmy Reesor', '4853600': 'Bobby Klint', '4853900': 'Jewelry Rat', '4854000': 'Bigg E', '4854300': 'Brother Rock', '4854400': 'Funkasaurus (2)', '4854500': 'Vanghelis Petsalis', '4855500': 'Jahstice', '4856200': 'Helga Plankensteiner Quintet', '4856300': 'Lensko', '4856500': 'Apollo (50)', '4857000': 'Kirrawee District Boy Scouts', '4857100': 'Sheri Hogan', '4857400': \"Sorties d'Artistes\", '4857500': 'Gunther Hoffmann', '4858000': 'Emily Isherwood', '4858200': 'The Apple Hill Chamber Players', '4858400': 'Phlex Ruger', '4858700': 'Totengift', '4859000': 'Horst Jankowski - Rolf Kühn Quintett', '4859800': 'طالب محمد حسَن', '4859900': 'Toni \"Dj. Triumph\"', '4860000': 'Mackenzie Shivers', '4860200': 'L Equipe De La Flamme', '4860700': 'Los Guaripeños', '4860900': 'Orquesta Latino Americana', '4862200': 'The Ambassadors (20)', '4862400': 'Thousand Oaks', '4862600': 'Hyped Hendricks', '4862800': 'Paul McKenna (5)', '4862900': 'Εύα, Η Γυναίκα Ποδοσφαιρίστρια', '4863000': 'Swankout', '4863200': \"Die Hinkey Dinkey's\", '4863400': 'The Rapers (3)', '4864600': '420 Family', '4864800': 'Cast Of Acorn Antiques The Musical!', '4865200': \"St. Valentine's Day\", '4866400': 'Headless (9)', '4867600': 'Dy (10)', '4868000': 'Ika Crossfield', '4868100': 'Orquesta Colonade de Viena', '4868200': 'Sears Glee Club', '4868600': 'Burial Chamber', '4868700': 'Hot Rod Hullabaloo', '4869200': '4-Ten (2)', '4869400': 'Shamoozey', '4870500': 'Louis Auguste De Vimarcé', '4870600': 'The Warren G. Hardings', '4870800': 'Older (2)', '4870900': 'Foolish Green', '4871400': 'Duo Nobel', '4871900': 'JLN', '4872900': 'Pierre Schroeder', '4873000': 'Usak Diek', '4873100': 'Neck (8)', '4873400': 'E.$ Ive', '4873500': 'Alma Mater (5)', '4873800': 'Horrorshow (4)', '4873900': 'The Don (13)', '4874400': \"L'Allegra Brigata\", '4874600': 'Shirley Beans', '4875200': 'The Gang (13)', '4876300': 'Corduroy Industries', '4876400': 'Zigge Zackarin', '4876500': 'معوض العربي', '4876800': 'Richard Barrett (8)', '4876900': 'Daniel Tonozzi', '4877700': 'Killer Kid Mozart', '4879300': 'AAS (5)', '4880200': 'Imperilment', '4880500': 'Djinesto', '4881500': 'Trompette-Major Jean BABAULT', '4882100': 'The New Rock Superheroes', '4882700': 'Варлам Симонишвили', '4882900': 'Zifra', '4883300': 'Rebecka Gordon', '4883500': 'Rest You Sleeping Giant', '4883700': 'Ottar Akres Ensemble', '4884100': 'Christopher Rockingham-Gill', '4884300': 'เสาวลักษณ์ ลีละบุตร', '4884600': 'Pepe (45)', '4884800': 'محمد كرم', '4885500': 'Christian Møldrup', '4885800': 'Afshin Rasti', '4885900': 'Mason Collective', '4886000': 'Harold Danko Quartet', '4886500': 'Vic Stevens (3)', '4886800': 'Paul Chandler (2)', '4887000': 'Greenwash', '4887300': 'Clarincanto', '4887500': 'Crub', '4887800': 'Hijrah (3)', '4887900': 'Marco Martiri', '4888400': 'Yuji Nagahama', '4888800': 'رسول قربانی', '4889200': 'Kathryn Ish', '4889400': 'Folklore-Gruppe Langen', '4889500': 'Kiama', '4890200': 'Tessa Martin', '4890500': 'Reel Mothas', '4890800': 'Jamie Paul (2)', '4890900': 'Despise The Light', '4891100': 'Choeur Des Bien-Heureux', '4891300': 'Bagronk', '4891400': '東正合唱團', '4891500': 'مولاي الطاهر الأصبهاني', '4891700': 'Battery!', '4891900': 'Esben Amdisen', '4892100': 'Nekalan Mieskuoro', '4892300': 'The Castilian Troubadours', '4892700': 'Chester Gill', '4893400': 'Bent Not Broken', '4893500': 'Studentenchor Der Hochschule Für Musik Berlin', '4893600': 'Alif Posse', '4894700': 'Cosme (4)', '4895100': 'Danielle Draconis', '4895200': 'Worship Of Keres', '4895300': 'Rolly Roland (2)', '4895500': 'MGV St. Stefan', '4895900': 'Benji Demps', '4896000': 'Hillbilly Soul', '4896700': 'Glenton Davis', '4897000': 'Bity Booker', '4897300': 'Ebola/M.V.D', '4897600': \"Keep Swingin' Five\", '4898200': 'Bernd Reiter Quartet', '4898500': 'Gaby Ene', '4898700': 'Derek M. Garside', '4899000': 'Southland Hummingbirds', '4899500': 'The Rare Breed (3)', '4899900': 'La Pera (2)', '4900400': 'Kavala SS', '4900600': 'Inga Di Mar', '4901000': 'バルツ', '4901300': 'Bambi (38)', '4901700': 'Sean McLean (3)', '4901900': 'Squirrel Grab', '4902400': 'Bikash Roy', '4902500': 'Thierry Huillet', '4902600': 'Strangelife', '4902900': 'Lefa Thapelo Masia', '4903000': 'Wally (40)', '4903100': 'Alice Birdsong', '4903400': 'Mr. Ozwald', '4903500': 'Phobia (40)', '4903600': 'Arnikas', '4904100': 'Forest Park High School', '4904200': 'Plunk Tone', '4904600': \"Milton Landry And The Zydeco's\", '4904700': 'زكي أنور نسيبة', '4904900': 'Encephalitis', '4905800': 'Furious Dance Project', '4907200': 'Алмас Кишкенбаев', '4908000': 'The Grox', '4908200': 'Jack Heidenreich', '4908500': 'Esteri', '4908900': 'David McKee Wright', '4909400': \"Mineru'\", '4909600': 'Carroll A. Baltimore', '4909800': 'Cecilia Herrera', '4910200': 'Freneticos Del Ritmo', '4911400': 'Angelo Patino', '4911600': 'Hayser', '4911700': 'Chris Belleau & The Zydeco Hounds', '4912000': 'Steam Pipers', '4912500': 'Benoît David (2)', '4913000': 'Forever Endeavor', '4913400': 'Det Är Därför Vi Bygger Städer', '4913500': 'Dick Van Den Broek', '4913900': 'TSO (3)', '4914400': 'JinJoo Lee', '4914900': 'Rafael Quinn con Los Cinco Lobos', '4915400': 'Ditchweed (2)', '4915600': 'Catalanas', '4916000': 'Centaur (6)', '4916300': 'Space Medusa', '4916400': 'AnTgry', '4916500': 'Gonadectomy', '4916600': 'Ann Cape', '4916800': 'Marianne Monda', '4918000': 'Join The Avalanche', '4918200': 'Karine Massin', '4918400': 'Jimmy Green (11)', '4918600': 'Ress 93', '4918900': 'dj schoolgirl', '4919600': 'Haldurs Café', '4919700': 'Cliff Hunger', '4920000': 'Roberta Donati', '4920100': 'Batamba', '4920200': '濃否変態ゲリラクラブ', '4921100': 'Tex Regan', '4921200': 'Monzen', '4922000': 'Mr Morgz', '4922100': 'Sons Of London', '4922300': 'O.E.A.', '4922700': 'Brent Tyler', '4922800': 'Kaj Andersen (2)', '4922900': 'Trevor Lyons', '4923500': 'Oscar Nadeau', '4923600': 'Piittipoksaajat', '4924000': 'Astatke Mangasha', '4924100': 'Ellipsism', '4924300': 'Margit Bø', '4924500': 'Ethel Hedman Swanson', '4924900': 'Faceplant (5)', '4925100': 'DeWitt Brown', '4925500': 'Boris Van Severen', '4925800': 'Miklós Albert', '4926000': 'Lucyfer Sam', '4926500': 'Sputnic (4)', '4926600': 'Jerry Hopper', '4926700': 'Richard Damage', '4927000': 'Cappy Bianco', '4927300': 'Ms Sunrize', '4927400': 'Ayaman Japan', '4927500': 'Citizen K (4)', '4928600': 'Jasper James (4)', '4928700': 'Titus Crijnen', '4929300': 'at1385', '4929700': 'Diabolus Inflame', '4929900': 'The Bob Swanson Orchestra & Chorus', '4930300': 'Vain Victor', '4930400': 'DJ Alina', '4930600': 'Cartoons (10)', '4930700': 'Hopman Will en de Welpen', '4930900': 'Bella Figura', '4931100': 'Lorenzo Favero', '4931400': 'Keren DeBerg', '4931900': 'Seda (6)', '4933000': 'Davis Bingham', '4933200': 'Chris Caddell', '4933400': 'Biesse.030', '4933500': 'Synthalienz', '4933600': \"Reza's Rattle Snake\", '4933700': 'Julia Driessen', '4934300': 'Tyanna Jones', '4934800': 'Kasatka (3)', '4935400': 'Psychic Boots', '4935800': 'Cordoba Allstars', '4936500': 'Nina Varga', '4936600': 'Acrelid', '4936800': 'Steam Horse', '4937200': '13-е Созвездие', '4937300': 'Naan Violence', '4938200': 'Andrzej Olejnik', '4938500': 'Tá Lam 11', '4938600': 'Ex-Cèntric', '4938800': 'Ragger & The Amazing Nailhead Experience', '4939000': 'Eight Club', '4939700': 'Signos Ensemble', '4939800': 'Daniel Gaisford', '4939900': 'Guittard', '4940300': 'Zebra Crossing (3)', '4940500': 'Vasily Alexeyevich Pashkevich', '4940700': 'The Host (3)', '4940800': 'Stefan Heckel Group', '4941200': 'Glenn Taylor (8)', '4941400': 'Paul Davies (18)', '4941800': 'The Paul-Champ Three', '4942000': 'Deadbeat Hero', '4942200': 'Eskimo Bootleg Chords', '4943700': \"Los Kady's\", '4944100': 'Славка Рачева', '4944300': 'The Sage Riders', '4944500': 'DJ Sfera', '4944600': 'Mimi Montez', '4944800': 'Slam Annie', '4944900': 'Grupo de Cantares Terras de Guidintesta', '4945400': \"Los String's Brothers\", '4945500': 'Holy Lump', '4945700': 'Hey, Brother!', '4946100': 'Tropical Nightmare', '4946700': 'Il Pilota Del Giro Della Morte', '4947100': 'Decatur Jones', '4947200': 'Stereo Beatz vs Myniemo', '4947400': 'Ναπολέων Δάμος', '4947800': 'Transport Terrestre !', '4948100': 'Joe Carson (2)', '4948200': 'Professor I.K. Belemu and his Owigiri Exponents', '4949200': 'Kidnapper (2)', '4949400': 'Kazumi Yamazaki', '4949800': 'New Medicine (2)', '4950100': 'Aleide', '4950200': 'Ana Delia Gonzalez', '4950600': 'Tiger Shift', '4950800': 'Hsia Yu', '4951000': 'Henderson (9)', '4951300': 'Luc Le Duc', '4951400': 'Neatris Mitchell', '4952100': 'AWAQS', '4952200': 'Brett Worthey', '4952600': 'Toguna', '4952900': 'Claud Santo', '4953300': 'Mari Merche', '4953400': 'Yonekuni Kurusu', '4953700': 'Antichrist (14)', '4953900': 'Sister ov Död', '4954800': 'Furr (3)', '4954900': 'Helmut Zacharias Und Seine Solisten', '4955300': 'Jenny Leigh (2)', '4955400': 'Blind Dog (3)', '4955700': 'Kënnlisch', '4956200': 'Matt Sweeting (2)', '4956900': 'C.A.P. (5)', '4957000': 'Decheman And Gardener', '4957100': 'El Potro Álvarez', '4957300': 'Silvia Lozano', '4957400': 'Orchestre Bella Negritta', '4958400': 'M!NGA', '4958500': 'Sarah Abrams', '4959200': 'Akroterion', '4959900': 'La Fanfare Bretonne', '4960900': 'המוסד', '4961100': 'Carie (2)', '4961600': 'Stereo Space', '4961700': 'Г. Гюрджян', '4962100': 'Dominic Kavanagh', '4962200': 'Sepp Dahinden', '4962400': 'Germain Latour', '4962700': 'Akyra (5)', '4962800': 'Χριστίνα Ράλλη', '4962900': 'Cold Streets', '4963400': 'Hard Boys (2)', '4963500': 'Unisphere (2)', '4963900': 'Mariam Pledge', '4964600': 'H.L. Nelly', '4964700': 'The Pages (6)', '4965000': 'Lynn Price', '4965800': 'DJ Chomskii', '4966000': '«Tattarprinsen»', '4966100': 'The Fallthrough', '4967100': 'Calvario (4)', '4967800': 'Alison Alfredson', '4967900': 'Bang Bang Club', '4968800': 'Darkside (29)', '4969200': 'Filip Flusser', '4969300': 'Rasmus Morrison', '4969600': 'Convexxx', '4970600': 'The Music City Five Plus Ten', '4970700': 'The Labrynth (2)', '4971200': 'Co Rowold', '4971600': \"The Dandy's\", '4972100': 'Wynonna Smith', '4972200': 'Luc Frederic D van Melckebeke', '4972300': 'Casket Robbery', '4972400': 'Manos (11)', '4972500': 'Kim Dani', '4972600': 'JUAN PEREZ und sein argentinisches Tanzorchestra', '4973200': 'Mathi & Mathi', '4973300': 'Verl Hide', '4973600': 'Harlem Avenue', '4974000': 'Johnny West (5)', '4974700': 'Alex Layne (3)', '4974900': 'Sarah (126)', '4975500': 'Steve Linkenauger', '4975600': 'Keith Dean (2)', '4975700': 'The Regency Strings', '4975800': 'We Want Peace', '4976100': 'Valesca Gressmann', '4976200': 'Don David And Dean', '4976300': 'The Mega Tones', '4976400': 'Ruben Bean', '4976600': 'The Coalition (11)', '4977000': 'SMOKE ON THE WATER', '4977700': 'J. Argot', '4978900': 'Fybril', '4980100': 'Marjorie Pemberton', '4980400': 'Tropical Agitation', '4981300': 'Cornelia Meigs', '4981800': 'Virginia Schneider', '4982000': 'Minarel', '4982500': 'Victoria (58)', '4983100': 'Bigga Headz', '4983200': 'Steffi J. Fox', '4983400': 'Maria Cernovodeanu', '4983700': 'White Coke', '4984000': 'Hebra', '4984100': 'Lucien Comtois', '4984300': 'Throne ov Shiva', '4984500': 'Ram (45)', '4984600': 'Hominid (5)', '4984800': 'GoGo Friends', '4984900': 'Jenepher Delvin', '4985000': 'Further Charges', '4986000': 'Beton (6)', '4986300': 'Csiba \"Ríkó\" Richárd', '4986700': 'Inês Brasil', '4987400': 'Ηλίας Αναστασίου', '4988700': 'Coagulated Innards Collapsing Mold Infected Torsos In A Grotto Below The Sewer Feeding Through Umbilical Cords Extracted From Stillborn Fucks Infected Via Sexual Pathogen', '4989300': 'Kayla Jacobs', '4989400': 'Ami Robinger', '4989800': 'Make Way For Man', '4989900': 'Minnie Alford', '4990000': 'Chicos de la Fiesta', '4990100': 'Elton Brindley', '4990200': 'Revenge By Dawn', '4990300': 'Ödeema (2)', '4991200': 'Mbeck', '4991300': 'Rubbermade', '4991400': 'Les Joyeux Grelots', '4991600': 'Velodrama', '4992100': 'Głova', '4992600': 'Wet Nurses Of Sodom', '4992700': 'Keith Butcher', '4993700': 'Alex Veysey', '4993800': 'V. Kristoff', '4994000': 'Nyne (3)', '4995000': 'Ah God', '4995700': \"Jon O'Neill\", '4997100': 'The Harbor Islanders', '4997600': 'Uniaqtut', '4998800': 'Shannon Yates', '4999300': 'Зад Аголот', '4999500': 'Max Webster (2)', '4999700': 'Mbalafunk', '4999800': 'DJ Pauly (6)', '5000500': 'Craig Panosh', '5000700': 'Hofmusikanten', '5000900': 'Dennis Dufour', '5001300': 'Tyyne Raunio', '5001700': 'Van Ray (2)', '5001900': 'Chris McLees', '5002000': 'สกาวเดือน', '5002300': 'Cool Dog', '5003200': 'Joel DeMarzo', '5003500': 'Sammi Skolmoski', '5003600': 'Rise of Nothingness', '5004100': 'Fireleaf', '5004500': 'Famous By Association', '5004600': 'By The Sins Fell Angels', '5005000': 'Rene Feenstra', '5005200': 'Nejat Tekdal', '5005300': 'Soulless (10)', '5005900': 'Harold Wilde', '5006000': 'Bocaje', '5006300': 'Nick Jeong', '5006600': 'The Jagger Botchway Group', '5006700': 'Recou Futur', '5007000': 'Gianfranco Galvagni', '5007300': 'Don Juan Orchestra', '5007600': 'De Planners', '5007800': 'Operation Earth', '5008100': 'Annegret Schaub', '5009200': 'IOZE', '5009800': 'Dana Portante', '5009900': 'Overall (3)', '5010300': 'Tactile Disorder', '5010700': 'Diego Lorenzini', '5010800': 'Hans Meier (3)', '5011300': 'Attica (9)', '5012100': 'Joseph Moorhouse', '5012900': 'San Francisco (4)', '5013700': 'Mikey Likes It', '5013800': 'Pinholes', '5014000': 'LoHi Stereo', '5014100': 'Soundakt', '5014300': 'The Hellzippies', '5014400': 'Francois Gagner', '5014700': 'Panzerwerfer', '5014800': 'The Goa Express', '5014900': 'Altamont Orchestra', '5015100': 'Nit “Boot” Arnie', '5015300': 'Lynn Dee And The Pagans', '5015900': 'Black Solaris Management', '5016100': 'Nurşah Acun', '5016600': 'Melanie Soden', '5016800': 'Midshifter', '5017500': 'Button Pushing Monkeys', '5019000': 'Done 4', '5019800': 'Return:II', '5020200': 'Craig \"Tripwire\" Hawkins', '5020700': 'Muscovi Ed I Suoi Solisti', '5021100': 'Doc Armstrong', '5021300': 'Cesar M', '5021400': 'Huggy (9)', '5022100': 'Ultra Dance (2)', '5022300': 'Gagar Hoffmann', '5022600': 'Markus Maria Profitlich', '5022800': \"The Slangin' Boyz\", '5022900': 'The Beat Brothers (5)', '5023100': 'Meka Dezire', '5023600': 'Orchester Peter Asam', '5023700': 'Stephen DeRuby', '5023800': 'Yung Acid', '5024300': 'Blue Blood (3)', '5024500': 'Dino Vale', '5024600': 'Real In Da Field', '5024800': 'Michael Madsen (3)', '5025200': 'Mortichnia', '5025600': 'B.O.G. (2)', '5026100': 'The Guitar Men (2)', '5026600': \"Life O'Reilly\", '5026900': 'Jacky Lebon', '5027000': 'Fleshout', '5028100': 'Another Dying Democracy', '5028200': 'Michel Tremblay (3)', '5028300': 'Gustave Fleuriot', '5028500': 'Alibaba (6)', '5028600': 'SVN SNS Records', '5029300': 'Last Rites (9)', '5029400': 'Babylon Orchestra', '5030100': 'Secret Arcade', '5030500': 'EMPIRE MUSIC STUDIO', '5030600': 'Ramiro Molina', '5030900': 'Peter Knudsen Trio', '5031100': 'Bryan Haraway', '5031300': 'Judi Johnson (3)', '5031400': 'Acclarion', '5031500': 'Dimette', '5031700': 'Chalaban', '5031800': 'The Caves Family', '5032500': 'B-Kidd', '5032700': 'PASE!', '5033200': 'Charlie Frómeta', '5033600': 'Jan Erik Berntsen', '5033900': 'American Lesions', '5034300': 'The Sixpounder', '5034500': 'F. Stévant', '5034900': 'Contact (30)', '5035000': 'Der Kinderchor Ilse Obrig', '5035600': 'Paul Roberts (28)', '5035700': 'Mississippi Mud (2)', '5036200': 'Stayknyfe', '5036500': 'Master Of Genocide', '5036700': '1,000 Pleasures', '5037700': 'Andromimetophilia', '5037800': 'MOJA (4)', '5038200': 'Jungran Kim Khwarg', '5038300': 'Sentinel (25)', '5038500': 'The Purple Effect', '5038600': 'Sleep Walkers', '5039100': 'Miff Mole and His Orchestra', '5039300': 'Γιώργος Καμπανέλλης', '5039600': 'Bella Tarpinian', '5039700': 'Tumult Exit', '5040300': 'Vysion', '5040900': 'V. Vázquez', '5041300': 'GyőrFree - Improvizatívzenei Műhely', '5041500': 'Matius Tiga Ayat Dua', '5041600': 'Yarmen', '5042200': 'Cactus Choir', '5042300': 'Levi & Suiss', '5043300': 'Musical Knights', '5043400': 'Jacky Maestracci', '5043700': 'Ralph Carpenter', '5044000': 'Larry Cooperman', '5044500': 'Zetta (4)', '5044800': 'Aruba Sunny Isle Steel Orchestra', '5045400': 'FOTOGRAMA', '5045900': 'Øyvind Weiseth', '5046400': 'Phantom 5 (2)', '5046600': 'Die With Your Boots On', '5046700': 'Herejes', '5047500': 'Izi Manje All Stars', '5048200': 'The 118 Key Verbeeck Concertorgan', '5048500': 'Kai Giritli', '5048700': 'Newton (15)', '5048900': 'Diane Sillan', '5049300': 'Rolf Luft, M.D.', '5049400': 'Lil Buddy Mclain', '5049500': \"Bruce'o'Shvillie\", '5049600': 'Howard Niblock', '5049900': 'Krakatau (6)', '5050000': 'Essence (61)', '5050500': 'Scar Process', '5050800': 'Dimitri Wouters', '5050900': 'Summer Rayne', '5051000': 'Saturno Grooves', '5051100': 'Banda \"Mochis\" de Porfirio Amarillas', '5051600': 'Vic Halley', '5051700': 'The Don Miller Big Band', '5051900': 'Väinö Nilssen', '5052000': 'Bob Hasibuan', '5052100': 'Feray Saran', '5052300': 'Black Temple Shrines', '5052600': 'Riccardo Donati', '5052700': 'Багира (2)', '5053100': 'Lipstick Image', '5053400': 'Trio Herman Gachica', '5053800': 'Les De Merle And His Band', '5054100': 'Karl Gouriou', '5054300': 'Djamal (4)', '5054800': 'Cliff Owens (2)', '5055100': 'Georg Tramer', '5055400': 'Zardoz Zodiakus', '5055500': 'Achou Assi Adrien', '5056200': 'Senaquerib (2)', '5056600': 'Jazz-banden', '5057400': 'Nothing Definite', '5057500': 'Ludrium', '5057800': 'Stella (71)', '5058100': 'Zeitgeber Ensemble', '5058900': 'The Calgary Protestant Male Choir', '5059000': 'Nihon University', '5059300': 'Kazual (2)', '5059400': 'Człowiek Syfon', '5059700': 'Coretheband', '5060200': '徐珮', '5060500': 'Ricochet (36)', '5060600': 'Ipanema Katz', '5060900': 'Johnny and the Headhunters', '5061200': 'Grady Philip Drugg', '5061800': 'Hilry Dixon', '5062300': 'Signore Serpente', '5062500': 'The John Santos Sextet', '5063400': 'BarryBandit', '5063800': \"Albanian Men's Group From Korçë\", '5063900': 'Roger Roucou', '5064300': 'The Anglia Gospel Male Chorale', '5065000': 'Labeled (2)', '5065200': 'The Paul Haslem Consort', '5065600': 'מוני מושונוב', '5065700': 'Oscar Lopez (2)', '5065900': 'Tee And Jay', '5066200': 'The River Boat Boys', '5067000': 'David Bolden', '5068000': 'True Black Dawn', '5068300': 'Charlie Koch', '5068600': 'Death & Taxes (4)', '5068700': 'A.V. Meiyappan', '5069200': 'Maxim (24)', '5069300': 'Living Still', '5069400': 'Percy Panda and the 7HT Boys', '5069800': 'Cheek To Cheek (5)', '5070100': 'Redhook Noodles', '5070200': 'Gnome Hole', '5070500': 'Ever-G', '5070600': 'Mustang Ranch', '5070700': 'The Fox Family', '5070900': 'Race Train Schizo', '5071300': 'The A!', '5072100': 'Blackout (46)', '5072200': 'Michael Pangilinan', '5072800': 'Jack Connelly', '5073300': '20/20 Design Group', '5073400': 'Chiho (3)', '5073700': 'Clare Sisters', '5073900': 'Shame (17)', '5074100': 'Barbara Dale', '5074700': 'Kiwi (34)', '5074900': 'Ireen Pudia', '5075100': 'Dejan Ratković Ermano', '5075500': 'Gary Graham (5)', '5075600': 'SSHH.', '5076200': 'Jan & Jill', '5076400': 'Jeremy Michaels', '5076500': 'Jinx (45)', '5077100': 'Alessio La Profunda Melodia', '5077700': 'Kolari', '5078000': \"Esa'muclf\", '5079100': 'Hella Kurty', '5080300': 'Ghost Witch', '5080500': 'Liila Jokelin', '5081000': 'Tecksound', '5081700': 'Maïcee', '5082100': 'Binder Brothers', '5082400': 'Raul Illescas', '5082600': 'elledanse', '5082700': 'Josenir Da Silva', '5083600': 'Chris Deido', '5083700': 'I Villanova', '5084000': 'Inner Blind Sun', '5084100': 'José Reina', '5085600': 'The And (3)', '5085700': 'Orchester Bedford King', '5085800': 'Animality', '5085900': 'Tron Major', '5086600': 'The Vacant Lot (5)', '5086700': 'Santa Marta Golden', '5086900': 'Stan Howie', '5087100': 'Dynamo Code', '5087200': 'Brock Travis', '5087300': 'Chivan', '5087600': 'Francisco Rodríguez Veloso', '5087900': 'Giovani Leonesse', '5088100': 'Martial Solal Sextette', '5088400': 'Dyspnoic Occult Orchestra', '5089200': 'Edgardo Reny', '5089300': 'Stolen Seeds', '5089500': 'Friends Of Gas', '5089600': 'DJ BO (3)', '5089900': '84PC', '5090200': 'Jarvo Bros. Combo', '5090400': 'Mufasa Ozora', '5091000': 'High Desert Fusion', '5091500': 'Mint (27)', '5092200': 'Algorythms (2)', '5092600': 'Jeremy Hansel', '5092700': 'Acheron (8)', '5093500': 'Jordy Huisman', '5093800': 'Nui Nantakarn', '5093900': 'Christine Lee (4)', '5094200': 'Flash Bastard (3)', '5094800': 'The Archives Department', '5094900': \"Rembrandt's\", '5095400': 'Alex Metro', '5095700': 'Hex (38)', '5095800': 'מורה חיילת', '5096300': 'Uli & Tiny', '5096600': 'The Rolf & Klaus Modern Jazz Group', '5097000': 'Jay Silva (2)', '5097500': 'Chacaltaya', '5097800': 'Medieval March', '5097900': 'The Wylie West Band', '5098000': 'José Leandro Torres Machuca', '5098200': 'Ameu Livre D.C.', '5098500': 'Estudiantina De Taxco', '5099000': 'Angie Orb', '5099100': 'Stuck In November', '5099700': 'Germiston Brown Dots', '5099900': 'Parash', '5100000': 'Jacqueline Auclair', '5100800': 'Michael Pfisterer (2)', '5101500': 'Lucien Savin', '5102000': 'The Thompkinaires', '5102200': 'Λευτ. Καλαϊδόπουλος', '5102400': 'Felix Ketzer', '5102800': 'Fever Nest', '5103000': 'Paule E. Neve', '5103100': 'Cheo Silva', '5103200': 'Sensory (4)', '5103900': 'Heidi Sundström', '5104000': 'Hellhound (11)', '5104500': 'חיה מילר', '5105000': 'Stratis Altıparmakis', '5105100': 'James Morris (16)', '5105300': 'Jeff Burns (5)', '5105400': 'Balaguèra', '5105500': 'Γιούλη Τάσσου', '5106200': 'Junior Dixieland Gang', '5106800': 'Lafquén', '5107300': \"Mel'n\", '5108100': 'Bür Hoff Bau', '5108400': 'Hannes Greminger', '5108600': 'Annuki', '5108800': 'Koralee', '5109300': 'Ellen Phan', '5109500': 'Downtown Julie Brown', '5109800': 'The Botols', '5109900': 'Iwan Setiawan', '5110000': 'Andreas Masuth', '5110200': 'No Life', '5110800': 'HatGuy', '5111600': 'Yea-Ming And The Rumours', '5112000': 'Konec Hry', '5113000': 'Fred Nerling', '5113100': 'Hekkla', '5113200': 'AntiPublic', '5113700': 'Philip Swanton', '5113800': 'Alphonse Juin Maréchal De France', '5114000': 'Bobby Bishop (4)', '5114500': 'Hans Wiljon', '5114600': 'Manuel Sobral Torres', '5114700': 'Randy Copus', '5114800': 'Bowelism', '5115400': 'Damantefarina', '5115500': 'Poseidon In Chains', '5116000': 'The Cleveland Golden Echos', '5116100': 'Adrian Peek', '5116300': 'Jess Ika', '5116400': 'Ангел Каралийчев', '5116800': 'Berat', '5117100': 'C.W. Alkire', '5117600': 'Bowfire', '5117700': 'D. Syncon', '5117800': 'AA Sound System', '5118400': 'DJ The Fla', '5118600': 'Servando Diaz', '5118700': 'Billy Murker', '5118900': 'The Electra Woods', '5119200': 'สมโภชน์ ดวงสมพงษ์', '5119600': 'Snake Oil (4)', '5120400': 'Appalachian Leprosy', '5120500': 'ODin Phoenix', '5121800': 'bagatela', '5121900': 'Cindy (42)', '5122000': 'STSI Denpasar', '5122400': 'Garry Anthony', '5122500': 'Benjamin Russell (2)', '5124200': 'Paul Lewis (22)', '5125700': 'Peel (8)', '5126000': 'Los Tejanos', '5126100': 'Deb Sardi', '5126200': 'Niño Del Mentidero', '5126300': 'Sonic Synergist', '5126500': 'Junk Rhythm', '5126800': 'Impiety (3)', '5128200': 'James Hanser', '5128400': 'The Carolina Royals', '5129200': 'Dave Myers (11)', '5129400': 'Maria Ranum', '5129700': 'Miranda E Seu Conjunto', '5130100': 'Richard Colombo', '5130800': 'Prabhakar Rege', '5131000': 'DJ Zaky', '5131300': 'La boulette', '5131400': 'Aztek (8)', '5131500': 'Tike (2)', '5131800': 'Ruins Of Time', '5132400': 'Liz Freitez', '5132500': 'Abdallah Chihabi', '5132800': 'Lea Mahjun', '5132900': 'Girlandia', '5133200': 'Jules Canehmez', '5133400': 'JORIS HERMY', '5133700': 'Robert Merrill Eddy', '5134000': 'Thomas Christian Ensemble', '5134400': 'Semper (4)', '5134500': 'Rick Covey', '5134900': 'Ida Sulzberger', '5135000': 'On-Edge', '5135600': 'Los Kechuas', '5136100': 'Grupo De Música Popular Portuguesa Entre Linhas', '5136300': 'Bintou Suso', '5136500': 'Teddy Phipps', '5136700': 'Mark Hyman, MD', '5137300': 'Brigitte Kronjäger', '5138200': 'Grupo Universo', '5138800': 'Vinzenz Benjamin', '5138900': 'Ds3k', '5139400': 'Paul Richards (19)', '5139600': 'Peter Dotterweich', '5139800': 'Eric Guignard', '5140200': \"Palha D'Aço\", '5141700': 'Tonico 70', '5141900': 'Michel Et Marie-Annick', '5142400': 'James Thomas (27)', '5142600': 'Matthias Trémentin', '5143200': 'Minutes (3)', '5143400': 'Pélé (2)', '5144000': 'Jerry Mixon', '5144700': 'Donato (12)', '5145200': 'Lonely Phantoms', '5145400': 'Andrew Ibea', '5145500': 'Pierre Resnaux', '5145700': 'Robert-Jan Grünfeld', '5145900': 'The Random Riots', '5146100': 'Hoodlum Scientist', '5146300': 'Chustz & Powell', '5146500': 'Eulino de Melo', '5146900': 'Eduardo de Ribadesella', '5147400': 'The Doubles (2)', '5147800': 'Riki the Razor', '5148500': 'Nick Daniels (3)', '5148600': 'Lafayette (13)', '5148800': 'Bertam Lysander Torres', '5149000': 'Suffolk County Music Educators Association', '5149300': 'Luis Estrella', '5149500': 'Alcoholic War', '5150200': 'The Disasterbaters', '5150300': 'Mike Slater (4)', '5150500': 'Laini Risto', '5150600': 'Peter Lynch (6)', '5150800': 'Orquestra De Jorge Salguero', '5151100': 'Elena Mimiș-Trancă', '5151600': 'Denham (2)', '5151800': 'Tina + Rico', '5152500': 'Oxana Omelchuk', '5153000': 'Stirling Brandy', '5153100': 'Dzö-nga', '5153200': 'Casino Royale (11)', '5153300': 'Blasorchester Mit Gesang', '5153400': 'Tranceform (2)', '5153600': 'Kouta Kato', '5154200': 'Georgia Lee (3)', '5155100': 'The Champions (10)', '5155200': 'Church Of The Black Vatican', '5155300': 'Birth Mattress', '5155500': 'Mychael Gabriel', '5156100': 'The Companions In Jazz', '5156300': 'Deathtaker', '5156500': 'Fabrizio Scarpa', '5157200': 'Nanaba Amoako', '5157300': 'Los Angeles New Music Ensemble', '5157600': 'Hjalmar Lindberghs Orkester', '5157700': 'Fuseläge', '5157800': 'HEY N IL GURU', '5157900': 'Franky-Sue Selection', '5158000': 'Barbara Collin', '5158200': 'Katrina Marzella', '5158300': 'The Love Supreme', '5158600': 'Jay Mcshann And His Jazz-Men', '5158700': 'St. Nick (4)', '5158800': 'Sami Singh', '5159100': 'Galactix Studio', '5159500': 'Jim Muller Se Orkes', '5159600': 'Isabel Gibber', '5160200': 'Gel (11)', '5160700': 'Krystyna Maciejewska', '5161100': 'DJ Coublon', '5161400': 'Hannu Niemelä', '5161800': 'CrystalForce', '5162100': 'Sasha Trifonov', '5162700': 'Raw Axe', '5162800': 'Bethany Or', '5163300': 'Ben Stahl', '5163900': 'Shtetl Stompers', '5164200': 'Uraimanta', '5164400': 'Da Steez Brothaz', '5165000': 'Trio Arizona', '5165500': 'Arsh Anubis', '5165900': 'Sergey Demin', '5166000': 'Andy Andrews (4)', '5166300': 'The Sound Of Sea Animals', '5166800': 'Peïo (3)', '5167000': 'Major Face', '5167300': 'ZIG ZAG (27)', '5167900': 'Børud Hudud', '5168000': 'Guahaihoque', '5168300': 'Maria Kilpiö', '5168500': 'Zappanoia', '5168600': 'Good Grey Day', '5169900': 'Sex Park', '5170200': 'Skellig', '5170300': 'Fernand Nièmen', '5170500': '横内章次とオールスターズ', '5170600': 'Vladeta I Ratomir Kandić', '5171200': 'Burag', '5171300': 'The Bostonians (3)', '5171500': 'Shorty-140', '5172300': 'Feliciano Silva', '5172700': 'Йодлер Състав При Хор \"Планинарска Песен\"', '5173000': 'Terry White (7)', '5173600': 'Radivoje Nikolić', '5174000': 'Bastardo Four', '5174500': 'The Horse Traders', '5175000': 'Trutzwall', '5175300': 'Leptons', '5175700': 'Zik Boum', '5176400': 'Lucien Schwartz', '5176500': 'Turker Tavgac', '5176700': 'Wuer (2)', '5177000': 'The Original Shot', '5177100': 'Chorale Saint Esprit De Moungali', '5177200': 'Luison', '5177600': 'NoKey', '5178100': 'Black Cockatoo', '5179100': 'J.Valabek', '5179500': 'Bewwip', '5179600': 'Jouni Kesti Ensemble', '5179800': 'Skallagrim', '5179900': 'Slow Dissolve', '5180000': 'London Fire Brigade Band', '5180800': '3 For All', '5181300': 'J. C. Marshall', '5181600': 'Australian Kingswood Factory', '5181800': 'Control (36)', '5181900': 'Sam Lipman-Stern', '5182200': 'Double F (4)', '5183000': 'Gram Allan', '5183300': 'United We Fall', '5183500': 'Stefan Sebö', '5183700': 'Humavoid', '5183900': 'Swingtett', '5184400': 'Das Austria-Musical-Ensemble', '5185100': 'Andrey Kasparov', '5185200': 'Axyz Ensemble', '5185300': 'Street Souls', '5186500': 'Foot In The Door Records', '5186800': 'Randy Pump & The Gas-O-Lettes', '5187300': 'Hideaki Aoki', '5187400': 'Кира Бабасинова', '5187600': \"Who's Kiddin' Who\", '5187700': 'Downingtown High School Concert Choir', '5187800': 'Nina Petrik', '5188200': 'V3nturyfox', '5188400': 'Stan Steez', '5188900': 'D.U.F.F.', '5189200': 'Steve Hurl', '5189700': 'Sidnejas Latviesu Viru Kora', '5189900': 'The City (5)', '5190000': 'Down2Earth', '5190400': 'Ayobayo Band', '5190500': 'Günter Kempf (2)', '5190700': 'William Kramer', '5191100': 'Philliph Haddy', '5191300': 'Brian Metcalf', '5191700': '박남정', '5192100': 'Marc Kocsis', '5192500': 'Arnie May', '5192700': 'Electrohoney', '5193200': 'Mark Coles (2)', '5193600': 'Signals & Alibis', '5193800': 'Anders Qwarnström', '5193900': 'John Denver Stanley', '5194100': 'Mark Davis (38)', '5194400': 'The Rock (12)', '5195000': 'Superhand', '5195100': 'Rudolf Jusits', '5195200': 'Kjell Ove Abelseth', '5195900': 'Double D (36)', '5196000': 'Tha New Birth Project', '5196300': 'Deja Vu (21)', '5196600': 'Imseti', '5196700': 'Yinna', '5196900': 'Eddie Gaynor', '5197000': 'Divine To The End', '5197200': 'Ansidis', '5197300': 'Kissing Disease', '5197500': 'Diana María (3)', '5197800': 'Gershon Stern', '5197900': 'Tommy Rueckert', '5198300': 'Sleeve To The Rhythm', '5198400': 'Brent Bennett', '5198600': 'King Company', '5198700': 'Woodwinds West', '5199200': 'Edoardo Leo', '5199700': 'José Pedra', '5200000': 'Jules Levy (2)', '5200100': 'Chick Quest', '5201000': 'Lauren Strange', '5201500': 'Nintendo Project', '5201600': '[sic] (5)', '5202000': 'Re-Incarnation', '5202300': 'Albert Barbezat', '5202500': 'Mischa-Sarim Vérollet', '5203400': 'Antoine De Castellane', '5204000': 'The Purified Assembly', '5204600': 'Ludwig Doormann', '5205300': 'Babyteeth', '5205500': 'S-Video Prema Donna JVX Theater Club Collection', '5205600': 'DJ D-Incredible', '5205700': 'ANͶA', '5206000': 'Reuf Feković', '5206100': 'Bill Brown (34)', '5206300': 'G. Schindler', '5206700': 'Neel Murgai Ensemble', '5207400': 'Unlimited Culture', '5207700': 'The Tonys (2)', '5208700': 'The Stars And Stripes Team', '5208800': 'Adelina Tahiri', '5209200': 'Lorenzo & The Mellotones', '5209400': 'Phoelix', '5210000': 'Leo Justinus Kauffmann', '5210200': 'Krakatau (7)', '5210400': 'Bishop John Ware Singers', '5210800': 'Tripwire (16)', '5211300': 'Life (63)', '5211400': 'Revolt X', '5211700': 'Erik Lima', '5211900': 'Linda L. Delmonlino', '5212300': 'Carlos Tito Zambrano', '5212400': 'A.M. Hugues', '5213000': 'Rene Beckers Big Band', '5213200': 'Favero y la Banda', '5213300': 'Tone Saucy', '5213800': 'Duo Jaramillo-Rubira', '5214100': 'Francis Bay And The Boone City Blowers', '5214300': 'Hill 16 (2)', '5215200': 'Brenden Starr', '5215600': 'Los Llaneros de San Felipe', '5216000': 'Beata Bocek', '5216100': 'Ceci (5)', '5216400': 'Othmar Cekal', '5217700': 'Satellite 484', '5218000': 'Michael Benedikt', '5218200': 'Hoarder Cheeks', '5218400': 'The Slims (2)', '5218700': 'Los Jilgueros Del Hualcan', '5218800': 'Trio Voces De Huamanga', '5218900': 'Johnny Jetblack And The Comeback', '5219300': 'Perfect Smile (2)', '5219500': 'Enno P. Gramberg', '5219600': 'Buzz Driver', '5220000': 'Nathalie Fisher', '5220400': 'Mark Cone', '5220800': 'The Bugbears', '5221100': 'Life on Venus', '5221300': 'No Brainer (2)', '5221600': 'The Boys (54)', '5221700': 'Bass Photo Co Collection, Indiana Historical Society', '5221800': 'Demy De Groot', '5222000': 'Adriana Nascimento (2)', '5222700': 'Angel Marells', '5222900': \"Planet Earth Rock 'N' Roll Orchestra\", '5223900': 'Devvon Terrell', '5224100': 'World Wind Sound', '5224900': 'Joe Brown (28)', '5225000': 'Azgaroth', '5225200': 'Rocco Capano', '5225300': 'Marshall McLean', '5225600': 'Opa-Opa (2)', '5225700': 'Crichy Crich', '5225800': 'Pamhagener Frauen', '5226100': 'Mogens Jensen (5)', '5226200': \"Trixxx Of Tha' Trade\", '5226300': 'keerbee', '5227200': 'Carolee Cotter', '5227500': 'David M Ott', '5227700': 'Keren Batok', '5228000': 'Adrien Aucoin', '5228900': 'Maniaco', '5229000': 'Mitch Dematoff', '5229100': 'Krak Attack', '5229700': 'Diselina', '5229800': 'Grzegorz (5)', '5230300': 'Cor Meibion Powys Machynlleth', '5230400': 'Robert Clauvig', '5230500': 'Wonderful Land', '5230700': 'Marksman (3)', '5231000': 'Les Cicatrices', '5231100': 'P.E. Mafia', '5231700': 'Frans de Guisse', '5231900': 'Riot Conduct', '5232100': 'Edgard Moraes', '5232700': 'Vaguely Threatening', '5232900': 'Pulled From Panels', '5233100': 'World Of Sound', '5233400': 'Freya Hanly', '5233700': 'Sanna Säntti', '5234300': 'Hemina (2)', '5234400': 'Big & Tall (2)', '5234500': 'Empire Falls (2)', '5235000': 'Sekonz', '5235300': 'Martin Jakubíček', '5236300': 'ITAOT', '5236500': 'Dejan Aceski', '5236600': 'Erica Jobling', '5236700': 'Michael Faherty (2)', '5236900': 'Barbaros Çelikoğlu', '5238000': 'Sam Kuzich', '5238200': 'Park Jung Wook', '5238700': 'Stephan Orth (2)', '5239000': 'Sixtynine (4)', '5239400': 'Jay Atwill', '5239500': 'Serik Rodriguez', '5239600': 'A Royal Affair', '5239700': 'Ania Vegry', '5240600': 'Helen Berhe', '5240700': 'De Lochte Genteneers', '5240800': 'Bobby Vadino', '5241200': 'A Song In Which Up To Four Instruments Attempt To Settle A Inevitable Ensemble With The So-called Help Of A Mrym-like Voice They All Learn To Sumo', '5242400': 'Private Panther', '5242500': 'Anders Carlsson (6)', '5242600': 'Oni (12)', '5242700': 'Los Ritmicos Del Norte', '5242900': 'Ryan Morgan (2)', '5243000': 'Jeroen van der Ley', '5243100': 'Lee Hong', '5243500': 'The Spiritual Crusaders (2)', '5243700': 'Beverly Borrmann', '5244300': 'Bill Ray (3)', '5244600': 'Robert Nicholson and his Forty Voice Choir', '5245300': \"Tideman's Scandinavian Trio\", '5245600': 'I Pipistrelli (2)', '5245700': 'Reverend Alfred Grossmann', '5245800': 'Waverider FM', '5246000': 'Arthur H. Leeks', '5246800': 'J Rogers', '5246900': 'Bienze IJlstra', '5247200': 'Naked Mole-Rats', '5247700': 'Mettaphor', '5248100': 'Kelemen Pityu', '5248300': 'The Hilversum Strings', '5248600': 'Blizzard (36)', '5249600': 'Philippe Benasso', '5250100': 'M. A. Spooner', '5250200': 'Itay Morchi', '5250300': 'Get Stabbed', '5250600': 'Haruhiko Shino', '5250700': 'Voices Of Zion', '5250800': 'Alain Giraldeau', '5252000': 'Xteas', '5252400': '2 Voices', '5252500': \"Ridin' Thumb Horns\", '5252800': 'Otto Sirgo', '5253500': 'Anneke van der Holst', '5253900': 'The Cairngorms Young Team', '5254900': 'Skin On Skin', '5255000': 'The Seamonsters (3)', '5255200': 'Ollie Pash', '5255300': 'Mirth (4)', '5255400': 'Rocky Sands', '5255700': 'Roy & HG', '5256300': 'Larry Ahlborn', '5256800': 'Radek Hlaváček', '5257600': 'LeRoy.', '5257700': 'The Tennessee Mass Choir', '5258000': 'St. Antoner Tanzlmusi', '5258100': 'Joe Isaacs And The Sacred Bluegrass', '5258200': 'Cougar Shuttle', '5258300': 'Edmund Carson', '5258400': 'Margaret DeVries', '5258500': 'Insatiable (5)', '5258600': 'Bluesbolaget', '5258800': 'Peter Anghelides', '5258900': 'The Clansmen (5)', '5259200': 'Zam Zam (2)', '5259300': 'Mr. Smoke', '5259400': 'Unsolved Minds', '5259800': 'BarnabyFive', '5259900': 'Stan Burgess', '5260400': 'Oldenhelm', '5260500': 'Ernest Anastasio III', '5260800': 'Sterling Male Trio', '5260900': 'Vicki Logan', '5261400': 'スタミナ', '5261500': 'A Mega Noise', '5261800': 'Amane Suganami', '5262400': 'Alfonso Troche Y Su Conjunto Paraguayo', '5262500': 'André Varin', '5262800': \"Sunlight's Bane\", '5264500': 'Zerozillion', '5264700': 'Herlyn Seran', '5265200': 'Eves (4)', '5265300': 'Dirty Catfish Brass Band', '5265400': 'Alter D', '5266200': 'LYP', '5266500': 'New Jersey Hustlers', '5266700': 'Nasyid Al-Mizan', '5266900': 'Ushio Itoh', '5267000': 'Spirit Alive', '5267200': 'Corona (22)', '5267500': 'Tony Hillerman', '5267900': 'Kessy (3)', '5269000': 'Orchester Des Burgenländischen Blasmusikverbandes', '5269400': 'Jkosinsky', '5269900': 'Ellen Böbak', '5270800': 'Blaze (69)', '5270900': 'Hostility (5)', '5271100': 'Griselda Records', '5271200': 'Missing Piece', '5271400': 'R.E.A.M. Productions', '5271600': 'Joël Privas', '5271800': 'Gombeen & Doygen', '5272200': 'Abdul-Haleem', '5272500': 'United By Fate', '5273000': 'We Bless This Mess', '5273100': 'Zhalim', '5273900': 'José Zabaletta', '5274700': 'Kenny Gordon (4)', '5274800': 'Harlot Nymph', '5275000': 'Hector Cuevas & The Boston Latin Band', '5275100': 'Dave Lewis (26)', '5275300': 'Lembit Tolga', '5275400': 'Думитру Блажин', '5275800': 'Roberto Gonçalves', '5276100': 'Fanta (13)', '5276200': 'Arn Jay', '5276300': 'Rufus Roundtree', '5276500': 'Lonnie Lord', '5276600': 'Douglas Boyd (4)', '5277100': 'Alexander Arpeggio', '5277300': 'シャノ', '5277600': 'Los Príncipes Del Arte', '5277700': 'Bloated With Cowshit', '5278400': 'Chris Mann (11)', '5279500': 'Savanna (10)', '5280100': 'Pablo Reding', '5280300': 'Routter', '5281000': 'The Sign (8)', '5281200': 'Carroll Shannon', '5281400': 'Spiritual Lyric Sound', '5281500': 'Alegre Embajada Artística', '5281600': 'Dj Stedy', '5281700': 'Ted Dodson', '5282000': 'Joshua Fire', '5282200': 'C.O.R.P. 1', '5282600': 'Balkstar', '5282900': 'Numori', '5283000': 'Damana', '5283200': 'Jamie Sutherland', '5283800': 'Lelia Doolin', '5284000': 'Hollis F. Roberts', '5284500': 'Mike Zingale', '5284700': 'Erik Desimpelaere', '5285200': 'I Caravaglios', '5285300': 'FY5', '5285900': 'Ρούλα Ρόη', '5286000': 'Bob Michel', '5286100': 'Mafumani Secondary School Choir', '5286500': 'The Harris Special', '5287600': 'Thomas Wentworth Higginson', '5287800': 'Travis Charuk', '5288200': 'Felix Dehmel', '5288500': 'Γιάννης Κρητικός (2)', '5288600': 'Puppet (9)', '5289200': 'RKUD Rudar - Raša', '5290000': 'Liza (22)', '5290800': 'Mikael Hansson (5)', '5290900': 'HOST (19)', '5291700': 'John William Burrows', '5292000': 'Monique (63)', '5292200': 'Jean-François Bernard et les Kips', '5292300': 'Banda De La Policia Armada Y De Trafico De Madrid', '5292400': 'Ilaria Petrantuono', '5292600': 'Verst (2)', '5292700': 'Embert Mishler', '5292900': 'Dinah Englund', '5293300': 'Lotus Iter', '5293600': 'Shawn Weatherly', '5293800': 'The Project (24)', '5294500': 'Tanz-Orchester \"Mahlke\"', '5294700': 'Ann-Marie Palm', '5294900': 'Flashbacks (3)', '5295100': 'Damaster', '5295300': 'Phummarin', '5295500': 'Heathertones', '5295900': 'Olga Steeb', '5297600': 'Les Vrais Associés', '5297800': 'Cadillac (29)', '5298600': 'IJ (2)', '5298700': 'Fela Kuumba', '5299000': 'Atilio Ferraro', '5300100': 'Claude Lavoie (2)', '5300400': '33 West', '5300600': 'Olive Briscoe', '5300800': 'Dana Marbach', '5301000': 'Noëlson', '5301100': 'Anjos de Resgate', '5301700': 'Franco Brera', '5302500': 'Aphlar', '5302800': 'Kimbell Huigens', '5302900': 'Park Avenue (9)', '5303200': 'The Geds', '5303400': 'Sammy Katana', '5303800': 'しまだみさこ', '5304100': 'Don Versailles', '5304200': 'Nicholas Majkusiak', '5304900': 'Turbo Street Funk', '5305600': 'Надежда Толоконникова', '5305800': 'Okko Nuotio', '5305900': 'Tata Slmonyn', '5306200': 'Attitude (18)', '5306600': 'Sis (5)', '5307300': 'Tarzan Pepé', '5307400': 'The Trupers', '5308000': 'Deborah Shulman', '5308200': 'The Luther Brothers', '5308700': 'Das Blankout', '5309300': 'El Norteño', '5309600': 'Zubair Khan', '5309700': 'Mountaineer (3)', '5310000': 'Mario Folchetti Et Son Ensemble', '5310200': 'Dan Gurney', '5310300': 'Lauri Tykkyläinen', '5311200': 'Pierre Aucante', '5311300': 'Vaudeville Smash', '5311400': 'Arcturus (7)', '5311700': 'Niji Densetsu', '5312100': 'Classe Mannequin (2)', '5312600': 'The Greek Folk Dances And Songs Society', '5313400': 'Turtle Mix', '5313500': 'Dominique Levert', '5313600': 'Katzagōn', '5313800': 'ヒロコ坂上', '5314600': 'Les Hamsters (2)', '5314700': 'Francesco \"Frencio\" Fecondo', '5315500': 'The Bridgeport Memorial Choir', '5316300': 'Hitomi Yūki', '5316500': 'Peter Ivan', '5316600': 'Slashgore', '5316700': 'Daniel Kofi Twumasi', '5316800': 'Irvin Jerome Adside', '5317100': 'Ernst Neukomm (2)', '5317500': 'Raymond Glazier Smith', '5317600': 'The Creeps (12)', '5317900': 'Captain Bear', '5318100': 'Dave Campbell (17)', '5318200': 'Francesco Lombardo (2)', '5318300': 'Mash (37)', '5318800': 'The D-Rays', '5318900': 'Goat Majesty', '5319000': 'Brian Jackson (11)', '5319100': 'Utah (6)', '5319200': 'Bily TK Jnr', '5319300': 'Mineral Writes', '5319500': 'Lorina Gore', '5320000': 'Жопу Снесло', '5320400': 'Hot Sox (3)', '5320700': 'Maskačkas Spēlmaņi', '5320800': 'Billy Pierce (3)', '5320900': 'Александр Олешко', '5321100': 'Valerie (77)', '5321500': 'Rama Lall Bhopa', '5321700': 'Riddim Disasta', '5322100': 'Mr. Hull (2)', '5322900': 'J.D. (28)', '5323400': 'D.H. Da Great', '5323700': 'Middle Earth (4)', '5323800': \"Dave Ain't Here\", '5324000': 'Simon Kingston (2)', '5324500': 'Sweety (7)', '5324900': 'Mauro Ottolini Sousaphonix', '5325500': 'Lyse Fuyuko Quesnel', '5325900': 'Cascabel', '5326000': 'Butch Stone & His Orchestra', '5326800': 'T-Wheel', '5326900': 'Ernst Theo Richter', '5327200': 'Casanova (31)', '5327400': 'Gayle Matthis', '5327500': 'Alexander Lustig', '5327700': 'The Schoolhouse Playboys', '5328100': 'Ira Schroeder', '5328600': 'Lindwurm (3)', '5329200': 'Svetozar Ivanov', '5329400': 'Kranjski Janezi', '5330100': 'Marianne Hofweber', '5330500': 'The Shaydz Combo', '5330700': 'Futurefunk', '5331100': 'La Gente Del País', '5331200': 'Markos Untzeta', '5331400': 'Sepp Tritz Und Seine Orig. Jahrmarkter Musikanten', '5331700': 'Execs (2)', '5331800': 'Ensemble Der Innsbrucker Märchenbühne', '5332100': 'Teddy (32)', '5332800': 'Clay The Analyst', '5333100': 'Brightwing', '5333800': 'Lou Torok', '5334000': 'Jarkko Yli-Sikkilä', '5335200': 'Adam DiTroia', '5336600': 'Tilt! (3)', '5336800': 'Mr Brian Power', '5336900': 'Rizkia Al-Ghifari', '5337000': 'Andrea Kirwin', '5337400': 'WTAX', '5338000': 'Tio Sam', '5338100': 'David Anthony Clarke', '5338300': 'Tom Bishop (5)', '5338800': 'Thee Final Chaptre', '5338900': 'Hellish Undead', '5339400': 'Country With A Touch Of Brass', '5339500': 'Diario ABC Color', '5339600': 'Nord (23)', '5340500': 'James Silas', '5340600': 'Γιάννης Κουμιανάκης', '5341200': 'Brian Caffrey', '5341500': 'Dj K-Swift (2)', '5341700': 'Peppino Giglio', '5341800': 'The Masterplayers', '5342000': 'Pablo Santos (2)', '5342700': 'O.R.M.E', '5342800': 'I Solisti Del Teatro Alla Scala', '5343900': 'Mast Mast', '5344100': 'Ready And Willing', '5344600': 'Al Trace And His Silly Symphonists', '5344800': 'Coaltrain (2)', '5345800': 'Von (15)', '5346000': 'Geoffrey Hughes (2)', '5346300': 'Shelley Duvall (2)', '5347100': 'Novum Organum', '5347600': 'Yves Robbe', '5347700': 'Karl Andersen (2)', '5347900': 'Paul Dodo', '5348000': 'The Booglerizers', '5348300': 'Queenofex', '5348400': 'Roger Boggasch', '5348500': 'Adamov Staich & Co.', '5349100': 'Mickey Priddy & the Priddy Boys', '5349300': 'Rico Femiano', '5349500': 'Cor Ysgol Gyfun Llangefni', '5349700': 'Serpil Birol', '5350000': 'GRIGORI SOKOLOV', '5350300': 'Tempain', '5351800': 'Strangefellas', '5352000': 'Olle Johnnys Musette-Orkester', '5352200': 'Sergio Vargas (2)', '5353100': 'Derrick Thompkins', '5353300': 'Beth Brown (3)', '5353800': 'Beyond The Ellipse Of Time', '5354500': 'Epoxy (11)', '5355100': 'Die Truxas / Fred Blume', '5355600': 'U Convention', '5355800': 'Neurovore', '5356000': 'Jake Gussman', '5356200': 'Caricature', '5356600': 'Kabaret Szczypta', '5357000': 'Beyond Enclosure', '5357900': 'David Simpson (10)', '5358500': 'Noël Saïzonou', '5359700': 'Jimena Herrera', '5360400': 'Spikenard', '5360600': 'Joël de Tombe', '5360700': 'Breda - La Filiere', '5361000': 'Ирина Смолина', '5362700': 'Nick Black (4)', '5363300': 'Jamina Gerl', '5363400': 'T. Waas', '5363700': 'Kuya (6)', '5363800': 'Nathaniel Kanaiaupunioaalona Kaohi', '5364100': 'Sacha Biagini', '5364200': 'Sergio Casabianca', '5364400': 'Bombril', '5364800': 'José Kleber', '5365000': 'Pamela Sommer-Dickson', '5365400': 'Nikoleta', '5365500': 'Mandarin Kraze', '5365700': 'Lucy In Disguise', '5365900': 'DJ T.I.G.', '5366700': 'Graham Woods (2)', '5367100': 'Ernie & Dolly', '5367200': 'Distorted Faith', '5367400': 'Ty Fetti', '5367500': 'Zeven Leven', '5368800': 'Waste Of Vomit', '5368900': 'Stefan Nilsson (10)', '5369700': 'Happo Pistoolit', '5369800': 'Fuckpot', '5370200': 'Dick Hart (2)', '5370300': 'A-Mind', '5371100': 'Wärwolf (3)', '5371200': 'Brushing', '5371300': 'Polarlicht Transistor', '5372300': 'Mamoudou Camara', '5372600': 'Jeff Delachez', '5372700': 'Lanark (3)', '5373200': 'Jim Moffatt', '5373300': 'Samorog Benimir', '5373400': 'Split (22)', '5373600': '渡辺絵麻', '5373900': 'View For A Day', '5374000': 'Graton', '5374100': 'Prof. Starkweather', '5374300': 'Stu North & The Muleskinners', '5374500': 'Partiten 1-3', '5374600': 'JSMA', '5374700': 'John Mahoney (5)', '5375000': 'The Nerve Land', '5375200': 'Keis Khatib', '5376000': 'Trippy Tim', '5376300': 'Peter Nygaard (2)', '5376400': 'The Rocky Horror Picture Show Fox Television Cast', '5376700': 'Rev. V.J. Caldwell', '5376900': 'Love Unlimited On-D', '5377300': 'Gin Tonics', '5377800': 'Animal Squerrel', '5377900': 'Francisco Abreu', '5378000': 'Tom Jay', '5378400': 'The Shilohs (4)', '5378700': 'Jeffrey Beck', '5379200': 'Los Igualados', '5380000': 'Isi (12)', '5381300': 'Finding Wonderland', '5381400': 'Susie Faber', '5381700': 'B-Sick (2)', '5381900': 'Pahtnas', '5382000': 'George Philips (3)', '5382100': 'Zetta (6)', '5382200': 'The Electric Bananas', '5382300': 'Orquesta Uranzu', '5382900': 'Gunnar Molthons Durtonsorkester', '5383100': 'Babelfish (4)', '5383200': 'Ruth Stentoft Gundersen', '5383400': 'Melchior Und Sein Sextett', '5383700': 'Twice Mighty', '5384200': 'Warren Vaché Sr.', '5384300': 'Biruge', '5384800': 'דיויד גרייבס', '5385100': 'Lia Marsito', '5385200': 'Touch Down (4)', '5385700': '加農砲打擊樂團', '5385900': 'Cynthia Bhikharie and Choir', '5386500': 'Matheus10', '5387700': 'Modes (2)', '5388000': 'Bucky Jo', '5388100': '\"Vandikkaaran Magan\" Chorus', '5388200': 'Vico Vega', '5388500': 'Michael Oliver Smith', '5388800': \"Taller O'Shea & The Shenanigans\", '5389000': 'Ralph Ginsburgh', '5389800': 'Appletree (3)', '5390300': 'Рахима Жубатурова', '5390600': 'Cheyenne (21)', '5390800': 'Daft Beat', '5391000': 'Perfect Stranger (9)', '5391500': 'Willie Colón & His Conjunto \"La Dynamica\"', '5391700': 'Projecto XXI', '5391900': 'The Stones We Throw', '5392300': 'Roman Schwaller Nonet', '5393100': 'Brun OG', '5393700': 'Γιάννης Τριάντης', '5393800': 'A Billion Robots', '5394800': 'Willie Jones And The Sensations', '5395500': 'Johnny Lachapelle', '5395700': 'Mojeed Ajani And His Apala Group', '5396800': 'Manatee (6)', '5397100': 'Tjing Tjing', '5397200': 'HotHooves', '5398000': 'Satori (25)', '5398500': \"Al Hajj (Al Imam) Isa Abd'Allah Muhammad Al Mahdi (Wu)\", '5399100': 'Swing Church', '5399400': 'Jordaan', '5399500': 'Michael West (7)', '5399600': 'P. Varga', '5399700': 'Laura Smiraglia', '5400100': 'Fats Navarro And His All Stars', '5400600': 'Diana Dee (2)', '5400800': 'LaLeLu', '5401400': 'Matheo (2)', '5401700': 'Conventional Wisdom (2)', '5402200': 'Jeré Lowe', '5402500': 'Kitty Wildenbrück', '5402600': '吳香倫', '5402900': 'The Spoilers (10)', '5403000': 'Touched (4)', '5403300': 'Hannah Rae', '5403900': 'Triart', '5404400': 'Workshop Community Choir Of The Metropolitan Chapter Of The Gospel Music Workshop Of America', '5404500': 'H.J. De Mari', '5404600': 'David Duke (5)', '5404700': 'Hatti & The Heavywights', '5404800': 'Alessia Macari', '5405100': 'Architecture Aviva', '5405600': 'Absolution Can Only Be Reached Through The Abstraction Of Dreaming', '5405800': 'Sense (20)', '5406200': \"Can't Hang\", '5406600': 'Los Agentos', '5406900': 'Johannes Mössinger New York Quartet', '5407200': 'The Notorious MSG', '5407300': 'Boxelder', '5407900': 'Sacred Sanitation Unit', '5408200': 'Shinonome Interface', '5408600': 'Ars Vocalis Kortrijk', '5409500': 'STRISC.', '5409900': 'Sarah Trainor', '5410500': 'Xoe Wise', '5411100': 'Aftersalsa', '5411400': 'Iiris Brocke', '5411800': 'Paolo Salulini', '5412300': 'David Miles (11)', '5412500': 'The Inklings (4)', '5412700': 'Nikki 3k', '5412800': 'Dino Jambrek', '5413000': 'MIKVH', '5413100': 'Taa', '5413700': 'Cristiano Maramotti', '5413800': 'Roger Wilhite', '5414400': 'Chaser (16)', '5415200': \"Bob Rickett's Band\", '5415800': 'Loev', '5416400': 'Todd Michaud', '5416600': 'Madeline Bridges', '5416900': 'Peter Spoon', '5417300': 'New Ritual Group', '5417400': 'Becky Stevens', '5417800': 'Dann Garner', '5417900': 'Head Bad', '5418000': 'Gorgeous 12', '5418500': 'Amorim Filho', '5418600': 'The Dabbers', '5418700': 'Ki:ra', '5418900': 'Die Böhmischen Blasmusikanten', '5419300': 'Self-Propel', '5419600': 'Fat Knuckle Freddy', '5419800': 'Hans Bril', '5420000': 'Iona Capri', '5420100': 'Bring Black Back!', '5420200': 'Eugenio Torre', '5420400': 'Leonety', '5421300': 'Silvio Omizzolo', '5421400': 'The Revelaires (4)', '5421900': 'Jah Roy (2)', '5422900': 'Tom Reevox', '5423200': 'Iowa City Jazz Orchestra', '5423500': 'Svilar (2)', '5423800': 'Gwon Yongmi', '5424600': 'Ted Stevens (2)', '5424700': 'Kiffin', '5425000': 'Chamillionare', '5425200': 'Dreddmaster X', '5425300': 'Gertrud Storsjö', '5425400': 'Raphaël Vuillard', '5425500': 'Fecóka', '5425900': 'Alejandro Palacios', '5426200': 'Jean Barnett', '5426300': 'Jock Swon And The Metres', '5426400': 'Forsvaret', '5426700': 'rub-a-lamp', '5426900': 'Santiago (44)', '5427500': 'Evil I', '5427600': 'BNJM', '5427700': 'Synaisthesis', '5428000': 'Elana Jagoda', '5428100': 'Loli Nyanko', '5428600': 'Sexy Dex And The Fresh', '5428700': 'Locodeaftrip', '5429600': 'Ukrainian Shumka Dancers', '5430000': 'Oemar Wagid Hosain', '5430300': 'Bleez (2)', '5430700': 'Red Mesa', '5430900': 'El Cuarteto Nuevo Mexicano', '5431300': 'Diarrhies', '5431500': 'Red Velvet (4)', '5431600': 'Christian Schmitt (6)', '5432300': 'Lami Ateş', '5432500': 'Circadian Ritual', '5432900': 'Mané Sambeiro', '5433800': 'Maddi Oihenart & Sokahots Orkestra', '5434100': 'Simone-Michelle van de Kamp', '5434300': 'Alain Morisod And Sweet People', '5434700': 'John Howell (8)', '5434800': 'Gayle Hunnicutt', '5435300': 'Inga-Lill Sander-Lundgren', '5435700': 'Harry Hågé', '5436400': 'McKenna Medley', '5436600': 'Swing Out Sister / Wet Wet Wet', '5437400': 'Annaliese Schmidt', '5437600': 'Charter Wind Ensemble', '5437700': 'James Moors', '5438000': 'Zend Avesta (3)', '5438700': 'Kawata', '5439100': 'Shadow Rock', '5439600': 'Alright Lover', '5440000': 'D.V.S. (6)', '5440200': 'Ray Thompson (7)', '5440300': 'Lord Mute', '5440400': 'Mike Pipgras', '5440500': 'Bob Silva And His Six', '5441700': 'Zantronix', '5442200': 'Julian Hagen (2)', '5442300': 'Alia Tempora', '5442600': 'The Interns (9)', '5442800': 'Por La Carretera', '5443100': 'Eddie Ping', '5443700': 'JT Ripper', '5443900': 'Kamatos', '5444000': 'El Pueblo (4)', '5444100': 'Miss Betty Hope', '5444400': 'The Leon Symphonette', '5444600': 'Olle Grafström (2)', '5445000': 'Olivia Colboc', '5445100': 'Aeolus Brass Band', '5445500': 'Hugh Murphy (2)', '5445800': 'Sonic Defect', '5446200': 'Brian Keegan (2)', '5446400': 'Naio', '5446500': 'Dominique Emorine', '5447500': 'Theresia Dufva', '5447900': 'Vesko Vučković', '5448500': 'Duo Brunelli', '5448800': 'Antonieta', '5449500': 'Die Kapelle Georg Freundorfer', '5449900': 'Constanse Herland', '5450500': 'Toxic Ruin', '5450600': 'Gastric Ulcer (2)', '5451200': 'Rakoon (3)', '5451300': 'G. Holger Willm', '5451800': 'Johnny Kay (4)', '5451900': 'Havoc (41)', '5452200': 'Death Convulsion', '5452300': 'Joe Sullivan (9)', '5453200': 'Hamutal Ben Zeev', '5453900': 'Klod Kiavué', '5454100': 'Michiko Komori', '5454400': 'Maximillian Smart', '5455000': 'Apex Crew', '5455100': 'NZ Music Awards Finale', '5455300': 'Abysmal (7)', '5456000': 'Six Hung Sprung', '5456500': 'Nordic Tenors', '5456800': \"Bob Butler And The D. J.'s\", '5456900': 'The World Famous Oralettes', '5457000': 'Lille (5)', '5457500': 'Polanski (4)', '5457900': 'Cassiano (5)', '5458100': 'Marcus And The Music', '5458200': \"O'Neill Sanford\", '5459000': 'Hanseaten-Blasorchester', '5459300': 'Grief (11)', '5459400': 'Jachet de Mantoue', '5459900': 'Allen Jay Ruiz', '5460000': 'Gian Paolo Mantovani', '5460800': 'Rock-Ola (2)', '5460900': 'Maui (4)', '5461200': 'FKOFF1963', '5461300': '\"Madison\" Girls\\' Glee Club', '5461400': 'Свершилось', '5461500': 'Vengeur Démasqué', '5461800': 'Below The Bottom', '5461900': 'Duo Casadei', '5462100': 'Eric Hofmans', '5462200': 'Mickey Alan', '5462500': 'Charles Nabell', '5462600': 'Tommy Clarke & The Barry Conran Seven', '5462900': 'Ladbroke (2)', '5463500': 'Chorus Of The Broadways Musicals Society', '5463600': 'The Free Motion', '5464600': 'Strangewood', '5464900': 'François Baudrillard', '5465100': 'ORA (10)', '5465900': 'Zwielicht (5)', '5466000': 'The Senior Music Makers', '5466200': 'Future Jazz Sessions', '5466500': 'Mitchibitchi', '5466800': 'Scobie', '5466900': 'Terry Brown (15)', '5467400': 'Jade Imagine', '5467500': 'Eric L Braem', '5467800': 'Holmes & Watson Trio', '5468100': 'Torment (25)', '5468500': 'E.M.G. (2)', '5468600': 'Extreme Music', '5469000': 'Luz Delia', '5469300': 'Brad Tisdel', '5469400': 'Genevieve Feiwen Lee', '5469500': 'The Britoons', '5470200': 'Ariete (2)', '5470500': 'Joan Maria Solé', '5471000': 'La Spinola', '5471100': 'Queentet Сергея Мазаева', '5471500': 'Joseph Duveen', '5471900': 'Oldmoon', '5472100': 'Louis Heyward', '5472200': 'Alfa Valova', '5472800': 'Yoko Hagino', '5472900': 'Mmata Llama', '5473000': 'Rebecca Lee (2)', '5473900': 'Salterium', '5474800': 'Benson Simbeye', '5474900': 'Shuva Sambhujeet', '5475200': 'Richard & Deborah', '5475300': 'Los Katana Freaks', '5476200': 'Studenti Pedagoške Akademije, Zagreb', '5476400': 'This Charming Man (2)', '5476500': 'Silvio Tancredi (2)', '5476700': 'Sabina Brečko Guček', '5478000': 'Dj Shadowplay', '5478200': 'Duggie Dubble', '5478600': 'Leo Costa (2)', '5479300': 'Marija Cheba', '5481200': 'Nelson Arion Glee Union Male Voice Choir', '5481500': 'Cyclones (12)', '5481700': 'Blight Future', '5482100': 'Austin Basham', '5482300': 'Eddie Buehner Orchestra', '5482700': 'Ennio Romani', '5484200': 'Grasshopper Pie', '5484500': 'Carveth Wells', '5484600': 'Härda Ut', '5485600': 'DJ Teddy B.', '5486100': 'Joensuun Kirkkokuoro', '5486800': 'Mike Treebeard Lyyle', '5486900': 'Mannes Chamber Ensemble', '5487600': 'Clock (6)', '5488200': 'Michael Schönwald', '5489700': 'Pietro Rizzo', '5490000': 'Guillermo Velázquez Y Los Leones De La Sierra De Xichú', '5490100': 'Zafer Güler', '5490800': 'Рифкат Гумеров', '5490900': 'Black Mask Gasoline', '5491000': 'Amy Guess', '5491600': 'Tunesters', '5493100': 'Haarp Hysteria', '5493200': 'Oxytocin (2)', '5493500': 'Shemaiah Turner', '5493900': 'Deadwood (9)', '5494100': 'Orange Peco', '5495000': '方文琳', '5495700': 'Krono Sayian', '5495800': 'Mona Jurshak', '5496500': 'Jomomma', '5497600': 'Midnight Riot', '5497800': 'Willi Henseler', '5498200': 'L.I.F.E (5)', '5498300': 'Caffa Jakes', '5498400': 'Teen Tempos', '5500500': 'Open The Barngates', '5500600': 'Color Blu', '5500700': 'The Tap Tap', '5500800': \"Reader's Digest Válogatás Kft.\", '5501100': 'Mike Roland (2)', '5501500': 'Lost System (2)', '5501800': 'Orkes Gambus Awara', '5502000': 'Ropień', '5502800': 'Dante (54)', '5502900': 'Alterkation', '5503000': 'Maggini-Trio', '5503100': 'Angel Angelo Zullo', '5503200': 'Jared Ketterman', '5503700': 'C. W. Mitchell', '5504000': 'Brian Gliboff', '5504900': 'Чавдар Шинов', '5505000': 'Rooster Fight', '5505200': 'Ban Hatton', '5506000': 'Lew Irving', '5506200': 'The Newporters', '5507300': 'Sociedad Española De Radiodifusion', '5507800': 'Melian (2)', '5508000': 'Quartetto Bazzini', '5508300': 'Economy Island', '5508900': 'Marco Santilli Cheroba', '5509000': 'Κωνσταντίνα Ροδίου', '5509100': \"Keefers' Kids\", '5509400': 'Tucuna', '5509600': 'Miro Marjanović', '5510500': 'Joe Sample And The Soul Committee', '5511400': 'MGP Jr. 2011', '5511500': 'B. Keefer', '5511600': 'Charles B. Barkin', '5511700': 'Nelly & Manu', '5512000': 'Extinct In The Wild', '5512600': 'Bitch Falcon', '5512800': 'Lemonade On Stage', '5513000': 'Dominique Raoul-Duval', '5513100': 'Victory Parade', '5513200': 'Inzeller Quintett', '5513700': 'Sonhador', '5514100': 'Nordland (7)', '5514600': 'Trish Sneddon', '5514700': 'Grupo De Cantares Populares A Grafonola', '5515200': 'Warren Allen', '5515400': 'Gypsy Pistolero', '5515500': 'Simon Treecotot', '5515800': 'The Bossatettes', '5515900': \"Herold's Mundharmonika Band\", '5516300': 'Alonzo Holliday', '5516500': 'Johnny Tapp', '5516600': 'Bagster', '5517400': 'Heinz Karasek', '5517600': 'The Johnny Moket Smokers', '5517700': 'Nisse Tell', '5518100': 'Ray Sanders (2)', '5518500': 'Dinner (2)', '5518700': 'Pelvoux', '5518800': 'Boxofthumbs', '5518900': 'Maguindanao', '5519600': 'Templet Ungdomskor', '5520100': 'Gabor Lisznyai-Szabo', '5520200': 'Siyyu', '5520900': 'The Relics (3)', '5521000': 'Rendezvous Stompers', '5522000': \"Cutun's Arcadia Ballroom Orchestra\", '5522300': 'Mr. Thomas G Harris, M.M.', '5523000': 'Reserve De Marche', '5524600': 'Final Chapter (6)', '5524700': 'Phy (2)', '5524800': '66', '5525100': 'Tarro (3)', '5527100': 'Porn And Chicken', '5527500': 'Moito', '5528700': 'عمرو دياب', '5529100': 'Everglade (4)', '5529200': 'Ron Jeremy (5)', '5529300': 'Steel Grinder', '5529900': 'The City Band', '5530500': 'Ork (5)', '5531000': 'Andrew Steen', '5531300': 'Quad (9)', '5531500': 'Benefit (6)', '5531800': 'Exige', '5533000': 'Gorenjski Pihalni Ansambel DPD \"Svoboda\" Lesce', '5533800': 'Ingamadji Mujos', '5534000': 'The Fabulous Tony Lewis Trio', '5535600': 'Jan Raupp', '5535700': 'Yaki Incipient', '5536000': 'Jean-Claude Alexis', '5536100': 'Souleymane Faye Et Son Orchestre', '5537000': 'Batuca (3)', '5538200': 'Rafael Martínez (5)', '5538400': 'Frank Still', '5539500': 'Placid Art', '5539600': 'Joe Bennett (10)', '5539700': 'Valentina Marra', '5540400': 'Henry Jerome And His Chorus And Orchestra', '5540500': 'Bacayne', '5542300': 'Elizeth Rosa', '5542400': 'Spirit Song', '5544700': 'Louis Aguilar & The Crocodile Tears', '5545200': 'Christopher Edward Campaign', '5546100': 'Nina Lanthrum', '5546200': 'Minded Of Heart', '5546300': 'Iin Laulupelimannit', '5546700': 'Toni Kilpinen', '5546900': 'Kalter Kreiser', '5547300': 'B. Good and the Angels', '5547800': 'Harry Avondale', '5547900': 'Trío Mudo', '5548600': 'Rhythm & Groove', '5549000': 'John C. Fremont High School Performing Arts Department', '5549300': 'Rupert Nurse All Stars', '5549900': 'Cardinal Mike Tuke & His Egwu-Odi Nani Super Sound Of Africa', '5550100': 'Ejesilem Amanyanaoru', '5550200': 'Joe Morris (18)', '5550900': 'מרגלית בנאי', '5551100': 'Money Moe (2)', '5551300': 'Bunnie (2)', '5552900': 'Stanislaw Welbel', '5553400': 'Christophe Maro', '5554400': 'Hands & Teeth', '5554600': '장동건', '5554800': 'Science Of Disorder', '5554900': 'Thrash Bolta', '5555200': 'Jacques Belasco, His Piano And Orchestra', '5556500': 'Phonoskop-Aufnahme', '5558100': 'Odile Jutten', '5558400': 'Драматика', '5559100': 'Aviella', '5560400': 'Blazing Row', '5560500': 'Igrejas Caeiro', '5560700': 'Dick Mercado', '5560800': 'Devious (25)', '5560900': 'Complesso Tropical', '5561100': 'The Slapp', '5561300': 'Ignacy Jan Wiśniewski', '5561400': 'mutaLUX', '5561600': 'Lion Tree', '5561700': 'King Mason', '5562200': 'Storm Petrels', '5562300': 'Kråkevingen', '5562500': 'Circus Necropolis', '5562700': 'Lounge Hip Hop', '5563500': 'URUS', '5564000': 'María Del Rimac', '5564400': 'Cardon Cripta', '5564700': 'E.r.k.', '5567100': 'Airbubble', '5567500': \"Gothams' Favorites\", '5567900': 'The Rectums', '5568000': 'Supertramp (2)', '5568300': 'Adele Edwards', '5568700': 'The Get It Girls', '5569000': 'El Campiche', '5569200': 'White Cascade', '5569600': 'Z Lovecraft', '5570000': 'Din Jay', '5570200': 'Dave Rene And Here After', '5570600': 'Chaparro Y Sus Estrellas', '5571100': 'Michael Avila', '5571300': 'Corp', '5571500': 'Chainreaction', '5571800': 'Rossy Crosly', '5572300': 'A.TAXET.A', '5572400': 'The Banoonoo Kazoo', '5572600': 'The Minstrel Boys', '5573100': 'Too Much (21)', '5573600': 'Westfallenpark', '5573900': 'DJ Esquire (2)', '5574400': 'SomeBodyParts', '5574500': 'Rex Quartette', '5574900': 'Luis Saez-Sanchez', '5575000': 'The Admirers (2)', '5575100': 'Aruán Ortiz Quartet', '5575600': 'Blackwood (7)', '5576200': 'The Monkeys (2)', '5576400': 'KB&B', '5576600': 'Jovita Dela Cruz Carbajal', '5577200': 'The Ott Trio', '5578300': 'Felix Solis', '5578400': 'Nimbs Orchestra', '5578500': 'Rü (2)', '5579200': 'Uerberos', '5579300': 'Gam (13)', '5579900': 'Grankulla Manssångare', '5580100': 'Los Anauco', '5580500': 'Karen Bilbo', '5580600': 'Joni Kaye', '5580800': 'Paul Russell (15)', '5581100': 'Al The Coordinator', '5581600': 'Les Noctambules', '5581700': 'Alex 2morrow', '5581900': 'Yelle Vandenbruane', '5582000': 'New World Act II', '5582500': 'Little Remy And The Flying Rockers', '5582700': 'Grupo Los Papa Cun Cun', '5583100': 'Art Cello', '5583700': 'Natas (12)', '5583900': 'Enrique Estrázulas', '5584100': 'Jungle Blue', '5584300': 'OX (28)', '5584700': 'Matchless (4)', '5584800': 'The Grace Quartet', '5585100': 'Jan Ernst', '5585400': 'T-Wrex', '5585800': 'Ottermann', '5586000': 'Successful Sinners', '5586700': 'P. Malski', '5587300': 'Jail Bait', '5587800': 'Pacemaker (8)', '5588400': 'Brasáfrica Reggae', '5588600': 'Ayaba', '5589000': 'Len Bell', '5589800': 'Abdi Ali Baalwan', '5590000': 'Michel Albertini', '5590400': 'InCircles', '5590700': 'Boobs Of Doom', '5591400': 'Dr. Mindflip', '5592200': 'Anton Hagman', '5592300': 'The Strangers (60)', '5592500': '良い乗り物 through the city', '5592700': 'Laurentian High School Band', '5593000': 'Soji Kofo', '5593300': 'Tarantula Kid', '5593400': 'Funky Monks', '5593500': 'Tommy Liss', '5593900': 'Sankaran Namboothiri', '5594200': 'Sergio Armaroli Axis Quartet', '5595400': 'Wood Warden', '5595800': 'Tha Hip Hop Doc & Love N Pain', '5596000': 'The Cathedral Quartet (3)', '5596100': 'Nynne Just', '5596400': 'Jürgen Keck', '5596600': 'Zak D. Wass', '5596700': 'Andy Van Lierde', '5597500': 'Sweet Revenge (4)', '5597600': 'Hombres Solos', '5597700': 'Jan Winopall', '5598500': 'Zitrone Rock', '5598600': 'Ingeborg Eschbach', '5598900': 'Enamira', '5599800': 'Los Music Masters', '5600000': 'BTY Youngin', '5600700': 'Sommaren Är Kort-Bandet', '5601200': 'Fabian Negrin', '5601500': 'The Standing Ovations', '5602200': 'The Herbie Mann-Sam Most Quintet', '5602400': 'Fools (6)', '5602500': 'Ninja (34)', '5602600': 'Pretty Blue Guns', '5602800': 'Joni Moore', '5603200': 'Shazzka', '5603400': 'Prince Flair', '5603600': 'Orquesta Huambaly', '5604800': 'The Carib Serenaders', '5604900': 'Zoult', '5605100': 'Famil One', '5605200': 'Vicky MDLR', '5606700': 'The Mounted State Trumpeters And Drum Horses', '5608500': 'The Keystones (6)', '5608700': 'Black Swords', '5609000': 'Original Rock', '5609100': 'Frostitudes', '5609200': 'Trauma (50)', '5609700': 'Snakerun (2)', '5609900': 'Liquid Sky (12)', '5610100': 'Folsom (3)', '5610600': 'Nova Collective', '5611200': 'Leopoldo Casella', '5611400': 'Northwest Jazz Sextet', '5611500': 'Bashy Bashy', '5611700': 'Solex (6)', '5611800': 'Body Expander', '5611900': 'Midnight Force', '5612700': 'Salomon Dunkan', '5612800': 'Makava Experience', '5613400': \"The Preachers' Daughters\", '5613500': 'Gesa Hoppe', '5613900': 'Redwine (4)', '5614300': 'LA MI', '5614600': 'Francesco Del Prete', '5614900': 'Eternal Power', '5615600': 'The Brains Behind Pa', '5615700': '少年メリケンサック', '5616500': 'Storming The Beaches With Logos In Hand', '5616600': 'K2rhym', '5616900': 'John Edmonds (4)', '5617500': 'All Glory To God', '5618100': 'Human In Bloom', '5618200': 'Jack Narz', '5618300': 'Achile Otele', '5618700': '우리는 속옷도 생겼고 여자도 늘었다네', '5618800': 'Orkes Krontjong Asli Studio Djakarta', '5618900': 'Marc Durandeau', '5619000': 'Paddington Breaks (2)', '5619300': 'The M.M.I. Music Makers', '5619700': 'No One Man Band', '5619800': '曩祖会', '5620000': 'Swami Nikhilananda', '5620700': 'Telarci-Giraudon', '5620900': 'Gondremor', '5621000': 'Roxy Lane', '5621300': 'Red Belly Black Snake', '5621900': 'Gamelan Voices', '5622100': 'Jean Paul Figaro', '5622900': '두번째달', '5623700': 'Reptoid', '5624000': 'Nard (4)', '5624500': 'Suîte Momo', '5624800': 'Tuomas Ikonen (2)', '5624900': 'Roka (5)', '5627000': 'Massive Head', '5627200': 'Ginevra (4)', '5627500': \"London's West End Stompers\", '5627900': 'Hard Road (6)', '5628100': 'Altered State (14)', '5628200': 'Mal Da Udal', '5628400': 'Robb Johnson And The Best Regards Band', '5628500': 'Doxa-Kvartetten', '5628900': 'Genuine Men', '5629300': 'The Moon Rays', '5629400': 'Well (11)', '5629600': 'Rusty Tomes', '5630100': 'Richard Anglehart', '5631000': 'Rosy Silva', '5631300': '35TH And Taylor', '5632500': 'Century Jazz', '5633100': 'Պարոյր Սեւակի', '5633700': 'Takashi Suzuki (5)', '5634800': 'Sara Church', '5635000': 'Albert Djedje Koussy Koussa', '5635400': 'Pastor-Bishop Frank S. Solomon', '5635700': \"Dicht 'n' Durch\", '5636100': 'Baba Konaté', '5636200': 'Die Männer (2)', '5636300': 'Jacky Ickx', '5636900': 'Lise-Christelle Ester', '5637000': 'Luka Tacon', '5637400': 'Keiko Tarutani', '5637600': 'Input Malfunction', '5637900': 'Goom (4)', '5638400': 'Toneelgezelschap Johan Kaart', '5638500': 'Wiesbadener Studiochor', '5639000': 'Das Kinø', '5639100': 'Joe Mutant', '5639400': 'Stygle', '5640000': 'Volter (2)', '5640200': 'Jacque Trussel', '5640600': \"Roger Bell's Jazz Gang\", '5641600': 'Attacck', '5642900': 'Shaka Kampara', '5643500': 'Flight 49', '5644100': 'Chila Lynn', '5644200': 'Los Cantonales', '5645100': 'Patrik Dröge', '5645600': 'Владимир Кравцов', '5645700': 'Talharion', '5645900': 'Payday (7)', '5646000': 'Yankee Holler', '5646100': 'The Mutter Virtuosi', '5646200': 'Sweeney (4)', '5646300': 'Christoph Fügenschuh', '5647000': \"Stan Kenton's Poll Cats\", '5647400': 'Ebenezer Korið', '5647900': 'Jean-Paul Harvey', '5648100': 'Tonic (19)', '5648300': 'Ulvetimen', '5648400': 'Pier Patrik', '5649400': 'Rupert Charlesworth', '5649600': 'Cling.', '5650100': 'Agoraphobia (6)', '5650400': 'Part Of The Art', '5650700': 'Lautaro Dellacasa', '5651600': \"Rohan D'Souza\", '5651700': 'The Surge', '5652700': 'the.soul.stepson', '5653200': 'Казахский государственный струнный квартет имени Газизы Жубановой', '5653600': 'Cheyenne Autumn', '5653800': 'Das Sieben Terzett', '5654300': 'Borislav Djourov', '5654600': 'Fyah Lo', '5655000': 'Чоловічий Народний Хор \"Чумаки\"', '5655300': 'Mino Petruzzelli', '5656100': 'Asher Hung', '5656300': 'Banquet (4)', '5656800': 'Angel Carrasco (3)', '5656900': 'Clay Howard', '5657300': 'Joe Lester (6)', '5657500': 'Pam Johnson (5)', '5657600': 'PsyKat', '5657800': 'The Low Gods', '5658100': 'The Tom & Jim Yuletide Contraption', '5658200': 'Joymaker', '5658300': 'Popper Péter (2)', '5658800': 'Duet Ivan Jakić - Stjepan Sabljarić', '5659300': 'Dr. Dankó Szilvia', '5659400': 'Lune & Soleil', '5659700': 'AUGUSTII', '5661500': 'EPZ', '5662100': 'R. U. Ready', '5663300': 'Alexandra Leclère', '5663400': 'Girish Pranil', '5664300': 'Progman', '5664400': 'Tonya Harwell', '5664500': 'sKin (26)', '5664700': 'Choi Soo Young', '5665100': 'Marcus Price (4)', '5665400': 'R.A.S (3)', '5666100': 'Eddie Santiago Y Su Orq.', '5666600': '神野美伽', '5666700': 'DJ TOista', '5667200': 'Persephone Nikolakopoulou', '5667600': 'Claudette Bay', '5667700': 'The Brothers Morris', '5667800': 'Tutu Krioyo', '5667900': '大川栄策', '5668100': 'Innocent Arrest', '5668200': 'Arizone', '5668300': 'Tolis Harmas Et Son Orchestre De Bouzoukia', '5668400': 'Martyn Päsch', '5668600': 'Gathering Of Listening', '5668800': 'Daniel Goetz (2)', '5669600': 'When Chimps Attack', '5669800': 'Concrete!', '5669900': 'Syncboy', '5670600': 'Belvisi', '5670800': 'Strain Theory', '5671100': 'Los Capitanes De El Bravo', '5672100': 'Cecilia Mutsaerts', '5672400': 'Young Mennace', '5672500': 'Ferdinand von Schirach', '5672900': 'Oddities Prints', '5673000': 'Garth Fletcher', '5673100': 'Leagues Below', '5673200': 'Fabio Merlini', '5673400': 'Lifekick', '5673700': 'The Singing Zulus', '5674200': 'Sängerbund Hasenberg', '5674700': 'Transit Method', '5675000': 'Bob Tyler And His Whistling Pals', '5675600': \"Happy's Bunch\", '5675700': 'M.C.Black (2)', '5676100': 'Ante M', '5676400': 'Boycott 92', '5678300': 'ทัศนะ บัวลาม', '5678400': 'DJ Lenar (2)', '5678500': 'Dúo Ferreira - Ayala', '5678600': 'Barbara Simning', '5680100': 'Jack bottleneck', '5680200': 'Chloe Simone', '5680400': 'Iron Scepter', '5680500': 'Prima-Nocte', '5680800': 'Mardelas', '5681000': 'Bliss (67)', '5682200': 'Thunderhead (7)', '5682400': 'Timothy Daniel', '5682900': 'Caésar Conrad', '5683100': 'slainte (3)', '5683400': 'Franklin Mockett', '5683700': 'Bill Lowery (5)', '5683900': 'Plaguebearer', '5684000': 'Anthony Williamson', '5684100': 'The James Horner Orchestra', '5684200': 'Michelle Hayes (2)', '5684600': 'Rocha (4)', '5685100': 'Beatstreet (3)', '5685200': 'Saint Pé', '5685400': 'Meryl Foreman', '5685500': 'Rchi', '5688000': 'Eugen Kara', '5690400': 'Вибрация перца', '5690800': 'St. Peter St. Paul Cathedral Choir Of Minsk', '5691100': 'Morry Grey Grand Orchestra', '5691700': 'Inmortuorum', '5691800': 'ANIMAM', '5692000': 'Dalham', '5692600': 'Vertigo (47)', '5692900': 'Twelve Gardens', '5693000': 'Disgraceland (4)', '5694900': 'The Khan Don', '5695300': 'Crucible (10)', '5696000': 'Wiener Oratorien-Chor', '5696100': 'Andrzej Olejniczak Quartet', '5696300': 'Ruven Gaze', '5696400': 'Dissident (11)', '5696900': 'Repressed Mind', '5697600': 'Larissa Bertonasco', '5697800': 'Peter Krafft (2)', '5697900': 'The Six Keyboard Kings', '5698700': 'La Mosca Tse Tse', '5698800': 'Peter Huxley-Blythe', '5699100': 'Redneck Rappers', '5699800': 'Satanic Penguin', '5700100': 'Wulf (9)', '5700200': 'Padre Marcos', '5700400': 'Julian Jackson Quartet', '5700500': 'Chicago Blues Reunion', '5700700': 'Pascoal Fredson', '5701000': 'Bo Bedingfield & The Wydelles', '5702000': 'Black Zinc Galvanizing Darkness', '5702200': 'Yohei Yamakado', '5702400': 'Rita Soguel', '5703300': 'Sierra (23)', '5703400': 'Cabbage (4)', '5703900': 'Los Hermanos Caraballo y Jose Cheito Velasquez', '5704000': 'Tony Polimeni', '5704400': 'Tempesst', '5704700': 'Ανθή Κύρκου', '5705200': 'Eve & The Travelers', '5705300': 'Nugghawks', '5707400': 'Aare Külvja', '5707500': 'Villages (3)', '5707700': 'Tiny Head', '5707800': '葛瀚聰', '5708000': 'Jan Trzaskowski', '5708200': 'Lion Vibes', '5708400': 'Closet Christ', '5708500': 'Blood Out', '5709200': 'White Shore', '5709600': 'Excon (2)', '5709900': 'Da Bash Brotherz', '5711700': 'We Will Kaleid', '5711900': 'The Cro-Magnums', '5712300': 'Yuri (44)', '5712800': 'Air-Sea Dolphin', '5713300': 'Singleton Palmer And His Dixieland Band', '5713800': 'Peter Tysick', '5714000': 'Space Monkey (5)', '5714400': 'Standing Tall (2)', '5716100': 'Fallout Babies', '5716200': 'The Ray Robbins Big Band', '5716500': 'Juan Perez de Villanueva', '5717300': 'One Gun Shy', '5717400': 'Peter Strong', '5718100': 'Simon Anthony', '5718200': 'Los Perez Gomez Jovo Y Fortino', '5721100': 'CMR Tha Great', '5721400': 'Rait Mhan', '5722100': 'Karen Burr', '5723900': 'AMMEL', '5724000': 'Halcon', '5724200': 'STS Paranoid', '5724700': 'Grupo Umala', '5724800': 'Zagrebački Električni', '5725200': 'Maria de Nazaret', '5725700': 'Reckless And The Reegs', '5726300': 'Joseph Antoine Lorenziti', '5726700': 'Leslie England', '5727000': 'Pepo Barria Y Su Conjunto', '5727700': 'Vibratanghissimo', '5728300': 'Alva Molina', '5728700': 'Elias Skiffle Ramblers', '5730300': 'HDBeenDope', '5731100': 'Arthur Kazarian', '5731200': 'Carcosa', '5731700': 'Marcus Allen (3)', '5732100': 'Wize (12)', '5732200': 'David Doran', '5732300': 'Dub På Svenska', '5732500': 'Theater Pittoresque', '5733200': 'Ernst Vranckx Quintet', '5733500': 'Empire Orchestra (2)', '5733900': 'Cone (8)', '5734800': 'I Kadek Tunas Sanjaya (Emon)', '5735000': 'Arkham (17)', '5735500': 'Brainstory', '5736500': 'Promesa Y Monzerrat', '5737000': 'Scud (13)', '5737500': 'Françoise Gélinas', '5738600': 'Andy J. Forest Band', '5738700': 'Breakfast Of Champions (2)', '5739000': 'Eddie Doucette', '5739800': 'Lessener', '5740000': 'Deadly Zoo', '5740800': 'Xavier Almeida', '5741300': \"Les Eleves De La Classe D'Instruments Anciens De La Schola Cantorum\", '5741600': 'Exire', '5741700': 'The Starlight Sisters', '5741800': 'Mercy Buckets', '5743500': 'ClassSickKwl', '5743600': 'The Original Angels Band', '5743900': 'Tres Teztikulos', '5744300': 'Carol Nelson (6)', '5744600': 'Sourou Houegnon Et Son Groupe Folklorique Ifegninti Aye De', '5745600': 'Dark Optics', '5746300': 'Piet Boonstoppel', '5746500': 'Made In Riot', '5746700': 'Grand-Pree Novelty Dance Band', '5747600': 'Nathan Hall And The Sinister Locals', '5748800': 'Barna (3)', '5748900': 'The Stingrays (10)', '5749000': 'Dave Robbins Sextet', '5749100': 'César Bó', '5749200': 'K-TeztroV', '5749300': 'Arie van der Zwan', '5750200': 'Tarhan', '5751200': 'Kenneth W Stanton', '5751400': 'Orchestre Les Mystiques', '5752400': 'Nathooder', '5752600': 'Hidden Enemy', '5753300': 'Art1fact', '5753600': 'Remyrem', '5754200': 'Uncle Otto', '5754300': 'Jordan Williams (5)', '5754600': 'Love Expression Band', '5754900': 'Top Dog (8)', '5755500': 'Stonehill Sessions', '5755800': 'The Sacred Heart Sisters Of California', '5756000': 'Go! (8)', '5756700': 'Claessons', '5757100': 'Roger Renzulli', '5757600': 'Aksan Sjuman', '5757900': 'Thugline Productions', '5758200': 'Horia-Roman Patapievici', '5758700': 'Corrado Traballesi', '5758900': 'New Old Stocks', '5759000': 'Bernd Seicher', '5759900': 'Juan Aguirre (3)', '5760600': 'Dean Ranford', '5761700': 'Russian Dolls (2)', '5761800': 'Chachi Mayhem', '5762300': 'Joe Osselburn', '5763400': 'armando venezia', '5763800': 'Stone Johnny Mountain Band', '5763900': 'Franca (4)', '5764000': 'Foreign & Domestic', '5764500': 'Graziani (2)', '5764600': 'Giorgio Malesci', '5765700': 'Maromaco', '5765800': 'Sean Hargreaves Trio', '5765900': 'The Koel Family', '5766400': 'Alex Hahn (2)', '5766600': 'Fatoş Güman', '5766700': 'Hemenex Rockabilly', '5766800': 'The Billy Boys', '5767300': 'Kevin Bate (2)', '5767600': 'Edgardo Vergara', '5767900': 'Two Sevens', '5769000': 'Aliosha Alvarez', '5769300': 'Jody Bipolare', '5770000': 'Nito Rodriguez (2)', '5770200': 'First Avenue Productions Inc.', '5770400': 'The People Say Fox', '5770700': 'Fly2 Project', '5772200': 'Foti Fotaki', '5773000': 'Benji Flaming', '5773500': 'Soulmates (4)', '5773700': 'Concord (7)', '5776100': 'Bhuba Bruce Lewis', '5776300': 'Sissi Vuorjoki', '5776400': 'Mario y Su Guitarra', '5777000': 'Tex Johnston And The Co-Stars', '5777300': 'Chris Haughey', '5777500': 'Angela Roberts (3)', '5778400': 'Nihilum (5)', '5778500': 'Vírus (2)', '5778600': 'The Meals (2)', '5778800': 'Grisha (RU)', '5779400': 'Lilian Davies', '5779600': 'The Midnight Serenaders', '5780100': 'The Synapse Project', '5780200': 'Fiji-13', '5780400': 'Elisabet Teshome', '5780800': 'G~Angel', '5780900': 'Bill Van Tyne', '5781800': 'Revcounter', '5781900': 'Rondalla Femenina Universitaria Del S.E.U. De Barcelona', '5782000': 'Frank Strzelecki', '5782200': 'Matthew Chevalier', '5782300': 'Bones Noize', '5783100': 'Arnold Barker', '5785100': 'In Mirrors', '5785200': 'Saidman', '5787300': 'Happy Days Revue', '5787500': 'FM כלור', '5788400': 'Орда Мутантов', '5788600': 'Walter Jung (3)', '5789600': 'Alakazam (2)', '5789900': 'Viviane Mongeau', '5790000': 'Twinbed', '5790500': 'Janice (23)', '5790800': 'Reflex (44)', '5791600': 'Father Abram Ryan', '5791700': 'Spring Heeled Jack/Chez Lester Cast', '5792000': 'D-I-X', '5793700': 'Tom Sykes Band', '5794100': 'Boynton And DeVinney', '5794200': 'Stromatope Heteroscodra', '5794400': 'Wyatt (9)', '5795600': 'The Chamber Choir of Grand Rapids', '5795700': 'Liliane Jeney', '5796200': 'The Ajax Singing Sensations', '5796600': 'The University Orchestra', '5796800': 'Les Hirondelles (2)', '5797400': 'Noelle Van Nostrand', '5797800': 'Berto Oude Veldhuis', '5797900': 'Supersaurous', '5799000': 'Gus Rogan Tamburitzans', '5799200': 'БатЭ SLKM', '5799800': 'Just Muz', '5799900': 'Goddy Na-Ku-Nkwa And His Odinana Singing Party', '5800100': 'Ricardo Proença', '5800300': 'Tom Hunter (9)', '5800600': 'Nick Stephenson (2)', '5802300': 'Nortnord', '5803000': 'Cien', '5803200': 'Don Bates (3)', '5803300': 'Jonas Olsson (7)', '5803700': 'Rodeo Deville', '5803800': 'Diego Gutiérrez', '5804100': 'אלון שיין', '5805100': 'Ollie Howell (3)', '5805200': \"Urb'n Lg'nd\", '5805300': 'Comrades (7)', '5805600': 'Enwia Shomon', '5805900': 'Lonnie Wellman', '5806800': 'The Blackheart Orchestra', '5807600': 'French Jazz trio & Strings', '5807700': 'JTRA', '5807900': \"Frank D'Angelo (3)\", '5808500': 'The Band of The Royal Regiment of Canada', '5808700': 'Joe Grind (3)', '5809200': 'Charly Rabanser', '5809300': 'Kurt Maria Staubli', '5809400': 'Diligents', '5809600': 'Reckmatch', '5810100': 'Sulaiman Zai', '5810200': 'Triz3ps', '5810300': 'Kpatchavi Affanouvi Dit Allagnon', '5811200': 'Adi Adrian', '5811400': 'Los Capos De Mexico', '5811500': 'Tomoe Misumi', '5811600': 'Ash (68)', '5812100': 'Avita', '5812200': 'Seeburg', '5812500': 'Couples Skate Only', '5812700': 'Knat', '5812800': 'Gloomy Monster', '5813500': 'Charls Royl', '5813600': 'Kathryn Williams (2)', '5813700': 'Strength Thru Discipline', '5813800': 'Lâmina', '5814600': 'Martin Junior School Choir', '5815700': 'Alixa + Naima', '5816100': 'Aegrotus', '5816500': 'Rotorua Maori Male Quartette', '5816700': 'The Real Thing (8)', '5817900': 'Dūdas Latvijā', '5818000': 'Marek Kuźniak', '5818500': 'Sweet Bleeders', '5819200': 'Los Regionales del Valle', '5820300': 'B.J. Hood', '5820700': 'Nancie Mac', '5821500': 'Scum (41)', '5821600': 'Impact (62)', '5821800': 'Samuele Malfatti', '5822800': 'Élixir', '5823100': 'DJ Chockee', '5823500': 'Martin Lopez Y Sus Extraños', '5823800': 'Annie Ting', '5824100': 'Chamber Choir Of The Hochschule Für Musik,Theater Und Medien Hannover', '5825500': 'Bernie And Chas', '5825600': 'Anne Martin (4)', '5825800': 'Kamikaze Toyboys', '5826300': 'Mekka (9)', '5826500': 'The Mountain State Gospel Trio', '5826600': 'Oblong (5)', '5827900': 'Spinoza (2)', '5828500': 'Orquesta La Fantastica', '5829600': 'Shocking Colour', '5830100': 'Nightspirit (4)', '5830200': 'Juke Box Jive', '5830400': 'Smak (13)', '5831400': 'The Inmates (10)', '5831600': 'Black Pest (2)', '5831900': 'O.M.A.A.R', '5832600': 'Dubrovački Kavaljeri', '5832800': 'Aleczandah', '5833700': 'DJ Hiace', '5834100': 'Seven Day Faith', '5834300': 'Nevada Hardware', '5835000': 'Color Parade', '5835100': 'Les Petits Chanteurs Du Bon Dieu', '5835400': 'JR-III', '5835500': 'Half Moon (6)', '5835600': 'Schuw', '5836300': 'AXEVALLEY FOLK GROUP', '5836700': 'Joel Fido Martínez', '5836800': 'Funny Carp', '5837000': 'Noise And Silence', '5837800': 'FOUNDRS', '5838100': 'Golden Mean (3)', '5839300': 'อนันต์ สันติสุข', '5839400': 'Dephinite', '5840100': 'Monica Witkiewiczowna', '5840300': 'Venus Volcanism', '5840500': 'Claudia Raab', '5840700': 'Forjador de Sueños', '5840800': 'Rəsul Rza', '5842000': 'Something Sacred', '5842300': 'Autotheism', '5842400': 'Blak Militia', '5843300': 'CVIRO & GXNXVS', '5844300': 'The Dewberries', '5844500': 'Annemie Osborne', '5844900': 'Sewage (4)', '5845100': 'KGB & Tooltime', '5845400': 'The Californians (6)', '5845600': '3rd Avenue (5)', '5845700': 'Hannes Middelberg', '5846500': 'Labora Trixx', '5846600': 'Jerry Meiss', '5846800': 'Danny Coots', '5847000': 'Platin (3)', '5847800': 'Japhet Igwe', '5848200': 'Erhengbo & His Group', '5848800': 'Henry Crook Bird', '5848900': 'TK (33)', '5849000': 'Genoenzix', '5849100': 'Marty Quinn (2)', '5850100': 'Le Zakieda', '5851100': 'Alija Hadžimuratović Čičko', '5852500': 'Headbangers (8)', '5852600': 'Agencia Tass', '5852700': 'Pele (18)', '5852900': 'The Wild Ones (14)', '5853300': 'El Jefe (6)', '5853900': 'Slade (11)', '5854000': 'Disprocess', '5854500': 'Da Ace and Jay Deuce', '5855300': 'Ангелина Микаберидзе', '5856600': 'Michelle Gregoire', '5856700': 'The Sweetest Touch', '5857400': 'Blue Grass Country Boys', '5857500': 'The Giant (4)', '5857600': 'Collarossi', '5857700': 'Heclysma', '5858000': 'Hyper Activ', '5858500': 'Paarks', '5858600': 'Zazou (6)', '5859200': 'Diederick van Dijk', '5859400': 'Jane Train', '5859600': 'Top Of The Box', '5859700': 'Tereza Urbanová', '5860300': 'Atomic Playground', '5860400': 'Andrew Vogt (2)', '5861200': 'Quasistellar Radio Source', '5861900': 'Katla.', '5862400': 'Johnny V Lewis', '5863000': 'Jaap Maarleveld', '5864000': 'Last Dawn', '5864900': 'Trio Serenata (2)', '5865000': 'Brent Wiebold', '5866600': 'Roberto Moreno (2)', '5867400': 'Robert Platt (2)', '5867500': 'The Motion Pictures', '5867700': 'Rawkus II', '5868100': 'Key Of Salomon', '5868500': 'Micro Out', '5868800': 'Troubas Kater', '5869600': 'Go For Broke (4)', '5870000': 'Teddy Rambeau', '5870100': 'Grupi Folklorik Rome Nga Shqiperia', '5870500': 'Mikey Velazquez (2)', '5870700': 'Cha-Pak', '5870800': 'Janubia', '5871100': 'Vana Totomi', '5871600': 'Anal Leakage', '5872700': 'Dr. Forrest Stevenson', '5873300': \"Kafka's Breakfast\", '5873500': 'Ante Up!', '5873700': 'Confucian Theory', '5875000': 'In Contrast', '5875700': \"Screamin' Stevie And The New Disciples\", '5876400': 'Saen.', '5876800': 'Gospel Messengers', '5877500': 'The Mellotone Sisters', '5877700': 'Les Alligators Souriants', '5877900': 'Los Star Boys (2)', '5878000': 'Grand Orchestre Du Tricot', '5879200': 'Naughty Naughty (6)', '5880400': 'Ivo \"Rafan\" Traxmandl', '5881500': 'Daniela M. Span', '5881600': 'Jon Bernthal', '5881800': 'Sonido Mazter', '5882600': 'Skanorrhea And The Burning Sensations', '5883200': 'Militia (16)', '5883700': 'The Grenma', '5884200': 'Ορχήστρα Παρθενών', '5884300': 'Hengästyneet', '5884600': 'Susannah Wilshire-Torem', '5884900': 'Kasper Hoff', '5885000': 'Matthew And Mary Haskins', '5886700': 'Broken Lies', '5886900': 'The D.F.C Boyz', '5887800': 'David Parker (28)', '5888600': 'Interloper (4)', '5888700': 'Swampthing', '5889800': 'Mincho Anaya Y Su Combo Moderno', '5890200': \"Mr. Cool 'N Easy\", '5890400': 'The Reparations', '5890600': 'Little Billy Jones', '5891400': 'Affirma Jams', '5891500': 'The Travel-Heirs', '5891800': 'Fred Lohse', '5892400': 'Miguel Ângelo (5)', '5892700': 'Nordenfra', '5893400': 'Kareem Samara', '5893600': 'Flux(N.d)', '5893800': 'Rinat Kaas', '5895200': 'The Bands Of The Royal Hong Kong Police', '5895600': 'The Gospel Melodies', '5896100': 'Keen Intelligenze', '5896400': 'Die Blue Stars (2)', '5897000': 'Lori Nelson Spielman', '5897100': 'Emma Pryde', '5897400': 'Conjunto Tacoteno', '5897600': 'Luis Ohaco', '5898700': 'はせさん治', '5899300': 'Godfather Crew', '5899400': 'Vitale Magatelli Windfeld Trio', '5899600': 'Northern Ghost', '5900000': 'Christine Boillat', '5900700': '\"Duce\"', '5900800': 'Pusni Judi Od Spinčić', '5900900': 'B1 2B', '5901300': 'DJ Kazu (3)', '5901600': 'Desperados (18)', '5901800': 'Tommy Babin (2)', '5903400': 'Violência Moral', '5903700': 'Silverglaze', '5904300': 'El Texas Motor', '5904600': 'Andy Mart (2)', '5904900': 'Dario Robayo', '5905100': 'Carles DJ', '5906300': 'B904', '5906500': 'Beast Warrior', '5906800': 'Slide Sticks & Pedals', '5906900': 'Kindercore', '5907100': 'Cukis', '5907300': 'Andrew Lucas (3)', '5907500': 'The Killer Neighbors', '5907800': 'Sidney Sharp And His Orchestra', '5909100': 'Arno Flor Y Su Orquesta', '5910400': 'Moraka', '5910600': 'Gunnar (25)', '5911000': 'Beezley & Sparkle Productions', '5911100': 'No Soul To Sell', '5911500': 'Gunung Jati, Br. Teges Kanginan', '5912000': 'Buray Hoşsöz', '5912300': 'The Jackson Dixielanders', '5913000': 'Southree', '5913200': 'Chiquinho su Acordeon y su Orquesta', '5913300': 'Pigiron', '5914100': 'Massimo Favale', '5914600': 'Liquid Cheese', '5914900': 'The Berean Ensemble', '5915900': 'Kaleema', '5916200': 'Smoki (2)', '5916400': 'Σοφία Λαζαρίδου', '5917700': 'John E. Brown & Country Rebellion', '5918900': 'Ralph Walker (3)', '5919300': 'Prof. Allan Anderson', '5920300': 'Rapid Decline', '5920400': 'DJ Sam (17)', '5920500': 'Morten Bergheim', '5920800': 'YFKO', '5921200': 'Churchhill Boas', '5921500': 'Annie Coppens', '5921900': 'Maria Auxiliadora Bianchini', '5922200': 'Ella Fusi', '5922600': 'Fiji God', '5922800': 'Qim Isle', '5922900': 'クリスタルＫＩＴＳＵＮＥ', '5923000': 'Malarkey (5)', '5923600': 'Celine Lee', '5924200': 'Jumping Jukebox', '5924400': 'Dramatic Lovers', '5924500': 'Black Diamonds (6)', '5924600': 'Santos Illustration', '5925100': 'John Spillane (2)', '5925200': 'Jade Louise', '5925800': 'Timi O', '5926300': 'Marsmind', '5926500': 'Davey Lee Goode & The Bad Cats', '5926700': 'Irene Soderberg', '5927100': 'The Accordion Masters', '5927600': 'EAFHM', '5928600': 'Ben Zucker (2)', '5929000': 'The Southtown Moods', '5929700': 'Karl Wolfram (2)', '5930100': 'Tony Florus', '5930700': 'Sishu Mangal Party', '5930800': 'DJ Rello', '5931800': 'Bob Barnett (2)', '5932200': 'Madaheva', '5932800': 'Carl Dahlbäck', '5933400': 'Iron Regime', '5933600': 'yg hypnos', '5935100': 'Darcel Wilson', '5935400': 'The Texas Ranger (2)', '5936800': 'Roy Olaf Øiamo', '5937000': 'Texas Renegade (2)', '5937100': 'Ken Thompson (6)', '5937300': 'Twomp (2)', '5937500': 'James Wintle', '5937700': 'Evangeline (9)', '5938200': '石ノ森章太郎', '5938500': 'Stephen Laudi', '5938600': 'Daniel Coffee', '5939000': 'Crooked Niggas', '5939100': 'Friends 9', '5940200': 'Feed The Monkey', '5940600': 'Sugar Lobby', '5941100': 'Devon Gilfillian', '5941200': 'The Mighty Saviour', '5941500': 'Diggdoctors', '5942000': '椿安子', '5942600': 'Videodays', '5943000': 'Juan Domingo', '5944000': 'Chien-Kwan Lin', '5944600': 'Mika (81)', '5944700': 'Gabriel (90)', '5944800': 'Skitzafit', '5945100': 'Sonic Salvation', '5945200': 'Korpsesoturi', '5946400': 'Official Manchester United Fan Club', '5946700': 'Astrokraut', '5946900': 'Fat Rhabit', '5947400': 'King Dilly', '5947800': 'Rytmin kvintetti', '5948400': 'The Barracudas (5)', '5948800': 'Energy Star (2)', '5949100': 'Mandeen', '5951000': 'Daria Zhurina', '5951100': 'Mokzed', '5951300': 'Kathleen Turner Overdrive', '5951600': 'Dick Janak Orchestra', '5952400': 'Overishins', '5952600': 'Riccardo Chiaberta Nirguna', '5952900': 'Soul Made Visible', '5953000': 'Sängerbund Engstlatt e. V.', '5953200': 'Jean Franssen', '5955000': 'Erika Lundi', '5955300': 'Blind Dreams', '5955400': 'Juan P. Moreno', '5956400': 'Gert Baum', '5957000': 'Cityview Band', '5957700': 'Vanille (4)', '5957800': 'Z. B. A.', '5958200': 'Halos (3)', '5958600': 'Big Reese (2)', '5958700': 'Jon Sammels', '5958900': \"Quatuor à Cordes et Hautbois de l'École Supérieure de Musique Des Soeurs de L'Assomption de Nicolet\", '5959000': 'Little Tommy T.', '5959200': 'Stephanie Jordan', '5960200': 'Ruphus Winter', '5960400': 'Southside Formula', '5960500': 'Augustos', '5961300': 'Vladimir Škreblin', '5961900': 'Aloha Polynesian Revue', '5962100': 'T.J. Farrell', '5962200': 'Thirteen (13)', '5962400': 'SHAKING', '5962800': 'Schwache Nerven', '5964900': 'Into The Dust', '5965100': 'Sarah Jeanne Ziegler', '5965600': 'Руна (3)', '5966600': 'Shmoozy', '5967100': 'Werner Chibulsky', '5967400': 'Johnny Swendel', '5967700': 'Echo Vom Vitznauerstock', '5968700': 'CPR (4)', '5969000': 'Wakako Takahashi', '5969500': 'Devante Hunter', '5969600': \"Youthman '86\", '5970900': 'Takttrauma', '5971700': 'Kåre Korneliussens ensemble', '5971900': 'Los Diaz De Frontera', '5972000': 'Tribal Yang Tsae', '5973000': 'Mateusz Rolik', '5973100': 'Los Rancheros (4)', '5973400': 'Ludwig And Friends', '5973700': 'Farmer Fritz And His Band', '5974500': 'Dean Mongerio', '5974600': 'David Milton', '5974700': 'Hit@lie', '5975000': 'Slag Ende Stoot', '5975100': 'Strommasten', '5975800': 'Syl Dopson', '5975900': 'Jean Michel Borgeat', '5976200': 'Mark Smoot (3)', '5976500': 'Lucio Fernandez', '5976700': 'Zayra Yves', '5977000': 'Al Waslohn Combo', '5977100': 'The View (20)', '5977200': 'Ensemble Soubor Doubravanka', '5977600': 'Dolphin X', '5978500': 'Frederik (14)', '5978600': 'Aqeel Ruby', '5978800': 'Frickle Morrow', '5979100': 'Don Korsmo', '5979400': 'Shirlyn Tan', '5980300': 'Oktober Delusion', '5980400': 'Los Phoenix', '5980500': 'Afghans Of Sound', '5980700': 'Alice Hindrum', '5981300': 'The Cohort (3)', '5981800': 'Familjen Norlin', '5981900': 'François Cosset', '5982600': 'Disagreement (3)', '5982700': 'Ton.G.I.', '5982900': 'Hey Annie Tomorrow Ends', '5983900': 'ANbRx Pharmaceuticals', '5984500': 'Teeny May', '5984700': 'NGakaNervenGestalter', '5985000': 'ジャズフレンズ', '5985200': 'Elg Ler', '5985900': 'Steve Thomas (24)', '5986100': 'Gin Soileau', '5986200': 'Dylan Fischer', '5986500': 'The City Lovers', '5986800': 'Gerry Bunker', '5987300': 'Tinnarose', '5987700': 'Customers (3)', '5987900': 'Grupo Nattura', '5988500': 'Whittler', '5989200': 'Marcelo Puente', '5989400': 'Ny volana', '5989500': 'Cordoba Mora', '5990300': 'Austin Deathtrip', '5990800': 'Scandal (22)', '5991200': 'Sheila Chatelane', '5991300': 'Slimeball (2)', '5991400': 'Mitglieder der Akademie für Alte Musik Berlin', '5991900': 'Laura Martinez León', '5992500': 'Anny Fanny', '5993200': 'Budare (Moreon & Baffa)', '5993500': 'The Liberty Gospel Singers', '5994600': 'The Roadrunners (13)', '5995100': 'Social Quality', '5995600': 'Kerstin Anne', '5996100': 'Göran Persson (3)', '5996200': 'דין כרמל', '5996400': 'Jon Haek', '5996700': 'thisisldm', '5997000': 'Jean Louzac', '5997500': 'Valentin Uryupin', '5998100': 'Seraph (20)', '5998600': 'Aya Iwata', '5998700': 'Dagger Moon (3)', '5998900': 'FDV', '5999900': 'Lions Den Family', '6000100': 'Rohar', '6000600': 'Gjøvik Sinfonietta', '6000900': 'Dovahkiief', '6001500': 'The Tootones', '6001700': 'Deadbeats (10)', '6002000': 'SAVAGE BLAST', '6002400': 'Morkelvyz', '6003000': 'Eva Hansson (2)', '6003100': 'Cromb', '6003300': 'Jérôme Pinget', '6003700': 'T42 (8)', '6003900': 'Unge Folkemusikarar', '6004100': 'Rasmus Ehlers Trio', '6004800': 'Reese Chubbs', '6005500': 'Merritt Mapp', '6005600': 'Anchored', '6005800': 'Highway 101 (2)', '6006200': 'Julie (76)', '6006500': 'The Virtues (6)', '6006600': 'Romantic Flight', '6006700': 'DJ Ghostly', '6006800': 'Phaneron (2)', '6007000': 'Parallaxis', '6007100': 'Sparrow Ranks', '6007300': 'นันทวัน สมสมร', '6007500': 'Mascharat', '6008100': 'Sunwheel (3)', '6008800': 'Raffi De Oleo', '6009000': 'Los Takikollas', '6009700': 'Crazee (4)', '6010100': 'Johannes Avenger', '6010200': 'Peter Keune', '6010300': 'Dan Only', '6010600': 'Carolina Mout', '6011400': 'Michael LaMacchia', '6011600': 'Master Sina', '6011800': 'Book Of Raw', '6012300': \"Torre'\", '6012800': '大園博子', '6013000': 'The Collegians (8)', '6013600': 'Evgeni Maistrovski', '6013800': 'Carla Dupont', '6014500': 'Marea Neagra', '6016000': 'StreetSwingers', '6016200': 'The Cyclops (2)', '6016400': 'Carolina Noguera Palau', '6016500': 'Voldex', '6017100': 'Andre Le France', '6017700': 'Yegrin Symphony Orchestra & Chorus', '6018200': 'Jukka Seitz', '6018300': \"7even7's\", '6018500': 'Mac Mane', '6018700': '7 Foot Jr.', '6018800': 'The Raventones', '6019500': 'Johnnie Bellar', '6019900': 'The Three City Four', '6020000': 'Doc Hammer', '6020200': 'Dismembering Mary', '6020400': 'Expreso Groove', '6020600': 'Soo-Yong Lee', '6020900': 'Pinturilla y La Pandilla Vainilla', '6021000': 'Emilio Pellejero y su Orquesta Típica', '6021300': 'The Orange Bird', '6021900': 'Kjells Angels', '6022000': 'Bernd Wolf Und Seine Egerländer Musikanten', '6022500': 'KLaNGundKRaCH Kollektiv', '6023200': 'Taurean J', '6025000': 'Raymond Smith (10)', '6025300': 'Jack Montgomery (2)', '6025500': 'Three Thirteen (2)', '6026100': 'Письмо от Зодиака', '6026200': 'Monique van Dijk (2)', '6027000': 'International Boogie Band', '6027500': 'Melico', '6028100': 'Vince Renilli', '6029000': 'Fathers (4)', '6029500': 'Tré (6)', '6029600': 'Ivano Rossin', '6029700': 'La Festa (2)', '6029800': 'Okechukwu Nwatu', '6029900': 'Mae September', '6030100': 'Les Mercuries', '6030700': 'Yoichi Murata Orchestra', '6030800': 'Zaïr Naïken', '6031400': \"The Shouter's Men\", '6031600': 'Gustavo Van Rompaey', '6031800': 'Don Hadaller', '6031900': 'Laendler Kapelle', '6032100': 'Dangerous Bantan', '6032700': 'Charles Rio', '6033200': 'Lennart Smidt', '6033600': 'UV & NEN', '6033700': 'Vrød', '6034500': '戴军', '6034700': 'Sanshū Chūgaku Yūsha-bu', '6035400': 'Teferri Feleke', '6035700': 'James Curry & Orchestra', '6036400': 'The New Pilot Mountaineers', '6036700': 'Bedouins (2)', '6037100': 'Markus Goecke', '6037500': 'The Pipes and Drums Of The 78th Highlanders', '6037900': 'Norbert Sänger', '6038200': 'Yuri Yavorovskiy', '6038300': 'Habib Iddrisu', '6038400': 'Adam Knights (2)', '6038800': '牛若丸三郎太', '6038900': 'IMA (16)', '6039100': 'MRIA', '6039300': 'La Monumental', '6040100': 'H.L. Bryant', '6040900': 'Chinaski (9)', '6041100': 'Support Intellect', '6042400': 'Sexteto Capibaribe', '6042500': 'Sheila Zagury', '6042600': 'Eddie Fountain', '6042700': 'CODE: ADRENALINE', '6042900': 'Stephany (4)', '6043200': 'Jaskon Five', '6043300': 'Sonny Apollo', '6043400': 'cetacea (2)', '6043500': 'Faximile (2)', '6043900': 'The P-Town Skanks', '6044600': 'Blue Barron Band', '6045000': 'Taxfree Balloons', '6045300': 'Simon vs Saimon', '6045500': 'anythings', '6045600': 'Greenvision', '6046200': 'The Monzas (2)', '6046900': 'Chain Swangaz', '6047100': 'Emmanuel Thiry', '6047300': 'Conjunto de Sergio Perez', '6047900': 'Rancour (3)', '6048200': 'Pedro Elías (2)', '6048500': 'Scathed (2)', '6048800': 'You-He-S', '6049200': 'Soultight', '6049500': 'D.J. Patrick & D.J. Kenny B', '6049700': 'Mr. Vel', '6050100': 'Boško Dabić', '6051100': 'Some Kind Of Illness', '6051300': 'Craterface (2)', '6051700': 'The Bandio', '6052000': 'Leuko', '6052100': 'Vals Plat (2)', '6052500': 'Elangui Aimé', '6053400': 'Filippo Lippo', '6054000': 'Apache Cymru', '6054100': 'John Patti', '6054200': 'Sterilium', '6054400': 'Against Tolerance', '6054500': 'Coast Artillery Band', '6054800': 'Lloyd Cooper And His Quartet', '6055400': 'Pilot Jr.', '6055900': 'Alberth (3)', '6056000': 'The Malignant Growth', '6056200': 'Vush', '6056300': 'The Angered Wrecks', '6056600': 'Anal Heart Ultra', '6056900': 'Heurt', '6057600': 'Robert Hill (20)', '6058300': 'Robert Melling', '6058700': 'Heidi M. (3)', '6060600': 'Kleiner Chor Köln', '6060800': 'Vitor & Vitória', '6061100': 'ReezyTunez', '6061200': 'The DeArmond Family', '6061400': 'Host To Infinity', '6062000': 'Klaus Haberl', '6062200': 'Gérard Beaussonie', '6062300': 'The Classic Jazz Band Sweden', '6062400': 'Heartgrown', '6063000': '.mpegasus', '6063200': 'Drøøgenhoven', '6063300': 'Raul Osvaldini', '6063500': 'Mr. Eff (2)', '6063600': 'Banda de Música \"Sta. Cecilia\" De Teotitlán Del Valle, Oax.', '6064200': '浅沼友紀子', '6065100': 'Mugen(Mentalalchemist)', '6065700': 'Michael J. Marshall', '6066300': 'Aaron Blond', '6066500': \"Emyr Gibson a'r Band\", '6067800': 'Grupo Oro De Venezuela', '6068400': 'E. Smite', '6068900': 'Nightflight Mk4', '6069100': 'Alalé', '6069200': 'Ada Jones And Walter Van Brunt', '6069300': 'Duo Bruno Und Renato', '6070100': 'Alpha 88', '6070400': 'Chadaphorn', '6070900': 'Taito Ikävalko', '6071100': 'These Thieves', '6071600': 'Mordem', '6072000': 'Teej (5)', '6072100': 'Solisten des Tölzer Knabenchores', '6072600': 'Ohmondieusalva', '6073400': 'William Ditcham', '6074000': 'Tony Sandler And Ralph Young', '6074200': \"John O'Hara (10)\", '6075100': 'Margot Kurtz', '6076000': 'Torres De Lara', '6076200': 'The Lidos (3)', '6076700': 'The Gallant Men (2)', '6077000': 'Ksanagi', '6077400': 'Art Carroll And His Band', '6077500': 'Dr. Ian Paisley', '6077700': 'Εσωστρεφής', '6078000': 'Wind and Percussion Ensemble of the Leningrad Philharmonic Orchestra', '6078100': 'Kapelle Bärner Gruess', '6078300': 'אבי יקיר', '6079300': 'StonedTroopers', '6079400': 'The Three Happy Darkies', '6081200': 'Coal Car Caboose', '6082300': 'Vijay Mehta', '6082800': 'Why Ducky?', '6083400': 'Lady Malonie', '6083600': 'J-Ok', '6083800': 'Colourblind (4)', '6084300': 'Grand Orchestre Parisien', '6084600': 'Willis Williams (2)', '6085700': 'Mordicus (3)', '6086500': 'Thüla Duus', '6086600': 'Isle Of Wight Youth Concert Band', '6086700': 'Charite Viken Reinas', '6087300': 'The Red State Ramblers', '6088800': 'Primal Darkness', '6088900': 'Огурец Некрофил', '6089200': 'Eliz Camacho', '6089500': 'Vonu', '6089600': 'Dimness (2)', '6089900': 'Anthony.B', '6090200': 'Mike Dubb (2)', '6090500': 'Worship For Kids', '6090900': 'The Columbia Praise Fellowship Choir', '6091200': 'Tim Watson (7)', '6091400': 'Gil Martin (2)', '6091600': 'Cold Cranking Amps', '6092000': 'Marcello Zivi E Il Suo Complesso', '6092100': 'Tuna Del Distrito De Aragon', '6092400': 'Племя', '6092700': 'Dead March', '6093000': 'Mon Heli', '6093800': 'Fredy Scheim mit Orchester', '6094000': 'Evangelos Apostolou', '6094200': 'Howard Sinclair (3)', '6094400': 'The Poppy Seeds', '6094600': 'Jabba (20)', '6094700': 'Below Zero (8)', '6094800': 'Josef Ackermann', '6094900': 'Lola Dubini', '6095400': 'War Machine (11)', '6095900': 'Holokaust Kommändo', '6096100': 'Hill Brothers (2)', '6096200': 'The John Martyn Band', '6096300': 'D-Boi (2)', '6096400': 'Kenny Muney', '6096900': 'December (10)', '6097700': 'Britten (2)', '6098300': 'Lingua Funqa', '6098400': 'The Ensenadas', '6098600': 'Isaac Elejalde', '6099100': 'Else Wolff', '6099500': 'Zero Theorem (2)', '6099900': '!Die WAhRE Kunst¡', '6100000': 'Ralph Newton', '6100300': 'The Band (25)', '6100400': 'The Funk Invaders', '6100600': 'Abiola Le Consul', '6100700': 'Midnite (10)', '6100800': 'Anna Liza Risse', '6101500': 'Mario Papa', '6101600': 'Phil Cohen (6)', '6101800': 'Tara (54)', '6102200': 'Materia Prima (9)', '6102500': 'Debonair (13)', '6102600': \"The Cloud I'm Under\", '6102900': 'Jim Ratz', '6103500': 'Eyre Llew', '6103700': 'Captain Futuro', '6104400': 'Norte & Navarro', '6104500': 'Mrs. Wanner', '6104900': 'James Arthur (5)', '6105000': 'DJ Maqs', '6105100': 'Ahamon Fo Gayda', '6105400': 'Hobo Obituaries', '6105500': 'Wayne (Jonah) Jones', '6106600': 'Royal College Of Music Orchestra', '6107000': 'Milt Bernhart And His Octet', '6107400': 'Lifeless Gaze', '6107700': 'Jareb34r', '6108100': 'Lyn Paul Junction', '6108600': 'Ran-ja', '6108700': 'Asheville Symphony Orchestra', '6109000': 'Auric (4)', '6109500': 'Attraction Theory', '6109700': 'Tim Hardin Trio', '6109900': 'Tony Ducháček & Garage', '6110200': 'DD MOTO', '6110500': 'Kevin Kip Setchko', '6110600': 'DJ Jun (4)', '6110800': 'Guangdong Traditional Hard String Ensemble', '6111400': 'Notorious B (2)', '6111700': 'Ring Of Fire Family', '6111800': 'Misato Hayashi', '6112700': 'John Gabriel (6)', '6112900': 'Эстрадный Ансамбль П/У Ф. Алиева', '6113100': 'Jonny Benavidez', '6113700': 'Groupe Choral Fribourgeois', '6114300': 'Côr Llansilin', '6115000': 'Radio Red', '6115100': 'Les Frangins (3)', '6115700': 'Pat And Barbara', '6115900': 'Laurent Bouchet', '6117400': 'Ditch Raymond', '6118000': 'Changua Tumour Ayatollah', '6118700': 'Marja-Liisa Viinikainen', '6119300': 'Frank Woeste Trio', '6119500': 'Redie Johnson', '6119700': 'Karl August Förster', '6120500': 'Benito Antonio Martínez Ocasio', '6120800': 'Inzest (5)', '6121400': 'Joan Jeffries', '6121500': 'Blk.Mnk', '6122000': 'Gravit-E', '6123100': 'Maryline Moine', '6123200': 'Agnetha Boström', '6124000': 'John Changle', '6124600': 'Was Deferenz', '6124800': 'Linda Freeman Lozano', '6125700': 'Cinzia Piantadosi', '6127100': 'Cho Jung Hyun', '6127400': 'Trucks (3)', '6127700': 'ReTTriger', '6127900': 'The Soul Kings (4)', '6128300': 'Giusy Ranieri', '6128500': 'Greg Bowman', '6128900': 'Øystein Østerhus', '6129300': '林檎', '6130500': 'Bark (6)', '6130600': 'Americas', '6131400': 'Felton Jarvis And The Fel-Tones', '6131700': 'Kim (183)', '6132100': 'Kolmiotaajuus', '6132200': 'Al Stefano And His Latin Group', '6132300': 'Eine Chorgruppe Und Instrumentalisten Der Gebietsmission Rhein Und Ruhr', '6132500': 'Salamon Kamp', '6133200': 'Семен Васильевич Семенов', '6133900': 'Lina Neri', '6134000': 'Nottingham Clarion Choir', '6135000': 'Lariettes', '6135100': 'Palace of oranges', '6135300': 'Carrols Mood', '6135600': '四月隠者', '6135900': 'Falling Apart (4)', '6136300': 'Los Nuevos Sabrosos', '6136700': 'The Dust Coda', '6137200': 'Danny Peppermint & The Jumping Jacks', '6137300': 'Kaptein Ogli', '6137400': 'Negatiiviset Nuoret', '6137700': 'jmmy/hmmy', '6138100': 'Κική Γρυπάρη', '6138800': 'Charleen Hamilton', '6139500': 'Natalie James (3)', '6140000': 'Pryncess Danesha Sparks', '6140500': 'The Mud Suns', '6140600': 'Ensemble Musagète', '6141100': 'Joseph Cheetham', '6141300': 'Hortensia Galvez', '6141600': 'Jacki McCarty', '6142100': 'Fred Bailey (2)', '6142300': 'Doped Nomad', '6142800': 'Pradeep Roy Chowdhury', '6143100': 'أحمد الزياني', '6143200': 'Galactic Beans', '6144400': 'Rhian Lois', '6145600': 'Nuklear Devastation', '6146300': 'Michael Klemm', '6146500': 'Stefan Heibach', '6147000': '何鬆發', '6147100': '花珮嵐', '6147600': 'Jämshögs Hembygds- Och Kyrkokör', '6147700': 'Mhuri Yekwa Makonese', '6148100': 'M.A.D. (45)', '6148400': 'Ta-Ra', '6148600': 'Hyperomm', '6148700': 'Gospel Six Of Gadsden, SC', '6149000': 'Dustin Trujillo', '6149300': 'Orion (98)', '6149600': 'Meanbomb', '6149900': 'Derty Dan', '6150400': 'Carol Reid', '6150700': 'Don Ricardo (4)', '6150800': 'Senators (2)', '6150900': 'Sïnteze', '6151000': 'Λεόντιος Μαχαίρας', '6151900': 'The Sparks (12)', '6152600': '松岡一美', '6152700': 'サウンド・ボックス', '6153800': 'Pagan Darkwoods', '6154200': 'Sonny Caine', '6154900': 'Sammie Relford And The Avengers Of Soul', '6155300': 'Newmen Thompson', '6155400': 'Töria', '6155800': 'Nova (98)', '6157200': 'Grupo O Passos No Choro', '6157900': 'Chico (82)', '6158100': 'Kerberos (15)', '6158600': 'Shimmer (17)', '6158700': 'Masha Dabelka', '6159100': 'Wolfat', '6159600': 'Jake Kobberdahl', '6159900': 'Pietro Cimini', '6160400': 'Luca Piermattei', '6160500': 'Darrell Woodward', '6160800': 'Betsy MacDonald', '6162900': 'Young World (6)', '6163000': 'Gaetano Luporini', '6163100': 'wd_shae', '6163600': 'James Kidd (2)', '6164100': 'V-WAVE', '6164400': 'Tooz Again', '6164500': 'SOG (8)', '6165600': 'Abraham Leibovitz', '6165800': 'Mary Krstic', '6166000': 'Risto Sojakka', '6166800': 'DJ Minoyama', '6167200': 'Stoney LaRue And The Organic Boogie Band', '6167500': 'Charles Michaud (2)', '6167600': 'Комилжон Хамроқулов', '6167900': 'Pelusa (2)', '6168000': 'Lene Elise Bergum', '6168300': 'James Riley (9)', '6168600': 'Northeastern State University Jazz Ensemble', '6170100': 'Groupe Palama', '6170400': 'Marián Kováčik', '6170800': 'Luis Rebaza', '6171100': 'נדב הולנדר', '6171300': '@Anno_MC', '6171500': 'Vein Rays', '6171600': '13wyde', '6172500': \"De Marjanca's\", '6173200': 'Lily.', '6173700': 'Grupo Etnográfico Da Areosa', '6173800': 'Bob Sir Merenge & His Igbo Cultural Singers Uli Anamura State Of (Nig)', '6174500': 'The Kickers (3)', '6174800': 'Sqwish', '6175000': 'Dino & Franco Piana Quintet', '6175600': 'Real Life Action', '6175700': '大塚竜男とパーム・セレナーダス', '6175900': 'Pyres Of The Oregonian', '6176100': 'Fernando Mendes (4)', '6176300': 'Gina Maher', '6176400': 'Agora-Phubi', '6176600': 'The Ratrod Cats', '6176800': 'Diggs Brown', '6177400': 'Groupe Mostla', '6177700': 'Peter Hirschberg', '6177900': 'Cola Splash', '6178200': 'El Tully del Naranjo Viejo', '6178800': 'Jared Marston', '6178900': 'Джаз-Оркестр П Р В. Коралли И К. Шульженко', '6179800': 'Lonnie Dee', '6179900': 'Ss. Paul & Augustine Gospel Choir', '6180800': 'Billy Jack Collard', '6181000': 'Absolutt Artister', '6181500': 'Fábio Shiro Monteiro', '6181800': 'Price Browne', '6182000': 'DeLaVega (4)', '6182600': 'Walter Ward & The Challengers', '6183000': 'Donny G', '6183200': '中國人民解放軍西南軍區文藝代表隊', '6183300': 'Happy Pretty Sisters', '6183800': 'Stan Suire', '6184400': 'Band She', '6185100': 'El Rumy', '6185400': 'Lysa Rytting', '6185700': 'Matt Proud', '6186100': 'Концертный оркестр музыкальной школы № 1 Баренцева региона', '6186500': 'Jörgen \"Stoffe\" Stålhammar', '6186800': 'GHSTLY XXVII', '6186900': 'Armel Lecavalier', '6187000': 'Wöd', '6187500': 'Alzen Family', '6188300': 'Dirt Duo', '6188600': 'Organ Residue', '6188700': 'Angela Denning', '6189100': 'Johnny Awesome', '6189200': 'Sha (21)', '6189400': '波澜童话', '6190700': 'Caoimhín', '6190800': 'Rich (108)', '6191200': 'Jalowitz and Snider The Polka Kings', '6191800': 'Grillo Villegas', '6192200': 'Christopher Mahy', '6192600': 'Frankie Angel', '6193500': 'Son Pana', '6193700': 'Los Papyrus', '6194100': 'Pine Beetle', '6194400': 'John Lindenau', '6194500': 'Dylan Baker', '6194900': 'His Season', '6196000': 'Sucka Brown', '6196500': 'Paola Savvidou', '6196900': 'Maia & The Big Sky', '6197100': 'Nicolas Engel', '6197700': 'Hiropon (2)', '6199300': 'João Estrella', '6199400': 'PPFC', '6200300': 'Full Tilt (4)', '6200500': 'Afro-Antillais Dance', '6201000': 'Matti Rajantie', '6201700': 'Saxovhonik Quartett', '6202600': 'Hot Jazz', '6203400': 'Wikidill', '6204800': 'Štefan Urbánek', '6204900': 'A Virtual Friend', '6205300': 'Hydro (28)', '6205500': 'H.A.R.R.Y.', '6206300': 'Glenn Smith (14)', '6206400': 'Woodpile (2)', '6207200': 'Chuck Hedges Quartet', '6207300': 'Geenerall', '6207800': 'अल्लाह जिलई बाई-बीकानेर', '6208000': '윤용균', '6208200': 'Spinning Dee-Dee', '6208300': 'Laurent Grognet', '6208500': 'Tony Cracker', '6208800': 'Moderatjävel', '6209100': 'Bill Powell (6)', '6209600': 'The Sterling Brothers', '6210200': 'Konglomerate', '6210300': 'Het Stedelijk Helmonds Concertkoor', '6210400': 'Jontez', '6210500': 'OmegaStronzo', '6210600': 'County High School, Redditch', '6210700': 'Colonne Symphony Orchestra Of Paris', '6210900': 'Poder Latino In Da House', '6211200': 'Messias Elétrico', '6211400': 'Kikuo Muramatsu', '6211600': 'Niños Cantores De La Ciudad De Mexico', '6212200': 'Cyber Fiber', '6212900': 'Carly Goodwin', '6213100': 'Haleraza Carbone', '6213200': 'Billy Butler (8)', '6214100': 'minimoEnsemble', '6214200': 'Asylum 8', '6214300': 'Victor Andrada', '6214700': 'Tara Greenblatt', '6215200': 'Olive Reece', '6215300': 'Christine MacIsaac', '6215900': 'Martin Mellem', '6216300': 'Lord Of Darkness (2)', '6216600': 'Sculpting Atrocity', '6216900': 'Team Mirai', '6217100': 'N3 The #3', '6217300': 'AlterC☣re', '6217600': 'JanJaap Snellen', '6218500': 'Arkangeles', '6219500': 'Tim Prince (3)', '6219800': \"D'Singvreneli\", '6220400': 'Charlie Hines (2)', '6220700': 'New Dreams', '6221000': 'Estordelia', '6221100': 'ts foss', '6221300': 'Traces To Nowhere', '6221700': 'Jake Hanker', '6222000': 'Απόστολος Κίτσος', '6222200': 'The 1977 St. Marks Stage Band', '6222400': 'Johnny R (3)', '6222500': 'Jeannie And Steppinstone / Harvey', '6224700': 'Baby Ceo', '6225000': 'Scryre', '6225200': 'Class Suicide', '6225600': 'Toon en de Tontjes', '6226200': 'Vernie Riley', '6226300': 'John Martin Harvie', '6226600': 'Legacy (86)', '6227000': 'B.F.E.', '6227300': 'Creed (14)', '6227400': 'Revelation Ensemble', '6227500': 'Krajcsó Bence', '6227700': 'Jodlergruppe Bärgbure', '6228400': 'Ticamaya', '6228500': 'Soumitra Lahiri', '6228700': 'Young Swiss', '6228800': 'Barbe-Rousse', '6228900': 'Nervovago', '6229000': 'dR0ne', '6229500': 'Tony Terror', '6229900': 'The Way Rhythm Group', '6230200': 'Zach Swanson', '6230300': 'E.S.D.V', '6230400': 'The Stand-Ins', '6230800': 'Will Schaefer Band', '6231100': 'Kern Pratt', '6231200': 'Higinsoni', '6231600': 'Gustavo Casenave', '6232000': 'Beat On Rotten Woods', '6232300': '2 + 1', '6232400': '愛京子', '6233300': 'Bernice Wayne', '6234300': '2HP (3)', '6234900': 'gímaldin', '6235000': 'Barrett Crake', '6235400': 'Otkud Je Ovo Izašlo Van', '6235800': 'Lola Aviva', '6236300': 'Squalid (3)', '6237200': 'Litewhiz', '6237300': 'Adam Tvrdý Trio', '6237500': 'Flabby Chin', '6238000': 'The Road Sodas', '6238300': 'Emilija Slavkovska', '6238600': 'Nommo Hunzuu', '6238800': 'Meryem Aboulouafa', '6239000': 'O.T.R. Squad', '6239500': 'Moreno (33)', '6240200': 'The Electric Tailgate Band', '6242400': 'L C R', '6242800': 'Pope Quiet The LoudMouth', '6242900': 'No Face (12)', '6243200': 'Joe Dawson', '6243900': 'TV ME', '6246000': 'Rufus Black', '6246400': 'Sturmabteilung (2)', '6248400': 'Dario Jagrić', '6248600': 'Cottus', '6249000': 'The Chamber Singers', '6249600': 'Grief (14)', '6251400': 'Expense', '6251600': 'Toxocara Canis', '6251700': 'Eclipse Quartet', '6251800': 'Council Daimonion', '6251900': 'Adolph & The Entertainers', '6253100': 'Claudia (86)', '6253300': \"Cees Slinger's Buddies In Soul\", '6253400': 'The Prez', '6254100': 'Beto Prieto', '6254500': '100 Rumo', '6254600': 'Ese Okorodudu', '6254700': 'Dulce (10)', '6255500': '黃妙君', '6255700': 'Erkki Väänänen', '6256000': 'Fabio Vanore', '6256100': \"Henry Sibley High School Boy's Barbershop Chorus\", '6256200': 'Gravity 44', '6257200': \"D'Eva's\", '6257500': 'Louis B. Seltzer', '6258200': '人間検定193級', '6258600': 'Harold Boyer', '6259000': 'Eva Németh', '6259500': 'Ulysses (35)', '6260200': 'Dabas Koncertzāle', '6260600': 'Carine Lacor', '6261400': 'Tim And The Glory Boys', '6261900': 'Lenka Filipová-Kudelová', '6262200': 'Choir 13', '6262300': 'Norma King (2)', '6262400': 'Chivirico Davila Y Su Combo', '6262700': 'Gyuri (3)', '6263600': 'Jack Maniak', '6264100': 'Canti B', '6264800': 'Ecstasy (11)', '6265000': 'Lester Grovington', '6265400': 'Morghen E I Suoi Pirati', '6265500': 'Hämyreggah', '6265700': 'Jorge Lueyza', '6266100': 'Сергей Стрельцов (2)', '6266400': 'The M & N Gospel Singers', '6266600': \"Tania D'Althann\", '6266700': 'Jadir Ambrósio', '6266800': 'White Label (10)', '6267100': 'Skinwalker (4)', '6267900': 'The Alt', '6268300': 'New Hermitage', '6268500': 'Larry Shields (4)', '6269400': 'Mantle (3)', '6269500': 'Ian Moone', '6269600': 'Russ Vestee & The Downbeats', '6269800': 'Zi-Pang', '6269900': 'roy jaggan', '6270100': 'Trio Samara', '6270200': 'Sidorof', '6271100': 'Of Burning Empires', '6271900': 'Tambouren Inf RS 206/96', '6272500': '¥U.GO', '6272600': 'AM/PM (5)', '6272700': \"It's Me: Ross\", '6273100': 'Susan Gray (2)', '6273200': 'Hat-trick (6)', '6273600': 'The Studiofonics', '6273800': 'Damian Yonge', '6274000': 'MR.MNT', '6274100': 'Cor Plant Ysgol Caetop', '6274600': 'Hedwiger', '6275000': 'Inflammare', '6275100': 'Ganja Boys Clique', '6276300': 'Yoneko', '6276400': 'DUTaO David', '6276500': 'Robert Olsson (2)', '6277000': \"The Choir Of St. Mary's Music School\", '6277200': 'Dennis Trillo', '6277300': 'Ken Bott', '6277600': '許先', '6278100': 'Arin Wolayan', '6278200': 'Xavier Stubbe', '6278300': 'The Oath (5)', '6278600': 'Hamburger Streichquartett', '6278800': 'Jurchen', '6279000': 'Border Crossing (2)', '6279100': 'Jesper Zeuthen PLUS', '6279400': 'Jack Hellier And His Band', '6280700': 'Prince Dubb I', '6281900': 'Astrid Haven', '6282300': 'Dog Chasing Sun', '6283000': 'Mansur Scott Harlem Quartet', '6283900': 'Monace', '6284100': 'Kormelo', '6284700': 'Los De Arriba', '6284900': 'Repeat Offender (3)', '6285500': 'Sångare från M/S Elida', '6285700': 'Premium Stuff', '6286000': 'The Bobby Worth Music Hall', '6286500': 'Robert Delaney (3)', '6286600': 'Lea Jaffe', '6287700': 'H. Craft', '6288000': 'Goodgrief Commune', '6289300': 'Andi Krampute', '6289400': 'DJ Ilzlow', '6289600': 'Sophie Legg', '6290100': 'The 4 Waltons', '6290200': 'Lizardsun', '6290300': 'Pifia', '6290400': 'صالح مدني', '6290800': 'Memeshift', '6291300': 'Antonio Jandro', '6291900': 'Le Monde Est En Flammes', '6292200': 'لشهب العبدي', '6293400': 'Joey McNitt', '6293800': 'Raimonds Pauls Trio', '6294300': 'Vaughan Penn', '6294400': 'Martin Ambrose', '6294500': 'Gonzalla', '6294600': 'Coronel Ludrú', '6295800': 'Jeanette Gorham', '6295900': 'Tribal Live', '6296200': 'No Room For The Living', '6296600': 'Caddy Cooper', '6297100': 'Spielleyt Ragnaroek', '6297200': 'Shakshuka Trio', '6298400': 'Swiss Guards', '6299200': 'George Meletiou', '6300800': 'Joe Brotto', '6301400': 'Mirna (5)', '6301600': 'Soldatenkoor Paraat', '6302200': 'Hurdi Gurdi', '6302400': 'The Friars & Sisters Ensemble Performs', '6303000': 'Eirik Søfteland', '6303200': 'Donnie Charles', '6303300': 'Jaromil', '6304500': 'Mickey Lamantia', '6304700': 'Thomas Gunn', '6304900': \"Luigi Ranghino's Trio\", '6305100': 'Öhrli-Musig', '6305500': 'Alastair Artingstall', '6305600': 'Krist Anderson', '6305900': 'Beyond Gods & Empires', '6306200': 'Wayne Diebold', '6306800': 'Ghetto Made', '6307100': 'ColorJaxx', '6307500': 'Mondos', '6308100': 'Next To Nothing (7)', '6308700': 'Andreas Homoki', '6308800': 'Garf (8)', '6309000': 'Malamanera (2)', '6309300': '3 Of A Kind (5)', '6309600': \"Marcelo O'Reilly\", '6310600': '이동범', '6311300': 'Avigeya', '6311500': 'Michael Svaninger', '6311700': 'Vern Kasten', '6312000': '2x4 WMBD', '6312100': 'Jean-Yves Monier', '6312600': 'La Banda Colorada (The Red Band)', '6313000': 'Roger Horton', '6313100': 'José Augusto (7)', '6313200': 'Among The Mortals', '6313300': 'John Robert Dunlap', '6314100': 'Alex Whiteout', '6314900': 'J. Van Noten', '6315400': 'Seaduskuulekus', '6315800': 'Коротышка', '6316300': 'The League Of Mentalmen', '6316700': 'José Gonzales (6)', '6318500': 'Fiervilla', '6318800': 'Joe Beets & The Psyclones', '6319000': 'Princess Ziona', '6319200': 'Filth (14)', '6319600': 'Gone By Dawn', '6319800': 'Enrique Kb', '6320100': 'Mastiff (4)', '6320300': 'DJ Sadman', '6320400': 'Clarence Sims (2)', '6320600': 'Jafeth Isiaho', '6320700': 'Jerry K Gustafsson & Scaffell Pike', '6321300': 'Lotes', '6321800': 'Mika Stoltzman', '6323100': 'HAIQEEM', '6323300': 'Once Upon A Winter', '6323600': 'Core S.A.I.R. Graphics', '6323800': 'Thomas Pie Mobley', '6324200': 'No Stories', '6324700': 'Johnny Collier (2)', '6324900': 'Forget Basement', '6325200': 'Anja Röhn', '6326000': 'paul nitrous', '6326300': 'Trio Max + Moritz', '6326600': 'John Simon (5)', '6326700': 'Ivan Trojan (2)', '6326800': 'Feinherb Nuss', '6327500': 'Hug Knife Studios', '6328000': 'Eburon Quintet', '6328100': 'At The Sun', '6328300': 'Orkiestra Ludowa Pod Dyrekcja Jana Gniotowskiego', '6328600': 'Serge Michael', '6330000': 'Dansar Edvard Jonsson', '6330300': 'Frágil (3)', '6330500': 'Oli Gosh', '6330900': 'Julio Klinger R', '6331000': 'The Harding Academy', '6331700': 'Jean Beatz', '6331800': 'Famas unidas', '6332100': 'Matteo Brigatti', '6332200': 'Taranto 4tet', '6332700': 'The Remnants (11)', '6333000': 'Widows And Crows', '6333600': 'Hector Lama', '6333700': 'Kjaereste', '6333800': 'The Lollipops (12)', '6334000': 'Modiwo', '6334200': 'Un-Fadable', '6334300': 'Divix $', '6334400': 'Syndia (2)', '6335300': 'Anthony Mockus', '6335800': 'Volker Rabus', '6336300': 'The Shangri Lips', '6336600': 'Pencil Dick', '6337100': 'Vincent Stephen-Ong', '6337200': 'Luiza Caspary', '6337700': 'Fricsvel', '6338300': 'No Escaping Gravity', '6338500': 'Fear Within', '6338800': 'Gee Baby I Love You', '6339000': 'The Batts', '6339700': 'Mother Banjo', '6340900': 'Béatrice Van Hees', '6341000': 'Tatyana Ryzhkova', '6341400': 'Jose Luis Delgado (2)', '6341500': 'Los Bitters', '6342300': 'Abstract Silhouette', '6342500': 'Uwe Kasten', '6343300': 'Border Line (4)', '6343700': 'Max S (2)', '6344200': 'The Element Tree', '6344500': 'Sibyl Sanderson Fagan Ensemble', '6344900': 'Pachi Y Pablo', '6345600': 'Nights Blood (2)', '6345800': '[+.]', '6346000': 'Kotaro Tsukahara Trio', '6346700': 'DJ Mine (2)', '6347000': 'Елена Шишко', '6348100': 'BergU', '6348500': 'Adam Martin (13)', '6349300': 'Ντε Λούκα', '6349400': 'The Mar-Vels (5)', '6350300': 'Hell0', '6350600': 'The Festival Band', '6350800': 'ካሕሳይ በርሀ', '6351300': 'A Cemetery Of Trees', '6351700': 'Chill Out (5)', '6351900': 'Moes D.S.', '6352000': 'Orkes Melayu Omega', '6352100': 'Septic Noise Grinder', '6352200': 'Emilie Skog', '6352800': 'babi klopoti', '6352900': 'Hamid Grandi And The Seven Quartet', '6353200': 'Jeri (4)', '6353500': 'Insanity (25)', '6354100': 'The Bubbles (7)', '6354400': 'Doukhobors', '6355000': 'Сардарбек Жумалиевдин', '6355800': 'The Clerks (4)', '6355900': 'Maritza Nieves', '6356000': 'JOLLY ROX', '6356500': 'Unblessed Force', '6356900': 'Domonkos István', '6357300': 'Rober Del Pyro', '6357400': 'Seda Bakan', '6357500': 'The Twisters (17)', '6357700': 'Tara Islas', '6358000': 'The Contenders (13)', '6358400': 'Creole Soul Brothers', '6358500': 'Kill Athena', '6358700': 'Alive (14)', '6358800': 'Dana Gehrman', '6358900': 'Syringe (10)', '6359400': 'Trilitrate', '6359500': 'מכי הרב שלום שוארץ', '6360500': 'Miss Rayon', '6360600': 'Euralma 95 Orchestra', '6360900': 'Peter Nash (6)', '6361100': 'David Beal (2)', '6361200': \"The Gates Of Heaven Children's Choir\", '6361800': 'Dub Soldier', '6362300': 'Halleru', '6362500': 'Space Rangers (4)', '6362600': 'Jeff Hino', '6362700': 'Pleasurepig', '6362800': 'Eric Franks Kvartett', '6362900': 'De Houteldonkjes', '6363400': 'Dixieland Band', '6363700': 'Les Cool Cats', '6363900': 'Raíz (2)', '6364500': 'Filadelfiaförsamlingens i Stockholm Strängmusik', '6364600': 'Sanjar', '6364800': 'Commando XYZ', '6365100': 'TE#RA', '6365300': 'Tony Marshall (12)', '6365500': 'Margaret Mills (2)', '6365700': 'Gwen Reynolds', '6366200': 'Strainge Rain', '6366300': 'J.E.B. Stuart High School', '6367100': 'Das Pucher-Trio', '6367200': 'Unifono', '6367300': 'Eclipse (118)', '6367700': 'Carlos Bonett Mendoza', '6368800': 'Rikske katoen', '6369100': 'Nana Bang!', '6369300': 'The Variables (2)', '6369800': 'Tracey McLiechey', '6369900': 'Express (22)', '6370100': 'La Tribu (12)', '6370300': 'Orga (4)', '6370400': 'Eazy Vice', '6370500': 'Deanna Kimball', '6372200': 'Soulbender (2)', '6372600': 'Aysel Gür', '6374500': 'Borlänge Strängmusikkår', '6374600': 'DBM (6)', '6374700': 'Monk (32)', '6374800': 'Polkatrash', '6375100': 'Ron Bourdages', '6375200': 'Voland Quartet', '6375300': 'Antoine Vereecken', '6375600': 'Ferdy And \"The Dandies\"', '6375900': 'Therapy (15)', '6376000': 'Green & Stagg', '6376100': 'Povels Naturbarn', '6376200': 'Furia Norteño', '6376600': 'Chris Tishler', '6376800': 'The Valley Hoedowners', '6376900': 'Rusty Nail (6)', '6377400': 'Re-Voke', '6377600': 'Alessio Sangregorio', '6378500': 'Malorchestra', '6378600': 'Rika Tatsumi (2)', '6379100': 'Deported Women Of The SS Special Section', '6379200': 'Yun (5)', '6379400': 'The Broadway Stars (3)', '6380000': 'The 3am Context', '6380200': 'Dysuria (2)', '6380600': 'Jody McCauley', '6380800': 'Bronze (11)', '6381700': 'Emmanuel Nicolas', '6382000': 'Jean Claire Y Su Orquesta', '6382100': 'Old Generation (2)', '6382300': 'Ilona (22)', '6383100': 'Isaldo Silva', '6383800': 'K.G.B (13)', '6384000': 'GRAND EMPEROR', '6385400': 'Airy Textile', '6385600': 'Paul Esch', '6385900': 'Silke (18)', '6386200': 'Het Radio Noordzeeteam', '6387500': 'Michael Stosic', '6387600': 'Mortal Man', '6388900': 'Vivian Duke', '6389500': 'Paul Allan (4)', '6390100': 'Black Sunfire', '6390200': 'Gabriel Santini (2)', '6392200': 'Thibault Duborq', '6392900': 'Stefano Micheletti', '6393400': 'The Charles B. Curtis Trio', '6393700': 'Foundation Affiliates', '6394900': 'Yeelen (2)', '6395000': 'Sølvi Hansen', '6395300': 'Rev. Gus Hill and the Hill Coral Ensemble', '6395600': 'Jean-Louis Stenuit', '6395900': 'Crabs (6)', '6396000': 'SeelenWalzer', '6397700': 'Viva le Pink', '6397800': 'Skövlarsyntharen', '6399300': 'Steve Wilcox (4)', '6399600': 'Lisa Doll & The Rock N Roll Romance', '6399700': 'Raymond Mousset', '6400100': '芳村金五郎', '6400500': 'สุริยา ชินพันธ์', '6400600': 'Süddeutsche Symphonikern', '6400800': 'The Trinity Choir', '6401000': 'Dexed', '6401100': 'Dimension 2000', '6401200': 'Leni Van Der Hagen', '6401300': 'Western Gentlemen', '6401800': 'bubugirls', '6402100': 'Sid GM', '6402300': 'Epicentre (10)', '6402400': 'Aldor (3)', '6402600': 'Kassandra Howes', '6403400': 'Dave Ramnaracce', '6404100': 'In Eterna', '6404200': 'Lost Psychotics', '6404300': 'The Crossroads (6)', '6404400': 'Purity (16)', '6404800': 'The Brass Buffs', '6405000': 'The Imperial Band (2)', '6405200': 'Gabriele Boggio Ferraris Quartet', '6405400': 'Not Beneath', '6405900': 'Marco Caetano', '6406000': '崗山', '6406200': 'DRES13', '6406300': 'The Ragtops', '6406500': 'Lou Feher', '6406600': 'Gürol Canbek', '6406700': 'Dalton Rapattoni', '6407100': 'God Save The Hell', '6407400': \"Jay Wilbur's Orchestra\", '6407500': 'John Beardsley', '6408900': 'Raul Marrero Con Los Profesionales', '6409100': 'Grupo Semente (2)', '6409600': 'Huitfeldt Gilmore', '6410200': 'De Profundis (8)', '6410500': 'Frank Bernard (2)', '6410600': 'Altared States', '6411000': 'Chorale Protestante Méthodiste Bethel Cotonou', '6411300': 'Isasi Quartet', '6411500': \"I'm Happiest When\", '6411700': 'Vangelis Christodoulou', '6412100': 'Santi Careta Grup', '6412500': 'The Pebbles (6)', '6413300': 'Undead (15)', '6413400': 'Jaxx (9)', '6413500': 'Sharps (5)', '6414400': 'Stack Skrilla', '6414900': 'Brent L. Godfrey', '6415200': 'Paul Maillet', '6415500': 'Armand Bruyndonckx', '6415600': 'Pipo Calderone', '6415800': 'Mario Carbone', '6416300': 'Gran Green', '6416600': 'Anitha Nystedt', '6418000': 'Ethno Service', '6418400': 'The Original No Smoking Jazz Band', '6418500': 'Crikka Amorim', '6418800': 'Jason Chapman (5)', '6419000': \"Flyin' Hi'\", '6419400': 'Vepkóç', '6420400': 'Esprit Philippe Chédeville', '6420600': 'Wilfred Demoz', '6420700': '(029)', '6420900': 'Corcovado Orchestra', '6421600': 'Lou Bogart', '6422100': 'Bob Ellis (8)', '6422400': 'בן פרנקו', '6422600': '\"Snub\" Mosely\\'s Band', '6423300': 'Walther Richter (4)', '6423700': 'Homen 73', '6423900': 'Marta Quintana', '6424000': 'Code Duello (2)', '6424100': 'Wuornos', '6424400': 'Pee Wee Wharton', '6425100': '甄鳳蕾', '6425400': 'Carpet Crawls', '6426000': 'Dialy Kounda', '6426100': 'Hagit Goldberg', '6426200': \"Puke N' Snot\", '6426400': 'Dmitri Kotenok', '6426900': 'a day remains', '6427000': 'Praiz', '6427400': 'Thomas M. DeFrank', '6427800': 'Eleanor Tomlinson', '6427900': 'Dark Heart (3)', '6428100': 'Becky Lee And The Drifters', '6428500': 'Nouzôte', '6428600': 'DJ Ryelie', '6428700': '大湾ユキ', '6430100': 'Slanted Clouds', '6430300': 'I. Hartman', '6430500': 'Meditoy', '6430600': 'Shyizm', '6430700': 'Zinga (3)', '6431000': 'Pure Fellows', '6431100': 'Gautam Mitra', '6431500': 'Karl Mombächer', '6431700': \"Liv'ert\", '6432100': 'Jannah Beth', '6432700': 'Jim Jacobs (5)', '6433600': 'Anthony Louis Scarmolin', '6434100': 'Einar Kristjánsson (2)', '6434300': 'Leslie Jaffae', '6435000': 'Ua-Ua', '6435100': 'Cold Flare', '6436000': 'Melba Pope', '6436300': 'We The Same', '6436500': 'Marymount And Bishop High Singers', '6437100': 'Carita Hellström', '6438100': 'Eric Stedtenfeldt', '6438200': 'Shades Of Time (4)', '6438500': 'Nigga Nine', '6438900': 'Devastating Daryl', '6439000': 'Bobbie Martin', '6439400': 'Haagse Hein En De Doeltrappers', '6440000': 'Johanna von Pfeife', '6440600': 'Aftermath (33)', '6441200': 'Paul Nataraj', '6441300': 'Monocrete', '6441500': 'Medilöme', '6441600': 'Mary-Go-Round (2)', '6441700': 'The Peanuts Hucko Septet', '6441800': 'Wes Paul', '6441900': 'Lewis Lucas', '6442000': 'Malcolm Doley', '6442100': 'Paul Daniel (8)', '6443100': 'Multiplayer Charity', '6443200': 'Los Llaneros De Nuevo Leon', '6443300': 'Oulun Sotaveteraanikuoro', '6443600': 'Lightpole', '6443800': 'Eva Prchlíková', '6443900': 'Blissed (6)', '6444100': 'Brad Cheeseman', '6444400': 'A. Ronald Sousa', '6444700': 'Grupo Alegria', '6444800': 'Koor Van De Roeselaerse Kunstconcerten', '6444900': 'Grindle', '6445400': 'Paul Leynadier', '6446700': 'Mitali Choudhary', '6446800': 'Βασίλης Βασιλείου', '6446900': 'Cheryl, Mike & Jay Formerly Of Bucks Fizz With Bobby McVay', '6447000': 'Ajar (4)', '6447500': 'Truth in Advertising', '6447900': '陶大偉', '6448300': 'NattyBwoy!', '6448400': 'Malcolm Mcnally', '6448500': 'Karl Van Welden', '6448900': 'Tonal Decease', '6449000': 'Pablo Perez (16)', '6449600': 'The Swing Club', '6450000': 'Alex Roy (2)', '6450100': 'Annie Mawson', '6450400': 'Gordon Beck Septet', '6450900': 'Theatra', '6451200': 'Kim Rin Yong', '6453100': 'Boy Cries Wolf (3)', '6453300': 'You Go', '6453600': 'AVOW91', '6455000': \"Singin' Sam (4)\", '6455100': 'Ingobernables', '6455200': 'Shun B', '6455300': 'Joseph Oelhaf', '6455600': 'Astromike Gordon', '6455800': 'Rick Brandeburg', '6456000': 'Stripe (8)', '6456500': 'White Trash Band', '6456900': 'Syncophonic Jazzband', '6457900': 'The Country Barons', '6458100': 'Thomas Tedesco Ensemble', '6458300': 'Klara Haase', '6458800': 'Locomarket', '6458900': 'Christopher Coe (2)', '6459600': 'The Gordons (5)', '6459800': 'Ghost Spell', '6460400': 'Cantemus-Kinshasa', '6460900': 'Le Son (2)', '6461000': '66 (3)', '6461300': 'Garre LaGrone', '6461700': 'Paul Stuart (5)', '6461900': 'ADK Sound Factory', '6462100': 'Iova', '6462400': 'Serendip (2)', '6462600': 'Christy Hays', '6463000': 'MC Stopcox', '6463100': 'Cadela De Frade', '6463200': 'Ricky Leigh', '6463800': 'Nocturnian', '6464000': 'Ahmed La Torre', '6464100': 'The Gathering (14)', '6464500': 'Clif Newton (3)', '6464700': 'Joe Holiday And His Band', '6464800': 'The Beat Assassinator', '6465700': 'Gregor von Rezzori', '6466000': 'Operatives', '6466200': 'Rasmus Blomqvist', '6467200': 'Steve Stevens Atomic Playboys', '6467300': 'Brother Norbert', '6468300': '凯莉米洛', '6468400': 'Franz Elshuber', '6468800': 'Mystique (30)', '6469100': 'Crave::', '6469700': 'WaveBndr', '6469800': 'Topchop', '6469900': 'Triplicity (3)', '6470000': 'The Noblemen (17)', '6470300': 'My Solace Lies', '6470400': '48 Godzin', '6470700': 'Jurki Z Basisti', '6471800': 'Matias Stradini', '6472000': 'Yuval Amihai', '6472200': 'Fattouma Blidia', '6472300': 'QFT', '6472700': 'Drew Franklin', '6472800': 'INTL FALLS', '6473100': 'Woodhull', '6473300': 'Finster (6)', '6473400': 'François Lelord', '6473900': 'The Glen Nevous Retraction', '6474000': 'Robbery Inc', '6474200': 'Los Mejores Huapangos Y Sones', '6474400': 'All Worked Up', '6474800': 'Dinamarca Buendía', '6475000': 'Scenic Burrows', '6475400': 'Point At Issue', '6475700': 'Milton Hide', '6475900': 'fictiveDS', '6476000': 'Willscape', '6476800': 'Boross Gyula', '6476900': 'Za Boyz', '6477400': 'Jean Duguay', '6477500': 'Rookies (3)', '6478100': 'Sabão', '6478200': 'Annihilist (2)', '6478300': 'Heavy Mental Band', '6478400': 'Hidden Valley Logging Company', '6478500': 'Twenty-One: Twenty-Four', '6478900': 'Simon St. Clair', '6479100': 'Chris Hart (12)', '6479200': 'Kosi (8)', '6479500': 'Ardent Fools', '6479600': 'Mercedes Ruffino', '6480000': 'Uno Gustin', '6480700': 'Nick Strangelove', '6481200': 'Vennström & Bugge', '6481300': 'Sinus Peak', '6481400': 'The Houseplants', '6481600': 'Ritka Magyar Folkband', '6481700': 'Yanira Figueroa', '6481900': 'Hiripsimé', '6482800': 'Xander Ace', '6483000': 'Konstantin Pesnya', '6483100': 'Toy Planets', '6483300': 'Matsuzava', '6483600': 'Ronnie Silver - And His Magic Trumpet', '6484300': 'Freddy Sax & Formule 4', '6484700': 'The Keynote Singers', '6484900': 'Cubs (5)', '6485100': 'Katman (3)', '6485200': 'The Heebie Jeebies (3)', '6485300': 'Sora (17)', '6485400': 'Günther Ambrosius', '6485600': 'Ursa Minor (5)', '6485700': 'Hans Boruchoff', '6487000': 'Lady Ray (2)', '6487200': 'Rather Be Alive', '6487400': 'Ooze (13)', '6487500': 'Chemin Y Orquesta', '6487800': 'Arms 2 Sky', '6488700': 'Mr. H. Doan', '6489300': 'The Good Guys (13)', '6490000': 'Raw Level', '6490100': 'Lechuck (2)', '6490700': 'Lasse Strömstedt', '6490900': 'Den Stora Flykten', '6491000': 'Leanne Clement', '6491100': 'Choir Of The Germantown Jewish Centre', '6491300': '3 Stripe Gangstaz', '6491600': 'Bat City Surfers', '6492400': 'First Presbyterian Church Choir, Atlanta', '6492800': 'Colette Columbirch (2)', '6494400': 'Toquelau', '6495300': 'Jóhanna Gunnarsdóttir', '6495400': 'Eddy De Groot', '6495500': 'Ryszard Kadłubiec', '6495600': 'Lucy Hallman Russell', '6496000': 'Appalooza', '6496300': 'Gerhard Faulstisch', '6496800': 'Γιάννης Τσιαμπάρης', '6497700': 'Tim Zukowski', '6497900': 'Colin Cooper (3)', '6498200': 'Matt Adam', '6498300': 'The Jivettes', '6498500': 'ธรรมนูญ ปุงคานนท์', '6499000': 'Soeliyah', '6499800': 'Mauro De Leonardo', '6500100': 'Dragon Roots', '6500500': 'I Mastri Fini', '6500700': 'FY1HUNNIT', '6500800': '久高仙子', '6501100': 'NikAdo Duo', '6501500': 'Justify All Means', '6502200': 'David Crowell (2)', '6502300': 'La Curva', '6502400': 'Dave Hudson (7)', '6503000': 'Agranulocytosis', '6503100': 'Eqwel', '6503600': 'Howard Flynn And His Orchestra', '6503800': 'Chuck Bob Carnes', '6505000': 'Kakaty', '6505300': 'The Spains', '6505700': 'Blue Dust (2)', '6505800': 'Two Left Hands (2)', '6506000': 'Demonic Compulsion', '6506800': 'Middlesex All-County Chorus', '6507500': 'Karen Rock', '6508100': 'Metempsicosis', '6508400': 'Daiviyah Jones', '6508800': 'Era Bleak', '6509200': 'قاسم النجار', '6509600': 'Chico. Velo y Pablito Pez', '6509700': 'Pool of Light', '6510200': 'John Reidar Holmes', '6510400': 'Orchester Hans Breuer', '6510500': 'Virulent (3)', '6510600': 'Nickolas Grabovsky', '6510700': 'Antonio Neves (2)', '6511300': 'Твоя Мертвая Мать', '6511600': 'Frecuencia (2)', '6511700': \"Hopscotch and the Tickled Fancy's\", '6512800': 'Electromen (2)', '6513400': 'The Knightsbridge Theatre Chorus', '6513900': 'Coro P.L. Da Palestrina Cerea Verona', '6514100': 'Balls Falls', '6514400': 'X Factor Finalisterne 2011', '6514500': 'Uncomfortable Dave', '6514900': 'Jump & Guy', '6515100': 'Li Jong Sul', '6515800': 'Kindon', '6516000': 'Griffin (25)', '6516300': 'Tristan Puig', '6517500': 'ptM (3)', '6517800': 'Sacristy Quartette', '6518000': 'Double Agents (4)', '6518700': \"la Chorale Et L'Orchestre Du Lycée Technique Mixte de Cherbourg\", '6519700': 'Victor Bergeron', '6519800': 'The Matter (3)', '6520200': 'Mac Gyver Must Die', '6520400': 'Fabrizio E Accademia', '6520500': 'The Propagandas', '6520700': 'Conjunto Edinho E Seus Brasinhas', '6521800': 'Fen (10)', '6522200': 'Brigitte Le Borgne', '6522400': 'Hi (5)', '6522500': 'Midnight Flyer (4)', '6522800': 'Cancer.WAVY', '6523200': 'Charlie Austen', '6523400': 'GlitterWølf', '6524400': 'Hawaii Shochiku Orchestra', '6524500': 'Romone', '6524900': 'The Skandia IV', '6525600': 'Jahwas', '6525700': 'Jon-E-B', '6526100': 'Sevim Işık', '6526200': 'Messkon', '6526800': 'Mads Hansen (5)', '6527500': 'Evil Plan', '6527800': 'Grass Child Gypsy', '6527900': 'Alucinari', '6528400': 'Monolith (45)', '6529000': 'The Ambassadors Of Love', '6529700': 'Lina Chiodo', '6530000': 'Milk And Honey (2)', '6530600': 'Gary Edwards (12)', '6530800': 'Sore Threat', '6531100': 'National Gospel Singers', '6531500': 'Les Marquis (4)', '6531900': 'Lea (30)', '6532100': 'COMPAGES', '6533300': 'Momo Asakura', '6533600': 'José Manuel Medina', '6533700': 'T.K.O. (8)', '6534200': 'Billy Neal (2)', '6534400': \"A Crocodile's Tear In The Rain\", '6534800': 'Synthetic You', '6534900': 'MNKYBSNSS', '6535200': 'Alexandra Zabala', '6535500': 'Jimmy Groovy And The Gramblers', '6535700': 'Tribute To Miles Orchestra', '6536300': 'Angelika Huber (2)', '6536500': 'Plastic Weather', '6537000': 'High Risk Factor', '6537800': 'CirceElectro', '6538200': 'Finetones, Inc.', '6538800': \"Plant Ysgolion Llanelli A'r Cylch\", '6539300': 'Skidt Hjerne', '6540000': 'SCRiBE The Verbalist', '6540200': 'ムーンライダース', '6540500': 'Ida Mongardi', '6541300': 'Long & Green', '6542000': 'Las Puperelles', '6542200': 'Mosocho Fire Band', '6542300': 'Αλέξανδρος Καμπουράκης', '6542600': 'VSOTB', '6542900': 'Aphlon', '6543800': 'Orchester Der Gebietskirche Sachsen-Thüringen', '6544000': 'Layla (26)', '6544200': 'Fran Urias', '6544300': 'The Dukes (34)', '6545800': 'Leprosy (9)', '6546100': 'Quinn Bachand', '6546200': 'Colm Fitzpatrick', '6546300': 'Clóves (3)', '6546400': 'Pitter', '6546600': 'Dalta', '6547900': 'The String Things', '6548200': 'Ackroyd', '6549800': 'Fernando Del Solar', '6549900': 'Louis-Vincent Hamel', '6550100': 'Maphia Inc.', '6550200': 'Skiando No Som', '6550300': \"The O'Mulligans\", '6550700': 'MUS FLAT', '6551000': 'Franki Alazar', '6551700': 'Peter Larsen (13)', '6552100': 'Lucide', '6552200': 'Alberto Terrani', '6552900': 'Dovzhenko', '6553000': 'White Wolf (7)', '6553100': 'Oscar De La Rosa & La Conga Orchestra', '6553200': 'Мария Белецкая', '6553500': 'Joon-Young', '6553900': 'Cymo', '6554000': 'Leary, Hazell, Saar', '6554300': 'John Burggraff', '6555200': 'Coral Universitário Da Fundação Universidade Regional De Blumenau', '6555500': 'Davida Lilienberg', '6555700': 'Institute For Creative Dying', '6556300': 'Toño Cavazos', '6556800': 'Prophän', '6556900': 'Shiv Charan Singh', '6557200': 'Mercy Mayorca', '6557600': 'Bruce Baxter Orchestra & Singers', '6557800': 'Psychobass', '6558200': 'Ray Sugar Tyson', '6558300': 'Siti Badriah', '6558600': 'William Rundle', '6559000': 'Ricardo Delgado (7)', '6559300': 'Che Crozz', '6559700': 'Voces de Sevilla', '6559800': 'Jana Ozoráková', '6559900': 'Arum (3)', '6560200': 'Miles (42)', '6560300': 'Joe Matzzie Beyond Belief', '6560900': 'Jim Tillman (3)', '6562600': 'larry stevens (6)', '6563100': 'Stina Myllys', '6563800': 'Hellevaerder', '6563900': 'ສີເຖືອກ ຄຳສິງ', '6564100': 'VN Veerankutty Musliyar', '6564800': 'Marco Noblesse', '6564900': 'Christoph Küderli', '6565100': 'Sth (6)', '6566000': 'Maria Consolata Quaglino', '6566700': 'Trio Hadorn Blas-Orchester Alpina', '6566900': 'Anqueeno', '6567500': 'Coldfire (2)', '6568100': 'Tensi Love', '6569300': 'The South Jersey Young Americans', '6570300': 'Shunita', '6570500': 'Huski Bear', '6570900': 'Sofia Wastesson', '6571000': 'Ненавист', '6571200': 'Los Vets', '6572100': 'Charles Norman Och Hans Coctailpiano', '6572300': 'Woxow', '6572500': 'Melodyact', '6572600': 'Tony Lyzer', '6572800': 'Rodrigo González (2)', '6573100': 'Rebecca Raimondi', '6573300': 'Anechoic (3)', '6574100': 'Nellyelson', '6574700': 'El Hombre Delgado', '6576200': 'Ilyés Imre-Printer Center', '6576600': 'Freak Of Noize', '6576700': 'J.W. Custer', '6577400': 'Combinacion Sonora', '6577500': 'Drake Clone', '6578000': 'Panic Idols', '6578400': 'T. Scott (6)', '6579100': 'John Tabacco And Meryl Mathews', '6579600': 'Fifteenth Scenery', '6579700': 'Ingrid van der Weegen', '6580000': 'Aristote Black et son Quartet', '6580200': 'We Have The Moon', '6580900': 'Gerardito Fernández', '6581000': 'Beeda Dance Orchestra', '6581200': 'Phase4Photography', '6581800': 'Dzieci Kropi', '6582500': 'J. Doc James', '6582700': 'Friends Of Mark Knopfler', '6583000': 'Robert Kaly', '6583200': 'Bobby Egan And His Orchestra', '6583400': 'Giovani Allo Sbando', '6583500': 'Mörmoo', '6583700': 'James Rudnick', '6584000': 'Orion(Rebirth)', '6584500': 'Prémices', '6585200': 'DIVMOND', '6585700': 'Neil Steele', '6585900': 'Won87', '6586900': 'Sweatty Betty', '6587100': 'The Ranch Girls (2)', '6587300': 'Lawn (2)', '6588000': 'Ariel (54)', '6588100': 'Musikschule Filderstadt', '6588700': 'Grupo Sinay', '6589000': 'The Antigonish Legion Pipe Band', '6589100': '2Yoon', '6589200': 'Pulin And The Little Mice', '6589900': 'Stone Demon', '6590000': 'Regel Sabres', '6590700': 'The Aeolian Light Orchestra', '6591200': '2000 Lincoln Navigator', '6591800': 'Dallas Roots Combo', '6592200': \"L'Unicorne\", '6592800': 'Christian Augusto Freire Brito', '6593200': 'Ony Soerjono', '6593300': 'Salomon Guilt', '6593500': 'R Jake Lennox', '6594000': 'Somethin Lethal', '6594100': 'Alexander Sypsomos', '6594600': 'The Atlantis Theorem', '6595000': '康淨淳', '6595100': 'Bob Bartmess', '6595200': 'Red Holt Trio', '6595600': 'The Midland-Odessa Symphony', '6596200': 'Sami Saari & Jazzpojat', '6596400': 'Good English', '6597500': 'Sharon Dale', '6598600': 'The Prince Karma', '6599500': 'J Lauda', '6599800': 'Graham Parker And The Twang Three', '6599900': 'Triple Gold Family', '6600000': 'Richie Cole Group', '6600400': 'Koila', '6600500': 'فرزین فرهادی', '6601000': 'Zunai Guardiola', '6601300': 'Animal Dads', '6602200': 'The Golden Silence', '6602400': 'IX・IX', '6602700': 'Solvent Minds', '6602800': 'Hans Dampf (5)', '6602900': 'The Symptoms (6)', '6603400': 'Mateusz Stryjecki (2)', '6603500': 'ຕ້ອຍ-ນ້ອຍ ຊານດຣາ', '6603600': 'Knieper-Trio', '6603700': 'Ferriswheeler', '6604000': 'Kabeção', '6605000': 'Seven (88)', '6605500': 'Lasershark', '6605600': 'Guilt (11)', '6606400': 'David Greene (10)', '6606500': 'Lee Gallo', '6606900': 'Moyra (2)', '6607400': 'The Resistance Band', '6607500': 'Jang Hyo Seok', '6608300': 'Mario & Nesty', '6609100': 'Схима', '6609200': 'Thomas L. Chavey', '6609500': 'Waire Faire', '6609700': 'Neuros Moonshiner', '6611400': 'Logic Alley', '6611700': 'Siscosis', '6612500': 'Free Judges', '6613200': 'Dirk Ehlert', '6613700': 'Bleeding Hammer', '6614500': 'Malignant Intent', '6614800': 'Elinor Parker', '6615100': 'Kvvv', '6615800': 'Ольга Каррера', '6616100': 'Jarvus', '6616500': 'The Attributes', '6616800': 'Kee Avil', '6617300': 'Hipo.Tollema', '6617400': 'Délos (5)', '6617500': 'Serious-L', '6618400': 'Roaring Rampage', '6618700': 'Andrew Black (10)', '6618900': 'Rudi Und Edi', '6619000': 'Fauxbois', '6619200': 'Гена', '6619300': 'Grupo Cantares Da Serra De São Martinho Das Amoreiras', '6619700': 'Mai Fukui', '6620100': 'Lilu (5)', '6620200': 'Exostreak', '6620300': 'Upstate Rubbish', '6620500': 'Rishell Dance Orchestra', '6621000': 'Indira Misra', '6622500': 'Dialectic (3)', '6622600': 'Carnaval Disco Banda', '6623300': 'Engraved Darkness', '6623500': 'Ryan M. Brewer', '6624100': 'The Bayly Frequency', '6624400': 'Lord Devonshire & The Humming Birds', '6625400': 'St. Mark the Evangelist Combined Choir', '6625700': 'Danny Rhodes (5)', '6625800': 'Iota (12)', '6626000': 'Jaime León', '6626600': 'Gravelord (2)', '6626700': 'Fikus (3)', '6626800': 'The City Of Tomorrow', '6628100': 'Ronaldo Garcia', '6628300': 'MT Pocket', '6628900': 'Navalakademiska Kapellet', '6629500': 'Danny Drive By', '6630000': 'Tox Breakers', '6630100': 'Charles Dixon (4)', '6630300': 'Marda / Miller', '6630800': 'Bregada Berard', '6631000': 'Piergiorgio E Il Suo Complesso', '6631500': 'Daniel Bochner', '6631600': 'Gallowbird', '6632100': 'Cardboard Houses', '6632700': 'Mokkai', '6633000': 'Clovette', '6633800': 'DidgeGrooveCompany', '6633900': 'E.S.P. (19)', '6634600': 'Miljenka Grđan', '6635000': 'Vitlaus Von Horn', '6635100': 'Rodrigo & Roxana', '6636000': 'Launcher', '6636300': 'Susanne Schieder', '6636500': 'Battersea County School Band', '6636600': 'Jengibre', '6637900': 'Jemma Redgrave', '6638000': 'Wanted (24)', '6638700': 'Glendora High School Concert Band', '6638800': 'Nancy Jewell', '6639500': 'Dalang Si Hassan', '6639600': 'Haji Mohamed Noor', '6639800': 'Alex Graham (4)', '6640000': 'LORD EXTRA - Band', '6640800': 'Guernica (11)', '6641200': 'The Barracks (2)', '6641400': 'Fehér Kígyó', '6641500': 'Emma-hoo', '6641600': 'Jay And The Ramrods', '6642300': 'HH SYNDIKAT', '6642700': 'Alyssa Garcia', '6643300': 'The Doctor (24)', '6643700': 'Firecat Of Discord', '6644000': 'Chemical Noise', '6646000': 'The Fighting Amish', '6646900': 'Miltenberger & Clark', '6647500': 'Hellcats (7)', '6647900': 'Haris Toulios', '6648000': 'Joe Rossi Et Sa Grande Formation', '6648100': 'Young B (9)', '6648400': 'Photosynthesis (4)', '6648500': 'Miss Rehana', '6648700': 'Junkyard Rebellion', '6649200': 'Daniel Grajew', '6650500': 'Ziganoff', '6650700': 'Alby (11)', '6651200': 'João Taubkin', '6651300': 'Dot Dot Dot (5)', '6651400': 'B T S', '6652400': 'Royal Impalas', '6652600': 'Ava Tomlinson', '6652700': 'The Fiascos (2)', '6652800': 'Seren Akıska', '6653500': 'Bai Ying (2)', '6654000': 'Cai Mei Jun', '6654300': 'Ben Tadlock', '6654500': \"Ça S'Régal\", '6654700': 'Serge Moulinier Trio', '6655200': 'Adeus Fronteiras', '6655500': 'Christelijk Mannenkoor “Da Capo”, Haren', '6655800': 'Evoxx', '6656300': 'Diary of Alyssa', '6656500': 'Joel & The Outsiders', '6656700': 'The Terrytons', '6656800': 'Sportsklubben Brann', '6657100': 'Aleco (2)', '6657200': 'Ernst Friedrich Richter', '6657400': \"Dee Dee And The Bee Bee's\", '6658100': 'Frank McDougal', '6658900': 'Park Heights Assault Team', '6659300': 'Conjunto Soma', '6660300': 'Klökkeblömst', '6660900': 'Rudolf Mates', '6661400': 'The Hex Waves', '6662200': 'Jean-Luc Potaux', '6662400': 'The Prater Brothers', '6662900': 'Terrorreign', '6663200': 'Božena Dušková', '6663800': '(n1nth) cloud', '6664100': '2LE', '6664400': 'A Little Voice', '6665100': 'Leo Blankers', '6666000': 'KaoSatan Rises', '6666100': '8Ball Memphis All Stars', '6666400': 'Banda Los Lirios Del Valle', '6667400': 'Nego Martins', '6667500': 'Bendik Nerstad', '6668200': 'Adan Huerta', '6668700': 'Homoplata', '6668900': 'Phil Jones (35)', '6669000': 'Da Silva (15)', '6669400': 'Kalibre (4)', '6670000': 'San Francisco Opera', '6670500': 'User364880151', '6670600': 'Spoja', '6671300': 'Damascus Steel (2)', '6671400': 'Sphere²', '6671500': 'Dardan Mushkolaj', '6672000': 'Jeremy Hepner Quintet', '6672200': 'Mary & Julie Picot', '6672300': 'Chungo (2)', '6672400': 'Sint-Jozefskoor Roeselare', '6672900': 'Jan-Mixel Bedaxagar', '6673300': 'Dark Nipples', '6673500': 'The Tony Trio', '6673600': 'Drumloop', '6673700': 'Capstan (2)', '6673800': 'Into The Wake', '6674100': 'Lovecrose', '6674800': 'Max Castro', '6675900': 'Els Acordeonistes Del Pirineu', '6676000': 'Clara Borges Y Su Organo', '6676100': 'xeno_', '6676200': 'Pino Putignani', '6676400': 'Gritus', '6676900': 'Quatro Por Um', '6677600': 'Long Body (2)', '6677800': 'Mr. Rasputin', '6678200': 'Duluth Central High Red Choir', '6678500': 'Tom Hammond (7)', '6679000': 'Jim Bowen (4)', '6679200': 'Ghoststory', '6679300': 'Da El', '6679400': 'Static 62', '6679500': 'The Velvet Underground (2)', '6679900': 'Boys In The Black Room', '6680600': 'Duriums Valsorkester I Milano', '6680900': 'Kurt Lindgren Trio', '6681000': 'Herk Olson Quartet', '6682100': 'Oscar \"Novio\" Nuñez', '6682900': 'Swak Tang', '6683300': 'Akrite (2)', '6683600': 'Θεόδωρος Μπουτακόγλου', '6684200': 'Пророк Санбой', '6684500': 'GrevusAnjl', '6685100': 'Iggy De Guzman And His Royal Recording Orchestra', '6685400': 'The Frank White Band', '6685800': 'Redlands High School A Cappella Choir', '6686100': 'Ananda Mukherjee', '6687000': 'Mark Hamill (3)', '6687300': 'The Texas Trailblazers', '6687400': 'Paulis Sanchez', '6687800': 'Mirko Pravdić', '6688000': 'Carlos Aguilar And His Original Rhumbandidos', '6688100': 'Bil Lepp', '6688400': \"Somebody's Ex\", '6688500': 'Ronelle Alexander', '6688800': 'The Product Click', '6689000': 'Genie (50)', '6689100': 'Bolelee', '6689200': 'Sugah (4)', '6689300': 'Insite (6)', '6689600': 'Scott Terence Brownstone', '6690500': 'BigStar Johnson', '6690600': 'Jonny B Stensson', '6690800': 'Al Fenzlau', '6691100': 'Ряженка', '6691200': 'Muzungu', '6691400': 'Coro Di Comunione E Liberazione', '6691600': \"Wm. Turner's Ladies Prize Choir Nottingham\", '6691900': 'Iklo', '6692100': 'Earthquake & Fire', '6692300': 'Orchestre Diaz Per Tango', '6692500': 'The Full Throttle Jazz Rock Band', '6693100': 'Joe Padulo', '6693400': 'The Deep South (3)', '6695000': 'Andrew Seoul', '6695300': 'Dave Grant (12)', '6695700': 'Viagra (7)', '6696000': 'Adma', '6696700': 'Shull (2)', '6697200': 'NK:s Musikkår', '6697300': 'Coffins Across Hiroshima', '6697500': 'Nikita Rafaelov', '6698100': 'Don Reese (3)', '6698300': 'Baratang & Mampinga', '6698800': 'Sigurd Ågrens Dansorkester', '6699900': 'GF (β)', '6700600': 'Beatrice Jakober', '6700900': 'NB Ari', '6702100': 'Myrtle Howell', '6702300': 'Turtle Bugg', '6702400': \"MAUPH L'ARTIFICIER\", '6702600': 'Saintbull', '6702700': 'Intravene (3)', '6702900': 'Santa Paula Serenaders', '6703100': 'Animal Travellin Band', '6703200': 'The Thinglers', '6704000': 'Man 3 Faces', '6704300': 'Floyd Turner And His Home Towners', '6704400': 'The Dutton Brothers', '6704700': 'Fatal Morgana (4)', '6705000': 'Autophagy', '6705300': 'Miroslav Ivanović (3)', '6706000': 'The Image Singers', '6706400': 'Matty T Wall', '6707000': 'Harry Acker And His Orchestra', '6707400': 'Iron Voices', '6707600': 'K-W Oktoberfest-Gemeuetlichkeit Band', '6707700': 'frasco（4）', '6707900': 'Apollo Chamber Orchestra', '6708100': 'ABC Trio', '6708200': 'Basler Trio', '6708600': 'Stray Owls', '6709200': 'Valley Of Bones', '6709700': 'Ghostking Is Dead', '6709900': 'Very Tired Astronaut', '6710000': 'Christian Bauman', '6710200': 'Caró', '6711100': 'Waltraut Michaelis', '6711900': 'Francesca Fariello', '6713100': 'Fritz Wilhelm (2)', '6713500': 'Malard', '6714100': 'Jimmy Marille', '6714800': 'Adviser Isioma', '6714900': 'Vanessa (114)', '6715200': 'Orchestra Paris (2)', '6716000': 'Orchestronics', '6716100': 'Jean Lowe (2)', '6716200': \"Falcone's Metronome Orchestra\", '6716600': 'Bloodbath (13)', '6717100': 'Sleqroth', '6717300': '瀧玲子', '6717400': 'KELUN', '6718300': 'Teo Schifferli', '6718700': 'Das Ding Ausm Sumpf', '6718800': 'Haridas Ganguly', '6718900': 'Ulla Olsson', '6719100': 'The Pilots (7)', '6719200': 'Occult Suffering', '6719300': 'Orchestre De Chambre De Radio-Strasbourg', '6719400': 'Jacks Army', '6719800': 'Malpunkt', '6720200': 'Michael Rasminsky', '6720700': 'Sean Anderson Cullen', '6720800': 'Markus Tietje', '6720900': 'Sudhir Lall', '6721200': 'Sekond Prime', '6721300': \"Salvation's End\", '6721900': 'Rita & The Upsetters', '6723400': 'Lothar Lüpertz', '6724200': 'Swirl Season', '6724400': 'Michel Lavergne', '6724700': 'Grace Black', '6724900': 'Gernot Schreiber', '6725000': 'Allen King (3)', '6725700': 'Die Rurtaler', '6725800': 'Iwona Karasińska-Schlair', '6726500': 'Monkey Business (18)', '6727400': 'Arnfinn Løvaa', '6727900': 'Difficult Children', '6728000': 'พนมกร พรสุพรรณ', '6728100': 'Don Cripúskulo', '6728200': 'Kemikal Trio', '6728300': 'TSR (7)', '6728400': 'Louisiana All-State Chorus', '6728500': 'Paul Besman', '6729300': 'L. Sabatto Aka', '6729400': 'Jedi Willis', '6730000': 'Lauren Zweegers', '6730800': 'The Guests (6)', '6730900': 'Bia Mustafa Alloush', '6731200': 'El Jibarito De Las Piedras', '6731400': 'Beck & Call', '6731600': 'NYCSmoke', '6732400': 'Koko Y La Banda Atroz', '6733000': 'Found Objects (3)', '6733200': 'Orquesta Yaje', '6734400': 'Amazonas (10)', '6734800': 'After the Calm', '6735000': 'Figure 8 (4)', '6736500': 'Lee Lawrence And The Stargazers', '6736900': 'Bolão E Seus Rockettes', '6738600': 'Stickers (4)', '6738700': 'MBP (5)', '6738800': 'The Voices Of Maryknoll', '6740100': 'Christelijk Zangkoor “Loof Den Heer”', '6740300': 'King Killumbia', '6740600': 'The Women Of Faith Worship Team', '6741000': 'Demi Mitchell', '6741100': 'Unknown Illegal', '6741500': 'Kicks (15)', '6741600': 'Aussie Posse', '6741800': 'Irmãs Ibejy', '6742300': 'Ben Amara Rachid', '6742700': 'Rudi Knabl mit seiner Original Freundorfer Besetzung', '6742800': 'Daniel Sisters', '6743000': 'Carlos Walter Soares', '6743300': 'Royale (9)', '6743500': 'Like Everything Else', '6743900': 'Frälsningsarmén, Degerfors', '6744300': 'Annemiek Oversluizen', '6744600': 'El Cuarteto Imperial', '6744800': 'MaryO (3)', '6745100': 'Rosemary Harris (2)', '6745500': 'Daniel Santos Y Su Orquesta', '6746100': 'Accordages', '6746300': 'ЛЕХА И ГОВНО', '6746500': 'Mario Spinelli', '6746600': 'Martin Mitterrutzner', '6746700': \"Bâ'a\", '6747000': 'Same Time Tomorrow', '6747200': 'Celly Mac', '6747500': 'Cosÿns', '6747600': 'H & S Corporation', '6748300': 'The Fricks', '6748400': 'Trois Irons', '6748700': 'Corraro Fanclub', '6748900': 'Chr. Mannenkoor Laus Deo uit Groningen', '6749300': 'Miloslav Pařízek', '6749400': 'Mikele And The Mattress', '6749600': 'Oskar Emmert', '6750100': 'あかさたな', '6750800': 'Frances Plante-Scott', '6751400': 'lcbrt', '6751900': 'Christine Underland', '6752500': 'Lildome Feat', '6752600': 'Conni & The Brutal Youth', '6752900': \"Thursday's Pussy Dogs\", '6753300': 'Iris Kay', '6753400': 'Atlantic City', '6753800': 'Nicolas Candé Quartet', '6753900': 'Elev.Farmers', '6754200': 'Blimmer', '6755000': 'I.D. (17)', '6755600': 'Allies (14)', '6755800': 'Yuval Noah Harari', '6756000': 'Great Ahantas Band Led By P.K. Ackton', '6756100': 'Oli.F', '6756900': 'Diarra Ousmane', '6757000': 'Mustat Linnut', '6757300': 'Jewel Paige And Her Brown Brownies', '6757500': 'Elizaveta Kopelman', '6757800': 'Pino Sangiacomo E Il Suo Complesso', '6757900': 'Bro. Clement Kalu Uko And The Wesleyian Voices', '6758100': 'The Hero Dies First', '6758200': 'The Blarneys (2)', '6758400': '下郎', '6758700': 'Carlo Bargnesi', '6759200': 'Armin Fröb', '6759300': 'Fiddle Witch & The Demons Of Doom', '6759400': 'N-Prog', '6759600': '山田たかしとトロピカル・メロディアンズ', '6760300': 'SID (62)', '6760600': 'Luca Oberti', '6760700': 'Mariachi Aguilas De Mexico De Juan Navarrete', '6760900': 'Jazmin (6)', '6761800': 'Fate (34)', '6761900': 'The Flanagan Brothers (2)', '6762100': 'Juanita Holland', '6762200': 'Bogdan Andrusyshyn', '6762700': 'The Silverblack', '6762800': 'Sham (29)', '6762900': 'Construction Of Love', '6763500': 'Robert (164)', '6764000': 'Cackling Hen', '6764400': 'Cesar Daniel', '6764800': 'Spacecake (9)', '6764900': 'Gravity Shock (2)', '6765300': 'Wicked (38)', '6765500': 'Gali Shamir', '6765600': 'Slomo Drags', '6765700': 'Damien (73)', '6766300': 'Organes Frits Man', '6766400': 'Paint-It-Black-Design', '6768000': 'Mat Mathews Ensemble', '6768800': 'The Speedways', '6770000': 'Vic Seamon', '6771200': \"Lovebrain's Rose Of Agra, Stringlane And Diskotäschchen, Mount Blakelock Und Die Orden Der Nacht, Supported By 85/86 CC Unspoken Space At Kreuz Giesing\", '6771900': 'Das Oesterreichische Rundfunk-Tanzorchester', '6772000': 'Sonia Mylène', '6772500': 'Raoul Moretti (2)', '6772700': 'Voyager VIII', '6773200': 'Spud Bugs', '6774000': 'Torps Ungdomskör', '6774100': 'Walter Trout & His Band', '6774400': 'Nalda (2)', '6774500': 'Blistering Tentacles', '6775500': 'T.D. Hoffset', '6778200': 'Mario Milano', '6778400': 'Franckie Muggs', '6778700': 'Cliff Mason And The Gospel Truth', '6778900': 'Medh', '6779200': 'Russian Ballet Orchestra', '6779400': 'William Goldman (5)', '6779800': 'La Batterie Fanfare De La R.A.T.P.', '6780000': 'The Kill Van Kulls', '6780200': 'Reiner Liwenc', '6780500': 'Brian Reaver', '6780600': 'Robert Swanson (5)', '6781000': 'Redland High School Choral Music Department', '6781200': 'The Bo-Stevens', '6781300': 'Olav Werners Sangtrio', '6782800': 'The Signeals', '6782900': 'Ken Shorter', '6783500': 'Giovanni Giorgi (2)', '6783900': 'Chris Wright And His Music', '6784000': 'Arnold Littmann', '6784200': 'Ballangó Együttes', '6784300': 'The Lawson Family', '6784400': 'Wilson Henao', '6784700': 'Gordon Stevens (3)', '6784800': 'Kim Sung-jin', '6785100': 'Drama Compagniet', '6785400': 'Natsumi Shimizu', '6785900': 'Julian Fellowes', '6786300': 'Balzac (4)', '6786500': 'Horváth Zoltán (5)', '6786900': 'Ras Neyman', '6787000': 'U.S. Naval Station Rota Spain', '6787100': 'VVG Jocus - Venlo', '6787300': 'Marie Lousie Somby', '6787400': 'Jodlerklub Pratteln', '6788100': 'True Playas', '6788800': 'Ånima', '6789100': 'The Nashvilles', '6789300': 'Bill Fraser (4)', '6789500': 'Guild party makers', '6791000': 'The Teenage Kissers', '6791900': 'Inner Planetary Experience', '6792000': 'Steve Gasque & Chuck Brunicardi', '6792300': 'Walter Martella', '6792900': 'The Screams (2)', '6793000': 'Marmota (2)', '6793300': 'Alyssa Simmons', '6793500': 'Gral Brothers', '6793600': 'Constantorange', '6793900': 'Vultures Shall Gather', '6794000': 'Dr. Med. Theodor Graether', '6794700': 'Thomas Macfie', '6795400': 'Pyker Lachiver', '6795500': 'Nicolae Moldoveanu', '6795800': 'Menem', '6796000': 'Donald Lemar Morris', '6796400': '16 Hits 16 Stars Originaux', '6796700': 'Los Principes (4)', '6797200': 'Fankassim', '6798300': 'Ketah', '6798500': 'Stefano Mordi', '6799200': 'Dave Roberts (37)', '6799900': 'The Kay Brothers (2)', '6800500': 'Chorgruppe Und Instrumentalisten Der Evangelischen Kirchengemeinde Ottweiler/Saar', '6801000': 'Drag Me Down', '6801200': '80tribe', '6801300': 'DJ Iekue', '6801400': 'SVRFSTYLE', '6802000': 'Gloria West And The Gents', '6802100': 'Upside Dawne', '6802500': 'Volker Renicke', '6803700': 'Die Brackel-Bande', '6804300': 'Jorge Antonio', '6804600': 'Quarteto Peralta', '6805200': 'Something Different (2)', '6805400': 'Banda De Los Legionarios', '6805700': 'Roach Motel (3)', '6806200': 'IEON', '6806500': 'Room 4 (2)', '6806600': 'Death To The Rhythm Bandit', '6806700': '冨士原生', '6808100': 'Michael Young (17)', '6808400': 'Sativa Sun', '6808600': 'Spleen Caress', '6809000': 'Komain & Ghost', '6809200': 'BenReddik', '6809400': 'Grupo Descarga Tropical', '6809500': 'Gizzmolotion', '6809600': 'Mecha (5)', '6809900': 'Orchestre de Chambre de Liège', '6810200': 'Sinner (18)', '6810300': 'George Ann Edwards', '6810500': 'My Wish', '6810900': 'Hard Driver (2)', '6812500': 'Yponeko', '6812800': 'Sindicato Do Blues', '6812900': 'Baqqhus', '6813700': 'The Queen Mother Q-Nextion', '6813900': 'Helmet Walker', '6814000': '3TIK', '6814100': 'Sani Khalid', '6814400': 'QUITO SKA JAZZ', '6815500': 'Shitizen', '6815700': 'Bay-B Gyrl', '6816200': 'Ararat (4)', '6816800': 'Ayako Nakamura (2)', '6817000': 'Canal Capitale', '6817500': 'Babylon Rockets', '6817700': 'Renée Sunbird', '6817900': 'Ludvig Larsen (2)', '6818200': 'George M. Cohan Jr', '6819300': 'Nosferatu 1922 (55)', '6820100': 'Texas Slim Dees', '6821500': 'Johann Sobeck', '6821900': 'Milde Sorte', '6822500': 'Spur Pópunar', '6822700': 'Ettore Petrolini & Compagnia', '6824100': 'Billy Caryll', '6824200': 'Paul Iliescu', '6824500': 'Равиль Гузаиров', '6824600': 'Roger Beshears', '6825500': 'Mark Hill (18)', '6825600': 'Tere Pirattack', '6825700': 'Pediras arnica', '6826800': 'The Shooting Stars (2)', '6826900': 'Plunder (2)', '6827200': 'The Replicants (5)', '6827500': 'Circle City (2)', '6828800': 'Alleanza Latina', '6828900': 'Roccwell', '6829000': 'Perfect Confusion', '6829600': 'Sovengar', '6829700': 'YuguluP', '6830300': 'The Rainbow Gospel Singers', '6830800': 'The Pollyanna', '6831000': 'Plague (39)', '6831300': 'Criterion Dance Orchestra', '6831400': 'The Salim Nourallah Treefort 5', '6832600': 'Mirjana Karanikolić', '6832700': 'Heike Grötzinger', '6833000': 'Yussuf Maleem', '6833100': 'S. Tirugnanasambandan', '6833200': 'Diisbömber', '6833300': 'Vagn Leick Trio', '6833700': 'Shorebreak (3)', '6834100': 'Martin Ross Phillips', '6834200': 'Checkpoint Charlie (9)', '6834700': 'Identische Figuren', '6834800': 'José Francisco (2)', '6836100': 'Kakiseribu', '6836300': 'The Next Step (6)', '6836600': 'A. Valencia', '6836700': '\"Your Arms Too Short To Box With God\" Original Broadway Cast', '6836800': 'Garrett Reynolds', '6837500': 'Baldo Y Su Grupo', '6837700': 'Big Left Turn', '6838300': 'Jahganaut', '6838400': 'Slowlodger', '6838600': 'Monopolia', '6838900': 'Sultans Of Swing (4)', '6839000': 'Monika Söderlund', '6839100': 'Arion (13)', '6839300': 'Hugo de Chaire', '6839800': 'Kim In Sung', '6839900': 'Kalsoem', '6840100': 'Jenny Lee West', '6840300': 'ILUITEQ', '6840900': 'Маја Вукиќевиќ', '6841000': 'Pépita Et Valéro', '6841100': 'Jean-Michel Kraus', '6841500': 'Mercury Baroque', '6842100': 'Locash (4)', '6842600': 'The Philadelphians (4)', '6842700': 'Don Hall (12)', '6842800': 'Newtownards Melody Flute Band', '6843000': 'Nôs Kultura', '6843300': 'Mukimukimanmansu', '6843600': 'Perforta Sabotado', '6843800': 'Repotz', '6843900': 'Discordia (18)', '6844300': 'Queen Of Distortion', '6845800': 'Flavio Flores', '6846000': 'Eve Daniel', '6846400': 'Tony Griéco', '6846600': 'Elmar Storck', '6846700': 'Les Gardes Champetres De St Remy', '6847700': 'Grupo Maroyu', '6848300': 'Ys (17)', '6848800': 'Dark Water (2)', '6849200': 'Gene Sweet and The Blue Grass Un-Limited', '6849400': 'Jacopo Venci', '6849800': 'Aieteko Gurutziaga Korua', '6850100': 'Zeftriax', '6850400': 'Euphorbia Mortus', '6851000': 'Philippe Gilles (3)', '6851100': 'J. F. Yisberg', '6851400': 'Orchestre Eddy Rolls', '6851600': 'Terror XL', '6852000': 'The Nobodies (6)', '6852100': 'Addictive Bangers', '6852300': 'Porcelain Chambers', '6852400': 'McPherson/Grant', '6852600': 'Frasco (5)', '6853900': 'These Machines (2)', '6854800': 'Sylvia Rottensteiner', '6856300': 'Jo Garlet', '6857000': 'Adam Weissmüller', '6857200': 'No Solace', '6857500': 'Tony Kaczmarek And His Polka Band', '6857600': 'Ragged Company', '6858100': 'Elie Kehr', '6858900': 'Théophile Minuit', '6859200': 'Tomas Landberg', '6859500': 'Josef Linhart', '6859700': 'Bug Bath', '6860700': 'Jay Newman (4)', '6860900': 'Геннадий Монастырёв', '6861100': 'Standard Issue (6)', '6861700': 'C.N.D. (2)', '6862000': 'Charles Lijina', '6862300': 'Band Anoas', '6862600': 'Anna Tonna', '6862900': 'We The Unwilling', '6863000': 'Roscoe Forté', '6863500': 'Blackie Minor', '6863800': 'Saadat Ahmed', '6864000': 'Shooting Lead Rabbits', '6864200': 'Opposite Ways', '6864300': 'Voo Livre', '6864500': 'Lan Cito', '6864600': 'Tony & Frida Terry', '6864900': 'Diego Molari', '6865300': 'Flotilla (4)', '6866300': 'Richard Stonefield', '6866700': 'Conjunto Rialto', '6867000': 'Nø Shelter', '6867300': 'Jugendblasorchester Verband Bernischer Jugendmusiken', '6868400': 'GeminisAzul', '6868900': 'Колхоз «Аксай»', '6869400': 'Ruggiero Francia', '6870100': 'Musica Falsa Et Ficta Ensemble', '6870200': 'ckh9dh44', '6870500': 'The Indianapolis Pentecostal Mass Choir', '6870700': 'Napalm On Canvas Posse', '6871000': 'The Southern Partners With Mr. \"G\"', '6871300': 'Lorna Dune (2)', '6871500': 'Lillian Akersborg', '6871600': 'Paco \"Jah Paco\" Mesa', '6871800': 'I Pinguini', '6872100': 'Adelbert', '6872200': 'Sächsische Bläserakademie', '6872600': 'Trip Tease', '6873200': 'けさイーズ kesaizu', '6873700': 'Lxs Diamantes', '6873900': 'Luciferian Macrostasis', '6874200': 'The Nine Billion Names of God', '6874500': '嶋三喜夫', '6875300': 'Inglewood Social Club', '6875500': 'Bud Orf', '6876000': 'Bryan Fraim', '6876400': 'Maldorora', '6876500': 'Meat Mincer', '6876800': 'Tempest Gold', '6876900': 'Madrigalchor der Leichlinger Kantorei', '6878400': 'Riley Knapp', '6878600': 'Heidi Gräf-Eigemann', '6878700': 'José Ramón Rioz Ruiz', '6878900': \"Caf' Kréol\", '6879200': 'Poul Godske Quintet', '6879800': 'Martin Sunchild', '6880000': 'Lionel Maublanc', '6880900': 'The Black Sheep (11)', '6881500': 'Neřvi Mi Do Ucha', '6881700': 'Reflection (23)', '6881800': 'What i.f.', '6881900': 'Vain Sacrosanct', '6882200': 'Yan Dεmir', '6882400': 'Le Plaisir (2)', '6882600': 'VP Premier', '6882800': 'Zawody', '6882900': 'Buffó Rigó Sándor', '6883100': 'Roxy (37)', '6883300': 'Vilko', '6884100': 'Rob Binks', '6884300': 'The Wanderers (28)', '6884500': 'Хорот На Македонската Радио Телевизија', '6884600': 'Giani Jiwan Singh', '6885000': 'Free Man', '6885200': 'Leandra Overmann', '6885300': 'Rick Schulz', '6885500': 'Pepe Mir', '6885600': 'Patrick Oradiwe Alias Pacola & His Thunderballs', '6886100': 'Iceland Super Jazz Quartet', '6886600': 'Prime (33)', '6886900': 'Jonathan Ballero', '6887100': 'Johnny Kiser And The Southern Sounds', '6887600': 'Y2K (15)', '6888400': 'Jef & Herlinde', '6888500': 'Münchner Tanzlmusi', '6888600': 'Basseralle', '6889100': 'Dj Bonie', '6890100': 'Against The Law', '6890200': 'Jóni Gyula', '6890500': 'Dudelidej', '6891400': 'Adventures Of Salvador', '6891800': 'Andrei Senkevich', '6892200': 'Ferera Brothers', '6892300': 'MelCarterCeo', '6892400': 'Louis Lilienfeld and his Hotel Biltmore Orchestra', '6892600': 'Till von Bülow', '6892800': 'Kathinka Minzinga', '6892900': 'George Maxwell (2)', '6893100': 'El Patito Saubón', '6893200': 'Paduan Suara P.P.K.I.', '6893800': 'Farkas-Ferencz Endre', '6893900': 'Jim Ryder (2)', '6894400': 'DynamoWar', '6894900': 'Andres Castillejos Y Carlos Alba', '6896000': 'The Duckwalkers', '6896300': 'Panties (5)', '6896600': 'S.Hill (2)', '6896900': 'Orkestar \"Slavia\"', '6897100': 'Arlin Tolliver', '6897400': 'Hermalee', '6898000': 'The Sporttones', '6898100': 'Hans Meyer (5)', '6898200': 'Blitzkrieg (27)', '6898900': 'The Chessmen (21)', '6899000': 'E.T. (24)', '6899100': 'HrPelle', '6899700': 'The Electric Sinners', '6899900': 'Roberto Razo', '6900100': 'René A. Jensen', '6900200': 'Óskar Norðmann', '6900300': 'Jack Johnson (24)', '6900700': 'Cuerpos Desobedientes', '6901100': 'Shana & Lyvia', '6901300': 'Glen Rex', '6901400': 'Rev. Dr. R.L. Curry', '6901700': 'Onur Samli', '6902000': 'Monroe (33)', '6902300': 'Crystal Fire', '6902400': 'Randalee Maddox', '6902500': 'H Boogie', '6902800': 'Carlos Dorado', '6903500': 'Lucy Paradise', '6903800': 'Reinoso Y Su Combo', '6904400': 'Gerda Müller (2)', '6904600': 'The Right Reverend Monsignor George A. Kelly', '6904900': 'Complesso Orange', '6905400': 'Macylu', '6905600': 'The People (23)', '6905700': 'Chant Of The Goddess', '6905800': 'Freestyle (25)', '6906000': 'Amblio', '6906100': 'Windy Anderson', '6906300': 'Trakker (2)', '6906400': 'Paul Dueck', '6906900': 'Azmin', '6907000': 'Time To Fly Project', '6907300': 'Shekia', '6908500': 'Riita', '6909000': 'Europa-films Studioorkester', '6910900': 'Free Toes Studio', '6911400': 'The Forbidden (2)', '6911800': 'Monetário E Financeiro', '6912000': 'Dianne Lou', '6912200': 'Azul Antena', '6912600': 'The Living Word Singers', '6912700': 'Lenny Whitehead (2)', '6913100': 'Isapo', '6913300': 'Bruce (53)', '6913400': 'Blockhouses', '6913500': 'Carbolic Acid Water', '6915400': 'Cynthia Tell', '6916000': 'Patrick Consoli', '6916300': 'Исмаил Гулямов', '6916900': 'Ibiza Lovers', '6917300': 'The Big Boys (4)', '6918000': 'Susie Thorne', '6919100': 'Jonathan Harvey (4)', '6920000': 'Maki Wiederkehr', '6920700': 'Tsuyuko Mizuno', '6921000': 'Kobalt (11)', '6921700': 'Hash Cookie', '6922100': 'Lotte Meyer', '6922500': 'Andreas Eichenberger', '6923200': 'Thanjavur Brinda', '6924100': 'Boris Ramella', '6924300': \"Hook's Combo\", '6924500': 'Kimmo & Monica Penttala', '6925200': 'Fireman (8)', '6925300': 'Barbara Alan', '6925400': 'أحمد العيسوى', '6925600': 'R.E.D (3)', '6925700': 'The Caernarfon Welsh Choral Union', '6926600': 'Renee Love', '6927800': 'Alison Parson', '6928000': 'Rebecca Hyde-Skeele', '6928100': 'Πάνος Δημητρόπουλος', '6928200': 'The Cordelaires', '6929500': 'Pablo Arocha Rojas', '6929700': 'Gilbert Lèbre', '6930100': 'Yuta Kudo', '6930400': 'Vincenzo Romano (2)', '6930600': 'Honey Noble', '6930700': 'Vein Laden Meat Pipes', '6931400': 'Jacques Thevignot', '6931500': 'Daniel Verhagen', '6932000': 'Burial Remains', '6932400': 'Deepfeel', '6933000': 'The Dynamics (43)', '6933100': 'Virna Lisa', '6933400': 'Juliana Paciulli', '6934100': 'Anesmwythder', '6934900': 'Fox Valley Symphony', '6935500': 'Ray Montana', '6936000': \"Rex Irving's Modern Men Of Music\", '6936100': 'The Simpkins Six', '6936200': 'Orchestra M. Casali', '6936600': 'Attracted To Miss', '6937400': 'Geir Korneliussen', '6937700': 'MOORE & PERRIN BAND', '6938300': 'Jim Lipskie and The Niteliters', '6938600': 'The Combi Stars', '6939100': 'Joel Elizalde Jr.', '6939300': 'Mark Fisher (23)', '6939400': 'Snow (34)', '6940200': 'Carlos Vasquez (5)', '6940400': 'Old Mexico', '6940900': 'Rudy-Ray And The Dreamers', '6941000': 'Jacky Scott & Revelation', '6941500': 'The Naked One', '6942400': 'DJ Ste Wint', '6942500': 'In Oceans Deep', '6943100': 'W.C. Miller Concert Band', '6943700': 'Russian Old Believers From Oregon', '6943800': 'Burning Black Infinity', '6944500': 'Winner Licorice', '6945300': 'Marjolène Et Ses Compagnons', '6945600': 'Nicotine Overdose', '6945700': 'Rangersdorfer Sängerrunde', '6946200': 'Tanzschau', '6946400': 'Lars Bech Pilgaards Slowburn', '6946800': 'desk.rabbit', '6947100': 'S.N.I.P.A.H. Squad', '6947200': 'The Flakes (6)', '6947300': 'Bucket (13)', '6949100': 'La Chancla', '6949500': 'Jelee (2)', '6950200': 'Wayne And Floyd', '6950700': 'Eric Boston', '6951300': 'Balkanarama', '6951700': 'Matsuyama Seisuke', '6952100': 'Ludo van de Bergh', '6952200': 'Nineveh Musikgrupp', '6953000': 'Room 101 (19)', '6954400': 'Take Three (4)', '6955300': 'Smash Alley Underground', '6955500': 'Silphidae', '6955600': 'Ronnie King (6)', '6955700': 'Memory Theater', '6955900': 'Nicole Poisson-Lepinte', '6956200': 'Wishful 5', '6956300': 'Linjen Bluesband', '6957200': 'Sister Jeannette Matthews', '6958000': 'Madlaine Hansen', '6958300': 'Dr. Gleufkijker', '6958500': 'Deanna Petersen', '6959200': 'Vacant Planet', '6959300': 'Gemini Jam', '6959400': 'Tracie De Jong', '6959700': 'Paul Loyonnet', '6959900': 'Little Ray Charles', '6960200': 'Barry Steele', '6960300': 'The Garde', '6960700': 'Hexagon All Stars', '6960800': 'Baal Berit', '6961500': 'Helena Millais', '6962300': 'Alf (47)', '6963400': 'Yale Banjo Club', '6964000': 'Le Parlement de Musique de Strasbourg', '6964100': 'Roliva', '6964200': 'JasonMann', '6964500': \"Tre'Jur\", '6964700': 'Max Mendez (2)', '6965200': 'John Parris (3)', '6965800': 'highTIME (2)', '6966600': 'Grime One', '6966700': 'Victoria Orchestra', '6967000': 'Cosmic Singularity', '6968300': 'Jean-Pascal Reux', '6968600': 'Yabé', '6970000': 'Кристина Арнаудова', '6970100': 'The Rainbows (21)', '6971200': 'Duo Pol Préat', '6971300': 'Sintesi 3', '6971900': 'Helland', '6972900': 'vagón chicano', '6973200': 'Complesso Leo Condor', '6974300': 'Scotch College Choir', '6974600': 'Pressure Point (12)', '6975800': 'Oliver River Gess Band', '6976000': 'Cool Breeze (16)', '6976100': 'Josh Schott', '6976500': 'NG NEOU NARIN', '6976800': 'Ilyin', '6977000': 'התל אביבים', '6979000': 'Re: Muzika, Kuri Gimė Vakar', '6979600': 'The Illiance', '6979700': 'Marcos Coll & Adrian Costa y Los Homebreakers', '6980100': 'Alain MS20', '6980600': 'Les Reed (2)', '6980700': 'High Rolla Records', '6981500': 'Sofie Snels', '6981600': 'Gian Rosario Presutti', '6982000': 'Kanye Weller', '6982200': 'Sister Taylor (2)', '6982700': 'Jeff Miller (36)', '6982900': 'Morning Augment', '6983000': 'Dark Radish', '6983200': 'Orquesta de Kiko Azúa', '6984100': 'Miora', '6984200': 'A Vala Comum', '6984600': 'Marcelo Luque', '6984800': 'Lezon', '6985100': 'Rayos De La Niñez', '6985200': 'The Ramblers (41)', '6985400': 'Bárbara (9)', '6985500': 'Cletus Cat', '6985700': 'Tereza Moura', '6985800': 'Gatuduvan', '6986100': 'Aphrodite Delacruz', '6986200': 'Bobby Ryder', '6986300': 'Dusty Rust (2)', '6986600': 'Gaetano Rocca', '6987500': 'Forever / Always', '6987800': 'Peter Nova (3)', '6988100': 'Zeitgeist (28)', '6988400': 'Nicky Chiswell', '6989300': \"The King's African Rifles\", '6989500': 'Giuseppe De Michele', '6989700': 'Aldersgate', '6990200': 'Ester La Gaia', '6990500': 'The Nursery Singers', '6991400': 'DJ Yodel', '6991900': 'Siamon89', '6992000': 'Adelheid Müller', '6992200': 'Like Minds (2)', '6992400': 'Desmond Nasima', '6992700': 'Johnny Noonan', '6993200': 'The Tearjerks', '6993300': 'Susanne Bågenfelt', '6993700': 'عبلة الوهرانية', '6993900': 'Madism (2)', '6994100': 'Christian Cornu', '6994300': 'Artemandoline', '6995200': 'Sylvia Torán', '6995500': 'Nicolas Pallot', '6995700': 'Pelle Wolter', '6995800': 'Tewit Youth Brass Band', '6997200': 'Tzja Giantor', '6998100': 'Ataque Violento', '6998400': 'Ensamble Nuevas Almas', '6998800': 'Написат Исакова', '6998900': 'Swanee Swingers', '6999700': 'Ländlerfründe Rieche', '7000400': 'Fats (16)', '7000800': 'DJ Happy Fine', '7001200': 'Stereolove (3)', '7001300': 'Gordon Bad', '7001500': \"The Angel's Symphony\", '7001600': 'رضا ورزنده', '7002500': 'Treffers Van Die Jaar 2001', '7003100': 'Foxview Valley Boys', '7004500': 'Daligan', '7004900': 'Rafiq Shinwari', '7005500': 'Mensajera del Peru', '7005900': 'The Feather Collector', '7006200': 'Justin Leong', '7006500': 'Nigel And Rowena', '7007000': 'Terpsichorus', '7007200': 'Table.', '7007400': 'DerFrosch', '7007800': 'Live My Last', '7008100': \"Ray Allen And The Yonkers Children's Chorus\", '7008500': 'Los Maze', '7008600': 'Claudio Bolzani (2)', '7009100': 'Surchoc', '7009500': 'Sascha Rosemarie Höfer', '7009900': \"Edaw's Goup\", '7011300': 'Harry M. Dias Trio', '7011500': 'Art Mankind', '7011700': 'Rye Road', '7011900': 'Fresh Jam Crew', '7013100': 'Guillotina (3)', '7013500': 'Pietro Naviglio', '7013600': '8 Kambarys', '7013700': 'Corrupted Machines', '7013800': 'Joe Norman And His Orchestra', '7014100': 'Kazz (50)', '7014200': 'Scary Man (2)', '7014300': 'ดำ ขำดี', '7016000': 'Rick Sharp (6)', '7016200': 'Silverscreen (4)', '7016500': 'Sheverine', '7016600': \"Lil' Beethoven\", '7016700': 'Die Warmblankes', '7017900': '叶绪然', '7018100': 'Dr. Dynamite & The Explosions', '7018300': 'Mr. Strange (3)', '7018600': 'Steve Dobrogosz Vocal Ensemble', '7019100': 'Ανδρόνικος (2)', '7019200': 'Fahness', '7019300': 'Steven (67)', '7019400': 'Be As One (3)', '7019500': 'Lazy Eyez', '7019900': 'Әмірзақ Султанмуратов', '7020300': 'Woodz & Tobenna', '7020400': 'Parki', '7020800': 'Robert Hollins', '7021300': 'Basil Morahan', '7021400': 'Mark Badi', '7022900': 'XIII Monkeys', '7023000': 'International Dance Orchestra (2)', '7023200': 'Bad Pennies', '7024500': 'Dermot Ward', '7024800': 'Don Pedro y Don Jose', '7025000': 'Jugendchor Charlottenburg', '7026000': 'NEXT Ensemble', '7026200': 'Jenő Vécsey', '7027200': 'Deejay Balius', '7027500': 'Standing on the Shoulders of Giants: a 311 Tribute', '7028200': 'JaBand', '7028300': 'Gilberto Cappelli', '7028800': 'Camm Lapeen', '7028900': 'Many Miles', '7029000': 'Kaoru Nakasone', '7029300': 'Rev. Royce Darnell Cornelius', '7030100': 'NMB Flying Squadron Band', '7030900': 'Snickeriet', '7031500': 'Carlos Zéfiro', '7031800': 'Caraserena', '7032200': \"Special '75\", '7033000': 'Little Stray', '7034300': 'Paul Futa Jr.', '7034400': 'Jake Najor & The Moment Of Truth', '7034700': 'David Russell (32)', '7035200': 'Permanent Daylight', '7035300': 'Mikael Sandgren (2)', '7036200': 'Mike Nova (2)', '7036500': 'Rev. Harvey Gates', '7036600': 'Johnw', '7036700': 'U.F.O. Dictator', '7037200': 'Залпом', '7039100': 'Melvillous', '7039800': 'Viliam Kubányi', '7039900': 'Rick Walker (11)', '7040100': 'Kugelfischer-Kinderchor, Schweinfurt', '7040600': 'Paolo Bergamaschi', '7040700': 'Entertain The Terror', '7040800': 'Mary Caine', '7041100': 'Ingalill Källstrand', '7041500': 'Maravich', '7042000': 'Thankmar Herzig', '7042300': 'Gloria (58)', '7042500': 'DJ KAIKKIALLA', '7042700': 'Hands Of God', '7044400': 'להקת גולני', '7044800': 'Joe De Renzo', '7045300': 'Lzana', '7045500': 'GTA VI', '7045600': 'Danielle Streiff', '7045700': 'Michael St. George', '7045800': 'Clueless (8)', '7046700': 'Xorume', '7046800': 'Γιάννα Κωνσταντίνου', '7047000': 'Pollo Shock!', '7047300': 'Maurice Poirier', '7048300': 'Chapper & Co.', '7048600': 'Cobardes y Criminales', '7049900': 'Леонид Давидович Линденбратен', '7050400': 'No War (3)', '7050600': 'Wellchild', '7052000': 'Jasper Pijnenburg', '7052100': 'Marcelo Zallio', '7052200': 'Mannenkoor Het Geile Oord', '7052900': 'LP Casso', '7053200': 'Mandred Mletzko', '7053400': 'Nocturnal Procreation', '7053500': 'Local Sports Team', '7053800': 'Vasilii Petrovich Damaev', '7053900': 'Cos Natola', '7054100': 'Skeleton Kiss', '7054400': 'Screwface (12)', '7054500': 'Pavilion Orchestra (2)', '7055400': 'Herminia Matos', '7055600': 'Guido Barilari', '7055700': 'Piecordidrums', '7055900': 'The ElegantEgo', '7056300': 'David Vogel (5)', '7056500': 'Gee Sugar', '7057800': 'Nildo I Cafe', '7057900': \"The O'Brien Brothers\", '7058000': 'András Fiáth', '7058300': 'Intemperia', '7058600': 'Jaroslav Kaňa', '7059500': 'Eli Fantz', '7061100': 'Jenny Liston', '7061400': 'Oase', '7061900': 'František Zahradníček', '7062200': 'Apollo Band (2)', '7062300': 'Fetish Kafe', '7062400': 'Humo Culebra', '7063000': \"G.M.P MC's\", '7063200': 'fizikal', '7063700': 'Jaxon Crow', '7063800': 'Sandor (10)', '7064700': 'Second Avenue Management', '7064800': 'Элас', '7065000': 'Eleazar Rios', '7065600': 'Unsignified Death', '7066000': 'Love Hogs', '7066300': 'North Queensland Army Band', '7066400': '森下登喜彦 + His Friends', '7067200': 'A. Sewell', '7067700': \"Afro Beat '72\", '7068100': 'Showmore', '7068500': 'the Groove Angels Ensemble', '7068600': '井上耕一', '7069700': 'DJ Gem B', '7070800': 'Minnie Kennedy', '7071000': 'DJ Stella Oliveira', '7071300': 'Bobby Thompson (21)', '7071500': 'D.K. Datar', '7071600': 'Radio Rhythm Orchestra', '7071900': 'R. Durant (2)', '7072000': 'Eduardo Cardinho Quinteto', '7072600': \"Benjamin Et L'Orchestre Invisible\", '7072700': 'проф. Георги Робев', '7074800': 'Short Fuse (14)', '7075200': 'Burgt', '7075600': 'Too Many Voices', '7076000': 'Usurper (9)', '7076200': 'Echo Romeo (2)', '7076400': 'Któlicos', '7076600': 'Form Feeders', '7077100': 'Zweizig', '7077400': 'Jorge Eduardo (3)', '7077500': 'Peter John Jackson', '7077600': 'Brefotrofio', '7078200': 'Xavier Fux vs. Alien Project', '7079000': 'Åkerwalls Blæseorkester', '7079400': 'Eyesore & The Jinx', '7079900': 'Phoenix Foundation (3)', '7080100': 'Jack Newsome', '7081000': 'Miramar (7)', '7081300': 'Caption Solo', '7081500': 'Lucy Murtagh', '7082000': 'Discrepunkcia', '7082200': 'Young Havel', '7083400': '▲⃝ ▲⃝ ▲⃝', '7083500': 'Cherif Hamani', '7083600': 'Michele Minutoli', '7084600': 'Robert Fusil Et Les Chiens Fous', '7085100': 'Alicai Harley', '7086500': 'Ray Taylor And His Singing Orchestra', '7086800': 'MMSNEONCHAN', '7086900': 'толерантность.мультикультурализм.', '7087100': 'Fallen Angelz (2)', '7087500': 'Symphonic Orchestra of the great Theatre of Havana', '7087900': 'Joe L Snaggs', '7088100': 'Roof Rabbit', '7088500': 'Urban Monroes', '7088700': 'CPU (11)', '7088900': 'PJ Masks', '7089000': 'Simon Spiero', '7089700': 'Raffi Hovhannessian', '7090200': 'Kayo (29)', '7090300': 'B.R. Lively', '7090500': 'F. Elliot', '7091500': 'Bernie Ryall', '7091900': 'Hanna & Axel', '7092200': 'Orin Shaw', '7092400': 'Liquid Saloon', '7093100': 'Etc & Tal', '7093500': 'Little Wing (4)', '7093600': 'The Core Jazz Combo', '7094100': 'Jess McAllister', '7094700': 'Nino Piarulli', '7094900': 'Mohamed Ahmed (3)', '7095000': 'Eddie Garrett (2)', '7096300': 'Die Fonsen-Crew', '7096500': 'Decibel Brothers', '7096900': 'Yobot', '7097300': 'MXMJoY', '7097600': 'Cancer Causes Rats', '7098200': 'Angeroots', '7098400': 'NCTK', '7098600': 'TopHat (2)', '7098700': 'Speedball (11)', '7098900': 'Chronic Fatigue Sindrome', '7099600': 'The Gyuto Monks', '7100000': 'Pyro (24)', '7100100': 'Orquesta Finisterre', '7100800': 'Kananelo Matlolane', '7101000': 'DJ Lapse (2)', '7101100': 'Leandra Hill', '7101500': 'Shada Maneno', '7102100': 'Purple Kreeme', '7102700': 'Almach', '7104500': 'Gusti Schenker', '7104800': 'Peter Hudec', '7105100': 'Ladies Luncheon', '7105700': 'Discommon', '7106200': 'Ylenia Montaruli', '7106600': \"L'Orchestre Pénitentiaire\", '7109000': 'Luis Pasquet Y Su Cuarteto De Cámara', '7111000': 'Ernest Newton', '7111200': 'Sad Planets', '7111600': 'Stevie Lennox (2)', '7112000': 'Coyote Motel', '7112100': 'Max Jeschek', '7113300': 'Catarina Rocha (3)', '7113400': 'From Atomic', '7113500': 'Bandit (57)', '7114100': 'Tropa Magica', '7114200': 'Chango Fuera', '7114600': 'Duo Herencia', '7114900': 'Bento E Mamão', '7115000': 'Settle For Nothing (PGH)', '7115400': 'Alexa Momtaz', '7116000': 'Alastair Hunter And The Lorne Scottish Dance Band', '7116300': 'Hank Turko With Johnny & The Nite-Liters', '7116500': 'Occasionally Dropped', '7117100': 'Mr. Views', '7117200': 'Death In Your Yard', '7117700': 'Cosmosonic (3)', '7117800': 'The Ragamuffins (6)', '7118100': 'Lolivez', '7118800': 'obélisque chevreuil', '7119400': 'Chucky Persona', '7120100': 'The Al Beutler Quartet', '7120500': 'O Quarto De Helena', '7120900': 'Linda Sharon Boston', '7122300': 'Jeff Huston (2)', '7122400': 'Alan James (15)', '7123900': 'Sauchelli', '7125000': 'Dario Marques da Silva', '7125100': 'Diego Ibáñez (2)', '7125700': \"Bobby Morris' New Orleans Jazz Band\", '7125900': 'Zesko', '7126200': 'Coro La Centroamericana', '7126700': 'Sarah Bradford', '7126900': 'Sam Swindle', '7127200': 'José Mª Fuertes', '7127400': 'Vern Luddington And His Jolly Musicians Orchestra', '7127600': 'Gordana Stojanović', '7128100': 'Greenwood Tree', '7128800': 'DJ Kid Wonder', '7129100': 'Lisa Rollan', '7129200': 'The Ten Sleepless Knights', '7129600': 'Cowgirl In Sweden', '7130200': 'Mini Coro Diretto Da Ornella Bazzini', '7130800': 'Sassy Holzinger', '7131300': 'Josh Smith (30)', '7132000': 'Fernando Inês', '7132100': 'Meechie Moans', '7132200': 'Haagse Willem', '7132400': 'Cavalaria 77', '7132600': 'Jámbor Klára', '7133300': 'Fred Savage Fanclub', '7133800': 'Stylesdipp', '7134100': 'Luke Jacobs (6)', '7134400': 'Pacifique Dushimiyimana', '7134500': 'Conjunto Itamaraty', '7135100': 'Aidita Avilés', '7135900': 'Glenn And Wanda Brewer', '7137900': 'Coro Rociero De Guillena', '7138800': 'Göran Högström', '7139000': 'Impacto Musical', '7139600': 'Cenotaph (9)', '7139900': 'Two4Fun', '7141000': 'Brethren Harmonies', '7141500': 'Charles Casasa', '7142400': 'Martin Balseca', '7142500': 'DAMEDOT', '7142600': 'Estudiantina Los Colegiales', '7143200': 'D!Y', '7143700': 'Eddie Gold (2)', '7144800': 'Štajerski Baroni', '7145100': 'Lucien Rosamond', '7145400': 'Ca†aclismo', '7145600': 'Social Scam', '7145700': 'Oldřich Horský', '7145900': 'Hecktic', '7146200': 'Et Arsis Piano Quartett', '7146600': 'Cantanti Camerati', '7147200': 'Zephyr (19)', '7147600': 'Мухаммаджон Мирзаев', '7147800': 'Dear Padruga', '7147900': 'Savage (45)', '7148100': 'Laura Hynes Smith', '7148200': 'Rosalind Rinker', '7148500': 'Bjørn Vidar Ulvedalen', '7148700': 'Fred-Eric Francois-Eugene', '7149000': 'Alegria Del Cardonal', '7149800': 'Tomas Dahlgren (2)', '7150400': '松阪晶子', '7151000': 'Blade (58)', '7151400': 'Amelia (22)', '7151800': 'Vargöns Storband', '7152400': 'EmEs (5)', '7152500': 'Miriam Ast', '7152800': 'Jacques Kerrien', '7152900': 'Kristina Fuchs Sonic Quintet', '7153200': 'Letissier', '7154200': 'Jana Krištof Lehotská', '7154900': 'Zhu Hongzhi', '7155200': 'Gospel Heritage Praise & Worship Conference Mass Choir', '7156400': 'Jun Nambara Quintet With Strings', '7156600': 'Food (15)', '7156900': 'Everett M. Noel', '7157500': 'Kreet Rosin', '7158000': 'Renko (4)', '7158500': 'Paulão Da Tinga', '7158600': \"Initial'L\", '7159100': 'Richard Schachmann', '7159400': 'Kantriartistit Avohakkuita Vastaan', '7160100': \"Mad' Smasher\", '7160300': 'Irving Vikström', '7160600': 'José Antonio (6)', '7161800': 'Cape Esan', '7162000': 'Ecca Sjöblom', '7162200': 'Ligante Anfetamínico', '7162800': 'Yuta Kizoto', '7163100': \"Rock'n'Rævis Rævrølpere\", '7163600': 'Todi Mauro', '7164400': 'Flannelette', '7164500': 'The Band Apollo', '7165200': 'Hariton Bunget', '7165500': 'Jim Black (16)', '7165700': 'Steve Long (18)', '7166200': 'Pavel (38)', '7166800': 'Audilax', '7166900': 'Louis Michelair', '7167000': 'Marguerite Roger', '7167400': 'Nine Neun Neuf Nueve Nove', '7167800': 'Apedreado', '7168400': 'Kim Min Ju', '7168600': 'Prickly Heat (2)', '7169200': 'Ferdinand Tober', '7169400': 'Nob Hill Boys', '7170000': 'Woody Rogers', '7170100': 'Tarahumara (3)', '7170400': 'LVNT (2)', '7170600': 'Sasha Sonnbichler', '7170700': 'Joker (96)', '7170800': 'American Entertainment Archive', '7171000': 'Leatherface (10)', '7171900': 'Caasy', '7172000': 'Pandoy', '7172800': 'King Trimble', '7173400': 'Arthur Krumins', '7173600': 'Cheikh Smaine Bousaädi', '7174900': 'XXX (61)', '7175200': 'Anne, Shelley & The Marines', '7175300': 'The South Ulster Concert Band', '7175500': 'Beevil', '7176200': 'Confuse (4)', '7176500': 'Kieran Ridge', '7176600': 'Thai Lips Boogie', '7177200': 'Don Ross (11)', '7178000': \"Ali's Of Samoa\", '7178800': 'Owsla', '7179200': 'Deluxe (38)', '7179500': 'Picture It In Ruins', '7179600': 'How2', '7179700': 'Malakye Grind', '7180200': 'Koroni', '7180300': 'Cosmic Canvas', '7180400': 'Bjurström Quartet', '7181400': 'Curt Sundqvists Orkester', '7181700': 'DJ Dance-on', '7181900': 'Richard Bailey Music', '7183000': 'The 0898z', '7184100': 'Farbror Anders med barnkör', '7184600': 'Peter Delazer', '7184700': 'El Nido Del Cuco', '7185100': 'Eterna (7)', '7185300': 'Mimmo Lucci', '7186200': 'D.D.T. (24)', '7187000': 'Sulfeet', '7187600': 'Madd Rod', '7187700': 'Jass & Bazz', '7188600': 'Thousand One Core', '7189100': 'Lee McKing', '7189400': 'Long Sound Drifters', '7189500': 'William Tatge + Last Call', '7190600': 'Ecosound', '7190800': 'Joe Meyer (8)', '7190900': 'Ariane Rousseau', '7191300': 'THE Diamonds with Dan Hill', '7192900': 'Earl Aldridge', '7193200': 'Ray Morgan (7)', '7193300': 'Hayriye Devris', '7193400': 'Onda Dinámica', '7193600': 'Giorgio Beatsaface', '7193700': 'Samaïa', '7194400': 'Inciders', '7194700': 'Tephra Sound', '7194900': 'Fritz Gent', '7195100': 'Errol Victor', '7195700': 'Life Without Soul', '7196000': \"Alhaji Kologo's Dagomba Band\", '7196100': 'Nagasaki 45', '7196800': 'MTRHOM', '7196900': 'Masayuki Watanabe (2)', '7197000': 'Armagedon (11)', '7197400': 'Anneke Visser', '7197700': 'Danilo Santojo', '7198200': 'Backtalk (5)', '7198400': 'Married Couple', '7198500': 'Laksamana', '7198800': 'Schematic (4)', '7199200': 'Conjunto Musicuba', '7199400': 'Октай Зульфугаров', '7199500': 'The Watchtower Guzzlers', '7199800': 'Antonio Flores (9)', '7200200': 'Nick Tuscon', '7201900': 'The Irish Breakdown', '7202200': 'Mister-J', '7202500': 'Edward Shabukome', '7203000': 'Jung (12)', '7203200': 'Gerd Billerbeck', '7203400': 'Jinjoo Cho', '7203500': 'Gamba De Legn', '7205000': \"Angel'S Fire\", '7205800': 'Doppelquartett Gmünd', '7206000': 'Slimline (4)', '7206300': '男と女', '7206600': \"Gabriel's Golden Harp\", '7206800': 'Sam Mellon And The Skylarks', '7207800': \"Teresa Tirelli d'Amico\", '7208700': 'Phat J', '7208900': 'Eric Salvan', '7209100': 'Ensemble Nomad', '7209200': 'Dave Freeland (2)', '7209300': 'David Heinous', '7209400': 'Da Iguana', '7209900': \"'Rameau' Joseph Poleon\", '7210000': 'Hansened', '7210100': 'PCP Trio', '7211200': 'Grotto Terrazza', '7211300': 'Sara Shakarchi', '7212100': 'Re:Alice', '7212700': 'Incurable (3)', '7212900': 'Lee Simon & The Party Brothers', '7213000': 'Märta Lekgård', '7213400': 'Ernie Northrup', '7213500': \"Granberg og Dyrud's Orkester\", '7214200': 'KESAR', '7214500': '5 and 3/4 Year Old Humorous Dian', '7214600': 'Ideas For Muscles', '7214800': 'Margie Pet', '7215500': 'Imperial Taffuc', '7215900': '今村良樹', '7216200': 'Carlos Haayen Y Su Combo', '7216800': 'Hypnoisers', '7217200': 'Boi De Lauro', '7217300': 'surmani dattatreya velankar', '7217700': 'Lunatique ∅', '7218100': 'Bradley Williams (4)', '7218300': 'Stephen Aron', '7218500': 'Ada And Howard Skinner', '7218600': 'Loara High School Bands', '7219600': 'Cookie Doe', '7220000': 'K-Rock (8)', '7221000': 'Yusuf Karagül', '7221300': 'Mega Mereneu Project', '7222000': 'Jamming Hazard', '7222200': 'Liam Lord Snowy Fillmore', '7222500': 'O. Samquay And His Okanga Sound Of Africa', '7222600': 'Marc Bay', '7222800': 'Clayton M. Shaver', '7222900': 'Francisco José Dominguez', '7223000': 'Hernán Solís', '7223200': 'MB13 (2)', '7223600': 'The Brainiax', '7224000': 'Keith Johnson (23)', '7224400': 'Solipsist (5)', '7224500': 'Cuban Chamber of Commerce', '7224700': 'Das Wiener Cafehaus-Ensemble', '7225900': 'Germán de Santiago', '7226200': 'Unaware (3)', '7226300': 'Grupo All People', '7227400': 'HeyDay (11)', '7228100': 'LJ (22)', '7228900': 'Gianni Sulis', '7229100': 'Elek Style', '7229400': 'Flyte (10)', '7229600': 'The Malchicks (3)', '7229900': 'Nivaldo Silva', '7230100': 'Tuonela (5)', '7230200': 'Franzlist', '7230800': 'Kick Like Crazy', '7231100': 'Diane Muise', '7231200': 'Nancy Smith (6)', '7231300': 'Dan Stewart (13)', '7231500': 'Sound Set (3)', '7232900': 'Nova Norda', '7233000': 'Aysel Enez', '7233300': 'Splatterhouse (4)', '7233900': 'The Black Mariah Theater', '7234500': 'דותן מלאך', '7234700': 'Locomotive Death', '7235700': 'Art Good', '7235900': 'Kisa Sureler', '7236400': 'Bullet The Joker', '7236600': 'Sliced Molting Torso Under Putrefactive Sun', '7237000': 'Mentïs Morbüm', '7237800': 'Emile Sotoca', '7238400': 'Ellis Kell Band', '7238500': 'Gaston (21)', '7239000': 'Lovemotor', '7239100': \"Kaye Payne's eKlectiKa\", '7239300': 'Hotevilla', '7239400': 'Felix (126)', '7239800': 'Śpiew Męzki Orkiestry', '7240000': 'Mozaffar Shafiee', '7240900': 'High Thetic', '7241000': 'Tarta Relena', '7241200': 'Boomerang Staircase', '7241400': 'Tony Kayne', '7241800': 'David P. (7)', '7242100': 'Fallen Forest', '7242400': 'Mario Ferrero', '7243200': 'Bancrewt', '7243600': 'Sansão Coelho', '7244000': 'Bob Taylor (33)', '7244300': 'Behest', '7244600': 'The Redhouse Family', '7244900': 'José Da Trindade', '7245100': 'The Sager Family', '7245200': 'Gay And Lois Cheatham', '7245400': 'Infinum', '7245800': 'Simon Lawrence (3)', '7246100': 'Jean Watson Collective', '7247700': 'BBC Trio', '7247900': 'Predikant A.L. Van Zwet', '7248100': 'Tony Manard', '7248800': 'The Renaissance Rock Orchestra', '7249100': 'Twanga Pepeta', '7249300': 'Yasuko Sato (2)', '7249500': 'Bruce A Evison', '7249600': 'Robot (31)', '7249700': 'El Shaddai (2)', '7250300': 'Alex Cooper (Pavel)', '7250500': 'arstrx', '7251500': 'Kiddie Korner', '7253000': 'Eskrofula', '7253300': 'Cheez (5)', '7253400': 'Robert Oursin', '7254500': 'Apérol Noir Quatre', '7255000': 'The Sweet Dreams', '7255400': 'Dreadfall', '7255700': 'Djugdish', '7255900': 'Kun Arpad (2)', '7256100': 'Barry Cole (4)', '7256300': 'Alcis', '7256400': 'Gomser Spillmanne', '7257800': 'Polished Kitchen Cult', '7257900': 'Vittorio Constantini', '7258300': 'Estiban & Joan', '7258500': 'Helios ONE', '7258800': 'Jim Hart (7)', '7259100': \"Falcon's Flying Circus\", '7259300': 'Ruthless International Players', '7259500': 'Daniel Meier (6)', '7259600': 'Stuka & Los Fusers', '7259900': 'Longpig (3)', '7261000': 'Sonny Gleason', '7261900': 'Michael Shynes', '7262600': 'Akira Nirasawa', '7262700': 'THE SECT OF TULIP', '7263000': 'Nduep', '7263600': 'Cell Block 4', '7263800': 'Natalia Dusso', '7265100': 'David Regueiro Swingtet', '7265800': 'Andrzej Bator', '7266500': 'Pheobe Riley Law', '7266600': 'Laura Vanden Heede', '7266900': 'Yıldırım Yıldıran', '7267500': 'ربى خوري', '7268100': 'Alex Marro', '7268400': 'Katelyn Bouska', '7268600': 'Maul Girls', '7268700': 'Grupo Musical Baile Antigo', '7269000': 'Faint The Fiction', '7269200': 'Taking Jericho', '7269600': 'Dowran Baymyradow & Azat Donmezow', '7269700': 'Kaveh Golestan', '7269900': 'Die Allrounders', '7270300': 'Playboys II', '7270500': 'Orquesta Caracas Pop', '7271800': 'Mac Millan & His Happy Sax', '7272700': 'Ray Dio 5', '7273300': 'Darlene Darcel', '7274000': 'Ken Derouchie Band', '7274200': 'Hearing From The Gap', '7274400': \"The Alexander's Band (2)\", '7274600': 'Crowjack', '7275200': 'The Human Factor (2)', '7275600': 'Alexx (12)', '7276000': 'Charles E. Shulman', '7276700': 'Rich Jones (13)', '7278100': 'Megan D (2)', '7278500': 'Restless Spirit (2)', '7279500': '古賀政男とコガ・ギター・ロマンティカ', '7280200': 'Acoustic Pressure', '7280400': 'Есма Реджепова = Esma Redžepova', '7280600': 'Libido Reign', '7281000': '児玉好雄', '7282300': 'Chronic Infection (3)', '7282500': 'Arup-Pranay', '7282800': 'Márcia Rita', '7282900': 'Muwosi', '7283600': 'Rallye Trompes Bourbonnais', '7283700': 'Brudny Opos', '7283900': 'Los Covadonga', '7285100': 'Los Miopes', '7285200': 'Jodelduett Vroni Scheidegger - Franz Spichiger', '7285300': 'Snooks (5)', '7285500': 'Equinox (59)', '7285600': 'Atari 黄金', '7285700': 'Miki (82)', '7285800': 'Mason Blaize', '7285900': 'Mad Moiselle (2)', '7286300': 'L.M. Beliz Alonso Black LL.', '7286600': 'Good Sleepy', '7287000': 'Moncho Leña Y Su Orquesta', '7287900': 'Azizi (3)', '7288300': 'Mickey Douglas', '7288400': 'trio akk:zent', '7288600': 'Kayleigh Gibson', '7288900': 'Shorty Holloway And His Prairie Riders', '7289000': 'JC Dook', '7289700': 'Ariani Siregar', '7289800': '野良猫ガッツ', '7290100': 'Sistema Som Suave', '7290800': 'ขันแก้ว', '7291000': 'Simon Faints', '7291200': 'Pocket Of Lollipops', '7291500': '\"Batwara\" Chorus (2)', '7291600': 'Ricky Mason (3)', '7291700': 'Lexi (23)', '7291800': 'Цифровой Кердык', '7292000': 'Darling (21)', '7292100': 'Koji Yuki', '7292500': 'Schralen Tsjip', '7292700': 'Pedro Díaz \"Peri\"', '7292800': 'Waco Civic Chorus', '7293300': 'SupersnällaSilversara', '7293800': '3rd Borough', '7294000': 'Douglas Terman', '7294100': \"Eric Siereveld's Organic Quintet\", '7294200': 'Javier Ulises Illán', '7294400': 'Trik Alley', '7294800': 'Hilt (3)', '7294900': 'Tom John Hall', '7295300': \"Pokin' Holes\", '7295400': 'Carlos Beltran (4)', '7295500': 'Myles Dhillon', '7295800': 'Barmy Rote', '7296800': 'Stockanotti', '7297300': 'Broadway (33)', '7297900': 'Bad Riders', '7298100': 'พริ้ว แพรชมพู', '7298800': 'Meteorological Agency', '7299000': 'Melbourne Indie Voices', '7299500': 'Five Finger Posse', '7300100': 'Jackson Penn', '7300700': 'Christian Dova', '7300900': 'Los Cocaleros', '7301000': 'Diary (6)', '7301200': 'Havük', '7301600': 'Pete Gare', '7302200': 'David Helbich', '7302300': 'The American Movie', '7302400': 'Canela (9)', '7303500': 'Luciano Sorrentino (2)', '7304600': 'Klean', '7305100': 'Empyreal Vault', '7305200': 'Håkon Driveklepp', '7305300': 'Murray and Fay', '7305700': 'Equanimous Jones', '7306200': 'Guði Gleymdir', '7306400': 'Odessa High School Concert Band', '7307700': 'Terrae (3)', '7308100': 'The Crescendos (17)', '7308300': 'E & J (3)', '7308500': 'New York City Boy', '7308700': 'Dan:Ros', '7310100': 'Nocentelli', '7311500': 'Jihoon', '7313200': 'Tashi Wangdi', '7313500': 'Until Tomorrow', '7313700': 'AC Eales', '7314900': 'Goodrich Cavaliers', '7315000': 'Hewitt & Henderson', '7315900': 'Nur İncegül', '7316200': 'The Original Balalaika Strings of Western Pennsylvania', '7316700': 'Terminator Kitty', '7316800': 'King Jassim', '7316900': 'Here Be Wolves', '7317200': 'Cor-A-Song', '7317300': 'Matt V Sinclair', '7318000': 'ТОМиНОКЕРЫ', '7318200': 'Jämsän Seudun Reserviläiskuoro Vinosyöttö', '7318500': 'イズミヤ・シゲル&ストリート・ファイティングメン', '7318700': 'Bourbon House', '7318900': 'Ländler-Quartett Marino Manferdini - Heinz Kälin', '7319000': 'Los Largos', '7319200': \"Don Parker Jr. and Trouble's Half Brothers\", '7319300': 'Compás de Tres', '7319500': 'Agua De Luna', '7319900': 'The Broken Brothers Blues Band', '7320700': 'Catherine Brénot', '7320800': 'Manu Rere', '7321000': 'Poppa Da Don', '7321100': 'Joshua Selimi', '7321200': 'CantLoveCat', '7321600': 'Voltene Sue', '7321900': 'Kehäpiste', '7322000': 'Elio Billy', '7322100': 'Jenny Abouav', '7322800': '500 & Crave', '7323000': 'Sera Panico', '7324400': 'Katrella', '7325000': 'Joyce Lynn Price', '7325700': 'Chyldren', '7325800': 'Rasa Vitkauskaite', '7326700': 'Dirty Brain Shakers', '7327300': 'DJ Player B', '7327800': 'Olaf Hameyer', '7327900': 'Grupo Registro (3)', '7328400': 'Missouri State Champion Duck Caller 1950-51-53', '7329300': 'Sory (4)', '7329500': 'Toshiaki Tsushima And His Optonica New Sound Orchestra', '7329600': 'Dreamland Monorail', '7329700': 'Prophecy (65)', '7329900': 'Klang Av Oldtid', '7330500': 'Channell (2)', '7331100': 'Dave Hill (46)', '7331500': 'Sounds of Snow', '7331800': 'Mr. Ram Ram Go! Go!', '7332500': 'Zol (5)', '7332800': 'Lime Headed Dog', '7333500': 'Zona Urbanizada', '7334000': 'Thomas Albrechtsen (2)', '7334100': 'Oh Man, The Mountain', '7335000': 'Unban Jace', '7335200': 'Kesa Getame', '7335900': 'Rovere (2)', '7336100': 'The Fleet (3)', '7336600': 'Officine Bukowski', '7336800': 'Magiclub', '7337300': 'Lil Kane (2)', '7338000': 'Mike Doussan', '7338200': 'Jerry Mthethwa', '7338500': 'The Cathedral Choir Of Saint Mary The Crowned', '7338600': 'My Pilot', '7338700': 'Vandød (2)', '7339100': 'Boggie (3)', '7339600': 'Cellar Door Moon Crow', '7340600': 'Kevin Mabry & Liberty Street', '7341200': 'Bowel Rupture (2)', '7341300': 'Jean-Eddie Crémier Et Ses Violons Magiques', '7341900': '[РЕЗЕРВНАЯ КОПИЯ]', '7342100': 'Red Ten', '7342300': 'Ketai', '7343100': 'The Full Cast', '7343700': 'Rajin Mitrić', '7343900': 'Radoje Živanović', '7344000': 'Orkestar Zorana Vukovića', '7344100': 'Rubber Room (2)', '7344600': 'Vesta Kavaïa', '7345700': 'Chaoslace', '7346000': 'Julie Kerr (2)', '7346400': '秋本薫とオール・スターズ', '7347000': 'Standard Broadcast Productions', '7347100': 'Whitlock And Bluff', '7347200': 'Al Thomas (Johnson)', '7347500': 'Deliriant Butcher Logic', '7348200': 'Minuspol', '7348700': 'Streetov', '7348800': 'Fullmoon Sacrifice', '7349200': 'Kaaos (2)', '7349600': 'Andeffect', '7350800': 'Neelie Joseph', '7350900': 'Whiskey Pants', '7352000': 'Violent Anal Masturbation', '7352100': '3 Minutes to Live', '7352200': 'Second Place Hero', '7352300': 'Huckmole', '7352600': 'Staffan Runius', '7352700': 'Jean Queens', '7353000': 'Elk Grove High School 1976 Jazz Band', '7353300': 'Warm Amps', '7353800': 'Sanam Gajipuri', '7353900': 'Kilmarnock Concert Brass', '7354000': 'Shotgun Start', '7354100': 'Hexagonal', '7354200': 'University Of Kansas Midwestern Music Camp', '7354400': 'Everett Cessna and the Country Rebels', '7354500': 'Echo Nomica', '7354700': 'Jarred Glenn', '7355400': 'Pavel Böhm', '7355700': 'Jari Soinila', '7355800': 'Black Heat (4)', '7357200': 'Bling (8)', '7357700': 'The Ire', '7357800': 'dreamsquall1', '7358100': 'Jamie River', '7359700': 'The Telescopes (2)', '7360000': 'John Harman (5)', '7360500': 'E B O', '7361100': 'Ramón Roldán Samiñán', '7361300': 'Jean & Christiane', '7361800': 'Akio Yasuraoka', '7362300': 'Blokke-Fluiters II Tervuren', '7363200': 'Sawa Meron', '7363300': 'Freddy Roda', '7363400': 'Anna Moorey', '7363600': 'DJ Grapefruit', '7364000': 'Al Guttson', '7364300': 'Adriano Celentano e i Ribelli', '7364900': 'Juan Campolargo Ensemble', '7365000': 'Vincent Fontaine', '7365100': 'Lord Panama And The 5 Waves', '7365300': 'Albert McNeil Los Angeles Jubilee Singers', '7365900': 'Oscar Platt', '7366200': 'The Brentwood School Big Band', '7367700': 'Out Cold (5)', '7368600': 'George Foisy', '7369300': 'Krímeš', '7370100': 'Nadja Fendrich', '7370400': 'Slack (18)', '7371500': 'Bryony Purdue', '7371700': 'Tim Green (25)', '7372100': 'Vampire Empire', '7372700': 'Leifendeth', '7372900': 'Török Bianka', '7373300': 'Jetlag (16)', '7374200': 'Eb10', '7374600': 'Moxie Slime', '7374800': 'Rossana Arredondo', '7374900': 'Rajesh Yalamanchili', '7375000': 'Patty David', '7375100': 'Patrizia Castelli', '7375200': 'USSR Terror Attack', '7375600': 'Esa Hiltunen', '7376000': 'Bernard Martins', '7376100': 'Eoli', '7376200': 'Norbz', '7376600': 'Mirza Aadil', '7376800': 'C->BAST', '7377200': 'Kenneth Threadgill And The Hootenanny Hoots', '7378800': 'Kyd The Band', '7379200': 'Christopher Roscoe', '7379400': 'Dube Soul Drives', '7379600': 'Whit Lowe', '7379700': 'The P Hunters', '7380300': 'Wayne Gibson (2)', '7380600': 'Elefantes (2)', '7381300': 'Greenbox', '7381600': 'Terrace Trm', '7381700': 'Riccardo Battaglia', '7382000': 'Sylvia Forrest', '7382200': 'Earl Washington (2)', '7383900': 'Bad Stand-up', '7384100': 'Weep Wave', '7384200': 'Become The Sky', '7385000': 'Brassecco', '7386000': 'Henry Gerse', '7387100': 'Bob And Adrienne Ford', '7387400': 'Ländlerkapelle \"Niesengruss\", Scharnachtal', '7388400': 'Masanori Machida', '7389900': 'Seth Cantu', '7390000': 'Jamie Bolton', '7390200': 'Matt & Alex', '7390600': 'Jesse Kuyé', '7390700': 'Pierre Quintin', '7390900': 'Ganstaville', '7391000': 'Erköse Kardeşler Ve Arkadaşları', '7391300': 'MJ & The Hard Rock Lemons', '7391500': 'Obval', '7391600': 'Grup Gavina', '7392200': 'Shortcut (19)', '7392500': \"Tom May's Quintette\", '7392600': \"Le Groupe De Chants Et Danses Populaires Du Patronage Laïque Paul Bert D'Auxerre\", '7392700': 'Gabriel Romero Y Orquesta', '7392800': 'Polarys (4)', '7392900': 'Jean-Luc (26)', '7393300': 'A.N.A. (5)', '7393500': 'Rastilho (2)', '7393600': 'North (17)', '7393900': 'Mutineers (3)', '7395500': 'Bruno Schollenbruch', '7395700': 'Domaine Des Iles', '7396200': 'Violectro', '7396800': \"ויטראז'\", '7397300': 'Super Diablo Machine', '7397700': 'Killer Force (2)', '7398400': 'Mike Avery (6)', '7398700': 'The Bay Bunch', '7399100': 'The Twilight Wandererers', '7399500': 'Stephanie Schwarz', '7399900': 'Norio Takeishi', '7400400': 'Mothercake (2)', '7400500': 'Failure (11)', '7401500': 'Svensk Jazz 1950', '7401600': \"Jean Marie Et L'orchestre Congo Succes\", '7404000': 'Orchestre Symphonique Direction Paul Bonneau', '7404200': 'Charlys Buam', '7404500': 'Red Boxx', '7406000': 'Like Swallows', '7406100': 'Roger McVey', '7406400': \"Brie'telle\", '7406700': 'Moskitos Gang', '7406900': 'Nuada (3)', '7407300': 'Steve Sheffield Et Son Quartet', '7407700': 'Clave Tipica', '7408000': 'Drantán', '7408200': 'Cutting Edge (14)', '7408300': 'The Beer Klub', '7409200': 'Cappella Musicale Liberiana', '7409300': 'John Lemon Quintet', '7410600': 'HARBIG', '7410800': 'Clementi-Trio Köln', '7411400': 'Very Important Businessmen', '7412200': 'Two Shell', '7412300': 'Alberta Adams And Orchestra', '7412400': 'Jacqueline Stem', '7412500': 'Evan Summers', '7412700': 'Kozmic Karma', '7413300': 'Flour Babies', '7413500': 'Vox 4', '7413800': 'The Amputation', '7414300': 'Tokhan', '7415700': 'Kaflaboo Unit', '7415800': 'Jorge Pimentel Orchestra', '7416400': '尾崎旅人', '7416600': 'Halfaya', '7416700': 'Inner African Voices', '7417000': 'The Eugene Swank Atomic Honky Tonk', '7417400': 'Steel Jammer', '7418200': 'Dead Serious (6)', '7418300': 'Les Igao Band', '7418600': 'Мандолински Оркестар При МКЦ 25 Мај - Скопје', '7419400': 'Impenitent', '7419600': 'Orkiestra Sztandar Polski', '7419700': 'Diablo Grande', '7420100': 'Sic-10', '7420400': 'Ribut Rawit', '7421000': 'Snap Jackson & The Knock On Wood Players', '7421200': 'Silent Point', '7421600': 'Hawk Jones', '7423200': 'Zaryaw Zadi', '7424000': 'Tequila Jay & Los Diablos', '7424300': 'Coro Harmonia Cantata', '7424400': 'John D. Griffin', '7424700': 'Donna and The Dynamiters', '7425400': 'Rayyansyafa', '7426200': 'helmoon.suesun@gmx.at', '7426900': 'Sergivan', '7427000': 'Wire Crawler', '7427300': 'Weeatponyforbreakfast', '7427900': 'Dr. Evelyne Werner', '7428200': 'Harriet Oliphant And The Bloomtown Sweethearts', '7428300': 'Cimbaliland', '7428800': 'Michael Gott', '7428900': 'Dee (82)', '7429800': 'Tony Marshall (15)', '7430300': 'Hollowstar', '7430500': 'Ish Kariuki', '7431300': 'The Porch Dog Choir', '7432700': 'Sangre De Idiotas', '7433300': 'Laryssa Birdseye', '7434300': 'Neid (3)', '7434500': 'Tuff McGruff', '7435000': 'John Francis Orchestra And Chorus', '7435100': 'Alan Sond', '7435400': 'Agláia Costa', '7435900': 'Buggy Nhakente', '7436800': 'Johnston Atoll', '7437100': 'Acid Mind (2)', '7438100': 'Danny Romero (4)', '7438300': 'Grupa Narodnih Pevača \"Srma I Biser\"', '7438500': 'Eric Ranzoni', '7438600': 'Nono Et Sa Formation', '7438900': 'Handsome Rebel And The Honey Bunch', '7439000': 'Nijisanji Livers', '7439600': 'G-Lo (3)', '7440000': 'Hubert Audoin', '7441000': 'Miloš Popović (6)', '7441400': 'Alberich von Arnheim', '7441600': 'Gjermund S. Eriksen', '7443200': 'Christof Maurer', '7443300': 'Die Zensierten Rosen', '7443500': 'Imaginary Sons', '7443600': 'Agz (2)', '7444000': 'Coro de la Hermandad de Nuestra Señora Del Rocio de Ayamonte', '7444100': 'Chris Bogart', '7444300': 'Joey Benson Players', '7444900': 'La Mafia Del Baile', '7445800': 'Braća Pesaković', '7446400': '112/Notorious B.I.G.', '7446600': 'Harem Dreams', '7446800': \"Doris Molifi's Jazz Singers\", '7447300': 'The Screentones', '7447500': 'Borko Avakumović', '7447600': 'Hennes & Co.', '7447700': 'Megmetal', '7448400': 'Mani:Leik', '7448500': \"Kaméhouse 'Player\", '7449400': 'Mag Senn', '7449600': 'John Canada', '7449800': 'Klagan', '7451300': \"Allen's Creek Players\", '7452800': 'Metropolitan Music Masters', '7452900': 'Thursford String Ensemble', '7453300': 'Miikka L', '7453600': 'Soweto Sisters', '7453700': 'Kev Black & The Muffdivers', '7454600': 'Matt Wilson (26)', '7454700': 'Dj Fad J', '7454800': 'Scemo', '7455000': 'Charlie Crook', '7455500': 'Digeroo', '7456300': 'Djina Djembe', '7456400': 'Seriously Serious', '7457200': 'Tairen Sway', '7457500': 'Awesome Wells (4)', '7457600': 'Walter Samoy', '7458500': 'Joel \"Noise Attack Grinder\"', '7458600': 'Second Wind (8)', '7458700': '諸見里朝友', '7458800': 'Big Sib', '7459100': 'Shora Mukoko', '7459200': 'Judge Unger', '7460000': 'Cochonne', '7460200': 'Stephen Osadebay and His Nigerian Sound Makers', '7460300': 'Ernest Weinrauch', '7460400': '石井光代', '7460900': '2eye', '7461800': 'George Lee (19)', '7462100': 'The Mesaba Button Box Club', '7462200': 'Mr. MOUNTAIN DEW', '7463200': 'Carlos Reyes & La Killer Band', '7463900': 'Jess Grey', '7464400': '14 Koren', '7464600': 'Avadis Sarkis', '7464700': '久米敬子', '7465000': \"Juliana O'Neal\", '7465300': 'Nox (43)', '7465700': 'صالح الفرزيط', '7465900': 'Pablo Ulrich', '7466000': 'Michelle Kay', '7466200': '雨宮国風', '7466400': 'Gisella Fino', '7466700': 'Orkestar Branislava Ikonića Brke', '7467200': 'Conjunto Guaicaipuro de Oro', '7467500': 'Agnes aus Suderwick', '7467600': 'Melissa Jayne', '7468300': 'Charmellow', '7468600': 'Karen Rackham', '7468700': 'Vincent Tosca', '7469200': 'Bhai Jaswant Singh Ragi & Party', '7469300': 'Six7', '7469400': 'La Cumbia Negra', '7469500': 'Orquesta De Menor A Mayor', '7469600': 'Anakuluth', '7469900': 'Decrat', '7470000': 'Tubulto', '7470500': 'Pye Jones And His 28 Day Ragtime Band', '7470700': 'Sajith Geethanjana', '7471000': 'Aladdin!', '7471400': 'A Homemade Effort', '7472400': 'Emma Morton (3)', '7472600': 'Amanita Virosa', '7472700': 'Idiot Savant (9)', '7472800': 'Pichú Borrelli', '7473400': 'The Angels (32)', '7474600': 'Priest The Magic Child', '7474800': 'Tomás Arístide', '7475000': 'Horses (7)', '7475500': 'Baard (3)', '7477800': 'Wild Bill Davison & Ralph Sutton', '7478000': 'Martine Superstar', '7478300': 'E=mc² (8)', '7478500': 'Elisabethan Consort Of Viols', '7478600': \"Mama's Black Sheep\", '7478700': 'inVerse (6)', '7478900': 'Mappari', '7479800': 'Bencheque', '7480900': 'Bucky Harris (3)', '7481800': 'Robson Miguel y Grupo', '7481900': 'Pokey Eat Lunch Meat', '7482100': 'Bird Airline', '7483100': 'Fezbeatz', '7483400': \"Alberto Cavenati's Treifekter\", '7484400': 'Wizened Tree', '7484500': 'Russell Hicks (2)', '7484800': 'Luciano Ganci', '7485300': 'Chico Bagre', '7485400': 'Lolita Farrès', '7485500': 'Grupo Som De Favela', '7485600': 'DJ Остап', '7486700': 'Turn 5', '7487400': 'Chór Sonus Veritatis', '7487600': 'Do Not Trust Robots', '7488900': 'Spiel Der Geb Div 12', '7490600': 'The Vogues (5)', '7490800': 'Ensemble Vertigo', '7491000': 'Ethan P. Flynn', '7491600': 'Gli Almo', '7491700': \"Luis Trinker's Höhenrausch\", '7492100': 'Kid Stallion', '7493600': 'Schürhaken Körner', '7493900': 'Sakrificios Humanos', '7494800': 'RS (13)', '7495000': 'The Boomtowners', '7496000': 'The Varsity Five Plus Two', '7496300': 'Neysa Wilkins Troutt', '7496400': 'Brian Young (21)', '7496500': 'Trio Sarandi', '7496700': 'CARR & company', '7497400': 'Indisposed (2)', '7497700': 'Brothers In Law (4)', '7497900': 'Jul Giaco', '7498000': 'Trumpets Of Consciousness', '7499400': 'Muly Oren', '7499900': 'Mitch Torok And The Matches', '7500500': 'Kravtun', '7500800': 'Lef (6)', '7501300': 'Ric Toldon (2)', '7501700': '35Palata', '7503300': 'Interlucid', '7503900': 'Gerhard Gerbautz', '7504000': 'Moley (2)', '7504200': 'Amalie Skram', '7504400': 'slevin and slevin is', '7505100': 'بهية فراح', '7505200': 'Pig Squeals And Breakdowns', '7505400': 'Tilae Linden', '7505700': 'Blue Radio', '7506500': 'Darklon', '7507000': 'Jean-Luc (27)', '7507100': 'Captain Asshole', '7507600': 'Swonderful Orchestra', '7508800': 'Henk Voskuil', '7509000': 'Joachim Heinrich', '7510000': 'Gardner Vaughn', '7510300': 'Ogród Radości', '7510400': 'Tonton Faïve', '7510600': 'Teak Battyn and the Battmen', '7510800': 'Triciclo Vivo', '7511100': 'Frances Fletcher', '7512100': 'Mario Mascarenhas', '7512300': 'Konrad / Mehl Projekt', '7512400': 'Nejc Pavlič', '7512600': 'Willie Dunivan', '7513600': 'Joe Roy (3)', '7515800': 'Azariasz Jacek Hess OFM', '7516700': 'Darkhouse (2)', '7516900': 'Ansamblul Folcloric Studențesc \"Mărțișorul\"', '7517200': 'Claude Polès', '7517400': 'The Johnsons (13)', '7517600': 'The Nashville Super Slidemen', '7517900': 'Fufi.SNC', '7518000': 'Nexø', '7518100': 'Anthony Head With The Johnny Coppin Band', '7518200': 'Giacomo Modularo', '7518600': 'Datafive', '7518700': 'The Collegians (16)', '7519100': 'Sonia Gouws', '7519200': 'Thunderstone (3)', '7520500': 'Don Ward (6)', '7520600': 'Respect UP-BEAT', '7520700': 'Camp Saint Helene', '7520900': 'Γιώργος Κανελάκης', '7521600': 'Bill And Dale Mulhall', '7521900': 'Школьница и Покрышка', '7522000': 'O.G. Dre & Dank', '7523100': 'TLE Cinco', '7523500': '강미자', '7523700': 'Pion (4)', '7523800': 'Tony Tone (8)', '7526200': 'Ernest Harrison (3)', '7526500': 'Modern Hinterland', '7526600': 'Glenn Jones (9)', '7526700': 'La Vérité (2)', '7527200': 'Minus 25', '7527300': 'Tek Genesis', '7527800': 'Trestrece', '7528700': 'Fitness (4)', '7529000': 'Aspirin (6)', '7529700': 'Palestrina Ensemble Munich', '7530100': 'Doc Weedy', '7530200': 'Daniel Smiley, Harold Evans and Mary Jane Kellum', '7531300': 'Social Cyanide', '7531800': 'Tab (19)', '7531900': 'W.C. Stiffs', '7532000': 'White Line (5)', '7532800': 'I Recidivi (2)', '7533100': 'Little Sparrow And His Calypso Birds', '7533400': 'Robert Fabing S. J.', '7533700': 'AlBenAza', '7533800': 'Olivier Aussudre', '7534000': 'Alan Sutcliffe (2)', '7534600': 'Amon Duul III', '7535600': 'Claude Triveillot', '7536100': 'Rù', '7537200': 'Continental Accordeon Club', '7537400': 'Hank Moore And The All Stars', '7537500': 'Volantis (2)', '7537900': 'LKX', '7538000': 'Männerchor Bayer Dormagen', '7539100': 'Joy (127)', '7539700': 'Sacred Legion', '7541300': 'Chiao Yu-Lu', '7541800': 'Coro \"Alfonso El Sabio\"', '7542400': 'Murder Thy Maker', '7542700': 'ภูไท', '7543200': 'Geo Mancie', '7543600': 'The Raffles Good Time Ensemble', '7544200': 'Jazz Composers Allumés Orchestra', '7545000': 'Leila (32)', '7545200': 'Balvinder Singh Bhagta', '7546500': 'The Fair Family Singers', '7546800': 'DJ Bonzay', '7546900': 'Schwyzerörgeliduett Silvio Zanin / Niklaus Bühler', '7547100': 'Kao And The Mind Melt', '7547300': 'Christine Kamp', '7547400': 'Yvan Laurent', '7547600': \"The Pupils Of Mrs. Thelma Patel's 6th Grade Class\", '7547700': 'Frank Joseph (2)', '7548300': 'Cheb Aziz (2)', '7549600': 'Nicky Davidson', '7550500': 'Taint Tickler', '7550800': 'Dasdreieck', '7550900': 'Gabriel Kinsa', '7551400': 'Thrasher (11)', '7551500': 'Chor des BRG IV Wien', '7551800': 'Boy Mokaeane', '7552000': 'John Cloud (2)', '7552100': 'Margherita Sciddurlo', '7552500': 'Laktating Yak', '7553400': 'Highsmiths', '7553900': 'The Griffin String Quartet', '7554100': 'Jean-Philippe Le Roux', '7555500': 'Edwin Berg, Eric Surmenian*, Fred Jeanne', '7556900': 'Khem One', '7558700': 'Scout 22', '7558800': 'Liricna Trio', '7559000': 'Isabelle Cirla', '7560700': 'Prefix (7)', '7560900': 'Παπαγεωργίου Τίνα', '7561000': 'CULA (2)', '7561100': 'Orquestra Sabá', '7561300': 'Naughty Boys (8)', '7561900': 'The Echo System', '7562000': 'Nice Planet W.T.I.', '7562500': 'Mill Middle Bands', '7562900': 'Marzena Michałowska', '7563400': 'The Bell Gene Singers', '7565700': 'Charlie Venture', '7565800': 'Roger Haven', '7566800': 'Sick Dogs (3)', '7567100': 'Ward Allen (3)', '7567200': 'Ann Reno', '7567600': '\"Slim\" Sanders', '7567700': 'Christiane Mestas', '7567900': 'Duo Royal Masques', '7568600': 'Threnody (8)', '7569600': 'Goodman (Family)', '7569800': 'The Marauders (24)', '7570600': 'Reidar Klannerud Teamet', '7570800': 'Malakay (4)', '7570900': 'The Paulsson Terror & Teater', '7571600': 'Ash Monday', '7571800': 'Wolves Of The Dry Ravine', '7571900': 'Andrei Tutunaru', '7572200': 'Rubén Gómez', '7572400': '舟山幸一とビート・フィーチャーズ', '7573300': 'Set In Stone (3)', '7573700': 'Sadia (5)', '7574900': 'Folk \"A\" Nim', '7575400': 'Marius Iordan', '7575500': 'Angela Mariașiu', '7575800': 'Anders Wrethov', '7576100': 'Blaser-ensemble Der Salzburger Mozartwoche', '7576300': 'Sona Igityan', '7577200': 'Cruci-Fetus', '7578200': 'Jimmy Carson', '7578700': 'Dj Magnum (5)', '7579300': 'The King Pen', '7579800': \"A.'.A.'.\", '7580400': \"Graham de Wilde's Wind Sand and Stars\", '7581000': 'Ein Grosses Musikkorps', '7581200': 'Nicolas Bolens', '7582700': 'Sp Cash', '7582800': 'Lloyd Luther', '7583100': 'Itwillbenoise', '7583500': 'Emol A. Fails', '7584700': 'Nailcrown', '7584800': 'Chicago Harp Quartet', '7584900': 'Clive Smith (10)', '7585200': 'SRAM (5)', '7586100': 'Among Your Gods', '7586500': 'Note Di Donna', '7587000': 'Ramcliff', '7587300': 'Lalibela (2)', '7587700': 'Ventura (21)', '7587900': 'Aaron C Butler', '7588100': 'Nuff Naya', '7588800': 'Von Helsing', '7589000': 'Sheila Solís', '7589600': 'Thelma Lark', '7589700': 'Mabuya Queens', '7589900': 'К. А. Варламовъ', '7590200': \"Kart O'Dish\", '7590300': 'Manu Fernandes Y Grupo', '7590400': 'Les Traversées Baroques', '7590700': 'Kyle Miranda and the Times', '7591500': 'Slim Carter With His Country Boys', '7592600': 'Cadu De Andrade', '7593300': 'Klaus Michael Grüber', '7593400': 'De Kamerfilharmonie Van Vlaanderen', '7593800': 'Conjunto Costa Brava', '7594100': 'Tino Borelli', '7595100': 'Basie Ijezie', '7595400': 'Snow Inc. (2)', '7596000': 'Esther-Martina Luchs', '7596400': 'Andrew Sheppard (2)', '7597300': 'Projekt Mauve', '7597400': \"Webb Foley's Quartet\", '7597600': 'Billy Lee (13)', '7597700': 'Eight Count', '7598100': 'Sıfır Virgül Bir', '7599000': 'Buffalo Country', '7599100': 'Alberto Zimmerman', '7599900': 'Frankie Carmelo Et Son Orchestre', '7600300': 'Василь Богачук', '7600400': 'Mark G. (7)', '7600600': 'GEL (13)', '7601400': 'SemiVortex', '7602300': 'Robert Brudvig', '7603100': 'Strawberry Generation', '7603600': 'D/BAM', '7603800': 'The Holy Rock Singers', '7604600': 'Kosmetika (2)', '7604800': 'Gene Matranga', '7605600': 'Twin Fusion', '7606200': 'Joyce Hulscher', '7606800': \"Laurie Lozac'h\", '7607300': 'Rebecca Rego & The Trainmen', '7607500': 'Deep Fidelity', '7607600': 'Gustavo Bombonato', '7608200': 'Laetitia Sadier Source Ensemble', '7608700': 'Pinky Tuscadero (2)', '7608800': 'Yoshihiro Nakagawa & Dixie Summit', '7609100': 'Dominion Force', '7610000': 'Mandarin (5)', '7610100': 'Monica Giuntoli', '7610400': 'Chumenda', '7610900': 'Trio Kleine Ahnung', '7611100': 'Estonian Cello Ensemble', '7611300': 'Johnny Shea And The Country Pride', '7611500': 'Γ. Κανδή', '7612000': 'Belfrost', '7612100': 'Chichito Vergara', '7612200': 'Rick & Bubba', '7612500': 'Paulo Braga (4)', '7612600': 'Steve Northeast', '7612700': 'Johannes Christl', '7613000': 'Escorihuela', '7613200': 'Diego Ares', '7613700': 'Dimitri Kozel I Jego Orkestra', '7613800': 'Tetractys', '7613900': 'Gato Mendez', '7614200': 'Smiley the Foxdoggo', '7614300': 'Gruppo Corale Pratella-Martuzzi', '7615100': 'Giovanni Brollo', '7615900': 'Eric Osbourne', '7616800': 'Danny Payne (4)', '7617200': 'The Rock-Alongs', '7617800': 'Marsyas (4)', '7618500': 'Los Pleneros De La Fe', '7618800': 'Nji Ajat', '7619400': 'Golden Fangs', '7620000': 'Chris Hung (3)', '7620500': 'Omnibot (2)', '7620800': 'Slonz (2)', '7620900': 'Ôneyra', '7621100': 'Ianos (2)', '7621200': 'Quinn Pickering', '7621500': 'Demonic Downshift', '7622300': 'Z!P', '7622500': 'Banda Guanatos', '7622600': 'Podre (2)', '7622800': 'Hans Anselm Big Band', '7623100': 'Jerry Sims (4)', '7623700': 'Jacob Speake', '7624100': 'Masalaund', '7625000': 'Fedra (Bog)', '7625300': 'The Liquorice Experiment', '7625400': 'Saint Is', '7626000': \"Ensemble L'Amorosa Caccia\", '7626100': 'Jean-Pierre Francky', '7626200': 'The Victims (9)', '7626400': 'Analog Soul', '7626500': 'Бандата на ръба', '7626800': 'Red Bats With Teeth', '7627300': 'Lilli Schubert', '7628000': 'TheDjJade', '7628200': 'The Receivers (3)', '7629000': 'Broken Record', '7629100': 'The Carawan Family', '7629500': 'His Drifting Cowboys', '7629600': 'Taskforce (6)', '7630200': 'Hog Time Records', '7631300': 'Nina Heidenreich', '7631500': 'Eric Dunn (6)', '7631800': 'Dale Van Orman', '7632500': 'Des Meegan', '7633700': 'J. Luv (2)', '7634000': 'Internal Purgatory', '7634800': 'Tungaw', '7635200': 'Bottlekids', '7635800': 'Conspiracy Incorporated', '7635900': 'Voices Of The Children Of San Lucas Toliman', '7636700': 'Jack Lesmana & Indra Lesmana Quartet', '7637800': 'Dollar Prync', '7638000': 'The Wildwood Dreamers', '7638500': 'Bestie Rare (2)', '7639600': 'Junior Lord', '7640200': 'Ritual Suicide (4)', '7640500': 'Mawang', '7640600': 'Ted Brazel', '7640700': 'MAW (13)', '7641000': 'Daoloth', '7641700': 'Isolated Community', '7642300': 'Sharon Leask', '7642500': 'Jim Mullen Reunion Quartet', '7642900': 'Ezra LaFleur', '7643600': 'Perfect Nothing (2)', '7643800': 'Marco Monno', '7644000': 'Audiojaxx', '7644300': 'Felix Olschofka', '7644500': 'Drosophila (5)', '7645300': 'Tionne', '7645600': 'Peter Wittmann (2)', '7645900': 'Harmonia Popular Orchestra', '7646900': 'Choice Quality', '7647000': 'HurtMeMore', '7647200': 'Plain (11)', '7647400': 'The Living Room (7)', '7647600': 'Mr. Walter', '7648500': 'มนเทียร เทียรทอง', '7648600': 'Sean Kennard', '7648800': 'Flaming Seamus', '7649100': 'Marchesan', '7649200': 'Otherworldly People', '7650200': 'Michelle Walters (2)', '7650300': 'Alan Walker (15)', '7651500': 'Tony Ray (12)', '7652000': 'Steve Senior', '7652400': 'Shimon din Israel', '7652900': 'Choir Of The Basilica Of The National Shrine Of The Immaculate Conception', '7653100': 'Lynn Schumacher And The Country Wheels', '7653900': 'Mauro Mozzettini', '7654100': 'Dresdner Streichtrio', '7654300': 'Soul T (3)', '7654500': 'Stefano Falchi', '7654800': 'ทวีศักดิ์ ฟ้อนอ้อมโพน', '7654900': 'Flissi Rabah', '7655300': 'Bobbie Larson', '7655600': 'Los Monfortinos', '7656100': 'Cardinal Moon', '7656700': 'Bispehaugen Ungdomskorps', '7657500': 'XX125', '7657900': 'Amika (3)', '7658200': 'PZP (2)', '7658400': 'Trio \"Los Matua\"', '7658600': 'The Voices Of Tabernacle Baptist Church', '7659300': 'Orfeón Joaquín Turina', '7660200': 'Not For You (4)', '7660600': 'Marijana Mandusic', '7661100': 'Андрей Ягунов', '7661400': 'Sara Bruxada', '7661700': 'Billy Bess', '7662100': \"Beli Yo'il\", '7662200': 'Walt Carney And The Country Lads', '7662600': 'Mountain View High School Music Department', '7663300': 'WILDINGandUNWILDING', '7663700': 'The Trinid Singers', '7663800': \"Glenn Scott's Rhythm Rascals\", '7664200': 'Gonzaga Leal', '7664400': 'Miscarriage Remains', '7664600': 'Britt Small', '7664800': 'Calibra (2)', '7665700': 'Hell Abyss', '7666100': 'Ansambel Murni', '7666400': 'Aural Air', '7666500': 'HipHop Doktrina', '7667600': 'Steam Roller (3)', '7667800': 'Jojo In The Stars', '7668800': 'Churp Fly', '7669400': 'Ηλίας Σοφρωνάς', '7669500': '池田欣彌', '7669600': 'Soft Pioneer', '7670000': 'D-Royal', '7670500': 'The Nerd Herders', '7671200': 'DJ Sofa (2)', '7671800': 'Frankie J. (6)', '7672500': 'Alfred Hause Und Sein Großes Konzert-Orchester', '7673200': 'Ingvar Johanssons Orkester', '7673500': 'Helen Muru', '7673700': 'Taylor Bradshaw', '7673800': 'Organic Picnic', '7673900': 'Richie Cabo y Su Orquesta', '7674100': 'Lello Ricco', '7674400': 'Shreen Harmony', '7674600': 'Decimate Damnation', '7675000': 'John Keith-Jones', '7675600': 'Ernst Von Gemmingen', '7675800': 'FXF (2)', '7676100': 'Aftruu', '7676600': 'Exotic F', '7676800': 'Fostermother', '7677200': 'Sadistik Satanist', '7677400': 'Coda (45)', '7677600': 'Männerchor Des Bundesrealgymnasiums Und Des Realgymnasiums Villach', '7678100': '邱心儀', '7678200': 'Gail Lloyd', '7678900': 'Memo 600', '7679700': 'De Edele Delen', '7680400': \"Hombre All'Ombra\", '7680700': 'Joy Adams (2)', '7680800': 'Varvara Turova', '7681000': 'Midnight Passion Band', '7682000': 'Jakub-Monika Expressions', '7682500': 'Aim Cryer', '7682900': 'The Bazile Republic', '7683100': 'Vernon Kenyon', '7683300': 'Francesca Mackay', '7684100': 'Yabzyy', '7684600': 'Justin McGarvey', '7684800': 'Les Musiciens (3)', '7685100': 'Los Rangers de Tingo Maria', '7686600': 'Romuald Tuall', '7686700': 'Lumi (9)', '7686800': 'Enzo Picardi', '7686900': 'Deathly Day', '7687100': 'The Fanfare Trumpeters Of The Royal Canadian Corps Of Signals Band', '7687400': 'Tommy Larsen (2)', '7687600': 'Zakari', '7688400': 'DJ Nitin', '7688500': 'Klon (10)', '7688800': 'Lu1', '7689100': 'Nelia Safaie', '7690500': 'Stonecutters (2)', '7690700': 'DJ Rated R (3)', '7691000': '\"Boppe\" Bengt-Olof Perhamn', '7691100': 'Mario Zan E Seu Conjunto', '7691400': 'Pierre Tissot', '7691600': 'Manuel Romero (9)', '7692000': 'Emily Hackett', '7692200': 'Turista (3)', '7692900': 'Huramingos', '7693100': 'Martha Løvfoll', '7693600': 'GroundZero Digital', '7693700': 'The Mö Lam Group', '7694000': 'Suse B', '7694700': 'Underground Funk Entertainment', '7694800': 'Les Oreilles Rouges', '7695400': 'The Keith Greko Trio', '7696300': '小南泰葉', '7696400': 'Alwin I.R.B.', '7696600': 'Matt Ponsonby', '7696900': '小夜子', '7697000': 'Judith Kiddo', '7697100': 'Jean-Jacques Mabilat', '7697200': 'The Leeches (7)', '7697600': 'Salty Crickets', '7699500': 'Hermanos Aramayo', '7699600': 'Lew & Margaret Shelton', '7700000': 'Архомотрон', '7700600': 'DJ Sangino Rawmonia', '7700900': 'Ben Bogart (2)', '7701700': 'Zdenek Fiedler', '7701800': 'Harry Pickens Trio', '7702700': 'Hugo De Groot (4)', '7702900': 'Tonino Esposito (3)', '7703800': '6uonoMouka', '7704700': 'The Saint Francis Xavier Gospel Choir', '7705100': 'Claudette M. Jensen', '7705500': 'Mystical Space', '7705600': 'The Dukes Of Jazzard', '7706400': 'Until Forever', '7706500': 'Brittanica Piano Accordion', '7707200': 'Sixpack (10)', '7708400': 'Phil Baker (15)', '7708600': 'Nilson Athayde', '7708700': 'AaLeX', '7709400': 'Melonious Funk', '7710100': 'IMOCD!', '7710400': 'Kome Udu', '7711000': 'My Black Ram', '7712200': 'Grupo Coral A Voz Do Alentejo Na Quinta Do Conde', '7712500': '貴美', '7713100': 'Radio Revolution', '7713400': 'Z-7 (2)', '7713500': 'Pharmacia', '7714100': 'OurR (아월)', '7714900': 'Gárgulas', '7715000': 'The Paul Godfrey band', '7715400': 'Mauro Cennini', '7715500': 'Gasoline band', '7716400': 'Marius Clemenceau', '7718000': 'Drew Bunting', '7718100': 'Vadinho Ramos', '7719200': 'Karl E. Moyer', '7719300': 'Глория Атанасова', '7719400': 'Vox Lugosi', '7719900': 'Jo Brauner', '7720300': 'Alnocys', '7721000': 'Trumpet Kings', '7721400': 'Alfonso Piña Y Su Superbanda', '7721800': 'Former Jean Crotti', '7723100': 'Italo Celoro', '7723800': 'Piston (8)', '7724200': 'SupplyDemand', '7725300': 'Leandro Camerotto', '7726500': 'Katznoise', '7726700': 'Bill Dudding', '7727000': 'Charles Anthony Johnson', '7727300': 'Dirk Verholle', '7727400': 'The Shak & Speares', '7727500': 'Coro Alpino C.A.O. - Como', '7727600': 'С. Л. Лазерсонъ', '7728000': 'Angelblast', '7728200': 'FTC Productions', '7728600': 'Excide', '7729800': 'Rapid Fire (8)', '7730800': 'Patros15', '7730900': 'Aisling Lavelle', '7731500': 'Soilah', '7731600': 'Каналето', '7731900': 'Z (78)', '7732200': 'Colin Fowlie', '7732600': 'Alan Marlo', '7733000': 'Deadsky', '7733800': 'Die Coverlire', '7734200': 'Mieke Hoogendorp van Ditmarsch', '7734600': 'Hennie Storm', '7735000': 'Chuck Zimmerman (2)', '7735300': 'Julio Martín Olivera', '7736500': 'Eric Spike', '7736700': 'Laura Olivia', '7738700': 'جاسم سنان', '7739500': 'Olivia Neutered John', '7740600': 'Matthew J. Rolin', '7741000': 'Lucien Oppier', '7741400': 'Bob Cain & The Cane Breakers', '7741600': 'The DoorJams', '7742700': \"Lonely Men's Defense Initiative\", '7742900': 'Anna Marhad', '7743000': 'Des Pres', '7743400': 'Kahri 1k', '7743600': 'Bones Of Adam', '7745200': \"Dolores And The Queen's Men\", '7745400': 'Max Zalkind', '7746100': 'Estherville High School Concert And Stage Band', '7747200': 'İsmaili', '7747600': 'Abingdon School', '7747700': 'Benton Blount', '7747900': 'Insert Coin (10)', '7748000': 'El Chaton y Su Conjunto', '7748200': 'Matt Duren', '7748400': 'The Beach Continentals', '7748500': 'David Lahm And The All-stars', '7749000': 'Yisroel Williger', '7749200': 'Lazy Railway', '7749300': 'Suzanna Hall', '7749900': 'Dune Boy', '7750700': 'RockPaperScissors', '7750800': 'Hector Guerra (3)', '7750900': 'Scola Metensis', '7751100': 'VIBN-2', '7752000': 'J. T. Kennedy And The Country Cousins', '7752300': 'Tim Kay (4)', '7752600': 'Les Affreux', '7752900': 'Just Us (29)', '7753200': 'Moon & Kenny', '7753400': 'Prospector Bill', '7753500': 'Lou Asril', '7753700': 'Janny Boomstra', '7753800': 'Eiko Jin', '7755300': 'Tyrell Otoo', '7755800': 'Rachel Ashley', '7756700': 'Oneirodrum', '7757000': 'Michelino (7)', '7757300': 'Los Peruleros', '7757500': 'George Westerholm & The Wild Wildcats', '7757900': 'Triangle (36)', '7758700': 'Svenssen', '7758900': 'Djubay', '7759500': 'Acustico Mania', '7760400': 'The New Vintage Jazz Band Of Auckland', '7760600': \"Flo Bublys' Brumcalli\", '7760900': 'Omikron (9)', '7761100': \"Black Cat's Smoking\", '7761600': 'Quad-Cam', '7761700': '佐藤芳明', '7762000': 'Eyeslave', '7763600': 'Himmeet Kuviot', '7763700': 'Παναγιώτης Μαρκιανίδης', '7764300': 'The Ghetto House', '7764700': 'Ceòl An Aire', '7765100': '\"The Peace Maker\"', '7765700': 'Slabetrader', '7765800': 'Yakruna', '7766100': 'Roger Roger (4)', '7766600': 'Marigold (15)', '7766700': 'Dernier Rempart (3)', '7767000': 'Prism #1', '7767200': 'Les Ombres (3)', '7767300': 'Peter Rose (9)', '7767800': 'Surg (4)', '7768500': 'Sukysa Likasi', '7768700': 'Mati Phantom', '7768800': 'Matt McGinn With The Banshees', '7769000': 'Balinger', '7769500': 'Rhino (33)', '7769700': 'Kjell Jansson/Jan Zirk Quartet', '7771800': 'The Gospel Messengers (14)', '7772400': 'MRMP', '7772500': 'The Lollypops (6)', '7773300': 'Tom & Jerry (10)', '7773500': 'Sacha Runa', '7774800': 'Виктор Леонидов', '7775400': 'Stekli psi', '7776200': 'Daniela Hensel', '7776400': 'Madouba Camara', '7776500': 'lilli persifati', '7776800': 'NecroWhoreOrgasm', '7776900': 'The Joymen Quartet', '7777200': 'Gian Corrado Giannetti', '7777300': 'State Machines', '7777800': 'Kodé', '7777900': 'Bert Kruizenga', '7778200': 'Susanne Erding Swiridoff', '7778500': 'Kim Russell Seibert', '7778700': 'Matt Baczewski', '7779100': 'Sebastião Campos', '7779300': 'Auckland Welsh Choir', '7780300': 'veni vidi vici (6)', '7781100': 'Tellurians (2)', '7781300': 'Grupo Experimental De Música', '7781500': 'Jan Kreselski', '7782300': 'Effigy (13)', '7782500': 'The Four Blokes', '7783100': 'Kirov Reporting', '7783600': 'The Citylights', '7783800': 'Duck (40)', '7783900': 'Old Man Piss Session', '7784500': 'Little Mouth', '7785000': 'Shady Nasty', '7785300': 'Folklórna Skupina Z Terchovej', '7785700': 'Blue Max Band', '7786200': 'Marcel McKeough', '7786800': 'The Sleep Eazys', '7786900': 'Witch Taint', '7787100': 'Terry Mitchell (5)', '7787200': 'MAMALAID RAG', '7789000': 'Old Sidekicks', '7789300': 'Bucket Mouth', '7789500': 'Sean L. Maloney', '7790100': 'Guy Jalbert', '7790400': 'Johnny Fontane And The Rivals', '7790700': 'Maybe Nots', '7790900': 'Noise SJW', '7791000': 'Blackcloudsummoner', '7791300': 'Ligula', '7791700': \"Jones's Novelty Dance Orchestra\", '7792500': 'Mausam', '7792600': 'الشهية', '7794600': 'Čeda Miljković', '7794900': 'Joe Killa A.K.A. Joe Dirty', '7795700': 'Corell (5)', '7796800': 'New Orleans Five (2)', '7797100': 'FEY (3)', '7798100': 'Mon Murmure', '7798400': 'Monsieur Jeffrey Evans And His Southern Aces', '7798800': \"S' Evz Chörli\", '7799600': \"The Andover 8 'N' 1\", '7800000': 'bobby louw singers', '7801700': 'The Lost Broadcast', '7802500': 'Max Messina (3)', '7802600': 'Ornella (5)', '7802700': 'Siamois Synthesis', '7802800': 'Cesar Fontes', '7803300': 'Soundstatues', '7804000': 'Olivia Harms', '7804700': 'Broadway Quartet', '7805400': 'Rizza (2)', '7805500': 'Peter Bruhn (4)', '7805700': 'Scarlet Diva (2)', '7806100': 'Elohim (11)', '7806400': 'Ramona Smith', '7806600': 'Gerhard Koch (2)', '7807300': 'Martien Van De Reek Met Orkest De Kreekels En Het Heipoorterskoor', '7808100': 'Kala Ludhianvi', '7808300': 'Stan Borrel', '7808400': 'Nang Moey Phawng', '7808500': 'C.O.R.N!', '7809000': 'Slogan Music', '7809700': 'Diego Shim', '7810900': 'Wilhem Schrinkler', '7811000': 'Vladimir Horrowitz', '7811400': 'Frankie Jones (4)', '7811600': 'kidwithapedalboard', '7811800': 'Greg & Peta Evans', '7812200': 'Static Disco', '7812400': 'Emma Ratna Fury', '7815000': 'Blue Steps And The Horns', '7815600': 'Mack Goldsbury And The New York Connection', '7816100': 'Thomas Waldau', '7816500': 'Die Tkkg-Bande', '7816800': 'Redlbach', '7816900': 'La Promesse', '7817200': 'Obskyr (2)', '7817500': 'Josef Robert Lehnert', '7817800': 'Eky', '7818700': 'Karl & Lewis', '7819100': 'Los Vagabundos De Nayarit', '7819400': 'Etnia Supersantos', '7819700': 'The Larry Russo Trio', '7819900': 'Zushi (3)', '7820100': 'Willie Gilmer at the Gospel Caravan', '7820500': 'Maudie Bosley Neal', '7820600': 'Coraluna', '7821600': 'Boshko & Lyoshko', '7822100': 'The Judybats', '7822300': 'Grove (4)', '7822700': 'Fabiano Andreacchio And The Atomic Factory', '7823100': 'Crossing The Rubicon (2)', '7823200': 'Noel Rivers And The Fountains', '7824300': 'Billy Batts And The Made Men', '7824500': \"'N Stuff\", '7824800': 'ليث يوسف', '7824900': 'The Acid Queen', '7825600': 'Ronnie Gill (2)', '7826000': 'Fandango De Pajuçara', '7826300': 'Les Artistes Lyriques Francais Associes', '7826700': 'Over (8)', '7826900': 'Putrefaction of Rotting Corpses', '7827500': 'Bob Mellis', '7827800': 'Warren and Lillian Rogers', '7828100': 'Jokes On You', '7828200': \"The Raider's\", '7828300': 'Armonia Jarocha', '7828800': 'DECAY CHANNEL 9', '7829400': 'Quatuor Toulousain', '7829600': 'Mas Yos', '7829700': 'Leros', '7830200': 'Stephen Masino', '7830700': 'Living In The Aftermath', '7830800': 'Brent Woodall & The Natchez Trace Band', '7831300': 'Dina Tree', '7832700': 'Laily Dimjanthie', '7833000': 'Rhymen Man', '7834000': 'Јана Бурчевска', '7834700': 'Kanton6Teichman Quintet', '7835800': 'Tyrone Rayburn', '7836500': 'Hockey Fiend', '7836700': 'Lovesick (8)', '7837000': 'ミス・コロムビア', '7837200': 'Iceman Bob', '7837700': 'Sick#Red', '7838700': 'Enoch Dark', '7838900': '陳艾美', '7839000': 'Jennifer Reff', '7839100': 'Daytime Power Outage', '7839500': 'Soma (86)', '7839900': 'The Jumping Jacks (6)', '7840100': 'Milan Zuna', '7840200': 'The Rude Mood', '7840700': 'Yannis Saravanos', '7841400': 'Pablo Francisco Mendoza', '7842000': 'Semantic Maze', '7842100': 'Hautajajs Hirvi Nussi', '7842200': 'Blind Century', '7843600': 'Orkes Melayu Teratai Putih', '7844500': 'Andy & Cindy', '7844900': 'The Buffalos (2)', '7845100': 'Bobby Moore (19)', '7845300': \"Runo Ericksson's Omnibus\", '7846300': 'Gilberto Correia', '7846800': 'Cosmit', '7846900': 'Invernía', '7847600': 'Bruce Gilbert And The Refugees', '7847800': 'Thalrex', '7848600': 'The Adhocs', '7848800': 'Glen Jevon', '7849000': 'La Cumana', '7851100': 'John Welsh Band', '7851500': \"Crime' n 1 Team\", '7851800': \"Sleep's Sister\", '7851900': 'Breed To Infest', '7852800': 'Aaron Matheson', '7853000': 'Button Masher (2)', '7854000': 'نعيمة إبراهيم', '7854100': 'Rosenheimer Spielmannszug', '7854200': 'Concepto Intocable', '7854300': 'Maxine (30)', '7854700': 'Ban Boo Hi', '7854900': 'Klaus Germann', '7855000': 'FPMG', '7855400': 'Emil Šaloun', '7855800': 'Bobby Santamaria', '7856800': 'Moons Eat Stars', '7856900': 'Cativeiro Capoeira', '7857800': 'Token (10)', '7857900': 'دريد عواضة', '7858000': 'Thomassons', '7858100': 'Rumble Daddy', '7858200': 'The George Gaffney Trio', '7858600': 'Tommy Svensson (2)', '7859500': 'Intergalactic Funk Cowboy', '7859800': 'Pinha Presidente', '7860000': 'Albertino E La Sua Orchestra', '7860200': 'Krzysztof Ostrowski (5)', '7860300': 'Primo Chamaco', '7860400': 'Mawego Band', '7860500': 'Knigge og Vennerne', '7861600': 'Phaselock', '7862500': 'Pekari', '7863400': 'Donnie Rankin', '7863500': 'We Blame The Empire', '7863700': 'Dúo Te Porto Mal', '7864000': 'Hawaii For Africa', '7864600': 'Glen Hornblast', '7865500': 'Jean Baskets', '7865700': 'BoiSlee', '7866000': 'David Kennedy (24)', '7866100': 'Go Go Guillotine', '7866700': 'Calypso & The Sun Demon', '7866900': 'Ex libris (3)', '7867500': 'Chris Corcoran Trio', '7868000': 'Steve Vosbikian Ensemble', '7868800': 'Sik (13)', '7870300': 'Beto Bertolini', '7870500': 'M. Rosa Ribas', '7871000': 'Filibuster (3)', '7871200': 'Tram Delille', '7871400': 'Ceddo (2)', '7871500': 'Adriana Varela (2)', '7871600': 'Big Gilson & The Wolf', '7872000': 'Projections (5)', '7872600': 'Fusion Point (2)', '7872700': \"Ano Ur'co Al' Pej Dvej\", '7872900': 'James Brooks (9)', '7873300': 'Bill and Jack', '7873800': '20/20 A Capella', '7873900': 'Franklin Hernández Cassiani', '7875100': 'Schwyzerörgeli-Duett \"Edelweiss\" Wattenwil', '7875400': 'Energy Pangea', '7875700': 'Liers', '7875800': 'String Soloists of the Czech Philharmonic Orchestra', '7876200': 'Double Edged', '7876300': 'Sinbad Onelife', '7876400': 'Eighteen Wheeler', '7876500': 'DJ Snare (5)', '7877300': 'Tsunami Poets', '7877500': 'B. Mallet', '7877600': 'Sorrow (17)', '7877800': 'Lygophobe', '7878200': 'The \"Original\" Beatitudes', '7878600': 'Reginald \"C\"', '7879100': 'Randy Rogon', '7880100': 'Gray Jason', '7880500': 'Escapist (5)', '7880900': 'BxDxWxMxT', '7881100': 'Butterfly Compact', '7881500': 'Cavaliers (7)', '7881900': 'Lynley Dodd', '7882400': 'Crimekaiser', '7882500': 'Dario Congedo & Nàdan', '7882700': 'Little Ronnie Joyce and Jonathan Butler', '7882800': 'Oracle (52)', '7883200': 'Cosovel', '7883700': 'Rotana Tarabozuni', '7883800': 'Pray For Rain (4)', '7884100': '동양고주파', '7885000': 'Κύκλωμα', '7885200': 'HUGO (96)', '7885900': 'King Geno', '7886200': 'P. Williams And The Exciting Melody Clouds', '7887100': 'Baluchi Textiles', '7887200': 'Sandro Nicolas', '7887500': 'Adolph Finkelstein', '7887800': 'Alfonso Andrade', '7887900': 'Larry Crockett & The Funky Cherokees', '7888100': 'Life Worship (2)', '7888700': 'Conjunto Guadalupe De Salomon Quezada', '7890200': 'Fysh', '7890300': 'Jim Brandon', '7890500': 'Xpert Productions', '7890700': 'Amadeus (42)', '7890800': 'Cler', '7891300': 'Arhara', '7891900': 'Zero Tolerance (21)', '7892500': 'Plaisir Paisible', '7892600': 'The Horde (7)', '7893000': 'الشيخ علي', '7893600': 'Glenn Marks And His Hi-Five', '7893700': 'Ara Veney', '7894300': 'Youngso No', '7895200': 'Berkley Hart Selis Twang', '7895400': 'Ansambel Zreška Pomlad', '7895800': 'Wombcage', '7895900': 'Carl Pantle', '7896200': 'Piąty Żywioł', '7896300': 'جميمي', '7897000': 'Dzahi & Astyer', '7897400': 'Kevin Farrell (6)', '7897500': 'Eddie-C', '7897900': 'Amando Balderrama', '7898400': 'Xiara', '7899200': 'Psilocyburns', '7899300': 'Post Haste!', '7899700': 'Quinine (2)', '7899800': 'Benjamin Hayek', '7900100': 'Winds Caress', '7900400': 'Kim Dong-Seok', '7901000': 'Maxado', '7901200': 'Ormay', '7901600': 'Little Old Lady', '7901800': 'Anna E. Röcker', '7902000': 'La Cosa Nosta', '7902600': 'Stella (95)', '7903400': 'Scarecrow (47)', '7903600': 'Fifty Guard', '7903800': 'Freakshow (12)', '7903900': 'Marina Novelli', '7904200': 'Fianna (3)', '7905000': \"Joe Green's Band\", '7906000': 'String Of Pearls (3)', '7906400': \"Bok'n'Brusetruse\", '7906700': 'Younggu', '7907600': 'Cortney Dixon', '7907700': 'Dot Dot (2)', '7908000': 'Paris Jackson', '7908300': '李蘢怡', '7908900': 'Lights A.M', '7909100': 'Mike Clancey', '7909400': 'Infinitas (2)', '7910000': 'The Michael Patrick Band', '7910400': 'Royal Mind', '7910500': 'Jonye Best', '7910700': 'Raj Singarajah', '7911100': 'Lino Mori', '7911500': 'Emprise (2)', '7911800': 'Sul E. Holms', '7911900': 'Johnny Guarnieri Swingtet', '7912000': 'Moosy Flanagan and \"The Slaves\"', '7912300': 'Antichrist Productions', '7913400': 'Angelique Patrice', '7913800': 'Randriatsarafara Emilson', '7914100': 'Tuula Sarotie', '7914700': 'Matt Sweeney (3)', '7915400': '浜田山〜ず', '7915800': \"Dupre'\", '7916100': 'Rock De Santana', '7916400': 'Mariachi Nuevo Teplc Lencho Parade', '7916700': \"Johnny Devlin's Devils\", '7917200': 'The Royal Wings', '7917700': 'Justin Ratsimbazafy', '7918200': 'Weeze_Juice', '7918800': 'G-Force (43)', '7919200': 'The Drake University Community Chorus', '7920100': 'Armand Sagame', '7920900': 'Kaan Beyru', '7921300': 'Arturo Montes (2)', '7921400': 'Gerry Francis (3)', '7921800': 'Tsuki To Go-Pensu', '7922100': 'The Autobahn Of Life', '7922200': 'Griffin MXM Production', '7922300': 'Cambio (5)', '7922600': 'Insidious Speed', '7922800': 'Tekno Classical', '7922900': 'Chickenhouse (2)', '7923200': 'Teeni. L', '7923600': 'Phatty Acid (2)', '7924000': 'The Salter Brothers', '7924500': 'Sammy López (3)', '7924600': \"The Nott's Forest Supporters\", '7924800': 'The Allen Sisters (2)', '7925000': 'RuK Nu Rims', '7925500': \"Hot Rockin' Daddy-O's\", '7925600': 'Lucy Lee (2)', '7925700': 'Pam French', '7925800': 'Marie Mariteragi', '7926100': 'Super B.I.M.', '7926400': 'Алексей Аедоницкий', '7926700': 'The Existence (12)', '7927000': 'Ralf Hübner (3)', '7927200': 'Ddddd.', '7927700': 'Eloquence, Claudio Abbado, Herbert von Karajan, Carlo Maria Giulini, Giuseppe Sinopoli', '7928400': 'T Swish', '7928500': 'Fannem // Coop', '7928600': 'The New Note Octet', '7928700': 'Blit Blot', '7929200': 'Hajib', '7929600': 'Eddie Wied', '7930200': 'Inside Outside', '7930400': 'Mayo Hunter', '7930700': 'Maha Pralaya (2)', '7931400': 'The Western Brothers Band Of Nigeria', '7931800': 'Rosita Jackson Chatonda', '7932300': 'Orion (111)', '7932900': 'Guri Bal', '7934400': 'Quarter Water', '7934500': 'Vladislav Nabatnikov', '7934900': 'Prime Specimen', '7935700': \"The Master's Quartet (5)\", '7935800': 'Sally Ford And The Pachuco Playboys', '7936100': 'Ole Brinth', '7936500': 'Johnny Powers And The Invisible Rays', '7936600': 'Durban City Seven', '7937500': 'Urban (32)', '7938200': 'Caufield (4)', '7938700': 'Priest Of Secret Garden', '7939300': 'イヌイユカ', '7939500': 'Jongerenkoor Chr. Mavo \"Vossenwelde\", Bennekom', '7940700': 'Villain Loco', '7941000': 'Masaki Sato (3)', '7941100': 'Ray Victor', '7941800': 'Kinetic (34)', '7942600': 'Karl Schwonik Quartet', '7943300': 'City City (2)', '7943800': 'Listen 2 Him', '7943900': 'Laura Mariscal', '7944700': 'Zig￥Band', '7945500': 'Katelyn Smith', '7946200': 'Orpheus Britannicus', '7946400': 'Chancer (4)', '7946500': 'Juan Rovira', '7946900': 'Gianni Scardamaglio', '7947200': 'IFEELU', '7947600': 'Fear Not Want', '7949700': 'Zincboy', '7950100': 'Flesh Mother', '7950300': 'Peter Und Paul-Chor, St. Petersburg', '7951900': 'Neumatic Parlo', '7953700': 'Bluestouch', '7954100': 'Fast Food (12)', '7954300': 'Little Wendy', '7954700': 'Orchestre de chambre italien', '7955200': 'Orko (10)', '7955300': 'Neko Savvy', '7955500': 'Studio The Kid', '7956200': 'Robot Child (2)', '7956900': 'Das Bodo-Wiese-Sextett', '7957100': 'T.G.T.', '7957900': 'Dilton (2)', '7958100': 'Sachi Oyama', '7958300': 'Vito Pignatelli', '7958500': 'Pyramid (41)', '7959100': 'Marcel Arnoux (2)', '7959800': 'Squirt (12)', '7960900': 'Elsa Summers', '7961100': 'Valeriya Shaportova', '7961400': 'Ron & Perry', '7961500': 'Lyall Bowen And His Philadelphians', '7961600': 'George Kavs', '7962300': 'Manyula Dance Club', '7962400': 'HÄG', '7962500': 'Manoju', '7963100': 'Luciano García Díaz', '7964100': 'Greg Johnson (39)', '7965000': 'Daniel Jackson (17)', '7965300': 'Vienna Baroque Ensemble', '7965900': 'Painbow', '7966300': 'Personal Identity', '7966600': 'Element Of Eclipse', '7966700': 'Jeunesses Musicales Du Canada', '7967100': 'Contrary', '7967500': 'Marcos García (10)', '7968500': 'Beeco', '7968600': 'Lumberjack Concert Band', '7969300': 'Urwerk (2)', '7969400': 'Seven Days In May', '7970100': 'Dr. Karel Ververs & The Darling Singers With Hotline', '7970600': 'Olga Lepkova Jastremsky', '7971100': 'Christoph Vogel (3)', '7971300': 'Secret Stage', '7971800': 'Choldra', '7972200': 'Jenny Laurent', '7972500': 'Cicero Dos Santos (2)', '7973100': \"L'Orchestre Jazz-Band Du Gramophone\", '7973700': \"L'Estranges In The Night\", '7973800': 'Inside Blur', '7974700': 'Crazy Call Buddha', '7975100': 'Keane Douglas Wren', '7975800': 'Atiavi Dzenawo Dekonyanu Habobo', '7976200': 'Jorge De Crespo', '7976400': 'Pr. J. Pirart', '7976500': 'Mache (2)', '7976800': 'James Boyd And The Rhythm Rebels', '7976900': 'L.O.D. (10)', '7977800': 'Billy Davis, Jr.', '7978000': 'Theresia (3)', '7978300': 'Kit Trigg', '7978400': 'Dave Matthews & Tim Reynolds', '7978800': 'Toys Of Mars', '7979300': 'Diney Do Gueto', '7979700': 'Asya Engin', '7979800': 'Patrick Arena', '7980400': 'Midnight Serenaders (3)', '7980500': 'Imperatrix (2)', '7980600': 'Stan&Jo', '7981000': '坂本孝昭', '7981200': 'Zayne Grey', '7981500': 'Odamaru', '7982900': 'José Luis Naveira', '7983100': 'SheppardKarlsson', '7983500': 'Errance (2)', '7984300': 'Bavarian Radio Choir', '7984400': 'Orazio Tuccella', '7984800': 'Damien Natangelo', '7985100': 'Marcello Benetti Shuffled', '7985200': 'Ensemble Ars Italica', '7985300': 'Will Gale (2)', '7986200': 'Soul Craft Recordings', '7986300': 'Godbone', '7987200': 'Willie Fisher (3)', '7987400': 'Shirley Greenfield', '7987500': 'Volunteer Department', '7988800': 'Grupo Cero', '7989000': 'Flor One', '7989200': 'Jimmy Bowens (2)', '7989800': 'Satsumi Matsuda', '7989900': 'Icosian', '7990400': 'Joe Thomas IInd', '7990500': 'Massey-Harris', '7990700': 'midWess', '7991400': 'Bareon', '7991600': 'Ziffren, Brittenham, Branca, Fischer, Gilbert-Lurie, Stiffelman, Cook, Johnson, Lande & Wolf LLP', '7992300': 'Grand 8', '7992700': 'Taylor Allen (3)', '7992900': 'Void (104)', '7993200': 'Amy Aileen Wood', '7993300': 'Anastassia Sidelnikova', '7993400': 'Artur Rubinstein Philharmonic Choir', '7994300': 'Ζαϊρα', '7995200': 'Scorse Of Morte', '7995300': 'Tenore Barbagia, Ollolai', '7996800': 'Opprobre (2)', '7996900': 'Temple Of The Embrace', '7997200': 'Christian Hees (2)', '7997400': 'Forclose', '7997800': 'De・Co', '7997900': 'Quirl Singers', '7998000': 'Ginestà', '7998300': 'Jean-Léon Destiné Et Sa Troupe', '7998600': 'The Field Mice (2)', '7998800': 'Sprts', '7999100': 'Bernard Kenton', '8000300': 'Prisoners Of War (7)', '8000400': 'Head (42)', '8000500': 'Mouldy Roof', '8000600': 'DJ Fall Guy', '8000800': 'Insomnia Project', '8001200': 'Grummelgnom', '8001400': 'Elena Strati', '8001700': 'Poor Little Things', '8001800': 'Foschia', '8002800': 'Figmennt', '8003000': 'STNX (2)', '8003100': 'George G. Bloomer', '8003300': 'Gale Clark (2)', '8003700': 'Suyuin', '8004000': 'Fay Simmons And Trio', '8004100': 'Jodleren Fra Studsgård', '8004300': 'Yan Higa', '8004700': 'Manuel López (15)', '8004900': 'Jonathan Meharry', '8005900': 'Os Ratones', '8006200': 'Svedstorm', '8007000': 'Quazerz', '8007500': 'Matthew Compton (3)', '8007600': 'Stâg', '8007800': 'Неизвестный Композитор', '8008300': 'Eddie Hall (8)', '8008500': 'Jack Brooks (7)', '8009100': 'Bill & Wayne Turtle', '8009200': 'Luciano Balan', '8010000': 'Jack Odin And His Orchestra', '8010300': 'Positive Feedback Loop', '8011000': 'Osuani Kwame Appiah-Kubi', '8011600': 'Un:Said', '8011900': 'Andreas Kamperis', '8012300': 'The Rudy Guess Orchestra', '8012500': 'Le Lotus Noir', '8012600': 'Steva & The Sativa Divas', '8012700': 'Hunter Van Brocklin', '8013700': 'Tekbiyik Izzet', '8015100': 'The Fulegins', '8015900': 'Kaverna', '8016400': 'Esh & The Isolations', '8016600': 'Kris Pineda', '8016800': 'Salvaje (45)', '8017000': 'Travis Rogers & The Continentals', '8017300': 'Joe Neiland', '8018000': 'Miranda Myles', '8018500': 'Fabulous Girls', '8018800': 'The Carolina Mountain Boys', '8018900': 'Mad Dan', '8019100': 'Ивайло', '8019300': 'René Gousset (2)', '8020100': 'Brad Smith (35)', '8020500': 'Flesh of Morning', '8020800': '24 Scientist', '8020900': 'Superstone (3)', '8021100': 'Human Baggage', '8021400': 'Elio Ricca (2)', '8021600': '7candystars', '8021700': 'Jonas Haga', '8022000': 'Gone Rogue (2)', '8022100': 'Glasgriber', '8023900': 'T.K. Pukazhendhi', '8024000': 'Peter Alliss', '8024200': 'Crisálida (3)', '8024400': 'Grave Eater', '8024900': 'Kiohm', '8025500': 'FIGXXRO', '8025800': 'Ok Baby !', '8026900': 'Chasing After Alice', '8028200': 'Henry Halliwell', '8029200': 'Egon Eichener', '8029800': 'Mike Zaloxx', '8030500': 'Letters To Lions', '8030800': 'Klymax (2)', '8030900': 'Telexx', '8031100': 'La Stryker', '8032300': 'Sharlene Gaenicke', '8033800': 'The Roberts Family (2)', '8034800': 'The Short Happy Life', '8035000': 'Tonath Zonalli', '8035700': 'Repulsive Force', '8035900': 'Random Axis (2)', '8036000': 'Iaroslav Prokopchuk', '8036300': 'Zack Dupont', '8036900': 'Φώτης Σκληρός', '8037600': 'VAST Empires', '8037800': 'African Pirates', '8038400': 'synkotron', '8038600': 'L.F. Angels', '8039000': '\"Billy\" Adair', '8039100': 'Rip Snort And The Cutters', '8040200': 'Hans Van Manen', '8041100': 'Empty The Ocean', '8041500': 'Grupo Kalamari Caribe', '8041900': 'Lil Bird (3)', '8042600': 'Justin Johnson (20)', '8043900': 'Pigmhall', '8044700': 'Chela Guzman', '8044800': 'Charles Hobson (2)', '8044900': 'Maytrix (2)', '8045000': 'The Cut-Ups (4)', '8045100': 'Pedro Neves (7)', '8045200': 'Diamondback (5)', '8045500': 'Palindrone (4)', '8045800': 'Sahib İbrahimov', '8046000': 'Petar Ilovčević', '8046400': 'Trust (40)', '8046500': 'Jada Brown', '8047000': 'John Richard Wright', '8047200': 'Paul Earle (2)', '8047400': 'Pray First', '8047800': 'N. Dessau', '8048400': 'Los Pikaros Del Norte', '8050000': 'Jorge Luis (9)', '8050400': 'Giovanni Minafra', '8051000': 'Los Faroles', '8052000': 'Svein Sæter', '8052400': 'Abysal-The Adam Jurczyński Project', '8052700': 'Harmony Four (9)', '8052900': 'Yoo-Jin Oh', '8053100': 'Jaykha', '8053300': \"Marcellos Et L'Orchestre Rythmo Band\", '8053500': 'David Gonzales (10)', '8053700': 'Petrit Alberto Baquero', '8053800': 'Rev. Paul Cox', '8054200': \"Mac Gollehon's Smokin' Section\", '8054400': 'Musikschule Bietigheim-Bissingen', '8054500': 'Stop Hitting Yourself', '8055700': 'Myr (5)', '8056400': 'YXP', '8057100': 'Dave Cooper (26)', '8058700': 'Los Marines', '8060100': 'Penfriend', '8060700': 'Greg Rajous', '8061600': 'Age Tendre (2)', '8062300': 'The Bluegrass Gospel Strings', '8062500': 'Poppy Porter', '8062600': 'Tony Arnold (5)', '8063000': 'Paul E. Heidemann', '8063600': \"Alexander's Ragtime Band (4)\", '8064300': 'Yam Lynn', '8064500': '奔波儿灞与灞波儿奔', '8065700': 'Emoticon (3)', '8066100': 'Scabloopy Floop', '8066400': 'Небесные Землемеры', '8066500': 'Gilly Jaxson', '8067300': 'Beyond This Rift', '8067800': 'Gilles Gala', '8068400': 'Olivier Delforges', '8069000': 'Revolution Thru Apathy', '8069200': 'Trace & The 8 South Band', '8069400': 'Sunny Waters', '8070400': 'Konspiration', '8070500': 'Magnolia Rhythm Boys', '8070600': 'Ignacio Olaez', '8070900': 'Pasteur Dorothée K', '8071300': 'DJ Progress', '8072300': 'Tiny Flea', '8072900': 'Noxe (2)', '8073000': 'William Eric Jordan', '8073200': 'Judith Utley', '8073900': 'Jin Kyung', '8074500': \"Christchurch Sacred Heart Girls' College Choir\", '8074800': 'Beatrix Ebersberg', '8074900': '1on2', '8075400': 'Locomotora (2)', '8076800': 'Alto Voltaje (8)', '8077100': 'Albion Quartet', '8077200': 'Mariachi Michoacano', '8078000': 'Patrice Grevet', '8078400': 'Los Hermanos Cervantes', '8078700': 'The Seed (5)', '8079000': 'Noah Archangel', '8080000': 'Carletto (2)', '8080400': 'David Alaba', '8080500': 'No Kill Shelter', '8080600': 'Atlanta Melody Makers', '8081700': 'Evgeny Rudenko', '8081900': \"Ian McSherry's Bad Habits\", '8082300': \"Tabukah 'X'\", '8082400': 'Julio Mejia (4)', '8082600': 'Ehsan Masoudian', '8082800': 'Larry & Tammy', '8083000': 'Marcelo Mendes Mota', '8083100': 'Isotapes (2)', '8083600': 'ちゃーみー♡くいーん', '8084500': 'Hellish Flavours', '8085300': 'Inner Sanctum (14)', '8086300': 'Kicked In The Teeth', '8086700': 'Odogu International Dance Band', '8087300': \"Tongue 'N' Cheek (2)\", '8088000': 'Grazia Duo', '8088200': 'Grieve (2)', '8088700': 'Rafael de Swarte', '8089200': 'Ländlerquartett Willy Kuhn', '8089500': 'แสงจันทร์ ร่มโพธิ์ทอง', '8089600': 'Glorita Gómez', '8090800': 'Muhammad Yusuf & Flaming Crescent', '8091300': 'Brynjar Aune', '8091400': '8Bits (3)', '8091600': 'John Hodgkinson (2)', '8091800': 'Coo (8)', '8092200': 'Vance Havner', '8092500': 'La Orquesta De Cuerdas De Luciano Ardi', '8092600': 'Le Lit Grince', '8093000': 'Inner Echo', '8094400': 'Gallons And Smoke', '8094500': 'Dominik Wagner (4)', '8094600': 'Robert Juráček', '8095400': 'Born & Tatwaffe', '8096300': 'Spillemandslauget Fandango', '8097200': 'Iamsipp', '8097400': 'Prophet James and The Sons Of The Prophets', '8097700': 'The Kym Purling Trio', '8097800': 'Beki Mari', '8097900': \"Martin Litton's Ellingtonians\", '8098400': 'Playback (7)', '8098500': 'Jacky Et Cathy', '8098900': 'Spiel Inf Rgt 59', '8099500': 'The Celtic Heritage', '8099800': 'Ángel0', '8099900': 'Surgent', '8100000': 'Jim & Lola Lowery', '8100100': 'Unitus (3)', '8100300': 'Morganas Illusion', '8100400': 'Disposición Asoleada', '8100900': 'Bill Kriner', '8101000': 'Tabou Fataki Junior', '8101100': 'Hydrokun', '8101400': 'Hooded Dasher', '8101500': 'Harrison Rodrigues', '8102300': 'Sarazino (2)', '8102400': 'HOYO-MiX', '8102600': 'Teddy Johnson Funk Five', '8102800': 'Coral Polifónica Do C.C.A.R. de Valladares', '8103000': 'The Flag Listeners', '8103100': 'BD Brothers', '8103300': 'Miguel Alderete', '8103600': 'Christina (160)', '8103900': 'INGRAY', '8105100': 'Chasing Ghosts (4)', '8105500': '사준', '8106000': 'The Fantabulous Sheepwash Playboys', '8106400': '梁山', '8106600': 'Pincus Lawenda', '8106700': 'Aota (5)', '8106800': 'Miklós Szilveszter', '8106900': 'Asliani', '8107500': 'Triptidon', '8107900': 'Cəmilə', '8108100': 'Renegade Soul Jazz', '8108200': 'Nadia Forde', '8108400': 'D-Point (2)', '8109400': '60 Cycle Hum (5)', '8109500': 'The Bates Brothers (3)', '8109700': 'Piper Stutsman', '8109900': 'Ramona Church', '8110100': 'Orchestre De 19 Solistes', '8110300': 'Arizona (18)', '8112000': \"Where's Billy (2)\", '8112800': 'Kjell Oskar Selman', '8113200': 'Les Trompettes De Paris', '8113400': 'François Denoeu', '8113600': 'The Bell Beat', '8114600': 'Sphinx (41)', '8115000': 'The Shazzbots', '8115200': 'Sons Of Jah (2)', '8115400': 'Band Of Drifters', '8116300': 'Rinky Sharma', '8116500': 'Ikaria (2)', '8116800': 'Deagon', '8117000': 'Sick Nanley', '8117400': 'Don Bagby (2)', '8117500': 'The Unknown (41)', '8118400': 'Shark Varnish', '8118600': 'Sine Twist', '8119000': 'Scoutsom', '8120900': 'PIGZEN', '8121000': 'Rick Martell (2)', '8121400': 'The Holo Holo Trio', '8121500': 'Debby Bacon', '8121700': 'The Nigel Mustafa Memorial Quartet', '8121800': 'Marv Allen (2)', '8122400': 'Evangelista Pedro Diaz y Rev Raul Filippi', '8122500': \"Dick's Church\", '8123200': 'Lenny Rocco (2)', '8123400': 'Jeff Foster (9)', '8123500': 'Πάνος Λαντούρης', '8123700': 'Kram (22)', '8123800': 'Trout Sisters', '8123900': 'Kerrie Beeston', '8124300': 'Dem Heaven Sent Boyz', '8125500': 'El Alba Disueve Monstruos', '8125600': 'DJ Naughty (4)', '8125900': 'The Uncanny Wordsmiths', '8126100': 'Charlotte Mazet', '8126400': 'ADOLESCENTX', '8126600': 'Gert-Jan, Erik En De Rest', '8126700': 'Het Oeteldonskssaomeraopsel', '8127000': 'Γιάννης Κακλής', '8127900': 'Decent Damage', '8128500': 'The Naps', '8128600': 'Esk-Esque', '8129900': 'Canberra City Supporters', '8130100': 'Smilez (3)', '8130200': 'Grey Goose (4)', '8130500': 'Estocolmo', '8132200': 'Tribo Éthnos', '8132700': 'Lifestyle (17)', '8132900': 'Weedipus', '8133300': 'Friends (207)', '8133400': 'ORF-Chor Kammerensemble', '8133700': 'Lesibu Grand', '8134400': 'Lord Forgive Me', '8134800': 'JJ.OK', '8135100': 'Midland Boyz The Band', '8135900': 'Jiro Osama', '8136400': 'Main Street (12)', '8137200': 'Loose Wig', '8137300': 'Luizz', '8137600': 'La Peña Del Bordillo', '8137800': 'Michel Vuillermoz', '8137900': 'Notre Dame Chorale', '8138500': 'Bedtime Acoustics', '8139100': 'Olivia Dowd', '8139200': 'Jan Christiansen (5)', '8139700': 'The Peanuts (6)', '8140100': 'Francesca Anderegg', '8140200': 'iNAEsser', '8140300': \"Art Lillard's On Time Band\", '8140500': 'Sok Munka', '8141600': 'Marvin Vandergrift', '8141800': \"Lokee Smok'n\", '8142100': 'Moon Monsoon', '8142300': 'Belms', '8142700': 'Final Gulp', '8143400': 'Greg Buergler', '8143500': 'Duo Peili', '8143700': 'Hung By The Hated', '8143800': 'Intoxicado', '8143900': 'Smokehouse (9)', '8144500': \"Egon Walter's Tanzkapelle\", '8144600': 'Chris Moreno (5)', '8144700': 'Maija-Liisa Lönnqvist', '8145000': 'Alexandra Horowitz', '8145100': 'The Infinite Realm', '8145700': 'DJ Paisagem', '8145900': 'Sara Anderson (2)', '8146600': 'Mohammed Akram Cheema', '8147600': 'Funkreich', '8147700': 'Fashion (15)', '8148400': 'Afterglow (28)', '8148500': 'Une Petite Fille Chante Brassens', '8149000': 'Marina Roman', '8149500': 'Rachel West (3)', '8150000': 'The Songs Of Tom Smith', '8150100': 'Celebration (23)', '8151700': 'Dysphoric Mist', '8152100': 'Rose St. Germaine', '8152600': 'Mojo Beatnik', '8153400': 'Playful & Noisy', '8154400': 'Vile Extortion', '8156100': 'Stalsk', '8156800': 'Lourdes Lima', '8156900': 'Antone (9)', '8157000': 'Translucid (2)', '8157400': 'Unknown Kid', '8158200': 'Matt Gleason (2)', '8158300': 'Helena Fiorella', '8158900': 'Mirage X', '8159000': 'Tony Vaughan (2)', '8159100': 'Vickie Whitmire', '8159900': 'Mangla Joshi', '8160400': 'Wayne Tolbert (2)', '8160900': 'Tino Ercole', '8162300': 'Agos (2)', '8162900': 'Aetas (2)', '8163100': \"Diane's Tapes\", '8163900': 'Jasper (56)', '8164400': 'Les Voix R.G.M.', '8164800': 'Njin', '8165700': 'Audrey Totter', '8166400': 'Vamp & A.K. Tay', '8167100': 'Shalaine', '8167700': 'Mono (66)', '8167800': 'Evangelist Winifred Mayo', '8168200': 'Dew (11)', '8168400': 'Road Not Taken', '8168700': 'John Hampton and his Band', '8168800': \"Mal Gray's Wild Angels\", '8169100': 'Dudes (13)', '8169200': 'Dr. Jack (4)', '8169400': 'Steven VX & The Art Rats', '8169600': 'Brian Collins (17)', '8169700': 'Rutman Bowmore', '8170000': 'Mute City', '8170100': 'Phil Hannathy', '8170400': 'Wipalis', '8171500': 'Fernando Borges E Seu Conjunto', '8171600': 'Ukrajinski Kozaki', '8172800': 'Bloodpath (2)', '8173100': 'The Diffi Cult', '8173200': 'The Great Plains (3)', '8173300': 'Pevci In Godci Iz Zagorice Na Dobrem Polju', '8173600': 'Die Original Köningstaler', '8173900': 'The Kosher Jam', '8174100': '劉明峰', '8175000': 'เขียนไขและวานิช', '8175100': 'Cuarteto Hnos. Luna', '8175900': 'Sunset Stranger', '8176300': 'Robert Archer (3)', '8176400': 'John Pritchard Joan Sutherland, Carlo Bergonzi, Robert Merril', '8176500': 'Shaggs', '8176900': 'Chimpy Rainbow Tire', '8177700': 'Harold Bauer (2)', '8177900': 'Chris Longley', '8178900': 'Jar-Wo', '8179000': 'MoshiRobo', '8179700': 'Top Tornados Selection Band', '8180000': 'Roger Antony', '8180700': 'Double Edge (11)', '8181400': 'Sarmism', '8181500': 'Kippysmuse', '8181800': 'Jocel', '8182500': 'Jon Delaney (2)', '8183200': 'Daniel Yang (2)', '8184100': 'Jerry Long & the Teen Twisters', '8184500': 'Campbell Lovatt', '8184600': 'Carlos Lama (3)', '8185200': 'Boogaloo (14)', '8186100': 'Fro Beats', '8186300': 'The Senior High and College Choir of the First Covenant Church', '8186400': 'Alex Mirica', '8187200': 'Julian Gloag', '8188100': 'Carl Edwards (7)', '8189000': 'Алексей Кириллов (2)', '8189300': 'OLDE WORLDE', '8189600': 'Ruby (78)', '8189800': 'Amnesia (49)', '8190600': 'The Gringoz', '8190700': 'Kumpulan Sofaz', '8191100': 'The Mr', '8191500': 'Joanne Desforges', '8191700': 'Artur Agostinho', '8191900': 'The Turning (3)', '8192000': 'Cushing', '8192100': 'Alex (636)', '8192500': 'Moto (19)', '8193200': 'Patrick Pesch', '8193300': 'Alejandro Morant', '8193500': 'J.R. Nickolson', '8193600': 'Roy Cabrera', '8194000': 'Agrupación Líder De Pifo', '8194900': 'Teeth To Your Throat', '8197100': 'Koszyki', '8197200': 'La Feria', '8197500': 'Isabella (26)', '8197700': 'Imperator (23)', '8198600': 'Banda Super Waras De Bolivia', '8199600': 'Sabine Kühlich Quartett', '8200600': 'Undertaker (14)', '8201000': 'Iced Warm', '8201300': 'Mnlg', '8202100': 'Intone (2)', '8202300': 'Tod Lippy', '8202500': \"Penda's Fen\", '8203100': 'Nebbiu', '8203200': 'PM de Santa Catarina', '8204200': 'V. D. Pandit', '8204300': '冷牟田敬', '8204500': 'The Playground Chairs', '8204600': 'Huck (11)', '8205300': 'Go Go Machine Orchestra', '8205900': '3DS&M', '8206100': 'Os Craques da Música', '8206300': 'Fatima Gedz', '8207100': 'Szakcsi Jr Trio', '8207700': 'Walking Empty', '8208000': 'Banda Crucero', '8208700': 'Kamaida/MagoichiSuzuki', '8209000': 'Coma Djinn', '8210000': 'Kera Munin', '8210100': 'YEBOT', '8211200': 'Cross Bringer', '8211400': 'Samara (17)', '8211500': 'The Mighty Swan Jubilees', '8211600': 'Ouachita Girl Scout Council', '8211700': 'Mitglieder Des Düsseldorfer Symphonieorchesters', '8211900': 'Vincent And Virginia Gizzi', '8212300': 'Victim Of Your Dreams', '8212400': 'Altifalante', '8212600': 'Jay Maynes', '8213200': 'Elouard Band', '8213500': 'Bonnie Clyde And His Oldtimers', '8213600': 'Orchestra Sinfonica G. Rossini', '8214500': 'prime.kg', '8214600': 'Kate Jukes & The Blue Healers', '8216400': 'Kontiki (4)', '8216700': 'Musikgesellschaft Hunzenschwil', '8217400': 'Haunted Cemetery', '8217700': 'Zumbi Radioativo', '8218200': 'Jack Hansen And His Brazilian Beachcombers', '8218300': '54 Fingers', '8218600': 'Euphotic', '8219300': 'Sinclined', '8219500': 'Heropass', '8219700': 'RAISE A SUILEN', '8220600': 'Mešani pevski zbor Glasbene matice Ljubljana', '8221100': 'Rage of Devils', '8221200': 'Torned', '8221700': 'Malefizz', '8222600': 'Mielsen', '8222700': 'Fljúga Hrafna', '8224400': 'Eudel Und Seine Klampfenbrüder', '8224600': 'Brown Deer High School A Cappella Choir', '8224700': 'The P.I.N.S. (2)', '8226100': 'Mokka (4)', '8226500': 'Ambrosia (15)', '8227000': 'Natsuki Kimura', '8227100': 'Aiwa 420', '8227500': 'Wounded Ways', '8227700': 'Stenbend', '8227900': 'OLEO (4)', '8228100': 'OSN Gao', '8228600': 'Lot 49 (3)', '8228900': 'He Is The Queen', '8229500': 'Ryland James', '8230200': 'Even Vågnes', '8231300': '1the9', '8231700': 'Babaouo', '8232300': 'Florentino Montaño Con Conjunto', '8232600': 'Landesjugendzupforchester Brandenburg-Berlin', '8232800': 'Raimund Kabuth', '8233000': 'Nik Bintz', '8233800': 'Prim. Doz. Dr. E. Moritsch', '8233900': 'The Homecoming Choir', '8234300': 'Mike Campiglia', '8235500': 'CashOnly G Baby', '8235600': 'Norma Nelson (2)', '8236300': 'Coro E Orquestra Bach De Munique', '8236400': 'Melvin D. Harris', '8237100': 'Mertis Meadows', '8237200': 'Sat & B di Maria Grazia Fontana', '8237400': 'Melting Pot (15)', '8237500': 'Holysword', '8238100': 'William Quinn (2)', '8238500': 'Joseph Press', '8239400': 'Westlo', '8240900': 'James Bonq', '8241000': 'Harvard Hornet Band', '8241500': 'Abdullah Salah', '8241800': 'DJ 6RB', '8242000': 'Rudeboyz (3)', '8242300': 'Regal Star Quartette', '8242400': 'The Silver Tones (4)', '8242800': 'Barbara A. Yates', '8242900': 'Rashod Seaton', '8243000': 'Nana (81)', '8243300': 'Danny Leone', '8243500': 'V. Pavlásek', '8243600': 'André Sébastien', '8243800': 'Daniel McCrary', '8244400': 'كريمة احمد', '8244900': 'Orbital Cafe', '8246100': 'Kurse (5)', '8248000': 'Oscar Del Barba Ox Quartet', '8248400': 'Hull House', '8248500': 'Greying Snout', '8248800': 'Autocontrole', '8249500': 'Hide & Seek (7)', '8249800': 'Nomy Rosenberg Trio', '8250300': 'ปรีดา สากล', '8250500': 'steveplates', '8250600': 'Arcania (4)', '8250700': 'D. Iman', '8250800': 'InFinity (78)', '8251100': 'Isha & 8 Iskcon', '8251200': 'Traxx (20)', '8251700': 'Living Conditions', '8251800': 'Robert Michael Esformes', '8251900': 'Diez (8)', '8252200': 'Hubert Oddo', '8252500': 'Big Bamboozle', '8252700': 'Fran Carlton', '8253500': 'Sachiko (15)', '8256100': 'Doodseskader (2)', '8256400': 'Qoa (2)', '8256500': 'Tribal (24)', '8256700': 'The Magpie Arc', '8257100': 'Les Bourratives', '8257400': '吉村繪梨子', '8257600': 'Redrise', '8257800': 'Ketrin', '8258400': 'Revival Agents', '8258900': 'Skyes Rose', '8259000': 'Grupo TAF', '8259400': 'Piñango Pop', '8260400': 'Thaba', '8261000': 'Sound-Crew', '8261200': 'Strait Jacket (7)', '8262300': 'Energy ☆', '8263500': 'ODYSSAY (2)', '8263900': 'Groupe de Daoukro', '8264100': 'Sydoz', '8265000': 'Pharagonesia', '8265100': 'Nahs', '8265500': 'Raqiya Demseriya', '8265700': 'Ghøstkid', '8266200': 'DJ Sugarbear', '8266600': 'Granulated', '8266800': 'Opera Della Casa', '8267000': 'Günter Fulisch Und Sein Großes Tanz-Orchester', '8267900': 'Masha Kurnosova', '8268500': 'Los Bambacoa', '8268900': 'The Inka Kings', '8269100': '楊采妮', '8269200': 'Dj 4rain', '8269500': 'Alex (assassin of sound)', '8269700': 'KIV (3)', '8269800': 'Heksebrann (2)', '8270100': 'Urban Vault', '8270400': 'Die Frau (2)', '8271300': 'Miche et Pierre', '8271800': '大沢宏一', '8271900': 'Intifada Orchestra', '8272300': 'Grazy Mama & The Sidekicks', '8273600': 'Nahr Alhumam', '8274100': 'Die Urchige Bärner', '8274200': 'Compressor (10)', '8274500': 'Jalea (6)', '8274800': '2 Hood', '8274900': 'Koi Trio', '8275200': 'Ghada Maatouk', '8275400': 'Sankro', '8275800': 'Rhonda Huston', '8276300': '葉子瑄', '8276800': 'jL (19)', '8276900': 'E. Mae Rittenhouse', '8277300': 'Susumu Takahashi (4)', '8278000': '2 Of A Kind (8)', '8278400': 'Andrea Coruzzi', '8278900': '화지', '8279300': 'Crissie McCree', '8279800': 'Edson Killahseen', '8281400': 'Konstruktive', '8282200': 'Prince Afo-Akom', '8282600': 'Celebrity BBQ Sauce Band', '8282900': 'Tiina Muddi', '8283000': 'Matthew Leese', '8283700': 'Sis James & Company', '8283800': \"Lover's Rock (101)\", '8284000': 'The Granger Twins', '8284300': 'Ludvig Alexis', '8284600': 'Telicity', '8284700': 'Mr.Fuzzy', '8285000': 'Mandinga (5)', '8285100': 'Tyrol Trio', '8285600': \"B'Sissa\", '8285700': 'Allan Bo The Quintet', '8285800': 'Joey Knight (4)', '8286600': 'The New Horizons (2)', '8286900': 'Les Villarsois', '8287100': 'Ogs (4)', '8287200': 'Ismael First', '8288200': 'Big Red (29)', '8289000': 'Tony Depietro', '8293700': 'Kantorei Sankt Barbara', '8294200': 'Craig James (6)', '8294500': 'Danieli Contu', '8294800': 'Las Cuerdas Quichuas', '8294900': 'Last Pariahs (2)', '8295400': 'Cleo & The Band', '8296100': '??? ???????', '8296600': 'Escolania De La Virgen De Los Desamparados', '8296900': 'John Montesante Quintet', '8297200': 'Rolando And His Blue Salon Orchestra', '8297300': 'Transpøse', '8297600': 'Azerkd', '8298000': 'The Matt & David Gang', '8298100': '김용우', '8298200': 'Nepotistas', '8298600': 'Black Tempel Pyrämid', '8298900': 'The Jason Recliners', '8299000': 'The Nothing Chorus', '8299100': 'Sketches Of An Amorous Window', '8299800': 'Jerry Dean And His Partners', '8300700': 'John Leyton & The Flames', '8302600': 'The Kings Of Harmony Of Kenbridge, VA', '8303400': \"Alfredo's Orchestra\", '8303700': 'Black Experience (2)', '8304200': 'Signal3', '8304500': 'Riccardo (37)', '8304600': 'Socky (2)', '8304800': 'The Interfaith Choir Of St. Louis, MO.', '8305000': 'Lucid Alias', '8305700': 'Orkes Melayu Delima', '8305800': 'Bob Johnson & The Funkdawgs', '8306300': 'Ada Švec A Jeho Český Radiový Orchester', '8306600': 'Rappture', '8307900': '-Miracle', '8308200': 'Heartracer', '8308500': 'มนต์รัก ดาวรุ่ง', '8309100': 'Govert Jan Bach', '8309400': 'Timo Zessack', '8309700': \"Billy Lee Michael's\", '8311200': 'Golden Bell Quintet', '8314500': 'Show Without Punch', '8314800': 'SOL-740', '8315100': 'Santa Claus & Snowmen', '8317200': 'Wake Of Redemption', '8317800': 'Dub Vision Band', '8319300': 'Bulldog (29)', '8320200': 'VAXUAL', '8320800': 'Shoko & The Akilla With 森俊也、大林亮三', '8322000': 'Withershins (4)', '8322900': 'Detox Parrot', '8324100': 'Spooky Action At A Distance', '8324400': 'Widows (4)', '8325300': 'hagoromo', '8325600': 'Tuehf', '8327100': 'Toni Garon', '8327700': 'Saad Munir Bashir', '8330400': 'Sycorax (5)', '8330700': 'Yes Please (3)', '8331600': 'Buebechörli Stein', '8333400': 'DJ Pedro (5)', '8337000': 'Rubber Nurse', '8339100': 'Kristen Capolino', '8341200': \"Bullworker's\", '8342100': 'Chababi', '8342400': 'Paul Buchanan (7)', '8343000': 'György Lázár', '8343900': 'Aimless (7)', '8345700': 'Los Vallenatos (3)', '8346000': 'Matt Watson (12)', '8346900': 'Rockstock', '8347200': 'Logic Select', '8349900': \"Echo's Children\", '8350200': 'Jeffry Peterson', '8352300': 'Ezina Moore', '8354100': 'Egzosfera', '8356500': 'Pedro Nejo', '8356800': 'Grupo Quevaz', '8357400': 'Clown Revisited', '8358300': 'Fragments Ensemble', '8358600': 'Krissy D', '8359800': 'Fabio Camero', '8360400': 'Minimo Lumen', '8361000': 'Maria Roland Mit Ihrem Instrumental-Quartett', '8361900': 'Gerald Lishka', '8362500': 'Luchka', '8363400': 'Daniel Rotem & Josh Johnson Quartet', '8363700': 'Johnny Hoffman And The Herzbuben', '8364600': 'Pádua (4)', '8365500': 'كاريزما', '8366100': 'Karun (2)', '8366400': 'Dejša', '8367900': 'Dabro.', '8368200': 'Frankfurt a.d. Oder Singakademie', '8368500': 'Temple (29)', '8369100': 'Bangor Folk Four', '8369700': 'Sri Raghavendra Swami', '8370600': \"Jenny Moore's Mystic Business\", '8370900': 'Junonia Mayor', '8371500': '8ight Tha Sk8', '8373000': 'Arsouille (2)', '8373300': '九州男', '8373600': 'Billy Zach', '8374800': 'Beyond This Realm', '8375100': 'Craig Cassler', '8375400': 'BlurCurve', '8375700': 'Orquesta Radio Centro', '8376600': 'Scissorman (2)', '8377200': 'Samson Charitonow', '8377800': 'Bearer Of Badnews', '8379000': 'Mildred Jones Dellaira', '8379900': 'Tizik', '8385300': 'Snail (18)', '8385600': 'Manacle (3)', '8386200': \"The HaHahahaha's\", '8386500': 'Paul Magree', '8388300': 'Seanie Vaughan', '8388600': 'Are Rojas', '8388900': \"Kenne Thomas' Lifeforce\", '8390100': 'Blk Vynl', '8392500': 'Troglodytam', '8393700': 'Packy Boner', '8394600': 'Jerry Tedder', '8394900': 'Jaamac Yare', '8396100': 'Mage... Or Astro-Mage?', '8397300': 'Nuku Alofa', '8398200': 'DJ Hedoni$t', '8400900': 'Difteria (2)', '8402400': 'Shamis Abokor', '8402700': 'theVision', '8408100': 'ContainHer', '8408700': 'Tabitha & Lulu', '8410500': 'Die Außendienst-Organisation Der Sektkellerei Henkell & Co.', '8410800': 'Alderaan (5)', '8412900': 'Pedro Flores (7)', '8415600': 'Autumn Depression', '8417100': 'Kinderkoor de Volendammertjes', '8417700': 'Earl Pickens (2)', '8420400': 'Just Over Yonder', '8421300': 'Buzert', '8421600': 'De Grasschoppers', '8424600': 'Archer Hubart', '8425500': 'Christopher Hodson', '8426400': 'DJ Angela', '8426700': 'Wound Dresser', '8427300': 'Ben Berkeley (2)', '8427900': 'Ansambel Marjana Kočevarja', '8430000': 'Wolfgang Arnold', '8430900': 'Shola Rotimi', '8433900': 'Orkhan Nasibov', '8436600': '陳揚杰', '8438100': 'Πέτρος Χοϊδάς', '8438400': 'Yewplay', '8438700': 'El Hardwick', '8439000': 'Marla B. Spirit', '8439600': 'Sloper (3)', '8440800': 'Forró Da Serra', '8441400': 'Blanche Gardin', '8442300': \"L'Orch. Upendo Jazz\", '8442600': 'Garth Gabriel Singers', '8443200': 'Marv Smith (6)', '8444100': 'The Neighborhood (4)', '8444400': 'So Far From Life', '8447700': 'Le Thi Huong Lan', '8448300': 'Subalternos (2)', '8452800': 'Les Zembarkader', '8453100': 'Maryam Mustafa', '8454300': 'Vintage #18', '8454600': \"Fadin' To Whiteout\", '8454900': 'Krys Carson', '8456700': 'Naomi Hosokawa (2)', '8457900': 'NOVOID', '8460600': 'Sola West', '8462100': 'Mahmoud el Idrissi', '8463000': 'Jógvan og vinfólk', '8463900': 'Ana María Alonso (3)', '8467800': 'Vel (10)', '8469600': 'Blood Licker', '8470800': 'Plage Arrière', '8471100': 'The Antioch Crusaders', '8472000': '口づけされたことがない', '8472900': 'Mala & FyrMoon', '8473200': 'Project 155', '8474100': 'RonRonPowerUp', '8475600': 'Matt Smith (60)', '8478600': 'Will Diehl', '8479500': 'Florent Dorin', '8479800': 'Dave Stewart (33)', '8481000': 'Jesse Cowan (2)', '8481300': 'Haller Spitzbuam', '8484000': 'резкая тишина', '8485200': 'Nathan Hedman', '8486100': 'Dogma Blue', '8486700': 'M. G. Boulter & The Froe', '8487300': \"Action Commune D'évangélisation A Genève\", '8487600': 'Jerod', '8490600': 'Magellan Singers', '8492700': 'Pranay Ranjan', '8493300': 'Nordend 19', '8495700': 'Johnni Airone', '8496900': 'Blues Brothers Express', '8497800': 'Nina & Greven', '8504700': 'Distortion (26)', '8505000': 'Mejram', '8506800': 'Celeste Legaspi, Apo Hiking Society, Janet Basco, Marco Sison, Leo Valdez, Ivy Violan, Dulce, Subas Herrero & Noel Trinidad', '8507100': 'Pat Drumgoole', '8507700': 'Stockholmi Eesti Algkooli Opilaskoor', '8508900': 'H-13', '8509800': 'Mark Marino (2)', '8510100': 'Yoichi Kobayashi & Japanese Jazz Messengers', '8511000': 'Our Earth', '8511300': 'Pierre-Marie Gerlier', '8513100': 'Radha (9)', '8513700': 'Lord Fiji', '8514300': 'Konstantin Herleinsberger Quartett', '8519400': 'True Lions', '8524800': 'Κωνσταντίνα Πέκου', '8525400': 'Snufar Kvlt', '8526600': 'Down Affect', '8527500': 'Ray Kinney And His Hawaiian Serenaders', '8528700': 'James Pinckney Jr.', '8529000': 'Dúo Niágara', '8530500': 'Gondang Hasapi Horas', '8531700': 'Latin The Mood', '8533800': 'Splinters (7)', '8534100': 'Jimmy Haynes (3)', '8534400': 'Bextest', '8534700': 'Bill Keale', '8535600': 'Keepitinside', '8538900': 'Paola Bidinelli', '8539800': 'Red Fire Red', '8540100': 'Sounds Of Slavation (4)', '8540400': 'New Shit Has Come To Light', '8540700': 'Trio Aréli', '8541300': 'Girl Number 13', '8541900': 'Lem Sound Orchester', '8543400': 'Rural Café', '8545200': 'Reeble Jar', '8547000': 'Ashland Court', '8547600': 'Sensational Seven', '8550000': 'Bob Arden (2)', '8555100': 'The Garth Young Big Bande', '8557200': 'The Pranks (4)', '8559000': 'Violet Walls', '8561100': 'Twave', '8561700': 'St. Erconwald Folk Group', '8562600': 'Angel F. Torres', '8563800': 'Canto de Aves', '8565900': 'Ingrid Kremin', '8566200': 'Lagique', '8569500': 'Wida López', '8572800': 'PV (3)', '8573100': 'Jusagroove', '8574300': 'Tritha Sinha', '8580600': 'Los Caballeros De Rogelio Lopez', '8581200': 'Adriano De Pasquale', '8583000': 'Deep Torkel And His Suzie Beats Them All', '8585100': 'Windowshopping', '8586900': 'Alma Negra (8)', '8587500': 'Universal Tempo', '8588100': 'Orchestra Dr. Marc Antoni', '8589900': 'Shiloh (25)', '8591700': 'Sickness (29)', '8593500': 'สุบิน ทิพวัตน์', '8597700': 'The Spiritual Travelers Of Washington, D. C.', '8598000': 'Bitchlove', '8599500': 'Café Com Leite (2)', '8600700': 'Tony Camargo y Su Conjunto', '8601600': 'Doomin Kim', '8603700': 'Представителен Детски Хор гр. Бургас', '8607000': 'Triskelion (2)', '8608500': 'Soul Clown (2)', '8609400': 'Frank Wess & Harry Edison Orchestra', '8611500': 'Chinnamundā', '8613300': 'The Hogtown Syncopators', '8614200': 'Miglanc (2)', '8614500': 'Tock Hard', '8615700': 'Northcote Intermediate Choir', '8617200': 'DJ Harold Crazy P Unlimited', '8619000': 'Dash Flasher & The Streakers', '8620200': 'Dario Zingales', '8620800': 'Molde Volhal', '8622300': 'Mauro Franzese', '8624400': 'Germfask', '8631600': 'Christopher Wysoglad', '8631900': 'Lerkruka', '8634300': 'Erin Corbett (2)', '8635800': '小林太郎', '8637300': 'मिस गोहर ( बिजापूर )', '8640900': 'Liston Henry', '8643300': 'Tausend Augen (2)', '8644500': 'Twinkle (13)', '8644800': 'Pook (11)', '8645100': 'Borg - 9', '8645700': 'Mandarins of Sacramento Inc.', '8647500': 'Remo Biondi Orchestra', '8650200': 'Zimran', '8650800': 'Zaquito', '8652900': 'Black Briquettes', '8655600': 'Max Felker', '8655900': 'David Diaz (8)', '8656500': 'Lost In Munin', '8659200': 'East Of The Sun (2)', '8659800': 'Nito (17)', '8661300': 'Los Mitoteros', '8661600': 'The Faithful Airs (2)', '8663100': 'Μαρία Λαλιώτη', '8664000': 'E-Attack', '8664600': 'The Music Gang', '8665200': 'Kerim Büyükarslan', '8665500': 'Ship Log', '8667000': 'Oblivious (6)', '8667400': 'Do Your Homework', '8668300': 'memesolete', '8668900': 'Dixieland (5)', '8670100': 'Zèbre', '8670700': 'Thursty The Elephant', '8671300': 'Vedesh Sookoo', '8673100': 'Zülküf Yüce', '8673400': 'The L&N Gospel Singers', '8677600': 'Rangga Fermata', '8679400': \"Duo All'Armi\", '8682100': 'Haruka Hummingbird', '8683600': 'Station Supertukker Vroomshoop', '8684500': 'Etio', '8684800': 'The Lowe Singers', '8687200': 'The Body Snatchers', '8688400': 'Olio Galanti', '8689300': 'Big Fuzzy', '8690800': \"Stan Lee's Boys\", '8693200': 'Denis Carzon', '8694100': 'Boy(Mouth)', '8695900': 'Annette Golding', '8697400': 'Z. Ferguson', '8697700': 'Portal Nou', '8700100': 'Tehsin Shah', '8701600': 'J & The Causeways', '8702200': 'Leon Brown (6)', '8703100': 'Jack Wilkins (3)', '8703400': '정동권과 양키즈', '8704900': 'The South Australian Christian Endeavour Choir', '8707000': 'Latvijas Mobili - Vokāli - Instrumentālā Šlāgerkopa La-La-La', '8709400': \"Jack N' Boyz\", '8710300': 'Jose Luis Arce (2)', '8711500': 'Freddy Martin (4)', '8713600': 'Love Sick Prairie Dogs', '8713900': 'Treasure Troll', '8714200': 'DJ Chipman', '8715100': 'Paguyuban Karawitan Djawi \"Tjondong Raos\"', '8715400': 'Папа Йоан-Бахур 1-ви', '8718100': 'The Luaus', '8721100': 'Asterisk (6)', '8721400': 'Megumi Otsuka', '8724100': 'Arkadiy Figlin Trio', '8724700': 'Robert Pommier', '8725000': 'Adyel Silva', '8725300': 'TzarBomba', '8725600': 'Salami Baloguu (Lefty) And His Group', '8726500': \"Ntóni Denti D'Oro\", '8726800': 'CPR (9)', '8728000': 'Mystiko (2)', '8728900': \"Otel Variete'\", '8730100': 'The Shop Window', '8731900': 'The Atom Brothers', '8732800': 'Schülerorchester Des Humboldt-Gymnasiums Ulm/Donau', '8735500': 'Covergirl (4)', '8737300': 'D Cup Envy', '8738500': 'Phil Harrison (4)', '8739400': 'Faith Angelina', '8740000': 'Gibbs (6)', '8741800': 'La Pompon', '8742100': '정밀아', '8746600': 'Mohawk Johnson', '8747500': 'Fatboi (6)', '8747800': 'Bricks And Synths', '8749300': 'dPans', '8750500': 'Tycoon Showtime', '8751100': 'Willis B. And The Usual Gang', '8751400': 'Kottoorappa', '8752000': 'Dokes N Flow', '8752600': 'Hasan Bayat', '8754400': 'ハートフルホスピタル', '8755300': 'John Stott (2)', '8757100': 'Spiritual Wardrobe', '8757700': 'Viviane (20)', '8758000': 'Nomar Boltier', '8758900': 'Luigi Chiarizia', '8760700': 'Shooz Up', '8761300': 'Kim Jeeseok', '8762500': 'Zight (2)', '8764000': 'Les Gilliam (2)', '8768200': 'The End Again', '8771500': 'Orlando Valencia Jr.', '8772100': 'Los Pachecos (2)', '8772400': 'Irene Russell', '8779300': 'Familie Trausenegger', '8780500': 'Colapso (4)', '8782000': 'GDP Squad', '8782900': 'Robert Benjamin Dobey', '8789800': 'Heidi Emmert', '8790100': 'M-19 Punk H.C.', '8794300': 'Csopak Táncegyüttes', '8796700': 'xonto', '8797600': 'Haji Abasi', '8798500': 'Julien (94)', '8800300': 'Егазеба', '8801800': 'Mopsy Flopsy', '8802100': 'The Tom Martin Band', '8804800': 'Eduardo Charpentier Jr.', '8807500': 'Mechanist (2)', '8808100': 'Nightchase (2)', '8809000': 'Sofá Dy Gato', '8810500': 'Crimson (40)', '8812300': 'Maestitium', '8814400': 'Little George And The Hill City Cutups', '8814700': 'BR Boss', '8815300': 'John Horsley Denton', '8816200': 'JJJ (4)', '8817100': 'Tarheel State', '8818900': 'Vila (9)', '8820100': 'Lockdown Docs', '8821000': 'Tuula Lustre', '8821300': 'The Watershed (2)', '8822500': 'Riot Code', '8822800': 'Thunderfrog', '8825200': 'Angels Decay', '8825500': 'Kingdom (30)', '8826400': 'Killerstep Noise', '8828200': 'Dārta Svētiņa', '8829100': 'DJ Interlude', '8830900': 'Yukika Umetani', '8831500': 'Nico Sauer (2)', '8832400': 'Moonish', '8834200': 'The Laundrettes', '8834500': 'DjabaTheHot', '8836900': 'Klaus (57)', '8840800': 'Trash Media', '8841100': 'Greg Garrett (2)', '8841400': 'MC Lost Soul', '8841700': \"The Horny Boyz V's. Austin Powers\", '8842300': 'Kewpid (2)', '8842900': 'Ratmond Team', '8844100': 'Purple Haze (33)', '8844700': 'Total Denial (2)', '8846200': 'The Colours (10)', '8846800': 'The Choir Of Grace Lutheran Church, Palo Alto California', '8848900': 'polyfony', '8849500': 'Aenny', '8850700': 'Extrema Ratio', '8851000': 'Claudia Alfano', '8851300': 'EME 74', '8855200': 'Kaley Caperton', '8855500': 'Zamejski Kvintet', '8855800': 'Ansamblis Suvenīrs', '8857300': 'Ritienne', '8859100': 'Trife (14)', '8860900': 'Claude Demouy Et Son Ensemble Musette', '8861200': 'Maša Sitarica', '8861500': 'Abudukyrem', '8861800': 'Assassin (42)', '8863600': 'R.L. Hyatt', '8866300': 'The Very Loud Coma', '8866600': '张有堂', '8867800': 'Darshan Dave', '8868400': 'Fakir Alamgir', '8868700': 'Tony Ditillio', '8870800': 'Rabid Roy Random', '8871700': 'Jerry Cooper (9)', '8872900': 'MC Scorpz', '8873200': 'Barbara Bella', '8873800': 'Jayme (5)', '8874400': 'Taltta', '8875000': 'Francisco Pablo Ramírez', '8877100': 'Yossi Itskovich', '8879200': 'Salsa Kolor', '8879500': 'James Smith (112)', '8880100': 'Valentino Biondo', '8884900': 'Robotic Hawks', '8885800': 'Elly Poletti', '8886100': 'C.S.Grant', '8886700': 'Elisabeth Biener', '8887600': '水の江じゅん', '8887900': 'David Sandford (4)', '8892100': 'Vokalna Skupina Smo Kar Smo', '8893300': 'Kapelle «Echo Vom Morgebärg»', '8893600': 'Wojciech Mryczek', '8894500': 'Los Vientos (2)', '8894800': 'His Infernal Majesty (2)', '8897200': 'The Cherokee 3 & Co.', '8897800': 'Andeddomeiji', '8900800': 'The Natives (10)', '8904400': \"DJ's Unite (2)\", '8905900': 'Joachim Frisius', '8906500': 'Collide With Your Pride', '8906800': 'Filippo Coppola', '8907400': 'Sparkshimmer', '8908000': 'Engineeer', '8908600': 'Orchestre Echo Bantou', '8909200': 'Gran Combo Universal', '8909800': 'Silver Synthetic', '8910100': 'Flannery Sisters', '8910700': 'Bell Monaco', '8915200': 'De Vrolijke Twistzoekers', '8915800': 'A.O.V.', '8916400': 'Jeugdkoor The Chariots, Amsterdam', '8919100': 'Wil Nelemans', '8919400': 'ЭкивокЪ', '8921200': 'Amedeo Salvato', '8921800': 'Technotonic', '8922100': 'East Pennsboro High School Marching Panther Band', '8922400': 'Mark Jenkins (10)', '8922700': 'Roy Alva', '8923300': 'Mixed Emotions (6)', '8923600': 'Nicholas Jamerson', '8926300': 'Regina Fazler', '8928100': 'Willie Charles (2)', '8929300': 'Tribe Of Judah Anointed Reggae Band', '8930500': 'Vincestrumentals', '8931400': 'Ilenia Ferretti', '8934100': 'Amaury Léon Sosa', '8935000': '獅子丸右京', '8935600': 'Input Illudere', '8938000': 'Palladiums Filmorkester', '8942500': 'Jason Irwanto Chang', '8943100': 'Rugido Norteño', '8945200': 'Andrew Vincent and Friends', '8949100': 'Shreerang Aras', '8950900': 'Monika Piper-Albach', '8952400': 'Nelia Barros', '8953600': 'Yandere Chainsaw Regurgitation Factory', '8954800': 'Blonda', '8955700': 'Violent Rhythm', '8956300': 'Tunes (3)', '8960500': 'Piero Minetti', '8961100': 'Silkken', '8961400': 'Hauge Songlag', '8963200': 'Chainsword', '8965600': 'Alchemy Orchestra', '8965900': 'Bad Days', '8966200': 'Dt Empire', '8966500': 'More Than Cheese', '8966800': 'The Altogether', '8971000': 'Halfcabs', '8972800': 'Universal Cheerleaders Association', '8973400': 'Cunning Arte', '8973700': 'ทัวร์', '8977000': 'Bookstore (3)', '8979700': '박상옥', '8980000': 'Pale Horse (6)', '8980600': 'Portraits (5)', '8980900': 'Quatuor Voxpopuli', '8985400': \"In 3's (2)\", '8985700': 'Les Vistanis', '8986600': 'MELRÁ', '8988400': 'Roy Heinrich And The Pickups', '8991100': 'Manslaughter 777', '8992600': 'Theodore Badeed Adams', '8995600': 'Black Jezuz', '8995900': 'Basophilic Schlerosis', '8996200': 'Hocus Pocus (9)', '8998600': 'Charles Dobie', '8998900': 'Dave Cunningham (14)', '8999800': 'Sachie Fujikawa Trio', '9001600': 'Gießbach Trio', '9002200': 'C. Brown (23)', '9003100': 'Channel Zeroh', '9004900': 'No Questions Asked', '9005200': 'Spongebobb', '9005800': 'Tico Alvarez Y Su Trio', '9006400': 'Chipped Teeth', '9008200': 'Medeleine Gérault', '9008500': 'Rusty Rutch', '9008800': 'The Hermitage', '9009400': 'Cremona Antiqua', '9011200': 'Adrian Parker', '9013000': 'La Desgracia en Compañía', '9013900': 'Ensemble de la Rue', '9015400': 'Betty Lester (2)', '9017200': 'Kc Black', '9019600': 'DJ Anunak', '9020500': 'Profuze', '9021700': 'CYN MTN', '9023200': 'Nils Agnas', '9025300': 'Chien Cul', '9025900': 'Kevin Rogbone', '9026200': 'UK Metal Merger', '9029500': 'Solitary Way', '9031300': 'Hoochie Coochie Papa', '9031900': 'ERA C', '9032200': 'Isaac Enrich', '9032800': 'J.B. Ropp', '9034300': 'Skandalo Show', '9037600': 'Gamor Vapor', '9041200': 'Weaponized Flesh', '9042400': 'Beaux Evil', '9045100': 'Henry Rubin', '9046900': 'Inoke Errati', '9047500': 'Bladenboro Bands', '9048700': 'Kash Tha Ovadose', '9051100': 'Fat_ima95', '9051400': 'Revelation (60)', '9053500': 'Rosa Rio Trio', '9054100': 'Pyler Totter', '9055000': 'Orchestre Camavasi', '9055600': \"Scouts Of The Lord Mayor's Own (City Of London) Troop\", '9055900': 'Betty Jane Grimm', '9056800': 'João Arcelon Da Silva', '9057100': 'Kevin Hutchings', '9059800': 'Satoru Ishida', '9060700': 'Aqua Rock', '9061000': 'Azimut - Gospel', '9061600': 'Salty Shaker', '9062200': 'Ernie Amos', '9064600': 'Summer Grace', '9069700': 'Cedar Thoms', '9071200': 'The North Side Taliban', '9071800': 'Josephs Quartzy', '9072100': 'Alina Shevchenko', '9072400': 'OpenSoul', '9073300': 'Sydney De Vries', '9073900': 'Olivier Laisney & Yantras', '9077800': 'Claire Maier', '9079000': 'Sven and his RH Space Arkestra', '9083200': 'Waste Man', '9084400': 'Elina Valkama', '9088300': 'Intrepid (15)', '9089800': 'Ghost Dances', '9091000': 'Jonathan Marshall (5)', '9091900': 'Astley High School Junior Choir', '9092200': 'Harry Davidson And His Old Time Dance Orchestra', '9093700': 'Foreign Bodies (6)', '9094600': 'Exit Kanon', '9094900': 'SPIRe2000', '9095500': 'Disney Mousketeers', '9095800': 'wristrazor', '9096700': \"Aldebaran's Nebulah\", '9099400': '泥鳅Niko', '9099700': 'Suck On My Shoes', '9100000': 'Stewart Spiritual Singers', '9101800': 'Wei-En Chang', '9102400': 'Növa', '9103300': 'Nacer Khemir', '9104200': 'Gregorssons', '9105400': 'World Eaters', '9105700': 'Retch (9)', '9106900': 'Enrico Carraro', '9107200': 'Slinky Top', '9109000': 'Efeito Na Hora', '9109900': 'Most Valuable Producers', '9111100': 'Cantorij Morgensterkerk', '9113200': 'Émile Auguste Ouchard', '9116800': 'Nothing Inside (2)', '9119500': 'Chad Reinert', '9121600': 'Rasta Birdlegs', '9121900': 'Geoff Hunt (3)', '9123700': 'Alcântara', '9124600': 'Desperados (23)', '9125500': 'Clear Lines', '9125800': 'EL Primer Delegado', '9127600': 'The Street Singers (4)', '9128200': 'Evert van der Hoff', '9128800': 'Tempus Fugit (18)', '9130600': 'Asya Selyutina', '9130900': 'WaltMyStar', '9131800': 'Milutin Matić', '9134200': 'Gruppo Tabarroni', '9136900': 'The Isomata High School Graduate Chamber Orchestra', '9141400': '中西義宣とビッグサウンズ', '9142600': 'Jess King (3)', '9143800': 'The University Of The South Wind Ensemble', '9145300': \"Leon D'Souza & His Band\", '9145600': 'Frico (2)', '9149500': 'アリスとボブ Alice & Bob', '9151000': 'Amy Garnet', '9152200': 'Cavit Deringöl Ve Arkadaşları', '9156700': 'Khavi (2)', '9158500': 'Carlos Rafael (3)', '9159100': 'Pigalle Jazz Band', '9162100': 'Simon Carter (14)', '9165100': 'Anna Blume (2)', '9165700': 'Revensch', '9168700': 'Jon McPhail & His Family Band', '9169900': 'Fred G. Rover', '9170200': 'Alaa Farhat', '9171400': 'Kelly Riley (2)', '9172000': 'Faber J', '9173200': 'Timbali (2)', '9173500': 'Janice Maynard', '9176200': 'Natsunana', '9177100': 'Static (58)', '9178900': 'Key Day & Newentun All Stars', '9180400': 'Zhabareth', '9180700': 'Barbara Jo Kammer', '9181300': 'RISE AND SHINE (10)', '9181600': 'Seriously (3)', '9181900': 'Magical Mystery Band', '9183100': 'Dr. Butenuth', '9183700': 'Elizabeth (60)', '9184300': 'Triumvirate (2)', '9188200': 'Unique Creation Band', '9189700': 'Transmits', '9190000': 'The Rolling Sixes Usa', '9193600': 'Galiot (2)', '9196000': 'Irish Nights', '9196300': 'Lusca Festival Orchestra', '9198400': 'Juan Domingo Y Los Bombarderos', '9198700': 'Sisco (9)', '9199000': 'Landon Caldwell & Flower Head Ensemble', '9202000': 'ВИА \"Советский Союз\"', '9202300': 'Machance', '9203800': 'Dan Lethal', '9206200': 'Darrel Poitra', '9206800': 'Cardinal Sin (9)', '9207400': 'Flammenkvlt', '9208000': 'Тризна (4)', '9208300': 'Tornekrone', '9208600': 'Joe Haco', '9210400': 'Mineground', '9211600': 'The Pacers (12)', '9212200': 'Cipote Vaina', '9212800': 'De La Torre', '9213400': 'Peter Anthony Bishop', '9215800': 'Djobo Fode', '9218500': 'Michael Erdmier', '9220900': 'Herd Mentality (2)', '9226600': 'The Nathan Smith Project', '9227200': 'Goldkint', '9227800': 'Mihail Diaconescu', '9230500': 'Conjunto De Musica Folklorica \"Huellas Sureñas\"', '9231700': 'Acedis', '9232600': '宮田哲夫', '9232900': 'Fast4Ward (2)', '9234400': 'B. S. Mardhekar', '9235600': 'Western High School A Cappella Choir', '9237700': '新町床照', '9238600': 'José Esquivel (2)', '9240400': 'Tony Paglia (3)', '9244000': 'Bloop (6)', '9245800': 'Valmont (8)', '9246400': 'Scott Haining', '9247300': 'Wyld Timez', '9247600': 'Sane Larry', '9248200': 'EX·S', '9252100': 'Benjamin Y Joab', '9253600': 'Voro Garcia Quintet', '9254800': 'AVIII', '9256000': 'サイバーモール', '9256900': 'elbreeze', '9257500': 'The Gumshots', '9258400': 'DJ Hiragana Death', '9259300': 'Doris Womble', '9259900': 'Electllex', '9260200': 'Masaki Matsubara 4rockambos', '9261700': 'Lehigh University Glee Club', '9263200': 'De Maaskanters', '9263500': 'Eternal Suffering INC', '9264100': 'Orion Studio Orchestra', '9265300': 'Traashboo', '9265600': '3exes', '9267100': 'Bob Jenkins and Southern Magic', '9267400': 'Shashko', '9268000': 'Yuka & Chiggy YY Quartet', '9272200': 'Līva Dumpe', '9277900': 'Double Odd Buck', '9280300': 'Dora (41)', '9280600': 'The Poors (2)', '9282400': 'Hermann-Orchester', '9283900': 'The Tennessee Gospel Travelers', '9288100': 'Rapscallion (7)', '9289000': \"Arizona Boys' Choir\", '9293200': 'Costel Istrate', '9293800': 'Miss Faction & Dj Ghost & Lethal Mg', '9296500': 'Alan Simon Quartet', '9296800': 'فرقة أفا', '9298000': 'Los Merenguitos (2)', '9298900': 'Малорос. Хоръ Подъ Упр. А. И. Савицкаго', '9301300': 'Mente Organica', '9301600': 'Volga Maniac', '9303400': 'Alberto Herrera (3)', '9303700': 'Sean Tanio', '9304000': 'Southern Harvest Band', '9307900': '瀬戸ひろ子', '9308200': 'Zipé', '9308800': 'ASHS', '9310000': 'ばってん少女隊', '9310300': 'Le Concert Champêtre', '9310600': 'Reverend Knopf', '9313600': \"The Schwinn's\", '9314200': 'School Trips', '9314500': 'Conjunto Les Gondoliers', '9315400': 'Apropos (7)', '9316600': 'Le Chemin Des Tsiganes', '9321400': 'Antje Asendorf', '9321700': 'Katia Mare', '9322600': 'Ltsr Nusip. Valst. Filharmonijos Choro Vyrų Grupė*', '9327700': 'Hore (3)', '9330400': 'Alcahest', '9331300': 'A New Way To Live Forever', '9332500': 'Tokyo Premium Jazz Session', '9335500': \"Nous Sommes Tous Les Fils D'Ivan Lantos\", '9336400': 'System Zero', '9336700': 'Orchestre La Fontaine Mateya', '9337000': 'The Victorians Quartet', '9338500': 'Rose Wood', '9339100': 'เดอะไดซ์', '9339700': 'Attic Antics', '9340900': 'The Solar Apparatus', '9342700': 'Anymotherfucker', '9343300': 'Gérard Defois', '9343600': 'Camp Island', '9345400': 'The Dominoes (12)', '9346900': 'D.A.D. (10)', '9348100': 'Tybalt Et Mercutio', '9349300': 'Lucia Aguilar Mariachi', '9349600': 'zum4tet', '9351400': 'Paingod (3)', '9352000': 'Cheikha Mbarka', '9352300': 'vinyl.', '9352900': 'G. DeZilwa', '9354400': 'Dallas (56)', '9355300': 'Ken Todd & All That Jazz', '9356200': 'X CLUB.', '9358600': 'เกร็ดแก้ว มณีกร', '9360400': 'Hardcore Punk Late!', '9362500': 'Rosebud (24)', '9363100': 'Rosy (17)', '9364900': \"Tell Me That I'm Only Dreaming\", '9366400': 'Carlos Alberto (26)', '9368200': 'Bird Detective', '9369400': 'PS5', '9370300': 'Tom Hollister Trio', '9371800': 'Trimegistö', '9372100': 'King Ceazar', '9377800': 'FC Baseball', '9378700': 'J. Forget', '9379900': 'Vido (4)', '9380200': 'Syd Barretina', '9380500': 'Mesqo', '9381100': 'The Harmophones', '9381400': 'Karolina Stanisławczyk', '9382600': 'DJ Sugarcrush', '9383200': \"Tgkas D'attack\", '9383500': \"伊藤多喜雄 & Tryin' Times\", '9384700': 'Ravenloft (4)', '9386800': 'Kiom', '9392500': 'Rocky Ridge Quartet', '9392800': 'Sacrifix (4)', '9393100': 'Lila Rae Strong', '9393700': 'Angioma (2)', '9394600': 'Kept (3)', '9395500': 'Ali İsmet Öztürk', '9396100': 'S_t', '9396400': 'Carlo Faraday', '9400900': 'Mirun Pradhap', '9401200': 'Tenor Madness (2)', '9402400': 'Erinarsoqatigatigiissuit', '9403600': 'Suits Ja Kool', '9404200': 'Hott Time In The City', '9404800': 'Epix (2)', '9406300': 'Robert Cromeans', '9407500': 'Ezl Ek', '9411100': 'Flaming Echo', '9412000': 'DJ Tails (4)', '9412300': 'Tiny Allen', '9412900': 'The Positive Autism', '9413800': 'Voices Of Mt. Olive', '9415300': 'Verena Eggmann', '9417400': 'Noé Clerc Trio', '9419500': 'S.S.S. Kosta Manojlovich Choir', '9420100': 'Masilva (2)', '9420700': 'Orchestre La Muchacha', '9424000': 'The Samaru Choir', '9425500': 'The Omen (21)', '9426400': 'Otto Seagull', '9426700': 'Kristine Robin', '9427600': 'はちきんガールズ', '9431500': 'Roxe', '9434200': 'Kevin Charlton', '9434800': 'Jose Santander', '9435100': 'Salazar (COL)', '9435700': 'Delfino Guevara', '9436900': 'Consense (2)', '9440500': 'Hush (62)', '9442600': 'Ninthalor', '9444100': 'CHERNOTA', '9445300': 'Ezio Peccheneda', '9446200': 'Washington State Mass Choir', '9447400': 'Niturbasarnir', '9449800': 'Luis Poot', '9450400': 'G.P. Lemos', '9452500': 'Runi Graph', '9453100': 'Anne Laver', '9453400': 'Ροδούλα Μιχαηλίδου', '9454000': 'Wyndsphere', '9454900': 'Devola (2)', '9455500': 'Twinflame (2)', '9458500': 'Yung Wulf', '9459100': 'DJ Guttural Orange', '9459400': 'Anandji Virji Shah', '9460000': 'Elsbeth (2)', '9460900': 'Maccabeats', '9461200': 'The Heavenly Echoes (4)', '9461800': 'Merge Quintet', '9463600': 'Kausalya Manjeshwar', '9465400': 'Deep Tan', '9466900': 'Black Market (17)', '9468400': 'Rainer Tempel Bigband', '9470200': 'Julez (10)', '9472600': 'Tinche', '9473500': 'Charles Davidson (4)', '9474100': 'Mara (90)', '9474700': 'Albert C. Humphrey And The Roots Of Blues', '9475000': 'Xaniel Magnacaseo', '9476500': 'Sundown Poachers', '9478900': 'BDR and the Rockin Roll-Deo', '9479200': 'Risako Shitara', '9483400': 'Ripened Necropsy', '9484600': 'Viðr', '9484900': 'Tomáš Dvořák (5)', '9486100': 'Pupas De Viejo', '9486400': 'Linda Weber (3)', '9487300': 'Thaykhay', '9487900': 'Hombre Árbol', '9488800': 'Autumn in My Room', '9489400': 'klausies', '9490300': 'Wyjście Awaryjne', '9493600': 'Salitre (3)', '9495100': 'Papa Quark & The Black Potatoes', '9495700': 'Frailord', '9496600': 'Leha (3)', '9499900': 'Xenso', '9500800': 'David Hess (4)', '9502900': 'Insomnia Pálida', '9505900': 'Terry G. Hall', '9506200': 'Mad Money Morv', '9506800': 'Nuestra Sangre', '9508300': '†††hè̵̌', '9514600': 'Bertrand Walter (Le Grand Bebert)', '9515800': 'Crazy Dick', '9516400': 'Sonia Coles', '9519700': 'メトロミュー', '9520300': 'Jessica Findley Yang', '9524200': 'Magilum', '9525700': 'Nerukoz', '9530200': 'Ubre', '9530500': 'NI/CO', '9530800': 'Flekkerøy Sangkamerater', '9531400': \"Emmy d'Arc\", '9532000': 'DJ Light (7)', '9532300': 'Mohenjo (2)', '9536500': 'Nellie Bly (2)', '9541300': 'Summerlyn Powers', '9541600': 'The Carriers (6)', '9542800': 'Freetherevolution', '9544000': 'Cappella Caeciliana', '9544900': 'Оркестр Под Управлением Екатерины Юховой', '9545500': 'Secret Solution', '9547300': 'Jeam Biscuit', '9547900': 'Joe Cat', '9548800': 'Aldus Mouton And The Wandering Aces', '9549700': 'Jazzy B (4)', '9550000': 'Tinnīn', '9550600': 'Uknown Paranoia', '9551200': 'Laura Iarrobino', '9551800': 'The Traditional Navajo Indian Ceremony', '9555700': 'Empire Street', '9560200': 'Nave Astra', '9564400': 'Students Of Sandeepany Sadhanalaya', '9567100': 'Mr. Bits And The Dead Friends', '9567400': 'Bfian Lloyd Jones', '9567700': 'Whipping Post (7)', '9568000': 'R.N.L.', '9570100': 'MRS (2)', '9570700': 'Los Carbajal', '9578500': 'Die Kurt-Isanen', '9580900': 'Complesso \"Nuova Vita\"', '9581500': 'Formația Supersonicii', '9581800': 'Thoko Marshall And The Landers', '9582100': 'Den Danske Lied-Duo', '9582400': 'Kárpáti Norbert', '9583600': 'The Heiges Family Gospel Singers', '9587800': 'Lugubre (4)', '9593500': 'ازاده', '9594100': 'Roy Smeck And His Paradise Serenades', '9594400': 'The Bloody Apostles', '9595600': 'Signal Arrow', '9596500': 'Joachim Gebhard', '9598900': 'Super Shuffle', '9599200': 'Dry Lakes', '9601600': 'Luca Cortellessa', '9604000': 'The Revues', '9605500': 'The Aluminum Strings', '9607000': 'Psoma (2)', '9607300': 'The Mt. Lebanon Quartet', '9608800': 'El Roachos', '9612700': 'Nazneen Rahman', '9613600': 'De Gruunplakkers', '9616000': 'Sam Rocchi', '9616300': 'Fæster', '9616600': 'Il Branco (2)', '9618100': 'Search Results', '9619300': 'Matthew James Hemmer', '9619600': 'Montaña Sagrada (2)', '9619900': 'Amelia Cormack', '9620200': 'Monta (11)', '9620500': 'Chris Cook (25)', '9622900': '.50Cal Facial Fracture', '9624400': 'Sophie Tucker And Her Five Kings Of Syncopation', '9625900': 'Yi-Chen Chang', '9626200': 'Woo (17)', '9628900': 'Julio Poalasin', '9629500': 'Herman-Elkin Band', '9632200': 'Plasma (38)', '9632500': 'sama_yama', '9634300': 'In Flight (3)', '9634900': 'Lifers (5)', '9637000': 'Cirrosis Hepatica', '9637600': '碧云', '9637900': 'Bill Barlow Big Band', '9640300': 'The Alto', '9640900': 'Noble Servant', '9642700': 'JoMo (11)', '9647500': 'ลูกกระแต', '9647800': 'Eons Amok', '9653200': 'Ioana Milculescu', '9654100': 'Conjunto Los Modernos (2)', '9655600': 'Marisa Dominello', '9658600': 'Eros Scherser', '9658900': 'Methodemic', '9660400': \"Tsimba's Acid Band\", '9663700': 'Moški Pevski Zbor Polšnik', '9664600': 'xtasis', '9665800': 'Oswaldo Fresedo', '9666700': 'Stereo Project (2)', '9667000': 'Billy English (4)', '9670300': 'Cecil Forsyth', '9670900': 'Desmond Digby', '9671200': 'The Weicher Quartet', '9671800': 'Сабира Майканова', '9672100': 'The Artistry Of Jazz Horn', '9673000': 'Augusta McKay Lodge', '9674200': 'Валерий Фёдоров', '9675700': 'Audrius Bass', '9676000': 'Wipatraction', '9677800': 'Canela Y Naty', '9681100': 'Manfred Junker Organ Trio', '9681700': 'Furio Pazzaglia', '9682300': 'Dijuri', '9689800': 'The Merciless', '9690100': 'Daviz Debaro', '9690400': 'Secrets & Lies', '9692500': 'Rhonda Kay', '9694000': 'Spamparis', '9695200': 'Pablo Cesar Britos', '9695800': 'Hornkraft', '9696700': 'sementeria', '9697000': 'Unda-Kova', '9701500': 'Huang Qing Cheng', '9703600': 'Kilo the Assistant', '9703900': 'Chlorine (11)', '9704500': 'Pattak', '9706000': 'Corpse Candles', '9706300': 'Pasquale Pericoli', '9706600': 'Grupo Jerusalem (2)', '9707500': 'Hex (55)', '9708100': 'Heinrich Hofmann (4)', '9709300': '平井真美子', '9709600': 'Latviešu Dzīru Ansamblis', '9711100': 'Barby Asante', '9712600': 'Vegas Band (2)', '9712900': 'Yantimer', '9716200': 'Alvin Lee & Mylon LeFreve', '9716500': 'Bambukoo and Xivónn', '9717100': 'GREEN LADS', '9718900': 'Jimmy Bee & The Stingers', '9720400': 'In Stellā Igniferā', '9720700': 'Prigg', '9721300': 'Edson Santos (5)', '9722200': 'Matthew Grant (2)', '9722500': 'Heritage (36)', '9724300': 'Peoria Jazz Allstars', '9724900': 'Hyvinkään Kamarikuoro', '9725500': 'ADXY', '9727300': 'R. Ramirez (3)', '9728500': 'Ambrozie', '9729400': 'Alan Sutton y Las Criaturitas de la Ansiedad', '9729700': '林炳利', '9733300': 'Mort Froide', '9736000': 'S.P.Y. Labs', '9737800': 'Go To The Beds', '9740500': 'Lynir Beats', '9741700': 'Ginnys', '9742000': 'Saraswathy Kadakshamrutham', '9742300': 'Fasba Fpel', '9742900': 'St. Petersburger Virtuosen', '9745300': '幸福兒童歌詠隊', '9747400': 'Vaulink', '9748600': 'La Pandilla De San Juan', '9750700': 'DÏSPUT', '9752500': 'Robert Story', '9753400': 'Corax Umbra', '9754600': 'Lukedukeshoot', '9756700': 'Glitch Artists Collective', '9757000': 'Millennium (37)', '9757300': 'Els Cooman', '9762100': 'Nontu X', '9763000': 'The Wishbone Project', '9764800': 'Mark Keane (3)', '9765400': 'Russ Williams Quartet', '9768400': 'Bachiksma', '9768700': 'Ruby Pérez', '9770500': 'Scott Phillipp', '9771100': 'Kleinstlebewesen', '9778900': 'Tony Deledda', '9782500': 'Ruido Rosa (2)', '9783700': 'The Real People (2)', '9784600': 'La Chorale de la Section Musicale', '9786100': 'Unsheathed Glory', '9787300': 'Jerry Raver Trio', '9787600': 'Lewd (4)', '9788500': 'อ๊อบ', '9789400': 'Point Com', '9789700': 'Joël Baucheron', '9791800': 'Edward Barbieri', '9792100': 'Gino Di Battista', '9793600': 'グルーヴィー groom', '9795100': 'Fætter Bert And Hans Swingsters', '9795700': 'Плюс Минус', '9796000': 'Marguerite Thys', '9798700': 'T.K. And Company', '9799900': 'The Shelton Sisters', '9800200': '母檸檬', '9800500': 'Accastorta', '9800800': 'Ron Jeffery + Tim Jeffery', '9801400': 'Kaiserfinken', '9802000': 'Aseigh', '9802900': 'Abel (46)', '9804100': 'НЕКИЙТЫ', '9805000': 'Kalaha Moon', '9806800': 'Iroquois Stealth Pilots', '9808900': 'Mister Crocker', '9810400': 'Sheyda', '9812800': 'Hannibal Alkhas', '9814300': 'Los Preferidos (2)', '9816700': 'Jim Pope', '9817300': 'Magical Animal', '9817900': 'Les Chanteurs Du Pays De Vilaine', '9820900': 'Davide Barbini', '9821800': 'The Accomplishers', '9823000': 'Côro Da Paróquia de Ponte Dos Carvalhos', '9823600': 'Oar (5)', '9824800': 'Mario Ramón García', '9829000': 'Les frères Bouchebchoub', '9829300': 'Victor Manuel Carrillo', '9830500': 'Anna Nausea', '9831700': 'Jeff Sorg', '9833200': 'Funky Ritsuco Version!', '9833500': 'BBC National Orchestra and Chorus of Wales', '9835600': 'Future Hope', '9836500': 'Turma Do ZYB Bom', '9836800': 'Picles', '9838300': 'Bigbandprojekt Udo Fink', '9838600': 'Duet Popović - Nikolić', '9838900': 'Video People', '9839500': 'Sue Ashby', '9839800': 'Wairwe Land', '9840100': \"Kapriol'!\", '9841600': 'Kouta Suzuki', '9843700': 'Deri Dako', '9844000': 'Muzzamill', '9844300': 'Andrea Vasquez', '9845200': 'The Deso Band With Daphee', '9845800': 'Poke (33)', '9848200': 'Štajerski Frajtonarji', '9848800': 'Брайан Трейси', '9849400': 'Den Osynliga Manteln', '9852700': 'Steve E. Koss', '9853000': 'The Ken Lane Quintet', '9853600': 'Ash On Dust', '9854800': 'The Chariot (3)', '9858400': 'Jason Paul Band', '9858700': 'Mad Teacher', '9860800': 'Service Floor', '9861100': 'Paul Gibson (19)', '9862900': '614!', '9864400': 'Ossyris', '9864700': 'Clive Green (2)', '9865300': 'Giuseppe Cannizzo', '9867100': 'Edward Spiegel', '9868000': 'Broadway Dice', '9869800': 'Stylo (13)', '9871000': 'Clint Sutton (2)', '9871600': 'Gerrit Christiaens', '9872800': 'Buddy (37)', '9873100': '吳佳芸', '9874000': 'Gimcracks', '9876700': 'Linda Gardner (3)', '9878800': 'Pride & Joy Band', '9879100': 'Edit Stavnes', '9888400': 'Dirt War', '9888700': 'Freestyle 4 Funk (vol. 6)', '9889000': 'Killing Frost (4)', '9890500': 'Cyclops (23)', '9892300': 'Dayweaver', '9893500': 'Identity Market', '9897100': 'Guards Of Eden', '9898600': 'Duo Synaphé', '9900400': 'Karel Arnoldus Craeyvanger', '9901300': 'The N.W.O. Horns', '9901600': 'Black Distortion', '9902500': 'The Fritz (8)', '9902800': 'J.J. Chauke & Tiyimeleni Sisters', '9907900': 'The Shroos', '9909400': 'Muzica Reprezentativă A Armatei R.P.R.', '9910000': 'Marcas (2)', '9911500': 'J. RUSS WILLOUGHBY', '9912400': 'Ruta 42', '9912700': 'Waveteller', '9913300': 'Jemmi', '9920500': '大順', '9923200': 'Spacemachine', '9923500': 'ليلى كيال', '9934000': 'James Pequignot', '9936400': 'Atzael Trash', '9937900': '肥後邦子', '9940600': 'The Something Others', '9946600': 'Bjørnskov-Flensborg Quartet', '9947200': 'Shaikh Ahmed Din', '9952300': 'Karate Cowgirl', '9955000': 'Akhos', '9955600': 'Roses Fall', '9956200': 'James Olsen (7)', '9957700': 'ADDI & JACQ', '9959800': 'Vetro Brothers', '9960400': 'Christina May (2)', '9961300': 'Kevin W. Pruett', '9964600': 'Xinjiang Senior Chorus', '9965200': 'Violette Wautier', '9973000': 'Russ (45)', '9977800': 'Le Corps de Majorettes', '9981700': 'Donald Mead', '9984700': 'The Gentlemen of Bluegrass', '9985300': 'Magic Tragic Paraplegic', '9985600': 'La Famille Blaireau-Renard', '9987100': 'Hello, Creature', '9988900': 'Bluegrass Ramblers (3)', '9990100': 'The Lake Millions', '9990700': 'Nei Alves', '9991600': 'Mark Hide', '9995500': 'Jimmie Lee Radliff', '9996700': 'King Juliet', '9997600': 'Suspiria (17)', '9997900': 'Kasım Gürsoy', '9998500': 'Pamela (42)', '10000300': 'Carmine Caputo', '10003300': 'Chris N David', '10003900': 'Pierrette Délisle', '10005100': 'Dina (45)', '10006600': 'Matanza (10)', '10006900': 'BIPM, Sèvres, 1998', '10008400': 'Serena Lo Faro', '10009000': 'Laboratoire L. Lafon', '10009600': 'PmBata', '10011400': 'Emily Bewley', '10012300': '赤坂百々太郎', '10013500': 'The Continental Charmers Orchestra', '10014400': 'BANDA DE GAITAS XARABAL', '10016200': 'Macaroni Birthday', '10018900': 'Handicap Community At Taprom Temple', '10019500': 'The Mannheim Quartet', '10020700': 'Fool Society', '10022200': 'Techno Anarchy', '10023100': 'дора', '10024300': 'Barry & Pereira Quintet', '10024900': 'Hunza (2)', '10025500': 'Bussling', '10027900': 'Swing Swindlers', '10029100': 'Naaljos Ljom', '10029700': 'Shivv (2)', '10034200': 'William Bladen', '10034800': 'Olivier Cellier', '10036000': 'Dow Jones (17)', '10036900': 'Heartland Express (2)', '10039000': 'Chorale des arrache-moquette', '10039600': 'Londinium IV', '10040500': 'Tommy Brown (23)', '10043500': 'Gabriel Bebeșelea', '10044400': 'Gospel Soul Touchers', '10049800': 'NME Advertisement Department', '10050700': 'Last Ceremony', '10051000': 'Daniele Malvisi Quartet', '10051300': 'Disc All Stars', '10055800': 'Infinity (87)', '10059400': 'Spawn Fruit', '10060300': 'Julie & Andreas', '10063000': 'Drew Wilken', '10063900': 'Conjunto Vamparaez', '10075000': 'JAMBAND'}\n"
     ]
    }
   ],
   "source": [
    "%autoreload\n",
    "from dbArtistsMetadata import dbArtistsMetadata\n",
    "from dbArtistsDiscogs import dbArtistsDiscogs\n",
    "for modVal in range(1):\n",
    "    dbAP = dbArtistsMetadata(dbArtistsDiscogs())\n",
    "    dbAP.parse(modVal, expr=\"< 0 Days\")"
   ]
  },
  {
   "cell_type": "code",
   "execution_count": 23,
   "metadata": {},
   "outputs": [],
   "source": [
    "from fileIO import fileIO\n",
    "io = fileIO()\n",
    "tmp = io.get(\"/Users/tgadfort/Music/Discog/artists-discogs-db/0-DB.p\")"
   ]
  },
  {
   "cell_type": "code",
   "execution_count": 36,
   "metadata": {},
   "outputs": [],
   "source": []
  },
  {
   "cell_type": "code",
   "execution_count": 37,
   "metadata": {},
   "outputs": [
    {
     "data": {
      "text/plain": [
       "24735"
      ]
     },
     "execution_count": 37,
     "metadata": {},
     "output_type": "execute_result"
    }
   ],
   "source": [
    "len(toget)"
   ]
  },
  {
   "cell_type": "markdown",
   "metadata": {
    "heading_collapsed": true
   },
   "source": [
    "# LastFM API"
   ]
  },
  {
   "cell_type": "code",
   "execution_count": null,
   "metadata": {
    "hidden": true
   },
   "outputs": [],
   "source": []
  },
  {
   "cell_type": "code",
   "execution_count": null,
   "metadata": {
    "hidden": true
   },
   "outputs": [],
   "source": [
    "from fileIO import fileIO\n",
    "io = fileIO()\n",
    "#data = io.get(\"/Users/tgadfort/discogs/artists-lastfmapi/data/Eminem.p\")"
   ]
  },
  {
   "cell_type": "code",
   "execution_count": null,
   "metadata": {
    "hidden": true
   },
   "outputs": [],
   "source": [
    "%autoreload\n",
    "art = artistLastFMAPI()\n",
    "retval = art.getData(\"/Volumes/Piggy/Discog/artists-lastfmapi/data/Eminem.p\")"
   ]
  },
  {
   "cell_type": "code",
   "execution_count": null,
   "metadata": {
    "hidden": true
   },
   "outputs": [],
   "source": [
    "%autoreload\n",
    "from dbArtistsLastFMAPI import dbArtistsLastFMAPI\n",
    "from dbArtistsParse import dbArtistsPickleHTML\n",
    "dbAP = dbArtistsPickleHTML(dbArtistsLastFMAPI())\n",
    "dbAP.parse(expr='< 0 Days', force=False)"
   ]
  },
  {
   "cell_type": "code",
   "execution_count": null,
   "metadata": {
    "hidden": true
   },
   "outputs": [],
   "source": [
    "%autoreload\n",
    "from artistLastFMAPI import artistLastFMAPI\n",
    "art = artistLastFMAPI()\n",
    "art.getData(\"/Users/tgadfort/discogs/artists-lastfmapi/76/81231361976.p\").show()"
   ]
  },
  {
   "cell_type": "code",
   "execution_count": null,
   "metadata": {
    "hidden": true
   },
   "outputs": [],
   "source": [
    "\n",
    "        \n",
    "def getMediaCounts(media):\n",
    "    amcc = artistDBMediaCountsClass()\n",
    "\n",
    "    credittype = \"Releases\"\n",
    "    if amcc.counts.get(credittype) == None:\n",
    "        amcc.counts[credittype] = {}\n",
    "    for creditsubtype in media.media.keys():\n",
    "        amcc.counts[credittype][creditsubtype] = int(len(media.media[creditsubtype]))\n",
    "\n",
    "    return amcc\n",
    "\n",
    "savedir = \"db/lastfm\"\n",
    "tsAll   = timestat(\"Creating DB Data\")\n",
    "Nmod    = 100\n",
    "\n",
    "modValData = {}\n",
    "N = len(artists)\n",
    "for i,(artistID,artist) in enumerate(artists.items()):\n",
    "    artistTracks = artist[\"Tracks\"]\n",
    "    artistAlbums = artist[\"Albums\"]\n",
    "    artistName   = artist[\"Name\"]\n",
    "    artistURL    = artist[\"URL\"]\n",
    "    generalData  = {\"Type\": artist[\"Type\"]}\n",
    "\n",
    " \n",
    "    mediaData = {}\n",
    "    mediaName = \"Tracks\"\n",
    "    mediaData[mediaName] = []\n",
    "    for code, artistTrack in artistTracks.items():\n",
    "        album        = artistTrack[\"Name\"]\n",
    "        albumURL     = artistTrack[\"URL\"]\n",
    "        albumArtists = [artistName]\n",
    "\n",
    "        amdc = artistDBMediaDataClass(album=album, url=albumURL, artist=albumArtists, code=code, year=None)\n",
    "        mediaData[mediaName].append(amdc)\n",
    "\n",
    " \n",
    "    mediaData = {}\n",
    "    mediaName = \"Albums\"\n",
    "    mediaData[mediaName] = []\n",
    "    for code, artistAlbum in artistAlbums.items():\n",
    "        album        = artistAlbum[\"Name\"]\n",
    "        albumURL     = artistAlbum[\"URL\"]\n",
    "        albumArtists = [artistName]\n",
    "\n",
    "        amdc = artistDBMediaDataClass(album=album, url=albumURL, artist=albumArtists, code=code, year=None)\n",
    "        mediaData[mediaName].append(amdc)\n",
    "        \n",
    "        \n",
    "    artist      = artistDBNameClass(name=artistName, err=None)\n",
    "    meta        = artistDBMetaClass(title=None, url=artistURL)\n",
    "    url         = artistDBURLClass(url=artistURL)\n",
    "    ID          = artistDBIDClass(ID=artistID)\n",
    "    pages       = artistDBPageClass(ppp=1, tot=1, redo=False, more=False)\n",
    "    profile     = artistDBProfileClass(general=generalData)\n",
    "    media       = artistDBMediaClass()\n",
    "    media.media = mediaData\n",
    "    mediaCounts = getMediaCounts(media)\n",
    "    info        = artistDBFileInfoClass(info=None)"
   ]
  },
  {
   "cell_type": "markdown",
   "metadata": {},
   "source": [
    "# Deezer API"
   ]
  },
  {
   "cell_type": "code",
   "execution_count": null,
   "metadata": {},
   "outputs": [],
   "source": [
    "from dbArtistsBase import dbArtistsBase\n",
    "from fileUtils import getBaseFilename\n",
    "from fsUtils import isFile, setFile, setDir\n",
    "from ioUtils import getFile, saveFile\n",
    "from timeUtils import timestat\n",
    "from sys import prefix\n",
    "import urllib\n",
    "from time import sleep\n",
    "from webUtils import getHTML\n",
    "from pandas import Series\n",
    "    \n",
    "from fileIO import fileIO\n",
    "from fsUtils import fileUtil\n",
    "            "
   ]
  },
  {
   "cell_type": "code",
   "execution_count": null,
   "metadata": {},
   "outputs": [],
   "source": [
    "from dbArtistsParse import dbArtistsPickleAPI\n",
    "from dbArtistsDeezerAPI import dbArtistsDeezerAPI\n",
    "dbAP = dbArtistsPickleAPI(dbArtistsDeezerAPI())"
   ]
  },
  {
   "cell_type": "code",
   "execution_count": null,
   "metadata": {},
   "outputs": [],
   "source": [
    "dbAP.parse(expr='< 0 Days', force=True)"
   ]
  },
  {
   "cell_type": "code",
   "execution_count": null,
   "metadata": {},
   "outputs": [],
   "source": [
    "from dbArtistsBase import dbArtistsBase\n",
    "from timeUtils import timestat\n",
    "from pandas import Series    \n",
    "from fileIO import fileIO\n",
    "from fsUtils import fileUtil"
   ]
  },
  {
   "cell_type": "code",
   "execution_count": null,
   "metadata": {},
   "outputs": [],
   "source": [
    "from dbArtistsDeezerAPI import dbArtistsDeezerAPI\n",
    "dbAP = dbArtistsPickleAPI(dbArtistsDeezerAPI())\n",
    "dbAP.parse(expr='< 0 Days', force=True)"
   ]
  },
  {
   "cell_type": "code",
   "execution_count": null,
   "metadata": {},
   "outputs": [],
   "source": [
    "artistAlbums = dbAP.artistAlbums\n",
    "artistTracks = dbAP.artistTracks\n",
    "artistsData  = dbAP.artistsData"
   ]
  },
  {
   "cell_type": "code",
   "execution_count": null,
   "metadata": {},
   "outputs": [],
   "source": []
  },
  {
   "cell_type": "code",
   "execution_count": null,
   "metadata": {},
   "outputs": [],
   "source": []
  },
  {
   "cell_type": "code",
   "execution_count": null,
   "metadata": {},
   "outputs": [],
   "source": [
    "        for artistID,artist in artistsData.items():\n",
    "            artistAPIData = {\"Name\": artist.name, \"URL\": artist.link, \"Type\": artist.type, \"ID\": str(artist.id),\n",
    "                             \"Tracks\": artistTracks.get(artist.id, {}), \"Albums\": artistAlbums.get(artist.id, {})}\n",
    "            retval   = self.artist.getData(artistAPIData)\n"
   ]
  },
  {
   "cell_type": "markdown",
   "metadata": {
    "heading_collapsed": true
   },
   "source": [
    "# AllMusic"
   ]
  },
  {
   "cell_type": "code",
   "execution_count": null,
   "metadata": {
    "hidden": true
   },
   "outputs": [],
   "source": [
    "mdbGate = masterDBGate()\n",
    "disc = mdbGate.getDBDisc(\"AllMusic\")"
   ]
  },
  {
   "cell_type": "code",
   "execution_count": null,
   "metadata": {
    "hidden": true
   },
   "outputs": [],
   "source": [
    "for modVal in range(100):\n",
    "    modValData = Series(disc.getDBModValData(modVal))\n",
    "    disc.saveDBModValData(idata=modValData, modVal=modVal)"
   ]
  },
  {
   "cell_type": "code",
   "execution_count": null,
   "metadata": {
    "hidden": true
   },
   "outputs": [],
   "source": [
    "from collections import Counter\n",
    "\n",
    "allMusicTabs = {}\n",
    "for modVal in range(100):\n",
    "    modValData = Series(disc.getDBModValData(modVal))\n",
    "    for artistID,artistData in modValData.iteritems():\n",
    "        try:\n",
    "            tabs = artistData.profile.extra.get(\"Tabs\")\n",
    "        except:\n",
    "            continue\n",
    "        if isinstance(tabs, dict):\n",
    "            for tabName,tabLink in tabs.items():\n",
    "                if allMusicTabs.get(tabName) is None:\n",
    "                    allMusicTabs[tabName] = {}\n",
    "                allMusicTabs[tabName][artistID] = tabLink.href\n",
    "                \n",
    "    cnts = Counter({tabName: len(tabLinks) for tabName,tabLinks in allMusicTabs.items()})\n",
    "    print(\"{0: <4}\".format(modVal),\" | \".join([\"{0: <13}{1}\".format(x[0],x[1]) for x in cnts.most_common()]))"
   ]
  },
  {
   "cell_type": "code",
   "execution_count": null,
   "metadata": {
    "hidden": true
   },
   "outputs": [],
   "source": []
  },
  {
   "cell_type": "code",
   "execution_count": null,
   "metadata": {
    "hidden": true
   },
   "outputs": [],
   "source": [
    "%autoreload\n",
    "from artistAllMusic import artistAllMusic\n",
    "from dbArtistsAllMusic import dbArtistsAllMusic\n",
    "from dbArtistsParseComposition import dbArtistsComposition\n",
    "from dbArtistsParseSong import dbArtistsSong\n",
    "from dbArtistsParseCredit import dbArtistsCredit"
   ]
  },
  {
   "cell_type": "code",
   "execution_count": null,
   "metadata": {
    "hidden": true
   },
   "outputs": [],
   "source": [
    "dbAP = dbArtistsComposition(dbArtistsAllMusic())\n",
    "dbAP.parse(0, expr='< 0 Days', force=True)"
   ]
  },
  {
   "cell_type": "code",
   "execution_count": null,
   "metadata": {
    "hidden": true
   },
   "outputs": [],
   "source": [
    "dbAP = dbArtistsSong(dbArtistsAllMusic())\n",
    "dbAP.parse(0, expr='< 0 Days', force=True)"
   ]
  },
  {
   "cell_type": "code",
   "execution_count": null,
   "metadata": {
    "hidden": true
   },
   "outputs": [],
   "source": [
    "dbAP = dbArtistsCredit(dbArtistsAllMusic())\n",
    "dbAP.parse(0, expr='< 0 Days', force=True)"
   ]
  },
  {
   "cell_type": "code",
   "execution_count": null,
   "metadata": {
    "hidden": true
   },
   "outputs": [],
   "source": [
    "bsdata = getHTML(\"/Users/tgadfort/discogs/artists-allmusic/0/song/0000009100.p\")"
   ]
  },
  {
   "cell_type": "code",
   "execution_count": null,
   "metadata": {
    "hidden": true
   },
   "outputs": [],
   "source": [
    "s = Series({\"x\": \"y\"})\n",
    "s"
   ]
  },
  {
   "cell_type": "markdown",
   "metadata": {
    "heading_collapsed": true
   },
   "source": [
    "# AlbumOfTheYear Lists"
   ]
  },
  {
   "cell_type": "code",
   "execution_count": null,
   "metadata": {
    "hidden": true
   },
   "outputs": [],
   "source": [
    "retval"
   ]
  },
  {
   "cell_type": "code",
   "execution_count": null,
   "metadata": {
    "hidden": true
   },
   "outputs": [],
   "source": [
    "retval.getData()"
   ]
  },
  {
   "cell_type": "code",
   "execution_count": null,
   "metadata": {
    "hidden": true
   },
   "outputs": [],
   "source": []
  },
  {
   "cell_type": "code",
   "execution_count": null,
   "metadata": {
    "hidden": true
   },
   "outputs": [],
   "source": []
  },
  {
   "cell_type": "markdown",
   "metadata": {
    "heading_collapsed": true
   },
   "source": [
    "# Genius Lists"
   ]
  },
  {
   "cell_type": "code",
   "execution_count": null,
   "metadata": {
    "hidden": true
   },
   "outputs": [],
   "source": [
    "from webUtils import webUtil\n",
    "from fileIO import fileIO\n",
    "from glob import glob\n",
    "web = webUtil()\n",
    "io  = fileIO()\n"
   ]
  },
  {
   "cell_type": "code",
   "execution_count": null,
   "metadata": {
    "hidden": true
   },
   "outputs": [],
   "source": []
  },
  {
   "cell_type": "code",
   "execution_count": null,
   "metadata": {
    "hidden": true
   },
   "outputs": [],
   "source": [
    "from time import sleep\n",
    "from masterDBGate import masterDBGate\n",
    "dutils = masterDBGate().getDBUtil(\"Genius\")\n",
    "\n",
    "for ifile in glob(\"/Users/tgadfort/Desktop/Most Popular * Artists on Genius.html\"):\n",
    "    bsdata = io.get(ifile)\n",
    "    genRefs = [ref.attrs['href'] for ref in bsdata.findAll(\"a\") if ref.attrs.get('href') is not None]\n",
    "    genRefs = [href for href in genRefs if \"/artists/\" in href]\n",
    "    print(len(genRefs))\n",
    "    for url in genRefs:\n",
    "        artistID = dutils.getArtistID(url)\n",
    "        savename = dutils.getArtistSavename(artistID)\n",
    "        from fsUtils import fileUtil\n",
    "        if fileUtil(savename).exists:\n",
    "            continue\n",
    "        print(\"=\"*150)\n",
    "        print(artistID,'\\t',url,'\\t',savename)\n",
    "        dutils.downloadArtistURL(url, savename, force=False)\n",
    "        sleep(3)"
   ]
  },
  {
   "cell_type": "code",
   "execution_count": null,
   "metadata": {
    "hidden": true
   },
   "outputs": [],
   "source": [
    "retval = web.download(genRefs[0])"
   ]
  },
  {
   "cell_type": "code",
   "execution_count": null,
   "metadata": {
    "hidden": true
   },
   "outputs": [],
   "source": [
    "\n",
    "retval = web.download(\"https://genius.com/artists-index/a\")"
   ]
  },
  {
   "cell_type": "code",
   "execution_count": null,
   "metadata": {
    "hidden": true
   },
   "outputs": [],
   "source": []
  },
  {
   "cell_type": "code",
   "execution_count": null,
   "metadata": {
    "hidden": true
   },
   "outputs": [],
   "source": []
  },
  {
   "cell_type": "markdown",
   "metadata": {
    "heading_collapsed": true
   },
   "source": [
    "# Analyze Tabs For AllMusic"
   ]
  },
  {
   "cell_type": "code",
   "execution_count": null,
   "metadata": {
    "hidden": true
   },
   "outputs": [],
   "source": [
    "from masterDBGate import masterDBGate\n",
    "mdbGate = masterDBGate()\n",
    "disc = mdbGate.getDBDisc(\"AllMusic\")"
   ]
  },
  {
   "cell_type": "code",
   "execution_count": null,
   "metadata": {
    "hidden": true
   },
   "outputs": [],
   "source": []
  },
  {
   "cell_type": "code",
   "execution_count": null,
   "metadata": {
    "hidden": true
   },
   "outputs": [],
   "source": [
    "modValData['0000509000'].profile.extra[\"Tabs\"]['Songs'].get()"
   ]
  },
  {
   "cell_type": "code",
   "execution_count": null,
   "metadata": {
    "hidden": true
   },
   "outputs": [],
   "source": [
    "allMusicTabs = {}\n",
    "for modVal in range(100):\n",
    "    modValData = disc.getDBModValData(modVal)\n",
    "    for artistID,artistData in modValData.iteritems():\n",
    "        try:\n",
    "            tabs = artistData.profile.extra.get(\"Tabs\")\n",
    "        except:\n",
    "            continue\n",
    "        if isinstance(tabs, dict):\n",
    "            allMusicTabs[artistID] = {tabName: tabLink.href for tabName,tabLink in tabs.items()}\n",
    "    print(modVal,len(allMusicTabs))"
   ]
  },
  {
   "cell_type": "code",
   "execution_count": null,
   "metadata": {
    "hidden": true
   },
   "outputs": [],
   "source": [
    "from fileIO import fileIO\n",
    "io = fileIO()\n",
    "from pandas import Series\n",
    "io.save(idata=Series(allMusicTabs), ifile=\"AllMusicTabs.p\")"
   ]
  },
  {
   "cell_type": "code",
   "execution_count": null,
   "metadata": {
    "hidden": true
   },
   "outputs": [],
   "source": [
    "dbmap[\"Artist\"].getData(disc.getRawFilename('0000435400')).show()"
   ]
  },
  {
   "cell_type": "code",
   "execution_count": null,
   "metadata": {
    "hidden": true
   },
   "outputs": [],
   "source": []
  },
  {
   "cell_type": "markdown",
   "metadata": {
    "heading_collapsed": true
   },
   "source": [
    "# Ressurect DatPiff"
   ]
  },
  {
   "cell_type": "code",
   "execution_count": null,
   "metadata": {
    "hidden": true
   },
   "outputs": [],
   "source": [
    "contentData = []\n",
    "for listing in bsdata.findAll(\"div\", {\"class\": \"contentListing\"}):\n",
    "    contentItems = listing.findAll(\"div\", {\"class\": \"contentItem\"})\n",
    "    for i,contentItem in enumerate(contentItems):\n",
    "        artistDiv  = contentItem.find(\"div\", {\"class\": \"artist\"})\n",
    "        artistName = artistDiv.text if artistDiv is not None else None\n",
    "        titleDiv   = contentItem.find(\"div\", {\"class\": \"title\"})\n",
    "        titleRef   = titleDiv.find(\"a\") if titleDiv is not None else None\n",
    "        titleName  = titleRef.text if titleRef is not None else None\n",
    "        titleURL   = titleRef.attrs['href'] if titleRef is not None else None\n",
    "        ratings    = contentItem.findAll(\"div\", {\"class\": \"text\"})\n",
    "        \n",
    "        itemValue = {\"Title\": titleName, \"Artist\": artistName, \"Ref\": titleURL}\n",
    "        for rating in ratings:\n",
    "            if \"Rating:\" in rating.text:\n",
    "                img   = rating.find(\"img\")\n",
    "                value = img.attrs['alt'] if img is not None else None\n",
    "                itemValue[\"Rating\"] = value\n",
    "            if \"Listens:\" in rating.text:\n",
    "                span  = rating.find(\"span\")\n",
    "                value = span.text if span is not None else None\n",
    "                itemValue[\"Listens\"] = value\n",
    "\n",
    "        if all([titleName,artistName,titleURL]):\n",
    "            contentData.append(itemValue)\n",
    "            \n",
    "\n"
   ]
  },
  {
   "cell_type": "code",
   "execution_count": null,
   "metadata": {
    "hidden": true
   },
   "outputs": [],
   "source": [
    "from artistDatPiff import artistDatPiff\n",
    "from dbUtils import utilsDatPiff\n",
    "from dbBase import dbBase\n",
    "import urllib\n",
    "from urllib.parse import quote\n",
    "from webUtils import getHTML, webUtil\n",
    "from fsUtils import dirUtil, fileUtil\n",
    "from fileIO import fileIO\n",
    "\n",
    "\n",
    "##################################################################################################################\n",
    "# Base Class\n",
    "##################################################################################################################\n",
    "class dbArtistsDatPiff:\n",
    "    def __init__(self, debug=False):\n",
    "        self.db     = \"DatPiff\"\n",
    "        self.disc   = dbBase(self.db.lower())\n",
    "        self.artist = artistDatPiff(self.disc)\n",
    "        self.dutils = utilsDatPiff(self.disc)\n",
    "        self.debug  = debug\n",
    "        \n",
    "        self.baseURL   = \"https://www.datpiff.com/\"        \n",
    "        self.searchURL = \"https://www.datpiff.com/mixtapes-search.php\"\n",
    "        self.io        = fileIO()\n",
    "        self.web       = webUtil()\n",
    "        \n",
    "    \n",
    "    def getSearchArtistURL(self, artist, page=1):\n",
    "        url = urllib.parse.urljoin(self.searchURL, \"?criteria={0}&sort=relevance&search=&search[]=title&search[]=artists&search[]=djs&p={1}\".format(quote(artist),page))\n",
    "        return url\n",
    "    \n",
    "        \n",
    "    def searchForArtist(self, artist, force=False, debug=False):\n",
    "        print(\"===================== Searching For {0} =====================\".format(artist))\n",
    "        url = self.getSearchArtistURL(artist,page=1)\n",
    "        if url is None:\n",
    "            raise ValueError(\"URL is None!\")\n",
    "\n",
    "        ## Download data\n",
    "        print(\"  ==> {0}\".format(url))\n",
    "        retval = self.web.download(url)\n",
    "        if retval.getCode() != 200:\n",
    "            print(\"Error downloading {0}\".format(url))\n",
    "\n",
    "        datadir  = dirUtil(dbDP.disc.getArtistsDir()).join(\"data\")\n",
    "        savename = fileUtil(datadir).join(\"{0}-1.p\".format(artist))\n",
    "        self.io.save(idata=retval.getData(), ifile=savename)\n",
    "        print(\"  ==> Saved Page-1 of [{0}] Search To [{1}]\".format(artist,savename))\n",
    "        \n",
    "        \n",
    "    def downloadRemainingPages(self, artist):\n",
    "        datadir  = dirUtil(self.disc.getArtistsDir()).join(\"data\")\n",
    "        savename = fileUtil(datadir).join(\"{0}-1.p\".format(artist))\n",
    "        bsdata   = getHTML(savename)        \n",
    "        pageData = bsdata.find(\"div\", {\"class\": \"pagination\"})\n",
    "        refs = pageData.findAll(\"a\")\n",
    "        refs = {ref.text: ref.attrs['href'] for ref in refs if ref.text.isdigit()}\n",
    "        \n",
    "        for pageNum,pageRef in refs.items():\n",
    "            savename = fileUtil(datadir).join(\"{0}-{1}.p\".format(artist,pageNum))\n",
    "            if savename.exists():\n",
    "                continue\n",
    "            \n",
    "            self.io.save(idata=retval.getData(), ifile=savename)\n",
    "            print(\"  ==> Saved Page-1 of [{0}] Search To [{1}]\".format(artist,savename))\n",
    "            \n",
    "        print(refs)\n",
    "\n",
    "    \n",
    "\n",
    "        "
   ]
  },
  {
   "cell_type": "code",
   "execution_count": null,
   "metadata": {
    "hidden": true
   },
   "outputs": [],
   "source": [
    "from artistDatPiff import artistDatPiff\n",
    "from pandas import DataFrame, Series\n",
    "from dbUtils import utilsDatPiff\n",
    "from dbBase import dbBase\n",
    "import urllib\n",
    "from urllib.parse import quote\n",
    "from webUtils import getHTML, webUtil\n",
    "from fsUtils import dirUtil, fileUtil\n",
    "from fileIO import fileIO\n",
    "from time import sleep\n",
    "\n",
    "\n",
    "##################################################################################################################\n",
    "# Base Class\n",
    "##################################################################################################################\n",
    "class dbArtistsDatPiff:\n",
    "    def __init__(self, debug=False):\n",
    "        self.db     = \"DatPiff\"\n",
    "        self.disc   = dbBase(self.db.lower())\n",
    "        self.artist = artistDatPiff(self.disc)\n",
    "        self.dutils = utilsDatPiff(self.disc)\n",
    "        self.debug  = debug\n",
    "        \n",
    "        self.baseURL   = \"https://www.datpiff.com/\"        \n",
    "        self.searchURL = \"https://www.datpiff.com/mixtapes-search.php\"\n",
    "        self.io        = fileIO()\n",
    "        self.web       = webUtil()\n",
    "        \n",
    "    \n",
    "    def getSearchArtistURL(self, artist, page=1):\n",
    "        url = urllib.parse.urljoin(self.searchURL, \"?criteria={0}&sort=relevance&search=&search[]=title&search[]=artists&search[]=djs&p={1}\".format(quote(artist),page))\n",
    "        return url\n",
    "    \n",
    "        \n",
    "    def searchForArtist(self, artist, force=False, debug=False):\n",
    "        print(\"===================== Searching For {0} =====================\".format(artist))\n",
    "        url = self.getSearchArtistURL(artist,page=1)\n",
    "        if url is None:\n",
    "            raise ValueError(\"URL is None!\")\n",
    "\n",
    "        print(\"  ==> {0}\".format(url))\n",
    "        retval = self.web.download(url)\n",
    "        if retval.getCode() != 200:\n",
    "            print(\"Error downloading {0}\".format(url))\n",
    "            return\n",
    "\n",
    "        datadir  = dirUtil(dbDP.disc.getArtistsDir()).join(\"data\")\n",
    "        savename = fileUtil(datadir).join(\"{0}-1.p\".format(artist))\n",
    "        self.io.save(idata=retval.getData(), ifile=savename)\n",
    "        print(\"  ==> Saved Page-1 of [{0}] Search To [{1}]\".format(artist,savename))\n",
    "        sleep(3)\n",
    "        \n",
    "        \n",
    "    def downloadRemainingPages(self, artist):\n",
    "        datadir  = dirUtil(self.disc.getArtistsDir()).join(\"data\")\n",
    "        savename = fileUtil(datadir).join(\"{0}-1.p\".format(artist))\n",
    "        bsdata   = getHTML(savename)        \n",
    "        pageData = bsdata.find(\"div\", {\"class\": \"pagination\"})\n",
    "        refs = pageData.findAll(\"a\")\n",
    "        refs = {ref.text: ref.attrs['href'] for ref in refs if ref.text.isdigit()}\n",
    "        print(\"Found {0} Pages For [{1}] Search\".format(len(refs),artist))\n",
    "        \n",
    "        for pageNum,pageRef in refs.items():\n",
    "            savename = fileUtil(datadir).join(\"{0}-{1}.p\".format(artist,pageNum))\n",
    "            if savename.exists():\n",
    "                continue\n",
    "\n",
    "            url = self.getSearchArtistURL(artist,page=pageNum)\n",
    "            print(\"  ==> {0}\".format(url))\n",
    "            retval = self.web.download(url)\n",
    "            if retval.getCode() != 200:\n",
    "                print(\"Error downloading {0}\".format(url))\n",
    "                break\n",
    "\n",
    "            self.io.save(idata=retval.getData(), ifile=savename)\n",
    "            print(\"  ==> Saved Page-[{0}/{1}] of [{2}] Search To [{3}]\".format(pageNum,len(refs),artist,savename))\n",
    "            sleep(3)\n",
    "            \n",
    "            \n",
    "    def createArtistData(self):\n",
    "        contentData = []\n",
    "        \n",
    "        datadir  = dirUtil(self.disc.getArtistsDir()).join(\"data\")\n",
    "        files = glob(\"{0}/*.p\".format(datadir))\n",
    "        print(\"Found {0} Downloaded Search Pages\".format(len(files)))\n",
    "        for ifile in files:\n",
    "            try:\n",
    "                bsdata = getHTML(ifile)\n",
    "            except:\n",
    "                print(\"Error with {0}\".format(ifile))\n",
    "                continue\n",
    "            for listing in bsdata.findAll(\"div\", {\"class\": \"contentListing\"}):\n",
    "                contentItems = listing.findAll(\"div\", {\"class\": \"contentItem\"})\n",
    "                for i,contentItem in enumerate(contentItems):\n",
    "                    artistDiv  = contentItem.find(\"div\", {\"class\": \"artist\"})\n",
    "                    artistName = artistDiv.text if artistDiv is not None else None\n",
    "                    titleDiv   = contentItem.find(\"div\", {\"class\": \"title\"})\n",
    "                    titleRef   = titleDiv.find(\"a\") if titleDiv is not None else None\n",
    "                    titleName  = titleRef.text if titleRef is not None else None\n",
    "                    titleURL   = titleRef.attrs['href'] if titleRef is not None else None\n",
    "                    ratings    = contentItem.findAll(\"div\", {\"class\": \"text\"})\n",
    "\n",
    "                    itemValue = {\"Title\": titleName, \"Artist\": artistName, \"Ref\": titleURL}\n",
    "                    for rating in ratings:\n",
    "                        if \"Rating:\" in rating.text:\n",
    "                            img   = rating.find(\"img\")\n",
    "                            value = img.attrs['alt'] if img is not None else None\n",
    "                            itemValue[\"Rating\"] = value\n",
    "                        if \"Listens:\" in rating.text:\n",
    "                            span  = rating.find(\"span\")\n",
    "                            value = span.text if span is not None else None\n",
    "                            itemValue[\"Listens\"] = value\n",
    "\n",
    "                    if all([titleName,artistName,titleURL]):\n",
    "                        contentData.append(itemValue)\n",
    "\n",
    "        self.contentDF = Series(contentData).apply(Series).drop_duplicates()"
   ]
  },
  {
   "cell_type": "code",
   "execution_count": null,
   "metadata": {
    "hidden": true
   },
   "outputs": [],
   "source": [
    "dbDP = dbArtistsDatPiff()\n",
    "dbDP.createArtistData()"
   ]
  },
  {
   "cell_type": "code",
   "execution_count": null,
   "metadata": {
    "hidden": true
   },
   "outputs": [],
   "source": [
    "from fileIO import fileIO\n",
    "io = fileIO()\n",
    "io.save(idata=dbDP.contentDF, ifile=\"DatPiffData.p\")"
   ]
  },
  {
   "cell_type": "code",
   "execution_count": null,
   "metadata": {
    "hidden": true
   },
   "outputs": [],
   "source": [
    "dbDP = dbArtistsDatPiff()\n",
    "artists = [\"Jay\", \"2\", \"50\", \"Eminem\", \"Nas\", \"Clan\", \"Kanye\", \"Plan\"]\n",
    "artists = [\"Boy\", \"Baby\", \"Presents\", \"Missy\", \"Timbaland\", \"Ja\", \"Da\"]\n",
    "artists = [\"21\", \"Joe\", \"Star\", \"Frank\", \"Royal\", \"Red\", \"JP\", \"Barry\"]\n",
    "artists = [\"Junior\", \"Mace\", \"Z\", \"Chief\", \"SD\", \"Trap\"]\n",
    "artists = [\"South\", \"Coast\", \"East\", \"West\", \"North\", \"Jungle\", \"Common\"]\n",
    "artists = [\"Drake\", \"Street\", \"City\", \"New\"]\n",
    "artists = [\"Album\", \"Gang\"]\n",
    "artists = [\"Carter\", \"Juice\", \"J\", \"Wiz\"]\n",
    "artists = [\"G\", \"Gee\", \"Style\", \"New\", \"Love\", \"Live\", \"Big\", \"Pac\"]\n",
    "artists = [\"Class\", \"Side\", \"Polo\", \"MC\", \"Kid\"]\n",
    "for artist in artists:\n",
    "    dbDP.searchForArtist(artist)\n",
    "    dbDP.downloadRemainingPages(artist)"
   ]
  },
  {
   "cell_type": "code",
   "execution_count": null,
   "metadata": {
    "hidden": true
   },
   "outputs": [],
   "source": [
    "from glob import glob\n",
    "\n",
    "datadir  = dirUtil(self.disc.getArtistsDir()).join(\"data\")\n",
    "files = glob(\"/Volumes/Piggy/Discog/artists-datpiff/data/*.p\")\n",
    "len(files)"
   ]
  },
  {
   "cell_type": "code",
   "execution_count": null,
   "metadata": {
    "hidden": true
   },
   "outputs": [],
   "source": [
    "datadir  = dirUtil(dbDP.disc.getArtistsDir()).join(\"data\")\n",
    "files = glob(\"{0}/*.p\".format(datadir))\n",
    "len(files)"
   ]
  },
  {
   "cell_type": "code",
   "execution_count": null,
   "metadata": {
    "hidden": true
   },
   "outputs": [],
   "source": [
    "vc.head(50)\n",
    "vc = contentDF[\"Artist\"].value_counts()"
   ]
  },
  {
   "cell_type": "code",
   "execution_count": null,
   "metadata": {
    "hidden": true
   },
   "outputs": [],
   "source": [
    "dbDP.downloadRemainingPages(\"Future\")"
   ]
  },
  {
   "cell_type": "code",
   "execution_count": null,
   "metadata": {
    "hidden": true
   },
   "outputs": [],
   "source": [
    "savename"
   ]
  },
  {
   "cell_type": "markdown",
   "metadata": {
    "heading_collapsed": true
   },
   "source": [
    "# AlbumOfTheYear"
   ]
  },
  {
   "cell_type": "code",
   "execution_count": null,
   "metadata": {
    "hidden": true
   },
   "outputs": [],
   "source": [
    "from dbArtistID import artistIDBase\n",
    "import re\n",
    "    \n",
    "\n",
    "##########################################################################\n",
    "## Genius\n",
    "##########################################################################\n",
    "class artistIDGenius(artistIDBase):\n",
    "    def __init__(self, debug=False):\n",
    "        super().__init__(debug)\n",
    "        patterns  = [r'https://genius.com/artists/(\\w+)']\n",
    "        patterns += [r'/artists/*']\n",
    "        patterns += [r'artists/*']\n",
    "        self.patterns = patterns\n",
    "        \n",
    "    def getArtistID(self, s):\n",
    "        self.s = str(s)\n",
    "        \n",
    "        ######################################################    \n",
    "        ## Test For Format\n",
    "        ######################################################\n",
    "        self.testFormat(s)\n",
    "        if self.err is not None:\n",
    "            return None\n",
    "\n",
    "        ######################################################    \n",
    "        ## Pattern Matching\n",
    "        ######################################################\n",
    "        for pattern in self.patterns:\n",
    "            print(pattern)\n",
    "            groups = self.extractGroups(re.search(pattern, s))\n",
    "            if groups is not None:\n",
    "                print(groups)\n",
    "                m = md5()\n",
    "                for group in groups:\n",
    "                    m.update(val.encode('utf-8'))\n",
    "                hashval = m.hexdigest()\n",
    "                artistID  = str(int(hashval, 16) % int(1e8))\n",
    "                return artistID"
   ]
  },
  {
   "cell_type": "code",
   "execution_count": null,
   "metadata": {
    "hidden": true
   },
   "outputs": [],
   "source": [
    "aid = artistIDGenius()\n",
    "aid.getArtistID('https://genius.com/artists/Daichi-miura')"
   ]
  },
  {
   "cell_type": "markdown",
   "metadata": {
    "heading_collapsed": true
   },
   "source": [
    "# Merge DBs"
   ]
  },
  {
   "cell_type": "markdown",
   "metadata": {
    "hidden": true
   },
   "source": [
    "## Artist/Master Map"
   ]
  },
  {
   "cell_type": "code",
   "execution_count": null,
   "metadata": {
    "hidden": true
   },
   "outputs": [],
   "source": [
    "from fileIO import fileIO\n",
    "io = fileIO()"
   ]
  },
  {
   "cell_type": "code",
   "execution_count": null,
   "metadata": {
    "hidden": true
   },
   "outputs": [],
   "source": [
    "ts = timestat(\"Getting Artist Discogs Data\")\n",
    "artistData = io.get(\"/Volumes/Seagate/DB/discogs_20211001_artists.p\")\n",
    "ts.stop()"
   ]
  },
  {
   "cell_type": "code",
   "execution_count": null,
   "metadata": {
    "hidden": true
   },
   "outputs": [],
   "source": [
    "ts = timestat(\"Getting Artist Discogs Data\")\n",
    "albumsData = io.get(\"/Volumes/Seagate/DB/discogs_20211001_masters.p\")\n",
    "ts.stop()"
   ]
  },
  {
   "cell_type": "code",
   "execution_count": null,
   "metadata": {
    "hidden": true
   },
   "outputs": [],
   "source": [
    "albumsData"
   ]
  },
  {
   "cell_type": "code",
   "execution_count": null,
   "metadata": {
    "hidden": true
   },
   "outputs": [],
   "source": [
    "artistAlbumMap = {}\n",
    "artistGenreStyleMap = {}\n",
    "from collections import Counter\n",
    "tsAll = timestat(\"Creating ArtistID -> Album/Genre/Style Mapping\")\n",
    "\n",
    "ts = timestat(\"Reindexing Albums Data For {0} Albums\".format(albumsData.shape[0]))\n",
    "for i,(albumID,albumData) in enumerate(albumsData.iterrows()):\n",
    "    if (i+1) % 500000 == 0 or (i+1) == 100000 == 0:\n",
    "        ts.update(n=i+1,N=albumsData.shape[0])\n",
    "    albumArtistsData = albumData[\"MasterArtists\"]\n",
    "    albumValue       = {\"MainReleaseID\": albumData[\"main_release\"], \"Title\": albumData[\"title\"], \"Year\": albumData[\"year\"]}\n",
    "    genresData       = albumData[\"MasterGenres\"]\n",
    "    stylesData       = albumData[\"MasterStyles\"]\n",
    "    if isinstance(albumArtistsData,list):\n",
    "        artistIDs = [artistData['id'] for artistData in albumArtistsData] if isinstance(masterData,list) else []\n",
    "    \n",
    "    for artistID in artistIDs:\n",
    "        if artistAlbumMap.get(artistID) is None:\n",
    "            artistAlbumMap[artistID] = {}\n",
    "        artistAlbumMap[artistID][albumID] = albumValue\n",
    "\n",
    "        if artistGenreStyleMap.get(artistID) is None:\n",
    "            artistGenreStyleMap[artistID] = {\"Genres\": Counter(), \"Styles\": Counter()}\n",
    "        for genre in genresData:\n",
    "            artistGenreStyleMap[artistID][\"Genres\"][genre] += 1\n",
    "        for style in stylesData:\n",
    "            artistGenreStyleMap[artistID][\"Styles\"][style] += 1\n",
    "            \n",
    "ts.stop()\n",
    "\n",
    "ts = timestat(\"Creating Genre/Style DataFrame\")\n",
    "artistGenreStyleMapDF = Series(artistGenreStyleMap).apply(Series)\n",
    "artistGenreStyleMapDF[\"Genres\"] = artistGenreStyleMapDF[\"Genres\"].apply(lambda genres: [item[0] for item in genres.most_common(3)])\n",
    "artistGenreStyleMapDF[\"Styles\"] = artistGenreStyleMapDF[\"Styles\"].apply(lambda styles: [item[0] for item in styles.most_common(3)])\n",
    "io.save(idata=artistGenreStyleMapDF, ifile=\"/Volumes/Seagate/DB/discogs_20211001_ArtistGenreStyleMap.p\")\n",
    "ts.stop()\n",
    "\n",
    "ts = timestat(\"Saving Artist/Album Data\")\n",
    "io.save(idata=Series(artistAlbumMap), ifile=\"/Volumes/Seagate/DB/discogs_20211001_ArtistAlbumMap.p\")\n",
    "ts.stop()\n",
    "\n",
    "tsAll.stop()"
   ]
  },
  {
   "cell_type": "markdown",
   "metadata": {
    "hidden": true
   },
   "source": [
    "## Artist/Master/Release Map"
   ]
  },
  {
   "cell_type": "code",
   "execution_count": null,
   "metadata": {
    "hidden": true
   },
   "outputs": [],
   "source": [
    "from fileIO import fileIO\n",
    "io = fileIO()"
   ]
  },
  {
   "cell_type": "code",
   "execution_count": null,
   "metadata": {
    "hidden": true
   },
   "outputs": [],
   "source": [
    "artistAlbumMap = io.get(\"/Volumes/Seagate/DB/discogs_20211001_ArtistAlbumMap.p\")"
   ]
  },
  {
   "cell_type": "code",
   "execution_count": null,
   "metadata": {
    "hidden": true
   },
   "outputs": [],
   "source": [
    "artistAlbumMap['4120']"
   ]
  },
  {
   "cell_type": "code",
   "execution_count": null,
   "metadata": {
    "hidden": true
   },
   "outputs": [],
   "source": [
    "from pandas import Series\n",
    "\n",
    "ts = timestat(\"Getting Artist Discogs Data\")\n",
    "releaseData = io.get(\"/Volumes/Seagate/DB/discogs_20211001_releases-01.p\")\n",
    "ts.stop()\n",
    "\n",
    "ts = timestat(\"Creating MasterID Columns\")\n",
    "mIDData = releaseData[\"master_id\"].apply(lambda x: x[0] if isinstance(x,list) else None)\n",
    "mIDData.name = \"MasterID\"\n",
    "ts.update()\n",
    "isMData = releaseData[\"master_id\"].apply(lambda x: x[1][0][1] == 'true' if isinstance(x,list) else None)\n",
    "isMData.name = \"IsMaster\"\n",
    "ts.update()\n",
    "\n",
    "releaseData = releaseData.join(mIDData).join(isMData).drop(['master_id'], axis=1)\n",
    "ts.stop()"
   ]
  },
  {
   "cell_type": "code",
   "execution_count": null,
   "metadata": {
    "hidden": true
   },
   "outputs": [],
   "source": [
    "releaseData[releaseData[\"MasterID\"] == '2233']"
   ]
  },
  {
   "cell_type": "code",
   "execution_count": null,
   "metadata": {
    "hidden": true
   },
   "outputs": [],
   "source": [
    "artistGenreStyleMapDF = Series(artistGenreStyleMap).apply(Series)"
   ]
  },
  {
   "cell_type": "code",
   "execution_count": null,
   "metadata": {
    "hidden": true
   },
   "outputs": [],
   "source": [
    "artistGenreStyleMapDF[\"Genres\"] = artistGenreStyleMapDF[\"Genres\"].apply(lambda genres: [item[0] for item in genres.most_common(3)])\n",
    "artistGenreStyleMapDF[\"Styles\"] = artistGenreStyleMapDF[\"Styles\"].apply(lambda styles: [item[0] for item in styles.most_common(3)])"
   ]
  },
  {
   "cell_type": "code",
   "execution_count": null,
   "metadata": {
    "hidden": true
   },
   "outputs": [],
   "source": [
    "artistGenreStyleMapDF"
   ]
  },
  {
   "cell_type": "code",
   "execution_count": null,
   "metadata": {
    "hidden": true
   },
   "outputs": [],
   "source": []
  },
  {
   "cell_type": "code",
   "execution_count": null,
   "metadata": {
    "hidden": true
   },
   "outputs": [],
   "source": [
    "from artistDBBase import artistDBBase, artistDBDataClass\n",
    "from artistDBBase import artistDBNameClass, artistDBMetaClass, artistDBIDClass, artistDBURLClass, artistDBPageClass\n",
    "from artistDBBase import artistDBProfileClass, artistDBMediaClass, artistDBMediaAlbumClass\n",
    "from artistDBBase import artistDBMediaDataClass, artistDBMediaCountsClass, artistDBFileInfoClass\n",
    "from artistDBBase import artistDBTextClass, artistDBLinkClass\n",
    "from strUtils import fixName\n",
    "from dbUtils import utilsDiscogs\n",
    "\n",
    "\n",
    "class artistDiscogsFull(artistDBBase):\n",
    "    def __init__(self, debug=False):\n",
    "        super().__init__(debug)\n",
    "        self.dutils = utilsDiscogs()\n",
    "        \n",
    "        \n",
    "    ##############################################################################################################################\n",
    "    ## Parse Data\n",
    "    ##############################################################################################################################\n",
    "    def getData(self, inputdata):\n",
    "        for artistID,artistData in inputdata.iterrows():\n",
    "            artistName  = inputdata['name']\n",
    "            url         = \"https://www.discogs.com/artist/{0}\".format(artistID)\n",
    "            \n",
    "            generalData = {}\n",
    "            generalData[\"RealName\"]   = inputdata[\"realname\"]\n",
    "            generalData[\"Aliases\"]    = inputdata[\"MasterAliases\"]\n",
    "            generalData[\"Groups\"]     = inputdata[\"MasterGroups\"]\n",
    "            generalData[\"Members\"]    = inputdata[\"MasterMembers\"]\n",
    "            generalData[\"Variations\"] = inputdata[\"MasterNameVariations\"]\n",
    "            generalData = {k: v for k,v in generalData.items() if v is not None}\n",
    "            generalData = generalData if len(generalData) > 0 else None\n",
    "            \n",
    "        artist      = artistDBNameClass(name=artistName, err=None)\n",
    "        meta        = artistDBMetaClass(title=None, url=url)\n",
    "        url         = artistDBURLClass(url=url)\n",
    "        ID          = artistDBIDClass(ID=artistID)\n",
    "        pages       = artistDBPageClass(ppp=1, tot=1, redo=False, more=False)\n",
    "        profile     = artistDBProfileClass(general=generalData)\n",
    "        media       = self.getMedia()\n",
    "        mediaCounts = self.getMediaCounts(media)\n",
    "        info        = self.getInfo()\n",
    "        \n",
    "        adc = artistDBDataClass(artist=artist, meta=meta, url=url, ID=ID, pages=pages, profile=profile, mediaCounts=mediaCounts, media=media, info=info)\n",
    "        \n",
    "        return adc\n",
    "    \n",
    "    \n",
    "    ##############################################################################################################################\n",
    "    ## File Info\n",
    "    ##############################################################################################################################\n",
    "    def getInfo(self):\n",
    "        afi = artistDBFileInfoClass(info=self.fInfo)\n",
    "        return afi\n",
    "    \n",
    "\n",
    "    ##############################################################################################################################\n",
    "    ## Artist Name\n",
    "    ##############################################################################################################################\n",
    "    def getName(self):\n",
    "        result1 = self.bsdata.find(\"h1\", {'class':'hide_desktop'})\n",
    "        result2 = self.bsdata.find(\"h1\", {'class':'hide_mobile'})\n",
    "        if result1 and not result2:\n",
    "            result = result1\n",
    "        elif result2 and not result1:\n",
    "            result = result2\n",
    "        elif result1 and result2:\n",
    "            result = result1\n",
    "        else:        \n",
    "            anc = artistDBNameClass(err=True)\n",
    "            return anc\n",
    "\n",
    "        if result:\n",
    "            artist = result.text\n",
    "            if len(artist) > 0:\n",
    "                artist = fixName(artist)\n",
    "                anc = artistDBNameClass(name=artist, err=None)\n",
    "            else:\n",
    "                result = self.bsdata.find(\"script\", {\"id\": \"artist_schema\"})\n",
    "                if result is None:\n",
    "                    anc = artistDBNameClass(name=artist, err=\"Fix\")\n",
    "                else:\n",
    "                    try:\n",
    "                        artist = fixName(json.loads(result.text)[\"name\"])\n",
    "                        anc = artistDBNameClass(name=artist, err=None)\n",
    "                    except:\n",
    "                        anc = artistDBNameClass(name=artist, err=\"JSON\")\n",
    "        else:\n",
    "            anc = artistDBNameClass(err=\"NoH1\")\n",
    "\n",
    "        return anc\n",
    "    \n",
    "    \n",
    "\n",
    "    ##############################################################################################################################\n",
    "    ## Meta Information\n",
    "    ##############################################################################################################################\n",
    "    def getMeta(self):\n",
    "        metatitle = self.bsdata.find(\"meta\", {\"property\": \"og:title\"})\n",
    "        metaurl   = self.bsdata.find(\"meta\", {\"property\": \"og:url\"})\n",
    "\n",
    "        title = None\n",
    "        if metatitle is not None:\n",
    "            title = metatitle.attrs['content']\n",
    "\n",
    "        url = None\n",
    "        if metatitle is not None:\n",
    "            url = metaurl.attrs['content']\n",
    "\n",
    "        amc = artistDBMetaClass(title=title, url=url)\n",
    "        return amc\n",
    "        \n",
    "\n",
    "    ##############################################################################################################################\n",
    "    ## Artist URL\n",
    "    ##############################################################################################################################\n",
    "    def getURL(self):\n",
    "        result1 = self.bsdata.find(\"link\", {\"rel\": \"canonical\"})\n",
    "        result2 = self.bsdata.find(\"link\", {\"hreflang\": \"en\"})\n",
    "        if result1 and not result2:\n",
    "            result = result1\n",
    "        elif result2 and not result1:\n",
    "            result = result2\n",
    "        elif result1 and result2:\n",
    "            result = result1\n",
    "        else:        \n",
    "            auc = artistDBURLClass(err=True)\n",
    "            return auc\n",
    "\n",
    "        if result:\n",
    "            url = result.attrs[\"href\"]\n",
    "            url = url.replace(\"https://www.discogs.com\", \"\")\n",
    "            if url.find(\"/artist/\") == -1:\n",
    "                url = None\n",
    "                auc = artistDBURLClass(url=url, err=\"NoArtist\")\n",
    "            else:\n",
    "                auc = artistDBURLClass(url=url)\n",
    "        else:\n",
    "            auc = artistDBURLClass(err=\"NoLink\")\n",
    "\n",
    "        return auc\n",
    "\n",
    "    \n",
    "\n",
    "    ##############################################################################################################################\n",
    "    ## Artist ID\n",
    "    ##############################################################################################################################\n",
    "    def getID(self, suburl):\n",
    "        discID   = self.dutils.getArtistID(suburl.url)\n",
    "        aic = artistDBIDClass(ID=discID)\n",
    "        return aic\n",
    "\n",
    "\n",
    "    \n",
    "    ##############################################################################################################################\n",
    "    ## Artist Pages\n",
    "    ##############################################################################################################################\n",
    "    def getPages(self):\n",
    "        from numpy import ceil\n",
    "        bsdata = self.bsdata\n",
    "\n",
    "\n",
    "        pageData = bsdata.find(\"div\", {\"class\": \"pagination bottom\"})\n",
    "        if pageData is None:\n",
    "            err = \"pagination bottom\"\n",
    "            apc = artistDBPageClass(err=err)\n",
    "            return apc\n",
    "        else:\n",
    "            x = pageData.find(\"strong\", {\"class\": \"pagination_total\"})\n",
    "            if x is None:\n",
    "                err = \"pagination_total\"\n",
    "                apc = artistDBPageClass(err=err)\n",
    "                return apc\n",
    "            else:\n",
    "                txt = x.text\n",
    "                txt = txt.strip()\n",
    "                txt = txt.replace(\"\\n\", \"\")\n",
    "                retval = [tmp.strip() for tmp in txt.split('of')]\n",
    "\n",
    "                try:\n",
    "                    ppp   = int(retval[0].split('–')[-1])\n",
    "                    tot   = int(retval[1].replace(\",\", \"\"))\n",
    "                except:\n",
    "                    err   = \"int\"\n",
    "                    apc   = artistDBPageClass(err=err)\n",
    "                    return apc\n",
    "\n",
    "                if ppp < 500:\n",
    "                    if tot < 25 or ppp == tot:\n",
    "                        apc   = artistDBPageClass(ppp=ppp, tot=tot, redo=False, more=False)\n",
    "                    else:\n",
    "                        apc   = artistDBPageClass(ppp=ppp, tot=tot, redo=True, more=False)\n",
    "                else:\n",
    "                    if tot < 500:\n",
    "                        apc   = artistDBPageClass(ppp=ppp, tot=tot, redo=False, more=False)\n",
    "                    else:\n",
    "                        apc   = artistDBPageClass(ppp=ppp, tot=tot, redo=False, more=True)\n",
    "                        \n",
    "                return apc\n",
    "            \n",
    "        return artistDBPageClass()\n",
    "    \n",
    "    \n",
    "\n",
    "    ##############################################################################################################################\n",
    "    ## Artist Variations\n",
    "    ##############################################################################################################################\n",
    "    def getProfile(self):  \n",
    "        result = self.bsdata.find(\"div\", {\"class\": \"profile\"})\n",
    "        heads = result.findAll(\"div\", {\"class\": \"head\"})\n",
    "        content = result.findAll(\"div\", {\"class\": \"content\"})\n",
    "        profileData = dict(zip(heads, content)) if len(heads) == len(content) else {}\n",
    "        generalData = {}\n",
    "        for head,content in profileData.items():\n",
    "            key  = head.text[:-1] if isinstance(head.text, str) else None\n",
    "            refs = content.findAll(\"a\")\n",
    "            val  = [artistDBTextClass(content)] if len(refs) == 0 else [artistDBLinkClass(ref) for ref in refs]\n",
    "            generalData[key] = val  \n",
    "\n",
    "\n",
    "        extraData={}\n",
    "        ulData = self.bsdata.findAll(\"ul\", {\"class\": \"facets_nav\"})\n",
    "        for ul in ulData:\n",
    "            refs  = ul.findAll(\"a\") if ul is not None else None\n",
    "            attrs = [[ref.attrs.get('data-credit-type'), ref.attrs.get('data-credit-subtype'),ref] for ref in refs] if refs is not None else None\n",
    "            for dctype,dcsubtype,ref in attrs:\n",
    "                if not all([dctype,dcsubtype]):\n",
    "                    continue\n",
    "                if extraData.get(dctype) is None:\n",
    "                    extraData[dctype] = {}\n",
    "                extraData[dctype][dcsubtype] = artistDBLinkClass(ref)\n",
    "        extraData = extraData if len(extraData) > 0 else None\n",
    "\n",
    "        apc = artistDBProfileClass(general=generalData, extra=extraData)\n",
    "        return apc\n",
    "\n",
    "    \n",
    "    \n",
    "    ##############################################################################################################################\n",
    "    ## Artist Media\n",
    "    ##############################################################################################################################    \n",
    "    def getMediaAlbum(self, td):\n",
    "        amac = artistDBMediaAlbumClass()\n",
    "        for span in td.findAll(\"span\"):\n",
    "            attrs = span.attrs\n",
    "            if attrs.get(\"class\"):\n",
    "                if 'format' in attrs[\"class\"]:\n",
    "                    albumformat = span.text\n",
    "                    albumformat = albumformat.replace(\"(\", \"\")\n",
    "                    albumformat = albumformat.replace(\")\", \"\")\n",
    "                    amac.format = albumformat\n",
    "                    continue\n",
    "            span.replaceWith(\"\")\n",
    "\n",
    "        ref = td.find(\"a\")\n",
    "        if ref:\n",
    "            amac.url   = ref.attrs['href']\n",
    "            amac.album = ref.text\n",
    "        else:\n",
    "            amac.err = \"NoText\"\n",
    "\n",
    "        return amac\n",
    "    \n",
    "    \n",
    "    def getMedia(self):\n",
    "        amc = artistDBMediaClass()\n",
    "        \n",
    "        table = self.bsdata.find(\"table\", {\"id\": \"artist\"})\n",
    "        if table == None:\n",
    "            amc.err=\"NoMedia\"\n",
    "            return amc\n",
    "\n",
    "        name  = None\n",
    "        for tr in table.findAll(\"tr\"):\n",
    "            h3 = tr.find(\"h3\")\n",
    "            if h3:\n",
    "                name = h3.text\n",
    "                amc.media[name] = []\n",
    "                continue\n",
    "\n",
    "\n",
    "            # Album, Class, Format\n",
    "            result = tr.find(\"td\", {\"class\": \"title\"})\n",
    "            album  = None\n",
    "            url    = None\n",
    "            albumformat = name\n",
    "            if result:\n",
    "                retval      = self.getMediaAlbum(result)\n",
    "                album       = fixName(retval.album)\n",
    "                url         = retval.url\n",
    "                albumformat = retval.aformat\n",
    "\n",
    "            if album == None:\n",
    "                continue\n",
    "\n",
    "            # Code\n",
    "            code = tr.attrs.get(\"data-object-id\")\n",
    "\n",
    "            # AlbumClass\n",
    "            albumclass = tr.attrs.get(\"data-object-type\")\n",
    "\n",
    "            # AlbumURL\n",
    "            result  = tr.find(\"td\", {\"class\": \"artist\"})\n",
    "            artists = None\n",
    "            if result:\n",
    "                artists = self.getNamesAndURLs(result)\n",
    "\n",
    "            # Year\n",
    "            result = tr.find(\"td\", {\"class\": \"year\"})\n",
    "            year   = None\n",
    "            if result:\n",
    "                year = result.text\n",
    "\n",
    "            if name is None:\n",
    "                name = \"Albums\"\n",
    "                amc.media[name] = []\n",
    "            amdc = artistDBMediaDataClass(album=album, url=url, aclass=albumclass, aformat=albumformat, artist=artists, code=code, year=year)\n",
    "            amc.media[name].append(amdc)\n",
    "            #if debug: print \"  Found album:\",album,\"of type:\",name\n",
    "\n",
    "\n",
    "        if False:\n",
    "            newMedia = {}\n",
    "            for name,v in media.items():\n",
    "                newMedia[name] = {}\n",
    "                for item in v:\n",
    "                    code = item['Code']\n",
    "                    del item['Code']\n",
    "                    newMedia[name][code] = item\n",
    "\n",
    "            media = newMedia\n",
    "\n",
    "        return amc\n",
    "    \n",
    "    \n",
    "\n",
    "    ##############################################################################################################################\n",
    "    ## Artist Media Counts\n",
    "    ##############################################################################################################################\n",
    "    def getMediaCounts(self, media):\n",
    "        amcc = artistDBMediaCountsClass()\n",
    "        \n",
    "        results = self.bsdata.findAll(\"ul\", {\"class\": \"facets_nav\"})\n",
    "        if results is None or len(results) == 0:\n",
    "            amcc.err = \"No Counts\"\n",
    "            return amcc\n",
    "            \n",
    "        for result in results:\n",
    "            for li in result.findAll(\"li\"):\n",
    "                ref = li.find(\"a\")\n",
    "                if ref:\n",
    "                    attrs = ref.attrs\n",
    "                    span = ref.find(\"span\", {\"class\": \"facet_count\"})\n",
    "                    count = None\n",
    "                    if span:\n",
    "                        count = span.text\n",
    "                        credittype    = attrs.get(\"data-credit-type\")\n",
    "                        creditsubtype = attrs.get(\"data-credit-subtype\")\n",
    "                        if credittype and creditsubtype:\n",
    "                            if amcc.counts.get(credittype) == None:\n",
    "                                amcc.counts[credittype] = {}\n",
    "                            if amcc.counts[credittype].get(creditsubtype) == None:\n",
    "                                try:\n",
    "                                    amcc.counts[credittype][creditsubtype] = int(count)\n",
    "                                except:\n",
    "                                    amcc.counts[credittype][creditsubtype] = count\n",
    "                                    amcc.err = \"Non Int\"\n",
    "\n",
    "        return amcc"
   ]
  },
  {
   "cell_type": "markdown",
   "metadata": {
    "heading_collapsed": true
   },
   "source": [
    "# AllMusic"
   ]
  },
  {
   "cell_type": "code",
   "execution_count": null,
   "metadata": {
    "hidden": true
   },
   "outputs": [],
   "source": [
    "%load_ext autoreload\n",
    "%autoreload\n",
    "from dbArtistsAllMusic import dbArtistsAllMusic\n",
    "from dbArtistsParse import dbArtistsPrimary, dbArtistsCredit, dbArtistsExtra\n",
    "from dbArtistsParse import dbArtistsAssertCredit\n",
    "\n",
    "for modVal in range(100):\n",
    "    dbAP = dbArtistsPrimary(dbArtistsAllMusic())\n",
    "    dometa = dbAP.parse(modVal, previousDays=1, force=False)\n",
    "    if dometa:\n",
    "        dbAP.createArtistMetadata(modVal)\n",
    "        dbAP.createAlbumMetadata(modVal)"
   ]
  },
  {
   "cell_type": "code",
   "execution_count": null,
   "metadata": {
    "hidden": true
   },
   "outputs": [],
   "source": [
    "# This downloads missing credit files\n",
    "for modVal in range(100):\n",
    "    try:\n",
    "        dbac = dbArtistsAssertCredit(dbArtistsAllMusic())\n",
    "        dbac.parseModVal(modVal)\n",
    "        dbac.downloadUnknownArtistCredits()\n",
    "    except:\n",
    "        continue"
   ]
  },
  {
   "cell_type": "code",
   "execution_count": null,
   "metadata": {
    "hidden": true
   },
   "outputs": [],
   "source": [
    "for modVal in range(100):\n",
    "    dbAP = dbArtistsCredit(dbArtistsAllMusic())\n",
    "    dbAP.parse(modVal, previousDays=200)"
   ]
  },
  {
   "cell_type": "code",
   "execution_count": null,
   "metadata": {
    "hidden": true
   },
   "outputs": [],
   "source": [
    "for modVal in range(100):\n",
    "    dbAP = dbArtistsPrimary(dbArtistsAllMusic())\n",
    "    dbAP.createArtistMetadata(modVal)\n",
    "    dbAP.createAlbumMetadata(modVal)"
   ]
  },
  {
   "cell_type": "markdown",
   "metadata": {
    "heading_collapsed": true
   },
   "source": [
    "# MusicBrainz"
   ]
  },
  {
   "cell_type": "code",
   "execution_count": null,
   "metadata": {
    "hidden": true
   },
   "outputs": [],
   "source": [
    "%load_ext autoreload\n",
    "%autoreload\n",
    "from dbArtistsMusicBrainz import dbArtistsMusicBrainz\n",
    "from dbArtistsParse import dbArtistsPrimary, dbArtistsCredit, dbArtistsExtra\n",
    "from dbArtistsParse import dbArtistsAssertExtra"
   ]
  },
  {
   "cell_type": "code",
   "execution_count": null,
   "metadata": {
    "hidden": true
   },
   "outputs": [],
   "source": [
    "for modVal in range(100):\n",
    "    dbAP = dbArtistsPrimary(dbArtistsMusicBrainz())\n",
    "    dometa = dbAP.parse(modVal, previousDays=1, force=False)\n",
    "    if dometa:\n",
    "        dbAP.createArtistMetadata(modVal)\n",
    "        dbAP.createAlbumMetadata(modVal)\n",
    "\n",
    "#for modVal in range(100):\n",
    "#    dbAP = dbArtistsExtra(dbArtistsMusicBrainz())\n",
    "#    dbAP.parse(modVal)"
   ]
  },
  {
   "cell_type": "code",
   "execution_count": null,
   "metadata": {
    "hidden": true
   },
   "outputs": [],
   "source": [
    "for modVal in range(100):\n",
    "    dbAP = dbArtistsAssertExtra(dbArtistsMusicBrainz())\n",
    "    dbAP.parseModVal(modVal)\n",
    "    dbAP.downloadMissingArtistExtras()"
   ]
  },
  {
   "cell_type": "markdown",
   "metadata": {
    "heading_collapsed": true
   },
   "source": [
    "# Discogs"
   ]
  },
  {
   "cell_type": "code",
   "execution_count": null,
   "metadata": {
    "hidden": true
   },
   "outputs": [],
   "source": [
    "%load_ext autoreload\n",
    "%autoreload\n",
    "from dbArtistsDiscogs import dbArtistsDiscogs\n",
    "from dbArtistsParse import dbArtistsPrimary, dbArtistsCredit, dbArtistsExtra\n",
    "from dbArtistsParse import dbArtistsAssertExtra, dbArtistsUnofficial, dbArtistsAssertUnofficial"
   ]
  },
  {
   "cell_type": "code",
   "execution_count": null,
   "metadata": {
    "hidden": true
   },
   "outputs": [],
   "source": [
    "for modVal in range(100):\n",
    "    dbAP = dbArtistsPrimary(dbArtistsDiscogs())\n",
    "    dometa = dbAP.parse(modVal, previousDays=50, force=False)\n",
    "    if dometa:\n",
    "        dbAP.createArtistMetadata(modVal)\n",
    "        dbAP.createAlbumMetadata(modVal)\n",
    "\n",
    "if False:\n",
    "    for modVal in range(100):\n",
    "        break\n",
    "        dbAP = dbArtistsExtra(dbArtistsDiscogs())\n",
    "        dbAP.parse(modVal, previousDays=10, force=True)\n",
    "\n",
    "    for modVal in range(100):\n",
    "        break\n",
    "        dbAP = dbArtistsUnofficial(dbArtistsDiscogs())\n",
    "        dbAP.parse(modVal, previousDays=10, force=True)\n",
    "\n",
    "    for modVal in range(100):\n",
    "        dbAP = dbArtistsPrimary(dbArtistsDiscogs())"
   ]
  },
  {
   "cell_type": "code",
   "execution_count": null,
   "metadata": {
    "hidden": true
   },
   "outputs": [],
   "source": [
    "for modVal in range(100):\n",
    "    dbAP = dbArtistsAssertUnofficial(dbArtistsDiscogs())\n",
    "    dbAP.parseModVal(modVal)\n",
    "    dbAP.downloadMissingArtistUnofficials()"
   ]
  },
  {
   "cell_type": "markdown",
   "metadata": {
    "heading_collapsed": true
   },
   "source": [
    "# AllMusic"
   ]
  },
  {
   "cell_type": "code",
   "execution_count": null,
   "metadata": {
    "hidden": true
   },
   "outputs": [],
   "source": [
    "from ioUtils import getFile\n",
    "dbLinks = getFile(\"dbLinks.p\")\n",
    "dbIDtoURL = getFile(\"dbIDToURLLookup.p\")"
   ]
  },
  {
   "cell_type": "code",
   "execution_count": null,
   "metadata": {
    "hidden": true
   },
   "outputs": [],
   "source": [
    "from dbArtistsAllMusic import dbArtistsAllMusic\n",
    "from pandas import DataFrame, Series\n",
    "dbAM = dbArtistsAllMusic()\n",
    "amRef = dbAM.disc.getMasterSlimArtistDiscogsDB()\n",
    "print(\"I know about {0} IDs\".format(amRef.shape))\n",
    "\n",
    "amToGet = Series(list(dbLinks['allmusic'].keys()))\n",
    "IDsToGet  = amToGet[~amToGet.isin(amRef.index)]\n",
    "print(\"There are {0} IDs to get\".format(len(IDsToGet)))"
   ]
  },
  {
   "cell_type": "code",
   "execution_count": null,
   "metadata": {
    "hidden": true
   },
   "outputs": [],
   "source": [
    "from time import sleep\n",
    "from fsUtils import isFile\n",
    "from random import random\n",
    "n = len(IDsToGet)\n",
    "for i,artistID in enumerate(IDsToGet):\n",
    "    url       = dbIDtoURL['allmusic'][artistID]\n",
    "    savename  = dbAM.dutils.getArtistSavename(artistID)\n",
    "    if not isFile(savename):\n",
    "        print(\"{0: >3}/{1: <5}\\t{2}\\t{3}\".format(i,n,savename,url))\n",
    "        try:\n",
    "            dbAM.dutils.downloadArtistURL(url=url, savename=savename, force=False)\n",
    "        except:\n",
    "            pass\n",
    "        sleep(3*random())"
   ]
  },
  {
   "cell_type": "code",
   "execution_count": null,
   "metadata": {
    "hidden": true
   },
   "outputs": [],
   "source": []
  },
  {
   "cell_type": "markdown",
   "metadata": {
    "heading_collapsed": true
   },
   "source": [
    "# Genius Download List of URLs"
   ]
  },
  {
   "cell_type": "code",
   "execution_count": null,
   "metadata": {
    "hidden": true
   },
   "outputs": [],
   "source": [
    "from ioUtils import getFile\n",
    "dbLinks = getFile(\"dbLinks.p\")\n",
    "dbIDtoURL = getFile(\"dbIDToURLLookup.p\")"
   ]
  },
  {
   "cell_type": "code",
   "execution_count": null,
   "metadata": {
    "hidden": true
   },
   "outputs": [],
   "source": [
    "from dbArtistsGenius import dbArtistsGenius\n",
    "from pandas import DataFrame, Series\n",
    "dbGen = dbArtistsGenius()\n",
    "genRef = dbGen.disc.getMasterSlimArtistDiscogsDB()\n",
    "print(\"I know about {0} IDs\".format(genRef.shape))\n",
    "\n",
    "genToGet = Series(list(dbLinks['genius'].keys()))\n",
    "IDsToGet  = genToGet[~genToGet.isin(genRef.index)]\n",
    "print(\"There are {0} IDs to get\".format(len(IDsToGet)))"
   ]
  },
  {
   "cell_type": "code",
   "execution_count": null,
   "metadata": {
    "hidden": true
   },
   "outputs": [],
   "source": [
    "from time import sleep\n",
    "from fsUtils import isFile\n",
    "from random import random\n",
    "n = len(IDsToGet)\n",
    "for i,artistID in enumerate(IDsToGet):\n",
    "    url       = dbIDtoURL['genius'][artistID]\n",
    "    savename  = dbGen.dutils.getArtistSavename(artistID)\n",
    "    if not isFile(savename):\n",
    "        print(\"{0: >3}/{1: <5}\\t{2}\\t{3}\".format(i,n,savename,url))\n",
    "        try:\n",
    "            dbGen.dutils.downloadArtistURL(url=url, savename=savename, force=False)\n",
    "        except:\n",
    "            pass\n",
    "        sleep(2*random())"
   ]
  },
  {
   "cell_type": "code",
   "execution_count": null,
   "metadata": {
    "hidden": true
   },
   "outputs": [],
   "source": [
    "for url in urls:\n",
    "    print(url)\n",
    "    dp = dbArtistsGenius()\n",
    "    dp.downloadArtistFromURL(url)\n",
    "    sleep(2)\n"
   ]
  },
  {
   "cell_type": "code",
   "execution_count": null,
   "metadata": {
    "hidden": true
   },
   "outputs": [],
   "source": []
  },
  {
   "cell_type": "code",
   "execution_count": null,
   "metadata": {
    "hidden": true
   },
   "outputs": [],
   "source": [
    "for modVal in range(100):\n",
    "    dbAP = dbArtistsPrimary(dbArtistsRateYourMusic())\n",
    "    dometa = dbAP.parse(modVal, previousDays=1, force=False)\n",
    "    if dometa:\n",
    "        dbAP.createArtistMetadata(modVal)\n",
    "        dbAP.createAlbumMetadata(modVal)"
   ]
  },
  {
   "cell_type": "markdown",
   "metadata": {
    "heading_collapsed": true
   },
   "source": [
    "# Deezer"
   ]
  },
  {
   "cell_type": "code",
   "execution_count": null,
   "metadata": {
    "hidden": true
   },
   "outputs": [],
   "source": [
    "%load_ext autoreload\n",
    "%autoreload\n",
    "from dbArtistsDeezer import dbArtistsDeezer\n",
    "from dbArtistsParse import dbArtistsPrimary, dbArtistsCredit, dbArtistsExtra\n",
    "from dbArtistsParse import dbArtistsAssertExtra, dbArtistsUnofficial, dbArtistsAssertUnofficial"
   ]
  },
  {
   "cell_type": "code",
   "execution_count": null,
   "metadata": {
    "hidden": true
   },
   "outputs": [],
   "source": [
    "for modVal in range(100):\n",
    "    dbAP = dbArtistsPrimary(dbArtistsDeezer())\n",
    "    dometa = dbAP.parse(modVal, previousDays=1, force=True)\n",
    "    if dometa:\n",
    "        dbAP.createArtistMetadata(modVal)\n",
    "        dbAP.createAlbumMetadata(modVal)"
   ]
  },
  {
   "cell_type": "markdown",
   "metadata": {
    "heading_collapsed": true
   },
   "source": [
    "# LastFM"
   ]
  },
  {
   "cell_type": "code",
   "execution_count": null,
   "metadata": {
    "hidden": true
   },
   "outputs": [],
   "source": [
    "%load_ext autoreload\n",
    "%autoreload\n",
    "from dbArtistsLastFM import dbArtistsLastFM\n",
    "from dbArtistsParse import dbArtistsPrimary, dbArtistsCredit, dbArtistsExtra\n",
    "from dbArtistsParse import dbArtistsAssertExtra, dbArtistsUnofficial, dbArtistsAssertUnofficial"
   ]
  },
  {
   "cell_type": "code",
   "execution_count": null,
   "metadata": {
    "hidden": true
   },
   "outputs": [],
   "source": [
    "lfm = dbArtistsLastFM()"
   ]
  },
  {
   "cell_type": "code",
   "execution_count": null,
   "metadata": {
    "hidden": true
   },
   "outputs": [],
   "source": [
    "for modVal in range(100):\n",
    "    try:\n",
    "        lfm.assertDBModValExtraData(modVal, maxPages=4, test=False)\n",
    "    except:\n",
    "        pass"
   ]
  },
  {
   "cell_type": "code",
   "execution_count": null,
   "metadata": {
    "hidden": true
   },
   "outputs": [],
   "source": [
    "dbAP = dbArtistsPrimary(dbArtistsLastFM())\n",
    "dometa = dbAP.parse(1, previousDays=1, force=True)"
   ]
  },
  {
   "cell_type": "code",
   "execution_count": null,
   "metadata": {
    "hidden": true
   },
   "outputs": [],
   "source": [
    "dbAP = dbArtistsExtra(dbArtistsLastFM())\n",
    "dbAP.parse(1, previousDays=1)"
   ]
  },
  {
   "cell_type": "code",
   "execution_count": null,
   "metadata": {
    "hidden": true
   },
   "outputs": [],
   "source": [
    "for modVal in range(100):\n",
    "    dbAP = dbArtistsExtra(dbArtistsLastFM())\n",
    "    dbAP.parse(modVal, previousDays=3)"
   ]
  },
  {
   "cell_type": "code",
   "execution_count": null,
   "metadata": {
    "hidden": true
   },
   "outputs": [],
   "source": []
  },
  {
   "cell_type": "code",
   "execution_count": null,
   "metadata": {
    "hidden": true
   },
   "outputs": [],
   "source": [
    "for modVal in range(100):\n",
    "    dbAP = dbArtistsPrimary(dbArtistsLastFM())\n",
    "    dometa = dbAP.parse(modVal, previousDays=3, force=False)\n",
    "    if dometa:\n",
    "        dbAP.createArtistMetadata(modVal)\n",
    "        dbAP.createAlbumMetadata(modVal)"
   ]
  },
  {
   "cell_type": "markdown",
   "metadata": {
    "heading_collapsed": true
   },
   "source": [
    "# AlbumOfTheYear"
   ]
  },
  {
   "cell_type": "code",
   "execution_count": null,
   "metadata": {
    "hidden": true
   },
   "outputs": [],
   "source": [
    "%load_ext autoreload\n",
    "%autoreload\n",
    "from dbArtistsAlbumOfTheYear import dbArtistsAlbumOfTheYear\n",
    "from dbArtistsParse import dbArtistsPrimary, dbArtistsCredit, dbArtistsExtra\n",
    "from dbArtistsParse import dbArtistsAssertExtra, dbArtistsUnofficial, dbArtistsAssertUnofficial"
   ]
  },
  {
   "cell_type": "code",
   "execution_count": null,
   "metadata": {
    "hidden": true
   },
   "outputs": [],
   "source": [
    "for modVal in range(100):\n",
    "    dbAP = dbArtistsPrimary(dbArtistsAlbumOfTheYear())\n",
    "    dometa = dbAP.parse(modVal, previousDays=1, force=True)\n",
    "    if dometa:\n",
    "        dbAP.createArtistMetadata(modVal)\n",
    "        dbAP.createAlbumMetadata(modVal)"
   ]
  },
  {
   "cell_type": "markdown",
   "metadata": {
    "heading_collapsed": true
   },
   "source": [
    "# Genius"
   ]
  },
  {
   "cell_type": "code",
   "execution_count": null,
   "metadata": {
    "hidden": true
   },
   "outputs": [],
   "source": [
    "%load_ext autoreload\n",
    "%autoreload\n",
    "from dbArtistsGenius import dbArtistsGenius\n",
    "from dbArtistsParse import dbArtistsPrimary, dbArtistsCredit, dbArtistsExtra\n",
    "from dbArtistsParse import dbArtistsAssertExtra, dbArtistsUnofficial, dbArtistsAssertUnofficial"
   ]
  },
  {
   "cell_type": "code",
   "execution_count": null,
   "metadata": {
    "hidden": true
   },
   "outputs": [],
   "source": [
    "for modVal in range(100):\n",
    "    dbAP = dbArtistsPrimary(dbArtistsGenius())\n",
    "    dometa = dbAP.parse(modVal, previousDays=1, force=True)\n",
    "    if dometa:\n",
    "        dbAP.createArtistMetadata(modVal)\n",
    "        dbAP.createAlbumMetadata(modVal)"
   ]
  },
  {
   "cell_type": "markdown",
   "metadata": {
    "heading_collapsed": true
   },
   "source": [
    "# KWorbSpotify"
   ]
  },
  {
   "cell_type": "code",
   "execution_count": null,
   "metadata": {
    "hidden": true
   },
   "outputs": [],
   "source": [
    "%autoreload\n",
    "from dbArtistsKWorbSpotify import dbArtistsKWorbSpotify\n",
    "from dbUtils import utilsKWorbSpotify\n",
    "from dbArtistsParse import dbArtistsPrimary, dbArtistsCredit, dbArtistsExtra\n",
    "from dbArtistsParse import dbArtistsAssertCredit, dbArtistsRawHTML, dbArtistsRawFiles"
   ]
  },
  {
   "cell_type": "code",
   "execution_count": null,
   "metadata": {
    "hidden": true
   },
   "outputs": [],
   "source": [
    "dbAP = dbArtistsKWorbSpotify()\n",
    "dbAP.downloadKWorbSpotifyArtists(update=True)"
   ]
  },
  {
   "cell_type": "code",
   "execution_count": null,
   "metadata": {
    "hidden": true
   },
   "outputs": [],
   "source": [
    "%autoreload\n",
    "from webUtils import getHTML\n",
    "from searchUtils import findExt\n",
    "dbAP = dbArtistsRawFiles(dbArtistsKWorbSpotify(), \"data\")\n",
    "dbAP.parse(previousDays=10)"
   ]
  },
  {
   "cell_type": "markdown",
   "metadata": {
    "heading_collapsed": true
   },
   "source": [
    "# KWorbiTunes"
   ]
  },
  {
   "cell_type": "code",
   "execution_count": null,
   "metadata": {
    "hidden": true
   },
   "outputs": [],
   "source": [
    "%autoreload\n",
    "from dbArtistsKWorbiTunes import dbArtistsKWorbiTunes\n",
    "from dbUtils import utilsKWorbYouTube\n",
    "from dbArtistsParse import dbArtistsPrimary, dbArtistsCredit, dbArtistsExtra\n",
    "from dbArtistsParse import dbArtistsAssertCredit, dbArtistsRawHTML, dbArtistsRawFiles"
   ]
  },
  {
   "cell_type": "code",
   "execution_count": null,
   "metadata": {
    "hidden": true
   },
   "outputs": [],
   "source": [
    "dbAP = dbArtistsKWorbiTunes()\n",
    "dbAP.downloadKWorbiTunesArtists(update=True)"
   ]
  },
  {
   "cell_type": "code",
   "execution_count": null,
   "metadata": {
    "hidden": true
   },
   "outputs": [],
   "source": [
    "%autoreload\n",
    "from webUtils import getHTML\n",
    "from searchUtils import findExt\n",
    "dbAP = dbArtistsRawFiles(dbArtistsKWorbiTunes(), \"data\")\n",
    "dbAP.parse(previousDays=10)"
   ]
  },
  {
   "cell_type": "code",
   "execution_count": null,
   "metadata": {
    "hidden": true
   },
   "outputs": [],
   "source": []
  },
  {
   "cell_type": "code",
   "execution_count": null,
   "metadata": {
    "hidden": true
   },
   "outputs": [],
   "source": [
    "%autoreload\n",
    "from webUtils import getHTML\n",
    "from searchUtils import findExt\n",
    "dbAP = dbArtistsRawFiles(dbArtistsKWorbYouTube(), \"data\")\n",
    "dbAP.parse(previousDays=10)"
   ]
  },
  {
   "cell_type": "code",
   "execution_count": null,
   "metadata": {
    "hidden": true
   },
   "outputs": [],
   "source": [
    "%autoreload\n",
    "from dbArtistsKWorbYouTube import dbArtistsKWorbYouTube\n",
    "from dbUtils import utilsKWorbYouTube\n",
    "from dbArtistsParse import dbArtistsPrimary, dbArtistsCredit, dbArtistsExtra\n",
    "from dbArtistsParse import dbArtistsAssertCredit, dbArtistsRawHTML, dbArtistsRawFiles"
   ]
  },
  {
   "cell_type": "code",
   "execution_count": null,
   "metadata": {
    "hidden": true
   },
   "outputs": [],
   "source": [
    "bsdata = getHTML(\"/Volumes/Piggy/Discog/artists-kworbyoutube/data/justinbieber.p\")\n",
    "bsdata"
   ]
  },
  {
   "cell_type": "code",
   "execution_count": null,
   "metadata": {
    "hidden": true
   },
   "outputs": [],
   "source": []
  },
  {
   "cell_type": "code",
   "execution_count": null,
   "metadata": {
    "hidden": true
   },
   "outputs": [],
   "source": [
    "retval = dbAP.artist.getData(\"/Volumes/Piggy/Discog/artists-kworbitunes/data/theweeknd.p\")\n",
    "retval.show()"
   ]
  },
  {
   "cell_type": "code",
   "execution_count": null,
   "metadata": {
    "hidden": true
   },
   "outputs": [],
   "source": [
    "\"/Volumes/Piggy/Discog/artists-kworbyoutube/data/beyoncé.p\".encode('utf-8')"
   ]
  },
  {
   "cell_type": "code",
   "execution_count": null,
   "metadata": {
    "hidden": true
   },
   "outputs": [],
   "source": [
    "bsdata = getHTML(\"/Volumes/Piggy/Discog/artists-kworbitunes/data/theweeknd.p\")\n",
    "bsdata"
   ]
  },
  {
   "cell_type": "markdown",
   "metadata": {
    "heading_collapsed": true
   },
   "source": [
    "# RockCorner"
   ]
  },
  {
   "cell_type": "code",
   "execution_count": null,
   "metadata": {
    "hidden": true
   },
   "outputs": [],
   "source": [
    "%load_ext autoreload\n",
    "%autoreload\n",
    "from dbArtistsRockCorner import dbArtistsRockCorner\n",
    "from dbArtistsParse import dbArtistsPrimary, dbArtistsCredit, dbArtistsExtra\n",
    "from dbArtistsParse import dbArtistsAssertExtra, dbArtistsUnofficial, dbArtistsAssertUnofficial"
   ]
  },
  {
   "cell_type": "code",
   "execution_count": null,
   "metadata": {
    "hidden": true
   },
   "outputs": [],
   "source": [
    "for modVal in range(100):\n",
    "    dbAP = dbArtistsPrimary(dbArtistsRockCorner())\n",
    "    dbAP.parse(modVal, force=True)"
   ]
  },
  {
   "cell_type": "markdown",
   "metadata": {
    "heading_collapsed": true
   },
   "source": [
    "# Rate Your Music"
   ]
  },
  {
   "cell_type": "code",
   "execution_count": null,
   "metadata": {
    "hidden": true
   },
   "outputs": [],
   "source": [
    "\"https://www.last.fm/music/Michael%2BBubl%25C3%25A9\""
   ]
  },
  {
   "cell_type": "code",
   "execution_count": null,
   "metadata": {
    "hidden": true
   },
   "outputs": [],
   "source": [
    "url=\"Michael%Bublé\"\n",
    "print(quote(url, encoding='utf-8'))\n",
    "print(utils.getArtistID(url, debug=True))"
   ]
  },
  {
   "cell_type": "code",
   "execution_count": null,
   "metadata": {
    "hidden": true
   },
   "outputs": [],
   "source": [
    "https://www.last.fm/music/Michael%25%2BBubl%25C3%25A9/+albums?order=release_date"
   ]
  },
  {
   "cell_type": "code",
   "execution_count": null,
   "metadata": {
    "hidden": true
   },
   "outputs": [],
   "source": [
    "quote(url)\n",
    "utils.getArtistID(\"https://www.last.fm/music/Michael%2BBubl%25C3%25A9/+albums?order=release_date\", debug=True)"
   ]
  },
  {
   "cell_type": "code",
   "execution_count": null,
   "metadata": {
    "hidden": true
   },
   "outputs": [],
   "source": [
    "#help(quote)"
   ]
  },
  {
   "cell_type": "code",
   "execution_count": null,
   "metadata": {
    "hidden": true
   },
   "outputs": [],
   "source": [
    "\n",
    "#url=\"https://www.last.fm/music/Michael+Bublé\"\n",
    "url=\"https://www.last.fm/music/Dave+Matthews+Band\"\n",
    "url=\"https://www.last.fm/music/16+Deluxe\"                               # 53342847883\n",
    "from urllib.parse import quote\n",
    "print(url)\n",
    "print(quote(url))\n",
    "#url=\"https://www.last.fm/music/16+Deluxe/+albums?order=release_date\"   # 53342847883\n",
    "url=\"https://www.last.fm/music/16%2BDeluxe/+albums?order=release_date\" # 99404621521\n",
    "#url=\"https://www.last.fm/music/Michael%2BBubl%25C3%25A9/+albums?order=release_date\"\n",
    "#url=\"https://www.last.fm/music/Michael%25252BBubl%25C3%25A9/+albums?order=release_date\"\n",
    "#url=\"https://www.last.fm/music/Michael%2BBubl%25C3%25A9/+albums?order=release_date\"\n",
    "from unicodedata import normalize\n",
    "#‘NFC’, ‘NFKC’, ‘NFD’, and ‘NFKD’.\n",
    "print(url)\n",
    "print(normalize(\"NFC\", url))\n",
    "print(normalize(\"NFKC\", url))\n",
    "print(normalize(\"NFD\", url))\n",
    "print(normalize(\"NFKD\", url))\n",
    "print(utils.getArtistID(url))\n",
    "print(utils.getArtistID(normalize(\"NFC\", url)))\n",
    "print(utils.getArtistID(normalize(\"NFKC\", url)))\n",
    "print(utils.getArtistID(normalize(\"NFD\", url)))\n",
    "print(utils.getArtistID(normalize(\"NFKD\", url)))\n",
    "\n",
    "#ifile=\"/Volumes/Piggy/Discog/artists-lastfm/47/92143197647.p\"\n",
    "#from artistLastFM import artistLastFM\n",
    "#alm = artistLastFM()\n",
    "#retval = alm.getData(ifile)\n",
    "#retval.show()"
   ]
  },
  {
   "cell_type": "code",
   "execution_count": null,
   "metadata": {
    "hidden": true,
    "scrolled": true
   },
   "outputs": [],
   "source": [
    "#data = getHTML(\"/Volumes/Piggy/Discog/artists-lastfm/47/85771689147.p\")\n",
    "#data"
   ]
  },
  {
   "cell_type": "code",
   "execution_count": null,
   "metadata": {
    "hidden": true
   },
   "outputs": [],
   "source": [
    "\n",
    "ifile=\"/Volumes/Piggy/Discog/artists-lastfm/50/86362214250.p\"\n",
    "from artistLastFM import artistLastFM\n",
    "alm = artistLastFM()\n",
    "1/0\n",
    "try:\n",
    "    retval = alm.getData(ifile)\n",
    "    retval.show()\n",
    "except:\n",
    "    print(\"HI\")"
   ]
  },
  {
   "cell_type": "code",
   "execution_count": null,
   "metadata": {
    "hidden": true
   },
   "outputs": [],
   "source": [
    "\n",
    "\n",
    "\n",
    "from dbUtils import utilsLastFM\n",
    "utils = utilsLastFM()\n",
    "print(utils.getArtistID(url))\n",
    "ifile = \"/Volumes/Piggy/Discog/artists-lastfm/89/83689536289.p\"\n",
    "\n",
    "url = \"https://www.last.fm/music/Michael+Bublé\"\n",
    "print(utils.getArtistID(url))"
   ]
  },
  {
   "cell_type": "code",
   "execution_count": null,
   "metadata": {
    "hidden": true
   },
   "outputs": [],
   "source": [
    "ifile=\"/Volumes/Piggy/Discog/artists-lastfm/0/96441297300.p\""
   ]
  },
  {
   "cell_type": "code",
   "execution_count": null,
   "metadata": {
    "hidden": true
   },
   "outputs": [],
   "source": [
    "from ioUtils import saveFile, getsFile\n",
    "from artistLastFM import artistLastFM\n",
    "alm = artistLastFM()\n",
    "retval = alm.getData(ifile)\n",
    "retval.show()"
   ]
  },
  {
   "cell_type": "code",
   "execution_count": null,
   "metadata": {
    "hidden": true
   },
   "outputs": [],
   "source": []
  },
  {
   "cell_type": "code",
   "execution_count": null,
   "metadata": {
    "hidden": true
   },
   "outputs": [],
   "source": []
  },
  {
   "cell_type": "code",
   "execution_count": null,
   "metadata": {
    "hidden": true
   },
   "outputs": [],
   "source": [
    "from dbArtistsDiscogs import dbArtistsDiscogs\n",
    "for modVal in range(1):\n",
    "    dbAP = dbArtistsPrimary(dbArtistsDiscogs())\n",
    "    dbAP.parse(modVal, previousDays=1000)"
   ]
  },
  {
   "cell_type": "code",
   "execution_count": null,
   "metadata": {
    "hidden": true
   },
   "outputs": [],
   "source": [
    "dbAP.parse(modVal, previousDays=1000)"
   ]
  },
  {
   "cell_type": "markdown",
   "metadata": {
    "heading_collapsed": true
   },
   "source": [
    "# RockCorner"
   ]
  },
  {
   "cell_type": "code",
   "execution_count": null,
   "metadata": {
    "hidden": true
   },
   "outputs": [],
   "source": [
    "from dbArtistsRockCorner import dbArtistsRockCorner\n",
    "from dbArtistsParse import dbArtistsPrimary\n",
    "dbAP = dbArtistsPrimary(dbArtistsRockCorner())\n",
    "dbAP.parse(69, previousDays=50)"
   ]
  },
  {
   "cell_type": "code",
   "execution_count": null,
   "metadata": {
    "hidden": true
   },
   "outputs": [],
   "source": [
    "from dbArtistsRockCorner import dbArtistsRockCorner\n",
    "from dbArtistsParse import dbArtistsPrimary\n",
    "dbAP = dbArtistsPrimary(dbArtistsRockCorner())"
   ]
  },
  {
   "cell_type": "code",
   "execution_count": null,
   "metadata": {
    "hidden": true
   },
   "outputs": [],
   "source": [
    "from dbArtistsAllMusic import dbArtistsAllMusic\n",
    "dbAP = dbArtistsCredit(dbArtistsAllMusic())\n",
    "dbAP.parse(69, previousDays=50)"
   ]
  },
  {
   "cell_type": "code",
   "execution_count": null,
   "metadata": {
    "hidden": true
   },
   "outputs": [],
   "source": [
    "from dbArtistsAllMusic import dbArtistsAllMusic\n",
    "dbAP = dbArtistsExtra(dbArtistsAllMusic())\n",
    "dbAP.getArtistFiles(69, force=True)"
   ]
  },
  {
   "cell_type": "code",
   "execution_count": null,
   "metadata": {
    "hidden": true
   },
   "outputs": [],
   "source": [
    "\n",
    "        saveIt = 0\n",
    "        for j,ifile in enumerate(newFiles):\n",
    "            if force is True:\n",
    "                if j % 100 == 0:\n",
    "                    print(\"\\tProcessed {0}/{1} files.\".format(j,len(newFiles)))\n",
    "            artistID = getBaseFilename(ifile)\n",
    "            isKnown  = dbdata.get(artistID)\n",
    "            info   = artistInfo.getData(ifile)\n",
    "\n",
    "            if info.ID.ID != artistID:\n",
    "                print(\"File: {0}\".format(ifile))\n",
    "                print(info.show())\n",
    "                1/0\n",
    "\n",
    "                # Check Profile\n",
    "                try:\n",
    "                    artistName = info.profile.search\n",
    "                    if artistName is not None:\n",
    "                        self.creditToDownload[artistID] = [artistName,self.getArtistSavename(artistID, credit=True)]\n",
    "                except:\n",
    "                    pass\n",
    "\n",
    "                if debug is False:\n",
    "                    continue\n",
    "                print(\"ID From Name: {0}\".format(artistID))\n",
    "                print(\"ID From File: {0}\".format(info.ID.ID))\n",
    "\n",
    "                print(\"File: {0}\".format(ifile))\n",
    "                print(\"Info: {0}\".format(info.url.get()))\n",
    "                continue\n",
    "                #1/0\n",
    "\n",
    "            saveIt += 1\n",
    "            dbdata[artistID] = info\n",
    "\n",
    "               \n",
    "        forceSave = False\n",
    "        if saveIt > 0 and doExtra is True:\n",
    "            print(\"\\tCalling Extra Parsing\")\n",
    "            dbdata = self.parseArtistModValExtraFiles(modVal, dbdata=dbdata, force=force, debug=debug)\n",
    "            forceSave = True\n",
    "            saveIt = len(dbdata)\n",
    "            \n",
    "         \n",
    "        if len(self.creditToDownload) > 0:\n",
    "            print(\"Found {0} artists that need new downloads.\".format(len(self.creditToDownload)))\n",
    "        \n",
    "\n",
    "        if saveIt > 0 or forceSave is True:\n",
    "            savename = setFile(artistDBDir, \"{0}-DB.p\".format(modVal))     \n",
    "            print(\"Saving {0} new artist IDs to {1}\".format(saveIt, savename))\n",
    "            dbNumAlbums = sum([self.getArtistNumAlbums(artistData) for artistData in dbdata.values()])\n",
    "            print(\"Saving {0} total artist media\".format(dbNumAlbums))\n",
    "            saveFile(idata=dbdata, ifile=savename)\n",
    "            \n",
    "            self.createArtistModValMetadata(modVal=modVal, db=dbdata, debug=debug)\n",
    "            self.createArtistAlbumModValMetadata(modVal=modVal, db=dbdata, debug=debug)\n",
    "            \n",
    "        return saveIt\n",
    "    \n",
    "        \n",
    "        \n",
    "        \n",
    "                for j,ifile in enumerate(newFiles):\n",
    "            if force is True:\n",
    "                if j % 100 == 0:\n",
    "                    print(\"\\tProcessed {0}/{1} files.\".format(j,len(newFiles)))\n",
    "            artistID = getBaseFilename(ifile)\n",
    "            isKnown  = dbdata.get(artistID)\n",
    "            info   = artistInfo.getData(ifile)\n",
    "\n",
    "    "
   ]
  },
  {
   "cell_type": "code",
   "execution_count": null,
   "metadata": {
    "hidden": true
   },
   "outputs": [],
   "source": [
    "\n",
    "        \n",
    "        \n",
    "                    \n",
    "\n",
    "        \n",
    "def dbArtistsModValBase:\n",
    "    def __init__(self, debug=False):\n",
    "        self.debug = debug\n",
    "        \n",
    "    def findFiles(self):\n",
    "\n",
    "        \n",
    "    def \n",
    "            if info.ID.ID != artistID:\n",
    "                print(\"File: {0}\".format(ifile))\n",
    "                print(info.show())\n",
    "                1/0\n",
    "\n",
    "                # Check Profile\n",
    "                try:\n",
    "                    artistName = info.profile.search\n",
    "                    if artistName is not None:\n",
    "                        self.creditToDownload[artistID] = [artistName,self.getArtistSavename(artistID, credit=True)]\n",
    "                except:\n",
    "                    pass\n",
    "\n",
    "                if debug is False:\n",
    "                    continue\n",
    "                print(\"ID From Name: {0}\".format(artistID))\n",
    "                print(\"ID From File: {0}\".format(info.ID.ID))\n",
    "\n",
    "                print(\"File: {0}\".format(ifile))\n",
    "                print(\"Info: {0}\".format(info.url.get()))\n",
    "                continue\n",
    "                #1/0\n",
    "\n",
    "            saveIt += 1\n",
    "            dbdata[artistID] = info\n"
   ]
  },
  {
   "cell_type": "code",
   "execution_count": null,
   "metadata": {
    "hidden": true
   },
   "outputs": [],
   "source": [
    "url=\"https://kworb.net/itunes/extended.html\"\n",
    "savename=\"kworb.p\"\n",
    "data, code = downloadURL(url)\n",
    "saveFile(idata=data, ifile=savename)"
   ]
  },
  {
   "cell_type": "code",
   "execution_count": null,
   "metadata": {
    "hidden": true
   },
   "outputs": [],
   "source": [
    "bsdata = getHTML(savename)"
   ]
  },
  {
   "cell_type": "code",
   "execution_count": null,
   "metadata": {
    "hidden": true
   },
   "outputs": [],
   "source": [
    "bsdata"
   ]
  },
  {
   "cell_type": "code",
   "execution_count": null,
   "metadata": {
    "hidden": true
   },
   "outputs": [],
   "source": [
    "url=\"https://kworb.net/itunes/artist/theweeknd.html\"\n",
    "savename=\"kworb_weeknd.p\"\n",
    "data, code = downloadURL(url)\n",
    "saveFile(idata=data, ifile=savename)"
   ]
  },
  {
   "cell_type": "code",
   "execution_count": null,
   "metadata": {
    "hidden": true
   },
   "outputs": [],
   "source": [
    "bsdata = getHTML(savename)"
   ]
  },
  {
   "cell_type": "code",
   "execution_count": null,
   "metadata": {
    "hidden": true
   },
   "outputs": [],
   "source": []
  },
  {
   "cell_type": "code",
   "execution_count": null,
   "metadata": {
    "hidden": true
   },
   "outputs": [],
   "source": []
  },
  {
   "cell_type": "code",
   "execution_count": null,
   "metadata": {
    "hidden": true
   },
   "outputs": [],
   "source": []
  },
  {
   "cell_type": "code",
   "execution_count": null,
   "metadata": {
    "hidden": true
   },
   "outputs": [],
   "source": [
    "ak = artistKWorb()\n",
    "retval = ak.getData(\"kworb_weeknd.p\")\n",
    "retval.show()"
   ]
  },
  {
   "cell_type": "code",
   "execution_count": null,
   "metadata": {
    "hidden": true
   },
   "outputs": [],
   "source": [
    "dp = dbArtistsKWorb()"
   ]
  },
  {
   "cell_type": "code",
   "execution_count": null,
   "metadata": {
    "hidden": true
   },
   "outputs": [],
   "source": [
    "bsdata = getHTML(\"kworb_spotify.p\")"
   ]
  },
  {
   "cell_type": "code",
   "execution_count": null,
   "metadata": {
    "hidden": true
   },
   "outputs": [],
   "source": [
    "from artistDBBase import artistDBBase, artistDBDataClass\n",
    "from artistDBBase import artistDBNameClass, artistDBMetaClass, artistDBIDClass, artistDBURLClass, artistDBURLInfo, artistDBPageClass\n",
    "from artistDBBase import artistDBProfileClass, artistDBMediaClass, artistDBMediaAlbumClass\n",
    "from artistDBBase import artistDBMediaDataClass, artistDBMediaCountsClass\n",
    "from strUtils import fixName\n",
    "from dbUtils import utilsKWorb\n",
    "from webUtils import removeTag\n",
    "\n",
    "\n",
    "class artistKWorb(artistDBBase):\n",
    "    def __init__(self, debug=False):\n",
    "        super().__init__(debug)\n",
    "        self.dbUtils = utilsKWorb()\n",
    "        \n",
    "        \n",
    "    ##############################################################################################################################\n",
    "    ## Parse Data\n",
    "    ##############################################################################################################################\n",
    "    def getData(self, inputdata):\n",
    "        self.getDataBase(inputdata)\n",
    "        self.checkData()\n",
    "        \n",
    "        artist      = self.getName()\n",
    "        meta        = self.getMeta()\n",
    "        url         = self.getURL()\n",
    "        ID          = self.getID(artist)\n",
    "        pages       = self.getPages()\n",
    "        profile     = self.getProfile()\n",
    "        media       = self.getMedia(artist, url)\n",
    "        mediaCounts = self.getMediaCounts(media)\n",
    "        \n",
    "        err = [artist.err, meta.err, url.err, ID.err, pages.err, profile.err, mediaCounts.err, media.err]\n",
    "        \n",
    "        adc = artistDBDataClass(artist=artist, meta=meta, url=url, ID=ID, pages=pages, profile=profile, mediaCounts=mediaCounts, media=media, err=err)\n",
    "        \n",
    "        return adc\n",
    "    \n",
    "    \n",
    "\n",
    "    ##############################################################################################################################\n",
    "    ## Artist Name\n",
    "    ##############################################################################################################################\n",
    "    def getName(self):\n",
    "        #<div class=\"subcontainer\"><span class=\"pagetitle\">The Weeknd | <a href=\"/itunes/\">Back to index</a> | <a href=\"/youtube/artist/theweeknd.html\">YouTube stats</a> | 02/06 19:35 EST</span></div>\n",
    "        span = self.bsdata.find(\"span\", {\"class\": \"pagetitle\"})\n",
    "        if artistData is None:\n",
    "            anc = artistDBNameClass(err=\"NoSpan\")\n",
    "            return anc\n",
    "        \n",
    "        text = span.text.split(\" | \")\n",
    "        artistName = text[0]\n",
    "        anc = artistDBNameClass(name=artistName, err=None)\n",
    "        return anc\n",
    "    \n",
    "    \n",
    "\n",
    "    ##############################################################################################################################\n",
    "    ## Meta Information\n",
    "    ##############################################################################################################################\n",
    "    def getMeta(self):\n",
    "        metatitle = self.bsdata.find(\"meta\", {\"property\": \"og:title\"})\n",
    "        metaurl   = self.bsdata.find(\"meta\", {\"property\": \"og:url\"})\n",
    "\n",
    "        title = None\n",
    "        if metatitle is not None:\n",
    "            title = metatitle.attrs['content']\n",
    "\n",
    "        url = None\n",
    "        if metatitle is not None:\n",
    "            url = metaurl.attrs['content']\n",
    "\n",
    "        amc = artistDBMetaClass(title=title, url=url)\n",
    "        return amc\n",
    "        \n",
    "\n",
    "    ##############################################################################################################################\n",
    "    ## Artist URL\n",
    "    ##############################################################################################################################\n",
    "    def getURL(self):\n",
    "        #<div class=\"subcontainer\"><span class=\"pagetitle\">The Weeknd | <a href=\"/itunes/\">Back to index</a> | <a href=\"/youtube/artist/theweeknd.html\">YouTube stats</a> | 02/06 19:35 EST</span></div>\n",
    "        span = self.bsdata.find(\"span\", {\"class\": \"pagetitle\"})\n",
    "        if artistData is None:\n",
    "            anc = artistDBNameClass(err=\"NoSpan\")\n",
    "            return anc\n",
    "        \n",
    "        ref\n",
    "        text = span.text.split(\" | \")\n",
    "        artistName = text[0]\n",
    "        anc = artistDBNameClass(name=artistName, err=None)\n",
    "        return anc\n",
    "        \n",
    "        artistData = self.bsdata.find(\"meta\", {\"property\": \"og:url\"})\n",
    "        if artistData is None:\n",
    "            auc = artistDBURLClass(err=True)\n",
    "            return auc\n",
    "        \n",
    "        url = artistData.attrs[\"content\"]\n",
    "        if url.find(\"/artist/\") == -1:\n",
    "            url = None\n",
    "            auc = artistDBURLClass(url=url, err=\"NoArtist\")\n",
    "        else:\n",
    "            auc = artistDBURLClass(url=url)\n",
    "\n",
    "        return auc\n",
    "\n",
    "    \n",
    "\n",
    "    ##############################################################################################################################\n",
    "    ## Artist ID\n",
    "    ##############################################################################################################################\n",
    "    def getID(self, artist):\n",
    "        discID = self.dbUtils.getArtistID(artist.name)\n",
    "        discID = None\n",
    "        aic = artistDBIDClass(ID=discID)\n",
    "        return aic\n",
    "\n",
    "\n",
    "    \n",
    "    ##############################################################################################################################\n",
    "    ## Artist Pages\n",
    "    ##############################################################################################################################\n",
    "    def getPages(self):\n",
    "        apc   = artistDBPageClass(ppp=1, tot=1, redo=False, more=False)\n",
    "        return apc\n",
    "    \n",
    "    \n",
    "\n",
    "    ##############################################################################################################################\n",
    "    ## Artist Variations\n",
    "    ##############################################################################################################################\n",
    "    def getProfile(self):\n",
    "        data    = {}\n",
    "        apc = artistDBProfileClass(profile=data.get(\"Formed\"), aliases=data.get(\"Aliases\"),\n",
    "                                 members=data.get(\"Members\"), groups=data.get(\"In Groups\"),\n",
    "                                 sites=data.get(\"Sites\"), variations=data.get(\"Variations\"))\n",
    "        return apc\n",
    "\n",
    "    \n",
    "    \n",
    "    ##############################################################################################################################\n",
    "    ## Artist Media\n",
    "    ##############################################################################################################################\n",
    "    def getMediaAlbum(self, td):\n",
    "        amac = artistDBMediaAlbumClass()\n",
    "        for span in td.findAll(\"span\"):\n",
    "            attrs = span.attrs\n",
    "            if attrs.get(\"class\"):\n",
    "                if 'format' in attrs[\"class\"]:\n",
    "                    albumformat = span.text\n",
    "                    albumformat = albumformat.replace(\"(\", \"\")\n",
    "                    albumformat = albumformat.replace(\")\", \"\")\n",
    "                    amac.format = albumformat\n",
    "                    continue\n",
    "            span.replaceWith(\"\")\n",
    "\n",
    "        ref = td.find(\"a\")\n",
    "        if ref:\n",
    "            amac.url   = ref.attrs['href']\n",
    "            amac.album = ref.text\n",
    "        else:\n",
    "            amac.err = \"NoText\"\n",
    "\n",
    "        return amac\n",
    "    \n",
    "    \n",
    "    def getMedia(self, artist):\n",
    "        amc  = artistDBMediaClass()\n",
    "        \n",
    "        mediaType = \"Albums\"\n",
    "        amc.media[mediaType] = []\n",
    "\n",
    "        for table in self.bsdata.findAll(\"table\"):\n",
    "            trs = table.findAll(\"tr\")\n",
    "            for itr,tr in enumerate(trs):\n",
    "                tds = tr.findAll(\"td\")\n",
    "                for itd,td in enumerate(tds):\n",
    "                    div=td.find(\"div\", {\"class\": \"wrap\"})\n",
    "                    if div is not None:\n",
    "                        name = div.text\n",
    "                        if name.startswith(\"Album: \"):\n",
    "                            mediaType = \"Album\"\n",
    "                            title = name[7:]\n",
    "                        else:\n",
    "                            mediaType = \"Single\"\n",
    "                            title = name\n",
    "                        if media.get(mediaType) is None:\n",
    "                            media[mediaType] = []\n",
    "\n",
    "                        amdc = artistDBMediaDataClass(album=title, url=None, aclass=None, aformat=None, artist=artist, code=None, year=None)\n",
    "                        if amc.media.get(mediaType) is None:\n",
    "                            amc.media[mediaType] = []\n",
    "                        amc.media[mediaType].append(amdc)                            \n",
    "\n",
    "        return amc\n",
    "    \n",
    "    \n",
    "\n",
    "    ##############################################################################################################################\n",
    "    ## Artist Media Counts\n",
    "    ##############################################################################################################################\n",
    "    def getMediaCounts(self, media):\n",
    "        \n",
    "        amcc = artistDBMediaCountsClass()\n",
    "        \n",
    "        credittype = \"Releases\"\n",
    "        if amcc.counts.get(credittype) == None:\n",
    "            amcc.counts[credittype] = {}\n",
    "        for creditsubtype in media.media.keys():\n",
    "            amcc.counts[credittype][creditsubtype] = int(len(media.media[creditsubtype]))\n",
    "            \n",
    "        return amcc"
   ]
  },
  {
   "cell_type": "code",
   "execution_count": null,
   "metadata": {
    "hidden": true
   },
   "outputs": [],
   "source": [
    "#from artistKWorb import artistKWorb\n",
    "from dbUtils import utilsKWorb\n",
    "from dbBase import dbBase\n",
    "import urllib\n",
    "from urllib.parse import quote\n",
    "from webUtils import getHTML\n",
    "from fsUtils import isFile\n",
    "\n",
    "\n",
    "##################################################################################################################\n",
    "# Base Class\n",
    "##################################################################################################################\n",
    "class dbArtistsKWorb:\n",
    "    def __init__(self, debug=False):\n",
    "        self.db     = \"KWorb\"\n",
    "        self.disc   = dbBase(self.db.lower())\n",
    "        self.artist = artistKWorb(self.disc)\n",
    "        self.dutils = utilsKWorb(self.disc)\n",
    "        self.debug  = debug\n",
    "        \n",
    "        self.baseURL   = \"https://www.kworb.com/\"        \n",
    "        self.searchURL = \"https://www.kworb.com/search/\"\n",
    "\n",
    "        \n",
    "        \n",
    "    ##################################################################################################################\n",
    "    # Artist URL\n",
    "    ##################################################################################################################\n",
    "    def getArtistURLCredit(self, artistRef, page=1):\n",
    "        url = \"{0}/credits\".format(artistRef)\n",
    "        return url\n",
    "    \n",
    "    def getArtistURL(self, artistRef, page=1):\n",
    "        url = \"{0}/discography/all\".format(artistRef)\n",
    "        return url\n",
    "        \n",
    "        if artistRef.startswith(\"http\"):\n",
    "            return artistRef\n",
    "        else:\n",
    "            baseURL = self.baseURL\n",
    "            url     = urllib.parse.urljoin(baseURL, quote(artistRef))\n",
    "            return url\n",
    "\n",
    "        if artistRef.startswith(\"/artist/\") is False:\n",
    "            print(\"Artist Ref needs to start with /artist/\")\n",
    "            return None\n",
    "        \n",
    "        baseURL = self.baseURL\n",
    "        url     = urllib.parse.urljoin(baseURL, quote(artistRef))\n",
    "        url     = urllib.parse.urljoin(url, \"?sort=year%2Casc&limit=500\") ## Make sure we get 500 entries)\n",
    "        if isinstance(page, int) and page > 1:\n",
    "            pageURL = \"&page={0}\".format(page)\n",
    "            url = \"{0}{1}\".format(url, pageURL)\n",
    "        return url\n",
    "\n",
    "        \n",
    "    \n",
    "    ##################################################################################################################\n",
    "    #\n",
    "    # Search Functions\n",
    "    #\n",
    "    ##################################################################################################################\n",
    "    def parseSearchArtist(self, artist, data, maxArtists=99, force=False, debug=False):\n",
    "        if data is None:\n",
    "            return None\n",
    "        \n",
    "        ## Parse data\n",
    "        bsdata = getHTML(data)\n",
    "        \n",
    "        artistDB  = {}\n",
    "        \n",
    "        uls = bsdata.findAll(\"ul\", {\"class\": \"search-results\"})\n",
    "        for ul in uls:\n",
    "            lis = ul.findAll(\"li\", {\"class\": \"artist\"})\n",
    "            for li in lis:\n",
    "                divs = li.findAll(\"div\", {\"class\": \"name\"})\n",
    "                for div in divs:\n",
    "                    link     = div.find(\"a\")\n",
    "                    href     = link.attrs['href']\n",
    "                    tooltip  = link.attrs['data-tooltip']\n",
    "                    try:\n",
    "                        from json import loads\n",
    "                        tooltip = loads(tooltip)\n",
    "                        artistID = tooltip['id']\n",
    "                    except:\n",
    "                        artistID = None\n",
    "            \n",
    "                    if artistDB.get(href) is None:\n",
    "                        artistDB[href] = {\"N\": 0, \"Name\": artist}\n",
    "                    artistDB[href][\"N\"] += 1\n",
    "        \n",
    "    \n",
    "        if self.debug:\n",
    "            print(\"Found {0} artists\".format(len(artistDB)))\n",
    "                \n",
    "        iArtist = 0\n",
    "        for href, hrefData in artistDB.items():\n",
    "            iArtist += 1\n",
    "            if iArtist > maxArtists:\n",
    "                break\n",
    "        \n",
    "            discID   = self.dutils.getArtistID(href)\n",
    "            url      = self.getArtistURL(href)\n",
    "            savename = self.dutils.getArtistSavename(discID)\n",
    "\n",
    "            print(iArtist,'/',len(artistDB),'\\t:',discID,'\\t',url)\n",
    "            \n",
    "            if isFile(savename):\n",
    "                if force is False:\n",
    "                    continue\n",
    "\n",
    "            self.dutils.downloadArtistURL(url, savename, force=force)\n",
    "            \n",
    "    \n",
    "    def getSearchArtistURL(self, artist):\n",
    "        baseURL = self.searchURL\n",
    "        url = urllib.parse.urljoin(baseURL, \"{0}{1}\".format(\"artists/\", quote(artist)))                  \n",
    "        return url\n",
    "    \n",
    "        \n",
    "    def searchForArtist(self, artist, maxArtists=99, force=False, debug=False):\n",
    "        print(\"\\n\\n===================== Searching For {0} =====================\".format(artist))\n",
    "        url = self.getSearchArtistURL(artist)\n",
    "        if url is None:\n",
    "            raise ValueError(\"URL is None!\")\n",
    "                    \n",
    "        ## Download data\n",
    "        data, response = self.dutils.downloadURL(url)\n",
    "        if response != 200:\n",
    "            print(\"Error downloading {0}\".format(url))\n",
    "            return False\n",
    "\n",
    "        self.parseSearchArtist(artist, data, maxArtists, force, debug)\n",
    "    \n",
    "        \n",
    "        \n",
    "    ##################################################################################################################\n",
    "    #\n",
    "    # Search Functions (w/ Credit)\n",
    "    #\n",
    "    ##################################################################################################################\n",
    "    def searchForArtistCredit(self, artist, artistID, force=False):\n",
    "        print(\"\\n\\n===================== Searching For {0} , {1} =====================\".format(artist, artistID))\n",
    "        url = self.getSearchArtistURL(artist)\n",
    "        if url is None:\n",
    "            raise ValueError(\"URL is None!\")\n",
    "                    \n",
    "        ## Download data\n",
    "        data, response = self.dutils.downloadURL(url)\n",
    "        if response != 200:\n",
    "            print(\"Error downloading {0}\".format(url))\n",
    "            return False\n",
    "    \n",
    "        self.parseSearchArtistCredit(artist, artistID, data, force)\n",
    "        \n",
    "      \n",
    "    def parseSearchArtistCredit(self, artist, artistID, data, force=False):\n",
    "        if data is None:\n",
    "            return None\n",
    "        \n",
    "        ## Parse data\n",
    "        bsdata = getHTML(data)\n",
    "        \n",
    "        artistDB  = {}\n",
    "        \n",
    "        uls = bsdata.findAll(\"ul\", {\"class\": \"search-results\"})\n",
    "        for ul in uls:\n",
    "            lis = ul.findAll(\"li\", {\"class\": \"artist\"})\n",
    "            for li in lis:\n",
    "                divs = li.findAll(\"div\", {\"class\": \"name\"})\n",
    "                for div in divs:\n",
    "                    link     = div.find(\"a\")\n",
    "                    href     = link.attrs['href']\n",
    "                    tooltip  = link.attrs['data-tooltip']\n",
    "                    try:\n",
    "                        from json import loads\n",
    "                        tooltip = loads(tooltip)\n",
    "                        linkartistID = tooltip['id']\n",
    "                    except:\n",
    "                        linkartistID = None\n",
    "            \n",
    "                    if artistDB.get(href) is None:\n",
    "                        artistDB[href] = {\"N\": 0, \"Name\": artist}\n",
    "                    artistDB[href][\"N\"] += 1\n",
    "        \n",
    "    \n",
    "        if self.debug:\n",
    "            print(\"Found {0} artists\".format(len(artistDB)))\n",
    "                \n",
    "        iArtist = 0\n",
    "        for href, hrefData in artistDB.items():\n",
    "            iArtist += 1\n",
    "        \n",
    "            discID   = self.dutils.getArtistID(href)\n",
    "            if discID != artistID:\n",
    "                continue\n",
    "            url      = self.getArtistURLCredit(href)\n",
    "            savename = self.dutils.getArtistSavename(discID, credit=True)\n",
    "\n",
    "            print(iArtist,'/',len(artistDB),'\\t:',discID,'\\t',url)\n",
    "            \n",
    "            if isFile(savename):\n",
    "                if force is False:\n",
    "                    continue\n",
    "\n",
    "            self.dutils.downloadArtistURL(url, savename, force=force)"
   ]
  },
  {
   "cell_type": "code",
   "execution_count": null,
   "metadata": {
    "hidden": true
   },
   "outputs": [],
   "source": [
    "for table in bsdata.findAll(\"table\"):\n",
    "    for tr in table.findAll(\"tr\"):\n",
    "        ref = tr.find(\"a\")\n",
    "        if ref:\n",
    "            url  = ref.attrs['href']\n",
    "            name = ref.text\n",
    "        print(tr)\n",
    "        for td in tr.findAll(\"td\"):\n",
    "            print(td)\n",
    "            1/0"
   ]
  },
  {
   "cell_type": "code",
   "execution_count": null,
   "metadata": {
    "hidden": true
   },
   "outputs": [],
   "source": []
  },
  {
   "cell_type": "code",
   "execution_count": null,
   "metadata": {
    "hidden": true
   },
   "outputs": [],
   "source": [
    "dbArtists = dbArtistsAllMusic()\n",
    "        dbdata[dbArtists.db] = [dbArtists.disc, dbArtists, dbArtists.artist, dbArtists.dutils]\n"
   ]
  },
  {
   "cell_type": "code",
   "execution_count": null,
   "metadata": {
    "hidden": true
   },
   "outputs": [],
   "source": [
    "from fsUtils import setDir, isDir, mkDir, mkSubDir, setFile, isFile, setSubFile\n",
    "from ioUtils import saveFile, getFile\n",
    "from fileUtils import getBaseFilename\n",
    "from searchUtils import findExt\n",
    "import urllib\n",
    "from datetime import datetime, timedelta\n",
    "\n",
    "\n",
    "\n",
    "\n",
    "class dbArtistsBase():\n",
    "    def __init__(self, db, disc, artist, dutils, basedir=None, debug=False):\n",
    "            \n",
    "        #######################\n",
    "        ## General Imports\n",
    "        #######################\n",
    "        self.db     = db\n",
    "        self.disc   = disc\n",
    "        self.name   = \"artists\"\n",
    "        self.artist = artist\n",
    "        self.dutils = dutils\n",
    "        self.sleeptime=2\n",
    "        self.debug  = debug\n",
    "        \n",
    "        self.getArtistsDir       = self.disc.getArtistsDir\n",
    "        self.getArtistsDBDir     = self.disc.getArtistsDBDir\n",
    "        self.getDiscogDBDir      = self.disc.getDiscogDBDir\n",
    "        \n",
    "        self.prevSearches        = {}\n",
    "        \n",
    "        self.modVal = self.disc.getMaxModVal\n",
    "        \n",
    "        self.creditToDownload = {}\n",
    "        \n",
    "        self.artistIDtoRefData = None\n",
    "            \n",
    "    \n",
    "    ###############################################################################\n",
    "    # Artist Data\n",
    "    ###############################################################################\n",
    "    def getData(self, ifile):\n",
    "        info = self.artist.getData(ifile)\n",
    "        return info\n",
    "    \n",
    "    def getFileData(self, artistID):\n",
    "        ifile = self.getArtistSavename(artistID, 1)\n",
    "        info  = self.getData(ifile)\n",
    "        return info\n",
    "    \n",
    "    \n",
    "    ###############################################################################\n",
    "    # ModVals\n",
    "    ###############################################################################\n",
    "    def getModVals(self):\n",
    "        return self.disc.getModValList()\n",
    "        #return [str(x) for x in range(self.disc.getMaxModVal)]\n",
    "    \n",
    "    def getModValDirs(self):\n",
    "        modVals = self.getModVals()\n",
    "        retval  = [setDir(self.getArtistsDir(), str(modVal)) for modVal in modVals]\n",
    "        return retval\n",
    "    \n",
    "    \n",
    "    ###############################################################################\n",
    "    # Download Information\n",
    "    ###############################################################################\n",
    "    def getArtistURL(self, artistRef, page=1, credit=False, unofficial=False):\n",
    "        raise ValueError(\"Override getArtistURL\")\n",
    "    \n",
    "    def getArtistSavename(self, discID, page=1, credit=False, unofficial=False):\n",
    "        artistDir = self.disc.getArtistsDir()\n",
    "        modValue  = self.dutils.getDiscIDHashMod(discID=discID, modval=self.disc.getMaxModVal())\n",
    "        if modValue is not None:\n",
    "            outdir    = mkSubDir(artistDir, str(modValue))\n",
    "            if isinstance(page, int) and page > 1:\n",
    "                outdir = mkSubDir(outdir, \"extra\")\n",
    "                savename  = setFile(outdir, discID+\"-{0}.p\".format(page))\n",
    "            elif credit is True:\n",
    "                outdir = mkSubDir(outdir, \"credit\")\n",
    "                savename  = setFile(outdir, discID+\".p\")\n",
    "            elif unofficial is True:\n",
    "                outdir = mkSubDir(outdir, \"unofficial\")\n",
    "                savename  = setFile(outdir, discID+\".p\")\n",
    "            else:\n",
    "                savename  = setFile(outdir, discID+\".p\")\n",
    "                \n",
    "            return savename\n",
    "        return None\n",
    "    \n",
    "    \n",
    "    def downloadURL(self, url):\n",
    "        user_agent = 'Mozilla/5.0 (Windows; U; Windows NT 5.1; en-US; rv:1.9.0.7) Gecko/2009021910 Firefox/3.0.7'\n",
    "        headers={'User-Agent':user_agent,} \n",
    "\n",
    "        if self.debug:\n",
    "            print(\"Now Downloading {0}\".format(url))\n",
    "\n",
    "        request=urllib.request.Request(url,None,headers) #The assembled request\n",
    "        response = urllib.request.urlopen(request)\n",
    "        data = response.read() # The data u need\n",
    "        \n",
    "        return data, response.getcode()\n",
    "\n",
    "\n",
    "    def downloadArtistFromID(self, artistID, artistRef, force=False):\n",
    "        if self.debug:\n",
    "            print(\"Downloading Artist Data for ID [{0}] and Ref [{1}]\".format(artistID, artistRef))\n",
    "        url = self.getArtistURL(artistRef)\n",
    "        savename = self.getArtistSavename(artistID)\n",
    "        retval = self.downloadArtistURL(url, savename, force=force)\n",
    "        \n",
    "\n",
    "    ###############################################################################\n",
    "    # Download Functions\n",
    "    ###############################################################################\n",
    "    def downloadArtistURL(self, url, savename, force=False, sleeptime=2):\n",
    "        if isFile(savename):\n",
    "            if self.debug:\n",
    "                print(\"{0} exists.\".format(savename))\n",
    "            if force is False:\n",
    "                return False\n",
    "            else:\n",
    "                print(\"Downloading again.\")\n",
    "                  \n",
    "        ## Download data\n",
    "        data, response = self.downloadURL(url)\n",
    "        if response != 200:\n",
    "            print(\"Error downloading {0}\".format(url))\n",
    "            return False\n",
    "            \n",
    "        print(\"Saving {0} (force={1})\".format(savename, force))\n",
    "        saveFile(idata=data, ifile=savename)\n",
    "        print(\"Done. Sleeping for {0} seconds\".format(sleeptime))\n",
    "        sleep(sleeptime)\n",
    "        \n",
    "        if isFile(savename):\n",
    "            return True\n",
    "        else:\n",
    "            return False\n",
    "    \n",
    "\n",
    "    def downloadArtistCreditURL(self, artistData, debug=False, force=False):\n",
    "        artistRef = artistData.url.url\n",
    "        artistID  = artistData.ID.ID\n",
    "        print(\"Downloading credit URL for ArtistID {0}\".format(artistID))\n",
    "\n",
    "        url      = self.getArtistURL(artistRef, credtit=True)\n",
    "        savename = self.getArtistSavename(artistID, credit=True)\n",
    "        if not isFile(savename) or force is True:\n",
    "            retval = self.downloadArtistURL(url=url, savename=savename, force=force)\n",
    "            return retval\n",
    "        return False\n",
    "    \n",
    "\n",
    "    def downloadArtistUnofficialURL(self, artistData, debug=False, force=False):\n",
    "        artistRef = artistData.url.url\n",
    "        artistID  = artistData.ID.ID\n",
    "        print(\"Downloading credit URL for ArtistID {0}\".format(artistID))\n",
    "\n",
    "        url      = self.getArtistURL(artistRef, unofficial=True)\n",
    "        savename = self.getArtistSavename(artistID, unofficial=True)\n",
    "        if not isFile(savename) or force is True:\n",
    "            retval = self.downloadArtistURL(url=url, savename=savename, force=force)\n",
    "            return retval\n",
    "        return False\n",
    "            \n",
    "    \n",
    "\n",
    "    def downloadArtistExtraURL(self, artistData, debug=False, force=False):\n",
    "        newPages = 0\n",
    "        pages = artistData.pages\n",
    "        if pages.more is True:\n",
    "            npages = pages.pages\n",
    "            artistRef = artistData.url.url\n",
    "            artistID  = artistData.ID.ID\n",
    "            print(\"Downloading an additional {0} URLs for ArtistID {1}\".format(npages-1, artistID))\n",
    "\n",
    "            for p in range(2, npages+1):\n",
    "                url      = self.getArtistURL(artistRef, p)\n",
    "                savename = self.getArtistSavename(artistID, p)\n",
    "                if not isFile(savename) or force is True:\n",
    "                    self.downloadArtistURL(url=url, savename=savename, force=True, debug=True)\n",
    "                    newPages += 1\n",
    "                    \n",
    "        return newPages\n",
    "\n",
    "            \n",
    "    ################################################################################\n",
    "    # Search For Artist\n",
    "    ################################################################################\n",
    "    def searchForArtist(self, artist):\n",
    "        raise ValueError(\"Override searchForArtist\")\n",
    "        \n",
    "\n",
    "    ################################################################################\n",
    "    # Parse Artist Data\n",
    "    ################################################################################\n",
    "    def getArtistNumAlbums(self, artistData):\n",
    "        numAlbums = sum([len(x) for x in artistData.media.media.values()])\n",
    "        return numAlbums\n",
    "    \n",
    "    \n",
    "    def parseArtistFile(ifile):\n",
    "        bsdata     = getHTML(get(ifile))\n",
    "        artistData = self.parse(bsdata) \n",
    "        return artistData\n",
    "    \n",
    "    \n",
    "    \n",
    "    def parseArtistModValCreditFiles(self, modVal, dbdata=None, debug=False, force=False):\n",
    "        print(\"\\t\",\"=\"*100)\n",
    "        print(\"\\t\",\"Parsing Artist Credit Files For ModVal {0}\".format(modVal))\n",
    "        artistInfo = self.artist\n",
    "\n",
    "        artistDir = self.disc.getArtistsDir()\n",
    "        maxModVal = self.disc.getMaxModVal()\n",
    "                    \n",
    "        artistDBDir = self.disc.getArtistsDBDir()        \n",
    "        \n",
    "        dirVal = setDir(artistDir, str(modVal))\n",
    "        dirVal = setDir(dirVal, \"credit\")\n",
    "        files  = findExt(dirVal, ext='.p')\n",
    "        \n",
    "        if len(files) == 0:\n",
    "            return dbdata\n",
    "        print(\"\\t\",\"  Found {0} credit files for ModVal {1}\".format(len(files), modVal))\n",
    "\n",
    "        dbname = setFile(artistDBDir, \"{0}-DB.p\".format(modVal))\n",
    "        retdbdata = False\n",
    "\n",
    "        if dbdata is None:\n",
    "            print(\"\\t\",\"  Loaded \", end=\"\")\n",
    "            dbdata = getFile(dbname, version=3)\n",
    "            print(\"\\t\",\"{0} artist IDs.\".format(len(dbdata)))\n",
    "        else:\n",
    "            retdbdata = True\n",
    "\n",
    "        saveIt = 0\n",
    "        \n",
    "        nArtistMedia = {}\n",
    "        print(\"\\t\",\"{0} artist IDs.\".format(len(dbdata)))\n",
    "        \n",
    "        for j,ifile in enumerate(files):\n",
    "            if force is True:\n",
    "                if j % 500 == 0:\n",
    "                    print(\"\\t\",\"\\tProcessed {0}/{1} files.\".format(j,len(files)))\n",
    "            if debug:\n",
    "                print(\"\\t\",\"{0}/{1} -- {2}.\".format(j,len(files),ifile))\n",
    "            \n",
    "            info     = artistInfo.getData(ifile)\n",
    "            artistID = info.ID.ID\n",
    "            \n",
    "            #currentMedia = sum([len(x) for x in dbdata[artistID].media.media.values()])\n",
    "            #print(artistID,'\\t',sum([len(x) for x in dbdata[artistID].media.media.values()]),end=\"\\t\")\n",
    "\n",
    "            currentKeys = []\n",
    "            if dbdata.get(artistID) is not None:\n",
    "                currentKeys = list(dbdata[artistID].media.media.keys())\n",
    "            else:\n",
    "                dbdata[artistID] = info\n",
    "                saveIt += 1\n",
    "                continue\n",
    "            \n",
    "            keys = list(set(list(info.media.media.keys()) + currentKeys))\n",
    "            for k in keys:\n",
    "                v = info.media.media.get(k)\n",
    "                if v is None:\n",
    "                    continue\n",
    "                iVal  = {v2.code: v2 for v2 in v}\n",
    "                dVal  = dbdata[artistID].media.media.get(k)\n",
    "                if dVal is None:\n",
    "                    Tretval = iVal\n",
    "                    saveIt += len(iVal)\n",
    "                else:\n",
    "                    Tretval = {v2.code: v2 for v2 in dVal}\n",
    "                    Tretval.update(iVal)\n",
    "                    saveIt += len(iVal)\n",
    "                dbdata[artistID].media.media[k] = list(Tretval.values())\n",
    "                \n",
    "            if debug:\n",
    "                print(\"\\t\",\"File:\",j,\" \\tArtist:\",artistID,'-->',currentMedia,'to',sum([len(x) for x in dbdata[artistID].media.media.values()]))\n",
    "\n",
    "                \n",
    "        if retdbdata is True:\n",
    "            return dbdata\n",
    "        #if saveAll is False:\n",
    "        #    return saveIt\n",
    "                \n",
    "                \n",
    "        if saveIt > 0:\n",
    "            savename = setFile(artistDBDir, \"{0}-DB.p\".format(modVal))\n",
    "            print(\"\\t\",\"Saving {0} artists to {1}\".format(len(dbdata), savename))\n",
    "            print(\"\\t\",\"Saving {0} new (credit) artist media to {1}\".format(saveIt, savename))\n",
    "            dbNumAlbums = sum([self.getArtistNumAlbums(artistData) for artistData in dbdata.values()])\n",
    "            print(\"\\t\",\"Saving {0} total (credit) artist media\".format(dbNumAlbums))\n",
    "            saveFile(idata=dbdata, ifile=savename)\n",
    "            \n",
    "            self.createArtistModValMetadata(modVal=modVal, db=dbdata, debug=debug)\n",
    "            self.createArtistAlbumModValMetadata(modVal=modVal, db=dbdata, debug=debug)\n",
    "            \n",
    "        return saveIt\n",
    "\n",
    "    \n",
    "    \n",
    "    ###########################################################################################################################\n",
    "    ##\n",
    "    ## Extra ModVal Files\n",
    "    ##\n",
    "    ###########################################################################################################################\n",
    "    def getArtistModValExtraFiles(self, modVal, previousDays=5, force=False):\n",
    "        artistDir = self.disc.getArtistsDir()\n",
    "        maxModVal = self.disc.getMaxModVal()\n",
    "                    \n",
    "        artistDBDir = self.disc.getArtistsDBDir()        \n",
    "        \n",
    "        dirVal = setDir(artistDir, str(modVal))\n",
    "        dirVal = setDir(dirVal, \"extra\")\n",
    "        files  = findExt(dirVal, ext='.p')\n",
    "        dbname = setFile(artistDBDir, \"{0}-DB.p\".format(modVal))\n",
    "        \n",
    "        now    = datetime.now()\n",
    "        newFiles = None\n",
    "        if lastModified is None:\n",
    "            newFiles = files\n",
    "            print(\"  ===> Parsing all {0} extra files for modval {1}\".format(len(newFiles), modVal))\n",
    "        else:\n",
    "            numFiles = [ifile for ifile in files if (now-datetime.fromtimestamp(path.getmtime(ifile))).days < previousDays]\n",
    "            print(\"  ===> Found new {0} extra files (< {1} days) to parse for modval {2}\".format(len(newFiles), previousDays, modVal))\n",
    "        return newFiles\n",
    "    \n",
    "    \n",
    "    \n",
    "    def parseArtistModValExtraFiles(self, modVal, dbdata=None, debug=False, force=False):\n",
    "        print(\"\\t\",\"=\"*100)\n",
    "        print(\"\\t\",\"Parsing Artist Extra Files For ModVal {0}\".format(modVal))\n",
    "        artistInfo = self.artist\n",
    "\n",
    "        newFiles = self.getArtistModValExtraFiles(modVal, previousDays=previousDays, force=force)\n",
    "        \n",
    "        if len(newFiles) == 0:\n",
    "            return dbdata\n",
    "        print(\"\\t\",\"  Found {0} extra files for ModVal {1}\".format(len(newFiles), modVal))\n",
    "\n",
    "        dbname = setFile(artistDBDir, \"{0}-DB.p\".format(modVal))\n",
    "        retdbdata = False\n",
    "\n",
    "        if force is False:\n",
    "            if dbdata is None:\n",
    "                print(\"\\t\",\"  Loaded \", end=\"\")\n",
    "                dbdata = getFile(dbname, version=3)\n",
    "                print(\"\\t\",\"{0} artist IDs.\".format(len(dbdata)))\n",
    "            else:\n",
    "                retdbdata = True\n",
    "        else:\n",
    "            print(\"\\t\",\"Forcing Reloads of ModVal={0}\".format(modVal))\n",
    "            print(\"\\t\",\"  Processing {0} files.\".format(len(files)))\n",
    "            dbdata = {}\n",
    "\n",
    "        saveIt = 0\n",
    "        \n",
    "        nArtistMedia = {}\n",
    "        print(\"\\t\",\"{0} artist IDs.\".format(len(dbdata)))\n",
    "\n",
    "        \n",
    "        \n",
    "        for j,ifile in enumerate(newFiles):\n",
    "            if force is True:\n",
    "                if j % 50 == 0:\n",
    "                    print(\"\\t\",\"\\tProcessed {0}/{1} files.\".format(j,len(newFiles)))\n",
    "            if debug:\n",
    "                print(\"\\t\",\"{0}/{1} -- {2}.\".format(j,len(newFiles),ifile))\n",
    "            \n",
    "            info     = artistInfo.getData(ifile)\n",
    "            artistID = info.ID.ID\n",
    "            \n",
    "            currentMedia = sum([len(x) for x in dbdata[artistID].media.media.values()])\n",
    "            #print(artistID,'\\t',sum([len(x) for x in dbdata[artistID].media.media.values()]),end=\"\\t\")\n",
    "\n",
    "            keys = list(set(list(info.media.media.keys()) + list(dbdata[artistID].media.media.keys())))\n",
    "            for k in keys:\n",
    "                v = info.media.media.get(k)\n",
    "                if v is None:\n",
    "                    continue\n",
    "                iVal  = {v2.code: v2 for v2 in v}\n",
    "                dVal  = dbdata[artistID].media.media.get(k)\n",
    "                if dVal is None:\n",
    "                    Tretval = iVal\n",
    "                    saveIt += len(iVal)\n",
    "                else:\n",
    "                    Tretval = {v2.code: v2 for v2 in dVal}\n",
    "                    Tretval.update(iVal)\n",
    "                    saveIt += len(iVal)\n",
    "                dbdata[artistID].media.media[k] = list(Tretval.values())\n",
    "                \n",
    "            if debug:\n",
    "                print(\"\\t\",\"File:\",j,\" \\tArtist:\",artistID,'-->',currentMedia,'to',sum([len(x) for x in dbdata[artistID].media.media.values()]))\n",
    "\n",
    "                \n",
    "        if retdbdata is True:\n",
    "            return dbdata\n",
    "        #if saveAll is False:\n",
    "        #    return saveIt\n",
    "                \n",
    "                \n",
    "        if saveIt > 0:\n",
    "            savename = setFile(artistDBDir, \"{0}-DB.p\".format(modVal))     \n",
    "            print(\"\\t\",\"Saving {0} new (extra) artist media to {1}\".format(saveIt, savename))\n",
    "            dbNumAlbums = sum([self.getArtistNumAlbums(artistData) for artistData in dbdata.values()])\n",
    "            print(\"\\t\",\"Saving {0} total (extra) artist media\".format(dbNumAlbums))\n",
    "            saveFile(idata=dbdata, ifile=savename)\n",
    "            \n",
    "            self.createArtistModValMetadata(modVal=modVal, db=dbdata, debug=debug)\n",
    "            self.createArtistAlbumModValMetadata(modVal=modVal, db=dbdata, debug=debug)\n",
    "            \n",
    "        return saveIt\n",
    "\n",
    "    \n",
    "    \n",
    "    ###########################################################################################################################\n",
    "    ##\n",
    "    ## Regular ModVal Files\n",
    "    ##\n",
    "    ###########################################################################################################################\n",
    "    def getArtistModValFiles(self, modVal, previousDays=5, force=False):\n",
    "        artistDir = self.disc.getArtistsDir()\n",
    "        maxModVal = self.disc.getMaxModVal()\n",
    "                    \n",
    "        artistDBDir = self.disc.getArtistsDBDir()        \n",
    "        \n",
    "        dirVal = setDir(artistDir, str(modVal))\n",
    "        files  = findExt(dirVal, ext='.p')\n",
    "        dbname = setFile(artistDBDir, \"{0}-DB.p\".format(modVal))\n",
    "        \n",
    "        now    = datetime.now()\n",
    "        if isFile(dbname):\n",
    "            lastModified = datetime.fromtimestamp(path.getmtime(dbname))\n",
    "            if force is True:\n",
    "                lastModified = None\n",
    "        else:\n",
    "            lastModified = None\n",
    "\n",
    "        newFiles = None\n",
    "        if lastModified is None:\n",
    "            newFiles = files\n",
    "            print(\"  ===> Parsing all {0} files for modval {1}\".format(len(newFiles), modVal))\n",
    "        else:\n",
    "            numNew    = [ifile for ifile in files if (now-datetime.fromtimestamp(path.getmtime(ifile))).days < previousDays]\n",
    "            numRecent = [ifile for ifile in files if datetime.fromtimestamp(path.getmtime(ifile)) > lastModified]\n",
    "            newFiles  = list(set(numNew).union(set(numRecent)))\n",
    "            print(\"  ===> Found new {0} files (< {1} days) to parse for modval {2}\".format(len(newFiles), previousDays, modVal))\n",
    "        return newFiles\n",
    "            \n",
    "    \n",
    "    def parseArtistModValFiles(self, modVal, previousDays=5, force=False, debug=False, doExtra=False):        \n",
    "        print(\"-\"*100)\n",
    "        print(\"Parsing Artist Files For ModVal {0}\".format(modVal))\n",
    "        artistInfo = self.artist\n",
    "\n",
    "        artistDir = self.disc.getArtistsDir()\n",
    "        maxModVal = self.disc.getMaxModVal()\n",
    "                    \n",
    "        artistDBDir = self.disc.getArtistsDBDir()        \n",
    "        \n",
    "        dirVal = setDir(artistDir, str(modVal))\n",
    "        dbname = setFile(artistDBDir, \"{0}-DB.p\".format(modVal))\n",
    "\n",
    "        \n",
    "        newFiles = self.getArtistModValFiles(modVal, previousDays=previousDays, force=force)\n",
    "        if force is False:\n",
    "            dbdata = getFile(dbname, version=3)\n",
    "        else:\n",
    "            print(\"Forcing Reloads of ModVal={0}\".format(modVal))\n",
    "            print(\"  Processing {0} files.\".format(len(newFiles)))\n",
    "            dbdata = {}\n",
    " \n",
    "        saveIt = 0\n",
    "        for j,ifile in enumerate(newFiles):\n",
    "            if force is True:\n",
    "                if j % 100 == 0:\n",
    "                    print(\"\\tProcessed {0}/{1} files.\".format(j,len(newFiles)))\n",
    "            artistID = getBaseFilename(ifile)\n",
    "            isKnown  = dbdata.get(artistID)\n",
    "            info   = artistInfo.getData(ifile)\n",
    "\n",
    "            if info.ID.ID != artistID:\n",
    "                print(\"File: {0}\".format(ifile))\n",
    "                print(info.show())\n",
    "                1/0\n",
    "\n",
    "                # Check Profile\n",
    "                try:\n",
    "                    artistName = info.profile.search\n",
    "                    if artistName is not None:\n",
    "                        self.creditToDownload[artistID] = [artistName,self.getArtistSavename(artistID, credit=True)]\n",
    "                except:\n",
    "                    pass\n",
    "\n",
    "                if debug is False:\n",
    "                    continue\n",
    "                print(\"ID From Name: {0}\".format(artistID))\n",
    "                print(\"ID From File: {0}\".format(info.ID.ID))\n",
    "\n",
    "                print(\"File: {0}\".format(ifile))\n",
    "                print(\"Info: {0}\".format(info.url.get()))\n",
    "                continue\n",
    "                #1/0\n",
    "\n",
    "            saveIt += 1\n",
    "            dbdata[artistID] = info\n",
    "\n",
    "               \n",
    "        forceSave = False\n",
    "        if saveIt > 0 and doExtra is True:\n",
    "            print(\"\\tCalling Extra Parsing\")\n",
    "            dbdata = self.parseArtistModValExtraFiles(modVal, dbdata=dbdata, force=force, debug=debug)\n",
    "            forceSave = True\n",
    "            saveIt = len(dbdata)\n",
    "            \n",
    "         \n",
    "        if len(self.creditToDownload) > 0:\n",
    "            print(\"Found {0} artists that need new downloads.\".format(len(self.creditToDownload)))\n",
    "        \n",
    "\n",
    "        if saveIt > 0 or forceSave is True:\n",
    "            savename = setFile(artistDBDir, \"{0}-DB.p\".format(modVal))     \n",
    "            print(\"Saving {0} new artist IDs to {1}\".format(saveIt, savename))\n",
    "            dbNumAlbums = sum([self.getArtistNumAlbums(artistData) for artistData in dbdata.values()])\n",
    "            print(\"Saving {0} total artist media\".format(dbNumAlbums))\n",
    "            saveFile(idata=dbdata, ifile=savename)\n",
    "            \n",
    "            self.createArtistModValMetadata(modVal=modVal, db=dbdata, debug=debug)\n",
    "            self.createArtistAlbumModValMetadata(modVal=modVal, db=dbdata, debug=debug)\n",
    "            \n",
    "        return saveIt\n",
    "    \n",
    "\n",
    "    def parseArtistFiles(self, force=False, debug=False):           \n",
    "        totalSaves = 0\n",
    "        maxModVal  = self.disc.getMaxModVal()\n",
    "        for modVal in range(maxModVal):\n",
    "            saveIt = self.parseArtistModValFiles(modVal, force=force, debug=debug)\n",
    "            totalSaves += saveIt\n",
    "            \n",
    "        print(\"Saved {0} new artist IDs\".format(totalSaves)) \n",
    "\n",
    "    def parseArtistMetadataFiles(self, debug=False):   \n",
    "        artistDBDir = self.disc.getArtistsDBDir()   \n",
    "        maxModVal   = self.disc.getMaxModVal()\n",
    "        for modVal in range(maxModVal):\n",
    "            savename = setFile(artistDBDir, \"{0}-DB.p\".format(modVal))     \n",
    "            dbdata   = getFile(savename)\n",
    "            self.createArtistModValMetadata(modVal=modVal, db=dbdata, debug=debug)\n",
    "            self.createArtistAlbumModValMetadata(modVal=modVal, db=dbdata, debug=debug)\n",
    "                 \n",
    "        \n",
    "        \n",
    "    \n",
    "    ################################################################################\n",
    "    # Check ArtistDB Files\n",
    "    ################################################################################ \n",
    "    def rmIDFiles(self, artistID):\n",
    "        print(\"Removing files artistID {0}\".format(artistID))\n",
    "        savename = self.getArtistSavename(artistID)\n",
    "        if isFile(savename):\n",
    "            files = [savename]\n",
    "        else:\n",
    "            files = []\n",
    "        from glob import glob\n",
    "        from os.path import join\n",
    "        from fileUtils import getDirname\n",
    "        files += glob(join(getDirname(savename), \"extra\", \"{0}-*.p\".format(artistID)))\n",
    "        print(\"Found {0} files to delete.\".format(len(files)))\n",
    "        from fsUtils import removeFile\n",
    "        for ifile in files:\n",
    "            removeFile(ifile)\n",
    "            print(\"Removed File {0}\".format(ifile))\n",
    "\n",
    "                \n",
    "    def rmIDsFromDBs(self, artistIDs, modValue=None):\n",
    "        modvals = {}\n",
    "        for artistID in artistIDs:\n",
    "            modValue  = self.dutils.getDiscIDHashMod(discID=artistID, modval=self.disc.getMaxModVal())\n",
    "            if modvals.get(modValue) is None:\n",
    "                modvals[modValue] = []\n",
    "            modvals[modValue].append(artistID)\n",
    "            \n",
    "        for modval in modvals.keys():\n",
    "            dbdata = self.disc.getArtistsDBModValData(modval)\n",
    "            for artistID in modvals[modval]:\n",
    "                try:\n",
    "                    del dbdata[artistID]\n",
    "                    print(\"  Removed ArtistID {0}\".format(artistID))\n",
    "                except:\n",
    "                    print(\"  Could not remove ArtistID {0}\".format(artistID))\n",
    "                    \n",
    "            self.disc.saveArtistsDBModValData(modval, dbdata)\n",
    "                \n",
    "\n",
    "\n",
    "    def rmIDFromDB(self, artistID, modValue=None):\n",
    "        print(\"Trying to remove data from ArtistID {0}\".format(artistID))\n",
    "        if modValue is None:\n",
    "            modValue  = self.dutils.getDiscIDHashMod(discID=artistID, modval=self.disc.getMaxModVal())\n",
    "        artistDBDir = self.disc.getArtistsDBDir()\n",
    "        dbname  = setFile(artistDBDir, \"{0}-DB.p\".format(modValue))     \n",
    "        print(\"Loading {0}\".format(dbname))\n",
    "        dbdata  = getFile(dbname)\n",
    "        \n",
    "        saveVal = False\n",
    "\n",
    "        if isinstance(artistID, str):\n",
    "            artistID = [artistID]\n",
    "        elif not isinstance(artistID, list):\n",
    "            raise ValueError(\"Not sure what to do with {0}\".format(artistID))\n",
    "            \n",
    "        for ID in artistID:\n",
    "            try:\n",
    "                del dbdata[ID]\n",
    "                print(\"Deleted {0}\".format(ID))\n",
    "                saveVal = True\n",
    "            except:\n",
    "                print(\"Not there...\")\n",
    "\n",
    "            self.rmIDFiles(ID)\n",
    "\n",
    "        if saveVal:\n",
    "            print(\"Saving {0}\".format(dbname))\n",
    "            saveFile(idata=dbdata, ifile=dbname)\n",
    "        else:\n",
    "            print(\"No reason to save {0}\".format(dbname))\n",
    "\n",
    "\n",
    "            \n",
    "    def assertDBModValUnofficialData(self, modVal, test=False):\n",
    "        print(\"assertDBModValUnofficialData({0}, test={1})\".format(modVal, test))\n",
    "        artistDBDir = self.disc.getArtistsDBDir()\n",
    "        dbdata  = self.disc.getArtistsDBModValData(modVal)\n",
    "        nerrs   = 0\n",
    "        \n",
    "        for artistID,artistData in dbdata.items():\n",
    "            mediaCounts = artistData.mediaCounts.counts\n",
    "            if mediaCounts.get(\"Unofficial\") is not None:\n",
    "                artistRef = artistData.url.url\n",
    "                url      = self.getArtistURL(artistRef, unofficial=True)\n",
    "                savename = self.getArtistSavename(artistID, unofficial=True)\n",
    "                if test is True:\n",
    "                    print(\"Download Unofficial: {0} \\t\".format(artistID),end=\"\")\n",
    "                if not isFile(savename):\n",
    "                    if test is True:\n",
    "                        print(\"{0} --> {1}\".format(url,savename))\n",
    "                        continue\n",
    "                    self.downloadArtistURL(url=url, savename=savename, force=False)\n",
    "                    sleep(2)\n",
    "                else:\n",
    "                    print(\"Known\")\n",
    "\n",
    "\n",
    "            \n",
    "    def assertDBModValCreditData(self, modVal, test=False):\n",
    "        print(\"assertDBModValCreditData({0}, test={1})\".format(modVal, test))\n",
    "        artistDBDir = self.disc.getArtistsDBDir()\n",
    "        dbdata  = self.disc.getArtistsDBModValData(modVal)\n",
    "        nerrs   = 0\n",
    "        \n",
    "        for artistID,artistData in dbdata.items():\n",
    "            mediaCounts = artistData.mediaCounts.counts\n",
    "            if mediaCounts.get(\"Credits\") is not None:\n",
    "                artistRef = artistData.url.url\n",
    "                url      = self.getArtistURL(artistRef, credit=True)\n",
    "                savename = self.getArtistSavename(artistID, credit=True)\n",
    "                if test is True:\n",
    "                    print(\"Download Credit: {0} \\t\".format(artistID),end=\"\")\n",
    "                if not isFile(savename):\n",
    "                    if test is True:\n",
    "                        print(\"{0} --> {1}\".format(url,savename))\n",
    "                        continue\n",
    "                    self.downloadArtistURL(url=url, savename=savename, force=False)\n",
    "                    sleep(2)\n",
    "                else:\n",
    "                    print(\"Known\")\n",
    "                \n",
    "    \n",
    "    def assertDBModValExtraData(self, modVal, test=False):\n",
    "        print(\"assertDBModValExtraData({0}, test={1})\".format(modVal, test))\n",
    "        artistDBDir = self.disc.getArtistsDBDir()\n",
    "        dbdata  = self.disc.getArtistsDBModValData(modVal)\n",
    "        nerrs   = 0\n",
    "        \n",
    "        for artistID,artistData in dbdata.items():\n",
    "            pages = artistData.pages\n",
    "            if pages.more is True:\n",
    "                npages = pages.pages\n",
    "                artistRef = artistData.url.url\n",
    "                for p in range(2, npages+1):\n",
    "                    url      = self.getArtistURL(artistRef, p)\n",
    "                    savename = self.getArtistSavename(artistID, p)\n",
    "                    if test is True:\n",
    "                        print(\"Download Extra: {0} \\t\".format(artistID),end=\"\")\n",
    "                    if not isFile(savename):\n",
    "                        if test is True:\n",
    "                            print(\"{0} --> {1}\".format(url,savename))\n",
    "                            continue\n",
    "                        self.downloadArtistURL(url=url, savename=savename, force=True, debug=True)\n",
    "                        sleep(2)\n",
    "                    else:\n",
    "                        print(\"Known\")\n",
    "                        \n",
    "            \n",
    "    def assertDBModValData(self, modVal):\n",
    "        \n",
    "        artistDBDir = self.disc.getArtistsDBDir()\n",
    "        dbname  = setFile(artistDBDir, \"{0}-DB.p\".format(modVal))     \n",
    "        dbdata  = getFile(dbname)\n",
    "        nerrs = 0\n",
    "        \n",
    "        if self.artistIDtoRefData is None:\n",
    "            self.artistIDtoRefData = self.disc.getArtistIDToRefData()\n",
    "        \n",
    "        dels = []\n",
    "        for artistID,artistData in dbdata.items():\n",
    "            pages = artistData.pages\n",
    "            if pages.redo is True and False:\n",
    "                artistRef = artistData.url.url\n",
    "                url       = self.getArtistURL(artistRef, 1)\n",
    "                savename  = self.getArtistSavename(artistID, 1)\n",
    "                self.downloadArtistURL(url=url, savename=savename, force=True, debug=True)\n",
    "\n",
    "            ID = artistData.ID.ID\n",
    "            if ID != artistID:\n",
    "\n",
    "                nerrs += 1\n",
    "\n",
    "                if \"-\" in artistID:\n",
    "                    print(\"Extra file: {0}\".format(artistID))\n",
    "                    continue\n",
    "                else:\n",
    "                    dels.append(artistID)\n",
    "                    \n",
    "                    rmsavename = self.getArtistSavename(artistID)\n",
    "\n",
    "\n",
    "                    ## ID = artistID                    \n",
    "                    refRef      = self.artistIDtoRefData.get(artistID)\n",
    "                    if refRef is None:\n",
    "                        raise ValueError(\"Ref for ID [{0}] is None!\".format(artistID))\n",
    "                    else:\n",
    "                        print(\"ArtistRef:\",refRef)\n",
    "                        urlRef         = self.getArtistURL(refRef)\n",
    "                        savenameArtRef = self.getArtistSavename(artistID)\n",
    "\n",
    "\n",
    "                    ## ID = info.ID.ID\n",
    "                    try:\n",
    "                        info  = self.getFileData(artistID)\n",
    "                    except:\n",
    "                        info  = None\n",
    "\n",
    "                    if info is not None:\n",
    "                        try:\n",
    "                            refIDID      = artistIDtoRefData[info.ID.ID]\n",
    "                        except:\n",
    "                            refIDID      = info.url.url\n",
    "                        print(\"ArtistID: \",refIDID)\n",
    "                        urlIDID      = self.getArtistURL(refIDID)\n",
    "                        savenameIDID = self.getArtistSavename(info.ID.ID)\n",
    "                    else:\n",
    "                        refIDID      = None\n",
    "                        urlIDID      = None\n",
    "                        savenameIDID = None\n",
    "\n",
    "                        \n",
    "                    if isFile(rmsavename):\n",
    "                        removeFile(rmsavename)\n",
    "\n",
    "\n",
    "                    if isFile(savenameArtRef):\n",
    "                        removeFile(savenameArtRef)\n",
    "                        self.downloadArtistURL(url=urlRef, savename=savenameArtRef, force=True, debug=True)\n",
    "\n",
    "                    if savenameArtRef != savenameIDID:\n",
    "                        if isFile(savenameIDID):\n",
    "                            removeFile(savenameIDID)\n",
    "                            self.downloadArtistURL(url=urlIDID, savename=savenameIDID, force=True, debug=True)\n",
    "\n",
    "\n",
    "                    #print(rmsavename,'\\t',savenameArtID,'\\t',savenameIDID)        \n",
    "        \n",
    "        print(\"Found {0} errors with modVal {1}\".format(nerrs, modVal))\n",
    "        \n",
    "        dbname  = setFile(artistDBDir, \"{0}-DB.p\".format(modVal))\n",
    "        print(\"Found {0} artist IDs in {1}\".format(len(dbdata), dbname))\n",
    "        \n",
    "        for artistID in dels:\n",
    "            print(\"Deleting {0}\".format(artistID))\n",
    "            try:\n",
    "                del dbdata[artistID]\n",
    "            except:\n",
    "                continue\n",
    "            \n",
    "        if len(dels) > 0:\n",
    "            savename = setFile(artistDBDir, \"{0}-DB.p\".format(modVal))     \n",
    "            print(\"Saving {0} artist IDs to {1}\".format(len(dbdata), savename))\n",
    "            saveFile(idata=dbdata, ifile=savename)\n",
    "        \n",
    "        \n",
    "    \n",
    "    ################################################################################\n",
    "    # Collect Metadata About Artists (4)\n",
    "    ################################################################################\n",
    "    def createArtistModValMetadata(self, modVal, db=None, debug=False):\n",
    "        if db is None:\n",
    "            db = self.disc.getArtistsDBModValData(modVal)\n",
    "    \n",
    "        artistIDMetadata = {k: [v.artist.name, v.url.url] for k,v in db.items()}\n",
    "        \n",
    "        for artistID,artistData in db.items():\n",
    "            if artistData.profile.variations is not None:\n",
    "                artistIDMetadata[artistID].append([v2.name for v2 in artistData.profile.variations])\n",
    "            else:\n",
    "                artistIDMetadata[artistID].append([artistData.artist.name])\n",
    "        \n",
    "        artistDBDir = self.disc.getArtistsDBDir()     \n",
    "        savename    = setSubFile(artistDBDir, \"metadata\", \"{0}-Metadata.p\".format(modVal))\n",
    "        \n",
    "        print(\"Saving {0} new artist IDs name data to {1}\".format(len(artistIDMetadata), savename))\n",
    "        saveFile(idata=artistIDMetadata, ifile=savename)\n",
    "        \n",
    "        \n",
    "    def createArtistAlbumModValMetadata(self, modVal, db=None, debug=False):\n",
    "        if db is None:\n",
    "            db = self.disc.getArtistsDBModValData(modVal)\n",
    "        \n",
    "        artistIDMetadata = {}\n",
    "        for artistID,artistData in db.items():\n",
    "            artistIDMetadata[artistID] = {}\n",
    "            for mediaName,mediaData in artistData.media.media.items():\n",
    "                albumURLs  = {mediaValues.code: mediaValues.url for mediaValues in mediaData}\n",
    "                albumNames = {mediaValues.code: mediaValues.album for mediaValues in mediaData}\n",
    "                artistIDMetadata[artistID][mediaName] = [albumNames, albumURLs]\n",
    "        \n",
    "        artistDBDir = self.disc.getArtistsDBDir()     \n",
    "        savename    = setSubFile(artistDBDir, \"metadata\", \"{0}-MediaMetadata.p\".format(modVal))\n",
    "        \n",
    "        print(\"Saving {0} new artist IDs media data to {1}\".format(len(artistIDMetadata), savename))\n",
    "        saveFile(idata=artistIDMetadata, ifile=savename)"
   ]
  },
  {
   "cell_type": "markdown",
   "metadata": {
    "heading_collapsed": true
   },
   "source": [
    "# MusixMatch"
   ]
  },
  {
   "cell_type": "code",
   "execution_count": null,
   "metadata": {
    "hidden": true
   },
   "outputs": [],
   "source": [
    "#from artistMusixMatch import artistMusixMatch\n",
    "from dbUtils import utilsMusixMatch\n",
    "from dbBase import dbBase\n",
    "import urllib\n",
    "from urllib.parse import quote\n",
    "from webUtils import getHTML\n",
    "from fsUtils import isFile\n",
    "\n",
    "\n",
    "##################################################################################################################\n",
    "# Base Class\n",
    "##################################################################################################################\n",
    "class dbArtistsMusixMatch:\n",
    "    def __init__(self, debug=False):\n",
    "        self.db     = \"MusixMatch\"\n",
    "        self.disc   = dbBase(self.db.lower())\n",
    "        self.artist = artistMusixMatch(self.disc)\n",
    "        self.dutils = utilsMusixMatch(self.disc)\n",
    "        self.debug  = debug\n",
    "        \n",
    "        self.baseURL   = \"https://www.musixmatch.com\"        \n",
    "        self.searchURL = \"https://www.musixmatch.com/search/\"\n",
    "\n",
    "\n",
    "        \n",
    "    ##################################################################################################################\n",
    "    # Artist URL\n",
    "    ##################################################################################################################\n",
    "    def getArtistURL(self, href, page=1):\n",
    "        if href.startswith(\"/\"):\n",
    "            url = \"{0}{1}\".format(self.baseURL, href)\n",
    "        else:\n",
    "            url = \"{0}/{1}\".format(self.baseURL, href)\n",
    "        return url\n",
    "\n",
    "        \n",
    "    \n",
    "    ##################################################################################################################\n",
    "    #\n",
    "    # Search Functions\n",
    "    #\n",
    "    ##################################################################################################################\n",
    "    def parseSearchArtist(self, artist, data, maxArtists=99, force=False, debug=False):\n",
    "        if data is None:\n",
    "            return None\n",
    "        \n",
    "        ## Parse data\n",
    "        bsdata = getHTML(data)\n",
    "        \n",
    "        artistDB  = {}\n",
    "        \n",
    "        div = bsdata.find(\"div\", {\"id\": \"search-results\"})\n",
    "        if div is not None:\n",
    "            artists = div.find(\"div\", {\"class\": \"search-results\"})\n",
    "            for ul in artists.findAll(\"ul\"):\n",
    "                for li in ul.findAll(\"li\"):\n",
    "                    h2 = li.find(\"h2\")\n",
    "                    if h2 is None:\n",
    "                        continue\n",
    "                    ref = h2.find('a')\n",
    "                    if ref is None:\n",
    "                        continue\n",
    "                    href = ref.attrs['href']\n",
    "                    name = ref.text\n",
    "                    artistID = self.dutils.getArtistID(href)\n",
    "                    print(\"{0: <100}{1: <15}{2}\".format(name,artistID,href))\n",
    "                    \n",
    "                    if artistDB.get(href) is None:\n",
    "                        artistDB[href] = {\"N\": 0, \"Name\": name}\n",
    "                    artistDB[href][\"N\"] += 1\n",
    "        \n",
    "    \n",
    "        if self.debug:\n",
    "            print(\"Found {0} artists\".format(len(artistDB)))\n",
    "                \n",
    "        iArtist = 0\n",
    "        for href, hrefData in artistDB.items():\n",
    "            iArtist += 1\n",
    "            if iArtist > maxArtists:\n",
    "                break\n",
    "        \n",
    "            discID   = self.dutils.getArtistID(href)\n",
    "            url      = self.getArtistURL(href)\n",
    "            savename = self.dutils.getArtistSavename(discID)\n",
    "\n",
    "            print(iArtist,'/',len(artistDB),'\\t:',discID,'\\t',url)\n",
    "            continue\n",
    "            \n",
    "            if isFile(savename):\n",
    "                if force is False:\n",
    "                    continue\n",
    "\n",
    "            self.dutils.downloadArtistURL(url, savename, force=force)\n",
    "            \n",
    "    \n",
    "    def getSearchArtistURL(self, artist):\n",
    "        url = urllib.parse.urljoin(self.searchURL, quote(artist))\n",
    "        url = \"{0}/albums\".format(url)\n",
    "        return url\n",
    "    \n",
    "        \n",
    "    def searchForArtist(self, artist, maxArtists=99, force=False, debug=False):\n",
    "        print(\"\\n\\n===================== Searching For {0} =====================\".format(artist))\n",
    "        url = self.getSearchArtistURL(artist)\n",
    "        if url is None:\n",
    "            raise ValueError(\"URL is None!\")\n",
    "                    \n",
    "        ## Download data\n",
    "        data, response = self.dutils.downloadURL(url)\n",
    "        if response != 200:\n",
    "            print(\"Error downloading {0}\".format(url))\n",
    "            return False\n",
    "\n",
    "        self.parseSearchArtist(artist, data, maxArtists, force, debug)"
   ]
  },
  {
   "cell_type": "code",
   "execution_count": null,
   "metadata": {
    "hidden": true
   },
   "outputs": [],
   "source": [
    "from artistDBBase import artistDBBase, artistDBDataClass\n",
    "from artistDBBase import artistDBNameClass, artistDBMetaClass, artistDBIDClass, artistDBURLClass, artistDBPageClass\n",
    "from artistDBBase import artistDBProfileClass, artistDBMediaClass, artistDBMediaAlbumClass\n",
    "from artistDBBase import artistDBMediaDataClass, artistDBMediaCountsClass\n",
    "from strUtils import fixName\n",
    "from dbUtils import utilsMusixMatch\n",
    "\n",
    "\n",
    "class artistMusixMatch(artistDBBase):\n",
    "    def __init__(self, debug=False):\n",
    "        super().__init__(debug)\n",
    "        self.dbUtils = utilsMusixMatch()\n",
    "        \n",
    "        \n",
    "    ##############################################################################################################################\n",
    "    ## Parse Data\n",
    "    ##############################################################################################################################\n",
    "    def getData(self, inputdata):\n",
    "        self.getDataBase(inputdata)\n",
    "        self.checkData()\n",
    "        \n",
    "        artist      = self.getName()\n",
    "        meta        = self.getMeta()\n",
    "        url         = self.getURL()\n",
    "        ID          = self.getID(url)\n",
    "        pages       = self.getPages()\n",
    "        profile     = self.getProfile()\n",
    "        media       = self.getMedia(artist.name)\n",
    "        mediaCounts = self.getMediaCounts(media)\n",
    "        \n",
    "        err = [artist.err, meta.err, url.err, ID.err, pages.err, profile.err, mediaCounts.err, media.err]\n",
    "        \n",
    "        adc = artistDBDataClass(artist=artist, meta=meta, url=url, ID=ID, pages=pages, profile=profile, mediaCounts=mediaCounts, media=media, err=err)\n",
    "        \n",
    "        return adc\n",
    "    \n",
    "    \n",
    "\n",
    "    ##############################################################################################################################\n",
    "    ## Artist Name\n",
    "    ##############################################################################################################################\n",
    "    def getName(self):\n",
    "        for h1 in self.bsdata.findAll(\"h1\"):\n",
    "            if h1.attrs.get('title') is not None:\n",
    "                artist = h1.attrs['title']\n",
    "                anc = artistDBNameClass(name=artist, err=None)\n",
    "                return anc\n",
    "\n",
    "        anc = artistDBNameClass(err=\"NoH1\")\n",
    "        return anc    \n",
    "    \n",
    "\n",
    "    ##############################################################################################################################\n",
    "    ## Meta Information\n",
    "    ##############################################################################################################################\n",
    "    def getMeta(self):\n",
    "        metatitle = self.bsdata.find(\"meta\", {\"property\": \"og:title\"})\n",
    "        metaurl   = self.bsdata.find(\"meta\", {\"property\": \"og:url\"})\n",
    "\n",
    "        title = None\n",
    "        if metatitle is not None:\n",
    "            title = metatitle.attrs['content']\n",
    "\n",
    "        url = None\n",
    "        if metatitle is not None:\n",
    "            url = metaurl.attrs['content']\n",
    "\n",
    "        amc = artistDBMetaClass(title=title, url=url)\n",
    "        return amc\n",
    "        \n",
    "\n",
    "    ##############################################################################################################################\n",
    "    ## Artist URL\n",
    "    ##############################################################################################################################\n",
    "    def getURL(self):\n",
    "        result1 = self.bsdata.find(\"link\", {\"rel\": \"canonical\"})\n",
    "        result2 = self.bsdata.find(\"link\", {\"hreflang\": \"en\"})\n",
    "        if result1 and not result2:\n",
    "            result = result1\n",
    "        elif result2 and not result1:\n",
    "            result = result2\n",
    "        elif result1 and result2:\n",
    "            result = result1\n",
    "        else:        \n",
    "            auc = artistDBURLClass(err=True)\n",
    "            return auc\n",
    "\n",
    "        if result:\n",
    "            url = result.attrs[\"href\"]\n",
    "            url = url.replace(\"https://www.MusixMatch.com\", \"\")\n",
    "            if url.find(\"/artist/\") == -1:\n",
    "                url = None\n",
    "                auc = artistDBURLClass(url=url, err=\"NoArtist\")\n",
    "            else:\n",
    "                auc = artistDBURLClass(url=url)\n",
    "        else:\n",
    "            auc = artistDBURLClass(err=\"NoLink\")\n",
    "\n",
    "        return auc\n",
    "\n",
    "    \n",
    "\n",
    "    ##############################################################################################################################\n",
    "    ## Artist ID\n",
    "    ##############################################################################################################################                \n",
    "    def getID(self, suburl):\n",
    "        discID = self.dbUtils.getArtistID(suburl.url)\n",
    "        aic = artistDBIDClass(ID=discID)\n",
    "        return aic\n",
    "\n",
    "\n",
    "    \n",
    "    ##############################################################################################################################\n",
    "    ## Artist Pages\n",
    "    ##############################################################################################################################\n",
    "    def getPages(self):\n",
    "        apc   = artistDBPageClass(ppp=1, tot=1, redo=False, more=False)\n",
    "        return apc\n",
    "    \n",
    "    \n",
    "\n",
    "    ##############################################################################################################################\n",
    "    ## Artist Variations\n",
    "    ##############################################################################################################################\n",
    "    def getProfile(self):          \n",
    "        data = {}\n",
    "        apc = artistDBProfileClass(profile=data.get(\"Profile\"), aliases=data.get(\"Aliases\"),\n",
    "                                   members=data.get(\"Members\"), groups=data.get(\"In Groups\"),\n",
    "                                   sites=data.get(\"Sites\"), variations=data.get(\"Variations\"))\n",
    "        return apc\n",
    "\n",
    "    \n",
    "    \n",
    "    ##############################################################################################################################\n",
    "    ## Artist Media\n",
    "    ##############################################################################################################################   \n",
    "    def getMedia(self, artist):\n",
    "        amc = artistDBMediaClass()\n",
    "        name = \"Albums\"\n",
    "        amc.media[name] = []\n",
    "        \n",
    "        for ul in self.bsdata.findAll(\"ul\"):\n",
    "            for li in ul.findAll(\"li\"):\n",
    "                h2 = li.find(\"h2\")\n",
    "                if h2 is None:\n",
    "                    continue\n",
    "                ref = h2.find('a')\n",
    "                if ref is None:\n",
    "                    continue\n",
    "                href  = ref.attrs['href']\n",
    "                album = ref.text\n",
    "                #print(\"{0: <100}{1}\".format(name,href))\n",
    "                url = \"https://www.musixmatch.com{0}\".format(href)\n",
    "\n",
    "                amdc = artistDBMediaDataClass(album=album, url=url, aclass=None, aformat=None, artist=artist, code=None, year=None)\n",
    "                amc.media[name].append(amdc)\n",
    "\n",
    "        return amc\n",
    "    \n",
    "    \n",
    "\n",
    "    ##############################################################################################################################\n",
    "    ## Artist Media Counts\n",
    "    ##############################################################################################################################\n",
    "    def getMediaCounts(self, media):        \n",
    "        amcc = artistDBMediaCountsClass()\n",
    "        \n",
    "        credittype = \"Releases\"\n",
    "        if amcc.counts.get(credittype) == None:\n",
    "            amcc.counts[credittype] = {}\n",
    "        for creditsubtype in media.media.keys():\n",
    "            amcc.counts[credittype][creditsubtype] = int(len(media.media[creditsubtype]))\n",
    "            \n",
    "        return amcc"
   ]
  },
  {
   "cell_type": "code",
   "execution_count": null,
   "metadata": {
    "hidden": true
   },
   "outputs": [],
   "source": [
    "ar = artistMusixMatch()"
   ]
  },
  {
   "cell_type": "code",
   "execution_count": null,
   "metadata": {
    "hidden": true
   },
   "outputs": [],
   "source": [
    "from ioUtils import getFile\n",
    "dbAP = dbArtistsMusixMatch()\n",
    "dbAP.parseSearchArtist(\"Dave Matthews Band\", getFile(\"../charts/musixmatch_searchartist.p\"))"
   ]
  },
  {
   "cell_type": "code",
   "execution_count": null,
   "metadata": {
    "hidden": true
   },
   "outputs": [],
   "source": [
    "retval = ar.getData(\"../charts/musixmatch_dmbalbums.p\")\n",
    "retval.show()"
   ]
  },
  {
   "cell_type": "code",
   "execution_count": null,
   "metadata": {
    "hidden": true
   },
   "outputs": [],
   "source": [
    "!pip install geopandas\n",
    "import geopandas"
   ]
  },
  {
   "cell_type": "code",
   "execution_count": null,
   "metadata": {
    "hidden": true
   },
   "outputs": [],
   "source": [
    "world = geopandas.read_file(geopandas.datasets.get_path('naturalearth_lowres'))\n",
    "cities = geopandas.read_file(geopandas.datasets.get_path('naturalearth_cities'))\n",
    "country_shapes = world[['geometry', 'iso_a3']]\n",
    "country_names = world[['name', 'iso_a3']]\n",
    "countries = world[['geometry', 'name']]\n",
    "countries = countries.rename(columns={'name':'country'})"
   ]
  },
  {
   "cell_type": "code",
   "execution_count": null,
   "metadata": {
    "hidden": true
   },
   "outputs": [],
   "source": [
    "cities"
   ]
  },
  {
   "cell_type": "code",
   "execution_count": null,
   "metadata": {
    "hidden": true
   },
   "outputs": [],
   "source": [
    "countries"
   ]
  },
  {
   "cell_type": "code",
   "execution_count": null,
   "metadata": {
    "hidden": true
   },
   "outputs": [],
   "source": [
    "country_names"
   ]
  },
  {
   "cell_type": "code",
   "execution_count": null,
   "metadata": {
    "hidden": true
   },
   "outputs": [],
   "source": [
    "newdata = country_shapes.merge(country_names, on='iso_a3').copy(deep=True)"
   ]
  },
  {
   "cell_type": "code",
   "execution_count": null,
   "metadata": {
    "hidden": true
   },
   "outputs": [],
   "source": [
    "newdata"
   ]
  },
  {
   "cell_type": "code",
   "execution_count": null,
   "metadata": {
    "hidden": true
   },
   "outputs": [],
   "source": [
    "from searchUtils import findExt, findAll"
   ]
  },
  {
   "cell_type": "code",
   "execution_count": null,
   "metadata": {
    "hidden": true
   },
   "outputs": [],
   "source": [
    "files = findExt(\"/Users/tgadfort/Downloads\", \".torrent\")\n",
    "files"
   ]
  },
  {
   "cell_type": "code",
   "execution_count": null,
   "metadata": {
    "hidden": true
   },
   "outputs": [],
   "source": []
  },
  {
   "cell_type": "code",
   "execution_count": null,
   "metadata": {
    "hidden": true
   },
   "outputs": [],
   "source": [
    "opr = {'=': =, '<': <, '>': >, '>=': >=, '<='}['=']"
   ]
  },
  {
   "cell_type": "code",
   "execution_count": null,
   "metadata": {
    "hidden": true
   },
   "outputs": [],
   "source": []
  },
  {
   "cell_type": "code",
   "execution_count": null,
   "metadata": {
    "hidden": true
   },
   "outputs": [],
   "source": []
  },
  {
   "cell_type": "code",
   "execution_count": null,
   "metadata": {
    "hidden": true
   },
   "outputs": [],
   "source": [
    "ftd = fileTimeDelta()\n",
    "ftd.getDelta(\"< 2 Hours\")\n",
    "ftd.show()"
   ]
  },
  {
   "cell_type": "code",
   "execution_count": null,
   "metadata": {
    "hidden": true
   },
   "outputs": [],
   "source": []
  },
  {
   "cell_type": "code",
   "execution_count": null,
   "metadata": {
    "hidden": true
   },
   "outputs": [],
   "source": []
  },
  {
   "cell_type": "code",
   "execution_count": null,
   "metadata": {
    "hidden": true
   },
   "outputs": [],
   "source": [
    "from searchUtils import filesFromDir\n",
    "from recentFilesUtils import recentFiles"
   ]
  },
  {
   "cell_type": "code",
   "execution_count": null,
   "metadata": {
    "hidden": true
   },
   "outputs": [],
   "source": [
    "ffd   = filesFromDir(ext=\".p\")\n",
    "files = ffd.getFiles(\"/Users/tgadfort/discogs/artists-rateyourmusic/9\")"
   ]
  },
  {
   "cell_type": "code",
   "execution_count": null,
   "metadata": {
    "hidden": true
   },
   "outputs": [],
   "source": [
    "rf = recentFiles()\n",
    "rf.setFiles(files)\n",
    "retval = rf.getFilesByModTime('< 0 Days', '/Users/tgadfort/dbdiscogs/artists-rateyourmusic-db/9-DB.p')\n",
    "retval"
   ]
  },
  {
   "cell_type": "code",
   "execution_count": null,
   "metadata": {
    "hidden": true
   },
   "outputs": [],
   "source": [
    "rf = recentFiles()\n",
    "rf.setFiles(files)\n",
    "retval = rf.getFilesByRecency('> 1 Days')\n",
    "retval"
   ]
  },
  {
   "cell_type": "code",
   "execution_count": null,
   "metadata": {
    "hidden": true
   },
   "outputs": [],
   "source": [
    "#for ifile, fmtd in tmp.items():\n",
    "#    print(\"{0}\\t{1}  \\t{2}\\t\\t{3}\".format(ifile, fmtd.getDeltaNow(), ftd.td, ftd.isTrue(fmtd.getDeltaNow())))"
   ]
  },
  {
   "cell_type": "code",
   "execution_count": null,
   "metadata": {
    "hidden": true
   },
   "outputs": [],
   "source": [
    "\n",
    "\n",
    "rf = recentFiles()\n",
    "rf.setFiles(files)\n",
    "rf.findFilesByRecentTime(minutes=60)\n",
    "#rf."
   ]
  },
  {
   "cell_type": "code",
   "execution_count": null,
   "metadata": {
    "hidden": true
   },
   "outputs": [],
   "source": [
    "lastModified"
   ]
  },
  {
   "cell_type": "code",
   "execution_count": null,
   "metadata": {
    "hidden": true
   },
   "outputs": [],
   "source": [
    "ifile=\"/Users/tgadfort/Downloads/Strauss,.Johann.II.(1825-1899).[Austria].torrent\"\n",
    "from os.path import getmtime"
   ]
  },
  {
   "cell_type": "code",
   "execution_count": null,
   "metadata": {
    "hidden": true
   },
   "outputs": [],
   "source": [
    "lastModified = datetime.fromtimestamp(getmtime(ifile))\n",
    "lastModified"
   ]
  },
  {
   "cell_type": "markdown",
   "metadata": {
    "heading_collapsed": true
   },
   "source": [
    "# Metal Archives"
   ]
  },
  {
   "cell_type": "code",
   "execution_count": null,
   "metadata": {
    "hidden": true
   },
   "outputs": [],
   "source": [
    "import urllib\n",
    "def downloadURL(url):\n",
    "\n",
    "    \n",
    "    user_agent = 'Mozilla/5.0 (Windows; U; Windows NT 5.1; en-US; rv:1.9.0.7) Gecko/2009021910 Firefox/3.0.7'\n",
    "    headers={'User-Agent':user_agent,} \n",
    "\n",
    "    request=urllib.request.Request(url,None,headers) #The assembled request\n",
    "    response = urllib.request.urlopen(request)\n",
    "    data = response.read() # The data u need\n",
    "\n",
    "    return data, response.getcode()\n"
   ]
  },
  {
   "cell_type": "code",
   "execution_count": null,
   "metadata": {
    "hidden": true
   },
   "outputs": [],
   "source": [
    "from webUtils import getURL\n",
    "\n",
    "searchURL = \"https://www.metal-archives.com/search?searchString=Metalica&type=band_name\"\n",
    "headers = {'User-Agent':\"Mozilla/5.0 (X11; Linux i686) AppleWebKit/537.17 (KHTML, like Gecko) Chrome/24.0.1312.27 Safari/537.17\"}\n",
    "req = urllib.request.Request(searchURL, headers=headers)\n",
    "response = urllib.request.urlopen(req)\n",
    "#data, code = downloadURL(searchURL)"
   ]
  },
  {
   "cell_type": "code",
   "execution_count": null,
   "metadata": {
    "hidden": true
   },
   "outputs": [],
   "source": [
    "response.read()"
   ]
  },
  {
   "cell_type": "markdown",
   "metadata": {},
   "source": [
    "# Classical Archives"
   ]
  },
  {
   "cell_type": "code",
   "execution_count": null,
   "metadata": {},
   "outputs": [],
   "source": []
  }
 ],
 "metadata": {
  "kernelspec": {
   "display_name": "Python 3 (ipykernel)",
   "language": "python",
   "name": "python3"
  },
  "language_info": {
   "codemirror_mode": {
    "name": "ipython",
    "version": 3
   },
   "file_extension": ".py",
   "mimetype": "text/x-python",
   "name": "python",
   "nbconvert_exporter": "python",
   "pygments_lexer": "ipython3",
   "version": "3.9.7"
  },
  "toc": {
   "base_numbering": 1,
   "nav_menu": {},
   "number_sections": true,
   "sideBar": true,
   "skip_h1_title": false,
   "title_cell": "Table of Contents",
   "title_sidebar": "Contents",
   "toc_cell": false,
   "toc_position": {},
   "toc_section_display": true,
   "toc_window_display": false
  }
 },
 "nbformat": 4,
 "nbformat_minor": 4
}
