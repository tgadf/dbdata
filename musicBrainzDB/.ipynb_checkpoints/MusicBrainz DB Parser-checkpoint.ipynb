{
 "cells": [
  {
   "cell_type": "code",
   "execution_count": 1,
   "metadata": {},
   "outputs": [
    {
     "data": {
      "text/html": [
       "<style>.container { width:100% !important; }</style>"
      ],
      "text/plain": [
       "<IPython.core.display.HTML object>"
      ]
     },
     "metadata": {},
     "output_type": "display_data"
    },
    {
     "data": {
      "text/html": [
       "<style>div.output_area{max-height:10000px;overflow:scroll;}</style>"
      ],
      "text/plain": [
       "<IPython.core.display.HTML object>"
      ]
     },
     "metadata": {},
     "output_type": "display_data"
    }
   ],
   "source": [
    "###########################################################################\n",
    "## Basic\n",
    "###########################################################################\n",
    "%load_ext autoreload\n",
    "%autoreload\n",
    "from IPython.core.display import display, HTML\n",
    "display(HTML(\"<style>.container { width:100% !important; }</style>\"))\n",
    "display(HTML(\"\"\"<style>div.output_area{max-height:10000px;overflow:scroll;}</style>\"\"\"))\n",
    "\n",
    "\n",
    "###########################################################################\n",
    "## Warnings\n",
    "###########################################################################\n",
    "import warnings\n",
    "warnings.filterwarnings(\"ignore\", category=DeprecationWarning) \n",
    "warnings.filterwarnings(\"ignore\", category=FutureWarning) "
   ]
  },
  {
   "cell_type": "markdown",
   "metadata": {},
   "source": [
    "# Basic Functions"
   ]
  },
  {
   "cell_type": "code",
   "execution_count": 18,
   "metadata": {},
   "outputs": [],
   "source": [
    "from fileIO import fileIO\n",
    "from fsUtils import fileUtil, dirUtil\n",
    "from pandas import read_csv, DataFrame, Series\n",
    "from fsUtils import setDir, setFile\n",
    "from timeUtils import timestat\n",
    "from numpy import nan\n",
    "from pandas import to_datetime, NaT, isna, concat\n",
    "\n",
    "from glob import glob\n",
    "from fileIO import csvIO, pickleIO\n",
    "\n",
    "\n",
    "def loadData(ifile):\n",
    "    mbdata = csvIO().get(ifile, delimiter=\"\\t\", header=None)\n",
    "    #mbdata = read_csv(ifile, delimiter=\"\\t\", header=None)\n",
    "    mbdata = mbdata.replace('\\\\N', nan)\n",
    "    return mbdata\n",
    "\n",
    "\n",
    "def getData(files, colnames):\n",
    "    data = {fileUtil(ifile).basename: loadData(ifile) for ifile in files}\n",
    "    print(\"Keys: {0}\".format(data.keys()))\n",
    "    data = {key: val[list(colnames[key].keys())].rename(columns=colnames[key]) for key,val in data.items() if key in colnames} if colnames is not None else data\n",
    "    print(\"Keys: {0}\".format(data.keys()))\n",
    "    return data\n",
    "\n",
    "\n",
    "def setIndex(data):\n",
    "    for key,df in data.items():\n",
    "        colname = df.columns[0]\n",
    "        df.index = df[colname]\n",
    "        df.drop([colname], axis=1, inplace=True)\n",
    "    return data\n",
    "\n",
    "\n",
    "def createDate(year, month, day):\n",
    "    if all([isinstance(x,str) for x in [year,month,day]]):\n",
    "        return to_datetime('{0}-{1}-{2}'.format(year, month, day), format='%Y-%m-%d', errors='ignore')\n",
    "    elif all([isinstance(x,str) for x in [year,month]]):\n",
    "        return to_datetime('{0}-{1}'.format(year, month), format='%Y-%m', errors='ignore')\n",
    "    elif all([isinstance(x,str) for x in [year]]):\n",
    "        return to_datetime('{0}'.format(year), format='%Y', errors='ignore')\n",
    "    return NaT\n",
    "\n",
    "\n",
    "def convertToDatetime(year, month, day):\n",
    "    year  = year.apply(lambda x: int(x) if (not isna(x) and x.isdigit()) else -1)\n",
    "    month = month.apply(lambda x: int(x) if (not isna(x) and x.isdigit()) else -1)\n",
    "    day   = day.apply(lambda x: int(x) if (not isna(x) and x.isdigit()) else -1)\n",
    "    tmp   = DataFrame(year).join(month).join(day)\n",
    "    tmp.columns = [\"year\", \"month\", \"day\"]\n",
    "    return to_datetime(tmp, errors='coerce')\n",
    "\n",
    "\n",
    "basedir = \"./\"\n",
    "basedir = \"/Volumes/Seagate/DB\"\n",
    "\n",
    "aIDs={\"ArianaGrande\": 823336, \"BuddyHolly\": 10937, \"Rupaul\": 34318, \"U2\": 197, \"DMB\": 502, \"Bono\": 35575, \"Mozart\": 11285}"
   ]
  },
  {
   "cell_type": "code",
   "execution_count": null,
   "metadata": {},
   "outputs": [],
   "source": [
    "!ln -s '/Volumes/Seagate/DB/mbdump'"
   ]
  },
  {
   "cell_type": "markdown",
   "metadata": {
    "heading_collapsed": true
   },
   "source": [
    "# DB Data"
   ]
  },
  {
   "cell_type": "code",
   "execution_count": null,
   "metadata": {
    "hidden": true
   },
   "outputs": [],
   "source": [
    "lengthData = open(\"flength.csv\").readlines()\n",
    "lengthData = [x.replace(\"\\n\", \"\").strip().split() for x in lengthData]\n",
    "lengthData = Series({item[1].split(\"/\")[1]: int(item[0]) for item in lengthData if len(item[1].split(\"/\")) > 1})\n",
    "lengthData"
   ]
  },
  {
   "cell_type": "code",
   "execution_count": null,
   "metadata": {
    "hidden": true
   },
   "outputs": [],
   "source": [
    "list(lengthData.index)"
   ]
  },
  {
   "cell_type": "code",
   "execution_count": null,
   "metadata": {
    "hidden": true
   },
   "outputs": [],
   "source": [
    "#lengthData['release_label']\n",
    "lengthData[(lengthData <= 6)]"
   ]
  },
  {
   "cell_type": "markdown",
   "metadata": {},
   "source": [
    "# Lookup Dictionary"
   ]
  },
  {
   "cell_type": "code",
   "execution_count": 3,
   "metadata": {},
   "outputs": [
    {
     "name": "stdout",
     "output_type": "stream",
     "text": [
      "Current Time is Fri Nov 26, 2021 20:13 for Loading Gender Data\n",
      "Keys: dict_keys(['gender'])\n",
      "Keys: dict_keys(['gender'])\n",
      "Process [Loading Gender Data] Took 0.0 Seconds\n"
     ]
    }
   ],
   "source": [
    "colnames = {}\n",
    "colnames['gender'] = {0: \"GenderID\", 1: \"GenderName\"} #, 3: \"NA3\", \"GenderDescr\"}\n",
    "\n",
    "ts = timestat(\"Loading Gender Data\")\n",
    "files = [ifile for ifile in glob(\"mbdump/gender*\")]\n",
    "genderData = getData(files, colnames)\n",
    "genderData = setIndex(genderData)\n",
    "ts.stop()\n",
    "\n",
    "dGenderName = genderData['gender']['GenderName'].to_dict()\n",
    "del genderData"
   ]
  },
  {
   "cell_type": "code",
   "execution_count": 4,
   "metadata": {},
   "outputs": [
    {
     "name": "stdout",
     "output_type": "stream",
     "text": [
      "Current Time is Fri Nov 26, 2021 20:13 for Loading Area Data\n",
      "Keys: dict_keys(['area', 'area_alias', 'area_alias_type', 'area_gid_redirect', 'area_type'])\n",
      "Keys: dict_keys(['area', 'area_type'])\n",
      "Process [Loading Area Data] Took 0.7 Seconds\n"
     ]
    }
   ],
   "source": [
    "colnames = {}\n",
    "colnames[\"area_type\"] = {0: \"AreaTypeID\", 1: \"AreaTypeName\", 3: \"AlsoAreaTypeID\", 4: \"AreaTypeDescr\", 5: \"AreaTypeGID\"}\n",
    "colnames[\"area\"]      = {0: \"AreaID\", 1: \"AreaGID\", 2: \"AreaName\", 3: \"AreaTypeID\"}\n",
    "#colnames[\"area_gid_redirect\"] = {0: \"AreaGIDUUID\", 1: \"AreaGID\"}\n",
    "#colnames[\"area_alias_type\"] = {0: \"AreaAliasTypeID\", 1: \"AreaAliasTypeName\", 5: \"AreaAliasTypeUUID\"}\n",
    "#colnames[\"area_alias\"] = {0: \"AreaAliasID\", 1: \"NA1\", 2: \"AreaAlias\", 3: \"AreaLang\", 6: \"AliasTypeID\", 7: \"AreaSortName\"}\n",
    "\n",
    "ts = timestat(\"Loading Area Data\")\n",
    "files = glob(\"mbdump/area*\")\n",
    "areaData = getData(files, colnames)\n",
    "areaData = setIndex(areaData)\n",
    "ts.stop()\n",
    "\n",
    "dAreaName = areaData['area']['AreaName'].to_dict()\n",
    "del areaData"
   ]
  },
  {
   "cell_type": "code",
   "execution_count": 5,
   "metadata": {},
   "outputs": [
    {
     "name": "stdout",
     "output_type": "stream",
     "text": [
      "Current Time is Fri Nov 26, 2021 20:13 for Loading i* Code Data\n",
      "Keys: dict_keys(['iso_3166_1', 'iso_3166_2', 'iso_3166_3', 'isrc', 'iswc'])\n",
      "Keys: dict_keys(['iso_3166_1', 'iso_3166_2', 'iso_3166_3', 'isrc', 'iswc'])\n",
      "Process [Loading i* Code Data] Took 2.8 Seconds\n"
     ]
    }
   ],
   "source": [
    "colnames = {}\n",
    "colnames['isrc'] = {0: \"ISRCID\", 1: \"RecordingID\", 2: \"ISRC\"}\n",
    "colnames['iswc'] = {0: \"ISWCID\", 1: \"WorkID\", 2: \"ISWC\"}\n",
    "colnames['iso_3166_1'] = {0: \"ISO31661ID\", 1: \"ISO31661\"}\n",
    "colnames['iso_3166_2'] = {0: \"ISO31662ID\", 1: \"ISO31662\"}\n",
    "colnames['iso_3166_3'] = {0: \"ISO31663ID\", 1: \"ISO31663\"}\n",
    "\n",
    "ts = timestat(\"Loading i* Code Data\")\n",
    "files = glob(\"mbdump/is*\")\n",
    "icodeData = getData(files, colnames)\n",
    "icodeData = setIndex(icodeData)\n",
    "ts.stop()\n",
    "\n",
    "iSWCData = icodeData['iswc'][\"ISWC\"].copy(deep=True)\n",
    "iSWCData.index = icodeData['iswc']['WorkID']\n",
    "iSWCData = iSWCData.drop_duplicates()\n",
    "del icodeData"
   ]
  },
  {
   "cell_type": "code",
   "execution_count": 6,
   "metadata": {},
   "outputs": [
    {
     "name": "stdout",
     "output_type": "stream",
     "text": [
      "Current Time is Fri Nov 26, 2021 20:13 for Loading URL Data\n",
      "Keys: dict_keys(['language'])\n",
      "Keys: dict_keys(['language'])\n",
      "Process [Loading URL Data] Took 0.0 Seconds\n"
     ]
    }
   ],
   "source": [
    "colnames = {}\n",
    "colnames[\"language\"] = {0: \"LanguageID\", 1: \"LanguageShort1\", 2: \"LanguageShort2\", 3: \"LanguageShort3\", 4: \"LanguageName\", 5: \"NA5\", 6: \"LanguageShort\"}\n",
    "\n",
    "ts = timestat(\"Loading URL Data\")\n",
    "files = glob(\"mbdump/language*\")\n",
    "languageData = getData(files, colnames)\n",
    "languageData = setIndex(languageData)\n",
    "ts.stop()\n",
    "\n",
    "dLanguageName = languageData['language']['LanguageName'].to_dict()\n",
    "del languageData"
   ]
  },
  {
   "cell_type": "code",
   "execution_count": 7,
   "metadata": {},
   "outputs": [
    {
     "name": "stdout",
     "output_type": "stream",
     "text": [
      "Current Time is Fri Nov 26, 2021 20:13 for Loading URL Data\n",
      "Keys: dict_keys(['script'])\n",
      "Keys: dict_keys(['script'])\n",
      "Process [Loading URL Data] Took 0.0 Seconds\n"
     ]
    }
   ],
   "source": [
    "colnames = {}\n",
    "colnames[\"script\"] = {0: \"ScriptID\", 1: \"ScriptName\", 2: \"NA2\", 3: \"ScriptDescr\", 4: \"NA4\"}\n",
    "\n",
    "ts = timestat(\"Loading URL Data\")\n",
    "files = glob(\"mbdump/script\")\n",
    "scriptData = getData(files, colnames)\n",
    "scriptData = setIndex(scriptData)\n",
    "ts.stop()\n",
    "\n",
    "dScriptName = scriptData['script']['ScriptName'].to_dict()\n",
    "del scriptData"
   ]
  },
  {
   "cell_type": "code",
   "execution_count": 8,
   "metadata": {},
   "outputs": [
    {
     "name": "stdout",
     "output_type": "stream",
     "text": [
      "Current Time is Fri Nov 26, 2021 20:13 for Loading Label Data\n",
      "Keys: dict_keys(['label', 'label_alias', 'label_alias_type', 'label_gid_redirect', 'label_ipi', 'label_isni', 'label_type'])\n",
      "Keys: dict_keys(['label', 'label_alias', 'label_alias_type', 'label_ipi', 'label_isni', 'label_type'])\n",
      "Process [Loading Label Data] Took 0.9 Seconds\n"
     ]
    }
   ],
   "source": [
    "colnames = {}\n",
    "colnames[\"label_alias\"] = {0: \"LabelAliasID\", 1: \"LabelID\", 2: \"LabelAliasName\", 7: \"LabelAliasName2\"}\n",
    "colnames[\"label_alias_type\"] = {0: \"LabelAliasTypeID\", 1: \"LabelAliasTypeName\", 5: \"LabelAliasGID\"}\n",
    "colnames[\"label_ipi\"] = {0: \"LabelIPIID\", 1: \"LabelIPI\"}\n",
    "colnames[\"label_isni\"] = {0: \"LabelISNIID\", 1: \"LabelISNI\"}\n",
    "colnames[\"label_type\"] = {0: \"LabelTypeID\", 1: \"LabelTypeName\", 5: \"LabelTypeGID\"}\n",
    "colnames[\"label\"] = {0: \"LabelID\", 1: \"LabelGID\", 2: \"LabelName\"}\n",
    "\n",
    "ts = timestat(\"Loading Label Data\")\n",
    "files = glob(\"mbdump/label*\")\n",
    "labelData = getData(files, colnames)\n",
    "labelData = setIndex(labelData)\n",
    "ts.stop()\n",
    "\n",
    "dLabelName = labelData['label']['LabelName'].to_dict()\n",
    "del labelData"
   ]
  },
  {
   "cell_type": "markdown",
   "metadata": {
    "heading_collapsed": true
   },
   "source": [
    "# Gender"
   ]
  },
  {
   "cell_type": "code",
   "execution_count": null,
   "metadata": {
    "hidden": true
   },
   "outputs": [],
   "source": [
    "colnames = {}\n",
    "colnames['gender'] = {0: \"GenderID\", 1: \"GenderName\"} #, 3: \"NA3\", \"GenderDescr\"}\n",
    "\n",
    "ts = timestat(\"Loading Gender Data\")\n",
    "files = [ifile for ifile in glob(\"mbdump/gender*\")]\n",
    "genderData = getData(files, colnames)\n",
    "genderData = setIndex(genderData)\n",
    "ts.stop()"
   ]
  },
  {
   "cell_type": "markdown",
   "metadata": {},
   "source": [
    "# Lookup"
   ]
  },
  {
   "cell_type": "code",
   "execution_count": null,
   "metadata": {},
   "outputs": [],
   "source": [
    "colnames = {}\n",
    "colnames[\"l_label_release\"] = {0: \"Index\", 1: \"NA1\", 2: \"NA2\", 3: \"ReleaseID\"}\n",
    "\n",
    "ts = timestat(\"Loading Area Data\")\n",
    "files = glob(\"mbdump/l_label_release\")\n",
    "lookupData = {fileInfo(ifile).basename: loadData(ifile) for ifile in files}\n",
    "lookupData = {key: val[list(colnames[key].keys())].rename(columns=colnames[key]) for key,val in lookupData.items()} if colnames is not None else lookupData\n",
    "print(\"Keys: {0}\".format(lookupData.keys()))\n",
    "ts.stop()"
   ]
  },
  {
   "cell_type": "code",
   "execution_count": null,
   "metadata": {},
   "outputs": [],
   "source": [
    "lookupData['l_label_release'][lookupData['l_label_release']['ReleaseID'].isin(releaseIDs)]"
   ]
  },
  {
   "cell_type": "code",
   "execution_count": null,
   "metadata": {},
   "outputs": [],
   "source": [
    "lookupData['l_label_release'].max()"
   ]
  },
  {
   "cell_type": "markdown",
   "metadata": {
    "heading_collapsed": true
   },
   "source": [
    "# Area"
   ]
  },
  {
   "cell_type": "code",
   "execution_count": null,
   "metadata": {
    "hidden": true
   },
   "outputs": [],
   "source": [
    "colnames = {}\n",
    "colnames[\"area_type\"] = {0: \"AreaTypeID\", 1: \"AreaTypeName\", 3: \"AlsoAreaTypeID\", 4: \"AreaTypeDescr\", 5: \"AreaTypeGID\"}\n",
    "colnames[\"area\"]      = {0: \"AreaID\", 1: \"AreaGID\", 2: \"AreaName\", 3: \"AreaTypeID\"}\n",
    "#colnames[\"area_gid_redirect\"] = {0: \"AreaGIDUUID\", 1: \"AreaGID\"}\n",
    "#colnames[\"area_alias_type\"] = {0: \"AreaAliasTypeID\", 1: \"AreaAliasTypeName\", 5: \"AreaAliasTypeUUID\"}\n",
    "#colnames[\"area_alias\"] = {0: \"AreaAliasID\", 1: \"NA1\", 2: \"AreaAlias\", 3: \"AreaLang\", 6: \"AliasTypeID\", 7: \"AreaSortName\"}\n",
    "\n",
    "ts = timestat(\"Loading Area Data\")\n",
    "files = glob(\"mbdump/area*\")\n",
    "areaData = getData(files, colnames)\n",
    "areaData = setIndex(areaData)\n",
    "ts.stop()"
   ]
  },
  {
   "cell_type": "markdown",
   "metadata": {
    "heading_collapsed": true
   },
   "source": [
    "# Event"
   ]
  },
  {
   "cell_type": "code",
   "execution_count": null,
   "metadata": {
    "hidden": true
   },
   "outputs": [],
   "source": [
    "colnames = {}\n",
    "colnames[\"event_type\"] = {0: \"EventTypeID\", 1: \"EventTypeName\", 4: \"EventTypeDescr\"}\n",
    "colnames[\"event_alias_type\"] = {0: \"EventAliasTypeID\", 1: \"EventAliasTypeName\", 5: \"EventAliasTypeGID\"}\n",
    "colnames[\"event_alias\"] = {0: \"EventAliasID\", 1: \"EventID\", 2: \"EventAliasName\", 3: \"EventAliasLang\", 7: \"EventAliasName2\"}\n",
    "colnames[\"event\"] = {0: \"EventID\", 1: \"EventGID\", 2: \"EventName\", \n",
    "                     3: \"EventStartYear\", 4: \"EventStartMonth\", 5: \"EventStartDay\", 6: \"EventEndYear\", 7: \"EventEndMonth\", 8: \"EventEndDay\"}\n",
    "\n",
    "ts = timestat(\"Loading Event Data\")\n",
    "files = glob(\"mbdump/event*\")\n",
    "eventData = {fileInfo(ifile).basename: loadData(ifile) for ifile in files}\n",
    "print(\"Keys: {0}\".format(eventData.keys()))\n",
    "eventData = {key: val[list(colnames[key].keys())].rename(columns=colnames[key]) for key,val in eventData.items() if key in colnames} if colnames is not None else eventData\n",
    "print(\"Keys: {0}\".format(eventData.keys()))\n",
    "ts.stop()"
   ]
  },
  {
   "cell_type": "code",
   "execution_count": null,
   "metadata": {
    "hidden": true
   },
   "outputs": [],
   "source": [
    "eventData['event']"
   ]
  },
  {
   "cell_type": "markdown",
   "metadata": {
    "heading_collapsed": true
   },
   "source": [
    "# ICode"
   ]
  },
  {
   "cell_type": "code",
   "execution_count": null,
   "metadata": {
    "hidden": true
   },
   "outputs": [],
   "source": [
    "colnames = {}\n",
    "colnames['isrc'] = {0: \"ISRCID\", 1: \"RecordingID\", 2: \"ISRC\"}\n",
    "colnames['iswc'] = {0: \"ISWCID\", 1: \"WorkID\", 2: \"ISWC\"}\n",
    "colnames['iso_3166_1'] = {0: \"ISO31661ID\", 1: \"ISO31661\"}\n",
    "colnames['iso_3166_2'] = {0: \"ISO31662ID\", 1: \"ISO31662\"}\n",
    "colnames['iso_3166_3'] = {0: \"ISO31663ID\", 1: \"ISO31663\"}\n",
    "\n",
    "ts = timestat(\"Loading i* Code Data\")\n",
    "files = glob(\"mbdump/is*\")\n",
    "icodeData = getData(files, colnames)\n",
    "icodeData = setIndex(icodeData)\n",
    "ts.stop()\n",
    "\n",
    "iSWCData = icodeData['iswc'][\"ISWC\"].copy(deep=True)\n",
    "iSWCData.index = icodeData['iswc']['WorkID']\n",
    "iSWCData = iSWCData.drop_duplicates()\n",
    "del icodeData"
   ]
  },
  {
   "cell_type": "markdown",
   "metadata": {
    "heading_collapsed": true
   },
   "source": [
    "# Medium"
   ]
  },
  {
   "cell_type": "code",
   "execution_count": null,
   "metadata": {
    "hidden": true
   },
   "outputs": [],
   "source": [
    "colnames = {}\n",
    "colnames[\"medium_format\"] = {0: \"MediumFormatID\", 1: \"MediumName\", 2: \"MediumGroupID\", 3: \"NA3\", 4: \"MediumIntroYear\", 5: \"MediumDescr\", 6: \"MediumGID\"}\n",
    "#colnames[\"medium_cdtoc\"]  = {0: \"NA0\", 1: \"NA1\", 2: \"NA2\", 3: \"NA3\"}\n",
    "colnames[\"medium\"] = {0: \"ReleaseID_1\", 1: \"ReleaseID\", 2: \"SideNum\", 3: \"MediumFormatID\", 4: \"NA4\", 5: \"NA5\", 7: \"NumTracks\"}\n",
    "\n",
    "ts = timestat(\"Loading Medium Data\")\n",
    "files = glob(\"mbdump/medium*\")\n",
    "mediumData = {fileInfo(ifile).basename: loadData(ifile) for ifile in files}\n",
    "print(\"Keys: {0}\".format(mediumData.keys()))\n",
    "mediumData = {key: val[list(colnames[key].keys())].rename(columns=colnames[key]) for key,val in mediumData.items() if key in colnames} if colnames is not None else mediumData\n",
    "print(\"Keys: {0}\".format(mediumData.keys()))\n",
    "ts.stop()"
   ]
  },
  {
   "cell_type": "code",
   "execution_count": null,
   "metadata": {
    "hidden": true
   },
   "outputs": [],
   "source": [
    "mediumData['medium_format'].nunique()"
   ]
  },
  {
   "cell_type": "code",
   "execution_count": null,
   "metadata": {
    "hidden": true
   },
   "outputs": [],
   "source": [
    "mediumData['medium'].nunique()"
   ]
  },
  {
   "cell_type": "code",
   "execution_count": null,
   "metadata": {
    "hidden": true
   },
   "outputs": [],
   "source": [
    "## 12\" Vinyl ; ReleaseID=1310220\n",
    "#mediumData['medium'][mediumData['medium'].eq(1310220).any(1)]\n",
    "# MediumID  ReleaseID  Sides?  Format?   ?\n",
    "# 1310220   1274390    1       33        4\n",
    "# 1351220   1310220    1       31        11      <- Matches https://musicbrainz.org/release/6b5f33a8-fc5e-4c1e-b379-c659ce20a1c8\n",
    "\n",
    "\n",
    "## Digital Media : ReleaseID=1792210\n",
    "#mediumData['medium'][mediumData['medium'].eq(1792210).any(1)]\n",
    "# MediumID  ReleaseID  Sides?  Format?   ?\n",
    "# 1792210   1694923    1      12\tNaN\t0\t2015-11-30 00:32:22.335038+00\t13\n",
    "# 1904010   1792210    1      12\tNaN\t0\t2016-06-20 18:41:01.106192+00\t11   Both Match\n",
    "\n",
    "\n",
    "# 2x12\" Vinyl ; ReleaseID=1680415\n",
    "\n",
    "#mediumData['medium'][mediumData['medium'].eq(1680415).any(1)]\n",
    "# MediumID  ReleaseID  Sides?  Format?   ?\n",
    "# 1680415\t1598741\t1\t1\tNaN\t0\t2015-04-27 04:37:49.277705+00\t11\n",
    "# 1775088\t1680415\t1\t31\tNaN\t0\t2015-10-31 12:02:35.843886+00\t5\n",
    "# 1775089\t1680415\t2\t31\tNaN\t0\t2015-10-31 12:02:35.843886+00\t6\n",
    "\n",
    "# 1792210   1694923    1      12\tNaN\t0\t2015-11-30 00:32:22.335038+00\t13\n",
    "# 1904010   1792210    1      12\tNaN\t0\t2016-06-20 18:41:01.106192+00\t11   Both Match\n",
    "\n",
    "# Pixies Velouria CD w/ 4 Tracks\n",
    "# 3099, 1162482, 3097, 2259927\n",
    "\n",
    "## CD\n",
    "# mediumData['medium'][mediumData['medium'].eq(3099).any(1)]\n",
    "# 3099\t3099\t1\t1\tNaN\t0\t2011-05-16 14:57:06.530063+00\t4\n",
    "\n",
    "## CD (Status=Promotional)\n",
    "# mediumData['medium'][mediumData['medium'].eq(1162482).any(1)]\n",
    "# 1162482\t1146184\t1\t12\tNaN\t0\t2012-04-14 05:35:56.931961+00\t1\n",
    "# 1181517\t1162482\t1\t1\tNaN\t0\t2012-05-30 00:53:24.512335+00\t4\n",
    "\n",
    "## CD\n",
    "# mediumData['medium'][mediumData['medium'].eq(3097).any(1)]\n",
    "# 3097\t3097\t1\t1\tNaN\t0\t2012-10-18 19:49:17.567219+00\t4\n",
    "\n",
    "## 12\" Vinyl\n",
    "# mediumData['medium'][mediumData['medium'].eq(2259927).any(1)]\n",
    "# 2259927\t2099781\t1\t12\tNaN\t0\t2018-01-11 08:03:13.107915+00\t5\n",
    "# 2441117\t2259927\t1\t31\tNaN\t0\t2018-09-28 23:20:29.279923+00\t4  <-- This matches Web"
   ]
  },
  {
   "cell_type": "code",
   "execution_count": null,
   "metadata": {
    "hidden": true
   },
   "outputs": [],
   "source": [
    "mediumData['medium'].nunique()"
   ]
  },
  {
   "cell_type": "code",
   "execution_count": null,
   "metadata": {
    "hidden": true
   },
   "outputs": [],
   "source": [
    "mediumData['medium'].shape"
   ]
  },
  {
   "cell_type": "code",
   "execution_count": null,
   "metadata": {
    "hidden": true
   },
   "outputs": [],
   "source": [
    "mediumData['medium_cdtoc'][mediumData['medium_cdtoc'].eq(1598741).any(1)]"
   ]
  },
  {
   "cell_type": "code",
   "execution_count": null,
   "metadata": {
    "hidden": true
   },
   "outputs": [],
   "source": [
    "mediumData['medium_format'][mediumData['medium_format'].eq(38).any(1)]"
   ]
  },
  {
   "cell_type": "code",
   "execution_count": null,
   "metadata": {
    "hidden": true
   },
   "outputs": [],
   "source": [
    "mediumData['medium_format'][mediumData['medium_format'].eq('38').any(1)]"
   ]
  },
  {
   "cell_type": "code",
   "execution_count": null,
   "metadata": {
    "hidden": true
   },
   "outputs": [],
   "source": [
    "mediumData['medium_format'][mediumData['medium_format'].eq(63).any(1)]"
   ]
  },
  {
   "cell_type": "code",
   "execution_count": null,
   "metadata": {
    "hidden": true
   },
   "outputs": [],
   "source": [
    "mediumData['medium_format'][mediumData['medium_format'].eq(64).any(1)]"
   ]
  },
  {
   "cell_type": "markdown",
   "metadata": {
    "heading_collapsed": true
   },
   "source": [
    "# Language"
   ]
  },
  {
   "cell_type": "code",
   "execution_count": null,
   "metadata": {
    "hidden": true
   },
   "outputs": [],
   "source": [
    "colnames = {}\n",
    "colnames[\"language\"] = {0: \"LanguageID\", 1: \"LanguageShort1\", 2: \"LanguageShort2\", 3: \"LanguageShort3\", 4: \"LanguageName\", 5: \"NA5\", 6: \"LanguageShort\"}\n",
    "\n",
    "ts = timestat(\"Loading URL Data\")\n",
    "files = glob(\"mbdump/language*\")\n",
    "languageData = getData(files, colnames)\n",
    "languageData = setIndex(languageData)\n",
    "ts.stop()"
   ]
  },
  {
   "cell_type": "markdown",
   "metadata": {
    "heading_collapsed": true
   },
   "source": [
    "# Script"
   ]
  },
  {
   "cell_type": "code",
   "execution_count": null,
   "metadata": {
    "hidden": true
   },
   "outputs": [],
   "source": [
    "colnames = {}\n",
    "colnames[\"script\"] = {0: \"ScriptID\", 1: \"ScriptName\", 2: \"NA2\", 3: \"ScriptDescr\", 4: \"NA4\"}\n",
    "\n",
    "ts = timestat(\"Loading URL Data\")\n",
    "files = glob(\"mbdump/script\")\n",
    "scriptData = getData(files, colnames)\n",
    "scriptData = setIndex(scriptData)\n",
    "ts.stop()"
   ]
  },
  {
   "cell_type": "markdown",
   "metadata": {},
   "source": [
    "# URL"
   ]
  },
  {
   "cell_type": "code",
   "execution_count": 12,
   "metadata": {},
   "outputs": [
    {
     "name": "stdout",
     "output_type": "stream",
     "text": [
      "Current Time is Fri Nov 26, 2021 20:22 for Loading URL Data\n",
      "Keys: dict_keys(['url', 'url_gid_redirect'])\n",
      "Keys: dict_keys(['url'])\n",
      "Process [Loading URL Data] Took 30.2 Seconds\n"
     ]
    }
   ],
   "source": [
    "colnames = {}\n",
    "colnames[\"url\"] = {0: \"URLID\", 1: \"URLGID\", 2: \"URLName\"}\n",
    "#colnames[\"url_gid_redirect\"] = {0: \"URLGIDUUID\", 1: \"URLGIDID\"}\n",
    "\n",
    "ts = timestat(\"Loading URL Data\")\n",
    "files = glob(\"mbdump/url*\")\n",
    "urlData = getData(files, colnames)\n",
    "urlData = setIndex(urlData)\n",
    "ts.stop()"
   ]
  },
  {
   "cell_type": "markdown",
   "metadata": {
    "heading_collapsed": true
   },
   "source": [
    "# Work"
   ]
  },
  {
   "cell_type": "code",
   "execution_count": null,
   "metadata": {
    "hidden": true
   },
   "outputs": [],
   "source": [
    "colnames = {}\n",
    "colnames[\"work_type\"] = {0: \"WorkTypeID\", 1: \"WorkTypeName\", 3: \"WorkTypeRanking\", 4: \"WorkTypeDescr\", 5: \"WorkTypeGID\"}\n",
    "#colnames[\"work_alias\"] = {0: \"WorkAliasID\", 1: \"WorkID\", 2: \"WorkName\", 3: \"WorkLang\", 7: \"WorkName2\"}\n",
    "#colnames[\"work_alias_type\"] = {0: \"WorkAliasTypeID\", 1: \"WorkAliasTypeName\", 5: \"WorkAliasTypeGID\"}\n",
    "colnames['work_attribute_type_allowed_value'] = {0: 'WorkAttributeTypeValueID', 1: \"WorkAttributeTypeID\", 2: \"WorkAttributeTypeValue\", 6: \"WorkAttributeTypeValueGID\"}\n",
    "colnames[\"work_attribute_type\"] = {0: \"WorkAttributeTypeID\", 1: \"WorkAttributeTypeName\", 6: \"WorkAttributeTypeDescr\"}\n",
    "colnames[\"work_attribute\"] = {0: \"WorkAttributeID\", 1: \"WorkID\", 2: \"WorkAttributeTypeID\", 3: \"WorkAttributeTypeValueID\", 4: \"WorkAttributeCode\"}\n",
    "colnames[\"work_language\"] = {0: \"WorkID\", 1: \"LanguageID\"}\n",
    "colnames[\"work\"] = {0: \"WorkID\", 1: \"WorkGID\", 2: \"WorkName\", 3: \"WorkTypeID\"} #, 4: \"WorkDescr\"}\n",
    "\n",
    "ts = timestat(\"Loading Work Data\")\n",
    "files = glob(\"mbdump/work*\")\n",
    "workData = getData(files, colnames)\n",
    "workData = setIndex(workData)\n",
    "ts.stop()"
   ]
  },
  {
   "cell_type": "code",
   "execution_count": null,
   "metadata": {
    "hidden": true
   },
   "outputs": [],
   "source": [
    "files = glob(\"mbdump/work_attribute_type_allowed_value\")\n",
    "tmpData = getData(files, None)"
   ]
  },
  {
   "cell_type": "code",
   "execution_count": null,
   "metadata": {
    "hidden": true
   },
   "outputs": [],
   "source": [
    "workData['work_attribute']"
   ]
  },
  {
   "cell_type": "code",
   "execution_count": null,
   "metadata": {
    "hidden": true
   },
   "outputs": [],
   "source": []
  },
  {
   "cell_type": "code",
   "execution_count": null,
   "metadata": {
    "hidden": true
   },
   "outputs": [],
   "source": [
    "workData['work_attribute_type_allowed_value']"
   ]
  },
  {
   "cell_type": "code",
   "execution_count": null,
   "metadata": {
    "hidden": true
   },
   "outputs": [],
   "source": [
    "workData['work_attribute_type_allowed_value'][workData['work_attribute_type_allowed_value']['NA1'] == 31]"
   ]
  },
  {
   "cell_type": "code",
   "execution_count": null,
   "metadata": {
    "hidden": true
   },
   "outputs": [],
   "source": [
    "workData['work_attribute_type_allowed_value']['NA1'].value_counts()\n",
    "\"\"\"\n",
    "NA1\n",
    "15    304\n",
    "4     244\n",
    "32    203\n",
    "17    105\n",
    "16     83\n",
    "1      56\n",
    "31     27\n",
    "5      19\n",
    "\"\"\""
   ]
  },
  {
   "cell_type": "code",
   "execution_count": null,
   "metadata": {
    "hidden": true
   },
   "outputs": [],
   "source": [
    "workData['work_attribute'][workData['work_attribute']['WorkAttributeTypeValueID'] == '443']"
   ]
  },
  {
   "cell_type": "code",
   "execution_count": null,
   "metadata": {
    "hidden": true
   },
   "outputs": [],
   "source": [
    "workData['work_attribute'][workData['work_attribute']['WorkID'] == 13125643]"
   ]
  },
  {
   "cell_type": "markdown",
   "metadata": {
    "hidden": true
   },
   "source": [
    "## Append Data And Create Master Work DataFrame"
   ]
  },
  {
   "cell_type": "code",
   "execution_count": null,
   "metadata": {
    "hidden": true
   },
   "outputs": [],
   "source": [
    "ts = timestat(\"Joining Release Language Name\")\n",
    "dLanguageName = languageData['language']['LanguageName'].to_dict()\n",
    "workData['work_language'][\"Language\"] = workData['work_language']['LanguageID'].apply(lambda x: dLanguageName.get(x) if not isna(x) else None)\n",
    "workData['work_language'].drop([\"LanguageID\"], axis=1, inplace=True)\n",
    "ts.stop()\n",
    "\n",
    "ts = timestat(\"Joining Work Attribute Type\")\n",
    "dWorkAttributeTypeName = workData['work_attribute_type'][\"WorkAttributeTypeName\"].to_dict()\n",
    "workData['work_attribute_type_allowed_value'][\"WorkAttributeType\"] = workData['work_attribute_type_allowed_value']['WorkAttributeTypeID'].apply(lambda x: dWorkAttributeTypeName.get(x) if not isna(x) else None)\n",
    "workData['work_attribute_type_allowed_value'].drop([\"WorkAttributeTypeID\"], axis=1, inplace=True)\n",
    "ts.stop()\n",
    "\n",
    "ts = timestat(\"Joining Work Attribute Type\")\n",
    "dWorkAttributeTypeName = workData['work_attribute_type'][\"WorkAttributeTypeName\"].to_dict()\n",
    "workData['work_attribute'][\"WorkAttributeType\"] = workData['work_attribute']['WorkAttributeTypeID'].apply(lambda x: dWorkAttributeTypeName.get(x) if not isna(x) else None)\n",
    "workData['work_attribute'].drop([\"WorkAttributeTypeID\"], axis=1, inplace=True)\n",
    "ts.stop()\n",
    "\n",
    "if False:\n",
    "    ts = timestat(\"Joining Work Type\")\n",
    "    dWorkTypeName = workData['work_type'][\"WorkTypeName\"].to_dict()\n",
    "    workData['work'][\"WorkType\"] = workData['work']['WorkTypeID'].apply(lambda x: dWorkTypeName.get(int(x)) if (not isna(x) and x.isdigit()) else None)\n",
    "    workData['work'].drop([\"WorkTypeID\"], axis=1, inplace=True)\n",
    "    ts.stop()\n",
    "\n",
    "    ts = timestat(\"Joining Work ISWC Data\")\n",
    "    iSWCData = icodeData['iswc'][\"ISWC\"].copy(deep=True)\n",
    "    iSWCData.index = icodeData['iswc']['WorkID']\n",
    "    iSWCData = iSWCData.drop_duplicates()\n",
    "    workData['work'] = workData['work'].join(iSWCData)\n",
    "    ts.stop()\n",
    "\n",
    "    ts = timestat(\"Grouping Attributes By WorkID\")\n",
    "    workAttributes = Series({workID: list(zip(df[\"WorkAttributeType\"], df[\"WorkAttributeCode\"])) for workID,df in workData['work_attribute'].groupby('WorkID')})\n",
    "    workAttributes.name = \"WorkAttributes\"\n",
    "    workData['work'] = workData['work'].join(workAttributes)\n",
    "    ts.stop()\n",
    "\n",
    "\n",
    "    savedir = setDir(basedir, \"MusicBrainzData\")\n",
    "    savename = setFile(savedir, \"{0}.p\".format(\"workDataFrame\"))\n",
    "    ts = timestat(\"Saving Master Release DataFrame To {0}\".format(savename))\n",
    "    pickleIO().save(idata=workData['release'], ifile=savename)\n",
    "    fsize = fileInfo(savename).fsize\n",
    "    print(\"Master Release DataFrame is {0}{1}\".format(fsize[0], fsize[1]))\n",
    "    ts.stop()\n"
   ]
  },
  {
   "cell_type": "code",
   "execution_count": null,
   "metadata": {
    "hidden": true
   },
   "outputs": [],
   "source": [
    "jData = workData['work_attribute_type_allowed_value'].reset_index()"
   ]
  },
  {
   "cell_type": "code",
   "execution_count": null,
   "metadata": {
    "hidden": true
   },
   "outputs": [],
   "source": [
    "dWorkAttributeTypeValue = workData['work_attribute_type_allowed_value'][[\"WorkAttributeTypeValue\", \"WorkAttributeType\"]].T.to_dict()"
   ]
  },
  {
   "cell_type": "code",
   "execution_count": null,
   "metadata": {
    "hidden": true
   },
   "outputs": [],
   "source": [
    "noVal={\"WorkAttributeTypeValue\": None, \"WorkAttributeType\": None}\n",
    "WorkAttributeTypeValue = workData['work_attribute'][\"WorkAttributeTypeValueID\"].apply(lambda x: dWorkAttributeTypeValue.get(int(x)) if (not isna(x) and x.isdigit()) else noVal)"
   ]
  },
  {
   "cell_type": "code",
   "execution_count": null,
   "metadata": {
    "hidden": true
   },
   "outputs": [],
   "source": [
    "WorkAttributeTypeValue.apply(Series)"
   ]
  },
  {
   "cell_type": "code",
   "execution_count": null,
   "metadata": {
    "hidden": true
   },
   "outputs": [],
   "source": [
    "dWorkAttributeTypeValue"
   ]
  },
  {
   "cell_type": "code",
   "execution_count": null,
   "metadata": {
    "hidden": true
   },
   "outputs": [],
   "source": [
    "workData['work'][workData['work']['WorkGID'] == 'b8ee567b-0f09-3345-b794-b6279594aa29']"
   ]
  },
  {
   "cell_type": "code",
   "execution_count": null,
   "metadata": {
    "hidden": true
   },
   "outputs": [],
   "source": [
    "#{workID: }\n",
    "df = workData['work_attribute'][workData['work_attribute'].eq(213928).any(1)].copy(deep=True)"
   ]
  },
  {
   "cell_type": "code",
   "execution_count": null,
   "metadata": {
    "hidden": true
   },
   "outputs": [],
   "source": []
  },
  {
   "cell_type": "code",
   "execution_count": null,
   "metadata": {
    "hidden": true
   },
   "outputs": [],
   "source": []
  },
  {
   "cell_type": "code",
   "execution_count": null,
   "metadata": {
    "hidden": true
   },
   "outputs": [],
   "source": []
  },
  {
   "cell_type": "code",
   "execution_count": null,
   "metadata": {
    "hidden": true
   },
   "outputs": [],
   "source": [
    "workData['work'][workData['work'][\"WorkGID\"] == 'b8ee567b-0f09-3345-b794-b6279594aa29']"
   ]
  },
  {
   "cell_type": "code",
   "execution_count": null,
   "metadata": {
    "hidden": true
   },
   "outputs": [],
   "source": [
    "for key,df in workData.items():\n",
    "    print(key)\n",
    "    print(df[df.eq(213928).any(1)])"
   ]
  },
  {
   "cell_type": "markdown",
   "metadata": {
    "heading_collapsed": true
   },
   "source": [
    "# Label"
   ]
  },
  {
   "cell_type": "code",
   "execution_count": null,
   "metadata": {
    "hidden": true
   },
   "outputs": [],
   "source": [
    "colnames = {}\n",
    "colnames[\"label_alias\"] = {0: \"LabelAliasID\", 1: \"LabelID\", 2: \"LabelAliasName\", 7: \"LabelAliasName2\"}\n",
    "colnames[\"label_alias_type\"] = {0: \"LabelAliasTypeID\", 1: \"LabelAliasTypeName\", 5: \"LabelAliasGID\"}\n",
    "colnames[\"label_ipi\"] = {0: \"LabelIPIID\", 1: \"LabelIPI\"}\n",
    "colnames[\"label_isni\"] = {0: \"LabelISNIID\", 1: \"LabelISNI\"}\n",
    "colnames[\"label_type\"] = {0: \"LabelTypeID\", 1: \"LabelTypeName\", 5: \"LabelTypeGID\"}\n",
    "colnames[\"label\"] = {0: \"LabelID\", 1: \"LabelGID\", 2: \"LabelName\"}\n",
    "\n",
    "ts = timestat(\"Loading Label Data\")\n",
    "files = glob(\"mbdump/label*\")\n",
    "labelData = getData(files, colnames)\n",
    "labelData = setIndex(labelData)\n",
    "ts.stop()"
   ]
  },
  {
   "cell_type": "code",
   "execution_count": null,
   "metadata": {
    "hidden": true
   },
   "outputs": [],
   "source": []
  },
  {
   "cell_type": "markdown",
   "metadata": {
    "heading_collapsed": true
   },
   "source": [
    "# Recording"
   ]
  },
  {
   "cell_type": "code",
   "execution_count": null,
   "metadata": {
    "hidden": true
   },
   "outputs": [],
   "source": [
    "colnames = {}\n",
    "colnames[\"recording_alias_type\"] = {0: \"RecordingAliasTypeID\", 1: \"RecordingAliasTypeName\"}\n",
    "colnames[\"recording_alias\"] = {0: \"RecordingAliasID\", 1: \"RecordingID\", 2: \"RecordingAliasName\", 3: \"RecordingAliasLang\", 7: \"recordingAliasName2\"}\n",
    "colnames[\"recording\"] = {0: \"RecordingID\", 1: \"RecordingGID\", 2: \"RecordingName\", 3: \"ArtistID\", 4: \"TimeLength\"} #, 5: \"RecordingDescr\"}\n",
    "\n",
    "ts = timestat(\"Loading Recording Data\")\n",
    "files = glob(\"mbdump/rec\")\n",
    "recordingData = {fileInfo(ifile).basename: loadData(ifile) for ifile in files}\n",
    "print(\"Keys: {0}\".format(recordingData.keys()))\n",
    "recordingData = {key: val[list(colnames[key].keys())].rename(columns=colnames[key]) for key,val in recordingData.items() if key in colnames} if colnames is not None else recordingData\n",
    "print(\"Keys: {0}\".format(recordingData.keys()))\n",
    "ts.stop()"
   ]
  },
  {
   "cell_type": "markdown",
   "metadata": {
    "heading_collapsed": true
   },
   "source": [
    "# Track"
   ]
  },
  {
   "cell_type": "code",
   "execution_count": null,
   "metadata": {
    "hidden": true
   },
   "outputs": [],
   "source": [
    "colnames = {}\n",
    "colnames[\"track\"] = {0: \"TrackID\", 1: \"TrackGID\", 2: \"RecordingID\", 3: \"NA3\", 4: \"TrackNum\", 5: \"TrackNumName\", 6: \"TrackName\", 7: \"ArtistID\", 8: \"TimeLength\"}\n",
    "\n",
    "# Release\n",
    "# 2373946\t7c5d14b4-cf40-4eb1-89e6-d448125d94f3\t1987-12-12: Hampton Coliseum, Hampton, VA, USA\t197\t2128729\t3\t\\N\t120\t28\t\\N\t\t0\t-1\t2019-03-15 09:46:50.446876+00\n",
    "            \n",
    "# Release Group\n",
    "# 2128729\tf979a1c6-b6c2-4aad-b5b6-709c6c216752\t1987-12-12: Hampton Coliseum, Hampton, VA, USA\t197\t1\t\t0\t2019-03-15 09:46:45.458509+00\n",
    "\n",
    "# Recording\n",
    "# 24365864\t6a355a78-06c0-4e06-a15e-05d6e533255e\tSunday Bloody Sunday\t197\t366000\t\t0\t2019-03-15 12:29:22.049215+00\tf\n",
    "\n",
    "# Track\n",
    "# 27710495\tfc969b10-fdba-4b0c-82d9-aa6a7179e41f\t24365864\t2571008\t7\t7\tSunday Bloody Sunday\t197\t366000\t0\t2019-03-15 12:29:22.049215+00\tf\n",
    "ts = timestat(\"Loading Recording Data\")\n",
    "files = glob(\"mbdump/track\")\n",
    "trackData = {fileInfo(ifile).basename: loadData(ifile) for ifile in files}\n",
    "print(\"Keys: {0}\".format(trackData.keys()))\n",
    "trackData = {key: val[list(colnames[key].keys())].rename(columns=colnames[key]) for key,val in trackData.items() if key in colnames} if colnames is not None else trackData\n",
    "print(\"Keys: {0}\".format(trackData.keys()))\n",
    "ts.stop()"
   ]
  },
  {
   "cell_type": "markdown",
   "metadata": {
    "heading_collapsed": true
   },
   "source": [
    "# Release"
   ]
  },
  {
   "cell_type": "code",
   "execution_count": null,
   "metadata": {
    "hidden": true
   },
   "outputs": [],
   "source": [
    "colnames = {}\n",
    "#colnames[\"release_alias_type\"] = {0: \"ReleaseAliasTypeID\", 1: \"ReleaseAliasTypeName\"}\n",
    "#colnames[\"release_alias\"] = {0: \"ReleaseAliasID\", 1: \"ReleaseID\", 2: \"ReleaseAliasName\", 3: \"ReleaseAliasLang\", 7: \"ReleaseAliasName2\"}\n",
    "colnames[\"release_status\"] = {0: \"ReleaseStatusID\", 1: \"ReleaseStatusName\", 3: \"NA3\", 3: \"ReleaseStatusDescr\", 4: \"ReleaseStatusGID\"}\n",
    "colnames[\"release_packaging\"] = {0: \"ReleasePackagingID\", 1: \"ReleasePackagingName\", 3: \"NA3\", 4: \"ReleasePackagingDescr\", 5: \"ReleaseStatusGID\"}\n",
    "colnames[\"release_label\"] = {0: \"Index\", 1: \"ReleaseID\", 2: \"LabelID\", 3: \"CatalogNumber\"}\n",
    "colnames[\"release_country\"] = {0: \"ReleaseID\", 1: \"ReleaseCountryID\", 2: \"ReleaseCountryYear\", 3: \"ReleaseCountryMonth\", 4: \"ReleaseCountryDay\"}\n",
    "colnames[\"release_unknown_country\"] = {0: \"ReleaseID\", 1: \"ReleaseCountryYear\", 2: \"ReleaseCountryMonth\", 3: \"ReleaseCountryDay\"}\n",
    "colnames[\"release\"] = {0: \"ReleaseID\", 1: \"ReleaseGID\", 2: \"ReleaseName\", 3: \"ArtistID\", 4: \"ReleaseGroupID\", 5: \"ReleaseStatusID\", \n",
    "                       6: \"ReleasePackagingID\", 7: \"LanguageID\", 8: \"ScriptID\", 9: \"ReleaseBarcode\", 10: \"ReleaseComment\", 11: \"NA11\", 12: \"NA12\"}\n",
    "\n",
    "ts = timestat(\"Loading Release Data\")\n",
    "files = [ifile for ifile in glob(\"mbdump/release*\") if \"group\" not in ifile]\n",
    "releaseData = getData(files, colnames)\n",
    "releaseData = setIndex(releaseData)\n",
    "ts.stop()"
   ]
  },
  {
   "cell_type": "markdown",
   "metadata": {
    "hidden": true
   },
   "source": [
    "## Append Data And Create Master Release DataFrame"
   ]
  },
  {
   "cell_type": "code",
   "execution_count": null,
   "metadata": {
    "hidden": true
   },
   "outputs": [],
   "source": [
    "tsRelease = timestat(\"Appending Release Data\")\n",
    "\n",
    "ts = timestat(\"Creating Release Country DateTime For {0} Releases\".format(releaseData['release_country'].shape[0]))\n",
    "tmp = releaseData['release_country'][[\"ReleaseCountryYear\", \"ReleaseCountryMonth\", \"ReleaseCountryDay\"]]\n",
    "tmp.columns = [\"year\", \"month\", \"day\"]\n",
    "releaseData['release_country']['ReleaseDate'] = to_datetime(tmp, errors='ignore')\n",
    "releaseData['release_country'].drop([\"ReleaseCountryYear\", \"ReleaseCountryMonth\", \"ReleaseCountryDay\"], axis=1, inplace=True)\n",
    "ts.stop()\n",
    "\n",
    "ts = timestat(\"Creating Release Unknown Country DateTime For {0} Releases\".format(releaseData['release_unknown_country'].shape[0]))\n",
    "tmp = releaseData['release_unknown_country'][[\"ReleaseCountryYear\", \"ReleaseCountryMonth\", \"ReleaseCountryDay\"]]\n",
    "tmp.columns = [\"year\", \"month\", \"day\"]\n",
    "releaseData['release_unknown_country']['ReleaseDate'] = to_datetime(tmp, errors='ignore')\n",
    "releaseData['release_unknown_country'].drop([\"ReleaseCountryYear\", \"ReleaseCountryMonth\", \"ReleaseCountryDay\"], axis=1, inplace=True)\n",
    "ts.stop()\n",
    "\n",
    "ts = timestat(\"Joining Country Area\")\n",
    "dAreaName = areaData['area']['AreaName'].to_dict()\n",
    "releaseData['release_country'][\"Country\"] = releaseData['release_country']['ReleaseCountryID'].apply(lambda x: dAreaName.get(x) if not isna(x) else None)\n",
    "releaseData['release_country'].drop([\"ReleaseCountryID\"], axis=1, inplace=True)\n",
    "ts.stop()\n",
    "\n",
    "ts = timestat(\"Joining Release Packaging Name\")\n",
    "dReleasePackagingName = releaseData['release_packaging']['ReleasePackagingName'].to_dict()\n",
    "releaseData['release'][\"Packaging\"] = releaseData['release']['ReleasePackagingID'].apply(lambda x: dReleasePackagingName.get(int(x)) if (not isna(x) and x.isdigit()) else None)\n",
    "releaseData['release'].drop([\"ReleasePackagingID\"], axis=1, inplace=True)\n",
    "ts.stop()\n",
    "\n",
    "ts = timestat(\"Joining Release Status Name\")\n",
    "dReleaseStatusName = releaseData['release_status']['ReleaseStatusName'].to_dict()\n",
    "releaseData['release'][\"Status\"] = releaseData['release']['ReleaseStatusID'].apply(lambda x: dReleaseStatusName.get(int(x)) if (not isna(x) and x.isdigit()) else None)\n",
    "releaseData['release'].drop([\"ReleaseStatusID\"], axis=1, inplace=True)\n",
    "ts.stop()\n",
    "\n",
    "ts = timestat(\"Joining Release Language Name\")\n",
    "dLanguageName = languageData['language']['LanguageName'].to_dict()\n",
    "releaseData['release'][\"Language\"] = releaseData['release']['LanguageID'].apply(lambda x: dLanguageName.get(int(x)) if (not isna(x) and x.isdigit()) else None)\n",
    "releaseData['release'].drop([\"LanguageID\"], axis=1, inplace=True)\n",
    "ts.stop()\n",
    "\n",
    "ts = timestat(\"Joining Release Script Name\")\n",
    "dScriptName = scriptData['script']['ScriptName'].to_dict()\n",
    "releaseData['release'][\"Script\"] = releaseData['release']['ScriptID'].apply(lambda x: dScriptName.get(int(x)) if (not isna(x) and x.isdigit()) else None)\n",
    "releaseData['release'].drop([\"ScriptID\"], axis=1, inplace=True)\n",
    "ts.stop()\n",
    "\n",
    "ts = timestat(\"Joining Country/Release Date\")\n",
    "tmp = concat([releaseData['release_country'], releaseData['release_unknown_country']]).reset_index()\n",
    "releaseIDDate = tmp.sort_values(by=\"ReleaseDate\").drop_duplicates(subset=\"ReleaseID\")\n",
    "releaseIDDate.index = releaseIDDate['ReleaseID']\n",
    "releaseIDDate.drop([\"ReleaseID\"], axis=1, inplace=True)\n",
    "releaseData['release'] = releaseData['release'].join(releaseIDDate)\n",
    "ts.stop()\n",
    "\n",
    "ts = timestat(\"Joining Label Data\")\n",
    "dLabelName = labelData['label']['LabelName'].to_dict()\n",
    "releaseData['release_label'][\"Label\"] = releaseData['release_label']['LabelID'].apply(lambda x: dLabelName.get(int(x)) if (not isna(x) and x.isdigit()) else None)\n",
    "releaseLabel = releaseData['release_label'].drop_duplicates(subset=\"ReleaseID\")[[\"ReleaseID\", \"Label\"]].copy(deep=True)\n",
    "releaseLabel[\"Label\"].index = releaseLabel[\"ReleaseID\"]\n",
    "releaseData['release'].join(releaseLabel)\n",
    "ts.stop()\n",
    "\n",
    "ts = timestat(\"Dropping Last Columns\")\n",
    "releaseData['release'].drop([\"ReleaseComment\", \"ReleaseBarcode\", \"NA11\", \"NA12\"], axis=1, inplace=True)\n",
    "ts.stop()\n",
    "\n",
    "\n",
    "savedir = setDir(basedir, \"MusicBrainzData\")\n",
    "savename = setFile(savedir, \"{0}.p\".format(\"ReleaseDataFrame\"))\n",
    "ts = timestat(\"Saving Master Release DataFrame To {0}\".format(savename))\n",
    "pickleIO().save(idata=releaseData['release'], ifile=savename)\n",
    "fsize = fileInfo(savename).fsize\n",
    "print(\"Master Release DataFrame is {0}{1}\".format(fsize[0], fsize[1]))\n",
    "ts.stop()\n",
    "\n",
    "\n",
    "tsRelease.stop()"
   ]
  },
  {
   "cell_type": "markdown",
   "metadata": {
    "heading_collapsed": true
   },
   "source": [
    "# Release-Group"
   ]
  },
  {
   "cell_type": "code",
   "execution_count": null,
   "metadata": {
    "hidden": true
   },
   "outputs": [],
   "source": [
    "colnames = {}\n",
    "#colnames[\"release_group_alias_type\"] = {0: \"ReleaseGroupAliasTypeID\", 1: \"ReleaseGroupAliasTypeName\"}\n",
    "#colnames[\"release_group_alias\"] = {0: \"ReleaseGroupAliasID\", 1: \"NA1\", 2: \"ReleaseGroupAliasName\", 3: \"ReleaseGroupAliasLang\", 7: \"ReleaseGroupAliasName2\"}\n",
    "colnames[\"release_group_primary_type\"] = {0: \"ReleaseGroupPrimaryTypeID\", 1: \"ReleaseGroupPrimaryTypeName\", 3: \"NA3\"}\n",
    "colnames[\"release_group_secondary_type\"] = {0: \"ReleaseGroupSecondaryTypeID\", 1: \"ReleaseGroupSecondaryTypeName\"}\n",
    "colnames[\"release_group\"] = {0: \"ReleaseGroupID\", 1: \"ReleaseGroupGID\", 2: \"ReleaseGroupName\", 3: \"ArtistID\", 4: \"ReleaseGroupPrimaryTypeID\", 5: \"ReleaseGroupComment\", 6: \"NA6\"}\n",
    "colnames[\"release_group_secondary_type_join\"] = {0: \"ReleaseGroupID\", 1: \"ReleaseGroupSecondaryTypeID\"}\n",
    "\n",
    "ts = timestat(\"Loading Release Data\")\n",
    "files = [ifile for ifile in glob(\"mbdump/release*\") if \"group\" in ifile]\n",
    "releaseGroupData = getData(files, colnames)\n",
    "releaseGroupData = setIndex(releaseGroupData)\n",
    "ts.stop()"
   ]
  },
  {
   "cell_type": "markdown",
   "metadata": {
    "hidden": true
   },
   "source": [
    "## Append Data And Create Master ReleaseGroup DataFrame"
   ]
  },
  {
   "cell_type": "code",
   "execution_count": null,
   "metadata": {
    "hidden": true
   },
   "outputs": [],
   "source": [
    "tsReleaseGroup = timestat(\"Appending ReleaseGroup Data\")\n",
    "\n",
    "ts = timestat(\"Joining Secondary Type Names\")\n",
    "dReleaseGroupSecondaryTypeName = releaseGroupData['release_group_secondary_type']['ReleaseGroupSecondaryTypeName'].to_dict()\n",
    "releaseGroupData['release_group_secondary_type_join']['ReleaseGroupSecondaryType'] = releaseGroupData['release_group_secondary_type_join']['ReleaseGroupSecondaryTypeID'].apply(lambda x: dReleaseGroupSecondaryTypeName.get(x) if not isna(x) else None)\n",
    "releaseGroupData['release_group_secondary_type_join'].drop([\"ReleaseGroupSecondaryTypeID\"], axis=1, inplace=True)\n",
    "ts.stop()\n",
    "\n",
    "ts = timestat(\"Joining Primary Type Names\")\n",
    "dReleaseGroupPrimaryTypeName = releaseGroupData['release_group_primary_type']['ReleaseGroupPrimaryTypeName'].to_dict()\n",
    "releaseGroupData['release_group']['ReleaseGroupPrimaryType'] = releaseGroupData['release_group']['ReleaseGroupPrimaryTypeID'].apply(lambda x: dReleaseGroupPrimaryTypeName.get(int(x)) if (not isna(x) and x.isdigit()) else None)\n",
    "releaseGroupData['release_group'].drop([\"ReleaseGroupPrimaryTypeID\"], axis=1, inplace=True)\n",
    "ts.stop()\n",
    "\n",
    "ts = timestat(\"Joining Release Group And Secondary Type Join Data\")\n",
    "releaseGroupData['release_group'] = releaseGroupData['release_group'].join(releaseGroupData['release_group_secondary_type_join'])\n",
    "ts.stop()\n",
    "\n",
    "ts = timestat(\"Dropping Last Columns\")\n",
    "releaseGroupData['release_group'].drop([\"NA6\", \"ReleaseGroupComment\"], axis=1, inplace=True)\n",
    "ts.stop()\n",
    "\n",
    "\n",
    "savedir = setDir(basedir, \"MusicBrainzData\")\n",
    "savename = setFile(savedir, \"{0}.p\".format(\"ReleaseGroupDataFrame\"))\n",
    "ts = timestat(\"Saving Master ReleaseGroup DataFrame To {0} (~20 sec)\".format(savename))\n",
    "from fileIO import pickleIO\n",
    "pickleIO().save(idata=releaseGroupData['release_group'], ifile=savename)\n",
    "fsize = fileInfo(savename).fsize\n",
    "print(\"Master ReleaseGroup DataFrame is {0}{1}\".format(fsize[0], fsize[1]))\n",
    "ts.stop()\n",
    "\n",
    "\n",
    "tsReleaseGroup.stop()\n",
    "\n",
    "del releaseGroupData"
   ]
  },
  {
   "cell_type": "markdown",
   "metadata": {},
   "source": [
    "# Artist"
   ]
  },
  {
   "cell_type": "code",
   "execution_count": 9,
   "metadata": {},
   "outputs": [
    {
     "name": "stdout",
     "output_type": "stream",
     "text": [
      "Current Time is Fri Nov 26, 2021 20:14 for Loading Artist Data\n"
     ]
    },
    {
     "name": "stderr",
     "output_type": "stream",
     "text": [
      "/var/folders/j1/syf62l4j46q052mwy0366byh0000gn/T/ipykernel_6427/1110452294.py:14: DtypeWarning: Columns (14) have mixed types.Specify dtype option on import or set low_memory=False.\n",
      "  mbdata = csvIO().get(ifile, delimiter=\"\\t\", header=None)\n"
     ]
    },
    {
     "name": "stdout",
     "output_type": "stream",
     "text": [
      "Keys: dict_keys(['artist', 'artist_alias', 'artist_alias_type', 'artist_credit', 'artist_gid_redirect', 'artist_ipi', 'artist_isni', 'artist_type'])\n",
      "Keys: dict_keys(['artist', 'artist_alias', 'artist_alias_type', 'artist_credit', 'artist_isni', 'artist_type'])\n",
      "Process [Loading Artist Data] Took 15.6 Seconds\n"
     ]
    }
   ],
   "source": [
    "colnames = {}\n",
    "colnames[\"artist_credit\"] = {0: \"ArtistCreditID\", 1: \"ArtistCreditName\", 2: \"ArtistCreditNum\", 3: \"NA3\"}\n",
    "colnames[\"artist_type\"] = {0: \"ArtistTypeID\", 1: \"ArtistTypeName\", 2: \"NA2\", 3: \"NA3\", 4: \"ArtistTypeDescr\", 5: \"ArtistTypeGID\"}\n",
    "colnames[\"artist_isni\"] = {0: \"ArtistID\", 1: \"ISNICode\"}\n",
    "colnames[\"artist_alias_type\"] = {0: \"ArtistAliasTypeID\", 1: \"ArtistAliasTypeName\", 5: \"ArtistAliasTypeGID\"}\n",
    "colnames[\"artist_alias\"] = {0: \"ArtistAliasID\", 1: \"ArtistID\", 2: \"ArtistAliasName\", 3: \"ArtistAliasLang\", 7: \"ArtistAliasSortName\"}\n",
    "colnames[\"artist\"] = {0: \"ArtistID\", 1: \"ArtistGID\", 2: \"ArtistName\", 3: \"ArtistSortName\",\n",
    "                      4: \"FormedYear\", 5: \"FormedMonth\", 6: \"FormedDay\", \n",
    "                      7: \"DisbandedYear\", 8: \"DisbandedMonth\", 9: \"DisbandedDay\", \n",
    "                      10: \"ArtistTypeID\", 11: \"CountryAreaID\", 12: \"GenderID\", 13: \"ArtistDescr\", 14: \"NA14\", 17: \"FoundedInAreaID\", 18: \"DisbandedInAreaID\"}\n",
    "\n",
    "ts = timestat(\"Loading Artist Data\")\n",
    "files = [ifile for ifile in glob(\"mbdump/artist*\") if ifile not in [\"mbdump/artist_credit_name\"]]\n",
    "artistData = getData(files, colnames)\n",
    "artistData = setIndex(artistData)\n",
    "ts.stop()"
   ]
  },
  {
   "cell_type": "markdown",
   "metadata": {},
   "source": [
    "## Append Data And Create Master Artist DataFrame"
   ]
  },
  {
   "cell_type": "code",
   "execution_count": 10,
   "metadata": {},
   "outputs": [
    {
     "name": "stdout",
     "output_type": "stream",
     "text": [
      "Current Time is Fri Nov 26, 2021 20:15 for Appending Artist Data\n",
      "Current Time is Fri Nov 26, 2021 20:15 for Creating Formed/Disbanded DateTime For 1881211 Artists (~7 sec)\n",
      "Process [Creating Formed/Disbanded DateTime For 1881211 Artists (~7 sec)] Took 6.4 Seconds\n",
      "Current Time is Fri Nov 26, 2021 20:15 for Joining Artist Type\n",
      "Process [Joining Artist Type] Took 1.6 Seconds\n",
      "Current Time is Fri Nov 26, 2021 20:15 for Joining Gender Type\n",
      "Process [Joining Gender Type] Took 1.5 Seconds\n",
      "Current Time is Fri Nov 26, 2021 20:15 for Joining Area Type\n",
      "Process [Joining Area Type] Took 3.1 Seconds\n",
      "Current Time is Fri Nov 26, 2021 20:15 for Joining ISNI\n",
      "Process [Joining ISNI] Took 3.7 Seconds\n",
      "Current Time is Fri Nov 26, 2021 20:15 for Collecting and Joining Artist Aliases (~40 sec)\n",
      "Process [Collecting and Joining Artist Aliases (~40 sec)] Took 14.5 Seconds\n",
      "Current Time is Fri Nov 26, 2021 20:15 for Dropping Last Columns\n",
      "Process [Dropping Last Columns] Took 1.0 Seconds\n",
      "Current Time is Fri Nov 26, 2021 20:15 for Saving Master Artist DataFrame To /Volumes/Seagate/DB/MusicBrainzData/ArtistDataFrame.p (~20 sec)\n",
      "Process [Saving Master Artist DataFrame To /Volumes/Seagate/DB/MusicBrainzData/ArtistDataFrame.p (~20 sec)] Took 9.4 Seconds\n",
      "Process [Appending Artist Data] Took 41.2 Seconds\n"
     ]
    }
   ],
   "source": [
    "tsArtist = timestat(\"Appending Artist Data\")\n",
    "\n",
    "ts = timestat(\"Creating Formed/Disbanded DateTime For {0} Artists (~7 sec)\".format(artistData['artist'].shape[0]))\n",
    "artistData['artist']['Formed']    = convertToDatetime(artistData['artist'][\"FormedYear\"], artistData['artist'][\"FormedMonth\"], artistData['artist'][\"FormedDay\"])\n",
    "artistData['artist']['Disbanded'] = convertToDatetime(artistData['artist'][\"DisbandedYear\"], artistData['artist'][\"DisbandedMonth\"], artistData['artist'][\"DisbandedDay\"])\n",
    "artistData['artist'].drop([\"FormedYear\", \"FormedMonth\", \"FormedDay\", \"DisbandedYear\", \"DisbandedMonth\", \"DisbandedDay\"], axis=1, inplace=True)\n",
    "ts.stop()\n",
    "\n",
    "ts = timestat(\"Joining Artist Type\")\n",
    "dArtistTypeName = artistData['artist_type'][\"ArtistTypeName\"].to_dict()\n",
    "artistData['artist'][\"ArtistType\"] = artistData['artist']['ArtistTypeID'].apply(lambda x: dArtistTypeName.get(int(x)) if (not isna(x) and x.isdigit()) else None)\n",
    "artistData['artist'].drop([\"ArtistTypeID\"], axis=1, inplace=True)\n",
    "ts.stop()\n",
    "\n",
    "ts = timestat(\"Joining Gender Type\")\n",
    "artistData['artist']['Gender'] = artistData['artist']['GenderID'].apply(lambda x: dGenderName.get(int(x)) if (not isna(x) and x.isdigit()) else None)\n",
    "artistData['artist'].drop([\"GenderID\"], axis=1, inplace=True)\n",
    "ts.stop()\n",
    "\n",
    "ts = timestat(\"Joining Area Type\")\n",
    "artistData['artist'][\"Country\"]     = artistData['artist']['CountryAreaID'].apply(lambda x: dAreaName.get(int(x)) if (not isna(x) and x.isdigit()) else None)\n",
    "artistData['artist'][\"FormedIn\"]    = artistData['artist']['FoundedInAreaID'].apply(lambda x: dAreaName.get(int(x)) if (not isna(x) and x.isdigit()) else None)\n",
    "artistData['artist'][\"DisbandedIn\"] = artistData['artist']['DisbandedInAreaID'].apply(lambda x: dAreaName.get(int(x)) if (not isna(x) and x.isdigit()) else None)\n",
    "artistData['artist'].drop([\"CountryAreaID\", \"FoundedInAreaID\", \"DisbandedInAreaID\"], axis=1, inplace=True)\n",
    "ts.stop()\n",
    "\n",
    "ts = timestat(\"Joining ISNI\")\n",
    "artistData['artist'] = artistData['artist'].join(artistData['artist_isni'])\n",
    "ts.stop()\n",
    "\n",
    "ts = timestat(\"Collecting and Joining Artist Aliases (~40 sec)\")\n",
    "artistAliases = DataFrame(Series({artistID: df[\"ArtistAliasName\"].to_list() for artistID,df in artistData['artist_alias'].groupby(\"ArtistID\")}))\n",
    "artistAliases.columns = [\"Aliases\"]\n",
    "artistData['artist'] = artistData['artist'].join(artistAliases)\n",
    "ts.stop()\n",
    "\n",
    "\n",
    "ts = timestat(\"Dropping Last Columns\")\n",
    "artistData['artist'].drop([\"ArtistDescr\", \"NA14\"], axis=1, inplace=True)\n",
    "ts.stop()\n",
    "\n",
    "\n",
    "savedir = setDir(basedir, \"MusicBrainzData\")\n",
    "savename = setFile(savedir, \"{0}.p\".format(\"ArtistDataFrame\"))\n",
    "ts = timestat(\"Saving Master Artist DataFrame To {0} (~20 sec)\".format(savename))\n",
    "from fileIO import pickleIO\n",
    "pickleIO().save(idata=artistData['artist'], ifile=savename)\n",
    "#fsize = fileInfo(savename).fsize\n",
    "#print(\"Master Artist DataFrame is {0}{1}\".format(fsize[0], fsize[1]))\n",
    "ts.stop()\n",
    "\n",
    "tsArtist.stop()\n",
    "#del artistData"
   ]
  },
  {
   "cell_type": "code",
   "execution_count": 16,
   "metadata": {},
   "outputs": [
    {
     "data": {
      "text/html": [
       "<div>\n",
       "<style scoped>\n",
       "    .dataframe tbody tr th:only-of-type {\n",
       "        vertical-align: middle;\n",
       "    }\n",
       "\n",
       "    .dataframe tbody tr th {\n",
       "        vertical-align: top;\n",
       "    }\n",
       "\n",
       "    .dataframe thead th {\n",
       "        text-align: right;\n",
       "    }\n",
       "</style>\n",
       "<table border=\"1\" class=\"dataframe\">\n",
       "  <thead>\n",
       "    <tr style=\"text-align: right;\">\n",
       "      <th></th>\n",
       "      <th>ArtistGID</th>\n",
       "      <th>ArtistName</th>\n",
       "      <th>ArtistSortName</th>\n",
       "      <th>Formed</th>\n",
       "      <th>Disbanded</th>\n",
       "      <th>ArtistType</th>\n",
       "      <th>Gender</th>\n",
       "      <th>Country</th>\n",
       "      <th>FormedIn</th>\n",
       "      <th>DisbandedIn</th>\n",
       "      <th>ISNICode</th>\n",
       "      <th>Aliases</th>\n",
       "    </tr>\n",
       "  </thead>\n",
       "  <tbody>\n",
       "    <tr>\n",
       "      <th>1</th>\n",
       "      <td>89ad4ac3-39f7-470e-963a-56509c546377</td>\n",
       "      <td>Various Artists</td>\n",
       "      <td>Various Artists</td>\n",
       "      <td>NaT</td>\n",
       "      <td>NaT</td>\n",
       "      <td>Other</td>\n",
       "      <td>None</td>\n",
       "      <td>None</td>\n",
       "      <td>None</td>\n",
       "      <td>None</td>\n",
       "      <td>NaN</td>\n",
       "      <td>[مختلف الفنانين, 여러 아티스트, Various Artists, Div...</td>\n",
       "    </tr>\n",
       "    <tr>\n",
       "      <th>2</th>\n",
       "      <td>c06aa285-520e-40c0-b776-83d2c9e8a6d1</td>\n",
       "      <td>Deleted Artist</td>\n",
       "      <td>Deleted Artist</td>\n",
       "      <td>NaT</td>\n",
       "      <td>NaT</td>\n",
       "      <td>None</td>\n",
       "      <td>None</td>\n",
       "      <td>None</td>\n",
       "      <td>None</td>\n",
       "      <td>None</td>\n",
       "      <td>NaN</td>\n",
       "      <td>NaN</td>\n",
       "    </tr>\n",
       "    <tr>\n",
       "      <th>4</th>\n",
       "      <td>10adbe5e-a2c0-4bf3-8249-2b4cbf6e6ca8</td>\n",
       "      <td>Massive Attack</td>\n",
       "      <td>Massive Attack</td>\n",
       "      <td>NaT</td>\n",
       "      <td>NaT</td>\n",
       "      <td>Group</td>\n",
       "      <td>None</td>\n",
       "      <td>Bristol</td>\n",
       "      <td>Bristol</td>\n",
       "      <td>None</td>\n",
       "      <td>0000000123699799</td>\n",
       "      <td>[Massiv Attack, Massive]</td>\n",
       "    </tr>\n",
       "    <tr>\n",
       "      <th>6</th>\n",
       "      <td>ea738cc5-5b1a-44a4-94ab-ed0c1bd71ecf</td>\n",
       "      <td>Apartment 26</td>\n",
       "      <td>Apartment 26</td>\n",
       "      <td>NaT</td>\n",
       "      <td>NaT</td>\n",
       "      <td>Group</td>\n",
       "      <td>None</td>\n",
       "      <td>United Kingdom</td>\n",
       "      <td>Royal Leamington Spa</td>\n",
       "      <td>None</td>\n",
       "      <td>NaN</td>\n",
       "      <td>NaN</td>\n",
       "    </tr>\n",
       "    <tr>\n",
       "      <th>7</th>\n",
       "      <td>025d1400-5420-4fc8-a482-2b59096fd22c</td>\n",
       "      <td>Dr. Evil</td>\n",
       "      <td>Dr. Evil</td>\n",
       "      <td>NaT</td>\n",
       "      <td>NaT</td>\n",
       "      <td>Character</td>\n",
       "      <td>Male</td>\n",
       "      <td>None</td>\n",
       "      <td>None</td>\n",
       "      <td>None</td>\n",
       "      <td>NaN</td>\n",
       "      <td>NaN</td>\n",
       "    </tr>\n",
       "  </tbody>\n",
       "</table>\n",
       "</div>"
      ],
      "text/plain": [
       "                              ArtistGID       ArtistName   ArtistSortName  \\\n",
       "1  89ad4ac3-39f7-470e-963a-56509c546377  Various Artists  Various Artists   \n",
       "2  c06aa285-520e-40c0-b776-83d2c9e8a6d1   Deleted Artist   Deleted Artist   \n",
       "4  10adbe5e-a2c0-4bf3-8249-2b4cbf6e6ca8   Massive Attack   Massive Attack   \n",
       "6  ea738cc5-5b1a-44a4-94ab-ed0c1bd71ecf     Apartment 26     Apartment 26   \n",
       "7  025d1400-5420-4fc8-a482-2b59096fd22c         Dr. Evil         Dr. Evil   \n",
       "\n",
       "  Formed Disbanded ArtistType Gender         Country              FormedIn  \\\n",
       "1    NaT       NaT      Other   None            None                  None   \n",
       "2    NaT       NaT       None   None            None                  None   \n",
       "4    NaT       NaT      Group   None         Bristol               Bristol   \n",
       "6    NaT       NaT      Group   None  United Kingdom  Royal Leamington Spa   \n",
       "7    NaT       NaT  Character   Male            None                  None   \n",
       "\n",
       "  DisbandedIn          ISNICode  \\\n",
       "1        None               NaN   \n",
       "2        None               NaN   \n",
       "4        None  0000000123699799   \n",
       "6        None               NaN   \n",
       "7        None               NaN   \n",
       "\n",
       "                                             Aliases  \n",
       "1  [مختلف الفنانين, 여러 아티스트, Various Artists, Div...  \n",
       "2                                                NaN  \n",
       "4                           [Massiv Attack, Massive]  \n",
       "6                                                NaN  \n",
       "7                                                NaN  "
      ]
     },
     "execution_count": 16,
     "metadata": {},
     "output_type": "execute_result"
    }
   ],
   "source": [
    "artistData['artist'].head()"
   ]
  },
  {
   "cell_type": "markdown",
   "metadata": {},
   "source": [
    "## Artist <=> URL"
   ]
  },
  {
   "cell_type": "code",
   "execution_count": 17,
   "metadata": {},
   "outputs": [
    {
     "data": {
      "text/html": [
       "<div>\n",
       "<style scoped>\n",
       "    .dataframe tbody tr th:only-of-type {\n",
       "        vertical-align: middle;\n",
       "    }\n",
       "\n",
       "    .dataframe tbody tr th {\n",
       "        vertical-align: top;\n",
       "    }\n",
       "\n",
       "    .dataframe thead th {\n",
       "        text-align: right;\n",
       "    }\n",
       "</style>\n",
       "<table border=\"1\" class=\"dataframe\">\n",
       "  <thead>\n",
       "    <tr style=\"text-align: right;\">\n",
       "      <th></th>\n",
       "      <th>ArtistGID</th>\n",
       "      <th>ArtistName</th>\n",
       "      <th>ArtistSortName</th>\n",
       "      <th>Formed</th>\n",
       "      <th>Disbanded</th>\n",
       "      <th>ArtistType</th>\n",
       "      <th>Gender</th>\n",
       "      <th>Country</th>\n",
       "      <th>FormedIn</th>\n",
       "      <th>DisbandedIn</th>\n",
       "      <th>ISNICode</th>\n",
       "      <th>Aliases</th>\n",
       "    </tr>\n",
       "  </thead>\n",
       "  <tbody>\n",
       "    <tr>\n",
       "      <th>11285</th>\n",
       "      <td>b972f589-fb0e-474e-b64a-803b0364fa75</td>\n",
       "      <td>Wolfgang Amadeus Mozart</td>\n",
       "      <td>Mozart, Wolfgang Amadeus</td>\n",
       "      <td>1756-01-27</td>\n",
       "      <td>1791-12-05</td>\n",
       "      <td>Person</td>\n",
       "      <td>Male</td>\n",
       "      <td>Austria</td>\n",
       "      <td>Salzburg</td>\n",
       "      <td>Wien</td>\n",
       "      <td>0000000121269154</td>\n",
       "      <td>[Wolfgang Anadeus Mozart, Volfgangs Amadejs Mo...</td>\n",
       "    </tr>\n",
       "  </tbody>\n",
       "</table>\n",
       "</div>"
      ],
      "text/plain": [
       "                                  ArtistGID               ArtistName  \\\n",
       "11285  b972f589-fb0e-474e-b64a-803b0364fa75  Wolfgang Amadeus Mozart   \n",
       "\n",
       "                 ArtistSortName     Formed  Disbanded ArtistType Gender  \\\n",
       "11285  Mozart, Wolfgang Amadeus 1756-01-27 1791-12-05     Person   Male   \n",
       "\n",
       "       Country  FormedIn DisbandedIn          ISNICode  \\\n",
       "11285  Austria  Salzburg        Wien  0000000121269154   \n",
       "\n",
       "                                                 Aliases  \n",
       "11285  [Wolfgang Anadeus Mozart, Volfgangs Amadejs Mo...  "
      ]
     },
     "execution_count": 17,
     "metadata": {},
     "output_type": "execute_result"
    }
   ],
   "source": [
    "artistData['artist'][artistData['artist'][\"ArtistGID\"] == \"b972f589-fb0e-474e-b64a-803b0364fa75\"]"
   ]
  },
  {
   "cell_type": "code",
   "execution_count": null,
   "metadata": {},
   "outputs": [],
   "source": [
    "colnames[\"l_artist_url\"] = {0: \"LookupID\", 1: \"NA1\", 2: \"ArtistID\", 3: \"URLID\", 6: \"NA6\", 7: \"NA7\"}\n",
    "\n",
    "ts = timestat(\"Loading Artist <=> URL Data\")\n",
    "files = [ifile for ifile in glob(\"mbdump/l_artist_url\")]\n",
    "lookupData = getData(files, colnames)\n",
    "lookupData = setIndex(artistData)\n",
    "ts.stop()\n",
    "\n",
    "ts = timestat(\"Loading Artist Data\")\n",
    "files = [ifile for ifile in glob(\"mbdump/artist*\") if ifile not in [\"mbdump/artist_credit_name\"]]\n",
    "artistData = getData(files, colnames)\n"
   ]
  },
  {
   "cell_type": "code",
   "execution_count": 20,
   "metadata": {},
   "outputs": [],
   "source": [
    "artistURLLookup = loadData('mbdump/l_artist_url')"
   ]
  },
  {
   "cell_type": "code",
   "execution_count": 25,
   "metadata": {},
   "outputs": [],
   "source": [
    "mozartURLs = urlData['url'][urlData['url'][\"URLName\"].str.contains(\"Mozart\")]"
   ]
  },
  {
   "cell_type": "code",
   "execution_count": 27,
   "metadata": {},
   "outputs": [
    {
     "data": {
      "text/html": [
       "<div>\n",
       "<style scoped>\n",
       "    .dataframe tbody tr th:only-of-type {\n",
       "        vertical-align: middle;\n",
       "    }\n",
       "\n",
       "    .dataframe tbody tr th {\n",
       "        vertical-align: top;\n",
       "    }\n",
       "\n",
       "    .dataframe thead th {\n",
       "        text-align: right;\n",
       "    }\n",
       "</style>\n",
       "<table border=\"1\" class=\"dataframe\">\n",
       "  <thead>\n",
       "    <tr style=\"text-align: right;\">\n",
       "      <th></th>\n",
       "      <th>URLGID</th>\n",
       "      <th>URLName</th>\n",
       "    </tr>\n",
       "    <tr>\n",
       "      <th>URLID</th>\n",
       "      <th></th>\n",
       "      <th></th>\n",
       "    </tr>\n",
       "  </thead>\n",
       "  <tbody>\n",
       "    <tr>\n",
       "      <th>307776</th>\n",
       "      <td>68bdea58-aee0-4bc3-9aa5-4a2ac43cecb3</td>\n",
       "      <td>https://www.discogs.com/artist/95546</td>\n",
       "    </tr>\n",
       "  </tbody>\n",
       "</table>\n",
       "</div>"
      ],
      "text/plain": [
       "                                      URLGID  \\\n",
       "URLID                                          \n",
       "307776  68bdea58-aee0-4bc3-9aa5-4a2ac43cecb3   \n",
       "\n",
       "                                     URLName  \n",
       "URLID                                         \n",
       "307776  https://www.discogs.com/artist/95546  "
      ]
     },
     "execution_count": 27,
     "metadata": {},
     "output_type": "execute_result"
    }
   ],
   "source": [
    "urlData['url'][urlData['url']['URLName'] == \"https://www.discogs.com/artist/95546\"]"
   ]
  },
  {
   "cell_type": "code",
   "execution_count": 32,
   "metadata": {},
   "outputs": [
    {
     "name": "stdout",
     "output_type": "stream",
     "text": [
      "(8141987, 2)\n"
     ]
    },
    {
     "data": {
      "text/html": [
       "<div>\n",
       "<style scoped>\n",
       "    .dataframe tbody tr th:only-of-type {\n",
       "        vertical-align: middle;\n",
       "    }\n",
       "\n",
       "    .dataframe tbody tr th {\n",
       "        vertical-align: top;\n",
       "    }\n",
       "\n",
       "    .dataframe thead th {\n",
       "        text-align: right;\n",
       "    }\n",
       "</style>\n",
       "<table border=\"1\" class=\"dataframe\">\n",
       "  <thead>\n",
       "    <tr style=\"text-align: right;\">\n",
       "      <th></th>\n",
       "      <th>0</th>\n",
       "      <th>1</th>\n",
       "      <th>2</th>\n",
       "      <th>3</th>\n",
       "      <th>4</th>\n",
       "      <th>5</th>\n",
       "      <th>6</th>\n",
       "      <th>7</th>\n",
       "      <th>8</th>\n",
       "    </tr>\n",
       "  </thead>\n",
       "  <tbody>\n",
       "    <tr>\n",
       "      <th>0</th>\n",
       "      <td>219492</td>\n",
       "      <td>26038</td>\n",
       "      <td>4</td>\n",
       "      <td>12092</td>\n",
       "      <td>0</td>\n",
       "      <td>2011-05-16 16:31:52.155025+00</td>\n",
       "      <td>0</td>\n",
       "      <td>NaN</td>\n",
       "      <td>NaN</td>\n",
       "    </tr>\n",
       "    <tr>\n",
       "      <th>1</th>\n",
       "      <td>207305</td>\n",
       "      <td>26038</td>\n",
       "      <td>6</td>\n",
       "      <td>22104</td>\n",
       "      <td>0</td>\n",
       "      <td>2011-05-16 16:31:52.155025+00</td>\n",
       "      <td>0</td>\n",
       "      <td>NaN</td>\n",
       "      <td>NaN</td>\n",
       "    </tr>\n",
       "    <tr>\n",
       "      <th>2</th>\n",
       "      <td>206858</td>\n",
       "      <td>26038</td>\n",
       "      <td>7</td>\n",
       "      <td>22105</td>\n",
       "      <td>0</td>\n",
       "      <td>2011-05-16 16:31:52.155025+00</td>\n",
       "      <td>0</td>\n",
       "      <td>NaN</td>\n",
       "      <td>NaN</td>\n",
       "    </tr>\n",
       "    <tr>\n",
       "      <th>3</th>\n",
       "      <td>206980</td>\n",
       "      <td>26038</td>\n",
       "      <td>8</td>\n",
       "      <td>22107</td>\n",
       "      <td>0</td>\n",
       "      <td>2011-05-16 16:31:52.155025+00</td>\n",
       "      <td>0</td>\n",
       "      <td>NaN</td>\n",
       "      <td>NaN</td>\n",
       "    </tr>\n",
       "    <tr>\n",
       "      <th>4</th>\n",
       "      <td>206685</td>\n",
       "      <td>26038</td>\n",
       "      <td>9</td>\n",
       "      <td>22108</td>\n",
       "      <td>0</td>\n",
       "      <td>2011-05-16 16:31:52.155025+00</td>\n",
       "      <td>0</td>\n",
       "      <td>NaN</td>\n",
       "      <td>NaN</td>\n",
       "    </tr>\n",
       "    <tr>\n",
       "      <th>...</th>\n",
       "      <td>...</td>\n",
       "      <td>...</td>\n",
       "      <td>...</td>\n",
       "      <td>...</td>\n",
       "      <td>...</td>\n",
       "      <td>...</td>\n",
       "      <td>...</td>\n",
       "      <td>...</td>\n",
       "      <td>...</td>\n",
       "    </tr>\n",
       "    <tr>\n",
       "      <th>3254195</th>\n",
       "      <td>3458849</td>\n",
       "      <td>26040</td>\n",
       "      <td>443074</td>\n",
       "      <td>8612799</td>\n",
       "      <td>0</td>\n",
       "      <td>2021-10-09 00:17:33.915799+00</td>\n",
       "      <td>0</td>\n",
       "      <td>NaN</td>\n",
       "      <td>NaN</td>\n",
       "    </tr>\n",
       "    <tr>\n",
       "      <th>3254196</th>\n",
       "      <td>3458850</td>\n",
       "      <td>26062</td>\n",
       "      <td>443074</td>\n",
       "      <td>8612800</td>\n",
       "      <td>0</td>\n",
       "      <td>2021-10-09 00:17:33.915799+00</td>\n",
       "      <td>0</td>\n",
       "      <td>NaN</td>\n",
       "      <td>NaN</td>\n",
       "    </tr>\n",
       "    <tr>\n",
       "      <th>3254197</th>\n",
       "      <td>3458851</td>\n",
       "      <td>49052</td>\n",
       "      <td>443074</td>\n",
       "      <td>8612801</td>\n",
       "      <td>0</td>\n",
       "      <td>2021-10-09 00:17:33.915799+00</td>\n",
       "      <td>0</td>\n",
       "      <td>NaN</td>\n",
       "      <td>NaN</td>\n",
       "    </tr>\n",
       "    <tr>\n",
       "      <th>3254198</th>\n",
       "      <td>3458852</td>\n",
       "      <td>26052</td>\n",
       "      <td>443074</td>\n",
       "      <td>8612802</td>\n",
       "      <td>0</td>\n",
       "      <td>2021-10-09 00:17:33.915799+00</td>\n",
       "      <td>0</td>\n",
       "      <td>NaN</td>\n",
       "      <td>NaN</td>\n",
       "    </tr>\n",
       "    <tr>\n",
       "      <th>3254199</th>\n",
       "      <td>3458853</td>\n",
       "      <td>26055</td>\n",
       "      <td>443074</td>\n",
       "      <td>8612803</td>\n",
       "      <td>0</td>\n",
       "      <td>2021-10-09 00:17:33.915799+00</td>\n",
       "      <td>0</td>\n",
       "      <td>NaN</td>\n",
       "      <td>NaN</td>\n",
       "    </tr>\n",
       "  </tbody>\n",
       "</table>\n",
       "<p>3254200 rows × 9 columns</p>\n",
       "</div>"
      ],
      "text/plain": [
       "               0      1       2        3  4                              5  6  \\\n",
       "0         219492  26038       4    12092  0  2011-05-16 16:31:52.155025+00  0   \n",
       "1         207305  26038       6    22104  0  2011-05-16 16:31:52.155025+00  0   \n",
       "2         206858  26038       7    22105  0  2011-05-16 16:31:52.155025+00  0   \n",
       "3         206980  26038       8    22107  0  2011-05-16 16:31:52.155025+00  0   \n",
       "4         206685  26038       9    22108  0  2011-05-16 16:31:52.155025+00  0   \n",
       "...          ...    ...     ...      ... ..                            ... ..   \n",
       "3254195  3458849  26040  443074  8612799  0  2021-10-09 00:17:33.915799+00  0   \n",
       "3254196  3458850  26062  443074  8612800  0  2021-10-09 00:17:33.915799+00  0   \n",
       "3254197  3458851  49052  443074  8612801  0  2021-10-09 00:17:33.915799+00  0   \n",
       "3254198  3458852  26052  443074  8612802  0  2021-10-09 00:17:33.915799+00  0   \n",
       "3254199  3458853  26055  443074  8612803  0  2021-10-09 00:17:33.915799+00  0   \n",
       "\n",
       "           7   8  \n",
       "0        NaN NaN  \n",
       "1        NaN NaN  \n",
       "2        NaN NaN  \n",
       "3        NaN NaN  \n",
       "4        NaN NaN  \n",
       "...      ...  ..  \n",
       "3254195  NaN NaN  \n",
       "3254196  NaN NaN  \n",
       "3254197  NaN NaN  \n",
       "3254198  NaN NaN  \n",
       "3254199  NaN NaN  \n",
       "\n",
       "[3254200 rows x 9 columns]"
      ]
     },
     "execution_count": 32,
     "metadata": {},
     "output_type": "execute_result"
    }
   ],
   "source": [
    "print(urlData['url'].shape)\n",
    "artistURLLookup"
   ]
  },
  {
   "cell_type": "code",
   "execution_count": 35,
   "metadata": {},
   "outputs": [
    {
     "data": {
      "text/plain": [
       "0                          3458853\n",
       "1                           851038\n",
       "2                          2230479\n",
       "3                          8612803\n",
       "4                                5\n",
       "5    2021-10-09 00:17:33.915799+00\n",
       "6                                0\n",
       "8                              NaN\n",
       "dtype: object"
      ]
     },
     "execution_count": 35,
     "metadata": {},
     "output_type": "execute_result"
    }
   ],
   "source": [
    "artistURLLookup.nunique()\n",
    "\"\"\"\n",
    "0    3254200\n",
    "1       2798\n",
    "2    1154965\n",
    "3    3220945\n",
    "4          6\n",
    "5    1871971\n",
    "6          1\n",
    "7      13483\n",
    "8          0\n",
    "\"\"\"\n",
    "artistURLLookup.max()"
   ]
  },
  {
   "cell_type": "code",
   "execution_count": 36,
   "metadata": {},
   "outputs": [
    {
     "data": {
      "text/plain": [
       "2230479"
      ]
     },
     "execution_count": 36,
     "metadata": {},
     "output_type": "execute_result"
    }
   ],
   "source": [
    "artistData['artist'].index.max()"
   ]
  },
  {
   "cell_type": "code",
   "execution_count": 33,
   "metadata": {},
   "outputs": [
    {
     "data": {
      "text/html": [
       "<div>\n",
       "<style scoped>\n",
       "    .dataframe tbody tr th:only-of-type {\n",
       "        vertical-align: middle;\n",
       "    }\n",
       "\n",
       "    .dataframe tbody tr th {\n",
       "        vertical-align: top;\n",
       "    }\n",
       "\n",
       "    .dataframe thead th {\n",
       "        text-align: right;\n",
       "    }\n",
       "</style>\n",
       "<table border=\"1\" class=\"dataframe\">\n",
       "  <thead>\n",
       "    <tr style=\"text-align: right;\">\n",
       "      <th></th>\n",
       "      <th>URLGID</th>\n",
       "      <th>URLName</th>\n",
       "    </tr>\n",
       "    <tr>\n",
       "      <th>URLID</th>\n",
       "      <th></th>\n",
       "      <th></th>\n",
       "    </tr>\n",
       "  </thead>\n",
       "  <tbody>\n",
       "    <tr>\n",
       "      <th>5980861</th>\n",
       "      <td>d232c890-d7a6-4888-a65e-94744a334f45</td>\n",
       "      <td>https://open.spotify.com/artist/4QtHE540B0R3NR...</td>\n",
       "    </tr>\n",
       "    <tr>\n",
       "      <th>5980862</th>\n",
       "      <td>cfd6fdad-5bad-4cf3-81c0-bea569a5a7c5</td>\n",
       "      <td>https://www.deezer.com/artist/11438082</td>\n",
       "    </tr>\n",
       "    <tr>\n",
       "      <th>3909279</th>\n",
       "      <td>df0d4cd1-0b14-4bfc-bb42-a27e3b41b7fc</td>\n",
       "      <td>https://rateyourmusic.com/artist/patrick_swayze</td>\n",
       "    </tr>\n",
       "    <tr>\n",
       "      <th>5987806</th>\n",
       "      <td>3f5b8f79-b4fd-4bf4-81ec-9a9fad7ec978</td>\n",
       "      <td>https://www.discogs.com/artist/1512600</td>\n",
       "    </tr>\n",
       "    <tr>\n",
       "      <th>610152</th>\n",
       "      <td>49fe6d0e-5c55-4fe4-bc4a-ea6a93b55f89</td>\n",
       "      <td>https://www.amazon.com/gp/product/B00004W9F5</td>\n",
       "    </tr>\n",
       "  </tbody>\n",
       "</table>\n",
       "</div>"
      ],
      "text/plain": [
       "                                       URLGID  \\\n",
       "URLID                                           \n",
       "5980861  d232c890-d7a6-4888-a65e-94744a334f45   \n",
       "5980862  cfd6fdad-5bad-4cf3-81c0-bea569a5a7c5   \n",
       "3909279  df0d4cd1-0b14-4bfc-bb42-a27e3b41b7fc   \n",
       "5987806  3f5b8f79-b4fd-4bf4-81ec-9a9fad7ec978   \n",
       "610152   49fe6d0e-5c55-4fe4-bc4a-ea6a93b55f89   \n",
       "\n",
       "                                                   URLName  \n",
       "URLID                                                       \n",
       "5980861  https://open.spotify.com/artist/4QtHE540B0R3NR...  \n",
       "5980862             https://www.deezer.com/artist/11438082  \n",
       "3909279    https://rateyourmusic.com/artist/patrick_swayze  \n",
       "5987806             https://www.discogs.com/artist/1512600  \n",
       "610152        https://www.amazon.com/gp/product/B00004W9F5  "
      ]
     },
     "execution_count": 33,
     "metadata": {},
     "output_type": "execute_result"
    }
   ],
   "source": [
    "urlData['url'].head()"
   ]
  },
  {
   "cell_type": "code",
   "execution_count": null,
   "metadata": {},
   "outputs": [],
   "source": []
  },
  {
   "cell_type": "markdown",
   "metadata": {},
   "source": [
    "# Master Artist Summary Data"
   ]
  },
  {
   "cell_type": "code",
   "execution_count": null,
   "metadata": {},
   "outputs": [],
   "source": [
    "savedir = setDir(basedir, \"MusicBrainzData\")\n",
    "io = fileIO()\n",
    "ts = timestat(\"Loading Master Data\")\n",
    "masterArtistData = io.get(setFile(savedir, \"{0}.p\".format(\"ArtistDataFrame\")))\n",
    "masterReleaseGroupData = io.get(setFile(savedir, \"{0}.p\".format(\"ReleaseGroupDataFrame\")))\n",
    "ts.stop()"
   ]
  },
  {
   "cell_type": "code",
   "execution_count": null,
   "metadata": {},
   "outputs": [],
   "source": [
    "Nmod = 100"
   ]
  },
  {
   "cell_type": "code",
   "execution_count": null,
   "metadata": {},
   "outputs": [],
   "source": [
    "from dbArtistID import artistIDMusicBrainz\n",
    "mbID = artistIDMusicBrainz()\n",
    "ts = timestat(\"Setting My ArtistID From MusicBrainz GID\")\n",
    "masterArtistData[\"MyArtistID\"] = masterArtistData['ArtistGID'].apply(mbID.getArtistID)\n",
    "ts.stop()"
   ]
  },
  {
   "cell_type": "code",
   "execution_count": null,
   "metadata": {},
   "outputs": [],
   "source": [
    "def createReleaseGroupKey(x):\n",
    "    key = None\n",
    "    primary   = x['ReleaseGroupPrimaryType']\n",
    "    secondary = x['ReleaseGroupSecondaryType']\n",
    "    if isinstance(primary, str) and isinstance(secondary, str):\n",
    "        key = \" + \".join([primary, secondary])\n",
    "    elif isinstance(primary, str):\n",
    "        key = primary\n",
    "    elif isinstance(secondary, str):\n",
    "        key = secondary\n",
    "    else:\n",
    "        key = \"Unknown\"\n",
    "    return key\n",
    "    \n",
    "ts = timestat(\"Setting ReleaseGroup Key (~1 min)\")\n",
    "masterReleaseGroupData[\"ReleaseGroupKey\"] = masterReleaseGroupData.apply(createReleaseGroupKey, axis=1)\n",
    "ts.stop()"
   ]
  },
  {
   "cell_type": "code",
   "execution_count": null,
   "metadata": {},
   "outputs": [],
   "source": [
    "from artistDBBase import artistDBBase, artistDBDataClass\n",
    "from artistDBBase import artistDBNameClass, artistDBMetaClass, artistDBIDClass, artistDBURLClass, artistDBPageClass\n",
    "from artistDBBase import artistDBProfileClass, artistDBMediaClass, artistDBMediaAlbumClass\n",
    "from artistDBBase import artistDBMediaDataClass, artistDBMediaCountsClass, artistDBFileInfoClass\n",
    "from artistDBBase import artistDBTextClass, artistDBLinkClass\n",
    "from strUtils import fixName\n",
    "from dbUtils import utilsDiscogs\n",
    "\n",
    "def getMediaCounts(media):\n",
    "    amcc = artistDBMediaCountsClass()\n",
    "\n",
    "    credittype = \"Releases\"\n",
    "    if amcc.counts.get(credittype) == None:\n",
    "        amcc.counts[credittype] = {}\n",
    "    for creditsubtype in media.media.keys():\n",
    "        amcc.counts[credittype][creditsubtype] = int(len(media.media[creditsubtype]))\n",
    "\n",
    "    return amcc\n",
    "\n",
    "savedir = setDir(basedir, \"MusicBrainzMetadata\")\n",
    "tsAll = timestat(\"Creating DB Data\")\n",
    "for m,modVal in enumerate(range(Nmod)):\n",
    "    \n",
    "    ts = timestat(\"Creating ModData Subset\")\n",
    "    artistModData = masterArtistData[masterArtistData[\"MyArtistID\"].apply(lambda x: int(x)%Nmod) == modVal]\n",
    "    releaseGroupModData = masterReleaseGroupData[masterReleaseGroupData[\"ArtistID\"].isin(artistModData.index)]\n",
    "    ts.stop()\n",
    "\n",
    "    modValData = {}\n",
    "    N = artistModData.shape[0]\n",
    "    tsMod = timestat(\"Creating DB Data From {0} Artists For ModVal={1}\".format(N,modVal))\n",
    "    for i,(artistID,artistData) in enumerate(artistModData.iterrows()):\n",
    "        artistName  = artistData[\"ArtistName\"]\n",
    "        artistGID   = artistData['ArtistGID']\n",
    "        url         = \"https://musicbrainz.org/artist/{0}\".format(artistGID)\n",
    "        myID        = artistData[\"MyArtistID\"]\n",
    "\n",
    "        generalData = {}\n",
    "        generalData[\"SortName\"]   = artistData[\"ArtistSortName\"]\n",
    "        generalData[\"Aliases\"]    = artistData[\"Aliases\"]\n",
    "        generalData[\"Gender\"]     = artistData[\"Gender\"]\n",
    "        generalData[\"County\"]     = artistData[\"Country\"]\n",
    "        generalData[\"Formed\"]     = artistData[\"Formed\"]\n",
    "        generalData[\"Disbanded\"]  = artistData[\"Disbanded\"]\n",
    "        generalData[\"ArtistType\"] = artistData[\"ArtistType\"]\n",
    "        generalData[\"ISNI\"]       = artistData[\"ISNICode\"]\n",
    "        generalData = {k: v for k,v in generalData.items() if v is not None}\n",
    "        generalData = generalData if len(generalData) > 0 else None\n",
    "\n",
    "        \n",
    "        ########################################################################\n",
    "        # Get Releases\n",
    "        ########################################################################\n",
    "        artistReleaseGroupData = releaseGroupModData[releaseGroupModData[\"ArtistID\"] == artistID]\n",
    "        mediaData = {}\n",
    "        for mediaName,mediaNameData in artistReleaseGroupData.groupby(\"ReleaseGroupKey\"):\n",
    "            mediaData[mediaName] = []\n",
    "            for code, releaseGroupInfo in mediaNameData.iterrows():\n",
    "                album        = releaseGroupInfo['ReleaseGroupName']\n",
    "                albumURL     = \"https://musicbrainz.org/releasegroup/{0}\".format(releaseGroupInfo['ReleaseGroupGID'])\n",
    "                albumArtists = [artistName]\n",
    "            \n",
    "                amdc = artistDBMediaDataClass(album=album, url=albumURL, artist=albumArtists, code=code, year=None)\n",
    "                mediaData[mediaName].append(amdc)\n",
    "            \n",
    "            \n",
    "        artist      = artistDBNameClass(name=artistName, err=None)\n",
    "        meta        = artistDBMetaClass(title=None, url=url)\n",
    "        url         = artistDBURLClass(url=url)\n",
    "        ID          = artistDBIDClass(ID=myID)\n",
    "        pages       = artistDBPageClass(ppp=1, tot=1, redo=False, more=False)\n",
    "        profile     = artistDBProfileClass(general=generalData)\n",
    "        media       = artistDBMediaClass()\n",
    "        media.media = mediaData\n",
    "        mediaCounts = getMediaCounts(media)\n",
    "        info        = artistDBFileInfoClass(info=None)\n",
    "        \n",
    "        modValData[myID] = artistDBDataClass(artist=artist, meta=meta, url=url, ID=ID, pages=pages, profile=profile, mediaCounts=mediaCounts, media=media, info=info)\n",
    "        \n",
    "        if (i+1) % 7500 == 0 or (i+1) == 2500:\n",
    "            tsMod.update(n=i+1, N=N)\n",
    "    tsMod.stop()\n",
    "            \n",
    "    outdir = setDir(basedir, \"MusicBrainzDBData\")\n",
    "    io.save(idata=Series(modValData), ifile=setFile(outdir, \"{0}-{1}.p\".format(modVal, \"DB\")))\n",
    "    tsAll.update(n=m, N=Nmod)\n",
    "    print(\"\\n\")\n",
    "tsAll.stop()"
   ]
  },
  {
   "cell_type": "markdown",
   "metadata": {},
   "source": [
    "# Merge With Known DB"
   ]
  },
  {
   "cell_type": "code",
   "execution_count": null,
   "metadata": {},
   "outputs": [],
   "source": [
    "ts = timestat(\"Merging DBs\")\n",
    "for n,modVal in enumerate(range(100)):\n",
    "    newDB = Series(io.get(\"/Volumes/Seagate/DB/MusicBrainzDBData/{0}-DB.p\".format(modVal)))\n",
    "    known = io.get(\"/Users/tgadfort/dbdiscogs/artists-musicbrainz-db/{0}-DB.p\".format(modVal))\n",
    "    \n",
    "    toMerge = newDB[~newDB.index.isin(known.index)]\n",
    "    fullDB = concat([known,toMerge]).sort_index()\n",
    "    io.save(idata=fullDB, ifile=\"/Users/tgadfort/dbdiscogs/artists-musicbrainz-db/full/{0}-DB.p\".format(modVal))\n",
    "    ts.update(n=n+1,N=100)\n",
    "ts.stop()"
   ]
  },
  {
   "cell_type": "code",
   "execution_count": null,
   "metadata": {},
   "outputs": [],
   "source": [
    "known.shape"
   ]
  },
  {
   "cell_type": "code",
   "execution_count": null,
   "metadata": {},
   "outputs": [],
   "source": [
    "tmp['172552485256597266680385033568580864600'].show()"
   ]
  },
  {
   "cell_type": "code",
   "execution_count": null,
   "metadata": {},
   "outputs": [],
   "source": [
    "masterArtistData = artistData['artist'][[\"ArtistGID\", \"ArtistName\", \"ArtistSortName\", \"Formed\", \"Disbanded\"]].copy(deep=True)\n",
    "masterArtistNumAlbums = artistIDNumReleaseGroups.join(artistIDNumRelease, how='outer')\n",
    "masterArtistData = masterArtistData.join(masterArtistNumAlbums)\n",
    "masterArtistData[\"NumReleaseGroups\"] = masterArtistData[\"NumReleaseGroups\"].fillna(0).apply(int)\n",
    "masterArtistData[\"NumReleases\"] = masterArtistData[\"NumReleases\"].fillna(0).apply(int)"
   ]
  },
  {
   "cell_type": "code",
   "execution_count": null,
   "metadata": {},
   "outputs": [],
   "source": [
    "masterArtistData"
   ]
  },
  {
   "cell_type": "code",
   "execution_count": null,
   "metadata": {},
   "outputs": [],
   "source": [
    "masterartistNumAlbums"
   ]
  },
  {
   "cell_type": "code",
   "execution_count": null,
   "metadata": {},
   "outputs": [],
   "source": [
    "artistIDNumReleaseGroups.shape"
   ]
  },
  {
   "cell_type": "code",
   "execution_count": null,
   "metadata": {},
   "outputs": [],
   "source": [
    "artistIDNumRelease.shape"
   ]
  },
  {
   "cell_type": "code",
   "execution_count": null,
   "metadata": {},
   "outputs": [],
   "source": [
    "artistData['artist'][artistData['artist']['ArtistID'] == aIDs[\"ArianaGrande\"]]"
   ]
  },
  {
   "cell_type": "code",
   "execution_count": null,
   "metadata": {},
   "outputs": [],
   "source": [
    "artistData['artist'][artistData['artist']['ArtistID'] == aIDs[\"BuddyHolly\"]]"
   ]
  },
  {
   "cell_type": "code",
   "execution_count": null,
   "metadata": {},
   "outputs": [],
   "source": [
    "artistData['artist'][artistData['artist']['ArtistID'] == aIDs[\"Bono\"]]"
   ]
  },
  {
   "cell_type": "code",
   "execution_count": null,
   "metadata": {},
   "outputs": [],
   "source": [
    "artistData['artist'][artistData['artist']['ArtistID'] == aIDs[\"Rupaul\"]]"
   ]
  },
  {
   "cell_type": "code",
   "execution_count": null,
   "metadata": {},
   "outputs": [],
   "source": [
    "artistData['artist'][artistData['artist']['ArtistID'] == aIDs[\"U2\"]]"
   ]
  },
  {
   "cell_type": "code",
   "execution_count": null,
   "metadata": {},
   "outputs": [],
   "source": [
    "artistData['artist'][artistData['artist']['ArtistID'] == aIDs[\"DMB\"]]"
   ]
  },
  {
   "cell_type": "code",
   "execution_count": null,
   "metadata": {},
   "outputs": [],
   "source": [
    "artistData['artist'][\"NA18\"].value_counts()"
   ]
  },
  {
   "cell_type": "code",
   "execution_count": null,
   "metadata": {},
   "outputs": [],
   "source": [
    "artistData['artist'][\"NA9\"].value_counts()"
   ]
  },
  {
   "cell_type": "code",
   "execution_count": null,
   "metadata": {},
   "outputs": [],
   "source": [
    "artistData['artist']['NA12'].unique()"
   ]
  },
  {
   "cell_type": "code",
   "execution_count": null,
   "metadata": {},
   "outputs": [],
   "source": [
    "artistData['artist']['NA5'].unique()"
   ]
  },
  {
   "cell_type": "code",
   "execution_count": null,
   "metadata": {},
   "outputs": [],
   "source": [
    "artistData['artist'][artistData['artist']['ArtistGID'] == '7f347782-eb14-40c3-98e2-17b6e1bfe56c']"
   ]
  },
  {
   "cell_type": "code",
   "execution_count": null,
   "metadata": {},
   "outputs": [],
   "source": [
    "artistData[\"artist\"][artistData[\"artist\"][\"ArtistID\"] == 502]"
   ]
  },
  {
   "cell_type": "code",
   "execution_count": null,
   "metadata": {},
   "outputs": [],
   "source": [
    "artistData[\"artist\"]['NA10'].unique()"
   ]
  },
  {
   "cell_type": "code",
   "execution_count": null,
   "metadata": {},
   "outputs": [],
   "source": [
    "artistData[\"artist\"][artistData[\"artist\"][\"ArtistID\"] == 197]"
   ]
  },
  {
   "cell_type": "markdown",
   "metadata": {},
   "source": [
    "# Artist Lookup"
   ]
  },
  {
   "cell_type": "code",
   "execution_count": null,
   "metadata": {},
   "outputs": [],
   "source": [
    "colnames[\"l_artist_url\"]={0: \"ArtistURLLID\", 1: \"URLGroupID\", 2: \"ArtistID\", 3: \"URLID\"}\n",
    "colnames[\"l_artist_release_group\"]={0: \"ArtistReleaseGroupLID\", 1: \"ReleaseGroupGroupID\", 2: \"ArtistID\", 3: \"ReleaseGroupID\"}\n",
    "colnames[\"l_artist_release\"]={0: \"ArtistReleaseLID\", 1: \"ReleaseGroupID\", 2: \"ArtistID\", 3: \"ReleaseID\"}\n",
    "\n",
    "ts = timestat(\"Loading Artist Data\")\n",
    "files = glob(\"mbdump/l_artist_*\")\n",
    "lookupData = {fileInfo(ifile).basename: loadData(ifile) for ifile in files}\n",
    "lookupData = {key: val[list(colnames[key].keys())].rename(columns=colnames[key]) for key,val in lookupData.items() if key in colnames} if lookupData is not None else lookupData\n",
    "print(\"Keys: {0}\".format(lookupData.keys()))\n",
    "ts.stop()"
   ]
  },
  {
   "cell_type": "code",
   "execution_count": null,
   "metadata": {},
   "outputs": [],
   "source": [
    "files = glob(\"mbdump/l_artist_release\")\n",
    "lookupData = {fileInfo(ifile).basename: loadData(ifile) for ifile in files}"
   ]
  },
  {
   "cell_type": "code",
   "execution_count": null,
   "metadata": {},
   "outputs": [],
   "source": [
    "lookupData['l_artist_release'][\"ReleaseGroupID\"].nunique()"
   ]
  },
  {
   "cell_type": "code",
   "execution_count": null,
   "metadata": {},
   "outputs": [],
   "source": [
    "lookupData['l_artist_release'][lookupData['l_artist_release']['ArtistID'] == 502]"
   ]
  },
  {
   "cell_type": "code",
   "execution_count": null,
   "metadata": {},
   "outputs": [],
   "source": [
    "key='l_artist_url'\n",
    "lookupData['l_artist_url'] = lookupData['l_artist_url'][list(colnames[key].keys())].rename(columns=colnames[key])"
   ]
  },
  {
   "cell_type": "code",
   "execution_count": null,
   "metadata": {},
   "outputs": [],
   "source": [
    "print(urlData['url'][urlData['url'][\"URLName\"].eq(\"https://www.discogs.com/artist/6520\")])\n",
    "print(urlData['url'][urlData['url'][\"URLName\"].eq(\"https://www.allmusic.com/artist/mn0000219203\")])"
   ]
  },
  {
   "cell_type": "code",
   "execution_count": null,
   "metadata": {},
   "outputs": [],
   "source": [
    "lookupData[\"l_artist_url\"][lookupData[\"l_artist_url\"][\"URLID\"].isin([3017,993955])]"
   ]
  },
  {
   "cell_type": "code",
   "execution_count": null,
   "metadata": {},
   "outputs": [],
   "source": [
    "from pandas import merge\n",
    "dmbAU = lookupData[\"l_artist_url\"][lookupData[\"l_artist_url\"]['ArtistID'] == 502].copy(deep=True)\n",
    "u2AU  = lookupData[\"l_artist_url\"][lookupData[\"l_artist_url\"]['ArtistID'] == 197].copy(deep=True)"
   ]
  },
  {
   "cell_type": "code",
   "execution_count": null,
   "metadata": {},
   "outputs": [],
   "source": [
    "dmbURLs = merge(dmbAU, urlData['url'], how='left', on=[\"URLID\"]).copy(deep=True)\n",
    "u2URLs  = merge(u2AU, urlData['url'], how='left', on=[\"URLID\"]).copy(deep=True)"
   ]
  },
  {
   "cell_type": "code",
   "execution_count": null,
   "metadata": {},
   "outputs": [],
   "source": [
    "dmbURLs[\"URLDomain\"] = dmbURLs[\"URLName\"].apply(lambda x: x.replace(\"https://\", \"\").replace(\"http://\", \"\").split('/')[0])"
   ]
  },
  {
   "cell_type": "code",
   "execution_count": null,
   "metadata": {},
   "outputs": [],
   "source": [
    "u2URLs[\"URLDomain\"] = u2URLs[\"URLName\"].apply(lambda x: x.replace(\"https://\", \"\").replace(\"http://\", \"\").split('/')[0])"
   ]
  },
  {
   "cell_type": "code",
   "execution_count": null,
   "metadata": {},
   "outputs": [],
   "source": [
    "u2URLs[[\"NA1\", \"URLDomain\"]].sort_values(by=\"NA1\").T"
   ]
  },
  {
   "cell_type": "code",
   "execution_count": null,
   "metadata": {},
   "outputs": [],
   "source": [
    "dmbURLs[[\"NA1\", \"URLDomain\"]].sort_values(by=\"NA1\").T"
   ]
  },
  {
   "cell_type": "code",
   "execution_count": null,
   "metadata": {},
   "outputs": [],
   "source": [
    "artistData[\"artist\"][artistData[\"artist\"].eq(8723).any(1)]"
   ]
  },
  {
   "cell_type": "code",
   "execution_count": null,
   "metadata": {},
   "outputs": [],
   "source": [
    "urlData['url'].shape"
   ]
  },
  {
   "cell_type": "code",
   "execution_count": null,
   "metadata": {},
   "outputs": [],
   "source": []
  },
  {
   "cell_type": "code",
   "execution_count": null,
   "metadata": {},
   "outputs": [],
   "source": [
    "lookupData[\"l_artist_url\"][lookupData[\"l_artist_url\"].eq(1025971).any(1)]"
   ]
  },
  {
   "cell_type": "code",
   "execution_count": null,
   "metadata": {},
   "outputs": [],
   "source": [
    "lookupData[\"l_artist_url\"][lookupData[\"l_artist_url\"].eq(2625).any(1)]"
   ]
  },
  {
   "cell_type": "code",
   "execution_count": null,
   "metadata": {},
   "outputs": [],
   "source": [
    "lookupData[\"l_artist_url\"][lookupData[\"l_artist_url\"][2].eq(502).any(1)]"
   ]
  },
  {
   "cell_type": "code",
   "execution_count": null,
   "metadata": {},
   "outputs": [],
   "source": [
    "DMB={AllMusic = 1025971 (c94225e3-2f0c-4c6d-9115-9f268fb7c31b), Discogs = 2625 (7a157b6e-d01d-4248-9995-edb05652c5b2)}"
   ]
  },
  {
   "cell_type": "code",
   "execution_count": null,
   "metadata": {},
   "outputs": [],
   "source": []
  },
  {
   "cell_type": "code",
   "execution_count": null,
   "metadata": {},
   "outputs": [],
   "source": []
  },
  {
   "cell_type": "code",
   "execution_count": null,
   "metadata": {},
   "outputs": [],
   "source": [
    "artistData['artist']"
   ]
  },
  {
   "cell_type": "code",
   "execution_count": null,
   "metadata": {},
   "outputs": [],
   "source": [
    "colnames = {0: \"ArtistID\", 1: \"NA1\", 2: \"NA2\": 3: \"NA3\"}\n",
    "lookupData[\"l_artist_artist\"][lookupData[\"l_artist_artist\"].eq(502).any(1)]"
   ]
  },
  {
   "cell_type": "code",
   "execution_count": null,
   "metadata": {},
   "outputs": [],
   "source": [
    "urlData['url'][urlData['url'][\"URLName\"].eq(\"https://www.discogs.com/artist/6520\")]\n",
    "urlData['url'][urlData['url'][\"URLName\"].eq(\"https://www.allmusic.com/artist/mn0000219203\")]"
   ]
  },
  {
   "cell_type": "code",
   "execution_count": null,
   "metadata": {},
   "outputs": [],
   "source": []
  },
  {
   "cell_type": "markdown",
   "metadata": {},
   "source": []
  },
  {
   "cell_type": "code",
   "execution_count": null,
   "metadata": {},
   "outputs": [],
   "source": [
    "502\n",
    "07e748f1-075e-428d-85dc-ce3be434e906"
   ]
  }
 ],
 "metadata": {
  "kernelspec": {
   "display_name": "Python 3 (ipykernel)",
   "language": "python",
   "name": "python3"
  },
  "language_info": {
   "codemirror_mode": {
    "name": "ipython",
    "version": 3
   },
   "file_extension": ".py",
   "mimetype": "text/x-python",
   "name": "python",
   "nbconvert_exporter": "python",
   "pygments_lexer": "ipython3",
   "version": "3.9.7"
  },
  "toc": {
   "base_numbering": 1,
   "nav_menu": {},
   "number_sections": true,
   "sideBar": true,
   "skip_h1_title": false,
   "title_cell": "Table of Contents",
   "title_sidebar": "Contents",
   "toc_cell": false,
   "toc_position": {},
   "toc_section_display": true,
   "toc_window_display": false
  }
 },
 "nbformat": 4,
 "nbformat_minor": 4
}
