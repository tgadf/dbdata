{
 "cells": [
  {
   "cell_type": "code",
   "execution_count": null,
   "metadata": {},
   "outputs": [],
   "source": [
    "######################################################\n",
    "# Juypter\n",
    "######################################################\n",
    "%load_ext autoreload\n",
    "%autoreload\n",
    "from IPython.core.display import display, HTML\n",
    "display(HTML(\"<style>.container { width:100% !important; }</style>\"))\n",
    "display(HTML(\"\"\"<style>div.output_area{max-height:10000px;overflow:scroll;}</style>\"\"\"))\n",
    "\n",
    "\n",
    "\n",
    "################################################################################\n",
    "## Music DB\n",
    "################################################################################\n",
    "from mainDB import mainDB\n",
    "from musicDBMap import musicDBMap\n",
    "from masterDBMatchClass import masterDBMatchClass\n",
    "from matchDBArtist import matchDBArtist\n",
    "\n",
    "from dbArtistsParseExtra import dbArtistsAssertExtra, dbArtistsExtra\n",
    "\n",
    "######################################################\n",
    "# Versions\n",
    "######################################################\n",
    "from timeUtils import clock, elapsed\n",
    "import sys\n",
    "print(\"Python: {0}\".format(sys.version))\n",
    "import datetime as dt\n",
    "start = dt.datetime.now()\n",
    "print(\"Notebook Last Run Initiated: \"+str(start))"
   ]
  },
  {
   "cell_type": "code",
   "execution_count": null,
   "metadata": {},
   "outputs": [],
   "source": [
    "#!python setup.py install"
   ]
  },
  {
   "cell_type": "markdown",
   "metadata": {},
   "source": [
    "# RateYourMusic"
   ]
  },
  {
   "cell_type": "code",
   "execution_count": null,
   "metadata": {},
   "outputs": [],
   "source": [
    "%load_ext autoreload\n",
    "%autoreload\n",
    "from dbArtistsRateYourMusic import dbArtistsRateYourMusic\n",
    "from dbArtistsParse import dbArtistsPrimary, dbArtistsCredit, dbArtistsExtra\n",
    "from dbArtistsParse import dbArtistsAssertCredit, dbArtistsRawHTML\n",
    "\n",
    "#dbAP = dbArtistsRawHTML(dbArtistsRateYourMusic())\n",
    "#dbAP.parse(previousDays=1)"
   ]
  },
  {
   "cell_type": "code",
   "execution_count": null,
   "metadata": {},
   "outputs": [],
   "source": [
    "%autoreload\n",
    "for modVal in range(1):\n",
    "    dbAP = dbArtistsPrimary(dbArtistsRateYourMusic())\n",
    "    dometa = dbAP.parse(modVal, previousDays=None, force=True, debug=False)\n",
    "    dometa = True\n",
    "    continue\n",
    "    if dometa:\n",
    "        dbAP.createArtistMetadata(modVal)\n",
    "        dbAP.createAlbumMetadata(modVal)"
   ]
  },
  {
   "cell_type": "code",
   "execution_count": null,
   "metadata": {},
   "outputs": [],
   "source": [
    "%autoreload\n",
    "from parseDBArtistsData import parseDBArtistsData\n",
    "from dbArtistsParse import dbArtistsRawHTML\n",
    "from dbArtistsRateYourMusic import dbArtistsRateYourMusic\n",
    "pdb = parseDBArtistsData()\n",
    "dbAP = dbArtistsRawHTML(dbArtistsRateYourMusic())\n",
    "dbAP.parse(previousDays=7)"
   ]
  },
  {
   "cell_type": "code",
   "execution_count": null,
   "metadata": {},
   "outputs": [],
   "source": [
    "from webUtils import getHTML\n",
    "bsdata = getHTML(\"/Volumes/Piggy/Discog/artists-rateyourmusic/39/393739.p\")"
   ]
  },
  {
   "cell_type": "code",
   "execution_count": null,
   "metadata": {},
   "outputs": [],
   "source": [
    "%autoreload\n",
    "dbAP = dbArtistsRateYourMusic(debug=True)\n",
    "#retval = dbAP.artist.getData(\"/Volumes/Piggy/Discog/artists-rateyourmusic/39/393739.p\")\n",
    "retval = dbAP.artist.getData(\"/Volumes/Piggy/Discog/artists-rateyourmusic/5/2605.p\")\n",
    "#retval = dbAP.artist.getData(\"/Volumes/Piggy/Discog/artists-rateyourmusic/72/80772.p\")\n",
    "#retval = dbAP.artist.getData(\"/Volumes/Piggy/Discog/artists-rateyourmusic/10/7410.p\")"
   ]
  },
  {
   "cell_type": "code",
   "execution_count": null,
   "metadata": {},
   "outputs": [],
   "source": [
    "retval.profile.currently.get()"
   ]
  },
  {
   "cell_type": "code",
   "execution_count": null,
   "metadata": {
    "scrolled": true
   },
   "outputs": [],
   "source": [
    "[x.get() for x in retval.profile.genres]"
   ]
  },
  {
   "cell_type": "code",
   "execution_count": null,
   "metadata": {},
   "outputs": [],
   "source": [
    "%autoreload\n",
    "from dbArtistsRateYourMusic import dbArtistsRateYourMusic\n",
    "from artistRateYourMusic import artistRateYourMusic\n",
    "dbAP = dbArtistsRateYourMusic(debug=True)\n",
    "retval = dbAP.artist.getData(\"/Volumes/Piggy/Discog/artists-rateyourmusic/5/2605.p\")"
   ]
  },
  {
   "cell_type": "code",
   "execution_count": null,
   "metadata": {},
   "outputs": [],
   "source": [
    "retval.show()"
   ]
  },
  {
   "cell_type": "code",
   "execution_count": null,
   "metadata": {},
   "outputs": [],
   "source": [
    "retval.profile.relatedartists.get()"
   ]
  },
  {
   "cell_type": "code",
   "execution_count": null,
   "metadata": {},
   "outputs": [],
   "source": [
    "retval.show()"
   ]
  },
  {
   "cell_type": "code",
   "execution_count": null,
   "metadata": {},
   "outputs": [],
   "source": [
    "retval.profile.members[0].get()"
   ]
  },
  {
   "cell_type": "code",
   "execution_count": null,
   "metadata": {},
   "outputs": [],
   "source": [
    "ap = artistRateYourMusic(debug=True)"
   ]
  },
  {
   "cell_type": "code",
   "execution_count": null,
   "metadata": {},
   "outputs": [],
   "source": [
    "%autoreload\n",
    "from artistDBBase import artistDBLinkClass, artistDBTagClass\n",
    "from artistRateYourMusic import artistRateYourMusic\n",
    "from webUtils import getHTML\n",
    "bsdata = getHTML(\"/Volumes/Piggy/Discog/artists-rateyourmusic/56/56.p\")\n"
   ]
  },
  {
   "cell_type": "code",
   "execution_count": null,
   "metadata": {},
   "outputs": [],
   "source": [
    "profileData.keys()"
   ]
  },
  {
   "cell_type": "code",
   "execution_count": null,
   "metadata": {},
   "outputs": [],
   "source": [
    "profileData[\"Notes\"]"
   ]
  },
  {
   "cell_type": "code",
   "execution_count": null,
   "metadata": {},
   "outputs": [],
   "source": []
  },
  {
   "cell_type": "code",
   "execution_count": null,
   "metadata": {},
   "outputs": [],
   "source": []
  },
  {
   "cell_type": "code",
   "execution_count": null,
   "metadata": {},
   "outputs": [],
   "source": [
    "retval = ap.getData(\"/Volumes/Piggy/Discog/artists-rateyourmusic/56/56.p\")\n",
    "retval.show()"
   ]
  },
  {
   "cell_type": "code",
   "execution_count": null,
   "metadata": {},
   "outputs": [],
   "source": [
    "retval = dbAP.artist.getData()"
   ]
  },
  {
   "cell_type": "code",
   "execution_count": null,
   "metadata": {},
   "outputs": [],
   "source": [
    "retval.show()"
   ]
  },
  {
   "cell_type": "code",
   "execution_count": null,
   "metadata": {},
   "outputs": [],
   "source": []
  },
  {
   "cell_type": "code",
   "execution_count": null,
   "metadata": {},
   "outputs": [],
   "source": [
    "for modVal in range(100):\n",
    "    dbAP = dbArtistsPrimary(dbArtistsRateYourMusic())\n",
    "    dometa = dbAP.parse(modVal, previousDays=2, force=False)\n",
    "    if dometa:\n",
    "        dbAP.createArtistMetadata(modVal)\n",
    "        dbAP.createAlbumMetadata(modVal)"
   ]
  },
  {
   "cell_type": "markdown",
   "metadata": {},
   "source": [
    "# Genius"
   ]
  },
  {
   "cell_type": "code",
   "execution_count": null,
   "metadata": {},
   "outputs": [],
   "source": [
    "\n",
    "#dometa = dbAP.parse(0, previousDays=None, force=True)"
   ]
  },
  {
   "cell_type": "code",
   "execution_count": null,
   "metadata": {},
   "outputs": [],
   "source": [
    "from ioUtils import getFile\n",
    "data = getFile(\"/Users/tgadfort/Music/Discog/artists-genius-db/0-DB.p\")"
   ]
  },
  {
   "cell_type": "code",
   "execution_count": null,
   "metadata": {},
   "outputs": [],
   "source": [
    "%load_ext autoreload\n",
    "%autoreload\n",
    "from dbArtistsGenius import dbArtistsGenius\n",
    "from dbArtistsParse import dbArtistsPrimary, dbArtistsCredit, dbArtistsExtra\n",
    "from dbArtistsParse import dbArtistsAssertExtra, dbArtistsUnofficial, dbArtistsAssertUnofficial, dbArtistsAssertCredit\n",
    "modVals=range(39,40)\n",
    "dbAP = dbArtistsPrimary(dbArtistsGenius())\n",
    "from searchUtils import findExt\n",
    "from fileUtils import getDirname, getBaseFilename\n",
    "from fsUtils import setFile, moveFile, isFile, removeFile, setDir\n",
    "from dbUtils import utilsGenius\n",
    "utils = utilsGenius()\n",
    "for modVal in modVals:\n",
    "    files = findExt(\"/Volumes/Piggy/Discog/artists-genius/{0}/\".format(modVal), ext=\".p\")\n",
    "    print(modVal,len(files))\n",
    "    for ifile in files:\n",
    "        print('\\t',ifile,'\\t',end=\"\")\n",
    "        try:\n",
    "            retval = dbAP.artist.getData(ifile)\n",
    "        except:\n",
    "            print(\"Bad File: {0}\".format(ifile))\n",
    "            removeFile(ifile)\n",
    "            continue\n",
    "        artistID = retval.get()[\"ID\"]\n",
    "        artistID = artistID.ID\n",
    "        print(artistID,'\\t',end=\"\")\n",
    "        \n",
    "        artistURL = retval.get()[\"url\"]\n",
    "        artistURL = artistURL.url\n",
    "        artistIDFromURL = utils.getArtistID(artistURL)\n",
    "        print(artistIDFromURL,'\\t',artistURL)\n",
    "        \n",
    "        try:\n",
    "            int(artistID)\n",
    "        except:\n",
    "            print(\"Bad File: {0}\".format(ifile))\n",
    "            removeFile(ifile)\n",
    "            continue\n",
    "        #print(getDirname(ifile),getBaseFilename(ifile))\n",
    "        srcFile = ifile\n",
    "        dirval  = getDirname(getDirname(ifile))\n",
    "        modval  = str(int(artistID) % 100)\n",
    "        \n",
    "        dstFile = setFile(setDir(dirval, modval), \"{0}.p\".format(artistID))\n",
    "        if srcFile == dstFile:\n",
    "            continue\n",
    "        if isFile(dstFile):\n",
    "            print(\"{0} already exists.\".format(dstFile))\n",
    "            retval2 = dbAP.artist.getData(dstFile)\n",
    "            artistID2 = retval2.get()[\"ID\"]\n",
    "            artistID2 = artistID2.ID\n",
    "            if artistID2 == artistID:\n",
    "                print(\"\\tRemove old file: {0}\".format(ifile))\n",
    "                removeFile(ifile)\n",
    "            continue\n",
    "            \n",
    "            raise ValueError(srcFile,dstFile)\n",
    "        print(srcFile,dstFile)\n",
    "        moveFile(srcFile, dstFile)"
   ]
  },
  {
   "cell_type": "code",
   "execution_count": null,
   "metadata": {},
   "outputs": [],
   "source": [
    "dbAP = dbArtistsPrimary(dbArtistsGenius())\n",
    "dometa = dbAP.parse(0, previousDays=None, force=True, debug=True)"
   ]
  },
  {
   "cell_type": "code",
   "execution_count": null,
   "metadata": {},
   "outputs": [],
   "source": [
    "ifile='/Volumes/Piggy/Discog/artists-genius/2/83329186.p'\n",
    "retval = dbAP.artist.getData(ifile)\n",
    "retval.show()"
   ]
  },
  {
   "cell_type": "code",
   "execution_count": null,
   "metadata": {},
   "outputs": [],
   "source": [
    "ifile='/Volumes/Piggy/Discog/artists-genius/63/82287463.p'\n",
    "retval = dbAP.artist.getData(ifile)\n",
    "retval.show()"
   ]
  },
  {
   "cell_type": "code",
   "execution_count": null,
   "metadata": {},
   "outputs": [],
   "source": [
    "dbAP.dutils.getArtistID('https://genius.com/artists/The-arcana', debug=True)"
   ]
  },
  {
   "cell_type": "code",
   "execution_count": null,
   "metadata": {},
   "outputs": [],
   "source": [
    "#8606107\n",
    "from webUtils import getHTML\n",
    "ifile = getHTML(\"/Volumes/Piggy/Discog/artists-genius/0/49153000.p\")\n",
    "ifile"
   ]
  },
  {
   "cell_type": "code",
   "execution_count": null,
   "metadata": {},
   "outputs": [],
   "source": [
    "retval = dbAP.artist.getData(ifile)\n",
    "retval.show()"
   ]
  },
  {
   "cell_type": "code",
   "execution_count": null,
   "metadata": {},
   "outputs": [],
   "source": [
    "data.keys()"
   ]
  },
  {
   "cell_type": "code",
   "execution_count": null,
   "metadata": {},
   "outputs": [],
   "source": [
    "%load_ext autoreload\n",
    "%autoreload\n",
    "from dbArtistsGenius import dbArtistsGenius\n",
    "from dbArtistsParse import dbArtistsPrimary, dbArtistsCredit, dbArtistsExtra\n",
    "from dbArtistsParse import dbArtistsAssertExtra, dbArtistsUnofficial, dbArtistsAssertUnofficial, dbArtistsAssertCredit"
   ]
  },
  {
   "cell_type": "code",
   "execution_count": null,
   "metadata": {},
   "outputs": [],
   "source": [
    "dbAP = dbArtistsPrimary(dbArtistsGenius())\n",
    "dometa = dbAP.parse(56, previousDays=None, force=False, debug=True)"
   ]
  },
  {
   "cell_type": "code",
   "execution_count": null,
   "metadata": {},
   "outputs": [],
   "source": [
    "for modVal in range(100):\n",
    "    dbAP = dbArtistsPrimary(dbArtistsGenius())\n",
    "    dometa = dbAP.parse(modVal, previousDays=None, force=True, debug=False)\n",
    "    dometa = True\n",
    "    if dometa:\n",
    "        dbAP.createArtistMetadata(modVal)\n",
    "        dbAP.createAlbumMetadata(modVal)"
   ]
  },
  {
   "cell_type": "markdown",
   "metadata": {},
   "source": [
    "# AlbumOfTheYear"
   ]
  },
  {
   "cell_type": "code",
   "execution_count": null,
   "metadata": {},
   "outputs": [],
   "source": [
    "%load_ext autoreload\n",
    "%autoreload\n",
    "from dbArtistsAlbumOfTheYear import dbArtistsAlbumOfTheYear\n",
    "from dbArtistsParse import dbArtistsPrimary, dbArtistsCredit, dbArtistsExtra\n",
    "from dbArtistsParse import dbArtistsAssertExtra, dbArtistsUnofficial, dbArtistsAssertUnofficial"
   ]
  },
  {
   "cell_type": "code",
   "execution_count": null,
   "metadata": {},
   "outputs": [],
   "source": [
    "for modVal in range(100):\n",
    "    dbAP = dbArtistsPrimary(dbArtistsAlbumOfTheYear())\n",
    "    dometa = dbAP.parse(modVal, previousDays=10, force=False)\n",
    "    if dometa:\n",
    "        dbAP.createArtistMetadata(modVal)\n",
    "        dbAP.createAlbumMetadata(modVal)"
   ]
  },
  {
   "cell_type": "markdown",
   "metadata": {},
   "source": [
    "# Deezer"
   ]
  },
  {
   "cell_type": "code",
   "execution_count": null,
   "metadata": {},
   "outputs": [],
   "source": [
    "%load_ext autoreload\n",
    "%autoreload\n",
    "from dbArtistsDeezer import dbArtistsDeezer\n",
    "from dbArtistsParse import dbArtistsPrimary, dbArtistsCredit, dbArtistsExtra\n",
    "from dbArtistsParse import dbArtistsAssertExtra, dbArtistsUnofficial, dbArtistsAssertUnofficial"
   ]
  },
  {
   "cell_type": "code",
   "execution_count": null,
   "metadata": {},
   "outputs": [],
   "source": [
    "dbAP = dbArtistsPrimary(dbArtistsDeezer())\n",
    "dometa = dbAP.parse(44, previousDays=1, force=True)\n",
    "if dometa:\n",
    "    dbAP.createArtistMetadata(44)\n",
    "    dbAP.createAlbumMetadata(44)"
   ]
  },
  {
   "cell_type": "code",
   "execution_count": null,
   "metadata": {},
   "outputs": [],
   "source": [
    "%load_ext autoreload\n",
    "%autoreload\n",
    "from dbArtistsDeezer import dbArtistsDeezer\n",
    "from dbArtistsParse import dbArtistsPrimary, dbArtistsCredit, dbArtistsExtra\n",
    "from dbArtistsParse import dbArtistsAssertExtra, dbArtistsUnofficial, dbArtistsAssertUnofficial\n",
    "dbAP = dbArtistsDeezer(debug=True)"
   ]
  },
  {
   "cell_type": "markdown",
   "metadata": {},
   "source": [
    "# MusicBrainz"
   ]
  },
  {
   "cell_type": "code",
   "execution_count": null,
   "metadata": {},
   "outputs": [],
   "source": [
    "%load_ext autoreload\n",
    "%autoreload\n",
    "from dbArtistsMusicBrainz import dbArtistsMusicBrainz\n",
    "from dbArtistsParse import dbArtistsPrimary, dbArtistsCredit, dbArtistsExtra\n",
    "from dbArtistsParse import dbArtistsAssertExtra, dbArtistsUnofficial, dbArtistsAssertUnofficial\n",
    "dbMB = dbArtistsMusicBrainz()\n",
    "for modVal in range(2,100):\n",
    "    #if True:\n",
    "    #try:\n",
    "        #lfm.assertDBModValExtraData(modVal, minPages=10, maxPages=20, test=False)\n",
    "    dbMB.assertDBModValExtraData(modVal, minPages=2, maxPages=50, test=False, clean=True)\n",
    "    #except:\n",
    "    #    pass"
   ]
  },
  {
   "cell_type": "markdown",
   "metadata": {},
   "source": [
    "# AllMusic"
   ]
  },
  {
   "cell_type": "code",
   "execution_count": null,
   "metadata": {},
   "outputs": [],
   "source": [
    "%load_ext autoreload\n",
    "%autoreload\n",
    "from dbArtistsAllMusic import dbArtistsAllMusic\n",
    "from dbArtistsParse import dbArtistsPrimary, dbArtistsCredit, dbArtistsExtra\n",
    "from dbArtistsParse import dbArtistsAssertExtra, dbArtistsUnofficial, dbArtistsAssertUnofficial\n",
    "from dbArtistsParse import dbArtistsAssertCredit, dbArtistsAssertComposition, dbArtistsAssertSong\n",
    "dbAP = dbArtistsAllMusic(debug=True)"
   ]
  },
  {
   "cell_type": "code",
   "execution_count": null,
   "metadata": {},
   "outputs": [],
   "source": [
    "artistDBData = dbAP.disc.getArtistsDBModValData(0)"
   ]
  },
  {
   "cell_type": "code",
   "execution_count": null,
   "metadata": {},
   "outputs": [],
   "source": [
    "artistDBData['0000006000'].show()"
   ]
  },
  {
   "cell_type": "code",
   "execution_count": null,
   "metadata": {},
   "outputs": [],
   "source": [
    "for artistID,artistData in artistDBData.items():\n",
    "    print(artistID,'\\t',artistData.media.media.keys())"
   ]
  },
  {
   "cell_type": "code",
   "execution_count": null,
   "metadata": {},
   "outputs": [],
   "source": [
    "dbAP = dbArtistsAssertComposition(dbArtistsAllMusic())\n",
    "dbAP.parseModVal(0)"
   ]
  },
  {
   "cell_type": "code",
   "execution_count": null,
   "metadata": {},
   "outputs": [],
   "source": [
    "from ioUtils import getFile\n",
    "data = getFile(\"/Users/tgadfort/Music/Discog/artists-allmusic-db/metadata/0-Metadata.p\")"
   ]
  },
  {
   "cell_type": "code",
   "execution_count": null,
   "metadata": {},
   "outputs": [],
   "source": [
    "{data"
   ]
  },
  {
   "cell_type": "code",
   "execution_count": null,
   "metadata": {},
   "outputs": [],
   "source": [
    "dbAP = dbArtistsTest(dbArtistsAllMusic())\n",
    "dbAP.parseModVal(0, force=True)"
   ]
  },
  {
   "cell_type": "code",
   "execution_count": null,
   "metadata": {},
   "outputs": [],
   "source": [
    "suburl='tv-smiths-explorers-mn0000008802/discography'\n",
    "if suburl.endswith(\"/discography\"):\n",
    "    suburl=suburl[:-12]"
   ]
  },
  {
   "cell_type": "code",
   "execution_count": null,
   "metadata": {},
   "outputs": [],
   "source": [
    "dbAP = dbArtistsPrimary(dbArtistsAllMusic())\n",
    "dometa = dbAP.parse(2, previousDays=None, force=True, debug=False)"
   ]
  },
  {
   "cell_type": "code",
   "execution_count": null,
   "metadata": {},
   "outputs": [],
   "source": [
    "dbac = dbArtistsAssertCredit(dbArtistsAllMusic())\n",
    "print(dbac.ignores.keys())"
   ]
  },
  {
   "cell_type": "code",
   "execution_count": null,
   "metadata": {},
   "outputs": [],
   "source": [
    "dbAP = dbArtistsAssertCredit(dbArtistsAllMusic())\n",
    "dbAP.parse(2, previousDays=None)"
   ]
  },
  {
   "cell_type": "code",
   "execution_count": null,
   "metadata": {},
   "outputs": [],
   "source": [
    "for modVal in range(100):\n",
    "    dbAP = dbArtistsPrimary(dbArtistsAllMusic())\n",
    "    dometa = dbAP.parse(modVal, previousDays=60, force=False)\n",
    "    dbAP.createArtistMetadata(modVal)\n",
    "    dbAP.createAlbumMetadata(modVal)"
   ]
  },
  {
   "cell_type": "code",
   "execution_count": null,
   "metadata": {},
   "outputs": [],
   "source": [
    "dbac = dbArtistsAssertComposition(dbArtistsAllMusic())\n",
    "dbac.parseModVal(12)\n",
    "dbac.downloadUnknownArtistCompositions()"
   ]
  },
  {
   "cell_type": "code",
   "execution_count": null,
   "metadata": {},
   "outputs": [],
   "source": [
    "# This downloads missing credit files\n",
    "for modVal in range(70,100):\n",
    "    print(modVal)\n",
    "    try:\n",
    "        dbac = dbArtistsAssertCredit(dbArtistsAllMusic())\n",
    "        dbac.parseModVal(modVal)\n",
    "        dbac.downloadUnknownArtistCredits()\n",
    "    except:\n",
    "        continue\n"
   ]
  },
  {
   "cell_type": "code",
   "execution_count": null,
   "metadata": {
    "scrolled": true
   },
   "outputs": [],
   "source": [
    "%autoreload\n",
    "from parseDBArtistsData import parseDBArtistsData\n",
    "from dbArtistsParse import dbArtistsPrimary\n",
    "from dbArtistsRateYourMusic import dbArtistsRateYourMusic\n",
    "\n",
    "for modVal in range(1):\n",
    "    dbAP = dbArtistsPrimary(dbArtistsRateYourMusic())\n",
    "    dometa = dbAP.parse(modVal, previousDays=None, force=True, debug=False)\n",
    "    #if dometa and False:\n",
    "    #    dbAP.createArtistMetadata(modVal)\n",
    "    #    dbAP.createAlbumMetadata(modVal)"
   ]
  },
  {
   "cell_type": "code",
   "execution_count": null,
   "metadata": {},
   "outputs": [],
   "source": [
    "\n",
    "\n",
    "for modVal in range(100):\n",
    "    dbAP = dbArtistsCredit(dbArtistsAllMusic())\n",
    "    dbAP.parse(modVal, previousDays=30)\n",
    "    \n",
    "\n",
    "for modVal in range(100):\n",
    "    dbAP = dbArtistsPrimary(dbArtistsAllMusic())\n",
    "    dometa = dbAP.parse(modVal, previousDays=None, force=False)\n",
    "    if dometa or True:\n",
    "        dbAP.createArtistMetadata(modVal)\n",
    "        dbAP.createAlbumMetadata(modVal)"
   ]
  },
  {
   "cell_type": "code",
   "execution_count": null,
   "metadata": {},
   "outputs": [],
   "source": []
  },
  {
   "cell_type": "code",
   "execution_count": null,
   "metadata": {},
   "outputs": [],
   "source": [
    "from ioUtils import getFile\n",
    "x = getFile(\"/Users/tgadfort/Music/Discog/artists-deezer-db/metadata/5-MediaMetadata.p\")"
   ]
  },
  {
   "cell_type": "code",
   "execution_count": null,
   "metadata": {},
   "outputs": [],
   "source": [
    "x['5038705']"
   ]
  },
  {
   "cell_type": "code",
   "execution_count": null,
   "metadata": {},
   "outputs": [],
   "source": []
  },
  {
   "cell_type": "code",
   "execution_count": null,
   "metadata": {},
   "outputs": [],
   "source": [
    "modVal = 5\n",
    "dbAP = dbArtistsPrimary(dbArtistsDeezer())\n",
    "dometa = dbAP.parse(modVal, previousDays=1, force=True)\n",
    "if dometa:\n",
    "    dbAP.createArtistMetadata(modVal)\n",
    "    dbAP.createAlbumMetadata(modVal)"
   ]
  },
  {
   "cell_type": "code",
   "execution_count": null,
   "metadata": {},
   "outputs": [],
   "source": [
    "for modVal in range(100):\n",
    "    dbAP = dbArtistsPrimary(dbArtistsDeezer())\n",
    "    dometa = dbAP.parse(modVal, previousDays=1, force=True)\n",
    "    if dometa:\n",
    "        dbAP.createArtistMetadata(modVal)\n",
    "        dbAP.createAlbumMetadata(modVal)"
   ]
  },
  {
   "cell_type": "markdown",
   "metadata": {},
   "source": [
    "# Discogs"
   ]
  },
  {
   "cell_type": "code",
   "execution_count": null,
   "metadata": {},
   "outputs": [],
   "source": [
    "%load_ext autoreload\n",
    "%autoreload\n",
    "from dbArtistsDiscogs import dbArtistsDiscogs\n",
    "from dbArtistsParse import dbArtistsPrimary, dbArtistsCredit, dbArtistsExtra\n",
    "from dbArtistsParse import dbArtistsAssertExtra, dbArtistsUnofficial, dbArtistsAssertUnofficial"
   ]
  },
  {
   "cell_type": "code",
   "execution_count": null,
   "metadata": {},
   "outputs": [],
   "source": [
    "for modVal in range(100):\n",
    "    dbAP = dbArtistsPrimary(dbArtistsDiscogs())\n",
    "    dometa = dbAP.parse(modVal, previousDays=3, force=False)\n",
    "    if dometa:\n",
    "        dbAP.createArtistMetadata(modVal)\n",
    "        dbAP.createAlbumMetadata(modVal)"
   ]
  },
  {
   "cell_type": "code",
   "execution_count": null,
   "metadata": {},
   "outputs": [],
   "source": [
    "for modVal in range(100):\n",
    "    dbAP = dbArtistsAssertUnofficial(dbArtistsDiscogs())\n",
    "    dbAP.parseModVal(modVal)\n",
    "    dbAP.downloadMissingArtistUnofficials()"
   ]
  },
  {
   "cell_type": "markdown",
   "metadata": {},
   "source": [
    "# MusicBrainz"
   ]
  },
  {
   "cell_type": "code",
   "execution_count": null,
   "metadata": {},
   "outputs": [],
   "source": [
    "%load_ext autoreload\n",
    "%autoreload\n",
    "from dbArtistsMusicBrainz import dbArtistsMusicBrainz\n",
    "from dbArtistsParse import dbArtistsPrimary, dbArtistsCredit, dbArtistsExtra\n",
    "from dbArtistsParse import dbArtistsAssertExtra"
   ]
  },
  {
   "cell_type": "code",
   "execution_count": null,
   "metadata": {},
   "outputs": [],
   "source": [
    "for modVal in range(100):\n",
    "    dbAP = dbArtistsPrimary(dbArtistsMusicBrainz())\n",
    "    dometa = dbAP.parse(modVal, previousDays=10, force=False)\n",
    "    if dometa:\n",
    "        dbAP.createArtistMetadata(modVal)\n",
    "        dbAP.createAlbumMetadata(modVal)\n",
    "\n",
    "#for modVal in range(100):\n",
    "#    dbAP = dbArtistsExtra(dbArtistsMusicBrainz())\n",
    "#    dbAP.parse(modVal)"
   ]
  },
  {
   "cell_type": "markdown",
   "metadata": {},
   "source": [
    "# LastFM"
   ]
  },
  {
   "cell_type": "code",
   "execution_count": null,
   "metadata": {},
   "outputs": [],
   "source": [
    "%load_ext autoreload\n",
    "%autoreload\n",
    "from dbArtistsLastFM import dbArtistsLastFM\n",
    "from dbArtistsParse import dbArtistsPrimary, dbArtistsCredit, dbArtistsExtra\n",
    "from dbArtistsParse import dbArtistsAssertExtra, dbArtistsUnofficial, dbArtistsAssertUnofficial"
   ]
  },
  {
   "cell_type": "code",
   "execution_count": null,
   "metadata": {},
   "outputs": [],
   "source": [
    "for modVal in range(100):\n",
    "    dbAP = dbArtistsPrimary(dbArtistsLastFM())\n",
    "    dometa = dbAP.parse(modVal, previousDays=10, force=False)\n",
    "    if dometa:\n",
    "        dbAP.createArtistMetadata(modVal)\n",
    "        dbAP.createAlbumMetadata(modVal)"
   ]
  },
  {
   "cell_type": "markdown",
   "metadata": {},
   "source": [
    "# KWorbSpotify"
   ]
  },
  {
   "cell_type": "code",
   "execution_count": null,
   "metadata": {},
   "outputs": [],
   "source": [
    "%load_ext autoreload\n",
    "%autoreload\n",
    "from dbArtistsKWorbSpotify import dbArtistsKWorbSpotify\n",
    "from dbArtistsParse import dbArtistsPrimary, dbArtistsCredit, dbArtistsExtra\n",
    "from dbArtistsParse import dbArtistsAssertExtra, dbArtistsUnofficial, dbArtistsAssertUnofficial, dbArtistsRawFiles\n",
    "from time import sleep\n",
    "\n",
    "#dbAP = dbArtistsRawFiles(dbArtistsKWorbSpotify(), \"data\")\n",
    "#dbAP.parse(previousDays=1000000)"
   ]
  },
  {
   "cell_type": "code",
   "execution_count": null,
   "metadata": {},
   "outputs": [],
   "source": [
    "for modVal in range(100):\n",
    "    dbAP = dbArtistsPrimary(dbArtistsKWorbSpotify())\n",
    "    dometa = dbAP.parse(modVal, previousDays=3000, force=True, debug=False)\n",
    "    if dometa:\n",
    "        dbAP.createArtistMetadata(modVal)\n",
    "        dbAP.createAlbumMetadata(modVal)\n",
    "        \n",
    "sleep(1)\n",
    "start, cmt = clock(\"Creating DB\")\n",
    "maindb = mainDB(mdb=None, create=True, debug=True)\n",
    "maindb.setDBFull(\"KWorbSpotify\")\n",
    "elapsed(start, cmt)    "
   ]
  },
  {
   "cell_type": "markdown",
   "metadata": {},
   "source": [
    "# KWorbiTunes"
   ]
  },
  {
   "cell_type": "code",
   "execution_count": null,
   "metadata": {},
   "outputs": [],
   "source": [
    "%load_ext autoreload\n",
    "%autoreload\n",
    "from dbArtistsKWorbiTunes import dbArtistsKWorbiTunes\n",
    "from dbArtistsParse import dbArtistsPrimary, dbArtistsCredit, dbArtistsExtra\n",
    "from dbArtistsParse import dbArtistsAssertExtra, dbArtistsUnofficial, dbArtistsAssertUnofficial, dbArtistsRawFiles\n",
    "from time import sleep\n",
    "\n",
    "#dbAP = dbArtistsRawFiles(dbArtistsKWorbiTunes(), \"data\")\n",
    "#dbAP.parse(previousDays=1000000)"
   ]
  },
  {
   "cell_type": "code",
   "execution_count": null,
   "metadata": {},
   "outputs": [],
   "source": [
    "for modVal in range(100):\n",
    "    dbAP = dbArtistsPrimary(dbArtistsKWorbiTunes())\n",
    "    dometa = dbAP.parse(modVal, previousDays=3000, force=True, debug=False)\n",
    "    if dometa:\n",
    "        dbAP.createArtistMetadata(modVal)\n",
    "        dbAP.createAlbumMetadata(modVal)\n",
    "        \n",
    "sleep(1)\n",
    "start, cmt = clock(\"Creating DB\")\n",
    "maindb = mainDB(mdb=None, create=True, debug=True)\n",
    "maindb.setDBFull(\"KWorbiTunes\")\n",
    "elapsed(start, cmt)    "
   ]
  },
  {
   "cell_type": "markdown",
   "metadata": {},
   "source": [
    "# KWorbYouTube"
   ]
  },
  {
   "cell_type": "code",
   "execution_count": null,
   "metadata": {},
   "outputs": [],
   "source": [
    "# %autoreload\n",
    "from dbArtistsKWorbYouTube import dbArtistsKWorbYouTube\n",
    "dbAP = dbArtistsRawFiles(dbArtistsKWorbYouTube(), \"data\")\n",
    "dbAP.parse(previousDays=10)"
   ]
  },
  {
   "cell_type": "code",
   "execution_count": null,
   "metadata": {},
   "outputs": [],
   "source": [
    "%load_ext autoreload\n",
    "%autoreload\n",
    "from dbArtistsKWorbYouTube import dbArtistsKWorbYouTube\n",
    "from dbArtistsParse import dbArtistsPrimary, dbArtistsCredit, dbArtistsExtra\n",
    "from dbArtistsParse import dbArtistsAssertExtra, dbArtistsUnofficial, dbArtistsAssertUnofficial, dbArtistsRawFiles\n",
    "from time import sleep\n",
    "\n",
    "dbAP = dbArtistsRawFiles(dbArtistsKWorbYouTube(), \"data\")\n",
    "#dbAP.parse(previousDays=1000000)\n",
    "\n",
    "for modVal in range(100):\n",
    "    dbAP = dbArtistsPrimary(dbArtistsKWorbYouTube())\n",
    "    dometa = dbAP.parse(modVal, previousDays=3, force=True)\n",
    "    if dometa:\n",
    "        dbAP.createArtistMetadata(modVal)\n",
    "        dbAP.createAlbumMetadata(modVal)\n",
    "        \n",
    "sleep(1)\n",
    "start, cmt = clock(\"Creating DB\")\n",
    "maindb = mainDB(mdb=None, create=True, debug=True)\n",
    "maindb.setDBFull(\"KWorbYouTube\")\n",
    "elapsed(start, cmt)    "
   ]
  },
  {
   "cell_type": "code",
   "execution_count": null,
   "metadata": {},
   "outputs": [],
   "source": []
  },
  {
   "cell_type": "code",
   "execution_count": null,
   "metadata": {},
   "outputs": [],
   "source": []
  },
  {
   "cell_type": "code",
   "execution_count": null,
   "metadata": {},
   "outputs": [],
   "source": []
  },
  {
   "cell_type": "code",
   "execution_count": null,
   "metadata": {},
   "outputs": [],
   "source": [
    "%autoreload\n",
    "from dbArtistsRateYourMusic import dbArtistsRateYourMusic\n",
    "#pdb = parseDBArtistsData()\n",
    "dbAP = dbArtistsRawHTML(dbArtistsRateYourMusic())\n",
    "dbAP.parse('< 5 days')"
   ]
  },
  {
   "cell_type": "code",
   "execution_count": null,
   "metadata": {},
   "outputs": [],
   "source": [
    "%autoreload\n",
    "from dbArtistsRateYourMusic import dbArtistsRateYourMusic\n",
    "#pdb = parseDBArtistsData()\n",
    "dbAP = dbArtistsPrimary(dbArtistsRateYourMusic())\n",
    "for modVal in range(100):\n",
    "    dbAP.parse(modVal=modVal, expr='< 0 hours')"
   ]
  },
  {
   "cell_type": "markdown",
   "metadata": {},
   "source": [
    "## Assert Credit For AllMusic"
   ]
  },
  {
   "cell_type": "code",
   "execution_count": null,
   "metadata": {},
   "outputs": [],
   "source": [
    "%load_ext autoreload\n",
    "%autoreload\n",
    "from dbArtistsAllMusic import dbArtistsAllMusic\n",
    "from dbArtistsParse import dbArtistsPrimary, dbArtistsCredit, dbArtistsExtra\n",
    "from dbArtistsParse import dbArtistsAssertExtra, dbArtistsUnofficial, dbArtistsAssertUnofficial, dbArtistsAssertCredit\n",
    "dbAP = dbArtistsAllMusic(debug=True)\n",
    "# This downloads missing credit files\n",
    "ts = timestat(\"Getting Credit Files\")\n",
    "for modVal in range(20,30):\n",
    "    try:\n",
    "        dbac = dbArtistsAssertCredit(dbArtistsAllMusic())\n",
    "        dbac.parseModVal(modVal)\n",
    "        dbac.downloadUnknownArtistCredits()\n",
    "    except:\n",
    "        continue\n",
    "        \n",
    "ts.stop()"
   ]
  },
  {
   "cell_type": "code",
   "execution_count": null,
   "metadata": {},
   "outputs": [],
   "source": [
    "%load_ext autoreload\n",
    "%autoreload\n",
    "from dbArtistsParse import dbArtistsPrimary, dbArtistsCredit, dbArtistsExtra, dbArtistsAssertCredit\n",
    "from dbArtistsAllMusic import dbArtistsAllMusic\n",
    "\n",
    "modVal=86\n",
    "dbAC = dbArtistsAssertCredit(dbArtistsAllMusic())\n",
    "dbAC.createCreditMetadata(modVal=modVal)\n",
    "dbAC.downloadUnknownArtistCredits()"
   ]
  },
  {
   "cell_type": "code",
   "execution_count": null,
   "metadata": {},
   "outputs": [],
   "source": [
    "dbC = dbArtistsCredit(dbArtistsAllMusic())\n",
    "#dbC.parse(modVal=97, expr='< 90 Days', force=False)\n",
    "dbC.parse(modVal=97, expr=None, force=False)"
   ]
  },
  {
   "cell_type": "code",
   "execution_count": null,
   "metadata": {},
   "outputs": [],
   "source": [
    "%load_ext autoreload\n",
    "%autoreload\n",
    "from dbArtistsParse import dbArtistsPrimary, dbArtistsCredit, dbArtistsExtra, dbArtistsAssertCredit\n",
    "from dbArtistsAllMusic import dbArtistsAllMusic\n",
    "\n",
    "for modVal in range(80,81):\n",
    "    dbAP = dbArtistsPrimary(dbArtistsAllMusic())\n",
    "    _ = dbAP.parse(modVal=modVal, expr='< 0 Days', force=False)\n",
    "    dbAP.createArtistMetadata(modVal)\n",
    "    dbAP.createAlbumMetadata(modVal)\n",
    "    \n",
    "    dbAC = dbArtistsAssertCredit(dbArtistsAllMusic())\n",
    "    dbAC.createCreditMetadata(modVal=modVal)\n",
    "    dbAC.downloadUnknownArtistCredits()\n",
    "    \n",
    "    dbC = dbArtistsCredit(dbArtistsAllMusic())\n",
    "    dbC.parse(modVal=modVal, expr='< 90 Days', force=False)\n",
    "    dbAP.createArtistMetadata(modVal)\n",
    "    dbAP.createAlbumMetadata(modVal)"
   ]
  },
  {
   "cell_type": "code",
   "execution_count": null,
   "metadata": {},
   "outputs": [],
   "source": [
    "artistIDs=['0000047990', '0000051390', '0000272190', '0000292790', '0000467590', '0000602690', '0000717990', '0000796690', '0001033390', '0001378390', '0001407190', '0001464290', '0001995390', '0002323590', '0002425790', '0002765190', '0002879590', '0002903990', '0003093090', '0003190590', '0003246290', '0003286290', '0003918290']\n",
    "artistIDs+=['0000118299', '0000213799', '0000325299', '0000642999', '0000775799', '0000811999', '0000992099', '0001284999', '0001364399', '0001497499', '0001510299', '0001618699', '0001634699', '0001658799', '0001694699', '0001711999', '0002179199', '0002366199', '0002612899', '0002752799', '0002987499', '0003027599', '0003184899', '0003258299', '0003442899', '0003678399']\n",
    "len(artistIDs)"
   ]
  },
  {
   "cell_type": "code",
   "execution_count": null,
   "metadata": {},
   "outputs": [],
   "source": [
    "%load_ext autoreload\n",
    "%autoreload\n",
    "from dbArtistsAllMusic import dbArtistsAllMusic\n",
    "from dbArtistsParse import dbArtistsPrimary, dbArtistsCredit, dbArtistsExtra\n",
    "from dbArtistsParse import dbArtistsAssertExtra, dbArtistsUnofficial, dbArtistsAssertUnofficial, dbArtistsAssertCredit\n",
    "tmp = dbArtistsAssertCredit(dbArtistsAllMusic())\n",
    "#tmp.updateMasterIgnoreCreditData(artistIDs)\n",
    "#tmp.createCreditMetadata(modVal=98)\n",
    "#tmp.downloadUnknownArtistCredits()"
   ]
  },
  {
   "cell_type": "code",
   "execution_count": null,
   "metadata": {},
   "outputs": [],
   "source": [
    "from copy import deepcopy\n",
    "meta = deepcopy(tmp.metadata)"
   ]
  },
  {
   "cell_type": "code",
   "execution_count": null,
   "metadata": {},
   "outputs": [],
   "source": [
    "tmp.downloadUnknownArtistCredits()"
   ]
  },
  {
   "cell_type": "code",
   "execution_count": null,
   "metadata": {},
   "outputs": [],
   "source": [
    "%load_ext autoreload\n",
    "%autoreload\n",
    "from dbArtistsAllMusic import dbArtistsAllMusic\n",
    "from dbArtistsParse import dbArtistsPrimary, dbArtistsCredit, dbArtistsExtra\n",
    "from dbArtistsParse import dbArtistsAssertExtra, dbArtistsUnofficial, dbArtistsAssertUnofficial, dbArtistsAssertCredit\n",
    "tmp = dbArtistsCredit(dbArtistsAllMusic())\n",
    "tmp.parse(modVal=99, expr='< 90 Days', force=False)"
   ]
  },
  {
   "cell_type": "code",
   "execution_count": null,
   "metadata": {},
   "outputs": [],
   "source": [
    "from searchUtils import filesFromDir\n",
    "from fsUtils import setDir\n",
    "force=True\n",
    "modVal=99\n",
    "ffd   = filesFromDir(ext=\".p\")\n",
    "files = ffd.getFiles(setDir(tmp.getModValDir(modVal), \"credit\"))\n",
    "newFiles = files if force is True else tmp.getFilesByRecency(files, expr)"
   ]
  },
  {
   "cell_type": "code",
   "execution_count": null,
   "metadata": {},
   "outputs": [],
   "source": [
    "%autoreload\n",
    "from dbArtistsParse import dbArtistsRawHTML\n",
    "from dbArtistsRateYourMusic import dbArtistsRateYourMusic\n",
    "dbAP = dbArtistsRawHTML(dbArtistsRateYourMusic())\n",
    "dbAP.parse(expr='< 3 Days')"
   ]
  },
  {
   "cell_type": "code",
   "execution_count": null,
   "metadata": {},
   "outputs": [],
   "source": [
    "%autoreload\n",
    "from dbArtistsParse import dbArtistsRawFiles\n",
    "from dbArtistsKWorbiTunes import dbArtistsKWorbiTunes\n",
    "dbAP = dbArtistsRawFiles(dbArtistsKWorbiTunes(), \"data\")\n",
    "dbAP.parse(modVal=0, expr='< 3 Days')"
   ]
  },
  {
   "cell_type": "code",
   "execution_count": null,
   "metadata": {},
   "outputs": [],
   "source": [
    "from searchUtils import filesFromDir\n",
    "from fsUtils import setDir\n",
    "ffd   = filesFromDir(ext=[\".html\", \".htm\"])\n",
    "files = ffd.getFiles(setDir(dbAP.disc.getArtistsDir(), \"data\"))\n",
    "#newFiles = files if force is True else self.getFilesByRecency(files, expr)"
   ]
  },
  {
   "cell_type": "code",
   "execution_count": null,
   "metadata": {},
   "outputs": [],
   "source": [
    "len(files)"
   ]
  },
  {
   "cell_type": "code",
   "execution_count": null,
   "metadata": {},
   "outputs": [],
   "source": [
    "from recentFilesUtils import recentFiles\n",
    "rf = recentFiles()\n",
    "rf.setFiles(files)\n",
    "newFiles = rf.getFilesByRecency('> 3 Days', debug=True)"
   ]
  },
  {
   "cell_type": "code",
   "execution_count": null,
   "metadata": {},
   "outputs": [],
   "source": [
    "newFiles = dbAP.getFilesByRecency(files, expr='> 3 Days', debug=True)\n",
    "len(newFiles)"
   ]
  },
  {
   "cell_type": "code",
   "execution_count": null,
   "metadata": {},
   "outputs": [],
   "source": [
    "modValPrimaryFiles = tmp.getArtistPrimaryFiles(99, expr=None, force=True)\n",
    "dbData = tmp.getDBData(99)"
   ]
  },
  {
   "cell_type": "code",
   "execution_count": null,
   "metadata": {},
   "outputs": [],
   "source": [
    "modValArtistIDs  = {getBaseFilename(ifile): ifile for ifile in modValPrimaryFiles}\n",
    "missingArtistIDs = [ifile for ifile in modValPrimaryFiles if dbData.get(getBaseFilename(ifile)) is None]\n",
    "print(len(modValArtistIDs))\n",
    "print(len(missingArtistIDs))"
   ]
  },
  {
   "cell_type": "code",
   "execution_count": null,
   "metadata": {},
   "outputs": [],
   "source": []
  },
  {
   "cell_type": "markdown",
   "metadata": {},
   "source": [
    "# Unofficial"
   ]
  },
  {
   "cell_type": "code",
   "execution_count": null,
   "metadata": {},
   "outputs": [],
   "source": [
    "from dbArtistsBase import dbArtistsBase\n",
    "from fsUtils import isFile\n",
    "from fileUtils import getBaseFilename\n",
    "from timeUtils import timestat\n",
    "from ioUtils import saveFile\n",
    "from time import sleep\n",
    "import urllib\n",
    "from webUtils import getHTML"
   ]
  },
  {
   "cell_type": "code",
   "execution_count": null,
   "metadata": {},
   "outputs": [],
   "source": [
    "%autoreload"
   ]
  },
  {
   "cell_type": "code",
   "execution_count": null,
   "metadata": {},
   "outputs": [],
   "source": [
    "%autoreload\n",
    "from dbArtistsDiscogs import dbArtistsDiscogs\n",
    "dbAP = dbArtistsAssertUnofficial(dbArtistsDiscogs())\n",
    "dbAP.createUnofficialMetadata(99)\n",
    "dbAP.downloadMissingArtistUnofficial()"
   ]
  },
  {
   "cell_type": "code",
   "execution_count": null,
   "metadata": {},
   "outputs": [],
   "source": [
    "from dbArtistsParse import dbArtistsPrimary\n",
    "dbAP = dbArtistsPrimary(dbArtistsDiscogs())\n",
    "dbAP.parse(modVal=99, expr='< 90 Days', force=False)\n",
    "dbAP"
   ]
  },
  {
   "cell_type": "code",
   "execution_count": null,
   "metadata": {},
   "outputs": [],
   "source": [
    "dbAP = dbArtistsUnofficial(dbArtistsDiscogs())\n",
    "dbAP.parse(modVal=99, expr='< 90 Days', force=True)"
   ]
  },
  {
   "cell_type": "code",
   "execution_count": null,
   "metadata": {},
   "outputs": [],
   "source": [
    "%load_ext autoreload\n",
    "%autoreload\n",
    "from dbArtistsParse import dbArtistsPrimary\n",
    "from dbArtistsParseUnofficial import dbArtistsAssertUnofficial, dbArtistsUnofficial\n",
    "from dbArtistsDiscogs import dbArtistsDiscogs\n",
    "\n",
    "for modVal in range(100):\n",
    "    dbAC = dbArtistsAssertUnofficial(dbArtistsDiscogs())\n",
    "    dbAC.createUnofficialMetadata(modVal=modVal)\n",
    "    dbAC.downloadMissingArtistUnofficial()"
   ]
  },
  {
   "cell_type": "code",
   "execution_count": null,
   "metadata": {},
   "outputs": [],
   "source": [
    "dbAC.downloadMissingArtistUnofficial()"
   ]
  },
  {
   "cell_type": "code",
   "execution_count": null,
   "metadata": {},
   "outputs": [],
   "source": [
    "from dbArtistsParseUnofficial import dbArtistsAssertUnofficial, dbArtistsUnofficial"
   ]
  },
  {
   "cell_type": "code",
   "execution_count": null,
   "metadata": {},
   "outputs": [],
   "source": [
    "#dbAP = dbArtistsPrimary(dbArtistsDiscogs())\n",
    "#dbAP.createArtistMetadata(modVal)\n",
    "#dbAP.createAlbumMetadata(modVal)\n",
    "%load_ext autoreload\n",
    "%autoreload\n",
    "from dbArtistsParse import dbArtistsPrimary\n",
    "from dbArtistsParseUnofficial import dbArtistsAssertUnofficial, dbArtistsUnofficial\n",
    "from dbArtistsDiscogs import dbArtistsDiscogs\n",
    "\n",
    "dbC = dbArtistsUnofficial(dbArtistsDiscogs())\n",
    "dbC.parse(modVal=modVal, expr='< 1 Days', force=False)\n",
    "dbC.createArtistMetadata(modVal)\n",
    "dbC.createAlbumMetadata(modVal)"
   ]
  },
  {
   "cell_type": "code",
   "execution_count": null,
   "metadata": {},
   "outputs": [],
   "source": []
  },
  {
   "cell_type": "code",
   "execution_count": null,
   "metadata": {},
   "outputs": [],
   "source": [
    "len(ignoreData)"
   ]
  },
  {
   "cell_type": "code",
   "execution_count": null,
   "metadata": {},
   "outputs": [],
   "source": [
    "len(unofficialFiles)"
   ]
  },
  {
   "cell_type": "code",
   "execution_count": null,
   "metadata": {},
   "outputs": [],
   "source": []
  },
  {
   "cell_type": "code",
   "execution_count": null,
   "metadata": {},
   "outputs": [],
   "source": [
    "%load_ext autoreload\n",
    "%autoreload\n",
    "from dbArtistsParse import dbArtistsPrimary\n",
    "from dbArtistsParseUnofficial import dbArtistsAssertUnofficial, dbArtistsUnofficial\n",
    "from dbArtistsDiscogs import dbArtistsDiscogs\n",
    "\n",
    "for modVal in range(98,99):\n",
    "    dbAP = dbArtistsPrimary(dbArtistsDiscogs())\n",
    "    _ = dbAP.parse(modVal=modVal, expr='< 0 Days', force=False)\n",
    "    dbAP.createArtistMetadata(modVal)\n",
    "    dbAP.createAlbumMetadata(modVal)\n",
    "\n",
    "    dbAC = dbArtistsAssertUnofficial(dbArtistsDiscogs())\n",
    "    dbAC.createUnofficialMetadata(modVal=modVal)\n",
    "    dbAC.downloadMissingArtistUnofficial()\n",
    "\n",
    "    dbC = dbArtistsUnofficial(dbArtistsDiscogs())\n",
    "    dbC.parse(modVal=modVal, expr='< 90 Days', force=True)\n",
    "    dbC.createArtistMetadata(modVal)\n",
    "    dbC.createAlbumMetadata(modVal)"
   ]
  },
  {
   "cell_type": "markdown",
   "metadata": {},
   "source": [
    "# Extra"
   ]
  },
  {
   "cell_type": "code",
   "execution_count": null,
   "metadata": {},
   "outputs": [],
   "source": [
    "\n",
    "from dbArtistsMusicBrainz import dbArtistsMusicBrainz\n",
    "dbAP = dbArtistsAssertExtra(dbArtistsMusicBrainz())"
   ]
  },
  {
   "cell_type": "code",
   "execution_count": null,
   "metadata": {},
   "outputs": [],
   "source": [
    "%load_ext autoreload\n",
    "%autoreload\n",
    "from dbArtistsParse import dbArtistsPrimary\n",
    "from dbArtistsParseExtra import dbArtistsExtra, dbArtistsAssertExtra\n",
    "from dbArtistsMusicBrainz import dbArtistsMusicBrainz\n",
    "\n",
    "for modVal in range(72,73):\n",
    "    if False:\n",
    "        dbAP = dbArtistsPrimary(dbArtistsMusicBrainz())\n",
    "        _ = dbAP.parse(modVal=modVal, expr='< 0 Days', force=False)\n",
    "        dbAP.createArtistMetadata(modVal)\n",
    "        dbAP.createAlbumMetadata(modVal)\n",
    "        continue\n",
    "\n",
    "    if False:\n",
    "        dbAC = dbArtistsAssertExtra(dbArtistsMusicBrainz())\n",
    "        dbAC.createExtraMetadata(modVal=modVal)\n",
    "        dbAC.downloadMissingArtistExtras()\n",
    "    \n",
    "    if True:\n",
    "        dbC = dbArtistsExtra(dbArtistsMusicBrainz())\n",
    "        dbC.parse(modVal=modVal, expr='< 90 Days', force=True)\n",
    "        dbAP.createArtistMetadata(modVal)\n",
    "        dbAP.createAlbumMetadata(modVal)"
   ]
  },
  {
   "cell_type": "code",
   "execution_count": null,
   "metadata": {},
   "outputs": [],
   "source": [
    "%load_ext autoreload\n",
    "%autoreload\n",
    "from dbArtistsParse import dbArtistsPrimary\n",
    "from dbArtistsParseExtra import dbArtistsExtra, dbArtistsAssertExtra\n",
    "from dbArtistsDiscogs import dbArtistsDiscogs\n",
    "\n",
    "for modVal in range(72,73):\n",
    "    if False:\n",
    "        dbAP = dbArtistsPrimary(dbArtistsDiscogs())\n",
    "        _ = dbAP.parse(modVal=modVal, expr='< 0 Days', force=False)\n",
    "        dbAP.createArtistMetadata(modVal)\n",
    "        dbAP.createAlbumMetadata(modVal)\n",
    "\n",
    "    if True:\n",
    "        dbAC = dbArtistsAssertExtra(dbArtistsDiscogs())\n",
    "        dbAC.createExtraMetadata(modVal=modVal)\n",
    "        dbAC.downloadMissingArtistExtras()\n",
    "\n",
    "        dbC = dbArtistsExtra(dbArtistsDiscogs())\n",
    "        dbC.parse(modVal=modVal, expr='< 90 Days', force=True)\n",
    "        dbAP.createArtistMetadata(modVal)\n",
    "        dbAP.createAlbumMetadata(modVal)"
   ]
  },
  {
   "cell_type": "code",
   "execution_count": null,
   "metadata": {},
   "outputs": [],
   "source": [
    "%autoreload\n",
    "from dbArtistsMusicBrainz import dbArtistsMusicBrainz\n",
    "dbC = dbArtistsExtra(dbArtistsMusicBrainz())\n",
    "dbC.parse(modVal=80, expr='< 90 Days', force=True)\n",
    "dbAP.createArtistMetadata(80)\n",
    "dbAP.createAlbumMetadata(80)"
   ]
  },
  {
   "cell_type": "code",
   "execution_count": null,
   "metadata": {},
   "outputs": [],
   "source": [
    "dbAP.createExtraMetadata(72)"
   ]
  },
  {
   "cell_type": "code",
   "execution_count": null,
   "metadata": {},
   "outputs": [],
   "source": [
    "from copy import deepcopy\n",
    "meta = deepcopy(dbAP.metadata)"
   ]
  },
  {
   "cell_type": "code",
   "execution_count": null,
   "metadata": {},
   "outputs": [],
   "source": [
    "dbAP.downloadMissingArtistExtras()"
   ]
  },
  {
   "cell_type": "code",
   "execution_count": null,
   "metadata": {},
   "outputs": [],
   "source": [
    "ignoreData = dbAP.getMasterIgnoreData()"
   ]
  },
  {
   "cell_type": "code",
   "execution_count": null,
   "metadata": {},
   "outputs": [],
   "source": [
    "ignoreData"
   ]
  },
  {
   "cell_type": "code",
   "execution_count": null,
   "metadata": {},
   "outputs": [],
   "source": [
    "def getIgnoreArtistList():\n",
    "\n",
    "    ###########################################################################################################################\n",
    "    # Ignore List\n",
    "    ############################################################################################################################\n",
    "    ignoreArtistList = {}\n",
    "    ignoreArtistList[\"Discogs\"]  = [\"M\", \"Bernard Edwards & Nile Rodgers\", \"Pomus-Shuman\", \"Tepper-Bennett\"]\n",
    "    ignoreArtistList[\"LastFM\"]   = [\"MAX\", \"Sonny Boy Williamson\", \"Trouble\", \"NRG\", \"Olivia\", \"Hunter\", \"Zeus\", \"Cobra\", \n",
    "                                    \"Shogun\", \"Nomad\", \"Juice\", \"Tyrant\", \"Willow\", \"Airbag\", \"Deuce\", \"Budgie\", \"Eclipse\",\n",
    "                                    \"Jumbo\", \"L.E.J.\", \"Sniper\", \"Ceremony\", \"Voyager\", \"Solange\", \"Logos\", \n",
    "                                    \"The Highwaymen\", \"Rose\", \"Blake\", \"Tash\", \"Cast\", \"Friends\", \"Collage\", \"Ripe\", \n",
    "                                    \"Undercover\", \"Quest\", \"Holden\"]\n",
    "\n",
    "    ignoreArtistList[\"LastFM\"]  += [\"Íåèçâåñòíûé Èñïîëíèòåëü\", \"Coast To Coast AM - George Noory\", \n",
    "                                    \"[unknown]\", \"Various Composers\", \"[unknown]\", \"Zåìôèðà\", 'Nature Sounds']\n",
    "    ignoreArtistList[\"AllMusic\"] = [\"Bryan Adams\", \"Tina\"]\n",
    "    ignoreArtistList[\"MusicBrainz\"] = [\"Various Artists\", \"[unknown]\", \"[no artist]\", \"[language instruction]\",\n",
    "                                      \"[nature sounds]\", \"Die drei ???\", \"[dialogue]\", \"初音ミク\", '[data]', \n",
    "                                       'Geovanni', \"Juan Torres\", \"DrefQuila\", '[Disney]', \n",
    "                                       '[Christmas music]', 'Harry Nach', 'Tiago PZK']\n",
    "    ignoreArtistList[\"RateYourMusic\"] = []\n",
    "    ignoreArtistList[\"Genius\"] = []\n",
    "    ignoreArtistList[\"KWorbiTunes\"] = []\n",
    "    ignoreArtistList[\"KWorbSpotify\"] = []\n",
    "    ignoreArtistList[\"Deezer\"] = []\n",
    "    ignoreArtistList[\"AlbumOfTheYear\"] = []\n",
    "    return ignoreArtistList"
   ]
  },
  {
   "cell_type": "code",
   "execution_count": null,
   "metadata": {},
   "outputs": [],
   "source": [
    "for db,artistNames in getIgnoreArtistList().items():\n",
    "    dbAP.updateMasterIgnoreNameData(db,artistNames)"
   ]
  },
  {
   "cell_type": "code",
   "execution_count": null,
   "metadata": {},
   "outputs": [],
   "source": [
    "from dbArtistsLastFM import dbArtistsLastFM"
   ]
  },
  {
   "cell_type": "code",
   "execution_count": null,
   "metadata": {},
   "outputs": [],
   "source": [
    "for modVal in range(1):\n",
    "    dbAP = dbArtistsPrimary(dbArtistsLastFM())\n",
    "    \n",
    "    tsDBData = timestat(\"Finding Pages/URL Data For ModVal={0}\".format(modVal))\n",
    "    dbData = dbAP.getDBData(modVal)\n",
    "    dbArtistURLPages = {artistID: {\"Name\": artistData.artist.name, \"URL\": artistData.url.url, \"Pages\": artistData.pages.pages} for artistID,artistData in dbData.items()}\n",
    "    tsDBData.stop()\n",
    "            \n",
    "    tsPages = timestat(\"Finding Artists With More Pages From {0} Artists For ModVal={1}\".format(len(dbArtistURLPages), modVal))\n",
    "    pagesData = {artistID: artistData for artistID,artistData in dbArtistURLPages.items() if artistData[\"Pages\"] is not None and artistData[\"Pages\"] > 1}\n",
    "    tsPages.stop()\n"
   ]
  },
  {
   "cell_type": "code",
   "execution_count": null,
   "metadata": {},
   "outputs": [],
   "source": [
    "if False:\n",
    "    dbAP = dbArtistsPrimary(dbArtistsLastFM())\n",
    "    dbData = dbAP.getDBData(0)\n",
    "    dbData['88336856000'].show()\n",
    "\n",
    "if False:\n",
    "    dbAP = dbArtistsPrimary(dbArtistsDiscogs())\n",
    "    dbData = dbAP.getDBData(0)\n",
    "    pages = dbData['15900'].pages\n",
    "\n",
    "if True:\n",
    "    dbAP = dbArtistsPrimary(dbArtistsMusicBrainz())\n",
    "    dbData = dbAP.getDBData(0)\n",
    "    pages = dbData['194279485768178399445457803447368290100'].pages\n",
    "    \n",
    "    "
   ]
  },
  {
   "cell_type": "code",
   "execution_count": null,
   "metadata": {},
   "outputs": [],
   "source": [
    "pages.get()"
   ]
  },
  {
   "cell_type": "code",
   "execution_count": null,
   "metadata": {},
   "outputs": [],
   "source": [
    "%autoreload\n",
    "from dbArtistsParseExtra import dbArtistsAssertExtra\n",
    "modVal=0\n",
    "dbAC = dbArtistsAssertExtra(dbArtistsLastFM())\n",
    "dbAC.createExtraMetadata(modVal=modVal)\n",
    "dbAC.downloadMissingArtistExtras(maxPages=2)"
   ]
  },
  {
   "cell_type": "code",
   "execution_count": null,
   "metadata": {},
   "outputs": [],
   "source": [
    "from copy import deepcopy\n",
    "meta = deepcopy(dbAC.metadata)"
   ]
  },
  {
   "cell_type": "code",
   "execution_count": null,
   "metadata": {},
   "outputs": [],
   "source": [
    "from pandas import DataFrame, concat\n",
    "df = concat([DataFrame(metaD).T for metaD in meta.values()])"
   ]
  },
  {
   "cell_type": "code",
   "execution_count": null,
   "metadata": {},
   "outputs": [],
   "source": [
    "dfS = df.sort_values(by=\"Pages\", ascending=False)"
   ]
  },
  {
   "cell_type": "code",
   "execution_count": null,
   "metadata": {},
   "outputs": [],
   "source": [
    "ignores =  [\"Various Artists\", \"Kid Cudi vs Crookers\", \"Elvis Presley vs. Junkie XL\", \"Eric Prydz vs Floyd\", \"Rain Sounds\", \"Rest & Relax Nature Sounds Artists\"]\n",
    "ignores += [\"Now That's What I Call Music!\", \"Best Relaxing Spa Music\", \"Relaxing Piano Music Consort\"]\n",
    "ignores"
   ]
  },
  {
   "cell_type": "code",
   "execution_count": null,
   "metadata": {},
   "outputs": [],
   "source": [
    "dbAC.updateMasterIgnoreNameData(db=\"LastFM\", artistNames=ignores)"
   ]
  },
  {
   "cell_type": "code",
   "execution_count": null,
   "metadata": {},
   "outputs": [],
   "source": [
    "dfS[dfS[\"Name\"].str.contains(\"Christmas\")].head(30)"
   ]
  },
  {
   "cell_type": "code",
   "execution_count": null,
   "metadata": {},
   "outputs": [],
   "source": []
  }
 ],
 "metadata": {
  "kernelspec": {
   "display_name": "Python 3",
   "language": "python",
   "name": "python3"
  },
  "language_info": {
   "codemirror_mode": {
    "name": "ipython",
    "version": 3
   },
   "file_extension": ".py",
   "mimetype": "text/x-python",
   "name": "python",
   "nbconvert_exporter": "python",
   "pygments_lexer": "ipython3",
   "version": "3.7.7"
  },
  "toc": {
   "base_numbering": 1,
   "nav_menu": {},
   "number_sections": true,
   "sideBar": true,
   "skip_h1_title": false,
   "title_cell": "Table of Contents",
   "title_sidebar": "Contents",
   "toc_cell": false,
   "toc_position": {},
   "toc_section_display": true,
   "toc_window_display": false
  }
 },
 "nbformat": 4,
 "nbformat_minor": 4
}
