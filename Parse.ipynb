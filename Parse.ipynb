{
 "cells": [
  {
   "cell_type": "code",
   "execution_count": 1,
   "metadata": {},
   "outputs": [
    {
     "data": {
      "text/html": [
       "<style>.container { width:100% !important; }</style>"
      ],
      "text/plain": [
       "<IPython.core.display.HTML object>"
      ]
     },
     "metadata": {},
     "output_type": "display_data"
    },
    {
     "data": {
      "text/html": [
       "<style>div.output_area{max-height:10000px;overflow:scroll;}</style>"
      ],
      "text/plain": [
       "<IPython.core.display.HTML object>"
      ]
     },
     "metadata": {},
     "output_type": "display_data"
    },
    {
     "name": "stdout",
     "output_type": "stream",
     "text": [
      "Python: 3.7.7 (default, Mar 26 2020, 10:32:53) \n",
      "[Clang 4.0.1 (tags/RELEASE_401/final)]\n",
      "Notebook Last Run Initiated: 2021-11-14 11:56:20.930892\n"
     ]
    }
   ],
   "source": [
    "######################################################\n",
    "# Juypter\n",
    "######################################################\n",
    "%load_ext autoreload\n",
    "%autoreload\n",
    "from IPython.core.display import display, HTML\n",
    "display(HTML(\"<style>.container { width:100% !important; }</style>\"))\n",
    "display(HTML(\"\"\"<style>div.output_area{max-height:10000px;overflow:scroll;}</style>\"\"\"))\n",
    "\n",
    "\n",
    "###########################################################################\n",
    "## Warnings\n",
    "###########################################################################\n",
    "import warnings\n",
    "warnings.filterwarnings(\"ignore\", category=DeprecationWarning) \n",
    "warnings.filterwarnings(\"ignore\", category=FutureWarning) \n",
    "\n",
    "\n",
    "\n",
    "################################################################################\n",
    "## Music DB\n",
    "################################################################################\n",
    "from masterDBGate import masterDBGate\n",
    "from mainDB import mainDB\n",
    "from musicDBMap import musicDBMap\n",
    "from masterDBMatchClass import masterDBMatchClass\n",
    "from matchDBArtist import matchDBArtist\n",
    "from dbArtistsMetadata import dbArtistsMetadata\n",
    "\n",
    "from dbArtistsParseExtra import dbArtistsAssertExtra, dbArtistsExtra\n",
    "\n",
    "######################################################\n",
    "# Versions\n",
    "######################################################\n",
    "from timeUtils import clock, elapsed\n",
    "import sys\n",
    "print(\"Python: {0}\".format(sys.version))\n",
    "import datetime as dt\n",
    "start = dt.datetime.now()\n",
    "print(\"Notebook Last Run Initiated: \"+str(start))"
   ]
  },
  {
   "cell_type": "code",
   "execution_count": 17,
   "metadata": {},
   "outputs": [],
   "source": [
    "#!python setup.py install"
   ]
  },
  {
   "cell_type": "markdown",
   "metadata": {},
   "source": [
    "# Metadata"
   ]
  },
  {
   "cell_type": "code",
   "execution_count": 20,
   "metadata": {},
   "outputs": [
    {
     "name": "stdout",
     "output_type": "stream",
     "text": [
      "Current Time is Sat Nov 13, 2021 14:12 for Creating Artist Name Metadata For ModVal=0\n",
      "Saving [18813] ID => Name/URL Entries To /Users/tgadfort/Music/Discog/artists-musicbrainz-db/metadata/0-Metadata.p\n",
      "Process [Creating Artist Name Metadata For ModVal=0] Took 0.2 Seconds\n",
      "Current Time is Sat Nov 13, 2021 14:12 for Creating Artist Album Metadata For ModVal=0\n",
      "Saving [18813] ID => AlbumNames Entries To /Users/tgadfort/Music/Discog/artists-musicbrainz-db/metadata/0-MediaMetadata.p\n",
      "Process [Creating Artist Album Metadata For ModVal=0] Took 0.3 Seconds\n",
      "Current Time is Sat Nov 13, 2021 14:12 for Creating Artist Name Metadata For ModVal=1\n",
      "Saving [18778] ID => Name/URL Entries To /Users/tgadfort/Music/Discog/artists-musicbrainz-db/metadata/1-Metadata.p\n",
      "Process [Creating Artist Name Metadata For ModVal=1] Took 0.2 Seconds\n",
      "Current Time is Sat Nov 13, 2021 14:12 for Creating Artist Album Metadata For ModVal=1\n",
      "Saving [18778] ID => AlbumNames Entries To /Users/tgadfort/Music/Discog/artists-musicbrainz-db/metadata/1-MediaMetadata.p\n",
      "Process [Creating Artist Album Metadata For ModVal=1] Took 0.3 Seconds\n",
      "Current Time is Sat Nov 13, 2021 14:12 for Creating Artist Name Metadata For ModVal=2\n",
      "Saving [18672] ID => Name/URL Entries To /Users/tgadfort/Music/Discog/artists-musicbrainz-db/metadata/2-Metadata.p\n",
      "Process [Creating Artist Name Metadata For ModVal=2] Took 0.2 Seconds\n",
      "Current Time is Sat Nov 13, 2021 14:12 for Creating Artist Album Metadata For ModVal=2\n",
      "Saving [18672] ID => AlbumNames Entries To /Users/tgadfort/Music/Discog/artists-musicbrainz-db/metadata/2-MediaMetadata.p\n",
      "Process [Creating Artist Album Metadata For ModVal=2] Took 0.3 Seconds\n",
      "Current Time is Sat Nov 13, 2021 14:12 for Creating Artist Name Metadata For ModVal=3\n",
      "Saving [18937] ID => Name/URL Entries To /Users/tgadfort/Music/Discog/artists-musicbrainz-db/metadata/3-Metadata.p\n",
      "Process [Creating Artist Name Metadata For ModVal=3] Took 0.2 Seconds\n",
      "Current Time is Sat Nov 13, 2021 14:12 for Creating Artist Album Metadata For ModVal=3\n",
      "Saving [18937] ID => AlbumNames Entries To /Users/tgadfort/Music/Discog/artists-musicbrainz-db/metadata/3-MediaMetadata.p\n",
      "Process [Creating Artist Album Metadata For ModVal=3] Took 1.9 Seconds\n",
      "Current Time is Sat Nov 13, 2021 14:12 for Creating Artist Name Metadata For ModVal=4\n",
      "Saving [18995] ID => Name/URL Entries To /Users/tgadfort/Music/Discog/artists-musicbrainz-db/metadata/4-Metadata.p\n",
      "Process [Creating Artist Name Metadata For ModVal=4] Took 0.2 Seconds\n",
      "Current Time is Sat Nov 13, 2021 14:12 for Creating Artist Album Metadata For ModVal=4\n",
      "Saving [18995] ID => AlbumNames Entries To /Users/tgadfort/Music/Discog/artists-musicbrainz-db/metadata/4-MediaMetadata.p\n",
      "Process [Creating Artist Album Metadata For ModVal=4] Took 0.3 Seconds\n",
      "Current Time is Sat Nov 13, 2021 14:12 for Creating Artist Name Metadata For ModVal=5\n",
      "Saving [18862] ID => Name/URL Entries To /Users/tgadfort/Music/Discog/artists-musicbrainz-db/metadata/5-Metadata.p\n",
      "Process [Creating Artist Name Metadata For ModVal=5] Took 0.2 Seconds\n",
      "Current Time is Sat Nov 13, 2021 14:12 for Creating Artist Album Metadata For ModVal=5\n",
      "Saving [18862] ID => AlbumNames Entries To /Users/tgadfort/Music/Discog/artists-musicbrainz-db/metadata/5-MediaMetadata.p\n",
      "Process [Creating Artist Album Metadata For ModVal=5] Took 1.9 Seconds\n",
      "Current Time is Sat Nov 13, 2021 14:12 for Creating Artist Name Metadata For ModVal=6\n",
      "Saving [18667] ID => Name/URL Entries To /Users/tgadfort/Music/Discog/artists-musicbrainz-db/metadata/6-Metadata.p\n",
      "Process [Creating Artist Name Metadata For ModVal=6] Took 0.2 Seconds\n",
      "Current Time is Sat Nov 13, 2021 14:12 for Creating Artist Album Metadata For ModVal=6\n",
      "Saving [18667] ID => AlbumNames Entries To /Users/tgadfort/Music/Discog/artists-musicbrainz-db/metadata/6-MediaMetadata.p\n",
      "Process [Creating Artist Album Metadata For ModVal=6] Took 0.3 Seconds\n",
      "Current Time is Sat Nov 13, 2021 14:12 for Creating Artist Name Metadata For ModVal=7\n",
      "Saving [18901] ID => Name/URL Entries To /Users/tgadfort/Music/Discog/artists-musicbrainz-db/metadata/7-Metadata.p\n",
      "Process [Creating Artist Name Metadata For ModVal=7] Took 0.2 Seconds\n",
      "Current Time is Sat Nov 13, 2021 14:12 for Creating Artist Album Metadata For ModVal=7\n",
      "Saving [18901] ID => AlbumNames Entries To /Users/tgadfort/Music/Discog/artists-musicbrainz-db/metadata/7-MediaMetadata.p\n",
      "Process [Creating Artist Album Metadata For ModVal=7] Took 0.3 Seconds\n",
      "Current Time is Sat Nov 13, 2021 14:12 for Creating Artist Name Metadata For ModVal=8\n",
      "Saving [18664] ID => Name/URL Entries To /Users/tgadfort/Music/Discog/artists-musicbrainz-db/metadata/8-Metadata.p\n",
      "Process [Creating Artist Name Metadata For ModVal=8] Took 0.2 Seconds\n",
      "Current Time is Sat Nov 13, 2021 14:12 for Creating Artist Album Metadata For ModVal=8\n",
      "Saving [18664] ID => AlbumNames Entries To /Users/tgadfort/Music/Discog/artists-musicbrainz-db/metadata/8-MediaMetadata.p\n",
      "Process [Creating Artist Album Metadata For ModVal=8] Took 0.3 Seconds\n",
      "Current Time is Sat Nov 13, 2021 14:12 for Creating Artist Name Metadata For ModVal=9\n",
      "Saving [18875] ID => Name/URL Entries To /Users/tgadfort/Music/Discog/artists-musicbrainz-db/metadata/9-Metadata.p\n",
      "Process [Creating Artist Name Metadata For ModVal=9] Took 0.2 Seconds\n",
      "Current Time is Sat Nov 13, 2021 14:12 for Creating Artist Album Metadata For ModVal=9\n",
      "Saving [18875] ID => AlbumNames Entries To /Users/tgadfort/Music/Discog/artists-musicbrainz-db/metadata/9-MediaMetadata.p\n",
      "Process [Creating Artist Album Metadata For ModVal=9] Took 0.3 Seconds\n",
      "Current Time is Sat Nov 13, 2021 14:12 for Creating Artist Name Metadata For ModVal=10\n",
      "Saving [18785] ID => Name/URL Entries To /Users/tgadfort/Music/Discog/artists-musicbrainz-db/metadata/10-Metadata.p\n",
      "Process [Creating Artist Name Metadata For ModVal=10] Took 0.2 Seconds\n",
      "Current Time is Sat Nov 13, 2021 14:12 for Creating Artist Album Metadata For ModVal=10\n",
      "Saving [18785] ID => AlbumNames Entries To /Users/tgadfort/Music/Discog/artists-musicbrainz-db/metadata/10-MediaMetadata.p\n",
      "Process [Creating Artist Album Metadata For ModVal=10] Took 0.3 Seconds\n",
      "Current Time is Sat Nov 13, 2021 14:12 for Creating Artist Name Metadata For ModVal=11\n",
      "Saving [18918] ID => Name/URL Entries To /Users/tgadfort/Music/Discog/artists-musicbrainz-db/metadata/11-Metadata.p\n",
      "Process [Creating Artist Name Metadata For ModVal=11] Took 0.2 Seconds\n",
      "Current Time is Sat Nov 13, 2021 14:12 for Creating Artist Album Metadata For ModVal=11\n",
      "Saving [18918] ID => AlbumNames Entries To /Users/tgadfort/Music/Discog/artists-musicbrainz-db/metadata/11-MediaMetadata.p\n",
      "Process [Creating Artist Album Metadata For ModVal=11] Took 0.3 Seconds\n",
      "Current Time is Sat Nov 13, 2021 14:13 for Creating Artist Name Metadata For ModVal=12\n",
      "Saving [18943] ID => Name/URL Entries To /Users/tgadfort/Music/Discog/artists-musicbrainz-db/metadata/12-Metadata.p\n",
      "Process [Creating Artist Name Metadata For ModVal=12] Took 0.2 Seconds\n",
      "Current Time is Sat Nov 13, 2021 14:13 for Creating Artist Album Metadata For ModVal=12\n",
      "Saving [18943] ID => AlbumNames Entries To /Users/tgadfort/Music/Discog/artists-musicbrainz-db/metadata/12-MediaMetadata.p\n",
      "Process [Creating Artist Album Metadata For ModVal=12] Took 0.3 Seconds\n",
      "Current Time is Sat Nov 13, 2021 14:13 for Creating Artist Name Metadata For ModVal=13\n",
      "Saving [18807] ID => Name/URL Entries To /Users/tgadfort/Music/Discog/artists-musicbrainz-db/metadata/13-Metadata.p\n",
      "Process [Creating Artist Name Metadata For ModVal=13] Took 0.2 Seconds\n",
      "Current Time is Sat Nov 13, 2021 14:13 for Creating Artist Album Metadata For ModVal=13\n",
      "Saving [18807] ID => AlbumNames Entries To /Users/tgadfort/Music/Discog/artists-musicbrainz-db/metadata/13-MediaMetadata.p\n",
      "Process [Creating Artist Album Metadata For ModVal=13] Took 0.3 Seconds\n",
      "Current Time is Sat Nov 13, 2021 14:13 for Creating Artist Name Metadata For ModVal=14\n",
      "Saving [19020] ID => Name/URL Entries To /Users/tgadfort/Music/Discog/artists-musicbrainz-db/metadata/14-Metadata.p\n",
      "Process [Creating Artist Name Metadata For ModVal=14] Took 0.2 Seconds\n",
      "Current Time is Sat Nov 13, 2021 14:13 for Creating Artist Album Metadata For ModVal=14\n",
      "Saving [19020] ID => AlbumNames Entries To /Users/tgadfort/Music/Discog/artists-musicbrainz-db/metadata/14-MediaMetadata.p\n"
     ]
    },
    {
     "name": "stdout",
     "output_type": "stream",
     "text": [
      "Process [Creating Artist Album Metadata For ModVal=14] Took 0.3 Seconds\n",
      "Current Time is Sat Nov 13, 2021 14:13 for Creating Artist Name Metadata For ModVal=15\n",
      "Saving [18689] ID => Name/URL Entries To /Users/tgadfort/Music/Discog/artists-musicbrainz-db/metadata/15-Metadata.p\n",
      "Process [Creating Artist Name Metadata For ModVal=15] Took 0.2 Seconds\n",
      "Current Time is Sat Nov 13, 2021 14:13 for Creating Artist Album Metadata For ModVal=15\n",
      "Saving [18689] ID => AlbumNames Entries To /Users/tgadfort/Music/Discog/artists-musicbrainz-db/metadata/15-MediaMetadata.p\n",
      "Process [Creating Artist Album Metadata For ModVal=15] Took 0.3 Seconds\n",
      "Current Time is Sat Nov 13, 2021 14:13 for Creating Artist Name Metadata For ModVal=16\n",
      "Saving [18722] ID => Name/URL Entries To /Users/tgadfort/Music/Discog/artists-musicbrainz-db/metadata/16-Metadata.p\n",
      "Process [Creating Artist Name Metadata For ModVal=16] Took 0.2 Seconds\n",
      "Current Time is Sat Nov 13, 2021 14:13 for Creating Artist Album Metadata For ModVal=16\n",
      "Saving [18722] ID => AlbumNames Entries To /Users/tgadfort/Music/Discog/artists-musicbrainz-db/metadata/16-MediaMetadata.p\n",
      "Process [Creating Artist Album Metadata For ModVal=16] Took 0.3 Seconds\n",
      "Current Time is Sat Nov 13, 2021 14:13 for Creating Artist Name Metadata For ModVal=17\n",
      "Saving [18858] ID => Name/URL Entries To /Users/tgadfort/Music/Discog/artists-musicbrainz-db/metadata/17-Metadata.p\n",
      "Process [Creating Artist Name Metadata For ModVal=17] Took 1.9 Seconds\n",
      "Current Time is Sat Nov 13, 2021 14:13 for Creating Artist Album Metadata For ModVal=17\n",
      "Saving [18858] ID => AlbumNames Entries To /Users/tgadfort/Music/Discog/artists-musicbrainz-db/metadata/17-MediaMetadata.p\n",
      "Process [Creating Artist Album Metadata For ModVal=17] Took 0.3 Seconds\n",
      "Current Time is Sat Nov 13, 2021 14:13 for Creating Artist Name Metadata For ModVal=18\n",
      "Saving [18787] ID => Name/URL Entries To /Users/tgadfort/Music/Discog/artists-musicbrainz-db/metadata/18-Metadata.p\n",
      "Process [Creating Artist Name Metadata For ModVal=18] Took 0.2 Seconds\n",
      "Current Time is Sat Nov 13, 2021 14:13 for Creating Artist Album Metadata For ModVal=18\n",
      "Saving [18787] ID => AlbumNames Entries To /Users/tgadfort/Music/Discog/artists-musicbrainz-db/metadata/18-MediaMetadata.p\n",
      "Process [Creating Artist Album Metadata For ModVal=18] Took 0.3 Seconds\n",
      "Current Time is Sat Nov 13, 2021 14:13 for Creating Artist Name Metadata For ModVal=19\n",
      "Saving [18847] ID => Name/URL Entries To /Users/tgadfort/Music/Discog/artists-musicbrainz-db/metadata/19-Metadata.p\n",
      "Process [Creating Artist Name Metadata For ModVal=19] Took 0.3 Seconds\n",
      "Current Time is Sat Nov 13, 2021 14:13 for Creating Artist Album Metadata For ModVal=19\n",
      "Saving [18847] ID => AlbumNames Entries To /Users/tgadfort/Music/Discog/artists-musicbrainz-db/metadata/19-MediaMetadata.p\n",
      "Process [Creating Artist Album Metadata For ModVal=19] Took 0.3 Seconds\n",
      "Current Time is Sat Nov 13, 2021 14:13 for Creating Artist Name Metadata For ModVal=20\n",
      "Saving [18922] ID => Name/URL Entries To /Users/tgadfort/Music/Discog/artists-musicbrainz-db/metadata/20-Metadata.p\n",
      "Process [Creating Artist Name Metadata For ModVal=20] Took 0.2 Seconds\n",
      "Current Time is Sat Nov 13, 2021 14:13 for Creating Artist Album Metadata For ModVal=20\n",
      "Saving [18922] ID => AlbumNames Entries To /Users/tgadfort/Music/Discog/artists-musicbrainz-db/metadata/20-MediaMetadata.p\n",
      "Process [Creating Artist Album Metadata For ModVal=20] Took 0.3 Seconds\n",
      "Current Time is Sat Nov 13, 2021 14:13 for Creating Artist Name Metadata For ModVal=21\n",
      "Saving [19042] ID => Name/URL Entries To /Users/tgadfort/Music/Discog/artists-musicbrainz-db/metadata/21-Metadata.p\n",
      "Process [Creating Artist Name Metadata For ModVal=21] Took 0.2 Seconds\n",
      "Current Time is Sat Nov 13, 2021 14:13 for Creating Artist Album Metadata For ModVal=21\n",
      "Saving [19042] ID => AlbumNames Entries To /Users/tgadfort/Music/Discog/artists-musicbrainz-db/metadata/21-MediaMetadata.p\n",
      "Process [Creating Artist Album Metadata For ModVal=21] Took 0.3 Seconds\n",
      "Current Time is Sat Nov 13, 2021 14:13 for Creating Artist Name Metadata For ModVal=22\n",
      "Saving [18856] ID => Name/URL Entries To /Users/tgadfort/Music/Discog/artists-musicbrainz-db/metadata/22-Metadata.p\n",
      "Process [Creating Artist Name Metadata For ModVal=22] Took 0.2 Seconds\n",
      "Current Time is Sat Nov 13, 2021 14:13 for Creating Artist Album Metadata For ModVal=22\n",
      "Saving [18856] ID => AlbumNames Entries To /Users/tgadfort/Music/Discog/artists-musicbrainz-db/metadata/22-MediaMetadata.p\n",
      "Process [Creating Artist Album Metadata For ModVal=22] Took 0.3 Seconds\n",
      "Current Time is Sat Nov 13, 2021 14:13 for Creating Artist Name Metadata For ModVal=23\n",
      "Saving [18846] ID => Name/URL Entries To /Users/tgadfort/Music/Discog/artists-musicbrainz-db/metadata/23-Metadata.p\n",
      "Process [Creating Artist Name Metadata For ModVal=23] Took 0.2 Seconds\n",
      "Current Time is Sat Nov 13, 2021 14:13 for Creating Artist Album Metadata For ModVal=23\n",
      "Saving [18846] ID => AlbumNames Entries To /Users/tgadfort/Music/Discog/artists-musicbrainz-db/metadata/23-MediaMetadata.p\n",
      "Process [Creating Artist Album Metadata For ModVal=23] Took 0.3 Seconds\n",
      "Current Time is Sat Nov 13, 2021 14:14 for Creating Artist Name Metadata For ModVal=24\n",
      "Saving [18768] ID => Name/URL Entries To /Users/tgadfort/Music/Discog/artists-musicbrainz-db/metadata/24-Metadata.p\n",
      "Process [Creating Artist Name Metadata For ModVal=24] Took 0.2 Seconds\n",
      "Current Time is Sat Nov 13, 2021 14:14 for Creating Artist Album Metadata For ModVal=24\n",
      "Saving [18768] ID => AlbumNames Entries To /Users/tgadfort/Music/Discog/artists-musicbrainz-db/metadata/24-MediaMetadata.p\n",
      "Process [Creating Artist Album Metadata For ModVal=24] Took 0.3 Seconds\n",
      "Current Time is Sat Nov 13, 2021 14:14 for Creating Artist Name Metadata For ModVal=25\n",
      "Saving [18840] ID => Name/URL Entries To /Users/tgadfort/Music/Discog/artists-musicbrainz-db/metadata/25-Metadata.p\n",
      "Process [Creating Artist Name Metadata For ModVal=25] Took 0.3 Seconds\n",
      "Current Time is Sat Nov 13, 2021 14:14 for Creating Artist Album Metadata For ModVal=25\n",
      "Saving [18840] ID => AlbumNames Entries To /Users/tgadfort/Music/Discog/artists-musicbrainz-db/metadata/25-MediaMetadata.p\n",
      "Process [Creating Artist Album Metadata For ModVal=25] Took 0.3 Seconds\n",
      "Current Time is Sat Nov 13, 2021 14:14 for Creating Artist Name Metadata For ModVal=26\n",
      "Saving [18808] ID => Name/URL Entries To /Users/tgadfort/Music/Discog/artists-musicbrainz-db/metadata/26-Metadata.p\n",
      "Process [Creating Artist Name Metadata For ModVal=26] Took 0.2 Seconds\n",
      "Current Time is Sat Nov 13, 2021 14:14 for Creating Artist Album Metadata For ModVal=26\n",
      "Saving [18808] ID => AlbumNames Entries To /Users/tgadfort/Music/Discog/artists-musicbrainz-db/metadata/26-MediaMetadata.p\n",
      "Process [Creating Artist Album Metadata For ModVal=26] Took 0.3 Seconds\n",
      "Current Time is Sat Nov 13, 2021 14:14 for Creating Artist Name Metadata For ModVal=27\n",
      "Saving [18808] ID => Name/URL Entries To /Users/tgadfort/Music/Discog/artists-musicbrainz-db/metadata/27-Metadata.p\n",
      "Process [Creating Artist Name Metadata For ModVal=27] Took 0.2 Seconds\n",
      "Current Time is Sat Nov 13, 2021 14:14 for Creating Artist Album Metadata For ModVal=27\n",
      "Saving [18808] ID => AlbumNames Entries To /Users/tgadfort/Music/Discog/artists-musicbrainz-db/metadata/27-MediaMetadata.p\n",
      "Process [Creating Artist Album Metadata For ModVal=27] Took 0.3 Seconds\n",
      "Current Time is Sat Nov 13, 2021 14:14 for Creating Artist Name Metadata For ModVal=28\n",
      "Saving [18586] ID => Name/URL Entries To /Users/tgadfort/Music/Discog/artists-musicbrainz-db/metadata/28-Metadata.p\n",
      "Process [Creating Artist Name Metadata For ModVal=28] Took 0.3 Seconds\n",
      "Current Time is Sat Nov 13, 2021 14:14 for Creating Artist Album Metadata For ModVal=28\n",
      "Saving [18586] ID => AlbumNames Entries To /Users/tgadfort/Music/Discog/artists-musicbrainz-db/metadata/28-MediaMetadata.p\n",
      "Process [Creating Artist Album Metadata For ModVal=28] Took 0.3 Seconds\n",
      "Current Time is Sat Nov 13, 2021 14:14 for Creating Artist Name Metadata For ModVal=29\n",
      "Saving [18920] ID => Name/URL Entries To /Users/tgadfort/Music/Discog/artists-musicbrainz-db/metadata/29-Metadata.p\n",
      "Process [Creating Artist Name Metadata For ModVal=29] Took 0.2 Seconds\n",
      "Current Time is Sat Nov 13, 2021 14:14 for Creating Artist Album Metadata For ModVal=29\n"
     ]
    },
    {
     "name": "stdout",
     "output_type": "stream",
     "text": [
      "Saving [18920] ID => AlbumNames Entries To /Users/tgadfort/Music/Discog/artists-musicbrainz-db/metadata/29-MediaMetadata.p\n",
      "Process [Creating Artist Album Metadata For ModVal=29] Took 0.3 Seconds\n",
      "Current Time is Sat Nov 13, 2021 14:14 for Creating Artist Name Metadata For ModVal=30\n",
      "Saving [18822] ID => Name/URL Entries To /Users/tgadfort/Music/Discog/artists-musicbrainz-db/metadata/30-Metadata.p\n",
      "Process [Creating Artist Name Metadata For ModVal=30] Took 0.2 Seconds\n",
      "Current Time is Sat Nov 13, 2021 14:14 for Creating Artist Album Metadata For ModVal=30\n",
      "Saving [18822] ID => AlbumNames Entries To /Users/tgadfort/Music/Discog/artists-musicbrainz-db/metadata/30-MediaMetadata.p\n",
      "Process [Creating Artist Album Metadata For ModVal=30] Took 0.3 Seconds\n",
      "Current Time is Sat Nov 13, 2021 14:14 for Creating Artist Name Metadata For ModVal=31\n",
      "Saving [18810] ID => Name/URL Entries To /Users/tgadfort/Music/Discog/artists-musicbrainz-db/metadata/31-Metadata.p\n",
      "Process [Creating Artist Name Metadata For ModVal=31] Took 0.2 Seconds\n",
      "Current Time is Sat Nov 13, 2021 14:14 for Creating Artist Album Metadata For ModVal=31\n",
      "Saving [18810] ID => AlbumNames Entries To /Users/tgadfort/Music/Discog/artists-musicbrainz-db/metadata/31-MediaMetadata.p\n",
      "Process [Creating Artist Album Metadata For ModVal=31] Took 0.3 Seconds\n",
      "Current Time is Sat Nov 13, 2021 14:14 for Creating Artist Name Metadata For ModVal=32\n",
      "Saving [18647] ID => Name/URL Entries To /Users/tgadfort/Music/Discog/artists-musicbrainz-db/metadata/32-Metadata.p\n",
      "Process [Creating Artist Name Metadata For ModVal=32] Took 0.2 Seconds\n",
      "Current Time is Sat Nov 13, 2021 14:14 for Creating Artist Album Metadata For ModVal=32\n",
      "Saving [18647] ID => AlbumNames Entries To /Users/tgadfort/Music/Discog/artists-musicbrainz-db/metadata/32-MediaMetadata.p\n",
      "Process [Creating Artist Album Metadata For ModVal=32] Took 0.3 Seconds\n",
      "Current Time is Sat Nov 13, 2021 14:14 for Creating Artist Name Metadata For ModVal=33\n",
      "Saving [18914] ID => Name/URL Entries To /Users/tgadfort/Music/Discog/artists-musicbrainz-db/metadata/33-Metadata.p\n",
      "Process [Creating Artist Name Metadata For ModVal=33] Took 0.2 Seconds\n",
      "Current Time is Sat Nov 13, 2021 14:14 for Creating Artist Album Metadata For ModVal=33\n",
      "Saving [18914] ID => AlbumNames Entries To /Users/tgadfort/Music/Discog/artists-musicbrainz-db/metadata/33-MediaMetadata.p\n",
      "Process [Creating Artist Album Metadata For ModVal=33] Took 0.3 Seconds\n",
      "Current Time is Sat Nov 13, 2021 14:14 for Creating Artist Name Metadata For ModVal=34\n",
      "Saving [18971] ID => Name/URL Entries To /Users/tgadfort/Music/Discog/artists-musicbrainz-db/metadata/34-Metadata.p\n",
      "Process [Creating Artist Name Metadata For ModVal=34] Took 0.3 Seconds\n",
      "Current Time is Sat Nov 13, 2021 14:14 for Creating Artist Album Metadata For ModVal=34\n",
      "Saving [18971] ID => AlbumNames Entries To /Users/tgadfort/Music/Discog/artists-musicbrainz-db/metadata/34-MediaMetadata.p\n",
      "Process [Creating Artist Album Metadata For ModVal=34] Took 0.3 Seconds\n",
      "Current Time is Sat Nov 13, 2021 14:14 for Creating Artist Name Metadata For ModVal=35\n",
      "Saving [18755] ID => Name/URL Entries To /Users/tgadfort/Music/Discog/artists-musicbrainz-db/metadata/35-Metadata.p\n",
      "Process [Creating Artist Name Metadata For ModVal=35] Took 0.2 Seconds\n",
      "Current Time is Sat Nov 13, 2021 14:14 for Creating Artist Album Metadata For ModVal=35\n",
      "Saving [18755] ID => AlbumNames Entries To /Users/tgadfort/Music/Discog/artists-musicbrainz-db/metadata/35-MediaMetadata.p\n",
      "Process [Creating Artist Album Metadata For ModVal=35] Took 0.3 Seconds\n",
      "Current Time is Sat Nov 13, 2021 14:15 for Creating Artist Name Metadata For ModVal=36\n",
      "Saving [18777] ID => Name/URL Entries To /Users/tgadfort/Music/Discog/artists-musicbrainz-db/metadata/36-Metadata.p\n",
      "Process [Creating Artist Name Metadata For ModVal=36] Took 0.2 Seconds\n",
      "Current Time is Sat Nov 13, 2021 14:15 for Creating Artist Album Metadata For ModVal=36\n",
      "Saving [18777] ID => AlbumNames Entries To /Users/tgadfort/Music/Discog/artists-musicbrainz-db/metadata/36-MediaMetadata.p\n",
      "Process [Creating Artist Album Metadata For ModVal=36] Took 0.3 Seconds\n",
      "Current Time is Sat Nov 13, 2021 14:15 for Creating Artist Name Metadata For ModVal=37\n",
      "Saving [18625] ID => Name/URL Entries To /Users/tgadfort/Music/Discog/artists-musicbrainz-db/metadata/37-Metadata.p\n",
      "Process [Creating Artist Name Metadata For ModVal=37] Took 0.2 Seconds\n",
      "Current Time is Sat Nov 13, 2021 14:15 for Creating Artist Album Metadata For ModVal=37\n",
      "Saving [18625] ID => AlbumNames Entries To /Users/tgadfort/Music/Discog/artists-musicbrainz-db/metadata/37-MediaMetadata.p\n",
      "Process [Creating Artist Album Metadata For ModVal=37] Took 0.3 Seconds\n",
      "Current Time is Sat Nov 13, 2021 14:15 for Creating Artist Name Metadata For ModVal=38\n",
      "Saving [18836] ID => Name/URL Entries To /Users/tgadfort/Music/Discog/artists-musicbrainz-db/metadata/38-Metadata.p\n",
      "Process [Creating Artist Name Metadata For ModVal=38] Took 0.2 Seconds\n",
      "Current Time is Sat Nov 13, 2021 14:15 for Creating Artist Album Metadata For ModVal=38\n",
      "Saving [18836] ID => AlbumNames Entries To /Users/tgadfort/Music/Discog/artists-musicbrainz-db/metadata/38-MediaMetadata.p\n",
      "Process [Creating Artist Album Metadata For ModVal=38] Took 0.3 Seconds\n",
      "Current Time is Sat Nov 13, 2021 14:15 for Creating Artist Name Metadata For ModVal=39\n",
      "Saving [18575] ID => Name/URL Entries To /Users/tgadfort/Music/Discog/artists-musicbrainz-db/metadata/39-Metadata.p\n",
      "Process [Creating Artist Name Metadata For ModVal=39] Took 0.2 Seconds\n",
      "Current Time is Sat Nov 13, 2021 14:15 for Creating Artist Album Metadata For ModVal=39\n",
      "Saving [18575] ID => AlbumNames Entries To /Users/tgadfort/Music/Discog/artists-musicbrainz-db/metadata/39-MediaMetadata.p\n",
      "Process [Creating Artist Album Metadata For ModVal=39] Took 1.9 Seconds\n",
      "Current Time is Sat Nov 13, 2021 14:15 for Creating Artist Name Metadata For ModVal=40\n",
      "Saving [19000] ID => Name/URL Entries To /Users/tgadfort/Music/Discog/artists-musicbrainz-db/metadata/40-Metadata.p\n",
      "Process [Creating Artist Name Metadata For ModVal=40] Took 0.2 Seconds\n",
      "Current Time is Sat Nov 13, 2021 14:15 for Creating Artist Album Metadata For ModVal=40\n",
      "Saving [19000] ID => AlbumNames Entries To /Users/tgadfort/Music/Discog/artists-musicbrainz-db/metadata/40-MediaMetadata.p\n",
      "Process [Creating Artist Album Metadata For ModVal=40] Took 0.3 Seconds\n",
      "Current Time is Sat Nov 13, 2021 14:15 for Creating Artist Name Metadata For ModVal=41\n",
      "Saving [18928] ID => Name/URL Entries To /Users/tgadfort/Music/Discog/artists-musicbrainz-db/metadata/41-Metadata.p\n",
      "Process [Creating Artist Name Metadata For ModVal=41] Took 0.3 Seconds\n",
      "Current Time is Sat Nov 13, 2021 14:15 for Creating Artist Album Metadata For ModVal=41\n",
      "Saving [18928] ID => AlbumNames Entries To /Users/tgadfort/Music/Discog/artists-musicbrainz-db/metadata/41-MediaMetadata.p\n",
      "Process [Creating Artist Album Metadata For ModVal=41] Took 0.3 Seconds\n",
      "Current Time is Sat Nov 13, 2021 14:15 for Creating Artist Name Metadata For ModVal=42\n",
      "Saving [18836] ID => Name/URL Entries To /Users/tgadfort/Music/Discog/artists-musicbrainz-db/metadata/42-Metadata.p\n",
      "Process [Creating Artist Name Metadata For ModVal=42] Took 0.2 Seconds\n",
      "Current Time is Sat Nov 13, 2021 14:15 for Creating Artist Album Metadata For ModVal=42\n",
      "Saving [18836] ID => AlbumNames Entries To /Users/tgadfort/Music/Discog/artists-musicbrainz-db/metadata/42-MediaMetadata.p\n",
      "Process [Creating Artist Album Metadata For ModVal=42] Took 0.3 Seconds\n",
      "Current Time is Sat Nov 13, 2021 14:15 for Creating Artist Name Metadata For ModVal=43\n",
      "Saving [18713] ID => Name/URL Entries To /Users/tgadfort/Music/Discog/artists-musicbrainz-db/metadata/43-Metadata.p\n",
      "Process [Creating Artist Name Metadata For ModVal=43] Took 0.2 Seconds\n",
      "Current Time is Sat Nov 13, 2021 14:15 for Creating Artist Album Metadata For ModVal=43\n",
      "Saving [18713] ID => AlbumNames Entries To /Users/tgadfort/Music/Discog/artists-musicbrainz-db/metadata/43-MediaMetadata.p\n",
      "Process [Creating Artist Album Metadata For ModVal=43] Took 0.3 Seconds\n",
      "Current Time is Sat Nov 13, 2021 14:15 for Creating Artist Name Metadata For ModVal=44\n",
      "Saving [19116] ID => Name/URL Entries To /Users/tgadfort/Music/Discog/artists-musicbrainz-db/metadata/44-Metadata.p\n"
     ]
    },
    {
     "name": "stdout",
     "output_type": "stream",
     "text": [
      "Process [Creating Artist Name Metadata For ModVal=44] Took 0.2 Seconds\n",
      "Current Time is Sat Nov 13, 2021 14:15 for Creating Artist Album Metadata For ModVal=44\n",
      "Saving [19116] ID => AlbumNames Entries To /Users/tgadfort/Music/Discog/artists-musicbrainz-db/metadata/44-MediaMetadata.p\n",
      "Process [Creating Artist Album Metadata For ModVal=44] Took 0.3 Seconds\n",
      "Current Time is Sat Nov 13, 2021 14:15 for Creating Artist Name Metadata For ModVal=45\n",
      "Saving [18917] ID => Name/URL Entries To /Users/tgadfort/Music/Discog/artists-musicbrainz-db/metadata/45-Metadata.p\n",
      "Process [Creating Artist Name Metadata For ModVal=45] Took 0.2 Seconds\n",
      "Current Time is Sat Nov 13, 2021 14:15 for Creating Artist Album Metadata For ModVal=45\n",
      "Saving [18917] ID => AlbumNames Entries To /Users/tgadfort/Music/Discog/artists-musicbrainz-db/metadata/45-MediaMetadata.p\n",
      "Process [Creating Artist Album Metadata For ModVal=45] Took 0.3 Seconds\n",
      "Current Time is Sat Nov 13, 2021 14:15 for Creating Artist Name Metadata For ModVal=46\n",
      "Saving [18960] ID => Name/URL Entries To /Users/tgadfort/Music/Discog/artists-musicbrainz-db/metadata/46-Metadata.p\n",
      "Process [Creating Artist Name Metadata For ModVal=46] Took 0.2 Seconds\n",
      "Current Time is Sat Nov 13, 2021 14:15 for Creating Artist Album Metadata For ModVal=46\n",
      "Saving [18960] ID => AlbumNames Entries To /Users/tgadfort/Music/Discog/artists-musicbrainz-db/metadata/46-MediaMetadata.p\n",
      "Process [Creating Artist Album Metadata For ModVal=46] Took 0.3 Seconds\n",
      "Current Time is Sat Nov 13, 2021 14:15 for Creating Artist Name Metadata For ModVal=47\n",
      "Saving [19059] ID => Name/URL Entries To /Users/tgadfort/Music/Discog/artists-musicbrainz-db/metadata/47-Metadata.p\n",
      "Process [Creating Artist Name Metadata For ModVal=47] Took 0.2 Seconds\n",
      "Current Time is Sat Nov 13, 2021 14:15 for Creating Artist Album Metadata For ModVal=47\n",
      "Saving [19059] ID => AlbumNames Entries To /Users/tgadfort/Music/Discog/artists-musicbrainz-db/metadata/47-MediaMetadata.p\n",
      "Process [Creating Artist Album Metadata For ModVal=47] Took 0.3 Seconds\n",
      "Current Time is Sat Nov 13, 2021 14:15 for Creating Artist Name Metadata For ModVal=48\n",
      "Saving [18679] ID => Name/URL Entries To /Users/tgadfort/Music/Discog/artists-musicbrainz-db/metadata/48-Metadata.p\n",
      "Process [Creating Artist Name Metadata For ModVal=48] Took 0.2 Seconds\n",
      "Current Time is Sat Nov 13, 2021 14:15 for Creating Artist Album Metadata For ModVal=48\n",
      "Saving [18679] ID => AlbumNames Entries To /Users/tgadfort/Music/Discog/artists-musicbrainz-db/metadata/48-MediaMetadata.p\n",
      "Process [Creating Artist Album Metadata For ModVal=48] Took 0.3 Seconds\n",
      "Current Time is Sat Nov 13, 2021 14:16 for Creating Artist Name Metadata For ModVal=49\n",
      "Saving [18807] ID => Name/URL Entries To /Users/tgadfort/Music/Discog/artists-musicbrainz-db/metadata/49-Metadata.p\n",
      "Process [Creating Artist Name Metadata For ModVal=49] Took 0.2 Seconds\n",
      "Current Time is Sat Nov 13, 2021 14:16 for Creating Artist Album Metadata For ModVal=49\n",
      "Saving [18807] ID => AlbumNames Entries To /Users/tgadfort/Music/Discog/artists-musicbrainz-db/metadata/49-MediaMetadata.p\n",
      "Process [Creating Artist Album Metadata For ModVal=49] Took 0.3 Seconds\n",
      "Current Time is Sat Nov 13, 2021 14:16 for Creating Artist Name Metadata For ModVal=50\n",
      "Saving [18784] ID => Name/URL Entries To /Users/tgadfort/Music/Discog/artists-musicbrainz-db/metadata/50-Metadata.p\n",
      "Process [Creating Artist Name Metadata For ModVal=50] Took 0.2 Seconds\n",
      "Current Time is Sat Nov 13, 2021 14:16 for Creating Artist Album Metadata For ModVal=50\n",
      "Saving [18784] ID => AlbumNames Entries To /Users/tgadfort/Music/Discog/artists-musicbrainz-db/metadata/50-MediaMetadata.p\n",
      "Process [Creating Artist Album Metadata For ModVal=50] Took 0.3 Seconds\n",
      "Current Time is Sat Nov 13, 2021 14:16 for Creating Artist Name Metadata For ModVal=51\n",
      "Saving [18973] ID => Name/URL Entries To /Users/tgadfort/Music/Discog/artists-musicbrainz-db/metadata/51-Metadata.p\n",
      "Process [Creating Artist Name Metadata For ModVal=51] Took 0.2 Seconds\n",
      "Current Time is Sat Nov 13, 2021 14:16 for Creating Artist Album Metadata For ModVal=51\n",
      "Saving [18973] ID => AlbumNames Entries To /Users/tgadfort/Music/Discog/artists-musicbrainz-db/metadata/51-MediaMetadata.p\n",
      "Process [Creating Artist Album Metadata For ModVal=51] Took 0.3 Seconds\n",
      "Current Time is Sat Nov 13, 2021 14:16 for Creating Artist Name Metadata For ModVal=52\n",
      "Saving [18963] ID => Name/URL Entries To /Users/tgadfort/Music/Discog/artists-musicbrainz-db/metadata/52-Metadata.p\n",
      "Process [Creating Artist Name Metadata For ModVal=52] Took 0.2 Seconds\n",
      "Current Time is Sat Nov 13, 2021 14:16 for Creating Artist Album Metadata For ModVal=52\n",
      "Saving [18963] ID => AlbumNames Entries To /Users/tgadfort/Music/Discog/artists-musicbrainz-db/metadata/52-MediaMetadata.p\n",
      "Process [Creating Artist Album Metadata For ModVal=52] Took 0.3 Seconds\n",
      "Current Time is Sat Nov 13, 2021 14:16 for Creating Artist Name Metadata For ModVal=53\n",
      "Saving [18771] ID => Name/URL Entries To /Users/tgadfort/Music/Discog/artists-musicbrainz-db/metadata/53-Metadata.p\n",
      "Process [Creating Artist Name Metadata For ModVal=53] Took 2.1 Seconds\n",
      "Current Time is Sat Nov 13, 2021 14:16 for Creating Artist Album Metadata For ModVal=53\n",
      "Saving [18771] ID => AlbumNames Entries To /Users/tgadfort/Music/Discog/artists-musicbrainz-db/metadata/53-MediaMetadata.p\n",
      "Process [Creating Artist Album Metadata For ModVal=53] Took 0.3 Seconds\n",
      "Current Time is Sat Nov 13, 2021 14:16 for Creating Artist Name Metadata For ModVal=54\n",
      "Saving [18844] ID => Name/URL Entries To /Users/tgadfort/Music/Discog/artists-musicbrainz-db/metadata/54-Metadata.p\n",
      "Process [Creating Artist Name Metadata For ModVal=54] Took 0.2 Seconds\n",
      "Current Time is Sat Nov 13, 2021 14:16 for Creating Artist Album Metadata For ModVal=54\n",
      "Saving [18844] ID => AlbumNames Entries To /Users/tgadfort/Music/Discog/artists-musicbrainz-db/metadata/54-MediaMetadata.p\n",
      "Process [Creating Artist Album Metadata For ModVal=54] Took 0.3 Seconds\n",
      "Current Time is Sat Nov 13, 2021 14:16 for Creating Artist Name Metadata For ModVal=55\n",
      "Saving [18982] ID => Name/URL Entries To /Users/tgadfort/Music/Discog/artists-musicbrainz-db/metadata/55-Metadata.p\n",
      "Process [Creating Artist Name Metadata For ModVal=55] Took 0.2 Seconds\n",
      "Current Time is Sat Nov 13, 2021 14:16 for Creating Artist Album Metadata For ModVal=55\n",
      "Saving [18982] ID => AlbumNames Entries To /Users/tgadfort/Music/Discog/artists-musicbrainz-db/metadata/55-MediaMetadata.p\n",
      "Process [Creating Artist Album Metadata For ModVal=55] Took 0.3 Seconds\n",
      "Current Time is Sat Nov 13, 2021 14:16 for Creating Artist Name Metadata For ModVal=56\n",
      "Saving [18923] ID => Name/URL Entries To /Users/tgadfort/Music/Discog/artists-musicbrainz-db/metadata/56-Metadata.p\n",
      "Process [Creating Artist Name Metadata For ModVal=56] Took 0.2 Seconds\n",
      "Current Time is Sat Nov 13, 2021 14:16 for Creating Artist Album Metadata For ModVal=56\n",
      "Saving [18923] ID => AlbumNames Entries To /Users/tgadfort/Music/Discog/artists-musicbrainz-db/metadata/56-MediaMetadata.p\n",
      "Process [Creating Artist Album Metadata For ModVal=56] Took 0.3 Seconds\n",
      "Current Time is Sat Nov 13, 2021 14:16 for Creating Artist Name Metadata For ModVal=57\n",
      "Saving [18807] ID => Name/URL Entries To /Users/tgadfort/Music/Discog/artists-musicbrainz-db/metadata/57-Metadata.p\n",
      "Process [Creating Artist Name Metadata For ModVal=57] Took 0.2 Seconds\n",
      "Current Time is Sat Nov 13, 2021 14:16 for Creating Artist Album Metadata For ModVal=57\n",
      "Saving [18807] ID => AlbumNames Entries To /Users/tgadfort/Music/Discog/artists-musicbrainz-db/metadata/57-MediaMetadata.p\n",
      "Process [Creating Artist Album Metadata For ModVal=57] Took 0.3 Seconds\n",
      "Current Time is Sat Nov 13, 2021 14:16 for Creating Artist Name Metadata For ModVal=58\n",
      "Saving [18858] ID => Name/URL Entries To /Users/tgadfort/Music/Discog/artists-musicbrainz-db/metadata/58-Metadata.p\n",
      "Process [Creating Artist Name Metadata For ModVal=58] Took 0.2 Seconds\n",
      "Current Time is Sat Nov 13, 2021 14:16 for Creating Artist Album Metadata For ModVal=58\n",
      "Saving [18858] ID => AlbumNames Entries To /Users/tgadfort/Music/Discog/artists-musicbrainz-db/metadata/58-MediaMetadata.p\n",
      "Process [Creating Artist Album Metadata For ModVal=58] Took 0.3 Seconds\n",
      "Current Time is Sat Nov 13, 2021 14:16 for Creating Artist Name Metadata For ModVal=59\n",
      "Saving [18765] ID => Name/URL Entries To /Users/tgadfort/Music/Discog/artists-musicbrainz-db/metadata/59-Metadata.p\n"
     ]
    },
    {
     "name": "stdout",
     "output_type": "stream",
     "text": [
      "Process [Creating Artist Name Metadata For ModVal=59] Took 0.2 Seconds\n",
      "Current Time is Sat Nov 13, 2021 14:16 for Creating Artist Album Metadata For ModVal=59\n",
      "Saving [18765] ID => AlbumNames Entries To /Users/tgadfort/Music/Discog/artists-musicbrainz-db/metadata/59-MediaMetadata.p\n",
      "Process [Creating Artist Album Metadata For ModVal=59] Took 0.3 Seconds\n",
      "Current Time is Sat Nov 13, 2021 14:16 for Creating Artist Name Metadata For ModVal=60\n",
      "Saving [18998] ID => Name/URL Entries To /Users/tgadfort/Music/Discog/artists-musicbrainz-db/metadata/60-Metadata.p\n",
      "Process [Creating Artist Name Metadata For ModVal=60] Took 0.2 Seconds\n",
      "Current Time is Sat Nov 13, 2021 14:16 for Creating Artist Album Metadata For ModVal=60\n",
      "Saving [18998] ID => AlbumNames Entries To /Users/tgadfort/Music/Discog/artists-musicbrainz-db/metadata/60-MediaMetadata.p\n",
      "Process [Creating Artist Album Metadata For ModVal=60] Took 0.3 Seconds\n",
      "Current Time is Sat Nov 13, 2021 14:17 for Creating Artist Name Metadata For ModVal=61\n",
      "Saving [18826] ID => Name/URL Entries To /Users/tgadfort/Music/Discog/artists-musicbrainz-db/metadata/61-Metadata.p\n",
      "Process [Creating Artist Name Metadata For ModVal=61] Took 0.2 Seconds\n",
      "Current Time is Sat Nov 13, 2021 14:17 for Creating Artist Album Metadata For ModVal=61\n",
      "Saving [18826] ID => AlbumNames Entries To /Users/tgadfort/Music/Discog/artists-musicbrainz-db/metadata/61-MediaMetadata.p\n",
      "Process [Creating Artist Album Metadata For ModVal=61] Took 0.3 Seconds\n",
      "Current Time is Sat Nov 13, 2021 14:17 for Creating Artist Name Metadata For ModVal=62\n",
      "Saving [18693] ID => Name/URL Entries To /Users/tgadfort/Music/Discog/artists-musicbrainz-db/metadata/62-Metadata.p\n",
      "Process [Creating Artist Name Metadata For ModVal=62] Took 0.2 Seconds\n",
      "Current Time is Sat Nov 13, 2021 14:17 for Creating Artist Album Metadata For ModVal=62\n",
      "Saving [18693] ID => AlbumNames Entries To /Users/tgadfort/Music/Discog/artists-musicbrainz-db/metadata/62-MediaMetadata.p\n",
      "Process [Creating Artist Album Metadata For ModVal=62] Took 0.3 Seconds\n",
      "Current Time is Sat Nov 13, 2021 14:17 for Creating Artist Name Metadata For ModVal=63\n",
      "Saving [19019] ID => Name/URL Entries To /Users/tgadfort/Music/Discog/artists-musicbrainz-db/metadata/63-Metadata.p\n",
      "Process [Creating Artist Name Metadata For ModVal=63] Took 0.2 Seconds\n",
      "Current Time is Sat Nov 13, 2021 14:17 for Creating Artist Album Metadata For ModVal=63\n",
      "Saving [19019] ID => AlbumNames Entries To /Users/tgadfort/Music/Discog/artists-musicbrainz-db/metadata/63-MediaMetadata.p\n",
      "Process [Creating Artist Album Metadata For ModVal=63] Took 0.3 Seconds\n",
      "Current Time is Sat Nov 13, 2021 14:17 for Creating Artist Name Metadata For ModVal=64\n",
      "Saving [18670] ID => Name/URL Entries To /Users/tgadfort/Music/Discog/artists-musicbrainz-db/metadata/64-Metadata.p\n",
      "Process [Creating Artist Name Metadata For ModVal=64] Took 0.2 Seconds\n",
      "Current Time is Sat Nov 13, 2021 14:17 for Creating Artist Album Metadata For ModVal=64\n",
      "Saving [18670] ID => AlbumNames Entries To /Users/tgadfort/Music/Discog/artists-musicbrainz-db/metadata/64-MediaMetadata.p\n",
      "Process [Creating Artist Album Metadata For ModVal=64] Took 0.3 Seconds\n",
      "Current Time is Sat Nov 13, 2021 14:17 for Creating Artist Name Metadata For ModVal=65\n",
      "Saving [18844] ID => Name/URL Entries To /Users/tgadfort/Music/Discog/artists-musicbrainz-db/metadata/65-Metadata.p\n",
      "Process [Creating Artist Name Metadata For ModVal=65] Took 0.2 Seconds\n",
      "Current Time is Sat Nov 13, 2021 14:17 for Creating Artist Album Metadata For ModVal=65\n",
      "Saving [18844] ID => AlbumNames Entries To /Users/tgadfort/Music/Discog/artists-musicbrainz-db/metadata/65-MediaMetadata.p\n",
      "Process [Creating Artist Album Metadata For ModVal=65] Took 0.3 Seconds\n",
      "Current Time is Sat Nov 13, 2021 14:17 for Creating Artist Name Metadata For ModVal=66\n",
      "Saving [18741] ID => Name/URL Entries To /Users/tgadfort/Music/Discog/artists-musicbrainz-db/metadata/66-Metadata.p\n",
      "Process [Creating Artist Name Metadata For ModVal=66] Took 0.2 Seconds\n",
      "Current Time is Sat Nov 13, 2021 14:17 for Creating Artist Album Metadata For ModVal=66\n",
      "Saving [18741] ID => AlbumNames Entries To /Users/tgadfort/Music/Discog/artists-musicbrainz-db/metadata/66-MediaMetadata.p\n",
      "Process [Creating Artist Album Metadata For ModVal=66] Took 0.3 Seconds\n",
      "Current Time is Sat Nov 13, 2021 14:17 for Creating Artist Name Metadata For ModVal=67\n",
      "Saving [18775] ID => Name/URL Entries To /Users/tgadfort/Music/Discog/artists-musicbrainz-db/metadata/67-Metadata.p\n",
      "Process [Creating Artist Name Metadata For ModVal=67] Took 0.2 Seconds\n",
      "Current Time is Sat Nov 13, 2021 14:17 for Creating Artist Album Metadata For ModVal=67\n",
      "Saving [18775] ID => AlbumNames Entries To /Users/tgadfort/Music/Discog/artists-musicbrainz-db/metadata/67-MediaMetadata.p\n",
      "Process [Creating Artist Album Metadata For ModVal=67] Took 0.3 Seconds\n",
      "Current Time is Sat Nov 13, 2021 14:17 for Creating Artist Name Metadata For ModVal=68\n",
      "Saving [19056] ID => Name/URL Entries To /Users/tgadfort/Music/Discog/artists-musicbrainz-db/metadata/68-Metadata.p\n",
      "Process [Creating Artist Name Metadata For ModVal=68] Took 0.2 Seconds\n",
      "Current Time is Sat Nov 13, 2021 14:17 for Creating Artist Album Metadata For ModVal=68\n",
      "Saving [19056] ID => AlbumNames Entries To /Users/tgadfort/Music/Discog/artists-musicbrainz-db/metadata/68-MediaMetadata.p\n",
      "Process [Creating Artist Album Metadata For ModVal=68] Took 0.3 Seconds\n",
      "Current Time is Sat Nov 13, 2021 14:17 for Creating Artist Name Metadata For ModVal=69\n",
      "Saving [18954] ID => Name/URL Entries To /Users/tgadfort/Music/Discog/artists-musicbrainz-db/metadata/69-Metadata.p\n",
      "Process [Creating Artist Name Metadata For ModVal=69] Took 0.2 Seconds\n",
      "Current Time is Sat Nov 13, 2021 14:17 for Creating Artist Album Metadata For ModVal=69\n",
      "Saving [18954] ID => AlbumNames Entries To /Users/tgadfort/Music/Discog/artists-musicbrainz-db/metadata/69-MediaMetadata.p\n",
      "Process [Creating Artist Album Metadata For ModVal=69] Took 0.3 Seconds\n",
      "Current Time is Sat Nov 13, 2021 14:17 for Creating Artist Name Metadata For ModVal=70\n",
      "Saving [18565] ID => Name/URL Entries To /Users/tgadfort/Music/Discog/artists-musicbrainz-db/metadata/70-Metadata.p\n",
      "Process [Creating Artist Name Metadata For ModVal=70] Took 0.2 Seconds\n",
      "Current Time is Sat Nov 13, 2021 14:17 for Creating Artist Album Metadata For ModVal=70\n",
      "Saving [18565] ID => AlbumNames Entries To /Users/tgadfort/Music/Discog/artists-musicbrainz-db/metadata/70-MediaMetadata.p\n",
      "Process [Creating Artist Album Metadata For ModVal=70] Took 0.3 Seconds\n",
      "Current Time is Sat Nov 13, 2021 14:17 for Creating Artist Name Metadata For ModVal=71\n",
      "Saving [18839] ID => Name/URL Entries To /Users/tgadfort/Music/Discog/artists-musicbrainz-db/metadata/71-Metadata.p\n",
      "Process [Creating Artist Name Metadata For ModVal=71] Took 0.2 Seconds\n",
      "Current Time is Sat Nov 13, 2021 14:17 for Creating Artist Album Metadata For ModVal=71\n",
      "Saving [18839] ID => AlbumNames Entries To /Users/tgadfort/Music/Discog/artists-musicbrainz-db/metadata/71-MediaMetadata.p\n",
      "Process [Creating Artist Album Metadata For ModVal=71] Took 0.3 Seconds\n",
      "Current Time is Sat Nov 13, 2021 14:17 for Creating Artist Name Metadata For ModVal=72\n",
      "Saving [18936] ID => Name/URL Entries To /Users/tgadfort/Music/Discog/artists-musicbrainz-db/metadata/72-Metadata.p\n",
      "Process [Creating Artist Name Metadata For ModVal=72] Took 0.2 Seconds\n",
      "Current Time is Sat Nov 13, 2021 14:17 for Creating Artist Album Metadata For ModVal=72\n",
      "Saving [18936] ID => AlbumNames Entries To /Users/tgadfort/Music/Discog/artists-musicbrainz-db/metadata/72-MediaMetadata.p\n",
      "Process [Creating Artist Album Metadata For ModVal=72] Took 0.4 Seconds\n",
      "Current Time is Sat Nov 13, 2021 14:18 for Creating Artist Name Metadata For ModVal=73\n",
      "Saving [18844] ID => Name/URL Entries To /Users/tgadfort/Music/Discog/artists-musicbrainz-db/metadata/73-Metadata.p\n",
      "Process [Creating Artist Name Metadata For ModVal=73] Took 0.2 Seconds\n",
      "Current Time is Sat Nov 13, 2021 14:18 for Creating Artist Album Metadata For ModVal=73\n",
      "Saving [18844] ID => AlbumNames Entries To /Users/tgadfort/Music/Discog/artists-musicbrainz-db/metadata/73-MediaMetadata.p\n",
      "Process [Creating Artist Album Metadata For ModVal=73] Took 0.3 Seconds\n",
      "Current Time is Sat Nov 13, 2021 14:18 for Creating Artist Name Metadata For ModVal=74\n",
      "Saving [18727] ID => Name/URL Entries To /Users/tgadfort/Music/Discog/artists-musicbrainz-db/metadata/74-Metadata.p\n"
     ]
    },
    {
     "name": "stdout",
     "output_type": "stream",
     "text": [
      "Process [Creating Artist Name Metadata For ModVal=74] Took 0.2 Seconds\n",
      "Current Time is Sat Nov 13, 2021 14:18 for Creating Artist Album Metadata For ModVal=74\n",
      "Saving [18727] ID => AlbumNames Entries To /Users/tgadfort/Music/Discog/artists-musicbrainz-db/metadata/74-MediaMetadata.p\n",
      "Process [Creating Artist Album Metadata For ModVal=74] Took 0.3 Seconds\n",
      "Current Time is Sat Nov 13, 2021 14:18 for Creating Artist Name Metadata For ModVal=75\n",
      "Saving [18615] ID => Name/URL Entries To /Users/tgadfort/Music/Discog/artists-musicbrainz-db/metadata/75-Metadata.p\n",
      "Process [Creating Artist Name Metadata For ModVal=75] Took 0.2 Seconds\n",
      "Current Time is Sat Nov 13, 2021 14:18 for Creating Artist Album Metadata For ModVal=75\n",
      "Saving [18615] ID => AlbumNames Entries To /Users/tgadfort/Music/Discog/artists-musicbrainz-db/metadata/75-MediaMetadata.p\n",
      "Process [Creating Artist Album Metadata For ModVal=75] Took 0.3 Seconds\n",
      "Current Time is Sat Nov 13, 2021 14:18 for Creating Artist Name Metadata For ModVal=76\n",
      "Saving [18743] ID => Name/URL Entries To /Users/tgadfort/Music/Discog/artists-musicbrainz-db/metadata/76-Metadata.p\n",
      "Process [Creating Artist Name Metadata For ModVal=76] Took 0.2 Seconds\n",
      "Current Time is Sat Nov 13, 2021 14:18 for Creating Artist Album Metadata For ModVal=76\n",
      "Saving [18743] ID => AlbumNames Entries To /Users/tgadfort/Music/Discog/artists-musicbrainz-db/metadata/76-MediaMetadata.p\n",
      "Process [Creating Artist Album Metadata For ModVal=76] Took 0.3 Seconds\n",
      "Current Time is Sat Nov 13, 2021 14:18 for Creating Artist Name Metadata For ModVal=77\n",
      "Saving [18664] ID => Name/URL Entries To /Users/tgadfort/Music/Discog/artists-musicbrainz-db/metadata/77-Metadata.p\n",
      "Process [Creating Artist Name Metadata For ModVal=77] Took 0.2 Seconds\n",
      "Current Time is Sat Nov 13, 2021 14:18 for Creating Artist Album Metadata For ModVal=77\n",
      "Saving [18664] ID => AlbumNames Entries To /Users/tgadfort/Music/Discog/artists-musicbrainz-db/metadata/77-MediaMetadata.p\n",
      "Process [Creating Artist Album Metadata For ModVal=77] Took 0.3 Seconds\n",
      "Current Time is Sat Nov 13, 2021 14:18 for Creating Artist Name Metadata For ModVal=78\n",
      "Saving [18813] ID => Name/URL Entries To /Users/tgadfort/Music/Discog/artists-musicbrainz-db/metadata/78-Metadata.p\n",
      "Process [Creating Artist Name Metadata For ModVal=78] Took 0.2 Seconds\n",
      "Current Time is Sat Nov 13, 2021 14:18 for Creating Artist Album Metadata For ModVal=78\n",
      "Saving [18813] ID => AlbumNames Entries To /Users/tgadfort/Music/Discog/artists-musicbrainz-db/metadata/78-MediaMetadata.p\n",
      "Process [Creating Artist Album Metadata For ModVal=78] Took 0.3 Seconds\n",
      "Current Time is Sat Nov 13, 2021 14:18 for Creating Artist Name Metadata For ModVal=79\n",
      "Saving [18935] ID => Name/URL Entries To /Users/tgadfort/Music/Discog/artists-musicbrainz-db/metadata/79-Metadata.p\n",
      "Process [Creating Artist Name Metadata For ModVal=79] Took 0.2 Seconds\n",
      "Current Time is Sat Nov 13, 2021 14:18 for Creating Artist Album Metadata For ModVal=79\n",
      "Saving [18935] ID => AlbumNames Entries To /Users/tgadfort/Music/Discog/artists-musicbrainz-db/metadata/79-MediaMetadata.p\n",
      "Process [Creating Artist Album Metadata For ModVal=79] Took 0.3 Seconds\n",
      "Current Time is Sat Nov 13, 2021 14:18 for Creating Artist Name Metadata For ModVal=80\n",
      "Saving [18903] ID => Name/URL Entries To /Users/tgadfort/Music/Discog/artists-musicbrainz-db/metadata/80-Metadata.p\n",
      "Process [Creating Artist Name Metadata For ModVal=80] Took 0.2 Seconds\n",
      "Current Time is Sat Nov 13, 2021 14:18 for Creating Artist Album Metadata For ModVal=80\n",
      "Saving [18903] ID => AlbumNames Entries To /Users/tgadfort/Music/Discog/artists-musicbrainz-db/metadata/80-MediaMetadata.p\n",
      "Process [Creating Artist Album Metadata For ModVal=80] Took 0.3 Seconds\n",
      "Current Time is Sat Nov 13, 2021 14:18 for Creating Artist Name Metadata For ModVal=81\n",
      "Saving [18993] ID => Name/URL Entries To /Users/tgadfort/Music/Discog/artists-musicbrainz-db/metadata/81-Metadata.p\n",
      "Process [Creating Artist Name Metadata For ModVal=81] Took 0.2 Seconds\n",
      "Current Time is Sat Nov 13, 2021 14:18 for Creating Artist Album Metadata For ModVal=81\n",
      "Saving [18993] ID => AlbumNames Entries To /Users/tgadfort/Music/Discog/artists-musicbrainz-db/metadata/81-MediaMetadata.p\n",
      "Process [Creating Artist Album Metadata For ModVal=81] Took 0.3 Seconds\n",
      "Current Time is Sat Nov 13, 2021 14:18 for Creating Artist Name Metadata For ModVal=82\n",
      "Saving [18842] ID => Name/URL Entries To /Users/tgadfort/Music/Discog/artists-musicbrainz-db/metadata/82-Metadata.p\n",
      "Process [Creating Artist Name Metadata For ModVal=82] Took 0.2 Seconds\n",
      "Current Time is Sat Nov 13, 2021 14:18 for Creating Artist Album Metadata For ModVal=82\n",
      "Saving [18842] ID => AlbumNames Entries To /Users/tgadfort/Music/Discog/artists-musicbrainz-db/metadata/82-MediaMetadata.p\n",
      "Process [Creating Artist Album Metadata For ModVal=82] Took 0.3 Seconds\n",
      "Current Time is Sat Nov 13, 2021 14:18 for Creating Artist Name Metadata For ModVal=83\n",
      "Saving [18773] ID => Name/URL Entries To /Users/tgadfort/Music/Discog/artists-musicbrainz-db/metadata/83-Metadata.p\n",
      "Process [Creating Artist Name Metadata For ModVal=83] Took 0.2 Seconds\n",
      "Current Time is Sat Nov 13, 2021 14:18 for Creating Artist Album Metadata For ModVal=83\n",
      "Saving [18773] ID => AlbumNames Entries To /Users/tgadfort/Music/Discog/artists-musicbrainz-db/metadata/83-MediaMetadata.p\n",
      "Process [Creating Artist Album Metadata For ModVal=83] Took 0.3 Seconds\n",
      "Current Time is Sat Nov 13, 2021 14:18 for Creating Artist Name Metadata For ModVal=84\n",
      "Saving [18703] ID => Name/URL Entries To /Users/tgadfort/Music/Discog/artists-musicbrainz-db/metadata/84-Metadata.p\n",
      "Process [Creating Artist Name Metadata For ModVal=84] Took 0.2 Seconds\n",
      "Current Time is Sat Nov 13, 2021 14:18 for Creating Artist Album Metadata For ModVal=84\n",
      "Saving [18703] ID => AlbumNames Entries To /Users/tgadfort/Music/Discog/artists-musicbrainz-db/metadata/84-MediaMetadata.p\n",
      "Process [Creating Artist Album Metadata For ModVal=84] Took 2.0 Seconds\n",
      "Current Time is Sat Nov 13, 2021 14:19 for Creating Artist Name Metadata For ModVal=85\n",
      "Saving [18778] ID => Name/URL Entries To /Users/tgadfort/Music/Discog/artists-musicbrainz-db/metadata/85-Metadata.p\n",
      "Process [Creating Artist Name Metadata For ModVal=85] Took 0.2 Seconds\n",
      "Current Time is Sat Nov 13, 2021 14:19 for Creating Artist Album Metadata For ModVal=85\n",
      "Saving [18778] ID => AlbumNames Entries To /Users/tgadfort/Music/Discog/artists-musicbrainz-db/metadata/85-MediaMetadata.p\n",
      "Process [Creating Artist Album Metadata For ModVal=85] Took 0.3 Seconds\n",
      "Current Time is Sat Nov 13, 2021 14:19 for Creating Artist Name Metadata For ModVal=86\n",
      "Saving [18652] ID => Name/URL Entries To /Users/tgadfort/Music/Discog/artists-musicbrainz-db/metadata/86-Metadata.p\n",
      "Process [Creating Artist Name Metadata For ModVal=86] Took 0.2 Seconds\n",
      "Current Time is Sat Nov 13, 2021 14:19 for Creating Artist Album Metadata For ModVal=86\n",
      "Saving [18652] ID => AlbumNames Entries To /Users/tgadfort/Music/Discog/artists-musicbrainz-db/metadata/86-MediaMetadata.p\n",
      "Process [Creating Artist Album Metadata For ModVal=86] Took 0.3 Seconds\n",
      "Current Time is Sat Nov 13, 2021 14:19 for Creating Artist Name Metadata For ModVal=87\n",
      "Saving [18795] ID => Name/URL Entries To /Users/tgadfort/Music/Discog/artists-musicbrainz-db/metadata/87-Metadata.p\n",
      "Process [Creating Artist Name Metadata For ModVal=87] Took 0.2 Seconds\n",
      "Current Time is Sat Nov 13, 2021 14:19 for Creating Artist Album Metadata For ModVal=87\n",
      "Saving [18795] ID => AlbumNames Entries To /Users/tgadfort/Music/Discog/artists-musicbrainz-db/metadata/87-MediaMetadata.p\n",
      "Process [Creating Artist Album Metadata For ModVal=87] Took 0.3 Seconds\n",
      "Current Time is Sat Nov 13, 2021 14:19 for Creating Artist Name Metadata For ModVal=88\n",
      "Saving [18933] ID => Name/URL Entries To /Users/tgadfort/Music/Discog/artists-musicbrainz-db/metadata/88-Metadata.p\n",
      "Process [Creating Artist Name Metadata For ModVal=88] Took 0.2 Seconds\n",
      "Current Time is Sat Nov 13, 2021 14:19 for Creating Artist Album Metadata For ModVal=88\n",
      "Saving [18933] ID => AlbumNames Entries To /Users/tgadfort/Music/Discog/artists-musicbrainz-db/metadata/88-MediaMetadata.p\n",
      "Process [Creating Artist Album Metadata For ModVal=88] Took 2.0 Seconds\n",
      "Current Time is Sat Nov 13, 2021 14:19 for Creating Artist Name Metadata For ModVal=89\n",
      "Saving [18834] ID => Name/URL Entries To /Users/tgadfort/Music/Discog/artists-musicbrainz-db/metadata/89-Metadata.p\n"
     ]
    },
    {
     "name": "stdout",
     "output_type": "stream",
     "text": [
      "Process [Creating Artist Name Metadata For ModVal=89] Took 0.2 Seconds\n",
      "Current Time is Sat Nov 13, 2021 14:19 for Creating Artist Album Metadata For ModVal=89\n",
      "Saving [18834] ID => AlbumNames Entries To /Users/tgadfort/Music/Discog/artists-musicbrainz-db/metadata/89-MediaMetadata.p\n",
      "Process [Creating Artist Album Metadata For ModVal=89] Took 0.3 Seconds\n",
      "Current Time is Sat Nov 13, 2021 14:19 for Creating Artist Name Metadata For ModVal=90\n",
      "Saving [18928] ID => Name/URL Entries To /Users/tgadfort/Music/Discog/artists-musicbrainz-db/metadata/90-Metadata.p\n",
      "Process [Creating Artist Name Metadata For ModVal=90] Took 0.2 Seconds\n",
      "Current Time is Sat Nov 13, 2021 14:19 for Creating Artist Album Metadata For ModVal=90\n",
      "Saving [18928] ID => AlbumNames Entries To /Users/tgadfort/Music/Discog/artists-musicbrainz-db/metadata/90-MediaMetadata.p\n",
      "Process [Creating Artist Album Metadata For ModVal=90] Took 0.3 Seconds\n",
      "Current Time is Sat Nov 13, 2021 14:19 for Creating Artist Name Metadata For ModVal=91\n",
      "Saving [18841] ID => Name/URL Entries To /Users/tgadfort/Music/Discog/artists-musicbrainz-db/metadata/91-Metadata.p\n",
      "Process [Creating Artist Name Metadata For ModVal=91] Took 0.2 Seconds\n",
      "Current Time is Sat Nov 13, 2021 14:19 for Creating Artist Album Metadata For ModVal=91\n",
      "Saving [18841] ID => AlbumNames Entries To /Users/tgadfort/Music/Discog/artists-musicbrainz-db/metadata/91-MediaMetadata.p\n",
      "Process [Creating Artist Album Metadata For ModVal=91] Took 0.3 Seconds\n",
      "Current Time is Sat Nov 13, 2021 14:19 for Creating Artist Name Metadata For ModVal=92\n",
      "Saving [18936] ID => Name/URL Entries To /Users/tgadfort/Music/Discog/artists-musicbrainz-db/metadata/92-Metadata.p\n",
      "Process [Creating Artist Name Metadata For ModVal=92] Took 0.2 Seconds\n",
      "Current Time is Sat Nov 13, 2021 14:19 for Creating Artist Album Metadata For ModVal=92\n",
      "Saving [18936] ID => AlbumNames Entries To /Users/tgadfort/Music/Discog/artists-musicbrainz-db/metadata/92-MediaMetadata.p\n",
      "Process [Creating Artist Album Metadata For ModVal=92] Took 0.3 Seconds\n",
      "Current Time is Sat Nov 13, 2021 14:19 for Creating Artist Name Metadata For ModVal=93\n",
      "Saving [18743] ID => Name/URL Entries To /Users/tgadfort/Music/Discog/artists-musicbrainz-db/metadata/93-Metadata.p\n",
      "Process [Creating Artist Name Metadata For ModVal=93] Took 0.2 Seconds\n",
      "Current Time is Sat Nov 13, 2021 14:19 for Creating Artist Album Metadata For ModVal=93\n",
      "Saving [18743] ID => AlbumNames Entries To /Users/tgadfort/Music/Discog/artists-musicbrainz-db/metadata/93-MediaMetadata.p\n",
      "Process [Creating Artist Album Metadata For ModVal=93] Took 0.3 Seconds\n",
      "Current Time is Sat Nov 13, 2021 14:19 for Creating Artist Name Metadata For ModVal=94\n",
      "Saving [18800] ID => Name/URL Entries To /Users/tgadfort/Music/Discog/artists-musicbrainz-db/metadata/94-Metadata.p\n",
      "Process [Creating Artist Name Metadata For ModVal=94] Took 0.2 Seconds\n",
      "Current Time is Sat Nov 13, 2021 14:19 for Creating Artist Album Metadata For ModVal=94\n",
      "Saving [18800] ID => AlbumNames Entries To /Users/tgadfort/Music/Discog/artists-musicbrainz-db/metadata/94-MediaMetadata.p\n",
      "Process [Creating Artist Album Metadata For ModVal=94] Took 0.3 Seconds\n",
      "Current Time is Sat Nov 13, 2021 14:19 for Creating Artist Name Metadata For ModVal=95\n",
      "Saving [19082] ID => Name/URL Entries To /Users/tgadfort/Music/Discog/artists-musicbrainz-db/metadata/95-Metadata.p\n",
      "Process [Creating Artist Name Metadata For ModVal=95] Took 0.2 Seconds\n",
      "Current Time is Sat Nov 13, 2021 14:19 for Creating Artist Album Metadata For ModVal=95\n",
      "Saving [19082] ID => AlbumNames Entries To /Users/tgadfort/Music/Discog/artists-musicbrainz-db/metadata/95-MediaMetadata.p\n",
      "Process [Creating Artist Album Metadata For ModVal=95] Took 0.3 Seconds\n",
      "Current Time is Sat Nov 13, 2021 14:19 for Creating Artist Name Metadata For ModVal=96\n",
      "Saving [18607] ID => Name/URL Entries To /Users/tgadfort/Music/Discog/artists-musicbrainz-db/metadata/96-Metadata.p\n",
      "Process [Creating Artist Name Metadata For ModVal=96] Took 0.2 Seconds\n",
      "Current Time is Sat Nov 13, 2021 14:19 for Creating Artist Album Metadata For ModVal=96\n",
      "Saving [18607] ID => AlbumNames Entries To /Users/tgadfort/Music/Discog/artists-musicbrainz-db/metadata/96-MediaMetadata.p\n",
      "Process [Creating Artist Album Metadata For ModVal=96] Took 0.3 Seconds\n",
      "Current Time is Sat Nov 13, 2021 14:19 for Creating Artist Name Metadata For ModVal=97\n",
      "Saving [18805] ID => Name/URL Entries To /Users/tgadfort/Music/Discog/artists-musicbrainz-db/metadata/97-Metadata.p\n",
      "Process [Creating Artist Name Metadata For ModVal=97] Took 0.2 Seconds\n",
      "Current Time is Sat Nov 13, 2021 14:19 for Creating Artist Album Metadata For ModVal=97\n",
      "Saving [18805] ID => AlbumNames Entries To /Users/tgadfort/Music/Discog/artists-musicbrainz-db/metadata/97-MediaMetadata.p\n",
      "Process [Creating Artist Album Metadata For ModVal=97] Took 0.3 Seconds\n",
      "Current Time is Sat Nov 13, 2021 14:20 for Creating Artist Name Metadata For ModVal=98\n",
      "Saving [18704] ID => Name/URL Entries To /Users/tgadfort/Music/Discog/artists-musicbrainz-db/metadata/98-Metadata.p\n",
      "Process [Creating Artist Name Metadata For ModVal=98] Took 0.2 Seconds\n",
      "Current Time is Sat Nov 13, 2021 14:20 for Creating Artist Album Metadata For ModVal=98\n",
      "Saving [18704] ID => AlbumNames Entries To /Users/tgadfort/Music/Discog/artists-musicbrainz-db/metadata/98-MediaMetadata.p\n",
      "Process [Creating Artist Album Metadata For ModVal=98] Took 0.3 Seconds\n",
      "Current Time is Sat Nov 13, 2021 14:20 for Creating Artist Name Metadata For ModVal=99\n",
      "Saving [18956] ID => Name/URL Entries To /Users/tgadfort/Music/Discog/artists-musicbrainz-db/metadata/99-Metadata.p\n",
      "Process [Creating Artist Name Metadata For ModVal=99] Took 0.2 Seconds\n",
      "Current Time is Sat Nov 13, 2021 14:20 for Creating Artist Album Metadata For ModVal=99\n",
      "Saving [18956] ID => AlbumNames Entries To /Users/tgadfort/Music/Discog/artists-musicbrainz-db/metadata/99-MediaMetadata.p\n",
      "Process [Creating Artist Album Metadata For ModVal=99] Took 0.3 Seconds\n"
     ]
    }
   ],
   "source": [
    "from masterDBGate import masterDBGate\n",
    "mdbGate = masterDBGate()\n",
    "for db in mdbGate.getDBs():\n",
    "    if db in [\"Discogs\", \"MusicBrainz\"]:\n",
    "        continue\n",
    "    for modVal in range(100):\n",
    "        dbAP = dbArtistsMetadata(mdbGate.getDBGate(db), modVal, create=True)"
   ]
  },
  {
   "cell_type": "code",
   "execution_count": null,
   "metadata": {},
   "outputs": [],
   "source": [
    "dbAP.create"
   ]
  },
  {
   "cell_type": "markdown",
   "metadata": {},
   "source": [
    "# Genius"
   ]
  },
  {
   "cell_type": "code",
   "execution_count": 2,
   "metadata": {},
   "outputs": [
    {
     "name": "stdout",
     "output_type": "stream",
     "text": [
      "Current Time is Sun Nov 14, 2021 11:56 for Parsing Primary ModVal=0 Files(expr='< 0 Days', force=True, debug=False, quiet=False)\n",
      "Current Time is Sun Nov 14, 2021 11:56 for Finding Files To Parse\n",
      "Process [Finding Files To Parse] Took 7.8 Seconds\n",
      "Current Time is Sun Nov 14, 2021 11:56 for Creating New DB For ModVal=0\n",
      "Process [Parsing Primary ModVal=0 Files(expr='< 0 Days', force=True, debug=False, quiet=False)] Took 7.8 Seconds\n",
      "Current Time is Sun Nov 14, 2021 11:56 for Parsing 486 New Files For ModVal=0\n",
      "250/486    : Process [Parsing 486 New Files For ModVal=0] Has Run For 14.4 Seconds.  ETA is 13.6 Seconds\n",
      "486/486    : Process [Parsing 486 New Files For ModVal=0] Has Run For 27.4 Seconds.  ETA is -0.0 Seconds\n",
      "Process [Parsing 486 New Files For ModVal=0] Took 27.4 Seconds\n",
      "Saving [436/436] ID Data Entries To /Users/tgadfort/Music/Discog/artists-genius-db/0-DB.p\n",
      "Process [Parsing Primary ModVal=0 Files(expr='< 0 Days', force=True, debug=False, quiet=False)] Took 35.6 Seconds\n"
     ]
    },
    {
     "data": {
      "text/plain": [
       "True"
      ]
     },
     "execution_count": 2,
     "metadata": {},
     "output_type": "execute_result"
    }
   ],
   "source": [
    "%autoreload\n",
    "from dbArtistsGenius import dbArtistsGenius\n",
    "from dbArtistsParse import dbArtistsPrimary\n",
    "dbAP = dbArtistsPrimary(dbArtistsGenius())\n",
    "dbAP.parse(0, expr=\"< 0 Days\", force=True)"
   ]
  },
  {
   "cell_type": "code",
   "execution_count": 22,
   "metadata": {},
   "outputs": [
    {
     "data": {
      "text/plain": [
       "'KYUHYUN'"
      ]
     },
     "execution_count": 22,
     "metadata": {},
     "output_type": "execute_result"
    }
   ],
   "source": [
    "x='KYUHYUN (규현)'\n",
    "x[:7]"
   ]
  },
  {
   "cell_type": "code",
   "execution_count": 24,
   "metadata": {},
   "outputs": [
    {
     "data": {
      "text/plain": [
       "'KYUHYUN'"
      ]
     },
     "execution_count": 24,
     "metadata": {},
     "output_type": "execute_result"
    }
   ],
   "source": [
    "art = artistGenius()\n",
    "disc = masterDBGate().getDBDisc(\"Genius\")\n",
    "art.getData(disc.getRawFilename('79339603')).artist.name"
   ]
  },
  {
   "cell_type": "code",
   "execution_count": 33,
   "metadata": {},
   "outputs": [],
   "source": [
    "def isKorea(value):\n",
    "    if regex.search(r'\\p{IsHangul}', value):\n",
    "        return True\n",
    "    return False\n",
    "\n",
    "def isThai(value):\n",
    "    if regex.search(r'\\p{IsThai}', value):\n",
    "        return True\n",
    "    return False\n",
    "\n",
    "def isJapanChina(value):\n",
    "    if regex.search(r'([\\p{IsHan}\\p{IsBopo}\\p{IsHira}\\p{IsKatakana}]+)', value):\n",
    "        return True\n",
    "    return False\n",
    "\n",
    "def isRussia(value):\n",
    "    if regex.search(r'\\p{IsCyrillic}', value):\n",
    "        return True\n",
    "    return False\n",
    "\n",
    "def isIsreal(value):\n",
    "    if regex.search(r'\\p{IsHebrew}', value):\n",
    "        return True\n",
    "    return False\n",
    "\n",
    "def isLatin(value):\n",
    "    if regex.search(r'\\p{IsLatin}', value):\n",
    "        return True\n",
    "    return False\n"
   ]
  },
  {
   "cell_type": "code",
   "execution_count": 34,
   "metadata": {},
   "outputs": [
    {
     "data": {
      "text/plain": [
       "True"
      ]
     },
     "execution_count": 34,
     "metadata": {},
     "output_type": "execute_result"
    }
   ],
   "source": [
    "isKorea(artistName)"
   ]
  },
  {
   "cell_type": "code",
   "execution_count": 45,
   "metadata": {},
   "outputs": [
    {
     "name": "stdout",
     "output_type": "stream",
     "text": [
      "None\n",
      "None\n",
      "<regex.Match object; span=(7, 15), match=' (규현)'>\n"
     ]
    }
   ],
   "source": [
    "artistName='KYUHYUN (규현)'\n",
    "import regex\n",
    "def isLatin(value):\n",
    "    if regex.search(r'\\p{IsLatin}', value):\n",
    "        return True\n",
    "    return False\n",
    "\n",
    "\n",
    "discogsPattern = regex.compile(r\"\\s\\(\\p{IsHangul}\\)\")\n",
    "result = discogsPattern.search(artistName)\n",
    "print(result)\n",
    "\n",
    "discogsPattern = regex.compile(r\"\\(\\p{IsHangul}\\)\")\n",
    "result = discogsPattern.search(artistName)\n",
    "print(result)\n",
    "\n",
    "discogsPattern = regex.compile(r\"\\s\\([\\p{IsHangul}]+\\)\")\n",
    "result = discogsPattern.search(artistName)\n",
    "print(result)"
   ]
  },
  {
   "cell_type": "code",
   "execution_count": 25,
   "metadata": {},
   "outputs": [
    {
     "name": "stdout",
     "output_type": "stream",
     "text": [
      "['KYUHYUN', '(규현)']\n"
     ]
    }
   ],
   "source": [
    "names = artistName.split()\n",
    "if isLatin(names[0]) and names[-1].endswith(\")\"):\n",
    "    print(names)"
   ]
  },
  {
   "cell_type": "code",
   "execution_count": null,
   "metadata": {},
   "outputs": [],
   "source": [
    "\n",
    "    def isLatin(self, value):\n",
    "        if regex.search(r'\\p{IsLatin}', value):\n",
    "            return True\n",
    "        return False\n",
    "    \n",
    "    def splitNativeName(self, artistName):\n",
    "        names = artistName.split()\n",
    "        ## Rough syntax for non-Latin name with Latin name in ()\n",
    "        if not self.isLatin(names[0]) and names[-1].endswith(\")\"):\n",
    "            native = []\n",
    "            latin  = []\n",
    "            for i,name in enumerate(names):\n",
    "                if name.startswith(\"(\"):\n",
    "                    for latinname in names[i:]:\n",
    "                        latin.append(latinname.replace(\"(\", \"\").replace(\")\", \"\"))\n",
    "                    break\n",
    "                native.append(name)\n",
    "\n",
    "            native = \" \".join(native)\n",
    "            latin  = \" \".join(latin)\n",
    "            return latin,native\n",
    "        else:\n",
    "            return artistName,None\n",
    "            "
   ]
  },
  {
   "cell_type": "code",
   "execution_count": 9,
   "metadata": {},
   "outputs": [
    {
     "name": "stdout",
     "output_type": "stream",
     "text": [
      "Artist Data Class\n",
      "-------------------------\n",
      "Artist:  KYUHYUN (규현)\n",
      "Meta:    KYUHYUN (규현)\n",
      "         https://genius.com/artists/Kyuhyun\n",
      "Info:    None\n",
      "         None\n",
      "         2021-11-12 14:12:59.971071\n",
      "URL:     https://genius.com/artists/Kyuhyun\n",
      "ID:      79339603\n",
      "Profile: {'general': None, 'genres': None, 'tags': None, 'external': None, 'extra': None, 'err': None}\n",
      "Pages:   {'ppp': 1, 'tot': 1, 'pages': 1, 'err': None, 'more': False, 'redo': False}\n",
      "Media:   {'counts': {'Releases': {'Albums': 10, 'Singles': 10}}, 'err': None}\n",
      "   Albums\n",
      "      The Day We Meet Again\n",
      "      Time With You\n",
      "      The Best Hit (Original Television Soundtrack), Pt. 6\n",
      "      Goodbye For Now - Single\n",
      "      スマプラ対応 (One Voice)\n",
      "      너를 기다린다 (Waiting, Still) EP\n",
      "      Fall, Once Again EP\n",
      "      광화문에서 (At Gwanghwamun) EP\n",
      "      PROJECT : 季\n",
      "      在光化門 (At Gwanghwamun) \n",
      "   Singles\n",
      "      Goodbye For Now (다시 만나는 날)\n",
      "      깊은 밤을 날아서 (Flying, Deep in the Night)\n",
      "      광화문에서 (At Gwanghwamun)\n",
      "      Blah Blah (Thai Ver.)\n",
      "      블라블라 (Blah Blah)\n",
      "      여전히 아늑해 (Still)\n",
      "      너를 만나러 간다 (The Day We Meet Again)\n",
      "      Henry Lau - Trap\n",
      "      애월리 (Aewol-ri)\n",
      "      그게 좋은거야 (Time With You)\n"
     ]
    }
   ],
   "source": [
    "modData['79339603'].show()"
   ]
  },
  {
   "cell_type": "code",
   "execution_count": null,
   "metadata": {},
   "outputs": [],
   "source": []
  },
  {
   "cell_type": "code",
   "execution_count": null,
   "metadata": {},
   "outputs": [],
   "source": [
    "%load_ext autoreload\n",
    "%autoreload\n",
    "from dbArtistsGenius import dbArtistsGenius\n",
    "from dbArtistsParse import dbArtistsPrimary, dbArtistsCredit, dbArtistsExtra\n",
    "from dbArtistsParse import dbArtistsAssertExtra, dbArtistsUnofficial, dbArtistsAssertUnofficial, dbArtistsAssertCredit\n",
    "modVals=range(39,40)\n",
    "dbAP = dbArtistsPrimary(dbArtistsGenius())\n",
    "from searchUtils import findExt\n",
    "from fileUtils import getDirname, getBaseFilename\n",
    "from fsUtils import setFile, moveFile, isFile, removeFile, setDir\n",
    "from dbUtils import utilsGenius\n",
    "utils = utilsGenius()\n",
    "for modVal in modVals:\n",
    "    files = findExt(\"/Volumes/Piggy/Discog/artists-genius/{0}/\".format(modVal), ext=\".p\")\n",
    "    print(modVal,len(files))\n",
    "    for ifile in files:\n",
    "        print('\\t',ifile,'\\t',end=\"\")\n",
    "        try:\n",
    "            retval = dbAP.artist.getData(ifile)\n",
    "        except:\n",
    "            print(\"Bad File: {0}\".format(ifile))\n",
    "            removeFile(ifile)\n",
    "            continue\n",
    "        artistID = retval.get()[\"ID\"]\n",
    "        artistID = artistID.ID\n",
    "        print(artistID,'\\t',end=\"\")\n",
    "        \n",
    "        artistURL = retval.get()[\"url\"]\n",
    "        artistURL = artistURL.url\n",
    "        artistIDFromURL = utils.getArtistID(artistURL)\n",
    "        print(artistIDFromURL,'\\t',artistURL)\n",
    "        \n",
    "        try:\n",
    "            int(artistID)\n",
    "        except:\n",
    "            print(\"Bad File: {0}\".format(ifile))\n",
    "            removeFile(ifile)\n",
    "            continue\n",
    "        #print(getDirname(ifile),getBaseFilename(ifile))\n",
    "        srcFile = ifile\n",
    "        dirval  = getDirname(getDirname(ifile))\n",
    "        modval  = str(int(artistID) % 100)\n",
    "        \n",
    "        dstFile = setFile(setDir(dirval, modval), \"{0}.p\".format(artistID))\n",
    "        if srcFile == dstFile:\n",
    "            continue\n",
    "        if isFile(dstFile):\n",
    "            print(\"{0} already exists.\".format(dstFile))\n",
    "            retval2 = dbAP.artist.getData(dstFile)\n",
    "            artistID2 = retval2.get()[\"ID\"]\n",
    "            artistID2 = artistID2.ID\n",
    "            if artistID2 == artistID:\n",
    "                print(\"\\tRemove old file: {0}\".format(ifile))\n",
    "                removeFile(ifile)\n",
    "            continue\n",
    "            \n",
    "            raise ValueError(srcFile,dstFile)\n",
    "        print(srcFile,dstFile)\n",
    "        moveFile(srcFile, dstFile)"
   ]
  },
  {
   "cell_type": "code",
   "execution_count": null,
   "metadata": {},
   "outputs": [],
   "source": [
    "dbAP = dbArtistsPrimary(dbArtistsGenius())\n",
    "dometa = dbAP.parse(0, previousDays=None, force=True, debug=True)"
   ]
  },
  {
   "cell_type": "code",
   "execution_count": null,
   "metadata": {},
   "outputs": [],
   "source": [
    "ifile='/Volumes/Piggy/Discog/artists-genius/2/83329186.p'\n",
    "retval = dbAP.artist.getData(ifile)\n",
    "retval.show()"
   ]
  },
  {
   "cell_type": "code",
   "execution_count": null,
   "metadata": {},
   "outputs": [],
   "source": [
    "ifile='/Volumes/Piggy/Discog/artists-genius/63/82287463.p'\n",
    "retval = dbAP.artist.getData(ifile)\n",
    "retval.show()"
   ]
  },
  {
   "cell_type": "code",
   "execution_count": null,
   "metadata": {},
   "outputs": [],
   "source": [
    "dbAP.dutils.getArtistID('https://genius.com/artists/The-arcana', debug=True)"
   ]
  },
  {
   "cell_type": "code",
   "execution_count": null,
   "metadata": {},
   "outputs": [],
   "source": [
    "#8606107\n",
    "from webUtils import getHTML\n",
    "ifile = getHTML(\"/Volumes/Piggy/Discog/artists-genius/0/49153000.p\")\n",
    "ifile"
   ]
  },
  {
   "cell_type": "code",
   "execution_count": null,
   "metadata": {},
   "outputs": [],
   "source": [
    "retval = dbAP.artist.getData(ifile)\n",
    "retval.show()"
   ]
  },
  {
   "cell_type": "code",
   "execution_count": null,
   "metadata": {},
   "outputs": [],
   "source": [
    "data.keys()"
   ]
  },
  {
   "cell_type": "code",
   "execution_count": null,
   "metadata": {},
   "outputs": [],
   "source": [
    "%load_ext autoreload\n",
    "%autoreload\n",
    "from dbArtistsGenius import dbArtistsGenius\n",
    "from dbArtistsParse import dbArtistsPrimary, dbArtistsCredit, dbArtistsExtra\n",
    "from dbArtistsParse import dbArtistsAssertExtra, dbArtistsUnofficial, dbArtistsAssertUnofficial, dbArtistsAssertCredit"
   ]
  },
  {
   "cell_type": "code",
   "execution_count": null,
   "metadata": {},
   "outputs": [],
   "source": [
    "dbAP = dbArtistsPrimary(dbArtistsGenius())\n",
    "dometa = dbAP.parse(56, previousDays=None, force=False, debug=True)"
   ]
  },
  {
   "cell_type": "code",
   "execution_count": null,
   "metadata": {},
   "outputs": [],
   "source": [
    "for modVal in range(100):\n",
    "    dbAP = dbArtistsPrimary(dbArtistsGenius())\n",
    "    dometa = dbAP.parse(modVal, previousDays=None, force=True, debug=False)\n",
    "    dometa = True\n",
    "    if dometa:\n",
    "        dbAP.createArtistMetadata(modVal)\n",
    "        dbAP.createAlbumMetadata(modVal)"
   ]
  },
  {
   "cell_type": "markdown",
   "metadata": {},
   "source": [
    "# AlbumOfTheYear"
   ]
  },
  {
   "cell_type": "code",
   "execution_count": null,
   "metadata": {},
   "outputs": [],
   "source": [
    "%load_ext autoreload\n",
    "%autoreload\n",
    "from dbArtistsAlbumOfTheYear import dbArtistsAlbumOfTheYear\n",
    "from dbArtistsParse import dbArtistsPrimary, dbArtistsCredit, dbArtistsExtra\n",
    "from dbArtistsParse import dbArtistsAssertExtra, dbArtistsUnofficial, dbArtistsAssertUnofficial"
   ]
  },
  {
   "cell_type": "code",
   "execution_count": null,
   "metadata": {},
   "outputs": [],
   "source": [
    "for modVal in range(100):\n",
    "    dbAP = dbArtistsPrimary(dbArtistsAlbumOfTheYear())\n",
    "    dometa = dbAP.parse(modVal, previousDays=10, force=False)\n",
    "    if dometa:\n",
    "        dbAP.createArtistMetadata(modVal)\n",
    "        dbAP.createAlbumMetadata(modVal)"
   ]
  },
  {
   "cell_type": "markdown",
   "metadata": {},
   "source": [
    "# Deezer"
   ]
  },
  {
   "cell_type": "code",
   "execution_count": null,
   "metadata": {},
   "outputs": [],
   "source": [
    "%load_ext autoreload\n",
    "%autoreload\n",
    "from dbArtistsDeezer import dbArtistsDeezer\n",
    "from dbArtistsParse import dbArtistsPrimary, dbArtistsCredit, dbArtistsExtra\n",
    "from dbArtistsParse import dbArtistsAssertExtra, dbArtistsUnofficial, dbArtistsAssertUnofficial"
   ]
  },
  {
   "cell_type": "code",
   "execution_count": null,
   "metadata": {},
   "outputs": [],
   "source": [
    "dbAP = dbArtistsPrimary(dbArtistsDeezer())\n",
    "dometa = dbAP.parse(44, previousDays=1, force=True)\n",
    "if dometa:\n",
    "    dbAP.createArtistMetadata(44)\n",
    "    dbAP.createAlbumMetadata(44)"
   ]
  },
  {
   "cell_type": "code",
   "execution_count": null,
   "metadata": {},
   "outputs": [],
   "source": [
    "%load_ext autoreload\n",
    "%autoreload\n",
    "from dbArtistsDeezer import dbArtistsDeezer\n",
    "from dbArtistsParse import dbArtistsPrimary, dbArtistsCredit, dbArtistsExtra\n",
    "from dbArtistsParse import dbArtistsAssertExtra, dbArtistsUnofficial, dbArtistsAssertUnofficial\n",
    "dbAP = dbArtistsDeezer(debug=True)"
   ]
  },
  {
   "cell_type": "markdown",
   "metadata": {},
   "source": [
    "# MusicBrainz"
   ]
  },
  {
   "cell_type": "code",
   "execution_count": null,
   "metadata": {},
   "outputs": [],
   "source": [
    "%load_ext autoreload\n",
    "%autoreload\n",
    "from dbArtistsMusicBrainz import dbArtistsMusicBrainz\n",
    "from dbArtistsParse import dbArtistsPrimary, dbArtistsCredit, dbArtistsExtra\n",
    "from dbArtistsParse import dbArtistsAssertExtra, dbArtistsUnofficial, dbArtistsAssertUnofficial\n",
    "dbMB = dbArtistsMusicBrainz()\n",
    "for modVal in range(2,100):\n",
    "    #if True:\n",
    "    #try:\n",
    "        #lfm.assertDBModValExtraData(modVal, minPages=10, maxPages=20, test=False)\n",
    "    dbMB.assertDBModValExtraData(modVal, minPages=2, maxPages=50, test=False, clean=True)\n",
    "    #except:\n",
    "    #    pass"
   ]
  },
  {
   "cell_type": "markdown",
   "metadata": {},
   "source": [
    "# AllMusic"
   ]
  },
  {
   "cell_type": "code",
   "execution_count": null,
   "metadata": {},
   "outputs": [],
   "source": [
    "%load_ext autoreload\n",
    "%autoreload\n",
    "from dbArtistsAllMusic import dbArtistsAllMusic\n",
    "from dbArtistsParse import dbArtistsPrimary, dbArtistsCredit, dbArtistsExtra\n",
    "from dbArtistsParse import dbArtistsAssertExtra, dbArtistsUnofficial, dbArtistsAssertUnofficial\n",
    "from dbArtistsParse import dbArtistsAssertCredit, dbArtistsAssertComposition, dbArtistsAssertSong\n",
    "dbAP = dbArtistsAllMusic(debug=True)"
   ]
  },
  {
   "cell_type": "code",
   "execution_count": null,
   "metadata": {},
   "outputs": [],
   "source": [
    "artistDBData = dbAP.disc.getArtistsDBModValData(0)"
   ]
  },
  {
   "cell_type": "code",
   "execution_count": null,
   "metadata": {},
   "outputs": [],
   "source": [
    "artistDBData['0000006000'].show()"
   ]
  },
  {
   "cell_type": "code",
   "execution_count": null,
   "metadata": {},
   "outputs": [],
   "source": [
    "for artistID,artistData in artistDBData.items():\n",
    "    print(artistID,'\\t',artistData.media.media.keys())"
   ]
  },
  {
   "cell_type": "code",
   "execution_count": null,
   "metadata": {},
   "outputs": [],
   "source": [
    "dbAP = dbArtistsAssertComposition(dbArtistsAllMusic())\n",
    "dbAP.parseModVal(0)"
   ]
  },
  {
   "cell_type": "code",
   "execution_count": null,
   "metadata": {},
   "outputs": [],
   "source": [
    "from ioUtils import getFile\n",
    "data = getFile(\"/Users/tgadfort/Music/Discog/artists-allmusic-db/metadata/0-Metadata.p\")"
   ]
  },
  {
   "cell_type": "code",
   "execution_count": null,
   "metadata": {},
   "outputs": [],
   "source": [
    "{data"
   ]
  },
  {
   "cell_type": "code",
   "execution_count": null,
   "metadata": {},
   "outputs": [],
   "source": [
    "dbAP = dbArtistsTest(dbArtistsAllMusic())\n",
    "dbAP.parseModVal(0, force=True)"
   ]
  },
  {
   "cell_type": "code",
   "execution_count": null,
   "metadata": {},
   "outputs": [],
   "source": [
    "suburl='tv-smiths-explorers-mn0000008802/discography'\n",
    "if suburl.endswith(\"/discography\"):\n",
    "    suburl=suburl[:-12]"
   ]
  },
  {
   "cell_type": "code",
   "execution_count": null,
   "metadata": {},
   "outputs": [],
   "source": [
    "dbAP = dbArtistsPrimary(dbArtistsAllMusic())\n",
    "dometa = dbAP.parse(2, previousDays=None, force=True, debug=False)"
   ]
  },
  {
   "cell_type": "code",
   "execution_count": null,
   "metadata": {},
   "outputs": [],
   "source": [
    "dbac = dbArtistsAssertCredit(dbArtistsAllMusic())\n",
    "print(dbac.ignores.keys())"
   ]
  },
  {
   "cell_type": "code",
   "execution_count": null,
   "metadata": {},
   "outputs": [],
   "source": [
    "dbAP = dbArtistsAssertCredit(dbArtistsAllMusic())\n",
    "dbAP.parse(2, previousDays=None)"
   ]
  },
  {
   "cell_type": "code",
   "execution_count": null,
   "metadata": {},
   "outputs": [],
   "source": [
    "for modVal in range(100):\n",
    "    dbAP = dbArtistsPrimary(dbArtistsAllMusic())\n",
    "    dometa = dbAP.parse(modVal, previousDays=60, force=False)\n",
    "    dbAP.createArtistMetadata(modVal)\n",
    "    dbAP.createAlbumMetadata(modVal)"
   ]
  },
  {
   "cell_type": "code",
   "execution_count": null,
   "metadata": {},
   "outputs": [],
   "source": [
    "dbac = dbArtistsAssertComposition(dbArtistsAllMusic())\n",
    "dbac.parseModVal(12)\n",
    "dbac.downloadUnknownArtistCompositions()"
   ]
  },
  {
   "cell_type": "code",
   "execution_count": null,
   "metadata": {},
   "outputs": [],
   "source": [
    "# This downloads missing credit files\n",
    "for modVal in range(70,100):\n",
    "    print(modVal)\n",
    "    try:\n",
    "        dbac = dbArtistsAssertCredit(dbArtistsAllMusic())\n",
    "        dbac.parseModVal(modVal)\n",
    "        dbac.downloadUnknownArtistCredits()\n",
    "    except:\n",
    "        continue\n"
   ]
  },
  {
   "cell_type": "code",
   "execution_count": null,
   "metadata": {
    "scrolled": true
   },
   "outputs": [],
   "source": [
    "%autoreload\n",
    "from parseDBArtistsData import parseDBArtistsData\n",
    "from dbArtistsParse import dbArtistsPrimary\n",
    "from dbArtistsRateYourMusic import dbArtistsRateYourMusic\n",
    "\n",
    "for modVal in range(1):\n",
    "    dbAP = dbArtistsPrimary(dbArtistsRateYourMusic())\n",
    "    dometa = dbAP.parse(modVal, previousDays=None, force=True, debug=False)\n",
    "    #if dometa and False:\n",
    "    #    dbAP.createArtistMetadata(modVal)\n",
    "    #    dbAP.createAlbumMetadata(modVal)"
   ]
  },
  {
   "cell_type": "code",
   "execution_count": null,
   "metadata": {},
   "outputs": [],
   "source": [
    "\n",
    "\n",
    "for modVal in range(100):\n",
    "    dbAP = dbArtistsCredit(dbArtistsAllMusic())\n",
    "    dbAP.parse(modVal, previousDays=30)\n",
    "    \n",
    "\n",
    "for modVal in range(100):\n",
    "    dbAP = dbArtistsPrimary(dbArtistsAllMusic())\n",
    "    dometa = dbAP.parse(modVal, previousDays=None, force=False)\n",
    "    if dometa or True:\n",
    "        dbAP.createArtistMetadata(modVal)\n",
    "        dbAP.createAlbumMetadata(modVal)"
   ]
  },
  {
   "cell_type": "code",
   "execution_count": null,
   "metadata": {},
   "outputs": [],
   "source": []
  },
  {
   "cell_type": "code",
   "execution_count": null,
   "metadata": {},
   "outputs": [],
   "source": [
    "from ioUtils import getFile\n",
    "x = getFile(\"/Users/tgadfort/Music/Discog/artists-deezer-db/metadata/5-MediaMetadata.p\")"
   ]
  },
  {
   "cell_type": "code",
   "execution_count": null,
   "metadata": {},
   "outputs": [],
   "source": [
    "x['5038705']"
   ]
  },
  {
   "cell_type": "code",
   "execution_count": null,
   "metadata": {},
   "outputs": [],
   "source": []
  },
  {
   "cell_type": "code",
   "execution_count": null,
   "metadata": {},
   "outputs": [],
   "source": [
    "modVal = 5\n",
    "dbAP = dbArtistsPrimary(dbArtistsDeezer())\n",
    "dometa = dbAP.parse(modVal, previousDays=1, force=True)\n",
    "if dometa:\n",
    "    dbAP.createArtistMetadata(modVal)\n",
    "    dbAP.createAlbumMetadata(modVal)"
   ]
  },
  {
   "cell_type": "code",
   "execution_count": null,
   "metadata": {},
   "outputs": [],
   "source": [
    "for modVal in range(100):\n",
    "    dbAP = dbArtistsPrimary(dbArtistsDeezer())\n",
    "    dometa = dbAP.parse(modVal, previousDays=1, force=True)\n",
    "    if dometa:\n",
    "        dbAP.createArtistMetadata(modVal)\n",
    "        dbAP.createAlbumMetadata(modVal)"
   ]
  },
  {
   "cell_type": "markdown",
   "metadata": {},
   "source": [
    "# Discogs"
   ]
  },
  {
   "cell_type": "code",
   "execution_count": null,
   "metadata": {},
   "outputs": [],
   "source": [
    "%load_ext autoreload\n",
    "%autoreload\n",
    "from dbArtistsDiscogs import dbArtistsDiscogs\n",
    "from dbArtistsParse import dbArtistsPrimary, dbArtistsCredit, dbArtistsExtra\n",
    "from dbArtistsParse import dbArtistsAssertExtra, dbArtistsUnofficial, dbArtistsAssertUnofficial"
   ]
  },
  {
   "cell_type": "code",
   "execution_count": null,
   "metadata": {},
   "outputs": [],
   "source": [
    "for modVal in range(100):\n",
    "    dbAP = dbArtistsPrimary(dbArtistsDiscogs())\n",
    "    dometa = dbAP.parse(modVal, previousDays=3, force=False)\n",
    "    if dometa:\n",
    "        dbAP.createArtistMetadata(modVal)\n",
    "        dbAP.createAlbumMetadata(modVal)"
   ]
  },
  {
   "cell_type": "code",
   "execution_count": null,
   "metadata": {},
   "outputs": [],
   "source": [
    "for modVal in range(100):\n",
    "    dbAP = dbArtistsAssertUnofficial(dbArtistsDiscogs())\n",
    "    dbAP.parseModVal(modVal)\n",
    "    dbAP.downloadMissingArtistUnofficials()"
   ]
  },
  {
   "cell_type": "markdown",
   "metadata": {},
   "source": [
    "# MusicBrainz"
   ]
  },
  {
   "cell_type": "code",
   "execution_count": null,
   "metadata": {},
   "outputs": [],
   "source": [
    "%load_ext autoreload\n",
    "%autoreload\n",
    "from dbArtistsMusicBrainz import dbArtistsMusicBrainz\n",
    "from dbArtistsParse import dbArtistsPrimary, dbArtistsCredit, dbArtistsExtra\n",
    "from dbArtistsParse import dbArtistsAssertExtra"
   ]
  },
  {
   "cell_type": "code",
   "execution_count": null,
   "metadata": {},
   "outputs": [],
   "source": [
    "for modVal in range(100):\n",
    "    dbAP = dbArtistsPrimary(dbArtistsMusicBrainz())\n",
    "    dometa = dbAP.parse(modVal, previousDays=10, force=False)\n",
    "    if dometa:\n",
    "        dbAP.createArtistMetadata(modVal)\n",
    "        dbAP.createAlbumMetadata(modVal)\n",
    "\n",
    "#for modVal in range(100):\n",
    "#    dbAP = dbArtistsExtra(dbArtistsMusicBrainz())\n",
    "#    dbAP.parse(modVal)"
   ]
  },
  {
   "cell_type": "markdown",
   "metadata": {},
   "source": [
    "# LastFM"
   ]
  },
  {
   "cell_type": "code",
   "execution_count": null,
   "metadata": {},
   "outputs": [],
   "source": [
    "%load_ext autoreload\n",
    "%autoreload\n",
    "from dbArtistsLastFM import dbArtistsLastFM\n",
    "from dbArtistsParse import dbArtistsPrimary, dbArtistsCredit, dbArtistsExtra\n",
    "from dbArtistsParse import dbArtistsAssertExtra, dbArtistsUnofficial, dbArtistsAssertUnofficial"
   ]
  },
  {
   "cell_type": "code",
   "execution_count": null,
   "metadata": {},
   "outputs": [],
   "source": [
    "for modVal in range(100):\n",
    "    dbAP = dbArtistsPrimary(dbArtistsLastFM())\n",
    "    dometa = dbAP.parse(modVal, previousDays=10, force=False)\n",
    "    if dometa:\n",
    "        dbAP.createArtistMetadata(modVal)\n",
    "        dbAP.createAlbumMetadata(modVal)"
   ]
  },
  {
   "cell_type": "markdown",
   "metadata": {},
   "source": [
    "# KWorbSpotify"
   ]
  },
  {
   "cell_type": "code",
   "execution_count": null,
   "metadata": {},
   "outputs": [],
   "source": [
    "%load_ext autoreload\n",
    "%autoreload\n",
    "from dbArtistsKWorbSpotify import dbArtistsKWorbSpotify\n",
    "from dbArtistsParse import dbArtistsPrimary, dbArtistsCredit, dbArtistsExtra\n",
    "from dbArtistsParse import dbArtistsAssertExtra, dbArtistsUnofficial, dbArtistsAssertUnofficial, dbArtistsRawFiles\n",
    "from time import sleep\n",
    "\n",
    "#dbAP = dbArtistsRawFiles(dbArtistsKWorbSpotify(), \"data\")\n",
    "#dbAP.parse(previousDays=1000000)"
   ]
  },
  {
   "cell_type": "code",
   "execution_count": null,
   "metadata": {},
   "outputs": [],
   "source": [
    "for modVal in range(100):\n",
    "    dbAP = dbArtistsPrimary(dbArtistsKWorbSpotify())\n",
    "    dometa = dbAP.parse(modVal, previousDays=3000, force=True, debug=False)\n",
    "    if dometa:\n",
    "        dbAP.createArtistMetadata(modVal)\n",
    "        dbAP.createAlbumMetadata(modVal)\n",
    "        \n",
    "sleep(1)\n",
    "start, cmt = clock(\"Creating DB\")\n",
    "maindb = mainDB(mdb=None, create=True, debug=True)\n",
    "maindb.setDBFull(\"KWorbSpotify\")\n",
    "elapsed(start, cmt)    "
   ]
  },
  {
   "cell_type": "markdown",
   "metadata": {},
   "source": [
    "# KWorbiTunes"
   ]
  },
  {
   "cell_type": "code",
   "execution_count": null,
   "metadata": {},
   "outputs": [],
   "source": [
    "%load_ext autoreload\n",
    "%autoreload\n",
    "from dbArtistsKWorbiTunes import dbArtistsKWorbiTunes\n",
    "from dbArtistsParse import dbArtistsPrimary, dbArtistsCredit, dbArtistsExtra\n",
    "from dbArtistsParse import dbArtistsAssertExtra, dbArtistsUnofficial, dbArtistsAssertUnofficial, dbArtistsRawFiles\n",
    "from time import sleep\n",
    "\n",
    "#dbAP = dbArtistsRawFiles(dbArtistsKWorbiTunes(), \"data\")\n",
    "#dbAP.parse(previousDays=1000000)"
   ]
  },
  {
   "cell_type": "code",
   "execution_count": null,
   "metadata": {},
   "outputs": [],
   "source": [
    "for modVal in range(100):\n",
    "    dbAP = dbArtistsPrimary(dbArtistsKWorbiTunes())\n",
    "    dometa = dbAP.parse(modVal, previousDays=3000, force=True, debug=False)\n",
    "    if dometa:\n",
    "        dbAP.createArtistMetadata(modVal)\n",
    "        dbAP.createAlbumMetadata(modVal)\n",
    "        \n",
    "sleep(1)\n",
    "start, cmt = clock(\"Creating DB\")\n",
    "maindb = mainDB(mdb=None, create=True, debug=True)\n",
    "maindb.setDBFull(\"KWorbiTunes\")\n",
    "elapsed(start, cmt)    "
   ]
  },
  {
   "cell_type": "markdown",
   "metadata": {},
   "source": [
    "# KWorbYouTube"
   ]
  },
  {
   "cell_type": "code",
   "execution_count": null,
   "metadata": {},
   "outputs": [],
   "source": [
    "# %autoreload\n",
    "from dbArtistsKWorbYouTube import dbArtistsKWorbYouTube\n",
    "dbAP = dbArtistsRawFiles(dbArtistsKWorbYouTube(), \"data\")\n",
    "dbAP.parse(previousDays=10)"
   ]
  },
  {
   "cell_type": "code",
   "execution_count": null,
   "metadata": {},
   "outputs": [],
   "source": [
    "%load_ext autoreload\n",
    "%autoreload\n",
    "from dbArtistsKWorbYouTube import dbArtistsKWorbYouTube\n",
    "from dbArtistsParse import dbArtistsPrimary, dbArtistsCredit, dbArtistsExtra\n",
    "from dbArtistsParse import dbArtistsAssertExtra, dbArtistsUnofficial, dbArtistsAssertUnofficial, dbArtistsRawFiles\n",
    "from time import sleep\n",
    "\n",
    "dbAP = dbArtistsRawFiles(dbArtistsKWorbYouTube(), \"data\")\n",
    "#dbAP.parse(previousDays=1000000)\n",
    "\n",
    "for modVal in range(100):\n",
    "    dbAP = dbArtistsPrimary(dbArtistsKWorbYouTube())\n",
    "    dometa = dbAP.parse(modVal, previousDays=3, force=True)\n",
    "    if dometa:\n",
    "        dbAP.createArtistMetadata(modVal)\n",
    "        dbAP.createAlbumMetadata(modVal)\n",
    "        \n",
    "sleep(1)\n",
    "start, cmt = clock(\"Creating DB\")\n",
    "maindb = mainDB(mdb=None, create=True, debug=True)\n",
    "maindb.setDBFull(\"KWorbYouTube\")\n",
    "elapsed(start, cmt)    "
   ]
  },
  {
   "cell_type": "code",
   "execution_count": null,
   "metadata": {},
   "outputs": [],
   "source": []
  },
  {
   "cell_type": "code",
   "execution_count": null,
   "metadata": {},
   "outputs": [],
   "source": []
  },
  {
   "cell_type": "code",
   "execution_count": null,
   "metadata": {},
   "outputs": [],
   "source": []
  },
  {
   "cell_type": "code",
   "execution_count": null,
   "metadata": {},
   "outputs": [],
   "source": [
    "%autoreload\n",
    "from dbArtistsRateYourMusic import dbArtistsRateYourMusic\n",
    "#pdb = parseDBArtistsData()\n",
    "dbAP = dbArtistsRawHTML(dbArtistsRateYourMusic())\n",
    "dbAP.parse('< 5 days')"
   ]
  },
  {
   "cell_type": "code",
   "execution_count": null,
   "metadata": {},
   "outputs": [],
   "source": [
    "%autoreload\n",
    "from dbArtistsRateYourMusic import dbArtistsRateYourMusic\n",
    "#pdb = parseDBArtistsData()\n",
    "dbAP = dbArtistsPrimary(dbArtistsRateYourMusic())\n",
    "for modVal in range(100):\n",
    "    dbAP.parse(modVal=modVal, expr='< 0 hours')"
   ]
  },
  {
   "cell_type": "markdown",
   "metadata": {},
   "source": [
    "## Assert Credit For AllMusic"
   ]
  },
  {
   "cell_type": "code",
   "execution_count": null,
   "metadata": {},
   "outputs": [],
   "source": [
    "%load_ext autoreload\n",
    "%autoreload\n",
    "from dbArtistsAllMusic import dbArtistsAllMusic\n",
    "from dbArtistsParse import dbArtistsPrimary, dbArtistsCredit, dbArtistsExtra\n",
    "from dbArtistsParse import dbArtistsAssertExtra, dbArtistsUnofficial, dbArtistsAssertUnofficial, dbArtistsAssertCredit\n",
    "dbAP = dbArtistsAllMusic(debug=True)\n",
    "# This downloads missing credit files\n",
    "ts = timestat(\"Getting Credit Files\")\n",
    "for modVal in range(20,30):\n",
    "    try:\n",
    "        dbac = dbArtistsAssertCredit(dbArtistsAllMusic())\n",
    "        dbac.parseModVal(modVal)\n",
    "        dbac.downloadUnknownArtistCredits()\n",
    "    except:\n",
    "        continue\n",
    "        \n",
    "ts.stop()"
   ]
  },
  {
   "cell_type": "code",
   "execution_count": null,
   "metadata": {},
   "outputs": [],
   "source": [
    "%load_ext autoreload\n",
    "%autoreload\n",
    "from dbArtistsParse import dbArtistsPrimary, dbArtistsCredit, dbArtistsExtra, dbArtistsAssertCredit\n",
    "from dbArtistsAllMusic import dbArtistsAllMusic\n",
    "\n",
    "modVal=86\n",
    "dbAC = dbArtistsAssertCredit(dbArtistsAllMusic())\n",
    "dbAC.createCreditMetadata(modVal=modVal)\n",
    "dbAC.downloadUnknownArtistCredits()"
   ]
  },
  {
   "cell_type": "code",
   "execution_count": null,
   "metadata": {},
   "outputs": [],
   "source": [
    "dbC = dbArtistsCredit(dbArtistsAllMusic())\n",
    "#dbC.parse(modVal=97, expr='< 90 Days', force=False)\n",
    "dbC.parse(modVal=97, expr=None, force=False)"
   ]
  },
  {
   "cell_type": "code",
   "execution_count": null,
   "metadata": {},
   "outputs": [],
   "source": [
    "%load_ext autoreload\n",
    "%autoreload\n",
    "from dbArtistsParse import dbArtistsPrimary, dbArtistsCredit, dbArtistsExtra, dbArtistsAssertCredit\n",
    "from dbArtistsAllMusic import dbArtistsAllMusic\n",
    "\n",
    "for modVal in range(80,81):\n",
    "    dbAP = dbArtistsPrimary(dbArtistsAllMusic())\n",
    "    _ = dbAP.parse(modVal=modVal, expr='< 0 Days', force=False)\n",
    "    dbAP.createArtistMetadata(modVal)\n",
    "    dbAP.createAlbumMetadata(modVal)\n",
    "    \n",
    "    dbAC = dbArtistsAssertCredit(dbArtistsAllMusic())\n",
    "    dbAC.createCreditMetadata(modVal=modVal)\n",
    "    dbAC.downloadUnknownArtistCredits()\n",
    "    \n",
    "    dbC = dbArtistsCredit(dbArtistsAllMusic())\n",
    "    dbC.parse(modVal=modVal, expr='< 90 Days', force=False)\n",
    "    dbAP.createArtistMetadata(modVal)\n",
    "    dbAP.createAlbumMetadata(modVal)"
   ]
  },
  {
   "cell_type": "code",
   "execution_count": null,
   "metadata": {},
   "outputs": [],
   "source": [
    "artistIDs=['0000047990', '0000051390', '0000272190', '0000292790', '0000467590', '0000602690', '0000717990', '0000796690', '0001033390', '0001378390', '0001407190', '0001464290', '0001995390', '0002323590', '0002425790', '0002765190', '0002879590', '0002903990', '0003093090', '0003190590', '0003246290', '0003286290', '0003918290']\n",
    "artistIDs+=['0000118299', '0000213799', '0000325299', '0000642999', '0000775799', '0000811999', '0000992099', '0001284999', '0001364399', '0001497499', '0001510299', '0001618699', '0001634699', '0001658799', '0001694699', '0001711999', '0002179199', '0002366199', '0002612899', '0002752799', '0002987499', '0003027599', '0003184899', '0003258299', '0003442899', '0003678399']\n",
    "len(artistIDs)"
   ]
  },
  {
   "cell_type": "code",
   "execution_count": null,
   "metadata": {},
   "outputs": [],
   "source": [
    "%load_ext autoreload\n",
    "%autoreload\n",
    "from dbArtistsAllMusic import dbArtistsAllMusic\n",
    "from dbArtistsParse import dbArtistsPrimary, dbArtistsCredit, dbArtistsExtra\n",
    "from dbArtistsParse import dbArtistsAssertExtra, dbArtistsUnofficial, dbArtistsAssertUnofficial, dbArtistsAssertCredit\n",
    "tmp = dbArtistsAssertCredit(dbArtistsAllMusic())\n",
    "#tmp.updateMasterIgnoreCreditData(artistIDs)\n",
    "#tmp.createCreditMetadata(modVal=98)\n",
    "#tmp.downloadUnknownArtistCredits()"
   ]
  },
  {
   "cell_type": "code",
   "execution_count": null,
   "metadata": {},
   "outputs": [],
   "source": [
    "from copy import deepcopy\n",
    "meta = deepcopy(tmp.metadata)"
   ]
  },
  {
   "cell_type": "code",
   "execution_count": null,
   "metadata": {},
   "outputs": [],
   "source": [
    "tmp.downloadUnknownArtistCredits()"
   ]
  },
  {
   "cell_type": "code",
   "execution_count": null,
   "metadata": {},
   "outputs": [],
   "source": [
    "%load_ext autoreload\n",
    "%autoreload\n",
    "from dbArtistsAllMusic import dbArtistsAllMusic\n",
    "from dbArtistsParse import dbArtistsPrimary, dbArtistsCredit, dbArtistsExtra\n",
    "from dbArtistsParse import dbArtistsAssertExtra, dbArtistsUnofficial, dbArtistsAssertUnofficial, dbArtistsAssertCredit\n",
    "tmp = dbArtistsCredit(dbArtistsAllMusic())\n",
    "tmp.parse(modVal=99, expr='< 90 Days', force=False)"
   ]
  },
  {
   "cell_type": "code",
   "execution_count": null,
   "metadata": {},
   "outputs": [],
   "source": [
    "from searchUtils import filesFromDir\n",
    "from fsUtils import setDir\n",
    "force=True\n",
    "modVal=99\n",
    "ffd   = filesFromDir(ext=\".p\")\n",
    "files = ffd.getFiles(setDir(tmp.getModValDir(modVal), \"credit\"))\n",
    "newFiles = files if force is True else tmp.getFilesByRecency(files, expr)"
   ]
  },
  {
   "cell_type": "code",
   "execution_count": null,
   "metadata": {},
   "outputs": [],
   "source": [
    "%autoreload\n",
    "from dbArtistsParse import dbArtistsRawHTML\n",
    "from dbArtistsRateYourMusic import dbArtistsRateYourMusic\n",
    "dbAP = dbArtistsRawHTML(dbArtistsRateYourMusic())\n",
    "dbAP.parse(expr='< 3 Days')"
   ]
  },
  {
   "cell_type": "code",
   "execution_count": null,
   "metadata": {},
   "outputs": [],
   "source": [
    "%autoreload\n",
    "from dbArtistsParse import dbArtistsRawFiles\n",
    "from dbArtistsKWorbiTunes import dbArtistsKWorbiTunes\n",
    "dbAP = dbArtistsRawFiles(dbArtistsKWorbiTunes(), \"data\")\n",
    "dbAP.parse(modVal=0, expr='< 3 Days')"
   ]
  },
  {
   "cell_type": "code",
   "execution_count": null,
   "metadata": {},
   "outputs": [],
   "source": [
    "from searchUtils import filesFromDir\n",
    "from fsUtils import setDir\n",
    "ffd   = filesFromDir(ext=[\".html\", \".htm\"])\n",
    "files = ffd.getFiles(setDir(dbAP.disc.getArtistsDir(), \"data\"))\n",
    "#newFiles = files if force is True else self.getFilesByRecency(files, expr)"
   ]
  },
  {
   "cell_type": "code",
   "execution_count": null,
   "metadata": {},
   "outputs": [],
   "source": [
    "len(files)"
   ]
  },
  {
   "cell_type": "code",
   "execution_count": null,
   "metadata": {},
   "outputs": [],
   "source": [
    "from recentFilesUtils import recentFiles\n",
    "rf = recentFiles()\n",
    "rf.setFiles(files)\n",
    "newFiles = rf.getFilesByRecency('> 3 Days', debug=True)"
   ]
  },
  {
   "cell_type": "code",
   "execution_count": null,
   "metadata": {},
   "outputs": [],
   "source": [
    "newFiles = dbAP.getFilesByRecency(files, expr='> 3 Days', debug=True)\n",
    "len(newFiles)"
   ]
  },
  {
   "cell_type": "code",
   "execution_count": null,
   "metadata": {},
   "outputs": [],
   "source": [
    "modValPrimaryFiles = tmp.getArtistPrimaryFiles(99, expr=None, force=True)\n",
    "dbData = tmp.getDBData(99)"
   ]
  },
  {
   "cell_type": "code",
   "execution_count": null,
   "metadata": {},
   "outputs": [],
   "source": [
    "modValArtistIDs  = {getBaseFilename(ifile): ifile for ifile in modValPrimaryFiles}\n",
    "missingArtistIDs = [ifile for ifile in modValPrimaryFiles if dbData.get(getBaseFilename(ifile)) is None]\n",
    "print(len(modValArtistIDs))\n",
    "print(len(missingArtistIDs))"
   ]
  },
  {
   "cell_type": "code",
   "execution_count": null,
   "metadata": {},
   "outputs": [],
   "source": []
  },
  {
   "cell_type": "markdown",
   "metadata": {},
   "source": [
    "# Unofficial"
   ]
  },
  {
   "cell_type": "code",
   "execution_count": null,
   "metadata": {},
   "outputs": [],
   "source": [
    "from dbArtistsBase import dbArtistsBase\n",
    "from fsUtils import isFile\n",
    "from fileUtils import getBaseFilename\n",
    "from timeUtils import timestat\n",
    "from ioUtils import saveFile\n",
    "from time import sleep\n",
    "import urllib\n",
    "from webUtils import getHTML"
   ]
  },
  {
   "cell_type": "code",
   "execution_count": null,
   "metadata": {},
   "outputs": [],
   "source": [
    "%autoreload"
   ]
  },
  {
   "cell_type": "code",
   "execution_count": null,
   "metadata": {},
   "outputs": [],
   "source": [
    "%autoreload\n",
    "from dbArtistsDiscogs import dbArtistsDiscogs\n",
    "dbAP = dbArtistsAssertUnofficial(dbArtistsDiscogs())\n",
    "dbAP.createUnofficialMetadata(99)\n",
    "dbAP.downloadMissingArtistUnofficial()"
   ]
  },
  {
   "cell_type": "code",
   "execution_count": null,
   "metadata": {},
   "outputs": [],
   "source": [
    "from dbArtistsParse import dbArtistsPrimary\n",
    "dbAP = dbArtistsPrimary(dbArtistsDiscogs())\n",
    "dbAP.parse(modVal=99, expr='< 90 Days', force=False)\n",
    "dbAP"
   ]
  },
  {
   "cell_type": "code",
   "execution_count": null,
   "metadata": {},
   "outputs": [],
   "source": [
    "dbAP = dbArtistsUnofficial(dbArtistsDiscogs())\n",
    "dbAP.parse(modVal=99, expr='< 90 Days', force=True)"
   ]
  },
  {
   "cell_type": "code",
   "execution_count": null,
   "metadata": {},
   "outputs": [],
   "source": [
    "%load_ext autoreload\n",
    "%autoreload\n",
    "from dbArtistsParse import dbArtistsPrimary\n",
    "from dbArtistsParseUnofficial import dbArtistsAssertUnofficial, dbArtistsUnofficial\n",
    "from dbArtistsDiscogs import dbArtistsDiscogs\n",
    "\n",
    "for modVal in range(100):\n",
    "    dbAC = dbArtistsAssertUnofficial(dbArtistsDiscogs())\n",
    "    dbAC.createUnofficialMetadata(modVal=modVal)\n",
    "    dbAC.downloadMissingArtistUnofficial()"
   ]
  },
  {
   "cell_type": "code",
   "execution_count": null,
   "metadata": {},
   "outputs": [],
   "source": [
    "dbAC.downloadMissingArtistUnofficial()"
   ]
  },
  {
   "cell_type": "code",
   "execution_count": null,
   "metadata": {},
   "outputs": [],
   "source": [
    "from dbArtistsParseUnofficial import dbArtistsAssertUnofficial, dbArtistsUnofficial"
   ]
  },
  {
   "cell_type": "code",
   "execution_count": null,
   "metadata": {},
   "outputs": [],
   "source": [
    "#dbAP = dbArtistsPrimary(dbArtistsDiscogs())\n",
    "#dbAP.createArtistMetadata(modVal)\n",
    "#dbAP.createAlbumMetadata(modVal)\n",
    "%load_ext autoreload\n",
    "%autoreload\n",
    "from dbArtistsParse import dbArtistsPrimary\n",
    "from dbArtistsParseUnofficial import dbArtistsAssertUnofficial, dbArtistsUnofficial\n",
    "from dbArtistsDiscogs import dbArtistsDiscogs\n",
    "\n",
    "dbC = dbArtistsUnofficial(dbArtistsDiscogs())\n",
    "dbC.parse(modVal=modVal, expr='< 1 Days', force=False)\n",
    "dbC.createArtistMetadata(modVal)\n",
    "dbC.createAlbumMetadata(modVal)"
   ]
  },
  {
   "cell_type": "code",
   "execution_count": null,
   "metadata": {},
   "outputs": [],
   "source": []
  },
  {
   "cell_type": "code",
   "execution_count": null,
   "metadata": {},
   "outputs": [],
   "source": [
    "len(ignoreData)"
   ]
  },
  {
   "cell_type": "code",
   "execution_count": null,
   "metadata": {},
   "outputs": [],
   "source": [
    "len(unofficialFiles)"
   ]
  },
  {
   "cell_type": "code",
   "execution_count": null,
   "metadata": {},
   "outputs": [],
   "source": []
  },
  {
   "cell_type": "code",
   "execution_count": null,
   "metadata": {},
   "outputs": [],
   "source": [
    "%load_ext autoreload\n",
    "%autoreload\n",
    "from dbArtistsParse import dbArtistsPrimary\n",
    "from dbArtistsParseUnofficial import dbArtistsAssertUnofficial, dbArtistsUnofficial\n",
    "from dbArtistsDiscogs import dbArtistsDiscogs\n",
    "\n",
    "for modVal in range(98,99):\n",
    "    dbAP = dbArtistsPrimary(dbArtistsDiscogs())\n",
    "    _ = dbAP.parse(modVal=modVal, expr='< 0 Days', force=False)\n",
    "    dbAP.createArtistMetadata(modVal)\n",
    "    dbAP.createAlbumMetadata(modVal)\n",
    "\n",
    "    dbAC = dbArtistsAssertUnofficial(dbArtistsDiscogs())\n",
    "    dbAC.createUnofficialMetadata(modVal=modVal)\n",
    "    dbAC.downloadMissingArtistUnofficial()\n",
    "\n",
    "    dbC = dbArtistsUnofficial(dbArtistsDiscogs())\n",
    "    dbC.parse(modVal=modVal, expr='< 90 Days', force=True)\n",
    "    dbC.createArtistMetadata(modVal)\n",
    "    dbC.createAlbumMetadata(modVal)"
   ]
  },
  {
   "cell_type": "markdown",
   "metadata": {},
   "source": [
    "# Extra"
   ]
  },
  {
   "cell_type": "code",
   "execution_count": null,
   "metadata": {},
   "outputs": [],
   "source": [
    "\n",
    "from dbArtistsMusicBrainz import dbArtistsMusicBrainz\n",
    "dbAP = dbArtistsAssertExtra(dbArtistsMusicBrainz())"
   ]
  },
  {
   "cell_type": "code",
   "execution_count": null,
   "metadata": {},
   "outputs": [],
   "source": [
    "%load_ext autoreload\n",
    "%autoreload\n",
    "from dbArtistsParse import dbArtistsPrimary\n",
    "from dbArtistsParseExtra import dbArtistsExtra, dbArtistsAssertExtra\n",
    "from dbArtistsMusicBrainz import dbArtistsMusicBrainz\n",
    "\n",
    "for modVal in range(72,73):\n",
    "    if False:\n",
    "        dbAP = dbArtistsPrimary(dbArtistsMusicBrainz())\n",
    "        _ = dbAP.parse(modVal=modVal, expr='< 0 Days', force=False)\n",
    "        dbAP.createArtistMetadata(modVal)\n",
    "        dbAP.createAlbumMetadata(modVal)\n",
    "        continue\n",
    "\n",
    "    if False:\n",
    "        dbAC = dbArtistsAssertExtra(dbArtistsMusicBrainz())\n",
    "        dbAC.createExtraMetadata(modVal=modVal)\n",
    "        dbAC.downloadMissingArtistExtras()\n",
    "    \n",
    "    if True:\n",
    "        dbC = dbArtistsExtra(dbArtistsMusicBrainz())\n",
    "        dbC.parse(modVal=modVal, expr='< 90 Days', force=True)\n",
    "        dbAP.createArtistMetadata(modVal)\n",
    "        dbAP.createAlbumMetadata(modVal)"
   ]
  },
  {
   "cell_type": "code",
   "execution_count": null,
   "metadata": {},
   "outputs": [],
   "source": [
    "%load_ext autoreload\n",
    "%autoreload\n",
    "from dbArtistsParse import dbArtistsPrimary\n",
    "from dbArtistsParseExtra import dbArtistsExtra, dbArtistsAssertExtra\n",
    "from dbArtistsDiscogs import dbArtistsDiscogs\n",
    "\n",
    "for modVal in range(72,73):\n",
    "    if False:\n",
    "        dbAP = dbArtistsPrimary(dbArtistsDiscogs())\n",
    "        _ = dbAP.parse(modVal=modVal, expr='< 0 Days', force=False)\n",
    "        dbAP.createArtistMetadata(modVal)\n",
    "        dbAP.createAlbumMetadata(modVal)\n",
    "\n",
    "    if True:\n",
    "        dbAC = dbArtistsAssertExtra(dbArtistsDiscogs())\n",
    "        dbAC.createExtraMetadata(modVal=modVal)\n",
    "        dbAC.downloadMissingArtistExtras()\n",
    "\n",
    "        dbC = dbArtistsExtra(dbArtistsDiscogs())\n",
    "        dbC.parse(modVal=modVal, expr='< 90 Days', force=True)\n",
    "        dbAP.createArtistMetadata(modVal)\n",
    "        dbAP.createAlbumMetadata(modVal)"
   ]
  },
  {
   "cell_type": "code",
   "execution_count": null,
   "metadata": {},
   "outputs": [],
   "source": [
    "%autoreload\n",
    "from dbArtistsMusicBrainz import dbArtistsMusicBrainz\n",
    "dbC = dbArtistsExtra(dbArtistsMusicBrainz())\n",
    "dbC.parse(modVal=80, expr='< 90 Days', force=True)\n",
    "dbAP.createArtistMetadata(80)\n",
    "dbAP.createAlbumMetadata(80)"
   ]
  },
  {
   "cell_type": "code",
   "execution_count": null,
   "metadata": {},
   "outputs": [],
   "source": [
    "dbAP.createExtraMetadata(72)"
   ]
  },
  {
   "cell_type": "code",
   "execution_count": null,
   "metadata": {},
   "outputs": [],
   "source": [
    "from copy import deepcopy\n",
    "meta = deepcopy(dbAP.metadata)"
   ]
  },
  {
   "cell_type": "code",
   "execution_count": null,
   "metadata": {},
   "outputs": [],
   "source": [
    "dbAP.downloadMissingArtistExtras()"
   ]
  },
  {
   "cell_type": "code",
   "execution_count": null,
   "metadata": {},
   "outputs": [],
   "source": [
    "ignoreData = dbAP.getMasterIgnoreData()"
   ]
  },
  {
   "cell_type": "code",
   "execution_count": null,
   "metadata": {},
   "outputs": [],
   "source": [
    "ignoreData"
   ]
  },
  {
   "cell_type": "code",
   "execution_count": null,
   "metadata": {},
   "outputs": [],
   "source": [
    "def getIgnoreArtistList():\n",
    "\n",
    "    ###########################################################################################################################\n",
    "    # Ignore List\n",
    "    ############################################################################################################################\n",
    "    ignoreArtistList = {}\n",
    "    ignoreArtistList[\"Discogs\"]  = [\"M\", \"Bernard Edwards & Nile Rodgers\", \"Pomus-Shuman\", \"Tepper-Bennett\"]\n",
    "    ignoreArtistList[\"LastFM\"]   = [\"MAX\", \"Sonny Boy Williamson\", \"Trouble\", \"NRG\", \"Olivia\", \"Hunter\", \"Zeus\", \"Cobra\", \n",
    "                                    \"Shogun\", \"Nomad\", \"Juice\", \"Tyrant\", \"Willow\", \"Airbag\", \"Deuce\", \"Budgie\", \"Eclipse\",\n",
    "                                    \"Jumbo\", \"L.E.J.\", \"Sniper\", \"Ceremony\", \"Voyager\", \"Solange\", \"Logos\", \n",
    "                                    \"The Highwaymen\", \"Rose\", \"Blake\", \"Tash\", \"Cast\", \"Friends\", \"Collage\", \"Ripe\", \n",
    "                                    \"Undercover\", \"Quest\", \"Holden\"]\n",
    "\n",
    "    ignoreArtistList[\"LastFM\"]  += [\"Íåèçâåñòíûé Èñïîëíèòåëü\", \"Coast To Coast AM - George Noory\", \n",
    "                                    \"[unknown]\", \"Various Composers\", \"[unknown]\", \"Zåìôèðà\", 'Nature Sounds']\n",
    "    ignoreArtistList[\"AllMusic\"] = [\"Bryan Adams\", \"Tina\"]\n",
    "    ignoreArtistList[\"MusicBrainz\"] = [\"Various Artists\", \"[unknown]\", \"[no artist]\", \"[language instruction]\",\n",
    "                                      \"[nature sounds]\", \"Die drei ???\", \"[dialogue]\", \"初音ミク\", '[data]', \n",
    "                                       'Geovanni', \"Juan Torres\", \"DrefQuila\", '[Disney]', \n",
    "                                       '[Christmas music]', 'Harry Nach', 'Tiago PZK']\n",
    "    ignoreArtistList[\"RateYourMusic\"] = []\n",
    "    ignoreArtistList[\"Genius\"] = []\n",
    "    ignoreArtistList[\"KWorbiTunes\"] = []\n",
    "    ignoreArtistList[\"KWorbSpotify\"] = []\n",
    "    ignoreArtistList[\"Deezer\"] = []\n",
    "    ignoreArtistList[\"AlbumOfTheYear\"] = []\n",
    "    return ignoreArtistList"
   ]
  },
  {
   "cell_type": "code",
   "execution_count": null,
   "metadata": {},
   "outputs": [],
   "source": [
    "for db,artistNames in getIgnoreArtistList().items():\n",
    "    dbAP.updateMasterIgnoreNameData(db,artistNames)"
   ]
  },
  {
   "cell_type": "code",
   "execution_count": null,
   "metadata": {},
   "outputs": [],
   "source": [
    "from dbArtistsLastFM import dbArtistsLastFM"
   ]
  },
  {
   "cell_type": "code",
   "execution_count": null,
   "metadata": {},
   "outputs": [],
   "source": [
    "for modVal in range(1):\n",
    "    dbAP = dbArtistsPrimary(dbArtistsLastFM())\n",
    "    \n",
    "    tsDBData = timestat(\"Finding Pages/URL Data For ModVal={0}\".format(modVal))\n",
    "    dbData = dbAP.getDBData(modVal)\n",
    "    dbArtistURLPages = {artistID: {\"Name\": artistData.artist.name, \"URL\": artistData.url.url, \"Pages\": artistData.pages.pages} for artistID,artistData in dbData.items()}\n",
    "    tsDBData.stop()\n",
    "            \n",
    "    tsPages = timestat(\"Finding Artists With More Pages From {0} Artists For ModVal={1}\".format(len(dbArtistURLPages), modVal))\n",
    "    pagesData = {artistID: artistData for artistID,artistData in dbArtistURLPages.items() if artistData[\"Pages\"] is not None and artistData[\"Pages\"] > 1}\n",
    "    tsPages.stop()\n"
   ]
  },
  {
   "cell_type": "code",
   "execution_count": null,
   "metadata": {},
   "outputs": [],
   "source": [
    "if False:\n",
    "    dbAP = dbArtistsPrimary(dbArtistsLastFM())\n",
    "    dbData = dbAP.getDBData(0)\n",
    "    dbData['88336856000'].show()\n",
    "\n",
    "if False:\n",
    "    dbAP = dbArtistsPrimary(dbArtistsDiscogs())\n",
    "    dbData = dbAP.getDBData(0)\n",
    "    pages = dbData['15900'].pages\n",
    "\n",
    "if True:\n",
    "    dbAP = dbArtistsPrimary(dbArtistsMusicBrainz())\n",
    "    dbData = dbAP.getDBData(0)\n",
    "    pages = dbData['194279485768178399445457803447368290100'].pages\n",
    "    \n",
    "    "
   ]
  },
  {
   "cell_type": "code",
   "execution_count": null,
   "metadata": {},
   "outputs": [],
   "source": [
    "pages.get()"
   ]
  },
  {
   "cell_type": "code",
   "execution_count": null,
   "metadata": {},
   "outputs": [],
   "source": [
    "%autoreload\n",
    "from dbArtistsParseExtra import dbArtistsAssertExtra\n",
    "modVal=0\n",
    "dbAC = dbArtistsAssertExtra(dbArtistsLastFM())\n",
    "dbAC.createExtraMetadata(modVal=modVal)\n",
    "dbAC.downloadMissingArtistExtras(maxPages=2)"
   ]
  },
  {
   "cell_type": "code",
   "execution_count": null,
   "metadata": {},
   "outputs": [],
   "source": [
    "from copy import deepcopy\n",
    "meta = deepcopy(dbAC.metadata)"
   ]
  },
  {
   "cell_type": "code",
   "execution_count": null,
   "metadata": {},
   "outputs": [],
   "source": [
    "from pandas import DataFrame, concat\n",
    "df = concat([DataFrame(metaD).T for metaD in meta.values()])"
   ]
  },
  {
   "cell_type": "code",
   "execution_count": null,
   "metadata": {},
   "outputs": [],
   "source": [
    "dfS = df.sort_values(by=\"Pages\", ascending=False)"
   ]
  },
  {
   "cell_type": "code",
   "execution_count": null,
   "metadata": {},
   "outputs": [],
   "source": [
    "ignores =  [\"Various Artists\", \"Kid Cudi vs Crookers\", \"Elvis Presley vs. Junkie XL\", \"Eric Prydz vs Floyd\", \"Rain Sounds\", \"Rest & Relax Nature Sounds Artists\"]\n",
    "ignores += [\"Now That's What I Call Music!\", \"Best Relaxing Spa Music\", \"Relaxing Piano Music Consort\"]\n",
    "ignores"
   ]
  },
  {
   "cell_type": "code",
   "execution_count": null,
   "metadata": {},
   "outputs": [],
   "source": [
    "dbAC.updateMasterIgnoreNameData(db=\"LastFM\", artistNames=ignores)"
   ]
  },
  {
   "cell_type": "code",
   "execution_count": null,
   "metadata": {},
   "outputs": [],
   "source": [
    "dfS[dfS[\"Name\"].str.contains(\"Christmas\")].head(30)"
   ]
  },
  {
   "cell_type": "code",
   "execution_count": null,
   "metadata": {},
   "outputs": [],
   "source": []
  }
 ],
 "metadata": {
  "kernelspec": {
   "display_name": "Python 3",
   "language": "python",
   "name": "python3"
  },
  "language_info": {
   "codemirror_mode": {
    "name": "ipython",
    "version": 3
   },
   "file_extension": ".py",
   "mimetype": "text/x-python",
   "name": "python",
   "nbconvert_exporter": "python",
   "pygments_lexer": "ipython3",
   "version": "3.7.7"
  },
  "toc": {
   "base_numbering": 1,
   "nav_menu": {},
   "number_sections": true,
   "sideBar": true,
   "skip_h1_title": false,
   "title_cell": "Table of Contents",
   "title_sidebar": "Contents",
   "toc_cell": false,
   "toc_position": {},
   "toc_section_display": true,
   "toc_window_display": false
  }
 },
 "nbformat": 4,
 "nbformat_minor": 4
}
