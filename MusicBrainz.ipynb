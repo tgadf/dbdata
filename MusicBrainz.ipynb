{
 "cells": [
  {
   "cell_type": "code",
   "execution_count": 1,
   "metadata": {},
   "outputs": [
    {
     "data": {
      "text/html": [
       "<style>.container { width:100% !important; }</style>"
      ],
      "text/plain": [
       "<IPython.core.display.HTML object>"
      ]
     },
     "metadata": {},
     "output_type": "display_data"
    },
    {
     "data": {
      "text/html": [
       "<style>div.output_area{max-height:10000px;overflow:scroll;}</style>"
      ],
      "text/plain": [
       "<IPython.core.display.HTML object>"
      ]
     },
     "metadata": {},
     "output_type": "display_data"
    }
   ],
   "source": [
    "## Basic stuff\n",
    "%load_ext autoreload\n",
    "%autoreload\n",
    "\n",
    "from IPython.core.display import display, HTML\n",
    "display(HTML(\"<style>.container { width:100% !important; }</style>\"))\n",
    "display(HTML(\"\"\"<style>div.output_area{max-height:10000px;overflow:scroll;}</style>\"\"\"))\n",
    "#IPython.Cell.options_default.cm_config.lineNumbers = true;"
   ]
  },
  {
   "cell_type": "code",
   "execution_count": 2,
   "metadata": {},
   "outputs": [],
   "source": [
    "from fileIO import fileIO\n",
    "from fileInfo import fileInfo\n",
    "from pandas import read_csv, DataFrame, Series\n",
    "from timeUtils import timestat\n",
    "from numpy import nan\n",
    "\n",
    "from glob import glob\n",
    "from fileIO import csvIO\n",
    "io = csvIO()\n",
    "\n",
    "def loadData(ifile):\n",
    "    mbdata = io.get(ifile, delimiter=\"\\t\", header=None)\n",
    "    #mbdata = read_csv(ifile, delimiter=\"\\t\", header=None)\n",
    "    mbdata = mbdata.replace('\\\\N', nan)\n",
    "    return mbdata\n",
    "\n",
    "aIDs={\"ArianaGrande\": 823336, \"BuddyHolly\": 10937, \"Rupaul\": 34318, \"U2\": 197, \"DMB\": 502, \"Bono\": 35575}"
   ]
  },
  {
   "cell_type": "markdown",
   "metadata": {},
   "source": [
    "# DB Data"
   ]
  },
  {
   "cell_type": "code",
   "execution_count": null,
   "metadata": {},
   "outputs": [],
   "source": [
    "lengthData = open(\"flength.csv\").readlines()\n",
    "lengthData = [x.replace(\"\\n\", \"\").strip().split() for x in lengthData]\n",
    "lengthData = Series({item[1].split(\"/\")[1]: int(item[0]) for item in lengthData if len(item[1].split(\"/\")) > 1})\n",
    "lengthData"
   ]
  },
  {
   "cell_type": "code",
   "execution_count": null,
   "metadata": {},
   "outputs": [],
   "source": [
    "list(lengthData.index)"
   ]
  },
  {
   "cell_type": "code",
   "execution_count": null,
   "metadata": {},
   "outputs": [],
   "source": [
    "#lengthData['release_label']\n",
    "lengthData[(lengthData <= 6)]"
   ]
  },
  {
   "cell_type": "markdown",
   "metadata": {},
   "source": [
    "# Lookup"
   ]
  },
  {
   "cell_type": "code",
   "execution_count": null,
   "metadata": {},
   "outputs": [],
   "source": [
    "colnames = {}\n",
    "colnames[\"l_label_release\"] = {0: \"Index\", 1: \"NA1\", 2: \"NA2\", 3: \"ReleaseID\"}\n",
    "\n",
    "ts = timestat(\"Loading Area Data\")\n",
    "files = glob(\"mbdump/l_label_release\")\n",
    "lookupData = {fileInfo(ifile).basename: loadData(ifile) for ifile in files}\n",
    "lookupData = {key: val[list(colnames[key].keys())].rename(columns=colnames[key]) for key,val in lookupData.items()} if colnames is not None else lookupData\n",
    "print(\"Keys: {0}\".format(lookupData.keys()))\n",
    "ts.stop()"
   ]
  },
  {
   "cell_type": "code",
   "execution_count": null,
   "metadata": {},
   "outputs": [],
   "source": [
    "lookupData['l_label_release'][lookupData['l_label_release']['ReleaseID'].isin(releaseIDs)]"
   ]
  },
  {
   "cell_type": "code",
   "execution_count": null,
   "metadata": {},
   "outputs": [],
   "source": [
    "lookupData['l_label_release'].max()"
   ]
  },
  {
   "cell_type": "markdown",
   "metadata": {},
   "source": [
    "# Area"
   ]
  },
  {
   "cell_type": "code",
   "execution_count": null,
   "metadata": {},
   "outputs": [],
   "source": [
    "colnames = {}\n",
    "colnames[\"area_type\"] = {0: \"AreaTypeID\", 1: \"AreaTypeName\", 3: \"AlsoAreaTypeID\", 4: \"AreaTypeDescr\", 5: \"AreaTypeUUID\"}\n",
    "colnames[\"area\"]      = {0: \"AreaID\", 1: \"AreaUUID\", 2: \"AreaName\", 3: \"AreaTypeID\"}\n",
    "colnames[\"area_gid_redirect\"] = {0: \"AreaGIDUUID\", 1: \"AreaGID\"}\n",
    "colnames[\"area_alias_type\"] = {0: \"AreaAliasTypeID\", 1: \"AreaAliasTypeName\", 5: \"AreaAliasTypeUUID\"}\n",
    "colnames[\"area_alias\"] = {0: \"AreaAliasID\", 1: \"NA1\", 2: \"AreaAlias\", 3: \"AreaLang\", 6: \"AliasTypeID\", 7: \"AreaSortName\"}\n",
    "\n",
    "ts = timestat(\"Loading Area Data\")\n",
    "files = glob(\"mbdump/area*\")\n",
    "areaData = {fileInfo(ifile).basename: loadData(ifile) for ifile in files}\n",
    "print(\"Keys: {0}\".format(areaData.keys()))\n",
    "areaData = {key: val[list(colnames[key].keys())].rename(columns=colnames[key]) for key,val in areaData.items()} if colnames is not None else areaData\n",
    "print(\"Keys: {0}\".format(areaData.keys()))\n",
    "ts.stop()"
   ]
  },
  {
   "cell_type": "markdown",
   "metadata": {},
   "source": [
    "# Event"
   ]
  },
  {
   "cell_type": "code",
   "execution_count": null,
   "metadata": {},
   "outputs": [],
   "source": [
    "colnames = {}\n",
    "colnames[\"event_type\"] = {0: \"EventTypeID\", 1: \"EventTypeName\", 4: \"EventTypeDescr\"}\n",
    "colnames[\"event_alias_type\"] = {0: \"EventAliasTypeID\", 1: \"EventAliasTypeName\", 5: \"EventAliasTypeGID\"}\n",
    "colnames[\"event_alias\"] = {0: \"EventAliasID\", 1: \"EventID\", 2: \"EventAliasName\", 3: \"EventAliasLang\", 7: \"EventAliasName2\"}\n",
    "colnames[\"event\"] = {0: \"EventID\", 1: \"EventGID\", 2: \"EventName\", \n",
    "                     3: \"EventStartYear\", 4: \"EventStartMonth\", 5: \"EventStartDay\", 6: \"EventEndYear\", 7: \"EventEndMonth\", 8: \"EventEndDay\"}\n",
    "\n",
    "ts = timestat(\"Loading Event Data\")\n",
    "files = glob(\"mbdump/event*\")\n",
    "eventData = {fileInfo(ifile).basename: loadData(ifile) for ifile in files}\n",
    "print(\"Keys: {0}\".format(eventData.keys()))\n",
    "eventData = {key: val[list(colnames[key].keys())].rename(columns=colnames[key]) for key,val in eventData.items() if key in colnames} if colnames is not None else eventData\n",
    "print(\"Keys: {0}\".format(eventData.keys()))\n",
    "ts.stop()"
   ]
  },
  {
   "cell_type": "code",
   "execution_count": null,
   "metadata": {},
   "outputs": [],
   "source": [
    "eventData['event']"
   ]
  },
  {
   "cell_type": "markdown",
   "metadata": {},
   "source": [
    "# ISRC"
   ]
  },
  {
   "cell_type": "code",
   "execution_count": null,
   "metadata": {},
   "outputs": [],
   "source": [
    "colnames = {}\n",
    "colnames['isrc'] = {0: \"ISRCID\", 1: \"RecordingID\", 2: \"ISRC\"}\n",
    "colnames['iswc'] = {0: \"ISWCID\", 1: \"WorkID\", 2: \"ISWC\"}\n",
    "colnames['iso_3166_1'] = {0: \"ISO31661ID\", 1: \"ISO31661\"}\n",
    "colnames['iso_3166_2'] = {0: \"ISO31662ID\", 1: \"ISO31662\"}\n",
    "colnames['iso_3166_3'] = {0: \"ISO31663ID\", 1: \"ISO31663\"}\n",
    "\n",
    "ts = timestat(\"Loading i* Code Data\")\n",
    "files = glob(\"mbdump/is*\")\n",
    "isrcData = {fileInfo(ifile).basename: loadData(ifile) for ifile in files}\n",
    "print(\"Keys: {0}\".format(isrcData.keys()))\n",
    "isrcData = {key: val[list(colnames[key].keys())].rename(columns=colnames[key]) for key,val in isrcData.items()} if colnames is not None else isrcData\n",
    "print(\"Keys: {0}\".format(isrcData.keys()))\n",
    "ts.stop()"
   ]
  },
  {
   "cell_type": "markdown",
   "metadata": {},
   "source": [
    "# Medium"
   ]
  },
  {
   "cell_type": "code",
   "execution_count": null,
   "metadata": {},
   "outputs": [],
   "source": [
    "colnames = {}\n",
    "colnames[\"medium_format\"] = {0: \"MediumFormatID\", 1: \"MediumName\", 2: \"MediumGroupID\", 3: \"NA3\", 4: \"MediumIntroYear\", 5: \"MediumDescr\", 6: \"MediumGID\"}\n",
    "#colnames[\"medium_cdtoc\"]  = {0: \"NA0\", 1: \"NA1\", 2: \"NA2\", 3: \"NA3\"}\n",
    "colnames[\"medium\"] = {0: \"ReleaseID_1\", 1: \"ReleaseID\", 2: \"SideNum\", 3: \"MediumFormatID\", 4: \"NA4\", 5: \"NA5\", 7: \"NumTracks\"}\n",
    "\n",
    "ts = timestat(\"Loading Medium Data\")\n",
    "files = glob(\"mbdump/medium*\")\n",
    "mediumData = {fileInfo(ifile).basename: loadData(ifile) for ifile in files}\n",
    "print(\"Keys: {0}\".format(mediumData.keys()))\n",
    "mediumData = {key: val[list(colnames[key].keys())].rename(columns=colnames[key]) for key,val in mediumData.items() if key in colnames} if colnames is not None else mediumData\n",
    "print(\"Keys: {0}\".format(mediumData.keys()))\n",
    "ts.stop()"
   ]
  },
  {
   "cell_type": "code",
   "execution_count": null,
   "metadata": {},
   "outputs": [],
   "source": [
    "mediumData['medium_format'].nunique()"
   ]
  },
  {
   "cell_type": "code",
   "execution_count": null,
   "metadata": {},
   "outputs": [],
   "source": [
    "mediumData['medium'].nunique()"
   ]
  },
  {
   "cell_type": "code",
   "execution_count": null,
   "metadata": {},
   "outputs": [],
   "source": [
    "## 12\" Vinyl ; ReleaseID=1310220\n",
    "#mediumData['medium'][mediumData['medium'].eq(1310220).any(1)]\n",
    "# MediumID  ReleaseID  Sides?  Format?   ?\n",
    "# 1310220   1274390    1       33        4\n",
    "# 1351220   1310220    1       31        11      <- Matches https://musicbrainz.org/release/6b5f33a8-fc5e-4c1e-b379-c659ce20a1c8\n",
    "\n",
    "\n",
    "## Digital Media : ReleaseID=1792210\n",
    "#mediumData['medium'][mediumData['medium'].eq(1792210).any(1)]\n",
    "# MediumID  ReleaseID  Sides?  Format?   ?\n",
    "# 1792210   1694923    1      12\tNaN\t0\t2015-11-30 00:32:22.335038+00\t13\n",
    "# 1904010   1792210    1      12\tNaN\t0\t2016-06-20 18:41:01.106192+00\t11   Both Match\n",
    "\n",
    "\n",
    "# 2x12\" Vinyl ; ReleaseID=1680415\n",
    "\n",
    "#mediumData['medium'][mediumData['medium'].eq(1680415).any(1)]\n",
    "# MediumID  ReleaseID  Sides?  Format?   ?\n",
    "# 1680415\t1598741\t1\t1\tNaN\t0\t2015-04-27 04:37:49.277705+00\t11\n",
    "# 1775088\t1680415\t1\t31\tNaN\t0\t2015-10-31 12:02:35.843886+00\t5\n",
    "# 1775089\t1680415\t2\t31\tNaN\t0\t2015-10-31 12:02:35.843886+00\t6\n",
    "\n",
    "# 1792210   1694923    1      12\tNaN\t0\t2015-11-30 00:32:22.335038+00\t13\n",
    "# 1904010   1792210    1      12\tNaN\t0\t2016-06-20 18:41:01.106192+00\t11   Both Match\n",
    "\n",
    "# Pixies Velouria CD w/ 4 Tracks\n",
    "# 3099, 1162482, 3097, 2259927\n",
    "\n",
    "## CD\n",
    "# mediumData['medium'][mediumData['medium'].eq(3099).any(1)]\n",
    "# 3099\t3099\t1\t1\tNaN\t0\t2011-05-16 14:57:06.530063+00\t4\n",
    "\n",
    "## CD (Status=Promotional)\n",
    "# mediumData['medium'][mediumData['medium'].eq(1162482).any(1)]\n",
    "# 1162482\t1146184\t1\t12\tNaN\t0\t2012-04-14 05:35:56.931961+00\t1\n",
    "# 1181517\t1162482\t1\t1\tNaN\t0\t2012-05-30 00:53:24.512335+00\t4\n",
    "\n",
    "## CD\n",
    "# mediumData['medium'][mediumData['medium'].eq(3097).any(1)]\n",
    "# 3097\t3097\t1\t1\tNaN\t0\t2012-10-18 19:49:17.567219+00\t4\n",
    "\n",
    "## 12\" Vinyl\n",
    "# mediumData['medium'][mediumData['medium'].eq(2259927).any(1)]\n",
    "# 2259927\t2099781\t1\t12\tNaN\t0\t2018-01-11 08:03:13.107915+00\t5\n",
    "# 2441117\t2259927\t1\t31\tNaN\t0\t2018-09-28 23:20:29.279923+00\t4  <-- This matches Web"
   ]
  },
  {
   "cell_type": "code",
   "execution_count": null,
   "metadata": {},
   "outputs": [],
   "source": [
    "mediumData['medium'].nunique()"
   ]
  },
  {
   "cell_type": "code",
   "execution_count": null,
   "metadata": {},
   "outputs": [],
   "source": [
    "mediumData['medium'].shape"
   ]
  },
  {
   "cell_type": "code",
   "execution_count": null,
   "metadata": {},
   "outputs": [],
   "source": [
    "mediumData['medium_cdtoc'][mediumData['medium_cdtoc'].eq(1598741).any(1)]"
   ]
  },
  {
   "cell_type": "code",
   "execution_count": null,
   "metadata": {},
   "outputs": [],
   "source": [
    "mediumData['medium_format'][mediumData['medium_format'].eq(38).any(1)]"
   ]
  },
  {
   "cell_type": "code",
   "execution_count": null,
   "metadata": {},
   "outputs": [],
   "source": [
    "mediumData['medium_format'][mediumData['medium_format'].eq('38').any(1)]"
   ]
  },
  {
   "cell_type": "code",
   "execution_count": null,
   "metadata": {},
   "outputs": [],
   "source": [
    "mediumData['medium_format'][mediumData['medium_format'].eq(63).any(1)]"
   ]
  },
  {
   "cell_type": "code",
   "execution_count": null,
   "metadata": {},
   "outputs": [],
   "source": [
    "mediumData['medium_format'][mediumData['medium_format'].eq(64).any(1)]"
   ]
  },
  {
   "cell_type": "markdown",
   "metadata": {},
   "source": [
    "# Language"
   ]
  },
  {
   "cell_type": "code",
   "execution_count": null,
   "metadata": {},
   "outputs": [],
   "source": [
    "colnames = {}\n",
    "colnames[\"language\"] = {0: \"LanguageID\", 1: \"LanguageShort1\", 2: \"LanguageShort2\", 3: \"LanguageShort3\", 4: \"LanguageName\", 5: \"NA5\", 6: \"LanguageShort\"}\n",
    "\n",
    "ts = timestat(\"Loading URL Data\")\n",
    "files = glob(\"mbdump/language*\")\n",
    "languageData = {fileInfo(ifile).basename: loadData(ifile) for ifile in files}\n",
    "print(\"Keys: {0}\".format(languageData.keys()))\n",
    "languageData = {key: val[list(colnames[key].keys())].rename(columns=colnames[key]) for key,val in languageData.items() if key in colnames} if colnames is not None else languageData\n",
    "print(\"Keys: {0}\".format(languageData.keys()))\n",
    "ts.stop()"
   ]
  },
  {
   "cell_type": "code",
   "execution_count": null,
   "metadata": {},
   "outputs": [],
   "source": [
    "languageData['language'][languageData['language'][\"LanguageID\"] == 120]"
   ]
  },
  {
   "cell_type": "markdown",
   "metadata": {},
   "source": [
    "# URL"
   ]
  },
  {
   "cell_type": "code",
   "execution_count": null,
   "metadata": {},
   "outputs": [],
   "source": [
    "colnames = {}\n",
    "colnames[\"url\"] = {0: \"URLID\", 1: \"URLGID\", 2: \"URLName\"}\n",
    "#colnames[\"url_gid_redirect\"] = {0: \"URLGIDUUID\", 1: \"URLGIDID\"}\n",
    "\n",
    "ts = timestat(\"Loading URL Data\")\n",
    "files = glob(\"mbdump/url*\")\n",
    "urlData = {fileInfo(ifile).basename: loadData(ifile) for ifile in files}\n",
    "print(\"Keys: {0}\".format(urlData.keys()))\n",
    "urlData = {key: val[list(colnames[key].keys())].rename(columns=colnames[key]) for key,val in urlData.items() if key in colnames} if colnames is not None else urlData\n",
    "print(\"Keys: {0}\".format(urlData.keys()))\n",
    "ts.stop()"
   ]
  },
  {
   "cell_type": "markdown",
   "metadata": {},
   "source": [
    "# Script"
   ]
  },
  {
   "cell_type": "code",
   "execution_count": null,
   "metadata": {},
   "outputs": [],
   "source": [
    "colnames = {}\n",
    "colnames[\"script\"] = {0: \"ScriptID\", 1: \"ScriptName\", 2: \"NA2\", 3: \"ScriptDescr\", 4: \"NA4\"}\n",
    "\n",
    "ts = timestat(\"Loading URL Data\")\n",
    "files = glob(\"mbdump/script\")\n",
    "scriptData = {fileInfo(ifile).basename: loadData(ifile) for ifile in files}\n",
    "scriptData = {key: val[list(colnames[key].keys())].rename(columns=colnames[key]) for key,val in scriptData.items() if key in colnames} if colnames is not None else scriptData\n",
    "print(\"Keys: {0}\".format(scriptData.keys()))\n",
    "ts.stop()"
   ]
  },
  {
   "cell_type": "markdown",
   "metadata": {},
   "source": [
    "# Work"
   ]
  },
  {
   "cell_type": "code",
   "execution_count": 10,
   "metadata": {},
   "outputs": [
    {
     "name": "stdout",
     "output_type": "stream",
     "text": [
      "Current Time is Wed Oct 20, 2021 21:09 for Loading Work Data\n",
      "['mbdump/work_type', 'mbdump/work_alias', 'mbdump/work_language', 'mbdump/work', 'mbdump/work_alias_type', 'mbdump/work_attribute_type_allowed_value', 'mbdump/work_attribute', 'mbdump/work_attribute_type']\n",
      "Keys: dict_keys(['work_type', 'work_alias', 'work_language', 'work', 'work_alias_type', 'work_attribute_type_allowed_value', 'work_attribute', 'work_attribute_type'])\n",
      "Keys: dict_keys(['work_type', 'work_language', 'work', 'work_attribute', 'work_attribute_type'])\n",
      "Process [Loading Work Data] Took 11.9 Seconds\n"
     ]
    }
   ],
   "source": [
    "colnames = {}\n",
    "colnames[\"work_type\"] = {0: \"WorkTypeID\", 1: \"WorkTypeName\", 3: \"NA3\", 4: \"WorkTypeDescr\", 5: \"WorkTypeGID\"}\n",
    "#colnames[\"work_alias\"] = {0: \"WorkAliasID\", 1: \"WorkID\", 2: \"WorkName\", 3: \"WorkLang\", 7: \"WorkName2\"}\n",
    "#colnames[\"work_alias_type\"] = {0: \"WorkAliasTypeID\", 1: \"WorkAliasTypeName\", 5: \"WorkAliasTypeGID\"}\n",
    "colnames[\"work_attribute_type\"] = {0: \"WorkAttributeTypeID\", 1: \"WorkAttributeTypeName\", 6: \"WorkAttributeTypeDescr\"}\n",
    "colnames[\"work_attribute\"] = {0: \"WorkAttributeID\", 1: \"WorkID\", 2: \"WorkAttributeTypeID\", 3: \"NA3\", 4: \"WorkAttributeCode\"}\n",
    "colnames[\"work_language\"] = {0: \"WorkID\", 1: \"LanguageID\"}\n",
    "colnames[\"work\"] = {0: \"WorkID\", 1: \"WorkGID\", 2: \"WorkName\", 3: \"WorkTypeID\"} #, 4: \"WorkDescr\"}\n",
    "\n",
    "ts = timestat(\"Loading Work Data\")\n",
    "files = glob(\"mbdump/work*\")\n",
    "print(files)\n",
    "workData = {fileInfo(ifile).basename: loadData(ifile) for ifile in files}\n",
    "print(\"Keys: {0}\".format(workData.keys()))\n",
    "workData = {key: val[list(colnames[key].keys())].rename(columns=colnames[key]) for key,val in workData.items() if key in colnames} if colnames is not None else workData\n",
    "print(\"Keys: {0}\".format(workData.keys()))\n",
    "ts.stop()"
   ]
  },
  {
   "cell_type": "code",
   "execution_count": 12,
   "metadata": {},
   "outputs": [
    {
     "data": {
      "text/html": [
       "<div>\n",
       "<style scoped>\n",
       "    .dataframe tbody tr th:only-of-type {\n",
       "        vertical-align: middle;\n",
       "    }\n",
       "\n",
       "    .dataframe tbody tr th {\n",
       "        vertical-align: top;\n",
       "    }\n",
       "\n",
       "    .dataframe thead th {\n",
       "        text-align: right;\n",
       "    }\n",
       "</style>\n",
       "<table border=\"1\" class=\"dataframe\">\n",
       "  <thead>\n",
       "    <tr style=\"text-align: right;\">\n",
       "      <th></th>\n",
       "      <th>WorkID</th>\n",
       "      <th>WorkGID</th>\n",
       "      <th>WorkName</th>\n",
       "      <th>WorkTypeID</th>\n",
       "      <th>WorkDescr</th>\n",
       "    </tr>\n",
       "  </thead>\n",
       "  <tbody>\n",
       "    <tr>\n",
       "      <th>0</th>\n",
       "      <td>12431434</td>\n",
       "      <td>86c6dd66-0da8-4b0f-8b78-ec9d4f12c5c4</td>\n",
       "      <td>Here to Go</td>\n",
       "      <td>NaN</td>\n",
       "      <td>NaN</td>\n",
       "    </tr>\n",
       "    <tr>\n",
       "      <th>1</th>\n",
       "      <td>12433103</td>\n",
       "      <td>712ff9ea-20d2-4c1a-aab7-6e4b7df9b4b2</td>\n",
       "      <td>1 John 4:16</td>\n",
       "      <td>17</td>\n",
       "      <td>The Mountain Goats song</td>\n",
       "    </tr>\n",
       "    <tr>\n",
       "      <th>2</th>\n",
       "      <td>12610029</td>\n",
       "      <td>ff2ebf6a-338d-468f-a0dd-ee5f489a962d</td>\n",
       "      <td>Goddess (of the Sad Man)</td>\n",
       "      <td>17</td>\n",
       "      <td>NaN</td>\n",
       "    </tr>\n",
       "    <tr>\n",
       "      <th>3</th>\n",
       "      <td>12433476</td>\n",
       "      <td>567f5b20-909f-4388-8561-e622cdc1333c</td>\n",
       "      <td>來生緣</td>\n",
       "      <td>17</td>\n",
       "      <td>NaN</td>\n",
       "    </tr>\n",
       "    <tr>\n",
       "      <th>4</th>\n",
       "      <td>13596839</td>\n",
       "      <td>b0ba1f13-2c6d-49e5-a57d-9ec96f26eaa8</td>\n",
       "      <td>無限大ILLUSION 2017</td>\n",
       "      <td>17</td>\n",
       "      <td>NaN</td>\n",
       "    </tr>\n",
       "    <tr>\n",
       "      <th>5</th>\n",
       "      <td>8857245</td>\n",
       "      <td>85b243ac-66cb-3d58-b329-c40bcf088abb</td>\n",
       "      <td>Overture to \"Funny Face\"</td>\n",
       "      <td>NaN</td>\n",
       "      <td>NaN</td>\n",
       "    </tr>\n",
       "    <tr>\n",
       "      <th>6</th>\n",
       "      <td>9709654</td>\n",
       "      <td>577dcc1d-1838-3d53-9378-c30351f580c8</td>\n",
       "      <td>愛すべき未来へ</td>\n",
       "      <td>17</td>\n",
       "      <td>NaN</td>\n",
       "    </tr>\n",
       "    <tr>\n",
       "      <th>7</th>\n",
       "      <td>12610030</td>\n",
       "      <td>69cd3461-089e-4138-adc2-f3a1907a5013</td>\n",
       "      <td>The Night Is Over</td>\n",
       "      <td>17</td>\n",
       "      <td>NaN</td>\n",
       "    </tr>\n",
       "    <tr>\n",
       "      <th>8</th>\n",
       "      <td>13496641</td>\n",
       "      <td>1dbe7108-ba37-411d-a3af-2c2305a37c89</td>\n",
       "      <td>Als het effe kan</td>\n",
       "      <td>17</td>\n",
       "      <td>NaN</td>\n",
       "    </tr>\n",
       "    <tr>\n",
       "      <th>9</th>\n",
       "      <td>12433866</td>\n",
       "      <td>c3f6668f-70a9-424a-9639-488c7fbf7542</td>\n",
       "      <td>Fareweel Regality</td>\n",
       "      <td>17</td>\n",
       "      <td>NaN</td>\n",
       "    </tr>\n",
       "    <tr>\n",
       "      <th>10</th>\n",
       "      <td>12431607</td>\n",
       "      <td>7bb3c246-a35d-4773-a043-52749ea12756</td>\n",
       "      <td>Põgene</td>\n",
       "      <td>NaN</td>\n",
       "      <td>NaN</td>\n",
       "    </tr>\n",
       "    <tr>\n",
       "      <th>11</th>\n",
       "      <td>13110345</td>\n",
       "      <td>315a9eeb-310e-4517-81e7-31255ce88d05</td>\n",
       "      <td>Fool’s Errand</td>\n",
       "      <td>17</td>\n",
       "      <td>NaN</td>\n",
       "    </tr>\n",
       "    <tr>\n",
       "      <th>12</th>\n",
       "      <td>12432464</td>\n",
       "      <td>433f8a22-bb64-4925-b9f9-c6dc633509b5</td>\n",
       "      <td>Trotting in</td>\n",
       "      <td>NaN</td>\n",
       "      <td>NaN</td>\n",
       "    </tr>\n",
       "    <tr>\n",
       "      <th>13</th>\n",
       "      <td>12432526</td>\n",
       "      <td>ca1eb3af-239a-4f97-b7fe-2b07bfb39ceb</td>\n",
       "      <td>Carve My Name Into Your Chest</td>\n",
       "      <td>17</td>\n",
       "      <td>NaN</td>\n",
       "    </tr>\n",
       "    <tr>\n",
       "      <th>14</th>\n",
       "      <td>12432569</td>\n",
       "      <td>f9a6a968-de65-4164-a82c-cf0b24dd0bec</td>\n",
       "      <td>Feel the Street</td>\n",
       "      <td>17</td>\n",
       "      <td>NaN</td>\n",
       "    </tr>\n",
       "    <tr>\n",
       "      <th>15</th>\n",
       "      <td>12431915</td>\n",
       "      <td>1a7bad62-6acb-49fb-904f-8f98a69f3095</td>\n",
       "      <td>ここから</td>\n",
       "      <td>NaN</td>\n",
       "      <td>NaN</td>\n",
       "    </tr>\n",
       "    <tr>\n",
       "      <th>16</th>\n",
       "      <td>12431965</td>\n",
       "      <td>21b94af7-bfd9-4f0c-8b76-0fa1b839482a</td>\n",
       "      <td>GOOD LUCK MY WAY</td>\n",
       "      <td>17</td>\n",
       "      <td>NaN</td>\n",
       "    </tr>\n",
       "    <tr>\n",
       "      <th>17</th>\n",
       "      <td>12431966</td>\n",
       "      <td>5cdb1b0a-3b81-4733-8d0e-f11a37a23056</td>\n",
       "      <td>Judy con disfraz</td>\n",
       "      <td>NaN</td>\n",
       "      <td>NaN</td>\n",
       "    </tr>\n",
       "    <tr>\n",
       "      <th>18</th>\n",
       "      <td>12432897</td>\n",
       "      <td>38697076-780a-4742-b3b2-06b79a522741</td>\n",
       "      <td>Bulls on Parade</td>\n",
       "      <td>17</td>\n",
       "      <td>NaN</td>\n",
       "    </tr>\n",
       "    <tr>\n",
       "      <th>19</th>\n",
       "      <td>12432066</td>\n",
       "      <td>167d063d-d499-407b-9b87-e09e8c72c981</td>\n",
       "      <td>I.D.E.A.～僕は毎日、夢を見る～</td>\n",
       "      <td>NaN</td>\n",
       "      <td>NaN</td>\n",
       "    </tr>\n",
       "    <tr>\n",
       "      <th>20</th>\n",
       "      <td>12432077</td>\n",
       "      <td>9d19b81d-45a5-4efa-b35d-822ff54e0ec5</td>\n",
       "      <td>Knock 'em Out</td>\n",
       "      <td>17</td>\n",
       "      <td>NaN</td>\n",
       "    </tr>\n",
       "    <tr>\n",
       "      <th>21</th>\n",
       "      <td>12432127</td>\n",
       "      <td>e999a680-88bb-40b2-96ea-8bf1a6e25e62</td>\n",
       "      <td>When I See You</td>\n",
       "      <td>NaN</td>\n",
       "      <td>NaN</td>\n",
       "    </tr>\n",
       "    <tr>\n",
       "      <th>22</th>\n",
       "      <td>12433489</td>\n",
       "      <td>2bcba75d-09ed-4e5c-a231-023c5ed62154</td>\n",
       "      <td>Transcendental Technique</td>\n",
       "      <td>NaN</td>\n",
       "      <td>NaN</td>\n",
       "    </tr>\n",
       "    <tr>\n",
       "      <th>23</th>\n",
       "      <td>12433693</td>\n",
       "      <td>2673fd71-91cb-4c2c-8ecc-f1d2a0989c18</td>\n",
       "      <td>Honeysuckle</td>\n",
       "      <td>17</td>\n",
       "      <td>NaN</td>\n",
       "    </tr>\n",
       "    <tr>\n",
       "      <th>24</th>\n",
       "      <td>12482837</td>\n",
       "      <td>f5062301-ed3d-4ce5-839b-70b26fdbec17</td>\n",
       "      <td>1!2!3!4! ヨロシク!</td>\n",
       "      <td>17</td>\n",
       "      <td>NaN</td>\n",
       "    </tr>\n",
       "    <tr>\n",
       "      <th>25</th>\n",
       "      <td>12431315</td>\n",
       "      <td>086b3f97-cfd3-4f44-964c-2efb29aa602e</td>\n",
       "      <td>夕顔</td>\n",
       "      <td>NaN</td>\n",
       "      <td>NaN</td>\n",
       "    </tr>\n",
       "    <tr>\n",
       "      <th>26</th>\n",
       "      <td>12433734</td>\n",
       "      <td>0b8b03b7-3a58-4c0c-af1f-281dcc8cadc0</td>\n",
       "      <td>18</td>\n",
       "      <td>17</td>\n",
       "      <td>NaN</td>\n",
       "    </tr>\n",
       "    <tr>\n",
       "      <th>27</th>\n",
       "      <td>12433226</td>\n",
       "      <td>993a0c77-320b-43de-a7d0-035e2f5da3da</td>\n",
       "      <td>Burning in Hell</td>\n",
       "      <td>17</td>\n",
       "      <td>NaN</td>\n",
       "    </tr>\n",
       "    <tr>\n",
       "      <th>28</th>\n",
       "      <td>12433234</td>\n",
       "      <td>5289cc34-b110-4086-a72c-99c9cd1e8bd0</td>\n",
       "      <td>Uses of Music in Uttermost Parts</td>\n",
       "      <td>NaN</td>\n",
       "      <td>NaN</td>\n",
       "    </tr>\n",
       "    <tr>\n",
       "      <th>29</th>\n",
       "      <td>12433277</td>\n",
       "      <td>ed0139d4-ca96-4b18-be57-bda3789776e3</td>\n",
       "      <td>The Narcotic Suite: 3 Kilos</td>\n",
       "      <td>17</td>\n",
       "      <td>NaN</td>\n",
       "    </tr>\n",
       "    <tr>\n",
       "      <th>...</th>\n",
       "      <td>...</td>\n",
       "      <td>...</td>\n",
       "      <td>...</td>\n",
       "      <td>...</td>\n",
       "      <td>...</td>\n",
       "    </tr>\n",
       "    <tr>\n",
       "      <th>1564388</th>\n",
       "      <td>13850644</td>\n",
       "      <td>65006d5e-6552-414c-abb9-035852b7ff3b</td>\n",
       "      <td>PEACE&amp;LOVE</td>\n",
       "      <td>17</td>\n",
       "      <td>NaN</td>\n",
       "    </tr>\n",
       "    <tr>\n",
       "      <th>1564389</th>\n",
       "      <td>13850645</td>\n",
       "      <td>df35003f-ac31-478a-bf63-2a13bed81508</td>\n",
       "      <td>Flapping wings</td>\n",
       "      <td>17</td>\n",
       "      <td>NaN</td>\n",
       "    </tr>\n",
       "    <tr>\n",
       "      <th>1564390</th>\n",
       "      <td>13850646</td>\n",
       "      <td>4d5458a4-e43d-4b4c-8031-937f377569ba</td>\n",
       "      <td>Sense</td>\n",
       "      <td>17</td>\n",
       "      <td>NaN</td>\n",
       "    </tr>\n",
       "    <tr>\n",
       "      <th>1564391</th>\n",
       "      <td>13850647</td>\n",
       "      <td>79554836-8fc0-4c18-8834-55f013ca2227</td>\n",
       "      <td>Witness</td>\n",
       "      <td>NaN</td>\n",
       "      <td>NaN</td>\n",
       "    </tr>\n",
       "    <tr>\n",
       "      <th>1564392</th>\n",
       "      <td>13850648</td>\n",
       "      <td>3523a711-d9d2-47d1-8250-e74b26ee18cd</td>\n",
       "      <td>Someone</td>\n",
       "      <td>NaN</td>\n",
       "      <td>NaN</td>\n",
       "    </tr>\n",
       "    <tr>\n",
       "      <th>1564393</th>\n",
       "      <td>13850649</td>\n",
       "      <td>ba58f457-d9e4-4887-8db9-77335cdbbf7b</td>\n",
       "      <td>Dancing in the Dark</td>\n",
       "      <td>NaN</td>\n",
       "      <td>NaN</td>\n",
       "    </tr>\n",
       "    <tr>\n",
       "      <th>1564394</th>\n",
       "      <td>13850650</td>\n",
       "      <td>7619da21-848f-4973-8e72-ff2ae39dbd10</td>\n",
       "      <td>You Light Me Up</td>\n",
       "      <td>17</td>\n",
       "      <td>NaN</td>\n",
       "    </tr>\n",
       "    <tr>\n",
       "      <th>1564395</th>\n",
       "      <td>13850651</td>\n",
       "      <td>93d92a98-f03b-4ffa-a7e2-57b8be0287a8</td>\n",
       "      <td>Believe</td>\n",
       "      <td>17</td>\n",
       "      <td>NaN</td>\n",
       "    </tr>\n",
       "    <tr>\n",
       "      <th>1564396</th>\n",
       "      <td>13850652</td>\n",
       "      <td>d9bfe59c-7ce1-4db4-a612-afe7073ea497</td>\n",
       "      <td>The Dragon Slayer</td>\n",
       "      <td>17</td>\n",
       "      <td>NaN</td>\n",
       "    </tr>\n",
       "    <tr>\n",
       "      <th>1564397</th>\n",
       "      <td>13850653</td>\n",
       "      <td>f59050cc-7253-42ea-906a-245bc6b7888f</td>\n",
       "      <td>The Flow of Time</td>\n",
       "      <td>17</td>\n",
       "      <td>NaN</td>\n",
       "    </tr>\n",
       "    <tr>\n",
       "      <th>1564398</th>\n",
       "      <td>13850654</td>\n",
       "      <td>5370d1cb-44e5-4ed1-9c3a-f3c21fd19af1</td>\n",
       "      <td>The Overture of Ice</td>\n",
       "      <td>17</td>\n",
       "      <td>NaN</td>\n",
       "    </tr>\n",
       "    <tr>\n",
       "      <th>1564399</th>\n",
       "      <td>13850655</td>\n",
       "      <td>6baaabdd-807b-4b00-bd6b-5bdb8dec5867</td>\n",
       "      <td>Bottom of a Bottle</td>\n",
       "      <td>17</td>\n",
       "      <td>NaN</td>\n",
       "    </tr>\n",
       "    <tr>\n",
       "      <th>1564400</th>\n",
       "      <td>13850656</td>\n",
       "      <td>14107137-a3ab-43e1-aae9-c78c19dbeef1</td>\n",
       "      <td>Breath in Me</td>\n",
       "      <td>17</td>\n",
       "      <td>NaN</td>\n",
       "    </tr>\n",
       "    <tr>\n",
       "      <th>1564401</th>\n",
       "      <td>13850657</td>\n",
       "      <td>b2109c74-9553-436f-934f-9da9c1d60c11</td>\n",
       "      <td>Broken People</td>\n",
       "      <td>17</td>\n",
       "      <td>NaN</td>\n",
       "    </tr>\n",
       "    <tr>\n",
       "      <th>1564402</th>\n",
       "      <td>13850658</td>\n",
       "      <td>1eadce36-f885-4454-ae3a-cb889a170106</td>\n",
       "      <td>Beginning of the End</td>\n",
       "      <td>17</td>\n",
       "      <td>NaN</td>\n",
       "    </tr>\n",
       "    <tr>\n",
       "      <th>1564403</th>\n",
       "      <td>13850659</td>\n",
       "      <td>67b28082-0fb6-4c6b-9974-5e622c5590bb</td>\n",
       "      <td>Kemikal</td>\n",
       "      <td>17</td>\n",
       "      <td>NaN</td>\n",
       "    </tr>\n",
       "    <tr>\n",
       "      <th>1564404</th>\n",
       "      <td>13848261</td>\n",
       "      <td>7e11f6cf-3920-4389-8e45-4dd54758c843</td>\n",
       "      <td>夏恋慕</td>\n",
       "      <td>17</td>\n",
       "      <td>NaN</td>\n",
       "    </tr>\n",
       "    <tr>\n",
       "      <th>1564405</th>\n",
       "      <td>13850660</td>\n",
       "      <td>4b269679-d69d-4465-9450-d2cf7f5ba9db</td>\n",
       "      <td>Istota</td>\n",
       "      <td>17</td>\n",
       "      <td>NaN</td>\n",
       "    </tr>\n",
       "    <tr>\n",
       "      <th>1564406</th>\n",
       "      <td>13850661</td>\n",
       "      <td>441e1376-d82e-4d49-9cdd-b5bec8f7d64e</td>\n",
       "      <td>Sznur</td>\n",
       "      <td>17</td>\n",
       "      <td>NaN</td>\n",
       "    </tr>\n",
       "    <tr>\n",
       "      <th>1564407</th>\n",
       "      <td>13850662</td>\n",
       "      <td>e31800be-0b4d-450a-ae6f-b61abc970c7b</td>\n",
       "      <td>Krzywdy</td>\n",
       "      <td>17</td>\n",
       "      <td>NaN</td>\n",
       "    </tr>\n",
       "    <tr>\n",
       "      <th>1564408</th>\n",
       "      <td>13850663</td>\n",
       "      <td>82a278fa-0e3a-406c-a95b-a922a9433deb</td>\n",
       "      <td>Masa</td>\n",
       "      <td>17</td>\n",
       "      <td>NaN</td>\n",
       "    </tr>\n",
       "    <tr>\n",
       "      <th>1564409</th>\n",
       "      <td>13850664</td>\n",
       "      <td>a4f1faf3-64c0-442f-99ad-c3b0d3ce6bcb</td>\n",
       "      <td>Ścierwo</td>\n",
       "      <td>17</td>\n",
       "      <td>NaN</td>\n",
       "    </tr>\n",
       "    <tr>\n",
       "      <th>1564410</th>\n",
       "      <td>13850665</td>\n",
       "      <td>37f4d69e-7170-43a2-a66a-434e18e51567</td>\n",
       "      <td>Blask</td>\n",
       "      <td>17</td>\n",
       "      <td>NaN</td>\n",
       "    </tr>\n",
       "    <tr>\n",
       "      <th>1564411</th>\n",
       "      <td>13850666</td>\n",
       "      <td>3081e0d5-29ee-45ae-9a18-a40e726cc413</td>\n",
       "      <td>Suma</td>\n",
       "      <td>17</td>\n",
       "      <td>NaN</td>\n",
       "    </tr>\n",
       "    <tr>\n",
       "      <th>1564412</th>\n",
       "      <td>13850667</td>\n",
       "      <td>063d15f9-eb63-4101-b852-69a7496713d8</td>\n",
       "      <td>Animals in Translation: Using the Mysteries of...</td>\n",
       "      <td>23</td>\n",
       "      <td>NaN</td>\n",
       "    </tr>\n",
       "    <tr>\n",
       "      <th>1564413</th>\n",
       "      <td>13850668</td>\n",
       "      <td>3b36e875-cb70-485b-9beb-e4239c849727</td>\n",
       "      <td>Castle Brannoch</td>\n",
       "      <td>17</td>\n",
       "      <td>Quest 64</td>\n",
       "    </tr>\n",
       "    <tr>\n",
       "      <th>1564414</th>\n",
       "      <td>13850669</td>\n",
       "      <td>c924b0ee-79ff-476f-a80f-27d32dc99944</td>\n",
       "      <td>A Full Moon in Garoh</td>\n",
       "      <td>17</td>\n",
       "      <td>NaN</td>\n",
       "    </tr>\n",
       "    <tr>\n",
       "      <th>1564415</th>\n",
       "      <td>13850670</td>\n",
       "      <td>2977b016-b3e0-49f6-82f8-acc5a3ce6e9b</td>\n",
       "      <td>Get Slain</td>\n",
       "      <td>17</td>\n",
       "      <td>NaN</td>\n",
       "    </tr>\n",
       "    <tr>\n",
       "      <th>1564416</th>\n",
       "      <td>13850671</td>\n",
       "      <td>f11005d1-d55b-4b79-8ec8-20e05e870cd5</td>\n",
       "      <td>Bittersweet Tragedy</td>\n",
       "      <td>17</td>\n",
       "      <td>NaN</td>\n",
       "    </tr>\n",
       "    <tr>\n",
       "      <th>1564417</th>\n",
       "      <td>13850672</td>\n",
       "      <td>133ec017-4461-4b57-a344-123823c5c1ca</td>\n",
       "      <td>Copy Cat</td>\n",
       "      <td>17</td>\n",
       "      <td>NaN</td>\n",
       "    </tr>\n",
       "  </tbody>\n",
       "</table>\n",
       "<p>1564418 rows × 5 columns</p>\n",
       "</div>"
      ],
      "text/plain": [
       "           WorkID                               WorkGID  \\\n",
       "0        12431434  86c6dd66-0da8-4b0f-8b78-ec9d4f12c5c4   \n",
       "1        12433103  712ff9ea-20d2-4c1a-aab7-6e4b7df9b4b2   \n",
       "2        12610029  ff2ebf6a-338d-468f-a0dd-ee5f489a962d   \n",
       "3        12433476  567f5b20-909f-4388-8561-e622cdc1333c   \n",
       "4        13596839  b0ba1f13-2c6d-49e5-a57d-9ec96f26eaa8   \n",
       "5         8857245  85b243ac-66cb-3d58-b329-c40bcf088abb   \n",
       "6         9709654  577dcc1d-1838-3d53-9378-c30351f580c8   \n",
       "7        12610030  69cd3461-089e-4138-adc2-f3a1907a5013   \n",
       "8        13496641  1dbe7108-ba37-411d-a3af-2c2305a37c89   \n",
       "9        12433866  c3f6668f-70a9-424a-9639-488c7fbf7542   \n",
       "10       12431607  7bb3c246-a35d-4773-a043-52749ea12756   \n",
       "11       13110345  315a9eeb-310e-4517-81e7-31255ce88d05   \n",
       "12       12432464  433f8a22-bb64-4925-b9f9-c6dc633509b5   \n",
       "13       12432526  ca1eb3af-239a-4f97-b7fe-2b07bfb39ceb   \n",
       "14       12432569  f9a6a968-de65-4164-a82c-cf0b24dd0bec   \n",
       "15       12431915  1a7bad62-6acb-49fb-904f-8f98a69f3095   \n",
       "16       12431965  21b94af7-bfd9-4f0c-8b76-0fa1b839482a   \n",
       "17       12431966  5cdb1b0a-3b81-4733-8d0e-f11a37a23056   \n",
       "18       12432897  38697076-780a-4742-b3b2-06b79a522741   \n",
       "19       12432066  167d063d-d499-407b-9b87-e09e8c72c981   \n",
       "20       12432077  9d19b81d-45a5-4efa-b35d-822ff54e0ec5   \n",
       "21       12432127  e999a680-88bb-40b2-96ea-8bf1a6e25e62   \n",
       "22       12433489  2bcba75d-09ed-4e5c-a231-023c5ed62154   \n",
       "23       12433693  2673fd71-91cb-4c2c-8ecc-f1d2a0989c18   \n",
       "24       12482837  f5062301-ed3d-4ce5-839b-70b26fdbec17   \n",
       "25       12431315  086b3f97-cfd3-4f44-964c-2efb29aa602e   \n",
       "26       12433734  0b8b03b7-3a58-4c0c-af1f-281dcc8cadc0   \n",
       "27       12433226  993a0c77-320b-43de-a7d0-035e2f5da3da   \n",
       "28       12433234  5289cc34-b110-4086-a72c-99c9cd1e8bd0   \n",
       "29       12433277  ed0139d4-ca96-4b18-be57-bda3789776e3   \n",
       "...           ...                                   ...   \n",
       "1564388  13850644  65006d5e-6552-414c-abb9-035852b7ff3b   \n",
       "1564389  13850645  df35003f-ac31-478a-bf63-2a13bed81508   \n",
       "1564390  13850646  4d5458a4-e43d-4b4c-8031-937f377569ba   \n",
       "1564391  13850647  79554836-8fc0-4c18-8834-55f013ca2227   \n",
       "1564392  13850648  3523a711-d9d2-47d1-8250-e74b26ee18cd   \n",
       "1564393  13850649  ba58f457-d9e4-4887-8db9-77335cdbbf7b   \n",
       "1564394  13850650  7619da21-848f-4973-8e72-ff2ae39dbd10   \n",
       "1564395  13850651  93d92a98-f03b-4ffa-a7e2-57b8be0287a8   \n",
       "1564396  13850652  d9bfe59c-7ce1-4db4-a612-afe7073ea497   \n",
       "1564397  13850653  f59050cc-7253-42ea-906a-245bc6b7888f   \n",
       "1564398  13850654  5370d1cb-44e5-4ed1-9c3a-f3c21fd19af1   \n",
       "1564399  13850655  6baaabdd-807b-4b00-bd6b-5bdb8dec5867   \n",
       "1564400  13850656  14107137-a3ab-43e1-aae9-c78c19dbeef1   \n",
       "1564401  13850657  b2109c74-9553-436f-934f-9da9c1d60c11   \n",
       "1564402  13850658  1eadce36-f885-4454-ae3a-cb889a170106   \n",
       "1564403  13850659  67b28082-0fb6-4c6b-9974-5e622c5590bb   \n",
       "1564404  13848261  7e11f6cf-3920-4389-8e45-4dd54758c843   \n",
       "1564405  13850660  4b269679-d69d-4465-9450-d2cf7f5ba9db   \n",
       "1564406  13850661  441e1376-d82e-4d49-9cdd-b5bec8f7d64e   \n",
       "1564407  13850662  e31800be-0b4d-450a-ae6f-b61abc970c7b   \n",
       "1564408  13850663  82a278fa-0e3a-406c-a95b-a922a9433deb   \n",
       "1564409  13850664  a4f1faf3-64c0-442f-99ad-c3b0d3ce6bcb   \n",
       "1564410  13850665  37f4d69e-7170-43a2-a66a-434e18e51567   \n",
       "1564411  13850666  3081e0d5-29ee-45ae-9a18-a40e726cc413   \n",
       "1564412  13850667  063d15f9-eb63-4101-b852-69a7496713d8   \n",
       "1564413  13850668  3b36e875-cb70-485b-9beb-e4239c849727   \n",
       "1564414  13850669  c924b0ee-79ff-476f-a80f-27d32dc99944   \n",
       "1564415  13850670  2977b016-b3e0-49f6-82f8-acc5a3ce6e9b   \n",
       "1564416  13850671  f11005d1-d55b-4b79-8ec8-20e05e870cd5   \n",
       "1564417  13850672  133ec017-4461-4b57-a344-123823c5c1ca   \n",
       "\n",
       "                                                  WorkName WorkTypeID  \\\n",
       "0                                               Here to Go        NaN   \n",
       "1                                              1 John 4:16         17   \n",
       "2                                 Goddess (of the Sad Man)         17   \n",
       "3                                                      來生緣         17   \n",
       "4                                         無限大ILLUSION 2017         17   \n",
       "5                                 Overture to \"Funny Face\"        NaN   \n",
       "6                                                  愛すべき未来へ         17   \n",
       "7                                        The Night Is Over         17   \n",
       "8                                         Als het effe kan         17   \n",
       "9                                        Fareweel Regality         17   \n",
       "10                                                  Põgene        NaN   \n",
       "11                                           Fool’s Errand         17   \n",
       "12                                             Trotting in        NaN   \n",
       "13                           Carve My Name Into Your Chest         17   \n",
       "14                                         Feel the Street         17   \n",
       "15                                                    ここから        NaN   \n",
       "16                                        GOOD LUCK MY WAY         17   \n",
       "17                                        Judy con disfraz        NaN   \n",
       "18                                         Bulls on Parade         17   \n",
       "19                                     I.D.E.A.～僕は毎日、夢を見る～        NaN   \n",
       "20                                           Knock 'em Out         17   \n",
       "21                                          When I See You        NaN   \n",
       "22                                Transcendental Technique        NaN   \n",
       "23                                             Honeysuckle         17   \n",
       "24                                          1!2!3!4! ヨロシク!         17   \n",
       "25                                                      夕顔        NaN   \n",
       "26                                                      18         17   \n",
       "27                                         Burning in Hell         17   \n",
       "28                        Uses of Music in Uttermost Parts        NaN   \n",
       "29                             The Narcotic Suite: 3 Kilos         17   \n",
       "...                                                    ...        ...   \n",
       "1564388                                         PEACE&LOVE         17   \n",
       "1564389                                     Flapping wings         17   \n",
       "1564390                                              Sense         17   \n",
       "1564391                                            Witness        NaN   \n",
       "1564392                                            Someone        NaN   \n",
       "1564393                                Dancing in the Dark        NaN   \n",
       "1564394                                    You Light Me Up         17   \n",
       "1564395                                            Believe         17   \n",
       "1564396                                  The Dragon Slayer         17   \n",
       "1564397                                   The Flow of Time         17   \n",
       "1564398                                The Overture of Ice         17   \n",
       "1564399                                 Bottom of a Bottle         17   \n",
       "1564400                                       Breath in Me         17   \n",
       "1564401                                      Broken People         17   \n",
       "1564402                               Beginning of the End         17   \n",
       "1564403                                            Kemikal         17   \n",
       "1564404                                                夏恋慕         17   \n",
       "1564405                                             Istota         17   \n",
       "1564406                                              Sznur         17   \n",
       "1564407                                            Krzywdy         17   \n",
       "1564408                                               Masa         17   \n",
       "1564409                                            Ścierwo         17   \n",
       "1564410                                              Blask         17   \n",
       "1564411                                               Suma         17   \n",
       "1564412  Animals in Translation: Using the Mysteries of...         23   \n",
       "1564413                                    Castle Brannoch         17   \n",
       "1564414                               A Full Moon in Garoh         17   \n",
       "1564415                                          Get Slain         17   \n",
       "1564416                                Bittersweet Tragedy         17   \n",
       "1564417                                           Copy Cat         17   \n",
       "\n",
       "                       WorkDescr  \n",
       "0                            NaN  \n",
       "1        The Mountain Goats song  \n",
       "2                            NaN  \n",
       "3                            NaN  \n",
       "4                            NaN  \n",
       "5                            NaN  \n",
       "6                            NaN  \n",
       "7                            NaN  \n",
       "8                            NaN  \n",
       "9                            NaN  \n",
       "10                           NaN  \n",
       "11                           NaN  \n",
       "12                           NaN  \n",
       "13                           NaN  \n",
       "14                           NaN  \n",
       "15                           NaN  \n",
       "16                           NaN  \n",
       "17                           NaN  \n",
       "18                           NaN  \n",
       "19                           NaN  \n",
       "20                           NaN  \n",
       "21                           NaN  \n",
       "22                           NaN  \n",
       "23                           NaN  \n",
       "24                           NaN  \n",
       "25                           NaN  \n",
       "26                           NaN  \n",
       "27                           NaN  \n",
       "28                           NaN  \n",
       "29                           NaN  \n",
       "...                          ...  \n",
       "1564388                      NaN  \n",
       "1564389                      NaN  \n",
       "1564390                      NaN  \n",
       "1564391                      NaN  \n",
       "1564392                      NaN  \n",
       "1564393                      NaN  \n",
       "1564394                      NaN  \n",
       "1564395                      NaN  \n",
       "1564396                      NaN  \n",
       "1564397                      NaN  \n",
       "1564398                      NaN  \n",
       "1564399                      NaN  \n",
       "1564400                      NaN  \n",
       "1564401                      NaN  \n",
       "1564402                      NaN  \n",
       "1564403                      NaN  \n",
       "1564404                      NaN  \n",
       "1564405                      NaN  \n",
       "1564406                      NaN  \n",
       "1564407                      NaN  \n",
       "1564408                      NaN  \n",
       "1564409                      NaN  \n",
       "1564410                      NaN  \n",
       "1564411                      NaN  \n",
       "1564412                      NaN  \n",
       "1564413                 Quest 64  \n",
       "1564414                      NaN  \n",
       "1564415                      NaN  \n",
       "1564416                      NaN  \n",
       "1564417                      NaN  \n",
       "\n",
       "[1564418 rows x 5 columns]"
      ]
     },
     "execution_count": 12,
     "metadata": {},
     "output_type": "execute_result"
    }
   ],
   "source": [
    "workData[\"work\"]"
   ]
  },
  {
   "cell_type": "code",
   "execution_count": null,
   "metadata": {},
   "outputs": [],
   "source": [
    "workData['work'][workData['work'][\"WorkGID\"] == 'b8ee567b-0f09-3345-b794-b6279594aa29']"
   ]
  },
  {
   "cell_type": "code",
   "execution_count": null,
   "metadata": {},
   "outputs": [],
   "source": [
    "for key,df in workData.items():\n",
    "    print(key)\n",
    "    print(df[df.eq(213928).any(1)])"
   ]
  },
  {
   "cell_type": "markdown",
   "metadata": {},
   "source": [
    "# Label"
   ]
  },
  {
   "cell_type": "code",
   "execution_count": null,
   "metadata": {},
   "outputs": [],
   "source": [
    "colnames = {}\n",
    "colnames[\"label_alias\"] = {0: \"LabelAliasID\", 1: \"LabelID\", 2: \"LabelAliasName\", 7: \"LabelAliasName2\"}\n",
    "colnames[\"label_alias_type\"] = {0: \"LabelAliasTypeID\", 1: \"LabelAliasTypeName\", 5: \"LabelAliasGID\"}\n",
    "colnames[\"label_ipi\"] = {0: \"LabelIPIID\", 1: \"LabelIPI\"}\n",
    "colnames[\"label_isni\"] = {0: \"LabelISNIID\", 1: \"LabelISNI\"}\n",
    "colnames[\"label_type\"] = {0: \"LabelTypeID\", 1: \"LabelTypeName\", 5: \"LabelTypeGID\"}\n",
    "colnames[\"label\"] = {0: \"LabelID\", 1: \"LabelGID\", 2: \"LabelName\"}\n",
    "\n",
    "ts = timestat(\"Loading Label Data\")\n",
    "files = glob(\"mbdump/label*\")\n",
    "labelData = {fileInfo(ifile).basename: loadData(ifile) for ifile in files}\n",
    "print(\"Keys: {0}\".format(labelData.keys()))\n",
    "labelData = {key: val[list(colnames[key].keys())].rename(columns=colnames[key]) for key,val in labelData.items() if key in colnames} if colnames is not None else labelData\n",
    "print(\"Keys: {0}\".format(labelData.keys()))\n",
    "ts.stop()"
   ]
  },
  {
   "cell_type": "markdown",
   "metadata": {},
   "source": [
    "# Recording"
   ]
  },
  {
   "cell_type": "code",
   "execution_count": null,
   "metadata": {},
   "outputs": [],
   "source": [
    "colnames = {}\n",
    "colnames[\"recording_alias_type\"] = {0: \"RecordingAliasTypeID\", 1: \"RecordingAliasTypeName\"}\n",
    "colnames[\"recording_alias\"] = {0: \"RecordingAliasID\", 1: \"RecordingID\", 2: \"RecordingAliasName\", 3: \"RecordingAliasLang\", 7: \"recordingAliasName2\"}\n",
    "colnames[\"recording\"] = {0: \"RecordingID\", 1: \"RecordingGID\", 2: \"RecordingName\", 3: \"ArtistID\", 4: \"TimeLength\"} #, 5: \"RecordingDescr\"}\n",
    "\n",
    "ts = timestat(\"Loading Recording Data\")\n",
    "files = glob(\"mbdump/rec\")\n",
    "recordingData = {fileInfo(ifile).basename: loadData(ifile) for ifile in files}\n",
    "print(\"Keys: {0}\".format(recordingData.keys()))\n",
    "recordingData = {key: val[list(colnames[key].keys())].rename(columns=colnames[key]) for key,val in recordingData.items() if key in colnames} if colnames is not None else recordingData\n",
    "print(\"Keys: {0}\".format(recordingData.keys()))\n",
    "ts.stop()"
   ]
  },
  {
   "cell_type": "markdown",
   "metadata": {},
   "source": [
    "# Track"
   ]
  },
  {
   "cell_type": "code",
   "execution_count": null,
   "metadata": {},
   "outputs": [],
   "source": [
    "colnames = {}\n",
    "colnames[\"track\"] = {0: \"TrackID\", 1: \"TrackGID\", 2: \"RecordingID\", 3: \"NA3\", 4: \"TrackNum\", 5: \"TrackNumName\", 6: \"TrackName\", 7: \"ArtistID\", 8: \"TimeLength\"}\n",
    "\n",
    "# Release\n",
    "# 2373946\t7c5d14b4-cf40-4eb1-89e6-d448125d94f3\t1987-12-12: Hampton Coliseum, Hampton, VA, USA\t197\t2128729\t3\t\\N\t120\t28\t\\N\t\t0\t-1\t2019-03-15 09:46:50.446876+00\n",
    "            \n",
    "# Release Group\n",
    "# 2128729\tf979a1c6-b6c2-4aad-b5b6-709c6c216752\t1987-12-12: Hampton Coliseum, Hampton, VA, USA\t197\t1\t\t0\t2019-03-15 09:46:45.458509+00\n",
    "\n",
    "# Recording\n",
    "# 24365864\t6a355a78-06c0-4e06-a15e-05d6e533255e\tSunday Bloody Sunday\t197\t366000\t\t0\t2019-03-15 12:29:22.049215+00\tf\n",
    "\n",
    "# Track\n",
    "# 27710495\tfc969b10-fdba-4b0c-82d9-aa6a7179e41f\t24365864\t2571008\t7\t7\tSunday Bloody Sunday\t197\t366000\t0\t2019-03-15 12:29:22.049215+00\tf\n",
    "ts = timestat(\"Loading Recording Data\")\n",
    "files = glob(\"mbdump/track\")\n",
    "trackData = {fileInfo(ifile).basename: loadData(ifile) for ifile in files}\n",
    "print(\"Keys: {0}\".format(trackData.keys()))\n",
    "trackData = {key: val[list(colnames[key].keys())].rename(columns=colnames[key]) for key,val in trackData.items() if key in colnames} if colnames is not None else trackData\n",
    "print(\"Keys: {0}\".format(trackData.keys()))\n",
    "ts.stop()"
   ]
  },
  {
   "cell_type": "markdown",
   "metadata": {},
   "source": [
    "# Release"
   ]
  },
  {
   "cell_type": "code",
   "execution_count": null,
   "metadata": {},
   "outputs": [],
   "source": [
    "colnames = {}\n",
    "#colnames[\"release_alias_type\"] = {0: \"ReleaseAliasTypeID\", 1: \"ReleaseAliasTypeName\"}\n",
    "#colnames[\"release_alias\"] = {0: \"ReleaseAliasID\", 1: \"ReleaseID\", 2: \"ReleaseAliasName\", 3: \"ReleaseAliasLang\", 7: \"ReleaseAliasName2\"}\n",
    "colnames[\"release_status\"] = {0: \"ReleaseStatusID\", 1: \"ReleaseStatusName\", 3: \"NA3\", 3: \"ReleaseStatusDescr\", 4: \"ReleaseStatusGID\"}\n",
    "colnames[\"release_packaging\"] = {0: \"ReleasePackagingID\", 1: \"ReleasePackagingName\", 3: \"NA3\", 4: \"ReleasePackagingDescr\", 5: \"ReleaseStatusGID\"}\n",
    "colnames[\"release_label\"] = {0: \"Index\", 1: \"ReleaseID\", 2: \"LabelID\", 3: \"CatalogNumber\"}\n",
    "colnames[\"release_country\"] = {0: \"ReleaseID\", 1: \"ReleaseCountryID\", 2: \"ReleaseCountryYear\", 3: \"PossibleHash3\", 4: \"PossibleHash4\"}\n",
    "colnames[\"release_unknown_country\"] = {0: \"ReleaseID\", 1: \"ReleaseCountryYear\", 2: \"NA2\", 3: \"NA3\"}\n",
    "colnames[\"release\"] = {0: \"ReleaseID\", 1: \"ReleaseGID\", 2: \"ReleaseName\", 3: \"ArtistID\", 4: \"ReleaseGroupID\", 5: \"ReleaseStatusID\", \n",
    "                       6: \"ReleasePackagingID\", 7: \"LanguageID\", 8: \"ScriptID\", 9: \"ReleaseBarcode\", 10: \"ReleaseComment\", 11: \"NA11\", 12: \"NA12\"}\n",
    "\n",
    "ts = timestat(\"Loading Release Data\")\n",
    "files = [ifile for ifile in glob(\"mbdump/release*\") if \"group\" not in ifile]\n",
    "releaseData = {fileInfo(ifile).basename: loadData(ifile) for ifile in files}\n",
    "print(\"Keys: {0}\".format(releaseData.keys()))\n",
    "releaseData = {key: val[list(colnames[key].keys())].rename(columns=colnames[key]) for key,val in releaseData.items() if key in colnames} if colnames is not None else releaseData\n",
    "print(\"Keys: {0}\".format(releaseData.keys()))\n",
    "ts.stop()"
   ]
  },
  {
   "cell_type": "markdown",
   "metadata": {},
   "source": [
    "## Indexing"
   ]
  },
  {
   "cell_type": "code",
   "execution_count": null,
   "metadata": {},
   "outputs": [],
   "source": [
    "ts = timestat(\"Setting Index For Release DataFrames\")\n",
    "for key,df in releaseData.items():\n",
    "    colname = df.columns[0]\n",
    "    df.index = df[colname]\n",
    "    df.drop([colname], axis=1, inplace=True)\n",
    "ts.stop()"
   ]
  },
  {
   "cell_type": "code",
   "execution_count": null,
   "metadata": {},
   "outputs": [],
   "source": [
    "releaseData['release'].head()"
   ]
  },
  {
   "cell_type": "code",
   "execution_count": null,
   "metadata": {},
   "outputs": [],
   "source": [
    "releaseData['release_packaging']"
   ]
  },
  {
   "cell_type": "code",
   "execution_count": null,
   "metadata": {},
   "outputs": [],
   "source": [
    "# Peter Gabriel , II : 133050\n",
    "# Pixies , Velouria  : 57759\n",
    "pixiesVelouriaList = releaseData['release'][releaseData['release']['ReleaseGroupID'] == 57759].index\n",
    "releaseData['release'][releaseData['release']['ReleaseGroupID'] == 57759]"
   ]
  },
  {
   "cell_type": "code",
   "execution_count": null,
   "metadata": {},
   "outputs": [],
   "source": [
    "releaseData['release'][releaseData['release']['NA11'] > 0.0]"
   ]
  },
  {
   "cell_type": "code",
   "execution_count": null,
   "metadata": {},
   "outputs": [],
   "source": [
    "key = \"release\"\n",
    "col = \"NA11\"\n",
    "print(\"Min:\",releaseData[key][col][releaseData[key][col].notna()].astype(int).min())\n",
    "print(\"Max:\",releaseData[key][col][releaseData[key][col].notna()].astype(int).max())\n",
    "print(\"Uni:\",releaseData[key][col][releaseData[key][col].notna()].astype(int).nunique())\n",
    "releaseData[key][col][releaseData[key][col].notna()].astype(int).value_counts()"
   ]
  },
  {
   "cell_type": "code",
   "execution_count": null,
   "metadata": {},
   "outputs": [],
   "source": [
    "key = \"release\"\n",
    "col = \"NA12\"\n",
    "print(\"Min:\",releaseData[key][col][releaseData[key][col].notna()].astype(int).min())\n",
    "print(\"Max:\",releaseData[key][col][releaseData[key][col].notna()].astype(int).max())\n",
    "print(\"Uni:\",releaseData[key][col][releaseData[key][col].notna()].astype(int).nunique())\n",
    "releaseData[key][col][releaseData[key][col].notna()].astype(int).value_counts()"
   ]
  },
  {
   "cell_type": "code",
   "execution_count": null,
   "metadata": {},
   "outputs": [],
   "source": [
    "releaseData['release_country'][releaseData['release_country'].index.isin(releaseIDs)]"
   ]
  },
  {
   "cell_type": "code",
   "execution_count": null,
   "metadata": {},
   "outputs": [],
   "source": [
    "releaseData['release_label'][releaseData['release_label'][\"ReleaseID\"].isin(releaseIDs)]"
   ]
  },
  {
   "cell_type": "code",
   "execution_count": null,
   "metadata": {},
   "outputs": [],
   "source": []
  },
  {
   "cell_type": "code",
   "execution_count": null,
   "metadata": {},
   "outputs": [],
   "source": [
    "releaseData['release_label'][releaseData['release_label'].index == 1573831]"
   ]
  },
  {
   "cell_type": "code",
   "execution_count": null,
   "metadata": {},
   "outputs": [],
   "source": [
    "print(\"Min:\",releaseData['release'][\"NA8\"][releaseData['release'][\"NA8\"].notna()].astype(int).min())\n",
    "print(\"Max:\",releaseData['release'][\"NA8\"][releaseData['release'][\"NA8\"].notna()].astype(int).max())\n",
    "print(\"Uni:\",releaseData['release'][\"NA8\"][releaseData['release'][\"NA8\"].notna()].astype(int).nunique())\n",
    "releaseData['release'][\"NA8\"][releaseData['release'][\"NA8\"].notna()].astype(int).value_counts()"
   ]
  },
  {
   "cell_type": "code",
   "execution_count": null,
   "metadata": {},
   "outputs": [],
   "source": [
    "# \"https://musicbrainz.org/release-group/6c301dbd-6ccb-3403-a6c4-6a22240a0297\n",
    "# \"U2\": \"The Best of 1980–1990\" Album + Complication\n",
    "releaseGroupID  = 564345\n",
    "releaseGroupGID = 'c301dbd-6ccb-3403-a6c4-6a22240a0297'"
   ]
  },
  {
   "cell_type": "code",
   "execution_count": null,
   "metadata": {},
   "outputs": [],
   "source": [
    "releaseIDs = releaseData['release'][releaseData['release']['ReleaseGroupID'] == releaseGroupID].index\n",
    "releaseIDs"
   ]
  },
  {
   "cell_type": "code",
   "execution_count": null,
   "metadata": {},
   "outputs": [],
   "source": [
    "releaseData['release'][releaseData['release']['ReleaseGroupID'] == releaseGroupID]"
   ]
  },
  {
   "cell_type": "code",
   "execution_count": null,
   "metadata": {},
   "outputs": [],
   "source": [
    "releaseData['release'][(releaseData['release']['ReleaseGroupID'] == releaseGroupID) & (releaseData['release'].index == 2052110)]"
   ]
  },
  {
   "cell_type": "code",
   "execution_count": null,
   "metadata": {},
   "outputs": [],
   "source": [
    "colnames[\"release_country\"] = {0: \"ReleaseID\", 1: \"ReleaseCountryID\", 2: \"ReleaseCountryYear\", 3: \"NA3\", 4: \"NA4\"}\n",
    "colnames[\"release_unknown_country\"] = {0: \"ReleaseID\", 1: \"ReleaseCountryYear\", 2: \"NA2\", 3: \"NA3\"}\n"
   ]
  },
  {
   "cell_type": "code",
   "execution_count": null,
   "metadata": {},
   "outputs": [],
   "source": [
    "releaseData['release_country'][releaseData['release_country'].index.isin([1321245,  670731,  210217, 1596225,  209665, 2046253, 2052110,\n",
    "             132340, 1828668, 2221126, 2472174, 2503322, 2599439, 2791379,\n",
    "             209663, 2780403, 2830545, 2880210, 2881926])]"
   ]
  },
  {
   "cell_type": "code",
   "execution_count": null,
   "metadata": {},
   "outputs": [],
   "source": [
    "releaseData['release_country'][releaseData['release_country'].index == 2830545]"
   ]
  },
  {
   "cell_type": "code",
   "execution_count": null,
   "metadata": {},
   "outputs": [],
   "source": []
  },
  {
   "cell_type": "code",
   "execution_count": null,
   "metadata": {},
   "outputs": [],
   "source": []
  },
  {
   "cell_type": "code",
   "execution_count": null,
   "metadata": {},
   "outputs": [],
   "source": []
  },
  {
   "cell_type": "markdown",
   "metadata": {},
   "source": [
    "## Extra"
   ]
  },
  {
   "cell_type": "code",
   "execution_count": null,
   "metadata": {},
   "outputs": [],
   "source": [
    "artistIDNumRelease = DataFrame(releaseData['release'][\"ArtistID\"].value_counts())\n",
    "artistIDNumRelease.columns = [\"NumReleases\"]\n",
    "artistIDNumRelease.head()"
   ]
  },
  {
   "cell_type": "code",
   "execution_count": null,
   "metadata": {},
   "outputs": [],
   "source": [
    "releaseData['release']"
   ]
  },
  {
   "cell_type": "markdown",
   "metadata": {
    "heading_collapsed": true
   },
   "source": [
    "# Release-Group"
   ]
  },
  {
   "cell_type": "code",
   "execution_count": null,
   "metadata": {
    "hidden": true
   },
   "outputs": [],
   "source": [
    "colnames = {}\n",
    "#colnames[\"release_group_alias_type\"] = {0: \"ReleaseGroupAliasTypeID\", 1: \"ReleaseGroupAliasTypeName\"}\n",
    "#colnames[\"release_group_alias\"] = {0: \"ReleaseGroupAliasID\", 1: \"NA1\", 2: \"ReleaseGroupAliasName\", 3: \"ReleaseGroupAliasLang\", 7: \"ReleaseGroupAliasName2\"}\n",
    "#colnames[\"release_group_primary_type\"] = {0: \"ReleaseGroupPrimaryTypeID\", 1: \"ReleaseGroupPrimaryTypeName\", 3: \"NA3\"}\n",
    "#colnames[\"release_group_secondary_type\"] = {0: \"ReleaseGroupSecondaryTypeID\", 1: \"ReleaseGroupSecondaryTypeName\"}\n",
    "colnames[\"release_group\"] = {0: \"ReleaseGroupID\", 1: \"ReleaseGroupGID\", 2: \"ReleaseGroupName\", 3: \"ArtistID\", 4: \"ReleaseGroupPrimaryTypeID\", 5: \"ReleaseGroupComment\", 6: \"NA6\"}\n",
    "colnames[\"release_group_secondary_type_join\"] = {0: \"ReleaseGroupID\", 1: \"ReleaseGroupSecondaryTypeID\"}\n",
    "\n",
    "ts = timestat(\"Loading Release Data\")\n",
    "files = [ifile for ifile in glob(\"mbdump/release*\") if \"group\" in ifile]\n",
    "releaseGroupData = {fileInfo(ifile).basename: loadData(ifile) for ifile in files}\n",
    "print(\"Keys: {0}\".format(releaseGroupData.keys()))\n",
    "releaseGroupData = {key: val[list(colnames[key].keys())].rename(columns=colnames[key]) for key,val in releaseGroupData.items() if key in colnames} if colnames is not None else releaseGroupData\n",
    "print(\"Keys: {0}\".format(releaseGroupData.keys()))\n",
    "ts.stop()"
   ]
  },
  {
   "cell_type": "markdown",
   "metadata": {
    "hidden": true
   },
   "source": [
    "## Indexing"
   ]
  },
  {
   "cell_type": "code",
   "execution_count": null,
   "metadata": {
    "hidden": true
   },
   "outputs": [],
   "source": [
    "ts = timestat(\"Setting Index For ReleaseGroup DataFrames\")\n",
    "for key,df in releaseGroupData.items():\n",
    "    colname = df.columns[0]\n",
    "    df.index = df[colname]\n",
    "    df.drop([colname], axis=1, inplace=True)\n",
    "ts.stop()"
   ]
  },
  {
   "cell_type": "markdown",
   "metadata": {
    "hidden": true
   },
   "source": [
    "## Joins"
   ]
  },
  {
   "cell_type": "code",
   "execution_count": null,
   "metadata": {
    "hidden": true
   },
   "outputs": [],
   "source": [
    "ts = timestat(\"Joining Secondary Group Type To Master Data\")\n",
    "masterReleaseGroupData = releaseGroupData['release_group'].join(releaseGroupData['release_group_secondary_type_join'])\n",
    "ts.update()\n",
    "masterReleaseGroupData[\"ReleaseGroupPrimaryTypeID\"] = masterReleaseGroupData[\"ReleaseGroupPrimaryTypeID\"].fillna(-1)\n",
    "masterReleaseGroupData[\"ReleaseGroupPrimaryTypeID\"] = masterReleaseGroupData[\"ReleaseGroupPrimaryTypeID\"].astype(int)\n",
    "\n",
    "masterReleaseGroupData[\"ReleaseGroupSecondaryTypeID\"] = masterReleaseGroupData[\"ReleaseGroupSecondaryTypeID\"].fillna(-1)\n",
    "masterReleaseGroupData[\"ReleaseGroupSecondaryTypeID\"] = masterReleaseGroupData[\"ReleaseGroupSecondaryTypeID\"].astype(int)\n",
    "ts.update()\n",
    "masterReleaseGroupData[\"ReleaseGroupTypeKey\"] = tuple(zip(masterReleaseGroupData[\"ReleaseGroupPrimaryTypeID\"], masterReleaseGroupData[\"ReleaseGroupSecondaryTypeID\"]))\n",
    "ts.stop()"
   ]
  },
  {
   "cell_type": "markdown",
   "metadata": {
    "hidden": true
   },
   "source": [
    "## Create Artist/ReleaseGroupType Map"
   ]
  },
  {
   "cell_type": "code",
   "execution_count": null,
   "metadata": {
    "hidden": true
   },
   "outputs": [],
   "source": [
    "masterSaveData = masterReleaseGroupData[[\"ArtistID\", \"ReleaseGroupTypeKey\", \"ReleaseGroupName\"]]\n",
    "from fileIO import pickleIO\n",
    "io = pickleIO()\n",
    "for modVal in range(10):\n",
    "    ts = timestat(\"Creating Artist/Release Data For ModVal={0}\".format(modVal))\n",
    "    modValData = {artistID: {groupTypeKey: groupTypeKeyData[\"ReleaseGroupName\"].to_dict() for groupTypeKey,groupTypeKeyData in artistDF.groupby(\"ReleaseGroupTypeKey\")} for artistID,artistDF in masterSaveData[masterSaveData[\"ArtistID\"] % 10 == modVal].groupby(\"ArtistID\")}\n",
    "    ts.update()\n",
    "    io.save(idata=modValData, ifile=\"mbdump/MasterArtistReleaseGroupDataMod{0}.p\".format(modVal))\n",
    "    ts.stop()\n",
    "    print(\"\")"
   ]
  },
  {
   "cell_type": "markdown",
   "metadata": {
    "heading_collapsed": true,
    "hidden": true
   },
   "source": [
    "## Extra"
   ]
  },
  {
   "cell_type": "code",
   "execution_count": null,
   "metadata": {
    "hidden": true
   },
   "outputs": [],
   "source": [
    "releaseGroupData['release_group'][(releaseGroupData['release_group']['ArtistID'] == 197) & (releaseGroupData['release_group']['ReleaseGroupName'] == \"Previous Day\")]"
   ]
  },
  {
   "cell_type": "code",
   "execution_count": null,
   "metadata": {
    "hidden": true
   },
   "outputs": [],
   "source": [
    "releaseGroupData['release_group'][releaseGroupData['release_group'][\"ReleaseGroupGID\"] == \"744c7a1b-ac79-35c4-bd92-7e2c6a24c8d8\"]"
   ]
  },
  {
   "cell_type": "code",
   "execution_count": null,
   "metadata": {
    "hidden": true
   },
   "outputs": [],
   "source": [
    "files = glob(\"mbdump/release_group\")\n",
    "files = [ifile for ifile in glob(\"mbdump/release*\") if \"group\" in ifile]\n",
    "releaseGroupData = {fileInfo(ifile).basename: loadData(ifile) for ifile in files}"
   ]
  },
  {
   "cell_type": "code",
   "execution_count": null,
   "metadata": {
    "hidden": true
   },
   "outputs": [],
   "source": [
    "releaseGroupData['release_group'][\"ReleaseGroupPrimaryType\"].nunique()"
   ]
  },
  {
   "cell_type": "markdown",
   "metadata": {},
   "source": [
    "# Artist"
   ]
  },
  {
   "cell_type": "code",
   "execution_count": null,
   "metadata": {},
   "outputs": [],
   "source": [
    "colnames = {}\n",
    "colnames[\"artist_credit\"] = {0: \"ArtistCreditID\", 1: \"ArtistCreditName\", 2: \"ArtistCreditNum\", 3: \"NA3\"}\n",
    "colnames[\"artist_type\"] = {0: \"ArtistTypeID\", 1: \"ArtistTypeName\", 2: \"NA2\", 3: \"NA3\", 4: \"ArtistTypeDescr\", 5: \"ArtistTypeGID\"}\n",
    "colnames[\"artist_isni\"] = {0: \"ArtistISNIID\", 1: \"ArtistISNI\"}\n",
    "colnames[\"artist_alias_type\"] = {0: \"ArtistAliasTypeID\", 1: \"ArtistAliasTypeName\", 5: \"ArtistAliasTypeGID\"}\n",
    "colnames[\"artist_alias\"] = {0: \"ArtistAliasID\", 1: \"ArtistID\", 2: \"ArtistAliasName\", 3: \"ArtistAliasLang\", 7: \"ArtistAliasSortName\"}\n",
    "colnames[\"artist\"] = {0: \"ArtistID\", 1: \"ArtistGID\", 2: \"ArtistName\", 3: \"ArtistSortName\",\n",
    "                      4: \"FormedYear\", 5: \"FormedMonth\", 6: \"FormedDay\", \n",
    "                      7: \"DisbandedYear\", 8: \"DisbandedMonth\", 9: \"DisbandedDay\", \n",
    "                      10: \"ArtistTypeID\", 11: \"CountryAreaID\", 12: \"GenderID\", 13: \"ArtistDescr\", 14: \"NA14\", 17: \"FoundedInAreaID\", 18: \"DisbandedInAreaID\"}\n",
    "\n",
    "ts = timestat(\"Loading Artist Data\")\n",
    "files = glob(\"mbdump/artist*\")\n",
    "artistData = {fileInfo(ifile).basename: loadData(ifile) for ifile in files if ifile not in [\"mbdump/artist_credit_name\"]}\n",
    "print(\"Keys: {0}\".format(artistData.keys()))\n",
    "artistData = {key: val[list(colnames[key].keys())].rename(columns=colnames[key]) for key,val in artistData.items() if key in colnames} if colnames is not None else artistData\n",
    "print(\"Keys: {0}\".format(artistData.keys()))\n",
    "ts.stop()"
   ]
  },
  {
   "cell_type": "code",
   "execution_count": null,
   "metadata": {},
   "outputs": [],
   "source": [
    "artistData['artist'][artistData['artist']['NA14'] == 23]"
   ]
  },
  {
   "cell_type": "code",
   "execution_count": null,
   "metadata": {},
   "outputs": [],
   "source": [
    "artistData['artist'].index = artistData['artist']['ArtistID'].to_list()\n",
    "artistData['artist'].drop(['ArtistID'], axis=1, inplace=True)"
   ]
  },
  {
   "cell_type": "code",
   "execution_count": null,
   "metadata": {},
   "outputs": [],
   "source": [
    "artistData['artist']"
   ]
  },
  {
   "cell_type": "markdown",
   "metadata": {},
   "source": [
    "# Master Artist Summary Data"
   ]
  },
  {
   "cell_type": "code",
   "execution_count": null,
   "metadata": {},
   "outputs": [],
   "source": [
    "masterArtistData = artistData['artist'][[\"ArtistGID\", \"ArtistName\", \"ArtistSortName\", \"Formed\", \"Disbanded\"]].copy(deep=True)\n",
    "masterArtistNumAlbums = artistIDNumReleaseGroups.join(artistIDNumRelease, how='outer')\n",
    "masterArtistData = masterArtistData.join(masterArtistNumAlbums)\n",
    "masterArtistData[\"NumReleaseGroups\"] = masterArtistData[\"NumReleaseGroups\"].fillna(0).apply(int)\n",
    "masterArtistData[\"NumReleases\"] = masterArtistData[\"NumReleases\"].fillna(0).apply(int)"
   ]
  },
  {
   "cell_type": "code",
   "execution_count": null,
   "metadata": {},
   "outputs": [],
   "source": [
    "masterArtistData"
   ]
  },
  {
   "cell_type": "code",
   "execution_count": null,
   "metadata": {},
   "outputs": [],
   "source": [
    "masterartistNumAlbums"
   ]
  },
  {
   "cell_type": "code",
   "execution_count": null,
   "metadata": {},
   "outputs": [],
   "source": [
    "artistIDNumReleaseGroups.shape"
   ]
  },
  {
   "cell_type": "code",
   "execution_count": null,
   "metadata": {},
   "outputs": [],
   "source": [
    "artistIDNumRelease.shape"
   ]
  },
  {
   "cell_type": "code",
   "execution_count": null,
   "metadata": {},
   "outputs": [],
   "source": [
    "artistData['artist'][artistData['artist']['ArtistID'] == aIDs[\"ArianaGrande\"]]"
   ]
  },
  {
   "cell_type": "code",
   "execution_count": null,
   "metadata": {},
   "outputs": [],
   "source": [
    "artistData['artist'][artistData['artist']['ArtistID'] == aIDs[\"BuddyHolly\"]]"
   ]
  },
  {
   "cell_type": "code",
   "execution_count": null,
   "metadata": {},
   "outputs": [],
   "source": [
    "artistData['artist'][artistData['artist']['ArtistID'] == aIDs[\"Bono\"]]"
   ]
  },
  {
   "cell_type": "code",
   "execution_count": null,
   "metadata": {},
   "outputs": [],
   "source": [
    "artistData['artist'][artistData['artist']['ArtistID'] == aIDs[\"Rupaul\"]]"
   ]
  },
  {
   "cell_type": "code",
   "execution_count": null,
   "metadata": {},
   "outputs": [],
   "source": [
    "artistData['artist'][artistData['artist']['ArtistID'] == aIDs[\"U2\"]]"
   ]
  },
  {
   "cell_type": "code",
   "execution_count": null,
   "metadata": {},
   "outputs": [],
   "source": [
    "artistData['artist'][artistData['artist']['ArtistID'] == aIDs[\"DMB\"]]"
   ]
  },
  {
   "cell_type": "code",
   "execution_count": null,
   "metadata": {},
   "outputs": [],
   "source": [
    "artistData['artist'][\"NA18\"].value_counts()"
   ]
  },
  {
   "cell_type": "code",
   "execution_count": null,
   "metadata": {},
   "outputs": [],
   "source": [
    "artistData['artist'][\"NA9\"].value_counts()"
   ]
  },
  {
   "cell_type": "code",
   "execution_count": null,
   "metadata": {},
   "outputs": [],
   "source": [
    "artistData['artist']['NA12'].unique()"
   ]
  },
  {
   "cell_type": "code",
   "execution_count": null,
   "metadata": {},
   "outputs": [],
   "source": [
    "artistData['artist']['NA5'].unique()"
   ]
  },
  {
   "cell_type": "code",
   "execution_count": null,
   "metadata": {},
   "outputs": [],
   "source": [
    "artistData['artist'][artistData['artist']['ArtistGID'] == '7f347782-eb14-40c3-98e2-17b6e1bfe56c']"
   ]
  },
  {
   "cell_type": "code",
   "execution_count": null,
   "metadata": {},
   "outputs": [],
   "source": [
    "artistData[\"artist\"][artistData[\"artist\"][\"ArtistID\"] == 502]"
   ]
  },
  {
   "cell_type": "code",
   "execution_count": null,
   "metadata": {},
   "outputs": [],
   "source": [
    "artistData[\"artist\"]['NA10'].unique()"
   ]
  },
  {
   "cell_type": "code",
   "execution_count": null,
   "metadata": {},
   "outputs": [],
   "source": [
    "artistData[\"artist\"][artistData[\"artist\"][\"ArtistID\"] == 197]"
   ]
  },
  {
   "cell_type": "markdown",
   "metadata": {},
   "source": [
    "# Artist Lookup"
   ]
  },
  {
   "cell_type": "code",
   "execution_count": null,
   "metadata": {},
   "outputs": [],
   "source": [
    "colnames[\"l_artist_url\"]={0: \"ArtistURLLID\", 1: \"URLGroupID\", 2: \"ArtistID\", 3: \"URLID\"}\n",
    "colnames[\"l_artist_release_group\"]={0: \"ArtistReleaseGroupLID\", 1: \"ReleaseGroupGroupID\", 2: \"ArtistID\", 3: \"ReleaseGroupID\"}\n",
    "colnames[\"l_artist_release\"]={0: \"ArtistReleaseLID\", 1: \"ReleaseGroupID\", 2: \"ArtistID\", 3: \"ReleaseID\"}\n",
    "\n",
    "ts = timestat(\"Loading Artist Data\")\n",
    "files = glob(\"mbdump/l_artist_*\")\n",
    "lookupData = {fileInfo(ifile).basename: loadData(ifile) for ifile in files}\n",
    "lookupData = {key: val[list(colnames[key].keys())].rename(columns=colnames[key]) for key,val in lookupData.items() if key in colnames} if lookupData is not None else lookupData\n",
    "print(\"Keys: {0}\".format(lookupData.keys()))\n",
    "ts.stop()"
   ]
  },
  {
   "cell_type": "code",
   "execution_count": null,
   "metadata": {},
   "outputs": [],
   "source": [
    "files = glob(\"mbdump/l_artist_release\")\n",
    "lookupData = {fileInfo(ifile).basename: loadData(ifile) for ifile in files}"
   ]
  },
  {
   "cell_type": "code",
   "execution_count": null,
   "metadata": {},
   "outputs": [],
   "source": [
    "lookupData['l_artist_release'][\"ReleaseGroupID\"].nunique()"
   ]
  },
  {
   "cell_type": "code",
   "execution_count": null,
   "metadata": {},
   "outputs": [],
   "source": [
    "lookupData['l_artist_release'][lookupData['l_artist_release']['ArtistID'] == 502]"
   ]
  },
  {
   "cell_type": "code",
   "execution_count": null,
   "metadata": {},
   "outputs": [],
   "source": [
    "key='l_artist_url'\n",
    "lookupData['l_artist_url'] = lookupData['l_artist_url'][list(colnames[key].keys())].rename(columns=colnames[key])"
   ]
  },
  {
   "cell_type": "code",
   "execution_count": null,
   "metadata": {},
   "outputs": [],
   "source": [
    "print(urlData['url'][urlData['url'][\"URLName\"].eq(\"https://www.discogs.com/artist/6520\")])\n",
    "print(urlData['url'][urlData['url'][\"URLName\"].eq(\"https://www.allmusic.com/artist/mn0000219203\")])"
   ]
  },
  {
   "cell_type": "code",
   "execution_count": null,
   "metadata": {},
   "outputs": [],
   "source": [
    "lookupData[\"l_artist_url\"][lookupData[\"l_artist_url\"][\"URLID\"].isin([3017,993955])]"
   ]
  },
  {
   "cell_type": "code",
   "execution_count": null,
   "metadata": {},
   "outputs": [],
   "source": [
    "from pandas import merge\n",
    "dmbAU = lookupData[\"l_artist_url\"][lookupData[\"l_artist_url\"]['ArtistID'] == 502].copy(deep=True)\n",
    "u2AU  = lookupData[\"l_artist_url\"][lookupData[\"l_artist_url\"]['ArtistID'] == 197].copy(deep=True)"
   ]
  },
  {
   "cell_type": "code",
   "execution_count": null,
   "metadata": {},
   "outputs": [],
   "source": [
    "dmbURLs = merge(dmbAU, urlData['url'], how='left', on=[\"URLID\"]).copy(deep=True)\n",
    "u2URLs  = merge(u2AU, urlData['url'], how='left', on=[\"URLID\"]).copy(deep=True)"
   ]
  },
  {
   "cell_type": "code",
   "execution_count": null,
   "metadata": {},
   "outputs": [],
   "source": [
    "dmbURLs[\"URLDomain\"] = dmbURLs[\"URLName\"].apply(lambda x: x.replace(\"https://\", \"\").replace(\"http://\", \"\").split('/')[0])"
   ]
  },
  {
   "cell_type": "code",
   "execution_count": null,
   "metadata": {},
   "outputs": [],
   "source": [
    "u2URLs[\"URLDomain\"] = u2URLs[\"URLName\"].apply(lambda x: x.replace(\"https://\", \"\").replace(\"http://\", \"\").split('/')[0])"
   ]
  },
  {
   "cell_type": "code",
   "execution_count": null,
   "metadata": {},
   "outputs": [],
   "source": [
    "u2URLs[[\"NA1\", \"URLDomain\"]].sort_values(by=\"NA1\").T"
   ]
  },
  {
   "cell_type": "code",
   "execution_count": null,
   "metadata": {},
   "outputs": [],
   "source": [
    "dmbURLs[[\"NA1\", \"URLDomain\"]].sort_values(by=\"NA1\").T"
   ]
  },
  {
   "cell_type": "code",
   "execution_count": null,
   "metadata": {},
   "outputs": [],
   "source": [
    "artistData[\"artist\"][artistData[\"artist\"].eq(8723).any(1)]"
   ]
  },
  {
   "cell_type": "code",
   "execution_count": null,
   "metadata": {},
   "outputs": [],
   "source": [
    "urlData['url'].shape"
   ]
  },
  {
   "cell_type": "code",
   "execution_count": null,
   "metadata": {},
   "outputs": [],
   "source": []
  },
  {
   "cell_type": "code",
   "execution_count": null,
   "metadata": {},
   "outputs": [],
   "source": [
    "lookupData[\"l_artist_url\"][lookupData[\"l_artist_url\"].eq(1025971).any(1)]"
   ]
  },
  {
   "cell_type": "code",
   "execution_count": null,
   "metadata": {},
   "outputs": [],
   "source": [
    "lookupData[\"l_artist_url\"][lookupData[\"l_artist_url\"].eq(2625).any(1)]"
   ]
  },
  {
   "cell_type": "code",
   "execution_count": null,
   "metadata": {},
   "outputs": [],
   "source": [
    "lookupData[\"l_artist_url\"][lookupData[\"l_artist_url\"][2].eq(502).any(1)]"
   ]
  },
  {
   "cell_type": "code",
   "execution_count": null,
   "metadata": {},
   "outputs": [],
   "source": [
    "DMB={AllMusic = 1025971 (c94225e3-2f0c-4c6d-9115-9f268fb7c31b), Discogs = 2625 (7a157b6e-d01d-4248-9995-edb05652c5b2)}"
   ]
  },
  {
   "cell_type": "code",
   "execution_count": null,
   "metadata": {},
   "outputs": [],
   "source": []
  },
  {
   "cell_type": "code",
   "execution_count": null,
   "metadata": {},
   "outputs": [],
   "source": []
  },
  {
   "cell_type": "code",
   "execution_count": null,
   "metadata": {},
   "outputs": [],
   "source": [
    "artistData['artist']"
   ]
  },
  {
   "cell_type": "code",
   "execution_count": null,
   "metadata": {},
   "outputs": [],
   "source": [
    "colnames = {0: \"ArtistID\", 1: \"NA1\", 2: \"NA2\": 3: \"NA3\"}\n",
    "lookupData[\"l_artist_artist\"][lookupData[\"l_artist_artist\"].eq(502).any(1)]"
   ]
  },
  {
   "cell_type": "code",
   "execution_count": null,
   "metadata": {},
   "outputs": [],
   "source": [
    "urlData['url'][urlData['url'][\"URLName\"].eq(\"https://www.discogs.com/artist/6520\")]\n",
    "urlData['url'][urlData['url'][\"URLName\"].eq(\"https://www.allmusic.com/artist/mn0000219203\")]"
   ]
  },
  {
   "cell_type": "code",
   "execution_count": null,
   "metadata": {},
   "outputs": [],
   "source": []
  },
  {
   "cell_type": "markdown",
   "metadata": {},
   "source": []
  },
  {
   "cell_type": "code",
   "execution_count": null,
   "metadata": {},
   "outputs": [],
   "source": [
    "502\n",
    "07e748f1-075e-428d-85dc-ce3be434e906"
   ]
  }
 ],
 "metadata": {
  "kernelspec": {
   "display_name": "Python 3",
   "language": "python",
   "name": "python3"
  },
  "language_info": {
   "codemirror_mode": {
    "name": "ipython",
    "version": 3
   },
   "file_extension": ".py",
   "mimetype": "text/x-python",
   "name": "python",
   "nbconvert_exporter": "python",
   "pygments_lexer": "ipython3",
   "version": "3.7.3"
  },
  "toc": {
   "base_numbering": 1,
   "nav_menu": {},
   "number_sections": true,
   "sideBar": true,
   "skip_h1_title": false,
   "title_cell": "Table of Contents",
   "title_sidebar": "Contents",
   "toc_cell": false,
   "toc_position": {},
   "toc_section_display": true,
   "toc_window_display": false
  }
 },
 "nbformat": 4,
 "nbformat_minor": 4
}
