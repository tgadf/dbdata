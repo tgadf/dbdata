{
 "cells": [
  {
   "cell_type": "code",
   "execution_count": 1,
   "metadata": {},
   "outputs": [
    {
     "data": {
      "text/html": [
       "<style>.container { width:100% !important; }</style>"
      ],
      "text/plain": [
       "<IPython.core.display.HTML object>"
      ]
     },
     "metadata": {},
     "output_type": "display_data"
    },
    {
     "data": {
      "text/html": [
       "<style>div.output_area{max-height:10000px;overflow:scroll;}</style>"
      ],
      "text/plain": [
       "<IPython.core.display.HTML object>"
      ]
     },
     "metadata": {},
     "output_type": "display_data"
    }
   ],
   "source": [
    "## Basic stuff\n",
    "%load_ext autoreload\n",
    "%autoreload\n",
    "\n",
    "from IPython.core.display import display, HTML\n",
    "display(HTML(\"<style>.container { width:100% !important; }</style>\"))\n",
    "display(HTML(\"\"\"<style>div.output_area{max-height:10000px;overflow:scroll;}</style>\"\"\"))\n",
    "#IPython.Cell.options_default.cm_config.lineNumbers = true;"
   ]
  },
  {
   "cell_type": "code",
   "execution_count": 2,
   "metadata": {},
   "outputs": [],
   "source": [
    "from fileIO import fileIO\n",
    "from fileInfo import fileInfo\n",
    "from pandas import read_csv, DataFrame, Series\n",
    "from fsUtils import setDir, setFile\n",
    "from timeUtils import timestat\n",
    "from numpy import nan\n",
    "from pandas import to_datetime, NaT, isna, concat\n",
    "\n",
    "from glob import glob\n",
    "from fileIO import csvIO, pickleIO\n",
    "\n",
    "\n",
    "def loadData(ifile):\n",
    "    io = csvIO()\n",
    "    mbdata = io.get(ifile, delimiter=\"\\t\", header=None)\n",
    "    #mbdata = read_csv(ifile, delimiter=\"\\t\", header=None)\n",
    "    mbdata = mbdata.replace('\\\\N', nan)\n",
    "    return mbdata\n",
    "\n",
    "\n",
    "def getData(files, colnames):\n",
    "    data = {fileInfo(ifile).basename: loadData(ifile) for ifile in files}\n",
    "    print(\"Keys: {0}\".format(data.keys()))\n",
    "    data = {key: val[list(colnames[key].keys())].rename(columns=colnames[key]) for key,val in data.items() if key in colnames} if colnames is not None else data\n",
    "    print(\"Keys: {0}\".format(data.keys()))\n",
    "    return data\n",
    "\n",
    "\n",
    "def setIndex(data):\n",
    "    for key,df in data.items():\n",
    "        colname = df.columns[0]\n",
    "        df.index = df[colname]\n",
    "        df.drop([colname], axis=1, inplace=True)\n",
    "    return data\n",
    "\n",
    "\n",
    "def createDate(year, month, day):\n",
    "    if all([isinstance(x,str) for x in [year,month,day]]):\n",
    "        return to_datetime('{0}-{1}-{2}'.format(year, month, day), format='%Y-%m-%d', errors='ignore')\n",
    "    elif all([isinstance(x,str) for x in [year,month]]):\n",
    "        return to_datetime('{0}-{1}'.format(year, month), format='%Y-%m', errors='ignore')\n",
    "    elif all([isinstance(x,str) for x in [year]]):\n",
    "        return to_datetime('{0}'.format(year), format='%Y', errors='ignore')\n",
    "    return NaT\n",
    "\n",
    "\n",
    "def convertToDatetime(year, month, day):\n",
    "    year  = year.apply(lambda x: int(x) if (not isna(x) and x.isdigit()) else -1)\n",
    "    month = month.apply(lambda x: int(x) if (not isna(x) and x.isdigit()) else -1)\n",
    "    day   = day.apply(lambda x: int(x) if (not isna(x) and x.isdigit()) else -1)\n",
    "    tmp   = DataFrame(year).join(month).join(day)\n",
    "    tmp.columns = [\"year\", \"month\", \"day\"]\n",
    "    return to_datetime(tmp, errors='coerce')\n",
    "\n",
    "\n",
    "basedir = \"./\"\n",
    "basedir = \"/Volumes/Seagate/DB\"\n",
    "\n",
    "aIDs={\"ArianaGrande\": 823336, \"BuddyHolly\": 10937, \"Rupaul\": 34318, \"U2\": 197, \"DMB\": 502, \"Bono\": 35575}"
   ]
  },
  {
   "cell_type": "markdown",
   "metadata": {},
   "source": [
    "# DB Data"
   ]
  },
  {
   "cell_type": "code",
   "execution_count": null,
   "metadata": {},
   "outputs": [],
   "source": [
    "lengthData = open(\"flength.csv\").readlines()\n",
    "lengthData = [x.replace(\"\\n\", \"\").strip().split() for x in lengthData]\n",
    "lengthData = Series({item[1].split(\"/\")[1]: int(item[0]) for item in lengthData if len(item[1].split(\"/\")) > 1})\n",
    "lengthData"
   ]
  },
  {
   "cell_type": "code",
   "execution_count": null,
   "metadata": {},
   "outputs": [],
   "source": [
    "list(lengthData.index)"
   ]
  },
  {
   "cell_type": "code",
   "execution_count": null,
   "metadata": {},
   "outputs": [],
   "source": [
    "#lengthData['release_label']\n",
    "lengthData[(lengthData <= 6)]"
   ]
  },
  {
   "cell_type": "markdown",
   "metadata": {},
   "source": [
    "# Lookup Dictionary"
   ]
  },
  {
   "cell_type": "code",
   "execution_count": null,
   "metadata": {},
   "outputs": [],
   "source": [
    "colnames = {}\n",
    "colnames['gender'] = {0: \"GenderID\", 1: \"GenderName\"} #, 3: \"NA3\", \"GenderDescr\"}\n",
    "\n",
    "ts = timestat(\"Loading Gender Data\")\n",
    "files = [ifile for ifile in glob(\"mbdump/gender*\")]\n",
    "genderData = getData(files, colnames)\n",
    "genderData = setIndex(genderData)\n",
    "ts.stop()\n",
    "\n",
    "dGenderName = genderData['gender']['GenderName'].to_dict()\n",
    "del genderData"
   ]
  },
  {
   "cell_type": "code",
   "execution_count": null,
   "metadata": {},
   "outputs": [],
   "source": [
    "colnames = {}\n",
    "colnames[\"area_type\"] = {0: \"AreaTypeID\", 1: \"AreaTypeName\", 3: \"AlsoAreaTypeID\", 4: \"AreaTypeDescr\", 5: \"AreaTypeGID\"}\n",
    "colnames[\"area\"]      = {0: \"AreaID\", 1: \"AreaGID\", 2: \"AreaName\", 3: \"AreaTypeID\"}\n",
    "#colnames[\"area_gid_redirect\"] = {0: \"AreaGIDUUID\", 1: \"AreaGID\"}\n",
    "#colnames[\"area_alias_type\"] = {0: \"AreaAliasTypeID\", 1: \"AreaAliasTypeName\", 5: \"AreaAliasTypeUUID\"}\n",
    "#colnames[\"area_alias\"] = {0: \"AreaAliasID\", 1: \"NA1\", 2: \"AreaAlias\", 3: \"AreaLang\", 6: \"AliasTypeID\", 7: \"AreaSortName\"}\n",
    "\n",
    "ts = timestat(\"Loading Area Data\")\n",
    "files = glob(\"mbdump/area*\")\n",
    "areaData = getData(files, colnames)\n",
    "areaData = setIndex(areaData)\n",
    "ts.stop()\n",
    "\n",
    "dAreaName = areaData['area']['AreaName'].to_dict()\n",
    "del areaData"
   ]
  },
  {
   "cell_type": "code",
   "execution_count": null,
   "metadata": {},
   "outputs": [],
   "source": [
    "colnames = {}\n",
    "colnames['isrc'] = {0: \"ISRCID\", 1: \"RecordingID\", 2: \"ISRC\"}\n",
    "colnames['iswc'] = {0: \"ISWCID\", 1: \"WorkID\", 2: \"ISWC\"}\n",
    "colnames['iso_3166_1'] = {0: \"ISO31661ID\", 1: \"ISO31661\"}\n",
    "colnames['iso_3166_2'] = {0: \"ISO31662ID\", 1: \"ISO31662\"}\n",
    "colnames['iso_3166_3'] = {0: \"ISO31663ID\", 1: \"ISO31663\"}\n",
    "\n",
    "ts = timestat(\"Loading i* Code Data\")\n",
    "files = glob(\"mbdump/is*\")\n",
    "icodeData = getData(files, colnames)\n",
    "icodeData = setIndex(icodeData)\n",
    "ts.stop()\n",
    "\n",
    "iSWCData = icodeData['iswc'][\"ISWC\"].copy(deep=True)\n",
    "iSWCData.index = icodeData['iswc']['WorkID']\n",
    "iSWCData = iSWCData.drop_duplicates()\n",
    "del icodeData"
   ]
  },
  {
   "cell_type": "code",
   "execution_count": null,
   "metadata": {},
   "outputs": [],
   "source": [
    "colnames = {}\n",
    "colnames[\"language\"] = {0: \"LanguageID\", 1: \"LanguageShort1\", 2: \"LanguageShort2\", 3: \"LanguageShort3\", 4: \"LanguageName\", 5: \"NA5\", 6: \"LanguageShort\"}\n",
    "\n",
    "ts = timestat(\"Loading URL Data\")\n",
    "files = glob(\"mbdump/language*\")\n",
    "languageData = getData(files, colnames)\n",
    "languageData = setIndex(languageData)\n",
    "ts.stop()\n",
    "\n",
    "dLanguageName = languageData['language']['LanguageName'].to_dict()\n",
    "del languageData"
   ]
  },
  {
   "cell_type": "code",
   "execution_count": null,
   "metadata": {},
   "outputs": [],
   "source": [
    "colnames = {}\n",
    "colnames[\"script\"] = {0: \"ScriptID\", 1: \"ScriptName\", 2: \"NA2\", 3: \"ScriptDescr\", 4: \"NA4\"}\n",
    "\n",
    "ts = timestat(\"Loading URL Data\")\n",
    "files = glob(\"mbdump/script\")\n",
    "scriptData = getData(files, colnames)\n",
    "scriptData = setIndex(scriptData)\n",
    "ts.stop()\n",
    "\n",
    "dScriptName = scriptData['script']['ScriptName'].to_dict()\n",
    "del scriptData"
   ]
  },
  {
   "cell_type": "code",
   "execution_count": null,
   "metadata": {},
   "outputs": [],
   "source": [
    "colnames = {}\n",
    "colnames[\"label_alias\"] = {0: \"LabelAliasID\", 1: \"LabelID\", 2: \"LabelAliasName\", 7: \"LabelAliasName2\"}\n",
    "colnames[\"label_alias_type\"] = {0: \"LabelAliasTypeID\", 1: \"LabelAliasTypeName\", 5: \"LabelAliasGID\"}\n",
    "colnames[\"label_ipi\"] = {0: \"LabelIPIID\", 1: \"LabelIPI\"}\n",
    "colnames[\"label_isni\"] = {0: \"LabelISNIID\", 1: \"LabelISNI\"}\n",
    "colnames[\"label_type\"] = {0: \"LabelTypeID\", 1: \"LabelTypeName\", 5: \"LabelTypeGID\"}\n",
    "colnames[\"label\"] = {0: \"LabelID\", 1: \"LabelGID\", 2: \"LabelName\"}\n",
    "\n",
    "ts = timestat(\"Loading Label Data\")\n",
    "files = glob(\"mbdump/label*\")\n",
    "labelData = getData(files, colnames)\n",
    "labelData = setIndex(labelData)\n",
    "ts.stop()\n",
    "\n",
    "dLabelName = labelData['label']['LabelName'].to_dict()\n",
    "del labelData"
   ]
  },
  {
   "cell_type": "markdown",
   "metadata": {
    "heading_collapsed": true
   },
   "source": [
    "# Gender"
   ]
  },
  {
   "cell_type": "code",
   "execution_count": null,
   "metadata": {
    "hidden": true
   },
   "outputs": [],
   "source": [
    "colnames = {}\n",
    "colnames['gender'] = {0: \"GenderID\", 1: \"GenderName\"} #, 3: \"NA3\", \"GenderDescr\"}\n",
    "\n",
    "ts = timestat(\"Loading Gender Data\")\n",
    "files = [ifile for ifile in glob(\"mbdump/gender*\")]\n",
    "genderData = getData(files, colnames)\n",
    "genderData = setIndex(genderData)\n",
    "ts.stop()"
   ]
  },
  {
   "cell_type": "markdown",
   "metadata": {
    "heading_collapsed": true
   },
   "source": [
    "# Lookup"
   ]
  },
  {
   "cell_type": "code",
   "execution_count": null,
   "metadata": {
    "hidden": true
   },
   "outputs": [],
   "source": [
    "colnames = {}\n",
    "colnames[\"l_label_release\"] = {0: \"Index\", 1: \"NA1\", 2: \"NA2\", 3: \"ReleaseID\"}\n",
    "\n",
    "ts = timestat(\"Loading Area Data\")\n",
    "files = glob(\"mbdump/l_label_release\")\n",
    "lookupData = {fileInfo(ifile).basename: loadData(ifile) for ifile in files}\n",
    "lookupData = {key: val[list(colnames[key].keys())].rename(columns=colnames[key]) for key,val in lookupData.items()} if colnames is not None else lookupData\n",
    "print(\"Keys: {0}\".format(lookupData.keys()))\n",
    "ts.stop()"
   ]
  },
  {
   "cell_type": "code",
   "execution_count": null,
   "metadata": {
    "hidden": true
   },
   "outputs": [],
   "source": [
    "lookupData['l_label_release'][lookupData['l_label_release']['ReleaseID'].isin(releaseIDs)]"
   ]
  },
  {
   "cell_type": "code",
   "execution_count": null,
   "metadata": {
    "hidden": true
   },
   "outputs": [],
   "source": [
    "lookupData['l_label_release'].max()"
   ]
  },
  {
   "cell_type": "markdown",
   "metadata": {
    "heading_collapsed": true
   },
   "source": [
    "# Area"
   ]
  },
  {
   "cell_type": "code",
   "execution_count": null,
   "metadata": {
    "hidden": true
   },
   "outputs": [],
   "source": [
    "colnames = {}\n",
    "colnames[\"area_type\"] = {0: \"AreaTypeID\", 1: \"AreaTypeName\", 3: \"AlsoAreaTypeID\", 4: \"AreaTypeDescr\", 5: \"AreaTypeGID\"}\n",
    "colnames[\"area\"]      = {0: \"AreaID\", 1: \"AreaGID\", 2: \"AreaName\", 3: \"AreaTypeID\"}\n",
    "#colnames[\"area_gid_redirect\"] = {0: \"AreaGIDUUID\", 1: \"AreaGID\"}\n",
    "#colnames[\"area_alias_type\"] = {0: \"AreaAliasTypeID\", 1: \"AreaAliasTypeName\", 5: \"AreaAliasTypeUUID\"}\n",
    "#colnames[\"area_alias\"] = {0: \"AreaAliasID\", 1: \"NA1\", 2: \"AreaAlias\", 3: \"AreaLang\", 6: \"AliasTypeID\", 7: \"AreaSortName\"}\n",
    "\n",
    "ts = timestat(\"Loading Area Data\")\n",
    "files = glob(\"mbdump/area*\")\n",
    "areaData = getData(files, colnames)\n",
    "areaData = setIndex(areaData)\n",
    "ts.stop()"
   ]
  },
  {
   "cell_type": "markdown",
   "metadata": {
    "heading_collapsed": true
   },
   "source": [
    "# Event"
   ]
  },
  {
   "cell_type": "code",
   "execution_count": null,
   "metadata": {
    "hidden": true
   },
   "outputs": [],
   "source": [
    "colnames = {}\n",
    "colnames[\"event_type\"] = {0: \"EventTypeID\", 1: \"EventTypeName\", 4: \"EventTypeDescr\"}\n",
    "colnames[\"event_alias_type\"] = {0: \"EventAliasTypeID\", 1: \"EventAliasTypeName\", 5: \"EventAliasTypeGID\"}\n",
    "colnames[\"event_alias\"] = {0: \"EventAliasID\", 1: \"EventID\", 2: \"EventAliasName\", 3: \"EventAliasLang\", 7: \"EventAliasName2\"}\n",
    "colnames[\"event\"] = {0: \"EventID\", 1: \"EventGID\", 2: \"EventName\", \n",
    "                     3: \"EventStartYear\", 4: \"EventStartMonth\", 5: \"EventStartDay\", 6: \"EventEndYear\", 7: \"EventEndMonth\", 8: \"EventEndDay\"}\n",
    "\n",
    "ts = timestat(\"Loading Event Data\")\n",
    "files = glob(\"mbdump/event*\")\n",
    "eventData = {fileInfo(ifile).basename: loadData(ifile) for ifile in files}\n",
    "print(\"Keys: {0}\".format(eventData.keys()))\n",
    "eventData = {key: val[list(colnames[key].keys())].rename(columns=colnames[key]) for key,val in eventData.items() if key in colnames} if colnames is not None else eventData\n",
    "print(\"Keys: {0}\".format(eventData.keys()))\n",
    "ts.stop()"
   ]
  },
  {
   "cell_type": "code",
   "execution_count": null,
   "metadata": {
    "hidden": true
   },
   "outputs": [],
   "source": [
    "eventData['event']"
   ]
  },
  {
   "cell_type": "markdown",
   "metadata": {
    "heading_collapsed": true
   },
   "source": [
    "# ICode"
   ]
  },
  {
   "cell_type": "code",
   "execution_count": null,
   "metadata": {
    "hidden": true
   },
   "outputs": [],
   "source": [
    "colnames = {}\n",
    "colnames['isrc'] = {0: \"ISRCID\", 1: \"RecordingID\", 2: \"ISRC\"}\n",
    "colnames['iswc'] = {0: \"ISWCID\", 1: \"WorkID\", 2: \"ISWC\"}\n",
    "colnames['iso_3166_1'] = {0: \"ISO31661ID\", 1: \"ISO31661\"}\n",
    "colnames['iso_3166_2'] = {0: \"ISO31662ID\", 1: \"ISO31662\"}\n",
    "colnames['iso_3166_3'] = {0: \"ISO31663ID\", 1: \"ISO31663\"}\n",
    "\n",
    "ts = timestat(\"Loading i* Code Data\")\n",
    "files = glob(\"mbdump/is*\")\n",
    "icodeData = getData(files, colnames)\n",
    "icodeData = setIndex(icodeData)\n",
    "ts.stop()\n",
    "\n",
    "iSWCData = icodeData['iswc'][\"ISWC\"].copy(deep=True)\n",
    "iSWCData.index = icodeData['iswc']['WorkID']\n",
    "iSWCData = iSWCData.drop_duplicates()\n",
    "del icodeData"
   ]
  },
  {
   "cell_type": "markdown",
   "metadata": {
    "heading_collapsed": true
   },
   "source": [
    "# Medium"
   ]
  },
  {
   "cell_type": "code",
   "execution_count": null,
   "metadata": {
    "hidden": true
   },
   "outputs": [],
   "source": [
    "colnames = {}\n",
    "colnames[\"medium_format\"] = {0: \"MediumFormatID\", 1: \"MediumName\", 2: \"MediumGroupID\", 3: \"NA3\", 4: \"MediumIntroYear\", 5: \"MediumDescr\", 6: \"MediumGID\"}\n",
    "#colnames[\"medium_cdtoc\"]  = {0: \"NA0\", 1: \"NA1\", 2: \"NA2\", 3: \"NA3\"}\n",
    "colnames[\"medium\"] = {0: \"ReleaseID_1\", 1: \"ReleaseID\", 2: \"SideNum\", 3: \"MediumFormatID\", 4: \"NA4\", 5: \"NA5\", 7: \"NumTracks\"}\n",
    "\n",
    "ts = timestat(\"Loading Medium Data\")\n",
    "files = glob(\"mbdump/medium*\")\n",
    "mediumData = {fileInfo(ifile).basename: loadData(ifile) for ifile in files}\n",
    "print(\"Keys: {0}\".format(mediumData.keys()))\n",
    "mediumData = {key: val[list(colnames[key].keys())].rename(columns=colnames[key]) for key,val in mediumData.items() if key in colnames} if colnames is not None else mediumData\n",
    "print(\"Keys: {0}\".format(mediumData.keys()))\n",
    "ts.stop()"
   ]
  },
  {
   "cell_type": "code",
   "execution_count": null,
   "metadata": {
    "hidden": true
   },
   "outputs": [],
   "source": [
    "mediumData['medium_format'].nunique()"
   ]
  },
  {
   "cell_type": "code",
   "execution_count": null,
   "metadata": {
    "hidden": true
   },
   "outputs": [],
   "source": [
    "mediumData['medium'].nunique()"
   ]
  },
  {
   "cell_type": "code",
   "execution_count": null,
   "metadata": {
    "hidden": true
   },
   "outputs": [],
   "source": [
    "## 12\" Vinyl ; ReleaseID=1310220\n",
    "#mediumData['medium'][mediumData['medium'].eq(1310220).any(1)]\n",
    "# MediumID  ReleaseID  Sides?  Format?   ?\n",
    "# 1310220   1274390    1       33        4\n",
    "# 1351220   1310220    1       31        11      <- Matches https://musicbrainz.org/release/6b5f33a8-fc5e-4c1e-b379-c659ce20a1c8\n",
    "\n",
    "\n",
    "## Digital Media : ReleaseID=1792210\n",
    "#mediumData['medium'][mediumData['medium'].eq(1792210).any(1)]\n",
    "# MediumID  ReleaseID  Sides?  Format?   ?\n",
    "# 1792210   1694923    1      12\tNaN\t0\t2015-11-30 00:32:22.335038+00\t13\n",
    "# 1904010   1792210    1      12\tNaN\t0\t2016-06-20 18:41:01.106192+00\t11   Both Match\n",
    "\n",
    "\n",
    "# 2x12\" Vinyl ; ReleaseID=1680415\n",
    "\n",
    "#mediumData['medium'][mediumData['medium'].eq(1680415).any(1)]\n",
    "# MediumID  ReleaseID  Sides?  Format?   ?\n",
    "# 1680415\t1598741\t1\t1\tNaN\t0\t2015-04-27 04:37:49.277705+00\t11\n",
    "# 1775088\t1680415\t1\t31\tNaN\t0\t2015-10-31 12:02:35.843886+00\t5\n",
    "# 1775089\t1680415\t2\t31\tNaN\t0\t2015-10-31 12:02:35.843886+00\t6\n",
    "\n",
    "# 1792210   1694923    1      12\tNaN\t0\t2015-11-30 00:32:22.335038+00\t13\n",
    "# 1904010   1792210    1      12\tNaN\t0\t2016-06-20 18:41:01.106192+00\t11   Both Match\n",
    "\n",
    "# Pixies Velouria CD w/ 4 Tracks\n",
    "# 3099, 1162482, 3097, 2259927\n",
    "\n",
    "## CD\n",
    "# mediumData['medium'][mediumData['medium'].eq(3099).any(1)]\n",
    "# 3099\t3099\t1\t1\tNaN\t0\t2011-05-16 14:57:06.530063+00\t4\n",
    "\n",
    "## CD (Status=Promotional)\n",
    "# mediumData['medium'][mediumData['medium'].eq(1162482).any(1)]\n",
    "# 1162482\t1146184\t1\t12\tNaN\t0\t2012-04-14 05:35:56.931961+00\t1\n",
    "# 1181517\t1162482\t1\t1\tNaN\t0\t2012-05-30 00:53:24.512335+00\t4\n",
    "\n",
    "## CD\n",
    "# mediumData['medium'][mediumData['medium'].eq(3097).any(1)]\n",
    "# 3097\t3097\t1\t1\tNaN\t0\t2012-10-18 19:49:17.567219+00\t4\n",
    "\n",
    "## 12\" Vinyl\n",
    "# mediumData['medium'][mediumData['medium'].eq(2259927).any(1)]\n",
    "# 2259927\t2099781\t1\t12\tNaN\t0\t2018-01-11 08:03:13.107915+00\t5\n",
    "# 2441117\t2259927\t1\t31\tNaN\t0\t2018-09-28 23:20:29.279923+00\t4  <-- This matches Web"
   ]
  },
  {
   "cell_type": "code",
   "execution_count": null,
   "metadata": {
    "hidden": true
   },
   "outputs": [],
   "source": [
    "mediumData['medium'].nunique()"
   ]
  },
  {
   "cell_type": "code",
   "execution_count": null,
   "metadata": {
    "hidden": true
   },
   "outputs": [],
   "source": [
    "mediumData['medium'].shape"
   ]
  },
  {
   "cell_type": "code",
   "execution_count": null,
   "metadata": {
    "hidden": true
   },
   "outputs": [],
   "source": [
    "mediumData['medium_cdtoc'][mediumData['medium_cdtoc'].eq(1598741).any(1)]"
   ]
  },
  {
   "cell_type": "code",
   "execution_count": null,
   "metadata": {
    "hidden": true
   },
   "outputs": [],
   "source": [
    "mediumData['medium_format'][mediumData['medium_format'].eq(38).any(1)]"
   ]
  },
  {
   "cell_type": "code",
   "execution_count": null,
   "metadata": {
    "hidden": true
   },
   "outputs": [],
   "source": [
    "mediumData['medium_format'][mediumData['medium_format'].eq('38').any(1)]"
   ]
  },
  {
   "cell_type": "code",
   "execution_count": null,
   "metadata": {
    "hidden": true
   },
   "outputs": [],
   "source": [
    "mediumData['medium_format'][mediumData['medium_format'].eq(63).any(1)]"
   ]
  },
  {
   "cell_type": "code",
   "execution_count": null,
   "metadata": {
    "hidden": true
   },
   "outputs": [],
   "source": [
    "mediumData['medium_format'][mediumData['medium_format'].eq(64).any(1)]"
   ]
  },
  {
   "cell_type": "markdown",
   "metadata": {
    "heading_collapsed": true
   },
   "source": [
    "# Language"
   ]
  },
  {
   "cell_type": "code",
   "execution_count": null,
   "metadata": {
    "hidden": true
   },
   "outputs": [],
   "source": [
    "colnames = {}\n",
    "colnames[\"language\"] = {0: \"LanguageID\", 1: \"LanguageShort1\", 2: \"LanguageShort2\", 3: \"LanguageShort3\", 4: \"LanguageName\", 5: \"NA5\", 6: \"LanguageShort\"}\n",
    "\n",
    "ts = timestat(\"Loading URL Data\")\n",
    "files = glob(\"mbdump/language*\")\n",
    "languageData = getData(files, colnames)\n",
    "languageData = setIndex(languageData)\n",
    "ts.stop()"
   ]
  },
  {
   "cell_type": "markdown",
   "metadata": {
    "heading_collapsed": true
   },
   "source": [
    "# Script"
   ]
  },
  {
   "cell_type": "code",
   "execution_count": null,
   "metadata": {
    "hidden": true
   },
   "outputs": [],
   "source": [
    "colnames = {}\n",
    "colnames[\"script\"] = {0: \"ScriptID\", 1: \"ScriptName\", 2: \"NA2\", 3: \"ScriptDescr\", 4: \"NA4\"}\n",
    "\n",
    "ts = timestat(\"Loading URL Data\")\n",
    "files = glob(\"mbdump/script\")\n",
    "scriptData = getData(files, colnames)\n",
    "scriptData = setIndex(scriptData)\n",
    "ts.stop()"
   ]
  },
  {
   "cell_type": "markdown",
   "metadata": {
    "heading_collapsed": true
   },
   "source": [
    "# URL"
   ]
  },
  {
   "cell_type": "code",
   "execution_count": null,
   "metadata": {
    "hidden": true
   },
   "outputs": [],
   "source": [
    "colnames = {}\n",
    "colnames[\"url\"] = {0: \"URLID\", 1: \"URLGID\", 2: \"URLName\"}\n",
    "#colnames[\"url_gid_redirect\"] = {0: \"URLGIDUUID\", 1: \"URLGIDID\"}\n",
    "\n",
    "ts = timestat(\"Loading URL Data\")\n",
    "files = glob(\"mbdump/url*\")\n",
    "urlData = {fileInfo(ifile).basename: loadData(ifile) for ifile in files}\n",
    "print(\"Keys: {0}\".format(urlData.keys()))\n",
    "urlData = {key: val[list(colnames[key].keys())].rename(columns=colnames[key]) for key,val in urlData.items() if key in colnames} if colnames is not None else urlData\n",
    "print(\"Keys: {0}\".format(urlData.keys()))\n",
    "ts.stop()"
   ]
  },
  {
   "cell_type": "markdown",
   "metadata": {
    "heading_collapsed": true
   },
   "source": [
    "# Work"
   ]
  },
  {
   "cell_type": "code",
   "execution_count": null,
   "metadata": {
    "hidden": true
   },
   "outputs": [],
   "source": [
    "colnames = {}\n",
    "colnames[\"work_type\"] = {0: \"WorkTypeID\", 1: \"WorkTypeName\", 3: \"WorkTypeRanking\", 4: \"WorkTypeDescr\", 5: \"WorkTypeGID\"}\n",
    "#colnames[\"work_alias\"] = {0: \"WorkAliasID\", 1: \"WorkID\", 2: \"WorkName\", 3: \"WorkLang\", 7: \"WorkName2\"}\n",
    "#colnames[\"work_alias_type\"] = {0: \"WorkAliasTypeID\", 1: \"WorkAliasTypeName\", 5: \"WorkAliasTypeGID\"}\n",
    "colnames['work_attribute_type_allowed_value'] = {0: 'WorkAttributeTypeValueID', 1: \"WorkAttributeTypeID\", 2: \"WorkAttributeTypeValue\", 6: \"WorkAttributeTypeValueGID\"}\n",
    "colnames[\"work_attribute_type\"] = {0: \"WorkAttributeTypeID\", 1: \"WorkAttributeTypeName\", 6: \"WorkAttributeTypeDescr\"}\n",
    "colnames[\"work_attribute\"] = {0: \"WorkAttributeID\", 1: \"WorkID\", 2: \"WorkAttributeTypeID\", 3: \"WorkAttributeTypeValueID\", 4: \"WorkAttributeCode\"}\n",
    "colnames[\"work_language\"] = {0: \"WorkID\", 1: \"LanguageID\"}\n",
    "colnames[\"work\"] = {0: \"WorkID\", 1: \"WorkGID\", 2: \"WorkName\", 3: \"WorkTypeID\"} #, 4: \"WorkDescr\"}\n",
    "\n",
    "ts = timestat(\"Loading Work Data\")\n",
    "files = glob(\"mbdump/work*\")\n",
    "workData = getData(files, colnames)\n",
    "workData = setIndex(workData)\n",
    "ts.stop()"
   ]
  },
  {
   "cell_type": "code",
   "execution_count": null,
   "metadata": {
    "hidden": true
   },
   "outputs": [],
   "source": [
    "files = glob(\"mbdump/work_attribute_type_allowed_value\")\n",
    "tmpData = getData(files, None)"
   ]
  },
  {
   "cell_type": "code",
   "execution_count": null,
   "metadata": {
    "hidden": true
   },
   "outputs": [],
   "source": [
    "workData['work_attribute']"
   ]
  },
  {
   "cell_type": "code",
   "execution_count": null,
   "metadata": {
    "hidden": true
   },
   "outputs": [],
   "source": []
  },
  {
   "cell_type": "code",
   "execution_count": null,
   "metadata": {
    "hidden": true
   },
   "outputs": [],
   "source": [
    "workData['work_attribute_type_allowed_value']"
   ]
  },
  {
   "cell_type": "code",
   "execution_count": null,
   "metadata": {
    "hidden": true
   },
   "outputs": [],
   "source": [
    "workData['work_attribute_type_allowed_value'][workData['work_attribute_type_allowed_value']['NA1'] == 31]"
   ]
  },
  {
   "cell_type": "code",
   "execution_count": null,
   "metadata": {
    "hidden": true
   },
   "outputs": [],
   "source": [
    "workData['work_attribute_type_allowed_value']['NA1'].value_counts()\n",
    "\"\"\"\n",
    "NA1\n",
    "15    304\n",
    "4     244\n",
    "32    203\n",
    "17    105\n",
    "16     83\n",
    "1      56\n",
    "31     27\n",
    "5      19\n",
    "\"\"\""
   ]
  },
  {
   "cell_type": "code",
   "execution_count": null,
   "metadata": {
    "hidden": true
   },
   "outputs": [],
   "source": [
    "workData['work_attribute'][workData['work_attribute']['WorkAttributeTypeValueID'] == '443']"
   ]
  },
  {
   "cell_type": "code",
   "execution_count": null,
   "metadata": {
    "hidden": true
   },
   "outputs": [],
   "source": [
    "workData['work_attribute'][workData['work_attribute']['WorkID'] == 13125643]"
   ]
  },
  {
   "cell_type": "markdown",
   "metadata": {
    "hidden": true
   },
   "source": [
    "## Append Data And Create Master Work DataFrame"
   ]
  },
  {
   "cell_type": "code",
   "execution_count": null,
   "metadata": {
    "hidden": true
   },
   "outputs": [],
   "source": [
    "ts = timestat(\"Joining Release Language Name\")\n",
    "dLanguageName = languageData['language']['LanguageName'].to_dict()\n",
    "workData['work_language'][\"Language\"] = workData['work_language']['LanguageID'].apply(lambda x: dLanguageName.get(x) if not isna(x) else None)\n",
    "workData['work_language'].drop([\"LanguageID\"], axis=1, inplace=True)\n",
    "ts.stop()\n",
    "\n",
    "ts = timestat(\"Joining Work Attribute Type\")\n",
    "dWorkAttributeTypeName = workData['work_attribute_type'][\"WorkAttributeTypeName\"].to_dict()\n",
    "workData['work_attribute_type_allowed_value'][\"WorkAttributeType\"] = workData['work_attribute_type_allowed_value']['WorkAttributeTypeID'].apply(lambda x: dWorkAttributeTypeName.get(x) if not isna(x) else None)\n",
    "workData['work_attribute_type_allowed_value'].drop([\"WorkAttributeTypeID\"], axis=1, inplace=True)\n",
    "ts.stop()\n",
    "\n",
    "ts = timestat(\"Joining Work Attribute Type\")\n",
    "dWorkAttributeTypeName = workData['work_attribute_type'][\"WorkAttributeTypeName\"].to_dict()\n",
    "workData['work_attribute'][\"WorkAttributeType\"] = workData['work_attribute']['WorkAttributeTypeID'].apply(lambda x: dWorkAttributeTypeName.get(x) if not isna(x) else None)\n",
    "workData['work_attribute'].drop([\"WorkAttributeTypeID\"], axis=1, inplace=True)\n",
    "ts.stop()\n",
    "\n",
    "if False:\n",
    "    ts = timestat(\"Joining Work Type\")\n",
    "    dWorkTypeName = workData['work_type'][\"WorkTypeName\"].to_dict()\n",
    "    workData['work'][\"WorkType\"] = workData['work']['WorkTypeID'].apply(lambda x: dWorkTypeName.get(int(x)) if (not isna(x) and x.isdigit()) else None)\n",
    "    workData['work'].drop([\"WorkTypeID\"], axis=1, inplace=True)\n",
    "    ts.stop()\n",
    "\n",
    "    ts = timestat(\"Joining Work ISWC Data\")\n",
    "    iSWCData = icodeData['iswc'][\"ISWC\"].copy(deep=True)\n",
    "    iSWCData.index = icodeData['iswc']['WorkID']\n",
    "    iSWCData = iSWCData.drop_duplicates()\n",
    "    workData['work'] = workData['work'].join(iSWCData)\n",
    "    ts.stop()\n",
    "\n",
    "    ts = timestat(\"Grouping Attributes By WorkID\")\n",
    "    workAttributes = Series({workID: list(zip(df[\"WorkAttributeType\"], df[\"WorkAttributeCode\"])) for workID,df in workData['work_attribute'].groupby('WorkID')})\n",
    "    workAttributes.name = \"WorkAttributes\"\n",
    "    workData['work'] = workData['work'].join(workAttributes)\n",
    "    ts.stop()\n",
    "\n",
    "\n",
    "    savedir = setDir(basedir, \"MusicBrainzData\")\n",
    "    savename = setFile(savedir, \"{0}.p\".format(\"workDataFrame\"))\n",
    "    ts = timestat(\"Saving Master Release DataFrame To {0}\".format(savename))\n",
    "    pickleIO().save(idata=workData['release'], ifile=savename)\n",
    "    fsize = fileInfo(savename).fsize\n",
    "    print(\"Master Release DataFrame is {0}{1}\".format(fsize[0], fsize[1]))\n",
    "    ts.stop()\n"
   ]
  },
  {
   "cell_type": "code",
   "execution_count": null,
   "metadata": {
    "hidden": true
   },
   "outputs": [],
   "source": [
    "jData = workData['work_attribute_type_allowed_value'].reset_index()"
   ]
  },
  {
   "cell_type": "code",
   "execution_count": null,
   "metadata": {
    "hidden": true
   },
   "outputs": [],
   "source": [
    "dWorkAttributeTypeValue = workData['work_attribute_type_allowed_value'][[\"WorkAttributeTypeValue\", \"WorkAttributeType\"]].T.to_dict()"
   ]
  },
  {
   "cell_type": "code",
   "execution_count": null,
   "metadata": {
    "hidden": true
   },
   "outputs": [],
   "source": [
    "noVal={\"WorkAttributeTypeValue\": None, \"WorkAttributeType\": None}\n",
    "WorkAttributeTypeValue = workData['work_attribute'][\"WorkAttributeTypeValueID\"].apply(lambda x: dWorkAttributeTypeValue.get(int(x)) if (not isna(x) and x.isdigit()) else noVal)"
   ]
  },
  {
   "cell_type": "code",
   "execution_count": null,
   "metadata": {
    "hidden": true
   },
   "outputs": [],
   "source": [
    "WorkAttributeTypeValue.apply(Series)"
   ]
  },
  {
   "cell_type": "code",
   "execution_count": null,
   "metadata": {
    "hidden": true
   },
   "outputs": [],
   "source": [
    "dWorkAttributeTypeValue"
   ]
  },
  {
   "cell_type": "code",
   "execution_count": null,
   "metadata": {
    "hidden": true
   },
   "outputs": [],
   "source": [
    "workData['work'][workData['work']['WorkGID'] == 'b8ee567b-0f09-3345-b794-b6279594aa29']"
   ]
  },
  {
   "cell_type": "code",
   "execution_count": null,
   "metadata": {
    "hidden": true
   },
   "outputs": [],
   "source": [
    "#{workID: }\n",
    "df = workData['work_attribute'][workData['work_attribute'].eq(213928).any(1)].copy(deep=True)"
   ]
  },
  {
   "cell_type": "code",
   "execution_count": null,
   "metadata": {
    "hidden": true
   },
   "outputs": [],
   "source": []
  },
  {
   "cell_type": "code",
   "execution_count": null,
   "metadata": {
    "hidden": true
   },
   "outputs": [],
   "source": []
  },
  {
   "cell_type": "code",
   "execution_count": null,
   "metadata": {
    "hidden": true
   },
   "outputs": [],
   "source": []
  },
  {
   "cell_type": "code",
   "execution_count": null,
   "metadata": {
    "hidden": true
   },
   "outputs": [],
   "source": [
    "workData['work'][workData['work'][\"WorkGID\"] == 'b8ee567b-0f09-3345-b794-b6279594aa29']"
   ]
  },
  {
   "cell_type": "code",
   "execution_count": null,
   "metadata": {
    "hidden": true
   },
   "outputs": [],
   "source": [
    "for key,df in workData.items():\n",
    "    print(key)\n",
    "    print(df[df.eq(213928).any(1)])"
   ]
  },
  {
   "cell_type": "markdown",
   "metadata": {
    "heading_collapsed": true
   },
   "source": [
    "# Label"
   ]
  },
  {
   "cell_type": "code",
   "execution_count": null,
   "metadata": {
    "hidden": true
   },
   "outputs": [],
   "source": [
    "colnames = {}\n",
    "colnames[\"label_alias\"] = {0: \"LabelAliasID\", 1: \"LabelID\", 2: \"LabelAliasName\", 7: \"LabelAliasName2\"}\n",
    "colnames[\"label_alias_type\"] = {0: \"LabelAliasTypeID\", 1: \"LabelAliasTypeName\", 5: \"LabelAliasGID\"}\n",
    "colnames[\"label_ipi\"] = {0: \"LabelIPIID\", 1: \"LabelIPI\"}\n",
    "colnames[\"label_isni\"] = {0: \"LabelISNIID\", 1: \"LabelISNI\"}\n",
    "colnames[\"label_type\"] = {0: \"LabelTypeID\", 1: \"LabelTypeName\", 5: \"LabelTypeGID\"}\n",
    "colnames[\"label\"] = {0: \"LabelID\", 1: \"LabelGID\", 2: \"LabelName\"}\n",
    "\n",
    "ts = timestat(\"Loading Label Data\")\n",
    "files = glob(\"mbdump/label*\")\n",
    "labelData = getData(files, colnames)\n",
    "labelData = setIndex(labelData)\n",
    "ts.stop()"
   ]
  },
  {
   "cell_type": "code",
   "execution_count": null,
   "metadata": {
    "hidden": true
   },
   "outputs": [],
   "source": []
  },
  {
   "cell_type": "markdown",
   "metadata": {
    "heading_collapsed": true
   },
   "source": [
    "# Recording"
   ]
  },
  {
   "cell_type": "code",
   "execution_count": null,
   "metadata": {
    "hidden": true
   },
   "outputs": [],
   "source": [
    "colnames = {}\n",
    "colnames[\"recording_alias_type\"] = {0: \"RecordingAliasTypeID\", 1: \"RecordingAliasTypeName\"}\n",
    "colnames[\"recording_alias\"] = {0: \"RecordingAliasID\", 1: \"RecordingID\", 2: \"RecordingAliasName\", 3: \"RecordingAliasLang\", 7: \"recordingAliasName2\"}\n",
    "colnames[\"recording\"] = {0: \"RecordingID\", 1: \"RecordingGID\", 2: \"RecordingName\", 3: \"ArtistID\", 4: \"TimeLength\"} #, 5: \"RecordingDescr\"}\n",
    "\n",
    "ts = timestat(\"Loading Recording Data\")\n",
    "files = glob(\"mbdump/rec\")\n",
    "recordingData = {fileInfo(ifile).basename: loadData(ifile) for ifile in files}\n",
    "print(\"Keys: {0}\".format(recordingData.keys()))\n",
    "recordingData = {key: val[list(colnames[key].keys())].rename(columns=colnames[key]) for key,val in recordingData.items() if key in colnames} if colnames is not None else recordingData\n",
    "print(\"Keys: {0}\".format(recordingData.keys()))\n",
    "ts.stop()"
   ]
  },
  {
   "cell_type": "markdown",
   "metadata": {
    "heading_collapsed": true
   },
   "source": [
    "# Track"
   ]
  },
  {
   "cell_type": "code",
   "execution_count": null,
   "metadata": {
    "hidden": true
   },
   "outputs": [],
   "source": [
    "colnames = {}\n",
    "colnames[\"track\"] = {0: \"TrackID\", 1: \"TrackGID\", 2: \"RecordingID\", 3: \"NA3\", 4: \"TrackNum\", 5: \"TrackNumName\", 6: \"TrackName\", 7: \"ArtistID\", 8: \"TimeLength\"}\n",
    "\n",
    "# Release\n",
    "# 2373946\t7c5d14b4-cf40-4eb1-89e6-d448125d94f3\t1987-12-12: Hampton Coliseum, Hampton, VA, USA\t197\t2128729\t3\t\\N\t120\t28\t\\N\t\t0\t-1\t2019-03-15 09:46:50.446876+00\n",
    "            \n",
    "# Release Group\n",
    "# 2128729\tf979a1c6-b6c2-4aad-b5b6-709c6c216752\t1987-12-12: Hampton Coliseum, Hampton, VA, USA\t197\t1\t\t0\t2019-03-15 09:46:45.458509+00\n",
    "\n",
    "# Recording\n",
    "# 24365864\t6a355a78-06c0-4e06-a15e-05d6e533255e\tSunday Bloody Sunday\t197\t366000\t\t0\t2019-03-15 12:29:22.049215+00\tf\n",
    "\n",
    "# Track\n",
    "# 27710495\tfc969b10-fdba-4b0c-82d9-aa6a7179e41f\t24365864\t2571008\t7\t7\tSunday Bloody Sunday\t197\t366000\t0\t2019-03-15 12:29:22.049215+00\tf\n",
    "ts = timestat(\"Loading Recording Data\")\n",
    "files = glob(\"mbdump/track\")\n",
    "trackData = {fileInfo(ifile).basename: loadData(ifile) for ifile in files}\n",
    "print(\"Keys: {0}\".format(trackData.keys()))\n",
    "trackData = {key: val[list(colnames[key].keys())].rename(columns=colnames[key]) for key,val in trackData.items() if key in colnames} if colnames is not None else trackData\n",
    "print(\"Keys: {0}\".format(trackData.keys()))\n",
    "ts.stop()"
   ]
  },
  {
   "cell_type": "markdown",
   "metadata": {
    "heading_collapsed": true
   },
   "source": [
    "# Release"
   ]
  },
  {
   "cell_type": "code",
   "execution_count": null,
   "metadata": {
    "hidden": true
   },
   "outputs": [],
   "source": [
    "colnames = {}\n",
    "#colnames[\"release_alias_type\"] = {0: \"ReleaseAliasTypeID\", 1: \"ReleaseAliasTypeName\"}\n",
    "#colnames[\"release_alias\"] = {0: \"ReleaseAliasID\", 1: \"ReleaseID\", 2: \"ReleaseAliasName\", 3: \"ReleaseAliasLang\", 7: \"ReleaseAliasName2\"}\n",
    "colnames[\"release_status\"] = {0: \"ReleaseStatusID\", 1: \"ReleaseStatusName\", 3: \"NA3\", 3: \"ReleaseStatusDescr\", 4: \"ReleaseStatusGID\"}\n",
    "colnames[\"release_packaging\"] = {0: \"ReleasePackagingID\", 1: \"ReleasePackagingName\", 3: \"NA3\", 4: \"ReleasePackagingDescr\", 5: \"ReleaseStatusGID\"}\n",
    "colnames[\"release_label\"] = {0: \"Index\", 1: \"ReleaseID\", 2: \"LabelID\", 3: \"CatalogNumber\"}\n",
    "colnames[\"release_country\"] = {0: \"ReleaseID\", 1: \"ReleaseCountryID\", 2: \"ReleaseCountryYear\", 3: \"ReleaseCountryMonth\", 4: \"ReleaseCountryDay\"}\n",
    "colnames[\"release_unknown_country\"] = {0: \"ReleaseID\", 1: \"ReleaseCountryYear\", 2: \"ReleaseCountryMonth\", 3: \"ReleaseCountryDay\"}\n",
    "colnames[\"release\"] = {0: \"ReleaseID\", 1: \"ReleaseGID\", 2: \"ReleaseName\", 3: \"ArtistID\", 4: \"ReleaseGroupID\", 5: \"ReleaseStatusID\", \n",
    "                       6: \"ReleasePackagingID\", 7: \"LanguageID\", 8: \"ScriptID\", 9: \"ReleaseBarcode\", 10: \"ReleaseComment\", 11: \"NA11\", 12: \"NA12\"}\n",
    "\n",
    "ts = timestat(\"Loading Release Data\")\n",
    "files = [ifile for ifile in glob(\"mbdump/release*\") if \"group\" not in ifile]\n",
    "releaseData = getData(files, colnames)\n",
    "releaseData = setIndex(releaseData)\n",
    "ts.stop()"
   ]
  },
  {
   "cell_type": "markdown",
   "metadata": {
    "hidden": true
   },
   "source": [
    "## Append Data And Create Master Release DataFrame"
   ]
  },
  {
   "cell_type": "code",
   "execution_count": null,
   "metadata": {
    "hidden": true
   },
   "outputs": [],
   "source": [
    "tsRelease = timestat(\"Appending Release Data\")\n",
    "\n",
    "ts = timestat(\"Creating Release Country DateTime For {0} Releases\".format(releaseData['release_country'].shape[0]))\n",
    "tmp = releaseData['release_country'][[\"ReleaseCountryYear\", \"ReleaseCountryMonth\", \"ReleaseCountryDay\"]]\n",
    "tmp.columns = [\"year\", \"month\", \"day\"]\n",
    "releaseData['release_country']['ReleaseDate'] = to_datetime(tmp, errors='ignore')\n",
    "releaseData['release_country'].drop([\"ReleaseCountryYear\", \"ReleaseCountryMonth\", \"ReleaseCountryDay\"], axis=1, inplace=True)\n",
    "ts.stop()\n",
    "\n",
    "ts = timestat(\"Creating Release Unknown Country DateTime For {0} Releases\".format(releaseData['release_unknown_country'].shape[0]))\n",
    "tmp = releaseData['release_unknown_country'][[\"ReleaseCountryYear\", \"ReleaseCountryMonth\", \"ReleaseCountryDay\"]]\n",
    "tmp.columns = [\"year\", \"month\", \"day\"]\n",
    "releaseData['release_unknown_country']['ReleaseDate'] = to_datetime(tmp, errors='ignore')\n",
    "releaseData['release_unknown_country'].drop([\"ReleaseCountryYear\", \"ReleaseCountryMonth\", \"ReleaseCountryDay\"], axis=1, inplace=True)\n",
    "ts.stop()\n",
    "\n",
    "ts = timestat(\"Joining Country Area\")\n",
    "dAreaName = areaData['area']['AreaName'].to_dict()\n",
    "releaseData['release_country'][\"Country\"] = releaseData['release_country']['ReleaseCountryID'].apply(lambda x: dAreaName.get(x) if not isna(x) else None)\n",
    "releaseData['release_country'].drop([\"ReleaseCountryID\"], axis=1, inplace=True)\n",
    "ts.stop()\n",
    "\n",
    "ts = timestat(\"Joining Release Packaging Name\")\n",
    "dReleasePackagingName = releaseData['release_packaging']['ReleasePackagingName'].to_dict()\n",
    "releaseData['release'][\"Packaging\"] = releaseData['release']['ReleasePackagingID'].apply(lambda x: dReleasePackagingName.get(int(x)) if (not isna(x) and x.isdigit()) else None)\n",
    "releaseData['release'].drop([\"ReleasePackagingID\"], axis=1, inplace=True)\n",
    "ts.stop()\n",
    "\n",
    "ts = timestat(\"Joining Release Status Name\")\n",
    "dReleaseStatusName = releaseData['release_status']['ReleaseStatusName'].to_dict()\n",
    "releaseData['release'][\"Status\"] = releaseData['release']['ReleaseStatusID'].apply(lambda x: dReleaseStatusName.get(int(x)) if (not isna(x) and x.isdigit()) else None)\n",
    "releaseData['release'].drop([\"ReleaseStatusID\"], axis=1, inplace=True)\n",
    "ts.stop()\n",
    "\n",
    "ts = timestat(\"Joining Release Language Name\")\n",
    "dLanguageName = languageData['language']['LanguageName'].to_dict()\n",
    "releaseData['release'][\"Language\"] = releaseData['release']['LanguageID'].apply(lambda x: dLanguageName.get(int(x)) if (not isna(x) and x.isdigit()) else None)\n",
    "releaseData['release'].drop([\"LanguageID\"], axis=1, inplace=True)\n",
    "ts.stop()\n",
    "\n",
    "ts = timestat(\"Joining Release Script Name\")\n",
    "dScriptName = scriptData['script']['ScriptName'].to_dict()\n",
    "releaseData['release'][\"Script\"] = releaseData['release']['ScriptID'].apply(lambda x: dScriptName.get(int(x)) if (not isna(x) and x.isdigit()) else None)\n",
    "releaseData['release'].drop([\"ScriptID\"], axis=1, inplace=True)\n",
    "ts.stop()\n",
    "\n",
    "ts = timestat(\"Joining Country/Release Date\")\n",
    "tmp = concat([releaseData['release_country'], releaseData['release_unknown_country']]).reset_index()\n",
    "releaseIDDate = tmp.sort_values(by=\"ReleaseDate\").drop_duplicates(subset=\"ReleaseID\")\n",
    "releaseIDDate.index = releaseIDDate['ReleaseID']\n",
    "releaseIDDate.drop([\"ReleaseID\"], axis=1, inplace=True)\n",
    "releaseData['release'] = releaseData['release'].join(releaseIDDate)\n",
    "ts.stop()\n",
    "\n",
    "ts = timestat(\"Joining Label Data\")\n",
    "dLabelName = labelData['label']['LabelName'].to_dict()\n",
    "releaseData['release_label'][\"Label\"] = releaseData['release_label']['LabelID'].apply(lambda x: dLabelName.get(int(x)) if (not isna(x) and x.isdigit()) else None)\n",
    "releaseLabel = releaseData['release_label'].drop_duplicates(subset=\"ReleaseID\")[[\"ReleaseID\", \"Label\"]].copy(deep=True)\n",
    "releaseLabel[\"Label\"].index = releaseLabel[\"ReleaseID\"]\n",
    "releaseData['release'].join(releaseLabel)\n",
    "ts.stop()\n",
    "\n",
    "ts = timestat(\"Dropping Last Columns\")\n",
    "releaseData['release'].drop([\"ReleaseComment\", \"ReleaseBarcode\", \"NA11\", \"NA12\"], axis=1, inplace=True)\n",
    "ts.stop()\n",
    "\n",
    "\n",
    "savedir = setDir(basedir, \"MusicBrainzData\")\n",
    "savename = setFile(savedir, \"{0}.p\".format(\"ReleaseDataFrame\"))\n",
    "ts = timestat(\"Saving Master Release DataFrame To {0}\".format(savename))\n",
    "pickleIO().save(idata=releaseData['release'], ifile=savename)\n",
    "fsize = fileInfo(savename).fsize\n",
    "print(\"Master Release DataFrame is {0}{1}\".format(fsize[0], fsize[1]))\n",
    "ts.stop()\n",
    "\n",
    "\n",
    "tsRelease.stop()"
   ]
  },
  {
   "cell_type": "markdown",
   "metadata": {},
   "source": [
    "# Release-Group"
   ]
  },
  {
   "cell_type": "code",
   "execution_count": null,
   "metadata": {},
   "outputs": [],
   "source": [
    "colnames = {}\n",
    "#colnames[\"release_group_alias_type\"] = {0: \"ReleaseGroupAliasTypeID\", 1: \"ReleaseGroupAliasTypeName\"}\n",
    "#colnames[\"release_group_alias\"] = {0: \"ReleaseGroupAliasID\", 1: \"NA1\", 2: \"ReleaseGroupAliasName\", 3: \"ReleaseGroupAliasLang\", 7: \"ReleaseGroupAliasName2\"}\n",
    "colnames[\"release_group_primary_type\"] = {0: \"ReleaseGroupPrimaryTypeID\", 1: \"ReleaseGroupPrimaryTypeName\", 3: \"NA3\"}\n",
    "colnames[\"release_group_secondary_type\"] = {0: \"ReleaseGroupSecondaryTypeID\", 1: \"ReleaseGroupSecondaryTypeName\"}\n",
    "colnames[\"release_group\"] = {0: \"ReleaseGroupID\", 1: \"ReleaseGroupGID\", 2: \"ReleaseGroupName\", 3: \"ArtistID\", 4: \"ReleaseGroupPrimaryTypeID\", 5: \"ReleaseGroupComment\", 6: \"NA6\"}\n",
    "colnames[\"release_group_secondary_type_join\"] = {0: \"ReleaseGroupID\", 1: \"ReleaseGroupSecondaryTypeID\"}\n",
    "\n",
    "ts = timestat(\"Loading Release Data\")\n",
    "files = [ifile for ifile in glob(\"mbdump/release*\") if \"group\" in ifile]\n",
    "releaseGroupData = getData(files, colnames)\n",
    "releaseGroupData = setIndex(releaseGroupData)\n",
    "ts.stop()"
   ]
  },
  {
   "cell_type": "markdown",
   "metadata": {},
   "source": [
    "## Append Data And Create Master ReleaseGroup DataFrame"
   ]
  },
  {
   "cell_type": "code",
   "execution_count": null,
   "metadata": {},
   "outputs": [],
   "source": [
    "tsReleaseGroup = timestat(\"Appending ReleaseGroup Data\")\n",
    "\n",
    "ts = timestat(\"Joining Secondary Type Names\")\n",
    "dReleaseGroupSecondaryTypeName = releaseGroupData['release_group_secondary_type']['ReleaseGroupSecondaryTypeName'].to_dict()\n",
    "releaseGroupData['release_group_secondary_type_join']['ReleaseGroupSecondaryType'] = releaseGroupData['release_group_secondary_type_join']['ReleaseGroupSecondaryTypeID'].apply(lambda x: dReleaseGroupSecondaryTypeName.get(x) if not isna(x) else None)\n",
    "releaseGroupData['release_group_secondary_type_join'].drop([\"ReleaseGroupSecondaryTypeID\"], axis=1, inplace=True)\n",
    "ts.stop()\n",
    "\n",
    "ts = timestat(\"Joining Primary Type Names\")\n",
    "dReleaseGroupPrimaryTypeName = releaseGroupData['release_group_primary_type']['ReleaseGroupPrimaryTypeName'].to_dict()\n",
    "releaseGroupData['release_group']['ReleaseGroupPrimaryType'] = releaseGroupData['release_group']['ReleaseGroupPrimaryTypeID'].apply(lambda x: dReleaseGroupPrimaryTypeName.get(int(x)) if (not isna(x) and x.isdigit()) else None)\n",
    "releaseGroupData['release_group'].drop([\"ReleaseGroupPrimaryTypeID\"], axis=1, inplace=True)\n",
    "ts.stop()\n",
    "\n",
    "ts = timestat(\"Joining Release Group And Secondary Type Join Data\")\n",
    "releaseGroupData['release_group'] = releaseGroupData['release_group'].join(releaseGroupData['release_group_secondary_type_join'])\n",
    "ts.stop()\n",
    "\n",
    "ts = timestat(\"Dropping Last Columns\")\n",
    "releaseGroupData['release_group'].drop([\"NA6\", \"ReleaseGroupComment\"], axis=1, inplace=True)\n",
    "ts.stop()\n",
    "\n",
    "\n",
    "savedir = setDir(basedir, \"MusicBrainzData\")\n",
    "savename = setFile(savedir, \"{0}.p\".format(\"ReleaseGroupDataFrame\"))\n",
    "ts = timestat(\"Saving Master ReleaseGroup DataFrame To {0} (~20 sec)\".format(savename))\n",
    "from fileIO import pickleIO\n",
    "pickleIO().save(idata=releaseGroupData['release_group'], ifile=savename)\n",
    "fsize = fileInfo(savename).fsize\n",
    "print(\"Master ReleaseGroup DataFrame is {0}{1}\".format(fsize[0], fsize[1]))\n",
    "ts.stop()\n",
    "\n",
    "\n",
    "tsReleaseGroup.stop()\n",
    "\n",
    "del releaseGroupData"
   ]
  },
  {
   "cell_type": "markdown",
   "metadata": {
    "heading_collapsed": true
   },
   "source": [
    "# Artist"
   ]
  },
  {
   "cell_type": "code",
   "execution_count": null,
   "metadata": {
    "hidden": true
   },
   "outputs": [],
   "source": [
    "colnames = {}\n",
    "colnames[\"artist_credit\"] = {0: \"ArtistCreditID\", 1: \"ArtistCreditName\", 2: \"ArtistCreditNum\", 3: \"NA3\"}\n",
    "colnames[\"artist_type\"] = {0: \"ArtistTypeID\", 1: \"ArtistTypeName\", 2: \"NA2\", 3: \"NA3\", 4: \"ArtistTypeDescr\", 5: \"ArtistTypeGID\"}\n",
    "colnames[\"artist_isni\"] = {0: \"ArtistID\", 1: \"ISNICode\"}\n",
    "colnames[\"artist_alias_type\"] = {0: \"ArtistAliasTypeID\", 1: \"ArtistAliasTypeName\", 5: \"ArtistAliasTypeGID\"}\n",
    "colnames[\"artist_alias\"] = {0: \"ArtistAliasID\", 1: \"ArtistID\", 2: \"ArtistAliasName\", 3: \"ArtistAliasLang\", 7: \"ArtistAliasSortName\"}\n",
    "colnames[\"artist\"] = {0: \"ArtistID\", 1: \"ArtistGID\", 2: \"ArtistName\", 3: \"ArtistSortName\",\n",
    "                      4: \"FormedYear\", 5: \"FormedMonth\", 6: \"FormedDay\", \n",
    "                      7: \"DisbandedYear\", 8: \"DisbandedMonth\", 9: \"DisbandedDay\", \n",
    "                      10: \"ArtistTypeID\", 11: \"CountryAreaID\", 12: \"GenderID\", 13: \"ArtistDescr\", 14: \"NA14\", 17: \"FoundedInAreaID\", 18: \"DisbandedInAreaID\"}\n",
    "\n",
    "ts = timestat(\"Loading Artist Data\")\n",
    "files = [ifile for ifile in glob(\"mbdump/artist*\") if ifile not in [\"mbdump/artist_credit_name\"]]\n",
    "artistData = getData(files, colnames)\n",
    "artistData = setIndex(artistData)\n",
    "ts.stop()"
   ]
  },
  {
   "cell_type": "markdown",
   "metadata": {
    "hidden": true
   },
   "source": [
    "## Append Data And Create Master Artist DataFrame"
   ]
  },
  {
   "cell_type": "code",
   "execution_count": null,
   "metadata": {
    "hidden": true
   },
   "outputs": [],
   "source": [
    "tsArtist = timestat(\"Appending Artist Data\")\n",
    "\n",
    "ts = timestat(\"Creating Formed/Disbanded DateTime For {0} Artists (~7 sec)\".format(artistData['artist'].shape[0]))\n",
    "artistData['artist']['Formed']    = convertToDatetime(artistData['artist'][\"FormedYear\"], artistData['artist'][\"FormedMonth\"], artistData['artist'][\"FormedDay\"])\n",
    "artistData['artist']['Disbanded'] = convertToDatetime(artistData['artist'][\"DisbandedYear\"], artistData['artist'][\"DisbandedMonth\"], artistData['artist'][\"DisbandedDay\"])\n",
    "artistData['artist'].drop([\"FormedYear\", \"FormedMonth\", \"FormedDay\", \"DisbandedYear\", \"DisbandedMonth\", \"DisbandedDay\"], axis=1, inplace=True)\n",
    "ts.stop()\n",
    "\n",
    "ts = timestat(\"Joining Artist Type\")\n",
    "dArtistTypeName = artistData['artist_type'][\"ArtistTypeName\"].to_dict()\n",
    "artistData['artist'][\"ArtistType\"] = artistData['artist']['ArtistTypeID'].apply(lambda x: dArtistTypeName.get(int(x)) if (not isna(x) and x.isdigit()) else None)\n",
    "artistData['artist'].drop([\"ArtistTypeID\"], axis=1, inplace=True)\n",
    "ts.stop()\n",
    "\n",
    "ts = timestat(\"Joining Gender Type\")\n",
    "artistData['artist']['Gender'] = artistData['artist']['GenderID'].apply(lambda x: dGenderName.get(int(x)) if (not isna(x) and x.isdigit()) else None)\n",
    "artistData['artist'].drop([\"GenderID\"], axis=1, inplace=True)\n",
    "ts.stop()\n",
    "\n",
    "ts = timestat(\"Joining Area Type\")\n",
    "artistData['artist'][\"Country\"]     = artistData['artist']['CountryAreaID'].apply(lambda x: dAreaName.get(int(x)) if (not isna(x) and x.isdigit()) else None)\n",
    "artistData['artist'][\"FormedIn\"]    = artistData['artist']['FoundedInAreaID'].apply(lambda x: dAreaName.get(int(x)) if (not isna(x) and x.isdigit()) else None)\n",
    "artistData['artist'][\"DisbandedIn\"] = artistData['artist']['DisbandedInAreaID'].apply(lambda x: dAreaName.get(int(x)) if (not isna(x) and x.isdigit()) else None)\n",
    "artistData['artist'].drop([\"CountryAreaID\", \"FoundedInAreaID\", \"DisbandedInAreaID\"], axis=1, inplace=True)\n",
    "ts.stop()\n",
    "\n",
    "ts = timestat(\"Joining ISNI\")\n",
    "artistData['artist'] = artistData['artist'].join(artistData['artist_isni'])\n",
    "ts.stop()\n",
    "\n",
    "ts = timestat(\"Collecting and Joining Artist Aliases (~40 sec)\")\n",
    "artistAliases = DataFrame(Series({artistID: df[\"ArtistAliasName\"].to_list() for artistID,df in artistData['artist_alias'].groupby(\"ArtistID\")}))\n",
    "artistAliases.columns = [\"Aliases\"]\n",
    "artistData['artist'] = artistData['artist'].join(artistAliases)\n",
    "ts.stop()\n",
    "\n",
    "\n",
    "ts = timestat(\"Dropping Last Columns\")\n",
    "artistData['artist'].drop([\"ArtistDescr\", \"NA14\"], axis=1, inplace=True)\n",
    "ts.stop()\n",
    "\n",
    "\n",
    "savedir = setDir(basedir, \"MusicBrainzData\")\n",
    "savename = setFile(savedir, \"{0}.p\".format(\"ArtistDataFrame\"))\n",
    "ts = timestat(\"Saving Master Artist DataFrame To {0} (~20 sec)\".format(savename))\n",
    "from fileIO import pickleIO\n",
    "pickleIO().save(idata=artistData['artist'], ifile=savename)\n",
    "fsize = fileInfo(savename).fsize\n",
    "print(\"Master Artist DataFrame is {0}{1}\".format(fsize[0], fsize[1]))\n",
    "ts.stop()\n",
    "\n",
    "tsArtist.stop()\n",
    "del artistData"
   ]
  },
  {
   "cell_type": "markdown",
   "metadata": {},
   "source": [
    "# Master Artist Summary Data"
   ]
  },
  {
   "cell_type": "code",
   "execution_count": 3,
   "metadata": {},
   "outputs": [
    {
     "name": "stdout",
     "output_type": "stream",
     "text": [
      "Current Time is Tue Oct 26, 2021 18:15 for Loading Master Data\n",
      "Process [Loading Master Data] Took 13.7 Seconds\n"
     ]
    }
   ],
   "source": [
    "savedir = setDir(basedir, \"MusicBrainzData\")\n",
    "io = fileIO()\n",
    "ts = timestat(\"Loading Master Data\")\n",
    "masterArtistData = io.get(setFile(savedir, \"{0}.p\".format(\"ArtistDataFrame\")))\n",
    "masterReleaseGroupData = io.get(setFile(savedir, \"{0}.p\".format(\"ReleaseGroupDataFrame\")))\n",
    "ts.stop()"
   ]
  },
  {
   "cell_type": "code",
   "execution_count": 4,
   "metadata": {},
   "outputs": [],
   "source": [
    "Nmod = 100"
   ]
  },
  {
   "cell_type": "code",
   "execution_count": 5,
   "metadata": {},
   "outputs": [
    {
     "name": "stdout",
     "output_type": "stream",
     "text": [
      "Current Time is Tue Oct 26, 2021 18:16 for Setting My ArtistID From MusicBrainz GID\n",
      "Process [Setting My ArtistID From MusicBrainz GID] Took 15.7 Seconds\n"
     ]
    }
   ],
   "source": [
    "from dbArtistID import artistIDMusicBrainz\n",
    "mbID = artistIDMusicBrainz()\n",
    "ts = timestat(\"Setting My ArtistID From MusicBrainz GID\")\n",
    "masterArtistData[\"MyArtistID\"] = masterArtistData['ArtistGID'].apply(mbID.getArtistID)\n",
    "ts.stop()"
   ]
  },
  {
   "cell_type": "code",
   "execution_count": 6,
   "metadata": {},
   "outputs": [
    {
     "name": "stdout",
     "output_type": "stream",
     "text": [
      "Current Time is Tue Oct 26, 2021 18:16 for Setting ReleaseGroup Key (~1 min)\n",
      "Process [Setting ReleaseGroup Key (~1 min)] Took 57.8 Seconds\n"
     ]
    }
   ],
   "source": [
    "def createReleaseGroupKey(x):\n",
    "    key = None\n",
    "    primary   = x['ReleaseGroupPrimaryType']\n",
    "    secondary = x['ReleaseGroupSecondaryType']\n",
    "    if isinstance(primary, str) and isinstance(secondary, str):\n",
    "        key = \" + \".join([primary, secondary])\n",
    "    elif isinstance(primary, str):\n",
    "        key = primary\n",
    "    elif isinstance(secondary, str):\n",
    "        key = secondary\n",
    "    else:\n",
    "        key = \"Unknown\"\n",
    "    return key\n",
    "    \n",
    "ts = timestat(\"Setting ReleaseGroup Key (~1 min)\")\n",
    "masterReleaseGroupData[\"ReleaseGroupKey\"] = masterReleaseGroupData.apply(createReleaseGroupKey, axis=1)\n",
    "ts.stop()"
   ]
  },
  {
   "cell_type": "code",
   "execution_count": 7,
   "metadata": {},
   "outputs": [
    {
     "name": "stderr",
     "output_type": "stream",
     "text": [
      "/Users/tgadfort/opt/anaconda3/envs/py37/lib/python3.7/site-packages/sklearn/externals/joblib/__init__.py:15: FutureWarning: sklearn.externals.joblib is deprecated in 0.21 and will be removed in 0.23. Please import this functionality directly from joblib, which can be installed with: pip install joblib. If this warning is raised when loading pickled models, you may need to re-serialize those models with scikit-learn 0.21+.\n",
      "  warnings.warn(msg, category=FutureWarning)\n"
     ]
    },
    {
     "name": "stdout",
     "output_type": "stream",
     "text": [
      "Current Time is Tue Oct 26, 2021 18:17 for Creating DB Data\n",
      "Current Time is Tue Oct 26, 2021 18:17 for Creating ModData Subset\n",
      "Process [Creating ModData Subset] Took 2.2 Seconds\n",
      "Current Time is Tue Oct 26, 2021 18:17 for Creating DB Data From 18813 Artists For ModVal=0\n",
      "2500/18813 : Process [Creating DB Data From 18813 Artists For ModVal=0] Has Run For 4.8 Seconds.  ETA is 31.3 Seconds\n",
      "7500/18813 : Process [Creating DB Data From 18813 Artists For ModVal=0] Has Run For 12.7 Seconds.  ETA is 19.2 Seconds\n",
      "15000/18813 : Process [Creating DB Data From 18813 Artists For ModVal=0] Has Run For 23.9 Seconds.  ETA is 6.1 Seconds\n",
      "Process [Creating DB Data From 18813 Artists For ModVal=0] Took 30.1 Seconds\n",
      "0/100      : Process [Creating DB Data] Has Run For 33.8 Seconds.  ETA is ? Seconds\n",
      "\n",
      "\n",
      "Current Time is Tue Oct 26, 2021 18:17 for Creating ModData Subset\n",
      "Process [Creating ModData Subset] Took 1.6 Seconds\n",
      "Current Time is Tue Oct 26, 2021 18:18 for Creating DB Data From 18789 Artists For ModVal=1\n",
      "2500/18789 : Process [Creating DB Data From 18789 Artists For ModVal=1] Has Run For 5.2 Seconds.  ETA is 33.9 Seconds\n",
      "7500/18789 : Process [Creating DB Data From 18789 Artists For ModVal=1] Has Run For 12.7 Seconds.  ETA is 19.1 Seconds\n",
      "15000/18789 : Process [Creating DB Data From 18789 Artists For ModVal=1] Has Run For 25.4 Seconds.  ETA is 6.4 Seconds\n",
      "Process [Creating DB Data From 18789 Artists For ModVal=1] Took 37.9 Seconds\n",
      "1/100      : Process [Creating DB Data] Has Run For 1.3 Minutes.  ETA is 128.7 Minutes\n",
      "\n",
      "\n",
      "Current Time is Tue Oct 26, 2021 18:18 for Creating ModData Subset\n",
      "Process [Creating ModData Subset] Took 2.3 Seconds\n",
      "Current Time is Tue Oct 26, 2021 18:18 for Creating DB Data From 18675 Artists For ModVal=2\n",
      "2500/18675 : Process [Creating DB Data From 18675 Artists For ModVal=2] Has Run For 8.3 Seconds.  ETA is 53.7 Seconds\n",
      "7500/18675 : Process [Creating DB Data From 18675 Artists For ModVal=2] Has Run For 20.0 Seconds.  ETA is 29.8 Seconds\n",
      "15000/18675 : Process [Creating DB Data From 18675 Artists For ModVal=2] Has Run For 31.8 Seconds.  ETA is 7.8 Seconds\n",
      "Process [Creating DB Data From 18675 Artists For ModVal=2] Took 37.0 Seconds\n",
      "2/100      : Process [Creating DB Data] Has Run For 2.0 Minutes.  ETA is 98.0 Minutes\n",
      "\n",
      "\n",
      "Current Time is Tue Oct 26, 2021 18:19 for Creating ModData Subset\n",
      "Process [Creating ModData Subset] Took 1.7 Seconds\n",
      "Current Time is Tue Oct 26, 2021 18:19 for Creating DB Data From 18937 Artists For ModVal=3\n",
      "2500/18937 : Process [Creating DB Data From 18937 Artists For ModVal=3] Has Run For 5.5 Seconds.  ETA is 36.2 Seconds\n",
      "7500/18937 : Process [Creating DB Data From 18937 Artists For ModVal=3] Has Run For 13.8 Seconds.  ETA is 21.0 Seconds\n",
      "15000/18937 : Process [Creating DB Data From 18937 Artists For ModVal=3] Has Run For 23.9 Seconds.  ETA is 6.3 Seconds\n",
      "Process [Creating DB Data From 18937 Artists For ModVal=3] Took 29.0 Seconds\n",
      "3/100      : Process [Creating DB Data] Has Run For 2.5 Minutes.  ETA is 80.8 Minutes\n",
      "\n",
      "\n",
      "Current Time is Tue Oct 26, 2021 18:19 for Creating ModData Subset\n",
      "Process [Creating ModData Subset] Took 1.5 Seconds\n",
      "Current Time is Tue Oct 26, 2021 18:19 for Creating DB Data From 19004 Artists For ModVal=4\n",
      "2500/19004 : Process [Creating DB Data From 19004 Artists For ModVal=4] Has Run For 4.5 Seconds.  ETA is 29.7 Seconds\n",
      "7500/19004 : Process [Creating DB Data From 19004 Artists For ModVal=4] Has Run For 12.3 Seconds.  ETA is 18.9 Seconds\n",
      "15000/19004 : Process [Creating DB Data From 19004 Artists For ModVal=4] Has Run For 23.6 Seconds.  ETA is 6.3 Seconds\n",
      "Process [Creating DB Data From 19004 Artists For ModVal=4] Took 28.7 Seconds\n",
      "4/100      : Process [Creating DB Data] Has Run For 3.0 Minutes.  ETA is 72.0 Minutes\n",
      "\n",
      "\n",
      "Current Time is Tue Oct 26, 2021 18:20 for Creating ModData Subset\n",
      "Process [Creating ModData Subset] Took 1.5 Seconds\n",
      "Current Time is Tue Oct 26, 2021 18:20 for Creating DB Data From 18861 Artists For ModVal=5\n",
      "2500/18861 : Process [Creating DB Data From 18861 Artists For ModVal=5] Has Run For 5.0 Seconds.  ETA is 32.7 Seconds\n",
      "7500/18861 : Process [Creating DB Data From 18861 Artists For ModVal=5] Has Run For 12.7 Seconds.  ETA is 19.2 Seconds\n",
      "15000/18861 : Process [Creating DB Data From 18861 Artists For ModVal=5] Has Run For 23.5 Seconds.  ETA is 6.0 Seconds\n",
      "Process [Creating DB Data From 18861 Artists For ModVal=5] Took 29.2 Seconds\n",
      "5/100      : Process [Creating DB Data] Has Run For 3.6 Minutes.  ETA is 68.4 Minutes\n",
      "\n",
      "\n",
      "Current Time is Tue Oct 26, 2021 18:20 for Creating ModData Subset\n",
      "Process [Creating ModData Subset] Took 1.6 Seconds\n",
      "Current Time is Tue Oct 26, 2021 18:21 for Creating DB Data From 18681 Artists For ModVal=6\n",
      "2500/18681 : Process [Creating DB Data From 18681 Artists For ModVal=6] Has Run For 5.5 Seconds.  ETA is 35.6 Seconds\n",
      "7500/18681 : Process [Creating DB Data From 18681 Artists For ModVal=6] Has Run For 13.8 Seconds.  ETA is 20.6 Seconds\n",
      "15000/18681 : Process [Creating DB Data From 18681 Artists For ModVal=6] Has Run For 25.3 Seconds.  ETA is 6.2 Seconds\n",
      "Process [Creating DB Data From 18681 Artists For ModVal=6] Took 30.2 Seconds\n",
      "6/100      : Process [Creating DB Data] Has Run For 4.1 Minutes.  ETA is 64.2 Minutes\n",
      "\n",
      "\n",
      "Current Time is Tue Oct 26, 2021 18:21 for Creating ModData Subset\n",
      "Process [Creating ModData Subset] Took 1.5 Seconds\n",
      "Current Time is Tue Oct 26, 2021 18:21 for Creating DB Data From 18917 Artists For ModVal=7\n",
      "2500/18917 : Process [Creating DB Data From 18917 Artists For ModVal=7] Has Run For 5.1 Seconds.  ETA is 33.5 Seconds\n",
      "7500/18917 : Process [Creating DB Data From 18917 Artists For ModVal=7] Has Run For 12.2 Seconds.  ETA is 18.6 Seconds\n",
      "15000/18917 : Process [Creating DB Data From 18917 Artists For ModVal=7] Has Run For 22.8 Seconds.  ETA is 6.0 Seconds\n",
      "Process [Creating DB Data From 18917 Artists For ModVal=7] Took 28.1 Seconds\n",
      "7/100      : Process [Creating DB Data] Has Run For 4.7 Minutes.  ETA is 62.4 Minutes\n",
      "\n",
      "\n",
      "Current Time is Tue Oct 26, 2021 18:22 for Creating ModData Subset\n",
      "Process [Creating ModData Subset] Took 1.6 Seconds\n",
      "Current Time is Tue Oct 26, 2021 18:22 for Creating DB Data From 18663 Artists For ModVal=8\n",
      "2500/18663 : Process [Creating DB Data From 18663 Artists For ModVal=8] Has Run For 5.4 Seconds.  ETA is 34.9 Seconds\n",
      "7500/18663 : Process [Creating DB Data From 18663 Artists For ModVal=8] Has Run For 13.1 Seconds.  ETA is 19.5 Seconds\n",
      "15000/18663 : Process [Creating DB Data From 18663 Artists For ModVal=8] Has Run For 23.8 Seconds.  ETA is 5.8 Seconds\n",
      "Process [Creating DB Data From 18663 Artists For ModVal=8] Took 28.7 Seconds\n",
      "8/100      : Process [Creating DB Data] Has Run For 5.2 Minutes.  ETA is 59.8 Minutes\n",
      "\n",
      "\n",
      "Current Time is Tue Oct 26, 2021 18:22 for Creating ModData Subset\n",
      "Process [Creating ModData Subset] Took 1.7 Seconds\n",
      "Current Time is Tue Oct 26, 2021 18:22 for Creating DB Data From 18882 Artists For ModVal=9\n",
      "2500/18882 : Process [Creating DB Data From 18882 Artists For ModVal=9] Has Run For 5.6 Seconds.  ETA is 36.7 Seconds\n",
      "7500/18882 : Process [Creating DB Data From 18882 Artists For ModVal=9] Has Run For 14.3 Seconds.  ETA is 21.7 Seconds\n",
      "15000/18882 : Process [Creating DB Data From 18882 Artists For ModVal=9] Has Run For 27.1 Seconds.  ETA is 7.0 Seconds\n",
      "Process [Creating DB Data From 18882 Artists For ModVal=9] Took 35.2 Seconds\n",
      "9/100      : Process [Creating DB Data] Has Run For 5.8 Minutes.  ETA is 58.6 Minutes\n",
      "\n",
      "\n",
      "Current Time is Tue Oct 26, 2021 18:23 for Creating ModData Subset\n",
      "Process [Creating ModData Subset] Took 3.9 Seconds\n",
      "Current Time is Tue Oct 26, 2021 18:23 for Creating DB Data From 18798 Artists For ModVal=10\n",
      "2500/18798 : Process [Creating DB Data From 18798 Artists For ModVal=10] Has Run For 11.8 Seconds.  ETA is 76.9 Seconds\n",
      "7500/18798 : Process [Creating DB Data From 18798 Artists For ModVal=10] Has Run For 24.3 Seconds.  ETA is 36.6 Seconds\n",
      "15000/18798 : Process [Creating DB Data From 18798 Artists For ModVal=10] Has Run For 50.7 Seconds.  ETA is 12.8 Seconds\n",
      "Process [Creating DB Data From 18798 Artists For ModVal=10] Took 1.0 Minutes\n",
      "10/100     : Process [Creating DB Data] Has Run For 7.0 Minutes.  ETA is 63.0 Minutes\n",
      "\n",
      "\n",
      "Current Time is Tue Oct 26, 2021 18:24 for Creating ModData Subset\n",
      "Process [Creating ModData Subset] Took 2.6 Seconds\n",
      "Current Time is Tue Oct 26, 2021 18:24 for Creating DB Data From 18920 Artists For ModVal=11\n"
     ]
    },
    {
     "name": "stdout",
     "output_type": "stream",
     "text": [
      "2500/18920 : Process [Creating DB Data From 18920 Artists For ModVal=11] Has Run For 9.3 Seconds.  ETA is 61.1 Seconds\n",
      "7500/18920 : Process [Creating DB Data From 18920 Artists For ModVal=11] Has Run For 26.7 Seconds.  ETA is 40.7 Seconds\n",
      "15000/18920 : Process [Creating DB Data From 18920 Artists For ModVal=11] Has Run For 39.9 Seconds.  ETA is 10.4 Seconds\n",
      "Process [Creating DB Data From 18920 Artists For ModVal=11] Took 46.8 Seconds\n",
      "11/100     : Process [Creating DB Data] Has Run For 7.8 Minutes.  ETA is 63.1 Minutes\n",
      "\n",
      "\n",
      "Current Time is Tue Oct 26, 2021 18:25 for Creating ModData Subset\n",
      "Process [Creating ModData Subset] Took 1.8 Seconds\n",
      "Current Time is Tue Oct 26, 2021 18:25 for Creating DB Data From 18954 Artists For ModVal=12\n",
      "2500/18954 : Process [Creating DB Data From 18954 Artists For ModVal=12] Has Run For 6.9 Seconds.  ETA is 45.4 Seconds\n",
      "7500/18954 : Process [Creating DB Data From 18954 Artists For ModVal=12] Has Run For 17.3 Seconds.  ETA is 26.4 Seconds\n",
      "15000/18954 : Process [Creating DB Data From 18954 Artists For ModVal=12] Has Run For 40.0 Seconds.  ETA is 10.5 Seconds\n",
      "Process [Creating DB Data From 18954 Artists For ModVal=12] Took 45.2 Seconds\n",
      "12/100     : Process [Creating DB Data] Has Run For 8.7 Minutes.  ETA is 63.8 Minutes\n",
      "\n",
      "\n",
      "Current Time is Tue Oct 26, 2021 18:26 for Creating ModData Subset\n",
      "Process [Creating ModData Subset] Took 1.6 Seconds\n",
      "Current Time is Tue Oct 26, 2021 18:26 for Creating DB Data From 18807 Artists For ModVal=13\n",
      "2500/18807 : Process [Creating DB Data From 18807 Artists For ModVal=13] Has Run For 7.7 Seconds.  ETA is 50.2 Seconds\n",
      "7500/18807 : Process [Creating DB Data From 18807 Artists For ModVal=13] Has Run For 23.0 Seconds.  ETA is 34.7 Seconds\n",
      "15000/18807 : Process [Creating DB Data From 18807 Artists For ModVal=13] Has Run For 43.8 Seconds.  ETA is 11.1 Seconds\n",
      "Process [Creating DB Data From 18807 Artists For ModVal=13] Took 52.9 Seconds\n",
      "13/100     : Process [Creating DB Data] Has Run For 9.6 Minutes.  ETA is 64.2 Minutes\n",
      "\n",
      "\n",
      "Current Time is Tue Oct 26, 2021 18:27 for Creating ModData Subset\n",
      "Process [Creating ModData Subset] Took 2.3 Seconds\n",
      "Current Time is Tue Oct 26, 2021 18:27 for Creating DB Data From 19029 Artists For ModVal=14\n",
      "2500/19029 : Process [Creating DB Data From 19029 Artists For ModVal=14] Has Run For 11.6 Seconds.  ETA is 76.7 Seconds\n",
      "7500/19029 : Process [Creating DB Data From 19029 Artists For ModVal=14] Has Run For 23.8 Seconds.  ETA is 36.6 Seconds\n",
      "15000/19029 : Process [Creating DB Data From 19029 Artists For ModVal=14] Has Run For 44.0 Seconds.  ETA is 11.8 Seconds\n",
      "Process [Creating DB Data From 19029 Artists For ModVal=14] Took 52.4 Seconds\n",
      "14/100     : Process [Creating DB Data] Has Run For 10.6 Minutes.  ETA is 65.1 Minutes\n",
      "\n",
      "\n",
      "Current Time is Tue Oct 26, 2021 18:27 for Creating ModData Subset\n",
      "Process [Creating ModData Subset] Took 2.2 Seconds\n",
      "Current Time is Tue Oct 26, 2021 18:28 for Creating DB Data From 18675 Artists For ModVal=15\n",
      "2500/18675 : Process [Creating DB Data From 18675 Artists For ModVal=15] Has Run For 10.2 Seconds.  ETA is 66.0 Seconds\n",
      "7500/18675 : Process [Creating DB Data From 18675 Artists For ModVal=15] Has Run For 18.3 Seconds.  ETA is 27.3 Seconds\n",
      "15000/18675 : Process [Creating DB Data From 18675 Artists For ModVal=15] Has Run For 28.8 Seconds.  ETA is 7.1 Seconds\n",
      "Process [Creating DB Data From 18675 Artists For ModVal=15] Took 33.7 Seconds\n",
      "15/100     : Process [Creating DB Data] Has Run For 11.2 Minutes.  ETA is 63.5 Minutes\n",
      "\n",
      "\n",
      "Current Time is Tue Oct 26, 2021 18:28 for Creating ModData Subset\n",
      "Process [Creating ModData Subset] Took 1.5 Seconds\n",
      "Current Time is Tue Oct 26, 2021 18:28 for Creating DB Data From 18727 Artists For ModVal=16\n",
      "2500/18727 : Process [Creating DB Data From 18727 Artists For ModVal=16] Has Run For 5.0 Seconds.  ETA is 32.5 Seconds\n",
      "7500/18727 : Process [Creating DB Data From 18727 Artists For ModVal=16] Has Run For 12.5 Seconds.  ETA is 18.7 Seconds\n",
      "15000/18727 : Process [Creating DB Data From 18727 Artists For ModVal=16] Has Run For 23.0 Seconds.  ETA is 5.7 Seconds\n",
      "Process [Creating DB Data From 18727 Artists For ModVal=16] Took 28.1 Seconds\n",
      "16/100     : Process [Creating DB Data] Has Run For 11.7 Minutes.  ETA is 61.4 Minutes\n",
      "\n",
      "\n",
      "Current Time is Tue Oct 26, 2021 18:29 for Creating ModData Subset\n",
      "Process [Creating ModData Subset] Took 1.5 Seconds\n",
      "Current Time is Tue Oct 26, 2021 18:29 for Creating DB Data From 18859 Artists For ModVal=17\n",
      "2500/18859 : Process [Creating DB Data From 18859 Artists For ModVal=17] Has Run For 5.0 Seconds.  ETA is 32.7 Seconds\n",
      "7500/18859 : Process [Creating DB Data From 18859 Artists For ModVal=17] Has Run For 12.0 Seconds.  ETA is 18.2 Seconds\n",
      "15000/18859 : Process [Creating DB Data From 18859 Artists For ModVal=17] Has Run For 22.6 Seconds.  ETA is 5.8 Seconds\n",
      "Process [Creating DB Data From 18859 Artists For ModVal=17] Took 27.5 Seconds\n",
      "17/100     : Process [Creating DB Data] Has Run For 12.2 Minutes.  ETA is 59.6 Minutes\n",
      "\n",
      "\n",
      "Current Time is Tue Oct 26, 2021 18:29 for Creating ModData Subset\n",
      "Process [Creating ModData Subset] Took 1.6 Seconds\n",
      "Current Time is Tue Oct 26, 2021 18:29 for Creating DB Data From 18791 Artists For ModVal=18\n",
      "2500/18791 : Process [Creating DB Data From 18791 Artists For ModVal=18] Has Run For 5.1 Seconds.  ETA is 33.2 Seconds\n",
      "7500/18791 : Process [Creating DB Data From 18791 Artists For ModVal=18] Has Run For 12.4 Seconds.  ETA is 18.7 Seconds\n",
      "15000/18791 : Process [Creating DB Data From 18791 Artists For ModVal=18] Has Run For 23.2 Seconds.  ETA is 5.9 Seconds\n",
      "Process [Creating DB Data From 18791 Artists For ModVal=18] Took 28.3 Seconds\n",
      "18/100     : Process [Creating DB Data] Has Run For 12.8 Minutes.  ETA is 58.3 Minutes\n",
      "\n",
      "\n",
      "Current Time is Tue Oct 26, 2021 18:30 for Creating ModData Subset\n",
      "Process [Creating ModData Subset] Took 1.6 Seconds\n",
      "Current Time is Tue Oct 26, 2021 18:30 for Creating DB Data From 18866 Artists For ModVal=19\n",
      "2500/18866 : Process [Creating DB Data From 18866 Artists For ModVal=19] Has Run For 5.0 Seconds.  ETA is 32.7 Seconds\n",
      "7500/18866 : Process [Creating DB Data From 18866 Artists For ModVal=19] Has Run For 12.2 Seconds.  ETA is 18.5 Seconds\n",
      "15000/18866 : Process [Creating DB Data From 18866 Artists For ModVal=19] Has Run For 22.9 Seconds.  ETA is 5.9 Seconds\n",
      "Process [Creating DB Data From 18866 Artists For ModVal=19] Took 28.1 Seconds\n",
      "19/100     : Process [Creating DB Data] Has Run For 13.3 Minutes.  ETA is 56.7 Minutes\n",
      "\n",
      "\n",
      "Current Time is Tue Oct 26, 2021 18:30 for Creating ModData Subset\n",
      "Process [Creating ModData Subset] Took 1.5 Seconds\n",
      "Current Time is Tue Oct 26, 2021 18:30 for Creating DB Data From 18929 Artists For ModVal=20\n",
      "2500/18929 : Process [Creating DB Data From 18929 Artists For ModVal=20] Has Run For 5.1 Seconds.  ETA is 33.5 Seconds\n",
      "7500/18929 : Process [Creating DB Data From 18929 Artists For ModVal=20] Has Run For 12.7 Seconds.  ETA is 19.4 Seconds\n",
      "15000/18929 : Process [Creating DB Data From 18929 Artists For ModVal=20] Has Run For 23.5 Seconds.  ETA is 6.2 Seconds\n",
      "Process [Creating DB Data From 18929 Artists For ModVal=20] Took 28.7 Seconds\n",
      "20/100     : Process [Creating DB Data] Has Run For 13.8 Minutes.  ETA is 55.2 Minutes\n",
      "\n",
      "\n",
      "Current Time is Tue Oct 26, 2021 18:31 for Creating ModData Subset\n",
      "Process [Creating ModData Subset] Took 1.6 Seconds\n",
      "Current Time is Tue Oct 26, 2021 18:31 for Creating DB Data From 19049 Artists For ModVal=21\n",
      "2500/19049 : Process [Creating DB Data From 19049 Artists For ModVal=21] Has Run For 5.1 Seconds.  ETA is 33.8 Seconds\n",
      "7500/19049 : Process [Creating DB Data From 19049 Artists For ModVal=21] Has Run For 12.3 Seconds.  ETA is 18.9 Seconds\n",
      "15000/19049 : Process [Creating DB Data From 19049 Artists For ModVal=21] Has Run For 22.8 Seconds.  ETA is 6.2 Seconds\n",
      "Process [Creating DB Data From 19049 Artists For ModVal=21] Took 28.1 Seconds\n",
      "21/100     : Process [Creating DB Data] Has Run For 14.3 Minutes.  ETA is 53.8 Minutes\n",
      "\n",
      "\n",
      "Current Time is Tue Oct 26, 2021 18:31 for Creating ModData Subset\n",
      "Process [Creating ModData Subset] Took 1.5 Seconds\n",
      "Current Time is Tue Oct 26, 2021 18:31 for Creating DB Data From 18856 Artists For ModVal=22\n",
      "2500/18856 : Process [Creating DB Data From 18856 Artists For ModVal=22] Has Run For 5.0 Seconds.  ETA is 32.7 Seconds\n"
     ]
    },
    {
     "name": "stdout",
     "output_type": "stream",
     "text": [
      "7500/18856 : Process [Creating DB Data From 18856 Artists For ModVal=22] Has Run For 12.3 Seconds.  ETA is 18.6 Seconds\n",
      "15000/18856 : Process [Creating DB Data From 18856 Artists For ModVal=22] Has Run For 22.4 Seconds.  ETA is 5.8 Seconds\n",
      "Process [Creating DB Data From 18856 Artists For ModVal=22] Took 27.5 Seconds\n",
      "22/100     : Process [Creating DB Data] Has Run For 14.8 Minutes.  ETA is 52.5 Minutes\n",
      "\n",
      "\n",
      "Current Time is Tue Oct 26, 2021 18:32 for Creating ModData Subset\n",
      "Process [Creating ModData Subset] Took 1.6 Seconds\n",
      "Current Time is Tue Oct 26, 2021 18:32 for Creating DB Data From 18833 Artists For ModVal=23\n",
      "2500/18833 : Process [Creating DB Data From 18833 Artists For ModVal=23] Has Run For 5.0 Seconds.  ETA is 32.7 Seconds\n",
      "7500/18833 : Process [Creating DB Data From 18833 Artists For ModVal=23] Has Run For 12.0 Seconds.  ETA is 18.1 Seconds\n",
      "15000/18833 : Process [Creating DB Data From 18833 Artists For ModVal=23] Has Run For 22.0 Seconds.  ETA is 5.6 Seconds\n",
      "Process [Creating DB Data From 18833 Artists For ModVal=23] Took 26.9 Seconds\n",
      "23/100     : Process [Creating DB Data] Has Run For 15.3 Minutes.  ETA is 51.2 Minutes\n",
      "\n",
      "\n",
      "Current Time is Tue Oct 26, 2021 18:32 for Creating ModData Subset\n",
      "Process [Creating ModData Subset] Took 1.5 Seconds\n",
      "Current Time is Tue Oct 26, 2021 18:32 for Creating DB Data From 18771 Artists For ModVal=24\n",
      "2500/18771 : Process [Creating DB Data From 18771 Artists For ModVal=24] Has Run For 4.9 Seconds.  ETA is 31.9 Seconds\n",
      "7500/18771 : Process [Creating DB Data From 18771 Artists For ModVal=24] Has Run For 12.0 Seconds.  ETA is 18.0 Seconds\n",
      "15000/18771 : Process [Creating DB Data From 18771 Artists For ModVal=24] Has Run For 22.3 Seconds.  ETA is 5.6 Seconds\n",
      "Process [Creating DB Data From 18771 Artists For ModVal=24] Took 28.4 Seconds\n",
      "24/100     : Process [Creating DB Data] Has Run For 15.9 Minutes.  ETA is 50.4 Minutes\n",
      "\n",
      "\n",
      "Current Time is Tue Oct 26, 2021 18:33 for Creating ModData Subset\n",
      "Process [Creating ModData Subset] Took 1.8 Seconds\n",
      "Current Time is Tue Oct 26, 2021 18:33 for Creating DB Data From 18856 Artists For ModVal=25\n",
      "2500/18856 : Process [Creating DB Data From 18856 Artists For ModVal=25] Has Run For 6.9 Seconds.  ETA is 45.1 Seconds\n",
      "7500/18856 : Process [Creating DB Data From 18856 Artists For ModVal=25] Has Run For 16.3 Seconds.  ETA is 24.7 Seconds\n",
      "15000/18856 : Process [Creating DB Data From 18856 Artists For ModVal=25] Has Run For 31.4 Seconds.  ETA is 8.1 Seconds\n",
      "Process [Creating DB Data From 18856 Artists For ModVal=25] Took 38.8 Seconds\n",
      "25/100     : Process [Creating DB Data] Has Run For 16.6 Minutes.  ETA is 49.8 Minutes\n",
      "\n",
      "\n",
      "Current Time is Tue Oct 26, 2021 18:33 for Creating ModData Subset\n",
      "Process [Creating ModData Subset] Took 1.9 Seconds\n",
      "Current Time is Tue Oct 26, 2021 18:34 for Creating DB Data From 18824 Artists For ModVal=26\n",
      "2500/18824 : Process [Creating DB Data From 18824 Artists For ModVal=26] Has Run For 6.5 Seconds.  ETA is 42.4 Seconds\n",
      "7500/18824 : Process [Creating DB Data From 18824 Artists For ModVal=26] Has Run For 16.2 Seconds.  ETA is 24.5 Seconds\n",
      "15000/18824 : Process [Creating DB Data From 18824 Artists For ModVal=26] Has Run For 30.1 Seconds.  ETA is 7.7 Seconds\n",
      "Process [Creating DB Data From 18824 Artists For ModVal=26] Took 37.0 Seconds\n",
      "26/100     : Process [Creating DB Data] Has Run For 17.3 Minutes.  ETA is 49.2 Minutes\n",
      "\n",
      "\n",
      "Current Time is Tue Oct 26, 2021 18:34 for Creating ModData Subset\n",
      "Process [Creating ModData Subset] Took 1.8 Seconds\n",
      "Current Time is Tue Oct 26, 2021 18:34 for Creating DB Data From 18809 Artists For ModVal=27\n",
      "2500/18809 : Process [Creating DB Data From 18809 Artists For ModVal=27] Has Run For 6.6 Seconds.  ETA is 43.1 Seconds\n",
      "7500/18809 : Process [Creating DB Data From 18809 Artists For ModVal=27] Has Run For 16.2 Seconds.  ETA is 24.4 Seconds\n",
      "15000/18809 : Process [Creating DB Data From 18809 Artists For ModVal=27] Has Run For 30.1 Seconds.  ETA is 7.6 Seconds\n",
      "Process [Creating DB Data From 18809 Artists For ModVal=27] Took 37.1 Seconds\n",
      "27/100     : Process [Creating DB Data] Has Run For 17.9 Minutes.  ETA is 48.4 Minutes\n",
      "\n",
      "\n",
      "Current Time is Tue Oct 26, 2021 18:35 for Creating ModData Subset\n",
      "Process [Creating ModData Subset] Took 1.8 Seconds\n",
      "Current Time is Tue Oct 26, 2021 18:35 for Creating DB Data From 18586 Artists For ModVal=28\n",
      "2500/18586 : Process [Creating DB Data From 18586 Artists For ModVal=28] Has Run For 6.9 Seconds.  ETA is 44.4 Seconds\n",
      "7500/18586 : Process [Creating DB Data From 18586 Artists For ModVal=28] Has Run For 16.3 Seconds.  ETA is 24.1 Seconds\n",
      "15000/18586 : Process [Creating DB Data From 18586 Artists For ModVal=28] Has Run For 30.0 Seconds.  ETA is 7.2 Seconds\n",
      "Process [Creating DB Data From 18586 Artists For ModVal=28] Took 36.8 Seconds\n",
      "28/100     : Process [Creating DB Data] Has Run For 18.6 Minutes.  ETA is 47.8 Minutes\n",
      "\n",
      "\n",
      "Current Time is Tue Oct 26, 2021 18:36 for Creating ModData Subset\n",
      "Process [Creating ModData Subset] Took 2.0 Seconds\n",
      "Current Time is Tue Oct 26, 2021 18:36 for Creating DB Data From 18919 Artists For ModVal=29\n",
      "2500/18919 : Process [Creating DB Data From 18919 Artists For ModVal=29] Has Run For 6.9 Seconds.  ETA is 45.3 Seconds\n",
      "7500/18919 : Process [Creating DB Data From 18919 Artists For ModVal=29] Has Run For 16.5 Seconds.  ETA is 25.1 Seconds\n",
      "15000/18919 : Process [Creating DB Data From 18919 Artists For ModVal=29] Has Run For 30.1 Seconds.  ETA is 7.9 Seconds\n",
      "Process [Creating DB Data From 18919 Artists For ModVal=29] Took 36.9 Seconds\n",
      "29/100     : Process [Creating DB Data] Has Run For 19.3 Minutes.  ETA is 47.3 Minutes\n",
      "\n",
      "\n",
      "Current Time is Tue Oct 26, 2021 18:36 for Creating ModData Subset\n",
      "Process [Creating ModData Subset] Took 1.8 Seconds\n",
      "Current Time is Tue Oct 26, 2021 18:36 for Creating DB Data From 18819 Artists For ModVal=30\n",
      "2500/18819 : Process [Creating DB Data From 18819 Artists For ModVal=30] Has Run For 6.8 Seconds.  ETA is 44.4 Seconds\n",
      "7500/18819 : Process [Creating DB Data From 18819 Artists For ModVal=30] Has Run For 16.9 Seconds.  ETA is 25.5 Seconds\n",
      "15000/18819 : Process [Creating DB Data From 18819 Artists For ModVal=30] Has Run For 31.0 Seconds.  ETA is 7.9 Seconds\n",
      "Process [Creating DB Data From 18819 Artists For ModVal=30] Took 37.7 Seconds\n",
      "30/100     : Process [Creating DB Data] Has Run For 20.0 Minutes.  ETA is 46.7 Minutes\n",
      "\n",
      "\n",
      "Current Time is Tue Oct 26, 2021 18:37 for Creating ModData Subset\n",
      "Process [Creating ModData Subset] Took 1.8 Seconds\n",
      "Current Time is Tue Oct 26, 2021 18:37 for Creating DB Data From 18808 Artists For ModVal=31\n",
      "2500/18808 : Process [Creating DB Data From 18808 Artists For ModVal=31] Has Run For 6.7 Seconds.  ETA is 43.7 Seconds\n",
      "7500/18808 : Process [Creating DB Data From 18808 Artists For ModVal=31] Has Run For 16.2 Seconds.  ETA is 24.4 Seconds\n",
      "15000/18808 : Process [Creating DB Data From 18808 Artists For ModVal=31] Has Run For 29.8 Seconds.  ETA is 7.6 Seconds\n",
      "Process [Creating DB Data From 18808 Artists For ModVal=31] Took 36.4 Seconds\n",
      "31/100     : Process [Creating DB Data] Has Run For 20.7 Minutes.  ETA is 46.1 Minutes\n",
      "\n",
      "\n",
      "Current Time is Tue Oct 26, 2021 18:38 for Creating ModData Subset\n",
      "Process [Creating ModData Subset] Took 1.8 Seconds\n",
      "Current Time is Tue Oct 26, 2021 18:38 for Creating DB Data From 18655 Artists For ModVal=32\n",
      "2500/18655 : Process [Creating DB Data From 18655 Artists For ModVal=32] Has Run For 6.6 Seconds.  ETA is 42.6 Seconds\n",
      "7500/18655 : Process [Creating DB Data From 18655 Artists For ModVal=32] Has Run For 16.2 Seconds.  ETA is 24.1 Seconds\n",
      "15000/18655 : Process [Creating DB Data From 18655 Artists For ModVal=32] Has Run For 30.0 Seconds.  ETA is 7.3 Seconds\n",
      "Process [Creating DB Data From 18655 Artists For ModVal=32] Took 36.4 Seconds\n",
      "32/100     : Process [Creating DB Data] Has Run For 21.3 Minutes.  ETA is 45.3 Minutes\n",
      "\n",
      "\n",
      "Current Time is Tue Oct 26, 2021 18:38 for Creating ModData Subset\n",
      "Process [Creating ModData Subset] Took 1.8 Seconds\n",
      "Current Time is Tue Oct 26, 2021 18:38 for Creating DB Data From 18914 Artists For ModVal=33\n",
      "2500/18914 : Process [Creating DB Data From 18914 Artists For ModVal=33] Has Run For 6.8 Seconds.  ETA is 44.6 Seconds\n",
      "7500/18914 : Process [Creating DB Data From 18914 Artists For ModVal=33] Has Run For 16.8 Seconds.  ETA is 25.6 Seconds\n"
     ]
    },
    {
     "name": "stdout",
     "output_type": "stream",
     "text": [
      "15000/18914 : Process [Creating DB Data From 18914 Artists For ModVal=33] Has Run For 30.7 Seconds.  ETA is 8.0 Seconds\n",
      "Process [Creating DB Data From 18914 Artists For ModVal=33] Took 37.8 Seconds\n",
      "33/100     : Process [Creating DB Data] Has Run For 22.0 Minutes.  ETA is 44.7 Minutes\n",
      "\n",
      "\n",
      "Current Time is Tue Oct 26, 2021 18:39 for Creating ModData Subset\n",
      "Process [Creating ModData Subset] Took 1.8 Seconds\n",
      "Current Time is Tue Oct 26, 2021 18:39 for Creating DB Data From 18971 Artists For ModVal=34\n",
      "2500/18971 : Process [Creating DB Data From 18971 Artists For ModVal=34] Has Run For 6.3 Seconds.  ETA is 41.5 Seconds\n",
      "7500/18971 : Process [Creating DB Data From 18971 Artists For ModVal=34] Has Run For 15.6 Seconds.  ETA is 23.9 Seconds\n",
      "15000/18971 : Process [Creating DB Data From 18971 Artists For ModVal=34] Has Run For 29.0 Seconds.  ETA is 7.7 Seconds\n",
      "Process [Creating DB Data From 18971 Artists For ModVal=34] Took 35.1 Seconds\n",
      "34/100     : Process [Creating DB Data] Has Run For 22.7 Minutes.  ETA is 44.1 Minutes\n",
      "\n",
      "\n",
      "Current Time is Tue Oct 26, 2021 18:40 for Creating ModData Subset\n",
      "Process [Creating ModData Subset] Took 1.6 Seconds\n",
      "Current Time is Tue Oct 26, 2021 18:40 for Creating DB Data From 18756 Artists For ModVal=35\n",
      "2500/18756 : Process [Creating DB Data From 18756 Artists For ModVal=35] Has Run For 5.5 Seconds.  ETA is 35.8 Seconds\n",
      "7500/18756 : Process [Creating DB Data From 18756 Artists For ModVal=35] Has Run For 14.0 Seconds.  ETA is 21.0 Seconds\n",
      "15000/18756 : Process [Creating DB Data From 18756 Artists For ModVal=35] Has Run For 27.9 Seconds.  ETA is 7.0 Seconds\n",
      "Process [Creating DB Data From 18756 Artists For ModVal=35] Took 34.4 Seconds\n",
      "35/100     : Process [Creating DB Data] Has Run For 23.3 Minutes.  ETA is 43.3 Minutes\n",
      "\n",
      "\n",
      "Current Time is Tue Oct 26, 2021 18:40 for Creating ModData Subset\n",
      "Process [Creating ModData Subset] Took 1.8 Seconds\n",
      "Current Time is Tue Oct 26, 2021 18:40 for Creating DB Data From 18769 Artists For ModVal=36\n",
      "2500/18769 : Process [Creating DB Data From 18769 Artists For ModVal=36] Has Run For 6.8 Seconds.  ETA is 44.3 Seconds\n",
      "7500/18769 : Process [Creating DB Data From 18769 Artists For ModVal=36] Has Run For 16.6 Seconds.  ETA is 24.9 Seconds\n",
      "15000/18769 : Process [Creating DB Data From 18769 Artists For ModVal=36] Has Run For 30.4 Seconds.  ETA is 7.6 Seconds\n",
      "Process [Creating DB Data From 18769 Artists For ModVal=36] Took 37.2 Seconds\n",
      "36/100     : Process [Creating DB Data] Has Run For 24.0 Minutes.  ETA is 42.7 Minutes\n",
      "\n",
      "\n",
      "Current Time is Tue Oct 26, 2021 18:41 for Creating ModData Subset\n",
      "Process [Creating ModData Subset] Took 1.8 Seconds\n",
      "Current Time is Tue Oct 26, 2021 18:41 for Creating DB Data From 18630 Artists For ModVal=37\n",
      "2500/18630 : Process [Creating DB Data From 18630 Artists For ModVal=37] Has Run For 6.7 Seconds.  ETA is 43.2 Seconds\n",
      "7500/18630 : Process [Creating DB Data From 18630 Artists For ModVal=37] Has Run For 16.4 Seconds.  ETA is 24.3 Seconds\n",
      "15000/18630 : Process [Creating DB Data From 18630 Artists For ModVal=37] Has Run For 30.0 Seconds.  ETA is 7.3 Seconds\n",
      "Process [Creating DB Data From 18630 Artists For ModVal=37] Took 35.7 Seconds\n",
      "37/100     : Process [Creating DB Data] Has Run For 24.6 Minutes.  ETA is 41.9 Minutes\n",
      "\n",
      "\n",
      "Current Time is Tue Oct 26, 2021 18:42 for Creating ModData Subset\n",
      "Process [Creating ModData Subset] Took 1.6 Seconds\n",
      "Current Time is Tue Oct 26, 2021 18:42 for Creating DB Data From 18842 Artists For ModVal=38\n",
      "2500/18842 : Process [Creating DB Data From 18842 Artists For ModVal=38] Has Run For 5.6 Seconds.  ETA is 36.6 Seconds\n",
      "7500/18842 : Process [Creating DB Data From 18842 Artists For ModVal=38] Has Run For 14.0 Seconds.  ETA is 21.2 Seconds\n",
      "15000/18842 : Process [Creating DB Data From 18842 Artists For ModVal=38] Has Run For 27.6 Seconds.  ETA is 7.1 Seconds\n",
      "Process [Creating DB Data From 18842 Artists For ModVal=38] Took 33.4 Seconds\n",
      "38/100     : Process [Creating DB Data] Has Run For 25.2 Minutes.  ETA is 41.1 Minutes\n",
      "\n",
      "\n",
      "Current Time is Tue Oct 26, 2021 18:42 for Creating ModData Subset\n",
      "Process [Creating ModData Subset] Took 1.6 Seconds\n",
      "Current Time is Tue Oct 26, 2021 18:42 for Creating DB Data From 18580 Artists For ModVal=39\n",
      "2500/18580 : Process [Creating DB Data From 18580 Artists For ModVal=39] Has Run For 5.4 Seconds.  ETA is 34.7 Seconds\n",
      "7500/18580 : Process [Creating DB Data From 18580 Artists For ModVal=39] Has Run For 14.5 Seconds.  ETA is 21.4 Seconds\n",
      "15000/18580 : Process [Creating DB Data From 18580 Artists For ModVal=39] Has Run For 29.0 Seconds.  ETA is 6.9 Seconds\n",
      "Process [Creating DB Data From 18580 Artists For ModVal=39] Took 35.5 Seconds\n",
      "39/100     : Process [Creating DB Data] Has Run For 25.9 Minutes.  ETA is 40.5 Minutes\n",
      "\n",
      "\n",
      "Current Time is Tue Oct 26, 2021 18:43 for Creating ModData Subset\n",
      "Process [Creating ModData Subset] Took 1.8 Seconds\n",
      "Current Time is Tue Oct 26, 2021 18:43 for Creating DB Data From 19006 Artists For ModVal=40\n",
      "2500/19006 : Process [Creating DB Data From 19006 Artists For ModVal=40] Has Run For 6.5 Seconds.  ETA is 42.9 Seconds\n",
      "7500/19006 : Process [Creating DB Data From 19006 Artists For ModVal=40] Has Run For 16.0 Seconds.  ETA is 24.5 Seconds\n",
      "15000/19006 : Process [Creating DB Data From 19006 Artists For ModVal=40] Has Run For 29.8 Seconds.  ETA is 8.0 Seconds\n",
      "Process [Creating DB Data From 19006 Artists For ModVal=40] Took 37.0 Seconds\n",
      "40/100     : Process [Creating DB Data] Has Run For 26.6 Minutes.  ETA is 39.9 Minutes\n",
      "\n",
      "\n",
      "Current Time is Tue Oct 26, 2021 18:43 for Creating ModData Subset\n",
      "Process [Creating ModData Subset] Took 1.8 Seconds\n",
      "Current Time is Tue Oct 26, 2021 18:44 for Creating DB Data From 18928 Artists For ModVal=41\n",
      "2500/18928 : Process [Creating DB Data From 18928 Artists For ModVal=41] Has Run For 6.9 Seconds.  ETA is 45.3 Seconds\n",
      "7500/18928 : Process [Creating DB Data From 18928 Artists For ModVal=41] Has Run For 16.7 Seconds.  ETA is 25.4 Seconds\n",
      "15000/18928 : Process [Creating DB Data From 18928 Artists For ModVal=41] Has Run For 30.7 Seconds.  ETA is 8.0 Seconds\n",
      "Process [Creating DB Data From 18928 Artists For ModVal=41] Took 37.8 Seconds\n",
      "41/100     : Process [Creating DB Data] Has Run For 27.3 Minutes.  ETA is 39.3 Minutes\n",
      "\n",
      "\n",
      "Current Time is Tue Oct 26, 2021 18:44 for Creating ModData Subset\n",
      "Process [Creating ModData Subset] Took 1.8 Seconds\n",
      "Current Time is Tue Oct 26, 2021 18:44 for Creating DB Data From 18846 Artists For ModVal=42\n",
      "2500/18846 : Process [Creating DB Data From 18846 Artists For ModVal=42] Has Run For 6.6 Seconds.  ETA is 43.2 Seconds\n",
      "7500/18846 : Process [Creating DB Data From 18846 Artists For ModVal=42] Has Run For 16.4 Seconds.  ETA is 24.8 Seconds\n",
      "15000/18846 : Process [Creating DB Data From 18846 Artists For ModVal=42] Has Run For 30.8 Seconds.  ETA is 7.9 Seconds\n",
      "Process [Creating DB Data From 18846 Artists For ModVal=42] Took 37.8 Seconds\n",
      "42/100     : Process [Creating DB Data] Has Run For 28.0 Minutes.  ETA is 38.7 Minutes\n",
      "\n",
      "\n",
      "Current Time is Tue Oct 26, 2021 18:45 for Creating ModData Subset\n",
      "Process [Creating ModData Subset] Took 1.8 Seconds\n",
      "Current Time is Tue Oct 26, 2021 18:45 for Creating DB Data From 18710 Artists For ModVal=43\n",
      "2500/18710 : Process [Creating DB Data From 18710 Artists For ModVal=43] Has Run For 6.5 Seconds.  ETA is 42.1 Seconds\n",
      "7500/18710 : Process [Creating DB Data From 18710 Artists For ModVal=43] Has Run For 16.1 Seconds.  ETA is 24.1 Seconds\n",
      "15000/18710 : Process [Creating DB Data From 18710 Artists For ModVal=43] Has Run For 29.8 Seconds.  ETA is 7.4 Seconds\n",
      "Process [Creating DB Data From 18710 Artists For ModVal=43] Took 36.6 Seconds\n",
      "43/100     : Process [Creating DB Data] Has Run For 28.6 Minutes.  ETA is 37.9 Minutes\n",
      "\n",
      "\n",
      "Current Time is Tue Oct 26, 2021 18:46 for Creating ModData Subset\n",
      "Process [Creating ModData Subset] Took 1.8 Seconds\n",
      "Current Time is Tue Oct 26, 2021 18:46 for Creating DB Data From 19113 Artists For ModVal=44\n",
      "2500/19113 : Process [Creating DB Data From 19113 Artists For ModVal=44] Has Run For 6.7 Seconds.  ETA is 44.5 Seconds\n",
      "7500/19113 : Process [Creating DB Data From 19113 Artists For ModVal=44] Has Run For 16.7 Seconds.  ETA is 25.9 Seconds\n",
      "15000/19113 : Process [Creating DB Data From 19113 Artists For ModVal=44] Has Run For 31.0 Seconds.  ETA is 8.5 Seconds\n"
     ]
    },
    {
     "name": "stdout",
     "output_type": "stream",
     "text": [
      "Process [Creating DB Data From 19113 Artists For ModVal=44] Took 38.5 Seconds\n",
      "44/100     : Process [Creating DB Data] Has Run For 29.3 Minutes.  ETA is 37.3 Minutes\n",
      "\n",
      "\n",
      "Current Time is Tue Oct 26, 2021 18:46 for Creating ModData Subset\n",
      "Process [Creating ModData Subset] Took 1.8 Seconds\n",
      "Current Time is Tue Oct 26, 2021 18:46 for Creating DB Data From 18919 Artists For ModVal=45\n",
      "2500/18919 : Process [Creating DB Data From 18919 Artists For ModVal=45] Has Run For 6.8 Seconds.  ETA is 44.7 Seconds\n",
      "7500/18919 : Process [Creating DB Data From 18919 Artists For ModVal=45] Has Run For 16.6 Seconds.  ETA is 25.3 Seconds\n",
      "15000/18919 : Process [Creating DB Data From 18919 Artists For ModVal=45] Has Run For 30.5 Seconds.  ETA is 8.0 Seconds\n",
      "Process [Creating DB Data From 18919 Artists For ModVal=45] Took 37.4 Seconds\n",
      "45/100     : Process [Creating DB Data] Has Run For 30.0 Minutes.  ETA is 36.7 Minutes\n",
      "\n",
      "\n",
      "Current Time is Tue Oct 26, 2021 18:47 for Creating ModData Subset\n",
      "Process [Creating ModData Subset] Took 1.8 Seconds\n",
      "Current Time is Tue Oct 26, 2021 18:47 for Creating DB Data From 18959 Artists For ModVal=46\n",
      "2500/18959 : Process [Creating DB Data From 18959 Artists For ModVal=46] Has Run For 7.0 Seconds.  ETA is 46.1 Seconds\n",
      "7500/18959 : Process [Creating DB Data From 18959 Artists For ModVal=46] Has Run For 17.5 Seconds.  ETA is 26.7 Seconds\n",
      "15000/18959 : Process [Creating DB Data From 18959 Artists For ModVal=46] Has Run For 32.4 Seconds.  ETA is 8.6 Seconds\n",
      "Process [Creating DB Data From 18959 Artists For ModVal=46] Took 39.7 Seconds\n",
      "46/100     : Process [Creating DB Data] Has Run For 30.7 Minutes.  ETA is 36.0 Minutes\n",
      "\n",
      "\n",
      "Current Time is Tue Oct 26, 2021 18:48 for Creating ModData Subset\n",
      "Process [Creating ModData Subset] Took 1.8 Seconds\n",
      "Current Time is Tue Oct 26, 2021 18:48 for Creating DB Data From 19064 Artists For ModVal=47\n",
      "2500/19064 : Process [Creating DB Data From 19064 Artists For ModVal=47] Has Run For 6.6 Seconds.  ETA is 43.7 Seconds\n",
      "7500/19064 : Process [Creating DB Data From 19064 Artists For ModVal=47] Has Run For 16.2 Seconds.  ETA is 25.0 Seconds\n",
      "15000/19064 : Process [Creating DB Data From 19064 Artists For ModVal=47] Has Run For 29.7 Seconds.  ETA is 8.0 Seconds\n",
      "Process [Creating DB Data From 19064 Artists For ModVal=47] Took 36.8 Seconds\n",
      "47/100     : Process [Creating DB Data] Has Run For 31.4 Minutes.  ETA is 35.4 Minutes\n",
      "\n",
      "\n",
      "Current Time is Tue Oct 26, 2021 18:48 for Creating ModData Subset\n",
      "Process [Creating ModData Subset] Took 1.8 Seconds\n",
      "Current Time is Tue Oct 26, 2021 18:48 for Creating DB Data From 18676 Artists For ModVal=48\n",
      "2500/18676 : Process [Creating DB Data From 18676 Artists For ModVal=48] Has Run For 7.1 Seconds.  ETA is 45.9 Seconds\n",
      "7500/18676 : Process [Creating DB Data From 18676 Artists For ModVal=48] Has Run For 16.8 Seconds.  ETA is 25.0 Seconds\n",
      "15000/18676 : Process [Creating DB Data From 18676 Artists For ModVal=48] Has Run For 30.6 Seconds.  ETA is 7.5 Seconds\n",
      "Process [Creating DB Data From 18676 Artists For ModVal=48] Took 37.4 Seconds\n",
      "48/100     : Process [Creating DB Data] Has Run For 32.1 Minutes.  ETA is 34.8 Minutes\n",
      "\n",
      "\n",
      "Current Time is Tue Oct 26, 2021 18:49 for Creating ModData Subset\n",
      "Process [Creating ModData Subset] Took 1.8 Seconds\n",
      "Current Time is Tue Oct 26, 2021 18:49 for Creating DB Data From 18821 Artists For ModVal=49\n",
      "2500/18821 : Process [Creating DB Data From 18821 Artists For ModVal=49] Has Run For 6.5 Seconds.  ETA is 42.4 Seconds\n",
      "7500/18821 : Process [Creating DB Data From 18821 Artists For ModVal=49] Has Run For 16.1 Seconds.  ETA is 24.3 Seconds\n",
      "15000/18821 : Process [Creating DB Data From 18821 Artists For ModVal=49] Has Run For 30.2 Seconds.  ETA is 7.7 Seconds\n",
      "Process [Creating DB Data From 18821 Artists For ModVal=49] Took 36.9 Seconds\n",
      "49/100     : Process [Creating DB Data] Has Run For 32.8 Minutes.  ETA is 34.1 Minutes\n",
      "\n",
      "\n",
      "Current Time is Tue Oct 26, 2021 18:50 for Creating ModData Subset\n",
      "Process [Creating ModData Subset] Took 1.8 Seconds\n",
      "Current Time is Tue Oct 26, 2021 18:50 for Creating DB Data From 18791 Artists For ModVal=50\n",
      "2500/18791 : Process [Creating DB Data From 18791 Artists For ModVal=50] Has Run For 6.6 Seconds.  ETA is 43.0 Seconds\n",
      "7500/18791 : Process [Creating DB Data From 18791 Artists For ModVal=50] Has Run For 16.0 Seconds.  ETA is 24.1 Seconds\n",
      "15000/18791 : Process [Creating DB Data From 18791 Artists For ModVal=50] Has Run For 29.8 Seconds.  ETA is 7.5 Seconds\n",
      "Process [Creating DB Data From 18791 Artists For ModVal=50] Took 36.5 Seconds\n",
      "50/100     : Process [Creating DB Data] Has Run For 33.4 Minutes.  ETA is 33.4 Minutes\n",
      "\n",
      "\n",
      "Current Time is Tue Oct 26, 2021 18:50 for Creating ModData Subset\n",
      "Process [Creating ModData Subset] Took 1.8 Seconds\n",
      "Current Time is Tue Oct 26, 2021 18:50 for Creating DB Data From 18973 Artists For ModVal=51\n",
      "2500/18973 : Process [Creating DB Data From 18973 Artists For ModVal=51] Has Run For 7.2 Seconds.  ETA is 47.4 Seconds\n",
      "7500/18973 : Process [Creating DB Data From 18973 Artists For ModVal=51] Has Run For 17.4 Seconds.  ETA is 26.6 Seconds\n",
      "15000/18973 : Process [Creating DB Data From 18973 Artists For ModVal=51] Has Run For 32.0 Seconds.  ETA is 8.5 Seconds\n",
      "Process [Creating DB Data From 18973 Artists For ModVal=51] Took 39.4 Seconds\n",
      "51/100     : Process [Creating DB Data] Has Run For 34.2 Minutes.  ETA is 32.9 Minutes\n",
      "\n",
      "\n",
      "Current Time is Tue Oct 26, 2021 18:51 for Creating ModData Subset\n",
      "Process [Creating ModData Subset] Took 1.8 Seconds\n",
      "Current Time is Tue Oct 26, 2021 18:51 for Creating DB Data From 18970 Artists For ModVal=52\n",
      "2500/18970 : Process [Creating DB Data From 18970 Artists For ModVal=52] Has Run For 6.6 Seconds.  ETA is 43.5 Seconds\n",
      "7500/18970 : Process [Creating DB Data From 18970 Artists For ModVal=52] Has Run For 16.2 Seconds.  ETA is 24.8 Seconds\n",
      "15000/18970 : Process [Creating DB Data From 18970 Artists For ModVal=52] Has Run For 30.7 Seconds.  ETA is 8.1 Seconds\n",
      "Process [Creating DB Data From 18970 Artists For ModVal=52] Took 37.7 Seconds\n",
      "52/100     : Process [Creating DB Data] Has Run For 34.8 Minutes.  ETA is 32.1 Minutes\n",
      "\n",
      "\n",
      "Current Time is Tue Oct 26, 2021 18:52 for Creating ModData Subset\n",
      "Process [Creating ModData Subset] Took 1.7 Seconds\n",
      "Current Time is Tue Oct 26, 2021 18:52 for Creating DB Data From 18759 Artists For ModVal=53\n",
      "2500/18759 : Process [Creating DB Data From 18759 Artists For ModVal=53] Has Run For 6.8 Seconds.  ETA is 44.2 Seconds\n",
      "7500/18759 : Process [Creating DB Data From 18759 Artists For ModVal=53] Has Run For 16.4 Seconds.  ETA is 24.6 Seconds\n",
      "15000/18759 : Process [Creating DB Data From 18759 Artists For ModVal=53] Has Run For 30.5 Seconds.  ETA is 7.6 Seconds\n",
      "Process [Creating DB Data From 18759 Artists For ModVal=53] Took 37.2 Seconds\n",
      "53/100     : Process [Creating DB Data] Has Run For 35.5 Minutes.  ETA is 31.5 Minutes\n",
      "\n",
      "\n",
      "Current Time is Tue Oct 26, 2021 18:52 for Creating ModData Subset\n",
      "Process [Creating ModData Subset] Took 2.0 Seconds\n",
      "Current Time is Tue Oct 26, 2021 18:52 for Creating DB Data From 18850 Artists For ModVal=54\n",
      "2500/18850 : Process [Creating DB Data From 18850 Artists For ModVal=54] Has Run For 6.7 Seconds.  ETA is 43.8 Seconds\n",
      "7500/18850 : Process [Creating DB Data From 18850 Artists For ModVal=54] Has Run For 16.7 Seconds.  ETA is 25.3 Seconds\n",
      "15000/18850 : Process [Creating DB Data From 18850 Artists For ModVal=54] Has Run For 30.5 Seconds.  ETA is 7.8 Seconds\n",
      "Process [Creating DB Data From 18850 Artists For ModVal=54] Took 37.3 Seconds\n",
      "54/100     : Process [Creating DB Data] Has Run For 36.2 Minutes.  ETA is 30.8 Minutes\n",
      "\n",
      "\n",
      "Current Time is Tue Oct 26, 2021 18:53 for Creating ModData Subset\n",
      "Process [Creating ModData Subset] Took 1.8 Seconds\n",
      "Current Time is Tue Oct 26, 2021 18:53 for Creating DB Data From 18976 Artists For ModVal=55\n",
      "2500/18976 : Process [Creating DB Data From 18976 Artists For ModVal=55] Has Run For 6.7 Seconds.  ETA is 44.2 Seconds\n",
      "7500/18976 : Process [Creating DB Data From 18976 Artists For ModVal=55] Has Run For 16.3 Seconds.  ETA is 24.9 Seconds\n",
      "15000/18976 : Process [Creating DB Data From 18976 Artists For ModVal=55] Has Run For 30.4 Seconds.  ETA is 8.1 Seconds\n",
      "Process [Creating DB Data From 18976 Artists For ModVal=55] Took 37.5 Seconds\n",
      "55/100     : Process [Creating DB Data] Has Run For 36.9 Minutes.  ETA is 30.2 Minutes\n",
      "\n",
      "\n",
      "Current Time is Tue Oct 26, 2021 18:54 for Creating ModData Subset\n"
     ]
    },
    {
     "name": "stdout",
     "output_type": "stream",
     "text": [
      "Process [Creating ModData Subset] Took 1.8 Seconds\n",
      "Current Time is Tue Oct 26, 2021 18:54 for Creating DB Data From 18923 Artists For ModVal=56\n",
      "2500/18923 : Process [Creating DB Data From 18923 Artists For ModVal=56] Has Run For 6.8 Seconds.  ETA is 44.7 Seconds\n",
      "7500/18923 : Process [Creating DB Data From 18923 Artists For ModVal=56] Has Run For 16.4 Seconds.  ETA is 25.0 Seconds\n",
      "15000/18923 : Process [Creating DB Data From 18923 Artists For ModVal=56] Has Run For 30.4 Seconds.  ETA is 8.0 Seconds\n",
      "Process [Creating DB Data From 18923 Artists For ModVal=56] Took 37.5 Seconds\n",
      "56/100     : Process [Creating DB Data] Has Run For 37.6 Minutes.  ETA is 29.5 Minutes\n",
      "\n",
      "\n",
      "Current Time is Tue Oct 26, 2021 18:55 for Creating ModData Subset\n",
      "Process [Creating ModData Subset] Took 1.8 Seconds\n",
      "Current Time is Tue Oct 26, 2021 18:55 for Creating DB Data From 18815 Artists For ModVal=57\n",
      "2500/18815 : Process [Creating DB Data From 18815 Artists For ModVal=57] Has Run For 6.2 Seconds.  ETA is 40.5 Seconds\n",
      "7500/18815 : Process [Creating DB Data From 18815 Artists For ModVal=57] Has Run For 15.7 Seconds.  ETA is 23.7 Seconds\n",
      "15000/18815 : Process [Creating DB Data From 18815 Artists For ModVal=57] Has Run For 30.0 Seconds.  ETA is 7.6 Seconds\n",
      "Process [Creating DB Data From 18815 Artists For ModVal=57] Took 36.6 Seconds\n",
      "57/100     : Process [Creating DB Data] Has Run For 38.3 Minutes.  ETA is 28.9 Minutes\n",
      "\n",
      "\n",
      "Current Time is Tue Oct 26, 2021 18:55 for Creating ModData Subset\n",
      "Process [Creating ModData Subset] Took 1.8 Seconds\n",
      "Current Time is Tue Oct 26, 2021 18:55 for Creating DB Data From 18856 Artists For ModVal=58\n",
      "2500/18856 : Process [Creating DB Data From 18856 Artists For ModVal=58] Has Run For 6.7 Seconds.  ETA is 43.8 Seconds\n",
      "7500/18856 : Process [Creating DB Data From 18856 Artists For ModVal=58] Has Run For 16.5 Seconds.  ETA is 25.0 Seconds\n",
      "15000/18856 : Process [Creating DB Data From 18856 Artists For ModVal=58] Has Run For 30.3 Seconds.  ETA is 7.8 Seconds\n",
      "Process [Creating DB Data From 18856 Artists For ModVal=58] Took 37.1 Seconds\n",
      "58/100     : Process [Creating DB Data] Has Run For 39.0 Minutes.  ETA is 28.2 Minutes\n",
      "\n",
      "\n",
      "Current Time is Tue Oct 26, 2021 18:56 for Creating ModData Subset\n",
      "Process [Creating ModData Subset] Took 2.1 Seconds\n",
      "Current Time is Tue Oct 26, 2021 18:56 for Creating DB Data From 18767 Artists For ModVal=59\n",
      "2500/18767 : Process [Creating DB Data From 18767 Artists For ModVal=59] Has Run For 6.9 Seconds.  ETA is 44.9 Seconds\n",
      "7500/18767 : Process [Creating DB Data From 18767 Artists For ModVal=59] Has Run For 16.8 Seconds.  ETA is 25.2 Seconds\n",
      "15000/18767 : Process [Creating DB Data From 18767 Artists For ModVal=59] Has Run For 30.6 Seconds.  ETA is 7.7 Seconds\n",
      "Process [Creating DB Data From 18767 Artists For ModVal=59] Took 37.6 Seconds\n",
      "59/100     : Process [Creating DB Data] Has Run For 39.6 Minutes.  ETA is 27.5 Minutes\n",
      "\n",
      "\n",
      "Current Time is Tue Oct 26, 2021 18:57 for Creating ModData Subset\n",
      "Process [Creating ModData Subset] Took 1.8 Seconds\n",
      "Current Time is Tue Oct 26, 2021 18:57 for Creating DB Data From 19006 Artists For ModVal=60\n",
      "2500/19006 : Process [Creating DB Data From 19006 Artists For ModVal=60] Has Run For 6.7 Seconds.  ETA is 44.2 Seconds\n",
      "7500/19006 : Process [Creating DB Data From 19006 Artists For ModVal=60] Has Run For 16.4 Seconds.  ETA is 25.2 Seconds\n",
      "15000/19006 : Process [Creating DB Data From 19006 Artists For ModVal=60] Has Run For 31.2 Seconds.  ETA is 8.3 Seconds\n",
      "Process [Creating DB Data From 19006 Artists For ModVal=60] Took 38.5 Seconds\n",
      "60/100     : Process [Creating DB Data] Has Run For 40.4 Minutes.  ETA is 26.9 Minutes\n",
      "\n",
      "\n",
      "Current Time is Tue Oct 26, 2021 18:57 for Creating ModData Subset\n",
      "Process [Creating ModData Subset] Took 1.8 Seconds\n",
      "Current Time is Tue Oct 26, 2021 18:57 for Creating DB Data From 18821 Artists For ModVal=61\n",
      "2500/18821 : Process [Creating DB Data From 18821 Artists For ModVal=61] Has Run For 6.6 Seconds.  ETA is 43.1 Seconds\n",
      "7500/18821 : Process [Creating DB Data From 18821 Artists For ModVal=61] Has Run For 16.7 Seconds.  ETA is 25.2 Seconds\n",
      "15000/18821 : Process [Creating DB Data From 18821 Artists For ModVal=61] Has Run For 31.1 Seconds.  ETA is 7.9 Seconds\n",
      "Process [Creating DB Data From 18821 Artists For ModVal=61] Took 38.0 Seconds\n",
      "61/100     : Process [Creating DB Data] Has Run For 41.0 Minutes.  ETA is 26.2 Minutes\n",
      "\n",
      "\n",
      "Current Time is Tue Oct 26, 2021 18:58 for Creating ModData Subset\n",
      "Process [Creating ModData Subset] Took 1.7 Seconds\n",
      "Current Time is Tue Oct 26, 2021 18:58 for Creating DB Data From 18694 Artists For ModVal=62\n",
      "2500/18694 : Process [Creating DB Data From 18694 Artists For ModVal=62] Has Run For 7.0 Seconds.  ETA is 45.3 Seconds\n",
      "7500/18694 : Process [Creating DB Data From 18694 Artists For ModVal=62] Has Run For 16.5 Seconds.  ETA is 24.6 Seconds\n",
      "15000/18694 : Process [Creating DB Data From 18694 Artists For ModVal=62] Has Run For 30.2 Seconds.  ETA is 7.4 Seconds\n",
      "Process [Creating DB Data From 18694 Artists For ModVal=62] Took 37.7 Seconds\n",
      "62/100     : Process [Creating DB Data] Has Run For 41.7 Minutes.  ETA is 25.6 Minutes\n",
      "\n",
      "\n",
      "Current Time is Tue Oct 26, 2021 18:59 for Creating ModData Subset\n",
      "Process [Creating ModData Subset] Took 1.8 Seconds\n",
      "Current Time is Tue Oct 26, 2021 18:59 for Creating DB Data From 19024 Artists For ModVal=63\n",
      "2500/19024 : Process [Creating DB Data From 19024 Artists For ModVal=63] Has Run For 6.9 Seconds.  ETA is 45.6 Seconds\n",
      "7500/19024 : Process [Creating DB Data From 19024 Artists For ModVal=63] Has Run For 16.6 Seconds.  ETA is 25.5 Seconds\n",
      "15000/19024 : Process [Creating DB Data From 19024 Artists For ModVal=63] Has Run For 30.3 Seconds.  ETA is 8.1 Seconds\n",
      "Process [Creating DB Data From 19024 Artists For ModVal=63] Took 37.2 Seconds\n",
      "63/100     : Process [Creating DB Data] Has Run For 42.4 Minutes.  ETA is 24.9 Minutes\n",
      "\n",
      "\n",
      "Current Time is Tue Oct 26, 2021 18:59 for Creating ModData Subset\n",
      "Process [Creating ModData Subset] Took 1.8 Seconds\n",
      "Current Time is Tue Oct 26, 2021 18:59 for Creating DB Data From 18676 Artists For ModVal=64\n",
      "2500/18676 : Process [Creating DB Data From 18676 Artists For ModVal=64] Has Run For 6.6 Seconds.  ETA is 42.7 Seconds\n",
      "7500/18676 : Process [Creating DB Data From 18676 Artists For ModVal=64] Has Run For 16.1 Seconds.  ETA is 24.0 Seconds\n",
      "15000/18676 : Process [Creating DB Data From 18676 Artists For ModVal=64] Has Run For 29.9 Seconds.  ETA is 7.3 Seconds\n",
      "Process [Creating DB Data From 18676 Artists For ModVal=64] Took 36.5 Seconds\n",
      "64/100     : Process [Creating DB Data] Has Run For 43.1 Minutes.  ETA is 24.2 Minutes\n",
      "\n",
      "\n",
      "Current Time is Tue Oct 26, 2021 19:00 for Creating ModData Subset\n",
      "Process [Creating ModData Subset] Took 2.0 Seconds\n",
      "Current Time is Tue Oct 26, 2021 19:00 for Creating DB Data From 18856 Artists For ModVal=65\n",
      "2500/18856 : Process [Creating DB Data From 18856 Artists For ModVal=65] Has Run For 6.8 Seconds.  ETA is 44.5 Seconds\n",
      "7500/18856 : Process [Creating DB Data From 18856 Artists For ModVal=65] Has Run For 16.4 Seconds.  ETA is 24.8 Seconds\n",
      "15000/18856 : Process [Creating DB Data From 18856 Artists For ModVal=65] Has Run For 30.0 Seconds.  ETA is 7.7 Seconds\n",
      "Process [Creating DB Data From 18856 Artists For ModVal=65] Took 37.1 Seconds\n",
      "65/100     : Process [Creating DB Data] Has Run For 43.8 Minutes.  ETA is 23.6 Minutes\n",
      "\n",
      "\n",
      "Current Time is Tue Oct 26, 2021 19:01 for Creating ModData Subset\n",
      "Process [Creating ModData Subset] Took 1.7 Seconds\n",
      "Current Time is Tue Oct 26, 2021 19:01 for Creating DB Data From 18749 Artists For ModVal=66\n",
      "2500/18749 : Process [Creating DB Data From 18749 Artists For ModVal=66] Has Run For 6.5 Seconds.  ETA is 42.2 Seconds\n",
      "7500/18749 : Process [Creating DB Data From 18749 Artists For ModVal=66] Has Run For 15.9 Seconds.  ETA is 23.8 Seconds\n",
      "15000/18749 : Process [Creating DB Data From 18749 Artists For ModVal=66] Has Run For 30.4 Seconds.  ETA is 7.6 Seconds\n",
      "Process [Creating DB Data From 18749 Artists For ModVal=66] Took 40.4 Seconds\n",
      "66/100     : Process [Creating DB Data] Has Run For 44.5 Minutes.  ETA is 22.9 Minutes\n",
      "\n",
      "\n",
      "Current Time is Tue Oct 26, 2021 19:01 for Creating ModData Subset\n",
      "Process [Creating ModData Subset] Took 1.5 Seconds\n",
      "Current Time is Tue Oct 26, 2021 19:01 for Creating DB Data From 18770 Artists For ModVal=67\n"
     ]
    },
    {
     "name": "stdout",
     "output_type": "stream",
     "text": [
      "2500/18770 : Process [Creating DB Data From 18770 Artists For ModVal=67] Has Run For 4.6 Seconds.  ETA is 29.9 Seconds\n",
      "7500/18770 : Process [Creating DB Data From 18770 Artists For ModVal=67] Has Run For 11.0 Seconds.  ETA is 16.5 Seconds\n",
      "15000/18770 : Process [Creating DB Data From 18770 Artists For ModVal=67] Has Run For 20.3 Seconds.  ETA is 5.1 Seconds\n",
      "Process [Creating DB Data From 18770 Artists For ModVal=67] Took 24.7 Seconds\n",
      "67/100     : Process [Creating DB Data] Has Run For 45.0 Minutes.  ETA is 22.2 Minutes\n",
      "\n",
      "\n",
      "Current Time is Tue Oct 26, 2021 19:02 for Creating ModData Subset\n",
      "Process [Creating ModData Subset] Took 1.5 Seconds\n",
      "Current Time is Tue Oct 26, 2021 19:02 for Creating DB Data From 19052 Artists For ModVal=68\n",
      "2500/19052 : Process [Creating DB Data From 19052 Artists For ModVal=68] Has Run For 4.3 Seconds.  ETA is 28.5 Seconds\n",
      "7500/19052 : Process [Creating DB Data From 19052 Artists For ModVal=68] Has Run For 10.7 Seconds.  ETA is 16.5 Seconds\n",
      "15000/19052 : Process [Creating DB Data From 19052 Artists For ModVal=68] Has Run For 20.3 Seconds.  ETA is 5.5 Seconds\n",
      "Process [Creating DB Data From 19052 Artists For ModVal=68] Took 25.3 Seconds\n",
      "68/100     : Process [Creating DB Data] Has Run For 45.4 Minutes.  ETA is 21.4 Minutes\n",
      "\n",
      "\n",
      "Current Time is Tue Oct 26, 2021 19:02 for Creating ModData Subset\n",
      "Process [Creating ModData Subset] Took 1.5 Seconds\n",
      "Current Time is Tue Oct 26, 2021 19:02 for Creating DB Data From 18951 Artists For ModVal=69\n",
      "2500/18951 : Process [Creating DB Data From 18951 Artists For ModVal=69] Has Run For 4.7 Seconds.  ETA is 30.9 Seconds\n",
      "7500/18951 : Process [Creating DB Data From 18951 Artists For ModVal=69] Has Run For 11.2 Seconds.  ETA is 17.1 Seconds\n",
      "15000/18951 : Process [Creating DB Data From 18951 Artists For ModVal=69] Has Run For 21.1 Seconds.  ETA is 5.6 Seconds\n",
      "Process [Creating DB Data From 18951 Artists For ModVal=69] Took 26.0 Seconds\n",
      "69/100     : Process [Creating DB Data] Has Run For 45.9 Minutes.  ETA is 20.6 Minutes\n",
      "\n",
      "\n",
      "Current Time is Tue Oct 26, 2021 19:03 for Creating ModData Subset\n",
      "Process [Creating ModData Subset] Took 1.5 Seconds\n",
      "Current Time is Tue Oct 26, 2021 19:03 for Creating DB Data From 18567 Artists For ModVal=70\n",
      "2500/18567 : Process [Creating DB Data From 18567 Artists For ModVal=70] Has Run For 4.6 Seconds.  ETA is 29.6 Seconds\n",
      "7500/18567 : Process [Creating DB Data From 18567 Artists For ModVal=70] Has Run For 11.4 Seconds.  ETA is 16.8 Seconds\n",
      "15000/18567 : Process [Creating DB Data From 18567 Artists For ModVal=70] Has Run For 21.3 Seconds.  ETA is 5.1 Seconds\n",
      "Process [Creating DB Data From 18567 Artists For ModVal=70] Took 25.7 Seconds\n",
      "70/100     : Process [Creating DB Data] Has Run For 46.4 Minutes.  ETA is 19.9 Minutes\n",
      "\n",
      "\n",
      "Current Time is Tue Oct 26, 2021 19:03 for Creating ModData Subset\n",
      "Process [Creating ModData Subset] Took 1.5 Seconds\n",
      "Current Time is Tue Oct 26, 2021 19:03 for Creating DB Data From 18848 Artists For ModVal=71\n",
      "2500/18848 : Process [Creating DB Data From 18848 Artists For ModVal=71] Has Run For 4.8 Seconds.  ETA is 31.4 Seconds\n",
      "7500/18848 : Process [Creating DB Data From 18848 Artists For ModVal=71] Has Run For 11.6 Seconds.  ETA is 17.6 Seconds\n",
      "15000/18848 : Process [Creating DB Data From 18848 Artists For ModVal=71] Has Run For 21.8 Seconds.  ETA is 5.6 Seconds\n",
      "Process [Creating DB Data From 18848 Artists For ModVal=71] Took 26.8 Seconds\n",
      "71/100     : Process [Creating DB Data] Has Run For 46.9 Minutes.  ETA is 19.2 Minutes\n",
      "\n",
      "\n",
      "Current Time is Tue Oct 26, 2021 19:04 for Creating ModData Subset\n",
      "Process [Creating ModData Subset] Took 1.5 Seconds\n",
      "Current Time is Tue Oct 26, 2021 19:04 for Creating DB Data From 18949 Artists For ModVal=72\n",
      "2500/18949 : Process [Creating DB Data From 18949 Artists For ModVal=72] Has Run For 24.6 Seconds.  ETA is 161.9 Seconds\n",
      "7500/18949 : Process [Creating DB Data From 18949 Artists For ModVal=72] Has Run For 31.6 Seconds.  ETA is 48.2 Seconds\n",
      "15000/18949 : Process [Creating DB Data From 18949 Artists For ModVal=72] Has Run For 41.9 Seconds.  ETA is 11.0 Seconds\n",
      "Process [Creating DB Data From 18949 Artists For ModVal=72] Took 47.3 Seconds\n",
      "72/100     : Process [Creating DB Data] Has Run For 47.8 Minutes.  ETA is 18.6 Minutes\n",
      "\n",
      "\n",
      "Current Time is Tue Oct 26, 2021 19:05 for Creating ModData Subset\n",
      "Process [Creating ModData Subset] Took 1.5 Seconds\n",
      "Current Time is Tue Oct 26, 2021 19:05 for Creating DB Data From 18841 Artists For ModVal=73\n",
      "2500/18841 : Process [Creating DB Data From 18841 Artists For ModVal=73] Has Run For 4.7 Seconds.  ETA is 30.7 Seconds\n",
      "7500/18841 : Process [Creating DB Data From 18841 Artists For ModVal=73] Has Run For 11.3 Seconds.  ETA is 17.1 Seconds\n",
      "15000/18841 : Process [Creating DB Data From 18841 Artists For ModVal=73] Has Run For 21.5 Seconds.  ETA is 5.5 Seconds\n",
      "Process [Creating DB Data From 18841 Artists For ModVal=73] Took 26.8 Seconds\n",
      "73/100     : Process [Creating DB Data] Has Run For 48.3 Minutes.  ETA is 17.9 Minutes\n",
      "\n",
      "\n",
      "Current Time is Tue Oct 26, 2021 19:05 for Creating ModData Subset\n",
      "Process [Creating ModData Subset] Took 1.5 Seconds\n",
      "Current Time is Tue Oct 26, 2021 19:05 for Creating DB Data From 18730 Artists For ModVal=74\n",
      "2500/18730 : Process [Creating DB Data From 18730 Artists For ModVal=74] Has Run For 5.5 Seconds.  ETA is 35.7 Seconds\n",
      "7500/18730 : Process [Creating DB Data From 18730 Artists For ModVal=74] Has Run For 17.2 Seconds.  ETA is 25.8 Seconds\n",
      "15000/18730 : Process [Creating DB Data From 18730 Artists For ModVal=74] Has Run For 31.6 Seconds.  ETA is 7.9 Seconds\n",
      "Process [Creating DB Data From 18730 Artists For ModVal=74] Took 38.0 Seconds\n",
      "74/100     : Process [Creating DB Data] Has Run For 49.0 Minutes.  ETA is 17.2 Minutes\n",
      "\n",
      "\n",
      "Current Time is Tue Oct 26, 2021 19:06 for Creating ModData Subset\n",
      "Process [Creating ModData Subset] Took 1.8 Seconds\n",
      "Current Time is Tue Oct 26, 2021 19:06 for Creating DB Data From 18619 Artists For ModVal=75\n",
      "2500/18619 : Process [Creating DB Data From 18619 Artists For ModVal=75] Has Run For 7.1 Seconds.  ETA is 45.8 Seconds\n",
      "7500/18619 : Process [Creating DB Data From 18619 Artists For ModVal=75] Has Run For 17.0 Seconds.  ETA is 25.2 Seconds\n",
      "15000/18619 : Process [Creating DB Data From 18619 Artists For ModVal=75] Has Run For 32.6 Seconds.  ETA is 7.9 Seconds\n",
      "Process [Creating DB Data From 18619 Artists For ModVal=75] Took 37.7 Seconds\n",
      "75/100     : Process [Creating DB Data] Has Run For 49.6 Minutes.  ETA is 16.5 Minutes\n",
      "\n",
      "\n",
      "Current Time is Tue Oct 26, 2021 19:07 for Creating ModData Subset\n",
      "Process [Creating ModData Subset] Took 1.6 Seconds\n",
      "Current Time is Tue Oct 26, 2021 19:07 for Creating DB Data From 18763 Artists For ModVal=76\n",
      "2500/18763 : Process [Creating DB Data From 18763 Artists For ModVal=76] Has Run For 7.5 Seconds.  ETA is 48.8 Seconds\n",
      "7500/18763 : Process [Creating DB Data From 18763 Artists For ModVal=76] Has Run For 15.6 Seconds.  ETA is 23.4 Seconds\n",
      "15000/18763 : Process [Creating DB Data From 18763 Artists For ModVal=76] Has Run For 30.7 Seconds.  ETA is 7.7 Seconds\n",
      "Process [Creating DB Data From 18763 Artists For ModVal=76] Took 38.4 Seconds\n",
      "76/100     : Process [Creating DB Data] Has Run For 50.3 Minutes.  ETA is 15.9 Minutes\n",
      "\n",
      "\n",
      "Current Time is Tue Oct 26, 2021 19:07 for Creating ModData Subset\n",
      "Process [Creating ModData Subset] Took 2.0 Seconds\n",
      "Current Time is Tue Oct 26, 2021 19:07 for Creating DB Data From 18667 Artists For ModVal=77\n",
      "2500/18667 : Process [Creating DB Data From 18667 Artists For ModVal=77] Has Run For 8.1 Seconds.  ETA is 52.4 Seconds\n",
      "7500/18667 : Process [Creating DB Data From 18667 Artists For ModVal=77] Has Run For 18.2 Seconds.  ETA is 27.1 Seconds\n",
      "15000/18667 : Process [Creating DB Data From 18667 Artists For ModVal=77] Has Run For 31.5 Seconds.  ETA is 7.7 Seconds\n",
      "Process [Creating DB Data From 18667 Artists For ModVal=77] Took 36.4 Seconds\n",
      "77/100     : Process [Creating DB Data] Has Run For 51.0 Minutes.  ETA is 15.2 Minutes\n",
      "\n",
      "\n",
      "Current Time is Tue Oct 26, 2021 19:08 for Creating ModData Subset\n",
      "Process [Creating ModData Subset] Took 1.5 Seconds\n",
      "Current Time is Tue Oct 26, 2021 19:08 for Creating DB Data From 18812 Artists For ModVal=78\n",
      "2500/18812 : Process [Creating DB Data From 18812 Artists For ModVal=78] Has Run For 4.5 Seconds.  ETA is 29.4 Seconds\n"
     ]
    },
    {
     "name": "stdout",
     "output_type": "stream",
     "text": [
      "7500/18812 : Process [Creating DB Data From 18812 Artists For ModVal=78] Has Run For 11.1 Seconds.  ETA is 16.7 Seconds\n",
      "15000/18812 : Process [Creating DB Data From 18812 Artists For ModVal=78] Has Run For 20.9 Seconds.  ETA is 5.3 Seconds\n",
      "Process [Creating DB Data From 18812 Artists For ModVal=78] Took 25.7 Seconds\n",
      "78/100     : Process [Creating DB Data] Has Run For 51.5 Minutes.  ETA is 14.5 Minutes\n",
      "\n",
      "\n",
      "Current Time is Tue Oct 26, 2021 19:08 for Creating ModData Subset\n",
      "Process [Creating ModData Subset] Took 1.5 Seconds\n",
      "Current Time is Tue Oct 26, 2021 19:08 for Creating DB Data From 18940 Artists For ModVal=79\n",
      "2500/18940 : Process [Creating DB Data From 18940 Artists For ModVal=79] Has Run For 4.6 Seconds.  ETA is 30.2 Seconds\n",
      "7500/18940 : Process [Creating DB Data From 18940 Artists For ModVal=79] Has Run For 11.1 Seconds.  ETA is 16.9 Seconds\n",
      "15000/18940 : Process [Creating DB Data From 18940 Artists For ModVal=79] Has Run For 21.0 Seconds.  ETA is 5.5 Seconds\n",
      "Process [Creating DB Data From 18940 Artists For ModVal=79] Took 26.0 Seconds\n",
      "79/100     : Process [Creating DB Data] Has Run For 52.0 Minutes.  ETA is 13.8 Minutes\n",
      "\n",
      "\n",
      "Current Time is Tue Oct 26, 2021 19:09 for Creating ModData Subset\n",
      "Process [Creating ModData Subset] Took 1.5 Seconds\n",
      "Current Time is Tue Oct 26, 2021 19:09 for Creating DB Data From 18905 Artists For ModVal=80\n",
      "2500/18905 : Process [Creating DB Data From 18905 Artists For ModVal=80] Has Run For 5.2 Seconds.  ETA is 34.1 Seconds\n",
      "7500/18905 : Process [Creating DB Data From 18905 Artists For ModVal=80] Has Run For 13.2 Seconds.  ETA is 20.1 Seconds\n",
      "15000/18905 : Process [Creating DB Data From 18905 Artists For ModVal=80] Has Run For 29.8 Seconds.  ETA is 7.8 Seconds\n",
      "Process [Creating DB Data From 18905 Artists For ModVal=80] Took 38.9 Seconds\n",
      "80/100     : Process [Creating DB Data] Has Run For 52.7 Minutes.  ETA is 13.2 Minutes\n",
      "\n",
      "\n",
      "Current Time is Tue Oct 26, 2021 19:10 for Creating ModData Subset\n",
      "Process [Creating ModData Subset] Took 1.7 Seconds\n",
      "Current Time is Tue Oct 26, 2021 19:10 for Creating DB Data From 19006 Artists For ModVal=81\n",
      "2500/19006 : Process [Creating DB Data From 19006 Artists For ModVal=81] Has Run For 7.8 Seconds.  ETA is 51.5 Seconds\n",
      "7500/19006 : Process [Creating DB Data From 19006 Artists For ModVal=81] Has Run For 18.4 Seconds.  ETA is 28.2 Seconds\n",
      "15000/19006 : Process [Creating DB Data From 19006 Artists For ModVal=81] Has Run For 31.6 Seconds.  ETA is 8.4 Seconds\n",
      "Process [Creating DB Data From 19006 Artists For ModVal=81] Took 37.8 Seconds\n",
      "81/100     : Process [Creating DB Data] Has Run For 53.4 Minutes.  ETA is 12.5 Minutes\n",
      "\n",
      "\n",
      "Current Time is Tue Oct 26, 2021 19:10 for Creating ModData Subset\n",
      "Process [Creating ModData Subset] Took 1.9 Seconds\n",
      "Current Time is Tue Oct 26, 2021 19:10 for Creating DB Data From 18847 Artists For ModVal=82\n",
      "2500/18847 : Process [Creating DB Data From 18847 Artists For ModVal=82] Has Run For 6.1 Seconds.  ETA is 39.9 Seconds\n",
      "7500/18847 : Process [Creating DB Data From 18847 Artists For ModVal=82] Has Run For 15.2 Seconds.  ETA is 23.0 Seconds\n",
      "15000/18847 : Process [Creating DB Data From 18847 Artists For ModVal=82] Has Run For 30.0 Seconds.  ETA is 7.7 Seconds\n",
      "Process [Creating DB Data From 18847 Artists For ModVal=82] Took 37.1 Seconds\n",
      "82/100     : Process [Creating DB Data] Has Run For 54.1 Minutes.  ETA is 11.9 Minutes\n",
      "\n",
      "\n",
      "Current Time is Tue Oct 26, 2021 19:11 for Creating ModData Subset\n",
      "Process [Creating ModData Subset] Took 2.3 Seconds\n",
      "Current Time is Tue Oct 26, 2021 19:11 for Creating DB Data From 18771 Artists For ModVal=83\n",
      "2500/18771 : Process [Creating DB Data From 18771 Artists For ModVal=83] Has Run For 10.7 Seconds.  ETA is 69.6 Seconds\n",
      "7500/18771 : Process [Creating DB Data From 18771 Artists For ModVal=83] Has Run For 18.7 Seconds.  ETA is 28.1 Seconds\n",
      "15000/18771 : Process [Creating DB Data From 18771 Artists For ModVal=83] Has Run For 31.7 Seconds.  ETA is 8.0 Seconds\n",
      "Process [Creating DB Data From 18771 Artists For ModVal=83] Took 38.0 Seconds\n",
      "83/100     : Process [Creating DB Data] Has Run For 54.8 Minutes.  ETA is 11.2 Minutes\n",
      "\n",
      "\n",
      "Current Time is Tue Oct 26, 2021 19:12 for Creating ModData Subset\n",
      "Process [Creating ModData Subset] Took 2.1 Seconds\n",
      "Current Time is Tue Oct 26, 2021 19:12 for Creating DB Data From 18709 Artists For ModVal=84\n",
      "2500/18709 : Process [Creating DB Data From 18709 Artists For ModVal=84] Has Run For 7.6 Seconds.  ETA is 49.3 Seconds\n",
      "7500/18709 : Process [Creating DB Data From 18709 Artists For ModVal=84] Has Run For 17.9 Seconds.  ETA is 26.8 Seconds\n",
      "15000/18709 : Process [Creating DB Data From 18709 Artists For ModVal=84] Has Run For 33.9 Seconds.  ETA is 8.4 Seconds\n",
      "Process [Creating DB Data From 18709 Artists For ModVal=84] Took 42.4 Seconds\n",
      "84/100     : Process [Creating DB Data] Has Run For 55.5 Minutes.  ETA is 10.6 Minutes\n",
      "\n",
      "\n",
      "Current Time is Tue Oct 26, 2021 19:12 for Creating ModData Subset\n",
      "Process [Creating ModData Subset] Took 2.2 Seconds\n",
      "Current Time is Tue Oct 26, 2021 19:12 for Creating DB Data From 18772 Artists For ModVal=85\n",
      "2500/18772 : Process [Creating DB Data From 18772 Artists For ModVal=85] Has Run For 9.2 Seconds.  ETA is 59.9 Seconds\n",
      "7500/18772 : Process [Creating DB Data From 18772 Artists For ModVal=85] Has Run For 17.1 Seconds.  ETA is 25.7 Seconds\n",
      "15000/18772 : Process [Creating DB Data From 18772 Artists For ModVal=85] Has Run For 29.3 Seconds.  ETA is 7.4 Seconds\n",
      "Process [Creating DB Data From 18772 Artists For ModVal=85] Took 34.6 Seconds\n",
      "85/100     : Process [Creating DB Data] Has Run For 56.2 Minutes.  ETA is 9.9 Minutes\n",
      "\n",
      "\n",
      "Current Time is Tue Oct 26, 2021 19:13 for Creating ModData Subset\n",
      "Process [Creating ModData Subset] Took 1.6 Seconds\n",
      "Current Time is Tue Oct 26, 2021 19:13 for Creating DB Data From 18659 Artists For ModVal=86\n",
      "2500/18659 : Process [Creating DB Data From 18659 Artists For ModVal=86] Has Run For 5.4 Seconds.  ETA is 34.9 Seconds\n",
      "7500/18659 : Process [Creating DB Data From 18659 Artists For ModVal=86] Has Run For 13.1 Seconds.  ETA is 19.5 Seconds\n",
      "15000/18659 : Process [Creating DB Data From 18659 Artists For ModVal=86] Has Run For 24.3 Seconds.  ETA is 5.9 Seconds\n",
      "Process [Creating DB Data From 18659 Artists For ModVal=86] Took 29.6 Seconds\n",
      "86/100     : Process [Creating DB Data] Has Run For 56.7 Minutes.  ETA is 9.2 Minutes\n",
      "\n",
      "\n",
      "Current Time is Tue Oct 26, 2021 19:14 for Creating ModData Subset\n",
      "Process [Creating ModData Subset] Took 1.6 Seconds\n",
      "Current Time is Tue Oct 26, 2021 19:14 for Creating DB Data From 18811 Artists For ModVal=87\n",
      "2500/18811 : Process [Creating DB Data From 18811 Artists For ModVal=87] Has Run For 5.7 Seconds.  ETA is 37.2 Seconds\n",
      "7500/18811 : Process [Creating DB Data From 18811 Artists For ModVal=87] Has Run For 12.8 Seconds.  ETA is 19.3 Seconds\n",
      "15000/18811 : Process [Creating DB Data From 18811 Artists For ModVal=87] Has Run For 23.4 Seconds.  ETA is 5.9 Seconds\n",
      "Process [Creating DB Data From 18811 Artists For ModVal=87] Took 29.6 Seconds\n",
      "87/100     : Process [Creating DB Data] Has Run For 57.3 Minutes.  ETA is 8.6 Minutes\n",
      "\n",
      "\n",
      "Current Time is Tue Oct 26, 2021 19:14 for Creating ModData Subset\n",
      "Process [Creating ModData Subset] Took 1.8 Seconds\n",
      "Current Time is Tue Oct 26, 2021 19:14 for Creating DB Data From 18937 Artists For ModVal=88\n",
      "2500/18937 : Process [Creating DB Data From 18937 Artists For ModVal=88] Has Run For 5.2 Seconds.  ETA is 34.2 Seconds\n",
      "7500/18937 : Process [Creating DB Data From 18937 Artists For ModVal=88] Has Run For 12.4 Seconds.  ETA is 18.9 Seconds\n",
      "15000/18937 : Process [Creating DB Data From 18937 Artists For ModVal=88] Has Run For 23.4 Seconds.  ETA is 6.1 Seconds\n",
      "Process [Creating DB Data From 18937 Artists For ModVal=88] Took 29.6 Seconds\n",
      "88/100     : Process [Creating DB Data] Has Run For 57.8 Minutes.  ETA is 7.9 Minutes\n",
      "\n",
      "\n",
      "Current Time is Tue Oct 26, 2021 19:15 for Creating ModData Subset\n",
      "Process [Creating ModData Subset] Took 1.8 Seconds\n",
      "Current Time is Tue Oct 26, 2021 19:15 for Creating DB Data From 18844 Artists For ModVal=89\n",
      "2500/18844 : Process [Creating DB Data From 18844 Artists For ModVal=89] Has Run For 7.4 Seconds.  ETA is 48.4 Seconds\n",
      "7500/18844 : Process [Creating DB Data From 18844 Artists For ModVal=89] Has Run For 19.5 Seconds.  ETA is 29.5 Seconds\n"
     ]
    },
    {
     "name": "stdout",
     "output_type": "stream",
     "text": [
      "15000/18844 : Process [Creating DB Data From 18844 Artists For ModVal=89] Has Run For 35.4 Seconds.  ETA is 9.1 Seconds\n",
      "Process [Creating DB Data From 18844 Artists For ModVal=89] Took 41.9 Seconds\n",
      "89/100     : Process [Creating DB Data] Has Run For 58.6 Minutes.  ETA is 7.2 Minutes\n",
      "\n",
      "\n",
      "Current Time is Tue Oct 26, 2021 19:16 for Creating ModData Subset\n",
      "Process [Creating ModData Subset] Took 2.3 Seconds\n",
      "Current Time is Tue Oct 26, 2021 19:16 for Creating DB Data From 18944 Artists For ModVal=90\n",
      "2500/18944 : Process [Creating DB Data From 18944 Artists For ModVal=90] Has Run For 5.9 Seconds.  ETA is 38.8 Seconds\n",
      "7500/18944 : Process [Creating DB Data From 18944 Artists For ModVal=90] Has Run For 13.4 Seconds.  ETA is 20.4 Seconds\n",
      "15000/18944 : Process [Creating DB Data From 18944 Artists For ModVal=90] Has Run For 24.8 Seconds.  ETA is 6.5 Seconds\n",
      "Process [Creating DB Data From 18944 Artists For ModVal=90] Took 29.7 Seconds\n",
      "90/100     : Process [Creating DB Data] Has Run For 59.2 Minutes.  ETA is 6.6 Minutes\n",
      "\n",
      "\n",
      "Current Time is Tue Oct 26, 2021 19:16 for Creating ModData Subset\n",
      "Process [Creating ModData Subset] Took 1.5 Seconds\n",
      "Current Time is Tue Oct 26, 2021 19:16 for Creating DB Data From 18844 Artists For ModVal=91\n",
      "2500/18844 : Process [Creating DB Data From 18844 Artists For ModVal=91] Has Run For 7.2 Seconds.  ETA is 47.1 Seconds\n",
      "7500/18844 : Process [Creating DB Data From 18844 Artists For ModVal=91] Has Run For 14.2 Seconds.  ETA is 21.5 Seconds\n",
      "15000/18844 : Process [Creating DB Data From 18844 Artists For ModVal=91] Has Run For 23.9 Seconds.  ETA is 6.1 Seconds\n",
      "Process [Creating DB Data From 18844 Artists For ModVal=91] Took 28.8 Seconds\n",
      "91/100     : Process [Creating DB Data] Has Run For 59.7 Minutes.  ETA is 5.9 Minutes\n",
      "\n",
      "\n",
      "Current Time is Tue Oct 26, 2021 19:17 for Creating ModData Subset\n",
      "Process [Creating ModData Subset] Took 1.5 Seconds\n",
      "Current Time is Tue Oct 26, 2021 19:17 for Creating DB Data From 18943 Artists For ModVal=92\n",
      "2500/18943 : Process [Creating DB Data From 18943 Artists For ModVal=92] Has Run For 4.7 Seconds.  ETA is 30.9 Seconds\n",
      "7500/18943 : Process [Creating DB Data From 18943 Artists For ModVal=92] Has Run For 11.3 Seconds.  ETA is 17.2 Seconds\n",
      "15000/18943 : Process [Creating DB Data From 18943 Artists For ModVal=92] Has Run For 21.1 Seconds.  ETA is 5.5 Seconds\n",
      "Process [Creating DB Data From 18943 Artists For ModVal=92] Took 25.9 Seconds\n",
      "92/100     : Process [Creating DB Data] Has Run For 60.2 Minutes.  ETA is 5.2 Minutes\n",
      "\n",
      "\n",
      "Current Time is Tue Oct 26, 2021 19:17 for Creating ModData Subset\n",
      "Process [Creating ModData Subset] Took 1.5 Seconds\n",
      "Current Time is Tue Oct 26, 2021 19:17 for Creating DB Data From 18751 Artists For ModVal=93\n",
      "2500/18751 : Process [Creating DB Data From 18751 Artists For ModVal=93] Has Run For 4.7 Seconds.  ETA is 30.6 Seconds\n",
      "7500/18751 : Process [Creating DB Data From 18751 Artists For ModVal=93] Has Run For 11.6 Seconds.  ETA is 17.4 Seconds\n",
      "15000/18751 : Process [Creating DB Data From 18751 Artists For ModVal=93] Has Run For 21.4 Seconds.  ETA is 5.4 Seconds\n",
      "Process [Creating DB Data From 18751 Artists For ModVal=93] Took 26.0 Seconds\n",
      "93/100     : Process [Creating DB Data] Has Run For 60.7 Minutes.  ETA is 4.6 Minutes\n",
      "\n",
      "\n",
      "Current Time is Tue Oct 26, 2021 19:18 for Creating ModData Subset\n",
      "Process [Creating ModData Subset] Took 1.5 Seconds\n",
      "Current Time is Tue Oct 26, 2021 19:18 for Creating DB Data From 18798 Artists For ModVal=94\n",
      "2500/18798 : Process [Creating DB Data From 18798 Artists For ModVal=94] Has Run For 4.6 Seconds.  ETA is 30.0 Seconds\n",
      "7500/18798 : Process [Creating DB Data From 18798 Artists For ModVal=94] Has Run For 11.4 Seconds.  ETA is 17.2 Seconds\n",
      "15000/18798 : Process [Creating DB Data From 18798 Artists For ModVal=94] Has Run For 21.6 Seconds.  ETA is 5.5 Seconds\n",
      "Process [Creating DB Data From 18798 Artists For ModVal=94] Took 26.2 Seconds\n",
      "94/100     : Process [Creating DB Data] Has Run For 61.1 Minutes.  ETA is 3.9 Minutes\n",
      "\n",
      "\n",
      "Current Time is Tue Oct 26, 2021 19:18 for Creating ModData Subset\n",
      "Process [Creating ModData Subset] Took 1.5 Seconds\n",
      "Current Time is Tue Oct 26, 2021 19:18 for Creating DB Data From 19086 Artists For ModVal=95\n",
      "2500/19086 : Process [Creating DB Data From 19086 Artists For ModVal=95] Has Run For 4.6 Seconds.  ETA is 30.5 Seconds\n",
      "7500/19086 : Process [Creating DB Data From 19086 Artists For ModVal=95] Has Run For 11.3 Seconds.  ETA is 17.5 Seconds\n",
      "15000/19086 : Process [Creating DB Data From 19086 Artists For ModVal=95] Has Run For 21.4 Seconds.  ETA is 5.8 Seconds\n",
      "Process [Creating DB Data From 19086 Artists For ModVal=95] Took 26.4 Seconds\n",
      "95/100     : Process [Creating DB Data] Has Run For 61.6 Minutes.  ETA is 3.2 Minutes\n",
      "\n",
      "\n",
      "Current Time is Tue Oct 26, 2021 19:19 for Creating ModData Subset\n",
      "Process [Creating ModData Subset] Took 1.5 Seconds\n",
      "Current Time is Tue Oct 26, 2021 19:19 for Creating DB Data From 18603 Artists For ModVal=96\n",
      "2500/18603 : Process [Creating DB Data From 18603 Artists For ModVal=96] Has Run For 4.7 Seconds.  ETA is 30.3 Seconds\n",
      "7500/18603 : Process [Creating DB Data From 18603 Artists For ModVal=96] Has Run For 11.3 Seconds.  ETA is 16.7 Seconds\n",
      "15000/18603 : Process [Creating DB Data From 18603 Artists For ModVal=96] Has Run For 21.0 Seconds.  ETA is 5.0 Seconds\n",
      "Process [Creating DB Data From 18603 Artists For ModVal=96] Took 25.4 Seconds\n",
      "96/100     : Process [Creating DB Data] Has Run For 62.1 Minutes.  ETA is 2.6 Minutes\n",
      "\n",
      "\n",
      "Current Time is Tue Oct 26, 2021 19:19 for Creating ModData Subset\n",
      "Process [Creating ModData Subset] Took 1.5 Seconds\n",
      "Current Time is Tue Oct 26, 2021 19:19 for Creating DB Data From 18816 Artists For ModVal=97\n",
      "2500/18816 : Process [Creating DB Data From 18816 Artists For ModVal=97] Has Run For 5.1 Seconds.  ETA is 33.3 Seconds\n",
      "7500/18816 : Process [Creating DB Data From 18816 Artists For ModVal=97] Has Run For 11.7 Seconds.  ETA is 17.7 Seconds\n",
      "15000/18816 : Process [Creating DB Data From 18816 Artists For ModVal=97] Has Run For 21.6 Seconds.  ETA is 5.5 Seconds\n",
      "Process [Creating DB Data From 18816 Artists For ModVal=97] Took 27.3 Seconds\n",
      "97/100     : Process [Creating DB Data] Has Run For 62.6 Minutes.  ETA is 1.9 Minutes\n",
      "\n",
      "\n",
      "Current Time is Tue Oct 26, 2021 19:20 for Creating ModData Subset\n",
      "Process [Creating ModData Subset] Took 1.5 Seconds\n",
      "Current Time is Tue Oct 26, 2021 19:20 for Creating DB Data From 18720 Artists For ModVal=98\n",
      "2500/18720 : Process [Creating DB Data From 18720 Artists For ModVal=98] Has Run For 4.8 Seconds.  ETA is 31.1 Seconds\n",
      "7500/18720 : Process [Creating DB Data From 18720 Artists For ModVal=98] Has Run For 11.5 Seconds.  ETA is 17.2 Seconds\n",
      "15000/18720 : Process [Creating DB Data From 18720 Artists For ModVal=98] Has Run For 21.2 Seconds.  ETA is 5.3 Seconds\n",
      "Process [Creating DB Data From 18720 Artists For ModVal=98] Took 25.8 Seconds\n",
      "98/100     : Process [Creating DB Data] Has Run For 63.1 Minutes.  ETA is 1.3 Minutes\n",
      "\n",
      "\n",
      "Current Time is Tue Oct 26, 2021 19:20 for Creating ModData Subset\n",
      "Process [Creating ModData Subset] Took 1.5 Seconds\n",
      "Current Time is Tue Oct 26, 2021 19:20 for Creating DB Data From 18948 Artists For ModVal=99\n",
      "2500/18948 : Process [Creating DB Data From 18948 Artists For ModVal=99] Has Run For 4.9 Seconds.  ETA is 32.2 Seconds\n",
      "7500/18948 : Process [Creating DB Data From 18948 Artists For ModVal=99] Has Run For 11.9 Seconds.  ETA is 18.2 Seconds\n",
      "15000/18948 : Process [Creating DB Data From 18948 Artists For ModVal=99] Has Run For 21.9 Seconds.  ETA is 5.8 Seconds\n",
      "Process [Creating DB Data From 18948 Artists For ModVal=99] Took 27.2 Seconds\n",
      "99/100     : Process [Creating DB Data] Has Run For 63.6 Minutes.  ETA is 0.6 Minutes\n",
      "\n",
      "\n",
      "Process [Creating DB Data] Took 63.6 Minutes\n"
     ]
    }
   ],
   "source": [
    "from artistDBBase import artistDBBase, artistDBDataClass\n",
    "from artistDBBase import artistDBNameClass, artistDBMetaClass, artistDBIDClass, artistDBURLClass, artistDBPageClass\n",
    "from artistDBBase import artistDBProfileClass, artistDBMediaClass, artistDBMediaAlbumClass\n",
    "from artistDBBase import artistDBMediaDataClass, artistDBMediaCountsClass, artistDBFileInfoClass\n",
    "from artistDBBase import artistDBTextClass, artistDBLinkClass\n",
    "from strUtils import fixName\n",
    "from dbUtils import utilsDiscogs\n",
    "\n",
    "def getMediaCounts(media):\n",
    "    amcc = artistDBMediaCountsClass()\n",
    "\n",
    "    credittype = \"Releases\"\n",
    "    if amcc.counts.get(credittype) == None:\n",
    "        amcc.counts[credittype] = {}\n",
    "    for creditsubtype in media.media.keys():\n",
    "        amcc.counts[credittype][creditsubtype] = int(len(media.media[creditsubtype]))\n",
    "\n",
    "    return amcc\n",
    "\n",
    "savedir = setDir(basedir, \"MusicBrainzMetadata\")\n",
    "tsAll = timestat(\"Creating DB Data\")\n",
    "for m,modVal in enumerate(range(Nmod)):\n",
    "    \n",
    "    ts = timestat(\"Creating ModData Subset\")\n",
    "    artistModData = masterArtistData[masterArtistData[\"MyArtistID\"].apply(lambda x: int(x)%Nmod) == modVal]\n",
    "    releaseGroupModData = masterReleaseGroupData[masterReleaseGroupData[\"ArtistID\"].isin(artistModData.index)]\n",
    "    ts.stop()\n",
    "\n",
    "    modValData = {}\n",
    "    N = artistModData.shape[0]\n",
    "    tsMod = timestat(\"Creating DB Data From {0} Artists For ModVal={1}\".format(N,modVal))\n",
    "    for i,(artistID,artistData) in enumerate(artistModData.iterrows()):\n",
    "        artistName  = artistData[\"ArtistName\"]\n",
    "        artistGID   = artistData['ArtistGID']\n",
    "        url         = \"https://musicbrainz.org/artist/{0}\".format(artistGID)\n",
    "        myID        = artistData[\"MyArtistID\"]\n",
    "\n",
    "        generalData = {}\n",
    "        generalData[\"SortName\"]   = artistData[\"ArtistSortName\"]\n",
    "        generalData[\"Aliases\"]    = artistData[\"Aliases\"]\n",
    "        generalData[\"Gender\"]     = artistData[\"Gender\"]\n",
    "        generalData[\"County\"]     = artistData[\"Country\"]\n",
    "        generalData[\"Formed\"]     = artistData[\"Formed\"]\n",
    "        generalData[\"Disbanded\"]  = artistData[\"Disbanded\"]\n",
    "        generalData[\"ArtistType\"] = artistData[\"ArtistType\"]\n",
    "        generalData[\"ISNI\"]       = artistData[\"ISNICode\"]\n",
    "        generalData = {k: v for k,v in generalData.items() if v is not None}\n",
    "        generalData = generalData if len(generalData) > 0 else None\n",
    "\n",
    "        \n",
    "        ########################################################################\n",
    "        # Get Releases\n",
    "        ########################################################################\n",
    "        artistReleaseGroupData = releaseGroupModData[releaseGroupModData[\"ArtistID\"] == artistID]\n",
    "        mediaData = {}\n",
    "        for mediaName,mediaNameData in artistReleaseGroupData.groupby(\"ReleaseGroupKey\"):\n",
    "            mediaData[mediaName] = []\n",
    "            for code, releaseGroupInfo in mediaNameData.iterrows():\n",
    "                album        = releaseGroupInfo['ReleaseGroupName']\n",
    "                albumURL     = \"https://musicbrainz.org/releasegroup/{0}\".format(releaseGroupInfo['ReleaseGroupGID'])\n",
    "                albumArtists = [artistName]\n",
    "            \n",
    "                amdc = artistDBMediaDataClass(album=album, url=albumURL, artist=albumArtists, code=code, year=None)\n",
    "                mediaData[mediaName].append(amdc)\n",
    "            \n",
    "            \n",
    "        artist      = artistDBNameClass(name=artistName, err=None)\n",
    "        meta        = artistDBMetaClass(title=None, url=url)\n",
    "        url         = artistDBURLClass(url=url)\n",
    "        ID          = artistDBIDClass(ID=myID)\n",
    "        pages       = artistDBPageClass(ppp=1, tot=1, redo=False, more=False)\n",
    "        profile     = artistDBProfileClass(general=generalData)\n",
    "        media       = artistDBMediaClass()\n",
    "        media.media = mediaData\n",
    "        mediaCounts = getMediaCounts(media)\n",
    "        info        = artistDBFileInfoClass(info=None)\n",
    "        \n",
    "        modValData[myID] = artistDBDataClass(artist=artist, meta=meta, url=url, ID=ID, pages=pages, profile=profile, mediaCounts=mediaCounts, media=media, info=info)\n",
    "        \n",
    "        if (i+1) % 7500 == 0 or (i+1) == 2500:\n",
    "            tsMod.update(n=i+1, N=N)\n",
    "    tsMod.stop()\n",
    "            \n",
    "    outdir = setDir(basedir, \"MusicBrainzDBData\")\n",
    "    io.save(idata=Series(modValData), ifile=setFile(outdir, \"{0}-{1}.p\".format(modVal, \"DB\")))\n",
    "    tsAll.update(n=m, N=Nmod)\n",
    "    print(\"\\n\")\n",
    "tsAll.stop()"
   ]
  },
  {
   "cell_type": "markdown",
   "metadata": {},
   "source": [
    "# Merge With Known DB"
   ]
  },
  {
   "cell_type": "code",
   "execution_count": 12,
   "metadata": {},
   "outputs": [
    {
     "name": "stdout",
     "output_type": "stream",
     "text": [
      "Current Time is Wed Oct 27, 2021 08:35 for Merging DBs\n",
      "1/100      : Process [Merging DBs] Has Run For 7.0 Seconds.  ETA is 693.0 Seconds\n",
      "2/100      : Process [Merging DBs] Has Run For 14.0 Seconds.  ETA is 686.0 Seconds\n",
      "3/100      : Process [Merging DBs] Has Run For 20.6 Seconds.  ETA is 666.1 Seconds\n",
      "4/100      : Process [Merging DBs] Has Run For 27.8 Seconds.  ETA is 667.2 Seconds\n",
      "5/100      : Process [Merging DBs] Has Run For 35.4 Seconds.  ETA is 672.6 Seconds\n",
      "6/100      : Process [Merging DBs] Has Run For 42.0 Seconds.  ETA is 658.0 Seconds\n",
      "7/100      : Process [Merging DBs] Has Run For 48.9 Seconds.  ETA is 649.7 Seconds\n",
      "8/100      : Process [Merging DBs] Has Run For 56.1 Seconds.  ETA is 645.1 Seconds\n",
      "9/100      : Process [Merging DBs] Has Run For 1.1 Minutes.  ETA is 11.1 Minutes\n",
      "10/100     : Process [Merging DBs] Has Run For 1.2 Minutes.  ETA is 10.8 Minutes\n",
      "11/100     : Process [Merging DBs] Has Run For 1.3 Minutes.  ETA is 10.5 Minutes\n",
      "12/100     : Process [Merging DBs] Has Run For 1.4 Minutes.  ETA is 10.3 Minutes\n",
      "13/100     : Process [Merging DBs] Has Run For 1.5 Minutes.  ETA is 10.0 Minutes\n",
      "14/100     : Process [Merging DBs] Has Run For 1.7 Minutes.  ETA is 10.4 Minutes\n",
      "15/100     : Process [Merging DBs] Has Run For 1.8 Minutes.  ETA is 10.2 Minutes\n",
      "16/100     : Process [Merging DBs] Has Run For 1.9 Minutes.  ETA is 10.0 Minutes\n",
      "17/100     : Process [Merging DBs] Has Run For 2.0 Minutes.  ETA is 9.8 Minutes\n",
      "18/100     : Process [Merging DBs] Has Run For 2.1 Minutes.  ETA is 9.6 Minutes\n",
      "19/100     : Process [Merging DBs] Has Run For 2.3 Minutes.  ETA is 9.8 Minutes\n",
      "20/100     : Process [Merging DBs] Has Run For 2.4 Minutes.  ETA is 9.6 Minutes\n",
      "21/100     : Process [Merging DBs] Has Run For 2.5 Minutes.  ETA is 9.4 Minutes\n",
      "22/100     : Process [Merging DBs] Has Run For 2.6 Minutes.  ETA is 9.2 Minutes\n",
      "23/100     : Process [Merging DBs] Has Run For 2.7 Minutes.  ETA is 9.0 Minutes\n",
      "24/100     : Process [Merging DBs] Has Run For 2.8 Minutes.  ETA is 8.9 Minutes\n",
      "25/100     : Process [Merging DBs] Has Run For 3.0 Minutes.  ETA is 9.0 Minutes\n",
      "26/100     : Process [Merging DBs] Has Run For 3.1 Minutes.  ETA is 8.8 Minutes\n",
      "27/100     : Process [Merging DBs] Has Run For 3.2 Minutes.  ETA is 8.7 Minutes\n",
      "28/100     : Process [Merging DBs] Has Run For 3.3 Minutes.  ETA is 8.5 Minutes\n",
      "29/100     : Process [Merging DBs] Has Run For 3.4 Minutes.  ETA is 8.3 Minutes\n",
      "30/100     : Process [Merging DBs] Has Run For 3.6 Minutes.  ETA is 8.4 Minutes\n",
      "31/100     : Process [Merging DBs] Has Run For 3.7 Minutes.  ETA is 8.2 Minutes\n",
      "32/100     : Process [Merging DBs] Has Run For 3.8 Minutes.  ETA is 8.1 Minutes\n",
      "33/100     : Process [Merging DBs] Has Run For 3.9 Minutes.  ETA is 7.9 Minutes\n",
      "34/100     : Process [Merging DBs] Has Run For 4.0 Minutes.  ETA is 7.8 Minutes\n",
      "35/100     : Process [Merging DBs] Has Run For 4.2 Minutes.  ETA is 7.8 Minutes\n",
      "36/100     : Process [Merging DBs] Has Run For 4.3 Minutes.  ETA is 7.6 Minutes\n",
      "37/100     : Process [Merging DBs] Has Run For 4.4 Minutes.  ETA is 7.5 Minutes\n",
      "38/100     : Process [Merging DBs] Has Run For 4.5 Minutes.  ETA is 7.3 Minutes\n",
      "39/100     : Process [Merging DBs] Has Run For 4.6 Minutes.  ETA is 7.2 Minutes\n",
      "40/100     : Process [Merging DBs] Has Run For 4.7 Minutes.  ETA is 7.0 Minutes\n",
      "41/100     : Process [Merging DBs] Has Run For 4.9 Minutes.  ETA is 7.1 Minutes\n",
      "42/100     : Process [Merging DBs] Has Run For 5.0 Minutes.  ETA is 6.9 Minutes\n",
      "43/100     : Process [Merging DBs] Has Run For 5.1 Minutes.  ETA is 6.8 Minutes\n",
      "44/100     : Process [Merging DBs] Has Run For 5.2 Minutes.  ETA is 6.6 Minutes\n",
      "45/100     : Process [Merging DBs] Has Run For 5.4 Minutes.  ETA is 6.6 Minutes\n",
      "46/100     : Process [Merging DBs] Has Run For 5.5 Minutes.  ETA is 6.5 Minutes\n",
      "47/100     : Process [Merging DBs] Has Run For 5.6 Minutes.  ETA is 6.3 Minutes\n",
      "48/100     : Process [Merging DBs] Has Run For 5.7 Minutes.  ETA is 6.2 Minutes\n",
      "49/100     : Process [Merging DBs] Has Run For 5.8 Minutes.  ETA is 6.0 Minutes\n",
      "50/100     : Process [Merging DBs] Has Run For 6.0 Minutes.  ETA is 6.0 Minutes\n",
      "51/100     : Process [Merging DBs] Has Run For 6.1 Minutes.  ETA is 5.9 Minutes\n",
      "52/100     : Process [Merging DBs] Has Run For 6.3 Minutes.  ETA is 5.8 Minutes\n",
      "53/100     : Process [Merging DBs] Has Run For 6.4 Minutes.  ETA is 5.7 Minutes\n",
      "54/100     : Process [Merging DBs] Has Run For 6.5 Minutes.  ETA is 5.5 Minutes\n",
      "55/100     : Process [Merging DBs] Has Run For 6.7 Minutes.  ETA is 5.5 Minutes\n",
      "56/100     : Process [Merging DBs] Has Run For 6.8 Minutes.  ETA is 5.3 Minutes\n",
      "57/100     : Process [Merging DBs] Has Run For 7.0 Minutes.  ETA is 5.3 Minutes\n",
      "58/100     : Process [Merging DBs] Has Run For 7.2 Minutes.  ETA is 5.2 Minutes\n",
      "59/100     : Process [Merging DBs] Has Run For 7.3 Minutes.  ETA is 5.1 Minutes\n",
      "60/100     : Process [Merging DBs] Has Run For 7.5 Minutes.  ETA is 5.0 Minutes\n",
      "61/100     : Process [Merging DBs] Has Run For 7.7 Minutes.  ETA is 4.9 Minutes\n",
      "62/100     : Process [Merging DBs] Has Run For 7.8 Minutes.  ETA is 4.8 Minutes\n",
      "63/100     : Process [Merging DBs] Has Run For 8.0 Minutes.  ETA is 4.7 Minutes\n",
      "64/100     : Process [Merging DBs] Has Run For 8.1 Minutes.  ETA is 4.6 Minutes\n",
      "65/100     : Process [Merging DBs] Has Run For 8.3 Minutes.  ETA is 4.5 Minutes\n",
      "66/100     : Process [Merging DBs] Has Run For 8.4 Minutes.  ETA is 4.3 Minutes\n",
      "67/100     : Process [Merging DBs] Has Run For 8.6 Minutes.  ETA is 4.2 Minutes\n",
      "68/100     : Process [Merging DBs] Has Run For 8.7 Minutes.  ETA is 4.1 Minutes\n",
      "69/100     : Process [Merging DBs] Has Run For 8.9 Minutes.  ETA is 4.0 Minutes\n",
      "70/100     : Process [Merging DBs] Has Run For 9.1 Minutes.  ETA is 3.9 Minutes\n",
      "71/100     : Process [Merging DBs] Has Run For 9.2 Minutes.  ETA is 3.8 Minutes\n",
      "72/100     : Process [Merging DBs] Has Run For 9.4 Minutes.  ETA is 3.7 Minutes\n",
      "73/100     : Process [Merging DBs] Has Run For 9.6 Minutes.  ETA is 3.6 Minutes\n",
      "74/100     : Process [Merging DBs] Has Run For 9.8 Minutes.  ETA is 3.4 Minutes\n",
      "75/100     : Process [Merging DBs] Has Run For 9.9 Minutes.  ETA is 3.3 Minutes\n",
      "76/100     : Process [Merging DBs] Has Run For 10.1 Minutes.  ETA is 3.2 Minutes\n",
      "77/100     : Process [Merging DBs] Has Run For 10.3 Minutes.  ETA is 3.1 Minutes\n",
      "78/100     : Process [Merging DBs] Has Run For 10.4 Minutes.  ETA is 2.9 Minutes\n",
      "79/100     : Process [Merging DBs] Has Run For 10.6 Minutes.  ETA is 2.8 Minutes\n",
      "80/100     : Process [Merging DBs] Has Run For 10.7 Minutes.  ETA is 2.7 Minutes\n",
      "81/100     : Process [Merging DBs] Has Run For 10.8 Minutes.  ETA is 2.5 Minutes\n",
      "82/100     : Process [Merging DBs] Has Run For 10.9 Minutes.  ETA is 2.4 Minutes\n",
      "83/100     : Process [Merging DBs] Has Run For 11.1 Minutes.  ETA is 2.3 Minutes\n",
      "84/100     : Process [Merging DBs] Has Run For 11.2 Minutes.  ETA is 2.1 Minutes\n",
      "85/100     : Process [Merging DBs] Has Run For 11.3 Minutes.  ETA is 2.0 Minutes\n",
      "86/100     : Process [Merging DBs] Has Run For 11.4 Minutes.  ETA is 1.9 Minutes\n",
      "87/100     : Process [Merging DBs] Has Run For 11.6 Minutes.  ETA is 1.7 Minutes\n",
      "88/100     : Process [Merging DBs] Has Run For 11.7 Minutes.  ETA is 1.6 Minutes\n",
      "89/100     : Process [Merging DBs] Has Run For 11.8 Minutes.  ETA is 1.5 Minutes\n",
      "90/100     : Process [Merging DBs] Has Run For 11.9 Minutes.  ETA is 1.3 Minutes\n",
      "91/100     : Process [Merging DBs] Has Run For 12.0 Minutes.  ETA is 1.2 Minutes\n",
      "92/100     : Process [Merging DBs] Has Run For 12.2 Minutes.  ETA is 1.1 Minutes\n",
      "93/100     : Process [Merging DBs] Has Run For 12.3 Minutes.  ETA is 0.9 Minutes\n",
      "94/100     : Process [Merging DBs] Has Run For 12.4 Minutes.  ETA is 0.8 Minutes\n",
      "95/100     : Process [Merging DBs] Has Run For 12.5 Minutes.  ETA is 0.7 Minutes\n",
      "96/100     : Process [Merging DBs] Has Run For 12.7 Minutes.  ETA is 0.5 Minutes\n",
      "97/100     : Process [Merging DBs] Has Run For 12.8 Minutes.  ETA is 0.4 Minutes\n",
      "98/100     : Process [Merging DBs] Has Run For 12.9 Minutes.  ETA is 0.3 Minutes\n",
      "99/100     : Process [Merging DBs] Has Run For 13.0 Minutes.  ETA is 0.1 Minutes\n",
      "100/100    : Process [Merging DBs] Has Run For 13.1 Minutes.  ETA is 0.0 Minutes\n",
      "Process [Merging DBs] Took 13.1 Minutes\n"
     ]
    }
   ],
   "source": [
    "ts = timestat(\"Merging DBs\")\n",
    "for n,modVal in enumerate(range(100)):\n",
    "    newDB = Series(io.get(\"/Volumes/Seagate/DB/MusicBrainzDBData/{0}-DB.p\".format(modVal)))\n",
    "    known = io.get(\"/Users/tgadfort/dbdiscogs/artists-musicbrainz-db/{0}-DB.p\".format(modVal))\n",
    "    \n",
    "    toMerge = newDB[~newDB.index.isin(known.index)]\n",
    "    fullDB = concat([known,toMerge]).sort_index()\n",
    "    io.save(idata=fullDB, ifile=\"/Users/tgadfort/dbdiscogs/artists-musicbrainz-db/full/{0}-DB.p\".format(modVal))\n",
    "    ts.update(n=n+1,N=100)\n",
    "ts.stop()"
   ]
  },
  {
   "cell_type": "code",
   "execution_count": 11,
   "metadata": {},
   "outputs": [
    {
     "data": {
      "text/plain": [
       "(8358,)"
      ]
     },
     "execution_count": 11,
     "metadata": {},
     "output_type": "execute_result"
    }
   ],
   "source": [
    "known.shape"
   ]
  },
  {
   "cell_type": "code",
   "execution_count": null,
   "metadata": {},
   "outputs": [],
   "source": [
    "tmp['172552485256597266680385033568580864600'].show()"
   ]
  },
  {
   "cell_type": "code",
   "execution_count": null,
   "metadata": {},
   "outputs": [],
   "source": [
    "masterArtistData = artistData['artist'][[\"ArtistGID\", \"ArtistName\", \"ArtistSortName\", \"Formed\", \"Disbanded\"]].copy(deep=True)\n",
    "masterArtistNumAlbums = artistIDNumReleaseGroups.join(artistIDNumRelease, how='outer')\n",
    "masterArtistData = masterArtistData.join(masterArtistNumAlbums)\n",
    "masterArtistData[\"NumReleaseGroups\"] = masterArtistData[\"NumReleaseGroups\"].fillna(0).apply(int)\n",
    "masterArtistData[\"NumReleases\"] = masterArtistData[\"NumReleases\"].fillna(0).apply(int)"
   ]
  },
  {
   "cell_type": "code",
   "execution_count": null,
   "metadata": {},
   "outputs": [],
   "source": [
    "masterArtistData"
   ]
  },
  {
   "cell_type": "code",
   "execution_count": null,
   "metadata": {},
   "outputs": [],
   "source": [
    "masterartistNumAlbums"
   ]
  },
  {
   "cell_type": "code",
   "execution_count": null,
   "metadata": {},
   "outputs": [],
   "source": [
    "artistIDNumReleaseGroups.shape"
   ]
  },
  {
   "cell_type": "code",
   "execution_count": null,
   "metadata": {},
   "outputs": [],
   "source": [
    "artistIDNumRelease.shape"
   ]
  },
  {
   "cell_type": "code",
   "execution_count": null,
   "metadata": {},
   "outputs": [],
   "source": [
    "artistData['artist'][artistData['artist']['ArtistID'] == aIDs[\"ArianaGrande\"]]"
   ]
  },
  {
   "cell_type": "code",
   "execution_count": null,
   "metadata": {},
   "outputs": [],
   "source": [
    "artistData['artist'][artistData['artist']['ArtistID'] == aIDs[\"BuddyHolly\"]]"
   ]
  },
  {
   "cell_type": "code",
   "execution_count": null,
   "metadata": {},
   "outputs": [],
   "source": [
    "artistData['artist'][artistData['artist']['ArtistID'] == aIDs[\"Bono\"]]"
   ]
  },
  {
   "cell_type": "code",
   "execution_count": null,
   "metadata": {},
   "outputs": [],
   "source": [
    "artistData['artist'][artistData['artist']['ArtistID'] == aIDs[\"Rupaul\"]]"
   ]
  },
  {
   "cell_type": "code",
   "execution_count": null,
   "metadata": {},
   "outputs": [],
   "source": [
    "artistData['artist'][artistData['artist']['ArtistID'] == aIDs[\"U2\"]]"
   ]
  },
  {
   "cell_type": "code",
   "execution_count": null,
   "metadata": {},
   "outputs": [],
   "source": [
    "artistData['artist'][artistData['artist']['ArtistID'] == aIDs[\"DMB\"]]"
   ]
  },
  {
   "cell_type": "code",
   "execution_count": null,
   "metadata": {},
   "outputs": [],
   "source": [
    "artistData['artist'][\"NA18\"].value_counts()"
   ]
  },
  {
   "cell_type": "code",
   "execution_count": null,
   "metadata": {},
   "outputs": [],
   "source": [
    "artistData['artist'][\"NA9\"].value_counts()"
   ]
  },
  {
   "cell_type": "code",
   "execution_count": null,
   "metadata": {},
   "outputs": [],
   "source": [
    "artistData['artist']['NA12'].unique()"
   ]
  },
  {
   "cell_type": "code",
   "execution_count": null,
   "metadata": {},
   "outputs": [],
   "source": [
    "artistData['artist']['NA5'].unique()"
   ]
  },
  {
   "cell_type": "code",
   "execution_count": null,
   "metadata": {},
   "outputs": [],
   "source": [
    "artistData['artist'][artistData['artist']['ArtistGID'] == '7f347782-eb14-40c3-98e2-17b6e1bfe56c']"
   ]
  },
  {
   "cell_type": "code",
   "execution_count": null,
   "metadata": {},
   "outputs": [],
   "source": [
    "artistData[\"artist\"][artistData[\"artist\"][\"ArtistID\"] == 502]"
   ]
  },
  {
   "cell_type": "code",
   "execution_count": null,
   "metadata": {},
   "outputs": [],
   "source": [
    "artistData[\"artist\"]['NA10'].unique()"
   ]
  },
  {
   "cell_type": "code",
   "execution_count": null,
   "metadata": {},
   "outputs": [],
   "source": [
    "artistData[\"artist\"][artistData[\"artist\"][\"ArtistID\"] == 197]"
   ]
  },
  {
   "cell_type": "markdown",
   "metadata": {},
   "source": [
    "# Artist Lookup"
   ]
  },
  {
   "cell_type": "code",
   "execution_count": null,
   "metadata": {},
   "outputs": [],
   "source": [
    "colnames[\"l_artist_url\"]={0: \"ArtistURLLID\", 1: \"URLGroupID\", 2: \"ArtistID\", 3: \"URLID\"}\n",
    "colnames[\"l_artist_release_group\"]={0: \"ArtistReleaseGroupLID\", 1: \"ReleaseGroupGroupID\", 2: \"ArtistID\", 3: \"ReleaseGroupID\"}\n",
    "colnames[\"l_artist_release\"]={0: \"ArtistReleaseLID\", 1: \"ReleaseGroupID\", 2: \"ArtistID\", 3: \"ReleaseID\"}\n",
    "\n",
    "ts = timestat(\"Loading Artist Data\")\n",
    "files = glob(\"mbdump/l_artist_*\")\n",
    "lookupData = {fileInfo(ifile).basename: loadData(ifile) for ifile in files}\n",
    "lookupData = {key: val[list(colnames[key].keys())].rename(columns=colnames[key]) for key,val in lookupData.items() if key in colnames} if lookupData is not None else lookupData\n",
    "print(\"Keys: {0}\".format(lookupData.keys()))\n",
    "ts.stop()"
   ]
  },
  {
   "cell_type": "code",
   "execution_count": null,
   "metadata": {},
   "outputs": [],
   "source": [
    "files = glob(\"mbdump/l_artist_release\")\n",
    "lookupData = {fileInfo(ifile).basename: loadData(ifile) for ifile in files}"
   ]
  },
  {
   "cell_type": "code",
   "execution_count": null,
   "metadata": {},
   "outputs": [],
   "source": [
    "lookupData['l_artist_release'][\"ReleaseGroupID\"].nunique()"
   ]
  },
  {
   "cell_type": "code",
   "execution_count": null,
   "metadata": {},
   "outputs": [],
   "source": [
    "lookupData['l_artist_release'][lookupData['l_artist_release']['ArtistID'] == 502]"
   ]
  },
  {
   "cell_type": "code",
   "execution_count": null,
   "metadata": {},
   "outputs": [],
   "source": [
    "key='l_artist_url'\n",
    "lookupData['l_artist_url'] = lookupData['l_artist_url'][list(colnames[key].keys())].rename(columns=colnames[key])"
   ]
  },
  {
   "cell_type": "code",
   "execution_count": null,
   "metadata": {},
   "outputs": [],
   "source": [
    "print(urlData['url'][urlData['url'][\"URLName\"].eq(\"https://www.discogs.com/artist/6520\")])\n",
    "print(urlData['url'][urlData['url'][\"URLName\"].eq(\"https://www.allmusic.com/artist/mn0000219203\")])"
   ]
  },
  {
   "cell_type": "code",
   "execution_count": null,
   "metadata": {},
   "outputs": [],
   "source": [
    "lookupData[\"l_artist_url\"][lookupData[\"l_artist_url\"][\"URLID\"].isin([3017,993955])]"
   ]
  },
  {
   "cell_type": "code",
   "execution_count": null,
   "metadata": {},
   "outputs": [],
   "source": [
    "from pandas import merge\n",
    "dmbAU = lookupData[\"l_artist_url\"][lookupData[\"l_artist_url\"]['ArtistID'] == 502].copy(deep=True)\n",
    "u2AU  = lookupData[\"l_artist_url\"][lookupData[\"l_artist_url\"]['ArtistID'] == 197].copy(deep=True)"
   ]
  },
  {
   "cell_type": "code",
   "execution_count": null,
   "metadata": {},
   "outputs": [],
   "source": [
    "dmbURLs = merge(dmbAU, urlData['url'], how='left', on=[\"URLID\"]).copy(deep=True)\n",
    "u2URLs  = merge(u2AU, urlData['url'], how='left', on=[\"URLID\"]).copy(deep=True)"
   ]
  },
  {
   "cell_type": "code",
   "execution_count": null,
   "metadata": {},
   "outputs": [],
   "source": [
    "dmbURLs[\"URLDomain\"] = dmbURLs[\"URLName\"].apply(lambda x: x.replace(\"https://\", \"\").replace(\"http://\", \"\").split('/')[0])"
   ]
  },
  {
   "cell_type": "code",
   "execution_count": null,
   "metadata": {},
   "outputs": [],
   "source": [
    "u2URLs[\"URLDomain\"] = u2URLs[\"URLName\"].apply(lambda x: x.replace(\"https://\", \"\").replace(\"http://\", \"\").split('/')[0])"
   ]
  },
  {
   "cell_type": "code",
   "execution_count": null,
   "metadata": {},
   "outputs": [],
   "source": [
    "u2URLs[[\"NA1\", \"URLDomain\"]].sort_values(by=\"NA1\").T"
   ]
  },
  {
   "cell_type": "code",
   "execution_count": null,
   "metadata": {},
   "outputs": [],
   "source": [
    "dmbURLs[[\"NA1\", \"URLDomain\"]].sort_values(by=\"NA1\").T"
   ]
  },
  {
   "cell_type": "code",
   "execution_count": null,
   "metadata": {},
   "outputs": [],
   "source": [
    "artistData[\"artist\"][artistData[\"artist\"].eq(8723).any(1)]"
   ]
  },
  {
   "cell_type": "code",
   "execution_count": null,
   "metadata": {},
   "outputs": [],
   "source": [
    "urlData['url'].shape"
   ]
  },
  {
   "cell_type": "code",
   "execution_count": null,
   "metadata": {},
   "outputs": [],
   "source": []
  },
  {
   "cell_type": "code",
   "execution_count": null,
   "metadata": {},
   "outputs": [],
   "source": [
    "lookupData[\"l_artist_url\"][lookupData[\"l_artist_url\"].eq(1025971).any(1)]"
   ]
  },
  {
   "cell_type": "code",
   "execution_count": null,
   "metadata": {},
   "outputs": [],
   "source": [
    "lookupData[\"l_artist_url\"][lookupData[\"l_artist_url\"].eq(2625).any(1)]"
   ]
  },
  {
   "cell_type": "code",
   "execution_count": null,
   "metadata": {},
   "outputs": [],
   "source": [
    "lookupData[\"l_artist_url\"][lookupData[\"l_artist_url\"][2].eq(502).any(1)]"
   ]
  },
  {
   "cell_type": "code",
   "execution_count": null,
   "metadata": {},
   "outputs": [],
   "source": [
    "DMB={AllMusic = 1025971 (c94225e3-2f0c-4c6d-9115-9f268fb7c31b), Discogs = 2625 (7a157b6e-d01d-4248-9995-edb05652c5b2)}"
   ]
  },
  {
   "cell_type": "code",
   "execution_count": null,
   "metadata": {},
   "outputs": [],
   "source": []
  },
  {
   "cell_type": "code",
   "execution_count": null,
   "metadata": {},
   "outputs": [],
   "source": []
  },
  {
   "cell_type": "code",
   "execution_count": null,
   "metadata": {},
   "outputs": [],
   "source": [
    "artistData['artist']"
   ]
  },
  {
   "cell_type": "code",
   "execution_count": null,
   "metadata": {},
   "outputs": [],
   "source": [
    "colnames = {0: \"ArtistID\", 1: \"NA1\", 2: \"NA2\": 3: \"NA3\"}\n",
    "lookupData[\"l_artist_artist\"][lookupData[\"l_artist_artist\"].eq(502).any(1)]"
   ]
  },
  {
   "cell_type": "code",
   "execution_count": null,
   "metadata": {},
   "outputs": [],
   "source": [
    "urlData['url'][urlData['url'][\"URLName\"].eq(\"https://www.discogs.com/artist/6520\")]\n",
    "urlData['url'][urlData['url'][\"URLName\"].eq(\"https://www.allmusic.com/artist/mn0000219203\")]"
   ]
  },
  {
   "cell_type": "code",
   "execution_count": null,
   "metadata": {},
   "outputs": [],
   "source": []
  },
  {
   "cell_type": "markdown",
   "metadata": {},
   "source": []
  },
  {
   "cell_type": "code",
   "execution_count": null,
   "metadata": {},
   "outputs": [],
   "source": [
    "502\n",
    "07e748f1-075e-428d-85dc-ce3be434e906"
   ]
  }
 ],
 "metadata": {
  "kernelspec": {
   "display_name": "Python 3",
   "language": "python",
   "name": "python3"
  },
  "language_info": {
   "codemirror_mode": {
    "name": "ipython",
    "version": 3
   },
   "file_extension": ".py",
   "mimetype": "text/x-python",
   "name": "python",
   "nbconvert_exporter": "python",
   "pygments_lexer": "ipython3",
   "version": "3.7.7"
  },
  "toc": {
   "base_numbering": 1,
   "nav_menu": {},
   "number_sections": true,
   "sideBar": true,
   "skip_h1_title": false,
   "title_cell": "Table of Contents",
   "title_sidebar": "Contents",
   "toc_cell": false,
   "toc_position": {},
   "toc_section_display": true,
   "toc_window_display": false
  }
 },
 "nbformat": 4,
 "nbformat_minor": 4
}
