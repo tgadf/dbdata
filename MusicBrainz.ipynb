{
 "cells": [
  {
   "cell_type": "code",
   "execution_count": null,
   "metadata": {},
   "outputs": [],
   "source": [
    "######################################################\n",
    "# Juypter\n",
    "######################################################\n",
    "%load_ext autoreload\n",
    "%autoreload\n",
    "from IPython.core.display import display, HTML\n",
    "display(HTML(\"<style>.container { width:100% !important; }</style>\"))\n",
    "display(HTML(\"\"\"<style>div.output_area{max-height:10000px;overflow:scroll;}</style>\"\"\"))\n",
    "\n",
    "######################################################\n",
    "# Versions\n",
    "######################################################\n",
    "import sys\n",
    "print(\"Python: {0}\".format(sys.version))\n",
    "import datetime as dt\n",
    "start = dt.datetime.now()\n",
    "print(\"Notebook Last Run Initiated: \"+str(start))"
   ]
  },
  {
   "cell_type": "markdown",
   "metadata": {},
   "source": [
    "# MusicBrainz"
   ]
  },
  {
   "cell_type": "code",
   "execution_count": null,
   "metadata": {},
   "outputs": [],
   "source": [
    "%load_ext autoreload\n",
    "%autoreload\n",
    "from dbArtistsMusicBrainz import dbArtistsMusicBrainz\n",
    "from dbArtistsParse import dbArtistsPrimary, dbArtistsCredit, dbArtistsExtra\n",
    "from dbArtistsParse import dbArtistsAssertExtra"
   ]
  },
  {
   "cell_type": "code",
   "execution_count": null,
   "metadata": {},
   "outputs": [],
   "source": [
    "for modVal in range(100):\n",
    "    dbAP = dbArtistsPrimary(dbArtistsMusicBrainz())\n",
    "    dbAP.parse(modVal, previousDays=1, force=False)\n",
    "\n",
    "for modVal in range(100):\n",
    "    dbAP = dbArtistsExtra(dbArtistsMusicBrainz())\n",
    "    dbAP.parse(modVal)\n",
    "    \n",
    "for modVal in range(100):\n",
    "    dbAP = dbArtistsPrimary(dbArtistsMusicBrainz())\n",
    "    dbAP.createArtistMetadata(modVal)\n",
    "    dbAP.createAlbumMetadata(modVal)"
   ]
  },
  {
   "cell_type": "code",
   "execution_count": null,
   "metadata": {},
   "outputs": [],
   "source": [
    "%load_ext autoreload\n",
    "%autoreload\n",
    "from dbArtistsDiscogs import dbArtistsDiscogs\n",
    "from dbArtistsParse import dbArtistsPrimary, dbArtistsCredit, dbArtistsExtra\n",
    "from dbArtistsParse import dbArtistsAssertExtra, dbArtistsUnofficial, dbArtistsAssertUnofficial"
   ]
  },
  {
   "cell_type": "code",
   "execution_count": null,
   "metadata": {},
   "outputs": [],
   "source": [
    "for modVal in range(100):\n",
    "    dbAP = dbArtistsPrimary(dbArtistsDiscogs())\n",
    "    dbAP.parse(modVal, previousDays=3, force=False)\n",
    "    \n",
    "for modVal in range(100):\n",
    "    break\n",
    "    dbAP = dbArtistsExtra(dbArtistsDiscogs())\n",
    "    dbAP.parse(modVal, previousDays=10, force=True)\n",
    "    \n",
    "for modVal in range(100):\n",
    "    break\n",
    "    dbAP = dbArtistsUnofficial(dbArtistsDiscogs())\n",
    "    dbAP.parse(modVal, previousDays=10, force=True)\n",
    "    \n",
    "for modVal in range(100):\n",
    "    dbAP = dbArtistsPrimary(dbArtistsDiscogs())\n",
    "    dbAP.createArtistMetadata(modVal)\n",
    "    dbAP.createAlbumMetadata(modVal)"
   ]
  },
  {
   "cell_type": "code",
   "execution_count": null,
   "metadata": {},
   "outputs": [],
   "source": [
    "%load_ext autoreload\n",
    "%autoreload\n",
    "from dbArtistsDiscogs import dbArtistsDiscogs\n",
    "from dbArtistsParse import dbArtistsPrimary, dbArtistsCredit, dbArtistsExtra\n",
    "from dbArtistsParse import dbArtistsAssertExtra, dbArtistsUnofficial, dbArtistsAssertUnofficial"
   ]
  },
  {
   "cell_type": "code",
   "execution_count": null,
   "metadata": {},
   "outputs": [],
   "source": [
    "for modVal in range(95,100):\n",
    "    dbAP = dbArtistsPrimary(dbArtistsDiscogs())\n",
    "    dbAP.createArtistMetadata(modVal)\n",
    "    dbAP.createAlbumMetadata(modVal)"
   ]
  },
  {
   "cell_type": "markdown",
   "metadata": {},
   "source": [
    "# Get Cross Links"
   ]
  },
  {
   "cell_type": "code",
   "execution_count": null,
   "metadata": {},
   "outputs": [],
   "source": [
    "from dbArtistsMusicBrainz import dbArtistsMusicBrainz"
   ]
  },
  {
   "cell_type": "code",
   "execution_count": null,
   "metadata": {},
   "outputs": [],
   "source": [
    "dbAP = dbArtistsMusicBrainz()\n",
    "disc = dbAP.disc\n",
    "db = disc.getArtistNameToIDData()"
   ]
  },
  {
   "cell_type": "code",
   "execution_count": null,
   "metadata": {},
   "outputs": [],
   "source": [
    "extData = {}"
   ]
  },
  {
   "cell_type": "code",
   "execution_count": null,
   "metadata": {},
   "outputs": [],
   "source": [
    "for modVal in range(100):\n",
    "    print(modVal,end=\"\\t\")\n",
    "    dbdata = disc.getArtistsDBModValData(modVal)\n",
    "    for artistID, artistData in dbdata.items():\n",
    "        artistName = artistData.artist.name        \n",
    "        ext = artistData.profile.external\n",
    "        extData[(artistID,artistName)] = ext\n",
    "    print(len(extData))"
   ]
  },
  {
   "cell_type": "code",
   "execution_count": null,
   "metadata": {},
   "outputs": [],
   "source": [
    "from dbArtistsAllMusic import dbArtistsAllMusic\n",
    "from dbArtistsDiscogs import dbArtistsDiscogs\n",
    "from dbArtistsLastFM import dbArtistsLastFM\n",
    "from dbArtistsGenius import dbArtistsGenius"
   ]
  },
  {
   "cell_type": "code",
   "execution_count": null,
   "metadata": {},
   "outputs": [],
   "source": []
  },
  {
   "cell_type": "code",
   "execution_count": null,
   "metadata": {
    "scrolled": false
   },
   "outputs": [],
   "source": [
    "from collections import Counter\n",
    "cnt = Counter()\n",
    "\n",
    "extDBRawLinkValues = {}# {\"musicbrainz\": {}}\n",
    "\n",
    "\n",
    "for key,data in extData.items():\n",
    "    for db,url in data.items():\n",
    "        if db == \"all-relationships\": # MusicBrainz's data\n",
    "            continue\n",
    "        if url.startswith(\"http\") is False: # If it's somehow otherwise internal\n",
    "            continue\n",
    "        if db == \"home-favicon\": # The artist homepage\n",
    "            continue\n",
    "        #print(\"\\t\",db,'\\t',url)\n",
    "        dbname = db.split('-')[0] ## MusicBrainz adds some extra stuff\n",
    "        if dbname in [\"facebook\", \"twitter\", \"instagram\", \"imdb\", \"myspace\"]: # Social sites\n",
    "            continue\n",
    "        if dbname in [\"viaf\"]: # Virtual Internet Authority File (something about different spellings, maybe?)\n",
    "            continue\n",
    "        if dbname in [\"dnb\", 'loc', 'worldcat', 'bnfcatalogue']: # German National Library, Library of Congress, World Catalog, French National Library\n",
    "            continue\n",
    "        if dbname in [\"songkick\"]: # Information about upcoming live shows\n",
    "            continue\n",
    "        if dbname in [\"decoda\"]: # Messy website\n",
    "            continue\n",
    "        if dbname in [\"secondhandsongs\"]: # Website about song covers\n",
    "            continue\n",
    "        if dbname in [\"setlistfm\"]: # Website with live show set lists\n",
    "            continue\n",
    "\n",
    "        cnt[dbname] += 1\n",
    "        if dbname == \"viaf\":\n",
    "            print(db,url)\n",
    "            break\n",
    "\n",
    "        if extDBRawLinkValues.get(key) is None:\n",
    "            extDBRawLinkValues[key] = {}\n",
    "        extDBRawLinkValues[key][dbname] = url"
   ]
  },
  {
   "cell_type": "code",
   "execution_count": null,
   "metadata": {},
   "outputs": [],
   "source": [
    "%autoreload\n",
    "dutils = {}\n",
    "from dbUtils import utilsAllMusic, utilsDeezer, utilsDiscogs, utilsGenius, utilsLastFM, utilsMusicBrainz, utilsRateYourMusic\n",
    "dutils[\"allmusic\"] = utilsAllMusic()\n",
    "dutils[\"deezer\"] = utilsDeezer()\n",
    "dutils[\"discogs\"] = utilsDiscogs()\n",
    "dutils[\"genius\"] = utilsGenius()\n",
    "dutils[\"lastfm\"] = utilsLastFM()\n",
    "dutils[\"musicbrainz\"] = utilsMusicBrainz()\n",
    "dutils[\"rateyourmusic\"] = utilsRateYourMusic()"
   ]
  },
  {
   "cell_type": "code",
   "execution_count": null,
   "metadata": {},
   "outputs": [],
   "source": [
    "rymToGet = {}\n",
    "dbLinks = {\"musicbrainz\": {}}\n",
    "dbIDToURLLookup = {}\n",
    "from collections import Counter\n",
    "dbCnt = Counter()\n",
    "for i,(key,value) in enumerate(extDBRawLinkValues.items()):\n",
    "    mbID = key[0]\n",
    "    #print(key[0],key[1])\n",
    "    for db,url in value.items():\n",
    "        \n",
    "        if db == \"rateyourmusic\":\n",
    "            rymToGet[url] = key\n",
    "            continue\n",
    "            \n",
    "        \n",
    "        if dutils.get(db) is not None:\n",
    "            artistID = dutils[db].getArtistID(url, debug=False)\n",
    "            if artistID is not None:\n",
    "                if dbIDToURLLookup.get(db) is None:\n",
    "                    dbIDToURLLookup[db] = {}\n",
    "                dbIDToURLLookup[db][artistID] = url\n",
    "                \n",
    "                if dbLinks[\"musicbrainz\"].get(mbID) is None:\n",
    "                    dbLinks[\"musicbrainz\"][mbID] = {}\n",
    "                dbLinks[\"musicbrainz\"][mbID][db] = artistID\n",
    "                \n",
    "                if dbLinks.get(db) is None:\n",
    "                    dbLinks[db] = {}\n",
    "                if dbLinks[db].get(artistID) is None:\n",
    "                    dbLinks[db][artistID] = [{\"musicbrainz\": mbID}]\n",
    "                else:\n",
    "                    #print(\"Multiple links to {0}-{1} from MB-{2} ({3})\".format(db,artistID,mbID,key[1]))\n",
    "                    dbLinks[db][artistID].append({\"musicbrainz\": mbID})\n",
    "        else:\n",
    "            dbCnt[db] += 1\n",
    "            if db == \"setlistfm\":\n",
    "                print(url)\n",
    "                1/0"
   ]
  },
  {
   "cell_type": "markdown",
   "metadata": {},
   "source": [
    "## Spotify Test"
   ]
  },
  {
   "cell_type": "code",
   "execution_count": null,
   "metadata": {},
   "outputs": [],
   "source": [
    "url=\"https://open.spotify.com/artist/0IecGJbdBeYSOVtSPRehh5\"\n",
    "savename=\"spotify.test.p\"\n",
    "from webUtils import downloadURL\n",
    "data, code = downloadURL(url)\n",
    "#help(getWebData)"
   ]
  },
  {
   "cell_type": "markdown",
   "metadata": {},
   "source": [
    "## Metal-Archives Test"
   ]
  },
  {
   "cell_type": "code",
   "execution_count": null,
   "metadata": {},
   "outputs": [],
   "source": [
    "url=\"https://www.metal-archives.com/bands/The_Bleeding/3540370833\"\n",
    "savename=\"metalarchives.test.p\"\n",
    "from webUtils import downloadURL\n",
    "data, code = downloadURL(url)\n",
    "#help(getWebData)"
   ]
  },
  {
   "cell_type": "code",
   "execution_count": null,
   "metadata": {},
   "outputs": [],
   "source": [
    "from ioUtils import saveFile\n",
    "saveFile(idata=dbLinks, ifile=\"dbLinks.p\")\n",
    "saveFile(idata=dbIDToURLLookup, ifile=\"dbIDToURLLookup.p\")\n",
    "saveFile(idata=rymToGet, ifile=\"dbRYMToGet.p\")"
   ]
  },
  {
   "cell_type": "markdown",
   "metadata": {},
   "source": [
    "## Not Used DBs"
   ]
  },
  {
   "cell_type": "code",
   "execution_count": null,
   "metadata": {},
   "outputs": [],
   "source": [
    "dbCnt.most_common()"
   ]
  },
  {
   "cell_type": "code",
   "execution_count": null,
   "metadata": {},
   "outputs": [],
   "source": []
  },
  {
   "cell_type": "markdown",
   "metadata": {},
   "source": [
    "## Get missing URLs from DBs"
   ]
  },
  {
   "cell_type": "code",
   "execution_count": null,
   "metadata": {},
   "outputs": [],
   "source": [
    "from ioUtils import getFile\n",
    "dbLinks = getFile(\"dbLinks.p\")\n",
    "dbIDToURLLookup = getFile(\"dbIDToURLLookup.p\")\n",
    "rymToGet = getFile(\"dbRYMToGet.p\")"
   ]
  },
  {
   "cell_type": "code",
   "execution_count": null,
   "metadata": {},
   "outputs": [],
   "source": [
    "from dbArtistsDeezer import dbArtistsDeezer\n",
    "dbDeez = dbArtistsDeezer()\n",
    "deezRef = dbDeez.disc.getMasterSlimArtistDiscogsDB()"
   ]
  },
  {
   "cell_type": "code",
   "execution_count": null,
   "metadata": {},
   "outputs": [],
   "source": [
    "deezToGet = Series(list(dbLinks['deezer'].keys()))\n",
    "IDsToGet  = deezToGet[~deezToGet.isin(deezRef.index)]"
   ]
  },
  {
   "cell_type": "code",
   "execution_count": null,
   "metadata": {},
   "outputs": [],
   "source": [
    "from time import sleep\n",
    "from fsUtils import isFile\n",
    "from random import random\n",
    "n = len(IDsToGet)\n",
    "for i,artistID in enumerate(IDsToGet):\n",
    "    savename = dbDeez.dutils.getArtistSavename(artistID)\n",
    "    url      = dbDeez.getArtistURL(artistID)\n",
    "    if not isFile(savename):\n",
    "        print(\"{0: >3}/{1: <5}\\t{2}\\t{3}\".format(i,n,savename,url))\n",
    "        try:\n",
    "            dbDeez.dutils.downloadArtistURL(url=url, savename=savename, force=True)\n",
    "        except:\n",
    "            pass\n",
    "        sleep(2+random())"
   ]
  },
  {
   "cell_type": "code",
   "execution_count": null,
   "metadata": {},
   "outputs": [],
   "source": []
  },
  {
   "cell_type": "code",
   "execution_count": null,
   "metadata": {},
   "outputs": [],
   "source": [
    "deezRef"
   ]
  },
  {
   "cell_type": "code",
   "execution_count": null,
   "metadata": {},
   "outputs": [],
   "source": [
    "dbDeez.getArtistURL('4190')"
   ]
  },
  {
   "cell_type": "markdown",
   "metadata": {},
   "source": [
    "## Get MusicBrainz Extrapages"
   ]
  },
  {
   "cell_type": "code",
   "execution_count": null,
   "metadata": {},
   "outputs": [],
   "source": [
    "%load_ext autoreload\n",
    "%autoreload\n",
    "from dbArtistsMusicBrainz import dbArtistsMusicBrainz\n",
    "from dbArtistsParse import dbArtistsPrimary, dbArtistsCredit, dbArtistsExtra\n",
    "from dbArtistsParse import dbArtistsAssertExtra, dbArtistsUnofficial, dbArtistsAssertUnofficial\n",
    "dbMB = dbArtistsMusicBrainz()\n",
    "for modVal in range(0):\n",
    "    #if True:\n",
    "    #try:\n",
    "        #lfm.assertDBModValExtraData(modVal, minPages=10, maxPages=20, test=False)\n",
    "        dbMB.assertDBModValExtraData(modVal, minPages=2, maxPages=30000000, test=False, clean=True)\n",
    "    #except:\n",
    "    #    pass"
   ]
  },
  {
   "cell_type": "markdown",
   "metadata": {},
   "source": [
    "## Get RateYourMusic's That Aren't Known"
   ]
  },
  {
   "cell_type": "code",
   "execution_count": null,
   "metadata": {},
   "outputs": [],
   "source": [
    "from dbArtistsRateYourMusic import dbArtistsRateYourMusic\n",
    "from dbArtistsMusicBrainz import dbArtistsMusicBrainz\n",
    "from pandas import DataFrame, Series\n",
    "\n",
    "dbA = dbArtistsRateYourMusic()\n",
    "dbMB = dbArtistsMusicBrainz()"
   ]
  },
  {
   "cell_type": "code",
   "execution_count": null,
   "metadata": {},
   "outputs": [],
   "source": [
    "mdbAlbs = dbMB.disc.getMasterSlimArtistAlbumsDiscogsDB()\n",
    "\n",
    "def getNumAlbums(x):\n",
    "    numAlbums = sum([len(y) for y in x.values()])\n",
    "    return numAlbums\n",
    "\n",
    "mbNumAlbums = DataFrame(mdbAlbs[\"Albums\"].apply(getNumAlbums))\n",
    "mbNumAlbums.columns = [\"MBNumAlbums\"]\n",
    "print(\"Size = {0}\".format(mbNumAlbums.shape))\n",
    "mbNumAlbums.head()"
   ]
  },
  {
   "cell_type": "code",
   "execution_count": null,
   "metadata": {},
   "outputs": [],
   "source": [
    "mbNumAlbums = mbNumAlbums.reset_index(drop=False)\n",
    "mbNumAlbums.columns = [\"MBID\", \"MBNumAlbums\"]\n",
    "mbNumAlbums.head()"
   ]
  },
  {
   "cell_type": "code",
   "execution_count": null,
   "metadata": {},
   "outputs": [],
   "source": [
    "rymAlbs = dbA.disc.getMasterSlimArtistAlbumsDiscogsDB()"
   ]
  },
  {
   "cell_type": "code",
   "execution_count": null,
   "metadata": {},
   "outputs": [],
   "source": [
    "rymNumAlbums = DataFrame(rymAlbs[\"Albums\"].apply(getNumAlbums))\n",
    "rymNumAlbums.columns = [\"RYMNumAlbums\"]\n",
    "print(\"Size = {0}\".format(rymNumAlbums.shape))\n",
    "rymNumAlbums.head()"
   ]
  },
  {
   "cell_type": "code",
   "execution_count": null,
   "metadata": {},
   "outputs": [],
   "source": [
    "\n",
    "rymRef = dbA.disc.getMasterSlimArtistDiscogsDB()\n",
    "rymRef = rymRef.join(rymNumAlbums)\n",
    "rymRef[\"Ref\"] = rymRef[\"Ref\"].apply(lambda x: x.replace(\"-\", \"_\"))\n",
    "rymRef[\"Ref\"] = rymRef[\"Ref\"].apply(lambda x: x.replace(\"http:\", \"https:\"))"
   ]
  },
  {
   "cell_type": "code",
   "execution_count": null,
   "metadata": {},
   "outputs": [],
   "source": [
    "rymRefLookup = DataFrame(Series({row[\"Ref\"]: {\"RYMArtistID\": idx, \"RYMNumAlbums\": row[\"RYMNumAlbums\"]} for idx,row in rymRef.iterrows()}))\n",
    "rymRefDF = rymRefLookup[0].apply(Series)\n",
    "rymRefDF.index.name = \"RYMURL\"\n",
    "print(\"Size = {0}\".format(rymRefDF.shape))\n",
    "rymRefDF.head()"
   ]
  },
  {
   "cell_type": "code",
   "execution_count": null,
   "metadata": {},
   "outputs": [],
   "source": [
    "rymRef[rymRef['CleanDiscArtist'].str.contains(\"Johann Sebastian Bach\")]"
   ]
  },
  {
   "cell_type": "code",
   "execution_count": null,
   "metadata": {},
   "outputs": [],
   "source": [
    "rymRefDF[rymRefDF.index == \"https://rateyourmusic.com/artist/johann_sebastian_bach\"]"
   ]
  },
  {
   "cell_type": "code",
   "execution_count": null,
   "metadata": {},
   "outputs": [],
   "source": [
    "rymToGetDF = DataFrame(Series(rymToGet))\n",
    "rymToGetDF.columns   = [\"MusicBrainzKey\"]\n",
    "rymToGetDF = rymToGetDF[\"MusicBrainzKey\"].apply(Series)\n",
    "rymToGetDF.columns   = [\"MBID\", \"MBArtistName\"]\n",
    "rymToGetDF.reset_index(inplace=True, drop=False)\n",
    "rymToGetDF.columns   = [\"RYMURL\", \"MBID\", \"MBArtistName\"]\n",
    "rymToGetDF[\"RYMURL\"] = rymToGetDF[\"RYMURL\"].apply(lambda x: x.replace(\"-\", \"_\"))\n",
    "rymToGetDF[\"RYMURL\"] = rymToGetDF[\"RYMURL\"].apply(lambda x: x.replace(\"http:\", \"https:\"))\n",
    "rymToGetDF.head()"
   ]
  },
  {
   "cell_type": "code",
   "execution_count": null,
   "metadata": {},
   "outputs": [],
   "source": [
    "rymToGetDFWithAlbums = rymToGetDF.merge(mbNumAlbums, on='MBID')\n",
    "rymToGetDFWithAlbums.head()"
   ]
  },
  {
   "cell_type": "code",
   "execution_count": null,
   "metadata": {},
   "outputs": [],
   "source": [
    "rymToGetDFWithAlbums.index = rymToGetDFWithAlbums[\"RYMURL\"]\n",
    "rymToGetDFWithAlbums.drop(['RYMURL'], inplace=True, axis=1)\n",
    "rymToGetDFWithAlbums.head()"
   ]
  },
  {
   "cell_type": "code",
   "execution_count": null,
   "metadata": {},
   "outputs": [],
   "source": [
    "resultDF = rymToGetDFWithAlbums.join(rymRefDF)\n",
    "resultDF.head()"
   ]
  },
  {
   "cell_type": "markdown",
   "metadata": {},
   "source": [
    "#### Results That I Have"
   ]
  },
  {
   "cell_type": "code",
   "execution_count": null,
   "metadata": {},
   "outputs": [],
   "source": [
    "resultDF[~resultDF[\"RYMArtistID\"].isna()].sort_values(by='MBNumAlbums', ascending=False)"
   ]
  },
  {
   "cell_type": "markdown",
   "metadata": {},
   "source": [
    "#### Results That I Don't Have"
   ]
  },
  {
   "cell_type": "code",
   "execution_count": null,
   "metadata": {},
   "outputs": [],
   "source": [
    "unknownDF = resultDF[resultDF[\"RYMArtistID\"].isna()].sort_values(by='MBNumAlbums', ascending=False)\n",
    "\n",
    "unknownRYMURLs = dict(zip(unknownDF.index, unknownDF['MBNumAlbums']))\n",
    "unknownDF.head()"
   ]
  },
  {
   "cell_type": "code",
   "execution_count": null,
   "metadata": {
    "scrolled": false
   },
   "outputs": [],
   "source": [
    "hardcutoff = 60\n",
    "softcutoff = 10\n",
    "for link,n in unknownRYMURLs.items():\n",
    "    if n >= hardcutoff:\n",
    "        continue\n",
    "        \n",
    "    if link.find(\"%\") == -1:        \n",
    "        ## No Non-ascii\n",
    "        if n >= 41:\n",
    "            continue\n",
    "        if n < 40:\n",
    "            break\n",
    "        print(n,'\\t',link)\n",
    "    else:\n",
    "        ## Contains Non-ascii\n",
    "        if n >= softcutoff:\n",
    "            continue\n",
    "        print(n,'\\t',link)\n"
   ]
  },
  {
   "cell_type": "code",
   "execution_count": null,
   "metadata": {},
   "outputs": [],
   "source": []
  },
  {
   "cell_type": "code",
   "execution_count": null,
   "metadata": {},
   "outputs": [],
   "source": []
  },
  {
   "cell_type": "code",
   "execution_count": null,
   "metadata": {},
   "outputs": [],
   "source": []
  },
  {
   "cell_type": "code",
   "execution_count": null,
   "metadata": {},
   "outputs": [],
   "source": [
    "from artistLastFM import artistLastFM\n",
    "afm = artistLastFM()\n",
    "retval = afm.getData(\"/Volumes/Piggy/Discog/artists-lastfm/1/42055961701.p\")\n",
    "retval.show()"
   ]
  },
  {
   "cell_type": "code",
   "execution_count": null,
   "metadata": {},
   "outputs": [],
   "source": [
    "#db[\"Dave Matthews Band\"]"
   ]
  },
  {
   "cell_type": "code",
   "execution_count": null,
   "metadata": {},
   "outputs": [],
   "source": [
    "ifile = \"/Volumes/Piggy/Discog/artists-musicbrainz/17/162010259733035707919464750326182263717.p\""
   ]
  },
  {
   "cell_type": "code",
   "execution_count": null,
   "metadata": {},
   "outputs": [],
   "source": [
    "retval = dbAP.artist.getData(ifile)\n",
    "retval.profile.external"
   ]
  },
  {
   "cell_type": "code",
   "execution_count": null,
   "metadata": {},
   "outputs": [],
   "source": [
    "from webUtils import getHTML\n",
    "bsdata = getHTML(ifile)"
   ]
  },
  {
   "cell_type": "code",
   "execution_count": null,
   "metadata": {},
   "outputs": [],
   "source": [
    "bsdata"
   ]
  },
  {
   "cell_type": "code",
   "execution_count": null,
   "metadata": {},
   "outputs": [],
   "source": []
  }
 ],
 "metadata": {
  "kernelspec": {
   "display_name": "Python 3",
   "language": "python",
   "name": "python3"
  },
  "language_info": {
   "codemirror_mode": {
    "name": "ipython",
    "version": 3
   },
   "file_extension": ".py",
   "mimetype": "text/x-python",
   "name": "python",
   "nbconvert_exporter": "python",
   "pygments_lexer": "ipython3",
   "version": "3.7.7"
  },
  "toc": {
   "base_numbering": 1,
   "nav_menu": {},
   "number_sections": true,
   "sideBar": true,
   "skip_h1_title": false,
   "title_cell": "Table of Contents",
   "title_sidebar": "Contents",
   "toc_cell": false,
   "toc_position": {},
   "toc_section_display": true,
   "toc_window_display": false
  }
 },
 "nbformat": 4,
 "nbformat_minor": 4
}
